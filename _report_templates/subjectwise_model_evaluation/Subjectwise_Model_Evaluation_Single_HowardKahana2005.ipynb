{
 "cells": [
  {
   "cell_type": "markdown",
   "id": "0a57021b",
   "metadata": {
    "tags": [
     "papermill-error-cell-tag"
    ]
   },
   "source": [
    "<span style=\"color:red; font-family:Helvetica Neue, Helvetica, Arial, sans-serif; font-size:2em;\">An Exception was encountered at '<a href=\"#papermill-error-cell\">In [12]</a>'.</span>"
   ]
  },
  {
   "cell_type": "code",
   "execution_count": 1,
   "id": "269fa808",
   "metadata": {
    "execution": {
     "iopub.execute_input": "2022-05-31T19:25:08.361504Z",
     "iopub.status.busy": "2022-05-31T19:25:08.360599Z",
     "iopub.status.idle": "2022-05-31T19:25:13.130091Z",
     "shell.execute_reply": "2022-05-31T19:25:13.128645Z"
    },
    "papermill": {
     "duration": 4.80827,
     "end_time": "2022-05-31T19:25:13.132796",
     "exception": false,
     "start_time": "2022-05-31T19:25:08.324526",
     "status": "completed"
    },
    "tags": [
     "parameters"
    ]
   },
   "outputs": [],
   "source": [
    "# | code-summary: code -- load dependencies and data and select parameters\n",
    "\n",
    "from compmemlearn.fitting import generate_objective_function\n",
    "from compmemlearn.datasets import events_metadata, simulate_df, generate_trial_mask\n",
    "from scipy.optimize import differential_evolution\n",
    "from numba.typed import List, Dict\n",
    "from numba.core import types\n",
    "from numba import njit\n",
    "from psifr import fr\n",
    "import pandas as pd\n",
    "import numpy as np\n",
    "import seaborn as sns\n",
    "import matplotlib.pyplot as plt\n",
    "import importlib\n",
    "import os\n",
    "\n",
    "lb = np.finfo(float).eps\n",
    "ub = 1 - np.finfo(float).eps\n",
    "\n",
    "figure_caption = \"\"\"Distribution of log-likelihood scores of recall sequences exhibited by each subject in dataset under each considered model.\"\"\"\n",
    "\n",
    "section_tag = \"LohnasCondition1\"\n",
    "\n",
    "data_path = \"../data/LohnasKahana2014.csv\"\n",
    "results_path = \"results/\"\n",
    "trial_query = \"condition == 1\"\n",
    "\n",
    "model_paths = [\"compmemlearn.models.Classic_CMR\", \"compmemlearn.models.Instance_CMR\", \"compmemlearn.models.Dual_Instance_CMR\"]\n",
    "\n",
    "model_names = [\"PrototypeCMR\", \"InstanceCMR\", \"Dual Memory ICMR\"]\n",
    "\n",
    "free_parameters = [\n",
    "    [\n",
    "        \"encoding_drift_rate\",\n",
    "        \"start_drift_rate\",\n",
    "        \"recall_drift_rate\",\n",
    "        \"shared_support\",\n",
    "        \"item_support\",\n",
    "        \"learning_rate\",\n",
    "        \"primacy_scale\",\n",
    "        \"primacy_decay\",\n",
    "        \"stop_probability_scale\",\n",
    "        \"stop_probability_growth\",\n",
    "        \"choice_sensitivity\",\n",
    "        \"delay_drift_rate\",\n",
    "    ],\n",
    "    [\n",
    "        \"encoding_drift_rate\",\n",
    "        \"start_drift_rate\",\n",
    "        \"recall_drift_rate\",\n",
    "        \"shared_support\",\n",
    "        \"item_support\",\n",
    "        \"learning_rate\",\n",
    "        \"primacy_scale\",\n",
    "        \"primacy_decay\",\n",
    "        \"stop_probability_scale\",\n",
    "        \"stop_probability_growth\",\n",
    "        #    'choice_sensitivity',\n",
    "        \"context_sensitivity\",\n",
    "        #    'feature_sensitivity'\n",
    "        \"delay_drift_rate\",\n",
    "    ],\n",
    "    [\n",
    "        \"encoding_drift_rate\",\n",
    "        \"start_drift_rate\",\n",
    "        \"recall_drift_rate\",\n",
    "        \"shared_support\",\n",
    "        \"item_support\",\n",
    "        \"learning_rate\",\n",
    "        \"primacy_scale\",\n",
    "        \"primacy_decay\",\n",
    "        \"stop_probability_scale\",\n",
    "        \"stop_probability_growth\",\n",
    "        #    'choice_sensitivity',\n",
    "        \"context_sensitivity\",\n",
    "        #    'feature_sensitivity'\n",
    "        \"delay_drift_rate\",\n",
    "    ],\n",
    "]\n",
    "\n",
    "bounds = [\n",
    "    [\n",
    "        [lb, ub],\n",
    "        [lb, ub],\n",
    "        [lb, ub],\n",
    "        [lb, ub],\n",
    "        [lb, ub],\n",
    "        [lb, ub],\n",
    "        [lb, 100],\n",
    "        [lb, 100],\n",
    "        [lb, ub],\n",
    "        [lb, 10],\n",
    "        [lb, 10],\n",
    "        [lb, ub],\n",
    "    ],\n",
    "    [\n",
    "        [lb, ub],\n",
    "        [lb, ub],\n",
    "        [lb, ub],\n",
    "        [lb, ub],\n",
    "        [lb, ub],\n",
    "        [lb, ub],\n",
    "        [lb, 100],\n",
    "        [lb, 100],\n",
    "        [lb, ub],\n",
    "        [lb, 10],\n",
    "        [lb, 10],\n",
    "        [lb, ub],\n",
    "    ],\n",
    "    [\n",
    "        [lb, ub],\n",
    "        [lb, ub],\n",
    "        [lb, ub],\n",
    "        [lb, ub],\n",
    "        [lb, ub],\n",
    "        [lb, ub],\n",
    "        [lb, 100],\n",
    "        [lb, 100],\n",
    "        [lb, ub],\n",
    "        [lb, 10],\n",
    "        [lb, 10],\n",
    "        [lb, ub],\n",
    "    ],\n",
    "]\n",
    "\n",
    "fixed_parameters = [\n",
    "    {'sampling_rule': 0, 'mfc_familiarity_scale': 0, \n",
    "         'mcf_familiarity_scale': 0, 'drift_familiarity_scale': 0}, \n",
    "    {\"choice_sensitivity\": 1, \"feature_sensitivity\": 1, 'mfc_familiarity_scale': 0, \n",
    "         'mcf_familiarity_scale': 0, 'drift_familiarity_scale': 0},\n",
    "    {\"choice_sensitivity\": 1, \"feature_sensitivity\": 1, 'mfc_familiarity_scale': 0, \n",
    "         'mcf_familiarity_scale': 0, 'drift_familiarity_scale': 0},\n",
    "]\n",
    "\n",
    "analysis_paths = ['compmemlearn.analyses.plot_spc', 'compmemlearn.analyses.plot_crp', 'compmemlearn.analyses.plot_pfr']\n",
    "analysis_names = ['spc', 'crp', 'pfr']\n",
    "\n",
    "experiment_count = 100\n"
   ]
  },
  {
   "cell_type": "code",
   "execution_count": 2,
   "id": "b962f8da",
   "metadata": {
    "execution": {
     "iopub.execute_input": "2022-05-31T19:25:13.165665Z",
     "iopub.status.busy": "2022-05-31T19:25:13.164783Z",
     "iopub.status.idle": "2022-05-31T19:25:13.191185Z",
     "shell.execute_reply": "2022-05-31T19:25:13.190284Z"
    },
    "papermill": {
     "duration": 0.043851,
     "end_time": "2022-05-31T19:25:13.193038",
     "exception": false,
     "start_time": "2022-05-31T19:25:13.149187",
     "status": "completed"
    },
    "tags": [
     "injected-parameters"
    ]
   },
   "outputs": [],
   "source": [
    "# Parameters\n",
    "data_path = \"data/HowardKahana2005.csv\"\n",
    "trial_query = \"subject > -1\"\n",
    "model_paths = [\n",
    "    \"compmemlearn.models.Base_CMR\",\n",
    "    \"compmemlearn.models.Single_ICMR\",\n",
    "    \"compmemlearn.models.Single_ICMR\",\n",
    "    \"compmemlearn.models.Single_ICMR\",\n",
    "    \"compmemlearn.models.Single_ICMR\",\n",
    "]\n",
    "model_names = [\"PrototypeCMR\", \"ICMR_1_0_0\", \"ICMR_1_0_1\", \"ICMR_1_1_0\", \"ICMR_1_1_1\"]\n",
    "free_parameters = [\n",
    "    [\n",
    "        \"encoding_drift_rate\",\n",
    "        \"start_drift_rate\",\n",
    "        \"recall_drift_rate\",\n",
    "        \"shared_support\",\n",
    "        \"item_support\",\n",
    "        \"learning_rate\",\n",
    "        \"primacy_scale\",\n",
    "        \"primacy_decay\",\n",
    "        \"stop_probability_scale\",\n",
    "        \"stop_probability_growth\",\n",
    "        \"choice_sensitivity\",\n",
    "        \"delay_drift_rate\",\n",
    "    ],\n",
    "    [\n",
    "        \"encoding_drift_rate\",\n",
    "        \"start_drift_rate\",\n",
    "        \"recall_drift_rate\",\n",
    "        \"shared_support\",\n",
    "        \"item_support\",\n",
    "        \"learning_rate\",\n",
    "        \"primacy_scale\",\n",
    "        \"primacy_decay\",\n",
    "        \"stop_probability_scale\",\n",
    "        \"stop_probability_growth\",\n",
    "        \"choice_sensitivity\",\n",
    "        \"delay_drift_rate\",\n",
    "    ],\n",
    "    [\n",
    "        \"encoding_drift_rate\",\n",
    "        \"start_drift_rate\",\n",
    "        \"recall_drift_rate\",\n",
    "        \"shared_support\",\n",
    "        \"item_support\",\n",
    "        \"learning_rate\",\n",
    "        \"primacy_scale\",\n",
    "        \"primacy_decay\",\n",
    "        \"stop_probability_scale\",\n",
    "        \"stop_probability_growth\",\n",
    "        \"choice_sensitivity\",\n",
    "        \"delay_drift_rate\",\n",
    "    ],\n",
    "    [\n",
    "        \"encoding_drift_rate\",\n",
    "        \"start_drift_rate\",\n",
    "        \"recall_drift_rate\",\n",
    "        \"shared_support\",\n",
    "        \"item_support\",\n",
    "        \"learning_rate\",\n",
    "        \"primacy_scale\",\n",
    "        \"primacy_decay\",\n",
    "        \"stop_probability_scale\",\n",
    "        \"stop_probability_growth\",\n",
    "        \"context_sensitivity\",\n",
    "        \"delay_drift_rate\",\n",
    "    ],\n",
    "    [\n",
    "        \"encoding_drift_rate\",\n",
    "        \"start_drift_rate\",\n",
    "        \"recall_drift_rate\",\n",
    "        \"shared_support\",\n",
    "        \"item_support\",\n",
    "        \"learning_rate\",\n",
    "        \"primacy_scale\",\n",
    "        \"primacy_decay\",\n",
    "        \"stop_probability_scale\",\n",
    "        \"stop_probability_growth\",\n",
    "        \"context_sensitivity\",\n",
    "        \"delay_drift_rate\",\n",
    "    ],\n",
    "]\n",
    "bounds = [\n",
    "    [\n",
    "        [2.220446049250313e-16, 0.9999999999999998],\n",
    "        [2.220446049250313e-16, 0.9999999999999998],\n",
    "        [2.220446049250313e-16, 0.9999999999999998],\n",
    "        [2.220446049250313e-16, 0.9999999999999998],\n",
    "        [2.220446049250313e-16, 0.9999999999999998],\n",
    "        [2.220446049250313e-16, 0.9999999999999998],\n",
    "        [2.220446049250313e-16, 100],\n",
    "        [2.220446049250313e-16, 100],\n",
    "        [2.220446049250313e-16, 0.9999999999999998],\n",
    "        [2.220446049250313e-16, 10],\n",
    "        [2.220446049250313e-16, 10],\n",
    "        [2.220446049250313e-16, 0.9999999999999998],\n",
    "    ],\n",
    "    [\n",
    "        [2.220446049250313e-16, 0.9999999999999998],\n",
    "        [2.220446049250313e-16, 0.9999999999999998],\n",
    "        [2.220446049250313e-16, 0.9999999999999998],\n",
    "        [2.220446049250313e-16, 0.9999999999999998],\n",
    "        [2.220446049250313e-16, 0.9999999999999998],\n",
    "        [2.220446049250313e-16, 0.9999999999999998],\n",
    "        [2.220446049250313e-16, 100],\n",
    "        [2.220446049250313e-16, 100],\n",
    "        [2.220446049250313e-16, 0.9999999999999998],\n",
    "        [2.220446049250313e-16, 10],\n",
    "        [2.220446049250313e-16, 10],\n",
    "        [2.220446049250313e-16, 0.9999999999999998],\n",
    "    ],\n",
    "    [\n",
    "        [2.220446049250313e-16, 0.9999999999999998],\n",
    "        [2.220446049250313e-16, 0.9999999999999998],\n",
    "        [2.220446049250313e-16, 0.9999999999999998],\n",
    "        [2.220446049250313e-16, 0.9999999999999998],\n",
    "        [2.220446049250313e-16, 0.9999999999999998],\n",
    "        [2.220446049250313e-16, 0.9999999999999998],\n",
    "        [2.220446049250313e-16, 100],\n",
    "        [2.220446049250313e-16, 100],\n",
    "        [2.220446049250313e-16, 0.9999999999999998],\n",
    "        [2.220446049250313e-16, 10],\n",
    "        [2.220446049250313e-16, 10],\n",
    "        [2.220446049250313e-16, 0.9999999999999998],\n",
    "    ],\n",
    "    [\n",
    "        [2.220446049250313e-16, 0.9999999999999998],\n",
    "        [2.220446049250313e-16, 0.9999999999999998],\n",
    "        [2.220446049250313e-16, 0.9999999999999998],\n",
    "        [2.220446049250313e-16, 0.9999999999999998],\n",
    "        [2.220446049250313e-16, 0.9999999999999998],\n",
    "        [2.220446049250313e-16, 0.9999999999999998],\n",
    "        [2.220446049250313e-16, 100],\n",
    "        [2.220446049250313e-16, 100],\n",
    "        [2.220446049250313e-16, 0.9999999999999998],\n",
    "        [2.220446049250313e-16, 10],\n",
    "        [2.220446049250313e-16, 10],\n",
    "        [2.220446049250313e-16, 0.9999999999999998],\n",
    "    ],\n",
    "    [\n",
    "        [2.220446049250313e-16, 0.9999999999999998],\n",
    "        [2.220446049250313e-16, 0.9999999999999998],\n",
    "        [2.220446049250313e-16, 0.9999999999999998],\n",
    "        [2.220446049250313e-16, 0.9999999999999998],\n",
    "        [2.220446049250313e-16, 0.9999999999999998],\n",
    "        [2.220446049250313e-16, 0.9999999999999998],\n",
    "        [2.220446049250313e-16, 100],\n",
    "        [2.220446049250313e-16, 100],\n",
    "        [2.220446049250313e-16, 0.9999999999999998],\n",
    "        [2.220446049250313e-16, 10],\n",
    "        [2.220446049250313e-16, 10],\n",
    "        [2.220446049250313e-16, 0.9999999999999998],\n",
    "    ],\n",
    "]\n",
    "fixed_parameters = [\n",
    "    {},\n",
    "    {\"feature_sensitivity\": 1, \"context_sensitivity\": 1, \"learn_first\": False},\n",
    "    {\"feature_sensitivity\": 1, \"context_sensitivity\": 1, \"learn_first\": True},\n",
    "    {\"feature_sensitivity\": 1, \"choice_sensitivity\": 1, \"learn_first\": False},\n",
    "    {\"feature_sensitivity\": 1, \"choice_sensitivity\": 1, \"learn_first\": True},\n",
    "]\n",
    "section_tag = \"HowardKahana2005\"\n"
   ]
  },
  {
   "cell_type": "code",
   "execution_count": 3,
   "id": "df947d5f",
   "metadata": {
    "execution": {
     "iopub.execute_input": "2022-05-31T19:25:13.223225Z",
     "iopub.status.busy": "2022-05-31T19:25:13.222616Z",
     "iopub.status.idle": "2022-05-31T19:27:19.665600Z",
     "shell.execute_reply": "2022-05-31T19:27:19.664695Z"
    },
    "papermill": {
     "duration": 126.460279,
     "end_time": "2022-05-31T19:27:19.667398",
     "exception": false,
     "start_time": "2022-05-31T19:25:13.207119",
     "status": "completed"
    },
    "tags": []
   },
   "outputs": [
    {
     "name": "stdout",
     "output_type": "stream",
     "text": [
      "<function lohnas_objective_function.<locals>.objective_function at 0x2aecc2a724c0>\n"
     ]
    },
    {
     "name": "stdout",
     "output_type": "stream",
     "text": [
      "934.6436132679794\n",
      "1671.6771065173234\n"
     ]
    },
    {
     "name": "stdout",
     "output_type": "stream",
     "text": [
      "<function lohnas_objective_function.<locals>.objective_function at 0x2aecc35419d0>\n"
     ]
    },
    {
     "name": "stdout",
     "output_type": "stream",
     "text": [
      "934.6436132679794\n",
      "1671.6771065173234\n",
      "<function lohnas_objective_function.<locals>.objective_function at 0x2aecc47664c0>\n"
     ]
    },
    {
     "name": "stdout",
     "output_type": "stream",
     "text": [
      "934.6436132679794\n",
      "1671.6771065173234\n",
      "<function lohnas_objective_function.<locals>.objective_function at 0x2aecc42e6040>\n"
     ]
    },
    {
     "name": "stdout",
     "output_type": "stream",
     "text": [
      "934.6436132679794\n",
      "1671.6771065173234\n",
      "<function lohnas_objective_function.<locals>.objective_function at 0x2aecc4e2d4c0>\n"
     ]
    },
    {
     "name": "stdout",
     "output_type": "stream",
     "text": [
      "934.6436132679794\n",
      "1671.6771065173234\n",
      "dependencies and parameters validated\n"
     ]
    }
   ],
   "source": [
    "#| code-summary: code -- test that specified parameters are valid\n",
    "#| output: false\n",
    "\n",
    "events = pd.read_csv(data_path)\n",
    "\n",
    "trials, list_lengths, presentations = events_metadata(events)\n",
    "trial_mask = generate_trial_mask(events, trial_query)\n",
    "\n",
    "# import models from specified source\n",
    "models = []\n",
    "for i in range(len(model_paths)):\n",
    "    module_name, model_name = model_paths[i].rsplit('.',1) #TODO: add handling for case with no `.`\n",
    "    module = importlib.import_module(module_name)\n",
    "    models.append(getattr(module, model_name))\n",
    "\n",
    "# import analyses from specified source\n",
    "analyses = []\n",
    "for i in range(len(analysis_paths)):\n",
    "    module_name, analysis_name = analysis_paths[i].rsplit('.',1) #TODO: add handling for case with no `.`\n",
    "    module = importlib.import_module(module_name)\n",
    "    analyses.append(getattr(module, analysis_name))\n",
    "\n",
    "# make sure model initializes with provided parameters and boundaries\n",
    "for model_index, model_class in enumerate(models):\n",
    "\n",
    "    @njit(fastmath=True, nogil=True)\n",
    "    def init_model(item_count, presentation_count, parameters):\n",
    "        return model_class(item_count, presentation_count, parameters)\n",
    "\n",
    "    subject_specific_trial_mask = np.logical_and(\n",
    "                generate_trial_mask(events, f'subject == {pd.unique(events.subject)[0]}'), trial_mask)\n",
    "\n",
    "    cost_function = generate_objective_function(\n",
    "        [trials[i][subject_specific_trial_mask[i]] for i in range(len(trials))],\n",
    "        [presentations[i][subject_specific_trial_mask[i]] for i in range(len(presentations))],\n",
    "        list_lengths,\n",
    "        init_model,\n",
    "        fixed_parameters[model_index],\n",
    "        free_parameters[model_index],\n",
    "    )\n",
    "    print(cost_function)\n",
    "    \n",
    "    for boundary_index in range(2):\n",
    "        x = np.array([each[boundary_index] for each in bounds[model_index]])\n",
    "        assert(len(x) == len(free_parameters[model_index])) \n",
    "\n",
    "        # parameter configuration\n",
    "        parameters = Dict.empty(key_type=types.unicode_type, value_type=types.float64)\n",
    "        for name, value in fixed_parameters[model_index].items():\n",
    "            parameters[name] = value\n",
    "        for i in range(len(free_parameters[model_index])):\n",
    "                parameters[free_parameters[model_index][i]] = x[i]\n",
    "\n",
    "        model = init_model(20, 20, parameters)\n",
    "        model.experience(model.items)\n",
    "        model.free_recall()\n",
    "\n",
    "        print(cost_function(x))\n",
    "print('dependencies and parameters validated')\n",
    "#print(trial_index, recall_index, recall, trial, likelihood[trial_index, recall_index], model.outcome_probabilities())"
   ]
  },
  {
   "cell_type": "code",
   "execution_count": 4,
   "id": "eaebecc4",
   "metadata": {
    "execution": {
     "iopub.execute_input": "2022-05-31T19:27:19.698381Z",
     "iopub.status.busy": "2022-05-31T19:27:19.698185Z",
     "iopub.status.idle": "2022-06-01T00:28:17.615143Z",
     "shell.execute_reply": "2022-06-01T00:28:17.614157Z"
    },
    "papermill": {
     "duration": 18058.020659,
     "end_time": "2022-06-01T00:28:17.704614",
     "exception": false,
     "start_time": "2022-05-31T19:27:19.683955",
     "status": "completed"
    },
    "tags": []
   },
   "outputs": [
    {
     "name": "stdout",
     "output_type": "stream",
     "text": [
      "individual fits for PrototypeCMR with tag HowardKahana2005 already exist\n",
      "ICMR_1_0_0, Subject 118\n"
     ]
    },
    {
     "name": "stdout",
     "output_type": "stream",
     "text": [
      "407.80049499358677\n",
      "ICMR_1_0_0, Subject 119\n"
     ]
    },
    {
     "name": "stdout",
     "output_type": "stream",
     "text": [
      "417.980753122645\n",
      "ICMR_1_0_0, Subject 123\n"
     ]
    },
    {
     "name": "stdout",
     "output_type": "stream",
     "text": [
      "526.8587253552672\n",
      "ICMR_1_0_0, Subject 124\n"
     ]
    },
    {
     "name": "stdout",
     "output_type": "stream",
     "text": [
      "561.205906272835\n",
      "ICMR_1_0_0, Subject 125\n"
     ]
    },
    {
     "name": "stdout",
     "output_type": "stream",
     "text": [
      "644.1392020429746\n",
      "ICMR_1_0_0, Subject 126\n"
     ]
    },
    {
     "name": "stdout",
     "output_type": "stream",
     "text": [
      "791.1779996093668\n",
      "ICMR_1_0_0, Subject 128\n"
     ]
    },
    {
     "name": "stdout",
     "output_type": "stream",
     "text": [
      "457.02683117451824\n",
      "ICMR_1_0_0, Subject 129\n"
     ]
    },
    {
     "name": "stdout",
     "output_type": "stream",
     "text": [
      "428.4520901557764\n",
      "ICMR_1_0_0, Subject 130\n"
     ]
    },
    {
     "name": "stdout",
     "output_type": "stream",
     "text": [
      "553.501671784149\n",
      "ICMR_1_0_0, Subject 131\n"
     ]
    },
    {
     "name": "stdout",
     "output_type": "stream",
     "text": [
      "304.34480650603626\n",
      "ICMR_1_0_0, Subject 132\n"
     ]
    },
    {
     "name": "stdout",
     "output_type": "stream",
     "text": [
      "423.2955429049795\n",
      "ICMR_1_0_0, Subject 133\n"
     ]
    },
    {
     "name": "stdout",
     "output_type": "stream",
     "text": [
      "552.9627358210358\n",
      "ICMR_1_0_0, Subject 134\n"
     ]
    },
    {
     "name": "stdout",
     "output_type": "stream",
     "text": [
      "471.0296840327305\n",
      "ICMR_1_0_0, Subject 135\n"
     ]
    },
    {
     "name": "stdout",
     "output_type": "stream",
     "text": [
      "276.3113823706968\n",
      "ICMR_1_0_0, Subject 136\n"
     ]
    },
    {
     "name": "stdout",
     "output_type": "stream",
     "text": [
      "809.8886327099058\n",
      "ICMR_1_0_0, Subject 137\n"
     ]
    },
    {
     "name": "stdout",
     "output_type": "stream",
     "text": [
      "516.8785234435763\n",
      "ICMR_1_0_0, Subject 138\n"
     ]
    },
    {
     "name": "stdout",
     "output_type": "stream",
     "text": [
      "234.97594521889607\n",
      "ICMR_1_0_0, Subject 139\n"
     ]
    },
    {
     "name": "stdout",
     "output_type": "stream",
     "text": [
      "463.63257378572945\n",
      "ICMR_1_0_0, Subject 140\n"
     ]
    },
    {
     "name": "stdout",
     "output_type": "stream",
     "text": [
      "427.95076112804026\n",
      "ICMR_1_0_0, Subject 141\n"
     ]
    },
    {
     "name": "stdout",
     "output_type": "stream",
     "text": [
      "237.98878196499723\n",
      "ICMR_1_0_0, Subject 142\n"
     ]
    },
    {
     "name": "stdout",
     "output_type": "stream",
     "text": [
      "342.87113485541954\n",
      "ICMR_1_0_0, Subject 144\n"
     ]
    },
    {
     "name": "stdout",
     "output_type": "stream",
     "text": [
      "281.81363643202\n",
      "ICMR_1_0_0, Subject 145\n"
     ]
    },
    {
     "name": "stdout",
     "output_type": "stream",
     "text": [
      "287.83179443413826\n",
      "ICMR_1_0_0, Subject 146\n"
     ]
    },
    {
     "name": "stdout",
     "output_type": "stream",
     "text": [
      "407.10252906841777\n",
      "ICMR_1_0_0, Subject 147\n"
     ]
    },
    {
     "name": "stdout",
     "output_type": "stream",
     "text": [
      "550.9249107305666\n",
      "ICMR_1_0_0, Subject 148\n"
     ]
    },
    {
     "name": "stdout",
     "output_type": "stream",
     "text": [
      "377.79837083797224\n",
      "ICMR_1_0_0, Subject 149\n"
     ]
    },
    {
     "name": "stdout",
     "output_type": "stream",
     "text": [
      "567.9707901067758\n",
      "ICMR_1_0_0, Subject 150\n"
     ]
    },
    {
     "name": "stdout",
     "output_type": "stream",
     "text": [
      "461.97135167762497\n",
      "ICMR_1_0_0, Subject 151\n"
     ]
    },
    {
     "name": "stdout",
     "output_type": "stream",
     "text": [
      "352.202060884789\n",
      "ICMR_1_0_0, Subject 152\n"
     ]
    },
    {
     "name": "stdout",
     "output_type": "stream",
     "text": [
      "413.8578558048309\n",
      "ICMR_1_0_0, Subject 153\n"
     ]
    },
    {
     "name": "stdout",
     "output_type": "stream",
     "text": [
      "408.49703766251565\n",
      "ICMR_1_0_0, Subject 154\n"
     ]
    },
    {
     "name": "stdout",
     "output_type": "stream",
     "text": [
      "605.3999356178001\n",
      "ICMR_1_0_0, Subject 155\n"
     ]
    },
    {
     "name": "stdout",
     "output_type": "stream",
     "text": [
      "340.5728157310354\n",
      "ICMR_1_0_0, Subject 156\n"
     ]
    },
    {
     "name": "stdout",
     "output_type": "stream",
     "text": [
      "626.832747928933\n",
      "ICMR_1_0_0, Subject 157\n"
     ]
    },
    {
     "name": "stdout",
     "output_type": "stream",
     "text": [
      "465.46274216869665\n",
      "ICMR_1_0_0, Subject 158\n"
     ]
    },
    {
     "name": "stdout",
     "output_type": "stream",
     "text": [
      "530.4846399263437\n",
      "ICMR_1_0_0, Subject 159\n"
     ]
    },
    {
     "name": "stdout",
     "output_type": "stream",
     "text": [
      "692.7907962505726\n",
      "ICMR_1_0_0, Subject 160\n"
     ]
    },
    {
     "name": "stdout",
     "output_type": "stream",
     "text": [
      "501.06251541463814\n",
      "ICMR_1_0_0, Subject 161\n"
     ]
    },
    {
     "name": "stdout",
     "output_type": "stream",
     "text": [
      "339.1180434460448\n",
      "ICMR_1_0_0, Subject 162\n"
     ]
    },
    {
     "name": "stdout",
     "output_type": "stream",
     "text": [
      "360.46978013869415\n",
      "ICMR_1_0_0, Subject 163\n"
     ]
    },
    {
     "name": "stdout",
     "output_type": "stream",
     "text": [
      "446.2597989405526\n",
      "ICMR_1_0_0, Subject 164\n"
     ]
    },
    {
     "name": "stdout",
     "output_type": "stream",
     "text": [
      "493.10298622161844\n",
      "ICMR_1_0_0, Subject 165\n"
     ]
    },
    {
     "name": "stdout",
     "output_type": "stream",
     "text": [
      "627.7830922811816\n",
      "ICMR_1_0_0, Subject 166\n"
     ]
    },
    {
     "name": "stdout",
     "output_type": "stream",
     "text": [
      "396.61360055706115\n",
      "ICMR_1_0_0, Subject 167\n"
     ]
    },
    {
     "name": "stdout",
     "output_type": "stream",
     "text": [
      "731.7287553979238\n",
      "ICMR_1_0_0, Subject 168\n"
     ]
    },
    {
     "name": "stdout",
     "output_type": "stream",
     "text": [
      "342.34844640438325\n",
      "ICMR_1_0_0, Subject 169\n"
     ]
    },
    {
     "name": "stdout",
     "output_type": "stream",
     "text": [
      "532.1597797436476\n",
      "ICMR_1_0_0, Subject 170\n"
     ]
    },
    {
     "name": "stdout",
     "output_type": "stream",
     "text": [
      "245.47047979030316\n",
      "ICMR_1_0_0, Subject 171\n"
     ]
    },
    {
     "name": "stdout",
     "output_type": "stream",
     "text": [
      "380.08628220583154\n",
      "ICMR_1_0_0, Subject 172\n"
     ]
    },
    {
     "name": "stdout",
     "output_type": "stream",
     "text": [
      "497.07559132850685\n",
      "ICMR_1_0_0, Subject 173\n"
     ]
    },
    {
     "name": "stdout",
     "output_type": "stream",
     "text": [
      "206.6488697644197\n",
      "ICMR_1_0_0, Subject 174\n"
     ]
    },
    {
     "name": "stdout",
     "output_type": "stream",
     "text": [
      "628.6077709934451\n",
      "ICMR_1_0_0, Subject 175\n"
     ]
    },
    {
     "name": "stdout",
     "output_type": "stream",
     "text": [
      "558.367020249146\n",
      "ICMR_1_0_0, Subject 176\n"
     ]
    },
    {
     "name": "stdout",
     "output_type": "stream",
     "text": [
      "430.1561858009646\n",
      "ICMR_1_0_0, Subject 177\n"
     ]
    },
    {
     "name": "stdout",
     "output_type": "stream",
     "text": [
      "447.13616309172767\n",
      "ICMR_1_0_0, Subject 178\n"
     ]
    },
    {
     "name": "stdout",
     "output_type": "stream",
     "text": [
      "325.41136631318227\n",
      "ICMR_1_0_0, Subject 179\n"
     ]
    },
    {
     "name": "stdout",
     "output_type": "stream",
     "text": [
      "555.1046559073316\n",
      "ICMR_1_0_0, Subject 180\n"
     ]
    },
    {
     "name": "stdout",
     "output_type": "stream",
     "text": [
      "547.4365318331846\n",
      "ICMR_1_0_0, Subject 300\n"
     ]
    },
    {
     "name": "stdout",
     "output_type": "stream",
     "text": [
      "520.4344934681601\n",
      "ICMR_1_0_0, Subject 301\n"
     ]
    },
    {
     "name": "stdout",
     "output_type": "stream",
     "text": [
      "383.77804995679014\n",
      "ICMR_1_0_0, Subject 302\n"
     ]
    },
    {
     "name": "stdout",
     "output_type": "stream",
     "text": [
      "520.8449739406611\n",
      "ICMR_1_0_0, Subject 311\n"
     ]
    },
    {
     "name": "stdout",
     "output_type": "stream",
     "text": [
      "568.0120777747825\n",
      "ICMR_1_0_0, Subject 312\n"
     ]
    },
    {
     "name": "stdout",
     "output_type": "stream",
     "text": [
      "520.0849026200502\n",
      "ICMR_1_0_0, Subject 313\n"
     ]
    },
    {
     "name": "stdout",
     "output_type": "stream",
     "text": [
      "705.6413725252412\n",
      "ICMR_1_0_0, Subject 314\n"
     ]
    },
    {
     "name": "stdout",
     "output_type": "stream",
     "text": [
      "602.1082900779146\n",
      "ICMR_1_0_0, Subject 315\n"
     ]
    },
    {
     "name": "stdout",
     "output_type": "stream",
     "text": [
      "647.8669445297952\n"
     ]
    },
    {
     "name": "stdout",
     "output_type": "stream",
     "text": [
      "ICMR_1_0_1, Subject 118\n"
     ]
    },
    {
     "name": "stdout",
     "output_type": "stream",
     "text": [
      "408.1409214956536\n",
      "ICMR_1_0_1, Subject 119\n"
     ]
    },
    {
     "name": "stdout",
     "output_type": "stream",
     "text": [
      "418.24850153176527\n",
      "ICMR_1_0_1, Subject 123\n"
     ]
    },
    {
     "name": "stdout",
     "output_type": "stream",
     "text": [
      "527.0013037403882\n",
      "ICMR_1_0_1, Subject 124\n"
     ]
    },
    {
     "name": "stdout",
     "output_type": "stream",
     "text": [
      "556.3042944328349\n",
      "ICMR_1_0_1, Subject 125\n"
     ]
    },
    {
     "name": "stdout",
     "output_type": "stream",
     "text": [
      "640.174999343002\n",
      "ICMR_1_0_1, Subject 126\n"
     ]
    },
    {
     "name": "stdout",
     "output_type": "stream",
     "text": [
      "790.7550017231878\n",
      "ICMR_1_0_1, Subject 128\n"
     ]
    },
    {
     "name": "stdout",
     "output_type": "stream",
     "text": [
      "456.987844697753\n",
      "ICMR_1_0_1, Subject 129\n"
     ]
    },
    {
     "name": "stdout",
     "output_type": "stream",
     "text": [
      "433.8458951187821\n",
      "ICMR_1_0_1, Subject 130\n"
     ]
    },
    {
     "name": "stdout",
     "output_type": "stream",
     "text": [
      "553.4673267139473\n",
      "ICMR_1_0_1, Subject 131\n"
     ]
    },
    {
     "name": "stdout",
     "output_type": "stream",
     "text": [
      "305.262988269316\n",
      "ICMR_1_0_1, Subject 132\n"
     ]
    },
    {
     "name": "stdout",
     "output_type": "stream",
     "text": [
      "410.85815907390037\n",
      "ICMR_1_0_1, Subject 133\n"
     ]
    },
    {
     "name": "stdout",
     "output_type": "stream",
     "text": [
      "552.4411465453029\n",
      "ICMR_1_0_1, Subject 134\n"
     ]
    },
    {
     "name": "stdout",
     "output_type": "stream",
     "text": [
      "452.3313298126705\n",
      "ICMR_1_0_1, Subject 135\n"
     ]
    },
    {
     "name": "stdout",
     "output_type": "stream",
     "text": [
      "281.32439786829684\n",
      "ICMR_1_0_1, Subject 136\n"
     ]
    },
    {
     "name": "stdout",
     "output_type": "stream",
     "text": [
      "809.8104346478407\n",
      "ICMR_1_0_1, Subject 137\n"
     ]
    },
    {
     "name": "stdout",
     "output_type": "stream",
     "text": [
      "516.0155457403025\n",
      "ICMR_1_0_1, Subject 138\n"
     ]
    },
    {
     "name": "stdout",
     "output_type": "stream",
     "text": [
      "234.1163063016474\n",
      "ICMR_1_0_1, Subject 139\n"
     ]
    },
    {
     "name": "stdout",
     "output_type": "stream",
     "text": [
      "462.9252023536729\n",
      "ICMR_1_0_1, Subject 140\n"
     ]
    },
    {
     "name": "stdout",
     "output_type": "stream",
     "text": [
      "427.6369166055667\n",
      "ICMR_1_0_1, Subject 141\n"
     ]
    },
    {
     "name": "stdout",
     "output_type": "stream",
     "text": [
      "236.93018245471114\n",
      "ICMR_1_0_1, Subject 142\n"
     ]
    },
    {
     "name": "stdout",
     "output_type": "stream",
     "text": [
      "341.44967956179545\n",
      "ICMR_1_0_1, Subject 144\n"
     ]
    },
    {
     "name": "stdout",
     "output_type": "stream",
     "text": [
      "281.7917643697136\n",
      "ICMR_1_0_1, Subject 145\n"
     ]
    },
    {
     "name": "stdout",
     "output_type": "stream",
     "text": [
      "282.3165415890865\n",
      "ICMR_1_0_1, Subject 146\n"
     ]
    },
    {
     "name": "stdout",
     "output_type": "stream",
     "text": [
      "407.0594140279538\n",
      "ICMR_1_0_1, Subject 147\n"
     ]
    },
    {
     "name": "stdout",
     "output_type": "stream",
     "text": [
      "550.9854086024882\n",
      "ICMR_1_0_1, Subject 148\n"
     ]
    },
    {
     "name": "stdout",
     "output_type": "stream",
     "text": [
      "374.5920725362848\n",
      "ICMR_1_0_1, Subject 149\n"
     ]
    },
    {
     "name": "stdout",
     "output_type": "stream",
     "text": [
      "567.7642829730484\n",
      "ICMR_1_0_1, Subject 150\n"
     ]
    },
    {
     "name": "stdout",
     "output_type": "stream",
     "text": [
      "461.97328896679034\n",
      "ICMR_1_0_1, Subject 151\n"
     ]
    },
    {
     "name": "stdout",
     "output_type": "stream",
     "text": [
      "352.1616518235615\n",
      "ICMR_1_0_1, Subject 152\n"
     ]
    },
    {
     "name": "stdout",
     "output_type": "stream",
     "text": [
      "420.10978085319243\n",
      "ICMR_1_0_1, Subject 153\n"
     ]
    },
    {
     "name": "stdout",
     "output_type": "stream",
     "text": [
      "409.1048133521626\n",
      "ICMR_1_0_1, Subject 154\n"
     ]
    },
    {
     "name": "stdout",
     "output_type": "stream",
     "text": [
      "605.3700912150659\n",
      "ICMR_1_0_1, Subject 155\n"
     ]
    },
    {
     "name": "stdout",
     "output_type": "stream",
     "text": [
      "341.2671416224987\n",
      "ICMR_1_0_1, Subject 156\n"
     ]
    },
    {
     "name": "stdout",
     "output_type": "stream",
     "text": [
      "632.8837279483298\n",
      "ICMR_1_0_1, Subject 157\n"
     ]
    },
    {
     "name": "stdout",
     "output_type": "stream",
     "text": [
      "469.82947071082776\n",
      "ICMR_1_0_1, Subject 158\n"
     ]
    },
    {
     "name": "stdout",
     "output_type": "stream",
     "text": [
      "529.818475871456\n",
      "ICMR_1_0_1, Subject 159\n"
     ]
    },
    {
     "name": "stdout",
     "output_type": "stream",
     "text": [
      "706.6302118520287\n",
      "ICMR_1_0_1, Subject 160\n"
     ]
    },
    {
     "name": "stdout",
     "output_type": "stream",
     "text": [
      "494.8167624602502\n",
      "ICMR_1_0_1, Subject 161\n"
     ]
    },
    {
     "name": "stdout",
     "output_type": "stream",
     "text": [
      "340.7117023338594\n",
      "ICMR_1_0_1, Subject 162\n"
     ]
    },
    {
     "name": "stdout",
     "output_type": "stream",
     "text": [
      "360.47731930122467\n",
      "ICMR_1_0_1, Subject 163\n"
     ]
    },
    {
     "name": "stdout",
     "output_type": "stream",
     "text": [
      "446.3490240861846\n",
      "ICMR_1_0_1, Subject 164\n"
     ]
    },
    {
     "name": "stdout",
     "output_type": "stream",
     "text": [
      "494.0859509650884\n",
      "ICMR_1_0_1, Subject 165\n"
     ]
    },
    {
     "name": "stdout",
     "output_type": "stream",
     "text": [
      "627.1296596819527\n",
      "ICMR_1_0_1, Subject 166\n"
     ]
    },
    {
     "name": "stdout",
     "output_type": "stream",
     "text": [
      "393.6319621253031\n",
      "ICMR_1_0_1, Subject 167\n"
     ]
    },
    {
     "name": "stdout",
     "output_type": "stream",
     "text": [
      "731.3916358419744\n",
      "ICMR_1_0_1, Subject 168\n"
     ]
    },
    {
     "name": "stdout",
     "output_type": "stream",
     "text": [
      "344.8506133399764\n",
      "ICMR_1_0_1, Subject 169\n"
     ]
    },
    {
     "name": "stdout",
     "output_type": "stream",
     "text": [
      "512.3884034880352\n",
      "ICMR_1_0_1, Subject 170\n"
     ]
    },
    {
     "name": "stdout",
     "output_type": "stream",
     "text": [
      "242.96930610475488\n",
      "ICMR_1_0_1, Subject 171\n"
     ]
    },
    {
     "name": "stdout",
     "output_type": "stream",
     "text": [
      "380.14078499192124\n",
      "ICMR_1_0_1, Subject 172\n"
     ]
    },
    {
     "name": "stdout",
     "output_type": "stream",
     "text": [
      "476.87470021227006\n",
      "ICMR_1_0_1, Subject 173\n"
     ]
    },
    {
     "name": "stdout",
     "output_type": "stream",
     "text": [
      "206.6827964332843\n",
      "ICMR_1_0_1, Subject 174\n"
     ]
    },
    {
     "name": "stdout",
     "output_type": "stream",
     "text": [
      "629.4653531938255\n",
      "ICMR_1_0_1, Subject 175\n"
     ]
    },
    {
     "name": "stdout",
     "output_type": "stream",
     "text": [
      "556.5173637144766\n",
      "ICMR_1_0_1, Subject 176\n"
     ]
    },
    {
     "name": "stdout",
     "output_type": "stream",
     "text": [
      "414.5753357394186\n",
      "ICMR_1_0_1, Subject 177\n"
     ]
    },
    {
     "name": "stdout",
     "output_type": "stream",
     "text": [
      "447.8490621928413\n",
      "ICMR_1_0_1, Subject 178\n"
     ]
    },
    {
     "name": "stdout",
     "output_type": "stream",
     "text": [
      "325.4201420945098\n",
      "ICMR_1_0_1, Subject 179\n"
     ]
    },
    {
     "name": "stdout",
     "output_type": "stream",
     "text": [
      "545.5487885468242\n",
      "ICMR_1_0_1, Subject 180\n"
     ]
    },
    {
     "name": "stdout",
     "output_type": "stream",
     "text": [
      "546.5060623324898\n",
      "ICMR_1_0_1, Subject 300\n"
     ]
    },
    {
     "name": "stdout",
     "output_type": "stream",
     "text": [
      "520.3864354315973\n",
      "ICMR_1_0_1, Subject 301\n"
     ]
    },
    {
     "name": "stdout",
     "output_type": "stream",
     "text": [
      "383.84607943086377\n",
      "ICMR_1_0_1, Subject 302\n"
     ]
    },
    {
     "name": "stdout",
     "output_type": "stream",
     "text": [
      "520.6114134803656\n",
      "ICMR_1_0_1, Subject 311\n"
     ]
    },
    {
     "name": "stdout",
     "output_type": "stream",
     "text": [
      "568.4756782990847\n",
      "ICMR_1_0_1, Subject 312\n"
     ]
    },
    {
     "name": "stdout",
     "output_type": "stream",
     "text": [
      "520.8961820375157\n",
      "ICMR_1_0_1, Subject 313\n"
     ]
    },
    {
     "name": "stdout",
     "output_type": "stream",
     "text": [
      "704.1807362024232\n",
      "ICMR_1_0_1, Subject 314\n"
     ]
    },
    {
     "name": "stdout",
     "output_type": "stream",
     "text": [
      "602.6952955236043\n",
      "ICMR_1_0_1, Subject 315\n"
     ]
    },
    {
     "name": "stdout",
     "output_type": "stream",
     "text": [
      "647.8163033249327\n"
     ]
    },
    {
     "name": "stdout",
     "output_type": "stream",
     "text": [
      "ICMR_1_1_0, Subject 118\n"
     ]
    },
    {
     "name": "stdout",
     "output_type": "stream",
     "text": [
      "407.855835412533\n",
      "ICMR_1_1_0, Subject 119\n"
     ]
    },
    {
     "name": "stdout",
     "output_type": "stream",
     "text": [
      "414.0063939021072\n",
      "ICMR_1_1_0, Subject 123\n"
     ]
    },
    {
     "name": "stdout",
     "output_type": "stream",
     "text": [
      "527.7810677550387\n",
      "ICMR_1_1_0, Subject 124\n"
     ]
    },
    {
     "name": "stdout",
     "output_type": "stream",
     "text": [
      "559.1378544874481\n",
      "ICMR_1_1_0, Subject 125\n"
     ]
    },
    {
     "name": "stdout",
     "output_type": "stream",
     "text": [
      "640.3069496249693\n",
      "ICMR_1_1_0, Subject 126\n"
     ]
    },
    {
     "name": "stdout",
     "output_type": "stream",
     "text": [
      "791.8694250154679\n",
      "ICMR_1_1_0, Subject 128\n"
     ]
    },
    {
     "name": "stdout",
     "output_type": "stream",
     "text": [
      "457.3626535426466\n",
      "ICMR_1_1_0, Subject 129\n"
     ]
    },
    {
     "name": "stdout",
     "output_type": "stream",
     "text": [
      "433.68403579976933\n",
      "ICMR_1_1_0, Subject 130\n"
     ]
    },
    {
     "name": "stdout",
     "output_type": "stream",
     "text": [
      "554.1323955240823\n",
      "ICMR_1_1_0, Subject 131\n"
     ]
    },
    {
     "name": "stdout",
     "output_type": "stream",
     "text": [
      "306.8360120013304\n",
      "ICMR_1_1_0, Subject 132\n"
     ]
    },
    {
     "name": "stdout",
     "output_type": "stream",
     "text": [
      "411.3307643327583\n",
      "ICMR_1_1_0, Subject 133\n"
     ]
    },
    {
     "name": "stdout",
     "output_type": "stream",
     "text": [
      "551.7849563502813\n",
      "ICMR_1_1_0, Subject 134\n"
     ]
    },
    {
     "name": "stdout",
     "output_type": "stream",
     "text": [
      "456.69927349617006\n",
      "ICMR_1_1_0, Subject 135\n"
     ]
    },
    {
     "name": "stdout",
     "output_type": "stream",
     "text": [
      "280.4084887526384\n",
      "ICMR_1_1_0, Subject 136\n"
     ]
    },
    {
     "name": "stdout",
     "output_type": "stream",
     "text": [
      "809.4512962778209\n",
      "ICMR_1_1_0, Subject 137\n"
     ]
    },
    {
     "name": "stdout",
     "output_type": "stream",
     "text": [
      "515.9978884800055\n",
      "ICMR_1_1_0, Subject 138\n"
     ]
    },
    {
     "name": "stdout",
     "output_type": "stream",
     "text": [
      "237.31579373997963\n",
      "ICMR_1_1_0, Subject 139\n"
     ]
    },
    {
     "name": "stdout",
     "output_type": "stream",
     "text": [
      "464.187288309462\n",
      "ICMR_1_1_0, Subject 140\n"
     ]
    },
    {
     "name": "stdout",
     "output_type": "stream",
     "text": [
      "427.7737470774623\n",
      "ICMR_1_1_0, Subject 141\n"
     ]
    },
    {
     "name": "stdout",
     "output_type": "stream",
     "text": [
      "237.3256774139216\n",
      "ICMR_1_1_0, Subject 142\n"
     ]
    },
    {
     "name": "stdout",
     "output_type": "stream",
     "text": [
      "340.3021058524267\n",
      "ICMR_1_1_0, Subject 144\n"
     ]
    },
    {
     "name": "stdout",
     "output_type": "stream",
     "text": [
      "282.2861423931974\n",
      "ICMR_1_1_0, Subject 145\n"
     ]
    },
    {
     "name": "stdout",
     "output_type": "stream",
     "text": [
      "281.0585056561978\n",
      "ICMR_1_1_0, Subject 146\n"
     ]
    },
    {
     "name": "stdout",
     "output_type": "stream",
     "text": [
      "407.0617649108488\n",
      "ICMR_1_1_0, Subject 147\n"
     ]
    },
    {
     "name": "stdout",
     "output_type": "stream",
     "text": [
      "550.9610233791437\n",
      "ICMR_1_1_0, Subject 148\n"
     ]
    },
    {
     "name": "stdout",
     "output_type": "stream",
     "text": [
      "374.7267802203509\n",
      "ICMR_1_1_0, Subject 149\n"
     ]
    },
    {
     "name": "stdout",
     "output_type": "stream",
     "text": [
      "567.8010452123438\n",
      "ICMR_1_1_0, Subject 150\n"
     ]
    },
    {
     "name": "stdout",
     "output_type": "stream",
     "text": [
      "460.88422214139206\n",
      "ICMR_1_1_0, Subject 151\n"
     ]
    },
    {
     "name": "stdout",
     "output_type": "stream",
     "text": [
      "346.3302629028112\n",
      "ICMR_1_1_0, Subject 152\n"
     ]
    },
    {
     "name": "stdout",
     "output_type": "stream",
     "text": [
      "425.76005885320507\n",
      "ICMR_1_1_0, Subject 153\n"
     ]
    },
    {
     "name": "stdout",
     "output_type": "stream",
     "text": [
      "409.83400017331905\n",
      "ICMR_1_1_0, Subject 154\n"
     ]
    },
    {
     "name": "stdout",
     "output_type": "stream",
     "text": [
      "606.0136068173869\n",
      "ICMR_1_1_0, Subject 155\n"
     ]
    },
    {
     "name": "stdout",
     "output_type": "stream",
     "text": [
      "343.0698477479022\n",
      "ICMR_1_1_0, Subject 156\n"
     ]
    },
    {
     "name": "stdout",
     "output_type": "stream",
     "text": [
      "627.1737953614343\n",
      "ICMR_1_1_0, Subject 157\n"
     ]
    },
    {
     "name": "stdout",
     "output_type": "stream",
     "text": [
      "460.770074951317\n",
      "ICMR_1_1_0, Subject 158\n"
     ]
    },
    {
     "name": "stdout",
     "output_type": "stream",
     "text": [
      "527.6657467460091\n",
      "ICMR_1_1_0, Subject 159\n"
     ]
    },
    {
     "name": "stdout",
     "output_type": "stream",
     "text": [
      "695.4768223839155\n",
      "ICMR_1_1_0, Subject 160\n"
     ]
    },
    {
     "name": "stdout",
     "output_type": "stream",
     "text": [
      "495.2807081588413\n",
      "ICMR_1_1_0, Subject 161\n"
     ]
    },
    {
     "name": "stdout",
     "output_type": "stream",
     "text": [
      "339.19865658201303\n",
      "ICMR_1_1_0, Subject 162\n"
     ]
    },
    {
     "name": "stdout",
     "output_type": "stream",
     "text": [
      "360.69479591349136\n",
      "ICMR_1_1_0, Subject 163\n"
     ]
    },
    {
     "name": "stdout",
     "output_type": "stream",
     "text": [
      "445.40139541771293\n",
      "ICMR_1_1_0, Subject 164\n"
     ]
    },
    {
     "name": "stdout",
     "output_type": "stream",
     "text": [
      "493.1168127080842\n",
      "ICMR_1_1_0, Subject 165\n"
     ]
    },
    {
     "name": "stdout",
     "output_type": "stream",
     "text": [
      "627.5077118569908\n",
      "ICMR_1_1_0, Subject 166\n"
     ]
    },
    {
     "name": "stdout",
     "output_type": "stream",
     "text": [
      "395.28267797677745\n",
      "ICMR_1_1_0, Subject 167\n"
     ]
    },
    {
     "name": "stdout",
     "output_type": "stream",
     "text": [
      "730.640743023861\n",
      "ICMR_1_1_0, Subject 168\n"
     ]
    },
    {
     "name": "stdout",
     "output_type": "stream",
     "text": [
      "343.5219328444453\n",
      "ICMR_1_1_0, Subject 169\n"
     ]
    },
    {
     "name": "stdout",
     "output_type": "stream",
     "text": [
      "507.34943800657464\n",
      "ICMR_1_1_0, Subject 170\n"
     ]
    },
    {
     "name": "stdout",
     "output_type": "stream",
     "text": [
      "245.54604554521825\n",
      "ICMR_1_1_0, Subject 171\n"
     ]
    },
    {
     "name": "stdout",
     "output_type": "stream",
     "text": [
      "387.27641677663115\n",
      "ICMR_1_1_0, Subject 172\n"
     ]
    },
    {
     "name": "stdout",
     "output_type": "stream",
     "text": [
      "477.88351091045223\n",
      "ICMR_1_1_0, Subject 173\n"
     ]
    },
    {
     "name": "stdout",
     "output_type": "stream",
     "text": [
      "206.87202735430944\n",
      "ICMR_1_1_0, Subject 174\n"
     ]
    },
    {
     "name": "stdout",
     "output_type": "stream",
     "text": [
      "628.3437773944366\n",
      "ICMR_1_1_0, Subject 175\n"
     ]
    },
    {
     "name": "stdout",
     "output_type": "stream",
     "text": [
      "557.415610645669\n",
      "ICMR_1_1_0, Subject 176\n"
     ]
    },
    {
     "name": "stdout",
     "output_type": "stream",
     "text": [
      "417.66025776677276\n",
      "ICMR_1_1_0, Subject 177\n"
     ]
    },
    {
     "name": "stdout",
     "output_type": "stream",
     "text": [
      "439.2679151617877\n",
      "ICMR_1_1_0, Subject 178\n"
     ]
    },
    {
     "name": "stdout",
     "output_type": "stream",
     "text": [
      "325.6720638391583\n",
      "ICMR_1_1_0, Subject 179\n"
     ]
    },
    {
     "name": "stdout",
     "output_type": "stream",
     "text": [
      "546.1104413539763\n",
      "ICMR_1_1_0, Subject 180\n"
     ]
    },
    {
     "name": "stdout",
     "output_type": "stream",
     "text": [
      "546.9086377243922\n",
      "ICMR_1_1_0, Subject 300\n"
     ]
    },
    {
     "name": "stdout",
     "output_type": "stream",
     "text": [
      "559.2651329922801\n",
      "ICMR_1_1_0, Subject 301\n"
     ]
    },
    {
     "name": "stdout",
     "output_type": "stream",
     "text": [
      "385.82013009053384\n",
      "ICMR_1_1_0, Subject 302\n"
     ]
    },
    {
     "name": "stdout",
     "output_type": "stream",
     "text": [
      "520.3743978805246\n",
      "ICMR_1_1_0, Subject 311\n"
     ]
    },
    {
     "name": "stdout",
     "output_type": "stream",
     "text": [
      "567.5607611093287\n",
      "ICMR_1_1_0, Subject 312\n"
     ]
    },
    {
     "name": "stdout",
     "output_type": "stream",
     "text": [
      "570.9407609324843\n",
      "ICMR_1_1_0, Subject 313\n"
     ]
    },
    {
     "name": "stdout",
     "output_type": "stream",
     "text": [
      "704.7467286971828\n",
      "ICMR_1_1_0, Subject 314\n"
     ]
    },
    {
     "name": "stdout",
     "output_type": "stream",
     "text": [
      "601.9046286801512\n",
      "ICMR_1_1_0, Subject 315\n"
     ]
    },
    {
     "name": "stdout",
     "output_type": "stream",
     "text": [
      "649.2738347128279\n",
      "ICMR_1_1_1, Subject 118\n"
     ]
    },
    {
     "name": "stdout",
     "output_type": "stream",
     "text": [
      "416.159279199981\n",
      "ICMR_1_1_1, Subject 119\n"
     ]
    },
    {
     "name": "stdout",
     "output_type": "stream",
     "text": [
      "418.0016734992613\n",
      "ICMR_1_1_1, Subject 123\n"
     ]
    },
    {
     "name": "stdout",
     "output_type": "stream",
     "text": [
      "528.2223638272897\n",
      "ICMR_1_1_1, Subject 124\n"
     ]
    },
    {
     "name": "stdout",
     "output_type": "stream",
     "text": [
      "564.2179759906343\n",
      "ICMR_1_1_1, Subject 125\n"
     ]
    },
    {
     "name": "stdout",
     "output_type": "stream",
     "text": [
      "646.6180846061226\n",
      "ICMR_1_1_1, Subject 126\n"
     ]
    },
    {
     "name": "stdout",
     "output_type": "stream",
     "text": [
      "794.559414303526\n",
      "ICMR_1_1_1, Subject 128\n"
     ]
    },
    {
     "name": "stdout",
     "output_type": "stream",
     "text": [
      "457.301968674889\n",
      "ICMR_1_1_1, Subject 129\n"
     ]
    },
    {
     "name": "stdout",
     "output_type": "stream",
     "text": [
      "429.92225963594245\n",
      "ICMR_1_1_1, Subject 130\n"
     ]
    },
    {
     "name": "stdout",
     "output_type": "stream",
     "text": [
      "555.4800981211224\n",
      "ICMR_1_1_1, Subject 131\n"
     ]
    },
    {
     "name": "stdout",
     "output_type": "stream",
     "text": [
      "306.14463567549194\n",
      "ICMR_1_1_1, Subject 132\n"
     ]
    },
    {
     "name": "stdout",
     "output_type": "stream",
     "text": [
      "421.7836360164606\n",
      "ICMR_1_1_1, Subject 133\n"
     ]
    },
    {
     "name": "stdout",
     "output_type": "stream",
     "text": [
      "552.6908236516698\n",
      "ICMR_1_1_1, Subject 134\n"
     ]
    },
    {
     "name": "stdout",
     "output_type": "stream",
     "text": [
      "460.29539472292197\n",
      "ICMR_1_1_1, Subject 135\n"
     ]
    },
    {
     "name": "stdout",
     "output_type": "stream",
     "text": [
      "279.82413444069766\n",
      "ICMR_1_1_1, Subject 136\n"
     ]
    },
    {
     "name": "stdout",
     "output_type": "stream",
     "text": [
      "816.6068665763001\n",
      "ICMR_1_1_1, Subject 137\n"
     ]
    },
    {
     "name": "stdout",
     "output_type": "stream",
     "text": [
      "517.4461863666563\n",
      "ICMR_1_1_1, Subject 138\n"
     ]
    },
    {
     "name": "stdout",
     "output_type": "stream",
     "text": [
      "236.9635773167603\n",
      "ICMR_1_1_1, Subject 139\n"
     ]
    },
    {
     "name": "stdout",
     "output_type": "stream",
     "text": [
      "463.6591307151345\n",
      "ICMR_1_1_1, Subject 140\n"
     ]
    },
    {
     "name": "stdout",
     "output_type": "stream",
     "text": [
      "427.852119671777\n",
      "ICMR_1_1_1, Subject 141\n"
     ]
    },
    {
     "name": "stdout",
     "output_type": "stream",
     "text": [
      "236.47277898572597\n",
      "ICMR_1_1_1, Subject 142\n"
     ]
    },
    {
     "name": "stdout",
     "output_type": "stream",
     "text": [
      "340.043357766794\n",
      "ICMR_1_1_1, Subject 144\n"
     ]
    },
    {
     "name": "stdout",
     "output_type": "stream",
     "text": [
      "282.48627550721216\n",
      "ICMR_1_1_1, Subject 145\n"
     ]
    },
    {
     "name": "stdout",
     "output_type": "stream",
     "text": [
      "280.75191796045283\n",
      "ICMR_1_1_1, Subject 146\n"
     ]
    },
    {
     "name": "stdout",
     "output_type": "stream",
     "text": [
      "407.27067276497604\n",
      "ICMR_1_1_1, Subject 147\n"
     ]
    },
    {
     "name": "stdout",
     "output_type": "stream",
     "text": [
      "555.0033200726645\n",
      "ICMR_1_1_1, Subject 148\n"
     ]
    },
    {
     "name": "stdout",
     "output_type": "stream",
     "text": [
      "376.49395050196415\n",
      "ICMR_1_1_1, Subject 149\n"
     ]
    },
    {
     "name": "stdout",
     "output_type": "stream",
     "text": [
      "571.5811854106387\n",
      "ICMR_1_1_1, Subject 150\n"
     ]
    },
    {
     "name": "stdout",
     "output_type": "stream",
     "text": [
      "462.42909445456144\n",
      "ICMR_1_1_1, Subject 151\n"
     ]
    },
    {
     "name": "stdout",
     "output_type": "stream",
     "text": [
      "345.74031643065354\n",
      "ICMR_1_1_1, Subject 152\n"
     ]
    },
    {
     "name": "stdout",
     "output_type": "stream",
     "text": [
      "424.0855800672844\n",
      "ICMR_1_1_1, Subject 153\n"
     ]
    },
    {
     "name": "stdout",
     "output_type": "stream",
     "text": [
      "416.0893131082991\n",
      "ICMR_1_1_1, Subject 154\n"
     ]
    },
    {
     "name": "stdout",
     "output_type": "stream",
     "text": [
      "610.1885609416579\n",
      "ICMR_1_1_1, Subject 155\n"
     ]
    },
    {
     "name": "stdout",
     "output_type": "stream",
     "text": [
      "349.1533116169663\n",
      "ICMR_1_1_1, Subject 156\n"
     ]
    },
    {
     "name": "stdout",
     "output_type": "stream",
     "text": [
      "632.8657209148101\n",
      "ICMR_1_1_1, Subject 157\n"
     ]
    },
    {
     "name": "stdout",
     "output_type": "stream",
     "text": [
      "468.0745447674929\n",
      "ICMR_1_1_1, Subject 158\n"
     ]
    },
    {
     "name": "stdout",
     "output_type": "stream",
     "text": [
      "529.9047723617737\n",
      "ICMR_1_1_1, Subject 159\n"
     ]
    },
    {
     "name": "stdout",
     "output_type": "stream",
     "text": [
      "696.8156170026527\n",
      "ICMR_1_1_1, Subject 160\n"
     ]
    },
    {
     "name": "stdout",
     "output_type": "stream",
     "text": [
      "495.27271379181894\n",
      "ICMR_1_1_1, Subject 161\n"
     ]
    },
    {
     "name": "stdout",
     "output_type": "stream",
     "text": [
      "344.82813698397945\n",
      "ICMR_1_1_1, Subject 162\n"
     ]
    },
    {
     "name": "stdout",
     "output_type": "stream",
     "text": [
      "361.29932615877976\n",
      "ICMR_1_1_1, Subject 163\n"
     ]
    },
    {
     "name": "stdout",
     "output_type": "stream",
     "text": [
      "451.306631279849\n",
      "ICMR_1_1_1, Subject 164\n"
     ]
    },
    {
     "name": "stdout",
     "output_type": "stream",
     "text": [
      "494.9814344263423\n",
      "ICMR_1_1_1, Subject 165\n"
     ]
    },
    {
     "name": "stdout",
     "output_type": "stream",
     "text": [
      "630.2581934050619\n",
      "ICMR_1_1_1, Subject 166\n"
     ]
    },
    {
     "name": "stdout",
     "output_type": "stream",
     "text": [
      "393.39810999177206\n",
      "ICMR_1_1_1, Subject 167\n"
     ]
    },
    {
     "name": "stdout",
     "output_type": "stream",
     "text": [
      "735.7928870300304\n",
      "ICMR_1_1_1, Subject 168\n"
     ]
    },
    {
     "name": "stdout",
     "output_type": "stream",
     "text": [
      "343.2273479032214\n",
      "ICMR_1_1_1, Subject 169\n"
     ]
    },
    {
     "name": "stdout",
     "output_type": "stream",
     "text": [
      "507.8066535749187\n",
      "ICMR_1_1_1, Subject 170\n"
     ]
    },
    {
     "name": "stdout",
     "output_type": "stream",
     "text": [
      "243.14709682479662\n",
      "ICMR_1_1_1, Subject 171\n"
     ]
    },
    {
     "name": "stdout",
     "output_type": "stream",
     "text": [
      "380.5497556321135\n",
      "ICMR_1_1_1, Subject 172\n"
     ]
    },
    {
     "name": "stdout",
     "output_type": "stream",
     "text": [
      "475.9894096287778\n",
      "ICMR_1_1_1, Subject 173\n"
     ]
    },
    {
     "name": "stdout",
     "output_type": "stream",
     "text": [
      "206.4483383006344\n",
      "ICMR_1_1_1, Subject 174\n"
     ]
    },
    {
     "name": "stdout",
     "output_type": "stream",
     "text": [
      "628.1770318102859\n",
      "ICMR_1_1_1, Subject 175\n"
     ]
    },
    {
     "name": "stdout",
     "output_type": "stream",
     "text": [
      "562.3020915479767\n",
      "ICMR_1_1_1, Subject 176\n"
     ]
    },
    {
     "name": "stdout",
     "output_type": "stream",
     "text": [
      "416.0958805621389\n",
      "ICMR_1_1_1, Subject 177\n"
     ]
    },
    {
     "name": "stdout",
     "output_type": "stream",
     "text": [
      "449.29099613496\n",
      "ICMR_1_1_1, Subject 178\n"
     ]
    },
    {
     "name": "stdout",
     "output_type": "stream",
     "text": [
      "326.5179584759816\n",
      "ICMR_1_1_1, Subject 179\n"
     ]
    },
    {
     "name": "stdout",
     "output_type": "stream",
     "text": [
      "546.6541224536213\n",
      "ICMR_1_1_1, Subject 180\n"
     ]
    },
    {
     "name": "stdout",
     "output_type": "stream",
     "text": [
      "551.726762855905\n",
      "ICMR_1_1_1, Subject 300\n"
     ]
    },
    {
     "name": "stdout",
     "output_type": "stream",
     "text": [
      "521.1089512280329\n",
      "ICMR_1_1_1, Subject 301\n"
     ]
    },
    {
     "name": "stdout",
     "output_type": "stream",
     "text": [
      "386.4785799463022\n",
      "ICMR_1_1_1, Subject 302\n"
     ]
    },
    {
     "name": "stdout",
     "output_type": "stream",
     "text": [
      "521.5710273542196\n",
      "ICMR_1_1_1, Subject 311\n"
     ]
    },
    {
     "name": "stdout",
     "output_type": "stream",
     "text": [
      "569.9901176677047\n",
      "ICMR_1_1_1, Subject 312\n"
     ]
    },
    {
     "name": "stdout",
     "output_type": "stream",
     "text": [
      "519.9896796215426\n",
      "ICMR_1_1_1, Subject 313\n"
     ]
    },
    {
     "name": "stdout",
     "output_type": "stream",
     "text": [
      "704.2320421696344\n",
      "ICMR_1_1_1, Subject 314\n"
     ]
    },
    {
     "name": "stdout",
     "output_type": "stream",
     "text": [
      "601.5423759855272\n",
      "ICMR_1_1_1, Subject 315\n"
     ]
    },
    {
     "name": "stdout",
     "output_type": "stream",
     "text": [
      "647.6865063856377\n"
     ]
    }
   ],
   "source": [
    "# | code-summary: code -- 1) fit each model class participant-by-participant\n",
    "# | output: false\n",
    "\n",
    "for model_index, model_class in enumerate(models):\n",
    "\n",
    "    # load individual fits for this model and section tag from csv if they exist\n",
    "    if os.path.isfile(results_path + '{}_{}_individual.csv'.format(section_tag, model_names[model_index])):\n",
    "        pd.read_csv(results_path + '{}_{}_individual.csv'.format(section_tag, model_names[model_index]))\n",
    "        print('individual fits for {} with tag {} already exist'.format(model_names[model_index], section_tag))\n",
    "\n",
    "    # otherwise, fit each participant individually\n",
    "    else:\n",
    "        model_individual_fits = []\n",
    "\n",
    "        @njit(fastmath=True, nogil=True)\n",
    "        def init_model(item_count, presentation_count, parameters):\n",
    "            return model_class(item_count, presentation_count, parameters)\n",
    "\n",
    "        for subject in pd.unique(events.subject):\n",
    "            print(f'{model_names[model_index]}, Subject {subject}')\n",
    "\n",
    "            subject_specific_trial_mask = np.logical_and(\n",
    "                generate_trial_mask(events, f'subject == {subject}'), trial_mask)\n",
    "            \n",
    "            try:\n",
    "                # cost function to be minimized\n",
    "                # ours scales inversely with the probability that the data could have been\n",
    "                # generated using the specified parameters and our model\n",
    "                cost_function = generate_objective_function(\n",
    "                    [trials[i][subject_specific_trial_mask[i]] for i in range(len(trials))],\n",
    "                    [presentations[i][subject_specific_trial_mask[i]] for i in range(len(presentations))],\n",
    "                    list_lengths,\n",
    "                    init_model,\n",
    "                    fixed_parameters[model_index],\n",
    "                    free_parameters[model_index],\n",
    "                )\n",
    "            except ValueError:\n",
    "                continue\n",
    "\n",
    "            fit_result =  differential_evolution(cost_function, bounds[model_index], disp=False)\n",
    "\n",
    "            fitted_parameters = {\n",
    "                'subject': subject, 'trial_count': np.sum(subject_specific_trial_mask), \n",
    "                'likelihood': fit_result.fun, 'model': model_names[model_index]\n",
    "                }\n",
    "            for i in range(len(fit_result.x)):\n",
    "                fitted_parameters[free_parameters[model_index][i]] = fit_result.x[i]\n",
    "            for key in fixed_parameters[model_index]:\n",
    "                fitted_parameters[key] = fixed_parameters[model_index][key]\n",
    "\n",
    "            model_individual_fits.append(pd.DataFrame.from_dict(fitted_parameters, orient='index').T)\n",
    "            print(model_individual_fits[-1]['likelihood'][0])\n",
    "\n",
    "        model_individual_fits = pd.concat(model_individual_fits, ignore_index=True)\n",
    "        model_individual_fits.to_csv(\n",
    "            results_path + '{}_{}_individual.csv'.format(section_tag, model_names[model_index]), index=False)"
   ]
  },
  {
   "cell_type": "code",
   "execution_count": 5,
   "id": "13c559bc",
   "metadata": {
    "execution": {
     "iopub.execute_input": "2022-06-01T00:28:17.877592Z",
     "iopub.status.busy": "2022-06-01T00:28:17.877344Z",
     "iopub.status.idle": "2022-06-01T00:28:28.072354Z",
     "shell.execute_reply": "2022-06-01T00:28:28.071634Z"
    },
    "papermill": {
     "duration": 10.285609,
     "end_time": "2022-06-01T00:28:28.075651",
     "exception": false,
     "start_time": "2022-06-01T00:28:17.790042",
     "status": "completed"
    },
    "tags": []
   },
   "outputs": [
    {
     "data": {
      "text/plain": [
       "Text(7.694444444444452, 0.5, 'Individual Log-Likelihood')"
      ]
     },
     "execution_count": 5,
     "metadata": {},
     "output_type": "execute_result"
    },
    {
     "data": {
      "image/png": "[encoded data removed]",
      "text/plain": [
       "<Figure size 500x500 with 1 Axes>"
      ]
     },
     "metadata": {},
     "output_type": "display_data"
    }
   ],
   "source": [
    "#| code-summary: code -- 3) plot distribution of log-likelihoods across individual subjects\n",
    "\n",
    "plt.style.use('default')\n",
    "sns.set(style=\"darkgrid\")\n",
    "\n",
    "# build individual fits df concatenating results from each model\n",
    "individual_fits = []\n",
    "for model_index, model_class in enumerate(models):\n",
    "    individual_fits.append(\n",
    "        pd.read_csv(results_path + '{}_{}_individual.csv'.format(section_tag, model_names[model_index])))\n",
    "individual_fits = pd.concat(individual_fits, ignore_index=True)\n",
    "\n",
    "# plot distribution of log-likelihoods across individual subjects\n",
    "g = sns.catplot(x='model', y='likelihood', data=individual_fits, kind='violin', inner='stick')\n",
    "sns.swarmplot(x=\"model\", y=\"likelihood\", data=individual_fits, color=\"k\", size=3, ax=g.ax)\n",
    "g.ax.set_ylabel('Individual Log-Likelihood')\n",
    "#plt.savefig(results_path + 'individual_{}.pdf'.format(section_tag), bbox_inches=\"tight\")"
   ]
  },
  {
   "cell_type": "code",
   "execution_count": 6,
   "id": "b0c2cf17",
   "metadata": {
    "execution": {
     "iopub.execute_input": "2022-06-01T00:28:28.261050Z",
     "iopub.status.busy": "2022-06-01T00:28:28.260851Z",
     "iopub.status.idle": "2022-06-01T00:28:28.331675Z",
     "shell.execute_reply": "2022-06-01T00:28:28.330737Z"
    },
    "papermill": {
     "duration": 0.162508,
     "end_time": "2022-06-01T00:28:28.334751",
     "exception": false,
     "start_time": "2022-06-01T00:28:28.172243",
     "status": "completed"
    },
    "tags": []
   },
   "outputs": [
    {
     "data": {
      "text/html": [
       "<div>\n",
       "<style scoped>\n",
       "    .dataframe tbody tr th:only-of-type {\n",
       "        vertical-align: middle;\n",
       "    }\n",
       "\n",
       "    .dataframe tbody tr th {\n",
       "        vertical-align: top;\n",
       "    }\n",
       "\n",
       "    .dataframe thead th {\n",
       "        text-align: right;\n",
       "    }\n",
       "</style>\n",
       "<table border=\"1\" class=\"dataframe\">\n",
       "  <thead>\n",
       "    <tr style=\"text-align: right;\">\n",
       "      <th></th>\n",
       "      <th>subject</th>\n",
       "      <th>trial_count</th>\n",
       "      <th>likelihood</th>\n",
       "      <th>model</th>\n",
       "      <th>encoding_drift_rate</th>\n",
       "      <th>start_drift_rate</th>\n",
       "      <th>recall_drift_rate</th>\n",
       "      <th>shared_support</th>\n",
       "      <th>item_support</th>\n",
       "      <th>learning_rate</th>\n",
       "      <th>primacy_scale</th>\n",
       "      <th>primacy_decay</th>\n",
       "      <th>stop_probability_scale</th>\n",
       "      <th>stop_probability_growth</th>\n",
       "      <th>choice_sensitivity</th>\n",
       "      <th>delay_drift_rate</th>\n",
       "      <th>feature_sensitivity</th>\n",
       "      <th>context_sensitivity</th>\n",
       "      <th>learn_first</th>\n",
       "    </tr>\n",
       "  </thead>\n",
       "  <tbody>\n",
       "    <tr>\n",
       "      <th>0</th>\n",
       "      <td>118</td>\n",
       "      <td>15</td>\n",
       "      <td>408.493921</td>\n",
       "      <td>PrototypeCMR</td>\n",
       "      <td>0.773425</td>\n",
       "      <td>8.106380e-02</td>\n",
       "      <td>0.805708</td>\n",
       "      <td>0.566366</td>\n",
       "      <td>0.394933</td>\n",
       "      <td>0.048660</td>\n",
       "      <td>75.452367</td>\n",
       "      <td>76.360527</td>\n",
       "      <td>0.014882</td>\n",
       "      <td>0.323659</td>\n",
       "      <td>1.543029</td>\n",
       "      <td>8.714132e-01</td>\n",
       "      <td>NaN</td>\n",
       "      <td>NaN</td>\n",
       "      <td>NaN</td>\n",
       "    </tr>\n",
       "    <tr>\n",
       "      <th>1</th>\n",
       "      <td>119</td>\n",
       "      <td>15</td>\n",
       "      <td>420.397833</td>\n",
       "      <td>PrototypeCMR</td>\n",
       "      <td>0.798094</td>\n",
       "      <td>2.344377e-01</td>\n",
       "      <td>0.955422</td>\n",
       "      <td>0.153314</td>\n",
       "      <td>0.385658</td>\n",
       "      <td>0.064229</td>\n",
       "      <td>39.263185</td>\n",
       "      <td>65.392654</td>\n",
       "      <td>0.017354</td>\n",
       "      <td>0.285520</td>\n",
       "      <td>0.827222</td>\n",
       "      <td>2.220446e-16</td>\n",
       "      <td>NaN</td>\n",
       "      <td>NaN</td>\n",
       "      <td>NaN</td>\n",
       "    </tr>\n",
       "    <tr>\n",
       "      <th>2</th>\n",
       "      <td>123</td>\n",
       "      <td>15</td>\n",
       "      <td>527.199311</td>\n",
       "      <td>PrototypeCMR</td>\n",
       "      <td>0.705324</td>\n",
       "      <td>9.613934e-01</td>\n",
       "      <td>0.816350</td>\n",
       "      <td>1.000000</td>\n",
       "      <td>0.681998</td>\n",
       "      <td>0.206179</td>\n",
       "      <td>0.737829</td>\n",
       "      <td>23.919264</td>\n",
       "      <td>0.005889</td>\n",
       "      <td>0.284650</td>\n",
       "      <td>4.387943</td>\n",
       "      <td>1.892864e-01</td>\n",
       "      <td>NaN</td>\n",
       "      <td>NaN</td>\n",
       "      <td>NaN</td>\n",
       "    </tr>\n",
       "    <tr>\n",
       "      <th>3</th>\n",
       "      <td>124</td>\n",
       "      <td>15</td>\n",
       "      <td>552.951141</td>\n",
       "      <td>PrototypeCMR</td>\n",
       "      <td>0.766899</td>\n",
       "      <td>6.080748e-01</td>\n",
       "      <td>0.942632</td>\n",
       "      <td>1.000000</td>\n",
       "      <td>0.007085</td>\n",
       "      <td>0.042572</td>\n",
       "      <td>3.122382</td>\n",
       "      <td>0.214323</td>\n",
       "      <td>0.006488</td>\n",
       "      <td>0.225401</td>\n",
       "      <td>4.121580</td>\n",
       "      <td>2.220446e-16</td>\n",
       "      <td>NaN</td>\n",
       "      <td>NaN</td>\n",
       "      <td>NaN</td>\n",
       "    </tr>\n",
       "    <tr>\n",
       "      <th>4</th>\n",
       "      <td>125</td>\n",
       "      <td>15</td>\n",
       "      <td>637.687439</td>\n",
       "      <td>PrototypeCMR</td>\n",
       "      <td>0.692597</td>\n",
       "      <td>9.757265e-01</td>\n",
       "      <td>0.825899</td>\n",
       "      <td>0.236578</td>\n",
       "      <td>0.268286</td>\n",
       "      <td>0.106166</td>\n",
       "      <td>0.196345</td>\n",
       "      <td>43.469070</td>\n",
       "      <td>0.000109</td>\n",
       "      <td>0.298663</td>\n",
       "      <td>3.393420</td>\n",
       "      <td>9.975219e-01</td>\n",
       "      <td>NaN</td>\n",
       "      <td>NaN</td>\n",
       "      <td>NaN</td>\n",
       "    </tr>\n",
       "    <tr>\n",
       "      <th>...</th>\n",
       "      <td>...</td>\n",
       "      <td>...</td>\n",
       "      <td>...</td>\n",
       "      <td>...</td>\n",
       "      <td>...</td>\n",
       "      <td>...</td>\n",
       "      <td>...</td>\n",
       "      <td>...</td>\n",
       "      <td>...</td>\n",
       "      <td>...</td>\n",
       "      <td>...</td>\n",
       "      <td>...</td>\n",
       "      <td>...</td>\n",
       "      <td>...</td>\n",
       "      <td>...</td>\n",
       "      <td>...</td>\n",
       "      <td>...</td>\n",
       "      <td>...</td>\n",
       "      <td>...</td>\n",
       "    </tr>\n",
       "    <tr>\n",
       "      <th>325</th>\n",
       "      <td>311</td>\n",
       "      <td>15</td>\n",
       "      <td>569.990118</td>\n",
       "      <td>ICMR_1_1_1</td>\n",
       "      <td>0.565905</td>\n",
       "      <td>7.236263e-02</td>\n",
       "      <td>0.922485</td>\n",
       "      <td>0.019091</td>\n",
       "      <td>1.000000</td>\n",
       "      <td>0.123508</td>\n",
       "      <td>81.093668</td>\n",
       "      <td>9.477865</td>\n",
       "      <td>0.002380</td>\n",
       "      <td>0.352798</td>\n",
       "      <td>1.000000</td>\n",
       "      <td>2.220446e-16</td>\n",
       "      <td>1.0</td>\n",
       "      <td>2.082684</td>\n",
       "      <td>True</td>\n",
       "    </tr>\n",
       "    <tr>\n",
       "      <th>326</th>\n",
       "      <td>312</td>\n",
       "      <td>15</td>\n",
       "      <td>519.989680</td>\n",
       "      <td>ICMR_1_1_1</td>\n",
       "      <td>0.777734</td>\n",
       "      <td>2.327604e-02</td>\n",
       "      <td>0.697959</td>\n",
       "      <td>0.013323</td>\n",
       "      <td>0.873893</td>\n",
       "      <td>0.268165</td>\n",
       "      <td>91.625399</td>\n",
       "      <td>49.267530</td>\n",
       "      <td>0.003844</td>\n",
       "      <td>0.341857</td>\n",
       "      <td>1.000000</td>\n",
       "      <td>3.296486e-10</td>\n",
       "      <td>1.0</td>\n",
       "      <td>2.067349</td>\n",
       "      <td>True</td>\n",
       "    </tr>\n",
       "    <tr>\n",
       "      <th>327</th>\n",
       "      <td>313</td>\n",
       "      <td>15</td>\n",
       "      <td>704.232042</td>\n",
       "      <td>ICMR_1_1_1</td>\n",
       "      <td>0.781095</td>\n",
       "      <td>2.220446e-16</td>\n",
       "      <td>0.772700</td>\n",
       "      <td>0.017398</td>\n",
       "      <td>1.000000</td>\n",
       "      <td>0.273942</td>\n",
       "      <td>82.205408</td>\n",
       "      <td>7.141106</td>\n",
       "      <td>0.001846</td>\n",
       "      <td>0.283374</td>\n",
       "      <td>1.000000</td>\n",
       "      <td>2.220446e-16</td>\n",
       "      <td>1.0</td>\n",
       "      <td>2.071669</td>\n",
       "      <td>True</td>\n",
       "    </tr>\n",
       "    <tr>\n",
       "      <th>328</th>\n",
       "      <td>314</td>\n",
       "      <td>15</td>\n",
       "      <td>601.542376</td>\n",
       "      <td>ICMR_1_1_1</td>\n",
       "      <td>0.738305</td>\n",
       "      <td>2.220446e-16</td>\n",
       "      <td>0.870883</td>\n",
       "      <td>0.005121</td>\n",
       "      <td>0.689808</td>\n",
       "      <td>0.183095</td>\n",
       "      <td>21.364271</td>\n",
       "      <td>60.562895</td>\n",
       "      <td>0.001220</td>\n",
       "      <td>0.372721</td>\n",
       "      <td>1.000000</td>\n",
       "      <td>4.140668e-01</td>\n",
       "      <td>1.0</td>\n",
       "      <td>1.383889</td>\n",
       "      <td>True</td>\n",
       "    </tr>\n",
       "    <tr>\n",
       "      <th>329</th>\n",
       "      <td>315</td>\n",
       "      <td>15</td>\n",
       "      <td>647.686506</td>\n",
       "      <td>ICMR_1_1_1</td>\n",
       "      <td>0.790593</td>\n",
       "      <td>2.220446e-16</td>\n",
       "      <td>0.626813</td>\n",
       "      <td>0.016772</td>\n",
       "      <td>0.898883</td>\n",
       "      <td>0.584329</td>\n",
       "      <td>74.541120</td>\n",
       "      <td>45.803421</td>\n",
       "      <td>0.004012</td>\n",
       "      <td>0.239121</td>\n",
       "      <td>1.000000</td>\n",
       "      <td>8.979923e-01</td>\n",
       "      <td>1.0</td>\n",
       "      <td>3.058418</td>\n",
       "      <td>True</td>\n",
       "    </tr>\n",
       "  </tbody>\n",
       "</table>\n",
       "<p>330 rows × 19 columns</p>\n",
       "</div>"
      ],
      "text/plain": [
       "     subject  trial_count  likelihood         model  encoding_drift_rate  \\\n",
       "0        118           15  408.493921  PrototypeCMR             0.773425   \n",
       "1        119           15  420.397833  PrototypeCMR             0.798094   \n",
       "2        123           15  527.199311  PrototypeCMR             0.705324   \n",
       "3        124           15  552.951141  PrototypeCMR             0.766899   \n",
       "4        125           15  637.687439  PrototypeCMR             0.692597   \n",
       "..       ...          ...         ...           ...                  ...   \n",
       "325      311           15  569.990118    ICMR_1_1_1             0.565905   \n",
       "326      312           15  519.989680    ICMR_1_1_1             0.777734   \n",
       "327      313           15  704.232042    ICMR_1_1_1             0.781095   \n",
       "328      314           15  601.542376    ICMR_1_1_1             0.738305   \n",
       "329      315           15  647.686506    ICMR_1_1_1             0.790593   \n",
       "\n",
       "     start_drift_rate  recall_drift_rate  shared_support  item_support  \\\n",
       "0        8.106380e-02           0.805708        0.566366      0.394933   \n",
       "1        2.344377e-01           0.955422        0.153314      0.385658   \n",
       "2        9.613934e-01           0.816350        1.000000      0.681998   \n",
       "3        6.080748e-01           0.942632        1.000000      0.007085   \n",
       "4        9.757265e-01           0.825899        0.236578      0.268286   \n",
       "..                ...                ...             ...           ...   \n",
       "325      7.236263e-02           0.922485        0.019091      1.000000   \n",
       "326      2.327604e-02           0.697959        0.013323      0.873893   \n",
       "327      2.220446e-16           0.772700        0.017398      1.000000   \n",
       "328      2.220446e-16           0.870883        0.005121      0.689808   \n",
       "329      2.220446e-16           0.626813        0.016772      0.898883   \n",
       "\n",
       "     learning_rate  primacy_scale  primacy_decay  stop_probability_scale  \\\n",
       "0         0.048660      75.452367      76.360527                0.014882   \n",
       "1         0.064229      39.263185      65.392654                0.017354   \n",
       "2         0.206179       0.737829      23.919264                0.005889   \n",
       "3         0.042572       3.122382       0.214323                0.006488   \n",
       "4         0.106166       0.196345      43.469070                0.000109   \n",
       "..             ...            ...            ...                     ...   \n",
       "325       0.123508      81.093668       9.477865                0.002380   \n",
       "326       0.268165      91.625399      49.267530                0.003844   \n",
       "327       0.273942      82.205408       7.141106                0.001846   \n",
       "328       0.183095      21.364271      60.562895                0.001220   \n",
       "329       0.584329      74.541120      45.803421                0.004012   \n",
       "\n",
       "     stop_probability_growth  choice_sensitivity  delay_drift_rate  \\\n",
       "0                   0.323659            1.543029      8.714132e-01   \n",
       "1                   0.285520            0.827222      2.220446e-16   \n",
       "2                   0.284650            4.387943      1.892864e-01   \n",
       "3                   0.225401            4.121580      2.220446e-16   \n",
       "4                   0.298663            3.393420      9.975219e-01   \n",
       "..                       ...                 ...               ...   \n",
       "325                 0.352798            1.000000      2.220446e-16   \n",
       "326                 0.341857            1.000000      3.296486e-10   \n",
       "327                 0.283374            1.000000      2.220446e-16   \n",
       "328                 0.372721            1.000000      4.140668e-01   \n",
       "329                 0.239121            1.000000      8.979923e-01   \n",
       "\n",
       "     feature_sensitivity  context_sensitivity learn_first  \n",
       "0                    NaN                  NaN         NaN  \n",
       "1                    NaN                  NaN         NaN  \n",
       "2                    NaN                  NaN         NaN  \n",
       "3                    NaN                  NaN         NaN  \n",
       "4                    NaN                  NaN         NaN  \n",
       "..                   ...                  ...         ...  \n",
       "325                  1.0             2.082684        True  \n",
       "326                  1.0             2.067349        True  \n",
       "327                  1.0             2.071669        True  \n",
       "328                  1.0             1.383889        True  \n",
       "329                  1.0             3.058418        True  \n",
       "\n",
       "[330 rows x 19 columns]"
      ]
     },
     "execution_count": 6,
     "metadata": {},
     "output_type": "execute_result"
    }
   ],
   "source": [
    "individual_fits"
   ]
  },
  {
   "cell_type": "code",
   "execution_count": 7,
   "id": "be8cc48f",
   "metadata": {
    "execution": {
     "iopub.execute_input": "2022-06-01T00:28:28.599792Z",
     "iopub.status.busy": "2022-06-01T00:28:28.599189Z",
     "iopub.status.idle": "2022-06-01T00:28:28.669940Z",
     "shell.execute_reply": "2022-06-01T00:28:28.668524Z"
    },
    "papermill": {
     "duration": 0.192515,
     "end_time": "2022-06-01T00:28:28.673354",
     "exception": false,
     "start_time": "2022-06-01T00:28:28.480839",
     "status": "completed"
    },
    "tags": []
   },
   "outputs": [
    {
     "name": "stdout",
     "output_type": "stream",
     "text": [
      "::: {#fig-HowardKahana2005fits layout-nrow=2 layout-valign=\"center\"}\n",
      "\n",
      "![](results/individual_HowardKahana2005.pdf)\n",
      "\n",
      "|       |   ICMR_1_0_0 |   ICMR_1_0_1 |   ICMR_1_1_0 |   ICMR_1_1_1 |   PrototypeCMR |\n",
      "|:------|-------------:|-------------:|-------------:|-------------:|---------------:|\n",
      "| count |       66     |       66     |       66     |       66     |         66     |\n",
      "| mean  |      473.98  |      472.681 |      473.777 |      474.195 |        472.476 |\n",
      "| std   |      135.108 |      135.354 |      135.545 |      135.777 |        134.402 |\n",
      "| min   |      206.649 |      206.683 |      206.872 |      206.448 |        206.793 |\n",
      "| 25%   |      381.009 |      381.067 |      386.184 |      382.032 |        382.277 |\n",
      "| 50%   |      464.548 |      462.449 |      460.827 |      463.044 |        462.714 |\n",
      "| 75%   |      554.704 |      553.211 |      558.707 |      555.361 |        553.34  |\n",
      "| max   |      809.889 |      809.81  |      809.451 |      816.607 |        809.442 |\n",
      "\n",
      "Distribution of log-likelihood scores of recall sequences exhibited by each subject in dataset under each considered model.\n",
      ":::\n"
     ]
    }
   ],
   "source": [
    "#| code-summary: display markdown rendering of summary table\n",
    "#| echo: false\n",
    "#| input: false\n",
    "#| output: asis\n",
    "\n",
    "summary_table = pd.DataFrame(group.describe().rename(columns={'likelihood':name}).squeeze()\n",
    "            for name, group in individual_fits[['model', 'likelihood']].groupby('model')).T.to_markdown()\n",
    "\n",
    "print(\"\"\"::: {{#fig-{section_tag}fits layout-nrow=2 layout-valign=\"center\"}}\n",
    "\n",
    "![]({results_path}individual_{section_tag}.pdf)\n",
    "\n",
    "{summary_table}\n",
    "\n",
    "{individual_fits_caption}\n",
    ":::\"\"\".format(section_tag=section_tag, summary_table=summary_table, individual_fits_caption=figure_caption, results_path=results_path))"
   ]
  },
  {
   "cell_type": "code",
   "execution_count": 8,
   "id": "e8a887bf",
   "metadata": {
    "execution": {
     "iopub.execute_input": "2022-06-01T00:28:28.943088Z",
     "iopub.status.busy": "2022-06-01T00:28:28.942394Z",
     "iopub.status.idle": "2022-06-01T00:28:30.697243Z",
     "shell.execute_reply": "2022-06-01T00:28:30.696285Z"
    },
    "papermill": {
     "duration": 1.876304,
     "end_time": "2022-06-01T00:28:30.700398",
     "exception": false,
     "start_time": "2022-06-01T00:28:28.824094",
     "status": "completed"
    },
    "tags": []
   },
   "outputs": [
    {
     "name": "stdout",
     "output_type": "stream",
     "text": [
      "('PrototypeCMR', 'ICMR_1_0_0')\n",
      "Ttest_relResult(statistic=-2.3980133189181423, pvalue=0.01936500843071457)\n",
      "Ttest_relResult(statistic=-2.3980133189181423, pvalue=0.009682504215357286)\n",
      "Ttest_relResult(statistic=-2.3980133189181423, pvalue=0.9903174957846427)\n",
      "\n",
      "('PrototypeCMR', 'ICMR_1_0_1')\n",
      "Ttest_relResult(statistic=-0.4310974597391962, pvalue=0.6678238534941106)\n",
      "Ttest_relResult(statistic=-0.4310974597391962, pvalue=0.3339119267470553)\n",
      "Ttest_relResult(statistic=-0.4310974597391962, pvalue=0.6660880732529448)\n",
      "\n",
      "('PrototypeCMR', 'ICMR_1_1_0')\n",
      "Ttest_relResult(statistic=-1.201483216757468, pvalue=0.23392332608942898)\n",
      "Ttest_relResult(statistic=-1.201483216757468, pvalue=0.11696166304471449)\n",
      "Ttest_relResult(statistic=-1.201483216757468, pvalue=0.8830383369552854)\n",
      "\n",
      "('PrototypeCMR', 'ICMR_1_1_1')\n",
      "Ttest_relResult(statistic=-3.34891178932391, pvalue=0.001353521346330422)\n",
      "Ttest_relResult(statistic=-3.34891178932391, pvalue=0.000676760673165211)\n",
      "Ttest_relResult(statistic=-3.34891178932391, pvalue=0.9993232393268348)\n",
      "\n",
      "('ICMR_1_0_0', 'ICMR_1_0_1')\n",
      "Ttest_relResult(statistic=1.8889913833240435, pvalue=0.06335560771460044)\n",
      "Ttest_relResult(statistic=1.8889913833240435, pvalue=0.9683221961426998)\n",
      "Ttest_relResult(statistic=1.8889913833240435, pvalue=0.03167780385730022)\n",
      "\n",
      "('ICMR_1_0_0', 'ICMR_1_1_0')\n",
      "Ttest_relResult(statistic=0.16942288037670913, pvalue=0.8659901993972676)\n",
      "Ttest_relResult(statistic=0.16942288037670913, pvalue=0.5670049003013662)\n",
      "Ttest_relResult(statistic=0.16942288037670913, pvalue=0.4329950996986338)\n",
      "\n",
      "('ICMR_1_0_0', 'ICMR_1_1_1')\n",
      "Ttest_relResult(statistic=-0.2974137128669918, pvalue=0.7670991393054908)\n",
      "Ttest_relResult(statistic=-0.2974137128669918, pvalue=0.3835495696527454)\n",
      "Ttest_relResult(statistic=-0.2974137128669918, pvalue=0.6164504303472546)\n",
      "\n",
      "('ICMR_1_0_1', 'ICMR_1_1_0')\n",
      "Ttest_relResult(statistic=-1.0686424619686785, pvalue=0.28918348988128606)\n",
      "Ttest_relResult(statistic=-1.0686424619686785, pvalue=0.14459174494064303)\n",
      "Ttest_relResult(statistic=-1.0686424619686785, pvalue=0.8554082550593569)\n",
      "\n",
      "('ICMR_1_0_1', 'ICMR_1_1_1')\n",
      "Ttest_relResult(statistic=-3.4937782130549446, pvalue=0.0008624527788879817)\n",
      "Ttest_relResult(statistic=-3.4937782130549446, pvalue=0.00043122638944399083)\n",
      "Ttest_relResult(statistic=-3.4937782130549446, pvalue=0.9995687736105561)\n",
      "\n",
      "('ICMR_1_1_0', 'ICMR_1_1_1')\n",
      "Ttest_relResult(statistic=-0.38969807915538207, pvalue=0.6980337869684298)\n",
      "Ttest_relResult(statistic=-0.38969807915538207, pvalue=0.3490168934842149)\n",
      "Ttest_relResult(statistic=-0.38969807915538207, pvalue=0.6509831065157852)\n",
      "\n"
     ]
    }
   ],
   "source": [
    "#| code-summary: perform t-tests on individual-level fits\n",
    "#| output: false\n",
    " \n",
    "from scipy.stats import ttest_rel\n",
    "import itertools\n",
    "\n",
    "for combination in itertools.combinations(pd.unique(individual_fits.model), 2):\n",
    "\n",
    "    print(combination)\n",
    "    print(ttest_rel(individual_fits[individual_fits.model == combination[0]].likelihood, individual_fits[individual_fits.model == combination[1]].likelihood, alternative='two-sided'))\n",
    "    print(ttest_rel(individual_fits[individual_fits.model == combination[0]].likelihood, individual_fits[individual_fits.model == combination[1]].likelihood, alternative='less'))\n",
    "    print(ttest_rel(individual_fits[individual_fits.model == combination[0]].likelihood, individual_fits[individual_fits.model == combination[1]].likelihood, alternative='greater'))\n",
    "    print()"
   ]
  },
  {
   "cell_type": "code",
   "execution_count": 9,
   "id": "a9eff3e3",
   "metadata": {
    "execution": {
     "iopub.execute_input": "2022-06-01T00:28:30.960680Z",
     "iopub.status.busy": "2022-06-01T00:28:30.960086Z",
     "iopub.status.idle": "2022-06-01T00:28:31.034111Z",
     "shell.execute_reply": "2022-06-01T00:28:31.033383Z"
    },
    "papermill": {
     "duration": 0.193516,
     "end_time": "2022-06-01T00:28:31.035935",
     "exception": false,
     "start_time": "2022-06-01T00:28:30.842419",
     "status": "completed"
    },
    "tags": []
   },
   "outputs": [
    {
     "name": "stdout",
     "output_type": "stream",
     "text": [
      "('PrototypeCMR', 'ICMR_1_0_0')\n",
      "0.6060606060606061 0.3939393939393939\n",
      "40 26\n",
      "\n",
      "('PrototypeCMR', 'ICMR_1_0_1')\n",
      "0.48484848484848486 0.5151515151515151\n",
      "32 34\n",
      "\n",
      "('PrototypeCMR', 'ICMR_1_1_0')\n",
      "0.6515151515151515 0.3484848484848485\n",
      "43 23\n",
      "\n",
      "('PrototypeCMR', 'ICMR_1_1_1')\n",
      "0.6515151515151515 0.3484848484848485\n",
      "43 23\n",
      "\n",
      "('ICMR_1_0_0', 'ICMR_1_0_1')\n",
      "0.42424242424242425 0.5757575757575758\n",
      "28 38\n",
      "\n",
      "('ICMR_1_0_0', 'ICMR_1_1_0')\n",
      "0.45454545454545453 0.5454545454545454\n",
      "30 36\n",
      "\n",
      "('ICMR_1_0_0', 'ICMR_1_1_1')\n",
      "0.6515151515151515 0.3484848484848485\n",
      "43 23\n",
      "\n",
      "('ICMR_1_0_1', 'ICMR_1_1_0')\n",
      "0.5909090909090909 0.4090909090909091\n",
      "39 27\n",
      "\n",
      "('ICMR_1_0_1', 'ICMR_1_1_1')\n",
      "0.7121212121212122 0.2878787878787879\n",
      "47 19\n",
      "\n",
      "('ICMR_1_1_0', 'ICMR_1_1_1')\n",
      "0.6212121212121212 0.3787878787878788\n",
      "41 25\n",
      "\n"
     ]
    }
   ],
   "source": [
    "for combination in itertools.combinations(pd.unique(individual_fits.model), 2):\n",
    "\n",
    "    print(combination)\n",
    "    print(np.mean(individual_fits[individual_fits.model == combination[0]].likelihood.values < individual_fits[individual_fits.model == combination[1]].likelihood.values), \n",
    "        np.mean(individual_fits[individual_fits.model == combination[1]].likelihood.values < individual_fits[individual_fits.model == combination[0]].likelihood.values))\n",
    "\n",
    "    print(np.sum(individual_fits[individual_fits.model == combination[0]].likelihood.values < individual_fits[individual_fits.model == combination[1]].likelihood.values), \n",
    "        np.sum(individual_fits[individual_fits.model == combination[1]].likelihood.values < individual_fits[individual_fits.model == combination[0]].likelihood.values))\n",
    "\n",
    "    print()"
   ]
  },
  {
   "cell_type": "code",
   "execution_count": 10,
   "id": "31f82c5b",
   "metadata": {
    "execution": {
     "iopub.execute_input": "2022-06-01T00:28:31.274926Z",
     "iopub.status.busy": "2022-06-01T00:28:31.274048Z",
     "iopub.status.idle": "2022-06-01T00:28:32.317179Z",
     "shell.execute_reply": "2022-06-01T00:28:32.316302Z"
    },
    "papermill": {
     "duration": 1.164271,
     "end_time": "2022-06-01T00:28:32.320029",
     "exception": false,
     "start_time": "2022-06-01T00:28:31.155758",
     "status": "completed"
    },
    "tags": []
   },
   "outputs": [
    {
     "name": "stdout",
     "output_type": "stream",
     "text": [
      "[9.99998723e-01 7.48819771e-44 1.27728992e-06 5.17209465e-38\n",
      " 5.28980378e-50]\n"
     ]
    }
   ],
   "source": [
    "def model_weights(positive_log_likelihoods, number_parameters, N):\n",
    "    AIC = 2 * positive_log_likelihoods + 2 * number_parameters\n",
    "    AICc = AIC #+ (2*np.power(number_parameters, 2) + 2 * number_parameters) / (N - number_parameters - 2)\n",
    "    AICd = AIC - np.min(AICc)\n",
    "    #return AICd\n",
    "    AICw = np.exp(-.5 * AICd) / np.sum(np.exp(-.5 * AICd))\n",
    "    return AICw\n",
    "\n",
    "aicw = {'Model': [], 'Subject': [], 'AICw': []}\n",
    "\n",
    "total_nlns = np.zeros(len(models))\n",
    "for subject_index, subject in enumerate(pd.unique(events.subject)):\n",
    "\n",
    "    subject_specific_trial_mask = np.logical_and(\n",
    "                    generate_trial_mask(events, f'subject == {subject}'), trial_mask)\n",
    "\n",
    "    nlnLs = []\n",
    "    for model_index, model_class in enumerate(models):\n",
    "        nlnLs.append(\n",
    "            individual_fits[individual_fits.model == model_names[model_index]].likelihood.values[subject_index])\n",
    "    nlnLs = np.array(nlnLs)\n",
    "    total_nlns += nlnLs\n",
    "    \n",
    "    weights = model_weights(nlnLs, len(free_parameters[model_index]), np.sum(subject_specific_trial_mask))\n",
    "    #print(weights)\n",
    "    for model_index, model_class in enumerate(models):\n",
    "        aicw['Model'].append(model_names[model_index])\n",
    "        aicw['Subject'].append(subject)\n",
    "        aicw['AICw'].append(weights[model_index])\n",
    "\n",
    "aicw = pd.DataFrame(data=aicw)\n",
    "total_aicw = model_weights(total_nlns, len(free_parameters[model_index]), np.sum(trial_mask))\n",
    "print(total_aicw)"
   ]
  },
  {
   "cell_type": "code",
   "execution_count": 11,
   "id": "bd5c60f3",
   "metadata": {
    "execution": {
     "iopub.execute_input": "2022-06-01T00:28:32.557977Z",
     "iopub.status.busy": "2022-06-01T00:28:32.557573Z",
     "iopub.status.idle": "2022-06-01T00:28:32.933144Z",
     "shell.execute_reply": "2022-06-01T00:28:32.931995Z"
    },
    "papermill": {
     "duration": 0.522385,
     "end_time": "2022-06-01T00:28:32.936701",
     "exception": false,
     "start_time": "2022-06-01T00:28:32.414316",
     "status": "completed"
    },
    "tags": []
   },
   "outputs": [
    {
     "data": {
      "image/png": "[encoded data removed]",
      "text/plain": [
       "<Figure size 640x480 with 1 Axes>"
      ]
     },
     "metadata": {},
     "output_type": "display_data"
    }
   ],
   "source": [
    "import seaborn as sns\n",
    "sns.set_theme(style=\"darkgrid\")\n",
    "x = sns.pointplot(x=\"Model\", y=\"AICw\", data=aicw, join=False)\n",
    "\n",
    "plt.show()"
   ]
  },
  {
   "cell_type": "markdown",
   "id": "43011e6c",
   "metadata": {
    "tags": [
     "papermill-error-cell-tag"
    ]
   },
   "source": [
    "<span id=\"papermill-error-cell\" style=\"color:red; font-family:Helvetica Neue, Helvetica, Arial, sans-serif; font-size:2em;\">Execution using papermill encountered an exception here and stopped:</span>"
   ]
  },
  {
   "cell_type": "code",
   "execution_count": 12,
   "id": "8b8dcaeb",
   "metadata": {
    "execution": {
     "iopub.execute_input": "2022-06-01T00:28:33.167525Z",
     "iopub.status.busy": "2022-06-01T00:28:33.166915Z",
     "iopub.status.idle": "2022-06-01T00:28:34.568958Z",
     "shell.execute_reply": "2022-06-01T00:28:34.566427Z"
    },
    "papermill": {
     "duration": 1.50095,
     "end_time": "2022-06-01T00:28:34.572422",
     "exception": true,
     "start_time": "2022-06-01T00:28:33.071472",
     "status": "failed"
    },
    "tags": []
   },
   "outputs": [
    {
     "ename": "NameError",
     "evalue": "name 'simulate_df_from_events' is not defined",
     "output_type": "error",
     "traceback": [
      "\u001b[0;31m---------------------------------------------------------------------------\u001b[0m",
      "\u001b[0;31mNameError\u001b[0m                                 Traceback (most recent call last)",
      "Input \u001b[0;32mIn [12]\u001b[0m, in \u001b[0;36m<cell line: 7>\u001b[0;34m()\u001b[0m\n\u001b[1;32m     36\u001b[0m     fitted_parameters[key] \u001b[38;5;241m=\u001b[39m fixed_parameters[model_index][key]\n\u001b[1;32m     38\u001b[0m \u001b[38;5;66;03m# simulate df based on specified trial_count and experiment_count\u001b[39;00m\n\u001b[1;32m     39\u001b[0m \u001b[38;5;66;03m#model = model_class(list_length, list_length, fitted_parameters)\u001b[39;00m\n\u001b[0;32m---> 40\u001b[0m sim_dfs\u001b[38;5;241m.\u001b[39mappend(\u001b[43msimulate_df_from_events\u001b[49m(model, fit_result[\u001b[38;5;124m'\u001b[39m\u001b[38;5;124mtrial_count\u001b[39m\u001b[38;5;124m'\u001b[39m]\u001b[38;5;241m.\u001b[39mvalues[\u001b[38;5;241m0\u001b[39m] \u001b[38;5;241m*\u001b[39m experiment_count))\n\u001b[1;32m     41\u001b[0m sim_dfs[\u001b[38;5;241m-\u001b[39m\u001b[38;5;241m1\u001b[39m]\u001b[38;5;241m.\u001b[39mlist \u001b[38;5;241m=\u001b[39m sim_dfs[\u001b[38;5;241m-\u001b[39m\u001b[38;5;241m1\u001b[39m]\u001b[38;5;241m.\u001b[39msubject\n\u001b[1;32m     42\u001b[0m sim_dfs[\u001b[38;5;241m-\u001b[39m\u001b[38;5;241m1\u001b[39m]\u001b[38;5;241m.\u001b[39msubject \u001b[38;5;241m=\u001b[39m subject\n",
      "\u001b[0;31mNameError\u001b[0m: name 'simulate_df_from_events' is not defined"
     ]
    }
   ],
   "source": [
    "sns.set(style='darkgrid')\n",
    "\n",
    "# for each unique list length\n",
    "if not (isinstance(list_lengths, list) or isinstance(list_lengths, List)): \n",
    "    list_lengths = [list_lengths]\n",
    "\n",
    "for list_length in list_lengths:\n",
    "\n",
    "    #fig, axes = plt.subplots(nrows=len(models), ncols=3, figsize=(15, int(4*len(models))), sharey=False)\n",
    "    \n",
    "    # for each unique model\n",
    "    for model_index, model_class in enumerate(models):\n",
    "\n",
    "        # load sim_df from csv if it exists\n",
    "        sim_df_path = results_path + '{}_{}_ll{}_sim_df.csv'.format(section_tag, model_names[model_index], list_length)\n",
    "        if os.path.isfile(sim_df_path):\n",
    "            sim_df = pd.read_csv(sim_df_path)\n",
    "            print('sim_df for {} with tag {} and list length {} already exists'.format(model_names[model_index], section_tag, list_length))\n",
    "\n",
    "        # otherwise, generate it\n",
    "        else:\n",
    "\n",
    "            # for each unique matching entry in individual df\n",
    "            sim_dfs = []\n",
    "            for subject in pd.unique(individual_fits.subject):\n",
    "                \n",
    "                fit_result = individual_fits.query(f'subject == {subject} & model == \"{model_names[model_index]}\"')\n",
    "\n",
    "                # configure model based on specified parameters\n",
    "                fitted_parameters = Dict.empty(\n",
    "                    key_type=types.unicode_type, value_type=types.float64\n",
    "                )\n",
    "                for i in range(len(free_parameters[model_index])):\n",
    "                    fitted_parameters[free_parameters[model_index][i]] = fit_result[free_parameters[model_index][i]].values[0]\n",
    "                for key in fixed_parameters[model_index]:\n",
    "                    fitted_parameters[key] = fixed_parameters[model_index][key]\n",
    "\n",
    "                # simulate df based on specified trial_count and experiment_count\n",
    "                #model = model_class(list_length, list_length, fitted_parameters)\n",
    "                sim_dfs.append(simulate_df_from_events(model, fit_result['trial_count'].values[0] * experiment_count))\n",
    "                sim_dfs[-1].list = sim_dfs[-1].subject\n",
    "                sim_dfs[-1].subject = subject\n",
    "\n",
    "            # concatenate simulations into one dataframe\n",
    "            sim_df = pd.concat(sim_dfs)\n",
    "\n",
    "            # save sim_df to csv\n",
    "            sim_df.to_csv(results_path +'{}_{}_ll{}_sim_df.csv'.format(section_tag, model_names[model_index], list_length), index=False)\n",
    "\n",
    "        # design general filter for analysis df\n",
    "        if len(list_lengths) > 1:\n",
    "            analysis_query = trial_query + f' & list_length == {list_length}'\n",
    "        else:\n",
    "            analysis_query = trial_query\n",
    "\n",
    "        # generate plot for each parametrized analysis and model\n",
    "        for analysis_index, analysis_function in enumerate(analyses):\n",
    "            analysis_name = analysis_names[analysis_index]\n",
    "            axis = analysis_function(\n",
    "                [events, sim_df], analysis_query, contrast_name=\"source\", labels=[\"data\", model_names[model_index]])\n",
    "            plt.savefig(results_path+'{}_{}_ll{}_{}.pdf'.format(section_tag, model_names[model_index], list_length, analysis_name), bbox_inches=\"tight\")"
   ]
  },
  {
   "cell_type": "code",
   "execution_count": null,
   "id": "47712763",
   "metadata": {
    "papermill": {
     "duration": null,
     "end_time": null,
     "exception": null,
     "start_time": null,
     "status": "pending"
    },
    "tags": []
   },
   "outputs": [],
   "source": []
  }
 ],
 "metadata": {
  "interpreter": {
   "hash": "19d1d53a962d236aa061289c2ac16dc8e6d9648c89fe79f459ae9a3493bc67b4"
  },
  "kernelspec": {
   "display_name": "Python 3.9.1 ('base')",
   "language": "python",
   "name": "python3"
  },
  "language_info": {
   "codemirror_mode": {
    "name": "ipython",
    "version": 3
   },
   "file_extension": ".py",
   "mimetype": "text/x-python",
   "name": "python",
   "nbconvert_exporter": "python",
   "pygments_lexer": "ipython3",
   "version": "3.8.6"
  },
  "papermill": {
   "default_parameters": {},
   "duration": 18215.109684,
   "end_time": "2022-06-01T00:28:38.470739",
   "environment_variables": {},
   "exception": true,
   "input_path": "Subjectwise_Model_Evaluation.ipynb",
   "output_path": "reports/Subjectwise_Model_Evaluation_Single_HowardKahana2005.ipynb",
   "parameters": {
    "bounds": [
     [
      [
       2.220446049250313e-16,
       0.9999999999999998
      ],
      [
       2.220446049250313e-16,
       0.9999999999999998
      ],
      [
       2.220446049250313e-16,
       0.9999999999999998
      ],
      [
       2.220446049250313e-16,
       0.9999999999999998
      ],
      [
       2.220446049250313e-16,
       0.9999999999999998
      ],
      [
       2.220446049250313e-16,
       0.9999999999999998
      ],
      [
       2.220446049250313e-16,
       100
      ],
      [
       2.220446049250313e-16,
       100
      ],
      [
       2.220446049250313e-16,
       0.9999999999999998
      ],
      [
       2.220446049250313e-16,
       10
      ],
      [
       2.220446049250313e-16,
       10
      ],
      [
       2.220446049250313e-16,
       0.9999999999999998
      ]
     ],
     [
      [
       2.220446049250313e-16,
       0.9999999999999998
      ],
      [
       2.220446049250313e-16,
       0.9999999999999998
      ],
      [
       2.220446049250313e-16,
       0.9999999999999998
      ],
      [
       2.220446049250313e-16,
       0.9999999999999998
      ],
      [
       2.220446049250313e-16,
       0.9999999999999998
      ],
      [
       2.220446049250313e-16,
       0.9999999999999998
      ],
      [
       2.220446049250313e-16,
       100
      ],
      [
       2.220446049250313e-16,
       100
      ],
      [
       2.220446049250313e-16,
       0.9999999999999998
      ],
      [
       2.220446049250313e-16,
       10
      ],
      [
       2.220446049250313e-16,
       10
      ],
      [
       2.220446049250313e-16,
       0.9999999999999998
      ]
     ],
     [
      [
       2.220446049250313e-16,
       0.9999999999999998
      ],
      [
       2.220446049250313e-16,
       0.9999999999999998
      ],
      [
       2.220446049250313e-16,
       0.9999999999999998
      ],
      [
       2.220446049250313e-16,
       0.9999999999999998
      ],
      [
       2.220446049250313e-16,
       0.9999999999999998
      ],
      [
       2.220446049250313e-16,
       0.9999999999999998
      ],
      [
       2.220446049250313e-16,
       100
      ],
      [
       2.220446049250313e-16,
       100
      ],
      [
       2.220446049250313e-16,
       0.9999999999999998
      ],
      [
       2.220446049250313e-16,
       10
      ],
      [
       2.220446049250313e-16,
       10
      ],
      [
       2.220446049250313e-16,
       0.9999999999999998
      ]
     ],
     [
      [
       2.220446049250313e-16,
       0.9999999999999998
      ],
      [
       2.220446049250313e-16,
       0.9999999999999998
      ],
      [
       2.220446049250313e-16,
       0.9999999999999998
      ],
      [
       2.220446049250313e-16,
       0.9999999999999998
      ],
      [
       2.220446049250313e-16,
       0.9999999999999998
      ],
      [
       2.220446049250313e-16,
       0.9999999999999998
      ],
      [
       2.220446049250313e-16,
       100
      ],
      [
       2.220446049250313e-16,
       100
      ],
      [
       2.220446049250313e-16,
       0.9999999999999998
      ],
      [
       2.220446049250313e-16,
       10
      ],
      [
       2.220446049250313e-16,
       10
      ],
      [
       2.220446049250313e-16,
       0.9999999999999998
      ]
     ],
     [
      [
       2.220446049250313e-16,
       0.9999999999999998
      ],
      [
       2.220446049250313e-16,
       0.9999999999999998
      ],
      [
       2.220446049250313e-16,
       0.9999999999999998
      ],
      [
       2.220446049250313e-16,
       0.9999999999999998
      ],
      [
       2.220446049250313e-16,
       0.9999999999999998
      ],
      [
       2.220446049250313e-16,
       0.9999999999999998
      ],
      [
       2.220446049250313e-16,
       100
      ],
      [
       2.220446049250313e-16,
       100
      ],
      [
       2.220446049250313e-16,
       0.9999999999999998
      ],
      [
       2.220446049250313e-16,
       10
      ],
      [
       2.220446049250313e-16,
       10
      ],
      [
       2.220446049250313e-16,
       0.9999999999999998
      ]
     ]
    ],
    "data_path": "data/HowardKahana2005.csv",
    "fixed_parameters": [
     {},
     {
      "context_sensitivity": 1,
      "feature_sensitivity": 1,
      "learn_first": false
     },
     {
      "context_sensitivity": 1,
      "feature_sensitivity": 1,
      "learn_first": true
     },
     {
      "choice_sensitivity": 1,
      "feature_sensitivity": 1,
      "learn_first": false
     },
     {
      "choice_sensitivity": 1,
      "feature_sensitivity": 1,
      "learn_first": true
     }
    ],
    "free_parameters": [
     [
      "encoding_drift_rate",
      "start_drift_rate",
      "recall_drift_rate",
      "shared_support",
      "item_support",
      "learning_rate",
      "primacy_scale",
      "primacy_decay",
      "stop_probability_scale",
      "stop_probability_growth",
      "choice_sensitivity",
      "delay_drift_rate"
     ],
     [
      "encoding_drift_rate",
      "start_drift_rate",
      "recall_drift_rate",
      "shared_support",
      "item_support",
      "learning_rate",
      "primacy_scale",
      "primacy_decay",
      "stop_probability_scale",
      "stop_probability_growth",
      "choice_sensitivity",
      "delay_drift_rate"
     ],
     [
      "encoding_drift_rate",
      "start_drift_rate",
      "recall_drift_rate",
      "shared_support",
      "item_support",
      "learning_rate",
      "primacy_scale",
      "primacy_decay",
      "stop_probability_scale",
      "stop_probability_growth",
      "choice_sensitivity",
      "delay_drift_rate"
     ],
     [
      "encoding_drift_rate",
      "start_drift_rate",
      "recall_drift_rate",
      "shared_support",
      "item_support",
      "learning_rate",
      "primacy_scale",
      "primacy_decay",
      "stop_probability_scale",
      "stop_probability_growth",
      "context_sensitivity",
      "delay_drift_rate"
     ],
     [
      "encoding_drift_rate",
      "start_drift_rate",
      "recall_drift_rate",
      "shared_support",
      "item_support",
      "learning_rate",
      "primacy_scale",
      "primacy_decay",
      "stop_probability_scale",
      "stop_probability_growth",
      "context_sensitivity",
      "delay_drift_rate"
     ]
    ],
    "model_names": [
     "PrototypeCMR",
     "ICMR_1_0_0",
     "ICMR_1_0_1",
     "ICMR_1_1_0",
     "ICMR_1_1_1"
    ],
    "model_paths": [
     "compmemlearn.models.Base_CMR",
     "compmemlearn.models.Single_ICMR",
     "compmemlearn.models.Single_ICMR",
     "compmemlearn.models.Single_ICMR",
     "compmemlearn.models.Single_ICMR"
    ],
    "section_tag": "HowardKahana2005",
    "trial_query": "subject > -1"
   },
   "start_time": "2022-05-31T19:25:03.361055",
   "version": "2.3.4"
  }
 },
 "nbformat": 4,
 "nbformat_minor": 5
}
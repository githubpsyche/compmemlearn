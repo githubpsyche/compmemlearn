{
 "cells": [
  {
   "cell_type": "markdown",
   "source": [
    "## Transition Lopsidedness\n",
    "For spaced items (lag >= 4) in mixed lists, we determine the proportion of times, given that a subject made a transition from an item in $S_i = {i-2, i-1}$ or $S_j = {j-2, j-1}$ during free recall, that the they would then transition to recall the item in ${i, j}$ where $i$ and $j$ identify the serial positions of the item's two presentations.\n",
    "\n",
    "To control for the proportion of these transitions expected in the absence of repeated items, we assign the same serial positions used in the mixed lists to corresponding items in the control lists. For each subject, we assign these positions to 100 random shuffles of the control lists, and take the mean across the reshuffled datasets to get a baseline expectation of transition lopsidedness."
   ],
   "metadata": {}
  },
  {
   "cell_type": "code",
   "execution_count": 3,
   "source": [
    "\n",
    "\n",
    "def indices_of_repeated_items(presentation_sequence, lag_threshold=4):\n",
    "\n",
    "    values, counts = np.unique(presentation_sequence, return_counts=True)\n",
    "    repeated_items = {v: np.where(presentation_sequence == v)[0] for v in values if counts[v] > 1}\n",
    "\n",
    "    return {key:repeated_items[key] for key in repeated_items if repeated_items[key][1] - repeated_items[key][0] >= lag_threshold}"
   ],
   "outputs": [],
   "metadata": {}
  },
  {
   "cell_type": "code",
   "execution_count": null,
   "source": [
    "mixed_presentations = presentations[list_types==4]\n",
    "mixed_recalls = trials[list_types==4]\n",
    "\n",
    "total_si_transitions = 0\n",
    "total_sj_transitions = 0\n",
    "total = 0\n",
    "\n",
    "for trial_index in range(len(mixed_presentations)):\n",
    "    presentation = mixed_presentations[trial_index]\n",
    "\n",
    "    # identify identites and indices of all repeated items in presented mixed lists with lag >= 4; our i and j\n",
    "    i_and_j = indices_of_repeated_items(presentation)\n",
    "\n",
    "    for repeated_item in i_and_j:\n",
    "\n",
    "        # define s_i and s_j based on relative positions from i and j\n",
    "        s_i = presentation[i_and_j[repeated_item][0]-2:i_and_j[repeated_item][0]]\n",
    "        s_j = presentation[i_and_j[repeated_item][1]-2:i_and_j[repeated_item][1]]\n",
    "\n",
    "        # in each corresponding recall sequence, identify transitions from S_i or S_j\n",
    "        # note: this implementation should actually bug out if s_i or s_j \n",
    "        s_i_transitions = mixed_recalls[trial_index][np.nonzero(np.logical_or(\n",
    "            mixed_recalls[trial_index]==s_i[0], mixed_recalls[trial_index]==s_i[1]))[0]+1]\n",
    "\n",
    "        s_j_transitions =  mixed_recalls[trial_index][np.nonzero(np.logical_or(\n",
    "            mixed_recalls[trial_index]==s_j[0], mixed_recalls[trial_index]==s_j[1]))[0]+1]\n",
    "\n",
    "        # and record if i or j is the transitioned-to item or not\n",
    "        total_si_transitions += np.any(np.isin(s_i_transitions, repeated_item))\n",
    "        total_sj_transitions += np.any(np.isin(s_j_transitions, repeated_item))\n",
    "        total += np.logical_or(np.any(np.isin(s_i_transitions, repeated_item)), np.any(np.isin(s_j_transitions, repeated_item)))"
   ],
   "outputs": [],
   "metadata": {}
  },
  {
   "cell_type": "code",
   "execution_count": null,
   "source": [
    "control_presentations = presentations[list_types==1]\n",
    "control_recalls = trials[list_types==4]\n",
    "\n",
    "total_control_si_transitions = 0\n",
    "total_control_sj_transitions = 0\n",
    "total_control = 0\n",
    "\n",
    "order = np.arange(len(control_presentations))\n",
    "\n",
    "# for each shuffling of indices of their control trials\n",
    "for i in range(100):\n",
    "    np.random.shuffle(order)\n",
    "\n",
    "    # map each control trial to a unique mixed trial the subject participated in, and identify the corresponding i and j\n",
    "    for trial_index in range(len(mixed_presentations)):\n",
    "        mixed_presentation = mixed_presentations[trial_index]\n",
    "\n",
    "        # identify identites and indices of all repeated items in presented mixed lists with lag >= 4; our i and j\n",
    "        i_and_j = indices_of_repeated_items(mixed_presentation)\n",
    "\n",
    "        for repeated_item in i_and_j:\n",
    "\n",
    "            # define s_i and s_j based on relative positions from i and j\n",
    "            s_i = np.array([i_and_j[repeated_item][0]-2, i_and_j[repeated_item][0]-1])\n",
    "            s_j = np.array([i_and_j[repeated_item][1]-2, i_and_j[repeated_item][1]-1])\n",
    "\n",
    "            # this time test items are just the indices we track in i_and_j\n",
    "            test_items = i_and_j[repeated_item]\n",
    "\n",
    "            # in each corresponding recall sequence, identify transitions from S_i or S_j\n",
    "            # note: this implementation should actually bug out if s_i or s_j \n",
    "            s_i_transitions = control_recalls[order[trial_index]][np.nonzero(np.logical_or(\n",
    "                control_recalls[order[trial_index]]==s_i[0], control_recalls[order[trial_index]]==s_i[1]))[0]+1]\n",
    "\n",
    "            s_j_transitions =  control_recalls[order[trial_index]][np.nonzero(np.logical_or(\n",
    "                control_recalls[order[trial_index]]==s_j[0], control_recalls[order[trial_index]]==s_j[1]))[0]+1]\n",
    "\n",
    "            # and record if i or j is the transitioned-to item or not\n",
    "            if not np.any(np.isin(s_j_transitions, test_items)):\n",
    "                total_control_si_transitions += np.any(np.isin(s_i_transitions, test_items))\n",
    "                total_control += 1\n",
    "            elif not np.any(np.isin(s_i_transitions, test_items)):\n",
    "                total_control_sj_transitions += np.any(np.isin(s_j_transitions, test_items))\n",
    "                total_control += 1"
   ],
   "outputs": [],
   "metadata": {}
  },
  {
   "cell_type": "code",
   "execution_count": null,
   "source": [
    "total_si_transitions / total_sj_transitions "
   ],
   "outputs": [
    {
     "output_type": "execute_result",
     "data": {
      "text/plain": [
       "4.67741935483871"
      ]
     },
     "metadata": {},
     "execution_count": 15
    }
   ],
   "metadata": {}
  },
  {
   "cell_type": "code",
   "execution_count": null,
   "source": [
    "total_control_si_transitions/total_control_sj_transitions"
   ],
   "outputs": [
    {
     "output_type": "execute_result",
     "data": {
      "text/plain": [
       "1.2512820512820513"
      ]
     },
     "metadata": {},
     "execution_count": 16
    }
   ],
   "metadata": {}
  },
  {
   "cell_type": "markdown",
   "source": [
    "## Transition Lopsidedness: Forward Variant\n",
    "We'll do the same analysis as above, but instead of considering transitions from items in $S_i = \\{i-2, i-1\\}$ or $S_j = \\{j-2, j-1\\}$ to items in $\\{i, j\\}$, we'll measure the rate of transitions from items in $\\{i, j\\}$ to items in $S_i = \\{i+1, i+2\\}$ or $S_j = \\{j+1, j+2\\}$. This is to suppose that the differential encoding mechanism affects forward transitions from differentially encoded item presentations, rather than that it affects the likelihood of transitioning recalls based on those presentations.\n",
    "\n",
    "Given recall of an item with repeated presentations, what's the relative probability of recalling an item near its first presentation compared to recalling an item near its second presentation?"
   ],
   "metadata": {}
  },
  {
   "cell_type": "code",
   "execution_count": null,
   "source": [
    "mixed_presentations = presentations[list_types==4]\n",
    "mixed_recalls = trials[list_types==4]\n",
    "\n",
    "total_si_transitions = 0\n",
    "total_sj_transitions = 0\n",
    "total = 0\n",
    "\n",
    "for trial_index in range(len(mixed_presentations)):\n",
    "    presentation = mixed_presentations[trial_index]\n",
    "\n",
    "    # identify identites and indices of all repeated items in presented mixed lists with lag >= 4; our i and j\n",
    "    i_and_j = indices_of_repeated_items(presentation)\n",
    "\n",
    "    for repeated_item in i_and_j:\n",
    "\n",
    "        # define s_i and s_j based on relative positions from i and j\n",
    "        s_i = presentation[i_and_j[repeated_item][0]-2:i_and_j[repeated_item][0]]\n",
    "        s_j = presentation[i_and_j[repeated_item][1]-2:i_and_j[repeated_item][1]]\n",
    "\n",
    "        # in each corresponding recall sequence, identify transitions from repeated item\n",
    "        repeated_item_transition = mixed_recalls[trial_index][np.nonzero(\n",
    "            mixed_recalls[trial_index]==repeated_item)[0]+1]\n",
    "\n",
    "        # and record if transitioned-to item is in Si or Sj is the transitioned-to item or not\n",
    "        total_si_transitions += np.any(np.isin(s_i, repeated_item_transition))\n",
    "        total_sj_transitions += np.any(np.isin(s_j, repeated_item_transition))\n",
    "        total += np.logical_or(np.any(np.isin(s_i, repeated_item_transition)), np.any(np.isin(s_j, repeated_item_transition)))"
   ],
   "outputs": [],
   "metadata": {}
  },
  {
   "cell_type": "code",
   "execution_count": null,
   "source": [
    "control_presentations = presentations[list_types==1]\n",
    "control_recalls = trials[list_types==4]\n",
    "\n",
    "total_control_si_transitions = 0\n",
    "total_control_sj_transitions = 0\n",
    "total_control = 0\n",
    "\n",
    "order = np.arange(len(control_presentations))\n",
    "\n",
    "# for each shuffling of indices of their control trials\n",
    "for i in range(100):\n",
    "    np.random.shuffle(order)\n",
    "\n",
    "    # map each control trial to a unique mixed trial the subject participated in, and identify the corresponding i and j\n",
    "    for trial_index in range(len(mixed_presentations)):\n",
    "        mixed_presentation = mixed_presentations[trial_index]\n",
    "\n",
    "        # identify identites and indices of all repeated items in presented mixed lists with lag >= 4; our i and j\n",
    "        i_and_j = indices_of_repeated_items(mixed_presentation)\n",
    "\n",
    "        for repeated_item in i_and_j:\n",
    "\n",
    "            # define s_i and s_j based on relative positions from i and j\n",
    "            s_i = np.array([i_and_j[repeated_item][0]-2, i_and_j[repeated_item][0]-1])\n",
    "            s_j = np.array([i_and_j[repeated_item][1]-2, i_and_j[repeated_item][1]-1])\n",
    "\n",
    "            # in each corresponding recall sequence, identify transitions from test items mapped from repeated items\n",
    "            test_items = i_and_j[repeated_item]\n",
    "            test_item_transition = control_recalls[order[trial_index]][np.nonzero(\n",
    "                np.logical_or(control_recalls[order[trial_index]]==test_items[0], control_recalls[order[trial_index]]==test_items[1]))[0]+1]\n",
    "\n",
    "            # and record if s_i or s_j is the transitioned-to item or not, given that \n",
    "            if len(test_item_transition) > 0:\n",
    "                if not np.any(np.isin(s_j, test_item_transition)):\n",
    "                    total_control_si_transitions += np.any(np.isin(s_i, test_item_transition))\n",
    "                    total_control += 1\n",
    "                elif not np.any(np.isin(s_i, test_item_transition)):\n",
    "                    total_control_sj_transitions += np.any(np.isin(s_j, test_item_transition))\n",
    "                    total_control += 1"
   ],
   "outputs": [],
   "metadata": {}
  }
 ],
 "metadata": {
  "kernelspec": {
   "display_name": "Python 3 (ipykernel)",
   "language": "python",
   "name": "python3"
  },
  "language_info": {
   "codemirror_mode": {
    "name": "ipython",
    "version": 3
   },
   "file_extension": ".py",
   "mimetype": "text/x-python",
   "name": "python",
   "nbconvert_exporter": "python",
   "pygments_lexer": "ipython3",
   "version": "3.9.1"
  }
 },
 "nbformat": 4,
 "nbformat_minor": 5
}
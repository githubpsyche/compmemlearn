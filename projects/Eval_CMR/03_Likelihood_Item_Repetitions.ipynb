{
 "cells": [
  {
   "cell_type": "markdown",
   "id": "dda022f2-a6b3-48ce-9501-01df3acef1f4",
   "metadata": {},
   "source": [
    "## Extending the Likelihood-Based Approach to Item Repetition Data"
   ]
  },
  {
   "cell_type": "code",
   "execution_count": 1,
   "id": "916906bd-6363-4cbd-908b-56732c904e99",
   "metadata": {},
   "outputs": [],
   "source": [
    "#| code-summary: code -- 1) load dependencies and data\n",
    "from compmemlearn.fitting import lohnas_objective_function, apply_and_concatenate\n",
    "from compmemlearn.analyses import sim_recall_probability_by_lag, recall_probability_by_lag\n",
    "from compmemlearn.datasets import prepare_lohnas2014_data, simulate_data, simulate_array, simulate_array_from_presentations\n",
    "from compmemlearn.analyses import fast_csp\n",
    "from compmemlearn.models import Classic_CMR\n",
    "from scipy.optimize import differential_evolution\n",
    "from numba.typed import List, Dict\n",
    "import matplotlib.pyplot as plt\n",
    "from numba.core import types\n",
    "from numba import njit\n",
    "import seaborn as sns\n",
    "from psifr import fr\n",
    "import pandas as pd\n",
    "import numpy as np\n",
    "\n",
    "trials, events, list_length, presentations, list_types, rep_data, subjects = prepare_lohnas2014_data(\n",
    "    '../../data/repFR.mat')\n",
    "\n",
    "cmr_free_parameters = (\n",
    "    'encoding_drift_rate',\n",
    "    'start_drift_rate',\n",
    "    'recall_drift_rate',\n",
    "    'shared_support',\n",
    "    'item_support',\n",
    "    'learning_rate',\n",
    "    'primacy_scale',\n",
    "    'primacy_decay',\n",
    "    'stop_probability_scale',\n",
    "    'stop_probability_growth',\n",
    "    'choice_sensitivity',\n",
    "    'delay_drift_rate'\n",
    ")\n",
    "\n",
    "lb = np.finfo(float).eps\n",
    "ub = 1-np.finfo(float).eps\n",
    "\n",
    "cmr_bounds = [\n",
    "    (lb, ub),\n",
    "    (lb, ub),\n",
    "    (lb, ub),\n",
    "    (lb, ub),\n",
    "    (lb, ub),\n",
    "    (lb, ub),\n",
    "    (lb, 100),\n",
    "    (lb, 100),\n",
    "    (lb, ub),\n",
    "    (lb, 10),\n",
    "    (lb, 10),\n",
    "    (lb, ub),\n",
    "]\n",
    "\n",
    "# cost function to be minimized\n",
    "# ours scales inversely with the probability that the data could have been \n",
    "# generated using the specified parameters and our model\n",
    "@njit(fastmath=True, nogil=True)\n",
    "def init_cmr(item_count, presentation_count, parameters):\n",
    "    return Classic_CMR(item_count, presentation_count, parameters)\n"
   ]
  },
  {
   "cell_type": "markdown",
   "id": "92c7fc4f-0629-464c-b304-2e662dede23a",
   "metadata": {},
   "source": [
    "### Fit to Entire Dataset"
   ]
  },
  {
   "cell_type": "code",
   "execution_count": 24,
   "id": "99d26e84-7444-497d-b6fe-6ae280a0fe44",
   "metadata": {},
   "outputs": [
    {
     "name": "stdout",
     "output_type": "stream",
     "text": [
      "differential_evolution step 1: f(x)= 74467.9\n",
      "differential_evolution step 2: f(x)= 74467.9\n",
      "differential_evolution step 3: f(x)= 74467.9\n",
      "differential_evolution step 4: f(x)= 70439.8\n",
      "differential_evolution step 5: f(x)= 70439.8\n",
      "differential_evolution step 6: f(x)= 66439.2\n",
      "differential_evolution step 7: f(x)= 65767\n",
      "differential_evolution step 8: f(x)= 65767\n",
      "differential_evolution step 9: f(x)= 65269\n",
      "differential_evolution step 10: f(x)= 65269\n",
      "differential_evolution step 11: f(x)= 64503.3\n",
      "differential_evolution step 12: f(x)= 64503.3\n",
      "differential_evolution step 13: f(x)= 64454.7\n",
      "differential_evolution step 14: f(x)= 62702.9\n",
      "differential_evolution step 15: f(x)= 62702.9\n",
      "differential_evolution step 16: f(x)= 62670\n",
      "differential_evolution step 17: f(x)= 61826.3\n",
      "differential_evolution step 18: f(x)= 61826.3\n",
      "differential_evolution step 19: f(x)= 61826.3\n",
      "differential_evolution step 20: f(x)= 61788.2\n",
      "differential_evolution step 21: f(x)= 61788.2\n",
      "differential_evolution step 22: f(x)= 61123.2\n",
      "differential_evolution step 23: f(x)= 61123.2\n",
      "differential_evolution step 24: f(x)= 61123.2\n",
      "differential_evolution step 25: f(x)= 61123.2\n",
      "differential_evolution step 26: f(x)= 61123.2\n",
      "differential_evolution step 27: f(x)= 61123.2\n",
      "differential_evolution step 28: f(x)= 60960.1\n",
      "differential_evolution step 29: f(x)= 60960.1\n",
      "differential_evolution step 30: f(x)= 60960.1\n",
      "differential_evolution step 31: f(x)= 60960.1\n",
      "differential_evolution step 32: f(x)= 60960.1\n",
      "differential_evolution step 33: f(x)= 60960.1\n"
     ]
    }
   ],
   "source": [
    "selection = list_types > 0\n",
    "cost_function = lohnas_objective_function(\n",
    "    trials[selection], \n",
    "    presentations[selection],\n",
    "    init_cmr,\n",
    "    {'sampling_rule': 0, 'mfc_familiarity_scale': 0, 'mcf_familiarity_scale': 0, 'drift_familiarity_scale': 0}, \n",
    "    cmr_free_parameters)\n",
    "\n",
    "cmr_result = differential_evolution(cost_function, cmr_bounds, disp=True)"
   ]
  },
  {
   "cell_type": "code",
   "execution_count": 25,
   "id": "5208e1a1-9125-4231-a612-7727d4b4e6d0",
   "metadata": {},
   "outputs": [
    {
     "name": "stdout",
     "output_type": "stream",
     "text": [
      "     fun: 60797.221058367635\n",
      "     jac: array([ -0.38417056,   0.12878445,   0.94878487, -17.76206772,\n",
      "        -0.31868694,   0.26702764,  -0.03055902,   0.        ,\n",
      "        -0.02910383,  -2.83689588,   1.26674423,   0.75815478])\n",
      " message: 'Optimization terminated successfully.'\n",
      "    nfev: 8005\n",
      "     nit: 33\n",
      " success: True\n",
      "       x: array([8.65828835e-01, 2.26715503e-01, 9.52028097e-01, 2.63844603e-02,\n",
      "       1.47259363e-07, 4.31890546e-01, 2.63745217e+00, 2.98606729e+01,\n",
      "       2.51644003e-02, 1.01406301e-01, 1.02305123e+00, 9.80106784e-01])\n"
     ]
    }
   ],
   "source": [
    "#| include: false\n",
    "print(cmr_result)"
   ]
  },
  {
   "cell_type": "markdown",
   "id": "e736bdff-0ade-41a7-a2ac-9198bbdecaef",
   "metadata": {},
   "source": [
    "```\n",
    "     fun: 60797.221058367635\n",
    "     jac: array([ -0.38417056,   0.12878445,   0.94878487, -17.76206772,\n",
    "        -0.31868694,   0.26702764,  -0.03055902,   0.        ,\n",
    "        -0.02910383,  -2.83689588,   1.26674423,   0.75815478])\n",
    " message: 'Optimization terminated successfully.'\n",
    "    nfev: 8005\n",
    "     nit: 33\n",
    " success: True\n",
    "       x: array([8.65828835e-01, 2.26715503e-01, 9.52028097e-01, 2.63844603e-02,\n",
    "       1.47259363e-07, 4.31890546e-01, 2.63745217e+00, 2.98606729e+01,\n",
    "       2.51644003e-02, 1.01406301e-01, 1.02305123e+00, 9.80106784e-01])\n",
    "```"
   ]
  },
  {
   "cell_type": "code",
   "execution_count": 26,
   "id": "201deb9c-6e85-435b-8867-1e0afa1c60cf",
   "metadata": {},
   "outputs": [],
   "source": [
    "#| code-summary: code -- 3) with PrototypeCMR, compose simulated recall_probability_by_lag from overall fitting results\n",
    "#| output: false\n",
    "\n",
    "parameters = Dict.empty(key_type=types.unicode_type, value_type=types.float64)\n",
    "for index, name in enumerate(cmr_free_parameters):\n",
    "    parameters[name] = cmr_result.x[index]\n",
    "    \n",
    "parameters['sampling_rule'] = 0\n",
    "parameters['mfc_familiarity_scale'] = 0\n",
    "parameters['mcf_familiarity_scale'] = 0\n",
    "parameters['drift_familiarity_scale'] = 0\n",
    "\n",
    "# recall probability by lag\n",
    "selection = list_types == 4\n",
    "result = sim_recall_probability_by_lag(\n",
    "    presentations[selection], 10, init_cmr, parameters)\n",
    "binned = np.zeros(5)\n",
    "binned[0] = result[0]\n",
    "binned[1] = result[1]\n",
    "binned[2] = (result[2] + result[3])/2\n",
    "binned[3] = (result[4] + result[5] + result[6])/3\n",
    "binned[4] = (result[7] + result[8] + result[9])/3\n",
    "sim_rpl = binned.copy()\n",
    "\n",
    "result = recall_probability_by_lag(\n",
    "    presentations[selection], trials[selection], max_lag=8)\n",
    "binned = np.zeros(5)\n",
    "binned[0] = result[0]\n",
    "binned[1] = result[1]\n",
    "binned[2] = (result[2] + result[3])/2\n",
    "binned[3] = (result[4] + result[5] + result[6])/3\n",
    "binned[4] = (result[7] + result[8] + result[9])/3\n",
    "true_rpl = binned.copy()"
   ]
  },
  {
   "cell_type": "code",
   "execution_count": 27,
   "id": "9f76516b-aafc-4151-9e2a-626fe7616160",
   "metadata": {},
   "outputs": [
    {
     "data": {
      "image/png": "[encoded data removed]",
      "text/plain": [
       "<Figure size 432x288 with 1 Axes>"
      ]
     },
     "metadata": {
      "needs_background": "light"
     },
     "output_type": "display_data"
    }
   ],
   "source": [
    "ax = sns.lineplot(x=['N/A', '0', '1-2', '3-5', '6-8'], \n",
    "                 y=sim_rpl, label='PrototypeCMR')\n",
    "ax = sns.lineplot(x=['N/A', '0', '1-2', '3-5', '6-8'], \n",
    "                 y=true_rpl, label='data')\n",
    "plt.xlabel('Number of Intervening Items Between Repetitions')\n",
    "plt.ylabel('Recall Probability')\n",
    "plt.show()"
   ]
  },
  {
   "cell_type": "code",
   "execution_count": 76,
   "id": "d0a9305e-56ef-42c8-9f61-10efeb2f4ef6",
   "metadata": {},
   "outputs": [
    {
     "data": {
      "text/plain": [
       "17293.838649394795"
      ]
     },
     "execution_count": 76,
     "metadata": {},
     "output_type": "execute_result"
    }
   ],
   "source": [
    "full_fit = np.array([8.65828835e-01, 2.26715503e-01, 9.52028097e-01, 2.63844603e-02,\n",
    "       1.47259363e-07, 4.31890546e-01, 2.63745217e+00, 2.98606729e+01,\n",
    "       2.51644003e-02, 1.01406301e-01, 1.02305123e+00, 9.80106784e-01])\n",
    "\n",
    "selection = list_types == 4\n",
    "cost_function = lohnas_objective_function(\n",
    "    trials[selection], \n",
    "    presentations[selection],\n",
    "    init_cmr,\n",
    "    {'sampling_rule': 0, 'mfc_familiarity_scale': 0, 'mcf_familiarity_scale': 0, 'drift_familiarity_scale': 0}, \n",
    "    cmr_free_parameters)\n",
    "\n",
    "cost_function(full_fit)"
   ]
  },
  {
   "cell_type": "markdown",
   "id": "81dedf5d-37c4-43b0-a253-7e1690c27c60",
   "metadata": {},
   "source": [
    "### Fit Just to Condition 4"
   ]
  },
  {
   "cell_type": "code",
   "execution_count": 2,
   "id": "06eb3bcf-14b3-4c34-919b-2935fec5ed70",
   "metadata": {},
   "outputs": [
    {
     "name": "stdout",
     "output_type": "stream",
     "text": [
      "differential_evolution step 1: f(x)= 20543\n",
      "differential_evolution step 2: f(x)= 19563.3\n",
      "differential_evolution step 3: f(x)= 19563.3\n",
      "differential_evolution step 4: f(x)= 18712.6\n",
      "differential_evolution step 5: f(x)= 18712.6\n",
      "differential_evolution step 6: f(x)= 18581.8\n",
      "differential_evolution step 7: f(x)= 18477.4\n",
      "differential_evolution step 8: f(x)= 18081.1\n",
      "differential_evolution step 9: f(x)= 18081.1\n",
      "differential_evolution step 10: f(x)= 18081.1\n",
      "differential_evolution step 11: f(x)= 18081.1\n",
      "differential_evolution step 12: f(x)= 18081.1\n",
      "differential_evolution step 13: f(x)= 18076\n",
      "differential_evolution step 14: f(x)= 17960.3\n",
      "differential_evolution step 15: f(x)= 17960.3\n",
      "differential_evolution step 16: f(x)= 17960.3\n",
      "differential_evolution step 17: f(x)= 17731.8\n",
      "differential_evolution step 18: f(x)= 17727.2\n",
      "differential_evolution step 19: f(x)= 17727.2\n",
      "differential_evolution step 20: f(x)= 17727.2\n",
      "differential_evolution step 21: f(x)= 17727.2\n",
      "differential_evolution step 22: f(x)= 17540\n",
      "differential_evolution step 23: f(x)= 17540\n",
      "differential_evolution step 24: f(x)= 17540\n",
      "differential_evolution step 25: f(x)= 17540\n",
      "differential_evolution step 26: f(x)= 17496.9\n",
      "differential_evolution step 27: f(x)= 17479.7\n",
      "differential_evolution step 28: f(x)= 17479.7\n",
      "differential_evolution step 29: f(x)= 17479.7\n",
      "differential_evolution step 30: f(x)= 17434.4\n",
      "differential_evolution step 31: f(x)= 17422.2\n",
      "differential_evolution step 32: f(x)= 17422.2\n",
      "differential_evolution step 33: f(x)= 17422.2\n",
      "     fun: 17326.965361659615\n",
      "     jac: array([-305.67243658, -202.85333459,  -72.37540522, -196.74844235,\n",
      "         24.23512342,   25.20682743,  -69.87866076,    0.        ,\n",
      "       -334.97817634, -484.29465121,   38.35302801, -361.76388494])\n",
      " message: 'Optimization terminated successfully.'\n",
      "    nfev: 7251\n",
      "     nit: 33\n",
      " success: True\n",
      "       x: array([8.06135392e-01, 3.07112592e-01, 9.55038268e-01, 1.15022323e-01,\n",
      "       1.60855931e-02, 5.07853225e-01, 4.61059897e-01, 7.16087569e+01,\n",
      "       2.52322009e-02, 9.37792238e-02, 2.02696856e+00, 9.24630111e-01])\n"
     ]
    }
   ],
   "source": [
    "selection = list_types == 4\n",
    "cost_function = lohnas_objective_function(\n",
    "    trials[selection], \n",
    "    presentations[selection],\n",
    "    init_cmr,\n",
    "    {'sampling_rule': 0, 'mfc_familiarity_scale': 0, 'mcf_familiarity_scale': 0, 'drift_familiarity_scale': 0}, \n",
    "    cmr_free_parameters)\n",
    "\n",
    "cmr_result = differential_evolution(cost_function, cmr_bounds, disp=True)\n",
    "\n",
    "print(cmr_result)"
   ]
  },
  {
   "cell_type": "markdown",
   "id": "fe922b26-ab79-4753-9222-79f0a524c6d9",
   "metadata": {},
   "source": [
    "```\n",
    "fun: 17165.456237034767\n",
    "     jac: array([-8.36735121e-02, -9.20408639e-02,  6.08997649e-01,  1.79352355e-01,\n",
    "        2.12628947e+01,  8.14907253e-02,  1.27329259e-01,  7.67613529e-02,\n",
    "        1.46974344e-01,  9.13132681e-02, -2.80124370e-02, -4.36557455e-03])\n",
    " message: 'Optimization terminated successfully.'\n",
    "    nfev: 8860\n",
    "     nit: 41\n",
    " success: True\n",
    "       x: array([8.44375848e-01, 1.37679001e-01, 9.63178869e-01, 4.89695742e-02,\n",
    "       2.22044605e-16, 4.31315899e-01, 4.98073649e+00, 4.53976374e-01,\n",
    "       2.13832687e-02, 1.06850502e-01, 1.21932164e+00, 9.13889145e-01])\n",
    "```"
   ]
  },
  {
   "cell_type": "code",
   "execution_count": 3,
   "id": "2ccbc86c-3708-42fe-bbb3-0c13b4cecd96",
   "metadata": {},
   "outputs": [],
   "source": [
    "#| code-summary: code -- 3) with PrototypeCMR, compose simulated recall_probability_by_lag from overall fitting results\n",
    "#| output: false\n",
    "\n",
    "from compmemlearn.analyses import sim_recall_probability_by_lag, recall_probability_by_lag\n",
    "\n",
    "\n",
    "parameters = Dict.empty(key_type=types.unicode_type, value_type=types.float64)\n",
    "for index, name in enumerate(cmr_free_parameters):\n",
    "    parameters[name] = cmr_result.x[index]\n",
    "    \n",
    "parameters['sampling_rule'] = 0\n",
    "parameters['mfc_familiarity_scale'] = 0\n",
    "parameters['mcf_familiarity_scale'] = 0\n",
    "parameters['drift_familiarity_scale'] = 0\n",
    "\n",
    "# recall probability by lag\n",
    "selection = list_types == 4\n",
    "result = sim_recall_probability_by_lag(\n",
    "    presentations[selection], 10, init_cmr, parameters)\n",
    "binned = np.zeros(5)\n",
    "binned[0] = result[0]\n",
    "binned[1] = result[1]\n",
    "binned[2] = (result[2] + result[3])/2\n",
    "binned[3] = (result[4] + result[5] + result[6])/3\n",
    "binned[4] = (result[7] + result[8] + result[9])/3\n",
    "sim_rpl = binned.copy()\n",
    "\n",
    "result = recall_probability_by_lag(\n",
    "    presentations[selection], trials[selection], max_lag=8)\n",
    "binned = np.zeros(5)\n",
    "binned[0] = result[0]\n",
    "binned[1] = result[1]\n",
    "binned[2] = (result[2] + result[3])/2\n",
    "binned[3] = (result[4] + result[5] + result[6])/3\n",
    "binned[4] = (result[7] + result[8] + result[9])/3\n",
    "true_rpl = binned.copy()"
   ]
  },
  {
   "cell_type": "code",
   "execution_count": 4,
   "id": "05a41052-ff5d-4f2f-98b8-6a8621a2de64",
   "metadata": {},
   "outputs": [
    {
     "data": {
      "image/png": "[encoded data removed]",
      "text/plain": [
       "<Figure size 432x288 with 1 Axes>"
      ]
     },
     "metadata": {
      "needs_background": "light"
     },
     "output_type": "display_data"
    }
   ],
   "source": [
    "ax = sns.lineplot(x=['N/A', '0', '1-2', '3-5', '6-8'], \n",
    "                 y=sim_rpl, label='PrototypeCMR')\n",
    "ax = sns.lineplot(x=['N/A', '0', '1-2', '3-5', '6-8'], \n",
    "                 y=true_rpl, label='data')\n",
    "plt.xlabel('Number of Intervening Items Between Repetitions')\n",
    "plt.ylabel('Recall Probability')\n",
    "plt.show()"
   ]
  },
  {
   "cell_type": "markdown",
   "id": "4d59d5c5-a203-47d3-aa8c-2c530bb5a900",
   "metadata": {},
   "source": [
    "### Recall Probability by Spacing, Murdock 1970 Fit"
   ]
  },
  {
   "cell_type": "code",
   "execution_count": 13,
   "id": "8377d0d9-d08e-4bc8-a400-86c1b5517e86",
   "metadata": {},
   "outputs": [
    {
     "data": {
      "text/plain": [
       "array([[40, 28, 38, ...,  0,  0,  0],\n",
       "       [37, 39, 27, ...,  0,  0,  0],\n",
       "       [39, 40,  0, ...,  0,  0,  0],\n",
       "       ...,\n",
       "       [37, 38, 39, ...,  0,  0,  0],\n",
       "       [40, 39, 29, ...,  0,  0,  0],\n",
       "       [28, 27, 31, ...,  0,  0,  0]])"
      ]
     },
     "execution_count": 13,
     "metadata": {},
     "output_type": "execute_result"
    }
   ],
   "source": [
    "cmr_result = np.array(\n",
    "    [5.88304182e-01, 3.76144942e-02, 7.51294302e-01, 2.91680115e-01,\n",
    "       1.00000000e+00, 1.39633721e-01, 5.62625588e+00, 4.28789782e+01,\n",
    "       2.40537436e-02, 2.61824232e-01, 5.32941045e+00, 9.34036191e-01])\n",
    "\n",
    "fitted_parameters = Dict.empty(\n",
    "    key_type=types.unicode_type, value_type=types.float64)\n",
    "for i in range(len(cmr_result)):\n",
    "    fitted_parameters[cmr_free_parameters[i]] = cmr_result[i]\n",
    "fitted_parameters['sampling_rule'] = 0\n",
    "fitted_parameters['mfc_familiarity_scale'] = 0\n",
    "fitted_parameters['mcf_familiarity_scale'] = 0\n",
    "fitted_parameters['drift_familiarity_scale'] = 0\n",
    "\n",
    "selection = selection = list_types == 4\n",
    "sim_array = simulate_array_from_presentations(init_cmr, fitted_parameters, presentations[selection], 1)\n",
    "\n",
    "sim_array"
   ]
  },
  {
   "cell_type": "code",
   "execution_count": 14,
   "id": "5e57ecf2-95e4-49c5-a1e7-5e6bd6678cd7",
   "metadata": {},
   "outputs": [],
   "source": [
    "# recall probability by lag\n",
    "selection = list_types == 4\n",
    "result = recall_probability_by_lag(\n",
    "    presentations[selection], sim_array, max_lag=8)\n",
    "binned = np.zeros(5)\n",
    "binned[0] = result[0]\n",
    "binned[1] = result[1]\n",
    "binned[2] = (result[2] + result[3])/2\n",
    "binned[3] = (result[4] + result[5] + result[6])/3\n",
    "binned[4] = (result[7] + result[8] + result[9])/3\n",
    "sim_rpl = binned.copy()\n",
    "\n",
    "result = recall_probability_by_lag(\n",
    "    presentations[selection], trials[selection], max_lag=8)\n",
    "binned = np.zeros(5)\n",
    "binned[0] = result[0]\n",
    "binned[1] = result[1]\n",
    "binned[2] = (result[2] + result[3])/2\n",
    "binned[3] = (result[4] + result[5] + result[6])/3\n",
    "binned[4] = (result[7] + result[8] + result[9])/3\n",
    "true_rpl = binned.copy()"
   ]
  },
  {
   "cell_type": "code",
   "execution_count": 15,
   "id": "6be0242b-0d4e-4b79-988f-5fb25c14d8a6",
   "metadata": {},
   "outputs": [
    {
     "data": {
      "image/png": "[encoded data removed]",
      "text/plain": [
       "<Figure size 432x288 with 1 Axes>"
      ]
     },
     "metadata": {
      "needs_background": "light"
     },
     "output_type": "display_data"
    }
   ],
   "source": [
    "ax = sns.lineplot(x=['N/A', '0', '1-2', '3-5', '6-8'], \n",
    "                 y=sim_rpl, label='PrototypeCMR')\n",
    "ax = sns.lineplot(x=['N/A', '0', '1-2', '3-5', '6-8'], \n",
    "                 y=true_rpl, label='data')\n",
    "plt.xlabel('Number of Intervening Items Between Repetitions')\n",
    "plt.ylabel('Recall Probability')\n",
    "plt.show()"
   ]
  },
  {
   "cell_type": "code",
   "execution_count": 17,
   "id": "18e55482-0fa5-4c39-aca5-b4461b2811d1",
   "metadata": {},
   "outputs": [
    {
     "data": {
      "text/plain": [
       "array([0.43928571, 0.47678571, 0.55714286, 0.57857143])"
      ]
     },
     "execution_count": 17,
     "metadata": {},
     "output_type": "execute_result"
    }
   ],
   "source": [
    "true_rpl[1:]"
   ]
  },
  {
   "cell_type": "code",
   "execution_count": null,
   "id": "daad118b-66ad-4daf-ae62-d284714e32b7",
   "metadata": {},
   "outputs": [],
   "source": []
  }
 ],
 "metadata": {
  "kernelspec": {
   "display_name": "Python 3 (ipykernel)",
   "language": "python",
   "name": "python3"
  },
  "language_info": {
   "codemirror_mode": {
    "name": "ipython",
    "version": 3
   },
   "file_extension": ".py",
   "mimetype": "text/x-python",
   "name": "python",
   "nbconvert_exporter": "python",
   "pygments_lexer": "ipython3",
   "version": "3.9.1"
  }
 },
 "nbformat": 4,
 "nbformat_minor": 5
}

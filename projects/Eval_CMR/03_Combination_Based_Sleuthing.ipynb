{
 "cells": [
  {
   "cell_type": "markdown",
   "metadata": {},
   "source": [
    "## Combination-Based Sleuthing\n",
    "> When fitting across an array of phenomena results in a poor account of one or more of them, it's possible to systematically sleuth for more specific tension-points in our model by fitting the model to each possible combination of 1 or more phenomena in the array, effectively isolating the patterns proving problematic for the model. This approach identifies patterns cannot account for individually, but also those it can account for only when at least one other relevant pattern is ignored.  Demo-driven explanation again using the PFR plateau. Make sure to emphasize core limitation: if we haven't characterized a pattern, we can isolate a tension! How do we sleuth for patterns in model limitations? "
   ]
  },
  {
   "cell_type": "markdown",
   "metadata": {},
   "source": []
  }
 ],
 "metadata": {
  "language_info": {
   "name": "python"
  },
  "orig_nbformat": 4
 },
 "nbformat": 4,
 "nbformat_minor": 2
}

{
 "cells": [
  {
   "cell_type": "markdown",
   "id": "79b6ad7e-a804-4588-9082-edb481540cf2",
   "metadata": {},
   "source": [
    "## Statistic-Focused Fitting to Repetition Effects"
   ]
  },
  {
   "cell_type": "code",
   "execution_count": null,
   "id": "3318f6d5-cef5-4a7f-8bc1-5e1bc4e1006e",
   "metadata": {},
   "outputs": [],
   "source": [
    "#| code-summary: code -- load dependencies and data\n",
    "\n",
    "from compmemlearn.models import Classic_CMR\n",
    "from compmemlearn.fitting import apply_and_concatenate\n",
    "from compmemlearn.datasets import prepare_murdock1970_data\n",
    "from compmemlearn.datasets import simulate_array, simulate_df\n",
    "from compmemlearn.analyses import plot_spc, plot_lag_crp, plot_pfr\n",
    "from compmemlearn.analyses import fast_spc, fast_crp, fast_pfr, fast_csp\n",
    "from scipy.optimize import differential_evolution\n",
    "from numba.typed import List, Dict\n",
    "from numba.core import types\n",
    "from numba import njit, literal_unroll, prange\n",
    "from psifr import fr\n",
    "import pandas as pd\n",
    "import numpy as np\n",
    "import seaborn as sns\n",
    "import matplotlib.pyplot as plt\n",
    "import warnings\n",
    "\n",
    "simulate_data = simulate_df\n",
    "\n",
    "warnings.filterwarnings('ignore', 'First-class function type feature is experimental')\n",
    "\n",
    "murd_trials0, murd_events0, murd_length0 = prepare_murdock1970_data(\n",
    "    '../../data/mo1970.txt')"
   ]
  }
 ],
 "metadata": {
  "kernelspec": {
   "display_name": "Python 3 (ipykernel)",
   "language": "python",
   "name": "python3"
  },
  "language_info": {
   "codemirror_mode": {
    "name": "ipython",
    "version": 3
   },
   "file_extension": ".py",
   "mimetype": "text/x-python",
   "name": "python",
   "nbconvert_exporter": "python",
   "pygments_lexer": "ipython3",
   "version": "3.9.1"
  }
 },
 "nbformat": 4,
 "nbformat_minor": 5
}

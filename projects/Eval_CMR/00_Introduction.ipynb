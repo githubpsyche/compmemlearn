{
 "cells": [
  {
   "cell_type": "markdown",
   "metadata": {},
   "source": [
    "# Background\n",
    "> Deeper review of the task we're modeling, model, fitting/evaluation approaches, relevant datasets, everything relevant but not core to our project"
   ]
  }
 ],
 "metadata": {
  "language_info": {
   "name": "python"
  },
  "orig_nbformat": 4
 },
 "nbformat": 4,
 "nbformat_minor": 2
}

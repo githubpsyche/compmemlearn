{
 "cells": [
  {
   "cell_type": "markdown",
   "id": "6041aec7",
   "metadata": {},
   "source": [
    "# MSE-Based Model Fitting"
   ]
  },
  {
   "cell_type": "markdown",
   "id": "4cd4aded",
   "metadata": {},
   "source": [
    "We'll demo a way to fit models to datasets with item repetitions based on the mean squared error by comparison to a curve. \n",
    "\n",
    "First we specify a loss function. This time, we use the mean squared error between CMR's simulated recall probability by lag function and the curve exhibited in the Lohnas dataset to see if we can find parameters that don't have this distortion."
   ]
  },
  {
   "cell_type": "markdown",
   "id": "760c0df7",
   "metadata": {},
   "source": [
    "## Loss Function"
   ]
  },
  {
   "cell_type": "code",
   "execution_count": 1,
   "id": "5b8deb30",
   "metadata": {},
   "outputs": [],
   "source": [
    "# export\n",
    "from numba import njit\n",
    "from repfr.Repetition_Effects import recall_probability_by_lag\n",
    "from repfr.DefaultCMR import DefaultCMR as CMR\n",
    "import numpy as np\n",
    "\n",
    "@njit(fastmath=True, nogil=True)\n",
    "def cmr_rep_mse(\n",
    "    curve, presentations, list_types, experiment_count, presentation_count,\n",
    "    encoding_drift_rate, start_drift_rate, recall_drift_rate,\n",
    "    shared_support, item_support, learning_rate, primacy_scale, primacy_decay, \n",
    "    stop_probability_scale, stop_probability_growth, choice_sensitivity):\n",
    "    \"\"\"\n",
    "    Apply organizational analyses to visually compare the behavior of the model \n",
    "    with these parameters against specified dataset.\n",
    "    \"\"\"\n",
    "    \n",
    "    # we can use the same model for list types 1 and 2\n",
    "    stable_models = [\n",
    "        CMR(\n",
    "            presentation_count, presentation_count, encoding_drift_rate, start_drift_rate, \n",
    "            recall_drift_rate, shared_support, item_support, learning_rate, \n",
    "            primacy_scale, primacy_decay, stop_probability_scale, \n",
    "            stop_probability_growth, choice_sensitivity), \n",
    "        CMR(\n",
    "            int(presentation_count/2), presentation_count, encoding_drift_rate, start_drift_rate, \n",
    "            recall_drift_rate, shared_support, item_support, learning_rate, \n",
    "            primacy_scale, primacy_decay, stop_probability_scale, \n",
    "            stop_probability_growth, choice_sensitivity)]\n",
    "    stable_models[0].experience(np.eye(list_length, list_length))\n",
    "    stable_models[1].experience(np.eye(int(list_length/2), int(list_length/2))[np.repeat(np.arange(int(list_length/2)), 2)])\n",
    "    \n",
    "    total_presented, total_retrieved = np.zeros(5), np.zeros(5)\n",
    "    \n",
    "    # generate simulation data from model\n",
    "    sim = np.zeros((np.shape(presentations)[0] * experiment_count, \n",
    "                   np.shape(presentations)[1]))\n",
    "    sim = sim.astype(np.int_)\n",
    "    for trial_index, presentation in enumerate(presentations):\n",
    "        \n",
    "        item_count = np.max(presentation)+1\n",
    "        \n",
    "        if list_types[trial_index] > 2:\n",
    "            model = CMR(\n",
    "                item_count, presentation_count, encoding_drift_rate, start_drift_rate, \n",
    "                recall_drift_rate, shared_support, item_support, learning_rate, \n",
    "                primacy_scale, primacy_decay, stop_probability_scale, \n",
    "                stop_probability_growth, choice_sensitivity)\n",
    "\n",
    "            model.experience(np.eye(item_count, item_count)[presentations[trial_index]])\n",
    "        else:\n",
    "            model = stable_models[list_types[trial_index]-1]\n",
    "        \n",
    "        # free recall for specified number of experiments\n",
    "        for experiment in range(experiment_count):\n",
    "            recalled = model.free_recall() + 1\n",
    "            sim[trial_index * experiment_count + experiment, :len(recalled)] = recalled\n",
    "            \n",
    "    return np.mean(np.square(recall_probability_by_lag(presentations, sim, experiment_count)[-1] - curve))"
   ]
  },
  {
   "cell_type": "markdown",
   "id": "ea96fb4d",
   "metadata": {},
   "source": [
    "A wrapper \"objective function\" helps control which of relevant model parameters are fixed or free during model fitting."
   ]
  },
  {
   "cell_type": "code",
   "execution_count": 2,
   "id": "ccd61daf",
   "metadata": {},
   "outputs": [],
   "source": [
    "# export\n",
    "\n",
    "def cmr_rep_mse_objective_function(data_to_fit, presentations, list_types, experiment_count, \n",
    "                                   list_length, fixed_parameters, free_parameters):\n",
    "    \"\"\"\n",
    "    Generates and returns an objective function for input to support search \n",
    "    through parameter space for ICMR model fit using an optimization function.\n",
    "\n",
    "    Arguments:  \n",
    "    - fixed_parameters: dictionary mapping parameter names to values they'll \n",
    "        be fixed to during search, overloaded by free_parameters if overlap  \n",
    "    - free_parameters: list of strings naming parameters for fit during search  \n",
    "    - data_to_fit: array where rows identify a unique trial of responses and \n",
    "        columns corresponds to a unique recall index\n",
    "\n",
    "    Returns a function that accepts a vector x specifying arbitrary values for \n",
    "    free parameters and returns evaluation of icmr_likelihood using the model \n",
    "    class, all parameters, and provided data.\n",
    "    \"\"\"\n",
    "    return lambda x: cmr_rep_mse(data_to_fit, presentations, list_types, experiment_count, list_length, **{**fixed_parameters, **{\n",
    "        free_parameters[i]:x[i] for i in range(len(x))}})"
   ]
  },
  {
   "cell_type": "markdown",
   "id": "2f00ac8e",
   "metadata": {},
   "source": [
    "### Demo"
   ]
  },
  {
   "cell_type": "markdown",
   "id": "7fc2aabc",
   "metadata": {},
   "source": [
    "Now we test and time the loss function:"
   ]
  },
  {
   "cell_type": "code",
   "execution_count": 4,
   "id": "0e05aa3d",
   "metadata": {},
   "outputs": [
    {
     "data": {
      "text/html": [
       "<div>\n",
       "<style scoped>\n",
       "    .dataframe tbody tr th:only-of-type {\n",
       "        vertical-align: middle;\n",
       "    }\n",
       "\n",
       "    .dataframe tbody tr th {\n",
       "        vertical-align: top;\n",
       "    }\n",
       "\n",
       "    .dataframe thead th {\n",
       "        text-align: right;\n",
       "    }\n",
       "</style>\n",
       "<table border=\"1\" class=\"dataframe\">\n",
       "  <thead>\n",
       "    <tr style=\"text-align: right;\">\n",
       "      <th></th>\n",
       "      <th>subject</th>\n",
       "      <th>list</th>\n",
       "      <th>item</th>\n",
       "      <th>input</th>\n",
       "      <th>output</th>\n",
       "      <th>study</th>\n",
       "      <th>recall</th>\n",
       "      <th>repeat</th>\n",
       "      <th>intrusion</th>\n",
       "      <th>condition</th>\n",
       "    </tr>\n",
       "  </thead>\n",
       "  <tbody>\n",
       "    <tr>\n",
       "      <th>0</th>\n",
       "      <td>1</td>\n",
       "      <td>1</td>\n",
       "      <td>0</td>\n",
       "      <td>1</td>\n",
       "      <td>1.0</td>\n",
       "      <td>True</td>\n",
       "      <td>True</td>\n",
       "      <td>0</td>\n",
       "      <td>False</td>\n",
       "      <td>4</td>\n",
       "    </tr>\n",
       "    <tr>\n",
       "      <th>1</th>\n",
       "      <td>1</td>\n",
       "      <td>1</td>\n",
       "      <td>1</td>\n",
       "      <td>2</td>\n",
       "      <td>2.0</td>\n",
       "      <td>True</td>\n",
       "      <td>True</td>\n",
       "      <td>0</td>\n",
       "      <td>False</td>\n",
       "      <td>4</td>\n",
       "    </tr>\n",
       "    <tr>\n",
       "      <th>2</th>\n",
       "      <td>1</td>\n",
       "      <td>1</td>\n",
       "      <td>2</td>\n",
       "      <td>3</td>\n",
       "      <td>3.0</td>\n",
       "      <td>True</td>\n",
       "      <td>True</td>\n",
       "      <td>0</td>\n",
       "      <td>False</td>\n",
       "      <td>4</td>\n",
       "    </tr>\n",
       "    <tr>\n",
       "      <th>3</th>\n",
       "      <td>1</td>\n",
       "      <td>1</td>\n",
       "      <td>3</td>\n",
       "      <td>4</td>\n",
       "      <td>4.0</td>\n",
       "      <td>True</td>\n",
       "      <td>True</td>\n",
       "      <td>0</td>\n",
       "      <td>False</td>\n",
       "      <td>4</td>\n",
       "    </tr>\n",
       "    <tr>\n",
       "      <th>4</th>\n",
       "      <td>1</td>\n",
       "      <td>1</td>\n",
       "      <td>4</td>\n",
       "      <td>5</td>\n",
       "      <td>5.0</td>\n",
       "      <td>True</td>\n",
       "      <td>True</td>\n",
       "      <td>0</td>\n",
       "      <td>False</td>\n",
       "      <td>4</td>\n",
       "    </tr>\n",
       "  </tbody>\n",
       "</table>\n",
       "</div>"
      ],
      "text/plain": [
       "   subject  list  item  input  output  study  recall  repeat  intrusion  \\\n",
       "0        1     1     0      1     1.0   True    True       0      False   \n",
       "1        1     1     1      2     2.0   True    True       0      False   \n",
       "2        1     1     2      3     3.0   True    True       0      False   \n",
       "3        1     1     3      4     4.0   True    True       0      False   \n",
       "4        1     1     4      5     5.0   True    True       0      False   \n",
       "\n",
       "   condition  \n",
       "0          4  \n",
       "1          4  \n",
       "2          4  \n",
       "3          4  \n",
       "4          4  "
      ]
     },
     "execution_count": 4,
     "metadata": {},
     "output_type": "execute_result"
    }
   ],
   "source": [
    "from repfr.Data_Preparation import prepare_repdata\n",
    "\n",
    "trials, events, list_length, presentations, list_types, rep_data, subjects = prepare_repdata(\n",
    "    'data/repFR.mat')\n",
    "\n",
    "events.head()"
   ]
  },
  {
   "cell_type": "code",
   "execution_count": 5,
   "id": "556239ba",
   "metadata": {},
   "outputs": [
    {
     "data": {
      "text/plain": [
       "0.002115849255518534"
      ]
     },
     "execution_count": 5,
     "metadata": {},
     "output_type": "execute_result"
    }
   ],
   "source": [
    "data_curve = recall_probability_by_lag(presentations[list_types==4], trials[list_types==4])[-1]\n",
    "\n",
    "parameters = {\n",
    "    'presentation_count': list_length, \n",
    "}\n",
    "\n",
    "stored_result = [8.44186613e-01, 4.82922372e-01, 9.64152301e-01, 4.66982063e-02,\n",
    "       2.22044605e-16, 4.11208644e-01, 4.38262927e+00, 3.66252400e-01,\n",
    "       2.51594034e-02, 1.01416573e-01, 1.14461246e+00]\n",
    "\n",
    "free_parameters = [\n",
    "    'encoding_drift_rate',\n",
    "    'start_drift_rate',\n",
    "    'recall_drift_rate',\n",
    "    'shared_support',\n",
    "    'item_support',\n",
    "    'learning_rate',\n",
    "    'primacy_scale',\n",
    "    'primacy_decay',\n",
    "    'stop_probability_scale',\n",
    "    'stop_probability_growth',\n",
    "    'choice_sensitivity',]\n",
    "\n",
    "cmr_rep_mse(data_curve, presentations[list_types==4], list_types[list_types==4], experiment_count=10, \n",
    "    **{**parameters, **{free_parameters[i]:stored_result[i] for i in range(len(stored_result))}})"
   ]
  },
  {
   "cell_type": "code",
   "execution_count": 6,
   "id": "76159709",
   "metadata": {},
   "outputs": [
    {
     "name": "stdout",
     "output_type": "stream",
     "text": [
      "293 ms ± 4.77 ms per loop (mean ± std. dev. of 7 runs, 1 loop each)\n"
     ]
    }
   ],
   "source": [
    "%%timeit\n",
    "\n",
    "cmr_rep_mse(data_curve, presentations[list_types==4], list_types[list_types==4], experiment_count=10, \n",
    "    **{**parameters, **{free_parameters[i]:stored_result[i] for i in range(len(stored_result))}})"
   ]
  },
  {
   "cell_type": "markdown",
   "id": "308a7b7b",
   "metadata": {},
   "source": [
    "## Results"
   ]
  },
  {
   "cell_type": "code",
   "execution_count": null,
   "id": "7ce5189b",
   "metadata": {},
   "outputs": [],
   "source": [
    "from scipy.optimize import differential_evolution\n",
    "import numpy as np\n",
    "\n",
    "free_parameters = [\n",
    "    'encoding_drift_rate',\n",
    "    'start_drift_rate',\n",
    "    'recall_drift_rate',\n",
    "    'shared_support',\n",
    "    'item_support',\n",
    "    'learning_rate',\n",
    "    'primacy_scale',\n",
    "    'primacy_decay',\n",
    "    'stop_probability_scale',\n",
    "    'stop_probability_growth',\n",
    "    'choice_sensitivity',]\n",
    "\n",
    "parameters = {\n",
    "}\n",
    "\n",
    "lb = np.finfo(float).eps\n",
    "ub = 1-np.finfo(float).eps\n",
    "\n",
    "bounds = [\n",
    "    (lb, ub),\n",
    "    (lb, ub),\n",
    "    (lb, ub),\n",
    "    (lb, ub),\n",
    "    (lb, ub),\n",
    "    (lb, ub),\n",
    "    (lb, 100),\n",
    "    (lb, 100),\n",
    "    (lb, ub),\n",
    "    (lb, 10),\n",
    "    (lb, 10)\n",
    "]\n",
    "\n",
    "# cost function to be minimized\n",
    "# ours scales inversely with the probability that the data could have been \n",
    "# generated using the specified parameters and our model\n",
    "cost_function = cmr_rep_mse_objective_function(\n",
    "    data_curve, presentations[list_types==4], list_types[list_types==4], 1, list_length, parameters, free_parameters)\n",
    "\n",
    "result = differential_evolution(cost_function, bounds, disp=True, maxiter=70)\n",
    "print(result)"
   ]
  },
  {
   "cell_type": "markdown",
   "id": "32a352c9",
   "metadata": {},
   "source": [
    "```\n",
    "     fun: 5.1299521657655926e-05\n",
    " message: 'Maximum number of iterations has been exceeded.'\n",
    "    nfev: 11967\n",
    "     nit: 70\n",
    " success: False\n",
    "       x: array([8.53688927e-01, 3.91315203e-01, 1.60218200e-01, 1.34342503e-03,\n",
    "       6.74953399e-01, 3.88335343e-01, 9.12294910e+00, 7.30879498e+01,\n",
    "       2.46238233e-03, 2.73722040e-01, 3.47056155e+00])\n",
    "```"
   ]
  }
 ],
 "metadata": {
  "interpreter": {
   "hash": "ecf5722fdaf1897a315d257d89d94520bfcaa453217d5becf09b39e73618b0de"
  },
  "kernelspec": {
   "display_name": "Python 3 (ipykernel)",
   "language": "python",
   "name": "python3"
  },
  "language_info": {
   "codemirror_mode": {
    "name": "ipython",
    "version": 3
   },
   "file_extension": ".py",
   "mimetype": "text/x-python",
   "name": "python",
   "nbconvert_exporter": "python",
   "pygments_lexer": "ipython3",
   "version": "3.9.1"
  }
 },
 "nbformat": 4,
 "nbformat_minor": 5
}

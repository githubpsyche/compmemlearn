{
 "cells": [
  {
   "cell_type": "markdown",
   "id": "319a4b75-5d3f-4050-9e6a-15e6a03c2db6",
   "metadata": {
    "extensions": {
     "jupyter_dashboards": {
      "activeView": "grid_default",
      "views": {
       "grid_default": {
        "col": null,
        "height": 2,
        "hidden": true,
        "row": null,
        "width": 2
       }
      }
     }
    },
    "tags": []
   },
   "source": [
    "# Deficient Encoding Evidence"
   ]
  },
  {
   "cell_type": "markdown",
   "id": "526f2d18-9066-4d43-8304-88a74bfca9a1",
   "metadata": {
    "extensions": {
     "jupyter_dashboards": {
      "activeView": "grid_default",
      "views": {
       "grid_default": {
        "col": null,
        "height": 2,
        "hidden": true,
        "row": null,
        "width": 2
       }
      }
     }
    }
   },
   "source": [
    "The big idea of the deficient encoding hypothesis as an account of the spacing effect is that:\n",
    "1. Familiarity impairs attention and memory\n",
    "2. Repeated experience of an item increases familiarity with that item\n",
    "3. On the other hand, familiarity decreases with intervening study, allowing better memory of repetitions\n",
    "\n",
    "The MINERVA-DE model (Collins et al, 2020) implements a model with these mechanisms to account for various effects in recognition memory. In the model, a short-term memory store called primary memory is maintained with a long-term secondary memory. When a word is attended, its familiarity is computed relative to the items in primary memory. The more familiar a studied item is to existing items in primary memory, the less well it is encoded in secondary memory. This process is called discrepancy encoding, because encoding is strongest for items that are discrepant with information already stored in primary memory.\n",
    "\n",
    "We are interested in realizing a similar mechanism within the framework of retrieved context theory. We'll do it through modification of the context maintenance and retrieval model (CMR). CMR has no primary memory representation exactly like the one outlined for MINERVA-DE above, but a similar component in CMR is its representation of temporal context, reflecting \"a recency-weighted average of information related to recently presented stimuli\". \n",
    "\n",
    "> When an item is encoded, contextual information associated with the item is retrieved and integrated into the context representation. Studied items become associated to the context that was active when they were presented, so that context can serve as a cue to retrieve items, and recalled items can retrieve the context that is associated with them. When an item is recalled, its feature representation is reactivated, which allows the system to reinstate the context representation associated with the item. This reinstated context can then be used to cue for another item on the list.\n",
    "\n",
    "CMR's context representation is different from MINERVA-DE's primary memory representation in some key ways. For example, while MINERVA-DE's model directly track item features encoded in recent experience, item features can only be retrieved indirectly using CMR's context representation by treating it as a memory cue. However, it's intuitive to suppose that familiarity with an item depends to some extent on this current state of context. If items and contextual states are associated in memory, then reinstating a contextual state (something hypothesized to happen whenever an item is encoded or retrieved) should correspond with increased familiarity with its associated items. \n",
    "\n",
    "As for how familiarity might then modulate memory, within CMR, a learning rate scalar modulates how strongly items are encoded into memory. The deficient encoding hypothesis calls for a mechanism to be added to CMR that modulates the value of this scalar based on the familarity of the currently encoded item. A hypothetical CMR-DE would thus track for each encoding index a measure of each item's familiarity based on the current state of context. The learning rate for memories of the current item and its contextual associations would then vary inversely with its familiarity.\n",
    "\n",
    "Our approach to testing the deficient encoding hypothesis about repetition effects should thus turn on the implications of familiarity hinging on the contextual dynamics that organize memory according to CMR. Here, the main implication we focus on is the corollary hypothesis that familiarity-based memory impairment for a given item can be increased without necesarily repeating experience of that item. Instead, contextual states associated with the item from a previous presentation can be reinstated through repetition of items originally presented near said previous presentations that share many of item's contextual associations. \n",
    "\n",
    "Consider a study list $A, B, ..., B, A$, with an indeterminate number of items intervening between $AB$ and $BA$. Encoding $A$ integrates $A$'s pre-existing contextual associations into context and builds an enduring two-way association between the current state of context and $A$. When $B$ is next encoded and this same process is carried out, $B$ becomes associated with a contextual state that contains information about $A$. Later, repeated experience of $B$ retrieves and reinstates that learned contextual state associated with $A$. Consequently, familiarity with $A$ is increased right before it is presented a second time, impairing memory of that second presentation. Later on, the probability of recalling $A$ is depressed relative to if $B$ were presented under different conditions, such as:\n",
    "- For its initial presentation, before or many more positions after initial presentation of $A$\n",
    "- For its second presentation, many more positions before or after second presentation of $A$\n",
    "\n",
    "Let's try to develop a model-free way to measure this hypothesized effect."
   ]
  },
  {
   "cell_type": "markdown",
   "id": "d4317685-3471-42e7-b44f-329f85c5a4eb",
   "metadata": {
    "extensions": {
     "jupyter_dashboards": {
      "activeView": "grid_default",
      "views": {
       "grid_default": {
        "col": null,
        "height": 2,
        "hidden": true,
        "row": null,
        "width": 2
       }
      }
     }
    }
   },
   "source": [
    "## Dataset"
   ]
  },
  {
   "cell_type": "markdown",
   "id": "5dcc43af-2a92-4368-8bd1-a79372d72052",
   "metadata": {
    "extensions": {
     "jupyter_dashboards": {
      "activeView": "grid_default",
      "views": {
       "grid_default": {
        "col": null,
        "height": 2,
        "hidden": true,
        "row": null,
        "width": 2
       }
      }
     }
    }
   },
   "source": [
    "In this notebook, we search for evidence of this pattern in the Lohnas (2014) dataset, particularly conditions 3 and 4:\n",
    "\n",
    "3. pure spaced lists consisting of items presented twice at lags 1-8, where lag is defined as the number of intervening items between a repeated item's presentations; \n",
    "4. mixed lists consisting of once presented, massed and spaced items. Within each session, subjects encountered three lists of each of these four types. \n",
    "\n",
    "In each list there were 40 presentation positions, such that in the control lists each position was occupied by a unique list item, and in the pure massed and pure spaced lists, 20 unique words were presented twice to occupy the 40 positions. In the mixed lists 28 once-presented and six twice-presented words occupied the 40 positions. In the pure spaced lists, spacings of repeated items were chosen so that each of the lags 1-8 occurred with equal probability. In the mixed lists, massed repetitions (lag=0) and spaced repetitions (lags 1-8) were chosen such that each of the 9 lags of 0-8 were used exactly twice within each session. The order of presentation for the different list types was randomized within each session. "
   ]
  },
  {
   "cell_type": "markdown",
   "id": "f62bedda-916b-48bb-ab03-1d5ede5e440c",
   "metadata": {
    "extensions": {
     "jupyter_dashboards": {
      "activeView": "grid_default",
      "views": {
       "grid_default": {
        "col": null,
        "height": 2,
        "hidden": true,
        "row": null,
        "width": 2
       }
      }
     }
    }
   },
   "source": [
    "## Approach"
   ]
  },
  {
   "cell_type": "markdown",
   "id": "53a59106-23e5-4876-84ea-61b3ed250fe9",
   "metadata": {
    "extensions": {
     "jupyter_dashboards": {
      "activeView": "grid_default",
      "views": {
       "grid_default": {
        "col": null,
        "height": 2,
        "hidden": true,
        "row": null,
        "width": 2
       }
      }
     }
    }
   },
   "source": [
    "As an initial pass, we'll try to identify all trials in the dataset with $A, B, ..., B, A$ subsequences, with no multiple presentations of a single item between $AB$ and $BA$. We'll also require at least one intervening item between presentations of $B$, ideally more. \n",
    "\n",
    "For comparison, we'll also look for trials where there are no multiply-presented items between spaced $A$ presentations, and for trials where where there is just one.\n",
    "\n",
    "To help brainstorm controls, we'll plot for each detected subsequence the lag between $A$ presentations against the serial position of $A$ in a dot plot.\n",
    "\n",
    "Across conditions, our main result may include:\n",
    "1. Recall rates for $A$ under the target subsequence vs under other orderings\n",
    "2. Correlation between recall rate for A and lag between $B_1$ and $A_1$.\n",
    "3. Correlation between recall rate for A and lag between $B_2$ and $A_2$. "
   ]
  },
  {
   "cell_type": "code",
   "execution_count": null,
   "id": "50a4b821-3e26-40bf-a9a4-d918efeddc3c",
   "metadata": {
    "extensions": {
     "jupyter_dashboards": {
      "activeView": "grid_default",
      "views": {
       "grid_default": {
        "col": null,
        "height": 2,
        "hidden": true,
        "row": null,
        "width": 2
       }
      }
     }
    }
   },
   "outputs": [
    {
     "data": {
      "text/html": [
       "<div>\n",
       "<style scoped>\n",
       "    .dataframe tbody tr th:only-of-type {\n",
       "        vertical-align: middle;\n",
       "    }\n",
       "\n",
       "    .dataframe tbody tr th {\n",
       "        vertical-align: top;\n",
       "    }\n",
       "\n",
       "    .dataframe thead th {\n",
       "        text-align: right;\n",
       "    }\n",
       "</style>\n",
       "<table border=\"1\" class=\"dataframe\">\n",
       "  <thead>\n",
       "    <tr style=\"text-align: right;\">\n",
       "      <th></th>\n",
       "      <th>subject</th>\n",
       "      <th>list</th>\n",
       "      <th>item</th>\n",
       "      <th>input</th>\n",
       "      <th>output</th>\n",
       "      <th>study</th>\n",
       "      <th>recall</th>\n",
       "      <th>repeat</th>\n",
       "      <th>intrusion</th>\n",
       "      <th>condition</th>\n",
       "    </tr>\n",
       "  </thead>\n",
       "  <tbody>\n",
       "    <tr>\n",
       "      <th>0</th>\n",
       "      <td>1</td>\n",
       "      <td>1</td>\n",
       "      <td>0</td>\n",
       "      <td>1</td>\n",
       "      <td>1.0</td>\n",
       "      <td>True</td>\n",
       "      <td>True</td>\n",
       "      <td>0</td>\n",
       "      <td>False</td>\n",
       "      <td>4</td>\n",
       "    </tr>\n",
       "    <tr>\n",
       "      <th>1</th>\n",
       "      <td>1</td>\n",
       "      <td>1</td>\n",
       "      <td>1</td>\n",
       "      <td>2</td>\n",
       "      <td>2.0</td>\n",
       "      <td>True</td>\n",
       "      <td>True</td>\n",
       "      <td>0</td>\n",
       "      <td>False</td>\n",
       "      <td>4</td>\n",
       "    </tr>\n",
       "    <tr>\n",
       "      <th>2</th>\n",
       "      <td>1</td>\n",
       "      <td>1</td>\n",
       "      <td>2</td>\n",
       "      <td>3</td>\n",
       "      <td>3.0</td>\n",
       "      <td>True</td>\n",
       "      <td>True</td>\n",
       "      <td>0</td>\n",
       "      <td>False</td>\n",
       "      <td>4</td>\n",
       "    </tr>\n",
       "    <tr>\n",
       "      <th>3</th>\n",
       "      <td>1</td>\n",
       "      <td>1</td>\n",
       "      <td>3</td>\n",
       "      <td>4</td>\n",
       "      <td>4.0</td>\n",
       "      <td>True</td>\n",
       "      <td>True</td>\n",
       "      <td>0</td>\n",
       "      <td>False</td>\n",
       "      <td>4</td>\n",
       "    </tr>\n",
       "    <tr>\n",
       "      <th>4</th>\n",
       "      <td>1</td>\n",
       "      <td>1</td>\n",
       "      <td>4</td>\n",
       "      <td>5</td>\n",
       "      <td>5.0</td>\n",
       "      <td>True</td>\n",
       "      <td>True</td>\n",
       "      <td>0</td>\n",
       "      <td>False</td>\n",
       "      <td>4</td>\n",
       "    </tr>\n",
       "  </tbody>\n",
       "</table>\n",
       "</div>"
      ],
      "text/plain": [
       "   subject  list  item  input  output  study  recall  repeat  intrusion  \\\n",
       "0        1     1     0      1     1.0   True    True       0      False   \n",
       "1        1     1     1      2     2.0   True    True       0      False   \n",
       "2        1     1     2      3     3.0   True    True       0      False   \n",
       "3        1     1     3      4     4.0   True    True       0      False   \n",
       "4        1     1     4      5     5.0   True    True       0      False   \n",
       "\n",
       "   condition  \n",
       "0          4  \n",
       "1          4  \n",
       "2          4  \n",
       "3          4  \n",
       "4          4  "
      ]
     },
     "execution_count": null,
     "metadata": {},
     "output_type": "execute_result"
    }
   ],
   "source": [
    "import numpy as np\n",
    "import pandas as pd\n",
    "from repfr.datasets import prepare_repdata\n",
    "\n",
    "trials, events, list_length, presentations, list_types, rep_data, subjects = prepare_repdata(\n",
    "    '../data/repFR.mat')\n",
    "\n",
    "events.head()"
   ]
  },
  {
   "cell_type": "markdown",
   "id": "da0bd459-235f-40e5-af04-66970673a815",
   "metadata": {
    "extensions": {
     "jupyter_dashboards": {
      "activeView": "grid_default",
      "views": {
       "grid_default": {
        "col": null,
        "height": 2,
        "hidden": true,
        "row": null,
        "width": 2
       }
      }
     }
    }
   },
   "source": [
    "## Trial Identification"
   ]
  },
  {
   "cell_type": "code",
   "execution_count": null,
   "id": "57281e7d-0e68-44f8-ba0c-ecc257fdd810",
   "metadata": {
    "extensions": {
     "jupyter_dashboards": {
      "activeView": "grid_default",
      "views": {
       "grid_default": {
        "col": null,
        "height": 2,
        "hidden": true,
        "row": null,
        "width": 2
       }
      }
     }
    }
   },
   "outputs": [
    {
     "data": {
      "text/html": [
       "<div>\n",
       "<style scoped>\n",
       "    .dataframe tbody tr th:only-of-type {\n",
       "        vertical-align: middle;\n",
       "    }\n",
       "\n",
       "    .dataframe tbody tr th {\n",
       "        vertical-align: top;\n",
       "    }\n",
       "\n",
       "    .dataframe thead th {\n",
       "        text-align: right;\n",
       "    }\n",
       "</style>\n",
       "<table border=\"1\" class=\"dataframe\">\n",
       "  <thead>\n",
       "    <tr style=\"text-align: right;\">\n",
       "      <th></th>\n",
       "      <th>trial</th>\n",
       "      <th>list_type</th>\n",
       "      <th>subject</th>\n",
       "      <th>group</th>\n",
       "      <th>item</th>\n",
       "      <th>recalled</th>\n",
       "      <th>startPos</th>\n",
       "      <th>lagA</th>\n",
       "      <th>lagB</th>\n",
       "      <th>lagB1</th>\n",
       "      <th>lagB2</th>\n",
       "    </tr>\n",
       "  </thead>\n",
       "  <tbody>\n",
       "    <tr>\n",
       "      <th>0</th>\n",
       "      <td>0</td>\n",
       "      <td>4</td>\n",
       "      <td>1</td>\n",
       "      <td>2</td>\n",
       "      <td>9</td>\n",
       "      <td>True</td>\n",
       "      <td>9</td>\n",
       "      <td>8</td>\n",
       "      <td>0</td>\n",
       "      <td>1</td>\n",
       "      <td>6</td>\n",
       "    </tr>\n",
       "    <tr>\n",
       "      <th>1</th>\n",
       "      <td>0</td>\n",
       "      <td>4</td>\n",
       "      <td>1</td>\n",
       "      <td>1</td>\n",
       "      <td>19</td>\n",
       "      <td>True</td>\n",
       "      <td>21</td>\n",
       "      <td>4</td>\n",
       "      <td>-1</td>\n",
       "      <td>-1</td>\n",
       "      <td>-1</td>\n",
       "    </tr>\n",
       "    <tr>\n",
       "      <th>2</th>\n",
       "      <td>0</td>\n",
       "      <td>4</td>\n",
       "      <td>1</td>\n",
       "      <td>1</td>\n",
       "      <td>21</td>\n",
       "      <td>False</td>\n",
       "      <td>24</td>\n",
       "      <td>5</td>\n",
       "      <td>-1</td>\n",
       "      <td>-1</td>\n",
       "      <td>-1</td>\n",
       "    </tr>\n",
       "    <tr>\n",
       "      <th>3</th>\n",
       "      <td>0</td>\n",
       "      <td>4</td>\n",
       "      <td>1</td>\n",
       "      <td>1</td>\n",
       "      <td>23</td>\n",
       "      <td>False</td>\n",
       "      <td>27</td>\n",
       "      <td>5</td>\n",
       "      <td>-1</td>\n",
       "      <td>-1</td>\n",
       "      <td>-1</td>\n",
       "    </tr>\n",
       "    <tr>\n",
       "      <th>4</th>\n",
       "      <td>2</td>\n",
       "      <td>3</td>\n",
       "      <td>1</td>\n",
       "      <td>2</td>\n",
       "      <td>1</td>\n",
       "      <td>True</td>\n",
       "      <td>1</td>\n",
       "      <td>6</td>\n",
       "      <td>1</td>\n",
       "      <td>2</td>\n",
       "      <td>2</td>\n",
       "    </tr>\n",
       "  </tbody>\n",
       "</table>\n",
       "</div>"
      ],
      "text/plain": [
       "   trial  list_type  subject  group  item  recalled  startPos  lagA  lagB  \\\n",
       "0      0          4        1      2     9      True         9     8     0   \n",
       "1      0          4        1      1    19      True        21     4    -1   \n",
       "2      0          4        1      1    21     False        24     5    -1   \n",
       "3      0          4        1      1    23     False        27     5    -1   \n",
       "4      2          3        1      2     1      True         1     6     1   \n",
       "\n",
       "   lagB1  lagB2  \n",
       "0      1      6  \n",
       "1     -1     -1  \n",
       "2     -1     -1  \n",
       "3     -1     -1  \n",
       "4      2      2  "
      ]
     },
     "execution_count": null,
     "metadata": {},
     "output_type": "execute_result"
    }
   ],
   "source": [
    "result = []\n",
    "\n",
    "for trial_index, sequence in enumerate(presentations):\n",
    "    \n",
    "    if list_types[trial_index] < 3:\n",
    "        continue\n",
    "    \n",
    "    for item in np.unique(sequence):\n",
    "        list_positions = np.where(sequence == item)[0]\n",
    "\n",
    "        # no use considering items presented just once\n",
    "        if (len(list_positions) == 1):\n",
    "            continue\n",
    "        \n",
    "        # also don't consider sequences with lag below a minimum\n",
    "        lag = list_positions[1] - list_positions[0] - 1\n",
    "        subsequence = sequence[list_positions[0]+1:list_positions[1]]\n",
    "        if lag < 3:\n",
    "            continue\n",
    "            \n",
    "        # track and avoid sequences where # unique items < lag - 1\n",
    "        multiply_presented_items = lag - len(\n",
    "            np.unique(subsequence))\n",
    "        if multiply_presented_items > 1:\n",
    "            continue\n",
    "            \n",
    "        # if item at i+1 and j-1 are the same, that's target group\n",
    "        if subsequence[0] == subsequence[-1]:\n",
    "            group = 0\n",
    "            \n",
    "        # if zero multiply presented items in subsequence, another group\n",
    "        elif multiply_presented_items == 0:\n",
    "            group = 1\n",
    "        else:\n",
    "            group = 2\n",
    "        \n",
    "        if group == 1:\n",
    "            lagB, lagB1, lagB2 = -1, -1, -1\n",
    "        else:\n",
    "            # find positions of multiply repeated item within subsequence\n",
    "            for candidate in subsequence:\n",
    "                sub_positions = np.where(subsequence == candidate)[0]\n",
    "                if len(sub_positions) != 1:\n",
    "                    lagB = sub_positions[1] - sub_positions[0] - 1\n",
    "                    lagB1 = sub_positions[0]\n",
    "                    lagB2 = len(subsequence) - sub_positions[1]\n",
    "                    break\n",
    "        \n",
    "        result.append(\n",
    "            [trial_index, list_types[trial_index], subjects[trial_index], group, item, \n",
    "             item+1 in trials[trial_index], list_positions[0], \n",
    "             lag, lagB, lagB1, lagB2])\n",
    "        \n",
    "result = pd.DataFrame(\n",
    "    result, columns=['trial', 'list_type', 'subject', 'group', 'item', 'recalled', 'startPos', \n",
    "                     'lagA', 'lagB', 'lagB1', 'lagB2'])\n",
    "result.head()"
   ]
  },
  {
   "cell_type": "code",
   "execution_count": null,
   "id": "24bfd56c-1120-4aa5-8933-08a669cb8bae",
   "metadata": {
    "extensions": {
     "jupyter_dashboards": {
      "activeView": "grid_default",
      "views": {
       "grid_default": {
        "col": null,
        "height": 2,
        "hidden": true,
        "row": null,
        "width": 2
       }
      }
     }
    }
   },
   "outputs": [],
   "source": [
    "#result = result[result.group==2]\n",
    "#result = result[result.list_type==3]\n",
    "\n",
    "#result.lagB1.corr(result.recalled)"
   ]
  },
  {
   "cell_type": "code",
   "execution_count": null,
   "id": "460e4680-25f3-4d65-b0e0-0de3492b5dee",
   "metadata": {
    "extensions": {
     "jupyter_dashboards": {
      "activeView": "grid_default",
      "views": {
       "grid_default": {
        "col": null,
        "height": 2,
        "hidden": true,
        "row": null,
        "width": 2
       }
      }
     }
    }
   },
   "outputs": [],
   "source": [
    "#result.lagB2.corr(result.recalled)"
   ]
  },
  {
   "cell_type": "markdown",
   "id": "c7507de2-f059-4ac0-8150-d9c799f64faa",
   "metadata": {
    "extensions": {
     "jupyter_dashboards": {
      "activeView": "grid_default",
      "views": {
       "grid_default": {
        "col": null,
        "height": 2,
        "hidden": true,
        "row": null,
        "width": 2
       }
      }
     }
    }
   },
   "source": [
    "## Initial Analyses"
   ]
  },
  {
   "cell_type": "markdown",
   "id": "a234a37c-4cdc-4da8-a153-d18acbdd5552",
   "metadata": {
    "extensions": {
     "jupyter_dashboards": {
      "activeView": "grid_default",
      "views": {
       "grid_default": {
        "col": null,
        "height": 2,
        "hidden": true,
        "row": null,
        "width": 2
       }
      }
     }
    }
   },
   "source": [
    "### Initial Comparison of Recall Probabilities"
   ]
  },
  {
   "cell_type": "code",
   "execution_count": null,
   "id": "766f11f3-5e47-423b-ac4b-64014b619d36",
   "metadata": {
    "extensions": {
     "jupyter_dashboards": {
      "activeView": "grid_default",
      "views": {
       "grid_default": {
        "col": null,
        "height": 2,
        "hidden": true,
        "row": null,
        "width": 2
       }
      }
     }
    }
   },
   "outputs": [
    {
     "data": {
      "image/png": "[encoded data removed]",
      "text/plain": [
       "<Figure size 432x288 with 1 Axes>"
      ]
     },
     "metadata": {
      "needs_background": "light"
     },
     "output_type": "display_data"
    }
   ],
   "source": [
    "import seaborn as sns\n",
    "import matplotlib.pyplot as plt\n",
    "\n",
    "ax = sns.barplot(data=result, x=\"group\", y=\"recalled\", estimator=np.mean)"
   ]
  },
  {
   "cell_type": "markdown",
   "id": "acdfb731-cbfd-49b3-bf3f-11b14a7e9895",
   "metadata": {
    "extensions": {
     "jupyter_dashboards": {
      "activeView": "grid_default",
      "views": {
       "grid_default": {
        "col": null,
        "height": 2,
        "hidden": true,
        "row": null,
        "width": 2
       }
      }
     }
    }
   },
   "source": [
    "### Lag Distributions by Group"
   ]
  },
  {
   "cell_type": "code",
   "execution_count": null,
   "id": "52e99022-0b7d-46cc-a4fd-cf20f49a4567",
   "metadata": {
    "extensions": {
     "jupyter_dashboards": {
      "activeView": "grid_default",
      "views": {
       "grid_default": {
        "col": null,
        "height": 2,
        "hidden": true,
        "row": null,
        "width": 2
       }
      }
     }
    }
   },
   "outputs": [
    {
     "data": {
      "image/png": "[encoded data removed]",
      "text/plain": [
       "<Figure size 648x216 with 3 Axes>"
      ]
     },
     "metadata": {
      "needs_background": "light"
     },
     "output_type": "display_data"
    }
   ],
   "source": [
    "g = sns.FacetGrid(result, col=\"group\")\n",
    "g.map_dataframe(sns.histplot, x=\"lagA\", discrete=True, stat=\"probability\")\n",
    "g.set_axis_labels(\"Lag\", \"Proportion in Dataset\")\n",
    "plt.show()"
   ]
  },
  {
   "cell_type": "markdown",
   "id": "e401cf8e-7dd0-4bf2-b6fd-3ad5e39bd956",
   "metadata": {
    "extensions": {
     "jupyter_dashboards": {
      "activeView": "grid_default",
      "views": {
       "grid_default": {
        "col": null,
        "height": 2,
        "hidden": true,
        "row": null,
        "width": 2
       }
      }
     }
    }
   },
   "source": [
    "### Serial Position by Group"
   ]
  },
  {
   "cell_type": "code",
   "execution_count": null,
   "id": "a3292509-6b60-40b2-b282-d8e9a75e12a7",
   "metadata": {
    "extensions": {
     "jupyter_dashboards": {
      "activeView": "grid_default",
      "views": {
       "grid_default": {
        "col": null,
        "height": 2,
        "hidden": true,
        "row": null,
        "width": 2
       }
      }
     }
    }
   },
   "outputs": [
    {
     "data": {
      "image/png": "[encoded data removed]",
      "text/plain": [
       "<Figure size 648x216 with 3 Axes>"
      ]
     },
     "metadata": {
      "needs_background": "light"
     },
     "output_type": "display_data"
    }
   ],
   "source": [
    "g = sns.FacetGrid(result, col=\"group\")\n",
    "g.map_dataframe(sns.histplot, x=\"startPos\", discrete=True, stat='probability')\n",
    "g.set_axis_labels(\"startPos\", \"Proportion in Dataset\")\n",
    "plt.show()"
   ]
  },
  {
   "cell_type": "markdown",
   "id": "c2f1e6d8-2bca-4ae6-b0c8-b924d5789b99",
   "metadata": {
    "extensions": {
     "jupyter_dashboards": {
      "activeView": "grid_default",
      "views": {
       "grid_default": {
        "col": null,
        "height": 2,
        "hidden": true,
        "row": null,
        "width": 2
       }
      }
     }
    }
   },
   "source": [
    "### Subject ID by Group"
   ]
  },
  {
   "cell_type": "code",
   "execution_count": null,
   "id": "f93b2a19-5289-4670-839f-b7c184d9dbec",
   "metadata": {
    "extensions": {
     "jupyter_dashboards": {
      "activeView": "grid_default",
      "views": {
       "grid_default": {
        "col": null,
        "height": 2,
        "hidden": true,
        "row": null,
        "width": 2
       }
      }
     }
    }
   },
   "outputs": [
    {
     "data": {
      "image/png": "[encoded data removed]",
      "text/plain": [
       "<Figure size 648x216 with 3 Axes>"
      ]
     },
     "metadata": {
      "needs_background": "light"
     },
     "output_type": "display_data"
    }
   ],
   "source": [
    "g = sns.FacetGrid(result, col=\"group\")\n",
    "g.map_dataframe(sns.histplot, x=\"subject\", discrete=True, stat='probability')\n",
    "g.set_axis_labels(\"Subject\", \"Proportion in Dataset\")\n",
    "plt.show()"
   ]
  },
  {
   "cell_type": "markdown",
   "id": "9ca3f50b-f21e-457e-a9cb-042a1e0455be",
   "metadata": {
    "extensions": {
     "jupyter_dashboards": {
      "activeView": "grid_default",
      "views": {
       "grid_default": {
        "col": null,
        "height": 2,
        "hidden": true,
        "row": null,
        "width": 2
       }
      }
     }
    }
   },
   "source": [
    "## Adding Stronger Controls\n",
    "We'll try to find for every relevant subsequence in the target group a matching subsequence in the other group(s) that has the same list_type, startPos, subject, lagA. But not trial. And obviously recall is the variable we're interested in."
   ]
  },
  {
   "cell_type": "markdown",
   "id": "48f16bc1-489e-4517-af9d-7c291b9ebfb9",
   "metadata": {
    "extensions": {
     "jupyter_dashboards": {
      "activeView": "grid_default",
      "views": {
       "grid_default": {
        "col": null,
        "height": 2,
        "hidden": true,
        "row": null,
        "width": 2
       }
      }
     }
    }
   },
   "source": [
    "### Matching Features\n",
    "We define a new function that finds matching subsequences this way."
   ]
  },
  {
   "cell_type": "code",
   "execution_count": null,
   "id": "c0c44e0e-988e-4300-a825-4205fc8cd68a",
   "metadata": {
    "extensions": {
     "jupyter_dashboards": {
      "activeView": "grid_default",
      "views": {
       "grid_default": {
        "col": null,
        "height": 2,
        "hidden": true,
        "row": null,
        "width": 2
       }
      }
     }
    }
   },
   "outputs": [],
   "source": [
    "def match_features(target_group, list_type, startPos, subject, lagA):\n",
    "    \n",
    "    result = []\n",
    "    for trial_index, sequence in enumerate(presentations):\n",
    "    \n",
    "        # test for matching list_type\n",
    "        if list_types[trial_index] != list_type:\n",
    "            continue\n",
    "            \n",
    "        # test for matching subject\n",
    "        if subjects[trial_index] != subject:\n",
    "            continue\n",
    "\n",
    "        for item in np.unique(sequence):\n",
    "            list_positions = np.where(sequence == item)[0]\n",
    "\n",
    "            # no use considering items presented just once\n",
    "            if (len(list_positions) == 1):\n",
    "                continue\n",
    "\n",
    "            # test for matching startPos\n",
    "            if list_positions[0] != startPos:\n",
    "                continue\n",
    "\n",
    "            # test for matching lag\n",
    "            lag = list_positions[1] - list_positions[0] - 1\n",
    "            subsequence = sequence[list_positions[0]+1:list_positions[1]]\n",
    "            if lag != lagA:\n",
    "                continue\n",
    "                \n",
    "            # track and avoid sequences where # unique items < lag - 1\n",
    "            multiply_presented_items = lag - len(\n",
    "                np.unique(subsequence))\n",
    "            if multiply_presented_items > 1:\n",
    "                continue\n",
    "            \n",
    "            # if item at i+1 and j-1 are the same, that's target group\n",
    "            if subsequence[0] == subsequence[-1]:\n",
    "                group = 0\n",
    "                \n",
    "             # if zero multiply presented items in subsequence, another group\n",
    "            elif multiply_presented_items == 0:\n",
    "                group = 1\n",
    "            else:\n",
    "                group = 2\n",
    "                \n",
    "            if group != target_group:\n",
    "                continue\n",
    "                \n",
    "            if group == 1:\n",
    "                lagB, lagB1, lagB2 = -1, -1, -1\n",
    "            else:\n",
    "                # find positions of multiply repeated item within subsequence\n",
    "                for candidate in subsequence:\n",
    "                    sub_positions = np.where(subsequence == candidate)[0]\n",
    "                    if len(sub_positions) != 1:\n",
    "                        lagB = sub_positions[1] - sub_positions[0] - 1\n",
    "                        lagB1 = sub_positions[0]\n",
    "                        lagB2 = len(subsequence) - sub_positions[1]\n",
    "                        break\n",
    "            \n",
    "            result.append(\n",
    "                [trial_index, list_types[trial_index], subjects[trial_index], group, item, \n",
    "                 item+1 in trials[trial_index], list_positions[0], \n",
    "                 lag, lagB, lagB1, lagB2])\n",
    "    \n",
    "    return result"
   ]
  },
  {
   "cell_type": "markdown",
   "id": "a8fb4fd0-c4a0-4b43-b419-4725eb7f4d97",
   "metadata": {
    "extensions": {
     "jupyter_dashboards": {
      "activeView": "grid_default",
      "views": {
       "grid_default": {
        "col": null,
        "height": 2,
        "hidden": true,
        "row": null,
        "width": 2
       }
      }
     }
    }
   },
   "source": [
    "### Building a DataFrame\n",
    "For every subsequence in group 0 that we can find matching subsequences for in other groups (should we care if it's in all other groups? Figure that out later), we'll sample from the retrieved subsequences 100 times to build a dataframe with our controls."
   ]
  },
  {
   "cell_type": "code",
   "execution_count": null,
   "id": "1c19a5d4-38fd-4507-bace-16edccc6e699",
   "metadata": {
    "extensions": {
     "jupyter_dashboards": {
      "activeView": "grid_default",
      "views": {
       "grid_default": {
        "col": null,
        "height": 2,
        "hidden": true,
        "row": null,
        "width": 2
       }
      }
     }
    }
   },
   "outputs": [
    {
     "data": {
      "text/html": [
       "<div>\n",
       "<style scoped>\n",
       "    .dataframe tbody tr th:only-of-type {\n",
       "        vertical-align: middle;\n",
       "    }\n",
       "\n",
       "    .dataframe tbody tr th {\n",
       "        vertical-align: top;\n",
       "    }\n",
       "\n",
       "    .dataframe thead th {\n",
       "        text-align: right;\n",
       "    }\n",
       "</style>\n",
       "<table border=\"1\" class=\"dataframe\">\n",
       "  <thead>\n",
       "    <tr style=\"text-align: right;\">\n",
       "      <th></th>\n",
       "      <th>trial</th>\n",
       "      <th>list_type</th>\n",
       "      <th>subject</th>\n",
       "      <th>group</th>\n",
       "      <th>item</th>\n",
       "      <th>recalled</th>\n",
       "      <th>startPos</th>\n",
       "      <th>lagA</th>\n",
       "      <th>lagB</th>\n",
       "      <th>lagB1</th>\n",
       "      <th>lagB2</th>\n",
       "    </tr>\n",
       "  </thead>\n",
       "  <tbody>\n",
       "    <tr>\n",
       "      <th>0</th>\n",
       "      <td>19</td>\n",
       "      <td>3</td>\n",
       "      <td>1</td>\n",
       "      <td>0</td>\n",
       "      <td>2</td>\n",
       "      <td>True</td>\n",
       "      <td>2</td>\n",
       "      <td>4</td>\n",
       "      <td>-1</td>\n",
       "      <td>-1</td>\n",
       "      <td>-1</td>\n",
       "    </tr>\n",
       "    <tr>\n",
       "      <th>1</th>\n",
       "      <td>19</td>\n",
       "      <td>3</td>\n",
       "      <td>1</td>\n",
       "      <td>0</td>\n",
       "      <td>2</td>\n",
       "      <td>True</td>\n",
       "      <td>2</td>\n",
       "      <td>4</td>\n",
       "      <td>-1</td>\n",
       "      <td>-1</td>\n",
       "      <td>-1</td>\n",
       "    </tr>\n",
       "    <tr>\n",
       "      <th>2</th>\n",
       "      <td>19</td>\n",
       "      <td>3</td>\n",
       "      <td>1</td>\n",
       "      <td>0</td>\n",
       "      <td>2</td>\n",
       "      <td>True</td>\n",
       "      <td>2</td>\n",
       "      <td>4</td>\n",
       "      <td>-1</td>\n",
       "      <td>-1</td>\n",
       "      <td>-1</td>\n",
       "    </tr>\n",
       "    <tr>\n",
       "      <th>3</th>\n",
       "      <td>19</td>\n",
       "      <td>3</td>\n",
       "      <td>1</td>\n",
       "      <td>0</td>\n",
       "      <td>2</td>\n",
       "      <td>True</td>\n",
       "      <td>2</td>\n",
       "      <td>4</td>\n",
       "      <td>-1</td>\n",
       "      <td>-1</td>\n",
       "      <td>-1</td>\n",
       "    </tr>\n",
       "    <tr>\n",
       "      <th>4</th>\n",
       "      <td>19</td>\n",
       "      <td>3</td>\n",
       "      <td>1</td>\n",
       "      <td>0</td>\n",
       "      <td>2</td>\n",
       "      <td>True</td>\n",
       "      <td>2</td>\n",
       "      <td>4</td>\n",
       "      <td>-1</td>\n",
       "      <td>-1</td>\n",
       "      <td>-1</td>\n",
       "    </tr>\n",
       "  </tbody>\n",
       "</table>\n",
       "</div>"
      ],
      "text/plain": [
       "   trial  list_type  subject  group  item  recalled  startPos  lagA  lagB  \\\n",
       "0     19          3        1      0     2      True         2     4    -1   \n",
       "1     19          3        1      0     2      True         2     4    -1   \n",
       "2     19          3        1      0     2      True         2     4    -1   \n",
       "3     19          3        1      0     2      True         2     4    -1   \n",
       "4     19          3        1      0     2      True         2     4    -1   \n",
       "\n",
       "   lagB1  lagB2  \n",
       "0     -1     -1  \n",
       "1     -1     -1  \n",
       "2     -1     -1  \n",
       "3     -1     -1  \n",
       "4     -1     -1  "
      ]
     },
     "execution_count": null,
     "metadata": {},
     "output_type": "execute_result"
    }
   ],
   "source": [
    "import random\n",
    "\n",
    "result = []\n",
    "\n",
    "for trial_index, sequence in enumerate(presentations):\n",
    "    \n",
    "    if list_types[trial_index] != 3:\n",
    "        continue\n",
    "    \n",
    "    for item in np.unique(sequence):\n",
    "        list_positions = np.where(sequence == item)[0]\n",
    "\n",
    "        # no use considering items presented just once\n",
    "        if (len(list_positions) == 1):\n",
    "            continue\n",
    "        \n",
    "        # also don't consider sequences with lag below a minimum\n",
    "        lag = list_positions[1] - list_positions[0] - 1\n",
    "        subsequence = sequence[list_positions[0]+1:list_positions[1]]\n",
    "        if lag < 3:\n",
    "            continue\n",
    "            \n",
    "        # track and avoid sequences where # unique items < lag - 1\n",
    "        multiply_presented_items = lag - len(\n",
    "            np.unique(subsequence))\n",
    "        if multiply_presented_items > 1:\n",
    "            continue\n",
    "            \n",
    "        # if item at i+1 and j-1 are the same, that's target group\n",
    "        if subsequence[0] != subsequence[-1]:\n",
    "            continue\n",
    "        \n",
    "        # we'll never include this group in analyses of B lags\n",
    "        lagB, lagB1, lagB2 = -1, -1, -1\n",
    "        \n",
    "        # look for matched trials in each group to include in dataframe\n",
    "        matched_trials1 = match_features(\n",
    "            1, 3, list_positions[0], subjects[trial_index], lag)\n",
    "        matched_trials2 = match_features(\n",
    "            2, 3, list_positions[0], subjects[trial_index], lag)\n",
    "        \n",
    "        # if we can't find matched trials, go next\n",
    "        if len(matched_trials1) == 0 or len(matched_trials2) == 0:\n",
    "            continue\n",
    "        for i in range(100):\n",
    "            result.append(\n",
    "                [trial_index, list_types[trial_index], subjects[trial_index], \n",
    "                 0, item, item+1 in trials[trial_index], list_positions[0], \n",
    "                 lag, lagB, lagB1, lagB2])\n",
    "            \n",
    "        # build a balanced sample from matched groups for comparison\n",
    "        if len(matched_trials1) == 0:\n",
    "            pass\n",
    "        elif len(matched_trials1) == 1:\n",
    "            for i in range(100):\n",
    "                result.append(matched_trials1[0])\n",
    "        else:\n",
    "            for i in range(100):\n",
    "                result.append(random.choice(matched_trials1))\n",
    "                \n",
    "        if len(matched_trials2) == 0:\n",
    "            pass\n",
    "        elif len(matched_trials2) == 1:\n",
    "            for i in range(100):\n",
    "                result.append(matched_trials2[0])\n",
    "        else:\n",
    "            for i in range(100):\n",
    "                result.append(random.choice(matched_trials2))\n",
    "        \n",
    "result = pd.DataFrame(\n",
    "    result, columns=['trial', 'list_type', 'subject', 'group', 'item', 'recalled', 'startPos', \n",
    "                     'lagA', 'lagB', 'lagB1', 'lagB2'])\n",
    "result.head()"
   ]
  },
  {
   "cell_type": "markdown",
   "id": "4317f323-d50e-463d-af0c-e2305098ad85",
   "metadata": {
    "extensions": {
     "jupyter_dashboards": {
      "activeView": "grid_default",
      "views": {
       "grid_default": {
        "col": null,
        "height": 2,
        "hidden": true,
        "row": null,
        "width": 2
       }
      }
     }
    }
   },
   "source": [
    "### Comparison of Recall Probabilities"
   ]
  },
  {
   "cell_type": "code",
   "execution_count": null,
   "id": "5f7e6821-8614-4297-8fb9-88611d7c2796",
   "metadata": {
    "extensions": {
     "jupyter_dashboards": {
      "activeView": "grid_default",
      "views": {
       "grid_default": {
        "col": null,
        "height": 2,
        "hidden": true,
        "row": null,
        "width": 2
       }
      }
     }
    }
   },
   "outputs": [
    {
     "data": {
      "image/png": "[encoded data removed]",
      "text/plain": [
       "<Figure size 432x288 with 1 Axes>"
      ]
     },
     "metadata": {
      "needs_background": "light"
     },
     "output_type": "display_data"
    }
   ],
   "source": [
    "import seaborn as sns\n",
    "import matplotlib.pyplot as plt\n",
    "\n",
    "ax = sns.barplot(data=result, x=\"group\", y=\"recalled\", estimator=np.mean)"
   ]
  },
  {
   "cell_type": "markdown",
   "id": "ae13db79-0595-424e-be41-94fe872b117a",
   "metadata": {
    "extensions": {
     "jupyter_dashboards": {
      "activeView": "grid_default",
      "views": {
       "grid_default": {
        "col": null,
        "height": 2,
        "hidden": true,
        "row": null,
        "width": 2
       }
      }
     }
    }
   },
   "source": [
    "### Lag Distributions by Group"
   ]
  },
  {
   "cell_type": "code",
   "execution_count": null,
   "id": "2fad336f-8820-48d4-a7d6-103e4de9ee2c",
   "metadata": {
    "extensions": {
     "jupyter_dashboards": {
      "activeView": "grid_default",
      "views": {
       "grid_default": {
        "col": null,
        "height": 2,
        "hidden": true,
        "row": null,
        "width": 2
       }
      }
     }
    }
   },
   "outputs": [
    {
     "data": {
      "image/png": "[encoded data removed]",
      "text/plain": [
       "<Figure size 648x216 with 3 Axes>"
      ]
     },
     "metadata": {
      "needs_background": "light"
     },
     "output_type": "display_data"
    }
   ],
   "source": [
    "g = sns.FacetGrid(result, col=\"group\")\n",
    "g.map_dataframe(sns.histplot, x=\"lagA\", discrete=True, stat=\"probability\")\n",
    "g.set_axis_labels(\"Lag\", \"Proportion in Dataset\")\n",
    "plt.show()"
   ]
  },
  {
   "cell_type": "markdown",
   "id": "a5e0e898-fd5e-4c6b-a900-67e3755607aa",
   "metadata": {
    "extensions": {
     "jupyter_dashboards": {
      "activeView": "grid_default",
      "views": {
       "grid_default": {
        "col": null,
        "height": 2,
        "hidden": true,
        "row": null,
        "width": 2
       }
      }
     }
    }
   },
   "source": [
    "### Serial Position by Group"
   ]
  },
  {
   "cell_type": "code",
   "execution_count": null,
   "id": "0c836a8c-d438-489f-9978-88548a12f820",
   "metadata": {
    "extensions": {
     "jupyter_dashboards": {
      "activeView": "grid_default",
      "views": {
       "grid_default": {
        "col": null,
        "height": 2,
        "hidden": true,
        "row": null,
        "width": 2
       }
      }
     }
    }
   },
   "outputs": [
    {
     "data": {
      "image/png": "[encoded data removed]",
      "text/plain": [
       "<Figure size 648x216 with 3 Axes>"
      ]
     },
     "metadata": {
      "needs_background": "light"
     },
     "output_type": "display_data"
    }
   ],
   "source": [
    "g = sns.FacetGrid(result, col=\"group\")\n",
    "g.map_dataframe(sns.histplot, x=\"startPos\", discrete=True, stat='probability')\n",
    "g.set_axis_labels(\"startPos\", \"Proportion in Dataset\")\n",
    "plt.show()"
   ]
  },
  {
   "cell_type": "markdown",
   "id": "a00f67fc-e562-4a4a-ba09-22a8c56ba73b",
   "metadata": {
    "extensions": {
     "jupyter_dashboards": {
      "activeView": "grid_default",
      "views": {
       "grid_default": {
        "col": null,
        "height": 2,
        "hidden": true,
        "row": null,
        "width": 2
       }
      }
     }
    }
   },
   "source": [
    "### Subject ID by Group"
   ]
  },
  {
   "cell_type": "code",
   "execution_count": null,
   "id": "115ae231-0367-4e77-a84a-cdeb6428472d",
   "metadata": {
    "extensions": {
     "jupyter_dashboards": {
      "activeView": "grid_default",
      "views": {
       "grid_default": {
        "col": null,
        "height": 2,
        "hidden": true,
        "row": null,
        "width": 2
       }
      }
     }
    }
   },
   "outputs": [
    {
     "data": {
      "image/png": "[encoded data removed]",
      "text/plain": [
       "<Figure size 648x216 with 3 Axes>"
      ]
     },
     "metadata": {
      "needs_background": "light"
     },
     "output_type": "display_data"
    }
   ],
   "source": [
    "g = sns.FacetGrid(result, col=\"group\")\n",
    "g.map_dataframe(sns.histplot, x=\"subject\", discrete=True, stat='probability')\n",
    "g.set_axis_labels(\"Subject\", \"Proportion in Dataset\")\n",
    "plt.show()"
   ]
  },
  {
   "cell_type": "markdown",
   "id": "0ced071d-b8c6-40f2-a2ba-3ea978fc272c",
   "metadata": {
    "extensions": {
     "jupyter_dashboards": {
      "activeView": "grid_default",
      "views": {
       "grid_default": {
        "col": null,
        "height": 2,
        "hidden": true,
        "row": null,
        "width": 2
       }
      }
     }
    }
   },
   "source": [
    "### Focusing On Where lagB1 == 0"
   ]
  },
  {
   "cell_type": "code",
   "execution_count": null,
   "id": "93abd5c7-a23b-4231-81ee-770bc23878d4",
   "metadata": {
    "extensions": {
     "jupyter_dashboards": {
      "activeView": "grid_default",
      "views": {
       "grid_default": {
        "col": null,
        "height": 2,
        "hidden": true,
        "row": null,
        "width": 2
       }
      }
     }
    }
   },
   "outputs": [
    {
     "data": {
      "image/png": "[encoded data removed]",
      "text/plain": [
       "<Figure size 432x288 with 1 Axes>"
      ]
     },
     "metadata": {
      "needs_background": "light"
     },
     "output_type": "display_data"
    }
   ],
   "source": [
    "import seaborn as sns\n",
    "import matplotlib.pyplot as plt\n",
    "\n",
    "ax = sns.barplot(data=result[result.lagB1 == 0], x=\"group\", y=\"recalled\", estimator=np.mean)"
   ]
  },
  {
   "cell_type": "code",
   "execution_count": null,
   "id": "f75e1e09-5654-4084-83a8-5ad927b6e44b",
   "metadata": {
    "extensions": {
     "jupyter_dashboards": {
      "activeView": "grid_default",
      "views": {
       "grid_default": {
        "col": null,
        "height": 2,
        "hidden": true,
        "row": null,
        "width": 2
       }
      }
     }
    }
   },
   "outputs": [
    {
     "data": {
      "text/plain": [
       "-0.24315019730446846"
      ]
     },
     "execution_count": null,
     "metadata": {},
     "output_type": "execute_result"
    }
   ],
   "source": [
    "first_test = result[result.lagB1 == 0]\n",
    "first_test.lagB2.corr(first_test.recalled)"
   ]
  },
  {
   "cell_type": "markdown",
   "id": "ff5ac49d-48cd-45d1-9494-15c3530b336f",
   "metadata": {
    "extensions": {
     "jupyter_dashboards": {
      "activeView": "grid_default",
      "views": {
       "grid_default": {
        "col": null,
        "height": 2,
        "hidden": true,
        "row": null,
        "width": 2
       }
      }
     }
    }
   },
   "source": [
    "When B1 occurs right after A1, the larger the gap between repetition of B and repetition of A, the lower the recall rate. This is the opposite of what would be predicted"
   ]
  },
  {
   "cell_type": "code",
   "execution_count": null,
   "id": "eed4a579-e6bd-4c88-b377-a9c6717dc358",
   "metadata": {
    "extensions": {
     "jupyter_dashboards": {
      "activeView": "grid_default",
      "views": {
       "grid_default": {
        "col": null,
        "height": 2,
        "hidden": true,
        "row": null,
        "width": 2
       }
      }
     }
    }
   },
   "outputs": [
    {
     "data": {
      "text/plain": [
       "0.5005244825383245"
      ]
     },
     "execution_count": null,
     "metadata": {},
     "output_type": "execute_result"
    }
   ],
   "source": [
    "second_test = result[result.lagB2 == 1]\n",
    "second_test.lagB1.corr(second_test.recalled)"
   ]
  },
  {
   "cell_type": "markdown",
   "id": "848b9501-a51e-4b18-ae7e-7398c4895ab8",
   "metadata": {
    "extensions": {
     "jupyter_dashboards": {
      "activeView": "grid_default",
      "views": {
       "grid_default": {
        "col": null,
        "height": 2,
        "hidden": true,
        "row": null,
        "width": 2
       }
      }
     }
    }
   },
   "source": [
    "We have to control for lag between A presentations. Let's start a fresh notebook."
   ]
  },
  {
   "cell_type": "code",
   "execution_count": null,
   "id": "63022a0f-73f7-461d-b5f5-9d6b0eb97fcc",
   "metadata": {
    "extensions": {
     "jupyter_dashboards": {
      "activeView": "grid_default",
      "views": {
       "grid_default": {
        "col": null,
        "height": 2,
        "hidden": true,
        "row": null,
        "width": 2
       }
      }
     }
    }
   },
   "outputs": [],
   "source": []
  }
 ],
 "metadata": {
  "extensions": {
   "jupyter_dashboards": {
    "activeView": "grid_default",
    "version": 1,
    "views": {
     "grid_default": {
      "cellMargin": 2,
      "defaultCellHeight": 60,
      "maxColumns": 12,
      "name": "grid",
      "type": "grid"
     }
    }
   }
  },
  "kernelspec": {
   "display_name": "Python 3 (ipykernel)",
   "language": "python",
   "name": "python3"
  },
  "language_info": {
   "codemirror_mode": {
    "name": "ipython",
    "version": 3
   },
   "file_extension": ".py",
   "mimetype": "text/x-python",
   "name": "python",
   "nbconvert_exporter": "python",
   "pygments_lexer": "ipython3",
   "version": "3.9.1"
  }
 },
 "nbformat": 4,
 "nbformat_minor": 5
}

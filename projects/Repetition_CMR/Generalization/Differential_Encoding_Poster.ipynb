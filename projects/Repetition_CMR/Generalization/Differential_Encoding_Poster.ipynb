{
 "cells": [
  {
   "cell_type": "markdown",
   "id": "132066ff-5959-4ec5-874e-1e261e55f971",
   "metadata": {
    "extensions": {
     "jupyter_dashboards": {
      "activeView": "grid_default",
      "views": {
       "grid_default": {
        "col": 0,
        "height": 2,
        "hidden": false,
        "row": 0,
        "width": 12
       }
      }
     }
    },
    "tags": []
   },
   "source": [
    "# <center>A Composite Account of Spacing and Repetition Effects in Free Recall"
   ]
  },
  {
   "cell_type": "markdown",
   "id": "9e6487a4-6a4d-40c3-b9db-3c6c7e14adfb",
   "metadata": {
    "extensions": {
     "jupyter_dashboards": {
      "activeView": "grid_default",
      "views": {
       "grid_default": {
        "col": 0,
        "height": 6,
        "hidden": false,
        "row": 2,
        "width": 3
       }
      }
     }
    }
   },
   "source": [
    "## Background\n",
    "Where we introduce the three accounts of the spacing effect, with focus on the differential encoding hypothesis and retrieved context theory."
   ]
  },
  {
   "cell_type": "markdown",
   "id": "76816c88-38a3-4272-a786-bd2f037a5084",
   "metadata": {
    "extensions": {
     "jupyter_dashboards": {
      "activeView": "grid_default",
      "views": {
       "grid_default": {
        "col": null,
        "height": 2,
        "hidden": true,
        "row": null,
        "width": 2
       }
      }
     }
    }
   },
   "source": [
    "There is a spacing effect in free recall.\n",
    "\n",
    "Lohnas & Kahana (2014) identify three candidate accounts of the effect. \n",
    "\n",
    "The contextual variability account\n",
    "\n",
    "The study-phase retrieval account\n",
    "\n",
    "The differential encoding account\n",
    "\n",
    "Pivotally, they find that two of these accounts are included simultaneously in retrieved context theory. \n",
    "\n",
    "Retrieved context theory proposes some stuff.\n",
    "\n",
    "Here we report evidence that differential encoding also influences recall of lists with item repetitions, and present a model named CMR-DE that integrates retrieved context theory with familiarity-based differential encoding of item repetitions to more comprehensively account for repetition effects in free recall."
   ]
  },
  {
   "cell_type": "markdown",
   "id": "de08603c-640b-4737-ad85-c26998c380ad",
   "metadata": {
    "extensions": {
     "jupyter_dashboards": {
      "activeView": "grid_default",
      "views": {
       "grid_default": {
        "col": 0,
        "height": 6,
        "hidden": false,
        "row": 8,
        "width": 3
       }
      }
     }
    }
   },
   "source": [
    "## Behavioral Effect\n",
    "Where we identify a major prediction of a synthesis of the differential encoding hypothesis and retrieved context theory. (one figure)."
   ]
  },
  {
   "cell_type": "markdown",
   "id": "434379ce-bf8b-40a9-bbf1-82bfb6b087c4",
   "metadata": {
    "extensions": {
     "jupyter_dashboards": {
      "activeView": "grid_default",
      "views": {
       "grid_default": {
        "col": null,
        "height": 2,
        "hidden": true,
        "row": null,
        "width": 2
       }
      }
     }
    }
   },
   "source": [
    "In retrieved context theory, learning occurs by encoding associations between \n",
    "\n",
    "If retrieved context theory and the differential encoding hypothesis are both true, then, we can expect learned item-and-contextual associations to be weaker for the second presentation of an item compared to its second, scaled by the amount of spacing between these presentations. Correspondingly, during recall of a studied list containing item repetitions, we would observe stronger contiguity between recalls of the repeated item and items presented near its first presentation compared to items presented near its second.\n",
    "\n",
    "To measure this predicted effect, we apply a modification of the -Lag-CRP analysis. Here, \"lag\" refers to the number of positions between two item presentations in a study list. Lag-CRP analyses measure the probability of making a recall transition of a particular positive or negative lag, conditional on transition to recall at that lag being possible. Under high temporal contiguity, recall transitions are largely to items with low lag from the last retrieved item and more rarely to items with high lag. \n",
    "\n",
    "To determine if recall for repeated items exhibits higher temporal contiguity for items near their first presentation compared to their second, we can perform separate Lag-CRP analyses across repeated items with \"lag\" computed based on either just the items' first presentations or their second presentations. Under the differential encoding hypothesis, transitions to items presented near a repeated item's second presentation should be suppressed compared to transitions to items presented near the repeated item's first presentation.\n",
    "\n",
    "How to establish a baseline"
   ]
  },
  {
   "cell_type": "markdown",
   "id": "821bdc66-a283-468f-a5d6-b86f3cdfa6c8",
   "metadata": {
    "extensions": {
     "jupyter_dashboards": {
      "activeView": "grid_default",
      "views": {
       "grid_default": {
        "col": 3,
        "height": 12,
        "hidden": false,
        "row": 2,
        "width": 3
       }
      }
     }
    }
   },
   "source": [
    "## Model Specification\n",
    "Where we get into the details (not too deep) of CMR and CMR-DE, and contrast their predictions about the behavioral effect. "
   ]
  },
  {
   "cell_type": "markdown",
   "id": "34e52e96-6599-4a14-b1b1-065193ccf9e2",
   "metadata": {
    "extensions": {
     "jupyter_dashboards": {
      "activeView": "grid_default",
      "views": {
       "grid_default": {
        "col": null,
        "height": 2,
        "hidden": true,
        "row": null,
        "width": 2
       }
      }
     }
    }
   },
   "source": [
    "In the context maintenance and retrieval model, each time an item representation f is encoded, a representation of temporal context c is updated\n",
    "\n",
    "Once context is updated, context-to-item associations are stored in memory according to a hebbian learning process:\n",
    "\n",
    "Later, during recall, the current state of context and weights in MCF determine how items are successively retrieved. The stronger the function of contextual state and MCF weights, the more highly activated and likely for recall an item gets.\n",
    "\n",
    "To add a differential encoding mechanism to CMR-DE, we modulate the learning rate of MCF based on the cosine similarity of $C$ and $f$, something reflective of $f$'s familiarity.\n",
    "\n",
    "We plot how different values of the parameter modulate MCF weights for repeated items in an example trial, as well as how different parameter values alter the modulation function. If we have room, we also plot how it influences predicted spacing effect curve and other key repetition effects.\n",
    "\n",
    "Finally, we plot difference in prediction between CMR and CMR-DE of the OR-Contiguity effect."
   ]
  },
  {
   "cell_type": "markdown",
   "id": "9cea002f-ff9d-4c87-b0ee-64abab279aab",
   "metadata": {
    "extensions": {
     "jupyter_dashboards": {
      "activeView": "grid_default",
      "views": {
       "grid_default": {
        "col": 9,
        "height": 7,
        "hidden": false,
        "row": 2,
        "width": 3
       }
      }
     }
    }
   },
   "source": [
    "## Model Variants\n",
    "Where we compare model fits for all considered candidates for CMR-DE (and CMR itself).\n",
    "\n",
    "Section can be a bulletted list characterizing variants, but in practice might be uninterpretable to anyone not deeply familiar with the model."
   ]
  },
  {
   "cell_type": "markdown",
   "id": "f4c0512f-fd42-4f01-bc62-9fa6fcdf5f74",
   "metadata": {
    "extensions": {
     "jupyter_dashboards": {
      "activeView": "grid_default",
      "views": {
       "grid_default": {
        "col": 6,
        "height": 12,
        "hidden": false,
        "row": 2,
        "width": 3
       }
      }
     }
    }
   },
   "source": [
    "## Model Generalization\n",
    "Where we show that, when compared to CMR, CMR-DE can better predict performance on control trials when fitted to trials with item repetitions. We also explain the significance of this analysis and visualize with summary statistics and AIC scores."
   ]
  },
  {
   "cell_type": "markdown",
   "id": "f2d8e1fa-87ed-4bd8-8a8a-98475623174d",
   "metadata": {
    "extensions": {
     "jupyter_dashboards": {
      "activeView": "grid_default",
      "views": {
       "grid_default": {
        "col": 9,
        "height": 5,
        "hidden": false,
        "row": 9,
        "width": 3
       }
      }
     }
    }
   },
   "source": [
    "## References"
   ]
  }
 ],
 "metadata": {
  "extensions": {
   "jupyter_dashboards": {
    "activeView": "grid_default",
    "version": 1,
    "views": {
     "grid_default": {
      "cellMargin": 2,
      "defaultCellHeight": 60,
      "maxColumns": 12,
      "name": "grid",
      "type": "grid"
     }
    }
   }
  },
  "kernelspec": {
   "display_name": "Python 3 (ipykernel)",
   "language": "python",
   "name": "python3"
  },
  "language_info": {
   "codemirror_mode": {
    "name": "ipython",
    "version": 3
   },
   "file_extension": ".py",
   "mimetype": "text/x-python",
   "name": "python",
   "nbconvert_exporter": "python",
   "pygments_lexer": "ipython3",
   "version": "3.9.1"
  }
 },
 "nbformat": 4,
 "nbformat_minor": 5
}

{
 "cells": [
  {
   "cell_type": "markdown",
   "metadata": {},
   "source": [
    "Retrieved context theories accounts for free recall of item lists by asserting that 1) studied items are associated with an gradually changing, recency-weighted representation of temporal context, 2) the contexts retrieved from studying (or recalling) items update the current state of context, 3) the current state of context is used as the cue for each item recall. These mechanisms have been demonstrated to account for many repetition effects in list memory, including the mnemonic advantage of spaced over massed learning and subjects' tendency to successively recall items that follow a shared repeated item \\citep{siegel2014retrieved}. \n",
    "\n",
    "Here we identify some limitations of retrieved context theory as an account of spacing and repetition effects in list memory. We report behavioral evidence that after recall of an item presented twice in a study list, subjects are more likely to transition to items studied near the repeated item's first presentation than its second. We demonstrate that a computational model embodying retrieved context theory called the context maintenance and retrieval model \\citep[CMR;][]{polyn2009context} does not predict this difference and more generally exhibits exhibits poor generalization across study lists featuring different patterns of item repetition. \n",
    "\n",
    "To address these limitations, we consider deficient-processing theory, which assumes that study events are encoded more weakly when relevant items are highly familiar (citation). We evaluate candidate variants of CMR integrating this mechanism with retrieved context theory and ..."
   ]
  }
 ],
 "metadata": {
  "interpreter": {
   "hash": "ecf5722fdaf1897a315d257d89d94520bfcaa453217d5becf09b39e73618b0de"
  },
  "kernelspec": {
   "display_name": "Python 3 (ipykernel)",
   "language": "python",
   "name": "python3"
  },
  "language_info": {
   "codemirror_mode": {
    "name": "ipython",
    "version": 3
   },
   "file_extension": ".py",
   "mimetype": "text/x-python",
   "name": "python",
   "nbconvert_exporter": "python",
   "pygments_lexer": "ipython3",
   "version": "3.9.1"
  }
 },
 "nbformat": 4,
 "nbformat_minor": 4
}

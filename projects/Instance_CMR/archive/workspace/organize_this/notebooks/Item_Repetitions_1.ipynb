{
 "cells": [
  {
   "cell_type": "markdown",
   "id": "departmental-cable",
   "metadata": {},
   "source": [
    "## Initial Simulations"
   ]
  },
  {
   "cell_type": "markdown",
   "id": "figured-entrepreneur",
   "metadata": {},
   "source": [
    "A straightforward way to initiate analysis of how the models might differentially handle item repetitions is to measure how the probability of recalling an item given a static contextual cue changes as the item is repeatedly encoded. We expect it to increase linearly (by $x^{\\tau}$) with respect to `InstanceCMR`, but exponentially within `CMR`. If this reasoning survives scrutiny, that's a big deal.\n",
    "\n",
    "Parameters, contextual cue, and repeated item shouldn't matter here. We'll try to set them to values that aren't distracting and vary them to ensure our simulation results aren't contingent on any particular configuration."
   ]
  },
  {
   "cell_type": "code",
   "execution_count": 3,
   "id": "brown-driver",
   "metadata": {},
   "outputs": [],
   "source": [
    "#%env NUMBA_DISABLE_JIT 1\n",
    "\n",
    "from instance_cmr.models import *\n",
    "from instance_cmr.model_analysis import *\n",
    "import numpy as np\n",
    "import matplotlib.pyplot as plt\n",
    "\n",
    "experiment_count = 1000"
   ]
  },
  {
   "cell_type": "markdown",
   "id": "lonely-probe",
   "metadata": {},
   "source": [
    "### InstanceCMR With Instance-Based Choice Sensitivity"
   ]
  },
  {
   "cell_type": "code",
   "execution_count": 14,
   "id": "substantial-lease",
   "metadata": {},
   "outputs": [
    {
     "data": {
      "image/png": "[encoded data removed]",
      "text/plain": [
       "<Figure size 432x288 with 1 Axes>"
      ]
     },
     "metadata": {
      "needs_background": "light"
     },
     "output_type": "display_data"
    }
   ],
   "source": [
    "# selected parameters\n",
    "free_parameters = [\n",
    "    'encoding_drift_rate',\n",
    "    'start_drift_rate',\n",
    "    'recall_drift_rate',\n",
    "    'shared_support',\n",
    "    'item_support',\n",
    "    'learning_rate',\n",
    "    'primacy_scale',\n",
    "    'primacy_decay',\n",
    "    'stop_probability_scale',\n",
    "    'stop_probability_growth',\n",
    "    'choice_sensitivity',\n",
    "    'context_sensitivity',\n",
    "    'feature_sensitivity']\n",
    "\n",
    "result = [8.13747983e-01, 6.27998882e-03, 9.72598264e-01, 9.27475781e-04,\n",
    "       3.18670579e-01, 3.57189132e-02, 1.03657413e+01, 5.36018883e+01,\n",
    "       3.16992419e-02, 3.35561099e-01, 1, 9.28861441e-01, 1]\n",
    "parameters = {\n",
    "    'item_count': 20,\n",
    "    'presentation_count': 70\n",
    "}\n",
    "\n",
    "for i in range(len(free_parameters)):\n",
    "    parameters[free_parameters[i]] = result[i] \n",
    "\n",
    "results = np.zeros((experiment_count, 1+parameters['presentation_count']-parameters['item_count']))\n",
    "\n",
    "for experiment in range(experiment_count):\n",
    "    # arbitrary item and contextual cue\n",
    "    repeated_item = np.random.randint(parameters['item_count'])\n",
    "    cue = np.concatenate((np.zeros(parameters['item_count']+1), np.random.rand(parameters['item_count']+1)))\n",
    "\n",
    "    # initialize model\n",
    "    model = InstanceCMR(**parameters)\n",
    "    model.experience(np.eye(parameters['item_count'], parameters['item_count'] + 1, 1))\n",
    "    results[experiment, 0] = model.outcome_probabilities(cue)[repeated_item+1]\n",
    "    \n",
    "    # track outcome probability of selected item as it is repeatedly encoded\n",
    "    for i in range(parameters['presentation_count']-parameters['item_count']):\n",
    "        \n",
    "        model.experience(np.eye(parameters['item_count'], parameters['item_count'] + 1, 1)[repeated_item:repeated_item+1])\n",
    "        \n",
    "        # cue = np.concatenate((np.zeros(parameters['item_count']+1), model.context)) # for when i want context to be the cue\n",
    "        results[experiment, i+1] = model.outcome_probabilities(cue)[repeated_item+1]\n",
    "\n",
    "# plot an example trial    \n",
    "#print('repeated item:\\n', repeated_item, np.eye(parameters['item_count'], parameters['item_count'] + 1, 1)[repeated_item:repeated_item+1])\n",
    "#print('cue:\\n', cue)\n",
    "#print('outcome probability for repeated item:\\n', results[-1])\n",
    "#plot_states(model.memory, \"memory\")\n",
    "\n",
    "plt.plot(np.mean(results, axis=0))\n",
    "plt.title('InstanceCMR (Echo)')\n",
    "plt.show()"
   ]
  },
  {
   "cell_type": "markdown",
   "id": "historical-reality",
   "metadata": {},
   "source": [
    "### InstanceCMR With Instance-Based Choice Sensitivity"
   ]
  },
  {
   "cell_type": "code",
   "execution_count": 10,
   "id": "above-strand",
   "metadata": {},
   "outputs": [
    {
     "data": {
      "image/png": "[encoded data removed]",
      "text/plain": [
       "<Figure size 432x288 with 1 Axes>"
      ]
     },
     "metadata": {
      "needs_background": "light"
     },
     "output_type": "display_data"
    }
   ],
   "source": [
    "# selected parameters\n",
    "parameters = {\n",
    "    'item_count': 20,\n",
    "    'presentation_count': 70,\n",
    "    'encoding_drift_rate': 7.90931647e-01,\n",
    "    'start_drift_rate': 7.87233205e-03,\n",
    "    'recall_drift_rate': 9.48041056e-01,\n",
    "    'shared_support': 8.09406715e-04,\n",
    "    'item_support': 8.11152335e-01,\n",
    "    'learning_rate': 6.66612122e-02,\n",
    "    'primacy_scale': 2.08401190e+01,\n",
    "    'primacy_decay': 8.51443053e+01,\n",
    "    'stop_probability_scale': 2.86499753e-02,\n",
    "    'stop_probability_growth': 2.92199457e-01,\n",
    "    'choice_sensitivity': 1,\n",
    "    'context_sensitivity': 1,\n",
    "    'feature_sensitivity': 8.44628821e-01,\n",
    "}\n",
    "\n",
    "results = np.zeros((experiment_count, 1+parameters['presentation_count']-parameters['item_count']))\n",
    "\n",
    "for experiment in range(experiment_count):\n",
    "    # arbitrary item and contextual cue\n",
    "    repeated_item = np.random.randint(parameters['item_count'])\n",
    "    cue = np.concatenate((np.zeros(parameters['item_count']+1), np.random.rand(parameters['item_count']+1)))\n",
    "\n",
    "    # initialize model\n",
    "    model = InstanceCMR(**parameters)\n",
    "    model.experience(np.eye(parameters['item_count'], parameters['item_count'] + 1, 1))\n",
    "    results[experiment, 0] = model.outcome_probabilities(cue)[repeated_item+1]\n",
    "    \n",
    "    # track outcome probability of selected item as it is repeatedly encoded\n",
    "    for i in range(parameters['presentation_count']-parameters['item_count']):\n",
    "        \n",
    "        model.experience(np.eye(parameters['item_count'], parameters['item_count'] + 1, 1)[repeated_item:repeated_item+1])\n",
    "        \n",
    "        # cue = np.concatenate((np.zeros(parameters['item_count']+1), model.context)) # for when i want context to be the cue\n",
    "        results[experiment, i+1] = model.outcome_probabilities(cue)[repeated_item+1]\n",
    "\n",
    "# plot an example trial    \n",
    "#print('repeated item:\\n', repeated_item, np.eye(parameters['item_count'], parameters['item_count'] + 1, 1)[repeated_item:repeated_item+1])\n",
    "#print('cue:\\n', cue)\n",
    "#print('outcome probability for repeated item:\\n', results[-1])\n",
    "#plot_states(model.memory, \"memory\")\n",
    "\n",
    "plt.plot(np.mean(results, axis=0))\n",
    "plt.title('InstanceCMR Average Increase in Recall Probability of Repeated Item')\n",
    "plt.show()"
   ]
  },
  {
   "cell_type": "markdown",
   "id": "lovely-block",
   "metadata": {},
   "source": [
    "### InstanceCMR With Echo-Based Choice Sensitivity"
   ]
  },
  {
   "cell_type": "code",
   "execution_count": 12,
   "id": "postal-credit",
   "metadata": {},
   "outputs": [
    {
     "data": {
      "image/png": "[encoded data removed]",
      "text/plain": [
       "<Figure size 432x288 with 1 Axes>"
      ]
     },
     "metadata": {
      "needs_background": "light"
     },
     "output_type": "display_data"
    }
   ],
   "source": [
    "# selected parameters\n",
    "parameters = {\n",
    "    'item_count': 20,\n",
    "    'presentation_count': 70,\n",
    "    'encoding_drift_rate': 7.35396287e-01,\n",
    "    'start_drift_rate': 1.87003498e-02,\n",
    "    'recall_drift_rate': 9.02468034e-01,\n",
    "    'shared_support': 4.02430122e-03,\n",
    "    'item_support': 1.00000000e+00,\n",
    "    'learning_rate':  1.10964824e-01,\n",
    "    'primacy_scale': 1.01153545e+01,\n",
    "    'primacy_decay': 7.00452937e+01,\n",
    "    'stop_probability_scale': 3.45770082e-02,\n",
    "    'stop_probability_growth': 2.57315752e-01,\n",
    "    'choice_sensitivity': 1.27029929e+00,\n",
    "    'context_sensitivity': 1,\n",
    "    'feature_sensitivity': 1,\n",
    "}\n",
    "\n",
    "results = np.zeros((experiment_count, 1+parameters['presentation_count']-parameters['item_count']))\n",
    "\n",
    "for experiment in range(experiment_count):\n",
    "    # arbitrary item and contextual cue\n",
    "    repeated_item = np.random.randint(parameters['item_count'])\n",
    "    cue = np.concatenate((np.zeros(parameters['item_count']+1), np.random.rand(parameters['item_count']+1)))\n",
    "\n",
    "    # initialize model\n",
    "    model = InstanceCMR(**parameters)\n",
    "    model.experience(np.eye(parameters['item_count'], parameters['item_count'] + 1, 1))\n",
    "    results[experiment, 0] = model.outcome_probabilities(cue)[repeated_item+1]\n",
    "    \n",
    "    # track outcome probability of selected item as it is repeatedly encoded\n",
    "    for i in range(parameters['presentation_count']-parameters['item_count']):\n",
    "        \n",
    "        model.experience(np.eye(parameters['item_count'], parameters['item_count'] + 1, 1)[repeated_item:repeated_item+1])\n",
    "        \n",
    "        # cue = np.concatenate((np.zeros(parameters['item_count']+1), model.context)) # for when i want context to be the cue\n",
    "        results[experiment, i+1] = model.outcome_probabilities(cue)[repeated_item+1]\n",
    "\n",
    "# plot an example trial    \n",
    "#print('repeated item:\\n', repeated_item, np.eye(parameters['item_count'], parameters['item_count'] + 1, 1)[repeated_item:repeated_item+1])\n",
    "#print('cue:\\n', cue)\n",
    "#print('outcome probability for repeated item:\\n', results[-1])\n",
    "#plot_states(model.memory, \"memory\")\n",
    "\n",
    "plt.plot(np.mean(results, axis=0))\n",
    "plt.title('InstanceCMR Average Increase in Recall Probability of Repeated Item')\n",
    "plt.show()"
   ]
  },
  {
   "cell_type": "markdown",
   "id": "animated-perfume",
   "metadata": {},
   "source": [
    "### CMR"
   ]
  },
  {
   "cell_type": "code",
   "execution_count": 5,
   "id": "closing-narrative",
   "metadata": {},
   "outputs": [
    {
     "data": {
      "image/png": "[encoded data removed]",
      "text/plain": [
       "<Figure size 432x288 with 1 Axes>"
      ]
     },
     "metadata": {
      "needs_background": "light"
     },
     "output_type": "display_data"
    }
   ],
   "source": [
    "# selected parameters\n",
    "\n",
    "\n",
    "free_parameters = [\n",
    "    'encoding_drift_rate',\n",
    "    'start_drift_rate',\n",
    "    'recall_drift_rate',\n",
    "    'shared_support',\n",
    "    'item_support',\n",
    "    'learning_rate',\n",
    "    'primacy_scale',\n",
    "    'primacy_decay',\n",
    "    'stop_probability_scale',\n",
    "    'stop_probability_growth',\n",
    "    'choice_sensitivity']\n",
    "\n",
    "result = [ 0.67729029,  0.0789752 ,  0.84475351,  0.32843236,  0.04606376,\n",
    "        0.25014697,  4.09477771, 35.20917629,  0.03838687,  0.29442883,\n",
    "        5.03376164]\n",
    "parameters = {\n",
    "    'item_count': 20,\n",
    "    'presentation_count': 70\n",
    "}\n",
    "\n",
    "for i in range(len(free_parameters)):\n",
    "    parameters[free_parameters[i]] = result[i]\n",
    "\n",
    "results = np.zeros((experiment_count, 1+parameters['presentation_count']-parameters['item_count']))\n",
    "\n",
    "for experiment in range(experiment_count):\n",
    "    # arbitrary item and contextual cue\n",
    "    repeated_item = np.random.randint(parameters['item_count'])\n",
    "    cue = np.random.rand(parameters['item_count'] + 1)\n",
    "\n",
    "    # initialize model\n",
    "    model = CMR(**parameters)\n",
    "    model.experience(np.eye(parameters['item_count'], parameters['item_count']))\n",
    "    results[experiment, 0] = model.outcome_probabilities(cue)[repeated_item+1]\n",
    "    \n",
    "    # track outcome probability of selected item as it is repeatedly encoded\n",
    "    for i in range(parameters['presentation_count']-parameters['item_count']):\n",
    "        \n",
    "        model.experience(np.eye(parameters['item_count'], parameters['item_count'])[repeated_item:repeated_item+1])\n",
    "        \n",
    "        #cue = model.context # for when i want context to be the cue\n",
    "        results[experiment, i+1] = model.outcome_probabilities(cue)[repeated_item+1]\n",
    "        \n",
    "# plot an example trial    \n",
    "#print('repeated item:\\n', repeated_item, np.eye(parameters['item_count'], parameters['item_count'])[repeated_item:repeated_item+1])\n",
    "#print('cue:\\n', cue)\n",
    "#print('outcome probability for repeated item:\\n', results[-1])\n",
    "#plot_states(model.mcf, \"memory\")\n",
    "\n",
    "import matplotlib.pyplot as plt\n",
    "\n",
    "plt.plot(np.mean(results, axis=0))\n",
    "plt.title('CMR Average Increase in Recall Probability of Repeated Item')\n",
    "plt.show()"
   ]
  },
  {
   "cell_type": "markdown",
   "id": "optional-notification",
   "metadata": {},
   "source": [
    "The models seem to differ in the manner predicted. But whether this difference matters when it comes to fitting parameters to items only repeated a few times is ambiguous.\n",
    "\n",
    "When we set feature_sensitivity to 20, for instance, the plot ends up looking pretty indistinguishable from CMR's scaling. Similarly, setting CMR's choice sensitivity parameter to a sufficiently low value produces scaling like we've initially observed from InstanceCMR.\n",
    "\n",
    "Is there a trade-off that makes these modulations a bad idea? My initial fits with the murdock (1962) dataset suggest that it's complicated. My fitted choice sensitivity parameters for all versions of ICMR are pretty low values; they're much higher in CMR. So something about the architectures and the data may actually be exaggerating this difference I'm observing. Let's try out the parameters.\n",
    "\n",
    "Finding that using parameters fitted to the Murdock dataset instead of using the same parameters across model architectures actually increases rather than moderates that difference I've shown you between how item repetitions impacts CMR and InstanceCMR's support for retrieving the repeated item. That is, the curve of item repetitions to retrieval supports is super steep for CMR and pretty linear for ICMR. Have to show this holds for other fits as well, but seems CMR might need to strongly enhance the contrast between well-supported and poorly-supported items to fit to behavioral data, which could lead it to overrate the impact of item repetitions on later recall. Unfortunately, I'm still unsure if the opposite holds instead; ICMR might underrate the impact of item repetitions on later retrieval. I need to hurry up and find out, and figure out how this connects back to Jamieson et al's (2018) critique of prototype-based models. "
   ]
  },
  {
   "cell_type": "code",
   "execution_count": null,
   "id": "liable-manufacturer",
   "metadata": {},
   "outputs": [],
   "source": []
  }
 ],
 "metadata": {
  "kernelspec": {
   "display_name": "Python 3 (ipykernel)",
   "language": "python",
   "name": "python3"
  },
  "language_info": {
   "codemirror_mode": {
    "name": "ipython",
    "version": 3
   },
   "file_extension": ".py",
   "mimetype": "text/x-python",
   "name": "python",
   "nbconvert_exporter": "python",
   "pygments_lexer": "ipython3",
   "version": "3.9.1"
  }
 },
 "nbformat": 4,
 "nbformat_minor": 5
}

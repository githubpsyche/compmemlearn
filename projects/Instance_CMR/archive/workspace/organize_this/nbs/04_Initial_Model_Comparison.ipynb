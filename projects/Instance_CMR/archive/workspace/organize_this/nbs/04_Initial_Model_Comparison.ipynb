{
 "cells": [
  {
   "cell_type": "code",
   "execution_count": null,
   "id": "metropolitan-albania",
   "metadata": {},
   "outputs": [],
   "source": [
    "#hide\n",
    "#default_exp dev\n",
    "from nbdev.showdoc import *"
   ]
  },
  {
   "cell_type": "markdown",
   "id": "combined-robinson",
   "metadata": {},
   "source": [
    "# Model Comparison\n",
    "> Characterizing the equivalence between CMR and InstanceCMR\n"
   ]
  },
  {
   "cell_type": "markdown",
   "id": "digital-auction",
   "metadata": {},
   "source": [
    "ICMR and CMR are different. But in what ways? Here we try to characterize how the models converge and diverge with respect to the single-presentation free recall paradigm that they were initially designed to model."
   ]
  },
  {
   "cell_type": "markdown",
   "id": "bottom-ebony",
   "metadata": {},
   "source": [
    "## Setup\n",
    "We'll use our ICMR and CMR implementations plus our collection of model analysis functions."
   ]
  },
  {
   "cell_type": "code",
   "execution_count": null,
   "id": "banned-suite",
   "metadata": {},
   "outputs": [],
   "source": [
    "from instance_cmr.models import CMR, InstanceCMR\n",
    "from instance_cmr.model_analysis import *\n",
    "import numpy as np\n",
    "\n",
    "parameters = {\n",
    "    'item_count': 20,\n",
    "    'encoding_drift_rate': .8,\n",
    "    'start_drift_rate': .7,\n",
    "    'recall_drift_rate': .8,\n",
    "    'shared_support': 0.01,\n",
    "    'item_support': 1.0,\n",
    "    'learning_rate': .3,\n",
    "    'primacy_scale': 1,\n",
    "    'primacy_decay': 1,\n",
    "    'stop_probability_scale': 0.01,\n",
    "    'stop_probability_growth': 0.3,\n",
    "    'choice_sensitivity': 2\n",
    "}"
   ]
  }
 ],
 "metadata": {
  "jupytext": {
   "cell_metadata_filter": "-all",
   "main_language": "python",
   "notebook_metadata_filter": "-all"
  },
  "kernelspec": {
   "display_name": "Python 3",
   "language": "python",
   "name": "python3"
  },
  "language_info": {
   "codemirror_mode": {
    "name": "ipython",
    "version": 3
   },
   "file_extension": ".py",
   "mimetype": "text/x-python",
   "name": "python",
   "nbconvert_exporter": "python",
   "pygments_lexer": "ipython3",
   "version": "3.8.5"
  }
 },
 "nbformat": 4,
 "nbformat_minor": 5
}

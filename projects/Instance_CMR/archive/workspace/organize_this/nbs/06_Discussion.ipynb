{
 "cells": [
  {
   "cell_type": "markdown",
   "id": "unavailable-spell",
   "metadata": {},
   "source": [
    "Discussion\n",
    "==========\n",
    "\n",
    "One clear conclusion we can draw from these analyses is that the success\n",
    "of the theoretical commitments made by the context maintenance and\n",
    "retrieval model and models like it are not especially dependent on the\n",
    "architectures in which they are implemented. Instead, the main insights\n",
    "of retrieved context theories (at least as formalized by CMR) are highly\n",
    "portable, and can likely be esconced within any reasonable model\n",
    "architecture where memory search via temporal contextual representations\n",
    "might prove valuable. This finding has been increasingly validated\n",
    "lately in other work. (Logan, 2021) for example similarly embeds\n",
    "mechanisms for maintaining and organizing retrieval using temporal\n",
    "contextual representations within an instance-based architecture to\n",
    "simultaneously account for performance on substantively distinct\n",
    "variations of a task requiring participants to encode and report random\n",
    "strings in left-to-right order by typing them on a computer keyboard,\n",
    "including whole report, serial recall, and copy typing. Other projects\n",
    "more motivated by neuroscientific data (e.g. (Ketz et al., 2013);\n",
    "(Schapiro et al., 2017)) embed mechanisms for context-based retrieval\n",
    "within detailed formal accounts of hippocampus functionality more\n",
    "complex than either the instance-based or hebbian associative network\n",
    "architectures considered in this work. The application of this\n",
    "instance-based account of context maintenance and retrieval to\n",
    "competitively explain free recall performance under varied conditions\n",
    "further clarify the architectural independence of the retrieved context\n",
    "account of memory search.\n",
    "\n",
    "These results also variously advance and raise challenges to recent\n",
    "efforts to develop \"a general account of memory and its processes in a\n",
    "working computational system to produce a common explanation of behavior\n",
    "rather than a set of lab-specific and domain-specific theories for\n",
    "different behaviors\" ((Jamieson et al., 2018) citing Newell (1973)). As\n",
    "I review above,"
   ]
  },
  {
   "cell_type": "code",
   "execution_count": null,
   "id": "white-rebound",
   "metadata": {},
   "outputs": [],
   "source": []
  }
 ],
 "metadata": {
  "kernelspec": {
   "display_name": "Python 3",
   "language": "python",
   "name": "python3"
  },
  "language_info": {
   "codemirror_mode": {
    "name": "ipython",
    "version": 3
   },
   "file_extension": ".py",
   "mimetype": "text/x-python",
   "name": "python",
   "nbconvert_exporter": "python",
   "pygments_lexer": "ipython3",
   "version": "3.8.5"
  }
 },
 "nbformat": 4,
 "nbformat_minor": 5
}

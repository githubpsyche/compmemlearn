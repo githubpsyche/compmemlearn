{
 "cells": [
  {
   "cell_type": "code",
   "execution_count": 6,
   "id": "charitable-capacity",
   "metadata": {},
   "outputs": [],
   "source": [
    "# hide\n",
    "# default_exp model_fitting\n",
    "\n",
    "from nbdev.showdoc import *"
   ]
  },
  {
   "cell_type": "markdown",
   "id": "outside-oregon",
   "metadata": {},
   "source": [
    "# InstanceCMR - Secondary Baseline\n",
    "Using the larger dataset from\n",
    "\n",
    "> Murdock, B. B., & Okada, R. (1970). Interresponse times in single-trial free recall. Journal of Experimental Psychology, 86(2), 263."
   ]
  },
  {
   "cell_type": "markdown",
   "id": "complimentary-hamburg",
   "metadata": {},
   "source": [
    "## Load Data"
   ]
  },
  {
   "cell_type": "code",
   "execution_count": 7,
   "id": "dirty-isolation",
   "metadata": {},
   "outputs": [
    {
     "data": {
      "text/html": [
       "<div>\n",
       "<style scoped>\n",
       "    .dataframe tbody tr th:only-of-type {\n",
       "        vertical-align: middle;\n",
       "    }\n",
       "\n",
       "    .dataframe tbody tr th {\n",
       "        vertical-align: top;\n",
       "    }\n",
       "\n",
       "    .dataframe thead th {\n",
       "        text-align: right;\n",
       "    }\n",
       "</style>\n",
       "<table border=\"1\" class=\"dataframe\">\n",
       "  <thead>\n",
       "    <tr style=\"text-align: right;\">\n",
       "      <th></th>\n",
       "      <th>subject</th>\n",
       "      <th>list</th>\n",
       "      <th>item</th>\n",
       "      <th>input</th>\n",
       "      <th>output</th>\n",
       "      <th>study</th>\n",
       "      <th>recall</th>\n",
       "      <th>repeat</th>\n",
       "      <th>intrusion</th>\n",
       "    </tr>\n",
       "  </thead>\n",
       "  <tbody>\n",
       "    <tr>\n",
       "      <th>0</th>\n",
       "      <td>1</td>\n",
       "      <td>1</td>\n",
       "      <td>1</td>\n",
       "      <td>1</td>\n",
       "      <td>NaN</td>\n",
       "      <td>True</td>\n",
       "      <td>False</td>\n",
       "      <td>0</td>\n",
       "      <td>False</td>\n",
       "    </tr>\n",
       "    <tr>\n",
       "      <th>1</th>\n",
       "      <td>1</td>\n",
       "      <td>1</td>\n",
       "      <td>2</td>\n",
       "      <td>2</td>\n",
       "      <td>NaN</td>\n",
       "      <td>True</td>\n",
       "      <td>False</td>\n",
       "      <td>0</td>\n",
       "      <td>False</td>\n",
       "    </tr>\n",
       "    <tr>\n",
       "      <th>2</th>\n",
       "      <td>1</td>\n",
       "      <td>1</td>\n",
       "      <td>3</td>\n",
       "      <td>3</td>\n",
       "      <td>NaN</td>\n",
       "      <td>True</td>\n",
       "      <td>False</td>\n",
       "      <td>0</td>\n",
       "      <td>False</td>\n",
       "    </tr>\n",
       "    <tr>\n",
       "      <th>3</th>\n",
       "      <td>1</td>\n",
       "      <td>1</td>\n",
       "      <td>4</td>\n",
       "      <td>4</td>\n",
       "      <td>NaN</td>\n",
       "      <td>True</td>\n",
       "      <td>False</td>\n",
       "      <td>0</td>\n",
       "      <td>False</td>\n",
       "    </tr>\n",
       "    <tr>\n",
       "      <th>4</th>\n",
       "      <td>1</td>\n",
       "      <td>1</td>\n",
       "      <td>5</td>\n",
       "      <td>5</td>\n",
       "      <td>NaN</td>\n",
       "      <td>True</td>\n",
       "      <td>False</td>\n",
       "      <td>0</td>\n",
       "      <td>False</td>\n",
       "    </tr>\n",
       "  </tbody>\n",
       "</table>\n",
       "</div>"
      ],
      "text/plain": [
       "   subject  list  item  input  output  study  recall  repeat  intrusion\n",
       "0        1     1     1      1     NaN   True   False       0      False\n",
       "1        1     1     2      2     NaN   True   False       0      False\n",
       "2        1     1     3      3     NaN   True   False       0      False\n",
       "3        1     1     4      4     NaN   True   False       0      False\n",
       "4        1     1     5      5     NaN   True   False       0      False"
      ]
     },
     "execution_count": 7,
     "metadata": {},
     "output_type": "execute_result"
    }
   ],
   "source": [
    "from instance_cmr.datasets import prepare_okadata\n",
    "from instance_cmr.model_fitting import icmr_murd_likelihood\n",
    "from instance_cmr.model_fitting import icmr_murd_objective_function\n",
    "from instance_cmr.model_fitting import visualize_fit\n",
    "from instance_cmr.models import InstanceCMR\n",
    "\n",
    "murd_trials0, murd_events0, murd_length0 = prepare_okadata(\n",
    "    '../../data/mo1970.txt')\n",
    "\n",
    "subject_trial_count = 20 # Each subject gets 20 trials a piece.\n",
    "\n",
    "murd_events0.head()"
   ]
  },
  {
   "cell_type": "markdown",
   "id": "reflected-trauma",
   "metadata": {},
   "source": [
    "## Free Echo-Based Sensitivity"
   ]
  },
  {
   "cell_type": "code",
   "execution_count": 2,
   "id": "human-avenue",
   "metadata": {},
   "outputs": [],
   "source": [
    "from scipy.optimize import differential_evolution\n",
    "from numba.typed import List\n",
    "import numpy as np\n",
    "\n",
    "free_parameters = [\n",
    "    'encoding_drift_rate',\n",
    "    'start_drift_rate',\n",
    "    'recall_drift_rate',\n",
    "    'shared_support',\n",
    "    'item_support',\n",
    "    'learning_rate',\n",
    "    'primacy_scale',\n",
    "    'primacy_decay',\n",
    "    'stop_probability_scale',\n",
    "    'stop_probability_growth',\n",
    "    'choice_sensitivity']\n",
    "\n",
    "lb = np.finfo(float).eps\n",
    "ub = 1-np.finfo(float).eps\n",
    "\n",
    "bounds = [\n",
    "    (lb, ub),\n",
    "    (lb, ub),\n",
    "    (lb, ub),\n",
    "    (lb, ub),\n",
    "    (lb, ub),\n",
    "    (lb, ub),\n",
    "    (lb, 100),\n",
    "    (lb, 100),\n",
    "    (lb, ub),\n",
    "    (lb, 10),\n",
    "    (lb, 10)\n",
    "]"
   ]
  },
  {
   "cell_type": "code",
   "execution_count": null,
   "id": "variable-blink",
   "metadata": {},
   "outputs": [],
   "source": [
    "# cost function to be minimized\n",
    "# ours scales inversely with the probability that the data could have been \n",
    "# generated using the specified parameters and our model\n",
    "cost_function = icmr_murd_objective_function(\n",
    "    List([murd_trials0]), \n",
    "    {'item_counts': List([murd_length0]), 'context_sensitivity': 1, 'feature_sensitivity': 1}, \n",
    "    free_parameters)\n",
    "\n",
    "result = differential_evolution(cost_function, bounds, disp=True)\n",
    "print(result)"
   ]
  },
  {
   "cell_type": "markdown",
   "id": "national-barbados",
   "metadata": {},
   "source": [
    "### Results\n",
    "```\n",
    "     fun: 22914.467920046132\n",
    "     jac: array([-1.16032933e+03, -1.45542435e+02,  8.36815157e+01, -2.05151737e+05,\n",
    "        2.54963561e+03, -3.36068115e+02, -3.69505872e+01,  0.00000000e+00,\n",
    "        1.12330672e+03,  5.27335579e+02, -1.94886526e+01])\n",
    " message: 'Optimization terminated successfully.'\n",
    "    nfev: 12975\n",
    "     nit: 70\n",
    " success: True\n",
    "       x: array([7.47329254e-01, 1.34237703e-02, 9.45611101e-01, 9.28325823e-05,\n",
    "       8.66088707e-03, 2.86462793e-03, 4.31756924e+00, 7.67665403e+01,\n",
    "       2.94790531e-02, 3.44894656e-01, 1.51605661e+00])\n",
    "```"
   ]
  },
  {
   "cell_type": "code",
   "execution_count": 4,
   "id": "hindu-wallet",
   "metadata": {},
   "outputs": [
    {
     "data": {
      "image/png": "[encoded data removed]",
      "text/plain": [
       "<Figure size 316.875x216 with 1 Axes>"
      ]
     },
     "metadata": {
      "needs_background": "light"
     },
     "output_type": "display_data"
    },
    {
     "data": {
      "image/png": "[encoded data removed]",
      "text/plain": [
       "<Figure size 316.875x216 with 1 Axes>"
      ]
     },
     "metadata": {
      "needs_background": "light"
     },
     "output_type": "display_data"
    },
    {
     "data": {
      "image/png": "[encoded data removed]",
      "text/plain": [
       "<Figure size 316.875x216 with 1 Axes>"
      ]
     },
     "metadata": {
      "needs_background": "light"
     },
     "output_type": "display_data"
    }
   ],
   "source": [
    "parameters = {\n",
    "    'item_count':murd_length0,\n",
    "    'presentation_count': murd_length0,\n",
    "    'context_sensitivity': 1,\n",
    "    'feature_sensitivity': 1\n",
    "}\n",
    "\n",
    "visualize_fit(InstanceCMR, \n",
    "              {**parameters, \n",
    "               **{free_parameters[i]:result.x[i] for i in range(len(result.x))}}, \n",
    "              murd_events0, 'subject > -1', experiment_count=1000, savefig=True)"
   ]
  },
  {
   "cell_type": "markdown",
   "id": "personalized-electron",
   "metadata": {},
   "source": [
    "### Subjectwise"
   ]
  },
  {
   "cell_type": "code",
   "execution_count": 3,
   "id": "designed-halifax",
   "metadata": {},
   "outputs": [
    {
     "name": "stdout",
     "output_type": "stream",
     "text": [
      "0\n",
      "1\n",
      "2\n",
      "3\n",
      "4\n",
      "5\n",
      "6\n",
      "7\n",
      "8\n",
      "9\n",
      "10\n",
      "11\n",
      "12\n",
      "13\n",
      "14\n",
      "15\n",
      "16\n",
      "17\n",
      "18\n",
      "19\n",
      "20\n",
      "21\n",
      "22\n",
      "23\n",
      "24\n",
      "25\n",
      "26\n",
      "27\n",
      "28\n",
      "29\n",
      "30\n",
      "31\n",
      "32\n",
      "33\n",
      "34\n",
      "35\n",
      "36\n",
      "37\n",
      "38\n",
      "39\n",
      "40\n",
      "41\n",
      "42\n",
      "43\n",
      "44\n",
      "45\n",
      "46\n",
      "47\n",
      "48\n",
      "49\n",
      "50\n",
      "51\n",
      "52\n",
      "53\n",
      "54\n",
      "55\n",
      "56\n",
      "57\n",
      "58\n",
      "59\n",
      "60\n",
      "61\n",
      "62\n",
      "63\n",
      "64\n",
      "65\n",
      "66\n",
      "67\n",
      "68\n",
      "69\n",
      "70\n",
      "71\n"
     ]
    }
   ],
   "source": [
    "free_parameters = [\n",
    "    'encoding_drift_rate',\n",
    "    'start_drift_rate',\n",
    "    'recall_drift_rate',\n",
    "    'shared_support',\n",
    "    'item_support',\n",
    "    'learning_rate',\n",
    "    'primacy_scale',\n",
    "    'primacy_decay',\n",
    "    'stop_probability_scale',\n",
    "    'stop_probability_growth',\n",
    "    'choice_sensitivity']\n",
    "\n",
    "lb = np.finfo(float).eps\n",
    "ub = 1-np.finfo(float).eps\n",
    "\n",
    "bounds = [\n",
    "    (lb, ub),\n",
    "    (lb, ub),\n",
    "    (lb, ub),\n",
    "    (lb, ub),\n",
    "    (lb, ub),\n",
    "    (lb, ub),\n",
    "    (lb, 100),\n",
    "    (lb, 100),\n",
    "    (lb, ub),\n",
    "    (lb, 10),\n",
    "    (lb, 10)\n",
    "]\n",
    "\n",
    "results = []\n",
    "\n",
    "for subject, start_index in enumerate(range(0, len(murd_trials0), subject_trial_count)):\n",
    "    print(subject)\n",
    "\n",
    "    # cost function to be minimized\n",
    "    # ours scales inversely with the probability that the data could have been \n",
    "    # generated using the specified parameters and our model\n",
    "    cost_function = icmr_murd_objective_function(\n",
    "        List([murd_trials0[start_index:start_index+subject_trial_count]]), \n",
    "        {'item_counts': List([murd_length0]), 'context_sensitivity': 1, 'feature_sensitivity': 1}, \n",
    "        free_parameters)\n",
    "\n",
    "    results.append(differential_evolution(cost_function, bounds, disp=False))"
   ]
  },
  {
   "cell_type": "code",
   "execution_count": 4,
   "id": "suitable-feedback",
   "metadata": {},
   "outputs": [
    {
     "name": "stdout",
     "output_type": "stream",
     "text": [
      "[305.43085244072836, 238.4647612876656, 329.7025438222279, 336.5242386434903, 348.8882686781923, 303.42052253046273, 257.79028369266376, 287.33568888388504, 231.5204119234239, 357.9344643456218, 181.46051462826142, 319.2786048533236, 387.2531095508502, 269.0830523858128, 293.68963754785653, 334.134695434706, 311.4475440313631, 286.31020238280615, 392.3681016126193, 388.76368100082846, 312.07737509858094, 338.5737868324603, 386.6888610035053, 296.756423054792, 279.7936469713827, 368.5862158821502, 326.02345412972596, 301.3053804139643, 352.71522416157325, 300.5193583950445, 345.4385425182849, 314.78466786099267, 337.051265773251, 386.80861154544766, 312.53360235750336, 382.7372029917884, 300.25468402102683, 331.88057107673205, 239.3717635475779, 234.59159663502876, 208.90610483821902, 272.748917448056, 299.5506347407328, 251.70012354914184, 299.9428794651608, 303.591324441701, 202.14077078708183, 252.26015733005568, 231.4045925400315, 244.99261362739793, 158.86384462279366, 265.6360760500071, 295.6774717704563, 271.3159845017648, 317.015546070287, 256.7223721900952, 236.65727344008144, 312.5991561453391, 321.10486502304803, 292.79972104872263, 375.20322712418846, 310.83077765103815, 342.2889371448859, 376.9418863675112, 274.85991592271597, 247.7264643747331, 323.5853565790591, 239.8117182087459, 224.61083959985154, 382.1068713103373, 221.2835364110936, 350.6758479167143]\n"
     ]
    }
   ],
   "source": [
    "print([result.fun for result in results])"
   ]
  },
  {
   "cell_type": "markdown",
   "id": "lovely-squad",
   "metadata": {},
   "source": [
    "## Free C-F Trace-Based Sensitivity"
   ]
  },
  {
   "cell_type": "code",
   "execution_count": null,
   "id": "affected-account",
   "metadata": {},
   "outputs": [],
   "source": [
    "from scipy.optimize import differential_evolution\n",
    "from numba.typed import List\n",
    "import numpy as np\n",
    "\n",
    "free_parameters = [\n",
    "    'encoding_drift_rate',\n",
    "    'start_drift_rate',\n",
    "    'recall_drift_rate',\n",
    "    'shared_support',\n",
    "    'item_support',\n",
    "    'learning_rate',\n",
    "    'primacy_scale',\n",
    "    'primacy_decay',\n",
    "    'stop_probability_scale',\n",
    "    'stop_probability_growth',\n",
    "    'feature_sensitivity']\n",
    "\n",
    "lb = np.finfo(float).eps\n",
    "ub = 1-np.finfo(float).eps\n",
    "\n",
    "bounds = [\n",
    "    (lb, ub),\n",
    "    (lb, ub),\n",
    "    (lb, ub),\n",
    "    (lb, ub),\n",
    "    (lb, ub),\n",
    "    (lb, ub),\n",
    "    (lb, 100),\n",
    "    (lb, 100),\n",
    "    (lb, ub),\n",
    "    (lb, 10),\n",
    "    (lb, 10)\n",
    "]\n",
    "\n",
    "# cost function to be minimized\n",
    "# ours scales inversely with the probability that the data could have been \n",
    "# generated using the specified parameters and our model\n",
    "cost_function = icmr_murd_objective_function(\n",
    "    List([murd_trials0]), \n",
    "    {'item_counts': List([murd_length0]), 'context_sensitivity': 1, 'choice_sensitivity': 1}, \n",
    "    free_parameters)\n",
    "\n",
    "result = differential_evolution(cost_function, bounds, disp=True)\n",
    "print(result)"
   ]
  },
  {
   "cell_type": "markdown",
   "id": "respiratory-workplace",
   "metadata": {},
   "source": [
    "### Results\n",
    "```\n",
    "     fun: 22783.36735821076\n",
    "     jac: array([-2.68966686e+01,  3.48083995e+02, -2.88286900e+02,  4.60773554e+04,\n",
    "       -1.09364337e+03,  4.73132604e+02,  3.84388843e+00,  2.97222870e+00,\n",
    "       -3.18458478e+02,  9.11142707e+01,  1.33764844e+01])\n",
    " message: 'Optimization terminated successfully.'\n",
    "    nfev: 12165\n",
    "     nit: 60\n",
    " success: True\n",
    "       x: array([7.04157544e-01, 2.22044605e-16, 8.42679777e-01, 6.84111237e-04,\n",
    "       3.31835533e-02, 1.01371142e-02, 4.34918696e+00, 1.43883032e+00,\n",
    "       2.98134948e-02, 3.42612961e-01, 2.39278982e+00])\n",
    "```"
   ]
  },
  {
   "cell_type": "code",
   "execution_count": 6,
   "id": "behind-associate",
   "metadata": {},
   "outputs": [
    {
     "data": {
      "image/png": "[encoded data removed]",
      "text/plain": [
       "<Figure size 316.875x216 with 1 Axes>"
      ]
     },
     "metadata": {
      "needs_background": "light"
     },
     "output_type": "display_data"
    },
    {
     "data": {
      "image/png": "[encoded data removed]",
      "text/plain": [
       "<Figure size 316.875x216 with 1 Axes>"
      ]
     },
     "metadata": {
      "needs_background": "light"
     },
     "output_type": "display_data"
    },
    {
     "data": {
      "image/png": "[encoded data removed]",
      "text/plain": [
       "<Figure size 316.875x216 with 1 Axes>"
      ]
     },
     "metadata": {
      "needs_background": "light"
     },
     "output_type": "display_data"
    }
   ],
   "source": [
    "parameters = {\n",
    "    'item_count':murd_length0,\n",
    "    'presentation_count': murd_length0,\n",
    "    'context_sensitivity': 1,\n",
    "    'choice_sensitivity': 1\n",
    "}\n",
    "\n",
    "visualize_fit(InstanceCMR, \n",
    "              {**parameters, \n",
    "               **{free_parameters[i]:result.x[i] for i in range(len(result.x))}}, \n",
    "              murd_events0, 'subject > -1', experiment_count=1000, savefig=True)"
   ]
  },
  {
   "cell_type": "markdown",
   "id": "plastic-thailand",
   "metadata": {},
   "source": [
    "### Subjectwise"
   ]
  },
  {
   "cell_type": "code",
   "execution_count": 9,
   "id": "expired-colombia",
   "metadata": {},
   "outputs": [
    {
     "name": "stdout",
     "output_type": "stream",
     "text": [
      "0\n",
      "1\n",
      "2\n",
      "3\n",
      "4\n",
      "5\n",
      "6\n",
      "7\n",
      "8\n",
      "9\n",
      "10\n",
      "11\n",
      "12\n",
      "13\n",
      "14\n",
      "15\n",
      "16\n",
      "17\n",
      "18\n",
      "19\n",
      "20\n",
      "21\n",
      "22\n",
      "23\n",
      "24\n",
      "25\n",
      "26\n",
      "27\n",
      "28\n",
      "29\n",
      "30\n",
      "31\n",
      "32\n",
      "33\n",
      "34\n",
      "35\n",
      "36\n",
      "37\n",
      "38\n",
      "39\n",
      "40\n",
      "41\n",
      "42\n",
      "43\n",
      "44\n",
      "45\n",
      "46\n",
      "47\n",
      "48\n",
      "49\n",
      "50\n",
      "51\n",
      "52\n",
      "53\n",
      "54\n",
      "55\n",
      "56\n",
      "57\n",
      "58\n",
      "59\n",
      "60\n",
      "61\n",
      "62\n",
      "63\n",
      "64\n",
      "65\n",
      "66\n",
      "67\n",
      "68\n",
      "69\n",
      "70\n",
      "71\n"
     ]
    }
   ],
   "source": [
    "from scipy.optimize import differential_evolution\n",
    "from numba.typed import List\n",
    "import numpy as np\n",
    "\n",
    "free_parameters = [\n",
    "    'encoding_drift_rate',\n",
    "    'start_drift_rate',\n",
    "    'recall_drift_rate',\n",
    "    'shared_support',\n",
    "    'item_support',\n",
    "    'learning_rate',\n",
    "    'primacy_scale',\n",
    "    'primacy_decay',\n",
    "    'stop_probability_scale',\n",
    "    'stop_probability_growth',\n",
    "    'feature_sensitivity']\n",
    "\n",
    "lb = np.finfo(float).eps\n",
    "ub = 1-np.finfo(float).eps\n",
    "\n",
    "bounds = [\n",
    "    (lb, ub),\n",
    "    (lb, ub),\n",
    "    (lb, ub),\n",
    "    (lb, ub),\n",
    "    (lb, ub),\n",
    "    (lb, ub),\n",
    "    (lb, 100),\n",
    "    (lb, 100),\n",
    "    (lb, ub),\n",
    "    (lb, 10),\n",
    "    (lb, 10)\n",
    "]\n",
    "\n",
    "results = []\n",
    "\n",
    "for subject, start_index in enumerate(range(0, len(murd_trials0), subject_trial_count)):\n",
    "    print(subject)\n",
    "\n",
    "    # cost function to be minimized\n",
    "    # ours scales inversely with the probability that the data could have been \n",
    "    # generated using the specified parameters and our model\n",
    "    cost_function = icmr_murd_objective_function(\n",
    "        List([murd_trials0[start_index:start_index+subject_trial_count]]), \n",
    "        {'item_counts': List([murd_length0]), 'context_sensitivity': 1, 'choice_sensitivity': 1}, \n",
    "        free_parameters)\n",
    "\n",
    "    results.append(differential_evolution(cost_function, bounds, disp=False))"
   ]
  },
  {
   "cell_type": "code",
   "execution_count": 10,
   "id": "published-empty",
   "metadata": {},
   "outputs": [
    {
     "name": "stdout",
     "output_type": "stream",
     "text": [
      "[303.45382418296583, 238.46282645585563, 329.21125249576926, 340.7811041048678, 345.48765769374484, 303.4005617040675, 258.9310252929649, 293.6882226107346, 231.76563732130222, 357.2523991288455, 186.88632375120378, 310.7775820517285, 385.6292758439509, 267.72592564163585, 289.7996584598312, 335.71608798603484, 313.5755924368575, 287.78938575643326, 392.34110369539655, 389.0535098766269, 312.2944074541688, 338.47667227049374, 385.4692131137648, 329.40473609017414, 279.3650104503786, 396.54517272072485, 325.1072920219178, 300.1444907600177, 349.13551822802333, 302.69592407597906, 348.4221946075333, 314.3195986602027, 332.8070501018908, 387.4473068963529, 314.3556297660127, 388.9666145840851, 302.0310839211129, 296.3751514858682, 250.39132722569826, 235.09901213306063, 209.36347314106723, 273.43650907202255, 299.49463007237176, 242.19554109177446, 300.95226972774515, 304.385604442194, 204.5953051690568, 251.57100617324565, 225.2613241648569, 244.7351475213051, 156.74130963480394, 263.79598323823905, 290.77155673782096, 272.1204934982495, 317.6837307266545, 256.2953983547324, 237.1057294872423, 328.6160210288548, 321.0671196644732, 293.9167406181948, 376.3267867870279, 311.38479285018485, 335.99187062967457, 379.05301668022867, 275.7292619985391, 248.27591681151452, 318.21591307589074, 239.83323791949584, 229.2030226161997, 381.0622664539487, 221.53013582469154, 350.3184631033009]\n"
     ]
    }
   ],
   "source": [
    "print([result.fun for result in results])"
   ]
  },
  {
   "cell_type": "markdown",
   "id": "modern-protein",
   "metadata": {},
   "source": [
    "## Single-Parameter Free Trace-Based Sensitivity"
   ]
  },
  {
   "cell_type": "markdown",
   "id": "quarterly-recording",
   "metadata": {},
   "source": [
    "We want to make sure any difference between the trace-based and echo-based sensitivity parameters aren't because the former is responsible for both C->F and F->C transformations. Currently, when feature_sensitivity is held to 1.0, context_sensitivity organizes trace-based retrieval in either direction."
   ]
  },
  {
   "cell_type": "code",
   "execution_count": null,
   "id": "abroad-lesbian",
   "metadata": {},
   "outputs": [],
   "source": [
    "from scipy.optimize import differential_evolution\n",
    "from numba.typed import List\n",
    "import numpy as np\n",
    "\n",
    "free_parameters = [\n",
    "    'encoding_drift_rate',\n",
    "    'start_drift_rate',\n",
    "    'recall_drift_rate',\n",
    "    'shared_support',\n",
    "    'item_support',\n",
    "    'learning_rate',\n",
    "    'primacy_scale',\n",
    "    'primacy_decay',\n",
    "    'stop_probability_scale',\n",
    "    'stop_probability_growth',\n",
    "    'context_sensitivity']\n",
    "\n",
    "lb = np.finfo(float).eps\n",
    "ub = 1-np.finfo(float).eps\n",
    "\n",
    "bounds = [\n",
    "    (lb, ub),\n",
    "    (lb, ub),\n",
    "    (lb, ub),\n",
    "    (lb, ub),\n",
    "    (lb, ub),\n",
    "    (lb, ub),\n",
    "    (lb, 100),\n",
    "    (lb, 100),\n",
    "    (lb, ub),\n",
    "    (lb, 10),\n",
    "    (lb, 10)\n",
    "]\n",
    "\n",
    "# cost function to be minimized\n",
    "# ours scales inversely with the probability that the data could have been \n",
    "# generated using the specified parameters and our model\n",
    "cost_function = icmr_murd_objective_function(\n",
    "    List([murd_trials0]), \n",
    "    {'item_counts': List([murd_length0]), 'feature_sensitivity': 1, 'choice_sensitivity': 1}, \n",
    "    free_parameters)\n",
    "\n",
    "result = differential_evolution(cost_function, bounds, disp=True)\n",
    "print(result)"
   ]
  },
  {
   "cell_type": "markdown",
   "id": "particular-musical",
   "metadata": {},
   "source": [
    "### Results\n",
    "```\n",
    "     fun: 22850.560383634802\n",
    "     jac: array([  1.86446413,  -5.81167114,  22.35319687, 802.30311141,\n",
    "        12.53465599, -33.87795004,  -3.89554738,   0.        ,\n",
    "        14.05569492, -30.33346731, -42.84738658])\n",
    " message: 'Optimization terminated successfully.'\n",
    "    nfev: 11613\n",
    "     nit: 60\n",
    " success: True\n",
    "       x: array([8.13747983e-01, 6.27998882e-03, 9.72598264e-01, 9.27475781e-04,\n",
    "       3.18670579e-01, 3.57189132e-02, 1.03657413e+01, 5.36018883e+01,\n",
    "       3.16992419e-02, 3.35561099e-01, 9.28861441e-01])\n",
    "```"
   ]
  },
  {
   "cell_type": "code",
   "execution_count": 8,
   "id": "worst-fitting",
   "metadata": {},
   "outputs": [
    {
     "data": {
      "image/png": "[encoded data removed]",
      "text/plain": [
       "<Figure size 316.875x216 with 1 Axes>"
      ]
     },
     "metadata": {
      "needs_background": "light"
     },
     "output_type": "display_data"
    },
    {
     "data": {
      "image/png": "[encoded data removed]",
      "text/plain": [
       "<Figure size 316.875x216 with 1 Axes>"
      ]
     },
     "metadata": {
      "needs_background": "light"
     },
     "output_type": "display_data"
    },
    {
     "data": {
      "image/png": "[encoded data removed]",
      "text/plain": [
       "<Figure size 316.875x216 with 1 Axes>"
      ]
     },
     "metadata": {
      "needs_background": "light"
     },
     "output_type": "display_data"
    }
   ],
   "source": [
    "parameters = {\n",
    "    'item_count':murd_length0,\n",
    "    'presentation_count': murd_length0,\n",
    "    'feature_sensitivity': 1,\n",
    "    'choice_sensitivity': 1\n",
    "}\n",
    "\n",
    "visualize_fit(InstanceCMR, \n",
    "              {**parameters, \n",
    "               **{free_parameters[i]:result.x[i] for i in range(len(result.x))}}, \n",
    "              murd_events0, 'subject > -1', experiment_count=1000, savefig=True)"
   ]
  },
  {
   "cell_type": "markdown",
   "id": "induced-pavilion",
   "metadata": {},
   "source": [
    "### Subjectwise"
   ]
  },
  {
   "cell_type": "code",
   "execution_count": 11,
   "id": "suburban-sympathy",
   "metadata": {},
   "outputs": [
    {
     "name": "stdout",
     "output_type": "stream",
     "text": [
      "0\n",
      "1\n",
      "2\n",
      "3\n",
      "4\n",
      "5\n",
      "6\n",
      "7\n",
      "8\n",
      "9\n",
      "10\n",
      "11\n",
      "12\n",
      "13\n",
      "14\n",
      "15\n",
      "16\n",
      "17\n",
      "18\n",
      "19\n",
      "20\n",
      "21\n",
      "22\n",
      "23\n",
      "24\n",
      "25\n",
      "26\n",
      "27\n",
      "28\n",
      "29\n",
      "30\n",
      "31\n",
      "32\n",
      "33\n",
      "34\n",
      "35\n",
      "36\n",
      "37\n",
      "38\n",
      "39\n",
      "40\n",
      "41\n",
      "42\n",
      "43\n",
      "44\n",
      "45\n",
      "46\n",
      "47\n",
      "48\n",
      "49\n",
      "50\n",
      "51\n",
      "52\n",
      "53\n",
      "54\n",
      "55\n",
      "56\n",
      "57\n",
      "58\n",
      "59\n",
      "60\n",
      "61\n",
      "62\n",
      "63\n",
      "64\n",
      "65\n",
      "66\n",
      "67\n",
      "68\n",
      "69\n",
      "70\n",
      "71\n"
     ]
    }
   ],
   "source": [
    "free_parameters = [\n",
    "    'encoding_drift_rate',\n",
    "    'start_drift_rate',\n",
    "    'recall_drift_rate',\n",
    "    'shared_support',\n",
    "    'item_support',\n",
    "    'learning_rate',\n",
    "    'primacy_scale',\n",
    "    'primacy_decay',\n",
    "    'stop_probability_scale',\n",
    "    'stop_probability_growth',\n",
    "    'context_sensitivity']\n",
    "\n",
    "lb = np.finfo(float).eps\n",
    "ub = 1-np.finfo(float).eps\n",
    "\n",
    "bounds = [\n",
    "    (lb, ub),\n",
    "    (lb, ub),\n",
    "    (lb, ub),\n",
    "    (lb, ub),\n",
    "    (lb, ub),\n",
    "    (lb, ub),\n",
    "    (lb, 100),\n",
    "    (lb, 100),\n",
    "    (lb, ub),\n",
    "    (lb, 10),\n",
    "    (lb, 10)\n",
    "]\n",
    "\n",
    "results = []\n",
    "\n",
    "for subject, start_index in enumerate(range(0, len(murd_trials0), subject_trial_count)):\n",
    "    print(subject)\n",
    "\n",
    "    # cost function to be minimized\n",
    "    # ours scales inversely with the probability that the data could have been \n",
    "    # generated using the specified parameters and our model\n",
    "    cost_function = icmr_murd_objective_function(\n",
    "        List([murd_trials0[start_index:start_index+subject_trial_count]]), \n",
    "        {'item_counts': List([murd_length0]), 'feature_sensitivity': 1, 'choice_sensitivity': 1}, \n",
    "        free_parameters)\n",
    "\n",
    "    results.append(differential_evolution(cost_function, bounds, disp=False))"
   ]
  },
  {
   "cell_type": "code",
   "execution_count": 12,
   "id": "pacific-native",
   "metadata": {},
   "outputs": [
    {
     "name": "stdout",
     "output_type": "stream",
     "text": [
      "[304.1492837962723, 238.11938882939262, 330.5131663115768, 336.44728224544065, 349.41726842994876, 312.53146827722725, 337.51448609531076, 287.6268395087693, 231.74552953964962, 356.2829576346587, 186.78852327955062, 313.85632714317353, 386.2456067817088, 269.5281002338953, 306.9576985773913, 335.0796941644478, 313.2325072733741, 288.0938532170716, 392.4344716236275, 388.6550631459827, 312.3326970774226, 336.4992709984682, 392.0633484007093, 298.40465317858525, 279.2788397153214, 368.1967652856482, 326.2291789312814, 298.4745408323163, 349.7436228875689, 303.3196349165347, 340.49153080235385, 314.3771787970444, 335.6554958231367, 386.8993263462754, 313.1052282183267, 388.86259281718344, 300.9041230910331, 295.9761497154199, 240.47232125122736, 235.66718416776428, 211.8685111229628, 273.454854192118, 299.5132143239589, 242.18937193990186, 299.0722564209308, 304.3281147425448, 204.29845720336655, 252.55098800130543, 225.28925966764953, 244.61241061828278, 150.7567967260189, 258.8903340058245, 298.712680970008, 267.86976573312046, 317.6805364056973, 256.4124533154694, 237.26547514342954, 312.9963713094586, 314.20033678076226, 291.9739160538204, 374.1112263554562, 311.5447186134352, 335.12520479991304, 377.7388535084909, 275.9007825338142, 248.30358055491138, 317.88051931337884, 239.77112370752752, 216.09565314736398, 388.8443199194015, 221.54367214471227, 349.70935342891005]\n"
     ]
    }
   ],
   "source": [
    "print([result.fun for result in results])"
   ]
  },
  {
   "cell_type": "code",
   "execution_count": null,
   "id": "theoretical-messenger",
   "metadata": {},
   "outputs": [],
   "source": []
  }
 ],
 "metadata": {
  "kernelspec": {
   "display_name": "Python 3",
   "language": "python",
   "name": "python3"
  },
  "language_info": {
   "codemirror_mode": {
    "name": "ipython",
    "version": 3
   },
   "file_extension": ".py",
   "mimetype": "text/x-python",
   "name": "python",
   "nbconvert_exporter": "python",
   "pygments_lexer": "ipython3",
   "version": "3.8.5"
  }
 },
 "nbformat": 4,
 "nbformat_minor": 5
}

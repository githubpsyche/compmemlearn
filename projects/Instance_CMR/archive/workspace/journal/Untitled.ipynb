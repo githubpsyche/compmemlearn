{
 "cells": [
  {
   "cell_type": "markdown",
   "id": "willing-conservative",
   "metadata": {},
   "source": [
    "$$\n",
    "M^{CF}_{pre(ij)} = \\begin{cases} \\begin{alignedat}{2} 1 - \\delta \\text{, if } i=j \\\\\n",
    "          \\alpha \\text{, if } i \\neq j\\\\\n",
    "       \\end{alignedat} \\end{cases}\n",
    "$$"
   ]
  },
  {
   "cell_type": "markdown",
   "id": "premier-aerospace",
   "metadata": {},
   "source": [
    "$$\n",
    "f_{pre(ij)} = \\begin{cases} \\begin{alignedat}{2} 1 - \\gamma \\text{, if } i=j \\\\\n",
    "          0 \\text{, if } i \\neq j\\\\\n",
    "       \\end{alignedat} \\end{cases}\n",
    "$$"
   ]
  },
  {
   "cell_type": "markdown",
   "id": "worse-convert",
   "metadata": {},
   "source": [
    "$$\n",
    "M^{FC}_{pre(ij)} = \\begin{cases} \\begin{alignedat}{2} 1 - \\gamma \\text{, if } i=j \\\\\n",
    "          0 \\text{, if } i \\neq j\\\\\n",
    "       \\end{alignedat} \\end{cases}\n",
    "$$\n",
    "\n",
    "Similarly, pre-experimental context-to-feature associations are set according to:\n",
    "\n",
    "$$\n",
    "M^{CF}_{pre(ij)} = \\begin{cases} \\begin{alignedat}{2} 1 - \\delta \\text{, if } i=j \\\\\n",
    "          \\alpha \\text{, if } i \\neq j\\\\\n",
    "       \\end{alignedat} \\end{cases}\n",
    "$$\n",
    "\n",
    "This relates \n",
    "\n",
    "$$\n",
    "c^{IN}_{i} = M^{FC}f_{i} = M^{FC}_{pre}\n",
    "$$\n",
    "\n",
    "$$\n",
    "c_i = \\rho_ic_{i-1} + \\beta c_{i}^{IN}\n",
    "$$\n",
    "\n",
    "Where $\\beta$ is set to $\\beta_{enc}$ and $rho_i$ is set so that the length of $c_i$ is 1, according to\n",
    "\n",
    "$$\n",
    "\\rho_i = \\sqrt{1 + \\beta^2\\left[\\left(c_{i-1} \\cdot c^{IN}_i\\right)^2 - 1\\right]} - \\beta\\left(c_{i-1} \\cdot\n",
    "c^{IN}_i\\right)\n",
    "$$"
   ]
  },
  {
   "cell_type": "markdown",
   "id": "baking-tension",
   "metadata": {},
   "source": [
    "$$\n",
    "\\Delta M^{FC}_{exp} = \\gamma c_i f^{'}_i\n",
    "$$\n",
    "\n",
    "$$\n",
    "\\Delta M^{CF}_{exp} = \\phi_i f_i c^{'}_i\n",
    "$$"
   ]
  },
  {
   "cell_type": "markdown",
   "id": "frozen-courtesy",
   "metadata": {},
   "source": [
    "where $\\phi_i$ scales the amount of learning, simulating increased attention to initial items in a list that has been\n",
    "proposed to explain the primacy effect. $phi_i$ depends on the serial position $i$ of the studied item:\n",
    "\n",
    "$$\n",
    "\\phi_i = \\phi_se^{-\\phi_d(i-1)} + 1\n",
    "$$"
   ]
  },
  {
   "cell_type": "markdown",
   "id": "bigger-classics",
   "metadata": {},
   "source": [
    "$$\n",
    "P(i) = (1-P(stop))\\frac{a^{\\tau}_i}{\\sum_{k}^{N}a^{\\tau}_k}\n",
    "$$"
   ]
  },
  {
   "cell_type": "markdown",
   "id": "stuffed-arrest",
   "metadata": {},
   "source": [
    "associations.\n",
    "\n",
    "$$\n",
    "a_{exp(i)} = \\gamma \\cdot \\left({\\frac {\\sum^{j=n}_{j=1}{p_j \\times M_{ij}}} {\\sqrt{\\sum^{j=n}_{j=1}{p^2_j}}\n",
    "        \\sqrt{\\sum^{j=n}_{j=1}{M^2_{ij}}}}}\\right)^{\\tau} \\text{ if } p_f \\neq 0\n",
    "$$\n",
    "\n",
    "Similarly, when contextual information is included in the probe ($p_c \\neq 0$), activation for traces encoded during the\n",
    "experiment are modulated by $\\phi$\n",
    "\n",
    "$$\n",
    "a_{exp(i)} = \\phi_i \\cdot \\left({\\frac {\\sum^{j=n}_{j=1}{p_j \\times M_{ij}}} {\\sqrt{\\sum^{j=n}_{j=1}{p^2_j}}\n",
    "        \\sqrt{\\sum^{j=n}_{j=1}{M^2_{ij}}}}}\\right)^{\\tau} \\text{ if } p_c \\neq 0\n",
    "$$\n",
    "\n",
    "where $\\phi_i$ scales the amount of learning, simulating increased attention to initial items in a list that has been\n",
    "proposed to explain the primacy effect. $phi_i$ depends on the serial position $i$ of the studied item:\n",
    "\n",
    "$$\n",
    "\\phi_i = \\phi_se^{-\\phi_d(i-1)} + 1\n",
    "$$"
   ]
  },
  {
   "cell_type": "code",
   "execution_count": null,
   "id": "rocky-airplane",
   "metadata": {},
   "outputs": [],
   "source": []
  }
 ],
 "metadata": {
  "kernelspec": {
   "display_name": "Python 3",
   "language": "python",
   "name": "python3"
  },
  "language_info": {
   "codemirror_mode": {
    "name": "ipython",
    "version": 3
   },
   "file_extension": ".py",
   "mimetype": "text/x-python",
   "name": "python",
   "nbconvert_exporter": "python",
   "pygments_lexer": "ipython3",
   "version": "3.8.5"
  }
 },
 "nbformat": 4,
 "nbformat_minor": 5
}

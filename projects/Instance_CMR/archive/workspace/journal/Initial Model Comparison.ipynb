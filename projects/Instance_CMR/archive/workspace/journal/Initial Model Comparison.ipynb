{
 "cells": [
  {
   "cell_type": "markdown",
   "id": "split-simpson",
   "metadata": {},
   "source": [
    "What are my ingredients?"
   ]
  },
  {
   "cell_type": "markdown",
   "id": "front-london",
   "metadata": {},
   "source": [
    "## Latent Mfc vs Mcf function"
   ]
  },
  {
   "cell_type": "code",
   "execution_count": null,
   "id": "optical-personal",
   "metadata": {},
   "outputs": [],
   "source": [
    "def latent_mfc_mcf(model):\n",
    "    \"\"\"\n",
    "    Generates the latent $M^{FC}$ and $M^{CF}$ in the specified ICMR instance.\n",
    "    For exploring and demonstrating model equivalence, we can calculate for any state of ICMR's dual-store memory \n",
    "    array $M$ a corresponding $M^{FC}$ (or $M^{CF}$) by computing for each orthogonal $f_i$ (or $c_i$) the model's \n",
    "    corresponding echo representation. \n",
    "    \"\"\"\n",
    "\n",
    "    encoding_states(model)\n",
    "    \n",
    "    # start by finding latent mfc: the contextual representation cued when each orthogonal $f_i$ is cued\n",
    "    latent_mfc = np.zeros((model.item_count, model.item_count+1))\n",
    "    cue = np.zeros(model.item_count*2 + 2)\n",
    "    for i in range(model.item_count):\n",
    "        cue *= 0\n",
    "        cue[i+1] = 1\n",
    "        latent_mfc[i] = model.echo(cue)[model.item_count + 1:]\n",
    "\n",
    "    # now the latent mcf\n",
    "    latent_mcf = np.zeros((model.item_count+1, model.item_count))\n",
    "    for i in range(model.item_count+1):\n",
    "        cue *= 0\n",
    "        cue[model.item_count+1+i] = 1\n",
    "        latent_mcf[i] = model.echo(cue)[1:model.item_count + 1] # start at 1 due to dummy column in F\n",
    "\n",
    "    # plotting\n",
    "    return latent_mfc, latent_mcf\n",
    "\n",
    "# %% [markdown]\n",
    "# Now we wield our new functions to compare CMR and ICMR's memory representations.\n",
    "\n",
    "# %%\n",
    "\n",
    "if True:\n",
    "    # ICMR\n",
    "    model = InstanceCMR(**parameters)\n",
    "    latent_mfc, latent_mcf = latent_mfc_mcf(model)\n",
    "    print(model.__class__.__name__)\n",
    "    plot_states(model.memory, 'ICMR Memory')\n",
    "    plot_states(latent_mfc, 'ICMR Latent Mfc')\n",
    "    plot_states(latent_mcf, 'ICMR Latent Mcf')\n",
    "\n",
    "    # CMR\n",
    "    model = CMR(**parameters)\n",
    "    encoding_states(model)\n",
    "    print(model.__class__.__name__)\n",
    "    plot_states(model.mfc, 'CMR Mfc')\n",
    "    plot_states(model.mcf, 'CMR Mcf')"
   ]
  },
  {
   "cell_type": "markdown",
   "id": "reflected-above",
   "metadata": {},
   "source": [
    "## Subject-Level Plotting Code"
   ]
  },
  {
   "cell_type": "markdown",
   "id": "going-polymer",
   "metadata": {},
   "source": [
    "The problem with a violin plot actually is that points aren't matched to one another - I can't clearly tell whether the values differ substantially between models for a given subject. Instead, I'll use a line plot that maybe plots a marginal distribution on the edges. If the corresponding line has a slope of 1, then even when you consider subject by subject, the models obtain similar fits.\n",
    "\n",
    "When I'm comparing fits across list types, I can draw inspiration from the more extended documentation [here](https://seaborn.pydata.org/generated/seaborn.jointplot.html). "
   ]
  },
  {
   "cell_type": "code",
   "execution_count": 1,
   "id": "impressed-sector",
   "metadata": {},
   "outputs": [
    {
     "data": {
      "image/png": "[encoded data removed]",
      "text/plain": [
       "<Figure size 432x432 with 3 Axes>"
      ]
     },
     "metadata": {
      "needs_background": "light"
     },
     "output_type": "display_data"
    }
   ],
   "source": [
    "# libraries\n",
    "import matplotlib.pyplot as plt\n",
    "import numpy as np\n",
    "import seaborn as sns\n",
    "import pandas as pd\n",
    "\n",
    "# Dataset:\n",
    "df=pd.DataFrame({'x': np.random.normal(10, 1.2, 20000), 'y': np.random.normal(10, 1.2, 20000), 'group': np.repeat('A',20000) })\n",
    "tmp1=pd.DataFrame({'x': np.random.normal(14.5, 1.2, 20000), 'y': np.random.normal(14.5, 1.2, 20000), 'group': np.repeat('B',20000) })\n",
    "tmp2=pd.DataFrame({'x': np.random.normal(9.5, 1.5, 20000), 'y': np.random.normal(15.5, 1.5, 20000), 'group': np.repeat('C',20000) })\n",
    "df=df.append(tmp1).append(tmp2)\n",
    "\n",
    "# 2D density + marginal distribution:\n",
    "sns.jointplot(x=df.x, y=df.y, cmap=\"Blues\", shade=True, kind='kde')\n",
    "plt.show()"
   ]
  },
  {
   "cell_type": "markdown",
   "id": "announced-concentrate",
   "metadata": {},
   "source": [
    "## AIC Code\n",
    "Okay, so supppose I have 21239 in one dataset... CMR\n",
    "21073 in ICMR\n",
    "\n",
    "Sample size of 9380."
   ]
  },
  {
   "cell_type": "code",
   "execution_count": 19,
   "id": "ordered-viking",
   "metadata": {},
   "outputs": [],
   "source": [
    "import numpy as np\n",
    "\n",
    "def aic(ll_A, ll_B, parameter_count, sample_size):\n",
    "    \"\"\"\n",
    "    This value is calculated for every candidate model and the best model is \n",
    "    the candidate model with the smallest AIC. We convert these into AIC \n",
    "    weights to estimate the probability that each model generated the data, \n",
    "    under the assumption that one of them did.\n",
    "    \"\"\"\n",
    "    aic_A = 2 * ll_A + (2 * parameter_count) + ((2 * parameter_count)*(parameter_count+1))/(sample_size - parameter_count - 1)\n",
    "    aic_B = 2 * ll_B + (2 * parameter_count) + ((2 * parameter_count)*(parameter_count+1))/(sample_size - parameter_count - 1)\n",
    "    \n",
    "    best = min(aic_A, aic_B)\n",
    "    termA = np.exp(-.5 * (aic_A - best))\n",
    "    termB = np.exp(-.5 * (aic_B - best))\n",
    "    \n",
    "    return best, termA/(termA + termB), termB/(termA + termB)"
   ]
  },
  {
   "cell_type": "code",
   "execution_count": 20,
   "id": "documentary-membership",
   "metadata": {},
   "outputs": [
    {
     "data": {
      "text/plain": [
       "(42172.038863976086, 8.074506789675094e-73, 1.0)"
      ]
     },
     "execution_count": 20,
     "metadata": {},
     "output_type": "execute_result"
    }
   ],
   "source": [
    "aic(21239, 21073, 13, 9380)"
   ]
  },
  {
   "cell_type": "markdown",
   "id": "romance-ethics",
   "metadata": {},
   "source": [
    "I'm surprised by how sensitive these computations are; the differences I previously noted as small between CMR and InstanceCMR are regarded as quite large by the AIC-based tests I've been exploring. They extend to the two-list case, too!"
   ]
  },
  {
   "cell_type": "markdown",
   "id": "divine-premises",
   "metadata": {},
   "source": [
    "## Secondary Baseline Dataset"
   ]
  },
  {
   "cell_type": "markdown",
   "id": "generous-caribbean",
   "metadata": {},
   "source": [
    "Sean discourages focusing on the Murdoch dataset because of that odd bump in recall likelihoods for pre-terminally presented items. \n",
    "\n",
    "He suggested I try any different dataset from the 2009 paper or: Pierce2016, experiment 3. (exp 1 is good too?) of 2016 paper. Not the Sederberg one - had some quirks. Though could show model handles distraction okay.\n",
    "\n",
    "I can't get into the memory server for some reason. An alternative strategy might be to look for a dataset in my options that's shared online somewhere.\n",
    "\n",
    "I'll use the Okada dataset since it has the same size as the Murdoch 1962 dataset and is easy to process. The point is to show that my model comparisons extend to an additional dataset without the bump in PFRs that I showed off to Polyn. \n",
    "\n",
    "What does the next phase of my research look like then?\n",
    "\n",
    "1. Prepare and visualize this new dataset to support the same analyses as I performed w/ the murdock dataset.\n",
    "2. Run the pipeline across all model versions\n",
    "2. Extend the pipeline to visualize the distribution of AIC scores across subjects depending on the dataset.\n",
    "\n",
    "What about the other model comparison issues?\n",
    "\n",
    "I want to present an analysis of latent Mfc/Mcf to show relative equivalence. Can I concretize that vision a bit better?\n",
    "\n",
    "A section of my paper outlines a scheme for comparing model states (M, Mfc, Mcf, context) across encoding and retrieval. Figures include a plot of M over encoding. Then Mcf/Mfc vs CMR's. And correspondingly a figure visualizing changes in context/outcome probabilities over the course of retrieval. \n",
    "\n",
    "I already have all this code though they made need revision. But I may need to run them all over again."
   ]
  },
  {
   "cell_type": "markdown",
   "id": "ready-defense",
   "metadata": {},
   "source": [
    "## Phase Two\n",
    "Then there's the repetitions analyses.\n",
    "\n",
    "I similarly want to compute fits both across all subjects/conditions, and within condition/subject. \n",
    "\n",
    "That is, I'll fit the model...\n",
    "1. Across conditions/subjects\n",
    "2. Between condition\n",
    "3. Between subject\n",
    "4. Between condition/subject\n",
    "\n",
    "Are all these conditions interesting? \n",
    "\n",
    "I will certainly be interested in overall fits. Dividing between conditions helps figure out if any dissociation in performance is because of the repetitions or not. Dividing between subjects helps clarify whether intersubject variance is a factor. Dividing between conditions _and_ subjects is mostly about exploring if there's any intersubject variance in the apparent dissociation. All interesting questions, sure. Between subject, though? Perhaps not so much.\n",
    "\n",
    "Then we need corresponding model analyses. That recall probability by repetition count plot is one step, sure; and using fitted values to underscore these differences matters too.\n",
    "\n",
    "When I'm fitting between conditions, I get to pose a conflict for the models. How much should item repetition impact recall probability vs how deterministically should recall proceed? The result of my fitting between and across conditions helps clarify how this conflict is negotiated.\n",
    "\n",
    "I am also supposed to connect this to Lohnas et al's analysis of spacing effects between conditions."
   ]
  },
  {
   "cell_type": "markdown",
   "id": "prerequisite-signature",
   "metadata": {},
   "source": [
    "## Phase Three\n",
    "While one historical contest between prototype-based and instance-based models focused on control over how deterministically recall is carried out (resolved by inclusion of a similar parameter in CMR), the other focuses on selection of _subordinate_ item contexts given a compound cue containing both the item and some context-disambiguating information. CMR sidesteps this issue too as a prototype model by storing and probing item-to-context and context-to-item associations separately. As there's no compound-cued search for particular subsets of contextual associations corresponding to an item, nothing analogous to Jamieson et al's analysis of how prototype- and instance-based semantic memory models represent homonymous and polysemous words seems to emerge for comparison of prototype-based and instance-based CMR.\n",
    "\n",
    "However, a modification of InstanceCMR that applies compound cue-ing similarly to how Morton and Polyn's combination of item and contextual features to model semantic memory could enable the relevant dissociation?\n",
    "\n",
    "Maybe, but perhaps not clearly. "
   ]
  },
  {
   "cell_type": "code",
   "execution_count": null,
   "id": "neutral-calgary",
   "metadata": {},
   "outputs": [],
   "source": []
  }
 ],
 "metadata": {
  "kernelspec": {
   "display_name": "Python 3",
   "language": "python",
   "name": "python3"
  },
  "language_info": {
   "codemirror_mode": {
    "name": "ipython",
    "version": 3
   },
   "file_extension": ".py",
   "mimetype": "text/x-python",
   "name": "python",
   "nbconvert_exporter": "python",
   "pygments_lexer": "ipython3",
   "version": "3.8.5"
  }
 },
 "nbformat": 4,
 "nbformat_minor": 5
}

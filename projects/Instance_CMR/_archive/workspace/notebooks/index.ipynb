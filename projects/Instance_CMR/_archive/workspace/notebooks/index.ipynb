{
 "cells": [
  {
   "cell_type": "markdown",
   "id": "packed-entry",
   "metadata": {},
   "source": [
    "# InstanceCMR\n",
    "> An Instance-Based Account of Context Maintenance and Retrieval"
   ]
  },
  {
   "cell_type": "markdown",
   "id": "primary-toronto",
   "metadata": {},
   "source": [
    "In retrieved context accounts of memory search such as the Context\n",
    "Maintenance and Retrieval (CMR) model (Polyn et al., 2009),\n",
    "representations of studied items in a free recall experiment are\n",
    "associated with an internal representation of context that changes\n",
    "slowly during the study period. These associations in turn account for\n",
    "organizational effects in recall sequences, such as the tendency for\n",
    "related items to be recalled successively.\n",
    "\n",
    "Specifications of the model tend to characterize these dynamics in terms\n",
    "of a simplified neural network, as building a single prototypical\n",
    "pattern of associations between each item and context (and vice versa)\n",
    "across experience. By contrast, models of categorization and other\n",
    "memory phenomena have increasingly converged on instance-based accounts\n",
    "(Hintzman, 1984) that conceptualize memory as a stack of trace vectors\n",
    "that each represent discrete experiences and support recall through\n",
    "parallel activation based on similarity to a probe.\n",
    "\n",
    "To investigate the consequences of this distinction, we present an\n",
    "instance-based specification of CMR that encodes associations between\n",
    "studied items and context by instantiating memory traces corresponding\n",
    "to each experience, and drives recall through context-based coactivation\n",
    "of those traces. We analyze the model&rsquo;s ability to account for\n",
    "traditional phenomena that have been used as support for the original\n",
    "prototypical specification of CMR, evaluate conditions under which the\n",
    "specifications might behave differently, and explore the model&rsquo;s\n",
    "capacity for integration with existing instance-based models to\n",
    "elucidate a broader collection of memory phenomena."
   ]
  },
  {
   "cell_type": "markdown",
   "id": "characteristic-cambridge",
   "metadata": {},
   "source": [
    "## Features"
   ]
  },
  {
   "cell_type": "markdown",
   "id": "violent-share",
   "metadata": {},
   "source": [
    "- Thoroughly optimized and documented implementations of CMR, InstanceCMR, and related models, including benchmarks and parameter bounds\n",
    "- A small library of utilities supporting model analysis, including state visualization and parameter fitting\n",
    "- Tutorial notebooks outlining typical workflows to use and extend this codebase in various contexts\n",
    "- Various simulation experiments developing a detailed account of how an instance-based architecture shapes model predictions"
   ]
  },
  {
   "cell_type": "markdown",
   "id": "understood-comedy",
   "metadata": {},
   "source": [
    "## Getting Started"
   ]
  },
  {
   "cell_type": "markdown",
   "id": "olympic-steering",
   "metadata": {},
   "source": [
    "To learn about the model, corresponding analyses, and the accompanying library of helper functions, check out the [project docs](https://vucml.github.io/instance_cmr/) and peruse its sidebar. Pages contain links to their corresponding IPython notebooks, both within this repository as well as for use on Google Colaboratory, a free, cloud-based Jupyter environment with GPU capabilities.\n",
    "\n",
    "While this repository mainly exists to organize and preserve analysis related to InstanceCMR, we include and maintain a library of functions and classes available for reuse in new contexts. This library is maintained in the `instance_cmr/` subdirectory. \n",
    "\n",
    "Currently, the best way to install the library is to perform an [editable install](https://stackoverflow.com/questions/35064426/when-would-the-e-editable-option-be-useful-with-pip-install): upon installation, library functions will be usable anywhere in the relevant environment. Perform this by cloning the repository and at its root using the command `pip install -e .`."
   ]
  }
 ],
 "metadata": {
  "kernelspec": {
   "display_name": "Python 3 (ipykernel)",
   "language": "python",
   "name": "python3"
  },
  "language_info": {
   "codemirror_mode": {
    "name": "ipython",
    "version": 3
   },
   "file_extension": ".py",
   "mimetype": "text/x-python",
   "name": "python",
   "nbconvert_exporter": "python",
   "pygments_lexer": "ipython3",
   "version": "3.9.1"
  },
  "toc-autonumbering": false
 },
 "nbformat": 4,
 "nbformat_minor": 5
}

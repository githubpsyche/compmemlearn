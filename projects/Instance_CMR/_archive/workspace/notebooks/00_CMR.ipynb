{
 "cells": [
  {
   "cell_type": "code",
   "execution_count": 1,
   "metadata": {
    "id": "SvaA9kqXYYyy"
   },
   "outputs": [],
   "source": [
    "# hide\n",
    "# default_exp models\n",
    "\n",
    "# set up google colab environment; \n",
    "# we assume drive is mounted with instance_cmr cloned at root\n",
    "if'google.colab' in str(get_ipython()):\n",
    "    from google.colab import drive\n",
    "    drive.mount('/content/drive')\n",
    "    %cd drive/MyDrive/instance_cmr\n",
    "    %pip install -q -r requirements.txt\n",
    "\n",
    "from nbdev.showdoc import *"
   ]
  },
  {
   "cell_type": "markdown",
   "metadata": {
    "id": "_r7wLKd3ZchQ"
   },
   "source": [
    "# PrototypeCMR"
   ]
  },
  {
   "cell_type": "markdown",
   "metadata": {
    "id": "9jMLRViaZgIN"
   },
   "source": [
    "The Context Maintenance and Retrieval (CMR) as specified by Morton and Polyn (2016) takes the form of a simplified neural network with two interacting representations, a feature-based representation of the studied item and a contextual representation (the context layer, $C$). The two layers communicate with one another through two sets of associative connections represented by matrices $M^{FC}$ and $M^{CF}$. Each of these weight matrices contains both pre-experimental associations and new associations learned during the experiment."
   ]
  },
  {
   "cell_type": "code",
   "execution_count": 2,
   "metadata": {
    "id": "kajtPKP0Y8iZ"
   },
   "outputs": [],
   "source": [
    "# export\n",
    "# hide\n",
    "\n",
    "import numpy as np\n",
    "import math\n",
    "from numba import float64, int32, boolean\n",
    "from numba.experimental import jitclass\n",
    "\n",
    "cmr_spec = [\n",
    "    ('item_count', int32), \n",
    "    ('encoding_drift_rate', float64),\n",
    "    ('start_drift_rate', float64),\n",
    "    ('recall_drift_rate', float64),\n",
    "    ('shared_support', float64),\n",
    "    ('item_support', float64),\n",
    "    ('learning_rate', float64),\n",
    "    ('primacy_scale', float64),\n",
    "    ('primacy_decay', float64),\n",
    "    ('stop_probability_scale', float64),\n",
    "    ('stop_probability_growth', float64),\n",
    "    ('choice_sensitivity', float64),\n",
    "    ('context', float64[::1]),\n",
    "    ('preretrieval_context', float64[::1]),\n",
    "    ('recall', float64[::1]),\n",
    "    ('retrieving', boolean),\n",
    "    ('recall_total', int32),\n",
    "    ('primacy_weighting', float64[::1]),\n",
    "    ('probabilities', float64[::1]),\n",
    "    ('mfc', float64[:,::1]),\n",
    "    ('mcf', float64[:,::1]),\n",
    "    ('encoding_index', int32),\n",
    "    ('items', float64[:,::1]),\n",
    "    ('sampling_rule', int32)\n",
    "]"
   ]
  },
  {
   "cell_type": "code",
   "execution_count": 3,
   "metadata": {
    "id": "1HPye2ELZjCR"
   },
   "outputs": [],
   "source": [
    "# export\n",
    "\n",
    "@jitclass(cmr_spec)\n",
    "class CMR:\n",
    "\n",
    "    def __init__(self, item_count, presentation_count, encoding_drift_rate, start_drift_rate, recall_drift_rate, \n",
    "                 shared_support, item_support, learning_rate, primacy_scale, primacy_decay, stop_probability_scale,\n",
    "                 stop_probability_growth, choice_sensitivity, sampling_rule):\n",
    "        \n",
    "        # store initial parameters\n",
    "        self.item_count = item_count\n",
    "        self.encoding_drift_rate = encoding_drift_rate\n",
    "        self.start_drift_rate = start_drift_rate\n",
    "        self.recall_drift_rate = recall_drift_rate\n",
    "        self.shared_support = shared_support\n",
    "        self.item_support = item_support\n",
    "        self.learning_rate = learning_rate\n",
    "        self.primacy_scale = primacy_scale\n",
    "        self.primacy_decay = primacy_decay\n",
    "        self.stop_probability_scale = stop_probability_scale\n",
    "        self.stop_probability_growth = stop_probability_growth\n",
    "        self.choice_sensitivity = choice_sensitivity\n",
    "        self.sampling_rule = sampling_rule\n",
    "        \n",
    "        # at the start of the list context is initialized with a state orthogonal to the pre-experimental context\n",
    "        # associated with the set of items\n",
    "        self.context = np.zeros(item_count + 1)\n",
    "        self.context[0] = 1\n",
    "        self.preretrieval_context = self.context\n",
    "        self.recall = np.zeros(item_count) # recalls has at most `item_count` entries\n",
    "        self.retrieving = False\n",
    "        self.recall_total = 0\n",
    "\n",
    "        # predefine primacy weighting vectors\n",
    "        self.primacy_weighting = primacy_scale * np.exp(-primacy_decay * np.arange(presentation_count)) + 1\n",
    "\n",
    "        # preallocate for outcome_probabilities\n",
    "        self.probabilities = np.zeros((item_count + 1))\n",
    "\n",
    "        # The two layers communicate with one another through two sets of associative connections represented by\n",
    "        # matrices Mfc and Mcf. Pre-experimental Mfc is 1-learning_rate and pre-experimental Mcf is item_support for \n",
    "        # i=j. For i!=j, Mcf is shared_support.\n",
    "        self.mfc = np.eye(item_count, item_count+1, 1) * (1 - learning_rate)\n",
    "        self.mcf = np.ones((item_count, item_count)) * shared_support\n",
    "        for i in range(item_count):\n",
    "            self.mcf[i, i] = item_support\n",
    "        self.mcf =  np.vstack((np.zeros((1, item_count)), self.mcf))\n",
    "        self.encoding_index = 0\n",
    "        self.items = np.eye(item_count, item_count)\n",
    "\n",
    "    def experience(self, experiences):\n",
    "        \n",
    "        for i in range(len(experiences)):\n",
    "            self.update_context(self.encoding_drift_rate, experiences[i])\n",
    "            self.mfc += self.learning_rate * np.outer(self.context, experiences[i]).T\n",
    "            self.mcf += self.primacy_weighting[self.encoding_index] * np.outer(self.context, experiences[i])\n",
    "            self.encoding_index += 1\n",
    "\n",
    "    def update_context(self, drift_rate, experience=None):\n",
    "\n",
    "        # first pre-experimental or initial context is retrieved\n",
    "        if experience is not None:\n",
    "            context_input = np.dot(experience, self.mfc)\n",
    "            context_input = context_input / np.sqrt(np.sum(np.square(context_input))) # norm to length 1\n",
    "        else:\n",
    "            context_input = np.zeros((self.item_count+1))\n",
    "            context_input[0] = 1\n",
    "\n",
    "        # updated context is sum of context and input, modulated by rho to have len 1 and some drift_rate\n",
    "        rho = np.sqrt(1 + np.square(drift_rate) * (np.square(self.context * context_input) - 1)) - (\n",
    "            drift_rate * (self.context * context_input))\n",
    "        self.context = (rho * self.context) + (drift_rate * context_input)\n",
    "\n",
    "    def activations(self, probe, use_mfc=False):\n",
    "\n",
    "        if use_mfc:\n",
    "            return np.dot(probe, self.mfc) + 10e-7\n",
    "        else:\n",
    "            return np.dot(probe, self.mcf) + 10e-7\n",
    "        \n",
    "    def outcome_probabilities(self, activation_cue):\n",
    "\n",
    "        activation = self.activations(activation_cue)\n",
    "        if self.sampling_rule == 0:\n",
    "            activation = np.power(activation, self.choice_sensitivity)\n",
    "        else:\n",
    "            activation = np.exp((2 * activation)/ self.choice_sensitivity)\n",
    "\n",
    "        self.probabilities = np.zeros((self.item_count + 1))\n",
    "        self.probabilities[0] = min(self.stop_probability_scale * np.exp(\n",
    "            self.recall_total * self.stop_probability_growth), 1.0  - (\n",
    "                (self.item_count-self.recall_total) * 10e-7))\n",
    "\n",
    "        for already_recalled_item in self.recall[:self.recall_total]:\n",
    "            activation[int(already_recalled_item)] = 0\n",
    "        if np.sum(activation==np.inf) > 0:\n",
    "            activation[activation==np.inf] = 1.7976931348623157e+308/np.sum(activation==np.inf) - np.sum(activation[np.logical_not(activation==np.inf)])\n",
    "        self.probabilities[1:] = (1-self.probabilities[0]) * activation / np.sum(activation)\n",
    "\n",
    "        return self.probabilities\n",
    "\n",
    "    def free_recall(self, steps=None):\n",
    "\n",
    "        # some amount of the pre-list context is reinstated before initiating recall\n",
    "        if not self.retrieving:\n",
    "            self.recall = np.zeros(self.item_count)\n",
    "            self.recall_total = 0\n",
    "            self.preretrieval_context = self.context\n",
    "            self.update_context(self.start_drift_rate)\n",
    "            self.retrieving = True\n",
    "\n",
    "        # number of items to retrieve is # of items left to recall if steps is unspecified\n",
    "        if steps is None:\n",
    "            steps = self.item_count - self.recall_total\n",
    "        steps = self.recall_total + steps\n",
    "        \n",
    "        # at each recall attempt\n",
    "        while self.recall_total < steps:\n",
    "\n",
    "            # the current state of context is used as a retrieval cue to attempt recall of a studied item\n",
    "            # compute outcome probabilities and make choice based on distribution\n",
    "            outcome_probabilities = self.outcome_probabilities(self.context)\n",
    "            if np.any(outcome_probabilities[1:]):\n",
    "                choice = np.sum(np.cumsum(outcome_probabilities) < np.random.rand())\n",
    "            else:\n",
    "                choice = 0\n",
    "\n",
    "            # resolve and maybe store outcome\n",
    "            # we stop recall if no choice is made (0)\n",
    "            if choice == 0:\n",
    "                self.retrieving = False\n",
    "                self.context = self.preretrieval_context\n",
    "                break\n",
    "            self.recall[self.recall_total] = choice - 1\n",
    "            self.recall_total += 1\n",
    "            self.update_context(self.recall_drift_rate, self.items[choice - 1])\n",
    "        return self.recall[:self.recall_total]\n",
    "\n",
    "    def force_recall(self, choice=None):\n",
    "\n",
    "        if not self.retrieving:\n",
    "            self.recall = np.zeros(self.item_count)\n",
    "            self.recall_total = 0\n",
    "            self.preretrieval_context = self.context\n",
    "            self.update_context(self.start_drift_rate)\n",
    "            self.retrieving = True\n",
    "\n",
    "        if choice is None:\n",
    "            pass\n",
    "        elif choice > 0:\n",
    "            self.recall[self.recall_total] = choice - 1\n",
    "            self.recall_total += 1\n",
    "            self.update_context(self.recall_drift_rate, self.items[choice - 1])\n",
    "        else:\n",
    "            self.retrieving = False\n",
    "            self.context = self.preretrieval_context\n",
    "        return self.recall[:self.recall_total]"
   ]
  },
  {
   "cell_type": "markdown",
   "metadata": {
    "id": "xlpMnC3ZZnqm"
   },
   "source": [
    "# Demo\n",
    "To play with the model, set parameters below and run the cell.\n",
    "\n",
    "Since we use a just-in-time compiler to speed up execution, the time to first figure will be longer than successive executions."
   ]
  },
  {
   "cell_type": "code",
   "execution_count": 4,
   "metadata": {
    "colab": {
     "base_uri": "https://localhost:8080/",
     "height": 731
    },
    "executionInfo": {
     "elapsed": 37880,
     "status": "ok",
     "timestamp": 1620823891350,
     "user": {
      "displayName": "Jordan Gunn",
      "photoUrl": "",
      "userId": "03389665672471765462"
     },
     "user_tz": 300
    },
    "id": "jFXNZyWzZoYF",
    "outputId": "59d2ed87-7f3b-4627-805d-5dfe0eb4dc70"
   },
   "outputs": [
    {
     "data": {
      "image/png": "[encoded data removed]",
      "text/plain": [
       "<Figure size 216x216 with 1 Axes>"
      ]
     },
     "metadata": {
      "needs_background": "light"
     },
     "output_type": "display_data"
    },
    {
     "data": {
      "image/png": "[encoded data removed]",
      "text/plain": [
       "<Figure size 224x216 with 1 Axes>"
      ]
     },
     "metadata": {
      "needs_background": "light"
     },
     "output_type": "display_data"
    },
    {
     "data": {
      "image/png": "[encoded data removed]",
      "text/plain": [
       "<Figure size 216x216 with 1 Axes>"
      ]
     },
     "metadata": {
      "needs_background": "light"
     },
     "output_type": "display_data"
    }
   ],
   "source": [
    "from instance_cmr.model_analysis import temporal_organization_analyses\n",
    "\n",
    "parameters = {\n",
    "    'item_count': 20,\n",
    "    'presentation_count': 20,\n",
    "    'encoding_drift_rate': .8,\n",
    "    'start_drift_rate': .7,\n",
    "    'recall_drift_rate': .8,\n",
    "    'shared_support': 0.01,\n",
    "    'item_support': 1.0,\n",
    "    'learning_rate': .3,\n",
    "    'primacy_scale': 1,\n",
    "    'primacy_decay': 1,\n",
    "    'stop_probability_scale': 0.01,\n",
    "    'stop_probability_growth': 0.3,\n",
    "    'choice_sensitivity': 2,\n",
    "    'sampling_rule': 0\n",
    "}\n",
    "\n",
    "experiment_count = 1000\n",
    "\n",
    "model = CMR(**parameters)\n",
    "temporal_organization_analyses(model, experiment_count)"
   ]
  }
 ],
 "metadata": {
  "colab": {
   "collapsed_sections": [],
   "name": "00_CMR.ipynb",
   "provenance": [
    {
     "file_id": "1FquL-i4WF9tYDbEgLWUmql1wW9Hdt-cU",
     "timestamp": 1620820255573
    }
   ]
  },
  "kernelspec": {
   "display_name": "Python 3 (ipykernel)",
   "language": "python",
   "name": "python3"
  },
  "language_info": {
   "codemirror_mode": {
    "name": "ipython",
    "version": 3
   },
   "file_extension": ".py",
   "mimetype": "text/x-python",
   "name": "python",
   "nbconvert_exporter": "python",
   "pygments_lexer": "ipython3",
   "version": "3.9.1"
  }
 },
 "nbformat": 4,
 "nbformat_minor": 4
}

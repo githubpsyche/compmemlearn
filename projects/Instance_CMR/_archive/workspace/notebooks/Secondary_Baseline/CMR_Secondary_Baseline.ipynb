{
 "cells": [
  {
   "cell_type": "markdown",
   "id": "heard-humor",
   "metadata": {},
   "source": [
    "# CMR - Secondary Baseline\n",
    "Using the larger dataset from\n",
    "\n",
    "> Murdock, B. B., & Okada, R. (1970). Interresponse times in single-trial free recall. Journal of Experimental Psychology, 86(2), 263."
   ]
  },
  {
   "cell_type": "markdown",
   "id": "guided-education",
   "metadata": {},
   "source": [
    "## Load Data"
   ]
  },
  {
   "cell_type": "code",
   "execution_count": 1,
   "id": "discrete-tracker",
   "metadata": {},
   "outputs": [
    {
     "data": {
      "text/html": [
       "<div>\n",
       "<style scoped>\n",
       "    .dataframe tbody tr th:only-of-type {\n",
       "        vertical-align: middle;\n",
       "    }\n",
       "\n",
       "    .dataframe tbody tr th {\n",
       "        vertical-align: top;\n",
       "    }\n",
       "\n",
       "    .dataframe thead th {\n",
       "        text-align: right;\n",
       "    }\n",
       "</style>\n",
       "<table border=\"1\" class=\"dataframe\">\n",
       "  <thead>\n",
       "    <tr style=\"text-align: right;\">\n",
       "      <th></th>\n",
       "      <th>subject</th>\n",
       "      <th>list</th>\n",
       "      <th>item</th>\n",
       "      <th>input</th>\n",
       "      <th>output</th>\n",
       "      <th>study</th>\n",
       "      <th>recall</th>\n",
       "      <th>repeat</th>\n",
       "      <th>intrusion</th>\n",
       "    </tr>\n",
       "  </thead>\n",
       "  <tbody>\n",
       "    <tr>\n",
       "      <th>0</th>\n",
       "      <td>1</td>\n",
       "      <td>1</td>\n",
       "      <td>1</td>\n",
       "      <td>1</td>\n",
       "      <td>NaN</td>\n",
       "      <td>True</td>\n",
       "      <td>False</td>\n",
       "      <td>0</td>\n",
       "      <td>False</td>\n",
       "    </tr>\n",
       "    <tr>\n",
       "      <th>1</th>\n",
       "      <td>1</td>\n",
       "      <td>1</td>\n",
       "      <td>2</td>\n",
       "      <td>2</td>\n",
       "      <td>NaN</td>\n",
       "      <td>True</td>\n",
       "      <td>False</td>\n",
       "      <td>0</td>\n",
       "      <td>False</td>\n",
       "    </tr>\n",
       "    <tr>\n",
       "      <th>2</th>\n",
       "      <td>1</td>\n",
       "      <td>1</td>\n",
       "      <td>3</td>\n",
       "      <td>3</td>\n",
       "      <td>NaN</td>\n",
       "      <td>True</td>\n",
       "      <td>False</td>\n",
       "      <td>0</td>\n",
       "      <td>False</td>\n",
       "    </tr>\n",
       "    <tr>\n",
       "      <th>3</th>\n",
       "      <td>1</td>\n",
       "      <td>1</td>\n",
       "      <td>4</td>\n",
       "      <td>4</td>\n",
       "      <td>NaN</td>\n",
       "      <td>True</td>\n",
       "      <td>False</td>\n",
       "      <td>0</td>\n",
       "      <td>False</td>\n",
       "    </tr>\n",
       "    <tr>\n",
       "      <th>4</th>\n",
       "      <td>1</td>\n",
       "      <td>1</td>\n",
       "      <td>5</td>\n",
       "      <td>5</td>\n",
       "      <td>NaN</td>\n",
       "      <td>True</td>\n",
       "      <td>False</td>\n",
       "      <td>0</td>\n",
       "      <td>False</td>\n",
       "    </tr>\n",
       "  </tbody>\n",
       "</table>\n",
       "</div>"
      ],
      "text/plain": [
       "   subject  list  item  input  output  study  recall  repeat  intrusion\n",
       "0        1     1     1      1     NaN   True   False       0      False\n",
       "1        1     1     2      2     NaN   True   False       0      False\n",
       "2        1     1     3      3     NaN   True   False       0      False\n",
       "3        1     1     4      4     NaN   True   False       0      False\n",
       "4        1     1     5      5     NaN   True   False       0      False"
      ]
     },
     "execution_count": 1,
     "metadata": {},
     "output_type": "execute_result"
    }
   ],
   "source": [
    "from instance_cmr.datasets import prepare_okadata\n",
    "from instance_cmr.model_fitting import cmr_murd_likelihood\n",
    "from instance_cmr.model_fitting import cmr_murd_objective_function\n",
    "from instance_cmr.model_fitting import visualize_fit\n",
    "from instance_cmr.models import CMR\n",
    "\n",
    "murd_trials0, murd_events0, murd_length0 = prepare_okadata(\n",
    "    '../../data/mo1970.txt')\n",
    "\n",
    "subject_trial_count = 20 # Each subject gets 20 trials a piece.\n",
    "\n",
    "murd_events0.head()"
   ]
  },
  {
   "cell_type": "markdown",
   "id": "settled-director",
   "metadata": {},
   "source": [
    "## Fitting"
   ]
  },
  {
   "cell_type": "code",
   "execution_count": 2,
   "id": "incorrect-hamilton",
   "metadata": {},
   "outputs": [],
   "source": [
    "from scipy.optimize import differential_evolution\n",
    "from numba.typed import List\n",
    "import numpy as np\n",
    "\n",
    "free_parameters = [\n",
    "    'encoding_drift_rate',\n",
    "    'start_drift_rate',\n",
    "    'recall_drift_rate',\n",
    "    'shared_support',\n",
    "    'item_support',\n",
    "    'learning_rate',\n",
    "    'primacy_scale',\n",
    "    'primacy_decay',\n",
    "    'stop_probability_scale',\n",
    "    'stop_probability_growth',\n",
    "    'choice_sensitivity']\n",
    "\n",
    "lb = np.finfo(float).eps\n",
    "ub = 1-np.finfo(float).eps\n",
    "\n",
    "bounds = [\n",
    "    (lb, ub),\n",
    "    (lb, ub),\n",
    "    (lb, ub),\n",
    "    (lb, ub),\n",
    "    (lb, ub),\n",
    "    (lb, ub),\n",
    "    (lb, 100),\n",
    "    (lb, 100),\n",
    "    (lb, ub),\n",
    "    (lb, 10),\n",
    "    (lb, 10)\n",
    "]"
   ]
  },
  {
   "cell_type": "code",
   "execution_count": null,
   "id": "opposite-sport",
   "metadata": {},
   "outputs": [],
   "source": [
    "# cost function to be minimized\n",
    "# ours scales inversely with the probability that the data could have been \n",
    "# generated using the specified parameters and our model\n",
    "cost_function = cmr_murd_objective_function(\n",
    "    List([murd_trials0]), \n",
    "    {'item_counts': List([murd_length0])}, free_parameters)\n",
    "\n",
    "result = differential_evolution(cost_function, bounds, disp=True)\n",
    "print(result)"
   ]
  },
  {
   "cell_type": "markdown",
   "id": "infinite-surface",
   "metadata": {},
   "source": [
    "## Results\n",
    "```\n",
    "     fun: 22975.74580427349\n",
    "     jac: array([-1.83754309, -1.36897143, -1.42717908,  1.83426892,  0.12951205,\n",
    "        0.55624696, -0.42091415,  0.        , 48.06242941, 15.93834896,\n",
    "        0.42600732])\n",
    " message: 'Optimization terminated successfully.'\n",
    "    nfev: 7167\n",
    "     nit: 34\n",
    " success: True\n",
    "       x: array([ 0.67729029,  0.0789752 ,  0.84475351,  0.32843236,  0.04606376,\n",
    "        0.25014697,  4.09477771, 35.20917629,  0.03838687,  0.29442883,\n",
    "        5.03376164])\n",
    "```"
   ]
  },
  {
   "cell_type": "code",
   "execution_count": 4,
   "id": "electronic-treat",
   "metadata": {},
   "outputs": [
    {
     "data": {
      "image/png": "[encoded data removed]",
      "text/plain": [
       "<Figure size 275.875x216 with 1 Axes>"
      ]
     },
     "metadata": {
      "needs_background": "light"
     },
     "output_type": "display_data"
    },
    {
     "data": {
      "image/png": "[encoded data removed]",
      "text/plain": [
       "<Figure size 275.875x216 with 1 Axes>"
      ]
     },
     "metadata": {
      "needs_background": "light"
     },
     "output_type": "display_data"
    },
    {
     "data": {
      "image/png": "[encoded data removed]",
      "text/plain": [
       "<Figure size 275.875x216 with 1 Axes>"
      ]
     },
     "metadata": {
      "needs_background": "light"
     },
     "output_type": "display_data"
    }
   ],
   "source": [
    "parameters = {\n",
    "    'item_count':murd_length0,\n",
    "    'presentation_count': murd_length0\n",
    "}\n",
    "\n",
    "visualize_fit(CMR, \n",
    "              {**parameters, \n",
    "               **{free_parameters[i]:result.x[i] for i in range(len(result.x))}}, \n",
    "              murd_events0, 'subject > -1', experiment_count=1000, savefig=True)"
   ]
  },
  {
   "cell_type": "markdown",
   "id": "desirable-hawaii",
   "metadata": {},
   "source": [
    "## Subjectwise"
   ]
  },
  {
   "cell_type": "code",
   "execution_count": null,
   "id": "blank-graduation",
   "metadata": {},
   "outputs": [],
   "source": [
    "results = []\n",
    "\n",
    "for subject, start_index in enumerate(range(0, len(murd_trials0), subject_trial_count)):\n",
    "    print(subject)\n",
    "\n",
    "    # cost function to be minimized\n",
    "    # ours scales inversely with the probability that the data could have been \n",
    "    # generated using the specified parameters and our model\n",
    "    cost_function = cmr_murd_objective_function(\n",
    "        List([murd_trials0[start_index:start_index+subject_trial_count]]), \n",
    "        {'item_counts': List([murd_length0])}, free_parameters)\n",
    "\n",
    "    results.append(differential_evolution(cost_function, bounds, disp=False))"
   ]
  },
  {
   "cell_type": "code",
   "execution_count": 4,
   "id": "median-monroe",
   "metadata": {},
   "outputs": [
    {
     "name": "stdout",
     "output_type": "stream",
     "text": [
      "[297.5449602629021, 244.27865681106456, 336.1941467631634, 337.9736726645333, 347.27423245825815, 304.3522491574062, 262.50299102240217, 289.2997997209494, 232.9697672095716, 358.64382009414555, 184.7663450341519, 318.8257481934555, 380.03713872967427, 270.00865939808784, 290.09247000202845, 336.82113634424866, 312.20520949311054, 290.7102563710308, 395.46388701889566, 395.04781617279355, 310.8428462711054, 338.3685597049247, 388.3115788958439, 297.72437675541596, 273.1019380621366, 371.9867789818122, 327.6887122330527, 291.946344874964, 348.4191026098891, 302.3530027028615, 347.5938865051015, 309.8776333858249, 336.80662658082076, 386.73848147630076, 314.8512212055618, 387.3090042203206, 299.0963052579905, 297.7244112968297, 237.85429982056422, 233.3334842451797, 212.9926852817866, 270.81256558818916, 299.9471356314759, 252.01763332568177, 297.20772602556264, 303.1243577018423, 203.49661125114864, 250.53915718548024, 223.46817443689832, 250.54360923163125, 156.85155116172984, 262.873650797028, 294.3210317060235, 269.647534895781, 315.9453754631813, 256.6385364088046, 237.87299516872213, 313.85661904679705, 320.314958120371, 291.80778087924506, 376.37601313216675, 309.7365934500121, 335.48170697091007, 377.3848929657191, 275.4241270974401, 246.37074926874152, 321.63947266589423, 239.27802481696793, 226.76765639676495, 382.1044440228179, 220.55452400431392, 349.378770393507]\n"
     ]
    }
   ],
   "source": [
    "print([result.fun for result in results])"
   ]
  },
  {
   "cell_type": "code",
   "execution_count": null,
   "id": "mighty-amount",
   "metadata": {},
   "outputs": [],
   "source": []
  }
 ],
 "metadata": {
  "kernelspec": {
   "display_name": "Python 3",
   "language": "python",
   "name": "python3"
  },
  "language_info": {
   "codemirror_mode": {
    "name": "ipython",
    "version": 3
   },
   "file_extension": ".py",
   "mimetype": "text/x-python",
   "name": "python",
   "nbconvert_exporter": "python",
   "pygments_lexer": "ipython3",
   "version": "3.8.5"
  }
 },
 "nbformat": 4,
 "nbformat_minor": 5
}

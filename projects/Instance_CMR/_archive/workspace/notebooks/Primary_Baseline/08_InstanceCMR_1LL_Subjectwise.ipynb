{
 "cells": [
  {
   "cell_type": "markdown",
   "id": "british-birth",
   "metadata": {},
   "source": [
    "# InstanceCMR - Single List Length, Subjectwise\n",
    "Now we'll consider the consequences of computing fits subject by subject."
   ]
  },
  {
   "cell_type": "markdown",
   "id": "subsequent-thread",
   "metadata": {},
   "source": [
    "## Load Data"
   ]
  },
  {
   "cell_type": "code",
   "execution_count": 1,
   "id": "reflected-moderator",
   "metadata": {},
   "outputs": [
    {
     "data": {
      "text/html": [
       "<div>\n",
       "<style scoped>\n",
       "    .dataframe tbody tr th:only-of-type {\n",
       "        vertical-align: middle;\n",
       "    }\n",
       "\n",
       "    .dataframe tbody tr th {\n",
       "        vertical-align: top;\n",
       "    }\n",
       "\n",
       "    .dataframe thead th {\n",
       "        text-align: right;\n",
       "    }\n",
       "</style>\n",
       "<table border=\"1\" class=\"dataframe\">\n",
       "  <thead>\n",
       "    <tr style=\"text-align: right;\">\n",
       "      <th></th>\n",
       "      <th>subject</th>\n",
       "      <th>list</th>\n",
       "      <th>item</th>\n",
       "      <th>input</th>\n",
       "      <th>output</th>\n",
       "      <th>study</th>\n",
       "      <th>recall</th>\n",
       "      <th>repeat</th>\n",
       "      <th>intrusion</th>\n",
       "    </tr>\n",
       "  </thead>\n",
       "  <tbody>\n",
       "    <tr>\n",
       "      <th>0</th>\n",
       "      <td>1</td>\n",
       "      <td>1</td>\n",
       "      <td>1</td>\n",
       "      <td>1</td>\n",
       "      <td>5.0</td>\n",
       "      <td>True</td>\n",
       "      <td>True</td>\n",
       "      <td>0</td>\n",
       "      <td>False</td>\n",
       "    </tr>\n",
       "    <tr>\n",
       "      <th>1</th>\n",
       "      <td>1</td>\n",
       "      <td>1</td>\n",
       "      <td>2</td>\n",
       "      <td>2</td>\n",
       "      <td>7.0</td>\n",
       "      <td>True</td>\n",
       "      <td>True</td>\n",
       "      <td>0</td>\n",
       "      <td>False</td>\n",
       "    </tr>\n",
       "    <tr>\n",
       "      <th>2</th>\n",
       "      <td>1</td>\n",
       "      <td>1</td>\n",
       "      <td>3</td>\n",
       "      <td>3</td>\n",
       "      <td>NaN</td>\n",
       "      <td>True</td>\n",
       "      <td>False</td>\n",
       "      <td>0</td>\n",
       "      <td>False</td>\n",
       "    </tr>\n",
       "    <tr>\n",
       "      <th>3</th>\n",
       "      <td>1</td>\n",
       "      <td>1</td>\n",
       "      <td>4</td>\n",
       "      <td>4</td>\n",
       "      <td>NaN</td>\n",
       "      <td>True</td>\n",
       "      <td>False</td>\n",
       "      <td>0</td>\n",
       "      <td>False</td>\n",
       "    </tr>\n",
       "    <tr>\n",
       "      <th>4</th>\n",
       "      <td>1</td>\n",
       "      <td>1</td>\n",
       "      <td>5</td>\n",
       "      <td>5</td>\n",
       "      <td>NaN</td>\n",
       "      <td>True</td>\n",
       "      <td>False</td>\n",
       "      <td>0</td>\n",
       "      <td>False</td>\n",
       "    </tr>\n",
       "  </tbody>\n",
       "</table>\n",
       "</div>"
      ],
      "text/plain": [
       "   subject  list  item  input  output  study  recall  repeat  intrusion\n",
       "0        1     1     1      1     5.0   True    True       0      False\n",
       "1        1     1     2      2     7.0   True    True       0      False\n",
       "2        1     1     3      3     NaN   True   False       0      False\n",
       "3        1     1     4      4     NaN   True   False       0      False\n",
       "4        1     1     5      5     NaN   True   False       0      False"
      ]
     },
     "execution_count": 1,
     "metadata": {},
     "output_type": "execute_result"
    }
   ],
   "source": [
    "from instance_cmr.datasets import prepare_murddata\n",
    "from instance_cmr.model_fitting import icmr_murd_likelihood\n",
    "from instance_cmr.model_fitting import icmr_murd_objective_function\n",
    "from instance_cmr.model_fitting import visualize_fit\n",
    "from instance_cmr.models import InstanceCMR\n",
    "\n",
    "murd_trials0, murd_events0, murd_length0 = prepare_murddata(\n",
    "    '../../data/MurdData_clean.mat', 0)\n",
    "\n",
    "subject_trial_count = 80 # Each subject gets 80 trials a piece.\n",
    "\n",
    "murd_events0.head()"
   ]
  },
  {
   "cell_type": "markdown",
   "id": "heavy-white",
   "metadata": {},
   "source": [
    "## Echo-Based Sensitivity"
   ]
  },
  {
   "cell_type": "code",
   "execution_count": 2,
   "id": "entire-diagram",
   "metadata": {},
   "outputs": [
    {
     "name": "stdout",
     "output_type": "stream",
     "text": [
      "0\n",
      "1\n",
      "2\n",
      "3\n",
      "4\n",
      "5\n",
      "6\n",
      "7\n",
      "8\n",
      "9\n",
      "10\n",
      "11\n",
      "12\n",
      "13\n",
      "14\n"
     ]
    }
   ],
   "source": [
    "from scipy.optimize import differential_evolution\n",
    "from numba.typed import List\n",
    "import numpy as np\n",
    "\n",
    "free_parameters = [\n",
    "    'encoding_drift_rate',\n",
    "    'start_drift_rate',\n",
    "    'recall_drift_rate',\n",
    "    'shared_support',\n",
    "    'item_support',\n",
    "    'learning_rate',\n",
    "    'primacy_scale',\n",
    "    'primacy_decay',\n",
    "    'stop_probability_scale',\n",
    "    'stop_probability_growth',\n",
    "    'choice_sensitivity']\n",
    "\n",
    "lb = np.finfo(float).eps\n",
    "ub = 1-np.finfo(float).eps\n",
    "\n",
    "bounds = [\n",
    "    (lb, ub),\n",
    "    (lb, ub),\n",
    "    (lb, ub),\n",
    "    (lb, ub),\n",
    "    (lb, ub),\n",
    "    (lb, ub),\n",
    "    (lb, 100),\n",
    "    (lb, 100),\n",
    "    (lb, ub),\n",
    "    (lb, 10),\n",
    "    (lb, 10)\n",
    "]\n",
    "\n",
    "results = []\n",
    "\n",
    "for subject, start_index in enumerate(range(0, len(murd_trials0), subject_trial_count)):\n",
    "    print(subject)\n",
    "\n",
    "    # cost function to be minimized\n",
    "    # ours scales inversely with the probability that the data could have been \n",
    "    # generated using the specified parameters and our model\n",
    "    cost_function = icmr_murd_objective_function(\n",
    "        List([murd_trials0[start_index:start_index+subject_trial_count]]), \n",
    "        {'item_counts': List([murd_length0]), 'context_sensitivity': 1, 'feature_sensitivity': 1}, \n",
    "        free_parameters)\n",
    "\n",
    "    results.append(differential_evolution(cost_function, bounds, disp=False))"
   ]
  },
  {
   "cell_type": "code",
   "execution_count": 3,
   "id": "requested-basic",
   "metadata": {},
   "outputs": [
    {
     "name": "stdout",
     "output_type": "stream",
     "text": [
      "[1411.5461829353524, 1390.2512671908662, 1150.4348891752334, 1406.7514779427122, 1234.825314726866, 1512.781626639648, 1126.4841970261562, 1117.4822012140378, 1781.0346083491966, 1617.7632870331163, 1096.3473934623937, 1216.2287294226223, 1470.0271409023958, 1633.620968770836, 1070.8262089553666]\n"
     ]
    }
   ],
   "source": [
    "print([result.fun for result in results])"
   ]
  },
  {
   "cell_type": "markdown",
   "id": "buried-license",
   "metadata": {},
   "source": [
    "## Just C->F Trace-Based Sesntivity"
   ]
  },
  {
   "cell_type": "code",
   "execution_count": 4,
   "id": "technical-rabbit",
   "metadata": {},
   "outputs": [
    {
     "name": "stdout",
     "output_type": "stream",
     "text": [
      "0\n",
      "1\n",
      "2\n",
      "3\n",
      "4\n",
      "5\n",
      "6\n",
      "7\n",
      "8\n",
      "9\n",
      "10\n",
      "11\n",
      "12\n",
      "13\n",
      "14\n"
     ]
    }
   ],
   "source": [
    "from scipy.optimize import differential_evolution\n",
    "from numba.typed import List\n",
    "import numpy as np\n",
    "\n",
    "free_parameters = [\n",
    "    'encoding_drift_rate',\n",
    "    'start_drift_rate',\n",
    "    'recall_drift_rate',\n",
    "    'shared_support',\n",
    "    'item_support',\n",
    "    'learning_rate',\n",
    "    'primacy_scale',\n",
    "    'primacy_decay',\n",
    "    'stop_probability_scale',\n",
    "    'stop_probability_growth',\n",
    "    'feature_sensitivity']\n",
    "\n",
    "lb = np.finfo(float).eps\n",
    "ub = 1-np.finfo(float).eps\n",
    "\n",
    "bounds = [\n",
    "    (lb, ub),\n",
    "    (lb, ub),\n",
    "    (lb, ub),\n",
    "    (lb, ub),\n",
    "    (lb, ub),\n",
    "    (lb, ub),\n",
    "    (lb, 100),\n",
    "    (lb, 100),\n",
    "    (lb, ub),\n",
    "    (lb, 10),\n",
    "    (lb, 10)\n",
    "]\n",
    "\n",
    "results = []\n",
    "\n",
    "for subject, start_index in enumerate(range(0, len(murd_trials0), subject_trial_count)):\n",
    "    print(subject)\n",
    "\n",
    "    # cost function to be minimized\n",
    "    # ours scales inversely with the probability that the data could have been \n",
    "    # generated using the specified parameters and our model\n",
    "    cost_function = icmr_murd_objective_function(\n",
    "        List([murd_trials0[start_index:start_index+subject_trial_count]]), \n",
    "        {'item_counts': List([murd_length0]), 'context_sensitivity': 1, 'choice_sensitivity': 1}, \n",
    "        free_parameters)\n",
    "\n",
    "    results.append(differential_evolution(cost_function, bounds, disp=False))"
   ]
  },
  {
   "cell_type": "code",
   "execution_count": 5,
   "id": "alike-commission",
   "metadata": {},
   "outputs": [
    {
     "name": "stdout",
     "output_type": "stream",
     "text": [
      "[1413.5871692031506, 1400.0037333787773, 1150.413302212744, 1411.3997791285497, 1233.6001364872327, 1499.2005704059507, 1128.5318743885166, 1116.7385735435635, 1781.0920396971246, 1620.1283070706868, 1101.2748700030456, 1215.6977752516805, 1458.598402589776, 1647.3954716055237, 1030.9011164978156]\n"
     ]
    }
   ],
   "source": [
    "print([result.fun for result in results])"
   ]
  },
  {
   "cell_type": "markdown",
   "id": "expanded-sleeping",
   "metadata": {},
   "source": [
    "## Single Parameter Impacting Both C->F and F->C Trace Activations"
   ]
  },
  {
   "cell_type": "code",
   "execution_count": 6,
   "id": "confident-heath",
   "metadata": {},
   "outputs": [
    {
     "name": "stdout",
     "output_type": "stream",
     "text": [
      "0\n",
      "1\n",
      "2\n",
      "3\n",
      "4\n",
      "5\n",
      "6\n",
      "7\n",
      "8\n",
      "9\n",
      "10\n",
      "11\n",
      "12\n",
      "13\n",
      "14\n"
     ]
    }
   ],
   "source": [
    "from scipy.optimize import differential_evolution\n",
    "from numba.typed import List\n",
    "import numpy as np\n",
    "\n",
    "free_parameters = [\n",
    "    'encoding_drift_rate',\n",
    "    'start_drift_rate',\n",
    "    'recall_drift_rate',\n",
    "    'shared_support',\n",
    "    'item_support',\n",
    "    'learning_rate',\n",
    "    'primacy_scale',\n",
    "    'primacy_decay',\n",
    "    'stop_probability_scale',\n",
    "    'stop_probability_growth',\n",
    "    'context_sensitivity']\n",
    "\n",
    "lb = np.finfo(float).eps\n",
    "ub = 1-np.finfo(float).eps\n",
    "\n",
    "bounds = [\n",
    "    (lb, ub),\n",
    "    (lb, ub),\n",
    "    (lb, ub),\n",
    "    (lb, ub),\n",
    "    (lb, ub),\n",
    "    (lb, ub),\n",
    "    (lb, 100),\n",
    "    (lb, 100),\n",
    "    (lb, ub),\n",
    "    (lb, 10),\n",
    "    (lb, 10)\n",
    "]\n",
    "\n",
    "results = []\n",
    "\n",
    "for subject, start_index in enumerate(range(0, len(murd_trials0), subject_trial_count)):\n",
    "    print(subject)\n",
    "\n",
    "    # cost function to be minimized\n",
    "    # ours scales inversely with the probability that the data could have been \n",
    "    # generated using the specified parameters and our model\n",
    "    cost_function = icmr_murd_objective_function(\n",
    "        List([murd_trials0[start_index:start_index+subject_trial_count]]), \n",
    "        {'item_counts': List([murd_length0]), 'feature_sensitivity': 1, 'choice_sensitivity': 1}, \n",
    "        free_parameters)\n",
    "\n",
    "    results.append(differential_evolution(cost_function, bounds, disp=False))"
   ]
  },
  {
   "cell_type": "code",
   "execution_count": 7,
   "id": "worst-tuesday",
   "metadata": {},
   "outputs": [
    {
     "name": "stdout",
     "output_type": "stream",
     "text": [
      "[1413.7467244130985, 1399.9857451862629, 1150.4141906075279, 1408.9489084325378, 1236.1974167408089, 1515.1319051627647, 1126.4999946660569, 1095.5638298709473, 1788.4562090970853, 1620.1359380427357, 1101.5043930368115, 1217.0811820273493, 1491.1071237186784, 1653.3927230806403, 1072.8284868515873]\n"
     ]
    }
   ],
   "source": [
    "print([result.fun for result in results])"
   ]
  },
  {
   "cell_type": "code",
   "execution_count": null,
   "id": "viral-right",
   "metadata": {},
   "outputs": [],
   "source": []
  }
 ],
 "metadata": {
  "kernelspec": {
   "display_name": "Python 3",
   "language": "python",
   "name": "python3"
  },
  "language_info": {
   "codemirror_mode": {
    "name": "ipython",
    "version": 3
   },
   "file_extension": ".py",
   "mimetype": "text/x-python",
   "name": "python",
   "nbconvert_exporter": "python",
   "pygments_lexer": "ipython3",
   "version": "3.8.5"
  }
 },
 "nbformat": 4,
 "nbformat_minor": 5
}

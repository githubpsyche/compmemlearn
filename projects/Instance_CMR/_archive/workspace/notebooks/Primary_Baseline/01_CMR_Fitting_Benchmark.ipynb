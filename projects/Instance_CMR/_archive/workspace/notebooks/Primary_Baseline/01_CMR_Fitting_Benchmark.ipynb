{
 "cells": [
  {
   "cell_type": "code",
   "execution_count": 1,
   "metadata": {
    "colab": {
     "base_uri": "https://localhost:8080/"
    },
    "executionInfo": {
     "elapsed": 6345,
     "status": "ok",
     "timestamp": 1620830621006,
     "user": {
      "displayName": "Jordan Gunn",
      "photoUrl": "",
      "userId": "03389665672471765462"
     },
     "user_tz": 300
    },
    "id": "yhgbrbonpPZ8",
    "outputId": "b020ac03-8b67-4a60-ca67-56c06757e941"
   },
   "outputs": [],
   "source": [
    "# hide\n",
    "# default_exp model_fitting\n",
    "\n",
    "# set up google colab environment; \n",
    "# we assume drive is mounted with instance_cmr cloned at root\n",
    "if'google.colab' in str(get_ipython()):\n",
    "    from google.colab import drive\n",
    "    drive.mount('/content/drive')\n",
    "    %cd drive/MyDrive/instance_cmr\n",
    "    %pip install -q -r requirements.txt\n",
    "\n",
    "from nbdev.showdoc import *"
   ]
  },
  {
   "cell_type": "markdown",
   "metadata": {
    "id": "atmospheric-hanging"
   },
   "source": [
    "# CMR Benchmark\n",
    "> Initial template pipeline for parameter fitting"
   ]
  },
  {
   "cell_type": "markdown",
   "metadata": {
    "id": "adjacent-harassment"
   },
   "source": [
    "## Configuring the Parameter Search\n",
    "To fit the model to some dataset, we select a cost function that scales against the likelihood that the model with a specified parameter configuration could have generated the specified dataset. Since our fitting functions are optimized on a per model basis, we need a unique one for CMR and this dataset."
   ]
  },
  {
   "cell_type": "code",
   "execution_count": 2,
   "metadata": {
    "executionInfo": {
     "elapsed": 6993,
     "status": "ok",
     "timestamp": 1620830621659,
     "user": {
      "displayName": "Jordan Gunn",
      "photoUrl": "",
      "userId": "03389665672471765462"
     },
     "user_tz": 300
    },
    "id": "alternate-provincial"
   },
   "outputs": [],
   "source": [
    "# export\n",
    "# hide\n",
    "\n",
    "import numpy as np\n",
    "from numba import njit\n",
    "from numba.typed import List\n",
    "from instance_cmr.models import CMR\n",
    "\n",
    "@njit(nogil=True) #@njit(fastmath=True, nogil=True)\n",
    "def cmr_murd_likelihood(\n",
    "    data_to_fit, item_counts, encoding_drift_rate, start_drift_rate, \n",
    "    recall_drift_rate, shared_support, item_support, learning_rate, \n",
    "    primacy_scale, primacy_decay, stop_probability_scale, \n",
    "    stop_probability_growth, choice_sensitivity, sampling_rule):\n",
    "    \"\"\"\n",
    "    Cost function for fitting the CMR model.\n",
    "    \n",
    "    Output scales inversely with the likelihood that the model and specified \n",
    "    parameters would generate the specified trials. For model fitting, is \n",
    "    usually wrapped in another function that fixes and frees parameters for \n",
    "    optimization.\n",
    "    \n",
    "    **Arguments**:\n",
    "    - trials: int64-array where rows identify a unique trial of responses and \n",
    "      columns corresponds to a unique recall index.  \n",
    "    - A configuration for each parameter of `CMR`.\n",
    "    \n",
    "    **Returns** the negative sum of log-likelihoods across specified trials \n",
    "    conditional on the specified parameters and the mechanisms of InstanceCMR.\n",
    "    \"\"\"\n",
    "    \n",
    "    result = 0.0\n",
    "    for i in range(len(item_counts)):\n",
    "        item_count = item_counts[i]\n",
    "        trials = data_to_fit[i]\n",
    "        \n",
    "        model = CMR(item_count, item_count, encoding_drift_rate, \n",
    "                    start_drift_rate, recall_drift_rate, shared_support,\n",
    "                    item_support, learning_rate, primacy_scale, \n",
    "                    primacy_decay, stop_probability_scale, \n",
    "                    stop_probability_growth, choice_sensitivity, sampling_rule)\n",
    "\n",
    "        model.experience(np.eye(item_count, item_count))\n",
    "\n",
    "        likelihood = np.ones((len(trials), item_count))\n",
    "\n",
    "        for trial_index in range(len(trials)):\n",
    "            trial = trials[trial_index]\n",
    "\n",
    "            model.force_recall()\n",
    "            for recall_index in range(len(trial) + 1):\n",
    "\n",
    "                # identify index of item recalled; if zero then recall is over\n",
    "                if recall_index == len(trial) and len(trial) < item_count:\n",
    "                    recall = 0\n",
    "                else:\n",
    "                    recall = trial[recall_index]\n",
    "\n",
    "                # store probability of and simulate recalling item with this index\n",
    "                likelihood[trial_index, recall_index] = \\\n",
    "                    model.outcome_probabilities(model.context)[recall] + 10e-7\n",
    "                #if np.isnan(np.sum(np.log(likelihood))):\n",
    "                #    breakpoint()\n",
    "                #    likelihood[trial_index, recall_index] = \\\n",
    "                #        model.outcome_probabilities(model.context)[recall] + 10e-7\n",
    "                \n",
    "                if recall == 0:\n",
    "                    break\n",
    "                model.force_recall(recall)\n",
    "\n",
    "            # reset model to its pre-retrieval (but post-encoding) state\n",
    "            model.force_recall(0)\n",
    "        \n",
    "        result -= np.sum(np.log(likelihood))\n",
    "\n",
    "    return result"
   ]
  },
  {
   "cell_type": "code",
   "execution_count": 3,
   "metadata": {
    "executionInfo": {
     "elapsed": 6991,
     "status": "ok",
     "timestamp": 1620830621660,
     "user": {
      "displayName": "Jordan Gunn",
      "photoUrl": "",
      "userId": "03389665672471765462"
     },
     "user_tz": 300
    },
    "id": "extraordinary-advice"
   },
   "outputs": [],
   "source": [
    "# export\n",
    "# hide\n",
    "\n",
    "def cmr_murd_objective_function(data_to_fit, fixed_parameters, free_parameters):\n",
    "    \"\"\"\n",
    "    Configures cmr_likelihood for search over specified free/fixed parameters.\n",
    "    \"\"\"\n",
    "    return lambda x: cmr_murd_likelihood(data_to_fit, **{**fixed_parameters, **{\n",
    "        free_parameters[i]:x[i] for i in range(len(x))}})"
   ]
  },
  {
   "cell_type": "code",
   "execution_count": 4,
   "metadata": {
    "colab": {
     "base_uri": "https://localhost:8080/",
     "height": 380
    },
    "executionInfo": {
     "elapsed": 6987,
     "status": "ok",
     "timestamp": 1620830621660,
     "user": {
      "displayName": "Jordan Gunn",
      "photoUrl": "",
      "userId": "03389665672471765462"
     },
     "user_tz": 300
    },
    "id": "separate-enemy",
    "outputId": "34dd7814-7040-4c55-82ad-30d501791e72"
   },
   "outputs": [
    {
     "data": {
      "text/markdown": [
       "<h3 id=\"cmr_murd_likelihood\" class=\"doc_header\"><code>cmr_murd_likelihood</code><a href=\"__main__.py#L9\" class=\"source_link\" style=\"float:right\">[source]</a></h3>\n",
       "\n",
       "> <code>cmr_murd_likelihood</code>(**`data_to_fit`**, **`item_counts`**, **`encoding_drift_rate`**, **`start_drift_rate`**, **`recall_drift_rate`**, **`shared_support`**, **`item_support`**, **`learning_rate`**, **`primacy_scale`**, **`primacy_decay`**, **`stop_probability_scale`**, **`stop_probability_growth`**, **`choice_sensitivity`**, **`sampling_rule`**)\n",
       "\n",
       "Cost function for fitting the CMR model.\n",
       "\n",
       "Output scales inversely with the likelihood that the model and specified \n",
       "parameters would generate the specified trials. For model fitting, is \n",
       "usually wrapped in another function that fixes and frees parameters for \n",
       "optimization.\n",
       "\n",
       "**Arguments**:\n",
       "- trials: int64-array where rows identify a unique trial of responses and \n",
       "  columns corresponds to a unique recall index.  \n",
       "- A configuration for each parameter of [`CMR`](/instance_cmr/CMR.html#CMR).\n",
       "\n",
       "**Returns** the negative sum of log-likelihoods across specified trials \n",
       "conditional on the specified parameters and the mechanisms of InstanceCMR."
      ],
      "text/plain": [
       "<IPython.core.display.Markdown object>"
      ]
     },
     "metadata": {},
     "output_type": "display_data"
    },
    {
     "data": {
      "text/markdown": [
       "<h3 id=\"cmr_murd_objective_function\" class=\"doc_header\"><code>cmr_murd_objective_function</code><a href=\"__main__.py#L4\" class=\"source_link\" style=\"float:right\">[source]</a></h3>\n",
       "\n",
       "> <code>cmr_murd_objective_function</code>(**`data_to_fit`**, **`fixed_parameters`**, **`free_parameters`**)\n",
       "\n",
       "Configures cmr_likelihood for search over specified free/fixed parameters."
      ],
      "text/plain": [
       "<IPython.core.display.Markdown object>"
      ]
     },
     "metadata": {},
     "output_type": "display_data"
    }
   ],
   "source": [
    "try:\n",
    "    show_doc(cmr_murd_likelihood, title_level=3)\n",
    "    show_doc(cmr_murd_objective_function, title_level=3)\n",
    "except:\n",
    "    pass"
   ]
  },
  {
   "cell_type": "markdown",
   "metadata": {
    "id": "hearing-carry"
   },
   "source": [
    "## Single-Subject Demo"
   ]
  },
  {
   "cell_type": "markdown",
   "metadata": {
    "id": "official-productivity"
   },
   "source": [
    "Using these functions, we'll search for and visualize a parameter fit of the CMR model to a slice of data sampled from the classic Murdock (1962) study demonstrating the serial position curve, a pattern where early and later presented items tend to be recalled more often than middle items in a list-learning experiment. The data associated with the study is located at `data/MurdData_clean.mat`."
   ]
  },
  {
   "cell_type": "code",
   "execution_count": 5,
   "metadata": {
    "colab": {
     "base_uri": "https://localhost:8080/",
     "height": 221
    },
    "executionInfo": {
     "elapsed": 7937,
     "status": "ok",
     "timestamp": 1620830622614,
     "user": {
      "displayName": "Jordan Gunn",
      "photoUrl": "",
      "userId": "03389665672471765462"
     },
     "user_tz": 300
    },
    "id": "corrected-reply",
    "outputId": "7b3f87de-2390-4eae-d8f6-bd99b91d3253"
   },
   "outputs": [
    {
     "name": "stdout",
     "output_type": "stream",
     "text": [
      "20 (1200, 15)\n"
     ]
    },
    {
     "data": {
      "text/html": [
       "<div>\n",
       "<style scoped>\n",
       "    .dataframe tbody tr th:only-of-type {\n",
       "        vertical-align: middle;\n",
       "    }\n",
       "\n",
       "    .dataframe tbody tr th {\n",
       "        vertical-align: top;\n",
       "    }\n",
       "\n",
       "    .dataframe thead th {\n",
       "        text-align: right;\n",
       "    }\n",
       "</style>\n",
       "<table border=\"1\" class=\"dataframe\">\n",
       "  <thead>\n",
       "    <tr style=\"text-align: right;\">\n",
       "      <th></th>\n",
       "      <th>subject</th>\n",
       "      <th>list</th>\n",
       "      <th>item</th>\n",
       "      <th>input</th>\n",
       "      <th>output</th>\n",
       "      <th>study</th>\n",
       "      <th>recall</th>\n",
       "      <th>repeat</th>\n",
       "      <th>intrusion</th>\n",
       "    </tr>\n",
       "  </thead>\n",
       "  <tbody>\n",
       "    <tr>\n",
       "      <th>0</th>\n",
       "      <td>1</td>\n",
       "      <td>1</td>\n",
       "      <td>1</td>\n",
       "      <td>1</td>\n",
       "      <td>5.0</td>\n",
       "      <td>True</td>\n",
       "      <td>True</td>\n",
       "      <td>0</td>\n",
       "      <td>False</td>\n",
       "    </tr>\n",
       "    <tr>\n",
       "      <th>1</th>\n",
       "      <td>1</td>\n",
       "      <td>1</td>\n",
       "      <td>2</td>\n",
       "      <td>2</td>\n",
       "      <td>7.0</td>\n",
       "      <td>True</td>\n",
       "      <td>True</td>\n",
       "      <td>0</td>\n",
       "      <td>False</td>\n",
       "    </tr>\n",
       "    <tr>\n",
       "      <th>2</th>\n",
       "      <td>1</td>\n",
       "      <td>1</td>\n",
       "      <td>3</td>\n",
       "      <td>3</td>\n",
       "      <td>NaN</td>\n",
       "      <td>True</td>\n",
       "      <td>False</td>\n",
       "      <td>0</td>\n",
       "      <td>False</td>\n",
       "    </tr>\n",
       "    <tr>\n",
       "      <th>3</th>\n",
       "      <td>1</td>\n",
       "      <td>1</td>\n",
       "      <td>4</td>\n",
       "      <td>4</td>\n",
       "      <td>NaN</td>\n",
       "      <td>True</td>\n",
       "      <td>False</td>\n",
       "      <td>0</td>\n",
       "      <td>False</td>\n",
       "    </tr>\n",
       "    <tr>\n",
       "      <th>4</th>\n",
       "      <td>1</td>\n",
       "      <td>1</td>\n",
       "      <td>5</td>\n",
       "      <td>5</td>\n",
       "      <td>NaN</td>\n",
       "      <td>True</td>\n",
       "      <td>False</td>\n",
       "      <td>0</td>\n",
       "      <td>False</td>\n",
       "    </tr>\n",
       "  </tbody>\n",
       "</table>\n",
       "</div>"
      ],
      "text/plain": [
       "   subject  list  item  input  output  study  recall  repeat  intrusion\n",
       "0        1     1     1      1     5.0   True    True       0      False\n",
       "1        1     1     2      2     7.0   True    True       0      False\n",
       "2        1     1     3      3     NaN   True   False       0      False\n",
       "3        1     1     4      4     NaN   True   False       0      False\n",
       "4        1     1     5      5     NaN   True   False       0      False"
      ]
     },
     "execution_count": 5,
     "metadata": {},
     "output_type": "execute_result"
    }
   ],
   "source": [
    "from instance_cmr.datasets import *\n",
    "\n",
    "murd_trials0, murd_events0, murd_length0 = prepare_murddata(\n",
    "    '../../data/MurdData_clean.mat', 0)\n",
    "print(murd_length0, np.shape(murd_trials0))\n",
    "\n",
    "murd_events0.head()"
   ]
  },
  {
   "cell_type": "markdown",
   "metadata": {
    "id": "traditional-boards"
   },
   "source": [
    "First, we'll make sure `cmr_murd_likelihood` returns valid values and has adequate performance. Here, we expect a log-likelihood sum of around 1638."
   ]
  },
  {
   "cell_type": "code",
   "execution_count": 6,
   "metadata": {
    "colab": {
     "base_uri": "https://localhost:8080/"
    },
    "executionInfo": {
     "elapsed": 8669,
     "status": "ok",
     "timestamp": 1620830623351,
     "user": {
      "displayName": "Jordan Gunn",
      "photoUrl": "",
      "userId": "03389665672471765462"
     },
     "user_tz": 300
    },
    "id": "civilian-mustang",
    "outputId": "0b3ded54-c06b-4d0e-d316-39a1059d43d6"
   },
   "outputs": [
    {
     "data": {
      "text/plain": [
       "1638.1048000218796"
      ]
     },
     "execution_count": 6,
     "metadata": {},
     "output_type": "execute_result"
    }
   ],
   "source": [
    "lb = np.finfo(float).eps\n",
    "hand_fit_parameters = {\n",
    "    'item_counts': List([murd_length0]),\n",
    "    'encoding_drift_rate': .8,\n",
    "    'start_drift_rate': .7,\n",
    "    'recall_drift_rate': .8,\n",
    "    'shared_support': 0.01,\n",
    "    'item_support': 1.0,\n",
    "    'learning_rate': .3,\n",
    "    'primacy_scale': 1,\n",
    "    'primacy_decay': 1,\n",
    "    'stop_probability_scale': 0.01,\n",
    "    'stop_probability_growth': 0.3,\n",
    "    'choice_sensitivity': 2,\n",
    "    'sampling_rule': 0\n",
    "}\n",
    "cmr_murd_likelihood(List([murd_trials0[:80]]), **hand_fit_parameters)"
   ]
  },
  {
   "cell_type": "code",
   "execution_count": 7,
   "metadata": {
    "colab": {
     "base_uri": "https://localhost:8080/"
    },
    "executionInfo": {
     "elapsed": 14091,
     "status": "ok",
     "timestamp": 1620830628774,
     "user": {
      "displayName": "Jordan Gunn",
      "photoUrl": "",
      "userId": "03389665672471765462"
     },
     "user_tz": 300
    },
    "id": "mighty-shame",
    "outputId": "166524db-ea29-45df-9220-d36ad57b0fe0"
   },
   "outputs": [
    {
     "name": "stdout",
     "output_type": "stream",
     "text": [
      "2.01 ms ± 23.2 µs per loop (mean ± std. dev. of 7 runs, 1000 loops each)\n"
     ]
    }
   ],
   "source": [
    "%%timeit\n",
    "cmr_murd_likelihood(List([murd_trials0[:80]]), **hand_fit_parameters)"
   ]
  },
  {
   "cell_type": "markdown",
   "metadata": {
    "id": "valid-wrestling"
   },
   "source": [
    "```\n",
    "1.9 ms ± 31.7 µs per loop (mean ± std. dev. of 7 runs, 1000 loops each)\n",
    "```\n",
    "\n",
    "Now we perform the single subject fitting..."
   ]
  },
  {
   "cell_type": "code",
   "execution_count": 8,
   "metadata": {
    "colab": {
     "base_uri": "https://localhost:8080/",
     "height": 443
    },
    "executionInfo": {
     "elapsed": 21449,
     "status": "error",
     "timestamp": 1620830636137,
     "user": {
      "displayName": "Jordan Gunn",
      "photoUrl": "",
      "userId": "03389665672471765462"
     },
     "user_tz": 300
    },
    "id": "obvious-enemy",
    "outputId": "40dfcf99-ae84-47a2-edc5-698fb822375f"
   },
   "outputs": [
    {
     "name": "stdout",
     "output_type": "stream",
     "text": [
      "differential_evolution step 1: f(x)= 2353.85\n",
      "differential_evolution step 2: f(x)= 1912.16\n",
      "differential_evolution step 3: f(x)= 1868.86\n",
      "differential_evolution step 4: f(x)= 1788.13\n",
      "differential_evolution step 5: f(x)= 1788.13\n",
      "differential_evolution step 6: f(x)= 1788.13\n",
      "differential_evolution step 7: f(x)= 1784.93\n",
      "differential_evolution step 8: f(x)= 1712.63\n",
      "differential_evolution step 9: f(x)= 1712.63\n",
      "differential_evolution step 10: f(x)= 1712.63\n",
      "differential_evolution step 11: f(x)= 1712.63\n",
      "differential_evolution step 12: f(x)= 1712.63\n",
      "differential_evolution step 13: f(x)= 1621.5\n",
      "differential_evolution step 14: f(x)= 1611.89\n",
      "differential_evolution step 15: f(x)= 1594.88\n",
      "differential_evolution step 16: f(x)= 1594.88\n",
      "differential_evolution step 17: f(x)= 1594.88\n",
      "differential_evolution step 18: f(x)= 1594.88\n",
      "differential_evolution step 19: f(x)= 1594.88\n",
      "differential_evolution step 20: f(x)= 1568.35\n",
      "differential_evolution step 21: f(x)= 1568.35\n",
      "differential_evolution step 22: f(x)= 1568.35\n",
      "differential_evolution step 23: f(x)= 1507.8\n",
      "differential_evolution step 24: f(x)= 1507.8\n",
      "differential_evolution step 25: f(x)= 1507.8\n",
      "differential_evolution step 26: f(x)= 1507.8\n",
      "differential_evolution step 27: f(x)= 1507.8\n",
      "differential_evolution step 28: f(x)= 1507.8\n",
      "differential_evolution step 29: f(x)= 1507.8\n",
      "differential_evolution step 30: f(x)= 1507.8\n",
      "differential_evolution step 31: f(x)= 1507.8\n",
      "differential_evolution step 32: f(x)= 1507.8\n",
      "differential_evolution step 33: f(x)= 1502.38\n",
      "differential_evolution step 34: f(x)= 1502.38\n",
      "differential_evolution step 35: f(x)= 1489.87\n",
      "differential_evolution step 36: f(x)= 1481.7\n",
      "differential_evolution step 37: f(x)= 1481.7\n",
      "differential_evolution step 38: f(x)= 1481.7\n",
      "differential_evolution step 39: f(x)= 1481.7\n",
      "differential_evolution step 40: f(x)= 1479.59\n",
      "differential_evolution step 41: f(x)= 1479.59\n",
      "differential_evolution step 42: f(x)= 1479.59\n",
      "differential_evolution step 43: f(x)= 1479.59\n",
      "differential_evolution step 44: f(x)= 1479.59\n",
      "differential_evolution step 45: f(x)= 1479.59\n",
      "differential_evolution step 46: f(x)= 1479.59\n",
      "differential_evolution step 47: f(x)= 1479.59\n",
      "differential_evolution step 48: f(x)= 1473.24\n",
      "differential_evolution step 49: f(x)= 1462.4\n",
      "differential_evolution step 50: f(x)= 1460.21\n",
      "differential_evolution step 51: f(x)= 1460.21\n",
      "differential_evolution step 52: f(x)= 1460.21\n",
      "differential_evolution step 53: f(x)= 1460.21\n",
      "differential_evolution step 54: f(x)= 1460.21\n",
      "differential_evolution step 55: f(x)= 1460.21\n",
      "differential_evolution step 56: f(x)= 1460.21\n",
      "differential_evolution step 57: f(x)= 1457.5\n",
      "differential_evolution step 58: f(x)= 1457.5\n",
      "differential_evolution step 59: f(x)= 1457.5\n",
      "     fun: 1445.2712249149142\n",
      "     jac: array([-7.40783435e-02,  3.40570978e+01, -2.23280948e-02,  2.12230589e+00,\n",
      "       -2.12230588e+00, -6.93489710e-03,  1.52340363e-03,  0.00000000e+00,\n",
      "       -1.47019819e-01,  1.26419764e-02,  4.22687663e-02])\n",
      " message: 'Optimization terminated successfully.'\n",
      "    nfev: 11208\n",
      "     nit: 59\n",
      " success: True\n",
      "       x: array([3.86643033e-01, 2.22044605e-16, 8.35481242e-01, 2.22044605e-16,\n",
      "       1.00000000e+00, 2.15590948e-01, 2.17866805e+00, 8.63338573e+01,\n",
      "       1.16234231e-02, 3.92284521e-01, 3.27199316e-01])\n"
     ]
    }
   ],
   "source": [
    "from scipy.optimize import differential_evolution\n",
    "import numpy as np\n",
    "\n",
    "free_parameters = [\n",
    "    'encoding_drift_rate',\n",
    "    'start_drift_rate',\n",
    "    'recall_drift_rate',\n",
    "    'shared_support',\n",
    "    'item_support',\n",
    "    'learning_rate',\n",
    "    'primacy_scale',\n",
    "    'primacy_decay',\n",
    "    'stop_probability_scale',\n",
    "    'stop_probability_growth',\n",
    "    'choice_sensitivity',]\n",
    "\n",
    "lb = np.finfo(float).eps\n",
    "ub = 1-np.finfo(float).eps\n",
    "\n",
    "bounds = [\n",
    "    (lb, ub),\n",
    "    (lb, ub),\n",
    "    (lb, ub),\n",
    "    (lb, ub),\n",
    "    (lb, ub),\n",
    "    (lb, ub),\n",
    "    (lb, 100),\n",
    "    (lb, 100),\n",
    "    (lb, ub),\n",
    "    (lb, 10),\n",
    "    (lb, 10)\n",
    "]\n",
    "\n",
    "# cost function to be minimized\n",
    "# ours scales inversely with the probability that the data could have been \n",
    "# generated using the specified parameters and our model\n",
    "cost_function = cmr_murd_objective_function(\n",
    "    List([murd_trials0[:80]]), \n",
    "    {'item_counts': List([murd_length0]), 'sampling_rule': 1}, free_parameters)\n",
    "\n",
    "result = differential_evolution(cost_function, bounds, disp=True)\n",
    "print(result)"
   ]
  },
  {
   "cell_type": "markdown",
   "metadata": {
    "id": "relevant-weight"
   },
   "source": [
    "For the first subject in our murd_trials data structure, the function runs quickly returns an output with the following attributes:\n",
    "\n",
    "```\n",
    "     fun: 1443.7844998026485\n",
    " message: 'Optimization terminated successfully.'\n",
    "    nfev: 9441\n",
    "     nit: 56\n",
    " success: True\n",
    "       x: array([0.58357356, 0.00943967, 0.66907882, 0.24216787, 0.97648943,\n",
    "       0.08688427, 9.12889605, 1.79134438, 0.01805572, 0.34196481,\n",
    "       4.87387628])\n",
    "```\n",
    "\n",
    "Alt:\n",
    "```\n",
    "      x: array([3.86643033e-01, 2.22044605e-16, 8.35481242e-01, 2.22044605e-16,\n",
    "       1.00000000e+00, 2.15590948e-01, 2.17866805e+00, 8.63338573e+01,\n",
    "       1.16234231e-02, 3.92284521e-01, 3.27199316e-01])\n",
    "```\n",
    "\n",
    "The `x` attribute of the result object contains the best parameter configuration found, while the `fun` attribute represents the overall cost of the configuration as computed with our specified cost function. "
   ]
  },
  {
   "cell_type": "markdown",
   "metadata": {
    "id": "artistic-mileage"
   },
   "source": [
    "We can visually compare the behavior of the model with these parameters against the data it's fitted to with a new\n",
    "`visualize_fit` function."
   ]
  },
  {
   "cell_type": "code",
   "execution_count": 6,
   "metadata": {
    "executionInfo": {
     "elapsed": 21443,
     "status": "aborted",
     "timestamp": 1620830636135,
     "user": {
      "displayName": "Jordan Gunn",
      "photoUrl": "",
      "userId": "03389665672471765462"
     },
     "user_tz": 300
    },
    "id": "seven-softball"
   },
   "outputs": [],
   "source": [
    "# export\n",
    "\n",
    "import pandas as pd\n",
    "import seaborn as sns\n",
    "from psifr import fr\n",
    "import matplotlib.pyplot as plt\n",
    "\n",
    "def visualize_fit(\n",
    "    model_class, parameters, data, data_query=None, experiment_count=1000, savefig=False):\n",
    "    \"\"\"\n",
    "    Apply organizational analyses to visually compare the behavior of the model \n",
    "    with these parameters against specified dataset.\n",
    "    \"\"\"\n",
    "    \n",
    "    # generate simulation data from model\n",
    "    model = model_class(**parameters)\n",
    "    try:\n",
    "        model.experience(np.eye(model.item_count, model.item_count + 1, 1))\n",
    "    except ValueError:\n",
    "        model.experience(np.eye(model.item_count, model.item_count))\n",
    "    sim = []\n",
    "    for experiment in range(experiment_count):\n",
    "        sim += [[experiment, 0, 'study', i + 1, i] for i in range(model.item_count)]\n",
    "    for experiment in range(experiment_count):\n",
    "        sim += [[experiment, 0, 'recall', i + 1, o] for i, o in enumerate(model.free_recall())]\n",
    "    sim = pd.DataFrame(sim, columns=['subject', 'list', 'trial_type', 'position', 'item'])\n",
    "    sim_data = fr.merge_free_recall(sim)\n",
    "    \n",
    "    # generate simulation-based spc, pnr, lag_crp\n",
    "    sim_spc = fr.spc(sim_data).reset_index()\n",
    "    sim_pfr = fr.pnr(sim_data).query('output <= 1') .reset_index()\n",
    "    sim_lag_crp = fr.lag_crp(sim_data).reset_index()\n",
    "    \n",
    "    # generate data-based spc, pnr, lag_crp\n",
    "    data_spc = fr.spc(data).query(data_query).reset_index()\n",
    "    data_pfr = fr.pnr(data).query('output <= 1').query(data_query).reset_index()\n",
    "    data_lag_crp = fr.lag_crp(data).query(data_query).reset_index()\n",
    "    \n",
    "    # combine representations\n",
    "    data_spc['Source'] = 'Data'\n",
    "    sim_spc['Source'] = model_class.__name__\n",
    "    combined_spc = pd.concat([data_spc, sim_spc], axis=0)\n",
    "    \n",
    "    data_pfr['Source'] = 'Data'\n",
    "    sim_pfr['Source'] = model_class.__name__\n",
    "    combined_pfr = pd.concat([data_pfr, sim_pfr], axis=0)\n",
    "    \n",
    "    data_lag_crp['Source'] = 'Data'\n",
    "    sim_lag_crp['Source'] = model_class.__name__\n",
    "    combined_lag_crp = pd.concat([data_lag_crp, sim_lag_crp], axis=0)\n",
    "    \n",
    "    # generate plots of result\n",
    "    # spc\n",
    "    g = sns.FacetGrid(dropna=False, data=combined_spc)\n",
    "    g.map_dataframe(sns.lineplot, x='input', y='recall', hue='Source')\n",
    "    g.set_xlabels('Serial position')\n",
    "    g.set_ylabels('Recall probability')\n",
    "    #plt.title('P(Recall) by Serial Position Curve')\n",
    "    g.add_legend()\n",
    "    g.set(ylim=(0, 1))\n",
    "    if savefig:\n",
    "        plt.savefig('figures/{}_fit_spc.pdf'.format(model_class.__name__), bbox_inches='tight')\n",
    "    else:\n",
    "        plt.show()\n",
    "    \n",
    "    #pdf\n",
    "    h = sns.FacetGrid(dropna=False, data=combined_pfr)\n",
    "    h.map_dataframe(sns.lineplot, x='input', y='prob', hue='Source')\n",
    "    h.set_xlabels('Serial position')\n",
    "    h.set_ylabels('Probability of First Recall')\n",
    "    #plt.title('P(First Recall) by Serial Position')\n",
    "    h.add_legend()\n",
    "    h.set(ylim=(0, 1))\n",
    "    if savefig:\n",
    "        plt.savefig('figures/{}_fit_pfr.pdf'.format(model_class.__name__), bbox_inches='tight')\n",
    "    else:\n",
    "        plt.show()\n",
    "    \n",
    "    # lag crp\n",
    "    max_lag = 5\n",
    "    filt_neg = f'{-max_lag} <= lag < 0'\n",
    "    filt_pos = f'0 < lag <= {max_lag}'\n",
    "    i = sns.FacetGrid(dropna=False, data=combined_lag_crp)\n",
    "    i.map_dataframe(\n",
    "        lambda data, **kws: sns.lineplot(data=data.query(filt_neg),\n",
    "                                         x='lag', y='prob', hue='Source', **kws))\n",
    "    i.map_dataframe(\n",
    "        lambda data, **kws: sns.lineplot(data=data.query(filt_pos),\n",
    "                                         x='lag', y='prob', hue='Source', **kws))\n",
    "    i.set_xlabels('Item Lag')\n",
    "    i.set_ylabels('Conditional Response Probability')\n",
    "    #plt.title('Recall Probability by Item Lag')\n",
    "    i.add_legend()\n",
    "    i.set(ylim=(0, 1))\n",
    "    if savefig:\n",
    "        plt.savefig('figures/{}_fit_crp.pdf'.format(model_class.__name__), bbox_inches='tight')\n",
    "    else:\n",
    "        plt.show()"
   ]
  },
  {
   "cell_type": "code",
   "execution_count": 9,
   "metadata": {
    "executionInfo": {
     "elapsed": 21440,
     "status": "aborted",
     "timestamp": 1620830636136,
     "user": {
      "displayName": "Jordan Gunn",
      "photoUrl": "",
      "userId": "03389665672471765462"
     },
     "user_tz": 300
    },
    "id": "speaking-viewer"
   },
   "outputs": [
    {
     "data": {
      "image/png": "[encoded data removed]",
      "text/plain": [
       "<Figure size 275.875x216 with 1 Axes>"
      ]
     },
     "metadata": {
      "needs_background": "light"
     },
     "output_type": "display_data"
    },
    {
     "data": {
      "image/png": "[encoded data removed]",
      "text/plain": [
       "<Figure size 275.875x216 with 1 Axes>"
      ]
     },
     "metadata": {
      "needs_background": "light"
     },
     "output_type": "display_data"
    },
    {
     "data": {
      "image/png": "[encoded data removed]",
      "text/plain": [
       "<Figure size 275.875x216 with 1 Axes>"
      ]
     },
     "metadata": {
      "needs_background": "light"
     },
     "output_type": "display_data"
    }
   ],
   "source": [
    "parameters = {\n",
    "    'item_count':murd_length0,\n",
    "    'presentation_count': murd_length0,\n",
    "    'sampling_rule': 1,\n",
    "}\n",
    "\n",
    "free_parameters = [\n",
    "    'encoding_drift_rate',\n",
    "    'start_drift_rate',\n",
    "    'recall_drift_rate',\n",
    "    'shared_support',\n",
    "    'item_support',\n",
    "    'learning_rate',\n",
    "    'primacy_scale',\n",
    "    'primacy_decay',\n",
    "    'stop_probability_scale',\n",
    "    'stop_probability_growth',\n",
    "    'choice_sensitivity',]\n",
    "\n",
    "result = np.array([3.86643033e-01, 2.22044605e-16, 8.35481242e-01, 2.22044605e-16,\n",
    "       1.00000000e+00, 2.15590948e-01, 2.17866805e+00, 8.63338573e+01,\n",
    "       1.16234231e-02, 3.92284521e-01, 3.27199316e-01])\n",
    "\n",
    "visualize_fit(CMR, \n",
    "              {**parameters, \n",
    "               **{free_parameters[i]:result[i] for i in range(len(result))}}, \n",
    "              murd_events0, 'subject == 1', experiment_count=1000, savefig=True)"
   ]
  },
  {
   "cell_type": "code",
   "execution_count": null,
   "metadata": {},
   "outputs": [],
   "source": []
  }
 ],
 "metadata": {
  "colab": {
   "collapsed_sections": [],
   "name": "01_CMR_Fitting_Benchmark.ipynb",
   "provenance": []
  },
  "kernelspec": {
   "display_name": "Python 3",
   "language": "python",
   "name": "python3"
  },
  "language_info": {
   "codemirror_mode": {
    "name": "ipython",
    "version": 3
   },
   "file_extension": ".py",
   "mimetype": "text/x-python",
   "name": "python",
   "nbconvert_exporter": "python",
   "pygments_lexer": "ipython3",
   "version": "3.8.5"
  }
 },
 "nbformat": 4,
 "nbformat_minor": 4
}

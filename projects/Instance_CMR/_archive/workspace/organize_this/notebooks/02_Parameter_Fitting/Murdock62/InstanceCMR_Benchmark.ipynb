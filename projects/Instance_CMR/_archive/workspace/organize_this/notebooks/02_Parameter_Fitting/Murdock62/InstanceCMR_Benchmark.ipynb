{
 "cells": [
  {
   "cell_type": "code",
   "execution_count": 1,
   "id": "tamil-percentage",
   "metadata": {},
   "outputs": [],
   "source": [
    "# hide\n",
    "# default_exp model_fitting\n",
    "\n",
    "from nbdev.showdoc import *"
   ]
  },
  {
   "cell_type": "markdown",
   "id": "caroline-yacht",
   "metadata": {},
   "source": [
    "# InstanceCMR Benchmark"
   ]
  },
  {
   "cell_type": "markdown",
   "id": "acquired-island",
   "metadata": {},
   "source": [
    "## Configuring the Parameter Search\n",
    "To fit the model to some dataset, we select a cost function that scales against the likelihood that the model with a specified parameter configuration could have generated the specified dataset. Since our fitting functions are optimized on a per model basis, we need a unique one for InstanceCMR and this dataset."
   ]
  },
  {
   "cell_type": "code",
   "execution_count": 2,
   "id": "temporal-script",
   "metadata": {},
   "outputs": [],
   "source": [
    "# export\n",
    "# hide\n",
    "\n",
    "import numpy as np\n",
    "from numba import njit\n",
    "from numba.typed import List\n",
    "from instance_cmr.models import InstanceCMR\n",
    "\n",
    "\n",
    "@njit(fastmath=True, nogil=True)\n",
    "def icmr_murd_likelihood(data_to_fit, item_counts, encoding_drift_rate, \n",
    "                    start_drift_rate, recall_drift_rate, shared_support, \n",
    "                    item_support, learning_rate, primacy_scale, primacy_decay, \n",
    "                    stop_probability_scale, stop_probability_growth, \n",
    "                    choice_sensitivity, context_sensitivity, feature_sensitivity):\n",
    "    \"\"\"\n",
    "    Generalized cost function for fitting the InstanceCMR model optimized \n",
    "    using the numba library.\n",
    "    \n",
    "    Output scales inversely with the likelihood that the model and specified \n",
    "    parameters would generate the specified trials. For model fitting, is \n",
    "    usually wrapped in another function that fixes and frees parameters for \n",
    "    optimization.\n",
    "\n",
    "    **Arguments**:\n",
    "    - data_to_fit: typed list of int64-arrays where rows identify a unique \n",
    "        trial of responses and columns corresponds to a unique recall index.  \n",
    "    - A configuration for each parameter of `InstanceCMR` as delineated in \n",
    "        `Formal Specification`.\n",
    "\n",
    "    **Returns** the negative sum of log-likelihoods across specified trials \n",
    "    conditional on the specified parameters and the mechanisms of InstanceCMR.\n",
    "    \"\"\"\n",
    "        \n",
    "    result = 0.0\n",
    "    for i in range(len(item_counts)):\n",
    "        item_count = item_counts[i]\n",
    "        trials = data_to_fit[i]\n",
    "        \n",
    "        model = InstanceCMR(item_count, item_count, encoding_drift_rate, \n",
    "                          start_drift_rate, recall_drift_rate, shared_support, \n",
    "                          item_support, learning_rate, primacy_scale, \n",
    "                          primacy_decay, stop_probability_scale, \n",
    "                          stop_probability_growth, choice_sensitivity,\n",
    "                           context_sensitivity, feature_sensitivity)\n",
    "\n",
    "        model.experience(np.eye(item_count, item_count + 1, 1))\n",
    "\n",
    "        likelihood = np.ones((len(trials), item_count))\n",
    "\n",
    "        for trial_index in range(len(trials)):\n",
    "            trial = trials[trial_index]\n",
    "\n",
    "            model.force_recall()\n",
    "            for recall_index in range(len(trial) + 1):\n",
    "\n",
    "                # identify index of item recalled; if zero then recall is over\n",
    "                if recall_index == len(trial) and len(trial) < item_count:\n",
    "                    recall = 0\n",
    "                else:\n",
    "                    recall = trial[recall_index]\n",
    "\n",
    "                # store probability of and simulate recalling item w this index\n",
    "                activation_cue = np.hstack(\n",
    "                    (np.zeros(model.item_count + 1), model.context))\n",
    "                likelihood[trial_index, recall_index] = \\\n",
    "                    model.outcome_probabilities(activation_cue)[recall]\n",
    "\n",
    "                if recall == 0:\n",
    "                    break\n",
    "                model.force_recall(recall)\n",
    "\n",
    "            # reset model to its pre-retrieval (but post-encoding) state\n",
    "            model.force_recall(0)\n",
    "        result -= np.sum(np.log(likelihood))\n",
    "        \n",
    "    return result"
   ]
  },
  {
   "cell_type": "code",
   "execution_count": 3,
   "id": "appointed-collar",
   "metadata": {},
   "outputs": [],
   "source": [
    "# export\n",
    "# hide\n",
    "\n",
    "def icmr_murd_objective_function(data_to_fit, fixed_parameters, free_parameters):\n",
    "    \"\"\"\n",
    "    Generates and returns an objective function for input to support search \n",
    "    through parameter space for ICMR model fit using an optimization function.\n",
    "\n",
    "    Arguments:  \n",
    "    - fixed_parameters: dictionary mapping parameter names to values they'll \n",
    "        be fixed to during search, overloaded by free_parameters if overlap  \n",
    "    - free_parameters: list of strings naming parameters for fit during search  \n",
    "    - data_to_fit: array where rows identify a unique trial of responses and \n",
    "        columns corresponds to a unique recall index\n",
    "\n",
    "    Returns a function that accepts a vector x specifying arbitrary values for \n",
    "    free parameters and returns evaluation of icmr_likelihood using the model \n",
    "    class, all parameters, and provided data.\n",
    "    \"\"\"\n",
    "    \n",
    "    return lambda x: icmr_murd_likelihood(data_to_fit, **{**fixed_parameters, **{\n",
    "        free_parameters[i]:x[i] for i in range(len(x))}})"
   ]
  },
  {
   "cell_type": "code",
   "execution_count": 4,
   "id": "atomic-transparency",
   "metadata": {},
   "outputs": [
    {
     "data": {
      "text/markdown": [
       "<h3 id=\"icmr_murd_likelihood\" class=\"doc_header\"><code>icmr_murd_likelihood</code><a href=\"__main__.py#L10\" class=\"source_link\" style=\"float:right\">[source]</a></h3>\n",
       "\n",
       "> <code>icmr_murd_likelihood</code>(**`data_to_fit`**, **`item_counts`**, **`encoding_drift_rate`**, **`start_drift_rate`**, **`recall_drift_rate`**, **`shared_support`**, **`item_support`**, **`learning_rate`**, **`primacy_scale`**, **`primacy_decay`**, **`stop_probability_scale`**, **`stop_probability_growth`**, **`choice_sensitivity`**, **`context_sensitivity`**, **`feature_sensitivity`**)\n",
       "\n",
       "Generalized cost function for fitting the InstanceCMR model optimized \n",
       "using the numba library.\n",
       "\n",
       "Output scales inversely with the likelihood that the model and specified \n",
       "parameters would generate the specified trials. For model fitting, is \n",
       "usually wrapped in another function that fixes and frees parameters for \n",
       "optimization.\n",
       "\n",
       "**Arguments**:\n",
       "- data_to_fit: typed list of int64-arrays where rows identify a unique \n",
       "    trial of responses and columns corresponds to a unique recall index.  \n",
       "- A configuration for each parameter of [`InstanceCMR`](/instance_cmr/InstanceCMR.html#InstanceCMR) as delineated in \n",
       "    `Formal Specification`.\n",
       "\n",
       "**Returns** the negative sum of log-likelihoods across specified trials \n",
       "conditional on the specified parameters and the mechanisms of InstanceCMR."
      ],
      "text/plain": [
       "<IPython.core.display.Markdown object>"
      ]
     },
     "metadata": {},
     "output_type": "display_data"
    },
    {
     "data": {
      "text/markdown": [
       "<h3 id=\"icmr_murd_objective_function\" class=\"doc_header\"><code>icmr_murd_objective_function</code><a href=\"__main__.py#L4\" class=\"source_link\" style=\"float:right\">[source]</a></h3>\n",
       "\n",
       "> <code>icmr_murd_objective_function</code>(**`data_to_fit`**, **`fixed_parameters`**, **`free_parameters`**)\n",
       "\n",
       "Generates and returns an objective function for input to support search \n",
       "through parameter space for ICMR model fit using an optimization function.\n",
       "\n",
       "Arguments:  \n",
       "- fixed_parameters: dictionary mapping parameter names to values they'll \n",
       "    be fixed to during search, overloaded by free_parameters if overlap  \n",
       "- free_parameters: list of strings naming parameters for fit during search  \n",
       "- data_to_fit: array where rows identify a unique trial of responses and \n",
       "    columns corresponds to a unique recall index\n",
       "\n",
       "Returns a function that accepts a vector x specifying arbitrary values for \n",
       "free parameters and returns evaluation of icmr_likelihood using the model \n",
       "class, all parameters, and provided data."
      ],
      "text/plain": [
       "<IPython.core.display.Markdown object>"
      ]
     },
     "metadata": {},
     "output_type": "display_data"
    }
   ],
   "source": [
    "try:\n",
    "    show_doc(icmr_murd_likelihood, title_level=3)\n",
    "    show_doc(icmr_murd_objective_function, title_level=3)\n",
    "except:\n",
    "    pass"
   ]
  },
  {
   "cell_type": "markdown",
   "id": "suffering-gazette",
   "metadata": {},
   "source": [
    "## Single-Subject Demo"
   ]
  },
  {
   "cell_type": "markdown",
   "id": "utility-teaching",
   "metadata": {},
   "source": [
    "Using these functions, we'll search for and visualize a parameter fit of the InstanceCMR model to a slice of data sampled from the classic Murdock (1962) study demonstrating the serial position curve, a pattern where early and later presented items tend to be recalled more often than middle items in a list-learning experiment. The data associated with the study is located at `data/MurdData_clean.mat`."
   ]
  },
  {
   "cell_type": "code",
   "execution_count": 5,
   "id": "virgin-oklahoma",
   "metadata": {},
   "outputs": [
    {
     "name": "stdout",
     "output_type": "stream",
     "text": [
      "20 (1200, 15)\n"
     ]
    },
    {
     "data": {
      "text/html": [
       "<div>\n",
       "<style scoped>\n",
       "    .dataframe tbody tr th:only-of-type {\n",
       "        vertical-align: middle;\n",
       "    }\n",
       "\n",
       "    .dataframe tbody tr th {\n",
       "        vertical-align: top;\n",
       "    }\n",
       "\n",
       "    .dataframe thead th {\n",
       "        text-align: right;\n",
       "    }\n",
       "</style>\n",
       "<table border=\"1\" class=\"dataframe\">\n",
       "  <thead>\n",
       "    <tr style=\"text-align: right;\">\n",
       "      <th></th>\n",
       "      <th>subject</th>\n",
       "      <th>list</th>\n",
       "      <th>item</th>\n",
       "      <th>input</th>\n",
       "      <th>output</th>\n",
       "      <th>study</th>\n",
       "      <th>recall</th>\n",
       "      <th>repeat</th>\n",
       "      <th>intrusion</th>\n",
       "    </tr>\n",
       "  </thead>\n",
       "  <tbody>\n",
       "    <tr>\n",
       "      <th>0</th>\n",
       "      <td>1</td>\n",
       "      <td>1</td>\n",
       "      <td>1</td>\n",
       "      <td>1</td>\n",
       "      <td>5.0</td>\n",
       "      <td>True</td>\n",
       "      <td>True</td>\n",
       "      <td>0</td>\n",
       "      <td>False</td>\n",
       "    </tr>\n",
       "    <tr>\n",
       "      <th>1</th>\n",
       "      <td>1</td>\n",
       "      <td>1</td>\n",
       "      <td>2</td>\n",
       "      <td>2</td>\n",
       "      <td>7.0</td>\n",
       "      <td>True</td>\n",
       "      <td>True</td>\n",
       "      <td>0</td>\n",
       "      <td>False</td>\n",
       "    </tr>\n",
       "    <tr>\n",
       "      <th>2</th>\n",
       "      <td>1</td>\n",
       "      <td>1</td>\n",
       "      <td>3</td>\n",
       "      <td>3</td>\n",
       "      <td>NaN</td>\n",
       "      <td>True</td>\n",
       "      <td>False</td>\n",
       "      <td>0</td>\n",
       "      <td>False</td>\n",
       "    </tr>\n",
       "    <tr>\n",
       "      <th>3</th>\n",
       "      <td>1</td>\n",
       "      <td>1</td>\n",
       "      <td>4</td>\n",
       "      <td>4</td>\n",
       "      <td>NaN</td>\n",
       "      <td>True</td>\n",
       "      <td>False</td>\n",
       "      <td>0</td>\n",
       "      <td>False</td>\n",
       "    </tr>\n",
       "    <tr>\n",
       "      <th>4</th>\n",
       "      <td>1</td>\n",
       "      <td>1</td>\n",
       "      <td>5</td>\n",
       "      <td>5</td>\n",
       "      <td>NaN</td>\n",
       "      <td>True</td>\n",
       "      <td>False</td>\n",
       "      <td>0</td>\n",
       "      <td>False</td>\n",
       "    </tr>\n",
       "  </tbody>\n",
       "</table>\n",
       "</div>"
      ],
      "text/plain": [
       "   subject  list  item  input  output  study  recall  repeat  intrusion\n",
       "0        1     1     1      1     5.0   True    True       0      False\n",
       "1        1     1     2      2     7.0   True    True       0      False\n",
       "2        1     1     3      3     NaN   True   False       0      False\n",
       "3        1     1     4      4     NaN   True   False       0      False\n",
       "4        1     1     5      5     NaN   True   False       0      False"
      ]
     },
     "execution_count": 5,
     "metadata": {},
     "output_type": "execute_result"
    }
   ],
   "source": [
    "from instance_cmr.datasets import *\n",
    "\n",
    "murd_trials0, murd_events0, murd_length0 = prepare_murddata(\n",
    "    '../../../data/MurdData_clean.mat', 0)\n",
    "print(murd_length0, np.shape(murd_trials0))\n",
    "\n",
    "murd_events0.head()"
   ]
  },
  {
   "cell_type": "markdown",
   "id": "suspended-europe",
   "metadata": {},
   "source": [
    "First, we'll make sure `cmr_murd_likelihood` returns valid values and has adequate performance."
   ]
  },
  {
   "cell_type": "code",
   "execution_count": 6,
   "id": "precise-proposition",
   "metadata": {},
   "outputs": [
    {
     "data": {
      "text/plain": [
       "1543.9470532219602"
      ]
     },
     "execution_count": 6,
     "metadata": {},
     "output_type": "execute_result"
    }
   ],
   "source": [
    "lb = np.finfo(float).eps\n",
    "hand_fit_parameters = {\n",
    "    'item_counts': List([murd_length0]),\n",
    "    'encoding_drift_rate': .8,\n",
    "    'start_drift_rate': .7,\n",
    "    'recall_drift_rate': .8,\n",
    "    'shared_support': 0.01,\n",
    "    'item_support': 1.0,\n",
    "    'learning_rate': .3,\n",
    "    'primacy_scale': 1,\n",
    "    'primacy_decay': 1,\n",
    "    'stop_probability_scale': 0.01,\n",
    "    'stop_probability_growth': 0.3,\n",
    "    'choice_sensitivity': 2,\n",
    "    'context_sensitivity': 1,\n",
    "    'feature_sensitivity': 1\n",
    "}\n",
    "icmr_murd_likelihood(List([murd_trials0[:80]]), **hand_fit_parameters)"
   ]
  },
  {
   "cell_type": "code",
   "execution_count": 7,
   "id": "biological-glucose",
   "metadata": {},
   "outputs": [
    {
     "name": "stdout",
     "output_type": "stream",
     "text": [
      "9.46 ms ± 47.3 µs per loop (mean ± std. dev. of 7 runs, 100 loops each)\n"
     ]
    }
   ],
   "source": [
    "%%timeit\n",
    "icmr_murd_likelihood(List([murd_trials0[:80]]), **hand_fit_parameters)"
   ]
  },
  {
   "cell_type": "markdown",
   "id": "bacterial-solution",
   "metadata": {},
   "source": [
    "Now we perform the single subject fitting..."
   ]
  },
  {
   "cell_type": "code",
   "execution_count": null,
   "id": "skilled-breeding",
   "metadata": {},
   "outputs": [],
   "source": [
    "from scipy.optimize import differential_evolution\n",
    "import numpy as np\n",
    "\n",
    "free_parameters = [\n",
    "    'encoding_drift_rate',\n",
    "    'start_drift_rate',\n",
    "    'recall_drift_rate',\n",
    "    'shared_support',\n",
    "    'item_support',\n",
    "    'learning_rate',\n",
    "    'primacy_scale',\n",
    "    'primacy_decay',\n",
    "    'stop_probability_scale',\n",
    "    'stop_probability_growth',\n",
    "    'choice_sensitivity',\n",
    "    'context_sensitivity',\n",
    "    'feature_sensitivity']\n",
    "\n",
    "lb = np.finfo(float).eps\n",
    "ub = 1-np.finfo(float).eps\n",
    "\n",
    "bounds = [\n",
    "    (lb, ub),\n",
    "    (lb, ub),\n",
    "    (lb, ub),\n",
    "    (lb, ub),\n",
    "    (lb, ub),\n",
    "    (lb, ub),\n",
    "    (lb, 100),\n",
    "    (lb, 100),\n",
    "    (lb, ub),\n",
    "    (lb, 10),\n",
    "    (lb, 10),\n",
    "    (lb, 10),\n",
    "    (lb, 10)\n",
    "]\n",
    "\n",
    "# cost function to be minimized\n",
    "# ours scales inversely with the probability that the data could have been \n",
    "# generated using the specified parameters and our model\n",
    "cost_function = icmr_murd_objective_function(\n",
    "    List([murd_trials0[:80]]), \n",
    "    {'item_counts': List([murd_length0])}, free_parameters)\n",
    "\n",
    "result = differential_evolution(cost_function, bounds, disp=True)\n",
    "print(result)"
   ]
  },
  {
   "cell_type": "markdown",
   "id": "scenic-three",
   "metadata": {},
   "source": [
    "For the first subject in our murd_trials data structure, the function runs quickly returns an output with the following attributes:\n",
    "\n",
    "```\n",
    "     fun: 1414.3462017866646\n",
    "     jac: array([ 1.92703736e+00,  1.28559668e+02, -1.75441527e+00, -5.56749001e+01,\n",
    "       -2.09183780e-01,  6.23202936e+03, -7.00674660e-01,  0.00000000e+00,\n",
    "        6.03609578e+01,  7.56240297e+00, -2.66209101e-01, -2.35268090e+00,\n",
    "       -7.20638127e-01])\n",
    " message: 'Optimization terminated successfully.'\n",
    "    nfev: 16524\n",
    "     nit: 65\n",
    " success: True\n",
    "       x: array([7.81056951e-01, 2.22044605e-16, 8.35958058e-01, 3.27842091e-03,\n",
    "       1.00000000e+00, 6.06888398e-06, 1.33915473e+01, 8.06231229e+01,\n",
    "       1.15714873e-02, 3.93138394e-01, 4.57500643e+00, 1.90263326e-01,\n",
    "       3.14200355e-01])\n",
    "```\n",
    "\n",
    "The `x` attribute of the result object contains the best parameter configuration found, while the `fun` attribute represents the overall cost of the configuration as computed with our specified cost function. "
   ]
  },
  {
   "cell_type": "markdown",
   "id": "invisible-deposit",
   "metadata": {},
   "source": [
    "We can visually compare the behavior of the model with these parameters against the data it's fitted to with our `visualize_fit` function."
   ]
  },
  {
   "cell_type": "code",
   "execution_count": 10,
   "id": "entertaining-authority",
   "metadata": {},
   "outputs": [
    {
     "data": {
      "text/markdown": [
       "<h4 id=\"visualize_fit\" class=\"doc_header\"><code>visualize_fit</code><a href=\"https://github.com/vucml/instance_cmr/tree/master/instance_cmr/model_fitting.py#L97\" class=\"source_link\" style=\"float:right\">[source]</a></h4>\n",
       "\n",
       "> <code>visualize_fit</code>(**`model_class`**, **`parameters`**, **`data`**, **`data_query`**=*`None`*, **`experiment_count`**=*`1000`*, **`savefig`**=*`False`*)\n",
       "\n",
       "Apply organizational analyses to visually compare the behavior of the model\n",
       "with these parameters against specified dataset."
      ],
      "text/plain": [
       "<IPython.core.display.Markdown object>"
      ]
     },
     "metadata": {},
     "output_type": "display_data"
    }
   ],
   "source": [
    "from instance_cmr.model_fitting import visualize_fit\n",
    "\n",
    "show_doc(visualize_fit)"
   ]
  },
  {
   "cell_type": "code",
   "execution_count": 11,
   "id": "explicit-attempt",
   "metadata": {},
   "outputs": [
    {
     "data": {
      "image/png": "[encoded data removed]",
      "text/plain": [
       "<Figure size 316.875x216 with 1 Axes>"
      ]
     },
     "metadata": {
      "needs_background": "light"
     },
     "output_type": "display_data"
    },
    {
     "data": {
      "image/png": "[encoded data removed]",
      "text/plain": [
       "<Figure size 316.875x216 with 1 Axes>"
      ]
     },
     "metadata": {
      "needs_background": "light"
     },
     "output_type": "display_data"
    },
    {
     "data": {
      "image/png": "[encoded data removed]",
      "text/plain": [
       "<Figure size 316.875x216 with 1 Axes>"
      ]
     },
     "metadata": {
      "needs_background": "light"
     },
     "output_type": "display_data"
    }
   ],
   "source": [
    "\n",
    "\n",
    "parameters = {\n",
    "    'item_count':murd_length0,\n",
    "    'presentation_count': murd_length0\n",
    "}\n",
    "\n",
    "visualize_fit(InstanceCMR, \n",
    "              {**parameters, \n",
    "               **{free_parameters[i]:result.x[i] for i in range(len(result.x))}}, \n",
    "              murd_events0, 'subject == 1', experiment_count=1000, savefig=True)"
   ]
  },
  {
   "cell_type": "code",
   "execution_count": null,
   "id": "abroad-stability",
   "metadata": {},
   "outputs": [],
   "source": []
  }
 ],
 "metadata": {
  "kernelspec": {
   "display_name": "Python 3",
   "language": "python",
   "name": "python3"
  },
  "language_info": {
   "codemirror_mode": {
    "name": "ipython",
    "version": 3
   },
   "file_extension": ".py",
   "mimetype": "text/x-python",
   "name": "python",
   "nbconvert_exporter": "python",
   "pygments_lexer": "ipython3",
   "version": "3.8.5"
  }
 },
 "nbformat": 4,
 "nbformat_minor": 5
}

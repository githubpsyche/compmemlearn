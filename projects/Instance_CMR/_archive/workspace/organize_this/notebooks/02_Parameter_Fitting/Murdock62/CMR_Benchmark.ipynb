{
 "cells": [
  {
   "cell_type": "code",
   "execution_count": 1,
   "id": "martial-payroll",
   "metadata": {},
   "outputs": [],
   "source": [
    "# hide\n",
    "# default_exp model_fitting\n",
    "\n",
    "from nbdev.showdoc import *"
   ]
  },
  {
   "cell_type": "markdown",
   "id": "fixed-negative",
   "metadata": {},
   "source": [
    "# CMR Benchmark"
   ]
  },
  {
   "cell_type": "markdown",
   "id": "important-criminal",
   "metadata": {},
   "source": [
    "## Configuring the Parameter Search\n",
    "To fit the model to some dataset, we select a cost function that scales against the likelihood that the model with a specified parameter configuration could have generated the specified dataset. Since our fitting functions are optimized on a per model basis, we need a unique one for CMR and this dataset."
   ]
  },
  {
   "cell_type": "code",
   "execution_count": 2,
   "id": "earned-democrat",
   "metadata": {},
   "outputs": [],
   "source": [
    "# export\n",
    "# hide\n",
    "\n",
    "import numpy as np\n",
    "from numba import njit\n",
    "from numba.typed import List\n",
    "from instance_cmr.models import CMR\n",
    "\n",
    "@njit(fastmath=True, nogil=True)\n",
    "def cmr_murd_likelihood(\n",
    "    data_to_fit, item_counts, encoding_drift_rate, start_drift_rate, \n",
    "    recall_drift_rate, shared_support, item_support, learning_rate, \n",
    "    primacy_scale, primacy_decay, stop_probability_scale, \n",
    "    stop_probability_growth, choice_sensitivity):\n",
    "    \"\"\"\n",
    "    Cost function for fitting the CMR model.\n",
    "    \n",
    "    Output scales inversely with the likelihood that the model and specified \n",
    "    parameters would generate the specified trials. For model fitting, is \n",
    "    usually wrapped in another function that fixes and frees parameters for \n",
    "    optimization.\n",
    "    \n",
    "    **Arguments**:\n",
    "    - trials: int64-array where rows identify a unique trial of responses and \n",
    "      columns corresponds to a unique recall index.  \n",
    "    - A configuration for each parameter of `CMR`.\n",
    "    \n",
    "    **Returns** the negative sum of log-likelihoods across specified trials \n",
    "    conditional on the specified parameters and the mechanisms of InstanceCMR.\n",
    "    \"\"\"\n",
    "    \n",
    "    result = 0.0\n",
    "    for i in range(len(item_counts)):\n",
    "        item_count = item_counts[i]\n",
    "        trials = data_to_fit[i]\n",
    "        \n",
    "        model = CMR(item_count, item_count, encoding_drift_rate, \n",
    "                    start_drift_rate, recall_drift_rate, shared_support,\n",
    "                    item_support, learning_rate, primacy_scale, \n",
    "                    primacy_decay, stop_probability_scale, \n",
    "                    stop_probability_growth, choice_sensitivity)\n",
    "\n",
    "        model.experience(np.eye(item_count, item_count))\n",
    "\n",
    "        likelihood = np.ones((len(trials), item_count))\n",
    "\n",
    "        for trial_index in range(len(trials)):\n",
    "            trial = trials[trial_index]\n",
    "\n",
    "            model.force_recall()\n",
    "            for recall_index in range(len(trial) + 1):\n",
    "\n",
    "                # identify index of item recalled; if zero then recall is over\n",
    "                if recall_index == len(trial) and len(trial) < item_count:\n",
    "                    recall = 0\n",
    "                else:\n",
    "                    recall = trial[recall_index]\n",
    "\n",
    "                # store probability of and simulate recalling item with this index\n",
    "                likelihood[trial_index, recall_index] = \\\n",
    "                    model.outcome_probabilities(model.context)[recall]\n",
    "\n",
    "                if recall == 0:\n",
    "                    break\n",
    "                model.force_recall(recall)\n",
    "\n",
    "            # reset model to its pre-retrieval (but post-encoding) state\n",
    "            model.force_recall(0)\n",
    "        \n",
    "        result -= np.sum(np.log(likelihood))\n",
    "        \n",
    "    return result"
   ]
  },
  {
   "cell_type": "code",
   "execution_count": 3,
   "id": "differential-information",
   "metadata": {},
   "outputs": [],
   "source": [
    "# export\n",
    "# hide\n",
    "\n",
    "def cmr_murd_objective_function(data_to_fit, fixed_parameters, free_parameters):\n",
    "    \"\"\"\n",
    "    Configures cmr_likelihood for search over specified free/fixed parameters.\n",
    "    \"\"\"\n",
    "    return lambda x: cmr_murd_likelihood(data_to_fit, **{**fixed_parameters, **{\n",
    "        free_parameters[i]:x[i] for i in range(len(x))}})"
   ]
  },
  {
   "cell_type": "code",
   "execution_count": 4,
   "id": "liable-howard",
   "metadata": {},
   "outputs": [
    {
     "data": {
      "text/markdown": [
       "<h3 id=\"cmr_murd_likelihood\" class=\"doc_header\"><code>cmr_murd_likelihood</code><a href=\"__main__.py#L9\" class=\"source_link\" style=\"float:right\">[source]</a></h3>\n",
       "\n",
       "> <code>cmr_murd_likelihood</code>(**`data_to_fit`**, **`item_counts`**, **`encoding_drift_rate`**, **`start_drift_rate`**, **`recall_drift_rate`**, **`shared_support`**, **`item_support`**, **`learning_rate`**, **`primacy_scale`**, **`primacy_decay`**, **`stop_probability_scale`**, **`stop_probability_growth`**, **`choice_sensitivity`**)\n",
       "\n",
       "Cost function for fitting the CMR model.\n",
       "\n",
       "Output scales inversely with the likelihood that the model and specified \n",
       "parameters would generate the specified trials. For model fitting, is \n",
       "usually wrapped in another function that fixes and frees parameters for \n",
       "optimization.\n",
       "\n",
       "**Arguments**:\n",
       "- trials: int64-array where rows identify a unique trial of responses and \n",
       "  columns corresponds to a unique recall index.  \n",
       "- A configuration for each parameter of [`CMR`](/instance_cmr/PrototypeCMR.html#CMR).\n",
       "\n",
       "**Returns** the negative sum of log-likelihoods across specified trials \n",
       "conditional on the specified parameters and the mechanisms of InstanceCMR."
      ],
      "text/plain": [
       "<IPython.core.display.Markdown object>"
      ]
     },
     "metadata": {},
     "output_type": "display_data"
    },
    {
     "data": {
      "text/markdown": [
       "<h3 id=\"cmr_murd_objective_function\" class=\"doc_header\"><code>cmr_murd_objective_function</code><a href=\"__main__.py#L4\" class=\"source_link\" style=\"float:right\">[source]</a></h3>\n",
       "\n",
       "> <code>cmr_murd_objective_function</code>(**`data_to_fit`**, **`fixed_parameters`**, **`free_parameters`**)\n",
       "\n",
       "Configures cmr_likelihood for search over specified free/fixed parameters."
      ],
      "text/plain": [
       "<IPython.core.display.Markdown object>"
      ]
     },
     "metadata": {},
     "output_type": "display_data"
    }
   ],
   "source": [
    "try:\n",
    "    show_doc(cmr_murd_likelihood, title_level=3)\n",
    "    show_doc(cmr_murd_objective_function, title_level=3)\n",
    "except:\n",
    "    pass"
   ]
  },
  {
   "cell_type": "markdown",
   "id": "later-upset",
   "metadata": {},
   "source": [
    "## Single-Subject Demo"
   ]
  },
  {
   "cell_type": "markdown",
   "id": "upper-structure",
   "metadata": {},
   "source": [
    "Using these functions, we'll search for and visualize a parameter fit of the CMR model to a slice of data sampled from the classic Murdock (1962) study demonstrating the serial position curve, a pattern where early and later presented items tend to be recalled more often than middle items in a list-learning experiment. The data associated with the study is located at `data/MurdData_clean.mat`."
   ]
  },
  {
   "cell_type": "code",
   "execution_count": 5,
   "id": "miniature-greensboro",
   "metadata": {},
   "outputs": [
    {
     "name": "stdout",
     "output_type": "stream",
     "text": [
      "20 (1200, 15)\n"
     ]
    },
    {
     "data": {
      "text/html": [
       "<div>\n",
       "<style scoped>\n",
       "    .dataframe tbody tr th:only-of-type {\n",
       "        vertical-align: middle;\n",
       "    }\n",
       "\n",
       "    .dataframe tbody tr th {\n",
       "        vertical-align: top;\n",
       "    }\n",
       "\n",
       "    .dataframe thead th {\n",
       "        text-align: right;\n",
       "    }\n",
       "</style>\n",
       "<table border=\"1\" class=\"dataframe\">\n",
       "  <thead>\n",
       "    <tr style=\"text-align: right;\">\n",
       "      <th></th>\n",
       "      <th>subject</th>\n",
       "      <th>list</th>\n",
       "      <th>item</th>\n",
       "      <th>input</th>\n",
       "      <th>output</th>\n",
       "      <th>study</th>\n",
       "      <th>recall</th>\n",
       "      <th>repeat</th>\n",
       "      <th>intrusion</th>\n",
       "    </tr>\n",
       "  </thead>\n",
       "  <tbody>\n",
       "    <tr>\n",
       "      <th>0</th>\n",
       "      <td>1</td>\n",
       "      <td>1</td>\n",
       "      <td>1</td>\n",
       "      <td>1</td>\n",
       "      <td>5.0</td>\n",
       "      <td>True</td>\n",
       "      <td>True</td>\n",
       "      <td>0</td>\n",
       "      <td>False</td>\n",
       "    </tr>\n",
       "    <tr>\n",
       "      <th>1</th>\n",
       "      <td>1</td>\n",
       "      <td>1</td>\n",
       "      <td>2</td>\n",
       "      <td>2</td>\n",
       "      <td>7.0</td>\n",
       "      <td>True</td>\n",
       "      <td>True</td>\n",
       "      <td>0</td>\n",
       "      <td>False</td>\n",
       "    </tr>\n",
       "    <tr>\n",
       "      <th>2</th>\n",
       "      <td>1</td>\n",
       "      <td>1</td>\n",
       "      <td>3</td>\n",
       "      <td>3</td>\n",
       "      <td>NaN</td>\n",
       "      <td>True</td>\n",
       "      <td>False</td>\n",
       "      <td>0</td>\n",
       "      <td>False</td>\n",
       "    </tr>\n",
       "    <tr>\n",
       "      <th>3</th>\n",
       "      <td>1</td>\n",
       "      <td>1</td>\n",
       "      <td>4</td>\n",
       "      <td>4</td>\n",
       "      <td>NaN</td>\n",
       "      <td>True</td>\n",
       "      <td>False</td>\n",
       "      <td>0</td>\n",
       "      <td>False</td>\n",
       "    </tr>\n",
       "    <tr>\n",
       "      <th>4</th>\n",
       "      <td>1</td>\n",
       "      <td>1</td>\n",
       "      <td>5</td>\n",
       "      <td>5</td>\n",
       "      <td>NaN</td>\n",
       "      <td>True</td>\n",
       "      <td>False</td>\n",
       "      <td>0</td>\n",
       "      <td>False</td>\n",
       "    </tr>\n",
       "  </tbody>\n",
       "</table>\n",
       "</div>"
      ],
      "text/plain": [
       "   subject  list  item  input  output  study  recall  repeat  intrusion\n",
       "0        1     1     1      1     5.0   True    True       0      False\n",
       "1        1     1     2      2     7.0   True    True       0      False\n",
       "2        1     1     3      3     NaN   True   False       0      False\n",
       "3        1     1     4      4     NaN   True   False       0      False\n",
       "4        1     1     5      5     NaN   True   False       0      False"
      ]
     },
     "execution_count": 5,
     "metadata": {},
     "output_type": "execute_result"
    }
   ],
   "source": [
    "from instance_cmr.datasets import *\n",
    "\n",
    "murd_trials0, murd_events0, murd_length0 = prepare_murddata(\n",
    "    '../../../data/MurdData_clean.mat', 0)\n",
    "print(murd_length0, np.shape(murd_trials0))\n",
    "\n",
    "murd_events0.head()"
   ]
  },
  {
   "cell_type": "markdown",
   "id": "danish-precipitation",
   "metadata": {},
   "source": [
    "First, we'll make sure `cmr_murd_likelihood` returns valid values and has adequate performance."
   ]
  },
  {
   "cell_type": "code",
   "execution_count": 6,
   "id": "suited-technology",
   "metadata": {},
   "outputs": [
    {
     "data": {
      "text/plain": [
       "1638.1388612098433"
      ]
     },
     "execution_count": 6,
     "metadata": {},
     "output_type": "execute_result"
    }
   ],
   "source": [
    "lb = np.finfo(float).eps\n",
    "hand_fit_parameters = {\n",
    "    'item_counts': List([murd_length0]),\n",
    "    'encoding_drift_rate': .8,\n",
    "    'start_drift_rate': .7,\n",
    "    'recall_drift_rate': .8,\n",
    "    'shared_support': 0.01,\n",
    "    'item_support': 1.0,\n",
    "    'learning_rate': .3,\n",
    "    'primacy_scale': 1,\n",
    "    'primacy_decay': 1,\n",
    "    'stop_probability_scale': 0.01,\n",
    "    'stop_probability_growth': 0.3,\n",
    "    'choice_sensitivity': 2\n",
    "}\n",
    "cmr_murd_likelihood(List([murd_trials0[:80]]), **hand_fit_parameters)"
   ]
  },
  {
   "cell_type": "code",
   "execution_count": 7,
   "id": "conventional-programming",
   "metadata": {},
   "outputs": [
    {
     "name": "stdout",
     "output_type": "stream",
     "text": [
      "1.9 ms ± 31.7 µs per loop (mean ± std. dev. of 7 runs, 1000 loops each)\n"
     ]
    }
   ],
   "source": [
    "%%timeit\n",
    "cmr_murd_likelihood(List([murd_trials0[:80]]), **hand_fit_parameters)"
   ]
  },
  {
   "cell_type": "markdown",
   "id": "finite-record",
   "metadata": {},
   "source": [
    "Now we perform the single subject fitting..."
   ]
  },
  {
   "cell_type": "code",
   "execution_count": null,
   "id": "blond-country",
   "metadata": {},
   "outputs": [],
   "source": [
    "from scipy.optimize import differential_evolution\n",
    "import numpy as np\n",
    "\n",
    "free_parameters = [\n",
    "    'encoding_drift_rate',\n",
    "    'start_drift_rate',\n",
    "    'recall_drift_rate',\n",
    "    'shared_support',\n",
    "    'item_support',\n",
    "    'learning_rate',\n",
    "    'primacy_scale',\n",
    "    'primacy_decay',\n",
    "    'stop_probability_scale',\n",
    "    'stop_probability_growth',\n",
    "    'choice_sensitivity']\n",
    "\n",
    "lb = np.finfo(float).eps\n",
    "ub = 1-np.finfo(float).eps\n",
    "\n",
    "bounds = [\n",
    "    (lb, ub),\n",
    "    (lb, ub),\n",
    "    (lb, ub),\n",
    "    (lb, ub),\n",
    "    (lb, ub),\n",
    "    (lb, ub),\n",
    "    (lb, 100),\n",
    "    (lb, 100),\n",
    "    (lb, ub),\n",
    "    (lb, 10),\n",
    "    (lb, 10)\n",
    "]\n",
    "\n",
    "# cost function to be minimized\n",
    "# ours scales inversely with the probability that the data could have been \n",
    "# generated using the specified parameters and our model\n",
    "cost_function = cmr_murd_objective_function(\n",
    "    List([murd_trials0[:80]]), \n",
    "    {'item_counts': List([murd_length0])}, free_parameters)\n",
    "\n",
    "result = differential_evolution(cost_function, bounds, disp=True)\n",
    "print(result)"
   ]
  },
  {
   "cell_type": "markdown",
   "id": "worst-thriller",
   "metadata": {},
   "source": [
    "For the first subject in our murd_trials data structure, the function runs quickly returns an output with the following attributes:\n",
    "\n",
    "```\n",
    "     fun: 1443.7844998026485\n",
    " message: 'Optimization terminated successfully.'\n",
    "    nfev: 9441\n",
    "     nit: 56\n",
    " success: True\n",
    "       x: array([0.58357356, 0.00943967, 0.66907882, 0.24216787, 0.97648943,\n",
    "       0.08688427, 9.12889605, 1.79134438, 0.01805572, 0.34196481,\n",
    "       4.87387628])\n",
    "```\n",
    "\n",
    "The `x` attribute of the result object contains the best parameter configuration found, while the `fun` attribute represents the overall cost of the configuration as computed with our specified cost function. "
   ]
  },
  {
   "cell_type": "markdown",
   "id": "split-admission",
   "metadata": {},
   "source": [
    "We can visually compare the behavior of the model with these parameters against the data it's fitted to with a new\n",
    "`visualize_fit` function."
   ]
  },
  {
   "cell_type": "code",
   "execution_count": 17,
   "id": "purple-response",
   "metadata": {},
   "outputs": [],
   "source": [
    "# export\n",
    "# hide\n",
    "\n",
    "import pandas as pd\n",
    "import seaborn as sns\n",
    "from psifr import fr\n",
    "import matplotlib.pyplot as plt\n",
    "\n",
    "def visualize_fit(\n",
    "    model_class, parameters, data, data_query=None, experiment_count=1000, savefig=False):\n",
    "    \"\"\"\n",
    "    Apply organizational analyses to visually compare the behavior of the model \n",
    "    with these parameters against specified dataset.\n",
    "    \"\"\"\n",
    "    \n",
    "    # generate simulation data from model\n",
    "    model = model_class(**parameters)\n",
    "    try:\n",
    "        model.experience(np.eye(model.item_count, model.item_count + 1, 1))\n",
    "    except ValueError:\n",
    "        model.experience(np.eye(model.item_count, model.item_count))\n",
    "    sim = []\n",
    "    for experiment in range(experiment_count):\n",
    "        sim += [[experiment, 0, 'study', i + 1, i] for i in range(model.item_count)]\n",
    "    for experiment in range(experiment_count):\n",
    "        sim += [[experiment, 0, 'recall', i + 1, o] for i, o in enumerate(model.free_recall())]\n",
    "    sim = pd.DataFrame(sim, columns=['subject', 'list', 'trial_type', 'position', 'item'])\n",
    "    sim_data = fr.merge_free_recall(sim)\n",
    "    \n",
    "    # generate simulation-based spc, pnr, lag_crp\n",
    "    sim_spc = fr.spc(sim_data).reset_index()\n",
    "    sim_pfr = fr.pnr(sim_data).query('output <= 1') .reset_index()\n",
    "    sim_lag_crp = fr.lag_crp(sim_data).reset_index()\n",
    "    \n",
    "    # generate data-based spc, pnr, lag_crp\n",
    "    data_spc = fr.spc(data).query(data_query).reset_index()\n",
    "    data_pfr = fr.pnr(data).query('output <= 1').query(data_query).reset_index()\n",
    "    data_lag_crp = fr.lag_crp(data).query(data_query).reset_index()\n",
    "    \n",
    "    # combine representations\n",
    "    data_spc['Source'] = 'Data'\n",
    "    sim_spc['Source'] = model_class.__name__\n",
    "    combined_spc = pd.concat([data_spc, sim_spc], axis=0)\n",
    "    \n",
    "    data_pfr['Source'] = 'Data'\n",
    "    sim_pfr['Source'] = model_class.__name__\n",
    "    combined_pfr = pd.concat([data_pfr, sim_pfr], axis=0)\n",
    "    \n",
    "    data_lag_crp['Source'] = 'Data'\n",
    "    sim_lag_crp['Source'] = model_class.__name__\n",
    "    combined_lag_crp = pd.concat([data_lag_crp, sim_lag_crp], axis=0)\n",
    "    \n",
    "    # generate plots of result\n",
    "    # spc\n",
    "    g = sns.FacetGrid(dropna=False, data=combined_spc)\n",
    "    g.map_dataframe(sns.lineplot, x='input', y='recall', hue='Source')\n",
    "    g.set_xlabels('Serial position')\n",
    "    g.set_ylabels('Recall probability')\n",
    "    plt.title('P(Recall) by Serial Position Curve')\n",
    "    g.add_legend()\n",
    "    g.set(ylim=(0, 1))\n",
    "    if savefig:\n",
    "        plt.savefig('figures/{}_fit_spc.jpeg'.format(model_class.__name__), bbox_inches='tight')\n",
    "    else:\n",
    "        plt.show()\n",
    "    \n",
    "    #pdf\n",
    "    h = sns.FacetGrid(dropna=False, data=combined_pfr)\n",
    "    h.map_dataframe(sns.lineplot, x='input', y='prob', hue='Source')\n",
    "    h.set_xlabels('Serial position')\n",
    "    h.set_ylabels('Probability of First Recall')\n",
    "    plt.title('P(First Recall) by Serial Position')\n",
    "    h.add_legend()\n",
    "    h.set(ylim=(0, 1))\n",
    "    if savefig:\n",
    "        plt.savefig('figures/{}_fit_pfr.jpeg'.format(model_class.__name__), bbox_inches='tight')\n",
    "    else:\n",
    "        plt.show()\n",
    "    \n",
    "    # lag crp\n",
    "    max_lag = 5\n",
    "    filt_neg = f'{-max_lag} <= lag < 0'\n",
    "    filt_pos = f'0 < lag <= {max_lag}'\n",
    "    i = sns.FacetGrid(dropna=False, data=combined_lag_crp)\n",
    "    i.map_dataframe(\n",
    "        lambda data, **kws: sns.lineplot(data=data.query(filt_neg),\n",
    "                                         x='lag', y='prob', hue='Source', **kws))\n",
    "    i.map_dataframe(\n",
    "        lambda data, **kws: sns.lineplot(data=data.query(filt_pos),\n",
    "                                         x='lag', y='prob', hue='Source', **kws))\n",
    "    i.set_xlabels('Lag')\n",
    "    i.set_ylabels('Recall Probability')\n",
    "    plt.title('Recall Probability by Item Lag')\n",
    "    i.add_legend()\n",
    "    i.set(ylim=(0, 1))\n",
    "    if savefig:\n",
    "        plt.savefig('figures/{}_fit_crp.jpeg'.format(model_class.__name__), bbox_inches='tight')\n",
    "    else:\n",
    "        plt.show()"
   ]
  },
  {
   "cell_type": "code",
   "execution_count": 19,
   "id": "broke-genealogy",
   "metadata": {},
   "outputs": [
    {
     "data": {
      "image/png": "[encoded data removed]",
      "text/plain": [
       "<Figure size 275.875x216 with 1 Axes>"
      ]
     },
     "metadata": {
      "needs_background": "light"
     },
     "output_type": "display_data"
    },
    {
     "data": {
      "image/png": "[encoded data removed]",
      "text/plain": [
       "<Figure size 275.875x216 with 1 Axes>"
      ]
     },
     "metadata": {
      "needs_background": "light"
     },
     "output_type": "display_data"
    },
    {
     "data": {
      "image/png": "[encoded data removed]",
      "text/plain": [
       "<Figure size 275.875x216 with 1 Axes>"
      ]
     },
     "metadata": {
      "needs_background": "light"
     },
     "output_type": "display_data"
    }
   ],
   "source": [
    "parameters = {\n",
    "    'item_count':murd_length0,\n",
    "    'presentation_count': murd_length0\n",
    "}\n",
    "\n",
    "visualize_fit(CMR, \n",
    "              {**parameters, \n",
    "               **{free_parameters[i]:result.x[i] for i in range(len(result.x))}}, \n",
    "              murd_events0, 'subject == 1', experiment_count=1000, savefig=True)"
   ]
  }
 ],
 "metadata": {
  "kernelspec": {
   "display_name": "Python 3",
   "language": "python",
   "name": "python3"
  },
  "language_info": {
   "codemirror_mode": {
    "name": "ipython",
    "version": 3
   },
   "file_extension": ".py",
   "mimetype": "text/x-python",
   "name": "python",
   "nbconvert_exporter": "python",
   "pygments_lexer": "ipython3",
   "version": "3.8.5"
  }
 },
 "nbformat": 4,
 "nbformat_minor": 5
}

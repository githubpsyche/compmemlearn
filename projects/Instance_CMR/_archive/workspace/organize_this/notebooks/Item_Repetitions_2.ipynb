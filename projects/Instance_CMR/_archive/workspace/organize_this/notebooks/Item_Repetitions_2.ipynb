{
 "cells": [
  {
   "cell_type": "markdown",
   "id": "changed-stocks",
   "metadata": {},
   "source": [
    "## Initial Simulations"
   ]
  },
  {
   "cell_type": "markdown",
   "id": "ecological-stanley",
   "metadata": {},
   "source": [
    "A straightforward way to initiate analysis of how the models might differentially handle item repetitions is to measure how the probability of recalling an item given a static contextual cue changes as the item is repeatedly encoded. We expect it to increase linearly (by $x^{\\tau}$) with respect to `InstanceCMR`, but exponentially within `CMR`. If this reasoning survives scrutiny, that's a big deal.\n",
    "\n",
    "Parameters, contextual cue, and repeated item shouldn't matter here. We'll try to set them to values that aren't distracting and vary them to ensure our simulation results aren't contingent on any particular configuration."
   ]
  },
  {
   "cell_type": "code",
   "execution_count": 1,
   "id": "corporate-priest",
   "metadata": {},
   "outputs": [
    {
     "ename": "ModuleNotFoundError",
     "evalue": "No module named 'instance_cmr'",
     "output_type": "error",
     "traceback": [
      "\u001b[1;31m---------------------------------------------------------------------------\u001b[0m",
      "\u001b[1;31mModuleNotFoundError\u001b[0m                       Traceback (most recent call last)",
      "\u001b[1;32m~\\AppData\\Local\\Temp/ipykernel_1488/3495788480.py\u001b[0m in \u001b[0;36m<module>\u001b[1;34m\u001b[0m\n\u001b[0;32m      1\u001b[0m \u001b[1;31m#%env NUMBA_DISABLE_JIT 1\u001b[0m\u001b[1;33m\u001b[0m\u001b[1;33m\u001b[0m\u001b[1;33m\u001b[0m\u001b[0m\n\u001b[0;32m      2\u001b[0m \u001b[1;33m\u001b[0m\u001b[0m\n\u001b[1;32m----> 3\u001b[1;33m \u001b[1;32mfrom\u001b[0m \u001b[0minstance_cmr\u001b[0m\u001b[1;33m.\u001b[0m\u001b[0mmodels\u001b[0m \u001b[1;32mimport\u001b[0m \u001b[1;33m*\u001b[0m\u001b[1;33m\u001b[0m\u001b[1;33m\u001b[0m\u001b[0m\n\u001b[0m\u001b[0;32m      4\u001b[0m \u001b[1;32mfrom\u001b[0m \u001b[0minstance_cmr\u001b[0m\u001b[1;33m.\u001b[0m\u001b[0mmodel_analysis\u001b[0m \u001b[1;32mimport\u001b[0m \u001b[1;33m*\u001b[0m\u001b[1;33m\u001b[0m\u001b[1;33m\u001b[0m\u001b[0m\n\u001b[0;32m      5\u001b[0m \u001b[1;32mimport\u001b[0m \u001b[0mnumpy\u001b[0m \u001b[1;32mas\u001b[0m \u001b[0mnp\u001b[0m\u001b[1;33m\u001b[0m\u001b[1;33m\u001b[0m\u001b[0m\n",
      "\u001b[1;31mModuleNotFoundError\u001b[0m: No module named 'instance_cmr'"
     ]
    }
   ],
   "source": [
    "#%env NUMBA_DISABLE_JIT 1\n",
    "\n",
    "from instance_cmr.models import *\n",
    "from instance_cmr.model_analysis import *\n",
    "import numpy as np\n",
    "import matplotlib.pyplot as plt\n",
    "\n",
    "experiment_count = 1000"
   ]
  },
  {
   "cell_type": "markdown",
   "id": "stainless-aurora",
   "metadata": {},
   "source": [
    "### InstanceCMR With Instance-Based Choice Sensitivity"
   ]
  },
  {
   "cell_type": "code",
   "execution_count": 11,
   "id": "endangered-metadata",
   "metadata": {},
   "outputs": [
    {
     "data": {
      "image/png": "[encoded data removed]",
      "text/plain": [
       "<Figure size 432x288 with 1 Axes>"
      ]
     },
     "metadata": {
      "needs_background": "light"
     },
     "output_type": "display_data"
    }
   ],
   "source": [
    "# selected parameters\n",
    "parameters = {\n",
    "    'item_count': 20,\n",
    "    'presentation_count': 70,\n",
    "    'encoding_drift_rate': 7.50643542e-01,\n",
    "    'start_drift_rate': 1.42483068e-02,\n",
    "    'recall_drift_rate': 8.99035619e-01,\n",
    "    'shared_support': 9.60870298e-04,\n",
    "    'item_support': 2.30959697e-01,\n",
    "    'learning_rate': 9.61676960e-02,\n",
    "    'primacy_scale': 7.80989503e+00,\n",
    "    'primacy_decay': 6.29317080e+01,\n",
    "    'stop_probability_scale': 3.44289419e-02,\n",
    "    'stop_probability_growth': 2.57667853e-01,\n",
    "    'choice_sensitivity': 1,\n",
    "    'context_sensitivity': 1.20133645e+00,\n",
    "    'feature_sensitivity': 1,\n",
    "}\n",
    "\n",
    "results = np.zeros((experiment_count, 1+parameters['presentation_count']-parameters['item_count']))\n",
    "\n",
    "for experiment in range(experiment_count):\n",
    "    # arbitrary item and contextual cue\n",
    "    repeated_item = 0\n",
    "    #cue = np.concatenate((np.zeros(parameters['item_count']+1), np.random.rand(parameters['item_count']+1)))\n",
    "\n",
    "    # initialize model\n",
    "    model = InstanceCMR(**parameters)\n",
    "    \n",
    "    model.experience(np.eye(parameters['item_count'], parameters['item_count'] + 1, 1))\n",
    "    results[experiment, 0] = np.nan # model.outcome_probabilities(cue)[repeated_item+1]\n",
    "    \n",
    "    # track outcome probability of selected item as it is repeatedly encoded\n",
    "    for i in range(parameters['presentation_count']-parameters['item_count']):\n",
    "        \n",
    "        model.experience(np.eye(parameters['item_count'], parameters['item_count'] + 1, 1)[repeated_item:repeated_item+1])\n",
    "        \n",
    "        if i == 0:\n",
    "            cue = np.concatenate((np.zeros(parameters['item_count']+1), model.context))\n",
    "        \n",
    "        # cue = np.concatenate((np.zeros(parameters['item_count']+1), model.context)) # for when i want context to be the cue\n",
    "        results[experiment, i+1] = model.outcome_probabilities(cue)[repeated_item+1]\n",
    "\n",
    "# plot an example trial    \n",
    "#print('repeated item:\\n', repeated_item, np.eye(parameters['item_count'], parameters['item_count'] + 1, 1)[repeated_item:repeated_item+1])\n",
    "#print('cue:\\n', cue)\n",
    "#print('outcome probability for repeated item:\\n', results[-1])\n",
    "#plot_states(model.memory, \"memory\")\n",
    "\n",
    "plt.plot(np.mean(results, axis=0))\n",
    "plt.title('InstanceCMR Average Increase in Recall Probability of Repeated Item')\n",
    "plt.show()"
   ]
  },
  {
   "cell_type": "code",
   "execution_count": 12,
   "id": "satellite-karaoke",
   "metadata": {},
   "outputs": [
    {
     "data": {
      "image/png": "[encoded data removed]",
      "text/plain": [
       "<Figure size 432x288 with 1 Axes>"
      ]
     },
     "metadata": {
      "needs_background": "light"
     },
     "output_type": "display_data"
    }
   ],
   "source": [
    "# selected parameters\n",
    "parameters = {\n",
    "    'item_count': 20,\n",
    "    'presentation_count': 70,\n",
    "    'encoding_drift_rate': 0.54926441,\n",
    "    'start_drift_rate': 0.12884982,\n",
    "    'recall_drift_rate': 0.74057096,\n",
    "    'shared_support': 0.26469486,\n",
    "    'item_support': 0.18835232,\n",
    "    'learning_rate': 0.18321188,\n",
    "    'primacy_scale': 2.88148434,\n",
    "    'primacy_decay': 30.13008952,\n",
    "    'stop_probability_scale': 0.04958878,\n",
    "    'stop_probability_growth': 0.21112143,\n",
    "    'choice_sensitivity':  5.58388858,\n",
    "}\n",
    "\n",
    "\n",
    "results = np.zeros((experiment_count, 1+parameters['presentation_count']-parameters['item_count']))\n",
    "\n",
    "for experiment in range(experiment_count):\n",
    "    # arbitrary item and contextual cue\n",
    "    repeated_item = 0\n",
    "    #cue = np.random.rand(parameters['item_count'] + 1)\n",
    "\n",
    "    # initialize model\n",
    "    model = CMR(**parameters)\n",
    "    cue = model.context\n",
    "    model.experience(np.eye(parameters['item_count'], parameters['item_count']))\n",
    "    results[experiment, 0] = np.nan #model.outcome_probabilities(cue)[repeated_item+1]\n",
    "    \n",
    "    # track outcome probability of selected item as it is repeatedly encoded\n",
    "    for i in range(parameters['presentation_count']-parameters['item_count']):\n",
    "        \n",
    "        model.experience(np.eye(parameters['item_count'], parameters['item_count'])[repeated_item:repeated_item+1])\n",
    "        \n",
    "        if i == 0:\n",
    "            cue = model.context\n",
    "        \n",
    "        #cue = model.context # for when i want context to be the cue\n",
    "        results[experiment, i+1] = model.outcome_probabilities(cue)[repeated_item+1]\n",
    "        \n",
    "# plot an example trial    \n",
    "#print('repeated item:\\n', repeated_item, np.eye(parameters['item_count'], parameters['item_count'])[repeated_item:repeated_item+1])\n",
    "#print('cue:\\n', cue)\n",
    "#print('outcome probability for repeated item:\\n', results[-1])\n",
    "#plot_states(model.mcf, \"memory\")\n",
    "\n",
    "import matplotlib.pyplot as plt\n",
    "\n",
    "plt.plot(np.mean(results, axis=0))\n",
    "plt.title('CMR Average Increase in Recall Probability of Repeated Item')\n",
    "plt.show()"
   ]
  },
  {
   "cell_type": "code",
   "execution_count": null,
   "id": "convinced-radiation",
   "metadata": {},
   "outputs": [],
   "source": []
  }
 ],
 "metadata": {
  "kernelspec": {
   "display_name": "Python 3 (ipykernel)",
   "language": "python",
   "name": "python3"
  },
  "language_info": {
   "codemirror_mode": {
    "name": "ipython",
    "version": 3
   },
   "file_extension": ".py",
   "mimetype": "text/x-python",
   "name": "python",
   "nbconvert_exporter": "python",
   "pygments_lexer": "ipython3",
   "version": "3.9.1"
  }
 },
 "nbformat": 4,
 "nbformat_minor": 5
}

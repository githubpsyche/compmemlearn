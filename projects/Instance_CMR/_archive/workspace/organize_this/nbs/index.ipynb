{
 "cells": [
  {
   "cell_type": "markdown",
   "id": "french-tampa",
   "metadata": {},
   "source": [
    "# Instance CMR\n",
    "> implementing and exploring an instance-based implementation of the context maintenance and retrieval (CMR) model. "
   ]
  },
  {
   "cell_type": "markdown",
   "id": "determined-palace",
   "metadata": {},
   "source": [
    "In retrieved context accounts of memory search such as the Context\n",
    "Maintenance and Retrieval (CMR) model (Polyn et al., 2009),\n",
    "representations of studied items in a free recall experiment are\n",
    "associated with an internal representation of context that changes\n",
    "slowly during the study period. These associations in turn account for\n",
    "organizational effects in recall sequences, such as the tendency for\n",
    "related items to be recalled successively.\n",
    "\n",
    "Specifications of the model tend to characterize these dynamics in terms\n",
    "of a simplified neural network, as building a single prototypical\n",
    "pattern of associations between each item and context (and vice versa)\n",
    "across experience. By contrast, models of categorization and other\n",
    "memory phenomena have increasingly converged on instance-based accounts\n",
    "(Hintzman, 1984) that conceptualize memory as a stack of trace vectors\n",
    "that each represent discrete experiences and support recall through\n",
    "parallel activation based on similarity to a probe.\n",
    "\n",
    "To investigate the consequences of this distinction, we present an\n",
    "instance-based specification of CMR that encodes associations between\n",
    "studied items and context by instantiating memory traces corresponding\n",
    "to each experience, and drives recall through context-based coactivation\n",
    "of those traces. We analyze the model&rsquo;s ability to account for\n",
    "traditional phenomena that have been used as support for the original\n",
    "prototypical specification of CMR, evaluate conditions under which the\n",
    "specifications might behave differently, and explore the model&rsquo;s\n",
    "capacity for integration with existing instance-based models to\n",
    "elucidate a broader collection of memory phenomena."
   ]
  },
  {
   "cell_type": "markdown",
   "id": "exposed-number",
   "metadata": {},
   "source": [
    "## Features"
   ]
  },
  {
   "cell_type": "markdown",
   "id": "later-sense",
   "metadata": {},
   "source": [
    "- Thoroughly optimized and documented implementations of CMR, InstanceCMR, and related models, including benchmarks and parameter bounds\n",
    "- A small library of utilities supporting model analysis, including state visualization and parameter fitting\n",
    "- Tutorial notebooks outlining typical workflows to use and extend this codebase in various contexts\n",
    "- Various simulation experiments developing a detailed account of how an instance-based architecture shapes model predictions"
   ]
  },
  {
   "cell_type": "markdown",
   "id": "through-citizen",
   "metadata": {},
   "source": [
    "## Getting Started"
   ]
  },
  {
   "cell_type": "markdown",
   "id": "signal-james",
   "metadata": {},
   "source": [
    "To learn about the model, corresponding analyses, and the accompanying library of helper functions, check out the [project docs](https://vucml.github.io/instance_cmr/) and peruse its sidebar. Pages contain links to their corresponding IPython notebooks, both within this repository as well as for use on Google Colaboratory, a free, cloud-based Jupyter environment with GPU capabilities.\n",
    "\n",
    "While this repository mainly exists to organize and preserve analysis related to InstanceCMR, we include and maintain a library of functions and classes available for reuse in new contexts. This library is maintained in the `instance_cmr/` subdirectory. \n",
    "\n",
    "Currently, the best way to install the library is to perform an [editable install](https://stackoverflow.com/questions/35064426/when-would-the-e-editable-option-be-useful-with-pip-install): upon installation, library functions will be usable anywhere in the relevant environment. Perform this by cloning the repository and at its root using the command `pip install -e .`."
   ]
  },
  {
   "cell_type": "markdown",
   "id": "disciplinary-occasions",
   "metadata": {},
   "source": [
    "## Background"
   ]
  },
  {
   "cell_type": "markdown",
   "id": "deadly-amsterdam",
   "metadata": {},
   "source": [
    "Retrieved context theories of human memory search have seem sustained\n",
    "development over the last few decades (for example, Howard & Kahana,\n",
    "2002; Morton & Polyn, 2016; Polyn et al., 2009). According to these\n",
    "theories, experiences are encoded into memory associated with an\n",
    "internal representation of temporal context whose content itself\n",
    "gradually evolves to reflect the content of recent experience. Later on\n",
    "during retrieval, this same dynamic contextual representation is used to\n",
    "search through and retrieve experiences from memory. With these\n",
    "mechanisms, retrieved context modelsave been formalized within various\n",
    "computational models that can explain an increasingly broad class of\n",
    "phenomena, including but not limited to temporal organizational effects\n",
    "in explicit memory (Polyn et al., 2009; Schwartz et al., 2005; Siegel &\n",
    "Kahana, 2014), financial decision making (Wachter & Kahana, 2019),\n",
    "emotion regulation (Talmi et al., 2019), and signal dynamics in the medial \n",
    "temporal lobe (Kragel et al., 2015).\n",
    "Further model development has integrated retrieved context accounts of\n",
    "memory search with theories of semantic knowledge (Morton & Polyn, 2016)\n",
    "and aging-related change (Healey & Kahana, 2016).\n",
    "\n",
    "While retrieved context theories have been wielded to explain behavior\n",
    "and other dynamics across a wide variety of conditions, a plurality\n",
    "progress on formal accounts of memory encoding and search has emphasized\n",
    "understanding of performance under the free and serial recall task\n",
    "paradigms (Murdock Jr, 1962). Under these paradigms, during a study\n",
    "phase, research participants are presented a sequence of items to\n",
    "memorize, traditionally a set of semantically distinct words\n",
    "consecutively replacing one another on a display after a static delay.\n",
    "Then after a potential delay or distraction task, for the response phase\n",
    "participants are prompted to recall as many items from the item set as\n",
    "possible. In a free recall task, participants are instructed to recall\n",
    "these items in whichever order they come into mind; under serial recall,\n",
    "though, participants attempt to recall the items in the order in which\n",
    "they were originally presented. The form, content, interspersion\n",
    "between, and presumably countless other features of these item sequences\n",
    "can vary extensively across experiments depending on the research\n",
    "question under consideration, but in all cases the paradigm enables\n",
    "scrutiny both of the availability of encoded items for largely\n",
    "endogenously cued retrieval as well of the order by which items are\n",
    "retrieved, a factor that has provided enormous insight into the\n",
    "structure of representations build during item encoding and the\n",
    "processes used to search for and retrieve information from them.\n",
    "\n",
    "In both serial and free recall tasks, two main effects are generally\n",
    "observed in analyses, producing plots called serial position curves,\n",
    "relating the ordering by which items are presented for encoding with the\n",
    "rate at which they are recalled (Murdock Jr, 1962). First, in a pattern\n",
    "called the *primacy effect*, higher rates of recall are observed for\n",
    "items near the start of a list. Secondly, better recall is observed for\n",
    "items near the end of a list in a pattern called the recency effect. As\n",
    "a result of these two patterns, serial position curves in the list\n",
    "memory literature are generally U-shaped.\n",
    "\n",
    "While primacy can be observed as a higher recall rate for early serial\n",
    "positions as exhibited in a serial position curve, another way to\n",
    "analyze primacy is to consider for each serial position in a study\n",
    "sequence the rate at which an item will be recalled first. Pivotally, in\n",
    "list-based free recall tasks, participants tend to initiate recall with\n",
    "the most recently studied items from the list; however, in a serial\n",
    "recall task where participants are instructed to recall items in the\n",
    "order in which they were presented rather than freely, participants tend\n",
    "to successfully recall the earliest presented items first (e.g. in\n",
    "Golomb, Peelle, Addis, Kahana and Wingfield, 2008). These results\n",
    "demonstrate not just enhanced memory for items near the start or end of\n",
    "lists, but also strong memory for their positions within those lists.\n",
    "\n",
    "However, the feature of recall performance that most organizes the\n",
    "premises of retrieved context theories is the observation that temporal\n",
    "organization reliably pervades performance across the response phase of\n",
    "a recall task, not just for initial and terminal items or recall\n",
    "positions.\n",
    "\n",
    "FREE RECALL.\n",
    "\n",
    "TEMPORAL ORGANIZATION. PRIMACY EFFECT. RECENCY EFFECT. Analyses that\n",
    "generate them.\n",
    "\n",
    "Introduce CMR and go into detail about how it accounts for these\n",
    "patterns, conceptually not formally.\n",
    "\n",
    "Conflict: Introduction and review of the critique of distributional\n",
    "accounts of episodic memory, with suggestion of significance for\n",
    "accounts of memory search as well\n",
    "\n",
    "Discuss relative prominence of instance-based accounts of memory in\n",
    "other domains/tasks and review already existing work integrating\n",
    "contextual representations into instance-based models to account for\n",
    "memory\n",
    "\n",
    "Following this work, in this paper I present an instance-based\n",
    "implementation of CMR and use it as a site to explore the consequences\n",
    "of applying an instance-based model architecture to account for memory\n",
    "search.\n"
   ]
  },
  {
   "cell_type": "markdown",
   "id": "third-avenue",
   "metadata": {},
   "source": [
    "## References"
   ]
  },
  {
   "cell_type": "markdown",
   "id": "stuck-title",
   "metadata": {},
   "source": [
    "Healey, M. K., & Kahana, M. J. (2016). A four-component model of\n",
    "age-related memory change. *Psychological Review*, *123*(1), 23.\n",
    "\n",
    "Howard, M. W., & Kahana, M. J. (2002). A distributed representation of\n",
    "temporal context. *Journal of Mathematical Psychology*, *46*(3),\n",
    "269&ndash;299.\n",
    "\n",
    "Kragel, J. E., Morton, N. W., & Polyn, S. M. (2015). Neural activity in\n",
    "the medial temporal lobe reveals the fidelity of mental time travel.\n",
    "*Journal of Neuroscience*, *35*(7), 2914&ndash;2926.\n",
    "\n",
    "Morton, N. W., & Polyn, S. M. (2016). A predictive framework for\n",
    "evaluating models of semantic organization in free recall. *Journal of\n",
    "Memory and Language*, *86*, 119&ndash;140.\n",
    "\n",
    "Murdock Jr, B. B. (1962). The serial position effect of free recall.\n",
    "*Journal of Experimental Psychology*, *64*(5), 482.\n",
    "\n",
    "Polyn, S. M., Norman, K. A., & Kahana, M. J. (2009). A context\n",
    "maintenance and retrieval model of organizational processes in free\n",
    "recall. *Psychological Review*, *116*(1), 129.\n",
    "\n",
    "Schwartz, G., Howard, M. W., Jing, B., & Kahana, M. J. (2005). Shadows\n",
    "of the past: Temporal retrieval effects in recognition memory.\n",
    "*Psychological Science*, *16*(11), 898&ndash;904.\n",
    "\n",
    "Siegel, L. L., & Kahana, M. J. (2014). A retrieved context account of\n",
    "spacing and repetition effects in free recall. *Journal of Experimental\n",
    "Psychology: Learning, Memory, and Cognition*, *40*(3), 755.\n",
    "\n",
    "Talmi, D., Lohnas, L. J., & Daw, N. D. (2019). A retrieved context model\n",
    "of the emotional modulation of memory. *Psychological Review*, *126*(4),\n",
    "455.\n",
    "\n",
    "Wachter, J. A., & Kahana, M. J. (2019). *A retrieved-context theory of\n",
    "financial decisions*. National Bureau of Economic Research."
   ]
  }
 ],
 "metadata": {
  "jupytext": {
   "cell_metadata_filter": "-all",
   "main_language": "python",
   "notebook_metadata_filter": "-all"
  },
  "kernelspec": {
   "display_name": "Python 3",
   "language": "python",
   "name": "python3"
  },
  "language_info": {
   "codemirror_mode": {
    "name": "ipython",
    "version": 3
   },
   "file_extension": ".py",
   "mimetype": "text/x-python",
   "name": "python",
   "nbconvert_exporter": "python",
   "pygments_lexer": "ipython3",
   "version": "3.8.5"
  }
 },
 "nbformat": 4,
 "nbformat_minor": 5
}

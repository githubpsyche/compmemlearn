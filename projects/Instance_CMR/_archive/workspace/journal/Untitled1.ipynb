{
 "cells": [
  {
   "cell_type": "markdown",
   "id": "right-judges",
   "metadata": {},
   "source": [
    "# I want to organize my journal notebooks, which I seem to reliably like. What do I have?"
   ]
  },
  {
   "cell_type": "markdown",
   "id": "aquatic-arctic",
   "metadata": {},
   "source": [
    "## ICMR\n",
    "Seems timed to February. I was sort of frozen then; had no idea how to pull the project together. In particular, I couldn't come up with a well-motivated follow-up analysis. I eventually settled on the repetition analyses, but that didn't turn out to actually work!\n",
    "\n",
    "To address the gap, I made a list of \"Stuff Instance Models Cover\", asked \"Where's the Beef\" and really reflected on the comparative gaps between the models. It's kind of too bad that Sean never saw these notes when it was one of my richer earlier literature reviews. We definitely _discussed_ this stuff. But I all but forgot these notes when it came time to add to my paper. \n",
    "\n",
    "Seems that it was later when I came to focus on repetitions, though."
   ]
  },
  {
   "cell_type": "markdown",
   "id": "extended-consequence",
   "metadata": {},
   "source": [
    "## 4/14 ICMR Workflow Update\n",
    "Kind of aimless. A moment in my transition toward the generativity strategy, list of analyses I want for initial model comparison, then some reflection on the importance of compound cueing on model performance. Latter is missing apparent knowledge that Kragel et al already sort of does this in its exploration of semantic memory."
   ]
  },
  {
   "cell_type": "markdown",
   "id": "expected-composite",
   "metadata": {},
   "source": [
    "## passageFR\n",
    "Reflects on what I've learned and what I'm still missing over my second year. I'm finally comfortable with much of the modeling workflow (though reading Lohnas et al, 2016, makes obvious that I can afford to do better). Weaknesse: data management, NLP, SQL, networking, neural data, ML/statistics/etc. So much to learn and exhibit!\n",
    "\n",
    "Lot of reflection on core problems for passageFR project; some seems overwrought, but I should return to this when I have more passageFR time."
   ]
  },
  {
   "cell_type": "markdown",
   "id": "posted-reaction",
   "metadata": {},
   "source": [
    "## ICMR Final Analyses\n",
    "Scratch paper mostly; has a good starting context for reminding myself which figures I want, but "
   ]
  },
  {
   "cell_type": "markdown",
   "id": "medium-edwards",
   "metadata": {},
   "source": [
    "## Papercycle\n",
    "Basically successor of ICMR Final Analyses; I can probably delete that other one then. Still just scratch paper."
   ]
  },
  {
   "cell_type": "markdown",
   "id": "first-patrick",
   "metadata": {},
   "source": [
    "## Paradoxes of Legal Proof\n",
    "Kind of thing for the archive."
   ]
  },
  {
   "cell_type": "markdown",
   "id": "about-lloyd",
   "metadata": {},
   "source": [
    "## Item Repetitions\n",
    "Review of the lohnas paper and the hints that there's more to do in that space. This stuff should be translated into an initial draft."
   ]
  },
  {
   "cell_type": "markdown",
   "id": "annoying-blackberry",
   "metadata": {},
   "source": [
    "## Summer Transition\n",
    "Out of date scratch."
   ]
  },
  {
   "cell_type": "markdown",
   "id": "informal-today",
   "metadata": {},
   "source": [
    "## Scratch\n",
    "Shadow on Switch, Tableau potential uses, bleh."
   ]
  },
  {
   "cell_type": "markdown",
   "id": "adjustable-fundamental",
   "metadata": {},
   "source": [
    "## Generativity Strategy\n",
    "I'm still not doing a good job at this. The BulkCMR project is moving too slowly. Maybe it's the chess. Generativity only works as a value if I'm genuinely able to produce _a lot_ of baseline value such that a filter still leaves stuff worth tending to. Gotta figure it out."
   ]
  },
  {
   "cell_type": "markdown",
   "id": "herbal-bloom",
   "metadata": {},
   "source": [
    "## FasterCMR\n",
    "BulkCMR 1. Then me realizing I don't have the time for it. The code smells section is a useful convention. "
   ]
  },
  {
   "cell_type": "markdown",
   "id": "boxed-negative",
   "metadata": {},
   "source": [
    "## So What's Worth Archiving, Relooking, Etc?\n",
    "passageFR has some good.\n",
    "item repetitions is relatively structured!\n",
    "generativity strategy still needs fleshing out to handle the ambiguity of my work\n",
    "icmr has stuff i can use\n",
    "\n",
    "I can largely archive the rest.\n",
    "\n",
    "No way to date or sort notebooks in the app. But I can access notebooks from file explorer.\n",
    "\n",
    "Moving file to new location and opening it there doesn't affect its place in the library. \n",
    "\n",
    "What if I just move it without opening? That hides it. But opening it will add again. okay. Then if I move scratch again? Disappears. So there's a check for each file in library. Okay. Also, anything in the Journal folder is automatically tracked too.\n",
    "\n",
    "My strategy then?\n",
    "\n",
    "Anything new I make is added to Journal. I can't just make an empty ink file and expect it to open. So that's the starting point for any file no matter what. I'll add the folder to drive syncing and move/copy to repos where it's worthwhile. And that's it.\n",
    "\n",
    "Generativity project calls for some limits on my use of journal (and this). This introspective review mode is very non-generative."
   ]
  },
  {
   "cell_type": "markdown",
   "id": "iraqi-assessment",
   "metadata": {},
   "source": [
    "# Clarifying the Generativity Strategy\n",
    "\n",
    "## How Do I Square BulkCMR with the generativity strategy?"
   ]
  },
  {
   "cell_type": "markdown",
   "id": "secure-reasoning",
   "metadata": {},
   "source": [
    "I should have done it faster and without distracting myself. And I should have limited work on it. Still, I was identifying it as a bottleneck, something keeping me from doing further coding!\n",
    "\n",
    "I should have focused on generating some baseline amount before working on longer-term investments. I should have made sure I have something for Sean today/tomorrow to _review_ and provide feedback on. \n",
    "\n",
    "In other words, I should have gotten over myself and stuck to the strategy.\n",
    "\n",
    "I've been pondering the idea that a tech report for Bulk CMR should have been a target. But that wouldn't have actually affected anyone. It would have perhaps provided some reassurance that I'm doing real work, but Sean would have nonetheless been frustrated that I wasn't developing the ICMR draft.\n",
    "\n",
    "Excuses for this past week of failure:\n",
    "- exhaustion\n",
    "- vaccine\n",
    "- travel\n",
    "- mom\n",
    "\n",
    "Not an excuse: all my other projects!"
   ]
  },
  {
   "cell_type": "markdown",
   "id": "qualified-timer",
   "metadata": {},
   "source": [
    "## Strategy\n",
    "- **Sleep at Night**. Bed around 8-12, wake between 4-8. Don't sleep in just for rest; waking early and toughing it out with caffeine will help me sleep better the following night.\n",
    "- **Work Until around 4**. Have to make time for other stuff or it'll come back to get me. Generativity strategy requires generativity. Hard limits on work time help incentivize effort.\n",
    "- **Write at least one page and solve at least one coding problem every day**. Is this realistic? I haven't kept up with it obviously.\n",
    "- **Make enough for Sean to review before longer investments.** That includes long introspective spiels like these. Don't even plan until I've done some stuff, unless I genuinely have no clue what to do.\n",
    "- **Timebound all open-ended bullshit**. For example, I was supposed to stop with this by 7.\n",
    "\n",
    "Let's keep Sean out of the repo and switch back to overleaf as a store of stuff I want his feedback on.\n",
    "\n",
    "Sean's nsf-grant-core project sort of outlines how I can built a collection of reports that ultimately gets sculpted into a paper. Separate kinds of content can be split into pagebreaks within the main document and unique files in latex. Overleaf's unique review support features can be leveraged in this context and I get to prevent merge conflicts in the other.\n",
    "\n",
    "Workable, workable.\n",
    "\n",
    "So that's the way I start cutting at the gap between plans and product. Put the plans where the product goes and gradually transform them. \n",
    "\n",
    "That's a breakthrough, but how far do I take it?\n",
    "\n",
    "When I'm planning a product, create the relevant tex file in overleaf, and write down whatever I can to characterize what it will be - a shitty draft. Then gradually refine and complete it, writing new code only for that goal. My code and the tex file should be clearly associated with one another - presumably with comments/descriptions explaining the relation.\n",
    "\n",
    "My code can be pretty barebones as long as this relationship and all functionality is conveyed clearly."
   ]
  },
  {
   "cell_type": "code",
   "execution_count": null,
   "id": "infinite-gentleman",
   "metadata": {},
   "outputs": [],
   "source": []
  }
 ],
 "metadata": {
  "kernelspec": {
   "display_name": "Python 3",
   "language": "python",
   "name": "python3"
  },
  "language_info": {
   "codemirror_mode": {
    "name": "ipython",
    "version": 3
   },
   "file_extension": ".py",
   "mimetype": "text/x-python",
   "name": "python",
   "nbconvert_exporter": "python",
   "pygments_lexer": "ipython3",
   "version": "3.8.5"
  },
  "toc-autonumbering": true
 },
 "nbformat": 4,
 "nbformat_minor": 5
}

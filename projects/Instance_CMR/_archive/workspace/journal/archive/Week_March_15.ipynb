{
 "cells": [
  {
   "cell_type": "markdown",
   "id": "several-approach",
   "metadata": {},
   "source": [
    "# Progress Week 3/15"
   ]
  },
  {
   "cell_type": "markdown",
   "id": "surprised-brisbane",
   "metadata": {},
   "source": [
    "## Further Behind\n",
    "Seems quite likely that I won't meet my 3/19 goal to \"Characterize capacity to account for effect of item repetitions\" as I hoped. How do I catch up? Work over the weekend? Sprint this entire day? Yeah, let's do it. By Monday I _will_ have the repetition stuff done.\n",
    "\n",
    "| Date | Milestone |Description |\n",
    "| ---- | --------- | ---------- \n",
    "| 3/12 | Free Recall | Characterize performance on regular free recall task\n",
    "| 3/21 | Repetition | Characterize capacity to account for effect of item repetitions\n",
    "| 3/26 | Semantics | Prove proposed distinctions are real (or not!) by relating models to relevant existing data sets.\n",
    "| 4/9 or 4/16 | Practice | Compile and present practice presentation to lab\n",
    "| 4/21 | Present | Cogsci seminar presentation\n",
    "| 5/2 | Draft | Paper draft ready for Sean's review + committee meeting\n",
    "\n",
    "But why did I get here? Probably because I overestimated my free time and didn't make the effort to think through how much time I would need for each task at a resolution higher than a single week. And of course because I got engrossed in other stuff."
   ]
  },
  {
   "cell_type": "markdown",
   "id": "bronze-rider",
   "metadata": {},
   "source": [
    "## Holdovers From Previous Milestone\n",
    "There's also stuff from last week I still need to tackle:\n",
    "- **Characterizing Difference in Model Performance on Regular Free Recall Task.** Stuff in my model comparison notebook and the thinking derived from it hasn't been concretized yet.\n",
    "- **Fit model(s) across list lengths**. Success accounting for performance independent of list length was a major milestone in model development historically.\n",
    "- **Should probably look at different data sets**. Any from MortPolyn2016. The one with the most data. This is because the Murdoch dataset has some quirks.\n",
    "- **Quantitative fit comparison**. AIC can do the work; MortPolyn2016 models how to do this.\n",
    "- **Demonstrating Parameter Overlap**. I'm still only assuming that all the parameters do as I say"
   ]
  },
  {
   "cell_type": "markdown",
   "id": "favorite-compatibility",
   "metadata": {},
   "source": [
    "## Holdover anxiety\n",
    "My activation is still more than a little overcomplicated in practice. I wish I could encode more of the necessary information (e.g. weighting for primacy, weighting for pre-experimental vs experimental) in the traces rather than adding that during activation."
   ]
  },
  {
   "cell_type": "markdown",
   "id": "literary-peripheral",
   "metadata": {},
   "source": [
    "## What's the Talk and Paper Shaping Up to Look Like?\n",
    "We're using instance cmr as a site to distinguish the theoretical commitments between instance-based and the default distributional account of memory search. "
   ]
  },
  {
   "cell_type": "markdown",
   "id": "smart-viking",
   "metadata": {},
   "source": [
    "## Overleaf Configuration\n",
    "It would address a lot of anxiety if I could go ahead and at least start outlining the paper for this. To do that, I need to find a place for Overleaf in my workflow.\n",
    "\n",
    "Right now, I have multiple overleaf accounts. gunnjordanb@gmail.com is empty. jordan.gunn@vanderbilt.edu has Sean's grant draft and Becky's draft and some artifacts of the Committee Meeting. The google account-linked jgunn37240 or whatever has just Becky's draft.\n",
    "\n",
    "I'll go with jordan.gunn@vanderbilt.edu so that everyone else only needs to know about one account; I could end up regretting this but we'll see.\n",
    "\n",
    "It looks like Overleaf has a basic interface to support regularly syncing overleaf with a github repository. It lets me see Markdown and text files, but obviously not notebooks or scripts. Probably really messy if I change a file in the master branch that I also alter in Overleaf. \n",
    "\n",
    "By this approach, I can usually avoid actually doing anything in Overleaf most of the time; I can just sync this Overleaf project with my repo and link Sean to it. What I wish though is that Overleaf could just have its own branch? The Overleaf Git system does not support branching. Does this potentially mean I should really only touch relevant latex files from Overleaf? If someone else might touch them, yeah. It's also okay to just do editing from a separate branch!\n",
    "\n",
    "If I want to make sure most project assets are available for inspection within overleaf, I probably need another format for my notebooks besides IPYNB or HTML. Markdown partially addresses that, I guess."
   ]
  },
  {
   "cell_type": "code",
   "execution_count": null,
   "id": "electric-trial",
   "metadata": {},
   "outputs": [],
   "source": []
  }
 ],
 "metadata": {
  "kernelspec": {
   "display_name": "Python 3",
   "language": "python",
   "name": "python3"
  },
  "language_info": {
   "codemirror_mode": {
    "name": "ipython",
    "version": 3
   },
   "file_extension": ".py",
   "mimetype": "text/x-python",
   "name": "python",
   "nbconvert_exporter": "python",
   "pygments_lexer": "ipython3",
   "version": "3.8.5"
  }
 },
 "nbformat": 4,
 "nbformat_minor": 5
}

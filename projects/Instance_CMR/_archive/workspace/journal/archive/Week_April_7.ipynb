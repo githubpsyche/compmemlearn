{
 "cells": [
  {
   "cell_type": "markdown",
   "id": "quick-perspective",
   "metadata": {},
   "source": [
    "# Progress Week 4/9"
   ]
  },
  {
   "cell_type": "markdown",
   "id": "loved-elevation",
   "metadata": {},
   "source": [
    "I have two weeks, fourteen days, until my presentation. I need to stay on top of course/seminar work, and any other commitments I'm forgetting, too.\n",
    "\n",
    "Let's go over all the gaps I still need to fill."
   ]
  },
  {
   "cell_type": "markdown",
   "id": "local-chambers",
   "metadata": {},
   "source": [
    "## Section Gaps"
   ]
  },
  {
   "cell_type": "markdown",
   "id": "embedded-broadway",
   "metadata": {},
   "source": [
    "### Abstract"
   ]
  },
  {
   "cell_type": "markdown",
   "id": "selected-vanilla",
   "metadata": {},
   "source": [
    "Abstract has no clear indication of what my actual conclusions will be. I don't have any conclusions just yet, so this is fine. If I'm willing to accept that my committee paper will be an \"impressive draft\" then I'm okay with leaving this at very low priority."
   ]
  },
  {
   "cell_type": "markdown",
   "id": "funky-pacific",
   "metadata": {},
   "source": [
    "### Introduction"
   ]
  },
  {
   "cell_type": "markdown",
   "id": "administrative-pillow",
   "metadata": {},
   "source": [
    "#### Introductory Overview of Retrieved Context Models"
   ]
  },
  {
   "cell_type": "markdown",
   "id": "opening-bahamas",
   "metadata": {},
   "source": [
    "```latex\n",
    "Retrieved context theories have proven powerful accounts of human memory. \n",
    "\n",
    "Sentence summarizing their core assumptions. They have been formalized within various computational models that can predict a broad class of phenomena, including performance on tasks that . For example, The mechanisms posted by retrieved context theories etc etc. Just go over what retrieved context models are and how far they have reached.\n",
    "```\n",
    "\n",
    "Initial paragraph is outlined but not actually written. It's potentially worth wondering what's keeping me.\n",
    "\n",
    "What's keeping me is probably an only cloudy understanding of what retrieved context models are and what they've achieved. Before I can write this, I need to do at least a cursory dig into the literature for a Pomodoro."
   ]
  },
  {
   "cell_type": "markdown",
   "id": "theoretical-bidding",
   "metadata": {},
   "source": [
    "#### Review of Free Recall Task and Main Phenomena"
   ]
  },
  {
   "cell_type": "markdown",
   "id": "opened-radiation",
   "metadata": {},
   "source": [
    "This section could use a figure - especially since I'm likely to include one in my slides. I need a caption and maybe also content explaining how the core analyses help visualize the main phenomena being discussed.\n",
    "\n",
    "Citations aren't we'll organized yet; Murdoch hasn't come up yet at all either - instead I quote this guy Ranjith? \n",
    "\n",
    "Temporal organization needs the most thorough coverage but I haven't written out this section yet. The transition is good but I much more. Committee paper from last year has some good lines for inspiration.\n",
    "\n",
    "Probably also need a section underscoring that these aren't it; they're just the tip of the iceberg. However, mechanisms conceptualized to account for these phenomena have been found to help explain a broad class of regularities organizing human memory performance.\n",
    "\n",
    "Can talk about spacing, etc."
   ]
  },
  {
   "cell_type": "markdown",
   "id": "entire-crazy",
   "metadata": {},
   "source": [
    "#### The Instance-Based Critique"
   ]
  },
  {
   "cell_type": "markdown",
   "id": "straight-suspension",
   "metadata": {},
   "source": [
    "Start this section like Jamieson et al start theirs, introducing the distinction between prototype and instance-based models.\n",
    "\n",
    "Formal specifications of retrieved context models of memory search such as CMR are generally prototype-based models: they depend on memory systems that collapse experiences of an item into a single summary representation. Despite these models' success accounting for performance on a broad variety of tasks that depend on memory search however, prototype-based models have faced vigorous criticism in other areas of memory research such as categorization (CITATION) and semantic memory (CITATION). \n",
    "\n",
    "Go into depth about the categorization-based conceptualization of the issue.\n",
    "\n",
    "Then Jones' various versions of the critique.\n",
    "\n",
    "Then relate \n",
    "\n",
    "Conflict: Introduction and review of the critique of distributional accounts of episodic memory, with suggestion of significance for accounts of memory search as well\n",
    "\n",
    "Discuss relative prominence of instance-based accounts of memory in other domains/tasks and review already existing work integrating contextual representations into instance-based models to account for memory\n",
    "\n",
    "Following this work, in this paper I present an instance-based implementation of CMR and use it as a site to explore the consequences of applying an instance-based model architecture to account for memory search. (Explain what this means).\n",
    "\n",
    "\n",
    "In contrast to prototype-based implementations of CMR, InstanceCMR performs retrieval by activating stored instances\n",
    "\n",
    "\n",
    "In a free recall task where each unique item is presented only once, prototype- and instance-based implementations of CMR should account for performance with similar effectiveness due to their shared mechanisms. However, distinct mechanisms for integrating records of overlapping experience to organize retrieval may distinguish model performance when accounting for variations of the free recall task where items are presented repeatedly across distinct contexts. \n",
    "\n",
    "While InstanceCMR and CMR "
   ]
  },
  {
   "cell_type": "markdown",
   "id": "periodic-spanking",
   "metadata": {},
   "source": [
    "## Maybe Worthwhile Snippets Idk"
   ]
  },
  {
   "cell_type": "markdown",
   "id": "attended-trinidad",
   "metadata": {},
   "source": [
    "Potentially due to their architectural constraints, the prototype-based models considered here are one-way; patterns of activity on one circumscribed set of units drive activity on another, and the direction of this relationship between units is static. For this reason, the prototype-based specification of CMR proposes that recall is organized by two memory systems ($M_{FC}$ and $M_{CF}$) distinguished based on the direction in which they transform unit activation patterns instead of just one. Memory systems like the MINERVA 2 model on the other hand  \n",
    "\n",
    "Under the instance-based architecture outlined here, though, \n",
    "\n",
    "A visualization of InstanceCMR's architecture. "
   ]
  },
  {
   "cell_type": "markdown",
   "id": "major-baking",
   "metadata": {},
   "source": [
    "## I Need a Different Dataset?"
   ]
  },
  {
   "cell_type": "markdown",
   "id": "sealed-support",
   "metadata": {},
   "source": [
    "So the data I need to figure out whether Jamieson et al (2018)'s version of the critique of prototype-based models applies wrt free recall seems to be a little different from the Lohnas et al dataset I've been analyzing lately.\n",
    "\n",
    "In the Lohnas dataset, subjects encountered four different types of lists: \n",
    "1. Control lists that contained all once-presented items;  \n",
    "2. pure massed lists containing all twice-presented items; \n",
    "3. pure spaced lists consisting of items presented twice at lags 1-8, where lag is defined as the number of intervening items between a repeated item's presentations; \n",
    "4. mixed lists consisting of once presented, massed and spaced items. Within each session, subjects encountered three lists of each of these four types. \n",
    "\n",
    "What I need is a list type with repetitions of massed repetitions where the number of presentations in each mass varies within item. In other words, I'm hopeful that I can find a dataset where an item is presented one or a couple times in succession at one point, and maybe several times in succession at another, all before participants perform retrieval.\n",
    "\n",
    "The big idea is that the core of Jamieson et al's critique of prototype-based models is that abstraction-at-encoding makes records of rarer contextual correspondences relatively inaccessible in item's contextual representations compared to when your model performs abstraction-at-retrieval.\n",
    "\n",
    "> This is a graded problem across the continuous modulations in meaning that are inherent to polysemous words as well. Jones suggests that this behavior is not a simple problem that can be handily solved with a patch in abstraction-at-learning DSMs, but rather indicates that the models may be fundamentally wrong in how they conceive of semantics. In short, although they can represent the average meaning of a word, they do so at the cost of being able to represent meanings that differ from the average (e.g., rare senses of homonyms and polysemes), a behavior that is rapid and natural to humans.\n",
    "\n",
    "Jamieson et al's analysis focuses on when a memory probe contains information about an item's feature representation plus some disambiguating contextual information (e.g. the word \"break\" plus the sense-disambiguating word \"news\"), but I've realized lately that this distinction between prototype-based and instance-based models probably applies even when a cue is purely contextual rather than compound. In that case, the retrieved representation is no longer necessarily selective for information about a specific item, but we still expect a difference between instance-based and prototype-based models in the extent to which rarer contexts of an item figure into the retrieved representation. \n",
    "\n",
    "Conceptualizing the distinction this way makes the consequences of Jamieson et a's critique potentially a bit broader than he initially argues. In the context maintenance and retrieval model, the major consequence will arise when using its $M_{CF}$ representation to retrieve item activations to organize retrieval. In the prototype-based implementation of the model, we expect weaker retrieval for items when cued with their \"rare\" contexts than in instance-based implementations of the model, given similar parameters. We further expect a difficult trade-off for prototype-based models with parameters fitted to enhance retrieval of items' \"rare contexts\": deflated activation for items when memory is cued with their more prominent contextual representations. Since instance-based models can flexibly produce nonlinear activation of stored instances based on contextual cues, this trade-off is unique to prototype-based models that commit to a single pattern of contextual associations for an item at encoding.\n",
    "\n",
    "If one model fits better to behavioral data while this distinction has been proven to hold, the result would be important constraints for further modeling of free recall."
   ]
  },
  {
   "cell_type": "code",
   "execution_count": null,
   "id": "informative-likelihood",
   "metadata": {},
   "outputs": [],
   "source": []
  }
 ],
 "metadata": {
  "kernelspec": {
   "display_name": "Python 3",
   "language": "python",
   "name": "python3"
  },
  "language_info": {
   "codemirror_mode": {
    "name": "ipython",
    "version": 3
   },
   "file_extension": ".py",
   "mimetype": "text/x-python",
   "name": "python",
   "nbconvert_exporter": "python",
   "pygments_lexer": "ipython3",
   "version": "3.8.5"
  },
  "toc-autonumbering": true,
  "toc-showcode": false,
  "toc-showmarkdowntxt": false
 },
 "nbformat": 4,
 "nbformat_minor": 5
}

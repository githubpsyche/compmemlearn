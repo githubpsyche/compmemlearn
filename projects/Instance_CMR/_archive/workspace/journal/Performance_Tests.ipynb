{
 "cells": [
  {
   "cell_type": "code",
   "execution_count": null,
   "id": "chemical-kuwait",
   "metadata": {},
   "outputs": [],
   "source": [
    "import numpy as np\n",
    "from numba import jit\n",
    "\n",
    "@jit(nopython=True)\n",
    "def monte_carlo_pi(nsamples):\n",
    "    return 4 * np.mean((np.random.rand(nsamples) ** 2 + np.random.rand(nsamples) ** 2) < 1.0)\n",
    "\n",
    "def monte_carlo_pi_no_numba(nsamples):\n",
    "    return 4 * np.mean((np.random.rand(nsamples) ** 2 + np.random.rand(nsamples) ** 2) < 1.0)\n"
   ]
  }
 ],
 "metadata": {
  "kernelspec": {
   "display_name": "Python 3",
   "language": "python",
   "name": "python3"
  },
  "language_info": {
   "codemirror_mode": {
    "name": "ipython",
    "version": 3
   },
   "file_extension": ".py",
   "mimetype": "text/x-python",
   "name": "python",
   "nbconvert_exporter": "python",
   "pygments_lexer": "ipython3",
   "version": "3.8.5"
  }
 },
 "nbformat": 4,
 "nbformat_minor": 5
}

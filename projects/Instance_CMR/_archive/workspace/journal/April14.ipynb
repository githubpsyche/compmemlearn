{
 "cells": [
  {
   "cell_type": "markdown",
   "id": "million-lottery",
   "metadata": {},
   "source": [
    "# April 14 2021"
   ]
  },
  {
   "cell_type": "markdown",
   "id": "after-reunion",
   "metadata": {},
   "source": [
    "## How Will I Organize Notebooks?"
   ]
  },
  {
   "cell_type": "markdown",
   "id": "ideal-evaluation",
   "metadata": {},
   "source": [
    "For now on, Github Issues should be at most notebook-sized (or paragraph-sized) problems. Laying out general project milestones is not the right context for all that; instead, issues are supposed to help me identify the next step on whatever I'm working on.\n",
    "\n",
    "Increments will be issue-linked, and focus on exploring solution spaces instead of building coherent narratives for others to digest. Cleaner, properly formatted and refactored code will be placed in the notebooks directory to specify the documentation and core function library of the project. Corresponding writeups have their own directory too. I'll try to divide time relatively evenly between exploring problems, polishing solutions, and preparing writeups. "
   ]
  },
  {
   "cell_type": "markdown",
   "id": "innovative-oliver",
   "metadata": {},
   "source": [
    "## What's Left?"
   ]
  },
  {
   "cell_type": "markdown",
   "id": "guided-whole",
   "metadata": {},
   "source": [
    "I still need to writeup my CMR specification, initial model comparison, repetitions analysis...etc. And there's a lot about my existing sections that I probably want to rewrite as well. And I need figures, diagrams, numbers, etc. And probably quite a lot more code. How will I keep focus?\n",
    "\n",
    "I have three days of work before the Friday practice talk; by then I need initial figures and narrative to at least sketch out.\n",
    "\n",
    "I will think bigger and separate this into two objectives:\n",
    "- Finish the draft (text)\n",
    "- Collect every potentially relevant figure into the draft\n",
    "\n",
    "Today can be a code day; I'm in the mood for it. Tomorrow I can focus on figures. For the lead-up to lab meeting, finishing the text will be the top idea on my mind. In lab meeting, I kind of ad-lib from the paper and my figures. More fleshed out talk in the interim.\n",
    "\n",
    "When do I do grading? Sometime before morning, that's for sure."
   ]
  },
  {
   "cell_type": "markdown",
   "id": "particular-shoulder",
   "metadata": {},
   "source": [
    "## Do I Want to Rewrite My Visualization Library?"
   ]
  },
  {
   "cell_type": "markdown",
   "id": "cognitive-remains",
   "metadata": {},
   "source": [
    "In theory, I do - and it's necessary if I'm going to use relevant figures in my slides. But it's not as critical as finishing up my main analyses."
   ]
  },
  {
   "cell_type": "markdown",
   "id": "younger-strip",
   "metadata": {},
   "source": [
    "## Let's figure out the model comparison thing."
   ]
  },
  {
   "cell_type": "markdown",
   "id": "latter-yukon",
   "metadata": {},
   "source": [
    "I think I've resolved to compute AICc as suggested by Kragel and other sources, but I'll just plot those values from there. It seems that it's actually inappropriate to attempt a significance test.\n",
    "\n",
    "What does this mean for my model comparison section?\n",
    "\n",
    "Outline motivation, "
   ]
  },
  {
   "cell_type": "code",
   "execution_count": null,
   "id": "greenhouse-glucose",
   "metadata": {},
   "outputs": [],
   "source": []
  },
  {
   "cell_type": "code",
   "execution_count": null,
   "id": "supported-steam",
   "metadata": {},
   "outputs": [],
   "source": []
  }
 ],
 "metadata": {
  "kernelspec": {
   "display_name": "Python 3 (ipykernel)",
   "language": "python",
   "name": "python3"
  },
  "language_info": {
   "codemirror_mode": {
    "name": "ipython",
    "version": 3
   },
   "file_extension": ".py",
   "mimetype": "text/x-python",
   "name": "python",
   "nbconvert_exporter": "python",
   "pygments_lexer": "ipython3",
   "version": "3.9.1"
  }
 },
 "nbformat": 4,
 "nbformat_minor": 5
}

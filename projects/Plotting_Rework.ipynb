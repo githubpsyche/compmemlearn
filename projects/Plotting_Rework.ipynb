{
 "cells": [
  {
   "cell_type": "code",
   "execution_count": null,
   "id": "bc4f826c-5f0f-4ed2-be6f-cd110e8c635c",
   "metadata": {},
   "outputs": [],
   "source": [
    "# default_exp analyses"
   ]
  },
  {
   "cell_type": "markdown",
   "id": "d4aec3b5-3e19-4247-9672-bf9403cfe233",
   "metadata": {
    "tags": []
   },
   "source": [
    "# Plotting Rework"
   ]
  },
  {
   "cell_type": "markdown",
   "id": "1ebaa4ac-dc7e-47dc-9727-7b98dd600b23",
   "metadata": {},
   "source": [
    "I use `psifr` a lot. One stress point I've experienced with it is that its plotting functions are a bit inflexible. Functions' inclusion of a `facet_kws` argument keyword that can accept an arbitrary number of plotting arguments for called seaborn functions helps a lot, but on the other hand the plotting library's use of FacetGrid gets in the way of further customization. `FacetGrid`s are figure-level constructs so using them makes it impossible for people using the library to compose multiple figures (e.g. an SPC with a CRP). Alternatively, users might sometimes want to customize the `FacetGrid` itself -- controlling stuff like figure size and how axes are rendered.\n",
    "\n",
    "To give users full access to `seaborn`'s features, a better approach might be to make psifr's plotting functions _mappable_ to figures according to `seaborn` or `matplotlib`'s internal logic. The [`seaborn.FacetGrid.map_dataframe`](https://seaborn.pydata.org/generated/seaborn.FacetGrid.map_dataframe.html#seaborn.FacetGrid.map_dataframe) page outlines what this would look like:\n",
    "\n",
    "> A plotting function that takes data and keyword arguments. Unlike the `map` method, a function used here must \"understand\" Pandas objects. It also must plot to the currently active matplotlib Axes and take a `color` keyword argument. If faceting on the `hue` dimension, it must also take a `label` keyword argument.\n",
    "\n",
    "`psifr`'s plotting functions already take data and keyword arguments. We just have to have the functions return a plot instead of a figure object. A plotting function defined this way can be used on its own - just like how `seaborn.lineplot` works just fine whether you pass it into a FacetGrid with `seaborn.FacetGrid.map_dataframe`. \n",
    "\n",
    "What follows are some examples rewriting `fr.plot_spc`, `fr.plot_lag_crp`, and `fr.plot_pfr` assuming that data is organized as you suggest in `psifr`'s tutorial."
   ]
  },
  {
   "cell_type": "markdown",
   "id": "66ffd1fc-72e5-4066-b866-4d10cb19f5bb",
   "metadata": {},
   "source": [
    "## Data Preparation"
   ]
  },
  {
   "cell_type": "code",
   "execution_count": 45,
   "id": "7c818776-f540-4f82-afa0-7e062c9182fa",
   "metadata": {},
   "outputs": [
    {
     "data": {
      "text/html": [
       "<div>\n",
       "<style scoped>\n",
       "    .dataframe tbody tr th:only-of-type {\n",
       "        vertical-align: middle;\n",
       "    }\n",
       "\n",
       "    .dataframe tbody tr th {\n",
       "        vertical-align: top;\n",
       "    }\n",
       "\n",
       "    .dataframe thead th {\n",
       "        text-align: right;\n",
       "    }\n",
       "</style>\n",
       "<table border=\"1\" class=\"dataframe\">\n",
       "  <thead>\n",
       "    <tr style=\"text-align: right;\">\n",
       "      <th></th>\n",
       "      <th>subject</th>\n",
       "      <th>list</th>\n",
       "      <th>item</th>\n",
       "      <th>input</th>\n",
       "      <th>output</th>\n",
       "      <th>study</th>\n",
       "      <th>recall</th>\n",
       "      <th>repeat</th>\n",
       "      <th>intrusion</th>\n",
       "    </tr>\n",
       "  </thead>\n",
       "  <tbody>\n",
       "    <tr>\n",
       "      <th>0</th>\n",
       "      <td>1</td>\n",
       "      <td>1</td>\n",
       "      <td>1</td>\n",
       "      <td>1</td>\n",
       "      <td>NaN</td>\n",
       "      <td>True</td>\n",
       "      <td>False</td>\n",
       "      <td>0</td>\n",
       "      <td>False</td>\n",
       "    </tr>\n",
       "    <tr>\n",
       "      <th>1</th>\n",
       "      <td>1</td>\n",
       "      <td>1</td>\n",
       "      <td>2</td>\n",
       "      <td>2</td>\n",
       "      <td>NaN</td>\n",
       "      <td>True</td>\n",
       "      <td>False</td>\n",
       "      <td>0</td>\n",
       "      <td>False</td>\n",
       "    </tr>\n",
       "    <tr>\n",
       "      <th>2</th>\n",
       "      <td>1</td>\n",
       "      <td>1</td>\n",
       "      <td>3</td>\n",
       "      <td>3</td>\n",
       "      <td>NaN</td>\n",
       "      <td>True</td>\n",
       "      <td>False</td>\n",
       "      <td>0</td>\n",
       "      <td>False</td>\n",
       "    </tr>\n",
       "    <tr>\n",
       "      <th>3</th>\n",
       "      <td>1</td>\n",
       "      <td>1</td>\n",
       "      <td>4</td>\n",
       "      <td>4</td>\n",
       "      <td>NaN</td>\n",
       "      <td>True</td>\n",
       "      <td>False</td>\n",
       "      <td>0</td>\n",
       "      <td>False</td>\n",
       "    </tr>\n",
       "    <tr>\n",
       "      <th>4</th>\n",
       "      <td>1</td>\n",
       "      <td>1</td>\n",
       "      <td>5</td>\n",
       "      <td>5</td>\n",
       "      <td>NaN</td>\n",
       "      <td>True</td>\n",
       "      <td>False</td>\n",
       "      <td>0</td>\n",
       "      <td>False</td>\n",
       "    </tr>\n",
       "  </tbody>\n",
       "</table>\n",
       "</div>"
      ],
      "text/plain": [
       "   subject  list  item  input  output  study  recall  repeat  intrusion\n",
       "0        1     1     1      1     NaN   True   False       0      False\n",
       "1        1     1     2      2     NaN   True   False       0      False\n",
       "2        1     1     3      3     NaN   True   False       0      False\n",
       "3        1     1     4      4     NaN   True   False       0      False\n",
       "4        1     1     5      5     NaN   True   False       0      False"
      ]
     },
     "execution_count": 45,
     "metadata": {},
     "output_type": "execute_result"
    }
   ],
   "source": [
    "import pandas as pd\n",
    "import matplotlib.pyplot as plt\n",
    "import numpy as np\n",
    "from compmemlearn.datasets import prepare_murdock1970_data\n",
    "\n",
    "trials, events, list_length = prepare_murdock1970_data('../data/mo1970.txt')\n",
    "events.head()"
   ]
  },
  {
   "cell_type": "markdown",
   "id": "476ee979-bdda-4771-9c4d-1dab92d0eb1e",
   "metadata": {},
   "source": [
    "## SPC Demo"
   ]
  },
  {
   "cell_type": "markdown",
   "id": "70d64507-1c84-41af-8b1a-1bf4dbad0661",
   "metadata": {},
   "source": [
    "### Demo Function"
   ]
  },
  {
   "cell_type": "code",
   "execution_count": 63,
   "id": "ebd5024a-38ab-41df-8a9b-fe065204722b",
   "metadata": {},
   "outputs": [],
   "source": [
    "# export\n",
    "from psifr import fr\n",
    "import seaborn as sns\n",
    "\n",
    "def plot_spc(data, **facet_kws):\n",
    "    \n",
    "    sns.lineplot(\n",
    "        data=fr.spc(data), x='input', y='recall', **facet_kws)"
   ]
  },
  {
   "cell_type": "markdown",
   "id": "5a411d96-65b1-4be8-81ba-0b7f8e8094a8",
   "metadata": {},
   "source": [
    "### Plotting"
   ]
  },
  {
   "cell_type": "code",
   "execution_count": 64,
   "id": "200c9d00-af74-4517-a50d-d8782313ec9c",
   "metadata": {},
   "outputs": [
    {
     "data": {
      "image/png": "[encoded data removed]",
      "text/plain": [
       "<Figure size 324x216 with 1 Axes>"
      ]
     },
     "metadata": {
      "needs_background": "light"
     },
     "output_type": "display_data"
    }
   ],
   "source": [
    "g = sns.FacetGrid(dropna=False, data=events, aspect=1.5)\n",
    "g.map_dataframe(plot_spc, err_style='bars')\n",
    "g.set_xlabels('Study Position')\n",
    "g.set_ylabels('Recall Rate')\n",
    "g.set(ylim=(0, 1))\n",
    "\n",
    "plt.show()"
   ]
  },
  {
   "cell_type": "code",
   "execution_count": 65,
   "id": "9fb911e2-f81a-4210-bb5f-1219becaf9c6",
   "metadata": {},
   "outputs": [
    {
     "data": {
      "image/png": "[encoded data removed]",
      "text/plain": [
       "<Figure size 432x288 with 1 Axes>"
      ]
     },
     "metadata": {
      "needs_background": "light"
     },
     "output_type": "display_data"
    }
   ],
   "source": [
    "plot_spc(events, err_style='bars')\n",
    "plt.xlabel('Study Position')\n",
    "plt.ylabel('Recall Rate')\n",
    "plt.xticks(np.arange(1, 21), np.arange(1, 21))\n",
    "plt.ylim((0, 1))\n",
    "plt.show()"
   ]
  },
  {
   "cell_type": "markdown",
   "id": "53f28093-f429-43e0-8ae0-cb388dec4164",
   "metadata": {},
   "source": [
    "## Lag-CRP Demo\n",
    "The contiguity effect illustrates how episodic associations are graded, exhibiting power-function decay with increasing lag. Recall of an item has a tendency to evoke not only adjacent list items, but other nearby items as well. In addition, episodic associations appear to be asymmetrical, favoring retrieval of items in the forward order.\n",
    "\n",
    "To measure the contiguity effect, we often produce lag-CRP curves. \"Lag-CRP\" measures the conditional probability of recalling an item as a function of its adjacency (**lag**) in the study list to the the last recalled item. To find this in our free recall data, for every recall a participant made in a dataset, we measure how adjacent the recalled item was from the *next* item the participant recalled -- its serial lag. For example, if a subject recalls the third item presented in a list and then the fourth, the lag of the next item recalled is +1. If a subject instead recalls the first item after recalling the third item, the measured lag is -2. We also track across recalls which lag transitions were possible based on which items were not already retrieved. Once we've tallied up all actual and possible lag transitions across a dataset, we plot for each lag the ratio of actual transitions divided by position transitions to visualize the conditional probability of each lag transition."
   ]
  },
  {
   "cell_type": "markdown",
   "id": "a39c1ddb-53a9-4a30-baec-075fe1de0100",
   "metadata": {},
   "source": [
    "### Demo Function"
   ]
  },
  {
   "cell_type": "code",
   "execution_count": 80,
   "id": "80730124-64d5-4218-b962-fba0bf056712",
   "metadata": {},
   "outputs": [],
   "source": [
    "# export\n",
    "\n",
    "def plot_lag_crp(data, max_lag=5, **facet_kws):\n",
    "    \n",
    "    filt_neg = f'{-max_lag} <= lag < 0'\n",
    "    filt_pos = f'0 < lag <= {max_lag}'\n",
    "    \n",
    "    crp_data = fr.lag_crp(data)\n",
    "    \n",
    "    sns.lineplot(\n",
    "        data=crp_data.query(filt_neg), \n",
    "        x='lag', y='prob', **facet_kws)\n",
    "    sns.lineplot(\n",
    "        data=crp_data.query(filt_pos), \n",
    "        x='lag', y='prob', **facet_kws)"
   ]
  },
  {
   "cell_type": "markdown",
   "id": "b0e96d18-91e3-447d-96ba-e327401b3aef",
   "metadata": {},
   "source": [
    "### Plotting"
   ]
  },
  {
   "cell_type": "code",
   "execution_count": 82,
   "id": "34788ee7-7a28-43f1-b14c-d57ab63fe16e",
   "metadata": {},
   "outputs": [
    {
     "data": {
      "image/png": "[encoded data removed]",
      "text/plain": [
       "<Figure size 345.6x288 with 1 Axes>"
      ]
     },
     "metadata": {
      "needs_background": "light"
     },
     "output_type": "display_data"
    }
   ],
   "source": [
    "g = sns.FacetGrid(dropna=False, data=events, height=4, aspect=1.2)\n",
    "g.map_dataframe(plot_lag_crp, err_style='bars')\n",
    "g.set(ylim=(0, .5))\n",
    "\n",
    "g.set_xlabels('Item\\'s Lag In Study List From Last Recalled Item')\n",
    "g.set_ylabels('Conditional Recall Rate')\n",
    "\n",
    "plt.show()"
   ]
  },
  {
   "cell_type": "markdown",
   "id": "1970ad1d-4f62-4534-ab1d-9ffabe69de5f",
   "metadata": {},
   "source": [
    "## PFR"
   ]
  },
  {
   "cell_type": "markdown",
   "id": "65aa8434-53fe-49ad-a54a-2f14fa67b2a5",
   "metadata": {},
   "source": [
    "### Demo Function"
   ]
  },
  {
   "cell_type": "code",
   "execution_count": 85,
   "id": "1d55522e-d151-40c0-a5c7-fed51862067d",
   "metadata": {},
   "outputs": [],
   "source": [
    "# export\n",
    "\n",
    "def plot_pfr(data, max_lag=5, **facet_kws):\n",
    "    \n",
    "    filt_neg = f'{-max_lag} <= lag < 0'\n",
    "    filt_pos = f'0 < lag <= {max_lag}'\n",
    "    \n",
    "    pfr_data = fr.pnr(data).query('output <= 1')\n",
    "    \n",
    "    sns.lineplot(\n",
    "        data=pfr_data, x='input', y='prob', **facet_kws)\n",
    "    sns.lineplot(\n",
    "        data=pfr_data, x='input', y='prob', **facet_kws)"
   ]
  },
  {
   "cell_type": "markdown",
   "id": "0add6408-0df0-4989-9e0d-1adf64196ac9",
   "metadata": {},
   "source": [
    "### Plotting"
   ]
  },
  {
   "cell_type": "code",
   "execution_count": 86,
   "id": "6eb9f974-5986-4d7d-9a8c-c23f194fa59e",
   "metadata": {},
   "outputs": [
    {
     "data": {
      "image/png": "[encoded data removed]",
      "text/plain": [
       "<Figure size 345.6x288 with 1 Axes>"
      ]
     },
     "metadata": {
      "needs_background": "light"
     },
     "output_type": "display_data"
    }
   ],
   "source": [
    "g = sns.FacetGrid(dropna=False, data=events, height=4, aspect=1.2)\n",
    "g.map_dataframe(plot_pfr, err_style='bars')\n",
    "\n",
    "g.set_xlabels('Study Position')\n",
    "g.set_ylabels('Probability of First Recall')\n",
    "\n",
    "plt.show()"
   ]
  }
 ],
 "metadata": {
  "kernelspec": {
   "display_name": "Python 3 (ipykernel)",
   "language": "python",
   "name": "python3"
  },
  "language_info": {
   "codemirror_mode": {
    "name": "ipython",
    "version": 3
   },
   "file_extension": ".py",
   "mimetype": "text/x-python",
   "name": "python",
   "nbconvert_exporter": "python",
   "pygments_lexer": "ipython3",
   "version": "3.9.1"
  }
 },
 "nbformat": 4,
 "nbformat_minor": 5
}

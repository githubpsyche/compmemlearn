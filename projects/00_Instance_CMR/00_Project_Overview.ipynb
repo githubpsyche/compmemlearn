{
 "cells": [
  {
   "cell_type": "markdown",
   "id": "aa95aa48-daeb-44b2-8f3b-08c660bf990c",
   "metadata": {},
   "source": [
    "# An Instance-Based Account of Context Maintenance and Retrieval"
   ]
  },
  {
   "cell_type": "markdown",
   "id": "7337e696-fc37-47e1-ba7f-b9bf7d051cc1",
   "metadata": {},
   "source": [
    "In retrieved context accounts of memory search such as the Context Maintenance and Retrieval (CMR) model [@polyn2009context], representations of studied items in a free recall experiment are associated with states of an internal representation of context that changes slowly during the study period. Through these mechanisms the model account for organizational effects in recall sequences, such as the tendency for related items to be recalled successively. Specifications of the model tend to characterize these dynamics in terms of a simplified neural network, as building a single prototypical pattern of associations between each item and context (and vice versa) across experience. By contrast, models of categorization and other memory phenomena have increasingly converged on instance-based accounts [@hintzman1984minerva] that conceptualize memory as a stack of trace vectors that each represent discrete experiences and support recall through parallel, nonlinear activation of traces based on similarty to a probe. To investigate the consequences of this distinction we present an instance-based specification of CMR that encodes associations between studied items and context by instantiating memory traces corresponding to each experience, and drives recall through context-based coactivation of those traces. We analyze the model's ability to account for traditional phenomena that have been used as support for the original prototypical specification of CMR, evaluate conditions under which the specifications might behave differently, and explore the model's capacity for integration with existing instance-based models to elucidate a broader collection of memory phenomena."
   ]
  },
  {
   "cell_type": "markdown",
   "id": "292ed94f-88e0-4a9d-9ac9-d89d0a020cd5",
   "metadata": {},
   "source": [
    "## Instance- and Prototype-Based Accounts of Abstraction"
   ]
  },
  {
   "cell_type": "markdown",
   "id": "5c47d7a0-ad05-42fa-a5fc-db595e594efc",
   "metadata": {},
   "source": [
    "Models of memory encoding and retrieval typically include some mechanism for abstraction -- extraction of information across individual experiences [@yee2019abstraction]. Abstraction is understood to involve identifying and highlighting features common across experiential episodes while disregarding or suppressing more idiosyncratic properties. This capacity for selective generalization across recurrent features of past experience is central to how memory systems retrieve relevant information even when prompted by novel cues."
   ]
  },
  {
   "cell_type": "markdown",
   "id": "b15ccc4e-f5cf-411e-abc5-66555770f879",
   "metadata": {},
   "source": [
    "Depending on how they characterize the process of abstraction, memory models can be categorized as either prototype- or instance-based. Prototype-based model conceptualize abstraction as a process enacted during encoding; new experiences are conceived as updating memory representations to reflect prototypical features that are common across past experiences. Connectionist models such as the multilayer perceptron are typically examples of prototype-based models [@jamieson2018instance]. Instead of being stored as separate records in memory, learning examples presented to a connectionist model each update a prototypical pattern of weights that eventually map memory probes to responses.\n",
    "\n",
    "On the other hand, the instance-based model architecture was originally specified to help understand how category learning might be possible without explicit storage of so-called abstract ideas [@hintzman1984minerva; @hintzman1986schema; @hintzman1988judgments]. Instance-based models posit that memory encoding primarily involves accumulating a record of every experience as separate traces in memory. Abstraction over stored instances later occurs at retrieval rather than during encoding, and unfolds through comparison of a memory cue with each instance stored in memory. The abstractive representation finally retrieved is a blend of the content in each stored instance, weighted such that information in the instances most similar to the probe is substantially more prominent than information in instances that are dissimilar to the probe. Because instance-based models preserve a discrete record of all relevant events in memory, they can often selectively retrieve information about even rare events from memory with high flexibility."
   ]
  },
  {
   "cell_type": "markdown",
   "id": "ffe0b5a3-a5d7-4393-a29b-1e9a3b820cad",
   "metadata": {},
   "source": [
    "Instance-based accounts of memory have faced scrutiny for implying that the number of stored instances in memory can increase without limit and are all contacted upon retrieval, respectively placing extraordinary capacity and processing demands on the human nervous system [e.g., @kahana2020computational]. However, at the same time as instance-based models have been critiqued for their architectural lack of data compression at storage, the way abstractive representations exclude idiosyncratic features of individual learning episodes to reflect a center of tendency across them is similarly recurrently cited as a limitation of prototype-based models. In research on categorization for example, 'exemplar-similarity' models [@nosofsky2002exemplar; @stanton2002comparisons] outperform comparable prototype-based models by representing categories as sets of stored instances paired with a process for comparison against probes. A related analysis extends these findings to also critique prototype-based accounts of semantic memory. @jamieson2018instance found that because prototype-based distributional semantic models such as latent semantic analysis [@dumais2004latent] and Word2Vec [@church2017word2vec] \"collapse the many contexts in which a word occurs to a single best-fitting representation\", they lose the ability to represent rare senses of homonymous and polymsemous words. Consequently, prototype-based models exhibited measureably worse performance accounting for word similarity patterns in various natural language simulations compared to an instance-based account of semantic memory based on the MINERVA 2 multiple traces memory model [@hintzman1984minerva]. In the context of successes like these across diverse research conditions, instance-based accounts of memory have become increasingly prominent."
   ]
  },
  {
   "cell_type": "markdown",
   "id": "78836228-6e26-414e-a39b-32aabc1d2222",
   "metadata": {},
   "source": [
    "## Models of Free Recall are Traditionally Prototype-Based"
   ]
  },
  {
   "cell_type": "markdown",
   "id": "ead8b73e-1353-4fe9-96b6-58bf774f8488",
   "metadata": {},
   "source": [
    "While instance-based models have organized formal work in a variety of research subfields, models of memory search in the free recall task largely countervail this pattern. In the free recall task paradigm, research participants are presented a sequence of items --- usually a word list --- to memorize during a study phase. Later, after a delay or perhaps some distraction task, participants are prompted to recall as many items from the list as possible, in whatever order they come to mind. Since participants largely organize the course of retrieval themselves in the response phase of a free recall task, work by researchers to characterize the organization of responses measured under the paradigm [@postman1971organization; @puff1979memory] have provided important constraints on accounts of the representations and mechanisms underlying search through memory to retrieve information.\n",
    "\n",
    "In particular, three consistent regularities across experiments have received especial emphasis in accounts of performance on the free recall task [@kahana2020computational]. The serial position effect identifies a nonlinear, U-shaped relationship between the position of an item within a study list --- its serial position --- and its probability of retrieval after encoding [@murdock1962serial]. Researchers typically distinguish between the enhanced retrieval probabilities for early and terminal items; the advantage for the initially presented items is called the primacy effect, while the normally larger advantage for the few presented items is called the recency effect.\n",
    "\n",
    "A similar but distinct pattern constraining accounts of memory search is found in analyses relating an item's serial position with the probability that it will be recalled first in the retrieval phase of experiments. Pivotally, in list-based free recall tasks, participants tend to initiate recall with the most recently studied items from the list; however, in a *serial* recall task where participants are instructed to recall items in the order in which they were presented rather than freely, participants tend to successfully recall the earliest presented items first [for example in @golomb2008effects]. This difference implies that while participants maintain and can access memories of item positions to perform a serial recall task, memory search and retrieval is organized by other features of experience.\n",
    "\n",
    "Primacy and recency effects demonstrate that the temporal structure of the list affects the memorability of the items within it. This temporal structure can also be seen in the organization of responses throughout the response sequence, not just for initial and terminal items or recall positions. Free recall task data exhibits a pattern called *temporal contiguity* where items studied at nearby serial positions tend to be recalled near one another at the retrieval phase of an experiment. To quantify this pattern, researchers measure across trials the conditional probability of retrieving items given increasing inter-item lags between the serial positions of considered items and the serial position of the item last recalled. These lag-based condition response probability (lag-CRP) analyses find that subjects reliably tend to make transitions between temporally contiguous items (that is, items presented near one another) during free recall. Furthermore, they exhibit a forward bias, recalling contiguous items presented after the last recalled item more frequently than items presented before [@kahana1996associative].\n",
    "\n",
    "To account for these phenomena, the formal literature has largely converged on retrieved context theories of memory search [for example, @howard2002distributed; @polyn2009context; @morton2016predictive]. Generally, according to these theories, as items are encoded into a memory system, an internal representational of temporal context is also maintained that dynamically updates itself to reflect a weighted summary of recent experience. As each item is studied, a Hebbian learning mechanism associates the item's features to the current state of the context representation. Once associated, item features can cue retrieval of associated contextual features, and vice versa. When the retrieval phase comes, the current contextual representation can drive memory search by activating a blend of associated item features. This prompts a retrieval competition in which a particular item is selected and retrieved. Correspondingly, retrieving an item reactivates its associated contextual features, updating context before the next recall attempt. The retrieved context supports the neighbors of the just-recalled item, which gives rise to temporal organization.\n",
    "\n",
    "With these basic mechanisms, retrieved-context models have been used to explain many phenomena, including serial and temporal organizational effects in list-learning tasks [@polyn2009context; @siegel2014retrieved; @schwartz2005shadows], and broader domains such as financial decision making [@wachter2019retrieved], emotion regulation [@talmi2019retrieved], and neural signal dynamics within the medial temporal lobe [@kragel2015neural]. Further model development has integrated retrieved context accounts of memory search with theories of semantic knowledge [@morton2016predictive] and changes related to healthy aging [@healey2016four].\n",
    "\n",
    "The framework used to implement most retrieved context models of memory search acts like a prototype model. These models typically encode memories associating contextual states and item features by updating connection weights within a simplified neural network. Through Hebbian learning, where co-activation of item and contextual features increase weights associating those features, the network accumulates a collapsed average representation reflecting the history of context and item interactions across experience. During retrieval, the network can be probed with a contextual cue to retrieve an item feature representation (or vice versa) based on a linear function of the cue's content and stored context-to-item weights.\n",
    "\n",
    "In contrast, an instance-based alternative would track this history by storing a discrete record of each experience with its unique temporal context in memory to perform abstraction over only at the point of retrieval. Previous instance-based accounts of performance on various tasks have emphasized a role of some sort of temporal contextual representation in organizing performance. Indeed, the original presentation of MINERVA 2, the first major instance-based memory modeling architecture, included a representation of list context as a feature in stored memory instances to model source-specific frequency judgments from memory [@hintzman1984minerva]. [@lehman2013buffer] proposed an instance-based buffer model that accounts for patterns like recency and the position position effect in terms of storage and retrieval of traces containing information about item and contextual co-occurrences. Most recently, @logan2021serial introduced the Context Retrieval and Updating (CRU) model, which extends retrieved context theories' conceptualization of context as a recency-weighted history of previously presented items to account for performance on whole report, serial recall, and copy typing tasks. Nonetheless, it remains unclear whether differences reported in related memory literatures between the performance of prototype- and instance-based memory models might similarly distinguish models of memory search."
   ]
  },
  {
   "cell_type": "markdown",
   "id": "6be1f5ce-985a-4168-8aa0-b1f88f5a33e2",
   "metadata": {},
   "source": [
    "### Research Approach"
   ]
  },
  {
   "cell_type": "markdown",
   "id": "8efed41c-4a6b-41e2-9a1e-5fad9e39ece5",
   "metadata": {},
   "source": [
    "In this paper, I show that the mechanisms proposed by the influential Context Maintanence and Retrieval (CMR) model of memory search [@morton2016predictive] can be realized within either a prototypical or instance-based model architecture without substantially impacting performance across various experimental conditions. This instance-based CMR (InstanceCMR) extends the established MINERVA 2 multiple traces model [@hintzman1984minerva; @hintzman1986schema; @hintzman1988judgments] to support context-based memory search and simulate performance on the free recall task. I fit InstanceCMR and its original prototype-based counterpart (prototypeCMR) to the sequences of individual responses made by participants in three distinct free recall task datasets.I find that the models account for retrieval performance with similar effectiveness despite architectural differences, including over data manipulating the lengths of study lists between trials and other data manipulating the number of times particular items are studied within trials. \n",
    "\n",
    "Analyses of the two specifications for CMR suggest that these outcomes can be largely explained by the model's assumption that feature representations corresponding to studied items in free recall experiments are orthogonal --- activation of each unit on an item feature layer corresponds to one item. This ensures that context-to-feature associations built via experience of one item do not overlap with associations built through experience of some other distinct item. Correspondingly, the influence of relevant experiences on the content of abstractive representations retrieved via these associations can be selectively enhanced while simultaneously suppressing the influence of less relevant experiences, without any interference. This capacity to nonlinearly modulate the influence of selected learning episodes on recall based on the content of a probe approximates trace-based activation functions realized within instance-based models, sidestepping issues reported about prototype-based memory models in other literatures."
   ]
  }
 ],
 "metadata": {
  "kernelspec": {
   "display_name": "Python 3 (ipykernel)",
   "language": "python",
   "name": "python3"
  },
  "language_info": {
   "codemirror_mode": {
    "name": "ipython",
    "version": 3
   },
   "file_extension": ".py",
   "mimetype": "text/x-python",
   "name": "python",
   "nbconvert_exporter": "python",
   "pygments_lexer": "ipython3",
   "version": "3.9.1"
  }
 },
 "nbformat": 4,
 "nbformat_minor": 5
}

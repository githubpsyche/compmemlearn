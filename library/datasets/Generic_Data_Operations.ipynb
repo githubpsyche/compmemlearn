{
 "cells": [
  {
   "cell_type": "code",
   "execution_count": 1,
   "metadata": {},
   "outputs": [],
   "source": [
    "# default_exp datasets"
   ]
  },
  {
   "cell_type": "markdown",
   "metadata": {},
   "source": [
    "# Generic Data Operations\n",
    "Functions for data processing performed prior to actual behavioral analysis but after instantiation of the data object."
   ]
  },
  {
   "cell_type": "code",
   "execution_count": 25,
   "metadata": {},
   "outputs": [],
   "source": [
    "# export\n",
    "\n",
    "import numpy as np\n",
    "import pandas as pd\n",
    "\n",
    "def events_metadata(events):\n",
    "    \"\"\"\n",
    "    Return as numpy arrays and vectors key metadata about recall events dataframe structure\n",
    "    \n",
    "    Generates a metadata array for each list length, and returns a list of these arrays.\n",
    "    \"\"\"\n",
    "\n",
    "    # list lengths for efficient presentation simulation\n",
    "    if 'list length' in events.columns:\n",
    "        list_lengths = [int(each) for each in pd.unique(events[\"list length\"])]\n",
    "        ll_specific_trial_query = '`list length` == {}'\n",
    "    else:\n",
    "        list_lengths = [int(np.max(events.input))]\n",
    "        ll_specific_trial_query = 'subject != -1'\n",
    "\n",
    "    # trials for efficient recall simulation\n",
    "    trials = []\n",
    "    presentations = []\n",
    "    if 'item_string_index' in events.columns:\n",
    "        pres_item_string_ids = []\n",
    "        trial_item_string_ids = []\n",
    "    else:\n",
    "        pres_item_string_ids = None\n",
    "\n",
    "    trial_details = events.pivot_table(index=['subject', 'list'], dropna=False, aggfunc='first').reset_index()\n",
    "    for list_length in list_lengths:\n",
    "\n",
    "        # generate list_length mask\n",
    "        list_length_mask = trial_details.eval(\n",
    "            ll_specific_trial_query.format(list_length)).to_numpy(dtype='bool')\n",
    "\n",
    "        df_value = 'first_input' if 'first_input' in events.columns else 'input'\n",
    "        trials_df = events.pivot_table(index=['subject', 'list'], columns='output', values=df_value, dropna=False)\n",
    "\n",
    "        trials_array = trials_df.to_numpy(na_value=0).astype('int32')[list_length_mask]\n",
    "        trials.append(trials_array[:, :min(list_length, trials_array.shape[1])])\n",
    "\n",
    "        presentations_df = events.pivot_table(index=['subject', 'list'], columns='input', values='item', dropna=False)\n",
    "        presentations_array = presentations_df.to_numpy(na_value=0).astype('int32')[list_length_mask]\n",
    "        presentations.append(presentations_array[:, :min(list_length, presentations_array.shape[1])])\n",
    "\n",
    "        if pres_item_string_ids is not None:\n",
    "            pres_item_string_ids_df =  events.pivot_table(\n",
    "                index=['subject', 'list'], columns='input', values='item_string_index', dropna=False)\n",
    "            pres_item_string_ids_array = pres_item_string_ids_df.to_numpy().astype('int32')[list_length_mask]\n",
    "            pres_item_string_ids.append(\n",
    "                pres_item_string_ids_array[:, :min(list_length, pres_item_string_ids_array.shape[1])])\n",
    "\n",
    "            trial_item_string_ids_df = events.pivot_table(\n",
    "                index=['subject', 'list'], columns='output', values='item_string_index', dropna=False)\n",
    "            trial_item_string_ids_array = trial_item_string_ids_df.to_numpy().astype('int32')[list_length_mask]\n",
    "            trial_item_string_ids.append(\n",
    "                trial_item_string_ids_array[:, :min(list_length, trial_item_string_ids_array.shape[1])])\n",
    "\n",
    "    return trials, list_lengths, presentations, pres_item_string_ids, trial_item_string_ids"
   ]
  },
  {
   "cell_type": "code",
   "execution_count": 4,
   "metadata": {},
   "outputs": [],
   "source": [
    "# export\n",
    "\n",
    "def generate_trial_mask(events, trial_query):\n",
    "    \"\"\"\n",
    "    Return mask vector(s) selecting trials that match a query based on elements in events dataframe.\n",
    "    \n",
    "    Generates a mask vector for each list length, and returns a list of masks for each list length.\n",
    "    \"\"\"\n",
    "\n",
    "    # infer list length(s)\n",
    "    if 'list length' in events.columns:\n",
    "        list_lengths = [int(each) for each in pd.unique(events[\"list length\"])]\n",
    "        ll_specific_trial_query = '`list length` == {}'\n",
    "    else:\n",
    "        list_lengths = [int(np.max(events.input))]\n",
    "        ll_specific_trial_query = 'subject != -1'\n",
    "\n",
    "    # build trials argument, careful to filter out recalls and presentations rows with same query\n",
    "    trial_details = events.pivot_table(index=['subject', 'list'], dropna=False, aggfunc='first').reset_index()\n",
    "\n",
    "    trial_masks = []\n",
    "\n",
    "    for list_length in list_lengths:\n",
    "\n",
    "        # generate list_length mask\n",
    "        list_length_mask = trial_details.eval(\n",
    "            ll_specific_trial_query.format(list_length)).to_numpy(dtype='bool')\n",
    "\n",
    "        # generate trial mask and mask with list_length mask\n",
    "        trial_mask = trial_details.eval(trial_query).to_numpy(dtype='bool')\n",
    "        trial_masks.append(trial_mask[list_length_mask])\n",
    "\n",
    "    return trial_masks"
   ]
  },
  {
   "cell_type": "markdown",
   "metadata": {},
   "source": [
    "## Tests"
   ]
  },
  {
   "cell_type": "markdown",
   "metadata": {},
   "source": [
    "1. Make sure `presentations` array is properly generated from the LohnasKahana2014 & HowardKahana2005 datasets as well as a generic dataset.\n",
    "2. Make sure trials array is 1-indexed and generally selects the correct presentation items. \n",
    "3. Make sure trial_mask function can efficiently select between task conditions and/or subjects. \n",
    "4. Examine case where filtering happens by list length.\n",
    "5. Perform timing comparison between applying a dataframe-based recall analysis generating a dataframe from an array-based recall analysis.\n",
    "6. Make sure outputs can be easily handled by numba-jit compiled functions\n",
    "7. Make sure semantics of item and position elements are consistent across datasets.\n",
    "8. Make sure metadata are properly subsetted by list length in our Murdock 1962 and a generic dataset."
   ]
  },
  {
   "cell_type": "markdown",
   "metadata": {},
   "source": [
    "### Murdock 1962 Dataset"
   ]
  },
  {
   "cell_type": "code",
   "execution_count": 5,
   "metadata": {},
   "outputs": [
    {
     "name": "stdout",
     "output_type": "stream",
     "text": [
      "[20 19 13 18  1  9  2 17 16  0  0  0  0  0  0]\n",
      "[30 27  6 29 15 23  8  0  0  0  0  0  0  0  0]\n",
      "[39 40 29 31  7  8  1  0  0  0  0  0  0  0  0]\n"
     ]
    }
   ],
   "source": [
    "events = pd.read_csv('../../../compmemlearn/data/Murdock1962.csv')\n",
    "\n",
    "trials, list_lengths, presentations = events_metadata(events)\n",
    "\n",
    "assert(len(trials) == 3)\n",
    "for list_length_index, list_length in enumerate([20, 30, 40]):\n",
    "\n",
    "    # confirm list length subsetting\n",
    "    assert(list_lengths[list_length_index] == list_length)\n",
    "    assert(np.shape(presentations[list_length_index])[1] == list_length)\n",
    "\n",
    "    # confirm presentations is 0-list_length_indexed\n",
    "    assert(np.min(presentations[list_length_index]) == 0)\n",
    "    assert(np.max(presentations[list_length_index]) == list_length-1)\n",
    "\n",
    "    # confirm trials is 1-list_length_indexed except for non-recall events\n",
    "    print(trials[list_length_index][0])\n",
    "\n",
    "    # confirm generate_trial_mask identifies 80 trials per subject; and identifies the right trials\n",
    "    assert(np.sum(generate_trial_mask(events, \"subject == 1\")[list_length_index]) == 80)\n",
    "    assert(np.all(generate_trial_mask(events, \"subject == 1\")[list_length_index][:80]))\n",
    "\n",
    "    # confirm generate_trial_masking a list length of 20 only selects trials in 20-item lists\n",
    "    if list_length == 20:\n",
    "        assert(np.sum(generate_trial_mask(events, \"`list length`==20\")[list_length_index]) > 0)\n",
    "    else:\n",
    "        assert(np.sum(generate_trial_mask(events, \"`list length`==20\")[list_length_index]) == 0)"
   ]
  },
  {
   "cell_type": "markdown",
   "metadata": {},
   "source": [
    "### Lohnas 2014 Dataset"
   ]
  },
  {
   "cell_type": "code",
   "execution_count": 6,
   "metadata": {},
   "outputs": [
    {
     "name": "stdout",
     "output_type": "stream",
     "text": [
      "[ 0  1  2  3  4  5  6  7  8  9 10 11 12 13 14 15 16 17 18 19 20 21 22 23\n",
      " 24 25 26 27 28 29 30 31 32 33 34 35 36 37 38 39]\n",
      "[ 0  0  1  1  2  2  3  3  4  4  5  5  6  6  7  7  8  8  9  9 10 10 11 11\n",
      " 12 12 13 13 14 14 15 15 16 16 17 17 18 18 19 19]\n",
      "[ 0  1  2  3  4  5  4  6  1  0  7  2  3  7  5  6  8  9 10 11 10 12 13 14\n",
      "  9  8 15 12 11 13 15 16 14 17 18 19 16 19 18 17]\n",
      "[ 0  1  2  3  4  5  6  7  8  9 10 11 11 12 13 14 15 16  9 17 18 19 18 20\n",
      " 21 22 19 23 24 25 21 26 27 23 28 29 30 31 32 33]\n"
     ]
    }
   ],
   "source": [
    "events = pd.read_csv('../../../compmemlearn/data/LohnasKahana2014.csv')\n",
    "\n",
    "trials, list_lengths, presentations = events_metadata(events)\n",
    "\n",
    "assert(len(trials) == 1)\n",
    "assert(len(list_lengths) == 1)\n",
    "assert(len(presentations) == 1)\n",
    "\n",
    "trials = trials[0]\n",
    "list_length = list_lengths[0]\n",
    "presentations = presentations[0]\n",
    "\n",
    "for condition_index, condition in enumerate([1, 2, 3, 4]):\n",
    "\n",
    "    # confirm presentations is 0-list_length_indexed\n",
    "    assert(np.min(presentations) == 0)\n",
    "    assert(np.max(presentations) == list_length-1)\n",
    "\n",
    "    # confirm trial mask can select trials with different presentation orders\n",
    "    print(presentations[generate_trial_mask(events, f\"condition == {condition}\")[0]][0])\n",
    "\n",
    "    # confirm size of trial mask and trials array match even when some participants make 0 recalls\n",
    "    condition_mask = generate_trial_mask(events, f\"condition == {condition}\")\n",
    "    assert(len(condition_mask[0]) == len(trials))"
   ]
  },
  {
   "cell_type": "code",
   "execution_count": 7,
   "metadata": {},
   "outputs": [
    {
     "data": {
      "text/plain": [
       "array([ 1,  3,  5,  7,  9, 13, 15, 23, 17, 19, 21, 27, 25, 31, 33, 35, 37,\n",
       "       39,  0,  0,  0,  0,  0,  0,  0,  0,  0,  0,  0,  0,  0,  0,  0,  0,\n",
       "        0,  0,  0])"
      ]
     },
     "execution_count": 7,
     "metadata": {},
     "output_type": "execute_result"
    }
   ],
   "source": [
    "trials[3]"
   ]
  }
 ],
 "metadata": {
  "kernelspec": {
   "display_name": "Python 3.9.1 ('base')",
   "language": "python",
   "name": "python3"
  },
  "language_info": {
   "codemirror_mode": {
    "name": "ipython",
    "version": 3
   },
   "file_extension": ".py",
   "mimetype": "text/x-python",
   "name": "python",
   "nbconvert_exporter": "python",
   "pygments_lexer": "ipython3",
   "version": "3.9.1"
  },
  "orig_nbformat": 4,
  "vscode": {
   "interpreter": {
    "hash": "19d1d53a962d236aa061289c2ac16dc8e6d9648c89fe79f459ae9a3493bc67b4"
   }
  }
 },
 "nbformat": 4,
 "nbformat_minor": 2
}

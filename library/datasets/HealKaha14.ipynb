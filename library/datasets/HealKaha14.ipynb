{
 "cells": [
  {
   "cell_type": "code",
   "execution_count": 1,
   "metadata": {},
   "outputs": [],
   "source": [
    "# default_exp datasets"
   ]
  },
  {
   "cell_type": "markdown",
   "metadata": {},
   "source": [
    "# HealKaha14 Dataset"
   ]
  },
  {
   "cell_type": "markdown",
   "metadata": {},
   "source": [
    "> Healey, M. K., & Kahana, M. J. (2014). Is memory search governed by universal principles or idiosyncratic strategies?. Journal of Experimental Psychology: General, 143(2), 575.\n",
    "\n",
    "The present analyses are based on the 126 young adult (age 18–30) participants who had completed Experiment 1 of PEERS as of December 2012. Participants performed a free recall experiment consisting of 1 practice session and 6 subsequent experimental sessions. Each session consisted of 16 lists of 16 words presented one at a time on a computer screen. Different lists had different encoding task conditions; here, we focus on the 28 lists for each subject that were studied with no explicit encoding task. Word association spaces similarity values (Steyvers et al., 2004) were used to group words into four similarity bins (high similarity: cos($\\theta$) >= .7; medium–high similarity: .14 <= cos($\\theta$) < .7; medium–low similarity: ; low similarity: cos($\\theta$) < .14). In each list, two pairs of items from each of the groups were arranged such that one pair occurred at adjacent serial positions and the other pair was separated by at least two other items. Each word appeared for 3 s, followed by an inter-stimulus interval of 0.8–1.2 s."
   ]
  },
  {
   "cell_type": "code",
   "execution_count": 3,
   "metadata": {},
   "outputs": [],
   "source": [
    "# export\n",
    "\n",
    "import scipy.io as sio\n",
    "import numpy as np\n",
    "import pandas as pd\n",
    "from psifr import fr\n",
    "\n",
    "def prepare_healkaha2014_data(path):\n",
    "    \"\"\"\n",
    "    Prepares data formatted like `data/MurdData_clean.mat` for fitting.\n",
    "\n",
    "    Loads data from `path` with same format as `data/MurdData_clean.mat` and\n",
    "    returns a selected dataset as an array of unique recall trials and a\n",
    "    dataframe of unique study and recall events organized according to `psifr`\n",
    "    specifications.\n",
    "\n",
    "    **Arguments**:\n",
    "    - path: source of data file\n",
    "    - dataset_index: index of the dataset to be extracted from the file\n",
    "\n",
    "    **Returns**:\n",
    "    - trials: int64-array where rows identify a unique trial of responses and\n",
    "        columns corresponds to a unique recall index.\n",
    "    - merged: as a long format table where each row describes one study or\n",
    "        recall event.\n",
    "    - list_length: length of lists studied in the considered dataset\n",
    "    \"\"\"\n",
    "\n",
    "    # load all the data\n",
    "    mat_file = sio.loadmat(path, squeeze_me=True)\n",
    "    mat_data = [mat_file['data'].item()[i] for i in range(10)]\n",
    "    subjects = mat_data[0]\n",
    "    session = mat_data[1]\n",
    "    pres_item_strings = mat_data[2]\n",
    "    pres_item_numbers = mat_data[3]\n",
    "    rec_item_strings = mat_data[4]\n",
    "    rec_item_numbers = mat_data[5]\n",
    "    trials = mat_data[6].astype('int64')\n",
    "    intrusions = mat_data[7]\n",
    "    list_length = mat_data[8]\n",
    "    list_type = mat_data[9]\n",
    "\n",
    "    # build dataframe in psifr format\n",
    "    data_columns = [\n",
    "        'subject', 'list', 'trial_type', 'position', 'item', 'item_string_index',\n",
    "        'item_string', 'session', 'session_list', 'task']\n",
    "    data = []\n",
    "    for trial_index, trial in enumerate(trials):\n",
    "\n",
    "        # every time the subject changes, reset list_index\n",
    "        if not data or data[-1][0] != subjects[trial_index]:\n",
    "            list_index = 0\n",
    "        list_index += 1\n",
    "\n",
    "        # every time the session changes, reset session_list_index\n",
    "        if not data or data[-1][1] != session[trial_index]:\n",
    "            session_list_index = 0\n",
    "        session_list_index += 1\n",
    "\n",
    "        # add study events\n",
    "        for i in range(list_length):\n",
    "            data += [[subjects[trial_index],\n",
    "                      list_index, 'study', i+1, i+1, pres_item_numbers[trial_index][i], pres_item_strings[trial_index][i],\n",
    "                      session[trial_index], session_list_index, list_type[trial_index]]]\n",
    "\n",
    "        # add recall events\n",
    "        output_position = 1\n",
    "        for recall_index, recall_event in enumerate(trial):\n",
    "            if recall_event > 0 and recall_event not in trial.tolist()[:recall_index]:\n",
    "                data += [[subjects[trial_index], list_index,\n",
    "                          'recall', output_position, recall_event, rec_item_numbers[trial_index][recall_index], rec_item_strings[trial_index][recall_index], session[trial_index], session_list_index, list_type[trial_index]]]\n",
    "                output_position += 1\n",
    "\n",
    "    data = pd.DataFrame(data, columns=data_columns)\n",
    "    merged = fr.merge_free_recall(data, list_keys=data_columns[5:])\n",
    "    return merged, list_length"
   ]
  },
  {
   "cell_type": "code",
   "execution_count": 38,
   "metadata": {},
   "outputs": [],
   "source": [
    "events, list_length = prepare_healkaha2014_data('../../data/HealKaha14.data/HealKaha13.mat')\n",
    "\n",
    "events.to_csv('../../data/HealyKahana2014.csv', index=False)"
   ]
  },
  {
   "cell_type": "code",
   "execution_count": 41,
   "metadata": {},
   "outputs": [
    {
     "name": "stdout",
     "output_type": "stream",
     "text": [
      "126\n"
     ]
    },
    {
     "data": {
      "text/plain": [
       "((10584, 16), (10584, 16))"
      ]
     },
     "execution_count": 41,
     "metadata": {},
     "output_type": "execute_result"
    }
   ],
   "source": [
    "from compmemlearn.datasets import events_metadata\n",
    "\n",
    "query= 'task != -1'\n",
    "trials, list_lengths, presentations, trial_details = events_metadata(events, query)\n",
    "\n",
    "print(len(pd.unique(events.query(query).subject)))\n",
    "np.shape(trials), np.shape(presentations)"
   ]
  },
  {
   "cell_type": "code",
   "execution_count": 42,
   "metadata": {},
   "outputs": [
    {
     "data": {
      "text/plain": [
       "array([0.65164399, 0.60175737, 0.56840514, 0.54790249, 0.53278534,\n",
       "       0.51398337, 0.50434618, 0.49877173, 0.49074074, 0.50897581,\n",
       "       0.51776266, 0.52777778, 0.5808768 , 0.64805367, 0.80612245,\n",
       "       0.94302721])"
      ]
     },
     "execution_count": 42,
     "metadata": {},
     "output_type": "execute_result"
    },
    {
     "data": {
      "image/png": "[encoded data removed]",
      "text/plain": [
       "<Figure size 432x288 with 1 Axes>"
      ]
     },
     "metadata": {
      "needs_background": "light"
     },
     "output_type": "display_data"
    }
   ],
   "source": [
    "from compmemlearn.analyses import fast_spc\n",
    "from matplotlib import pyplot as plt\n",
    "\n",
    "all_spc = []\n",
    "for subject in pd.unique(trial_details.reset_index().subject):\n",
    "    all_spc.append(fast_spc(trials[trial_details.reset_index().subject == subject], list_length))\n",
    "\n",
    "plt.plot(np.mean(np.array(all_spc), 0))\n",
    "plt.xticks(np.arange(16), np.arange(1, 17))\n",
    "plt.ylim([0, 1])\n",
    "np.mean(np.array(all_spc), 0)"
   ]
  },
  {
   "cell_type": "code",
   "execution_count": 35,
   "metadata": {},
   "outputs": [
    {
     "data": {
      "text/plain": [
       "<seaborn.axisgrid.FacetGrid at 0x27881208af0>"
      ]
     },
     "execution_count": 35,
     "metadata": {},
     "output_type": "execute_result"
    },
    {
     "data": {
      "image/png": "[encoded data removed]",
      "text/plain": [
       "<Figure size 216x216 with 1 Axes>"
      ]
     },
     "metadata": {
      "needs_background": "light"
     },
     "output_type": "display_data"
    }
   ],
   "source": [
    "from psifr.fr import spc, plot_spc\n",
    "\n",
    "plot_spc(spc(events.query(query)))"
   ]
  },
  {
   "cell_type": "code",
   "execution_count": 36,
   "metadata": {},
   "outputs": [
    {
     "data": {
      "text/plain": [
       "array([0.05678382, 0.01039305, 0.00642479, 0.00670824, 0.00604686,\n",
       "       0.00547997, 0.00576342, 0.0068972 , 0.00784203, 0.01247166,\n",
       "       0.01899093, 0.02636054, 0.05404384, 0.07728647, 0.17602041,\n",
       "       0.52248677])"
      ]
     },
     "execution_count": 36,
     "metadata": {},
     "output_type": "execute_result"
    },
    {
     "data": {
      "image/png": "[encoded data removed]",
      "text/plain": [
       "<Figure size 432x288 with 1 Axes>"
      ]
     },
     "metadata": {
      "needs_background": "light"
     },
     "output_type": "display_data"
    }
   ],
   "source": [
    "from compmemlearn.analyses import fast_pfr\n",
    "\n",
    "\n",
    "plt.plot(fast_pfr(trials, 16))\n",
    "fast_pfr(trials, 16)"
   ]
  },
  {
   "cell_type": "code",
   "execution_count": 37,
   "metadata": {},
   "outputs": [
    {
     "data": {
      "text/plain": [
       "array([0.07013015, 0.0449605 , 0.04400144, 0.0428737 , 0.04340568,\n",
       "       0.04586968, 0.04434903, 0.05034398, 0.05243838, 0.05481084,\n",
       "       0.05850215, 0.06496167, 0.07911819, 0.10179338, 0.23415122,\n",
       "       0.        , 0.37368628, 0.11497925, 0.08832226, 0.07665047,\n",
       "       0.06791563, 0.06555278, 0.06117247, 0.05582643, 0.0575447 ,\n",
       "       0.05188844, 0.04802974, 0.04777202, 0.05092967, 0.05223637,\n",
       "       0.06231743])"
      ]
     },
     "execution_count": 37,
     "metadata": {},
     "output_type": "execute_result"
    },
    {
     "data": {
      "image/png": "[encoded data removed]",
      "text/plain": [
       "<Figure size 432x288 with 1 Axes>"
      ]
     },
     "metadata": {
      "needs_background": "light"
     },
     "output_type": "display_data"
    }
   ],
   "source": [
    "from compmemlearn.analyses import fast_crp\n",
    "\n",
    "plt.plot(fast_crp(trials, 16))\n",
    "\n",
    "fast_crp(trials, 16)"
   ]
  },
  {
   "cell_type": "code",
   "execution_count": null,
   "metadata": {},
   "outputs": [],
   "source": []
  }
 ],
 "metadata": {
  "interpreter": {
   "hash": "ecf5722fdaf1897a315d257d89d94520bfcaa453217d5becf09b39e73618b0de"
  },
  "kernelspec": {
   "display_name": "Python 3.9.1 ('base')",
   "language": "python",
   "name": "python3"
  },
  "language_info": {
   "codemirror_mode": {
    "name": "ipython",
    "version": 3
   },
   "file_extension": ".py",
   "mimetype": "text/x-python",
   "name": "python",
   "nbconvert_exporter": "python",
   "pygments_lexer": "ipython3",
   "version": "3.9.1"
  },
  "orig_nbformat": 4
 },
 "nbformat": 4,
 "nbformat_minor": 2
}

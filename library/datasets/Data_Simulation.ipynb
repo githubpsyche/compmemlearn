{
 "cells": [
  {
   "cell_type": "code",
   "execution_count": null,
   "id": "d150fb67-483b-4de8-8c39-77cbf5e5a09d",
   "metadata": {},
   "outputs": [],
   "source": [
    "# default_exp datasets"
   ]
  },
  {
   "cell_type": "markdown",
   "id": "441c9b4a-0cda-4767-beee-10c0f9212d18",
   "metadata": {},
   "source": [
    "# Data Simulation\n",
    "The approach for creating simulated datasets is to initialize a model with specified parameters and experience sequences and then populate a psifr-formatted array with the outcomes of performing `free recall`. \n",
    "\n",
    "The `simulate_data` function below presumes each item is just presented once and that a model has already been initialized, and is better for quick baseline characterization of model performance. Datasets with item repetitions during presentation violate this premise; a more unique function is normally necessary for simulating these models in a performant way.\n",
    "\n",
    "Since model simulation this way has always directly led to visualization in work done so far, a corresponding `trials` array is not produced."
   ]
  },
  {
   "cell_type": "markdown",
   "id": "34305f5b-c6f7-4772-8be5-1a02f168171d",
   "metadata": {},
   "source": [
    "## Demo Dependencies"
   ]
  },
  {
   "cell_type": "code",
   "execution_count": null,
   "id": "6af3bcfe-484d-40d3-b054-cd382c89fb21",
   "metadata": {},
   "outputs": [],
   "source": [
    "from compmemlearn.models import Classic_CMR\n",
    "from compmemlearn.datasets import prepare_murdock1970_data, prepare_lohnas2014_data\n",
    "from compmemlearn.analyses import fast_rpl, fast_spc\n",
    "from scipy.optimize import differential_evolution\n",
    "from numba.typed import List, Dict\n",
    "from numba.core import types\n",
    "from psifr import fr\n",
    "import pandas as pd\n",
    "import numpy as np\n",
    "import seaborn as sns\n",
    "import matplotlib.pyplot as plt\n",
    "from numba import njit\n",
    "import numpy.matlib\n",
    "\n",
    "murd_trials0, murd_events0, murd_length0 = prepare_murdock1970_data('../../data/mo1970.txt')\n",
    "\n",
    "cmr_free_parameters = (\n",
    "    'encoding_drift_rate',\n",
    "    'start_drift_rate',\n",
    "    'recall_drift_rate',\n",
    "    'shared_support',\n",
    "    'item_support',\n",
    "    'learning_rate',\n",
    "    'primacy_scale',\n",
    "    'primacy_decay',\n",
    "    'stop_probability_scale',\n",
    "    'stop_probability_growth',\n",
    "    'choice_sensitivity',\n",
    "    'delay_drift_rate'\n",
    ")\n",
    "\n",
    "cmr_result = np.array(\n",
    "    [5.84259066e-01, 4.27375824e-03, 7.21454638e-01, 8.17704509e-01,\n",
    "     1.00000000e+00, 9.88623591e-02, 9.31571732e+00, 7.54040329e+01,\n",
    "     3.14204629e-02, 3.36598109e-01, 9.99452206e+00, 9.95457387e-01])\n",
    "\n",
    "fitted_parameters = Dict.empty(\n",
    "    key_type=types.unicode_type, value_type=types.float64)\n",
    "for i in range(len(cmr_result)):\n",
    "    fitted_parameters[cmr_free_parameters[i]] = cmr_result[i]\n",
    "fitted_parameters['sampling_rule'] = 0\n",
    "fitted_parameters['mfc_familiarity_scale'] = 0\n",
    "fitted_parameters['mcf_familiarity_scale'] = 0\n",
    "fitted_parameters['drift_familiarity_scale'] = 0\n",
    "\n",
    "@njit(nogil=True)\n",
    "def init_cmr(item_count, presentation_count, parameters):\n",
    "    return Classic_CMR(item_count, presentation_count, parameters)"
   ]
  },
  {
   "cell_type": "markdown",
   "id": "b8136d9b-86a9-43e2-953f-5449f833275d",
   "metadata": {},
   "source": [
    "## Functions"
   ]
  },
  {
   "cell_type": "markdown",
   "id": "d15ad231-9f85-4123-a9d2-d8c8b92b25f8",
   "metadata": {},
   "source": [
    "### Pure List Simulation"
   ]
  },
  {
   "cell_type": "code",
   "execution_count": null,
   "id": "57b53c50-1ad0-48b1-8811-08f0ecaf92f1",
   "metadata": {},
   "outputs": [],
   "source": [
    "# export\n",
    "import pandas as pd\n",
    "from psifr import fr\n",
    "import numpy as np\n",
    "from numba import int32\n",
    "from numba import njit\n",
    "\n",
    "def simulate_df(model, experiment_count, first_recall_item=None):\n",
    "    \"\"\"\n",
    "    Initialize a model with specified parameters and experience sequences and \n",
    "    then populate a psifr-formatted dataframe with the outcomes of performing `free recall`. \n",
    "    \n",
    "    **Required model attributes**:\n",
    "    - item_count: specifies number of items encoded into memory\n",
    "    - context: vector representing an internal contextual state\n",
    "    - experience: adding a new trace to the memory model\n",
    "    - free_recall: function that freely recalls a given number of items or until recall stops\n",
    "    \"\"\"\n",
    "    \n",
    "    # encode items\n",
    "    model.experience(model.items)\n",
    "\n",
    "    # simulate retrieval for the specified number of times, tracking results in df\n",
    "    data = []\n",
    "    for experiment in range(experiment_count):\n",
    "        data += [[experiment, 0, 'study', i + 1, i] for i in range(model.item_count)]\n",
    "    for experiment in range(experiment_count):\n",
    "        if first_recall_item is not None:\n",
    "            model.force_recall(first_recall_item)\n",
    "        data += [[experiment, 0, 'recall', i + 1, o] for i, o in enumerate(model.free_recall())]\n",
    "        model.force_recall(0)\n",
    "    data = pd.DataFrame(data, columns=['subject', 'list', 'trial_type', 'position', 'item'])\n",
    "    merged = fr.merge_free_recall(data)\n",
    "    \n",
    "    return merged"
   ]
  },
  {
   "cell_type": "markdown",
   "id": "c2e57867",
   "metadata": {},
   "source": [
    "What does it mean to simulate DF from events?\n",
    "\n",
    "I want to simulate each trial as it happened in the dataset. I want to add the simulated data to my dataframe with the same index and other labels as they were given in the dataset."
   ]
  },
  {
   "cell_type": "code",
   "execution_count": null,
   "id": "22a273d1",
   "metadata": {},
   "outputs": [],
   "source": [
    "def simulate_df_from_events(model_class, parameters, events, trial_query, experiment_count, first_recall_item=None):\n",
    "\n",
    "    "
   ]
  },
  {
   "cell_type": "code",
   "execution_count": null,
   "id": "84a2eb1e",
   "metadata": {},
   "outputs": [],
   "source": [
    "from compmemlearn.datasets import events_metadata, generate_trial_mask\n",
    "\n",
    "def simulate_df_from_events(model_class, parameters, events, trial_query, experiment_count, first_recall_item=None):\n",
    "    \"\"\"\n",
    "    Initialize a model with specified parameters and experience sequences and \n",
    "    then populate a psifr-formatted dataframe with the outcomes of performing `free recall`. \n",
    "    \n",
    "    **Required model attributes**:\n",
    "    - item_count: specifies number of items encoded into memory\n",
    "    - context: vector representing an internal contextual state\n",
    "    - experience: adding a new trace to the memory model\n",
    "    - free_recall: function that freely recalls a given number of items or until recall stops\n",
    "    \"\"\"\n",
    "\n",
    "    trials, list_lengths, presentations = events_metadata(events)\n",
    "    trial_mask = generate_trial_mask(events, trial_query)\n",
    "\n",
    "    # confirm that only one list length was selected for this events df and trial_query\n",
    "    trials = [\n",
    "            trials[i][trial_mask[i]]\n",
    "            for i in range(len(trials))\n",
    "            if len(trials[i][trial_mask[i]]) > 0\n",
    "        ]\n",
    "    list_lengths = [list_lengths[i] for i in range(len(list_lengths)) if len(trials[i]) > 0]\n",
    "    presentations = [presentations[i][trial_mask[i]] for i in range(len(presentations)) if len(trials[i]) > 0]\n",
    "    assert(len(list_lengths) == 1)\n",
    "    trials = trials[0]\n",
    "    list_lengths = list_lengths[0]\n",
    "    presentations = presentations[0]\n",
    "\n",
    "    factors = []\n",
    "    for column_name in events.columns[9:]:\n",
    "        factors.append(\n",
    "            events.pivot_table(index=['subject', 'list'], values=column_name, dropna=False).to_numpy()[trial_mask])\n",
    "        assert(len(factors[-1]) == len(trials))\n",
    "\n",
    "    # simulate retrieval for the specified number of times, tracking results in trials array\n",
    "    trials = np.zeros((experiment_count * len(presentations), np.max(presentations)+1), dtype=int32)\n",
    "    \n",
    "    data = []\n",
    "    for experiment in range(experiment_count):\n",
    "        for trial_index in range(len(presentations)):\n",
    "        \n",
    "            # retrieve presentation sequence for this trial and measure number of unique items\n",
    "            presentation = presentations[trial_index]\n",
    "            for presentation_index, presentation_event in enumerate(presentation):\n",
    "                data.append([\n",
    "                    experiment, trial_index, 'study', presentation_index+1, presentation_event, presentation_index+1\n",
    "                        ])\n",
    "                for factor in factors:\n",
    "                    data[-1].append(factor[presentation_index])\n",
    "            item_count = np.max(presentation)+1\n",
    "            \n",
    "            # simulate recall and identify first study position of each recalled item\n",
    "            model = model_class(item_count, len(presentation), parameters)\n",
    "            model.experience(model.items[presentation])\n",
    "            if first_recall_item is not None:\n",
    "                model.force_recall(first_recall_item)\n",
    "            recalled = model.free_recall()\n",
    "            trial = [find_first(recalled[i], presentation) + 1 for i in range(len(recalled))]\n",
    "\n",
    "            for recall_index, recall_event in enumerate(trial):\n",
    "                if recall_event != 0:\n",
    "                    data.append([\n",
    "                        experiment, trial_index, 'recall', recall_index+1, presentation[recall_event-1], recall_event\n",
    "                            ])\n",
    "                    for factor in factors:\n",
    "                        data[-1].append(factor[presentation_index])\n",
    "    \n",
    "    data = pd.DataFrame(data, columns=['subject', 'list', 'trial_type', 'position', 'item'] + events.columns[9:])\n",
    "    merged = fr.merge_free_recall(data)\n",
    "    return merged"
   ]
  },
  {
   "cell_type": "code",
   "execution_count": null,
   "id": "8ce0e86d-8db6-46dc-be74-f29b36a5f438",
   "metadata": {},
   "outputs": [],
   "source": [
    "# export\n",
    "\n",
    "@njit(fastmath=True, nogil=True)\n",
    "def simulate_array(model, experiment_count, first_recall_item=None):\n",
    "    \n",
    "    # encode items\n",
    "    model.experience(model.items)\n",
    "\n",
    "    # simulate retrieval for the specified number of times, tracking results in array\n",
    "    trials = np.zeros((experiment_count, len(model.items)), dtype=int32)\n",
    "    \n",
    "    for trial_index in range(len(trials)):\n",
    "        \n",
    "        recalled = model.free_recall()\n",
    "        model.force_recall(0)\n",
    "        trials[trial_index, :len(recalled)] = recalled + 1\n",
    "        \n",
    "    return trials"
   ]
  },
  {
   "cell_type": "markdown",
   "id": "be366c8c-a7bd-48b7-8b8d-0a67ec3f2a8d",
   "metadata": {},
   "source": [
    "### Impure Lists (Possible Repetitions)"
   ]
  },
  {
   "cell_type": "code",
   "execution_count": null,
   "id": "b9ff0b59-8b4a-4412-a91b-57e18d43841a",
   "metadata": {},
   "outputs": [],
   "source": [
    "# export\n",
    "\n",
    "@njit(nogil=True)\n",
    "def simulate_array_from_presentations(model_class, parameters, presentations, experiment_count):\n",
    "\n",
    "    # simulate retrieval for the specified number of times, tracking results in trials array\n",
    "    trials = np.zeros((experiment_count * len(presentations), np.max(presentations)+1), dtype=int32)\n",
    "    \n",
    "    for experiment in range(experiment_count):\n",
    "        for trial_index in range(len(presentations)):\n",
    "        \n",
    "            # retrieve presentation sequence for this trial and measure number of unique items\n",
    "            presentation = presentations[trial_index]\n",
    "            item_count = np.max(presentation)+1\n",
    "            \n",
    "            # simulate recall and identify first study position of each recalled item\n",
    "            model = model_class(item_count, len(presentation), parameters)\n",
    "            model.experience(model.items[presentation])\n",
    "            recalled = model.free_recall()\n",
    "            \n",
    "            for i in range(len(recalled)):\n",
    "                trials[experiment*len(presentations) + trial_index, i] = find_first(recalled[i], presentation) + 1\n",
    "    \n",
    "    return trials\n",
    "\n",
    "@njit(nogil=True)\n",
    "def find_first(item, vec):\n",
    "    \"\"\"return the index of the first occurence of item in vec\"\"\"\n",
    "    for i in range(len(vec)):\n",
    "        if item == vec[i]:\n",
    "            return i\n",
    "    return -1"
   ]
  },
  {
   "cell_type": "markdown",
   "id": "7d379745-f580-4bef-b39f-8c6cf1c89722",
   "metadata": {},
   "source": [
    "## Demo"
   ]
  },
  {
   "cell_type": "markdown",
   "id": "954dd93c-ba31-4920-be5d-7946350e4a4d",
   "metadata": {},
   "source": [
    "### Mixed Lists: `simulate_array_from_presentations`\n",
    "Make sure:\n",
    "- presentation array is matched to trial array\n",
    "- mixed list trials are selected\n",
    "- experiment_count doesn't disrupt alignment"
   ]
  },
  {
   "cell_type": "code",
   "execution_count": null,
   "id": "b9b34a96-4e48-45be-b0a8-b02f2eda70b7",
   "metadata": {},
   "outputs": [
    {
     "name": "stdout",
     "output_type": "stream",
     "text": [
      "lohnas_all :\n",
      "[0.35386862 0.43319286 0.46776964 0.48948095 0.49651786]\n",
      "\n",
      "lohnas_4 :\n",
      "[0.35961046 0.50194643 0.53528214 0.55109286 0.55234048]\n",
      "\n",
      "murdock1962 :\n",
      "[0.19713656 0.34533214 0.34188036 0.34759405 0.34767381]\n",
      "\n",
      "murdock1970 :\n",
      "[0.15170502 0.26838214 0.25996429 0.25957381 0.25287619]\n",
      "\n"
     ]
    }
   ],
   "source": [
    "trials, events, list_length, presentations, list_types, rep_data, subjects = prepare_lohnas2014_data(\n",
    "    '../../data/repFR.mat')\n",
    "\n",
    "experiment_count = 1000\n",
    "\n",
    "fit_sources = ['lohnas_all', 'lohnas_4', 'murdock1962', 'murdock1970']\n",
    "\n",
    "fit_stats = [\n",
    "    np.array([8.65828835e-01, 2.26715503e-01, 9.52028097e-01, 2.63844603e-02,\n",
    "       1.47259363e-07, 4.31890546e-01, 2.63745217e+00, 2.98606729e+01,\n",
    "       2.51644003e-02, 1.01406301e-01, 1.02305123e+00, 9.80106784e-01]),\n",
    "    np.array([8.06135392e-01, 3.07112592e-01, 9.55038268e-01, 1.15022323e-01,\n",
    "       1.60855931e-02, 5.07853225e-01, 4.61059897e-01, 7.16087569e+01,\n",
    "       2.52322009e-02, 9.37792238e-02, 2.02696856e+00, 9.24630111e-01]),\n",
    "    np.array([5.88304182e-01, 3.76144942e-02, 7.51294302e-01, 2.91680115e-01,\n",
    "       1.00000000e+00, 1.39633721e-01, 5.62625588e+00, 4.28789782e+01,\n",
    "       2.40537436e-02, 2.61824232e-01, 5.32941045e+00, 9.34036191e-01]),\n",
    "    np.array([5.79524319e-01, 4.07083020e-03, 7.24717634e-01, 7.47425733e-01,\n",
    "       1.00000000e+00, 9.58358158e-02, 9.55947397e+00, 8.71434638e+01,\n",
    "       3.13827247e-02, 3.36754300e-01, 9.25336064e+00, 9.95710836e-01])\n",
    "]\n",
    "\n",
    "for i in range(len(fit_sources)):\n",
    "    cmr_result = fit_stats[i]\n",
    "\n",
    "    fitted_parameters = Dict.empty(\n",
    "        key_type=types.unicode_type, value_type=types.float64)\n",
    "    for j in range(len(cmr_result)):\n",
    "        fitted_parameters[cmr_free_parameters[j]] = cmr_result[j]\n",
    "        \n",
    "    fitted_parameters['sampling_rule'] = 0\n",
    "    fitted_parameters['mfc_familiarity_scale'] = 0\n",
    "    fitted_parameters['mcf_familiarity_scale'] = 0\n",
    "    fitted_parameters['drift_familiarity_scale'] = 0\n",
    "\n",
    "    new_sim_array = simulate_array_from_presentations(init_cmr, fitted_parameters, presentations[list_types==4], experiment_count)\n",
    "    \n",
    "    result = fast_rpl(np.matlib.repmat(presentations[list_types==4], experiment_count, 1), new_sim_array)\n",
    "    binned = np.zeros(5)\n",
    "    binned[0] = result[0]\n",
    "    binned[1] = result[1]\n",
    "    binned[2] = (result[2] + result[3])/2\n",
    "    binned[3] = (result[4] + result[5] + result[6])/3\n",
    "    binned[4] = (result[7] + result[8] + result[9])/3\n",
    "    print(fit_sources[i], ':')\n",
    "    print(binned)\n",
    "    print()"
   ]
  },
  {
   "cell_type": "code",
   "execution_count": null,
   "id": "0acb9753-34fc-42b4-8818-d273fabd552f",
   "metadata": {},
   "outputs": [
    {
     "data": {
      "text/plain": [
       "<matplotlib.legend.Legend at 0x1f757ae98e0>"
      ]
     },
     "execution_count": null,
     "metadata": {},
     "output_type": "execute_result"
    },
    {
     "data": {
      "image/png": "[encoded data removed]",
      "text/plain": [
       "<Figure size 432x288 with 1 Axes>"
      ]
     },
     "metadata": {
      "needs_background": "light"
     },
     "output_type": "display_data"
    }
   ],
   "source": [
    "fit_sources = ['lohnas_all', 'lohnas_4', 'murdock1962', 'murdock1970']\n",
    "\n",
    "fit_rpls = [[0.35386862, 0.43319286, 0.46776964, 0.48948095, 0.49651786], \n",
    "            [0.35961046, 0.50194643, 0.53528214, 0.55109286, 0.55234048],\n",
    "            [0.19713656, 0.34533214, 0.34188036, 0.34759405, 0.34767381],\n",
    "            [0.15170502, 0.26838214, 0.25996429, 0.25957381, 0.25287619]]\n",
    "\n",
    "for i in range(len(fit_sources)):\n",
    "    plt.plot(fit_rpls[i], label=fit_sources[i])\n",
    "\n",
    "result = fast_rpl(presentations[list_types==4], trials[list_types==4])\n",
    "binned = np.zeros(5)\n",
    "binned[0] = result[0]\n",
    "binned[1] = result[1]\n",
    "binned[2] = (result[2] + result[3])/2\n",
    "binned[3] = (result[4] + result[5] + result[6])/3\n",
    "binned[4] = (result[7] + result[8] + result[9])/3\n",
    "plt.plot(binned, label='data')\n",
    "lags = ['N/A', '0', '1-2', '3-5', '6-8']\n",
    "plt.xticks(np.arange(len(lags)), lags)\n",
    "plt.legend(bbox_to_anchor=(1.05, 1), loc=2, borderaxespad=0.)"
   ]
  },
  {
   "cell_type": "markdown",
   "id": "131e7f59-8284-4bda-be45-135f7ed5a1a7",
   "metadata": {},
   "source": [
    "### Pure Lists: `simulate_df`"
   ]
  },
  {
   "cell_type": "code",
   "execution_count": null,
   "id": "9ab8a946-4854-438e-ae44-816e88a5e4cc",
   "metadata": {},
   "outputs": [
    {
     "data": {
      "text/html": [
       "<div>\n",
       "<style scoped>\n",
       "    .dataframe tbody tr th:only-of-type {\n",
       "        vertical-align: middle;\n",
       "    }\n",
       "\n",
       "    .dataframe tbody tr th {\n",
       "        vertical-align: top;\n",
       "    }\n",
       "\n",
       "    .dataframe thead th {\n",
       "        text-align: right;\n",
       "    }\n",
       "</style>\n",
       "<table border=\"1\" class=\"dataframe\">\n",
       "  <thead>\n",
       "    <tr style=\"text-align: right;\">\n",
       "      <th></th>\n",
       "      <th>subject</th>\n",
       "      <th>list</th>\n",
       "      <th>item</th>\n",
       "      <th>input</th>\n",
       "      <th>output</th>\n",
       "      <th>study</th>\n",
       "      <th>recall</th>\n",
       "      <th>repeat</th>\n",
       "      <th>intrusion</th>\n",
       "    </tr>\n",
       "  </thead>\n",
       "  <tbody>\n",
       "    <tr>\n",
       "      <th>0</th>\n",
       "      <td>0</td>\n",
       "      <td>0</td>\n",
       "      <td>0</td>\n",
       "      <td>1</td>\n",
       "      <td>NaN</td>\n",
       "      <td>True</td>\n",
       "      <td>False</td>\n",
       "      <td>0</td>\n",
       "      <td>False</td>\n",
       "    </tr>\n",
       "    <tr>\n",
       "      <th>1</th>\n",
       "      <td>0</td>\n",
       "      <td>0</td>\n",
       "      <td>1</td>\n",
       "      <td>2</td>\n",
       "      <td>NaN</td>\n",
       "      <td>True</td>\n",
       "      <td>False</td>\n",
       "      <td>0</td>\n",
       "      <td>False</td>\n",
       "    </tr>\n",
       "    <tr>\n",
       "      <th>2</th>\n",
       "      <td>0</td>\n",
       "      <td>0</td>\n",
       "      <td>2</td>\n",
       "      <td>3</td>\n",
       "      <td>NaN</td>\n",
       "      <td>True</td>\n",
       "      <td>False</td>\n",
       "      <td>0</td>\n",
       "      <td>False</td>\n",
       "    </tr>\n",
       "    <tr>\n",
       "      <th>3</th>\n",
       "      <td>0</td>\n",
       "      <td>0</td>\n",
       "      <td>3</td>\n",
       "      <td>4</td>\n",
       "      <td>NaN</td>\n",
       "      <td>True</td>\n",
       "      <td>False</td>\n",
       "      <td>0</td>\n",
       "      <td>False</td>\n",
       "    </tr>\n",
       "    <tr>\n",
       "      <th>4</th>\n",
       "      <td>0</td>\n",
       "      <td>0</td>\n",
       "      <td>4</td>\n",
       "      <td>5</td>\n",
       "      <td>2.0</td>\n",
       "      <td>True</td>\n",
       "      <td>True</td>\n",
       "      <td>0</td>\n",
       "      <td>False</td>\n",
       "    </tr>\n",
       "  </tbody>\n",
       "</table>\n",
       "</div>"
      ],
      "text/plain": [
       "   subject  list  item  input  output  study  recall  repeat  intrusion\n",
       "0        0     0     0      1     NaN   True   False       0      False\n",
       "1        0     0     1      2     NaN   True   False       0      False\n",
       "2        0     0     2      3     NaN   True   False       0      False\n",
       "3        0     0     3      4     NaN   True   False       0      False\n",
       "4        0     0     4      5     2.0   True    True       0      False"
      ]
     },
     "execution_count": null,
     "metadata": {},
     "output_type": "execute_result"
    }
   ],
   "source": [
    "model = Classic_CMR(murd_length0, murd_length0, fitted_parameters)\n",
    "sim_df = simulate_df(model, 1000)\n",
    "\n",
    "sim_df.head()"
   ]
  },
  {
   "cell_type": "markdown",
   "id": "2daf2cbe-8733-40cc-9667-9784f83b57c7",
   "metadata": {},
   "source": [
    "### Pure Lists: `simulate_array` vs `simulate_array_from_presentations`"
   ]
  },
  {
   "cell_type": "code",
   "execution_count": null,
   "id": "f0295726-be8a-46d3-9810-536a939e74cc",
   "metadata": {},
   "outputs": [
    {
     "data": {
      "text/plain": [
       "array([[18, 14, 19, ...,  0,  0,  0],\n",
       "       [17,  0,  0, ...,  0,  0,  0],\n",
       "       [18,  1, 19, ...,  0,  0,  0],\n",
       "       ...,\n",
       "       [ 8, 20, 15, ...,  0,  0,  0],\n",
       "       [15, 20, 17, ...,  0,  0,  0],\n",
       "       [19, 20,  1, ...,  0,  0,  0]])"
      ]
     },
     "execution_count": null,
     "metadata": {},
     "output_type": "execute_result"
    }
   ],
   "source": [
    "# implementation that assumes pure lists\n",
    "model = Classic_CMR(murd_length0, murd_length0, fitted_parameters)\n",
    "original_sim_array = simulate_array(model, len(murd_trials0))#*100)\n",
    "original_spc = fast_spc(original_sim_array, murd_length0)\n",
    "\n",
    "original_sim_array"
   ]
  },
  {
   "cell_type": "code",
   "execution_count": null,
   "id": "684084a8-e329-4604-9239-b7207689545c",
   "metadata": {},
   "outputs": [
    {
     "data": {
      "text/plain": [
       "array([[18, 20,  5, ...,  0,  0,  0],\n",
       "       [13, 12,  8, ...,  0,  0,  0],\n",
       "       [19, 20,  3, ...,  0,  0,  0],\n",
       "       ...,\n",
       "       [20, 19, 15, ...,  0,  0,  0],\n",
       "       [17, 18, 14, ...,  0,  0,  0],\n",
       "       [19,  1, 20, ...,  0,  0,  0]])"
      ]
     },
     "execution_count": null,
     "metadata": {},
     "output_type": "execute_result"
    }
   ],
   "source": [
    "# presentation-based implementation\n",
    "presentations = np.zeros((len(murd_trials0), murd_length0), dtype=int)\n",
    "presentations[:] = np.arange(murd_length0)\n",
    "\n",
    "new_sim_array = simulate_array_from_presentations(init_cmr, fitted_parameters, presentations, 1)\n",
    "new_spc = fast_spc(new_sim_array, murd_length0)\n",
    "\n",
    "new_sim_array"
   ]
  },
  {
   "cell_type": "code",
   "execution_count": null,
   "id": "a0bde668-c76d-4805-8c07-ce959ae4815c",
   "metadata": {},
   "outputs": [
    {
     "data": {
      "text/plain": [
       "<matplotlib.legend.Legend at 0x2ddc4396460>"
      ]
     },
     "execution_count": null,
     "metadata": {},
     "output_type": "execute_result"
    },
    {
     "data": {
      "image/png": "[encoded data removed]",
      "text/plain": [
       "<Figure size 432x288 with 1 Axes>"
      ]
     },
     "metadata": {
      "needs_background": "light"
     },
     "output_type": "display_data"
    }
   ],
   "source": [
    "# comparison\n",
    "import matplotlib.pyplot as plt\n",
    "\n",
    "plt.plot(fast_spc(original_sim_array, murd_length0), label='original')\n",
    "plt.plot(fast_spc(new_sim_array, murd_length0), label='new')\n",
    "\n",
    "plt.legend()"
   ]
  }
 ],
 "metadata": {
  "kernelspec": {
   "display_name": "Python 3.9.1 ('base')",
   "language": "python",
   "name": "python3"
  },
  "language_info": {
   "name": "python",
   "version": "3.9.1"
  },
  "vscode": {
   "interpreter": {
    "hash": "19d1d53a962d236aa061289c2ac16dc8e6d9648c89fe79f459ae9a3493bc67b4"
   }
  }
 },
 "nbformat": 4,
 "nbformat_minor": 5
}

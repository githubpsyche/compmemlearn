{
 "cells": [
  {
   "cell_type": "code",
   "execution_count": 1,
   "id": "d150fb67-483b-4de8-8c39-77cbf5e5a09d",
   "metadata": {},
   "outputs": [],
   "source": [
    "# default_exp datasets"
   ]
  },
  {
   "cell_type": "markdown",
   "id": "441c9b4a-0cda-4767-beee-10c0f9212d18",
   "metadata": {},
   "source": [
    "# Simulated Datasets\n",
    "The approach for creating simulated datasets is to initialize a model with specified parameters and experience sequences and then populate a psifr-formatted array with the outcomes of performing `free recall`. \n",
    "\n",
    "The `simulate_data` function below presumes each item is just presented once and that a model has already been initialized, and is better for quick baseline characterization of model performance. Datasets with item repetitions during presentation violate this premise; a more unique function is normally necessary for simulating these models in a performant way.\n",
    "\n",
    "Since model simulation this way has always directly led to visualization in work done so far, a corresponding `trials` array is not produced."
   ]
  },
  {
   "cell_type": "code",
   "execution_count": 1,
   "id": "57b53c50-1ad0-48b1-8811-08f0ecaf92f1",
   "metadata": {},
   "outputs": [],
   "source": [
    "# export\n",
    "import pandas as pd\n",
    "from psifr import fr\n",
    "import numpy as np\n",
    "from numba import int32\n",
    "from numba import njit\n",
    "int32 = int\n",
    "\n",
    "def simulate_df(model, experiment_count, first_recall_item=None):\n",
    "    \"\"\"\n",
    "    Initialize a model with specified parameters and experience sequences and \n",
    "    then populate a psifr-formatted dataframe with the outcomes of performing `free recall`. \n",
    "    \n",
    "    **Required model attributes**:\n",
    "    - item_count: specifies number of items encoded into memory\n",
    "    - context: vector representing an internal contextual state\n",
    "    - experience: adding a new trace to the memory model\n",
    "    - free_recall: function that freely recalls a given number of items or until recall stops\n",
    "    \"\"\"\n",
    "    \n",
    "    # encode items\n",
    "    model.experience(model.items)\n",
    "\n",
    "    # simulate retrieval for the specified number of times, tracking results in df\n",
    "    data = []\n",
    "    for experiment in range(experiment_count):\n",
    "        data += [[experiment, 0, 'study', i + 1, i] for i in range(model.item_count)]\n",
    "    for experiment in range(experiment_count):\n",
    "        if first_recall_item is not None:\n",
    "            model.force_recall(first_recall_item)\n",
    "        data += [[experiment, 0, 'recall', i + 1, o] for i, o in enumerate(model.free_recall())]\n",
    "    data = pd.DataFrame(data, columns=['subject', 'list', 'trial_type', 'position', 'item'])\n",
    "    merged = fr.merge_free_recall(data)\n",
    "    \n",
    "    return merged\n",
    "\n",
    "simulate_data = simulate_df"
   ]
  },
  {
   "cell_type": "code",
   "execution_count": 2,
   "id": "4e044ef7-2091-4869-b519-3f63b3a582af",
   "metadata": {},
   "outputs": [],
   "source": [
    "# export\n",
    "\n",
    "#@njit(fastmath=True, nogil=True)\n",
    "def simulate_array_from_presentations(model_class, parameters, presentations, experiment_count):\n",
    "\n",
    "    # simulate retrieval for the specified number of times, tracking results in array\n",
    "    trials = np.zeros((experiment_count * len(presentations), np.max(presentations)+1), dtype=int32)\n",
    "    \n",
    "    for experiment in range(experiment_count):\n",
    "        for trial_index in range(len(presentations)):\n",
    "        \n",
    "            presentation = presentations[trial_index]\n",
    "            item_count = np.max(presentation)+1\n",
    "            model = model_class(item_count, len(presentation), parameters)\n",
    "            model.experience(model.items[presentation])\n",
    "\n",
    "            # simulate recall and identify first study position of each recalled item\n",
    "            recalled = model.free_recall()\n",
    "\n",
    "            # start with indices that would sort the presentation vector\n",
    "            # presentation[xsorted] is a sorted presentation vector!\n",
    "            xsorted = np.argsort(presentation) \n",
    "\n",
    "            # Find the indices into a sorted array a such that, \n",
    "            # if the corresponding elements in v were inserted before the indices, \n",
    "            # the order of a would be preserved.\n",
    "            # since presentation contains all possible recalls and each recall is unique,\n",
    "            # this gets us the sorted index of each recalled item in presentation\n",
    "            # well, not the sorted index - that's xsorted! but the item ind\n",
    "            ypos = np.searchsorted(presentation[xsorted], recalled)\n",
    "            study_positions_in_recall_order = xsorted[ypos]+1\n",
    "            trials[experiment*len(presentations) + trial_index, \n",
    "                   :len(recalled)] = study_positions_in_recall_order\n",
    "\n",
    "    return trials"
   ]
  },
  {
   "cell_type": "code",
   "execution_count": 3,
   "id": "8ce0e86d-8db6-46dc-be74-f29b36a5f438",
   "metadata": {},
   "outputs": [],
   "source": [
    "# export\n",
    "\n",
    "#@njit(fastmath=True, nogil=True)\n",
    "def simulate_array(model, experiment_count, first_recall_item=None):\n",
    "    \n",
    "    # encode items\n",
    "    model.experience(model.items)\n",
    "\n",
    "    # simulate retrieval for the specified number of times, tracking results in array\n",
    "    trials = np.zeros((experiment_count, len(model.items)), dtype=int32)\n",
    "    \n",
    "    for trial_index in range(len(trials)):\n",
    "        \n",
    "        recalled = model.free_recall()\n",
    "        trials[trial_index, :len(recalled)] = recalled + 1\n",
    "        \n",
    "    return trials"
   ]
  },
  {
   "cell_type": "code",
   "execution_count": 4,
   "id": "f725a146-ccdd-48bd-9541-6579fe7d7afb",
   "metadata": {},
   "outputs": [
    {
     "data": {
      "text/html": [
       "<div>\n",
       "<style scoped>\n",
       "    .dataframe tbody tr th:only-of-type {\n",
       "        vertical-align: middle;\n",
       "    }\n",
       "\n",
       "    .dataframe tbody tr th {\n",
       "        vertical-align: top;\n",
       "    }\n",
       "\n",
       "    .dataframe thead th {\n",
       "        text-align: right;\n",
       "    }\n",
       "</style>\n",
       "<table border=\"1\" class=\"dataframe\">\n",
       "  <thead>\n",
       "    <tr style=\"text-align: right;\">\n",
       "      <th></th>\n",
       "      <th>subject</th>\n",
       "      <th>list</th>\n",
       "      <th>item</th>\n",
       "      <th>input</th>\n",
       "      <th>output</th>\n",
       "      <th>study</th>\n",
       "      <th>recall</th>\n",
       "      <th>repeat</th>\n",
       "      <th>intrusion</th>\n",
       "    </tr>\n",
       "  </thead>\n",
       "  <tbody>\n",
       "    <tr>\n",
       "      <th>0</th>\n",
       "      <td>0</td>\n",
       "      <td>0</td>\n",
       "      <td>0</td>\n",
       "      <td>1</td>\n",
       "      <td>NaN</td>\n",
       "      <td>True</td>\n",
       "      <td>False</td>\n",
       "      <td>0</td>\n",
       "      <td>False</td>\n",
       "    </tr>\n",
       "    <tr>\n",
       "      <th>1</th>\n",
       "      <td>0</td>\n",
       "      <td>0</td>\n",
       "      <td>1</td>\n",
       "      <td>2</td>\n",
       "      <td>7.0</td>\n",
       "      <td>True</td>\n",
       "      <td>True</td>\n",
       "      <td>0</td>\n",
       "      <td>False</td>\n",
       "    </tr>\n",
       "    <tr>\n",
       "      <th>2</th>\n",
       "      <td>0</td>\n",
       "      <td>0</td>\n",
       "      <td>2</td>\n",
       "      <td>3</td>\n",
       "      <td>NaN</td>\n",
       "      <td>True</td>\n",
       "      <td>False</td>\n",
       "      <td>0</td>\n",
       "      <td>False</td>\n",
       "    </tr>\n",
       "    <tr>\n",
       "      <th>3</th>\n",
       "      <td>0</td>\n",
       "      <td>0</td>\n",
       "      <td>3</td>\n",
       "      <td>4</td>\n",
       "      <td>5.0</td>\n",
       "      <td>True</td>\n",
       "      <td>True</td>\n",
       "      <td>0</td>\n",
       "      <td>False</td>\n",
       "    </tr>\n",
       "    <tr>\n",
       "      <th>4</th>\n",
       "      <td>0</td>\n",
       "      <td>0</td>\n",
       "      <td>4</td>\n",
       "      <td>5</td>\n",
       "      <td>NaN</td>\n",
       "      <td>True</td>\n",
       "      <td>False</td>\n",
       "      <td>0</td>\n",
       "      <td>False</td>\n",
       "    </tr>\n",
       "  </tbody>\n",
       "</table>\n",
       "</div>"
      ],
      "text/plain": [
       "   subject  list  item  input  output  study  recall  repeat  intrusion\n",
       "0        0     0     0      1     NaN   True   False       0      False\n",
       "1        0     0     1      2     7.0   True    True       0      False\n",
       "2        0     0     2      3     NaN   True   False       0      False\n",
       "3        0     0     3      4     5.0   True    True       0      False\n",
       "4        0     0     4      5     NaN   True   False       0      False"
      ]
     },
     "execution_count": 4,
     "metadata": {},
     "output_type": "execute_result"
    }
   ],
   "source": [
    "from compmemlearn.models import Classic_CMR\n",
    "from compmemlearn.datasets import prepare_murdock1970_data, prepare_lohnas2014_data\n",
    "from compmemlearn.analyses import recall_probability_by_lag, fast_spc\n",
    "from scipy.optimize import differential_evolution\n",
    "from numba.typed import List, Dict\n",
    "from numba.core import types\n",
    "from psifr import fr\n",
    "import pandas as pd\n",
    "import numpy as np\n",
    "import seaborn as sns\n",
    "import matplotlib.pyplot as plt\n",
    "\n",
    "murd_trials0, murd_events0, murd_length0 = prepare_murdock1970_data('../../data/mo1970.txt')\n",
    "\n",
    "cmr_free_parameters = (\n",
    "    'encoding_drift_rate',\n",
    "    'start_drift_rate',\n",
    "    'recall_drift_rate',\n",
    "    'shared_support',\n",
    "    'item_support',\n",
    "    'learning_rate',\n",
    "    'primacy_scale',\n",
    "    'primacy_decay',\n",
    "    'stop_probability_scale',\n",
    "    'stop_probability_growth',\n",
    "    'choice_sensitivity',\n",
    "    'delay_drift_rate'\n",
    ")\n",
    "\n",
    "cmr_result = np.array(\n",
    "    [5.84259066e-01, 4.27375824e-03, 7.21454638e-01, 8.17704509e-01,\n",
    "     1.00000000e+00, 9.88623591e-02, 9.31571732e+00, 7.54040329e+01,\n",
    "     3.14204629e-02, 3.36598109e-01, 9.99452206e+00, 9.95457387e-01])\n",
    "\n",
    "fitted_parameters = Dict.empty(\n",
    "    key_type=types.unicode_type, value_type=types.float64)\n",
    "for i in range(len(cmr_result)):\n",
    "    fitted_parameters[cmr_free_parameters[i]] = cmr_result[i]\n",
    "fitted_parameters['sampling_rule'] = 0\n",
    "fitted_parameters['mfc_familiarity_scale'] = 0\n",
    "fitted_parameters['mcf_familiarity_scale'] = 0\n",
    "fitted_parameters['drift_familiarity_scale'] = 0\n",
    "\n",
    "model = Classic_CMR(murd_length0, murd_length0, fitted_parameters)\n",
    "\n",
    "sim_df = simulate_data(model, 1000)\n",
    "\n",
    "sim_df.head()"
   ]
  },
  {
   "cell_type": "code",
   "execution_count": 5,
   "id": "a3d8545c-cb09-4bcf-b350-1d2c6b2978bb",
   "metadata": {},
   "outputs": [],
   "source": [
    "model = Classic_CMR(murd_length0, murd_length0, fitted_parameters)\n",
    "original_sim_array = simulate_array(model, len(murd_trials0))\n",
    "original_spc = fast_spc(original_sim_array, murd_length0)\n",
    "\n",
    "presentations = np.zeros((len(murd_trials0), murd_length0), dtype=int)\n",
    "presentations[:] = np.arange(murd_length0)\n",
    "\n",
    "@njit(nogil=True)\n",
    "def init_cmr(item_count, presentation_count, parameters):\n",
    "    return Classic_CMR(item_count, presentation_count, parameters)\n",
    "\n",
    "new_sim_array = simulate_array_from_presentations(init_cmr, fitted_parameters, np.flip(presentations, axis=1), 1)\n",
    "new_spc = fast_spc(new_sim_array, murd_length0)"
   ]
  },
  {
   "cell_type": "code",
   "execution_count": 28,
   "id": "75244d0f-36ba-4eb6-9045-75949c151583",
   "metadata": {},
   "outputs": [
    {
     "data": {
      "text/plain": [
       "(array([[16, 20,  7, ...,  0,  0,  0],\n",
       "        [20,  6, 19, ...,  0,  0,  0],\n",
       "        [20, 17, 18, ...,  0,  0,  0],\n",
       "        ...,\n",
       "        [20,  4, 17, ...,  0,  0,  0],\n",
       "        [19, 20, 17, ...,  0,  0,  0],\n",
       "        [ 1,  2, 11, ...,  0,  0,  0]]),\n",
       " array([[ 3,  1,  5, ...,  0,  0,  0],\n",
       "        [19, 20, 13, ...,  0,  0,  0],\n",
       "        [17, 19, 20, ...,  0,  0,  0],\n",
       "        ...,\n",
       "        [ 1,  4,  5, ...,  0,  0,  0],\n",
       "        [10, 12, 16, ...,  0,  0,  0],\n",
       "        [20,  7,  0, ...,  0,  0,  0]]))"
      ]
     },
     "execution_count": 28,
     "metadata": {},
     "output_type": "execute_result"
    }
   ],
   "source": [
    "original_sim_array, new_sim_array"
   ]
  },
  {
   "cell_type": "code",
   "execution_count": 29,
   "id": "ce16b373-08cd-48bf-aac3-52c4a50962d7",
   "metadata": {},
   "outputs": [
    {
     "data": {
      "text/plain": [
       "(array([0.33680556, 0.15486111, 0.17222222, 0.15416667, 0.17291667,\n",
       "        0.20416667, 0.19236111, 0.21180556, 0.22986111, 0.23333333,\n",
       "        0.23263889, 0.25069444, 0.26388889, 0.26944444, 0.30069444,\n",
       "        0.32083333, 0.39791667, 0.43888889, 0.54375   , 0.68819444]),\n",
       " array([0.33333333, 0.15833333, 0.17847222, 0.17708333, 0.19791667,\n",
       "        0.19791667, 0.20208333, 0.20555556, 0.20555556, 0.21875   ,\n",
       "        0.22222222, 0.24444444, 0.24791667, 0.27847222, 0.3125    ,\n",
       "        0.34305556, 0.37013889, 0.4375    , 0.51111111, 0.65069444]))"
      ]
     },
     "execution_count": 29,
     "metadata": {},
     "output_type": "execute_result"
    }
   ],
   "source": [
    "original_spc, new_spc"
   ]
  },
  {
   "cell_type": "code",
   "execution_count": 30,
   "id": "a0bde668-c76d-4805-8c07-ce959ae4815c",
   "metadata": {},
   "outputs": [
    {
     "data": {
      "text/plain": [
       "<matplotlib.legend.Legend at 0x11b84d42d60>"
      ]
     },
     "execution_count": 30,
     "metadata": {},
     "output_type": "execute_result"
    },
    {
     "data": {
      "image/png": "[encoded data removed]",
      "text/plain": [
       "<Figure size 432x288 with 1 Axes>"
      ]
     },
     "metadata": {
      "needs_background": "light"
     },
     "output_type": "display_data"
    }
   ],
   "source": [
    "import matplotlib.pyplot as plt\n",
    "\n",
    "plt.plot(fast_spc(original_sim_array, murd_length0), label='original')\n",
    "plt.plot(fast_spc(new_sim_array, murd_length0), label='new')\n",
    "\n",
    "plt.legend()"
   ]
  },
  {
   "cell_type": "code",
   "execution_count": 6,
   "id": "75c49197-cec2-4694-b149-1e76768dea80",
   "metadata": {},
   "outputs": [
    {
     "ename": "KeyboardInterrupt",
     "evalue": "",
     "output_type": "error",
     "traceback": [
      "\u001b[1;31m---------------------------------------------------------------------------\u001b[0m",
      "\u001b[1;31mKeyboardInterrupt\u001b[0m                         Traceback (most recent call last)",
      "\u001b[1;32m~\\AppData\\Local\\Temp/ipykernel_11452/2998622095.py\u001b[0m in \u001b[0;36m<module>\u001b[1;34m\u001b[0m\n\u001b[0;32m      2\u001b[0m     '../../data/repFR.mat')\n\u001b[0;32m      3\u001b[0m \u001b[1;33m\u001b[0m\u001b[0m\n\u001b[1;32m----> 4\u001b[1;33m \u001b[0mnew_sim_array\u001b[0m \u001b[1;33m=\u001b[0m \u001b[0msimulate_array_from_presentations\u001b[0m\u001b[1;33m(\u001b[0m\u001b[0minit_cmr\u001b[0m\u001b[1;33m,\u001b[0m \u001b[0mfitted_parameters\u001b[0m\u001b[1;33m,\u001b[0m \u001b[0mpresentations\u001b[0m\u001b[1;33m,\u001b[0m \u001b[1;36m100\u001b[0m\u001b[1;33m)\u001b[0m\u001b[1;33m\u001b[0m\u001b[1;33m\u001b[0m\u001b[0m\n\u001b[0m",
      "\u001b[1;32m~\\AppData\\Local\\Temp/ipykernel_11452/3711497535.py\u001b[0m in \u001b[0;36msimulate_array_from_presentations\u001b[1;34m(model_class, parameters, presentations, experiment_count)\u001b[0m\n\u001b[0;32m     12\u001b[0m             \u001b[0mpresentation\u001b[0m \u001b[1;33m=\u001b[0m \u001b[0mpresentations\u001b[0m\u001b[1;33m[\u001b[0m\u001b[0mtrial_index\u001b[0m\u001b[1;33m]\u001b[0m\u001b[1;33m\u001b[0m\u001b[1;33m\u001b[0m\u001b[0m\n\u001b[0;32m     13\u001b[0m             \u001b[0mitem_count\u001b[0m \u001b[1;33m=\u001b[0m \u001b[0mnp\u001b[0m\u001b[1;33m.\u001b[0m\u001b[0mmax\u001b[0m\u001b[1;33m(\u001b[0m\u001b[0mpresentation\u001b[0m\u001b[1;33m)\u001b[0m\u001b[1;33m+\u001b[0m\u001b[1;36m1\u001b[0m\u001b[1;33m\u001b[0m\u001b[1;33m\u001b[0m\u001b[0m\n\u001b[1;32m---> 14\u001b[1;33m             \u001b[0mmodel\u001b[0m \u001b[1;33m=\u001b[0m \u001b[0mmodel_class\u001b[0m\u001b[1;33m(\u001b[0m\u001b[0mitem_count\u001b[0m\u001b[1;33m,\u001b[0m \u001b[0mlen\u001b[0m\u001b[1;33m(\u001b[0m\u001b[0mpresentation\u001b[0m\u001b[1;33m)\u001b[0m\u001b[1;33m,\u001b[0m \u001b[0mparameters\u001b[0m\u001b[1;33m)\u001b[0m\u001b[1;33m\u001b[0m\u001b[1;33m\u001b[0m\u001b[0m\n\u001b[0m\u001b[0;32m     15\u001b[0m             \u001b[0mmodel\u001b[0m\u001b[1;33m.\u001b[0m\u001b[0mexperience\u001b[0m\u001b[1;33m(\u001b[0m\u001b[0mmodel\u001b[0m\u001b[1;33m.\u001b[0m\u001b[0mitems\u001b[0m\u001b[1;33m[\u001b[0m\u001b[0mpresentation\u001b[0m\u001b[1;33m]\u001b[0m\u001b[1;33m)\u001b[0m\u001b[1;33m\u001b[0m\u001b[1;33m\u001b[0m\u001b[0m\n\u001b[0;32m     16\u001b[0m \u001b[1;33m\u001b[0m\u001b[0m\n",
      "\u001b[1;31mKeyboardInterrupt\u001b[0m: "
     ]
    }
   ],
   "source": [
    "trials, events, list_length, presentations, list_types, rep_data, subjects = prepare_lohnas2014_data(\n",
    "    '../../data/repFR.mat')\n",
    "\n",
    "new_sim_array = simulate_array_from_presentations(init_cmr, fitted_parameters, presentations, 100)"
   ]
  },
  {
   "cell_type": "code",
   "execution_count": 9,
   "id": "38b4fb98-9e12-43cb-91d2-2b5aabe31bc9",
   "metadata": {},
   "outputs": [
    {
     "data": {
      "text/plain": [
       "array([ 1,  2,  3,  4,  5,  6,  7,  9, 10, 11, 17, 14, 12, 15, 25, 20, 28,\n",
       "       30, 39, 38, 37, 18,  0,  0,  0,  0,  0,  0,  0,  0,  0,  0,  0,  0,\n",
       "        0,  0,  0,  0,  0,  0])"
      ]
     },
     "execution_count": 9,
     "metadata": {},
     "output_type": "execute_result"
    }
   ],
   "source": [
    "trials[0]"
   ]
  },
  {
   "cell_type": "code",
   "execution_count": null,
   "id": "c0827337-a1d4-4cc4-88fb-605aa28e48ad",
   "metadata": {},
   "outputs": [],
   "source": []
  }
 ],
 "metadata": {
  "kernelspec": {
   "display_name": "Python 3 (ipykernel)",
   "language": "python",
   "name": "python3"
  },
  "language_info": {
   "codemirror_mode": {
    "name": "ipython",
    "version": 3
   },
   "file_extension": ".py",
   "mimetype": "text/x-python",
   "name": "python",
   "nbconvert_exporter": "python",
   "pygments_lexer": "ipython3",
   "version": "3.9.1"
  }
 },
 "nbformat": 4,
 "nbformat_minor": 5
}

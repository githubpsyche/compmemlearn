{
 "cells": [
  {
   "cell_type": "code",
   "execution_count": null,
   "id": "49862a59-2c91-4efd-9381-00c7692a2989",
   "metadata": {},
   "outputs": [],
   "source": [
    "# default_exp datasets"
   ]
  },
  {
   "cell_type": "markdown",
   "id": "0572657d-9279-49e5-a688-a48f663f4e42",
   "metadata": {},
   "source": [
    "# HowaKaha05 Dataset\n",
    "> Kahana, M. J., & Howard, M. W. (2005). Spacing and lag effects in free recall of pure lists. Psychonomic Bulletin & Review, 12(1), 159-164.\n",
    "\n",
    "Sixty-six students studied and attempted free recall of 15 different lists of high-frequency nouns drawn from the Toronto Noun Pool (Friendly, Franklin, Hoffman, & Rubin, 1982). The lists consisted of 30 words, each repeated three times for a total of 90 presentations per list. List\n",
    "presentation was auditory, and the subjects made their responses\n",
    "vocally into a headset microphone. The words were presented at a rate\n",
    "of 1.5 sec. After list presentation, the subjects were given a distractor task\n",
    "involving simple arithmetic problems of the form A  B  C  ?.\n",
    "The subjects had to correctly answer 15 problems in a row before\n",
    "they could proceed to the recall phase.\n",
    "\n",
    "There were three list types: massed, spaced short, and spaced\n",
    "long. In the massed lists, each word was repeated three times successively. In the spaced-short lists, the presentation order was randomized, subject to the constraint that the lag between repetitions\n",
    "was at least 2 and no more than 6. For the spaced-long lists, presentation order was randomized, subject to the constraint that interrepetition lags were at least 6 and not more than 20.\n",
    "\n",
    "As is typical in free recall studies, we took mea-sures to eliminate warm-up effects by excluding the first 2 lists\n",
    "from our data analyses. One of these first 2 practice lists was massed,\n",
    "and the other was randomly chosen to be either spaced short or\n",
    "spaced long. Of the subsequent 12 lists, 4 were massed, 4 were\n",
    "spaced short, and 4 were spaced long, presented in an individually\n",
    "randomized order for each subject."
   ]
  },
  {
   "cell_type": "code",
   "execution_count": 1,
   "id": "56aa06d0-ba67-44e0-ad3d-a1ab7e40952e",
   "metadata": {},
   "outputs": [],
   "source": [
    "# export\n",
    "\n",
    "import numpy as np\n",
    "import pandas as pd\n",
    "from psifr import fr\n",
    "\n",
    "def prepare_howakaha05_data(path):\n",
    "    \"\"\"\n",
    "    Prepares data formatted like `../data/HowaKaha05.dat` for fitting.\n",
    "    \"\"\"\n",
    "    \n",
    "    with open(path) as f:\n",
    "        howa_data = f.read()\n",
    "\n",
    "    subject_count = 66\n",
    "    trial_count = 15\n",
    "    total_lines = 66 * 15 * 5\n",
    "    list_length = 90\n",
    "\n",
    "    lines = [each.split('\\t') for each in howa_data.split('\\n')]\n",
    "    trial_info_inds = np.arange(1, total_lines, 5)\n",
    "    presentation_info_inds = np.arange(2, total_lines, 5)\n",
    "    recall_info_inds = np.arange(4, total_lines, 5)\n",
    "\n",
    "    # build vectors/matrices tracking list types and presentation item numbers across trials\n",
    "    list_types = np.array([int(lines[trial_info_inds[i]-1][2]) for i in range(subject_count * trial_count)])\n",
    "    subjects = np.array([int(lines[trial_info_inds[i]-1][0]) for i in range(subject_count * trial_count)])\n",
    "    pres_itemnos = np.array([[int(each) for each in lines[presentation_info_inds[i]-1][:-1]] for i in range(\n",
    "        subject_count * trial_count)])\n",
    "        \n",
    "    # convert pres_itemnos into rows of unique indices for easier model encoding\n",
    "    presentations = []\n",
    "    for i in range(len(pres_itemnos)):\n",
    "        seen = []\n",
    "        presentations.append([])\n",
    "        for p in pres_itemnos[i]:\n",
    "            if p not in seen:\n",
    "                seen.append(p)\n",
    "            presentations[-1].append(seen.index(p))\n",
    "    presentations = np.array(presentations)\n",
    "\n",
    "    # track recalls, discarding intrusions\n",
    "    trials = []\n",
    "    for i in range(subject_count * trial_count):\n",
    "        trials.append([])\n",
    "        \n",
    "        # if it can be cast as a positive integer and is not yet in the recall sequence, it's not an intrusion\n",
    "        trial = lines[recall_info_inds[i]-1][:-1]\n",
    "        for t in trial:\n",
    "            try:\n",
    "                t = int(t)\n",
    "                if (t in pres_itemnos[i]):\n",
    "                    #item = presentations[i][np.where(pres_itemnos[i] == t)[0][0]]+1\n",
    "                    item = np.where(pres_itemnos[i] == t)[0][0] + 1\n",
    "                    if item not in trials[-1]:\n",
    "                        trials[-1].append(item)\n",
    "            except ValueError:\n",
    "                continue\n",
    "        \n",
    "        # pad with zeros to make sure the list is the right length\n",
    "        while len(trials[-1]) < list_length:\n",
    "            trials[-1].append(0)\n",
    "            \n",
    "    trials = np.array(trials)\n",
    "\n",
    "    # encode dataset into psifr format\n",
    "    data = []\n",
    "    for trial_index, trial in enumerate(trials):\n",
    "        presentation = presentations[trial_index]\n",
    "        \n",
    "        # every time the subject changes, reset list_index\n",
    "        if not data or data[-1][0] != subjects[trial_index]:\n",
    "            list_index = 0\n",
    "        list_index += 1\n",
    "        \n",
    "        # add study events\n",
    "        for presentation_index, presentation_event in enumerate(presentation):\n",
    "            data += [[subjects[trial_index], \n",
    "                      list_index, 'study', presentation_index+1, presentation_event,  list_types[trial_index]\n",
    "                     ]]\n",
    "            \n",
    "        # add recall events\n",
    "        for recall_index, recall_event in enumerate(trial):\n",
    "            if recall_event != 0:\n",
    "                data += [[subjects[trial_index], list_index, \n",
    "                          'recall', recall_index+1, presentation[recall_event-1], list_types[trial_index]\n",
    "                         ]]\n",
    "                \n",
    "    data = pd.DataFrame(data, columns=[\n",
    "        'subject', 'list', 'trial_type', 'position', 'item', 'condition'])\n",
    "    merged = fr.merge_free_recall(data, list_keys=['condition'])\n",
    "    \n",
    "    return trials, merged, list_length, presentations, list_types, data, subjects"
   ]
  },
  {
   "cell_type": "code",
   "execution_count": 2,
   "id": "b8c141a4-2d83-4e5e-9dfa-f1a12f871e77",
   "metadata": {},
   "outputs": [
    {
     "data": {
      "text/html": [
       "<div>\n",
       "<style scoped>\n",
       "    .dataframe tbody tr th:only-of-type {\n",
       "        vertical-align: middle;\n",
       "    }\n",
       "\n",
       "    .dataframe tbody tr th {\n",
       "        vertical-align: top;\n",
       "    }\n",
       "\n",
       "    .dataframe thead th {\n",
       "        text-align: right;\n",
       "    }\n",
       "</style>\n",
       "<table border=\"1\" class=\"dataframe\">\n",
       "  <thead>\n",
       "    <tr style=\"text-align: right;\">\n",
       "      <th></th>\n",
       "      <th>subject</th>\n",
       "      <th>list</th>\n",
       "      <th>item</th>\n",
       "      <th>input</th>\n",
       "      <th>output</th>\n",
       "      <th>study</th>\n",
       "      <th>recall</th>\n",
       "      <th>repeat</th>\n",
       "      <th>intrusion</th>\n",
       "      <th>condition</th>\n",
       "    </tr>\n",
       "  </thead>\n",
       "  <tbody>\n",
       "    <tr>\n",
       "      <th>0</th>\n",
       "      <td>118</td>\n",
       "      <td>1</td>\n",
       "      <td>0</td>\n",
       "      <td>1</td>\n",
       "      <td>3.0</td>\n",
       "      <td>True</td>\n",
       "      <td>True</td>\n",
       "      <td>0</td>\n",
       "      <td>False</td>\n",
       "      <td>0</td>\n",
       "    </tr>\n",
       "    <tr>\n",
       "      <th>1</th>\n",
       "      <td>118</td>\n",
       "      <td>1</td>\n",
       "      <td>0</td>\n",
       "      <td>2</td>\n",
       "      <td>3.0</td>\n",
       "      <td>True</td>\n",
       "      <td>True</td>\n",
       "      <td>0</td>\n",
       "      <td>False</td>\n",
       "      <td>0</td>\n",
       "    </tr>\n",
       "    <tr>\n",
       "      <th>2</th>\n",
       "      <td>118</td>\n",
       "      <td>1</td>\n",
       "      <td>0</td>\n",
       "      <td>3</td>\n",
       "      <td>3.0</td>\n",
       "      <td>True</td>\n",
       "      <td>True</td>\n",
       "      <td>0</td>\n",
       "      <td>False</td>\n",
       "      <td>0</td>\n",
       "    </tr>\n",
       "    <tr>\n",
       "      <th>3</th>\n",
       "      <td>118</td>\n",
       "      <td>1</td>\n",
       "      <td>1</td>\n",
       "      <td>4</td>\n",
       "      <td>9.0</td>\n",
       "      <td>True</td>\n",
       "      <td>True</td>\n",
       "      <td>0</td>\n",
       "      <td>False</td>\n",
       "      <td>0</td>\n",
       "    </tr>\n",
       "    <tr>\n",
       "      <th>4</th>\n",
       "      <td>118</td>\n",
       "      <td>1</td>\n",
       "      <td>1</td>\n",
       "      <td>5</td>\n",
       "      <td>9.0</td>\n",
       "      <td>True</td>\n",
       "      <td>True</td>\n",
       "      <td>0</td>\n",
       "      <td>False</td>\n",
       "      <td>0</td>\n",
       "    </tr>\n",
       "  </tbody>\n",
       "</table>\n",
       "</div>"
      ],
      "text/plain": [
       "   subject  list  item  input  output  study  recall  repeat  intrusion  \\\n",
       "0      118     1     0      1     3.0   True    True       0      False   \n",
       "1      118     1     0      2     3.0   True    True       0      False   \n",
       "2      118     1     0      3     3.0   True    True       0      False   \n",
       "3      118     1     1      4     9.0   True    True       0      False   \n",
       "4      118     1     1      5     9.0   True    True       0      False   \n",
       "\n",
       "   condition  \n",
       "0          0  \n",
       "1          0  \n",
       "2          0  \n",
       "3          0  \n",
       "4          0  "
      ]
     },
     "execution_count": 2,
     "metadata": {},
     "output_type": "execute_result"
    }
   ],
   "source": [
    "trials, events, list_length, presentations, list_types, rep_data, subjects = prepare_howakaha05_data(\n",
    "    '../../data/HowaKaha05.dat')\n",
    "\n",
    "events.head()"
   ]
  },
  {
   "cell_type": "code",
   "execution_count": 3,
   "id": "8509ea52-cd19-4201-a3fc-942e2ac20ba5",
   "metadata": {},
   "outputs": [
    {
     "data": {
      "text/plain": [
       "array([ 0,  1,  2,  3,  4,  5,  6,  7,  8,  3,  2,  1,  9,  4,  7,  3, 10,\n",
       "        0,  6,  2,  5,  4,  7,  9,  1,  8,  0,  6, 11, 12, 13, 14, 10,  9,\n",
       "       15,  5, 16,  8, 14, 17, 11, 15, 18, 19, 10, 17, 13, 12, 11, 15, 14,\n",
       "       18, 13, 19, 16, 20, 21, 22, 23, 24, 25, 26, 17, 21, 18, 12, 22, 19,\n",
       "       24, 27, 23, 26, 28, 16, 20, 29, 27, 25, 26, 28, 22, 21, 27, 29, 25,\n",
       "       23, 20, 28, 24, 29], dtype=int64)"
      ]
     },
     "execution_count": 3,
     "metadata": {},
     "output_type": "execute_result"
    }
   ],
   "source": [
    "presentations_df = events.pivot_table(index=['subject', 'list'], columns='input', values='item')\n",
    "alt_presentations = presentations_df.to_numpy(na_value=0).astype('int64')\n",
    "alt_presentations[-1]"
   ]
  },
  {
   "cell_type": "code",
   "execution_count": 4,
   "id": "aede6c24",
   "metadata": {},
   "outputs": [
    {
     "data": {
      "text/plain": [
       "array([ 0,  1,  2,  3,  4,  5,  6,  7,  8,  3,  2,  1,  9,  4,  7,  3, 10,\n",
       "        0,  6,  2,  5,  4,  7,  9,  1,  8,  0,  6, 11, 12, 13, 14, 10,  9,\n",
       "       15,  5, 16,  8, 14, 17, 11, 15, 18, 19, 10, 17, 13, 12, 11, 15, 14,\n",
       "       18, 13, 19, 16, 20, 21, 22, 23, 24, 25, 26, 17, 21, 18, 12, 22, 19,\n",
       "       24, 27, 23, 26, 28, 16, 20, 29, 27, 25, 26, 28, 22, 21, 27, 29, 25,\n",
       "       23, 20, 28, 24, 29])"
      ]
     },
     "execution_count": 4,
     "metadata": {},
     "output_type": "execute_result"
    }
   ],
   "source": [
    "presentations[-1]"
   ]
  },
  {
   "cell_type": "code",
   "execution_count": 5,
   "id": "ee4014ae",
   "metadata": {},
   "outputs": [
    {
     "data": {
      "text/plain": [
       "array([20, 21, 15, 29, 18,  3,  9,  4,  8,  1,  7,  6,  5,  2, 10,  0,  0,\n",
       "        0,  0,  0,  0,  0,  0,  0,  0,  0,  0,  0,  0,  0], dtype=int64)"
      ]
     },
     "execution_count": 5,
     "metadata": {},
     "output_type": "execute_result"
    }
   ],
   "source": [
    "trials_df = events.pivot_table(index=['subject', 'list'], columns='output', values='item')\n",
    "alt_trials = trials_df.to_numpy(na_value=0).astype('int64')\n",
    "alt_trials[-1]"
   ]
  },
  {
   "cell_type": "code",
   "execution_count": 6,
   "id": "e31c58b4",
   "metadata": {},
   "outputs": [
    {
     "data": {
      "text/plain": [
       "array([56, 57, 35, 76, 43,  4, 13,  5,  9,  2,  8,  7,  6,  3, 17,  0,  0,\n",
       "        0,  0,  0,  0,  0,  0,  0,  0,  0,  0,  0,  0,  0,  0,  0,  0,  0,\n",
       "        0,  0,  0,  0,  0,  0,  0,  0,  0,  0,  0,  0,  0,  0,  0,  0,  0,\n",
       "        0,  0,  0,  0,  0,  0,  0,  0,  0,  0,  0,  0,  0,  0,  0,  0,  0,\n",
       "        0,  0,  0,  0,  0,  0,  0,  0,  0,  0,  0,  0,  0,  0,  0,  0,  0,\n",
       "        0,  0,  0,  0,  0], dtype=int64)"
      ]
     },
     "execution_count": 6,
     "metadata": {},
     "output_type": "execute_result"
    }
   ],
   "source": [
    "trials[-1]"
   ]
  },
  {
   "cell_type": "code",
   "execution_count": 7,
   "id": "3d48d901",
   "metadata": {},
   "outputs": [],
   "source": [
    "events.to_csv('../../data/HowardKahana2005.csv')"
   ]
  },
  {
   "cell_type": "code",
   "execution_count": null,
   "id": "3f65303a",
   "metadata": {},
   "outputs": [],
   "source": []
  }
 ],
 "metadata": {
  "kernelspec": {
   "display_name": "Python 3 (ipykernel)",
   "language": "python",
   "name": "python3"
  },
  "language_info": {
   "codemirror_mode": {
    "name": "ipython",
    "version": 3
   },
   "file_extension": ".py",
   "mimetype": "text/x-python",
   "name": "python",
   "nbconvert_exporter": "python",
   "pygments_lexer": "ipython3",
   "version": "3.9.1"
  }
 },
 "nbformat": 4,
 "nbformat_minor": 5
}

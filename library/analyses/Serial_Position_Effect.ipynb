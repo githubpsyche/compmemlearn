{
 "cells": [
  {
   "cell_type": "code",
   "execution_count": 1,
   "metadata": {
    "pycharm": {
     "name": "#%%\n"
    }
   },
   "outputs": [],
   "source": [
    "# default_exp analyses"
   ]
  },
  {
   "cell_type": "code",
   "execution_count": 2,
   "metadata": {
    "pycharm": {
     "name": "#%%\n"
    }
   },
   "outputs": [
    {
     "name": "stdout",
     "output_type": "stream",
     "text": [
      "\n",
      "# The Serial Position Effect\n",
      "The serial position effect describes how our memory is affected by the position of information in a sequence or list. Research tends to find that people best remember the first and last items in a series and find it hard to remember the middle items. To measure the serial position effect, research participants perform a free recall task where they study a list of items and subsequently \"freely\" recall the items in the order in which they come to mind. The recall rate of each item at each study position across these lists reflects the serial position effect.\n",
      "\n"
     ]
    }
   ],
   "source": [
    "#| code-summary: -- load dependencies and data and select parameters\n",
    "#| output: asis\n",
    "\n",
    "analysis_overview = \"\"\"\n",
    "# The Serial Position Effect\n",
    "The serial position effect describes how our memory is affected by the position of information in a sequence or list. Research tends to find that people best remember the first and last items in a series and find it hard to remember the middle items. To measure the serial position effect, research participants perform a free recall task where they study a list of items and subsequently \"freely\" recall the items in the order in which they come to mind. The recall rate of each item at each study position across these lists reflects the serial position effect.\n",
    "\"\"\"\n",
    "\n",
    "analysis_tag = 'spc'\n",
    "data_paths = [\"../../data/CDCATBEH.csv\", \"../../data/LohnasKahana2014.csv\", \"../../data/HowardKahana2005.csv\"]\n",
    "trial_queries = [\n",
    "    [\"list_type == 'light'\", \"list_type == 'heavy'\"], \n",
    "    [\"condition == 1\", \"condition == 2\", \"condition == 3\", \"condition == 4\"], \n",
    "    [\"condition == 0\", \"condition == 1\", \"condition == 2\"]\n",
    "    ]\n",
    "query_labels = trial_queries\n",
    "\n",
    "show_figure = True\n",
    "regenerate_figure = True\n",
    "section_tags = [\"CDCATBEH\", \"LohnasKahana2014\", \"HowardKahana2005\"]\n",
    "figures_path = \"figures/\"\n",
    "figure_caption = \"\"\"The serial position effect measured as a function of list length using data from @{}.\"\"\"\n",
    "\n",
    "print(analysis_overview)"
   ]
  },
  {
   "cell_type": "code",
   "execution_count": 5,
   "metadata": {
    "pycharm": {
     "name": "#%%\n"
    }
   },
   "outputs": [],
   "source": [
    "# export\n",
    "#| code-summary: -- specify serial position effect analysis code\n",
    "\n",
    "from compmemlearn.datasets import events_metadata, generate_trial_mask\n",
    "import matplotlib.pyplot as plt\n",
    "from numba import njit\n",
    "import seaborn as sns\n",
    "import pandas as pd\n",
    "import numpy as np\n",
    "\n",
    "@njit(nogil=True)\n",
    "def recall_by_all_study_positions(recall_by_first_study_position, presentations, max_repeats=3):\n",
    "    \n",
    "    trials_shape = np.shape(recall_by_first_study_position)\n",
    "    result = np.zeros(\n",
    "            (max_repeats, trials_shape[0], trials_shape[1]), dtype=np.int32)\n",
    "\n",
    "    for trial_index in range(len(recall_by_first_study_position)):\n",
    "\n",
    "        trial = recall_by_first_study_position[trial_index]\n",
    "        presentation = presentations[trial_index]\n",
    "        \n",
    "        for recall_index in range(len(trial)):\n",
    "\n",
    "            if trial[recall_index] == 0:\n",
    "                continue\n",
    "\n",
    "            presentation_positions = np.nonzero(\n",
    "                presentation[trial[recall_index] - 1] == presentation)[0] + 1\n",
    "\n",
    "            result[:len(presentation_positions), trial_index, recall_index] = presentation_positions\n",
    "\n",
    "    return result\n",
    "\n",
    "@njit(nogil=True)\n",
    "def fast_spc(trials, item_count):\n",
    "    return np.bincount(trials.flatten(), minlength=item_count+1)[1:]/len(trials)\n",
    "\n",
    "@njit(nogil=True)\n",
    "def flex_mixed_spc(trials, presentations):\n",
    "    \"Variant of fast_spc that works with lists that contain an arbitrary number of item repetitions.\"\n",
    "\n",
    "    list_length = len(presentations[0])\n",
    "    result = np.zeros(list_length, dtype=np.int32)\n",
    "    all_study_positions = recall_by_all_study_positions(trials, presentations) \n",
    "    \n",
    "    for trial_index in range(len(trials)):\n",
    "        for study_position in range(list_length):\n",
    "            result[study_position] += study_position+1 in all_study_positions[:,trial_index]\n",
    "    \n",
    "    return result/len(trials)\n",
    "\n",
    "def plot_spc(data, trial_query, contrast_name=None, labels=None, axis=None):\n",
    "\n",
    "    if axis is None:\n",
    "        plt.figure()\n",
    "        axis = plt.gca()\n",
    "\n",
    "    if labels is None:\n",
    "        labels = [''] * len(data)\n",
    "\n",
    "    result = []\n",
    "    for data_index, events in enumerate(data):\n",
    "\n",
    "        # generate and subset trials array and list of list_lengths based on trial_query\n",
    "        trials, list_lengths, presentations = events_metadata(events)[:3]\n",
    "        trial_mask = generate_trial_mask(events, trial_query)\n",
    "        chose = [i for i in range(len(trial_mask)) if np.sum(trial_mask[i]) != 0]\n",
    "        assert(len(chose) == 1)\n",
    "        chose = chose[0]\n",
    "        trials = trials[chose]\n",
    "        list_length = list_lengths[chose]\n",
    "        presentations = presentations[chose]\n",
    "        trial_mask = trial_mask[chose]\n",
    "\n",
    "        for subject in pd.unique(events.subject):\n",
    "            subject_specific_trial_mask = np.logical_and(\n",
    "                generate_trial_mask(events, f\"subject == {subject}\")[chose], trial_mask\n",
    "            )\n",
    "\n",
    "            if np.sum(subject_specific_trial_mask) == 0:\n",
    "                continue\n",
    "\n",
    "            if (presentations == np.arange(list_length)).all():\n",
    "                spc = fast_spc(trials[subject_specific_trial_mask], list_length)\n",
    "            else:\n",
    "                spc = flex_mixed_spc(\n",
    "                    trials[subject_specific_trial_mask], presentations[subject_specific_trial_mask])\n",
    "            result.append(pd.DataFrame.from_dict(\n",
    "                {\n",
    "                    \"subject\": subject,\n",
    "                    \"input\": np.arange(1, list_length + 1),\n",
    "                    \"recall\": spc,\n",
    "                    contrast_name: labels[data_index],\n",
    "                }\n",
    "            ))\n",
    "\n",
    "    result = pd.concat(result).reset_index()\n",
    "\n",
    "    # sns.lineplot(\n",
    "    #     ax=axis, data=result, x='input', y='recall', err_style='bars', hue=contrast_name)\n",
    "    sns.lineplot(\n",
    "        ax=axis, data=result, x='input', y='recall', err_style='bars', hue=contrast_name)\n",
    "    axis.set(xlabel='Serial Position', ylabel='Probability of Recall')\n",
    "    axis.set_xticks(np.arange(1, list_length+int(list_length/10), int(list_length/10)))\n",
    "    axis.set_ylim((0, 1))\n",
    "\n",
    "    if contrast_name:\n",
    "        axis.legend(bbox_to_anchor=(1.05, 1), loc=2, borderaxespad=0.)\n",
    "\n",
    "    return axis, result"
   ]
  },
  {
   "cell_type": "code",
   "execution_count": 6,
   "metadata": {
    "collapsed": false,
    "jupyter": {
     "outputs_hidden": false
    },
    "pycharm": {
     "name": "#%%\n"
    }
   },
   "outputs": [
    {
     "data": {
      "image/png": "[encoded data removed]",
      "text/plain": [
       "<Figure size 432x288 with 1 Axes>"
      ]
     },
     "metadata": {},
     "output_type": "display_data"
    }
   ],
   "source": [
    "#| code-summary: -- perform and visualize spc using pre-defined parameters\n",
    "#| output: asis\n",
    "\n",
    "import os.path\n",
    "\n",
    "sns.set(style='darkgrid')\n",
    "\n",
    "for i in range(len(data_paths)):\n",
    "    section_tag = section_tags[i]\n",
    "    trial_query = trial_queries[i]\n",
    "    query_label = query_labels[i]\n",
    "    data_path = data_paths[i]\n",
    "\n",
    "    if regenerate_figure or show_figure:\n",
    "        ax = None\n",
    "        for query in trial_query:\n",
    "\n",
    "            events = pd.read_csv(data_path)\n",
    "            trials, list_lengths, presentations = events_metadata(events)[:3]\n",
    "            ax = plot_spc([events], query, labels=[query], axis=ax)[0]\n",
    "\n",
    "        ax.legend(query_label, bbox_to_anchor=(1.05, 1), loc=2, borderaxespad=0.)\n",
    "\n",
    "        if regenerate_figure:\n",
    "            plt.savefig(\n",
    "                figures_path+f'{section_tag}_{analysis_tag}.pdf', bbox_inches=\"tight\")\n",
    "                \n",
    "        if show_figure:\n",
    "            plt.show()\n",
    "        else:\n",
    "            print(\n",
    "                f\"\"\"::: {{#fig-{section_tag}_{analysis_tag} layout-valign=\"center\"}}\n",
    "                \n",
    "![]({figures_path}{section_tag}_{analysis_tag}.pdf)\n",
    "\n",
    "{figure_caption}\n",
    ":::\"\"\");\n",
    "        plt.close()\n",
    "\n",
    "    else:\n",
    "        if not os.path.isfile(f'{figures_path}{section_tag}_{analysis_tag}.pdf'):\n",
    "            print(\n",
    "                f'Figure not found at {figures_path}{section_tag}_{analysis_tag}.pdf. Run with regenerate_figure=True to generate.')\n",
    "        else:\n",
    "            print(\n",
    "                f\"\"\"::: {{#fig-{section_tag}_{analysis_tag} layout-valign=\"center\"}}\n",
    "                \n",
    "![]({figures_path}{section_tag}_{analysis_tag}.pdf)\n",
    "\n",
    "{figure_caption}\n",
    ":::\"\"\");\n",
    "    break"
   ]
  },
  {
   "cell_type": "code",
   "execution_count": null,
   "metadata": {},
   "outputs": [],
   "source": []
  }
 ],
 "metadata": {
  "kernelspec": {
   "display_name": "Python 3 (ipykernel)",
   "language": "python",
   "name": "python3"
  },
  "language_info": {
   "codemirror_mode": {
    "name": "ipython",
    "version": 3
   },
   "file_extension": ".py",
   "mimetype": "text/x-python",
   "name": "python",
   "nbconvert_exporter": "python",
   "pygments_lexer": "ipython3",
   "version": "3.9.1"
  },
  "vscode": {
   "interpreter": {
    "hash": "19d1d53a962d236aa061289c2ac16dc8e6d9648c89fe79f459ae9a3493bc67b4"
   }
  }
 },
 "nbformat": 4,
 "nbformat_minor": 4
}

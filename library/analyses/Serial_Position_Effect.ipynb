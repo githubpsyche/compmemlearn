{
 "cells": [
  {
   "cell_type": "code",
   "execution_count": 1,
   "id": "8efd5d51-1174-4f2b-a42f-c23186d321b8",
   "metadata": {},
   "outputs": [],
   "source": [
    "# default_exp analyses"
   ]
  },
  {
   "cell_type": "markdown",
   "id": "bc7413e1-8898-4eca-b0e4-6151c849ac09",
   "metadata": {},
   "source": [
    "# Serial Position Effect\n",
    "The serial position effect describes how our memory is affected by the position of information in a sequence. \n",
    "It suggests that we best remember the first and last items in a series and find it hard to remember the middle items. \n",
    "To measure the serial position effect, we find across a sample for each study -- serial -- position in a list the rate at which the item is ultimately recalled in the list. \n",
    "Then we plot this rate across positions."
   ]
  },
  {
   "cell_type": "markdown",
   "id": "2e96e5c8-10c6-4eb4-ad39-edbc13665607",
   "metadata": {},
   "source": [
    "## Data Preparation\n",
    "For our demonstrations, we'll lean on the MurdockOkada1970 dataset. \n",
    "As a reminder, in this dataset each of 72 undergraduates was given 20 test lists with 20-word lists visually presented at either 60 or 120 words/min."
   ]
  },
  {
   "cell_type": "code",
   "execution_count": 2,
   "id": "d01fbcbc-17e2-46cf-a426-6d507d674835",
   "metadata": {},
   "outputs": [
    {
     "data": {
      "text/html": [
       "<div>\n",
       "<style scoped>\n",
       "    .dataframe tbody tr th:only-of-type {\n",
       "        vertical-align: middle;\n",
       "    }\n",
       "\n",
       "    .dataframe tbody tr th {\n",
       "        vertical-align: top;\n",
       "    }\n",
       "\n",
       "    .dataframe thead th {\n",
       "        text-align: right;\n",
       "    }\n",
       "</style>\n",
       "<table border=\"1\" class=\"dataframe\">\n",
       "  <thead>\n",
       "    <tr style=\"text-align: right;\">\n",
       "      <th></th>\n",
       "      <th>subject</th>\n",
       "      <th>list</th>\n",
       "      <th>item</th>\n",
       "      <th>input</th>\n",
       "      <th>output</th>\n",
       "      <th>study</th>\n",
       "      <th>recall</th>\n",
       "      <th>repeat</th>\n",
       "      <th>intrusion</th>\n",
       "    </tr>\n",
       "  </thead>\n",
       "  <tbody>\n",
       "    <tr>\n",
       "      <th>0</th>\n",
       "      <td>1</td>\n",
       "      <td>1</td>\n",
       "      <td>0</td>\n",
       "      <td>1</td>\n",
       "      <td>NaN</td>\n",
       "      <td>True</td>\n",
       "      <td>False</td>\n",
       "      <td>0</td>\n",
       "      <td>False</td>\n",
       "    </tr>\n",
       "    <tr>\n",
       "      <th>1</th>\n",
       "      <td>1</td>\n",
       "      <td>1</td>\n",
       "      <td>1</td>\n",
       "      <td>2</td>\n",
       "      <td>NaN</td>\n",
       "      <td>True</td>\n",
       "      <td>False</td>\n",
       "      <td>0</td>\n",
       "      <td>False</td>\n",
       "    </tr>\n",
       "    <tr>\n",
       "      <th>2</th>\n",
       "      <td>1</td>\n",
       "      <td>1</td>\n",
       "      <td>2</td>\n",
       "      <td>3</td>\n",
       "      <td>NaN</td>\n",
       "      <td>True</td>\n",
       "      <td>False</td>\n",
       "      <td>0</td>\n",
       "      <td>False</td>\n",
       "    </tr>\n",
       "    <tr>\n",
       "      <th>3</th>\n",
       "      <td>1</td>\n",
       "      <td>1</td>\n",
       "      <td>3</td>\n",
       "      <td>4</td>\n",
       "      <td>NaN</td>\n",
       "      <td>True</td>\n",
       "      <td>False</td>\n",
       "      <td>0</td>\n",
       "      <td>False</td>\n",
       "    </tr>\n",
       "    <tr>\n",
       "      <th>4</th>\n",
       "      <td>1</td>\n",
       "      <td>1</td>\n",
       "      <td>4</td>\n",
       "      <td>5</td>\n",
       "      <td>NaN</td>\n",
       "      <td>True</td>\n",
       "      <td>False</td>\n",
       "      <td>0</td>\n",
       "      <td>False</td>\n",
       "    </tr>\n",
       "  </tbody>\n",
       "</table>\n",
       "</div>"
      ],
      "text/plain": [
       "   subject  list  item  input  output  study  recall  repeat  intrusion\n",
       "0        1     1     0      1     NaN   True   False       0      False\n",
       "1        1     1     1      2     NaN   True   False       0      False\n",
       "2        1     1     2      3     NaN   True   False       0      False\n",
       "3        1     1     3      4     NaN   True   False       0      False\n",
       "4        1     1     4      5     NaN   True   False       0      False"
      ]
     },
     "execution_count": 2,
     "metadata": {},
     "output_type": "execute_result"
    }
   ],
   "source": [
    "from compmemlearn.datasets import prepare_murdock1970_data\n",
    "\n",
    "trials, events, list_length = prepare_murdock1970_data('../../data/mo1970.txt')\n",
    "events.head()"
   ]
  },
  {
   "cell_type": "markdown",
   "id": "ef07b52f-c0c1-466b-ada4-32192af55337",
   "metadata": {},
   "source": [
    "## Analysis"
   ]
  },
  {
   "cell_type": "markdown",
   "id": "6aca423b-9c75-4dcf-a715-34d0d929b568",
   "metadata": {},
   "source": [
    "### DataFrame\n",
    "We can usually rely on the `psifr` library to generate `pandas` DataFrames containing serial position curve information. "
   ]
  },
  {
   "cell_type": "code",
   "execution_count": 3,
   "id": "bfd80b15-f775-4a5b-a6a1-64193dab5eb8",
   "metadata": {},
   "outputs": [
    {
     "data": {
      "text/html": [
       "<div>\n",
       "<style scoped>\n",
       "    .dataframe tbody tr th:only-of-type {\n",
       "        vertical-align: middle;\n",
       "    }\n",
       "\n",
       "    .dataframe tbody tr th {\n",
       "        vertical-align: top;\n",
       "    }\n",
       "\n",
       "    .dataframe thead th {\n",
       "        text-align: right;\n",
       "    }\n",
       "</style>\n",
       "<table border=\"1\" class=\"dataframe\">\n",
       "  <thead>\n",
       "    <tr style=\"text-align: right;\">\n",
       "      <th></th>\n",
       "      <th></th>\n",
       "      <th>recall</th>\n",
       "    </tr>\n",
       "    <tr>\n",
       "      <th>subject</th>\n",
       "      <th>input</th>\n",
       "      <th></th>\n",
       "    </tr>\n",
       "  </thead>\n",
       "  <tbody>\n",
       "    <tr>\n",
       "      <th rowspan=\"5\" valign=\"top\">1</th>\n",
       "      <th>1</th>\n",
       "      <td>0.40</td>\n",
       "    </tr>\n",
       "    <tr>\n",
       "      <th>2</th>\n",
       "      <td>0.10</td>\n",
       "    </tr>\n",
       "    <tr>\n",
       "      <th>3</th>\n",
       "      <td>0.25</td>\n",
       "    </tr>\n",
       "    <tr>\n",
       "      <th>4</th>\n",
       "      <td>0.30</td>\n",
       "    </tr>\n",
       "    <tr>\n",
       "      <th>5</th>\n",
       "      <td>0.10</td>\n",
       "    </tr>\n",
       "    <tr>\n",
       "      <th>...</th>\n",
       "      <th>...</th>\n",
       "      <td>...</td>\n",
       "    </tr>\n",
       "    <tr>\n",
       "      <th rowspan=\"5\" valign=\"top\">72</th>\n",
       "      <th>16</th>\n",
       "      <td>0.20</td>\n",
       "    </tr>\n",
       "    <tr>\n",
       "      <th>17</th>\n",
       "      <td>0.80</td>\n",
       "    </tr>\n",
       "    <tr>\n",
       "      <th>18</th>\n",
       "      <td>0.85</td>\n",
       "    </tr>\n",
       "    <tr>\n",
       "      <th>19</th>\n",
       "      <td>0.95</td>\n",
       "    </tr>\n",
       "    <tr>\n",
       "      <th>20</th>\n",
       "      <td>1.00</td>\n",
       "    </tr>\n",
       "  </tbody>\n",
       "</table>\n",
       "<p>1440 rows × 1 columns</p>\n",
       "</div>"
      ],
      "text/plain": [
       "               recall\n",
       "subject input        \n",
       "1       1        0.40\n",
       "        2        0.10\n",
       "        3        0.25\n",
       "        4        0.30\n",
       "        5        0.10\n",
       "...               ...\n",
       "72      16       0.20\n",
       "        17       0.80\n",
       "        18       0.85\n",
       "        19       0.95\n",
       "        20       1.00\n",
       "\n",
       "[1440 rows x 1 columns]"
      ]
     },
     "execution_count": 3,
     "metadata": {},
     "output_type": "execute_result"
    }
   ],
   "source": [
    "from psifr import fr\n",
    "\n",
    "spc = fr.spc(events)\n",
    "spc "
   ]
  },
  {
   "cell_type": "markdown",
   "id": "b9dd4f31-459e-4fdb-aab4-de8844d3bcb5",
   "metadata": {},
   "source": [
    "### Fast Array Generation\n",
    "`DataFrame`s contain granular subject-by-subject information and are easier to plot using the `seaborn` library. \n",
    "But sometimes we don't need this granular information and mainly want to perform our analysis as quickly as possible -- perhaps to help with model fitting or analysis. \n",
    "In that case, representing results with `numpy` arrays and performing just-in-time compilation of our function using `numba` might be preferred. \n",
    "We include `analyses.fast_spc` in our library for that purpose here."
   ]
  },
  {
   "cell_type": "code",
   "execution_count": 4,
   "id": "32c29fad-b157-4ba4-b941-740a4c03bd97",
   "metadata": {},
   "outputs": [],
   "source": [
    "# export\n",
    "\n",
    "from numba import njit\n",
    "import numpy as np\n",
    "\n",
    "@njit(nogil=True)\n",
    "def fast_spc(trials, item_count):\n",
    "    return np.bincount(trials.flatten(), minlength=item_count+1)[1:]/len(trials)"
   ]
  },
  {
   "cell_type": "code",
   "execution_count": 5,
   "id": "90b4eb81-b9c5-444d-8096-d1ac7b05bb03",
   "metadata": {},
   "outputs": [
    {
     "data": {
      "text/plain": [
       "array([0.44305556, 0.29097222, 0.22222222, 0.18958333, 0.13888889,\n",
       "       0.15694444, 0.15486111, 0.14097222, 0.16041667, 0.18958333,\n",
       "       0.15347222, 0.1875    , 0.21875   , 0.25347222, 0.27847222,\n",
       "       0.3125    , 0.39722222, 0.5875    , 0.68819444, 0.7875    ])"
      ]
     },
     "execution_count": 5,
     "metadata": {},
     "output_type": "execute_result"
    }
   ],
   "source": [
    "fast_spc(trials, 20)"
   ]
  },
  {
   "cell_type": "markdown",
   "id": "50afd024-83c3-4c5d-9ffd-050bde3251a1",
   "metadata": {},
   "source": [
    "We can compare the runtimes of `compmemlearn`'s `analyses.fast_spc` and `psifr`'s `fr.spc` using the `%%timeit` Jupyter magic:"
   ]
  },
  {
   "cell_type": "code",
   "execution_count": 6,
   "id": "dea63371-0a38-4efc-b0a9-7f41a697f837",
   "metadata": {},
   "outputs": [
    {
     "name": "stdout",
     "output_type": "stream",
     "text": [
      "30.5 µs ± 329 ns per loop (mean ± std. dev. of 7 runs, 10,000 loops each)\n"
     ]
    }
   ],
   "source": [
    "%%timeit\n",
    "fast_spc(trials, 20)"
   ]
  },
  {
   "cell_type": "code",
   "execution_count": 7,
   "id": "79618ffc-f4c6-452a-8ce8-2cffaba7a5c1",
   "metadata": {},
   "outputs": [
    {
     "name": "stdout",
     "output_type": "stream",
     "text": [
      "5.24 ms ± 55.3 µs per loop (mean ± std. dev. of 7 runs, 100 loops each)\n"
     ]
    }
   ],
   "source": [
    "%%timeit\n",
    "fr.spc(events)"
   ]
  },
  {
   "cell_type": "code",
   "execution_count": 8,
   "id": "93209fcc",
   "metadata": {},
   "outputs": [
    {
     "data": {
      "text/html": [
       "<div>\n",
       "<style scoped>\n",
       "    .dataframe tbody tr th:only-of-type {\n",
       "        vertical-align: middle;\n",
       "    }\n",
       "\n",
       "    .dataframe tbody tr th {\n",
       "        vertical-align: top;\n",
       "    }\n",
       "\n",
       "    .dataframe thead th {\n",
       "        text-align: right;\n",
       "    }\n",
       "</style>\n",
       "<table border=\"1\" class=\"dataframe\">\n",
       "  <thead>\n",
       "    <tr style=\"text-align: right;\">\n",
       "      <th></th>\n",
       "      <th></th>\n",
       "      <th>recall</th>\n",
       "    </tr>\n",
       "    <tr>\n",
       "      <th>subject</th>\n",
       "      <th>input</th>\n",
       "      <th></th>\n",
       "    </tr>\n",
       "  </thead>\n",
       "  <tbody>\n",
       "    <tr>\n",
       "      <th rowspan=\"5\" valign=\"top\">1</th>\n",
       "      <th>1</th>\n",
       "      <td>0.40</td>\n",
       "    </tr>\n",
       "    <tr>\n",
       "      <th>2</th>\n",
       "      <td>0.10</td>\n",
       "    </tr>\n",
       "    <tr>\n",
       "      <th>3</th>\n",
       "      <td>0.25</td>\n",
       "    </tr>\n",
       "    <tr>\n",
       "      <th>4</th>\n",
       "      <td>0.30</td>\n",
       "    </tr>\n",
       "    <tr>\n",
       "      <th>5</th>\n",
       "      <td>0.10</td>\n",
       "    </tr>\n",
       "    <tr>\n",
       "      <th>...</th>\n",
       "      <th>...</th>\n",
       "      <td>...</td>\n",
       "    </tr>\n",
       "    <tr>\n",
       "      <th rowspan=\"5\" valign=\"top\">72</th>\n",
       "      <th>16</th>\n",
       "      <td>0.20</td>\n",
       "    </tr>\n",
       "    <tr>\n",
       "      <th>17</th>\n",
       "      <td>0.80</td>\n",
       "    </tr>\n",
       "    <tr>\n",
       "      <th>18</th>\n",
       "      <td>0.85</td>\n",
       "    </tr>\n",
       "    <tr>\n",
       "      <th>19</th>\n",
       "      <td>0.95</td>\n",
       "    </tr>\n",
       "    <tr>\n",
       "      <th>20</th>\n",
       "      <td>1.00</td>\n",
       "    </tr>\n",
       "  </tbody>\n",
       "</table>\n",
       "<p>1440 rows × 1 columns</p>\n",
       "</div>"
      ],
      "text/plain": [
       "               recall\n",
       "subject input        \n",
       "1       1        0.40\n",
       "        2        0.10\n",
       "        3        0.25\n",
       "        4        0.30\n",
       "        5        0.10\n",
       "...               ...\n",
       "72      16       0.20\n",
       "        17       0.80\n",
       "        18       0.85\n",
       "        19       0.95\n",
       "        20       1.00\n",
       "\n",
       "[1440 rows x 1 columns]"
      ]
     },
     "execution_count": 8,
     "metadata": {},
     "output_type": "execute_result"
    }
   ],
   "source": [
    "fr.spc(events)"
   ]
  },
  {
   "cell_type": "markdown",
   "id": "a5086daa-7cec-4fa2-9b56-6cf1315a5725",
   "metadata": {},
   "source": [
    "Our fast implementation is more than 100 times faster!"
   ]
  },
  {
   "cell_type": "markdown",
   "id": "c39f8b19-b16b-4362-9dd2-7262d409702b",
   "metadata": {},
   "source": [
    "## Plotting\n",
    "`psifr`'s plotting library creates a separate figure for each plot, when sometimes we want to to include multiple plots in one figure, so we define our own."
   ]
  },
  {
   "cell_type": "code",
   "execution_count": 9,
   "id": "644db9d2",
   "metadata": {},
   "outputs": [],
   "source": [
    "# # export\n",
    "\n",
    "# import seaborn as sns\n",
    "# import matplotlib.pyplot as plt\n",
    "# from psifr import fr\n",
    "# from compmemlearn.fitting import apply_and_concatenate\n",
    "# from compmemlearn.datasets import events_metadata, generate_trial_mask\n",
    "\n",
    "# def plot_spc(data, trial_query, axis=None, contrast_name=None, labels=None):\n",
    "\n",
    "#     trials, list_lengths = events_metadata(data)[:2]\n",
    "#     trial_mask = generate_trial_mask(events, trial_query)\n",
    "\n",
    "#     trials = [t for t in trials if len(t) > 0]\n",
    "#     presentations = [p for p in presentations if len(p) > 0]\n",
    "#     list_lengths = [list_lengths[i] for i in range(len(list_lengths)) if len(trials[i]) > 0]\n",
    "\n",
    "#     if axis is None:\n",
    "#         plt.figure()\n",
    "#         axis = plt.gca()\n",
    "\n",
    "#     if isinstance(data, list):\n",
    "#         assert(len(labels) == len(data))\n",
    "#         assert(contrast_name is not None)\n",
    "#         data = apply_and_concatenate(fr.spc, data, contrast_name, labels)\n",
    "#     else:\n",
    "#         data = fr.spc(data)\n",
    "\n",
    "#     sns.lineplot(ax=axis, data=data, x='input', y='recall', err_style='bars', hue=contrast_name)\n",
    "#     axis.set(xlabel='Study Position', ylabel='Recall Rate')\n",
    "#     axis.set_xticks(np.arange(1, list_length+int(list_length/10), int(list_length/10)))\n",
    "#     axis.set_ylim((0, 1))\n",
    "\n",
    "#     if labels is not None:\n",
    "#         axis.legend(bbox_to_anchor=(1.05, 1), loc=2, borderaxespad=0.)\n",
    "\n",
    "#     return axis"
   ]
  },
  {
   "cell_type": "code",
   "execution_count": 10,
   "id": "e6002286",
   "metadata": {},
   "outputs": [],
   "source": [
    "# export\n",
    "\n",
    "import pandas as pd\n",
    "import seaborn as sns\n",
    "import matplotlib.pyplot as plt\n",
    "from compmemlearn.datasets import events_metadata, generate_trial_mask\n",
    "\n",
    "\n",
    "def plot_spc(data, trial_query, contrast_name='', labels=None, axis=None):\n",
    "\n",
    "    if axis is None:\n",
    "        plt.figure()\n",
    "        axis = plt.gca()\n",
    "\n",
    "    if labels is None:\n",
    "        labels = [''] * len(data)\n",
    "\n",
    "    result = []\n",
    "    for data_index, events in enumerate(data):\n",
    "\n",
    "        # generate and subset trials array and list of list_lengths based on trial_query\n",
    "        trials, list_lengths, presentations = events_metadata(events)\n",
    "        trial_mask = generate_trial_mask(events, trial_query)\n",
    "        chose = [i for i in range(len(trial_mask)) if np.sum(trial_mask[i]) != 0]\n",
    "        assert(len(chose) == 1)\n",
    "        chose = chose[0]\n",
    "        trials = trials[chose]\n",
    "        list_length = list_lengths[chose]\n",
    "        trial_mask = trial_mask[chose]\n",
    "\n",
    "        for subject in pd.unique(events.subject):\n",
    "            subject_specific_trial_mask = np.logical_and(\n",
    "                generate_trial_mask(events, f\"subject == {subject}\")[chose], trial_mask\n",
    "            )\n",
    "\n",
    "            if np.sum(subject_specific_trial_mask) == 0:\n",
    "                continue\n",
    "\n",
    "            spc = fast_spc(trials[subject_specific_trial_mask], list_length)\n",
    "            result.append(pd.DataFrame.from_dict(\n",
    "                {\n",
    "                    \"subject\": subject,\n",
    "                    \"input\": np.arange(1, list_length + 1),\n",
    "                    \"recall\": spc,\n",
    "                    contrast_name: labels[data_index],\n",
    "                }\n",
    "            ))\n",
    "\n",
    "    result = pd.concat(result).reset_index()\n",
    "\n",
    "    sns.lineplot(ax=axis, data=result, x='input', y='recall', err_style='bars', hue=contrast_name)\n",
    "    axis.set(xlabel='Study Position', ylabel='Recall Rate')\n",
    "    axis.set_xticks(np.arange(1, list_length+int(list_length/10), int(list_length/10)))\n",
    "    axis.set_ylim((0, 1))\n",
    "\n",
    "    if contrast_name:\n",
    "        axis.legend(bbox_to_anchor=(1.05, 1), loc=2, borderaxespad=0.)\n",
    "\n",
    "    return axis"
   ]
  },
  {
   "cell_type": "code",
   "execution_count": 11,
   "id": "aceccfa6",
   "metadata": {},
   "outputs": [
    {
     "data": {
      "image/png": "[encoded data removed]",
      "text/plain": [
       "<Figure size 432x288 with 1 Axes>"
      ]
     },
     "metadata": {
      "needs_background": "light"
     },
     "output_type": "display_data"
    }
   ],
   "source": [
    "import matplotlib.pyplot as plt\n",
    "\n",
    "plt.figure()\n",
    "axis = plt.gca()\n",
    "plot_spc([events], 'subject > -1', axis=axis);"
   ]
  },
  {
   "cell_type": "code",
   "execution_count": null,
   "id": "b1fd886d",
   "metadata": {},
   "outputs": [],
   "source": []
  }
 ],
 "metadata": {
  "kernelspec": {
   "display_name": "Python 3.9.1 ('base')",
   "language": "python",
   "name": "python3"
  },
  "language_info": {
   "codemirror_mode": {
    "name": "ipython",
    "version": 3
   },
   "file_extension": ".py",
   "mimetype": "text/x-python",
   "name": "python",
   "nbconvert_exporter": "python",
   "pygments_lexer": "ipython3",
   "version": "3.9.1"
  },
  "vscode": {
   "interpreter": {
    "hash": "19d1d53a962d236aa061289c2ac16dc8e6d9648c89fe79f459ae9a3493bc67b4"
   }
  }
 },
 "nbformat": 4,
 "nbformat_minor": 5
}

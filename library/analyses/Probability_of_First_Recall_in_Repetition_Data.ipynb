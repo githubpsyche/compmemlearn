{
 "cells": [
  {
   "cell_type": "code",
   "execution_count": null,
   "id": "a1904da4-e945-4f09-81cd-88b9cc6cf5c6",
   "metadata": {},
   "outputs": [],
   "source": [
    "# default_exp analyses"
   ]
  },
  {
   "cell_type": "markdown",
   "id": "9fc8acd5-1765-402b-b0b7-30e8f4bb08fa",
   "metadata": {},
   "source": [
    "# Probability of First Recall in Repetition Data\n",
    "Here we extend on previous implementations to ensure recall rates are successfully measured and visualized when study lists can include two presentations of study items. \n",
    "\n",
    "**NOTE**: function not yet tested for lists with more than two presentations per item within a study list."
   ]
  },
  {
   "cell_type": "markdown",
   "id": "542342f7-a01e-4cd5-9c1f-8565d70b9b7b",
   "metadata": {},
   "source": [
    "## Data Preparation"
   ]
  },
  {
   "cell_type": "code",
   "execution_count": null,
   "id": "9d11670a-8ece-42a8-ae2a-69a1dda0758c",
   "metadata": {},
   "outputs": [
    {
     "data": {
      "text/html": [
       "<div>\n",
       "<style scoped>\n",
       "    .dataframe tbody tr th:only-of-type {\n",
       "        vertical-align: middle;\n",
       "    }\n",
       "\n",
       "    .dataframe tbody tr th {\n",
       "        vertical-align: top;\n",
       "    }\n",
       "\n",
       "    .dataframe thead th {\n",
       "        text-align: right;\n",
       "    }\n",
       "</style>\n",
       "<table border=\"1\" class=\"dataframe\">\n",
       "  <thead>\n",
       "    <tr style=\"text-align: right;\">\n",
       "      <th></th>\n",
       "      <th>subject</th>\n",
       "      <th>list</th>\n",
       "      <th>item</th>\n",
       "      <th>input</th>\n",
       "      <th>output</th>\n",
       "      <th>study</th>\n",
       "      <th>recall</th>\n",
       "      <th>repeat</th>\n",
       "      <th>intrusion</th>\n",
       "      <th>condition</th>\n",
       "    </tr>\n",
       "  </thead>\n",
       "  <tbody>\n",
       "    <tr>\n",
       "      <th>0</th>\n",
       "      <td>1</td>\n",
       "      <td>1</td>\n",
       "      <td>0</td>\n",
       "      <td>1</td>\n",
       "      <td>1.0</td>\n",
       "      <td>True</td>\n",
       "      <td>True</td>\n",
       "      <td>0</td>\n",
       "      <td>False</td>\n",
       "      <td>4</td>\n",
       "    </tr>\n",
       "    <tr>\n",
       "      <th>1</th>\n",
       "      <td>1</td>\n",
       "      <td>1</td>\n",
       "      <td>1</td>\n",
       "      <td>2</td>\n",
       "      <td>2.0</td>\n",
       "      <td>True</td>\n",
       "      <td>True</td>\n",
       "      <td>0</td>\n",
       "      <td>False</td>\n",
       "      <td>4</td>\n",
       "    </tr>\n",
       "    <tr>\n",
       "      <th>2</th>\n",
       "      <td>1</td>\n",
       "      <td>1</td>\n",
       "      <td>2</td>\n",
       "      <td>3</td>\n",
       "      <td>3.0</td>\n",
       "      <td>True</td>\n",
       "      <td>True</td>\n",
       "      <td>0</td>\n",
       "      <td>False</td>\n",
       "      <td>4</td>\n",
       "    </tr>\n",
       "    <tr>\n",
       "      <th>3</th>\n",
       "      <td>1</td>\n",
       "      <td>1</td>\n",
       "      <td>3</td>\n",
       "      <td>4</td>\n",
       "      <td>4.0</td>\n",
       "      <td>True</td>\n",
       "      <td>True</td>\n",
       "      <td>0</td>\n",
       "      <td>False</td>\n",
       "      <td>4</td>\n",
       "    </tr>\n",
       "    <tr>\n",
       "      <th>4</th>\n",
       "      <td>1</td>\n",
       "      <td>1</td>\n",
       "      <td>4</td>\n",
       "      <td>5</td>\n",
       "      <td>5.0</td>\n",
       "      <td>True</td>\n",
       "      <td>True</td>\n",
       "      <td>0</td>\n",
       "      <td>False</td>\n",
       "      <td>4</td>\n",
       "    </tr>\n",
       "  </tbody>\n",
       "</table>\n",
       "</div>"
      ],
      "text/plain": [
       "   subject  list  item  input  output  study  recall  repeat  intrusion  \\\n",
       "0        1     1     0      1     1.0   True    True       0      False   \n",
       "1        1     1     1      2     2.0   True    True       0      False   \n",
       "2        1     1     2      3     3.0   True    True       0      False   \n",
       "3        1     1     3      4     4.0   True    True       0      False   \n",
       "4        1     1     4      5     5.0   True    True       0      False   \n",
       "\n",
       "   condition  \n",
       "0          4  \n",
       "1          4  \n",
       "2          4  \n",
       "3          4  \n",
       "4          4  "
      ]
     },
     "execution_count": null,
     "metadata": {},
     "output_type": "execute_result"
    }
   ],
   "source": [
    "from compmemlearn.datasets import prepare_lohnas2014_data\n",
    "\n",
    "trials, events, list_length, presentations, list_types, rep_data, subjects = prepare_lohnas2014_data(\n",
    "    '../../data/repFR.mat')\n",
    "\n",
    "events.head()"
   ]
  },
  {
   "cell_type": "markdown",
   "id": "0dff3608-4e67-4947-af08-31a8dc4ad411",
   "metadata": {},
   "source": [
    "## Function"
   ]
  },
  {
   "cell_type": "code",
   "execution_count": null,
   "id": "83f0cacf-1881-4f24-8a55-552641131bf5",
   "metadata": {},
   "outputs": [],
   "source": [
    "from compmemlearn.analyses import recall_by_second_study_position\n",
    "from compmemlearn.analyses import recall_by_all_study_positions"
   ]
  },
  {
   "cell_type": "code",
   "execution_count": null,
   "id": "ea609147-300c-4e70-a203-f8dea32a2116",
   "metadata": {},
   "outputs": [],
   "source": [
    "# export\n",
    "\n",
    "from numba import njit\n",
    "import numpy as np\n",
    "from numba import int32\n",
    "\n",
    "@njit(nogil=True)\n",
    "def fast_mixed_pfr(trials, presentations):\n",
    "    \n",
    "    list_length = len(presentations[0])\n",
    "    result = np.zeros(list_length, dtype=int32)\n",
    "    alt_trials = recall_by_second_study_position(trials, presentations)\n",
    "    first_recalls = np.hstack((trials[:, :1], alt_trials[:, :1]))\n",
    "    \n",
    "    for trial_index in range(len(trials)):\n",
    "        for i in range(list_length):\n",
    "            result[i] += i+1 in first_recalls[trial_index]\n",
    "    \n",
    "    return result/len(trials)\n",
    "\n",
    "@njit(nogil=True)\n",
    "def flex_mixed_pfr(trials, presentations):\n",
    "    \n",
    "    list_length = len(presentations[0])\n",
    "    result = np.zeros(list_length, dtype=int32)\n",
    "    all_study_positions = recall_by_all_study_positions(trials, presentations) \n",
    "    first_recalls = all_study_positions[:, :, :1]\n",
    "    \n",
    "    for trial_index in range(len(trials)):\n",
    "        for i in range(list_length):\n",
    "            result[i] += i+1 in first_recalls[:, trial_index]\n",
    "    \n",
    "    return result/len(trials)\n"
   ]
  },
  {
   "cell_type": "markdown",
   "id": "8913059e-11ab-4801-8b01-0ae0cde113e6",
   "metadata": {},
   "source": [
    "## Demo"
   ]
  },
  {
   "cell_type": "code",
   "execution_count": null,
   "id": "d8d77b1c-e69f-4ec3-b8ab-f25bb2203ade",
   "metadata": {},
   "outputs": [
    {
     "data": {
      "text/plain": [
       "array([0.21666667, 0.06190476, 0.03333333, 0.04047619, 0.00952381,\n",
       "       0.01666667, 0.        , 0.02142857, 0.01190476, 0.01190476,\n",
       "       0.01428571, 0.01428571, 0.0047619 , 0.00714286, 0.00952381,\n",
       "       0.00238095, 0.00952381, 0.01190476, 0.0047619 , 0.00952381,\n",
       "       0.0047619 , 0.01428571, 0.00952381, 0.00714286, 0.01190476,\n",
       "       0.01190476, 0.00952381, 0.02142857, 0.01428571, 0.01190476,\n",
       "       0.02619048, 0.01190476, 0.01428571, 0.01904762, 0.01190476,\n",
       "       0.03571429, 0.05238095, 0.06190476, 0.06428571, 0.07380952])"
      ]
     },
     "execution_count": null,
     "metadata": {},
     "output_type": "execute_result"
    }
   ],
   "source": [
    "fast_mixed_pfr(trials[list_types==1], presentations[list_types==1])"
   ]
  },
  {
   "cell_type": "code",
   "execution_count": null,
   "id": "d40a523c-e74e-42c9-96a1-29f99643f2c5",
   "metadata": {},
   "outputs": [
    {
     "data": {
      "text/plain": [
       "array([0.21666667, 0.06190476, 0.03333333, 0.04047619, 0.00952381,\n",
       "       0.01666667, 0.        , 0.02142857, 0.01190476, 0.01190476,\n",
       "       0.01428571, 0.01428571, 0.0047619 , 0.00714286, 0.00952381,\n",
       "       0.00238095, 0.00952381, 0.01190476, 0.0047619 , 0.00952381,\n",
       "       0.0047619 , 0.01428571, 0.00952381, 0.00714286, 0.01190476,\n",
       "       0.01190476, 0.00952381, 0.02142857, 0.01428571, 0.01190476,\n",
       "       0.02619048, 0.01190476, 0.01428571, 0.01904762, 0.01190476,\n",
       "       0.03571429, 0.05238095, 0.06190476, 0.06428571, 0.07380952])"
      ]
     },
     "execution_count": null,
     "metadata": {},
     "output_type": "execute_result"
    }
   ],
   "source": [
    "flex_mixed_pfr(trials[list_types==1], presentations[list_types==1])"
   ]
  },
  {
   "cell_type": "code",
   "execution_count": null,
   "id": "422c087b-62e2-41e1-b80b-4ef7cc76e3bb",
   "metadata": {},
   "outputs": [
    {
     "data": {
      "text/plain": [
       "array([0.34761905, 0.34761905, 0.06904762, 0.06904762, 0.0452381 ,\n",
       "       0.0452381 , 0.03333333, 0.03333333, 0.01666667, 0.01666667,\n",
       "       0.01666667, 0.01666667, 0.01428571, 0.01428571, 0.01666667,\n",
       "       0.01666667, 0.01190476, 0.01190476, 0.02380952, 0.02380952,\n",
       "       0.01666667, 0.01666667, 0.01904762, 0.01904762, 0.02142857,\n",
       "       0.02142857, 0.02619048, 0.02619048, 0.03333333, 0.03333333,\n",
       "       0.03095238, 0.03095238, 0.04047619, 0.04047619, 0.04285714,\n",
       "       0.04285714, 0.06904762, 0.06904762, 0.1       , 0.1       ])"
      ]
     },
     "execution_count": null,
     "metadata": {},
     "output_type": "execute_result"
    }
   ],
   "source": [
    "fast_mixed_pfr(trials[list_types==2], presentations[list_types==2])"
   ]
  },
  {
   "cell_type": "code",
   "execution_count": null,
   "id": "8aa0483f-4ce6-4c94-a33d-809d6f711e59",
   "metadata": {},
   "outputs": [
    {
     "data": {
      "text/plain": [
       "array([0.34761905, 0.34761905, 0.06904762, 0.06904762, 0.0452381 ,\n",
       "       0.0452381 , 0.03333333, 0.03333333, 0.01666667, 0.01666667,\n",
       "       0.01666667, 0.01666667, 0.01428571, 0.01428571, 0.01666667,\n",
       "       0.01666667, 0.01190476, 0.01190476, 0.02380952, 0.02380952,\n",
       "       0.01666667, 0.01666667, 0.01904762, 0.01904762, 0.02142857,\n",
       "       0.02142857, 0.02619048, 0.02619048, 0.03333333, 0.03333333,\n",
       "       0.03095238, 0.03095238, 0.04047619, 0.04047619, 0.04285714,\n",
       "       0.04285714, 0.06904762, 0.06904762, 0.1       , 0.1       ])"
      ]
     },
     "execution_count": null,
     "metadata": {},
     "output_type": "execute_result"
    }
   ],
   "source": [
    "flex_mixed_pfr(trials[list_types==2], presentations[list_types==2])"
   ]
  },
  {
   "cell_type": "code",
   "execution_count": null,
   "id": "e64840f3-076c-44ec-8376-b86f56252df7",
   "metadata": {},
   "outputs": [
    {
     "data": {
      "text/plain": [
       "array([0.24285714, 0.06428571, 0.05      , 0.06428571, 0.09285714,\n",
       "       0.06428571, 0.04047619, 0.04285714, 0.0547619 , 0.05238095,\n",
       "       0.03333333, 0.01904762, 0.02380952, 0.01666667, 0.03095238,\n",
       "       0.03809524, 0.01428571, 0.00714286, 0.01904762, 0.02857143,\n",
       "       0.01428571, 0.02857143, 0.01428571, 0.02619048, 0.02142857,\n",
       "       0.01666667, 0.02619048, 0.02142857, 0.0452381 , 0.03809524,\n",
       "       0.0452381 , 0.03095238, 0.05      , 0.0547619 , 0.07142857,\n",
       "       0.09285714, 0.06666667, 0.11428571, 0.0952381 , 0.09761905])"
      ]
     },
     "execution_count": null,
     "metadata": {},
     "output_type": "execute_result"
    }
   ],
   "source": [
    "fast_mixed_pfr(trials[list_types==3], presentations[list_types==3])"
   ]
  },
  {
   "cell_type": "code",
   "execution_count": null,
   "id": "af197cd9-9ee0-4506-9f5a-eb0a60ea325c",
   "metadata": {},
   "outputs": [
    {
     "data": {
      "text/plain": [
       "array([0.21190476, 0.04285714, 0.05      , 0.02142857, 0.02857143,\n",
       "       0.02857143, 0.01904762, 0.01666667, 0.01666667, 0.02619048,\n",
       "       0.01666667, 0.03809524, 0.02380952, 0.02619048, 0.01428571,\n",
       "       0.01190476, 0.01190476, 0.01666667, 0.01428571, 0.00952381,\n",
       "       0.01666667, 0.02142857, 0.0047619 , 0.00952381, 0.01666667,\n",
       "       0.02142857, 0.00952381, 0.03095238, 0.03333333, 0.01428571,\n",
       "       0.02142857, 0.02380952, 0.02857143, 0.03571429, 0.02857143,\n",
       "       0.04761905, 0.03333333, 0.05714286, 0.04047619, 0.04285714])"
      ]
     },
     "execution_count": null,
     "metadata": {},
     "output_type": "execute_result"
    }
   ],
   "source": [
    "fast_mixed_pfr(trials[list_types==4], presentations[list_types==4])"
   ]
  },
  {
   "cell_type": "code",
   "execution_count": null,
   "id": "54b03820-2100-4a7d-851a-d55ff23f0996",
   "metadata": {},
   "outputs": [],
   "source": []
  }
 ],
 "metadata": {
  "kernelspec": {
   "display_name": "Python 3 (ipykernel)",
   "language": "python",
   "name": "python3"
  }
 },
 "nbformat": 4,
 "nbformat_minor": 5
}

{
 "cells": [
  {
   "cell_type": "code",
   "execution_count": null,
   "id": "399d1a51-c769-4333-b54d-f7b3bcfa66ab",
   "metadata": {},
   "outputs": [],
   "source": [
    "# default_exp analyses"
   ]
  },
  {
   "cell_type": "markdown",
   "id": "c9dc83e9-a435-4531-9f12-f60674d8221e",
   "metadata": {},
   "source": [
    "# Conditional Stop Probability\n",
    "> Probability of stopping recall conditional on number of items recalled so far"
   ]
  },
  {
   "cell_type": "markdown",
   "id": "464c09c7-9ec5-4132-a24f-f7c8e6e3d8ea",
   "metadata": {
    "tags": []
   },
   "source": [
    "## Data Preparation\n",
    "For our demonstrations, we'll lean on the MurdockOkada1970 dataset. \n",
    "As a reminder, in this dataset each of 72 undergraduates was given 20 test lists with 20-word lists visually presented at either 60 or 120 words/min."
   ]
  },
  {
   "cell_type": "code",
   "execution_count": 1,
   "id": "f7b15ff9-3f88-4770-9e32-5db40ca7160a",
   "metadata": {},
   "outputs": [
    {
     "data": {
      "text/html": [
       "<div>\n",
       "<style scoped>\n",
       "    .dataframe tbody tr th:only-of-type {\n",
       "        vertical-align: middle;\n",
       "    }\n",
       "\n",
       "    .dataframe tbody tr th {\n",
       "        vertical-align: top;\n",
       "    }\n",
       "\n",
       "    .dataframe thead th {\n",
       "        text-align: right;\n",
       "    }\n",
       "</style>\n",
       "<table border=\"1\" class=\"dataframe\">\n",
       "  <thead>\n",
       "    <tr style=\"text-align: right;\">\n",
       "      <th></th>\n",
       "      <th>subject</th>\n",
       "      <th>list</th>\n",
       "      <th>item</th>\n",
       "      <th>input</th>\n",
       "      <th>output</th>\n",
       "      <th>study</th>\n",
       "      <th>recall</th>\n",
       "      <th>repeat</th>\n",
       "      <th>intrusion</th>\n",
       "    </tr>\n",
       "  </thead>\n",
       "  <tbody>\n",
       "    <tr>\n",
       "      <th>0</th>\n",
       "      <td>1</td>\n",
       "      <td>1</td>\n",
       "      <td>1</td>\n",
       "      <td>1</td>\n",
       "      <td>NaN</td>\n",
       "      <td>True</td>\n",
       "      <td>False</td>\n",
       "      <td>0</td>\n",
       "      <td>False</td>\n",
       "    </tr>\n",
       "    <tr>\n",
       "      <th>1</th>\n",
       "      <td>1</td>\n",
       "      <td>1</td>\n",
       "      <td>2</td>\n",
       "      <td>2</td>\n",
       "      <td>NaN</td>\n",
       "      <td>True</td>\n",
       "      <td>False</td>\n",
       "      <td>0</td>\n",
       "      <td>False</td>\n",
       "    </tr>\n",
       "    <tr>\n",
       "      <th>2</th>\n",
       "      <td>1</td>\n",
       "      <td>1</td>\n",
       "      <td>3</td>\n",
       "      <td>3</td>\n",
       "      <td>NaN</td>\n",
       "      <td>True</td>\n",
       "      <td>False</td>\n",
       "      <td>0</td>\n",
       "      <td>False</td>\n",
       "    </tr>\n",
       "    <tr>\n",
       "      <th>3</th>\n",
       "      <td>1</td>\n",
       "      <td>1</td>\n",
       "      <td>4</td>\n",
       "      <td>4</td>\n",
       "      <td>NaN</td>\n",
       "      <td>True</td>\n",
       "      <td>False</td>\n",
       "      <td>0</td>\n",
       "      <td>False</td>\n",
       "    </tr>\n",
       "    <tr>\n",
       "      <th>4</th>\n",
       "      <td>1</td>\n",
       "      <td>1</td>\n",
       "      <td>5</td>\n",
       "      <td>5</td>\n",
       "      <td>NaN</td>\n",
       "      <td>True</td>\n",
       "      <td>False</td>\n",
       "      <td>0</td>\n",
       "      <td>False</td>\n",
       "    </tr>\n",
       "  </tbody>\n",
       "</table>\n",
       "</div>"
      ],
      "text/plain": [
       "   subject  list  item  input  output  study  recall  repeat  intrusion\n",
       "0        1     1     1      1     NaN   True   False       0      False\n",
       "1        1     1     2      2     NaN   True   False       0      False\n",
       "2        1     1     3      3     NaN   True   False       0      False\n",
       "3        1     1     4      4     NaN   True   False       0      False\n",
       "4        1     1     5      5     NaN   True   False       0      False"
      ]
     },
     "execution_count": 1,
     "metadata": {},
     "output_type": "execute_result"
    }
   ],
   "source": [
    "from compmemlearn.datasets import prepare_murdock1970_data\n",
    "\n",
    "trials, events, list_length = prepare_murdock1970_data('../../data/mo1970.txt')\n",
    "events.head()"
   ]
  },
  {
   "cell_type": "markdown",
   "id": "0e2f53c1-e480-48f3-b04c-87bac1dcfeed",
   "metadata": {
    "tags": []
   },
   "source": [
    "## Analysis"
   ]
  },
  {
   "cell_type": "markdown",
   "id": "a6a43617-8777-4955-ab0c-f268a1d03b85",
   "metadata": {
    "tags": []
   },
   "source": [
    "### Fast Array Generation\n",
    "`DataFrame`s contain granular subject-by-subject information and are easier to plot using the `seaborn` library. \n",
    "But sometimes we don't need this granular information and mainly want to perform our analysis as quickly as possible -- perhaps to help with model fitting or analysis. \n",
    "In that case, representing results with `numpy` arrays and performing just-in-time compilation of our function using `numba` might be preferred. \n",
    "We include `analyses.fast_csp` in our library for that purpose here."
   ]
  },
  {
   "cell_type": "code",
   "execution_count": 7,
   "id": "a28a7a87-7de7-432f-9a70-7b7e1edf35bf",
   "metadata": {},
   "outputs": [],
   "source": [
    "# export\n",
    "\n",
    "from numba import njit\n",
    "import numpy as np\n",
    "\n",
    "@njit(fastmath=True, nogil=True)\n",
    "def fast_csp(trials, item_count):\n",
    "    \n",
    "    # numerator is number of trials with zero in current column position\n",
    "    numerator = np.zeros(item_count+1)\n",
    "\n",
    "    # denominator is number of trials without zero in previous column positions\n",
    "    denominator = np.zeros(item_count+1)\n",
    "\n",
    "    stop_positions = trials == 0\n",
    "    for i in range(len(trials)):\n",
    "\n",
    "        # add 1 to index of final recall\n",
    "        numerator[np.argmax(stop_positions[i])] += 1\n",
    "        \n",
    "        # add 1 to each index up through final recall\n",
    "        denominator[:np.argmax(stop_positions[i])+1] += 1\n",
    "        \n",
    "    denominator[denominator==0] += 1\n",
    "    return numerator/denominator"
   ]
  },
  {
   "cell_type": "code",
   "execution_count": 11,
   "id": "12485497-d672-4839-9b36-1a682dce287b",
   "metadata": {},
   "outputs": [
    {
     "data": {
      "text/plain": [
       "array([0.        , 0.00138889, 0.01877608, 0.05740609, 0.18195489,\n",
       "       0.25919118, 0.33498759, 0.4608209 , 0.50519031, 0.55944056,\n",
       "       0.65079365, 0.77272727, 1.        , 0.        , 0.        ,\n",
       "       0.        , 0.        , 0.        , 0.        , 0.        ,\n",
       "       0.        ])"
      ]
     },
     "execution_count": 11,
     "metadata": {},
     "output_type": "execute_result"
    }
   ],
   "source": [
    "fast_csp(trials, list_length)"
   ]
  },
  {
   "cell_type": "markdown",
   "id": "5ebee69d-6915-4774-8ebc-3f1db96b933b",
   "metadata": {
    "tags": []
   },
   "source": [
    "### DataFrame\n",
    "The `psifr` library doesn't have a function to generate `pandas` DataFrames containing conditional stop probability information, so we make our own. For efficiency, it mainly consists of calls to `fast_csp`."
   ]
  },
  {
   "cell_type": "code",
   "execution_count": 122,
   "id": "2b129efa-26dd-4246-8a1c-c6ae8fa43c36",
   "metadata": {},
   "outputs": [],
   "source": [
    "import pandas as pd\n",
    "\n",
    "def csp(events, trials):\n",
    "    subjects = len(np.unique(events.subject))\n",
    "    trial_count = np.max(events.list)\n",
    "    list_length = np.max(events.input)\n",
    "    \n",
    "    result = {'subject': [], 'output': [], 'prob': []}\n",
    "    \n",
    "    for subject in range(subjects):\n",
    "        subject_result = fast_csp(trials[subject*trial_count:(subject+1)*trial_count], list_length)\n",
    "        subject_result[np.argmax(subject_result)+1:] = np.nan\n",
    "\n",
    "        result['subject'] += [subject+1]*(list_length+1)\n",
    "        result['output'] += np.arange(list_length+1, dtype=int).tolist()\n",
    "        result['prob'] += subject_result.tolist()\n",
    "        \n",
    "    return pd.DataFrame(result)"
   ]
  },
  {
   "cell_type": "code",
   "execution_count": 123,
   "id": "200c2369-f02f-4217-90e1-2743d32ca457",
   "metadata": {},
   "outputs": [
    {
     "data": {
      "text/html": [
       "<div>\n",
       "<style scoped>\n",
       "    .dataframe tbody tr th:only-of-type {\n",
       "        vertical-align: middle;\n",
       "    }\n",
       "\n",
       "    .dataframe tbody tr th {\n",
       "        vertical-align: top;\n",
       "    }\n",
       "\n",
       "    .dataframe thead th {\n",
       "        text-align: right;\n",
       "    }\n",
       "</style>\n",
       "<table border=\"1\" class=\"dataframe\">\n",
       "  <thead>\n",
       "    <tr style=\"text-align: right;\">\n",
       "      <th></th>\n",
       "      <th>subject</th>\n",
       "      <th>output</th>\n",
       "      <th>prob</th>\n",
       "    </tr>\n",
       "  </thead>\n",
       "  <tbody>\n",
       "    <tr>\n",
       "      <th>0</th>\n",
       "      <td>1</td>\n",
       "      <td>0</td>\n",
       "      <td>0.0</td>\n",
       "    </tr>\n",
       "    <tr>\n",
       "      <th>1</th>\n",
       "      <td>1</td>\n",
       "      <td>1</td>\n",
       "      <td>0.0</td>\n",
       "    </tr>\n",
       "    <tr>\n",
       "      <th>2</th>\n",
       "      <td>1</td>\n",
       "      <td>2</td>\n",
       "      <td>0.0</td>\n",
       "    </tr>\n",
       "    <tr>\n",
       "      <th>3</th>\n",
       "      <td>1</td>\n",
       "      <td>3</td>\n",
       "      <td>0.0</td>\n",
       "    </tr>\n",
       "    <tr>\n",
       "      <th>4</th>\n",
       "      <td>1</td>\n",
       "      <td>4</td>\n",
       "      <td>0.0</td>\n",
       "    </tr>\n",
       "    <tr>\n",
       "      <th>...</th>\n",
       "      <td>...</td>\n",
       "      <td>...</td>\n",
       "      <td>...</td>\n",
       "    </tr>\n",
       "    <tr>\n",
       "      <th>1507</th>\n",
       "      <td>72</td>\n",
       "      <td>16</td>\n",
       "      <td>NaN</td>\n",
       "    </tr>\n",
       "    <tr>\n",
       "      <th>1508</th>\n",
       "      <td>72</td>\n",
       "      <td>17</td>\n",
       "      <td>NaN</td>\n",
       "    </tr>\n",
       "    <tr>\n",
       "      <th>1509</th>\n",
       "      <td>72</td>\n",
       "      <td>18</td>\n",
       "      <td>NaN</td>\n",
       "    </tr>\n",
       "    <tr>\n",
       "      <th>1510</th>\n",
       "      <td>72</td>\n",
       "      <td>19</td>\n",
       "      <td>NaN</td>\n",
       "    </tr>\n",
       "    <tr>\n",
       "      <th>1511</th>\n",
       "      <td>72</td>\n",
       "      <td>20</td>\n",
       "      <td>NaN</td>\n",
       "    </tr>\n",
       "  </tbody>\n",
       "</table>\n",
       "<p>1512 rows × 3 columns</p>\n",
       "</div>"
      ],
      "text/plain": [
       "      subject  output  prob\n",
       "0           1       0   0.0\n",
       "1           1       1   0.0\n",
       "2           1       2   0.0\n",
       "3           1       3   0.0\n",
       "4           1       4   0.0\n",
       "...       ...     ...   ...\n",
       "1507       72      16   NaN\n",
       "1508       72      17   NaN\n",
       "1509       72      18   NaN\n",
       "1510       72      19   NaN\n",
       "1511       72      20   NaN\n",
       "\n",
       "[1512 rows x 3 columns]"
      ]
     },
     "execution_count": 123,
     "metadata": {},
     "output_type": "execute_result"
    }
   ],
   "source": [
    "csp(events, trials)"
   ]
  },
  {
   "cell_type": "raw",
   "id": "6163f556-b62e-4d3e-8129-ea312bda7e82",
   "metadata": {},
   "source": [
    "We can compare the runtimes of `compmemlearn`'s and `psifr`'s functions using the `%%timeit` Jupyter magic:"
   ]
  },
  {
   "cell_type": "code",
   "execution_count": 124,
   "id": "96cded57-e771-48a0-8313-68fe60885063",
   "metadata": {},
   "outputs": [
    {
     "name": "stdout",
     "output_type": "stream",
     "text": [
      "210 µs ± 10.7 µs per loop (mean ± std. dev. of 7 runs, 1000 loops each)\n"
     ]
    }
   ],
   "source": [
    "%%timeit\n",
    "fast_csp(trials, list_length)"
   ]
  },
  {
   "cell_type": "code",
   "execution_count": 125,
   "id": "7365f796-cb6a-46b4-86e1-981b1999f21a",
   "metadata": {},
   "outputs": [
    {
     "name": "stdout",
     "output_type": "stream",
     "text": [
      "2.53 ms ± 156 µs per loop (mean ± std. dev. of 7 runs, 100 loops each)\n"
     ]
    }
   ],
   "source": [
    "%%timeit\n",
    "csp(events, trials)"
   ]
  },
  {
   "cell_type": "markdown",
   "id": "3407f4e3-f271-4bcf-8592-7e509ae72bb5",
   "metadata": {},
   "source": [
    "`fast_csp` is slower than our serial position effect functions, but faster than our functions analyzing lag-contiguity."
   ]
  },
  {
   "cell_type": "markdown",
   "id": "97d1859c-6ebe-4c6b-a8dd-310146eec58f",
   "metadata": {
    "tags": []
   },
   "source": [
    "## Plotting\n",
    "We'll define a `seaborn`-based plotting function that uses our `csp` function."
   ]
  },
  {
   "cell_type": "code",
   "execution_count": 130,
   "id": "56753312-ff94-416c-99fc-38eb0ba97f9e",
   "metadata": {},
   "outputs": [],
   "source": [
    "# export\n",
    "import seaborn as sns\n",
    "from psifr import fr\n",
    "\n",
    "def plot_csp(data, **facet_kws):\n",
    "    \n",
    "    trials = pd.pivot_table(\n",
    "        data, index=['subject', 'list'], \n",
    "        columns=['output'], values='input', \n",
    "        fill_value=0).to_numpy()\n",
    "\n",
    "    sns.lineplot(\n",
    "        data=csp(data, trials), \n",
    "        x='output', y='prob', **facet_kws)"
   ]
  },
  {
   "cell_type": "code",
   "execution_count": 132,
   "id": "c874d411-d917-4b35-9734-7deb1b045dbd",
   "metadata": {},
   "outputs": [
    {
     "data": {
      "image/png": "[encoded data removed]",
      "text/plain": [
       "<Figure size 345.6x288 with 1 Axes>"
      ]
     },
     "metadata": {},
     "output_type": "display_data"
    }
   ],
   "source": [
    "sns.set_theme(style=\"darkgrid\")\n",
    "\n",
    "g = sns.FacetGrid(dropna=False, data=events, height=4, aspect=1.2)\n",
    "g.map_dataframe(plot_csp, err_style='bars')\n",
    "\n",
    "g.set_xlabels('Recall Position')\n",
    "g.set_ylabels('Conditional Stop Probability');"
   ]
  }
 ],
 "metadata": {
  "kernelspec": {
   "display_name": "Python 3 (ipykernel)",
   "language": "python",
   "name": "python3"
  },
  "language_info": {
   "codemirror_mode": {
    "name": "ipython",
    "version": 3
   },
   "file_extension": ".py",
   "mimetype": "text/x-python",
   "name": "python",
   "nbconvert_exporter": "python",
   "pygments_lexer": "ipython3",
   "version": "3.9.1"
  }
 },
 "nbformat": 4,
 "nbformat_minor": 5
}

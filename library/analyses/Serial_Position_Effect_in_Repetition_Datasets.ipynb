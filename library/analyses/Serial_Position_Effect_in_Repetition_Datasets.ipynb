{
 "cells": [
  {
   "cell_type": "code",
   "execution_count": 1,
   "id": "a8f08137-31ba-44b7-8ece-70e7aea63af9",
   "metadata": {},
   "outputs": [],
   "source": [
    "# default_exp analyses"
   ]
  },
  {
   "cell_type": "markdown",
   "id": "1ec2a231-1c74-433f-aab9-a35b8143a475",
   "metadata": {},
   "source": [
    "# Measuring the Serial Position Effect in Repetition Data\n",
    "The serial position effect describes how our memory is affected by the position of information in a sequence. \n",
    "Here we extend on previous implementations to ensure recall rates are successfully measured and visualized when study lists can include two presentations of study items. \n",
    "\n",
    "**NOTE**: function not yet tested for lists with more than two presentations per item within a study list."
   ]
  },
  {
   "cell_type": "markdown",
   "id": "bbd530b5-995c-4dc8-80bb-41628540b84a",
   "metadata": {},
   "source": [
    "## Data Preparation"
   ]
  },
  {
   "cell_type": "code",
   "execution_count": 2,
   "id": "d01fbcbc-17e2-46cf-a426-6d507d674835",
   "metadata": {},
   "outputs": [
    {
     "data": {
      "text/html": [
       "<div>\n",
       "<style scoped>\n",
       "    .dataframe tbody tr th:only-of-type {\n",
       "        vertical-align: middle;\n",
       "    }\n",
       "\n",
       "    .dataframe tbody tr th {\n",
       "        vertical-align: top;\n",
       "    }\n",
       "\n",
       "    .dataframe thead th {\n",
       "        text-align: right;\n",
       "    }\n",
       "</style>\n",
       "<table border=\"1\" class=\"dataframe\">\n",
       "  <thead>\n",
       "    <tr style=\"text-align: right;\">\n",
       "      <th></th>\n",
       "      <th>subject</th>\n",
       "      <th>list</th>\n",
       "      <th>item</th>\n",
       "      <th>input</th>\n",
       "      <th>output</th>\n",
       "      <th>study</th>\n",
       "      <th>recall</th>\n",
       "      <th>repeat</th>\n",
       "      <th>intrusion</th>\n",
       "      <th>condition</th>\n",
       "      <th>first_input</th>\n",
       "    </tr>\n",
       "  </thead>\n",
       "  <tbody>\n",
       "    <tr>\n",
       "      <th>0</th>\n",
       "      <td>1</td>\n",
       "      <td>1</td>\n",
       "      <td>0</td>\n",
       "      <td>1</td>\n",
       "      <td>1.0</td>\n",
       "      <td>True</td>\n",
       "      <td>True</td>\n",
       "      <td>0</td>\n",
       "      <td>False</td>\n",
       "      <td>4</td>\n",
       "      <td>1</td>\n",
       "    </tr>\n",
       "    <tr>\n",
       "      <th>1</th>\n",
       "      <td>1</td>\n",
       "      <td>1</td>\n",
       "      <td>1</td>\n",
       "      <td>2</td>\n",
       "      <td>2.0</td>\n",
       "      <td>True</td>\n",
       "      <td>True</td>\n",
       "      <td>0</td>\n",
       "      <td>False</td>\n",
       "      <td>4</td>\n",
       "      <td>2</td>\n",
       "    </tr>\n",
       "    <tr>\n",
       "      <th>2</th>\n",
       "      <td>1</td>\n",
       "      <td>1</td>\n",
       "      <td>2</td>\n",
       "      <td>3</td>\n",
       "      <td>3.0</td>\n",
       "      <td>True</td>\n",
       "      <td>True</td>\n",
       "      <td>0</td>\n",
       "      <td>False</td>\n",
       "      <td>4</td>\n",
       "      <td>3</td>\n",
       "    </tr>\n",
       "    <tr>\n",
       "      <th>3</th>\n",
       "      <td>1</td>\n",
       "      <td>1</td>\n",
       "      <td>3</td>\n",
       "      <td>4</td>\n",
       "      <td>4.0</td>\n",
       "      <td>True</td>\n",
       "      <td>True</td>\n",
       "      <td>0</td>\n",
       "      <td>False</td>\n",
       "      <td>4</td>\n",
       "      <td>4</td>\n",
       "    </tr>\n",
       "    <tr>\n",
       "      <th>4</th>\n",
       "      <td>1</td>\n",
       "      <td>1</td>\n",
       "      <td>4</td>\n",
       "      <td>5</td>\n",
       "      <td>5.0</td>\n",
       "      <td>True</td>\n",
       "      <td>True</td>\n",
       "      <td>0</td>\n",
       "      <td>False</td>\n",
       "      <td>4</td>\n",
       "      <td>5</td>\n",
       "    </tr>\n",
       "  </tbody>\n",
       "</table>\n",
       "</div>"
      ],
      "text/plain": [
       "   subject  list  item  input  output  study  recall  repeat  intrusion  \\\n",
       "0        1     1     0      1     1.0   True    True       0      False   \n",
       "1        1     1     1      2     2.0   True    True       0      False   \n",
       "2        1     1     2      3     3.0   True    True       0      False   \n",
       "3        1     1     3      4     4.0   True    True       0      False   \n",
       "4        1     1     4      5     5.0   True    True       0      False   \n",
       "\n",
       "   condition  first_input  \n",
       "0          4            1  \n",
       "1          4            2  \n",
       "2          4            3  \n",
       "3          4            4  \n",
       "4          4            5  "
      ]
     },
     "execution_count": 2,
     "metadata": {},
     "output_type": "execute_result"
    }
   ],
   "source": [
    "from compmemlearn.datasets import prepare_lohnas2014_data\n",
    "\n",
    "trials, events, list_length, presentations, list_types, rep_data, subjects = prepare_lohnas2014_data(\n",
    "    '../../data/repFR.mat')\n",
    "\n",
    "events.head()"
   ]
  },
  {
   "cell_type": "markdown",
   "id": "2360854c-dc0e-4054-8279-d5149c6b5897",
   "metadata": {},
   "source": [
    "## Functions"
   ]
  },
  {
   "cell_type": "markdown",
   "id": "293f52d8-92ad-4dc3-9b77-a05f9b49e6be",
   "metadata": {},
   "source": [
    "### Tracking the Study Positions of Repeatedly Presented Items"
   ]
  },
  {
   "cell_type": "code",
   "execution_count": 3,
   "id": "7652cedd-ac88-4080-9965-5afc0048da33",
   "metadata": {},
   "outputs": [],
   "source": [
    "# export\n",
    "\n",
    "from numba import njit, prange\n",
    "import numpy as np\n",
    "from numba import int32\n",
    "from compmemlearn.datasets import find_first\n",
    "\n",
    "@njit(nogil=True)\n",
    "def recall_by_second_study_position(trials, presentations):\n",
    "    \n",
    "    flipped_presentations = np.fliplr(presentations)\n",
    "    list_length = len(presentations[0])\n",
    "    result = np.zeros(np.shape(trials), dtype=int32)\n",
    "    \n",
    "    for trial_index in range(len(trials)):\n",
    "        \n",
    "        trial = trials[trial_index]\n",
    "        presentation = presentations[trial_index]\n",
    "        flipped_presentation = flipped_presentations[trial_index]\n",
    "        \n",
    "        for recall_index in range(len(trial)):\n",
    "            \n",
    "            if trial[recall_index] == 0:\n",
    "                continue\n",
    "                \n",
    "            item_index = presentation[trial[recall_index]-1]\n",
    "            result[trial_index, recall_index] = list_length - find_first(\n",
    "                item_index, flipped_presentation)\n",
    "        \n",
    "    return result\n",
    "\n",
    "@njit(nogil=True)\n",
    "def recall_by_all_study_positions(recall_by_first_study_position, presentations, max_repeats=3):\n",
    "    \n",
    "    trials_shape = np.shape(recall_by_first_study_position)\n",
    "    result = np.zeros(\n",
    "            (max_repeats, trials_shape[0], trials_shape[1]), dtype=int32)\n",
    "\n",
    "    for trial_index in range(len(recall_by_first_study_position)):\n",
    "\n",
    "        trial = recall_by_first_study_position[trial_index]\n",
    "        presentation = presentations[trial_index]\n",
    "        \n",
    "        for recall_index in range(len(trial)):\n",
    "\n",
    "            if trial[recall_index] == 0:\n",
    "                continue\n",
    "\n",
    "            presentation_positions = np.nonzero(\n",
    "                presentation[trial[recall_index] - 1] == presentation)[0] + 1\n",
    "\n",
    "            result[:len(presentation_positions), trial_index, recall_index] = presentation_positions\n",
    "\n",
    "    return result"
   ]
  },
  {
   "cell_type": "code",
   "execution_count": 4,
   "id": "163f49ee-3d21-41ef-b465-4bed32dce84d",
   "metadata": {},
   "outputs": [
    {
     "data": {
      "text/plain": [
       "array([ 0,  0,  0,  0,  0,  0,  0,  0, 19,  0,  0,  0, 13,  0, 31,  0, 34,\n",
       "        0,  0,  0,  0,  0,  0,  0,  0,  0,  0,  0,  0,  0,  0,  0,  0,  0,\n",
       "        0,  0,  0,  0,  0,  0])"
      ]
     },
     "execution_count": 4,
     "metadata": {},
     "output_type": "execute_result"
    }
   ],
   "source": [
    "recall_by_all_study_positions(trials, presentations, 2)[1, 0]"
   ]
  },
  {
   "cell_type": "code",
   "execution_count": 5,
   "id": "01c9b09d-1992-430b-856d-5463b9a31cdd",
   "metadata": {},
   "outputs": [
    {
     "name": "stdout",
     "output_type": "stream",
     "text": [
      "7.28 ms ± 515 µs per loop (mean ± std. dev. of 7 runs, 1 loop each)\n"
     ]
    }
   ],
   "source": [
    "%timeit recall_by_all_study_positions(trials, presentations)"
   ]
  },
  {
   "cell_type": "code",
   "execution_count": 6,
   "id": "301b4b97-c809-49db-a5ff-4b57a2a8c854",
   "metadata": {},
   "outputs": [
    {
     "data": {
      "text/plain": [
       "array([ 1,  2,  3,  4,  5,  6,  7,  9, 19, 11, 17, 14, 13, 15, 31, 20, 34,\n",
       "       30, 39, 38, 37, 18,  0,  0,  0,  0,  0,  0,  0,  0,  0,  0,  0,  0,\n",
       "        0,  0,  0,  0,  0,  0])"
      ]
     },
     "execution_count": 6,
     "metadata": {},
     "output_type": "execute_result"
    }
   ],
   "source": [
    "recall_by_second_study_position(trials, presentations)[0]"
   ]
  },
  {
   "cell_type": "code",
   "execution_count": 7,
   "id": "03d2c53d-9875-43a6-a792-59cf14d49b6f",
   "metadata": {},
   "outputs": [
    {
     "name": "stdout",
     "output_type": "stream",
     "text": [
      "515 µs ± 17.5 µs per loop (mean ± std. dev. of 7 runs, 1,000 loops each)\n"
     ]
    }
   ],
   "source": [
    "%timeit recall_by_second_study_position(trials, presentations)"
   ]
  },
  {
   "cell_type": "markdown",
   "id": "bf457762-1c4e-43fe-ac2e-420ed01bcf8d",
   "metadata": {},
   "source": [
    "### Fast Serial Position Curve"
   ]
  },
  {
   "cell_type": "code",
   "execution_count": 8,
   "id": "b335ebaf-1c3d-4ade-8283-1ffc3677c960",
   "metadata": {},
   "outputs": [],
   "source": [
    "# export\n",
    "\n",
    "@njit(nogil=True)\n",
    "def fast_mixed_spc(trials, presentations):\n",
    "    \n",
    "    list_length = len(presentations[0])\n",
    "    result = np.zeros(list_length, dtype=int32)\n",
    "    alt_trials = recall_by_second_study_position(trials, presentations)\n",
    "    trials = np.hstack((trials, alt_trials))\n",
    "    \n",
    "    for trial_index in range(len(trials)):\n",
    "        for study_position in range(list_length):\n",
    "            result[study_position] += study_position+1 in trials[trial_index]\n",
    "    \n",
    "    return result/len(trials)\n",
    "\n",
    "\n",
    "@njit(nogil=True)\n",
    "def flex_mixed_spc(trials, presentations):\n",
    "    \n",
    "    list_length = len(presentations[0])\n",
    "    result = np.zeros(list_length, dtype=int32)\n",
    "    all_study_positions = recall_by_all_study_positions(trials, presentations) \n",
    "    \n",
    "    for trial_index in range(len(trials)):\n",
    "        for study_position in range(list_length):\n",
    "            result[study_position] += study_position+1 in all_study_positions[:,trial_index]\n",
    "    \n",
    "    return result/len(trials)"
   ]
  },
  {
   "cell_type": "code",
   "execution_count": 26,
   "id": "e5514127",
   "metadata": {},
   "outputs": [],
   "source": [
    "# export\n",
    "\n",
    "import pandas as pd\n",
    "import seaborn as sns\n",
    "import matplotlib.pyplot as plt\n",
    "from compmemlearn.datasets import events_metadata, generate_trial_mask\n",
    "\n",
    "\n",
    "def plot_flex_spc(data, trial_query, contrast_name='', labels=None, axis=None):\n",
    "\n",
    "    if axis is None:\n",
    "        plt.figure()\n",
    "        axis = plt.gca()\n",
    "\n",
    "    if labels is None:\n",
    "        labels = [''] * len(data)\n",
    "\n",
    "    result = []\n",
    "    for data_index, events in enumerate(data):\n",
    "\n",
    "        # generate and subset trials array and list of list_lengths based on trial_query\n",
    "        trials, list_lengths, presentations = events_metadata(events)\n",
    "        trial_mask = generate_trial_mask(events, trial_query)\n",
    "        chose = [i for i in range(len(trial_mask)) if np.sum(trial_mask[i]) != 0]\n",
    "        assert(len(chose) == 1)\n",
    "        chose = chose[0]\n",
    "        trials = trials[chose]\n",
    "        list_length = list_lengths[chose]\n",
    "        presentations = presentations[chose]\n",
    "        trial_mask = trial_mask[chose]\n",
    "\n",
    "        for subject in pd.unique(events.subject):\n",
    "            subject_specific_trial_mask = np.logical_and(\n",
    "                generate_trial_mask(events, f\"subject == {subject}\")[chose], trial_mask\n",
    "            )\n",
    "\n",
    "            if np.sum(subject_specific_trial_mask) == 0:\n",
    "                continue\n",
    "\n",
    "            spc = flex_mixed_spc(trials[subject_specific_trial_mask], presentations[subject_specific_trial_mask])\n",
    "            result.append(pd.DataFrame.from_dict(\n",
    "                {\n",
    "                    \"subject\": subject,\n",
    "                    \"input\": np.arange(1, list_length + 1),\n",
    "                    \"recall\": spc,\n",
    "                    contrast_name: labels[data_index],\n",
    "                }\n",
    "            ))\n",
    "\n",
    "    result = pd.concat(result)\n",
    "\n",
    "    sns.lineplot(ax=axis, data=result, x='input', y='recall', err_style='bars', hue=contrast_name)\n",
    "    axis.set(xlabel='Study Position', ylabel='Recall Rate')\n",
    "    axis.set_xticks(np.arange(1, list_length+int(list_length/10), int(list_length/10)))\n",
    "    axis.set_ylim((0, 1))\n",
    "\n",
    "    if contrast_name:\n",
    "        axis.legend(bbox_to_anchor=(1.05, 1), loc=2, borderaxespad=0.)\n",
    "\n",
    "    return axis"
   ]
  },
  {
   "cell_type": "markdown",
   "id": "d044b9cf-a592-4e70-beb8-3daa6fb14d0c",
   "metadata": {},
   "source": [
    "## Demo"
   ]
  },
  {
   "cell_type": "code",
   "execution_count": 10,
   "id": "42fc89ba-08b8-44fd-9f1b-aed6dbdb1861",
   "metadata": {},
   "outputs": [
    {
     "data": {
      "text/plain": [
       "array([0.79761905, 0.79761905, 0.72380952, 0.72380952, 0.65      ,\n",
       "       0.65      , 0.62857143, 0.62857143, 0.6047619 , 0.6047619 ,\n",
       "       0.57857143, 0.57857143, 0.55714286, 0.55714286, 0.56666667,\n",
       "       0.56666667, 0.54285714, 0.54285714, 0.56190476, 0.56190476,\n",
       "       0.55952381, 0.55952381, 0.55952381, 0.55952381, 0.55238095,\n",
       "       0.55238095, 0.54761905, 0.54761905, 0.56904762, 0.56904762,\n",
       "       0.56190476, 0.56190476, 0.6047619 , 0.6047619 , 0.59285714,\n",
       "       0.59285714, 0.5952381 , 0.5952381 , 0.59285714, 0.59285714])"
      ]
     },
     "execution_count": 10,
     "metadata": {},
     "output_type": "execute_result"
    }
   ],
   "source": [
    "fast_mixed_spc(trials[list_types==2], presentations[list_types==2])"
   ]
  },
  {
   "cell_type": "code",
   "execution_count": 11,
   "id": "1609dec3-437f-4477-b433-13b35c3114d4",
   "metadata": {},
   "outputs": [
    {
     "data": {
      "text/plain": [
       "array([0.79761905, 0.79761905, 0.72380952, 0.72380952, 0.65      ,\n",
       "       0.65      , 0.62857143, 0.62857143, 0.6047619 , 0.6047619 ,\n",
       "       0.57857143, 0.57857143, 0.55714286, 0.55714286, 0.56666667,\n",
       "       0.56666667, 0.54285714, 0.54285714, 0.56190476, 0.56190476,\n",
       "       0.55952381, 0.55952381, 0.55952381, 0.55952381, 0.55238095,\n",
       "       0.55238095, 0.54761905, 0.54761905, 0.56904762, 0.56904762,\n",
       "       0.56190476, 0.56190476, 0.6047619 , 0.6047619 , 0.59285714,\n",
       "       0.59285714, 0.5952381 , 0.5952381 , 0.59285714, 0.59285714])"
      ]
     },
     "execution_count": 11,
     "metadata": {},
     "output_type": "execute_result"
    }
   ],
   "source": [
    "flex_mixed_spc(trials[list_types==2], presentations[list_types==2])"
   ]
  },
  {
   "cell_type": "code",
   "execution_count": 31,
   "id": "cfee4727",
   "metadata": {},
   "outputs": [
    {
     "data": {
      "image/png": "[encoded data removed]",
      "text/plain": [
       "<Figure size 432x288 with 1 Axes>"
      ]
     },
     "metadata": {
      "needs_background": "light"
     },
     "output_type": "display_data"
    }
   ],
   "source": [
    "import matplotlib.pyplot as plt\n",
    "\n",
    "plt.figure()\n",
    "axis = plt.gca()\n",
    "plot_flex_spc([events], 'condition == 2', axis=axis);"
   ]
  },
  {
   "cell_type": "code",
   "execution_count": 12,
   "id": "6f18520d-4f29-4d30-bb63-290fd08af64b",
   "metadata": {},
   "outputs": [
    {
     "data": {
      "text/plain": [
       "array([0.64285714, 0.56904762, 0.5047619 , 0.45238095, 0.40952381,\n",
       "       0.38571429, 0.35      , 0.33571429, 0.33571429, 0.3       ,\n",
       "       0.32380952, 0.32619048, 0.32619048, 0.32380952, 0.29761905,\n",
       "       0.31190476, 0.32380952, 0.29761905, 0.27857143, 0.27142857,\n",
       "       0.29047619, 0.28333333, 0.27857143, 0.32857143, 0.28095238,\n",
       "       0.33095238, 0.32857143, 0.31666667, 0.32619048, 0.33809524,\n",
       "       0.37380952, 0.32380952, 0.36190476, 0.34047619, 0.35952381,\n",
       "       0.37619048, 0.39047619, 0.42380952, 0.41428571, 0.3452381 ])"
      ]
     },
     "execution_count": 12,
     "metadata": {},
     "output_type": "execute_result"
    }
   ],
   "source": [
    "fast_mixed_spc(trials[list_types==1], presentations[list_types==1])"
   ]
  },
  {
   "cell_type": "code",
   "execution_count": 13,
   "id": "c88953c1-3385-4b17-b636-884cba731733",
   "metadata": {},
   "outputs": [
    {
     "data": {
      "text/plain": [
       "array([0.64285714, 0.56904762, 0.5047619 , 0.45238095, 0.40952381,\n",
       "       0.38571429, 0.35      , 0.33571429, 0.33571429, 0.3       ,\n",
       "       0.32380952, 0.32619048, 0.32619048, 0.32380952, 0.29761905,\n",
       "       0.31190476, 0.32380952, 0.29761905, 0.27857143, 0.27142857,\n",
       "       0.29047619, 0.28333333, 0.27857143, 0.32857143, 0.28095238,\n",
       "       0.33095238, 0.32857143, 0.31666667, 0.32619048, 0.33809524,\n",
       "       0.37380952, 0.32380952, 0.36190476, 0.34047619, 0.35952381,\n",
       "       0.37619048, 0.39047619, 0.42380952, 0.41428571, 0.3452381 ])"
      ]
     },
     "execution_count": 13,
     "metadata": {},
     "output_type": "execute_result"
    }
   ],
   "source": [
    "flex_mixed_spc(trials[list_types==1], presentations[list_types==1])"
   ]
  },
  {
   "cell_type": "code",
   "execution_count": 14,
   "id": "fd4a8ae9-4c9b-4561-9b6e-80c40c3ac56c",
   "metadata": {},
   "outputs": [
    {
     "data": {
      "text/plain": [
       "array([0.75714286, 0.70952381, 0.68809524, 0.66666667, 0.66428571,\n",
       "       0.6952381 , 0.67380952, 0.67619048, 0.64761905, 0.64761905,\n",
       "       0.63809524, 0.59761905, 0.62857143, 0.5952381 , 0.64285714,\n",
       "       0.56904762, 0.6047619 , 0.59285714, 0.58571429, 0.6047619 ,\n",
       "       0.55238095, 0.56904762, 0.57380952, 0.55238095, 0.61190476,\n",
       "       0.56666667, 0.6047619 , 0.61190476, 0.62142857, 0.61666667,\n",
       "       0.6452381 , 0.62380952, 0.61666667, 0.65714286, 0.66666667,\n",
       "       0.68333333, 0.6952381 , 0.68571429, 0.67142857, 0.67857143])"
      ]
     },
     "execution_count": 14,
     "metadata": {},
     "output_type": "execute_result"
    }
   ],
   "source": [
    "fast_mixed_spc(trials[list_types==3], presentations[list_types==3])"
   ]
  },
  {
   "cell_type": "code",
   "execution_count": 15,
   "id": "b3af5d5d-89f7-4f9a-8cd0-c8f7fbcb4fd2",
   "metadata": {},
   "outputs": [
    {
     "data": {
      "text/plain": [
       "array([0.63809524, 0.5452381 , 0.46666667, 0.43333333, 0.4547619 ,\n",
       "       0.41666667, 0.42142857, 0.42619048, 0.40714286, 0.4       ,\n",
       "       0.40714286, 0.43333333, 0.44285714, 0.43333333, 0.44285714,\n",
       "       0.40238095, 0.40238095, 0.43809524, 0.41666667, 0.42857143,\n",
       "       0.36190476, 0.38809524, 0.36904762, 0.38333333, 0.42142857,\n",
       "       0.40714286, 0.42619048, 0.39761905, 0.42619048, 0.39285714,\n",
       "       0.39285714, 0.41666667, 0.42142857, 0.44761905, 0.42619048,\n",
       "       0.43095238, 0.40714286, 0.37142857, 0.38333333, 0.30952381])"
      ]
     },
     "execution_count": 15,
     "metadata": {},
     "output_type": "execute_result"
    }
   ],
   "source": [
    "fast_mixed_spc(trials[list_types==4], presentations[list_types==4])"
   ]
  },
  {
   "cell_type": "code",
   "execution_count": 30,
   "id": "dc1e43e3",
   "metadata": {},
   "outputs": [
    {
     "data": {
      "image/png": "[encoded data removed]",
      "text/plain": [
       "<Figure size 432x288 with 1 Axes>"
      ]
     },
     "metadata": {
      "needs_background": "light"
     },
     "output_type": "display_data"
    }
   ],
   "source": []
  },
  {
   "cell_type": "code",
   "execution_count": 17,
   "id": "6d6989cb-a836-4bda-b93d-975b1fa1208f",
   "metadata": {},
   "outputs": [
    {
     "name": "stdout",
     "output_type": "stream",
     "text": [
      "61 µs ± 25.5 µs per loop (mean ± std. dev. of 7 runs, 1 loop each)\n"
     ]
    }
   ],
   "source": [
    "from compmemlearn.analyses import fast_spc\n",
    "\n",
    "%timeit fast_spc(trials[list_types==1], list_length)"
   ]
  },
  {
   "cell_type": "code",
   "execution_count": 18,
   "id": "6cf35ff8-a4d8-493f-b897-b4a1362f9163",
   "metadata": {},
   "outputs": [
    {
     "name": "stdout",
     "output_type": "stream",
     "text": [
      "1.22 ms ± 33.5 µs per loop (mean ± std. dev. of 7 runs, 1,000 loops each)\n"
     ]
    }
   ],
   "source": [
    "%timeit fast_mixed_spc(trials[list_types==1], presentations[list_types==1])"
   ]
  },
  {
   "cell_type": "code",
   "execution_count": 19,
   "id": "80545f29-6747-4710-bc37-2e12c0dbddf7",
   "metadata": {},
   "outputs": [
    {
     "name": "stdout",
     "output_type": "stream",
     "text": [
      "4.27 ms ± 63 µs per loop (mean ± std. dev. of 7 runs, 100 loops each)\n"
     ]
    }
   ],
   "source": [
    "%timeit flex_mixed_spc(trials[list_types==1], presentations[list_types==1])"
   ]
  }
 ],
 "metadata": {
  "kernelspec": {
   "display_name": "Python 3.9.1 ('base')",
   "language": "python",
   "name": "python3"
  },
  "language_info": {
   "codemirror_mode": {
    "name": "ipython",
    "version": 3
   },
   "file_extension": ".py",
   "mimetype": "text/x-python",
   "name": "python",
   "nbconvert_exporter": "python",
   "pygments_lexer": "ipython3",
   "version": "3.9.1"
  },
  "vscode": {
   "interpreter": {
    "hash": "19d1d53a962d236aa061289c2ac16dc8e6d9648c89fe79f459ae9a3493bc67b4"
   }
  }
 },
 "nbformat": 4,
 "nbformat_minor": 5
}

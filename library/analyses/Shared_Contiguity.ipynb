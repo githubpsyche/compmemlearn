{
 "cells": [
  {
   "cell_type": "markdown",
   "id": "69d9050c-aa64-4828-a402-4592d3642526",
   "metadata": {},
   "source": [
    "# Rate of transition between items that follow presentation of the same item\n",
    "They considered transitions between items following a shared repeated item. They calculated the proportion of those items recalled in $S_j = {j + 1, j + 2}$ of which CMR then recalled an item in the set $S_i = {i + 1, i + 2}$. They also calculated the proportion of recalls $S_i$ of which CMR then transitioned to an item in the set $S_j$. They calculated the proportion of transitions for each of lags $j - i >= 4$, and represented the mean percent of transitions across these lags. \n",
    "\n",
    "To estimate the proportion of transitions that CMR would make at these lags in the absence of repeated items, they considered transitions in control lists matched to the same serial positions considered in the mixed lists. They matched these serial positions to 100 random shuffles of the control lists, and took the mean across the reshuffled datasets.\n",
    "\n"
   ]
  },
  {
   "cell_type": "markdown",
   "id": "5f6664b1-a236-42de-9ccc-2b7576c69cb2",
   "metadata": {},
   "source": [
    "## Data Preparation"
   ]
  },
  {
   "cell_type": "code",
   "execution_count": null,
   "id": "c4a52a57-1ade-4186-84bd-d9af3fe41fab",
   "metadata": {},
   "outputs": [
    {
     "data": {
      "text/html": [
       "<div>\n",
       "<style scoped>\n",
       "    .dataframe tbody tr th:only-of-type {\n",
       "        vertical-align: middle;\n",
       "    }\n",
       "\n",
       "    .dataframe tbody tr th {\n",
       "        vertical-align: top;\n",
       "    }\n",
       "\n",
       "    .dataframe thead th {\n",
       "        text-align: right;\n",
       "    }\n",
       "</style>\n",
       "<table border=\"1\" class=\"dataframe\">\n",
       "  <thead>\n",
       "    <tr style=\"text-align: right;\">\n",
       "      <th></th>\n",
       "      <th>subject</th>\n",
       "      <th>list</th>\n",
       "      <th>item</th>\n",
       "      <th>input</th>\n",
       "      <th>output</th>\n",
       "      <th>study</th>\n",
       "      <th>recall</th>\n",
       "      <th>repeat</th>\n",
       "      <th>intrusion</th>\n",
       "      <th>condition</th>\n",
       "    </tr>\n",
       "  </thead>\n",
       "  <tbody>\n",
       "    <tr>\n",
       "      <th>0</th>\n",
       "      <td>1</td>\n",
       "      <td>1</td>\n",
       "      <td>0</td>\n",
       "      <td>1</td>\n",
       "      <td>1.0</td>\n",
       "      <td>True</td>\n",
       "      <td>True</td>\n",
       "      <td>0</td>\n",
       "      <td>False</td>\n",
       "      <td>4</td>\n",
       "    </tr>\n",
       "    <tr>\n",
       "      <th>1</th>\n",
       "      <td>1</td>\n",
       "      <td>1</td>\n",
       "      <td>1</td>\n",
       "      <td>2</td>\n",
       "      <td>2.0</td>\n",
       "      <td>True</td>\n",
       "      <td>True</td>\n",
       "      <td>0</td>\n",
       "      <td>False</td>\n",
       "      <td>4</td>\n",
       "    </tr>\n",
       "    <tr>\n",
       "      <th>2</th>\n",
       "      <td>1</td>\n",
       "      <td>1</td>\n",
       "      <td>2</td>\n",
       "      <td>3</td>\n",
       "      <td>3.0</td>\n",
       "      <td>True</td>\n",
       "      <td>True</td>\n",
       "      <td>0</td>\n",
       "      <td>False</td>\n",
       "      <td>4</td>\n",
       "    </tr>\n",
       "    <tr>\n",
       "      <th>3</th>\n",
       "      <td>1</td>\n",
       "      <td>1</td>\n",
       "      <td>3</td>\n",
       "      <td>4</td>\n",
       "      <td>4.0</td>\n",
       "      <td>True</td>\n",
       "      <td>True</td>\n",
       "      <td>0</td>\n",
       "      <td>False</td>\n",
       "      <td>4</td>\n",
       "    </tr>\n",
       "    <tr>\n",
       "      <th>4</th>\n",
       "      <td>1</td>\n",
       "      <td>1</td>\n",
       "      <td>4</td>\n",
       "      <td>5</td>\n",
       "      <td>5.0</td>\n",
       "      <td>True</td>\n",
       "      <td>True</td>\n",
       "      <td>0</td>\n",
       "      <td>False</td>\n",
       "      <td>4</td>\n",
       "    </tr>\n",
       "  </tbody>\n",
       "</table>\n",
       "</div>"
      ],
      "text/plain": [
       "   subject  list  item  input  output  study  recall  repeat  intrusion  \\\n",
       "0        1     1     0      1     1.0   True    True       0      False   \n",
       "1        1     1     1      2     2.0   True    True       0      False   \n",
       "2        1     1     2      3     3.0   True    True       0      False   \n",
       "3        1     1     3      4     4.0   True    True       0      False   \n",
       "4        1     1     4      5     5.0   True    True       0      False   \n",
       "\n",
       "   condition  \n",
       "0          4  \n",
       "1          4  \n",
       "2          4  \n",
       "3          4  \n",
       "4          4  "
      ]
     },
     "execution_count": null,
     "metadata": {},
     "output_type": "execute_result"
    }
   ],
   "source": [
    "from compmemlearn.datasets import prepare_lohnas2014_data\n",
    "\n",
    "trials, events, list_length, presentations, list_types, rep_data, subjects = prepare_lohnas2014_data(\n",
    "    '../../data/repFR.mat')\n",
    "\n",
    "events.head()"
   ]
  },
  {
   "cell_type": "markdown",
   "id": "4a648e56-93e5-4425-b351-1400279a4a2f",
   "metadata": {},
   "source": [
    "## Functions"
   ]
  },
  {
   "cell_type": "code",
   "execution_count": null,
   "id": "40dcc1a1-2bc6-4be4-af97-adc6e3a03f31",
   "metadata": {},
   "outputs": [],
   "source": [
    "def shared_contiguity(trials, presentations, max_repeats=2, min_lag=4):\n",
    "    \n",
    "    list_length = len(presentations[0])\n",
    "    total_transitions = 0\n",
    "    complementary_transitions = 0\n",
    "    terminus = np.sum(trials != 0, axis=1) - 1 # number of recalls per trial\n",
    "    \n",
    "    for trial_index in range(len(trials)):\n",
    "        \n",
    "        item_count = np.max(presentations[trial_index]) + 1\n",
    "        si = np.zeros((item_count, 2), dtype=int)\n",
    "        sj = np.zeros((item_count, 2), dtype=int)\n",
    "        \n",
    "        # we track possible positions using presentations and alt_presentations\n",
    "        for item in range(item_count):\n",
    "            pos = np.nonzero(presentations[trial_index] == item)[0]\n",
    "            \n",
    "            # then we track Si and Sj by identifying repeated items and storing item indices\n",
    "            if (len(pos) > 1) and (pos[1] - pos[0] >= min_lag):\n",
    "                \n",
    "                assert np.all(pos < list_length - 2) # bounds issues don't affect result in this case - might later\n",
    "                si[item, :] = presentations[trial_index, pos[0]+1:pos[0]+3] + 1\n",
    "                sj[item, :] = presentations[trial_index, pos[1]+1:pos[1]+3] + 1\n",
    "            \n",
    "        # i can track at each recall index whether si or sj was seen, \n",
    "        for recall_index in range(terminus[trial_index]):\n",
    "            \n",
    "            current_item = presentations[trial_index][trials[trial_index, recall_index]-1] + 1\n",
    "            next_item = presentations[trial_index][trials[trial_index, recall_index+1]-1] + 1\n",
    "            \n",
    "            # then peek at whether the next item was in complementary set, \n",
    "            # aggregating totals with each comparison\n",
    "            for si_match in np.nonzero(si == current_item)[0]:\n",
    "                complementary_transitions += next_item in sj[si_match]\n",
    "            for sj_match in np.nonzero(sj == current_item)[0]:\n",
    "                complementary_transitions += next_item in si[sj_match]\n",
    " \n",
    "            total_transitions += 1\n",
    "            \n",
    "    return complementary_transitions/total_transitions"
   ]
  },
  {
   "cell_type": "markdown",
   "id": "c3a1c5ac-1d2e-4a99-8690-815eaea174c6",
   "metadata": {},
   "source": [
    "It looks like there are two remaining things to clarify:\n",
    "\n",
    "First I have to figure out whether and how to track whether it's possible to make a transition to si or sj.\n",
    "\n",
    "Next I have to figure out how often to increment total transitions."
   ]
  },
  {
   "cell_type": "code",
   "execution_count": null,
   "id": "9f073bca-7c71-4942-85bf-8a2b4d4b70a2",
   "metadata": {},
   "outputs": [
    {
     "data": {
      "text/plain": [
       "0.0391566265060241"
      ]
     },
     "execution_count": null,
     "metadata": {},
     "output_type": "execute_result"
    }
   ],
   "source": [
    "shared_contiguity(trials[list_types == 4], presentations[list_types == 4], 2, 4)"
   ]
  }
 ],
 "metadata": {
  "kernelspec": {
   "display_name": "Python 3.9.1 ('base')",
   "language": "python",
   "name": "python3"
  },
  "language_info": {
   "name": "python",
   "version": "3.9.1"
  },
  "vscode": {
   "interpreter": {
    "hash": "19d1d53a962d236aa061289c2ac16dc8e6d9648c89fe79f459ae9a3493bc67b4"
   }
  }
 },
 "nbformat": 4,
 "nbformat_minor": 5
}

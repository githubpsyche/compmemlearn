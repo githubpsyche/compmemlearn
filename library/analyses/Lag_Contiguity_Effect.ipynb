{
 "cells": [
  {
   "cell_type": "code",
   "execution_count": null,
   "id": "1377d5ef-2a7b-4f13-90e2-74372fe7e6ae",
   "metadata": {},
   "outputs": [],
   "source": [
    "# default_exp analyses"
   ]
  },
  {
   "cell_type": "markdown",
   "id": "37c48ddd-7d53-43ec-809b-993f2197073f",
   "metadata": {},
   "source": [
    "# The Lag-Contiguity Effect\n",
    "The lag-contiguity effect illustrates how episodic associations are graded, exhibiting power-function decay with increasing lag. \n",
    "Recall of an item has a tendency to evoke not only adjacent list items, but other nearby items as well. \n",
    "In addition, episodic associations appear to be asymmetrical, favoring retrieval of items in the forward order.\n",
    "\n",
    "To measure the lag-contiguity effect, we often produce lag-CRP curves. \n",
    "\"Lag-CRP\" measures the conditional probability of recalling an item as a function of its adjacency (**lag**) in the study list to the the last recalled item. \n",
    "To find this in our free recall data, for every recall a participant made in a dataset, we measure how adjacent the recalled item was from the *next* item the participant recalled -- its serial lag. \n",
    "For example, if a subject recalls the third item presented in a list and then the fourth, the lag of the next item recalled is +1. \n",
    "If a subject instead recalls the first item after recalling the third item, the measured lag is -2. \n",
    "We also track across recalls which lag lags were possible based on which items were not already retrieved. \n",
    "Once we've tallied up all actual and possible lag lags across a dataset, we plot for each lag the ratio of actual lags divided by position lags to visualize the conditional probability of each lag lag."
   ]
  },
  {
   "cell_type": "markdown",
   "id": "e754708d-1980-4de9-9882-264e21a9542f",
   "metadata": {},
   "source": [
    "## Data Preparation\n",
    "For our demonstrations, we'll lean on the MurdockOkada1970 dataset. \n",
    "As a reminder, in this dataset each of 72 undergraduates was given 20 test lists with 20-word lists visually presented at either 60 or 120 words/min."
   ]
  },
  {
   "cell_type": "code",
   "execution_count": null,
   "id": "5b9edb12-babb-42fd-8f95-0f65f9728370",
   "metadata": {},
   "outputs": [
    {
     "data": {
      "text/html": [
       "<div>\n",
       "<style scoped>\n",
       "    .dataframe tbody tr th:only-of-type {\n",
       "        vertical-align: middle;\n",
       "    }\n",
       "\n",
       "    .dataframe tbody tr th {\n",
       "        vertical-align: top;\n",
       "    }\n",
       "\n",
       "    .dataframe thead th {\n",
       "        text-align: right;\n",
       "    }\n",
       "</style>\n",
       "<table border=\"1\" class=\"dataframe\">\n",
       "  <thead>\n",
       "    <tr style=\"text-align: right;\">\n",
       "      <th></th>\n",
       "      <th>subject</th>\n",
       "      <th>list</th>\n",
       "      <th>item</th>\n",
       "      <th>input</th>\n",
       "      <th>output</th>\n",
       "      <th>study</th>\n",
       "      <th>recall</th>\n",
       "      <th>repeat</th>\n",
       "      <th>intrusion</th>\n",
       "    </tr>\n",
       "  </thead>\n",
       "  <tbody>\n",
       "    <tr>\n",
       "      <th>0</th>\n",
       "      <td>1</td>\n",
       "      <td>1</td>\n",
       "      <td>1</td>\n",
       "      <td>1</td>\n",
       "      <td>NaN</td>\n",
       "      <td>True</td>\n",
       "      <td>False</td>\n",
       "      <td>0</td>\n",
       "      <td>False</td>\n",
       "    </tr>\n",
       "    <tr>\n",
       "      <th>1</th>\n",
       "      <td>1</td>\n",
       "      <td>1</td>\n",
       "      <td>2</td>\n",
       "      <td>2</td>\n",
       "      <td>NaN</td>\n",
       "      <td>True</td>\n",
       "      <td>False</td>\n",
       "      <td>0</td>\n",
       "      <td>False</td>\n",
       "    </tr>\n",
       "    <tr>\n",
       "      <th>2</th>\n",
       "      <td>1</td>\n",
       "      <td>1</td>\n",
       "      <td>3</td>\n",
       "      <td>3</td>\n",
       "      <td>NaN</td>\n",
       "      <td>True</td>\n",
       "      <td>False</td>\n",
       "      <td>0</td>\n",
       "      <td>False</td>\n",
       "    </tr>\n",
       "    <tr>\n",
       "      <th>3</th>\n",
       "      <td>1</td>\n",
       "      <td>1</td>\n",
       "      <td>4</td>\n",
       "      <td>4</td>\n",
       "      <td>NaN</td>\n",
       "      <td>True</td>\n",
       "      <td>False</td>\n",
       "      <td>0</td>\n",
       "      <td>False</td>\n",
       "    </tr>\n",
       "    <tr>\n",
       "      <th>4</th>\n",
       "      <td>1</td>\n",
       "      <td>1</td>\n",
       "      <td>5</td>\n",
       "      <td>5</td>\n",
       "      <td>NaN</td>\n",
       "      <td>True</td>\n",
       "      <td>False</td>\n",
       "      <td>0</td>\n",
       "      <td>False</td>\n",
       "    </tr>\n",
       "  </tbody>\n",
       "</table>\n",
       "</div>"
      ],
      "text/plain": [
       "   subject  list  item  input  output  study  recall  repeat  intrusion\n",
       "0        1     1     1      1     NaN   True   False       0      False\n",
       "1        1     1     2      2     NaN   True   False       0      False\n",
       "2        1     1     3      3     NaN   True   False       0      False\n",
       "3        1     1     4      4     NaN   True   False       0      False\n",
       "4        1     1     5      5     NaN   True   False       0      False"
      ]
     },
     "execution_count": null,
     "metadata": {},
     "output_type": "execute_result"
    }
   ],
   "source": [
    "from compmemlearn.datasets import prepare_murdock1970_data\n",
    "\n",
    "trials, events, list_length = prepare_murdock1970_data('../../data/mo1970.txt')\n",
    "events.head()"
   ]
  },
  {
   "cell_type": "markdown",
   "id": "6720c911-af02-4d6f-86ee-0eaf67c09083",
   "metadata": {},
   "source": [
    "## Analysis"
   ]
  },
  {
   "cell_type": "markdown",
   "id": "1afd6711-e52d-4189-91a2-67ff87921c3c",
   "metadata": {},
   "source": [
    "### DataFrame\n",
    "We can usually rely on the `psifr` library to generate `pandas` DataFrames containing lag-CRP information. "
   ]
  },
  {
   "cell_type": "code",
   "execution_count": null,
   "id": "61b6f516-d2f5-4fd6-aefc-bb07282eb50f",
   "metadata": {},
   "outputs": [
    {
     "data": {
      "text/html": [
       "<div>\n",
       "<style scoped>\n",
       "    .dataframe tbody tr th:only-of-type {\n",
       "        vertical-align: middle;\n",
       "    }\n",
       "\n",
       "    .dataframe tbody tr th {\n",
       "        vertical-align: top;\n",
       "    }\n",
       "\n",
       "    .dataframe thead th {\n",
       "        text-align: right;\n",
       "    }\n",
       "</style>\n",
       "<table border=\"1\" class=\"dataframe\">\n",
       "  <thead>\n",
       "    <tr style=\"text-align: right;\">\n",
       "      <th></th>\n",
       "      <th></th>\n",
       "      <th>prob</th>\n",
       "      <th>actual</th>\n",
       "      <th>possible</th>\n",
       "    </tr>\n",
       "    <tr>\n",
       "      <th>subject</th>\n",
       "      <th>lag</th>\n",
       "      <th></th>\n",
       "      <th></th>\n",
       "      <th></th>\n",
       "    </tr>\n",
       "  </thead>\n",
       "  <tbody>\n",
       "    <tr>\n",
       "      <th rowspan=\"5\" valign=\"top\">1</th>\n",
       "      <th>-19</th>\n",
       "      <td>0.166667</td>\n",
       "      <td>2</td>\n",
       "      <td>12</td>\n",
       "    </tr>\n",
       "    <tr>\n",
       "      <th>-18</th>\n",
       "      <td>0.083333</td>\n",
       "      <td>2</td>\n",
       "      <td>24</td>\n",
       "    </tr>\n",
       "    <tr>\n",
       "      <th>-17</th>\n",
       "      <td>0.025641</td>\n",
       "      <td>1</td>\n",
       "      <td>39</td>\n",
       "    </tr>\n",
       "    <tr>\n",
       "      <th>-16</th>\n",
       "      <td>0.019608</td>\n",
       "      <td>1</td>\n",
       "      <td>51</td>\n",
       "    </tr>\n",
       "    <tr>\n",
       "      <th>-15</th>\n",
       "      <td>0.030303</td>\n",
       "      <td>2</td>\n",
       "      <td>66</td>\n",
       "    </tr>\n",
       "    <tr>\n",
       "      <th>...</th>\n",
       "      <th>...</th>\n",
       "      <td>...</td>\n",
       "      <td>...</td>\n",
       "      <td>...</td>\n",
       "    </tr>\n",
       "    <tr>\n",
       "      <th rowspan=\"5\" valign=\"top\">72</th>\n",
       "      <th>15</th>\n",
       "      <td>0.000000</td>\n",
       "      <td>0</td>\n",
       "      <td>12</td>\n",
       "    </tr>\n",
       "    <tr>\n",
       "      <th>16</th>\n",
       "      <td>0.000000</td>\n",
       "      <td>0</td>\n",
       "      <td>3</td>\n",
       "    </tr>\n",
       "    <tr>\n",
       "      <th>17</th>\n",
       "      <td>0.000000</td>\n",
       "      <td>0</td>\n",
       "      <td>4</td>\n",
       "    </tr>\n",
       "    <tr>\n",
       "      <th>18</th>\n",
       "      <td>0.000000</td>\n",
       "      <td>0</td>\n",
       "      <td>1</td>\n",
       "    </tr>\n",
       "    <tr>\n",
       "      <th>19</th>\n",
       "      <td>NaN</td>\n",
       "      <td>0</td>\n",
       "      <td>0</td>\n",
       "    </tr>\n",
       "  </tbody>\n",
       "</table>\n",
       "<p>2808 rows × 3 columns</p>\n",
       "</div>"
      ],
      "text/plain": [
       "                 prob  actual  possible\n",
       "subject lag                            \n",
       "1       -19  0.166667       2        12\n",
       "        -18  0.083333       2        24\n",
       "        -17  0.025641       1        39\n",
       "        -16  0.019608       1        51\n",
       "        -15  0.030303       2        66\n",
       "...               ...     ...       ...\n",
       "72       15  0.000000       0        12\n",
       "         16  0.000000       0         3\n",
       "         17  0.000000       0         4\n",
       "         18  0.000000       0         1\n",
       "         19       NaN       0         0\n",
       "\n",
       "[2808 rows x 3 columns]"
      ]
     },
     "execution_count": null,
     "metadata": {},
     "output_type": "execute_result"
    }
   ],
   "source": [
    "from psifr import fr\n",
    "\n",
    "crp = fr.lag_crp(events)\n",
    "crp"
   ]
  },
  {
   "cell_type": "markdown",
   "id": "b67ea589-82b4-4bdd-9a64-5590286bd6df",
   "metadata": {},
   "source": [
    "### Fast Array-Based Generation\n",
    "`DataFrame`s contain granular subject-by-subject information and are easier to plot using the `seaborn` library. \n",
    "But sometimes we don't need this granular information and mainly want to perform our analysis as quickly as possible -- perhaps to help with model fitting or analysis. \n",
    "In that case, representing results with `numpy` arrays and performing just-in-time compilation of our function using `numba` might be preferred. \n",
    "We include `analyses.fast_crp` in our library for that purpose here."
   ]
  },
  {
   "cell_type": "code",
   "execution_count": null,
   "id": "f88aa7d3-ed3b-4b61-92d9-24124c800c29",
   "metadata": {},
   "outputs": [],
   "source": [
    "# export\n",
    "\n",
    "from numba import njit\n",
    "import numpy as np\n",
    "\n",
    "@njit(fastmath=True, nogil=True)\n",
    "def fast_crp(trials, item_count):\n",
    "    \n",
    "    lag_range = item_count - 1\n",
    "    total_actual_lags = np.zeros(lag_range * 2 + 1)\n",
    "    total_possible_lags = np.zeros(lag_range * 2 + 1)\n",
    "    terminus = np.sum(trials != 0, axis=1)\n",
    "    \n",
    "    # compute actual serial lag b/t recalls\n",
    "    actual_lags = trials[:, 1:] - trials[:, :-1]\n",
    "    actual_lags += lag_range\n",
    "    \n",
    "    # tabulate bin totals for actual and possible lags\n",
    "    for i in range(len(trials)):\n",
    "        possible_items = np.arange(item_count) + 1\n",
    "        previous_item = 0\n",
    "        \n",
    "        for recall_index in range(terminus[i]):\n",
    "            \n",
    "            # track possible and actual lags\n",
    "            if recall_index > 0:\n",
    "                total_actual_lags[actual_lags[i, recall_index-1]] += 1\n",
    "                \n",
    "                # exploit equivalence b/t item index and study position to track possible lags\n",
    "                possible_lags = possible_items - previous_item \n",
    "                possible_lags += lag_range\n",
    "                total_possible_lags[possible_lags] += 1\n",
    "                \n",
    "            # update pool of possible items to exclude recalled item\n",
    "            previous_item = trials[i, recall_index]\n",
    "            possible_items = possible_items[possible_items != previous_item]\n",
    "    \n",
    "    # small correction to avoid nans\n",
    "    total_possible_lags[total_actual_lags==0] += 1\n",
    "    \n",
    "    return total_actual_lags/total_possible_lags"
   ]
  },
  {
   "cell_type": "code",
   "execution_count": null,
   "id": "810e7e14-13fb-4c41-9baa-60d786937b42",
   "metadata": {},
   "outputs": [
    {
     "data": {
      "text/plain": [
       "array([0.11545802, 0.03865462, 0.03426124, 0.02190876, 0.01986577,\n",
       "       0.02267685, 0.02739411, 0.02432077, 0.02417998, 0.02586558,\n",
       "       0.02197371, 0.02486135, 0.03163017, 0.03506209, 0.03603604,\n",
       "       0.04045307, 0.04037383, 0.06735022, 0.12302405, 0.        ,\n",
       "       0.42455483, 0.12300786, 0.0701565 , 0.04939064, 0.04814004,\n",
       "       0.04378356, 0.03933364, 0.03939865, 0.03775744, 0.04248573,\n",
       "       0.03664553, 0.0403481 , 0.02867384, 0.02528978, 0.03629537,\n",
       "       0.03250774, 0.04587156, 0.06060606, 0.02366864])"
      ]
     },
     "execution_count": null,
     "metadata": {},
     "output_type": "execute_result"
    }
   ],
   "source": [
    "fast_crp(trials, list_length)"
   ]
  },
  {
   "cell_type": "markdown",
   "id": "b3e43b27-549b-438b-bde8-91c831ea090d",
   "metadata": {},
   "source": [
    "We can compare the runtimes of `compmemlearn`'s `analyses.fast_crp` and `psifr`'s `fr.lag_crp` using the `%%timeit` Jupyter magic:"
   ]
  },
  {
   "cell_type": "code",
   "execution_count": null,
   "id": "9090d7ff-7c3e-4b9a-9fd5-c8b50d5e0176",
   "metadata": {},
   "outputs": [
    {
     "name": "stdout",
     "output_type": "stream",
     "text": [
      "5.65 ms ± 177 µs per loop (mean ± std. dev. of 7 runs, 100 loops each)\n"
     ]
    }
   ],
   "source": [
    "%%timeit\n",
    "fast_crp(trials, 20)"
   ]
  },
  {
   "cell_type": "code",
   "execution_count": null,
   "id": "fc2afa5b-9266-4432-889e-d5ed29705905",
   "metadata": {},
   "outputs": [
    {
     "name": "stdout",
     "output_type": "stream",
     "text": [
      "470 ms ± 7.77 ms per loop (mean ± std. dev. of 7 runs, 1 loop each)\n"
     ]
    }
   ],
   "source": [
    "%%timeit\n",
    "fr.lag_crp(events)"
   ]
  },
  {
   "cell_type": "markdown",
   "id": "f08df87a-ec97-4da4-8c93-03b829a0f82b",
   "metadata": {},
   "source": [
    "Our fast implementation is more than 100 times faster!"
   ]
  },
  {
   "cell_type": "markdown",
   "id": "97445eee-6c1a-4f81-aad5-1ce40d7d5813",
   "metadata": {},
   "source": [
    "## Plotting\n",
    "`psifr`'s plotting library creates a separate figure for each plot, when sometimes we want to to include multiple plots in one figure, so we define our own."
   ]
  },
  {
   "cell_type": "code",
   "execution_count": null,
   "id": "984ffca1-f945-421a-89cf-bb5afa51fc19",
   "metadata": {},
   "outputs": [],
   "source": [
    "# export\n",
    "import seaborn as sns\n",
    "from psifr import fr\n",
    "\n",
    "def plot_lag_crp(data, max_lag=5, **facet_kws):\n",
    "    \n",
    "    filt_neg = f'{-max_lag} <= lag < 0'\n",
    "    filt_pos = f'0 < lag <= {max_lag}'\n",
    "    \n",
    "    crp_data = fr.lag_crp(data)\n",
    "    \n",
    "    sns.lineplot(\n",
    "        data=crp_data.query(filt_neg), \n",
    "        x='lag', y='prob', **facet_kws)\n",
    "    sns.lineplot(\n",
    "        data=crp_data.query(filt_pos), \n",
    "        x='lag', y='prob', **facet_kws)"
   ]
  },
  {
   "cell_type": "code",
   "execution_count": null,
   "id": "d629b997-d907-4792-8b75-605545016d8f",
   "metadata": {},
   "outputs": [
    {
     "data": {
      "image/png": "[encoded data removed]",
      "text/plain": [
       "<Figure size 345.6x288 with 1 Axes>"
      ]
     },
     "metadata": {},
     "output_type": "display_data"
    }
   ],
   "source": [
    "sns.set_theme(style=\"darkgrid\")\n",
    "\n",
    "g = sns.FacetGrid(dropna=False, data=events, height=4, aspect=1.2)\n",
    "g.map_dataframe(plot_lag_crp, err_style='bars')\n",
    "g.set(ylim=(0, .5))\n",
    "\n",
    "g.set_xlabels('Item\\'s Lag In Study List From Last Recalled Item')\n",
    "g.set_ylabels('Conditional Recall Rate');"
   ]
  }
 ],
 "metadata": {
  "kernelspec": {
   "display_name": "Python 3 (ipykernel)",
   "language": "python",
   "name": "python3"
  }
 },
 "nbformat": 4,
 "nbformat_minor": 5
}

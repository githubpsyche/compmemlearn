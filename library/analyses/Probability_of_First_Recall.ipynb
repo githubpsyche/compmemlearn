{
 "cells": [
  {
   "cell_type": "code",
   "execution_count": 1,
   "id": "080adb09-6c05-4e5d-a2a3-68c9e36a9d31",
   "metadata": {},
   "outputs": [],
   "source": [
    "# default_exp analyses"
   ]
  },
  {
   "cell_type": "markdown",
   "id": "cc606bdf-0c3e-49ff-9b7b-5761db44a221",
   "metadata": {},
   "source": [
    "# Probability of First Recall\n",
    "> The first recall a participant makes in a free recall experiment "
   ]
  },
  {
   "cell_type": "markdown",
   "id": "a46b978b-05b6-48af-805b-a3b9611f633f",
   "metadata": {},
   "source": [
    "## Data Preparation\n",
    "For our demonstrations, we'll lean on the MurdockOkada1970 dataset. \n",
    "As a reminder, in this dataset each of 72 undergraduates was given 20 test lists with 20-word lists visually presented at either 60 or 120 words/min."
   ]
  },
  {
   "cell_type": "code",
   "execution_count": 2,
   "id": "92723aae-a528-431c-b164-de626be3882f",
   "metadata": {},
   "outputs": [
    {
     "data": {
      "text/html": [
       "<div>\n",
       "<style scoped>\n",
       "    .dataframe tbody tr th:only-of-type {\n",
       "        vertical-align: middle;\n",
       "    }\n",
       "\n",
       "    .dataframe tbody tr th {\n",
       "        vertical-align: top;\n",
       "    }\n",
       "\n",
       "    .dataframe thead th {\n",
       "        text-align: right;\n",
       "    }\n",
       "</style>\n",
       "<table border=\"1\" class=\"dataframe\">\n",
       "  <thead>\n",
       "    <tr style=\"text-align: right;\">\n",
       "      <th></th>\n",
       "      <th>subject</th>\n",
       "      <th>list</th>\n",
       "      <th>item</th>\n",
       "      <th>input</th>\n",
       "      <th>output</th>\n",
       "      <th>study</th>\n",
       "      <th>recall</th>\n",
       "      <th>repeat</th>\n",
       "      <th>intrusion</th>\n",
       "    </tr>\n",
       "  </thead>\n",
       "  <tbody>\n",
       "    <tr>\n",
       "      <th>0</th>\n",
       "      <td>1</td>\n",
       "      <td>1</td>\n",
       "      <td>0</td>\n",
       "      <td>1</td>\n",
       "      <td>NaN</td>\n",
       "      <td>True</td>\n",
       "      <td>False</td>\n",
       "      <td>0</td>\n",
       "      <td>False</td>\n",
       "    </tr>\n",
       "    <tr>\n",
       "      <th>1</th>\n",
       "      <td>1</td>\n",
       "      <td>1</td>\n",
       "      <td>1</td>\n",
       "      <td>2</td>\n",
       "      <td>NaN</td>\n",
       "      <td>True</td>\n",
       "      <td>False</td>\n",
       "      <td>0</td>\n",
       "      <td>False</td>\n",
       "    </tr>\n",
       "    <tr>\n",
       "      <th>2</th>\n",
       "      <td>1</td>\n",
       "      <td>1</td>\n",
       "      <td>2</td>\n",
       "      <td>3</td>\n",
       "      <td>NaN</td>\n",
       "      <td>True</td>\n",
       "      <td>False</td>\n",
       "      <td>0</td>\n",
       "      <td>False</td>\n",
       "    </tr>\n",
       "    <tr>\n",
       "      <th>3</th>\n",
       "      <td>1</td>\n",
       "      <td>1</td>\n",
       "      <td>3</td>\n",
       "      <td>4</td>\n",
       "      <td>NaN</td>\n",
       "      <td>True</td>\n",
       "      <td>False</td>\n",
       "      <td>0</td>\n",
       "      <td>False</td>\n",
       "    </tr>\n",
       "    <tr>\n",
       "      <th>4</th>\n",
       "      <td>1</td>\n",
       "      <td>1</td>\n",
       "      <td>4</td>\n",
       "      <td>5</td>\n",
       "      <td>NaN</td>\n",
       "      <td>True</td>\n",
       "      <td>False</td>\n",
       "      <td>0</td>\n",
       "      <td>False</td>\n",
       "    </tr>\n",
       "  </tbody>\n",
       "</table>\n",
       "</div>"
      ],
      "text/plain": [
       "   subject  list  item  input  output  study  recall  repeat  intrusion\n",
       "0        1     1     0      1     NaN   True   False       0      False\n",
       "1        1     1     1      2     NaN   True   False       0      False\n",
       "2        1     1     2      3     NaN   True   False       0      False\n",
       "3        1     1     3      4     NaN   True   False       0      False\n",
       "4        1     1     4      5     NaN   True   False       0      False"
      ]
     },
     "execution_count": 2,
     "metadata": {},
     "output_type": "execute_result"
    }
   ],
   "source": [
    "from compmemlearn.datasets import prepare_murdock1970_data\n",
    "\n",
    "trials, events, list_length = prepare_murdock1970_data(\"../../data/mo1970.txt\")\n",
    "events.head()\n"
   ]
  },
  {
   "cell_type": "markdown",
   "id": "7474266b-e687-4009-8d2e-db4f6873de06",
   "metadata": {},
   "source": [
    "## Analysis"
   ]
  },
  {
   "cell_type": "markdown",
   "id": "395f5b6e-85aa-41de-919f-6f57f14d7dc0",
   "metadata": {},
   "source": [
    "### DataFrame\n",
    "We can usually rely on the `psifr` library to generate `pandas` DataFrames containing PFR information. "
   ]
  },
  {
   "cell_type": "code",
   "execution_count": 3,
   "id": "bd37de22-46aa-417e-97c7-272ef1436f94",
   "metadata": {},
   "outputs": [
    {
     "data": {
      "text/html": [
       "<div>\n",
       "<style scoped>\n",
       "    .dataframe tbody tr th:only-of-type {\n",
       "        vertical-align: middle;\n",
       "    }\n",
       "\n",
       "    .dataframe tbody tr th {\n",
       "        vertical-align: top;\n",
       "    }\n",
       "\n",
       "    .dataframe thead th {\n",
       "        text-align: right;\n",
       "    }\n",
       "</style>\n",
       "<table border=\"1\" class=\"dataframe\">\n",
       "  <thead>\n",
       "    <tr style=\"text-align: right;\">\n",
       "      <th></th>\n",
       "      <th></th>\n",
       "      <th></th>\n",
       "      <th>prob</th>\n",
       "      <th>actual</th>\n",
       "      <th>possible</th>\n",
       "    </tr>\n",
       "    <tr>\n",
       "      <th>subject</th>\n",
       "      <th>output</th>\n",
       "      <th>input</th>\n",
       "      <th></th>\n",
       "      <th></th>\n",
       "      <th></th>\n",
       "    </tr>\n",
       "  </thead>\n",
       "  <tbody>\n",
       "    <tr>\n",
       "      <th rowspan=\"5\" valign=\"top\">1</th>\n",
       "      <th rowspan=\"5\" valign=\"top\">1</th>\n",
       "      <th>1</th>\n",
       "      <td>0.00</td>\n",
       "      <td>0</td>\n",
       "      <td>20</td>\n",
       "    </tr>\n",
       "    <tr>\n",
       "      <th>2</th>\n",
       "      <td>0.00</td>\n",
       "      <td>0</td>\n",
       "      <td>20</td>\n",
       "    </tr>\n",
       "    <tr>\n",
       "      <th>3</th>\n",
       "      <td>0.00</td>\n",
       "      <td>0</td>\n",
       "      <td>20</td>\n",
       "    </tr>\n",
       "    <tr>\n",
       "      <th>4</th>\n",
       "      <td>0.00</td>\n",
       "      <td>0</td>\n",
       "      <td>20</td>\n",
       "    </tr>\n",
       "    <tr>\n",
       "      <th>5</th>\n",
       "      <td>0.00</td>\n",
       "      <td>0</td>\n",
       "      <td>20</td>\n",
       "    </tr>\n",
       "    <tr>\n",
       "      <th>...</th>\n",
       "      <th>...</th>\n",
       "      <th>...</th>\n",
       "      <td>...</td>\n",
       "      <td>...</td>\n",
       "      <td>...</td>\n",
       "    </tr>\n",
       "    <tr>\n",
       "      <th rowspan=\"5\" valign=\"top\">72</th>\n",
       "      <th rowspan=\"5\" valign=\"top\">1</th>\n",
       "      <th>16</th>\n",
       "      <td>0.05</td>\n",
       "      <td>1</td>\n",
       "      <td>20</td>\n",
       "    </tr>\n",
       "    <tr>\n",
       "      <th>17</th>\n",
       "      <td>0.50</td>\n",
       "      <td>10</td>\n",
       "      <td>20</td>\n",
       "    </tr>\n",
       "    <tr>\n",
       "      <th>18</th>\n",
       "      <td>0.15</td>\n",
       "      <td>3</td>\n",
       "      <td>20</td>\n",
       "    </tr>\n",
       "    <tr>\n",
       "      <th>19</th>\n",
       "      <td>0.10</td>\n",
       "      <td>2</td>\n",
       "      <td>20</td>\n",
       "    </tr>\n",
       "    <tr>\n",
       "      <th>20</th>\n",
       "      <td>0.05</td>\n",
       "      <td>1</td>\n",
       "      <td>20</td>\n",
       "    </tr>\n",
       "  </tbody>\n",
       "</table>\n",
       "<p>1440 rows × 3 columns</p>\n",
       "</div>"
      ],
      "text/plain": [
       "                      prob  actual  possible\n",
       "subject output input                        \n",
       "1       1      1      0.00       0        20\n",
       "               2      0.00       0        20\n",
       "               3      0.00       0        20\n",
       "               4      0.00       0        20\n",
       "               5      0.00       0        20\n",
       "...                    ...     ...       ...\n",
       "72      1      16     0.05       1        20\n",
       "               17     0.50      10        20\n",
       "               18     0.15       3        20\n",
       "               19     0.10       2        20\n",
       "               20     0.05       1        20\n",
       "\n",
       "[1440 rows x 3 columns]"
      ]
     },
     "execution_count": 3,
     "metadata": {},
     "output_type": "execute_result"
    }
   ],
   "source": [
    "from psifr import fr\n",
    "\n",
    "pfr = fr.pnr(events).query(\"output <= 1\")\n",
    "pfr\n"
   ]
  },
  {
   "cell_type": "markdown",
   "id": "4ebd0edb-a2ef-4483-a2c3-3c09b5cba2b4",
   "metadata": {},
   "source": [
    "### Fast Array Generation\n",
    "`DataFrame`s contain granular subject-by-subject information and are easier to plot using the `seaborn` library. \n",
    "But sometimes we don't need this granular information and mainly want to perform our analysis as quickly as possible -- perhaps to help with model fitting or analysis. \n",
    "In that case, representing results with `numpy` arrays and performing just-in-time compilation of our function using `numba` might be preferred. \n",
    "We include `analyses.fast_crp` in our library for that purpose here."
   ]
  },
  {
   "cell_type": "code",
   "execution_count": 4,
   "id": "c680d686-7e5d-41bd-996b-ade844c0d303",
   "metadata": {},
   "outputs": [],
   "source": [
    "# export\n",
    "\n",
    "from numba import njit\n",
    "import numpy as np\n",
    "\n",
    "\n",
    "@njit(fastmath=True, nogil=True)\n",
    "def fast_pfr(trials, item_count):\n",
    "    return np.bincount(trials[:, 0], minlength=item_count + 1)[1:] / len(trials)\n"
   ]
  },
  {
   "cell_type": "code",
   "execution_count": 5,
   "id": "91cdf01f-2a03-424d-b09e-1d66efa24aa7",
   "metadata": {},
   "outputs": [
    {
     "data": {
      "text/plain": [
       "array([0.06666667, 0.00347222, 0.00208333, 0.00208333, 0.00416667,\n",
       "       0.00138889, 0.00694444, 0.00416667, 0.00763889, 0.01458333,\n",
       "       0.00902778, 0.01597222, 0.03055556, 0.03472222, 0.05694444,\n",
       "       0.09027778, 0.13402778, 0.18611111, 0.15347222, 0.17569444])"
      ]
     },
     "execution_count": 5,
     "metadata": {},
     "output_type": "execute_result"
    }
   ],
   "source": [
    "fast_pfr(trials, list_length)"
   ]
  },
  {
   "cell_type": "markdown",
   "id": "b4dbfb10-8bea-4d26-93b9-6b33846f5765",
   "metadata": {},
   "source": [
    "We can compare the runtimes of `compmemlearn`'s and `psifr`'s functions using the `%%timeit` Jupyter magic:"
   ]
  },
  {
   "cell_type": "code",
   "execution_count": 6,
   "id": "7c733672-cf4b-483b-9449-05601895f478",
   "metadata": {},
   "outputs": [
    {
     "name": "stdout",
     "output_type": "stream",
     "text": [
      "3.75 µs ± 78.3 ns per loop (mean ± std. dev. of 7 runs, 100,000 loops each)\n"
     ]
    }
   ],
   "source": [
    "%%timeit\n",
    "fast_pfr(trials, list_length)"
   ]
  },
  {
   "cell_type": "code",
   "execution_count": 7,
   "id": "29ba8f36-9f74-457e-9485-56d970104efe",
   "metadata": {},
   "outputs": [
    {
     "name": "stdout",
     "output_type": "stream",
     "text": [
      "560 ms ± 29.8 ms per loop (mean ± std. dev. of 7 runs, 1 loop each)\n"
     ]
    }
   ],
   "source": [
    "%%timeit\n",
    "fr.pnr(events)"
   ]
  },
  {
   "cell_type": "markdown",
   "id": "eb902a92-c4af-4e2e-8085-1af1f6085ca5",
   "metadata": {},
   "source": [
    "Our fast implementation is more than 100,000 times faster!"
   ]
  },
  {
   "cell_type": "markdown",
   "id": "debf0194-c775-4fb5-8ae7-5d5b9f528ef7",
   "metadata": {},
   "source": [
    "## Plotting\n",
    "`psifr`'s plotting library creates a separate figure for each plot, when sometimes we want to to include multiple plots in one figure, so we define our own."
   ]
  },
  {
   "cell_type": "code",
   "execution_count": 8,
   "id": "74d7d229",
   "metadata": {},
   "outputs": [],
   "source": [
    "# # export\n",
    "\n",
    "# import seaborn as sns\n",
    "# import matplotlib.pyplot as plt\n",
    "# from psifr import fr\n",
    "# from compmemlearn.fitting import apply_and_concatenate\n",
    "\n",
    "# def plot_pfr(data, list_length, axis=None, contrast_name=None, labels=None):\n",
    "\n",
    "#     if axis is None:\n",
    "#         plt.figure()\n",
    "#         axis = plt.gca()\n",
    "\n",
    "#     if isinstance(data, list):\n",
    "#         assert(len(labels) == len(data))\n",
    "#         assert(contrast_name is not None)\n",
    "#         data = apply_and_concatenate(fr.pnr, data, contrast_name, labels)\n",
    "#         data = data.query(\"output <= 1\")\n",
    "#     else:\n",
    "#         data = fr.pnr(data)\n",
    "#         data = data.query(\"output <= 1\")\n",
    "\n",
    "#     sns.lineplot(ax=axis, data=data, x='input', y='prob', err_style='bars', hue=contrast_name)\n",
    "#     axis.set(xlabel='Study Position', ylabel='Probability of Recalling First')\n",
    "#     axis.set_xticks(np.arange(1, list_length+int(list_length/10), int(list_length/10)))\n",
    "#     axis.set_ylim((0, 1))\n",
    "\n",
    "#     if labels is not None:\n",
    "#         axis.legend(bbox_to_anchor=(1.05, 1), loc=2, borderaxespad=0.)\n",
    "\n",
    "#     return axis"
   ]
  },
  {
   "cell_type": "code",
   "execution_count": 9,
   "id": "68303599",
   "metadata": {},
   "outputs": [],
   "source": [
    "# export\n",
    "\n",
    "import pandas as pd\n",
    "import seaborn as sns\n",
    "import matplotlib.pyplot as plt\n",
    "from compmemlearn.datasets import events_metadata, generate_trial_mask\n",
    "\n",
    "\n",
    "def plot_pfr(data, trial_query, contrast_name='', labels=None, axis=None):\n",
    "\n",
    "    if axis is None:\n",
    "        plt.figure()\n",
    "        axis = plt.gca()\n",
    "\n",
    "    if labels is None:\n",
    "        labels = [''] * len(data)\n",
    "\n",
    "    result = []\n",
    "    for data_index, events in enumerate(data):\n",
    "\n",
    "        # generate and subset trials array and list of list_lengths based on trial_query\n",
    "        trials, list_lengths = events_metadata(events)[:2]\n",
    "        trial_mask = generate_trial_mask(events, trial_query)\n",
    "        chose = [i for i in range(len(trial_mask)) if np.sum(trial_mask[i]) != 0]\n",
    "        assert(len(chose) == 1)\n",
    "        chose = chose[0]\n",
    "        trials = trials[chose]\n",
    "        list_length = list_lengths[chose]\n",
    "        trial_mask = trial_mask[chose]\n",
    "\n",
    "        for subject in pd.unique(events.subject):\n",
    "            subject_specific_trial_mask = np.logical_and(\n",
    "                generate_trial_mask(events, f\"subject == {subject}\")[chose], trial_mask\n",
    "            )\n",
    "\n",
    "            if np.sum(subject_specific_trial_mask) == 0:\n",
    "                continue\n",
    "\n",
    "            result.append(pd.DataFrame.from_dict(\n",
    "                {\n",
    "                    \"subject\": subject,\n",
    "                    \"input\": np.arange(1, list_length + 1),\n",
    "                    \"recall\": fast_pfr(trials[subject_specific_trial_mask], list_length),\n",
    "                    contrast_name: labels[data_index],\n",
    "                }\n",
    "            ))\n",
    "\n",
    "    result = pd.concat(result).reset_index()\n",
    "\n",
    "    sns.lineplot(ax=axis, data=result, x='input', y='recall', err_style='bars', hue=contrast_name)\n",
    "    axis.set(xlabel='Study Position', ylabel='Recall Rate')\n",
    "    axis.set_xticks(np.arange(1, list_length+int(list_length/10), int(list_length/10)))\n",
    "    axis.set_ylim((0, 1))\n",
    "\n",
    "    if contrast_name:\n",
    "        axis.legend(bbox_to_anchor=(1.05, 1), loc=2, borderaxespad=0.)\n",
    "\n",
    "    return axis"
   ]
  },
  {
   "cell_type": "code",
   "execution_count": 10,
   "id": "27ce1cd0-26d6-44f7-8dc2-01075cb2d479",
   "metadata": {},
   "outputs": [
    {
     "data": {
      "image/png": "[encoded data removed]",
      "text/plain": [
       "<Figure size 432x288 with 1 Axes>"
      ]
     },
     "metadata": {
      "needs_background": "light"
     },
     "output_type": "display_data"
    }
   ],
   "source": [
    "import matplotlib.pyplot as plt\n",
    "\n",
    "plt.figure()\n",
    "axis = plt.gca()\n",
    "plot_pfr([events], 'subject > -1', axis=axis);"
   ]
  }
 ],
 "metadata": {
  "kernelspec": {
   "display_name": "Python 3 (ipykernel)",
   "language": "python",
   "name": "python3"
  },
  "language_info": {
   "codemirror_mode": {
    "name": "ipython",
    "version": 3
   },
   "file_extension": ".py",
   "mimetype": "text/x-python",
   "name": "python",
   "nbconvert_exporter": "python",
   "pygments_lexer": "ipython3",
   "version": "3.9.1"
  }
 },
 "nbformat": 4,
 "nbformat_minor": 5
}

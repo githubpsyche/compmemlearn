{
 "cells": [
  {
   "cell_type": "code",
   "execution_count": 1,
   "id": "c7f7a6eb",
   "metadata": {
    "pycharm": {
     "name": "#%%\n"
    }
   },
   "outputs": [],
   "source": [
    "# default_exp analyses"
   ]
  },
  {
   "cell_type": "markdown",
   "id": "78570e60",
   "metadata": {
    "pycharm": {
     "name": "#%% md\n"
    }
   },
   "source": [
    "# Recall Probability by Spacing\n",
    "> \"The beneficial mnemonic effects of spaced over massed learning is one of the most widely documented and well studied memory phenomena. Although it is seen in a wide range of tasks, the spacing effect is particularly strong in free recall, where the probability of recalling a repeated word often increases monotonically to spacings of 20 or more items (Cepeda, Pashler, Vul, Wixted, & Rohrer, 2006; Delaney, Verkoeijen, & Spirgel, 2010; Donovan & Radosevich, 1999; Madigan, 1969; Melton, 1970).\" - Lohnas & Kahana, 2014"
   ]
  },
  {
   "cell_type": "markdown",
   "id": "741694ed",
   "metadata": {
    "pycharm": {
     "name": "#%% md\n"
    }
   },
   "source": [
    "## Data Preparation"
   ]
  },
  {
   "cell_type": "code",
   "execution_count": 2,
   "id": "40018bfc-b594-4823-a4c8-a64f95a098ec",
   "metadata": {
    "pycharm": {
     "name": "#%%\n"
    }
   },
   "outputs": [],
   "source": [
    "from compmemlearn.datasets import prepare_lohnas2014_data\n",
    "\n",
    "trials, events, list_length, presentations, list_types, rep_data, subjects = prepare_lohnas2014_data(\n",
    "    '../../data/repFR.mat')\n",
    "\n",
    "import pandas as pd\n",
    "from compmemlearn.datasets import events_metadata\n",
    "\n",
    "data_path = '../../data/LohnasKahana2014.csv'\n",
    "events = pd.read_csv(data_path)\n",
    "trials, list_lengths, presentations = events_metadata(events)[:3]"
   ]
  },
  {
   "cell_type": "markdown",
   "id": "bde2dd8b",
   "metadata": {
    "pycharm": {
     "name": "#%% md\n"
    }
   },
   "source": [
    "## Analysis\n",
    "We optimize this with numba (and some creative Python) to speed up the calculation."
   ]
  },
  {
   "cell_type": "markdown",
   "id": "bd2afa4e-e34d-43b1-b2d8-68802d6aa668",
   "metadata": {
    "pycharm": {
     "name": "#%% md\n"
    }
   },
   "source": [
    "### Fast Array Generation\n",
    "`DataFrame`s contain granular subject-by-subject information and are easier to plot using the `seaborn` library. \n",
    "But sometimes we don't need this granular information and mainly want to perform our analysis as quickly as possible -- perhaps to help with model fitting or analysis. \n",
    "In that case, representing results with `numpy` arrays and performing just-in-time compilation of our function using `numba` might be preferred. \n",
    "We include `analyses.fast_rpl` in our library for that purpose here.\n",
    "\n",
    "The function assumes items are repeated up to 2 times."
   ]
  },
  {
   "cell_type": "code",
   "execution_count": 3,
   "id": "9225e182",
   "metadata": {
    "pycharm": {
     "name": "#%%\n"
    }
   },
   "outputs": [],
   "source": [
    "# export\n",
    "\n",
    "from numba import njit, prange\n",
    "import numpy as np\n",
    "\n",
    "@njit(nogil=True, parallel=True)\n",
    "def fast_rpl(study_positions_in_recall_order, presentations, max_lag=8):\n",
    "    \n",
    "    assert(len(presentations) == len(study_positions_in_recall_order))\n",
    "\n",
    "    total_presented, total_retrieved = np.zeros(max_lag+2), np.zeros(max_lag+2)\n",
    "\n",
    "    for trial_index in prange(len(presentations)):\n",
    "        presented, retrieved = np.zeros(max_lag+2), np.zeros(max_lag+2)\n",
    "        trial = study_positions_in_recall_order[trial_index]\n",
    "        trial = trial[trial > 0]-1\n",
    "        \n",
    "        for item in np.unique(presentations[trial_index]):\n",
    "            for idx, val in np.ndenumerate(presentations[trial_index]):\n",
    "                if val == item:\n",
    "                    locationA = idx[0]\n",
    "                    break\n",
    "\n",
    "            lag = 0\n",
    "            if locationA < len(presentations[trial_index]):\n",
    "                for idx, val in np.ndenumerate(presentations[trial_index][locationA+1:]):\n",
    "                    if val == item:\n",
    "                        lag = 1 + idx[0]\n",
    "                        break\n",
    "\n",
    "            presented[lag] += 1\n",
    "            retrieved[lag] += locationA in trial\n",
    "            \n",
    "        total_presented += presented\n",
    "        total_retrieved += retrieved\n",
    "\n",
    "    return total_retrieved/total_presented"
   ]
  },
  {
   "cell_type": "code",
   "execution_count": 4,
   "id": "9d56d895",
   "metadata": {
    "pycharm": {
     "name": "#%%\n"
    }
   },
   "outputs": [],
   "source": [
    "# export\n",
    "\n",
    "import pandas as pd\n",
    "import seaborn as sns\n",
    "import matplotlib.pyplot as plt\n",
    "from compmemlearn.datasets import events_metadata, generate_trial_mask\n",
    "\n",
    "\n",
    "def plot_rpl(data, trial_query, contrast_name='', labels=None, axis=None):\n",
    "\n",
    "    lags = ['N/A', '0', '1-2', '3-5', '6-8']\n",
    "\n",
    "    if axis is None:\n",
    "        plt.figure()\n",
    "        axis = plt.gca()\n",
    "\n",
    "    if labels is None:\n",
    "        labels = [''] * len(data)\n",
    "\n",
    "    result = []\n",
    "    for data_index, events in enumerate(data):\n",
    "\n",
    "        # generate and subset trials array and list of list_lengths based on trial_query\n",
    "        trials, list_lengths, presentations = events_metadata(events)[:3]\n",
    "        trial_mask = generate_trial_mask(events, trial_query)\n",
    "        chose = [i for i in range(len(trial_mask)) if np.sum(trial_mask[i]) != 0]\n",
    "        assert(len(chose) == 1)\n",
    "        chose = chose[0]\n",
    "        trials = trials[chose]\n",
    "        presentations = presentations[chose]\n",
    "        trial_mask = trial_mask[chose]\n",
    "\n",
    "        for subject in pd.unique(events.subject):\n",
    "            subject_specific_trial_mask = np.logical_and(\n",
    "                generate_trial_mask(events, f\"subject == {subject}\")[chose], trial_mask\n",
    "            )\n",
    "\n",
    "            if np.sum(subject_specific_trial_mask) == 0:\n",
    "                continue\n",
    "\n",
    "            subject_result = fast_rpl(trials[subject_specific_trial_mask], presentations[subject_specific_trial_mask])\n",
    "            binned = np.zeros(5)\n",
    "            binned[0] = subject_result[0]\n",
    "            binned[1] = subject_result[1]\n",
    "            binned[2] = (subject_result[2] + subject_result[3])/2\n",
    "            binned[3] = (subject_result[4] + subject_result[5] + subject_result[6])/3\n",
    "            binned[4] = (subject_result[7] + subject_result[8] + subject_result[9])/3\n",
    "\n",
    "            result.append(pd.DataFrame.from_dict(\n",
    "                {\n",
    "                    \"subject\": subject,\n",
    "                    \"lag\": lags,\n",
    "                    \"recall\": binned,\n",
    "                    contrast_name: labels[data_index],\n",
    "                }\n",
    "            ))\n",
    "\n",
    "    result = pd.concat(result).reset_index()\n",
    "    \n",
    "    if contrast_name:\n",
    "        sns.pointplot(ax=axis, data=result, x='lag', y='recall',  join=False, hue=contrast_name)\n",
    "        axis.legend(bbox_to_anchor=(1.05, 1), loc=2, borderaxespad=0.)\n",
    "    else: \n",
    "        sns.pointplot(ax=axis, data=result, x='lag', y='recall',  join=False)\n",
    "    axis.set(xlabel='Study Position', ylabel='Recall Rate')\n",
    "\n",
    "    return axis"
   ]
  },
  {
   "cell_type": "code",
   "execution_count": 9,
   "id": "f66cbd4d-8af6-48ed-94fc-f93fe1f848de",
   "metadata": {
    "pycharm": {
     "name": "#%%\n"
    }
   },
   "outputs": [
    {
     "name": "stdout",
     "output_type": "stream",
     "text": [
      "[0.37278912 0.43928571 0.47678571 0.55714286 0.57857143]\n"
     ]
    }
   ],
   "source": [
    "condition = 4\n",
    "\n",
    "result = fast_rpl(\n",
    "    trials[0][list_types>=condition], presentations[0][list_types>=condition], max_lag=8)\n",
    "\n",
    "# lohnas 2014 bins result by N/A, 0, 1-2, 3-5, and 6-8 number of intervening items\n",
    "binned = np.zeros(5)\n",
    "binned[0] = result[0]\n",
    "binned[1] = result[1]\n",
    "binned[2] = (result[2] + result[3])/2\n",
    "binned[3] = (result[4] + result[5] + result[6])/3\n",
    "binned[4] = (result[7] + result[8] + result[9])/3\n",
    "print(binned)"
   ]
  },
  {
   "cell_type": "code",
   "execution_count": 6,
   "id": "2c6c0fbb",
   "metadata": {
    "pycharm": {
     "name": "#%%\n"
    }
   },
   "outputs": [
    {
     "data": {
      "image/png": "[encoded data removed]",
      "text/plain": [
       "<Figure size 432x288 with 1 Axes>"
      ]
     },
     "metadata": {
      "needs_background": "light"
     },
     "output_type": "display_data"
    }
   ],
   "source": [
    "import matplotlib.pyplot as plt\n",
    "\n",
    "plt.figure()\n",
    "axis = plt.gca()\n",
    "plot_rpl([events], 'condition == 4', axis=axis);"
   ]
  },
  {
   "cell_type": "code",
   "execution_count": null,
   "id": "c88ac883-5d57-45c6-8699-b67b2e5c322b",
   "metadata": {
    "pycharm": {
     "name": "#%%\n"
    }
   },
   "outputs": [
    {
     "name": "stdout",
     "output_type": "stream",
     "text": [
      "2.34 ms ± 83.1 µs per loop (mean ± std. dev. of 7 runs, 100 loops each)\n"
     ]
    }
   ],
   "source": [
    "%%timeit\n",
    "fast_rpl(presentations, trials, max_lag=8)"
   ]
  },
  {
   "cell_type": "markdown",
   "id": "b9cc2e6b-56e3-46f2-8d91-8e27c11bfff7",
   "metadata": {
    "pycharm": {
     "name": "#%% md\n"
    }
   },
   "source": [
    "### DataFrame\n",
    "The `psifr` library doesn't have a function to generate `pandas` DataFrames containing conditional stop probability information, so we make our own. For efficiency, it mainly consists of calls to `fast_rpl`. Since we normally compare our analyses with the results from Lohnas & Kahana (2014), we'll automatically bin results between `['N/A', '0', '1-2', '3-5', '6-8']` even though `fast_rpl` provides more granular information."
   ]
  },
  {
   "cell_type": "code",
   "execution_count": null,
   "id": "6c44607d-8244-4514-b78d-8f2f9c0d4823",
   "metadata": {
    "pycharm": {
     "name": "#%%\n"
    }
   },
   "outputs": [],
   "source": [
    "# export\n",
    "\n",
    "import pandas as pd\n",
    "\n",
    "def rpl(presentations, trials, subjects, trial_count, list_length, max_lag=8):\n",
    "    #subjects = len(np.unique(events.subject))\n",
    "    #trial_count = np.max(events.list)\n",
    "    #list_length = np.max(events.input)\n",
    "    #lags = ['N/A'] + list(range(max_lag+1))\n",
    "    lags = ['N/A', '0', '1-2', '3-5', '6-8']\n",
    "    \n",
    "    result = {'subject': [], 'lag': [], 'prob': []}\n",
    "    \n",
    "    for subject in range(subjects):\n",
    "\n",
    "        subject_result = fast_rpl(\n",
    "            trials[subject*trial_count:(subject+1)*trial_count], presentations[subject*trial_count:(subject+1)*trial_count], max_lag)\n",
    "        \n",
    "        binned = np.zeros(5)\n",
    "        binned[0] = subject_result[0]\n",
    "        binned[1] = subject_result[1]\n",
    "        binned[2] = (subject_result[2] + subject_result[3])/2\n",
    "        binned[3] = (subject_result[4] + subject_result[5] + subject_result[6])/3\n",
    "        binned[4] = (subject_result[7] + subject_result[8] + subject_result[9])/3\n",
    "\n",
    "        result['subject'] += [subject+1]*len(lags)\n",
    "        result['lag'] += lags\n",
    "        result['prob'] += binned.tolist()\n",
    "        \n",
    "    return pd.DataFrame(result)"
   ]
  },
  {
   "cell_type": "markdown",
   "id": "63f3dc2a-4c4b-4b99-bcb9-f40640e06d51",
   "metadata": {
    "pycharm": {
     "name": "#%% md\n"
    }
   },
   "source": [
    "## Plotting Demo"
   ]
  },
  {
   "cell_type": "code",
   "execution_count": null,
   "id": "f848b302-8626-49c8-9209-cbfa10fe5500",
   "metadata": {
    "pycharm": {
     "name": "#%%\n"
    }
   },
   "outputs": [
    {
     "data": {
      "text/plain": [
       "Text(0, 0.5, 'Recall Probability')"
      ]
     },
     "execution_count": 9,
     "metadata": {},
     "output_type": "execute_result"
    },
    {
     "data": {
      "image/png": "[encoded data removed]",
      "text/plain": [
       "<Figure size 432x288 with 1 Axes>"
      ]
     },
     "metadata": {
      "needs_background": "light"
     },
     "output_type": "display_data"
    }
   ],
   "source": [
    "import seaborn as sns\n",
    "import matplotlib.pyplot as plt\n",
    "\n",
    "condition = 4\n",
    "source = 'Lohnas & Kahana (2014)'\n",
    "\n",
    "subject_count = len(np.unique(events.subject))\n",
    "trial_count = int(np.max(events.list)/4)\n",
    "\n",
    "data = rpl(\n",
    "    presentations[list_types>=4], trials[list_types>=4], \n",
    "    subject_count, trial_count, list_length)\n",
    "\n",
    "sns.barplot(data=data, x='lag', y='prob')\n",
    "\n",
    "plt.title('Condition {}, {}'.format(condition, source))\n",
    "plt.xlabel('Number of Intervening Items Between Repetitions')\n",
    "plt.ylabel('Recall Probability')"
   ]
  }
 ],
 "metadata": {
  "kernelspec": {
   "display_name": "Python 3.9.1 ('base')",
   "language": "python",
   "name": "python3"
  },
  "language_info": {
   "codemirror_mode": {
    "name": "ipython",
    "version": 3
   },
   "file_extension": ".py",
   "mimetype": "text/x-python",
   "name": "python",
   "nbconvert_exporter": "python",
   "pygments_lexer": "ipython3",
   "version": "3.9.1"
  },
  "vscode": {
   "interpreter": {
    "hash": "19d1d53a962d236aa061289c2ac16dc8e6d9648c89fe79f459ae9a3493bc67b4"
   }
  }
 },
 "nbformat": 4,
 "nbformat_minor": 5
}
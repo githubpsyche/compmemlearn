{
 "cells": [
  {
   "cell_type": "code",
   "execution_count": 1,
   "metadata": {
    "pycharm": {
     "name": "#%%\n"
    }
   },
   "outputs": [],
   "source": [
    "# default_exp analyses"
   ]
  },
  {
   "cell_type": "code",
   "execution_count": 1,
   "metadata": {
    "pycharm": {
     "name": "#%%\n"
    }
   },
   "outputs": [
    {
     "name": "stdout",
     "output_type": "stream",
     "text": [
      "\n",
      "# The Lag-Contiguity Effect\n",
      "The lag-contiguity effect illustrates how episodic associations are graded, exhibiting power-function decay with increasing lag. Recall of an item has a tendency to evoke not only adjacent list items, but other nearby items as well. In addition, episodic associations appear to be asymmetrical, favoring retrieval of items in the forward order.\n",
      "\n",
      "The lag-CRP analysis measures the lag-contiguity effect in free recall data by tracking the conditional probability of retrieving an unrecalled item as a function of its lag in the study list from the last recalled item. For example, if a research participant recalls the third item presented in a list and then the fourth, the corresponding lag is +1. If a participant instead recalls the first item after recalling the third item, the measured lag is -2. The ratio of actual divided by possible lag transitions across a dataset over a range of lag values tends to identify a lag-contiguity effect.\n",
      "\n"
     ]
    }
   ],
   "source": [
    "#| code-summary: -- load dependencies and data and select parameters\n",
    "#| output: asis\n",
    "\n",
    "from compmemlearn.analyses import recall_by_all_study_positions\n",
    "import os.path\n",
    "\n",
    "analysis_overview = \"\"\"\n",
    "# The Lag-Contiguity Effect\n",
    "The lag-contiguity effect illustrates how episodic associations are graded, exhibiting power-function decay with increasing lag. Recall of an item has a tendency to evoke not only adjacent list items, but other nearby items as well. In addition, episodic associations appear to be asymmetrical, favoring retrieval of items in the forward order.\n",
    "\n",
    "The lag-CRP analysis measures the lag-contiguity effect in free recall data by tracking the conditional probability of retrieving an unrecalled item as a function of its lag in the study list from the last recalled item. For example, if a research participant recalls the third item presented in a list and then the fourth, the corresponding lag is +1. If a participant instead recalls the first item after recalling the third item, the measured lag is -2. The ratio of actual divided by possible lag transitions across a dataset over a range of lag values tends to identify a lag-contiguity effect.\n",
    "\"\"\"\n",
    "\n",
    "analysis_tag = 'crp'\n",
    "data_paths = [\"../../data/CDCATBEH.csv\", \"../../data/LohnasKahana2014.csv\", \"../../data/HowardKahana2005.csv\"]\n",
    "trial_queries = [\n",
    "    [\"list_type == 'light'\", \"list_type == 'heavy'\"], \n",
    "    [\"condition == 1\", \"condition == 2\", \"condition == 3\", \"condition == 4\"], \n",
    "    [\"condition == 0\", \"condition == 1\", \"condition == 2\"]\n",
    "    ]\n",
    "query_labels = trial_queries\n",
    "\n",
    "show_figure = True\n",
    "regenerate_figure = True\n",
    "section_tags = [\"CDCATBEH\", \"LohnasKahana2014\", \"HowardKahana2005\"]\n",
    "figures_path = \"figures/\"\n",
    "figure_caption = \"\"\"The lag-contiguity effect measured as a function of list length using data from @{}.\"\"\"\n",
    "\n",
    "print(analysis_overview)"
   ]
  },
  {
   "cell_type": "code",
   "execution_count": 2,
   "metadata": {
    "pycharm": {
     "name": "#%%\n"
    }
   },
   "outputs": [],
   "source": [
    "# export\n",
    "#| code-summary: -- specify lag-contiguity effect analysis code\n",
    "\n",
    "from compmemlearn.datasets import events_metadata, generate_trial_mask\n",
    "import matplotlib.pyplot as plt\n",
    "from numba import njit\n",
    "import seaborn as sns\n",
    "import pandas as pd\n",
    "import numpy as np\n",
    "\n",
    "@njit(fastmath=True, nogil=True)\n",
    "def fast_crp(trials, item_count):\n",
    "    \n",
    "    lag_range = item_count - 1\n",
    "    total_actual_lags = np.zeros(lag_range * 2 + 1)\n",
    "    total_possible_lags = np.zeros(lag_range * 2 + 1)\n",
    "    terminus = np.sum(trials != 0, axis=1)\n",
    "    \n",
    "    # compute actual serial lag b/t recalls\n",
    "    actual_lags = trials[:, 1:] - trials[:, :-1]\n",
    "    actual_lags += lag_range\n",
    "    \n",
    "    # tabulate bin totals for actual and possible lags\n",
    "    for i in range(len(trials)):\n",
    "        possible_items = np.arange(item_count) + 1\n",
    "        previous_item = 0\n",
    "        \n",
    "        for recall_index in range(terminus[i]):\n",
    "            \n",
    "            # track possible and actual lags\n",
    "            if recall_index > 0:\n",
    "                total_actual_lags[actual_lags[i, recall_index-1]] += 1\n",
    "                \n",
    "                # exploit equivalence b/t item index and study position to track possible lags\n",
    "                possible_lags = possible_items - previous_item \n",
    "                possible_lags += lag_range\n",
    "                total_possible_lags[possible_lags] += 1\n",
    "                \n",
    "            # update pool of possible items to exclude recalled item\n",
    "            previous_item = trials[i, recall_index]\n",
    "            possible_items = possible_items[possible_items != previous_item]\n",
    "    \n",
    "    # small correction to avoid nans\n",
    "    total_possible_lags[total_actual_lags==0] += 1\n",
    "    \n",
    "    return total_actual_lags/total_possible_lags"
   ]
  },
  {
   "cell_type": "code",
   "execution_count": 3,
   "metadata": {},
   "outputs": [],
   "source": [
    "# export\n",
    "#| code-summary: -- specify lag-contiguity effect analysis code\n",
    "\n",
    "@njit(nogil=True)\n",
    "def flex_mixed_crp(trials, presentations):\n",
    "    \n",
    "    list_length = len(presentations[0])\n",
    "    max_repeats = int(np.ceil(np.max(np.bincount(\n",
    "        presentations.ravel())/len(presentations))))\n",
    "    lag_range = list_length - 1\n",
    "    total_actual_lags = np.zeros(lag_range * 2 + 1)\n",
    "    total_possible_lags = np.zeros(lag_range * 2 + 1)\n",
    "    terminus = np.sum(trials != 0, axis=1) # number of recalls per trial\n",
    "    recall_by_study_position = recall_by_all_study_positions(trials, presentations, max_repeats)\n",
    "    \n",
    "    for trial_index in range(len(trials)):\n",
    "        \n",
    "        previous_item = 0\n",
    "        item_count = np.max(presentations[trial_index]) + 1\n",
    "        possible_items = np.arange(item_count) # initial pool of possible recalls, 1-indexed\n",
    "        possible_positions = np.zeros((item_count, max_repeats), dtype=np.int32)\n",
    "        \n",
    "        # we track possible positions using presentations and alt_presentations\n",
    "        for item in range(item_count):\n",
    "            pos = np.nonzero(presentations[trial_index] == item)[0] + 1\n",
    "            possible_positions[item, :len(pos)] = pos\n",
    "            \n",
    "        for recall_index in range(terminus[trial_index]):\n",
    "            \n",
    "            current_item = presentations[trial_index][trials[trial_index, recall_index]-1]\n",
    "            \n",
    "            # track possible and actual lags\n",
    "            if recall_index > 0:\n",
    "                \n",
    "                # item indices don't help track lags anymore\n",
    "                # so more complex calculation needed to identify possible lags given previous item\n",
    "                current_index = np.nonzero(possible_items==current_item)[0]\n",
    "                possible_lags = np.zeros((len(recall_by_study_position) ** 2, len(possible_items)), dtype=np.int32)\n",
    "\n",
    "                index = 0\n",
    "                for x in range(len(recall_by_study_position)):\n",
    "                    for y in range(len(recall_by_study_position)):\n",
    "                        if possible_positions[previous_item, y] > 0:\n",
    "                        \n",
    "                            possible_lags[index] = possible_positions[\n",
    "                                possible_items, x] - possible_positions[previous_item, y]\n",
    "                            \n",
    "                            # if tracked position is 0, then we don't actually want to count it in our lags\n",
    "                            possible_lags[index][possible_positions[possible_items, x] == 0] = 0\n",
    "                        \n",
    "                        index += 1\n",
    "                possible_lags += lag_range\n",
    "\n",
    "                total_actual_lags[possible_lags[:, current_index].flatten()] += 1\n",
    "                total_possible_lags[possible_lags.flatten()] += 1\n",
    "                        \n",
    "\n",
    "            # update pool to exclude recalled item (updated to still identify 1-indexed item)\n",
    "            previous_item = current_item\n",
    "            possible_items = possible_items[possible_items != previous_item]\n",
    "                    \n",
    "    # small correction to avoid nans and commit to excluding multiply-tracked single presentations \n",
    "    total_actual_lags[lag_range] = 0\n",
    "    total_possible_lags[total_actual_lags==0] += 1\n",
    "    \n",
    "    return total_actual_lags/total_possible_lags"
   ]
  },
  {
   "cell_type": "code",
   "execution_count": 11,
   "metadata": {},
   "outputs": [],
   "source": [
    "# export\n",
    "#| code-summary: -- specify lag-contiguity effect analysis code\n",
    "\n",
    "def plot_crp(data, trial_query, contrast_name=None, labels=None, axis=None, max_lag=5, handle_repetitions=None, mask=None):\n",
    "\n",
    "    if axis is None:\n",
    "        plt.figure()\n",
    "        axis = plt.gca()\n",
    "\n",
    "    if labels is None:\n",
    "        labels = [''] * len(data)\n",
    "\n",
    "    result = []\n",
    "    for data_index, events in enumerate(data):\n",
    "\n",
    "        # generate and subset trials array and list of list_lengths based on trial_query\n",
    "        trials, list_lengths, presentations = events_metadata(events)[:3]\n",
    "        trial_mask = generate_trial_mask(events, trial_query)\n",
    "        chose = [i for i in range(len(trial_mask)) if np.sum(trial_mask[i]) != 0]\n",
    "        assert(len(chose) == 1)\n",
    "        chose = chose[0]\n",
    "        trials = trials[chose]\n",
    "        list_length = list_lengths[chose]\n",
    "        presentations = presentations[chose]\n",
    "        trial_mask = trial_mask[chose]\n",
    "\n",
    "        lag_interval = np.arange(-max_lag, max_lag+1)\n",
    "        lag_range = list_length -1\n",
    "        for subject in pd.unique(events.subject):\n",
    "            subject_specific_trial_mask = np.logical_and(\n",
    "                generate_trial_mask(events, f\"subject == {subject}\")[chose], trial_mask\n",
    "            )\n",
    "\n",
    "            if np.sum(subject_specific_trial_mask) == 0:\n",
    "                continue\n",
    "\n",
    "            if mask is None:\n",
    "                if handle_repetitions is None:\n",
    "                    handle_repetitions = not (presentations == np.arange(list_length)).all()\n",
    "                \n",
    "                if not handle_repetitions:\n",
    "                    res = fast_crp(trials[subject_specific_trial_mask], list_length)\n",
    "                else:\n",
    "                    res = flex_mixed_crp(\n",
    "                        trials[subject_specific_trial_mask], presentations[subject_specific_trial_mask])\n",
    "            else:\n",
    "                res = masked_crp(trials[subject_specific_trial_mask], list_length, mask)\n",
    "\n",
    "            res[lag_range] = np.nan\n",
    "            result.append(pd.DataFrame.from_dict(\n",
    "                {\n",
    "                    \"subject\": subject,\n",
    "                    \"lag\": lag_interval,\n",
    "                    \"prob\": res[lag_range-max_lag:lag_range+max_lag+1],\n",
    "                    contrast_name: labels[data_index],\n",
    "                    \"positive\": lag_interval > 0,\n",
    "                }\n",
    "            ))\n",
    "\n",
    "    result = pd.concat(result).reset_index()\n",
    "    sns.lineplot(\n",
    "        ax=axis, data=result, x='lag', y='prob', err_style='bars', hue=contrast_name, legend=False, style=\"positive\", dashes=False)\n",
    "    \n",
    "    axis.set(xlabel='Lag', ylabel='Conditional Resp. Prob.')\n",
    "    axis.set_xticks(np.arange(-max_lag, max_lag+1, 1))\n",
    "    axis.set_ylim((0, 1))\n",
    "\n",
    "    if contrast_name:\n",
    "        axis.legend(bbox_to_anchor=(1.05, 1), loc=2, borderaxespad=0.)\n",
    "\n",
    "    return axis, result"
   ]
  },
  {
   "cell_type": "code",
   "execution_count": 12,
   "metadata": {
    "pycharm": {
     "name": "#%%\n"
    }
   },
   "outputs": [
    {
     "data": {
      "image/png": "[encoded data removed]",
      "text/plain": [
       "<Figure size 432x288 with 1 Axes>"
      ]
     },
     "metadata": {},
     "output_type": "display_data"
    }
   ],
   "source": [
    "#| code-summary: -- perform and visualize crp using pre-defined parameters\n",
    "#| output: asis\n",
    "\n",
    "sns.set(style='darkgrid')\n",
    "import warnings\n",
    "warnings.filterwarnings(action='once')\n",
    "\n",
    "for i in range(len(data_paths)):\n",
    "    section_tag = section_tags[i]\n",
    "    trial_query = trial_queries[i]\n",
    "    query_label = query_labels[i]\n",
    "    data_path = data_paths[i]\n",
    "\n",
    "    if regenerate_figure or show_figure:\n",
    "        ax = None\n",
    "        for query in trial_query:\n",
    "\n",
    "            events = pd.read_csv(data_path)\n",
    "            trials, list_lengths, presentations = events_metadata(events)[:3]\n",
    "            ax = plot_crp([events], query, labels=[query], axis=ax)[0]\n",
    "\n",
    "        ax.legend(handles=ax.lines[::4], labels=query_label, bbox_to_anchor=(1.05, 1), loc=2, borderaxespad=0.)\n",
    "\n",
    "        if regenerate_figure:\n",
    "            plt.savefig(\n",
    "                figures_path+f'{section_tag}_{analysis_tag}.pdf', bbox_inches=\"tight\")\n",
    "                \n",
    "        if show_figure:\n",
    "            plt.show()\n",
    "        else:\n",
    "            print(\n",
    "                f\"\"\"::: {{#fig-{section_tag}_{analysis_tag} layout-valign=\"center\"}}\n",
    "                \n",
    "![]({figures_path}{section_tag}_{analysis_tag}.pdf)\n",
    "\n",
    "{figure_caption}\n",
    ":::\"\"\");\n",
    "        plt.close()\n",
    "\n",
    "    else:\n",
    "        if not os.path.isfile(f'{figures_path}{section_tag}_{analysis_tag}.pdf'):\n",
    "            print(\n",
    "                f'Figure not found at {figures_path}{section_tag}_{analysis_tag}.pdf. Run with regenerate_figure=True to generate.')\n",
    "        else:\n",
    "            print(\n",
    "                f\"\"\"::: {{#fig-{section_tag}_{analysis_tag} layout-valign=\"center\"}}\n",
    "                \n",
    "![]({figures_path}{section_tag}_{analysis_tag}.pdf)\n",
    "\n",
    "{figure_caption}\n",
    ":::\"\"\");\n",
    "    break"
   ]
  },
  {
   "cell_type": "markdown",
   "metadata": {},
   "source": [
    "## Variation: TCE by Serial Position"
   ]
  },
  {
   "cell_type": "code",
   "execution_count": 30,
   "metadata": {},
   "outputs": [],
   "source": [
    "# export\n",
    "#| code-summary: -- specify masked lag-contiguity effect analysis code\n",
    "\n",
    "from compmemlearn.datasets import events_metadata, generate_trial_mask\n",
    "import matplotlib.pyplot as plt\n",
    "from numba import njit\n",
    "import seaborn as sns\n",
    "import pandas as pd\n",
    "import numpy as np\n",
    "\n",
    "@njit(fastmath=True, nogil=True)\n",
    "def masked_crp(trials, item_count, mask):\n",
    "    \n",
    "    lag_range = item_count - 1\n",
    "    total_actual_lags = np.zeros(lag_range * 2 + 1)\n",
    "    total_possible_lags = np.zeros(lag_range * 2 + 1)\n",
    "    terminus = np.sum(trials != 0, axis=1)\n",
    "    \n",
    "    # compute actual serial lag b/t recalls\n",
    "    actual_lags = trials[:, 1:] - trials[:, :-1]\n",
    "    actual_lags += lag_range\n",
    "    \n",
    "    # tabulate bin totals for actual and possible lags\n",
    "    for i in range(len(trials)):\n",
    "        possible_items = np.arange(item_count) + 1\n",
    "        previous_item = 0\n",
    "        \n",
    "        for recall_index in range(terminus[i]):\n",
    "            \n",
    "            # track possible and actual lags\n",
    "            if recall_index > 0 and mask[i, recall_index-1]:\n",
    "                total_actual_lags[actual_lags[i, recall_index-1]] += 1\n",
    "                \n",
    "                # exploit equivalence b/t item index and study position to track possible lags\n",
    "                possible_lags = possible_items - previous_item \n",
    "                possible_lags += lag_range\n",
    "                total_possible_lags[possible_lags] += 1\n",
    "                \n",
    "            # update pool of possible items to exclude recalled item\n",
    "            previous_item = trials[i, recall_index]\n",
    "            possible_items = possible_items[possible_items != previous_item]\n",
    "    \n",
    "    # small correction to avoid nans\n",
    "    total_possible_lags[total_actual_lags==0] += 1\n",
    "    \n",
    "    return total_actual_lags/total_possible_lags"
   ]
  },
  {
   "cell_type": "code",
   "execution_count": 51,
   "metadata": {},
   "outputs": [
    {
     "data": {
      "image/png": "[encoded data removed]",
      "text/plain": [
       "<Figure size 432x288 with 1 Axes>"
      ]
     },
     "metadata": {},
     "output_type": "display_data"
    }
   ],
   "source": [
    "sns.set(style='darkgrid')\n",
    "import warnings\n",
    "warnings.filterwarnings(action='once')\n",
    "\n",
    "#section_tag = 'HealyKahana2014'\n",
    "query = 'task == -1'\n",
    "data_path = \"../../data/HealyKahana2014.csv\"\n",
    "query = 'list_type == \"heavy\"'\n",
    "data_path = \"../../data/CDCATBEH.csv\"\n",
    "query = 'condition == 1'\n",
    "data_path = \"../../data/LohnasKahana2014.csv\"\n",
    "\n",
    "ax = None\n",
    "\n",
    "events = pd.read_csv(data_path)\n",
    "trials = events_metadata(events)[:1][0]\n",
    "lower_mask = np.logical_and(trials[0] < int(np.max(trials[0])/2), trials[0] > 0)\n",
    "upper_mask = trials[0] > int(np.max(trials[0])/2)\n",
    "ax = plot_crp([events], query, labels=['First Half'], axis=ax, mask=lower_mask)[0]\n",
    "ax = plot_crp([events], query, labels=['Second Half'], axis=ax, mask=upper_mask)[0]\n",
    "ax.legend(handles=ax.lines[::4], labels=['First Half', 'Second Half'], bbox_to_anchor=(1.05, 1), loc=2, borderaxespad=0.)\n",
    "plt.show()"
   ]
  },
  {
   "cell_type": "code",
   "execution_count": 43,
   "metadata": {},
   "outputs": [
    {
     "data": {
      "text/plain": [
       "array([15, 16,  9, 13, 14,  1,  2,  0,  0,  0,  0,  0,  0,  0,  0,  0])"
      ]
     },
     "execution_count": 43,
     "metadata": {},
     "output_type": "execute_result"
    }
   ],
   "source": [
    "trials[0][0]"
   ]
  },
  {
   "cell_type": "code",
   "execution_count": 47,
   "metadata": {},
   "outputs": [
    {
     "data": {
      "text/plain": [
       "array([False, False, False, False, False,  True,  True, False, False,\n",
       "       False, False, False, False, False, False, False])"
      ]
     },
     "execution_count": 47,
     "metadata": {},
     "output_type": "execute_result"
    }
   ],
   "source": [
    "lower_mask[0]"
   ]
  }
 ],
 "metadata": {
  "kernelspec": {
   "display_name": "Python 3.9.1 ('base')",
   "language": "python",
   "name": "python3"
  },
  "language_info": {
   "codemirror_mode": {
    "name": "ipython",
    "version": 3
   },
   "file_extension": ".py",
   "mimetype": "text/x-python",
   "name": "python",
   "nbconvert_exporter": "python",
   "pygments_lexer": "ipython3",
   "version": "3.9.1"
  },
  "orig_nbformat": 4,
  "vscode": {
   "interpreter": {
    "hash": "19d1d53a962d236aa061289c2ac16dc8e6d9648c89fe79f459ae9a3493bc67b4"
   }
  }
 },
 "nbformat": 4,
 "nbformat_minor": 2
}

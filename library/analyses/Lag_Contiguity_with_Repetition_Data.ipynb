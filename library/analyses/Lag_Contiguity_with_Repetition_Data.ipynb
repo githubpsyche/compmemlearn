{
 "cells": [
  {
   "cell_type": "code",
   "execution_count": 1,
   "id": "70940512-3bf0-4c9e-a45b-c0c3405f38db",
   "metadata": {},
   "outputs": [],
   "source": [
    "# default_exp analyses"
   ]
  },
  {
   "cell_type": "markdown",
   "id": "9003cc43-cefd-4a12-88ee-3756c87f13d5",
   "metadata": {},
   "source": [
    "# The Lag-Contiguity Effect in Repetition Data\n",
    "The lag-contiguity effect illustrates how episodic associations are graded, exhibiting power-function decay with increasing lag. \n",
    "Recall of an item has a tendency to evoke not only adjacent list items, but other nearby items as well. \n",
    "In addition, episodic associations appear to be a|symmetrical, favoring retrieval of items in the forward order.\n",
    "\n",
    "Here we extend on previous implementations to ensure recall rates are successfully measured and visualized when study lists can include two presentations of study items. "
   ]
  },
  {
   "cell_type": "markdown",
   "id": "5be3b9c1-3f2b-4522-a086-76a4108515e5",
   "metadata": {},
   "source": [
    "## Contrast With Stochastic Approach Demoed in Lohnas & Kahana (2014)\n",
    "\n",
    "> For lists containing repeated spaced items, the lags for such an item is ambiguous. For instance, the transition between an item presented in serial position 5 to an item presented in serial positions 3 and 9 could be considered a lag of −2 or +4. \n",
    "\n",
    "I kind of disagree with the specifics of this framework. The lags are not ambiguous -- we know what they are. Rather, they are numerous, and to account for that we can just track each lag in our analysis.\n",
    "\n",
    "> For any transition with an ambiguous lag (i.e. a transition including a repeated item), we randomly selected the lag value from the set of possible lags. \n",
    "\n",
    "The lag-CRP is a ratio of lag transitions that were made over transitions that could have been made across each output in a dataset. However, for lists containing repeated spaced items, the lags for such an item is numerous. For instance, the transition between an item presented in serial position 5 to an item presented in serial positions 3 and 9 is both a lag of −2 and of +4. In our tally of actual and possible lag transitions, we accordingly count both these values. Relating this approach to the example above, a lag transition of -2 and of +4 is possible (and actual) for the considered output.\n",
    "\n",
    "Randomly selecting the lag value from the set of possible lags for each analysis and aggregating over multiple replicates will (probably) converge to this result. However, that approach is imprecise, nondeterministic, and takes longer to run."
   ]
  },
  {
   "cell_type": "markdown",
   "id": "054922da-a275-42eb-9e07-f9fc3754b90d",
   "metadata": {},
   "source": [
    "## Data Preparation"
   ]
  },
  {
   "cell_type": "code",
   "execution_count": 2,
   "id": "6f9b174c-19b2-43de-b232-717355f82230",
   "metadata": {},
   "outputs": [
    {
     "data": {
      "text/html": [
       "<div>\n",
       "<style scoped>\n",
       "    .dataframe tbody tr th:only-of-type {\n",
       "        vertical-align: middle;\n",
       "    }\n",
       "\n",
       "    .dataframe tbody tr th {\n",
       "        vertical-align: top;\n",
       "    }\n",
       "\n",
       "    .dataframe thead th {\n",
       "        text-align: right;\n",
       "    }\n",
       "</style>\n",
       "<table border=\"1\" class=\"dataframe\">\n",
       "  <thead>\n",
       "    <tr style=\"text-align: right;\">\n",
       "      <th></th>\n",
       "      <th>subject</th>\n",
       "      <th>list</th>\n",
       "      <th>item</th>\n",
       "      <th>input</th>\n",
       "      <th>output</th>\n",
       "      <th>study</th>\n",
       "      <th>recall</th>\n",
       "      <th>repeat</th>\n",
       "      <th>intrusion</th>\n",
       "      <th>condition</th>\n",
       "      <th>first_input</th>\n",
       "    </tr>\n",
       "  </thead>\n",
       "  <tbody>\n",
       "    <tr>\n",
       "      <th>0</th>\n",
       "      <td>1</td>\n",
       "      <td>1</td>\n",
       "      <td>0</td>\n",
       "      <td>1</td>\n",
       "      <td>1.0</td>\n",
       "      <td>True</td>\n",
       "      <td>True</td>\n",
       "      <td>0</td>\n",
       "      <td>False</td>\n",
       "      <td>4</td>\n",
       "      <td>1</td>\n",
       "    </tr>\n",
       "    <tr>\n",
       "      <th>1</th>\n",
       "      <td>1</td>\n",
       "      <td>1</td>\n",
       "      <td>1</td>\n",
       "      <td>2</td>\n",
       "      <td>2.0</td>\n",
       "      <td>True</td>\n",
       "      <td>True</td>\n",
       "      <td>0</td>\n",
       "      <td>False</td>\n",
       "      <td>4</td>\n",
       "      <td>2</td>\n",
       "    </tr>\n",
       "    <tr>\n",
       "      <th>2</th>\n",
       "      <td>1</td>\n",
       "      <td>1</td>\n",
       "      <td>2</td>\n",
       "      <td>3</td>\n",
       "      <td>3.0</td>\n",
       "      <td>True</td>\n",
       "      <td>True</td>\n",
       "      <td>0</td>\n",
       "      <td>False</td>\n",
       "      <td>4</td>\n",
       "      <td>3</td>\n",
       "    </tr>\n",
       "    <tr>\n",
       "      <th>3</th>\n",
       "      <td>1</td>\n",
       "      <td>1</td>\n",
       "      <td>3</td>\n",
       "      <td>4</td>\n",
       "      <td>4.0</td>\n",
       "      <td>True</td>\n",
       "      <td>True</td>\n",
       "      <td>0</td>\n",
       "      <td>False</td>\n",
       "      <td>4</td>\n",
       "      <td>4</td>\n",
       "    </tr>\n",
       "    <tr>\n",
       "      <th>4</th>\n",
       "      <td>1</td>\n",
       "      <td>1</td>\n",
       "      <td>4</td>\n",
       "      <td>5</td>\n",
       "      <td>5.0</td>\n",
       "      <td>True</td>\n",
       "      <td>True</td>\n",
       "      <td>0</td>\n",
       "      <td>False</td>\n",
       "      <td>4</td>\n",
       "      <td>5</td>\n",
       "    </tr>\n",
       "  </tbody>\n",
       "</table>\n",
       "</div>"
      ],
      "text/plain": [
       "   subject  list  item  input  output  study  recall  repeat  intrusion  \\\n",
       "0        1     1     0      1     1.0   True    True       0      False   \n",
       "1        1     1     1      2     2.0   True    True       0      False   \n",
       "2        1     1     2      3     3.0   True    True       0      False   \n",
       "3        1     1     3      4     4.0   True    True       0      False   \n",
       "4        1     1     4      5     5.0   True    True       0      False   \n",
       "\n",
       "   condition  first_input  \n",
       "0          4            1  \n",
       "1          4            2  \n",
       "2          4            3  \n",
       "3          4            4  \n",
       "4          4            5  "
      ]
     },
     "execution_count": 2,
     "metadata": {},
     "output_type": "execute_result"
    }
   ],
   "source": [
    "from compmemlearn.datasets import prepare_lohnas2014_data\n",
    "\n",
    "trials, events, list_length, presentations, list_types, rep_data, subjects = prepare_lohnas2014_data(\n",
    "    '../../data/repFR.mat')\n",
    "\n",
    "events.head()"
   ]
  },
  {
   "cell_type": "markdown",
   "id": "b40dc845-b1cf-42b2-a451-4f5e7c3de26f",
   "metadata": {},
   "source": [
    "## Function\n",
    "That recalled items can have two study positions forces us to complicate the function. Along with the scenario where the current and the previous item have just one relevant serial lag to consider, we must also consider the case where there are two serial lags to consider when either the current item or the previous item had two serial positions. Then there's one more scenario -- when both the the current and the previous item were encountered twice during encoding. This corresponds with four serial lags to consider. \n",
    "\n",
    "How do we weigh these? The approach in the SPC was just to interpret the description of the analysis literally. In the SPC, we tracked the probability of recalling an item given that it was studied at each selected position -- even if it was also studied at some other position. Here, we'll do the same thing, except using lag instead of study position. Extensions of this analysis can exclude items on chosen bases, but this gets us a solid general foundation. \n",
    "\n",
    "To achieve this, we have to change how we track lag lag across trials (in `actual`) so that lags can occur with multiple lags simultaneously.\n",
    "\n",
    "We must also change how we track changes to the `pool` of possible lag lags. This probably requires adding some representation of items that have positions as attributes and are looped across to identify relevant lags. \n",
    "\n",
    "`previous_recall` can identify those items."
   ]
  },
  {
   "cell_type": "code",
   "execution_count": 3,
   "id": "b3f745a0-a64e-412e-826e-a95fb1fa5d4b",
   "metadata": {},
   "outputs": [],
   "source": [
    "from compmemlearn.analyses import recall_by_second_study_position, recall_by_all_study_positions"
   ]
  },
  {
   "cell_type": "code",
   "execution_count": 4,
   "id": "2b38d631-372b-4508-9ec4-1b7a9a2a7dd1",
   "metadata": {},
   "outputs": [],
   "source": [
    "# export\n",
    "\n",
    "from numba import njit\n",
    "from numba import int32\n",
    "import numpy as np\n",
    "from compmemlearn.datasets import find_first\n",
    "\n",
    "\n",
    "@njit(nogil=True)\n",
    "def fast_mixed_crp(trials, presentations):\n",
    "    \n",
    "    list_length = len(presentations[0])\n",
    "    lag_range = list_length - 1\n",
    "    total_actual_lags = np.zeros(lag_range * 2 + 1)\n",
    "    total_possible_lags = np.zeros(lag_range * 2 + 1)\n",
    "    terminus = np.sum(trials != 0, axis=1) # number of recalls per trial\n",
    "    \n",
    "    # compute actual serial lag b/t recalls, considering all possible positions\n",
    "    alt_presentations = np.fliplr(presentations)\n",
    "    alt_trials = recall_by_second_study_position(trials, presentations)\n",
    "    actual_lags = np.zeros((4, len(trials), len(trials[0])-1), dtype=int32)\n",
    "    actual_lags[0] = trials[:, 1:] - trials[:, :-1]\n",
    "    actual_lags[1] = trials[:, 1:] - alt_trials[:, :-1]\n",
    "    actual_lags[2] = alt_trials[:, 1:] - trials[:, :-1]\n",
    "    actual_lags[3] = alt_trials[:, 1:] - alt_trials[:, :-1]\n",
    "    \n",
    "    # if actual[0, x, y] == actual[2, x, y] (or 1, 3) then lagged-to item has 1 presentation\n",
    "    # if actual[0, x, y] == actual[1, x, y] (or 2, 3 respectively) then lagged-from item has 1 pres\n",
    "    # avoid counting single presentations twice by giving those lags a value of 0\n",
    "    previous_item_equivalence = actual_lags[0] == actual_lags[2]\n",
    "    current_item_equivalence = actual_lags[0] == actual_lags[1]\n",
    "    either_item_equivalence = np.logical_or(previous_item_equivalence, current_item_equivalence)\n",
    "\n",
    "    for i in range(len(actual_lags[0])):\n",
    "        actual_lags[1, i][current_item_equivalence[i]] = 0\n",
    "        actual_lags[2, i][previous_item_equivalence[i]] = 0\n",
    "        actual_lags[3, i][either_item_equivalence[i]] = 0\n",
    "        \n",
    "    # we add lag_range to have result identify indices in total_ to bin counts\n",
    "    actual_lags += lag_range\n",
    "    \n",
    "    for trial_index in range(len(trials)):\n",
    "        \n",
    "        previous_item = 0\n",
    "        item_count = np.max(presentations[trial_index]) + 1\n",
    "        possible_items = np.arange(item_count) # initial pool of possible recalls, 1-indexed\n",
    "        possible_positions = np.zeros((item_count, 2))\n",
    "        \n",
    "        # we track possible positions using presentations and alt_presentations\n",
    "        for item in range(item_count):\n",
    "            possible_positions[item, 0] = find_first(item, presentations[trial_index])\n",
    "            possible_positions[item, 1] = list_length - find_first(item, alt_presentations[trial_index]) -1\n",
    "        \n",
    "        for recall_index in range(terminus[trial_index]):\n",
    "            \n",
    "            # track possible and actual lags\n",
    "            if recall_index > 0:\n",
    "\n",
    "                # we add to actual_lags total for each lag transition made for this recall\n",
    "                total_actual_lags[actual_lags[:, trial_index, recall_index-1]] += 1\n",
    "                \n",
    "                # item indices don't help track lags anymore\n",
    "                # so more complex calculation needed to identify possible lags given previous item\n",
    "                possible_lags = np.zeros((4, len(possible_items)), dtype=int32)\n",
    "                possible_lags[0] = possible_positions[possible_items, 0] - possible_positions[previous_item, 0]\n",
    "                possible_lags[1] = possible_positions[possible_items, 0] - possible_positions[previous_item, 1]\n",
    "                possible_lags[2] = possible_positions[possible_items, 1] - possible_positions[previous_item, 0]\n",
    "                possible_lags[3] = possible_positions[possible_items, 1] - possible_positions[previous_item, 1]\n",
    "                \n",
    "                # avoid redundant counting of single presentations\n",
    "                previous_item_equivalence = possible_lags[0] == possible_lags[2]\n",
    "                current_item_equivalence = possible_lags[0] == possible_lags[1]\n",
    "                either_item_equivalence = np.logical_or(previous_item_equivalence, current_item_equivalence)\n",
    "                possible_lags[1][current_item_equivalence] = 0\n",
    "                possible_lags[2][previous_item_equivalence] = 0\n",
    "                possible_lags[3][either_item_equivalence] = 0\n",
    "    \n",
    "                possible_lags += lag_range\n",
    "                total_possible_lags[possible_lags.flatten()] += 1\n",
    "                \n",
    "            # update pool to exclude recalled item (updated to still identify 1-indexed item)\n",
    "            previous_item = presentations[trial_index][trials[trial_index, recall_index]-1]\n",
    "            possible_items = possible_items[possible_items != previous_item]\n",
    "    \n",
    "    # small correction to avoid nans and commit to excluding multiply-tracked single presentations \n",
    "    total_actual_lags[lag_range] = 0\n",
    "    total_possible_lags[total_actual_lags==0] += 1\n",
    "    \n",
    "    return total_actual_lags/total_possible_lags"
   ]
  },
  {
   "cell_type": "code",
   "execution_count": 5,
   "id": "733d7691-09bf-438a-ac29-fc025792706d",
   "metadata": {},
   "outputs": [],
   "source": [
    "# export\n",
    "\n",
    "@njit(nogil=True)\n",
    "def flex_mixed_crp(trials, presentations, max_repeats=2):\n",
    "    \n",
    "    list_length = len(presentations[0])\n",
    "    lag_range = list_length - 1\n",
    "    total_actual_lags = np.zeros(lag_range * 2 + 1)\n",
    "    total_possible_lags = np.zeros(lag_range * 2 + 1)\n",
    "    terminus = np.sum(trials != 0, axis=1) # number of recalls per trial\n",
    "    recall_by_study_position = recall_by_all_study_positions(trials, presentations, max_repeats)\n",
    "    \n",
    "    for trial_index in range(len(trials)):\n",
    "        \n",
    "        previous_item = 0\n",
    "        item_count = np.max(presentations[trial_index]) + 1\n",
    "        possible_items = np.arange(item_count) # initial pool of possible recalls, 1-indexed\n",
    "        possible_positions = np.zeros((item_count, max_repeats), dtype=int32)\n",
    "        \n",
    "        # we track possible positions using presentations and alt_presentations\n",
    "        for item in range(item_count):\n",
    "            pos = np.nonzero(presentations[trial_index] == item)[0] + 1\n",
    "            possible_positions[item, :len(pos)] = pos\n",
    "            \n",
    "        for recall_index in range(terminus[trial_index]):\n",
    "            \n",
    "            current_item = presentations[trial_index][trials[trial_index, recall_index]-1]\n",
    "            \n",
    "            # track possible and actual lags\n",
    "            if recall_index > 0:\n",
    "                \n",
    "                # item indices don't help track lags anymore\n",
    "                # so more complex calculation needed to identify possible lags given previous item\n",
    "                current_index = np.nonzero(possible_items==current_item)[0]\n",
    "                possible_lags = np.zeros((len(recall_by_study_position) ** 2, len(possible_items)), dtype=int32)\n",
    "\n",
    "                index = 0\n",
    "                for x in range(len(recall_by_study_position)):\n",
    "                    for y in range(len(recall_by_study_position)):\n",
    "                        if possible_positions[previous_item, y] > 0:\n",
    "                        \n",
    "                            possible_lags[index] = possible_positions[\n",
    "                                possible_items, x] - possible_positions[previous_item, y]\n",
    "                            \n",
    "                            # if tracked position is 0, then we don't actually want to count it in our lags\n",
    "                            possible_lags[index][possible_positions[possible_items, x] == 0] = 0\n",
    "                        \n",
    "                        index += 1\n",
    "\n",
    "                possible_lags += lag_range\n",
    "                total_actual_lags[possible_lags[:, current_index].flatten()] += 1\n",
    "                total_possible_lags[possible_lags.flatten()] += 1\n",
    "                        \n",
    "\n",
    "            # update pool to exclude recalled item (updated to still identify 1-indexed item)\n",
    "            previous_item = current_item\n",
    "            possible_items = possible_items[possible_items != previous_item]\n",
    "                    \n",
    "    # small correction to avoid nans and commit to excluding multiply-tracked single presentations \n",
    "    total_actual_lags[lag_range] = 0\n",
    "    total_possible_lags[total_actual_lags==0] += 1\n",
    "    \n",
    "    return total_actual_lags/total_possible_lags"
   ]
  },
  {
   "cell_type": "code",
   "execution_count": 14,
   "id": "9da3afb2",
   "metadata": {},
   "outputs": [],
   "source": [
    "# export\n",
    "\n",
    "import pandas as pd\n",
    "import seaborn as sns\n",
    "import matplotlib.pyplot as plt\n",
    "from compmemlearn.datasets import events_metadata, generate_trial_mask\n",
    "\n",
    "\n",
    "def plot_flex_crp(data, trial_query, contrast_name='', labels=None, axis=None, max_lag=5):\n",
    "\n",
    "    if axis is None:\n",
    "        plt.figure()\n",
    "        axis = plt.gca()\n",
    "\n",
    "    if labels is None:\n",
    "        labels = [''] * len(data)\n",
    "\n",
    "    result = []\n",
    "    for data_index, events in enumerate(data):\n",
    "\n",
    "        # generate and subset trials array and list of list_lengths based on trial_query\n",
    "        trials, list_lengths, presentations = events_metadata(events)\n",
    "        trial_mask = generate_trial_mask(events, trial_query)\n",
    "        chose = [i for i in range(len(trial_mask)) if np.sum(trial_mask[i]) != 0]\n",
    "        assert(len(chose) == 1)\n",
    "        chose = chose[0]\n",
    "        trials = trials[chose]\n",
    "        list_length = list_lengths[chose]\n",
    "        presentations = presentations[chose]\n",
    "        trial_mask = trial_mask[chose]\n",
    "\n",
    "        lag_interval = np.arange(-max_lag, max_lag+1)\n",
    "        lag_range = list_length -1\n",
    "        for subject in pd.unique(events.subject):\n",
    "            subject_specific_trial_mask = np.logical_and(\n",
    "                generate_trial_mask(events, f\"subject == {subject}\")[chose], trial_mask\n",
    "            )\n",
    "\n",
    "            if np.sum(subject_specific_trial_mask) == 0:\n",
    "                continue\n",
    "\n",
    "            res = flex_mixed_crp(trials[subject_specific_trial_mask], presentations[subject_specific_trial_mask])\n",
    "            res[lag_range] = np.nan\n",
    "            result.append(pd.DataFrame.from_dict(\n",
    "                {\n",
    "                    \"subject\": subject,\n",
    "                    \"lag\": lag_interval,\n",
    "                    \"prob\": res[lag_range-max_lag:lag_range+max_lag+1],\n",
    "                    contrast_name: labels[data_index],\n",
    "                }\n",
    "            ))\n",
    "\n",
    "    result = pd.concat(result).reset_index()\n",
    "\n",
    "    color = None if len(data) == 1 else 'blue'\n",
    "    filt_neg = f'{-max_lag} <= lag < 0'\n",
    "    filt_pos = f'0 < lag <= {max_lag}'\n",
    "\n",
    "    sns.lineplot(ax=axis, data=result.query(filt_neg), x='lag', y='prob', \n",
    "                err_style='bars', hue=contrast_name, legend=False, color=color)\n",
    "    sns.lineplot(ax=axis, data=result.query(filt_pos), x='lag', y='prob', \n",
    "                err_style='bars', hue=contrast_name, color=color)\n",
    "    axis.set(xlabel='Item\\'s Lag In Study List From Last Recalled Item', ylabel='Conditional Recall Rate')\n",
    "    axis.set_xticks(np.arange(-max_lag, max_lag+1, 1))\n",
    "    axis.set_ylim((0, 1))\n",
    "\n",
    "    if contrast_name:\n",
    "        axis.legend(bbox_to_anchor=(1.05, 1), loc=2, borderaxespad=0.)\n",
    "\n",
    "    return axis"
   ]
  },
  {
   "cell_type": "markdown",
   "id": "cc93af93-689f-4843-b3e5-cad8f1f0b715",
   "metadata": {},
   "source": [
    "## Demo"
   ]
  },
  {
   "cell_type": "markdown",
   "id": "1e8d955c-f04b-4d56-8364-f2f8569b0529",
   "metadata": {},
   "source": [
    "### Comparison With Regular `fast_csp` Using Control Lists"
   ]
  },
  {
   "cell_type": "code",
   "execution_count": 7,
   "id": "ac4a2b42-d7f2-48d2-b422-e60d2e07ca05",
   "metadata": {},
   "outputs": [
    {
     "data": {
      "text/plain": [
       "array([ True,  True,  True,  True,  True,  True,  True,  True,  True,\n",
       "        True,  True,  True,  True,  True,  True,  True,  True,  True,\n",
       "        True,  True,  True,  True,  True,  True,  True,  True,  True,\n",
       "        True,  True,  True,  True,  True,  True,  True,  True,  True,\n",
       "        True,  True,  True,  True,  True,  True,  True,  True,  True,\n",
       "        True,  True,  True,  True,  True,  True,  True,  True,  True,\n",
       "        True,  True,  True,  True,  True,  True,  True,  True,  True,\n",
       "        True,  True,  True,  True,  True,  True,  True,  True,  True,\n",
       "        True,  True,  True,  True,  True,  True,  True])"
      ]
     },
     "execution_count": 7,
     "metadata": {},
     "output_type": "execute_result"
    }
   ],
   "source": [
    "from compmemlearn.analyses import fast_crp\n",
    "\n",
    "fast_crp(trials[list_types==1], 40) == fast_mixed_crp(trials[list_types==1], presentations[list_types==1])"
   ]
  },
  {
   "cell_type": "code",
   "execution_count": 8,
   "id": "73c4b4fc-ca77-4492-b562-f9b98728e4c9",
   "metadata": {},
   "outputs": [
    {
     "name": "stdout",
     "output_type": "stream",
     "text": [
      "16.2 ms ± 1.16 ms per loop (mean ± std. dev. of 7 runs, 100 loops each)\n"
     ]
    }
   ],
   "source": [
    "%timeit fast_mixed_crp(trials[list_types==1], presentations[list_types==1])"
   ]
  },
  {
   "cell_type": "code",
   "execution_count": 9,
   "id": "257e1463-6c93-400d-ad41-36bdb7657c1d",
   "metadata": {},
   "outputs": [
    {
     "name": "stdout",
     "output_type": "stream",
     "text": [
      "3.84 ms ± 366 µs per loop (mean ± std. dev. of 7 runs, 100 loops each)\n"
     ]
    }
   ],
   "source": [
    "%timeit fast_crp(trials[list_types==1], 40)"
   ]
  },
  {
   "cell_type": "code",
   "execution_count": 10,
   "id": "b2f6f12e-3eb8-4d85-bc60-3779f15e2914",
   "metadata": {},
   "outputs": [
    {
     "name": "stdout",
     "output_type": "stream",
     "text": [
      "21.2 ms ± 568 µs per loop (mean ± std. dev. of 7 runs, 1 loop each)\n"
     ]
    }
   ],
   "source": [
    "%timeit flex_mixed_crp(trials[list_types==1], presentations[list_types==1])"
   ]
  },
  {
   "cell_type": "code",
   "execution_count": 11,
   "id": "ef987348",
   "metadata": {},
   "outputs": [
    {
     "data": {
      "text/plain": [
       "array([ True,  True,  True,  True,  True,  True,  True,  True,  True,\n",
       "        True,  True,  True,  True,  True,  True,  True,  True,  True,\n",
       "        True,  True,  True,  True,  True,  True,  True,  True,  True,\n",
       "        True,  True,  True,  True,  True,  True,  True,  True,  True,\n",
       "        True,  True,  True,  True,  True,  True,  True,  True,  True,\n",
       "        True,  True,  True,  True,  True,  True,  True,  True,  True,\n",
       "        True,  True,  True,  True,  True,  True,  True,  True,  True,\n",
       "        True,  True,  True,  True,  True,  True,  True,  True,  True,\n",
       "        True,  True,  True,  True,  True,  True,  True])"
      ]
     },
     "execution_count": 11,
     "metadata": {},
     "output_type": "execute_result"
    }
   ],
   "source": [
    "condition = 2\n",
    "flex_mixed_crp(trials[list_types==condition], presentations[list_types==condition]) == fast_mixed_crp(trials[list_types==condition], presentations[list_types==condition])"
   ]
  },
  {
   "cell_type": "code",
   "execution_count": 12,
   "id": "aaa9c236",
   "metadata": {},
   "outputs": [
    {
     "data": {
      "text/plain": [
       "array([0.09734513, 0.09734513, 0.08050847, 0.03524229, 0.07859079,\n",
       "       0.06069364, 0.07889546, 0.04103672, 0.07066052, 0.04576271,\n",
       "       0.0675    , 0.03797468, 0.06659619, 0.0430622 , 0.06927985,\n",
       "       0.04149378, 0.06634692, 0.03959484, 0.07814761, 0.05421184,\n",
       "       0.07388205, 0.0365399 , 0.07008245, 0.04771643, 0.07374794,\n",
       "       0.04123711, 0.07455919, 0.04955752, 0.08138447, 0.04997224,\n",
       "       0.10052219, 0.07283058, 0.12862903, 0.08734053, 0.15616847,\n",
       "       0.11147086, 0.2562797 , 0.22041166, 0.22041166, 0.        ,\n",
       "       0.37571904, 0.37571904, 0.44655217, 0.15265082, 0.21569156,\n",
       "       0.09525327, 0.13295129, 0.05563048, 0.08708892, 0.04302987,\n",
       "       0.06751055, 0.03291714, 0.06004859, 0.03445513, 0.05810511,\n",
       "       0.03073593, 0.0457097 , 0.02016886, 0.0389948 , 0.02401635,\n",
       "       0.04015116, 0.02137233, 0.03856175, 0.02242991, 0.04186047,\n",
       "       0.02533427, 0.04123037, 0.02163462, 0.03889304, 0.02321263,\n",
       "       0.03836094, 0.02146893, 0.03552207, 0.02028986, 0.03163686,\n",
       "       0.01859504, 0.03180915, 0.02755906, 0.02755906])"
      ]
     },
     "execution_count": 12,
     "metadata": {},
     "output_type": "execute_result"
    }
   ],
   "source": [
    "flex_mixed_crp(trials[list_types==condition], presentations[list_types==condition])"
   ]
  },
  {
   "cell_type": "code",
   "execution_count": 15,
   "id": "27258a5d",
   "metadata": {},
   "outputs": [
    {
     "data": {
      "image/png": "[encoded data removed]",
      "text/plain": [
       "<Figure size 432x288 with 1 Axes>"
      ]
     },
     "metadata": {
      "needs_background": "light"
     },
     "output_type": "display_data"
    }
   ],
   "source": [
    "import matplotlib.pyplot as plt\n",
    "\n",
    "plt.figure()\n",
    "axis = plt.gca()\n",
    "plot_flex_crp([events], 'condition == 2', axis=axis);"
   ]
  },
  {
   "cell_type": "code",
   "execution_count": null,
   "id": "ccdb9acd",
   "metadata": {},
   "outputs": [
    {
     "data": {
      "text/plain": [
       "array([0.09734513, 0.09734513, 0.08050847, 0.03524229, 0.07859079,\n",
       "       0.06069364, 0.07889546, 0.04103672, 0.07066052, 0.04576271,\n",
       "       0.0675    , 0.03797468, 0.06659619, 0.0430622 , 0.06927985,\n",
       "       0.04149378, 0.06634692, 0.03959484, 0.07814761, 0.05421184,\n",
       "       0.07388205, 0.0365399 , 0.07008245, 0.04771643, 0.07374794,\n",
       "       0.04123711, 0.07455919, 0.04955752, 0.08138447, 0.04997224,\n",
       "       0.10052219, 0.07283058, 0.12862903, 0.08734053, 0.15616847,\n",
       "       0.11147086, 0.2562797 , 0.22041166, 0.22041166, 0.        ,\n",
       "       0.37571904, 0.37571904, 0.44655217, 0.15265082, 0.21569156,\n",
       "       0.09525327, 0.13295129, 0.05563048, 0.08708892, 0.04302987,\n",
       "       0.06751055, 0.03291714, 0.06004859, 0.03445513, 0.05810511,\n",
       "       0.03073593, 0.0457097 , 0.02016886, 0.0389948 , 0.02401635,\n",
       "       0.04015116, 0.02137233, 0.03856175, 0.02242991, 0.04186047,\n",
       "       0.02533427, 0.04123037, 0.02163462, 0.03889304, 0.02321263,\n",
       "       0.03836094, 0.02146893, 0.03552207, 0.02028986, 0.03163686,\n",
       "       0.01859504, 0.03180915, 0.02755906, 0.02755906])"
      ]
     },
     "execution_count": 30,
     "metadata": {},
     "output_type": "execute_result"
    }
   ],
   "source": [
    "fast_mixed_crp(trials[list_types==condition], presentations[list_types==condition])"
   ]
  },
  {
   "cell_type": "code",
   "execution_count": null,
   "id": "6d01b68f-e98b-4a60-b643-9783d8f0f4e9",
   "metadata": {},
   "outputs": [
    {
     "data": {
      "text/plain": [
       "<matplotlib.legend.Legend at 0x22e76822a00>"
      ]
     },
     "execution_count": 17,
     "metadata": {},
     "output_type": "execute_result"
    },
    {
     "data": {
      "image/png": "[encoded data removed]",
      "text/plain": [
       "<Figure size 432x288 with 1 Axes>"
      ]
     },
     "metadata": {
      "needs_background": "light"
     },
     "output_type": "display_data"
    }
   ],
   "source": [
    "import matplotlib.pyplot as plt\n",
    "\n",
    "for condition in range(4):\n",
    "    test_crp= fast_mixed_crp(trials[list_types==condition+1], presentations[list_types==condition+1])\n",
    "    test_crp[len(presentations[0])-1] = np.nan\n",
    "    plt.plot(np.arange(len(test_crp)), test_crp, label=str(condition+1))\n",
    "    plt.xticks(np.arange(0, len(test_crp), 4), np.arange(0, len(test_crp), 4) - 39)\n",
    "    \n",
    "plt.legend()"
   ]
  },
  {
   "cell_type": "code",
   "execution_count": null,
   "id": "5804a9ab-0ae6-4f5e-a077-b2cd8238c2e7",
   "metadata": {},
   "outputs": [
    {
     "data": {
      "text/plain": [
       "<matplotlib.legend.Legend at 0x22e783966d0>"
      ]
     },
     "execution_count": 18,
     "metadata": {},
     "output_type": "execute_result"
    },
    {
     "data": {
      "image/png": "[encoded data removed]",
      "text/plain": [
       "<Figure size 432x288 with 1 Axes>"
      ]
     },
     "metadata": {
      "needs_background": "light"
     },
     "output_type": "display_data"
    }
   ],
   "source": [
    "import matplotlib.pyplot as plt\n",
    "\n",
    "for condition in range(4):\n",
    "    test_crp= flex_mixed_crp(trials[list_types==condition+1], presentations[list_types==condition+1])\n",
    "    test_crp[len(presentations[0])-1] = np.nan\n",
    "    plt.plot(np.arange(len(test_crp)), test_crp, label=str(condition+1))\n",
    "    plt.xticks(np.arange(0, len(test_crp), 4), np.arange(0, len(test_crp), 4) - 39)\n",
    "    \n",
    "plt.legend()"
   ]
  },
  {
   "cell_type": "code",
   "execution_count": null,
   "id": "1ce73f90",
   "metadata": {},
   "outputs": [],
   "source": []
  }
 ],
 "metadata": {
  "kernelspec": {
   "display_name": "Python 3.9.1 ('base')",
   "language": "python",
   "name": "python3"
  },
  "language_info": {
   "codemirror_mode": {
    "name": "ipython",
    "version": 3
   },
   "file_extension": ".py",
   "mimetype": "text/x-python",
   "name": "python",
   "nbconvert_exporter": "python",
   "pygments_lexer": "ipython3",
   "version": "3.9.1"
  },
  "vscode": {
   "interpreter": {
    "hash": "19d1d53a962d236aa061289c2ac16dc8e6d9648c89fe79f459ae9a3493bc67b4"
   }
  }
 },
 "nbformat": 4,
 "nbformat_minor": 5
}

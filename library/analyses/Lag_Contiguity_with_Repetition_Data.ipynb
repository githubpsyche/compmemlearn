{
 "cells": [
  {
   "cell_type": "code",
   "execution_count": null,
   "id": "70940512-3bf0-4c9e-a45b-c0c3405f38db",
   "metadata": {},
   "outputs": [],
   "source": [
    "# default_exp analyses"
   ]
  },
  {
   "cell_type": "markdown",
   "id": "9003cc43-cefd-4a12-88ee-3756c87f13d5",
   "metadata": {},
   "source": [
    "# The Lag-Contiguity Effect in Repetition Data\n",
    "The lag-contiguity effect illustrates how episodic associations are graded, exhibiting power-function decay with increasing lag. \n",
    "Recall of an item has a tendency to evoke not only adjacent list items, but other nearby items as well. \n",
    "In addition, episodic associations appear to be a|symmetrical, favoring retrieval of items in the forward order.\n",
    "\n",
    "Here we extend on previous implementations to ensure recall rates are successfully measured and visualized when study lists can include two presentations of study items. "
   ]
  },
  {
   "cell_type": "markdown",
   "id": "5be3b9c1-3f2b-4522-a086-76a4108515e5",
   "metadata": {},
   "source": [
    "## Contrast With Stochastic Approach Demoed in Lohnas & Kahana (2014)\n",
    "\n",
    "> For lists containing repeated spaced items, the lags for such an item is ambiguous. For instance, the transition between an item presented in serial position 5 to an item presented in serial positions 3 and 9 could be considered a lag of −2 or +4. \n",
    "\n",
    "I kind of disagree with the specifics of this framework. The lags are not ambiguous -- we know what they are. Rather, they are numerous, and to account for that we can just track each lag in our analysis.\n",
    "\n",
    "> For any transition with an ambiguous lag (i.e. a transition including a repeated item), we randomly selected the lag value from the set of possible lags. \n",
    "\n",
    "The lag-CRP is a ratio of lag transitions that were made over transitions that could have been made across each output in a dataset. However, for lists containing repeated spaced items, the lags for such an item is numerous. For instance, the transition between an item presented in serial position 5 to an item presented in serial positions 3 and 9 is both a lag of −2 and of +4. In our tally of actual and possible lag transitions, we accordingly count both these values. Relating this approach to the example above, a lag transition of -2 and of +4 is possible (and actual) for the considered output.\n",
    "\n",
    "Randomly selecting the lag value from the set of possible lags for each analysis and aggregating over multiple replicates will (probably) converge to this result. However, that approach is imprecise, nondeterministic, and takes longer to run."
   ]
  },
  {
   "cell_type": "markdown",
   "id": "054922da-a275-42eb-9e07-f9fc3754b90d",
   "metadata": {},
   "source": [
    "## Data Preparation"
   ]
  },
  {
   "cell_type": "code",
   "execution_count": null,
   "id": "6f9b174c-19b2-43de-b232-717355f82230",
   "metadata": {},
   "outputs": [
    {
     "data": {
      "text/html": [
       "<div>\n",
       "<style scoped>\n",
       "    .dataframe tbody tr th:only-of-type {\n",
       "        vertical-align: middle;\n",
       "    }\n",
       "\n",
       "    .dataframe tbody tr th {\n",
       "        vertical-align: top;\n",
       "    }\n",
       "\n",
       "    .dataframe thead th {\n",
       "        text-align: right;\n",
       "    }\n",
       "</style>\n",
       "<table border=\"1\" class=\"dataframe\">\n",
       "  <thead>\n",
       "    <tr style=\"text-align: right;\">\n",
       "      <th></th>\n",
       "      <th>subject</th>\n",
       "      <th>list</th>\n",
       "      <th>item</th>\n",
       "      <th>input</th>\n",
       "      <th>output</th>\n",
       "      <th>study</th>\n",
       "      <th>recall</th>\n",
       "      <th>repeat</th>\n",
       "      <th>intrusion</th>\n",
       "      <th>condition</th>\n",
       "    </tr>\n",
       "  </thead>\n",
       "  <tbody>\n",
       "    <tr>\n",
       "      <th>0</th>\n",
       "      <td>1</td>\n",
       "      <td>1</td>\n",
       "      <td>0</td>\n",
       "      <td>1</td>\n",
       "      <td>1.0</td>\n",
       "      <td>True</td>\n",
       "      <td>True</td>\n",
       "      <td>0</td>\n",
       "      <td>False</td>\n",
       "      <td>4</td>\n",
       "    </tr>\n",
       "    <tr>\n",
       "      <th>1</th>\n",
       "      <td>1</td>\n",
       "      <td>1</td>\n",
       "      <td>1</td>\n",
       "      <td>2</td>\n",
       "      <td>2.0</td>\n",
       "      <td>True</td>\n",
       "      <td>True</td>\n",
       "      <td>0</td>\n",
       "      <td>False</td>\n",
       "      <td>4</td>\n",
       "    </tr>\n",
       "    <tr>\n",
       "      <th>2</th>\n",
       "      <td>1</td>\n",
       "      <td>1</td>\n",
       "      <td>2</td>\n",
       "      <td>3</td>\n",
       "      <td>3.0</td>\n",
       "      <td>True</td>\n",
       "      <td>True</td>\n",
       "      <td>0</td>\n",
       "      <td>False</td>\n",
       "      <td>4</td>\n",
       "    </tr>\n",
       "    <tr>\n",
       "      <th>3</th>\n",
       "      <td>1</td>\n",
       "      <td>1</td>\n",
       "      <td>3</td>\n",
       "      <td>4</td>\n",
       "      <td>4.0</td>\n",
       "      <td>True</td>\n",
       "      <td>True</td>\n",
       "      <td>0</td>\n",
       "      <td>False</td>\n",
       "      <td>4</td>\n",
       "    </tr>\n",
       "    <tr>\n",
       "      <th>4</th>\n",
       "      <td>1</td>\n",
       "      <td>1</td>\n",
       "      <td>4</td>\n",
       "      <td>5</td>\n",
       "      <td>5.0</td>\n",
       "      <td>True</td>\n",
       "      <td>True</td>\n",
       "      <td>0</td>\n",
       "      <td>False</td>\n",
       "      <td>4</td>\n",
       "    </tr>\n",
       "  </tbody>\n",
       "</table>\n",
       "</div>"
      ],
      "text/plain": [
       "   subject  list  item  input  output  study  recall  repeat  intrusion  \\\n",
       "0        1     1     0      1     1.0   True    True       0      False   \n",
       "1        1     1     1      2     2.0   True    True       0      False   \n",
       "2        1     1     2      3     3.0   True    True       0      False   \n",
       "3        1     1     3      4     4.0   True    True       0      False   \n",
       "4        1     1     4      5     5.0   True    True       0      False   \n",
       "\n",
       "   condition  \n",
       "0          4  \n",
       "1          4  \n",
       "2          4  \n",
       "3          4  \n",
       "4          4  "
      ]
     },
     "execution_count": null,
     "metadata": {},
     "output_type": "execute_result"
    }
   ],
   "source": [
    "from compmemlearn.datasets import prepare_lohnas2014_data\n",
    "\n",
    "trials, events, list_length, presentations, list_types, rep_data, subjects = prepare_lohnas2014_data(\n",
    "    '../../data/repFR.mat')\n",
    "\n",
    "events.head()"
   ]
  },
  {
   "cell_type": "markdown",
   "id": "b40dc845-b1cf-42b2-a451-4f5e7c3de26f",
   "metadata": {},
   "source": [
    "## Function\n",
    "That recalled items can have two study positions forces us to complicate the function. Along with the scenario where the current and the previous item have just one relevant serial lag to consider, we must also consider the case where there are two serial lags to consider when either the current item or the previous item had two serial positions. Then there's one more scenario -- when both the the current and the previous item were encountered twice during encoding. This corresponds with four serial lags to consider. \n",
    "\n",
    "How do we weigh these? The approach in the SPC was just to interpret the description of the analysis literally. In the SPC, we tracked the probability of recalling an item given that it was studied at each selected position -- even if it was also studied at some other position. Here, we'll do the same thing, except using lag instead of study position. Extensions of this analysis can exclude items on chosen bases, but this gets us a solid general foundation. \n",
    "\n",
    "To achieve this, we have to change how we track lag lag across trials (in `actual`) so that lags can occur with multiple lags simultaneously.\n",
    "\n",
    "We must also change how we track changes to the `pool` of possible lag lags. This probably requires adding some representation of items that have positions as attributes and are looped across to identify relevant lags. \n",
    "\n",
    "`previous_recall` can identify those items."
   ]
  },
  {
   "cell_type": "code",
   "execution_count": null,
   "id": "b3f745a0-a64e-412e-826e-a95fb1fa5d4b",
   "metadata": {},
   "outputs": [],
   "source": [
    "from compmemlearn.analyses import recall_by_second_study_position, recall_by_all_study_positions"
   ]
  },
  {
   "cell_type": "code",
   "execution_count": null,
   "id": "2b38d631-372b-4508-9ec4-1b7a9a2a7dd1",
   "metadata": {},
   "outputs": [],
   "source": [
    "# export\n",
    "\n",
    "from numba import njit\n",
    "from numba import int32\n",
    "import numpy as np\n",
    "from compmemlearn.datasets import find_first\n",
    "\n",
    "\n",
    "@njit(nogil=True)\n",
    "def fast_mixed_crp(trials, presentations):\n",
    "    \n",
    "    list_length = len(presentations[0])\n",
    "    lag_range = list_length - 1\n",
    "    total_actual_lags = np.zeros(lag_range * 2 + 1)\n",
    "    total_possible_lags = np.zeros(lag_range * 2 + 1)\n",
    "    terminus = np.sum(trials != 0, axis=1) # number of recalls per trial\n",
    "    \n",
    "    # compute actual serial lag b/t recalls, considering all possible positions\n",
    "    alt_presentations = np.fliplr(presentations)\n",
    "    alt_trials = recall_by_second_study_position(trials, presentations)\n",
    "    actual_lags = np.zeros((4, len(trials), len(trials[0])-1), dtype=int32)\n",
    "    actual_lags[0] = trials[:, 1:] - trials[:, :-1]\n",
    "    actual_lags[1] = trials[:, 1:] - alt_trials[:, :-1]\n",
    "    actual_lags[2] = alt_trials[:, 1:] - trials[:, :-1]\n",
    "    actual_lags[3] = alt_trials[:, 1:] - alt_trials[:, :-1]\n",
    "    \n",
    "    # if actual[0, x, y] == actual[2, x, y] (or 1, 3) then lagged-to item has 1 presentation\n",
    "    # if actual[0, x, y] == actual[1, x, y] (or 2, 3 respectively) then lagged-from item has 1 pres\n",
    "    # avoid counting single presentations twice by giving those lags a value of 0\n",
    "    previous_item_equivalence = actual_lags[0] == actual_lags[2]\n",
    "    current_item_equivalence = actual_lags[0] == actual_lags[1]\n",
    "    either_item_equivalence = np.logical_or(previous_item_equivalence, current_item_equivalence)\n",
    "\n",
    "    for i in range(len(actual_lags[0])):\n",
    "        actual_lags[1, i][current_item_equivalence[i]] = 0\n",
    "        actual_lags[2, i][previous_item_equivalence[i]] = 0\n",
    "        actual_lags[3, i][either_item_equivalence[i]] = 0\n",
    "        \n",
    "    # we add lag_range to have result identify indices in total_ to bin counts\n",
    "    actual_lags += lag_range\n",
    "    \n",
    "    for trial_index in range(len(trials)):\n",
    "        \n",
    "        previous_item = 0\n",
    "        item_count = np.max(presentations[trial_index]) + 1\n",
    "        possible_items = np.arange(item_count) # initial pool of possible recalls, 1-indexed\n",
    "        possible_positions = np.zeros((item_count, 2))\n",
    "        \n",
    "        # we track possible positions using presentations and alt_presentations\n",
    "        for item in range(item_count):\n",
    "            possible_positions[item, 0] = find_first(item, presentations[trial_index])\n",
    "            possible_positions[item, 1] = list_length - find_first(item, alt_presentations[trial_index]) -1\n",
    "        \n",
    "        for recall_index in range(terminus[trial_index]):\n",
    "            \n",
    "            # track possible and actual lags\n",
    "            if recall_index > 0:\n",
    "\n",
    "                # we add to actual_lags total for each lag transition made for this recall\n",
    "                total_actual_lags[actual_lags[:, trial_index, recall_index-1]] += 1\n",
    "                \n",
    "                # item indices don't help track lags anymore\n",
    "                # so more complex calculation needed to identify possible lags given previous item\n",
    "                possible_lags = np.zeros((4, len(possible_items)), dtype=int32)\n",
    "                possible_lags[0] = possible_positions[possible_items, 0] - possible_positions[previous_item, 0]\n",
    "                possible_lags[1] = possible_positions[possible_items, 0] - possible_positions[previous_item, 1]\n",
    "                possible_lags[2] = possible_positions[possible_items, 1] - possible_positions[previous_item, 0]\n",
    "                possible_lags[3] = possible_positions[possible_items, 1] - possible_positions[previous_item, 1]\n",
    "                \n",
    "                # avoid redundant counting of single presentations\n",
    "                previous_item_equivalence = possible_lags[0] == possible_lags[2]\n",
    "                current_item_equivalence = possible_lags[0] == possible_lags[1]\n",
    "                either_item_equivalence = np.logical_or(previous_item_equivalence, current_item_equivalence)\n",
    "                possible_lags[1][current_item_equivalence] = 0\n",
    "                possible_lags[2][previous_item_equivalence] = 0\n",
    "                possible_lags[3][either_item_equivalence] = 0\n",
    "    \n",
    "                possible_lags += lag_range\n",
    "                total_possible_lags[possible_lags.flatten()] += 1\n",
    "                \n",
    "            # update pool to exclude recalled item (updated to still identify 1-indexed item)\n",
    "            previous_item = presentations[trial_index][trials[trial_index, recall_index]-1]\n",
    "            possible_items = possible_items[possible_items != previous_item]\n",
    "    \n",
    "    # small correction to avoid nans and commit to excluding multiply-tracked single presentations \n",
    "    total_actual_lags[lag_range] = 0\n",
    "    total_possible_lags[total_actual_lags==0] += 1\n",
    "    \n",
    "    return total_actual_lags/total_possible_lags"
   ]
  },
  {
   "cell_type": "code",
   "execution_count": null,
   "id": "733d7691-09bf-438a-ac29-fc025792706d",
   "metadata": {},
   "outputs": [],
   "source": [
    "# export\n",
    "\n",
    "@njit(nogil=True)\n",
    "def flex_mixed_crp(trials, presentations, max_repeats=2):\n",
    "    \n",
    "    list_length = len(presentations[0])\n",
    "    lag_range = list_length - 1\n",
    "    total_actual_lags = np.zeros(lag_range * 2 + 1)\n",
    "    total_possible_lags = np.zeros(lag_range * 2 + 1)\n",
    "    terminus = np.sum(trials != 0, axis=1) # number of recalls per trial\n",
    "    recall_by_study_position = recall_by_all_study_positions(trials, presentations, max_repeats)\n",
    "    \n",
    "    for trial_index in range(len(trials)):\n",
    "        \n",
    "        previous_item = 0\n",
    "        item_count = np.max(presentations[trial_index]) + 1\n",
    "        possible_items = np.arange(item_count) # initial pool of possible recalls, 1-indexed\n",
    "        possible_positions = np.zeros((item_count, max_repeats), dtype=int32)\n",
    "        \n",
    "        # we track possible positions using presentations and alt_presentations\n",
    "        for item in range(item_count):\n",
    "            pos = np.nonzero(presentations[trial_index] == item)[0] + 1\n",
    "            possible_positions[item, :len(pos)] = pos\n",
    "            \n",
    "        for recall_index in range(terminus[trial_index]):\n",
    "            \n",
    "            current_item = presentations[trial_index][trials[trial_index, recall_index]-1]\n",
    "            \n",
    "            # track possible and actual lags\n",
    "            if recall_index > 0:\n",
    "                \n",
    "                # item indices don't help track lags anymore\n",
    "                # so more complex calculation needed to identify possible lags given previous item\n",
    "                current_index = np.nonzero(possible_items==current_item)[0]\n",
    "                possible_lags = np.zeros((len(recall_by_study_position) ** 2, len(possible_items)), dtype=int32)\n",
    "\n",
    "                index = 0\n",
    "                for x in range(len(recall_by_study_position)):\n",
    "                    for y in range(len(recall_by_study_position)):\n",
    "                        if possible_positions[previous_item, y] > 0:\n",
    "                        \n",
    "                            possible_lags[index] = possible_positions[\n",
    "                                possible_items, x] - possible_positions[previous_item, y]\n",
    "                            \n",
    "                            # if tracked position is 0, then we don't actually want to count it in our lags\n",
    "                            possible_lags[index][possible_positions[possible_items, x] == 0] = 0\n",
    "                        \n",
    "                        index += 1\n",
    "\n",
    "                possible_lags += lag_range\n",
    "                total_actual_lags[possible_lags[:, current_index].flatten()] += 1\n",
    "                total_possible_lags[possible_lags.flatten()] += 1\n",
    "                        \n",
    "\n",
    "            # update pool to exclude recalled item (updated to still identify 1-indexed item)\n",
    "            previous_item = current_item\n",
    "            possible_items = possible_items[possible_items != previous_item]\n",
    "                    \n",
    "    # small correction to avoid nans and commit to excluding multiply-tracked single presentations \n",
    "    total_actual_lags[lag_range] = 0\n",
    "    total_possible_lags[total_actual_lags==0] += 1\n",
    "    \n",
    "    return total_actual_lags/total_possible_lags"
   ]
  },
  {
   "cell_type": "markdown",
   "id": "cc93af93-689f-4843-b3e5-cad8f1f0b715",
   "metadata": {},
   "source": [
    "## Demo"
   ]
  },
  {
   "cell_type": "markdown",
   "id": "1e8d955c-f04b-4d56-8364-f2f8569b0529",
   "metadata": {},
   "source": [
    "### Comparison With Regular `fast_csp` Using Control Lists"
   ]
  },
  {
   "cell_type": "code",
   "execution_count": null,
   "id": "ac4a2b42-d7f2-48d2-b422-e60d2e07ca05",
   "metadata": {},
   "outputs": [
    {
     "data": {
      "text/plain": [
       "array([ True,  True,  True,  True,  True,  True,  True,  True,  True,\n",
       "        True,  True,  True,  True,  True,  True,  True,  True,  True,\n",
       "        True,  True,  True,  True,  True,  True,  True,  True,  True,\n",
       "        True,  True,  True,  True,  True,  True,  True,  True,  True,\n",
       "        True,  True,  True,  True,  True,  True,  True,  True,  True,\n",
       "        True,  True,  True,  True,  True,  True,  True,  True,  True,\n",
       "        True,  True,  True,  True,  True,  True,  True,  True,  True,\n",
       "        True,  True,  True,  True,  True,  True,  True,  True,  True,\n",
       "        True,  True,  True,  True,  True,  True,  True])"
      ]
     },
     "execution_count": null,
     "metadata": {},
     "output_type": "execute_result"
    }
   ],
   "source": [
    "from compmemlearn.analyses import fast_crp\n",
    "\n",
    "fast_crp(trials[list_types==1], 40) == fast_mixed_crp(trials[list_types==1], presentations[list_types==1])"
   ]
  },
  {
   "cell_type": "code",
   "execution_count": null,
   "id": "73c4b4fc-ca77-4492-b562-f9b98728e4c9",
   "metadata": {},
   "outputs": [
    {
     "name": "stdout",
     "output_type": "stream",
     "text": [
      "15.7 ms ± 440 µs per loop (mean ± std. dev. of 7 runs, 100 loops each)\n"
     ]
    }
   ],
   "source": [
    "%timeit fast_mixed_crp(trials[list_types==1], presentations[list_types==1])"
   ]
  },
  {
   "cell_type": "code",
   "execution_count": null,
   "id": "257e1463-6c93-400d-ad41-36bdb7657c1d",
   "metadata": {},
   "outputs": [
    {
     "name": "stdout",
     "output_type": "stream",
     "text": [
      "3.25 ms ± 40.8 µs per loop (mean ± std. dev. of 7 runs, 100 loops each)\n"
     ]
    }
   ],
   "source": [
    "%timeit fast_crp(trials[list_types==1], 40)"
   ]
  },
  {
   "cell_type": "code",
   "execution_count": null,
   "id": "b2f6f12e-3eb8-4d85-bc60-3779f15e2914",
   "metadata": {},
   "outputs": [
    {
     "name": "stdout",
     "output_type": "stream",
     "text": [
      "20.9 ms ± 336 µs per loop (mean ± std. dev. of 7 runs, 1 loop each)\n"
     ]
    }
   ],
   "source": [
    "%timeit flex_mixed_crp(trials[list_types==1], presentations[list_types==1])"
   ]
  },
  {
   "cell_type": "code",
   "execution_count": null,
   "id": "ef987348",
   "metadata": {},
   "outputs": [
    {
     "data": {
      "text/plain": [
       "array([ True,  True,  True,  True,  True,  True,  True,  True,  True,\n",
       "        True,  True,  True,  True,  True,  True,  True,  True,  True,\n",
       "        True,  True,  True,  True,  True,  True,  True,  True,  True,\n",
       "        True,  True,  True,  True,  True,  True,  True,  True,  True,\n",
       "        True,  True,  True,  True,  True,  True,  True,  True,  True,\n",
       "        True,  True,  True,  True,  True,  True,  True,  True,  True,\n",
       "        True,  True,  True,  True,  True,  True,  True,  True,  True,\n",
       "        True,  True,  True,  True,  True,  True,  True,  True,  True,\n",
       "        True,  True,  True,  True,  True,  True,  True])"
      ]
     },
     "execution_count": null,
     "metadata": {},
     "output_type": "execute_result"
    }
   ],
   "source": [
    "condition = 4\n",
    "flex_mixed_crp(trials[list_types==condition], presentations[list_types==condition]) == fast_mixed_crp(trials[list_types==condition], presentations[list_types==condition])"
   ]
  },
  {
   "cell_type": "code",
   "execution_count": null,
   "id": "aaa9c236",
   "metadata": {},
   "outputs": [
    {
     "data": {
      "text/plain": [
       "array([0.04545455, 0.07741935, 0.02702703, 0.03448276, 0.01239669,\n",
       "       0.01867572, 0.01267606, 0.0255164 , 0.0311493 , 0.02812803,\n",
       "       0.02410714, 0.02390767, 0.02356638, 0.01918819, 0.02116041,\n",
       "       0.02271252, 0.02799757, 0.02669762, 0.0268757 , 0.0295858 ,\n",
       "       0.02862883, 0.02987952, 0.02465116, 0.0199027 , 0.02997859,\n",
       "       0.02920609, 0.03033885, 0.03862333, 0.04053552, 0.04422869,\n",
       "       0.04406539, 0.05585831, 0.0589584 , 0.05534106, 0.0639848 ,\n",
       "       0.06148171, 0.08683975, 0.09879092, 0.17528821, 0.        ,\n",
       "       0.28192131, 0.12563791, 0.08370591, 0.06432161, 0.06537967,\n",
       "       0.05540897, 0.05018991, 0.04840941, 0.03874644, 0.0437536 ,\n",
       "       0.03453365, 0.03611195, 0.0264234 , 0.03119922, 0.0254065 ,\n",
       "       0.01907074, 0.02382671, 0.02185995, 0.02243714, 0.01709742,\n",
       "       0.01704782, 0.01742919, 0.0191344 , 0.01429933, 0.01544594,\n",
       "       0.01411396, 0.02090209, 0.01302546, 0.01519949, 0.01491525,\n",
       "       0.01538462, 0.01579779, 0.0123131 , 0.01383399, 0.01030928,\n",
       "       0.00693481, 0.01202749, 0.01428571, 0.01298701])"
      ]
     },
     "execution_count": null,
     "metadata": {},
     "output_type": "execute_result"
    }
   ],
   "source": [
    "flex_mixed_crp(trials[list_types==condition], presentations[list_types==condition])"
   ]
  },
  {
   "cell_type": "code",
   "execution_count": null,
   "id": "6d01b68f-e98b-4a60-b643-9783d8f0f4e9",
   "metadata": {},
   "outputs": [
    {
     "data": {
      "text/plain": [
       "<matplotlib.legend.Legend at 0x1f0e28a8070>"
      ]
     },
     "execution_count": null,
     "metadata": {},
     "output_type": "execute_result"
    },
    {
     "data": {
      "image/png": "[encoded data removed]",
      "text/plain": [
       "<Figure size 432x288 with 1 Axes>"
      ]
     },
     "metadata": {
      "needs_background": "light"
     },
     "output_type": "display_data"
    }
   ],
   "source": [
    "import matplotlib.pyplot as plt\n",
    "\n",
    "for condition in range(4):\n",
    "    test_crp= fast_mixed_crp(trials[list_types==condition+1], presentations[list_types==condition+1])\n",
    "    test_crp[len(presentations[0])-1] = np.nan\n",
    "    plt.plot(np.arange(len(test_crp)), test_crp, label=str(condition+1))\n",
    "    plt.xticks(np.arange(0, len(test_crp), 4), np.arange(0, len(test_crp), 4) - 39)\n",
    "    \n",
    "plt.legend()"
   ]
  },
  {
   "cell_type": "code",
   "execution_count": null,
   "id": "5804a9ab-0ae6-4f5e-a077-b2cd8238c2e7",
   "metadata": {},
   "outputs": [],
   "source": []
  }
 ],
 "metadata": {
  "kernelspec": {
   "display_name": "Python 3 (ipykernel)",
   "language": "python",
   "name": "python3"
  }
 },
 "nbformat": 4,
 "nbformat_minor": 5
}

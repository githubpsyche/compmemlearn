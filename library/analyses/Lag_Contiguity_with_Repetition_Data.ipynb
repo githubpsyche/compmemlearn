{
 "cells": [
  {
   "cell_type": "code",
   "execution_count": 1,
   "id": "70940512-3bf0-4c9e-a45b-c0c3405f38db",
   "metadata": {},
   "outputs": [],
   "source": [
    "# default_exp analyses"
   ]
  },
  {
   "cell_type": "markdown",
   "id": "9003cc43-cefd-4a12-88ee-3756c87f13d5",
   "metadata": {
    "tags": []
   },
   "source": [
    "# The Lag-Contiguity Effect in Repetition Data\n",
    "The lag-contiguity effect illustrates how episodic associations are graded, exhibiting power-function decay with increasing lag. \n",
    "Recall of an item has a tendency to evoke not only adjacent list items, but other nearby items as well. \n",
    "In addition, episodic associations appear to be a|symmetrical, favoring retrieval of items in the forward order.\n",
    "\n",
    "Here we extend on previous implementations to ensure recall rates are successfully measured and visualized when study lists can include two presentations of study items. "
   ]
  },
  {
   "cell_type": "markdown",
   "id": "5be3b9c1-3f2b-4522-a086-76a4108515e5",
   "metadata": {
    "tags": []
   },
   "source": [
    "To measure the lag-contiguity effect, we often produce lag-CRP curves. \n",
    "\"Lag-CRP\" measures the conditional probability of recalling an item as a function of its adjacency (**lag**) in the study list to the the last recalled item. \n",
    "To find this in our free recall data, for every recall a participant made in a dataset, we measure how adjacent the recalled item was from the *next* item the participant recalled -- its serial lag. \n",
    "For example, if a subject recalls the third item presented in a list and then the fourth, the lag of the next item recalled is +1. \n",
    "If a subject instead recalls the first item after recalling the third item, the measured lag is -2. \n",
    "We also track across recalls which lag transitions were possible based on which items were not already retrieved. \n",
    "Once we've tallied up all actual and possible lag transitions across a dataset, we plot for each lag the ratio of actual lags divided by position lags to visualize the conditional probability of each lag transition."
   ]
  },
  {
   "cell_type": "markdown",
   "id": "054922da-a275-42eb-9e07-f9fc3754b90d",
   "metadata": {},
   "source": [
    "## Data Preparation"
   ]
  },
  {
   "cell_type": "code",
   "execution_count": 1,
   "id": "6f9b174c-19b2-43de-b232-717355f82230",
   "metadata": {},
   "outputs": [
    {
     "data": {
      "text/html": [
       "<div>\n",
       "<style scoped>\n",
       "    .dataframe tbody tr th:only-of-type {\n",
       "        vertical-align: middle;\n",
       "    }\n",
       "\n",
       "    .dataframe tbody tr th {\n",
       "        vertical-align: top;\n",
       "    }\n",
       "\n",
       "    .dataframe thead th {\n",
       "        text-align: right;\n",
       "    }\n",
       "</style>\n",
       "<table border=\"1\" class=\"dataframe\">\n",
       "  <thead>\n",
       "    <tr style=\"text-align: right;\">\n",
       "      <th></th>\n",
       "      <th>subject</th>\n",
       "      <th>list</th>\n",
       "      <th>item</th>\n",
       "      <th>input</th>\n",
       "      <th>output</th>\n",
       "      <th>study</th>\n",
       "      <th>recall</th>\n",
       "      <th>repeat</th>\n",
       "      <th>intrusion</th>\n",
       "      <th>condition</th>\n",
       "    </tr>\n",
       "  </thead>\n",
       "  <tbody>\n",
       "    <tr>\n",
       "      <th>0</th>\n",
       "      <td>1</td>\n",
       "      <td>1</td>\n",
       "      <td>0</td>\n",
       "      <td>1</td>\n",
       "      <td>1.0</td>\n",
       "      <td>True</td>\n",
       "      <td>True</td>\n",
       "      <td>0</td>\n",
       "      <td>False</td>\n",
       "      <td>4</td>\n",
       "    </tr>\n",
       "    <tr>\n",
       "      <th>1</th>\n",
       "      <td>1</td>\n",
       "      <td>1</td>\n",
       "      <td>1</td>\n",
       "      <td>2</td>\n",
       "      <td>2.0</td>\n",
       "      <td>True</td>\n",
       "      <td>True</td>\n",
       "      <td>0</td>\n",
       "      <td>False</td>\n",
       "      <td>4</td>\n",
       "    </tr>\n",
       "    <tr>\n",
       "      <th>2</th>\n",
       "      <td>1</td>\n",
       "      <td>1</td>\n",
       "      <td>2</td>\n",
       "      <td>3</td>\n",
       "      <td>3.0</td>\n",
       "      <td>True</td>\n",
       "      <td>True</td>\n",
       "      <td>0</td>\n",
       "      <td>False</td>\n",
       "      <td>4</td>\n",
       "    </tr>\n",
       "    <tr>\n",
       "      <th>3</th>\n",
       "      <td>1</td>\n",
       "      <td>1</td>\n",
       "      <td>3</td>\n",
       "      <td>4</td>\n",
       "      <td>4.0</td>\n",
       "      <td>True</td>\n",
       "      <td>True</td>\n",
       "      <td>0</td>\n",
       "      <td>False</td>\n",
       "      <td>4</td>\n",
       "    </tr>\n",
       "    <tr>\n",
       "      <th>4</th>\n",
       "      <td>1</td>\n",
       "      <td>1</td>\n",
       "      <td>4</td>\n",
       "      <td>5</td>\n",
       "      <td>5.0</td>\n",
       "      <td>True</td>\n",
       "      <td>True</td>\n",
       "      <td>0</td>\n",
       "      <td>False</td>\n",
       "      <td>4</td>\n",
       "    </tr>\n",
       "  </tbody>\n",
       "</table>\n",
       "</div>"
      ],
      "text/plain": [
       "   subject  list  item  input  output  study  recall  repeat  intrusion  \\\n",
       "0        1     1     0      1     1.0   True    True       0      False   \n",
       "1        1     1     1      2     2.0   True    True       0      False   \n",
       "2        1     1     2      3     3.0   True    True       0      False   \n",
       "3        1     1     3      4     4.0   True    True       0      False   \n",
       "4        1     1     4      5     5.0   True    True       0      False   \n",
       "\n",
       "   condition  \n",
       "0          4  \n",
       "1          4  \n",
       "2          4  \n",
       "3          4  \n",
       "4          4  "
      ]
     },
     "execution_count": 1,
     "metadata": {},
     "output_type": "execute_result"
    }
   ],
   "source": [
    "from compmemlearn.datasets import prepare_lohnas2014_data\n",
    "\n",
    "trials, events, list_length, presentations, list_types, rep_data, subjects = prepare_lohnas2014_data(\n",
    "    '../../data/repFR.mat')\n",
    "\n",
    "events.head()"
   ]
  },
  {
   "cell_type": "markdown",
   "id": "b40dc845-b1cf-42b2-a451-4f5e7c3de26f",
   "metadata": {},
   "source": [
    "## Function\n",
    "That recalled items can have two study positions forces us to complicate the function. Along with the scenario where the current and the previous item have just one relevant serial lag to consider, we must also consider the case where there are two serial lags to consider when either the current item or the previous item had two serial positions. Then there's one more scenario -- when both the the current and the previous item were encountered twice during encoding. This corresponds with four serial lags to consider. \n",
    "\n",
    "How do we weigh these? The approach in the SPC was just to interpret the description of the analysis literally. In the SPC, we tracked the probability of recalling an item given that it was studied at each selected position -- even if it was also studied at some other position. Here, we'll do the same thing, except using lag instead of study position. Extensions of this analysis can exclude items on chosen bases, but this gets us a solid general foundation. \n",
    "\n",
    "To achieve this, we have to change how we track lag lag across trials (in `actual`) so that lags can occur with multiple lags simultaneously.\n",
    "\n",
    "We must also change how we track changes to the `pool` of possible lag lags. This probably requires adding some representation of items that have positions as attributes and are looped across to identify relevant lags. \n",
    "\n",
    "`previous_recall` can identify those items."
   ]
  },
  {
   "cell_type": "code",
   "execution_count": 2,
   "id": "b3f745a0-a64e-412e-826e-a95fb1fa5d4b",
   "metadata": {},
   "outputs": [],
   "source": [
    "from compmemlearn.analyses import recall_by_second_study_position"
   ]
  },
  {
   "cell_type": "code",
   "execution_count": 3,
   "id": "2b38d631-372b-4508-9ec4-1b7a9a2a7dd1",
   "metadata": {},
   "outputs": [],
   "source": [
    "# export\n",
    "\n",
    "from numba import njit\n",
    "from numba import int32\n",
    "import numpy as np\n",
    "from compmemlearn.datasets import find_first\n",
    "\n",
    "@njit(nogil=True)\n",
    "def fast_mixed_crp(trials, presentations):\n",
    "    \n",
    "    list_length = len(presentations[0])\n",
    "    lag_range = list_length - 1\n",
    "    total_actual_lags = np.zeros(lag_range * 2 + 1)\n",
    "    total_possible_lags = np.zeros(lag_range * 2 + 1)\n",
    "    terminus = np.sum(trials != 0, axis=1) - 1 # number of recalls per trial\n",
    "    \n",
    "    # compute actual serial lag b/t recalls, considering all possible positions\n",
    "    alt_presentations = np.fliplr(presentations)\n",
    "    alt_trials = recall_by_second_study_position(trials, presentations)\n",
    "    actual_lags = np.zeros((4, len(trials), len(trials[0])-1), dtype=int32)\n",
    "    actual_lags[0] = trials[:, 1:] - trials[:, :-1]\n",
    "    actual_lags[1] = trials[:, 1:] - alt_trials[:, :-1]\n",
    "    actual_lags[2] = alt_trials[:, 1:] - trials[:, :-1]\n",
    "    actual_lags[3] = alt_trials[:, 1:] - alt_trials[:, :-1]\n",
    "    \n",
    "    # if actual[0, x, y] == actual[2, x, y] (or 1, 3) then lagged-to item has 1 presentation\n",
    "    # if actual[0, x, y] == actual[1, x, y] (or 2, 3 respectively) then lagged-from item has 1 pres\n",
    "    # avoid counting single presentations twice by giving those lags a value of 0\n",
    "    first_item_equivalence = actual_lags[0] == actual_lags[2]\n",
    "    second_item_equivalence = actual_lags[0] == actual_lags[1]\n",
    "    for i in range(len(actual_lags[0])):\n",
    "        actual_lags[1, i][second_item_equivalence[i]] = 0\n",
    "        actual_lags[2, i][first_item_equivalence[i]] = 0\n",
    "        actual_lags[3, i][np.logical_and(first_item_equivalence[i], second_item_equivalence[i])] = 0\n",
    "        \n",
    "    # we add lag_range to have result identify indices in total_ to bin counts\n",
    "    actual_lags += lag_range\n",
    "    \n",
    "    for trial_index in range(len(trials)):\n",
    "        \n",
    "        previous_item = 0\n",
    "        item_count = np.max(presentations[trial_index]) + 1\n",
    "        possible_items = np.arange(item_count) # initial pool of possible recalls, 1-indexed\n",
    "        possible_positions = np.zeros((list_length, 2))\n",
    "        \n",
    "        # we track possible positions using presentations and alt_presentations\n",
    "        for item in range(item_count):\n",
    "            possible_positions[item, 0] = find_first(item, presentations[trial_index])\n",
    "            possible_positions[item, 1] = list_length - find_first(item, alt_presentations[trial_index]) -1\n",
    "        \n",
    "        if presentations[trial_index][trials[trial_index, 0]-1] == 0:\n",
    "            possible_positions\n",
    "        \n",
    "        for recall_index in range(terminus[trial_index]):\n",
    "            \n",
    "            # track possible and actual lags\n",
    "            if recall_index > 0:\n",
    "                \n",
    "                # we add to actual_lags total for each lag transition made for this recall\n",
    "                total_actual_lags[actual_lags[:, trial_index, recall_index-1]] += 1\n",
    "                \n",
    "                # item indices don't help track lags anymore\n",
    "                # so more complex calculation needed to identify possible lags given previous item\n",
    "                possible_lags = np.zeros((4, len(possible_items)), dtype=int32)\n",
    "                possible_lags[0] = possible_positions[possible_items, 0] - possible_positions[previous_item, 0]\n",
    "                possible_lags[1] = possible_positions[possible_items, 0] - possible_positions[previous_item, 1]\n",
    "                possible_lags[2] = possible_positions[possible_items, 1] - possible_positions[previous_item, 0]\n",
    "                possible_lags[3] = possible_positions[possible_items, 1] - possible_positions[previous_item, 1]\n",
    "                \n",
    "                # avoid redundant counting of single presentations\n",
    "                first_item_equivalence = possible_lags[0] == possible_lags[2]\n",
    "                second_item_equivalence = possible_lags[0] == possible_lags[1]\n",
    "                possible_lags[1][second_item_equivalence] = 0\n",
    "                possible_lags[2][first_item_equivalence] = 0\n",
    "                possible_lags[3][np.logical_and(first_item_equivalence, second_item_equivalence)] = 0\n",
    "    \n",
    "                possible_lags += lag_range\n",
    "                total_possible_lags[possible_lags.flatten()] += 1\n",
    "                \n",
    "            # update pool to exclude recalled item (updated to still identify 1-indexed item)\n",
    "            previous_item = presentations[trial_index][trials[trial_index, recall_index]-1]\n",
    "            possible_items = possible_items[possible_items != previous_item]\n",
    "    \n",
    "    # small correction to avoid nans and commit to excluding multiply-tracked single presentations \n",
    "    total_actual_lags[lag_range] = 0\n",
    "    total_possible_lags[total_actual_lags==0] += 1\n",
    "    \n",
    "    return total_actual_lags/total_possible_lags"
   ]
  },
  {
   "cell_type": "markdown",
   "id": "cc93af93-689f-4843-b3e5-cad8f1f0b715",
   "metadata": {},
   "source": [
    "## Demo"
   ]
  },
  {
   "cell_type": "markdown",
   "id": "1e8d955c-f04b-4d56-8364-f2f8569b0529",
   "metadata": {},
   "source": [
    "### Comparison With Regular `fast_csp` Using Control Lists"
   ]
  },
  {
   "cell_type": "code",
   "execution_count": 4,
   "id": "ac4a2b42-d7f2-48d2-b422-e60d2e07ca05",
   "metadata": {},
   "outputs": [],
   "source": [
    "from compmemlearn.analyses import fast_crp\n",
    "assert np.all(fast_crp(trials[list_types==1], 40) == fast_mixed_crp(trials[list_types==1], presentations[list_types==1]))"
   ]
  },
  {
   "cell_type": "code",
   "execution_count": 5,
   "id": "73c4b4fc-ca77-4492-b562-f9b98728e4c9",
   "metadata": {},
   "outputs": [
    {
     "name": "stdout",
     "output_type": "stream",
     "text": [
      "14.9 ms ± 881 µs per loop (mean ± std. dev. of 7 runs, 100 loops each)\n"
     ]
    }
   ],
   "source": [
    "%timeit fast_mixed_crp(trials[list_types==1], presentations[list_types==1])"
   ]
  },
  {
   "cell_type": "code",
   "execution_count": 6,
   "id": "257e1463-6c93-400d-ad41-36bdb7657c1d",
   "metadata": {},
   "outputs": [
    {
     "name": "stdout",
     "output_type": "stream",
     "text": [
      "3.23 ms ± 122 µs per loop (mean ± std. dev. of 7 runs, 100 loops each)\n"
     ]
    }
   ],
   "source": [
    "%timeit fast_crp(trials[list_types==1], 40)"
   ]
  },
  {
   "cell_type": "code",
   "execution_count": 7,
   "id": "bd2a384e-e694-4136-8140-a25a5a179998",
   "metadata": {},
   "outputs": [
    {
     "data": {
      "text/plain": [
       "array([0.1047619 , 0.1047619 , 0.08520179, 0.03652968, 0.0787172 ,\n",
       "       0.05900621, 0.07526882, 0.03712297, 0.06833333, 0.04553734,\n",
       "       0.06557377, 0.03479576, 0.06336406, 0.04107831, 0.06653426,\n",
       "       0.03914989, 0.06521739, 0.03956479, 0.079653  , 0.05505415,\n",
       "       0.07507082, 0.03629032, 0.06876607, 0.04565538, 0.07309766,\n",
       "       0.04158004, 0.07286569, 0.04677623, 0.07571138, 0.04504505,\n",
       "       0.09689737, 0.07166853, 0.12931798, 0.08779443, 0.15963979,\n",
       "       0.11425683, 0.25587467, 0.21535581, 0.21535581, 0.        ,\n",
       "       0.37151296, 0.37151296, 0.44620959, 0.15276873, 0.21648288,\n",
       "       0.09373942, 0.13082108, 0.0534188 , 0.08449336, 0.04135618,\n",
       "       0.06471601, 0.03067729, 0.05743741, 0.03327717, 0.05505309,\n",
       "       0.02782847, 0.04134697, 0.01782178, 0.03729282, 0.02418055,\n",
       "       0.04064225, 0.02133966, 0.03642384, 0.01960784, 0.0379902 ,\n",
       "       0.02351212, 0.03848797, 0.02008368, 0.03767661, 0.02325581,\n",
       "       0.0375802 , 0.02011834, 0.03160271, 0.01649175, 0.02582496,\n",
       "       0.01502146, 0.02489627, 0.02066116, 0.02066116])"
      ]
     },
     "execution_count": 7,
     "metadata": {},
     "output_type": "execute_result"
    }
   ],
   "source": [
    "fast_mixed_crp(trials[list_types==2], presentations[list_types==2])"
   ]
  },
  {
   "cell_type": "code",
   "execution_count": 22,
   "id": "6d01b68f-e98b-4a60-b643-9783d8f0f4e9",
   "metadata": {},
   "outputs": [
    {
     "data": {
      "text/plain": [
       "<matplotlib.legend.Legend at 0x25fc7563f10>"
      ]
     },
     "execution_count": 22,
     "metadata": {},
     "output_type": "execute_result"
    },
    {
     "data": {
      "image/png": "[encoded data removed]",
      "text/plain": [
       "<Figure size 432x288 with 1 Axes>"
      ]
     },
     "metadata": {
      "needs_background": "light"
     },
     "output_type": "display_data"
    }
   ],
   "source": [
    "import matplotlib.pyplot as plt\n",
    "\n",
    "for condition in range(4):\n",
    "    test_crp= fast_mixed_crp(trials[list_types==condition+1], presentations[list_types==condition+1])\n",
    "    test_crp[len(presentations[0])-1] = np.nan\n",
    "    plt.plot(np.arange(len(test_crp)), test_crp, label=str(condition+1))\n",
    "    plt.xticks(np.arange(0, len(test_crp), 4), np.arange(0, len(test_crp), 4) - 39)\n",
    "    \n",
    "plt.legend()"
   ]
  },
  {
   "cell_type": "code",
   "execution_count": null,
   "id": "5804a9ab-0ae6-4f5e-a077-b2cd8238c2e7",
   "metadata": {},
   "outputs": [],
   "source": []
  }
 ],
 "metadata": {
  "kernelspec": {
   "display_name": "Python 3 (ipykernel)",
   "language": "python",
   "name": "python3"
  },
  "language_info": {
   "codemirror_mode": {
    "name": "ipython",
    "version": 3
   },
   "file_extension": ".py",
   "mimetype": "text/x-python",
   "name": "python",
   "nbconvert_exporter": "python",
   "pygments_lexer": "ipython3",
   "version": "3.9.1"
  }
 },
 "nbformat": 4,
 "nbformat_minor": 5
}

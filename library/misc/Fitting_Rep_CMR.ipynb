{
 "cells": [
  {
   "cell_type": "code",
   "execution_count": 10,
   "metadata": {},
   "outputs": [],
   "source": [
    "import numpy as np\n",
    "from numba import njit, prange\n",
    "from compmemlearn.models import Classic_CMR\n",
    "\n",
    "@njit(fastmath=True, nogil=True, parallel=True)\n",
    "def cmr_rep_likelihood(\n",
    "        trials, presentations, list_length, encoding_drift_rate, start_drift_rate, \n",
    "        recall_drift_rate, shared_support, item_support, learning_rate, \n",
    "        primacy_scale, primacy_decay, stop_probability_scale, \n",
    "        stop_probability_growth, choice_sensitivity, delay_drift_rate, drift_familiarity_scale, \n",
    "        mfc_familiarity_scale, mcf_familiarity_scale, sampling_rule):\n",
    "    \"\"\"\n",
    "    Generalized cost function for fitting the InstanceCMR model optimized \n",
    "    using the numba library.\n",
    "    \n",
    "    Output scales inversely with the likelihood that the model and specified \n",
    "    parameters would generate the specified trials. For model fitting, is \n",
    "    usually wrapped in another function that fixes and frees parameters for \n",
    "    optimization.\n",
    "\n",
    "    **Arguments**:\n",
    "    - data_to_fit: typed list of int64-arrays where rows identify a unique \n",
    "        trial of responses and columns corresponds to a unique recall index.  \n",
    "    - A configuration for each parameter of `InstanceCMR` as delineated in \n",
    "        `Formal Specification`.\n",
    "\n",
    "    **Returns** the negative sum of log-likelihoods across specified trials \n",
    "    conditional on the specified parameters and the mechanisms of InstanceCMR.\n",
    "    \"\"\"\n",
    "\n",
    "    likelihood = np.ones((len(trials), list_length))\n",
    "\n",
    "    for trial_index in prange(len(trials)):\n",
    "\n",
    "        item_count = np.max(presentations[trial_index])+1\n",
    "        \n",
    "        model = Classic_CMR(\n",
    "            item_count, list_length, encoding_drift_rate, start_drift_rate, \n",
    "            recall_drift_rate, shared_support, item_support, learning_rate, \n",
    "            primacy_scale, primacy_decay, stop_probability_scale, \n",
    "            stop_probability_growth, choice_sensitivity, delay_drift_rate,  drift_familiarity_scale,\n",
    "            mfc_familiarity_scale, mcf_familiarity_scale, sampling_rule)\n",
    "\n",
    "        model.experience(np.eye(item_count, item_count)[presentations[trial_index]])\n",
    "            \n",
    "        trial = trials[trial_index]\n",
    "\n",
    "        model.force_recall()\n",
    "        for recall_index in range(len(trial) + 1):\n",
    "\n",
    "            # identify index of item recalled; if zero then recall is over\n",
    "            if recall_index == len(trial) and len(trial) < item_count:\n",
    "                recall = 0\n",
    "            elif trial[recall_index] == 0:\n",
    "                recall = 0\n",
    "            else:\n",
    "                recall = presentations[trial_index][trial[recall_index]-1] + 1\n",
    "\n",
    "            # store probability of and simulate recalling item with this index\n",
    "            likelihood[trial_index, recall_index] = \\\n",
    "                model.outcome_probabilities(model.context)[recall]\n",
    "\n",
    "            if recall == 0:\n",
    "                break\n",
    "            model.force_recall(recall)\n",
    "\n",
    "        # reset model to its pre-retrieval (but post-encoding) state\n",
    "        model.force_recall(0)\n",
    "\n",
    "    return -np.sum(np.log(likelihood))\n",
    "\n",
    "def cmr_rep_objective_function(data_to_fit, presentations, list_types, list_length, fixed_parameters, free_parameters):\n",
    "    \"\"\"\n",
    "    Generates and returns an objective function for input to support search \n",
    "    through parameter space for ICMR model fit using an optimization function.\n",
    "\n",
    "    Arguments:  \n",
    "    - fixed_parameters: dictionary mapping parameter names to values they'll \n",
    "        be fixed to during search, overloaded by free_parameters if overlap  \n",
    "    - free_parameters: list of strings naming parameters for fit during search  \n",
    "    - data_to_fit: array where rows identify a unique trial of responses and \n",
    "        columns corresponds to a unique recall index\n",
    "\n",
    "    Returns a function that accepts a vector x specifying arbitrary values for \n",
    "    free parameters and returns evaluation of icmr_likelihood using the model \n",
    "    class, all parameters, and provided data.\n",
    "    \"\"\"\n",
    "    return lambda x: cmr_rep_likelihood(data_to_fit, presentations, list_types, list_length, **{**fixed_parameters, **{\n",
    "        free_parameters[i]:x[i] for i in range(len(x))}})"
   ]
  },
  {
   "cell_type": "code",
   "execution_count": 11,
   "metadata": {},
   "outputs": [],
   "source": [
    "from compmemlearn.datasets import prepare_lohnas2014_data\n",
    "\n",
    "import pandas as pd\n",
    "from psifr import fr\n",
    "from scipy.optimize import differential_evolution\n",
    "from numba.typed import List\n",
    "import numpy as np\n",
    "\n",
    "trials, events, list_length, presentations, list_types, rep_data, subjects = prepare_lohnas2014_data(\n",
    "    '../data/repFR.mat')\n",
    "\n",
    "free_parameters = [\n",
    "    'encoding_drift_rate',\n",
    "    'start_drift_rate',\n",
    "    'recall_drift_rate',\n",
    "    'shared_support',\n",
    "    'item_support',\n",
    "    'learning_rate',\n",
    "    'primacy_scale',\n",
    "    'primacy_decay',\n",
    "    'stop_probability_scale',\n",
    "    'stop_probability_growth',\n",
    "    'choice_sensitivity',\n",
    "    'delay_drift_rate',\n",
    "    'mfc_familiarity_scale',\n",
    "    'mcf_familiarity_scale',\n",
    "    'drift_familiarity_scale']\n",
    "\n",
    "fit_values = [8.36412380e-01, 1.37438014e-01, 9.14231622e-01, 1.03548867e-01,\n",
    " 1.00000000e+00, 2.70091435e-01, 3.89549514e+00, 6.04259249e-01,\n",
    " 2.04970025e-02, 1.20035161e-01, 1.78302334e+00, 9.96231007e-01,\n",
    " 0.0, 0.0, 0.0]\n",
    "\n",
    "parameters = {free_parameters[i]:fit_values[i] for i in range(len(fit_values))}\n",
    "parameters['sampling_rule'] = 0"
   ]
  },
  {
   "cell_type": "code",
   "execution_count": 12,
   "metadata": {},
   "outputs": [
    {
     "data": {
      "text/plain": [
       "60356.06992679857"
      ]
     },
     "execution_count": 12,
     "metadata": {},
     "output_type": "execute_result"
    }
   ],
   "source": [
    "selection = list_types >= 1\n",
    "\n",
    "cmr_rep_likelihood(\n",
    "         trials[selection], presentations[selection], list_length, **parameters)"
   ]
  },
  {
   "cell_type": "code",
   "execution_count": 14,
   "metadata": {},
   "outputs": [
    {
     "name": "stdout",
     "output_type": "stream",
     "text": [
      "165 ms ± 8.55 ms per loop (mean ± std. dev. of 7 runs, 10 loops each)\n"
     ]
    }
   ],
   "source": [
    "%%timeit\n",
    "cmr_rep_likelihood(\n",
    "         trials[selection], presentations[selection], list_length, **parameters)"
   ]
  },
  {
   "cell_type": "markdown",
   "metadata": {},
   "source": [
    "```\n",
    "Base result: 305 ms ± 7.96 ms per loop (mean ± std. dev. of 7 runs, 1 loop each)\n",
    "Value: 60356.06992679857\n",
    "```"
   ]
  }
 ],
 "metadata": {
  "interpreter": {
   "hash": "ecf5722fdaf1897a315d257d89d94520bfcaa453217d5becf09b39e73618b0de"
  },
  "kernelspec": {
   "display_name": "Python 3 (ipykernel)",
   "language": "python",
   "name": "python3"
  },
  "language_info": {
   "codemirror_mode": {
    "name": "ipython",
    "version": 3
   },
   "file_extension": ".py",
   "mimetype": "text/x-python",
   "name": "python",
   "nbconvert_exporter": "python",
   "pygments_lexer": "ipython3",
   "version": "3.9.1"
  }
 },
 "nbformat": 4,
 "nbformat_minor": 4
}

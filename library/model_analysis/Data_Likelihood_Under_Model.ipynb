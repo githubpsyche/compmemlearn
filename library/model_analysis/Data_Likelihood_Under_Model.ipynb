{
 "cells": [
  {
   "cell_type": "code",
   "execution_count": 1,
   "metadata": {},
   "outputs": [],
   "source": [
    "# default_exp fitting"
   ]
  },
  {
   "cell_type": "markdown",
   "metadata": {},
   "source": [
    "# Data Likelihood Under Model\n",
    "To fit a model to some dataset, we select a cost function that scales against the likelihood that the model with a specified parameter configuration could have generated the specified dataset. We'll demonstrate the process of designing a log-likelihood cost function and applying it to fit model parameters here."
   ]
  },
  {
   "cell_type": "code",
   "execution_count": 2,
   "metadata": {},
   "outputs": [],
   "source": [
    "# export\n",
    "# hide\n",
    "\n",
    "import numpy as np\n",
    "from numba import njit, prange\n",
    "from numba.typed import Dict\n",
    "from numba.core import types\n",
    "\n",
    "@njit(fastmath=True, nogil=True, parallel=True)\n",
    "def murdock_data_likelihood(data_to_fit, item_counts, model_class, parameters):\n",
    "\n",
    "    result = 0.0\n",
    "    for i in prange(len(item_counts)):\n",
    "        item_count = item_counts[i]\n",
    "        trials = data_to_fit[i]\n",
    "        likelihood = np.ones((len(trials), item_count))\n",
    "\n",
    "        model = model_class(item_count, item_count, parameters)\n",
    "        model.experience(model.items)\n",
    "\n",
    "        for trial_index in range(len(trials)):\n",
    "            trial = trials[trial_index]\n",
    "\n",
    "            model.force_recall()\n",
    "            for recall_index in range(len(trial) + 1):\n",
    "\n",
    "                # identify index of item recalled; if zero then recall is over\n",
    "                if recall_index == len(trial) and len(trial) < item_count:\n",
    "                    recall = 0\n",
    "                else:\n",
    "                    recall = trial[recall_index]\n",
    "\n",
    "                # store probability of and simulate recall of indexed item \n",
    "                likelihood[trial_index, recall_index] = \\\n",
    "                    model.outcome_probabilities()[recall] + 10e-7\n",
    "                \n",
    "                if recall == 0:\n",
    "                    break\n",
    "                model.force_recall(recall)\n",
    "\n",
    "            # reset model to its pre-retrieval (but post-encoding) state\n",
    "            model.force_recall(0)\n",
    "        \n",
    "        result -= np.sum(np.log(likelihood))\n",
    "\n",
    "    return result\n",
    "\n",
    "def murdock_objective_function(data_to_fit, item_counts, model_class, fixed_parameters, free_parameters):\n",
    "    \"\"\"\n",
    "    Configures cmr_likelihood for search over specified free/fixed parameters.\n",
    "    \"\"\"\n",
    "\n",
    "    parameters = Dict.empty(key_type=types.unicode_type, value_type=types.float64)\n",
    "    for name, value in fixed_parameters.items():\n",
    "        parameters[name] = value\n",
    "    \n",
    "    def objective_function(x):\n",
    "        for i in range(len(free_parameters)):\n",
    "            parameters[free_parameters[i]] = x[i]\n",
    "        return murdock_data_likelihood(data_to_fit, item_counts, model_class, parameters)\n",
    "\n",
    "    return objective_function"
   ]
  },
  {
   "cell_type": "code",
   "execution_count": 3,
   "metadata": {},
   "outputs": [],
   "source": [
    "# export\n",
    "# hide\n",
    "\n",
    "import numpy as np\n",
    "from numba import njit, prange\n",
    "from compmemlearn.models import Classic_CMR\n",
    "from numba.typed import Dict\n",
    "from numba.core import types\n",
    "\n",
    "@njit(fastmath=True, nogil=True, parallel=True)\n",
    "def lohnas_data_likelihood(trials, presentations, model_class, parameters):\n",
    "\n",
    "    list_length = len(presentations[0])\n",
    "    likelihood = np.ones((len(trials), list_length))\n",
    "\n",
    "    for trial_index in prange(len(trials)):\n",
    "\n",
    "        item_count = np.max(presentations[trial_index])+1\n",
    "        trial = trials[trial_index]\n",
    "        model = model_class(item_count, list_length, parameters)\n",
    "        model.experience(model.items[presentations[trial_index]])\n",
    "\n",
    "        model.force_recall()\n",
    "        for recall_index in range(len(trial) + 1):\n",
    "\n",
    "            # identify index of item recalled; if zero then recall is over\n",
    "            if recall_index == len(trial) and len(trial) < item_count:\n",
    "                recall = 0\n",
    "            elif trial[recall_index] == 0:\n",
    "                recall = 0\n",
    "            else:\n",
    "                recall = presentations[trial_index][trial[recall_index]-1] + 1\n",
    "\n",
    "            # store probability of and simulate recalling item with this index\n",
    "            likelihood[trial_index, recall_index] = \\\n",
    "                model.outcome_probabilities()[recall] + 10e-7\n",
    "\n",
    "            if recall == 0:\n",
    "                break\n",
    "            model.force_recall(recall)\n",
    "\n",
    "        # reset model to its pre-retrieval (but post-encoding) state\n",
    "        model.force_recall(0)\n",
    "\n",
    "    return -np.sum(np.log(likelihood))\n",
    "\n",
    "def lohnas_objective_function(data_to_fit, presentations, model_class, fixed_parameters, free_parameters):\n",
    "\n",
    "    \"\"\"\n",
    "    Generates and returns an objective function for input to support search \n",
    "    through parameter space for model fit using an optimization function.\n",
    "\n",
    "    Returns a function that accepts a vector x specifying arbitrary values for \n",
    "    free parameters and returns evaluation of likelihood using the model \n",
    "    class, all parameters, and provided data.\n",
    "    \"\"\"\n",
    "\n",
    "    parameters = Dict.empty(key_type=types.unicode_type, value_type=types.float64)\n",
    "    for name, value in fixed_parameters.items():\n",
    "        parameters[name] = value\n",
    "\n",
    "    def objective_function(x):\n",
    "        for i in range(len(free_parameters)):\n",
    "            parameters[free_parameters[i]] = x[i]\n",
    "        return lohnas_data_likelihood(data_to_fit, presentations, model_class, parameters)\n",
    "\n",
    "    return objective_function"
   ]
  },
  {
   "cell_type": "markdown",
   "metadata": {},
   "source": [
    "## Testing the Likelihood Functions\n",
    "We'll make sure the likelihood functions still return expected values depending on pre-fitted parameters from our Murdock, 1962 and Lohnas & Kahana, 2014 dataset analyses."
   ]
  },
  {
   "cell_type": "code",
   "execution_count": 4,
   "metadata": {},
   "outputs": [],
   "source": [
    "from compmemlearn.models import Classic_CMR\n",
    "from numba.typed import List, Dict\n",
    "from compmemlearn.datasets import prepare_murdock1962_data, prepare_lohnas2014_data"
   ]
  },
  {
   "cell_type": "markdown",
   "metadata": {},
   "source": [
    "### `murdock_data_likelihood`"
   ]
  },
  {
   "cell_type": "code",
   "execution_count": 11,
   "metadata": {},
   "outputs": [
    {
     "name": "stdout",
     "output_type": "stream",
     "text": [
      "murdock, 1962 == 80052.6888735279\n",
      "80052.6888735276\n",
      "59.4 ms ± 961 µs per loop (mean ± std. dev. of 7 runs, 1 loop each)\n"
     ]
    }
   ],
   "source": [
    "murd_trials0, murd_events0, murd_length0 = prepare_murdock1962_data('../../data/MurdData_clean.mat', 0)\n",
    "murd_trials1, murd_events1, murd_length1 = prepare_murdock1962_data('../../data/MurdData_clean.mat', 1)\n",
    "murd_trials2, murd_events2, murd_length2 = prepare_murdock1962_data('../../data/MurdData_clean.mat', 2)\n",
    "\n",
    "free_parameters = (\n",
    "    'encoding_drift_rate',\n",
    "    'start_drift_rate',\n",
    "    'recall_drift_rate',\n",
    "    'shared_support',\n",
    "    'item_support',\n",
    "    'learning_rate',\n",
    "    'primacy_scale',\n",
    "    'primacy_decay',\n",
    "    'stop_probability_scale',\n",
    "    'stop_probability_growth',\n",
    "    'choice_sensitivity',\n",
    "    'delay_drift_rate'\n",
    ")\n",
    "\n",
    "fit_values = np.array([5.88304182e-01, 3.76144942e-02, 7.51294302e-01, 2.91680115e-01,\n",
    "       1.00000000e+00, 1.39633721e-01, 5.62625588e+00, 4.28789782e+01,\n",
    "       2.40537436e-02, 2.61824232e-01, 5.32941045e+00, 9.34036191e-01])\n",
    "\n",
    "cmr_parameters = Dict.empty(key_type=types.unicode_type, value_type=types.float64)\n",
    "for i in range(len(fit_values)):\n",
    "    cmr_parameters[free_parameters[i]] = fit_values[i]\n",
    "cmr_parameters['sampling_rule'] = 0\n",
    "cmr_parameters['mfc_familiarity_scale'] = 0\n",
    "cmr_parameters['mcf_familiarity_scale'] = 0\n",
    "cmr_parameters['drift_familiarity_scale'] = 0\n",
    "\n",
    "@njit(fastmath=True, nogil=True)\n",
    "def init_cmr(item_count, presentation_count, parameters):\n",
    "    return Classic_CMR(item_count, presentation_count, parameters)\n",
    "\n",
    "print('murdock, 1962 == 80052.6888735279')\n",
    "print(murdock_data_likelihood(\n",
    "    (murd_trials0, murd_trials1, murd_trials2), \n",
    "    (murd_length0,murd_length1, murd_length2), \n",
    "    init_cmr, cmr_parameters))\n",
    "\n",
    "%timeit murdock_data_likelihood(List([murd_trials0, murd_trials1, murd_trials2]), List([murd_length0,murd_length1, murd_length2]), init_cmr, cmr_parameters)"
   ]
  },
  {
   "cell_type": "markdown",
   "metadata": {},
   "source": [
    "### `lohnas_data_likelihood`"
   ]
  },
  {
   "cell_type": "code",
   "execution_count": 9,
   "metadata": {},
   "outputs": [
    {
     "name": "stdout",
     "output_type": "stream",
     "text": [
      "lohnas, 2014 == 17271.524963186363\n",
      "17271.524963184707\n",
      "39.4 ms ± 2.65 ms per loop (mean ± std. dev. of 7 runs, 10 loops each)\n"
     ]
    }
   ],
   "source": [
    "trials, events, list_length, presentations, list_types, rep_data, subjects = prepare_lohnas2014_data(\n",
    "    '../../data/repFR.mat')\n",
    "\n",
    "fit_values = np.array([8.52979921e-01, 9.68207643e-02, 9.64470531e-01, 3.73838044e-02,\n",
    "       2.22044605e-16, 4.62850531e-01, 3.18792422e+00, 8.62357681e+01,\n",
    "       2.13805131e-02, 1.06861707e-01, 1.18381379e+00, 9.83789369e-01])\n",
    "\n",
    "for i in range(len(fit_values)):\n",
    "    cmr_parameters[free_parameters[i]] = fit_values[i]\n",
    "\n",
    "print('lohnas, 2014 == 17271.524963186363')\n",
    "print(lohnas_data_likelihood(\n",
    "    trials[list_types == 4], \n",
    "    presentations[list_types == 4], \n",
    "    init_cmr, cmr_parameters))\n",
    "\n",
    "%timeit lohnas_data_likelihood(trials[list_types == 4], presentations[list_types == 4], init_cmr, cmr_parameters)"
   ]
  },
  {
   "cell_type": "markdown",
   "metadata": {},
   "source": [
    "## Fitting Pure Lists with `murdock_data_likelihood`"
   ]
  },
  {
   "cell_type": "markdown",
   "metadata": {},
   "source": [
    "With the runtime of the cost function established, we'll now use it with scipy's `differential_evolution` function to find the best fit parameters for the model to the single subject we're examining."
   ]
  },
  {
   "cell_type": "markdown",
   "metadata": {},
   "source": [
    "### Loading and Optimizing Along Cost Function"
   ]
  },
  {
   "cell_type": "code",
   "execution_count": 12,
   "metadata": {},
   "outputs": [
    {
     "name": "stdout",
     "output_type": "stream",
     "text": [
      "differential_evolution step 1: f(x)= 97308.5\n",
      "differential_evolution step 2: f(x)= 91013.4\n",
      "differential_evolution step 3: f(x)= 91013.4\n",
      "differential_evolution step 4: f(x)= 91013.4\n",
      "differential_evolution step 5: f(x)= 91013.4\n",
      "differential_evolution step 6: f(x)= 88452\n",
      "differential_evolution step 7: f(x)= 86792\n",
      "differential_evolution step 8: f(x)= 84293.4\n",
      "differential_evolution step 9: f(x)= 84293.4\n",
      "differential_evolution step 10: f(x)= 84293.4\n",
      "differential_evolution step 11: f(x)= 82942.1\n",
      "differential_evolution step 12: f(x)= 82942.1\n",
      "differential_evolution step 13: f(x)= 82942.1\n",
      "differential_evolution step 14: f(x)= 82518\n",
      "differential_evolution step 15: f(x)= 82311.4\n",
      "differential_evolution step 16: f(x)= 81474.7\n",
      "differential_evolution step 17: f(x)= 81474.7\n",
      "differential_evolution step 18: f(x)= 81474.7\n",
      "differential_evolution step 19: f(x)= 81474.7\n",
      "differential_evolution step 20: f(x)= 81474.7\n",
      "differential_evolution step 21: f(x)= 81474.7\n",
      "differential_evolution step 22: f(x)= 81474.7\n",
      "differential_evolution step 23: f(x)= 81474.7\n",
      "differential_evolution step 24: f(x)= 81474.7\n",
      "differential_evolution step 25: f(x)= 81474.7\n",
      "differential_evolution step 26: f(x)= 81474.7\n",
      "differential_evolution step 27: f(x)= 81474.7\n",
      "differential_evolution step 28: f(x)= 81036.4\n",
      "differential_evolution step 29: f(x)= 81036.4\n",
      "differential_evolution step 30: f(x)= 81036.4\n",
      "differential_evolution step 31: f(x)= 81036.4\n",
      "differential_evolution step 32: f(x)= 81036.4\n",
      "differential_evolution step 33: f(x)= 81036.4\n",
      "differential_evolution step 34: f(x)= 81036.4\n",
      "differential_evolution step 35: f(x)= 81036.4\n",
      "differential_evolution step 36: f(x)= 81036.4\n",
      "differential_evolution step 37: f(x)= 81036.4\n",
      "differential_evolution step 38: f(x)= 80813.8\n",
      "differential_evolution step 39: f(x)= 80813.8\n",
      "differential_evolution step 40: f(x)= 80591.5\n",
      "differential_evolution step 41: f(x)= 80591.5\n",
      "     fun: 80047.41028350465\n",
      "     jac: array([-1.34896253e+00,  4.80213202e-01,  1.85682437e+00, -5.99829946e+00,\n",
      "       -1.40143674e+02,  3.74129741e+00,  1.29512046e-01,  0.00000000e+00,\n",
      "       -1.22934580e+01, -8.96397979e-01,  4.49654183e-01, -2.86818248e+00])\n",
      " message: 'Optimization terminated successfully.'\n",
      "    nfev: 9419\n",
      "     nit: 41\n",
      " success: True\n",
      "       x: array([6.00473229e-01, 3.32875358e-02, 7.50604203e-01, 2.27164284e-01,\n",
      "       1.00000000e+00, 1.30584257e-01, 6.45835896e+00, 6.06522276e+01,\n",
      "       2.40310219e-02, 2.61880252e-01, 4.39924093e+00, 9.34438836e-01])\n"
     ]
    }
   ],
   "source": [
    "from scipy.optimize import differential_evolution\n",
    "import numpy as np\n",
    "\n",
    "lb = np.finfo(float).eps\n",
    "ub = 1-np.finfo(float).eps\n",
    "\n",
    "bounds = (\n",
    "    (lb, ub),\n",
    "    (lb, ub),\n",
    "    (lb, ub),\n",
    "    (lb, ub),\n",
    "    (lb, ub),\n",
    "    (lb, ub),\n",
    "    (lb, 100),\n",
    "    (lb, 100),\n",
    "    (lb, ub),\n",
    "    (lb, 10),\n",
    "    (lb, 10),\n",
    "    (lb, ub),\n",
    ")\n",
    "\n",
    "# cost function to be minimized\n",
    "# ours scales inversely with the probability that the data could have been \n",
    "# generated using the specified parameters and our model\n",
    "cost_function = murdock_objective_function(\n",
    "    (murd_trials0, murd_trials1, murd_trials2), \n",
    "    (murd_length0,murd_length1, murd_length2), \n",
    "    init_cmr,\n",
    "    {'sampling_rule': 0, 'mfc_familiarity_scale': 0, 'mcf_familiarity_scale': 0, 'drift_familiarity_scale': 0}, \n",
    "    free_parameters)\n",
    "\n",
    "result = differential_evolution(cost_function, bounds, disp=True)\n",
    "print(result)"
   ]
  },
  {
   "cell_type": "markdown",
   "metadata": {},
   "source": [
    "We expect these results:\n",
    "\n",
    "```\n",
    "     fun: 80052.68887354505\n",
    "     jac: array([  10.6170773 ,   17.17708073,   -2.77505022,   -2.50875019,\n",
    "       -123.24599022,   17.89885574,   -2.93221094,    0.        ,\n",
    "        118.13972376,   26.6605639 ,    7.70960473,    7.07950672])\n",
    " message: 'Optimization terminated successfully.'\n",
    "    nfev: 7882\n",
    "     nit: 36\n",
    " success: True\n",
    "       x: array([5.88304182e-01, 3.76144942e-02, 7.51294302e-01, 2.91680115e-01,\n",
    "       1.00000000e+00, 1.39633721e-01, 5.62625588e+00, 4.28789782e+01,\n",
    "       2.40537436e-02, 2.61824232e-01, 5.32941045e+00, 9.34036191e-01])\n",
    "```"
   ]
  },
  {
   "cell_type": "markdown",
   "metadata": {},
   "source": [
    "The `x` attribute of the result object contains the best parameter configuration found, while the `fun` attribute represents the overall cost of the configuration as computed with our specified cost function. "
   ]
  },
  {
   "cell_type": "markdown",
   "metadata": {},
   "source": [
    "### Visualizing Fit\n",
    "Next we'll visualize the fit of the model and its parameters to the data. We'll do this by simulating a dataset using the models and our parameters found above and plotting its simulated benchmark recall phenomena (serial position curve, lag-CRP, and probability of first recall) against the actual data. A new helper function called `apply_and_concatenate` helps streamline the process of setting up tables for comparison of an analysis outcome between simulated and real data."
   ]
  },
  {
   "cell_type": "code",
   "execution_count": 13,
   "metadata": {},
   "outputs": [],
   "source": [
    "# export\n",
    "import pandas as pd\n",
    "\n",
    "def apply_and_concatenate(function, df1, df2, contrast_name='contrast', labels='AB'):\n",
    "    \"\"\"\n",
    "    Concatenates the results of a function applied to two dataframes and creates a new column identifying the contrast.\n",
    "    \"\"\"\n",
    "    return pd.concat([function(df1), function(df2)], keys=labels, names=[contrast_name]).reset_index()"
   ]
  },
  {
   "cell_type": "markdown",
   "metadata": {},
   "source": [
    "Now let's create some simulated data with our model and fitted parameters."
   ]
  },
  {
   "cell_type": "code",
   "execution_count": 28,
   "metadata": {},
   "outputs": [],
   "source": [
    "from compmemlearn.datasets import simulate_df\n",
    "\n",
    "fitted_parameters = Dict.empty(key_type=types.unicode_type, value_type=types.float64)\n",
    "for i in range(len(result.x)):\n",
    "    fitted_parameters[free_parameters[i]] = result.x[i]\n",
    "fitted_parameters['sampling_rule'] = 0\n",
    "fitted_parameters['mfc_familiarity_scale'] = 0\n",
    "fitted_parameters['mcf_familiarity_scale'] = 0\n",
    "fitted_parameters['drift_familiarity_scale'] = 0\n",
    "\n",
    "model0 = Classic_CMR(murd_length0, murd_length0, fitted_parameters)\n",
    "model1 = Classic_CMR(murd_length1, murd_length1, fitted_parameters)\n",
    "model2 = Classic_CMR(murd_length2, murd_length2, fitted_parameters)\n",
    "\n",
    "sim_df0 = simulate_df(model0, 1000)\n",
    "sim_df1 = simulate_df(model1, 1000)\n",
    "sim_df2 = simulate_df(model2, 1000)\n",
    "true_df0 = murd_events0.copy()\n",
    "true_df1 = murd_events1.copy()\n",
    "true_df2 = murd_events2.copy()"
   ]
  },
  {
   "cell_type": "markdown",
   "metadata": {},
   "source": [
    "Then extract summary statistics..."
   ]
  },
  {
   "cell_type": "code",
   "execution_count": 30,
   "metadata": {},
   "outputs": [],
   "source": [
    "cmr_spc0 = apply_and_concatenate(fr.spc, sim_df0, true_df0, contrast_name='source', labels=['PrototypeCMR', 'data'])\n",
    "cmr_lag_crp0 = apply_and_concatenate(fr.lag_crp, sim_df0, true_df0, 'source', ['PrototypeCMR', 'data'])\n",
    "cmr_pfr0 = apply_and_concatenate(fr.pnr, sim_df0, true_df0, contrast_name='source', labels=['PrototypeCMR', 'data'])\n",
    "cmr_pfr0 = cmr_pfr0.query('output <= 1')\n",
    "\n",
    "cmr_spc1 = apply_and_concatenate(fr.spc, sim_df1, true_df1, contrast_name='source', labels=['PrototypeCMR', 'data'])\n",
    "cmr_lag_crp1 = apply_and_concatenate(fr.lag_crp, sim_df1, true_df1, 'source', ['PrototypeCMR', 'data'])\n",
    "cmr_pfr1 = apply_and_concatenate(fr.pnr, sim_df1, true_df1, contrast_name='source', labels=['PrototypeCMR', 'data'])\n",
    "cmr_pfr1 = cmr_pfr1.query('output <= 1')\n",
    "\n",
    "cmr_spc2 = apply_and_concatenate(fr.spc, sim_df2, true_df2, contrast_name='source', labels=['PrototypeCMR', 'data'])\n",
    "cmr_lag_crp2 = apply_and_concatenate(fr.lag_crp, sim_df2, true_df2, 'source', ['PrototypeCMR', 'data'])\n",
    "cmr_pfr2 = apply_and_concatenate(fr.pnr, sim_df2, true_df2, contrast_name='source', labels=['PrototypeCMR', 'data'])\n",
    "cmr_pfr2 = cmr_pfr2.query('output <= 1')"
   ]
  },
  {
   "cell_type": "markdown",
   "metadata": {},
   "source": [
    "And plot the result..."
   ]
  },
  {
   "cell_type": "code",
   "execution_count": 31,
   "metadata": {},
   "outputs": [
    {
     "data": {
      "image/png": "[encoded data removed]",
      "text/plain": [
       "<Figure size 864x576 with 9 Axes>"
      ]
     },
     "metadata": {},
     "output_type": "display_data"
    }
   ],
   "source": [
    "fig, axes = plt.subplots(nrows=3, ncols=3, figsize=(12, 12/1.5), sharey=False)\n",
    "\n",
    "# serial position curve\n",
    "sns.lineplot(ax=axes[0, 0], data=cmr_spc0, x='input', y='recall', err_style='bars', hue='source', legend=False)\n",
    "axes[0, 0].set(xlabel='Study Position', ylabel='Recall Rate')\n",
    "axes[0, 0].set_xticks(np.arange(1, murd_length0+1, 2))\n",
    "axes[0, 0].set_ylim((0, 1))\n",
    "\n",
    "sns.lineplot(ax=axes[0, 1], data=cmr_spc1, x='input', y='recall', err_style='bars', hue='source', legend=False)\n",
    "axes[0, 1].set(xlabel='Study Position', ylabel='Recall Rate')\n",
    "axes[0, 1].set_xticks(np.arange(1, murd_length1+1, 3))\n",
    "axes[0, 1].set_ylim((0, 1))\n",
    "\n",
    "sns.lineplot(ax=axes[0, 2], data=cmr_spc2, x='input', y='recall', err_style='bars', hue='source', legend=True)\n",
    "axes[0, 2].set(xlabel='Study Position', ylabel='Recall Rate')\n",
    "axes[0, 2].set_xticks(np.arange(1, murd_length2+1, 4))\n",
    "axes[0, 2].set_ylim((0, 1))\n",
    "\n",
    "# lag CRP\n",
    "max_lag = 5\n",
    "filt_neg = f'{-max_lag} <= lag < 0'\n",
    "filt_pos = f'0 < lag <= {max_lag}'\n",
    "\n",
    "sns.lineplot(ax=axes[1, 0], data=cmr_lag_crp0.query(filt_neg), x='lag', y='prob', \n",
    "             err_style='bars', hue='source', legend=False)\n",
    "sns.lineplot(ax=axes[1, 0], data=cmr_lag_crp0.query(filt_pos), x='lag', y='prob', \n",
    "             err_style='bars', hue='source', legend=False)\n",
    "axes[1, 0].set(xlabel='Lag From Last Recalled Item', ylabel='Conditional Recall Rate')\n",
    "axes[1, 0].set_xticks(np.arange(-5, 6, 1))\n",
    "axes[1, 0].set_ylim((0, 1))\n",
    "\n",
    "sns.lineplot(ax=axes[1, 1], data=cmr_lag_crp1.query(filt_neg), x='lag', y='prob', \n",
    "             err_style='bars', hue='source', legend=False)\n",
    "sns.lineplot(ax=axes[1, 1], data=cmr_lag_crp1.query(filt_pos), x='lag', y='prob', \n",
    "             err_style='bars', hue='source', legend=False)\n",
    "axes[1, 1].set(xlabel=\"Lag From Last Recalled Item\", ylabel='Conditional Recall Rate')\n",
    "axes[1, 1].set_xticks(np.arange(-5, 6, 1))\n",
    "axes[1, 1].set_ylim((0, 1))\n",
    "\n",
    "sns.lineplot(ax=axes[1, 2], data=cmr_lag_crp2.query(filt_neg), x='lag', y='prob', \n",
    "             err_style='bars', hue='source', legend=False)\n",
    "sns.lineplot(ax=axes[1, 2], data=cmr_lag_crp2.query(filt_pos), x='lag', y='prob', \n",
    "             err_style='bars', hue='source', legend=False)\n",
    "axes[1, 2].set(xlabel='Lag From Last Recalled Item', ylabel='Conditional Recall Rate')\n",
    "axes[1, 2].set_xticks(np.arange(-5, 6, 1))\n",
    "axes[1, 2].set_ylim((0, 1))\n",
    "\n",
    "# pfr\n",
    "sns.lineplot(data=cmr_pfr0, x='input', y='prob', err_style='bars', ax=axes[2, 0], hue='source', legend=False)\n",
    "axes[2, 0].set(xlabel='Study Position', ylabel='Probability of First Recall')\n",
    "axes[2, 0].set_xticks(np.arange(1, murd_length0+1, 2))\n",
    "axes[2, 0].set_ylim((0, 1))\n",
    "\n",
    "sns.lineplot(data=cmr_pfr1, x='input', y='prob', err_style='bars', ax=axes[2, 1], hue='source', legend=False)\n",
    "axes[2, 1].set(xlabel='Study Position', ylabel='Probability of First Recall')\n",
    "axes[2, 1].set_xticks(np.arange(1, murd_length1+1, 3))\n",
    "axes[2, 1].set_ylim((0, 1))\n",
    "\n",
    "sns.lineplot(data=cmr_pfr2, x='input', y='prob', err_style='bars', ax=axes[2, 2], hue='source', legend=False)\n",
    "axes[2, 2].set(xlabel='Study Position', ylabel='Probability of First Recall')\n",
    "axes[2, 2].set_xticks(np.arange(1, murd_length2+1, 4))\n",
    "axes[2, 2].set_ylim((0, 1))\n",
    "\n",
    "# set legend of axis 2 outside the plot, to the right\n",
    "axes[0, 2].legend(bbox_to_anchor=(1.05, 1), loc=2, borderaxespad=0.)\n",
    "plt.tight_layout(pad=2)"
   ]
  },
  {
   "cell_type": "markdown",
   "metadata": {},
   "source": [
    "### Why aren't the fits better?\n",
    "The model doesn't actually do a good job of capturing some of the quirks in the data -- namely the graded probability of first recall curve in that last plot. CMR predicts a much sharper curve than the actual data and its struggle to account for something different results in worse apparent fits to other benchmark recall phenomena visualized here too. At least, that's our best guess about what's behind the failure."
   ]
  },
  {
   "cell_type": "markdown",
   "metadata": {},
   "source": [
    "## Fitting Pure Lists with `lohnas_data_likelihood`\n",
    "`lohnas_data_likelihood` is almost always slower than `murdock_data_likelihood` when it comes to fitting pure lists, but it's useful to confirm that the functions work similarly in the use cases under which they overlap."
   ]
  },
  {
   "cell_type": "code",
   "execution_count": 64,
   "metadata": {},
   "outputs": [],
   "source": [
    "trials, events, list_length, presentations, list_types, rep_data, subjects = prepare_lohnas2014_data(\n",
    "    '../../data/repFR.mat')\n",
    "\n",
    "free_parameters = (\n",
    "    'encoding_drift_rate',\n",
    "    'start_drift_rate',\n",
    "    'recall_drift_rate',\n",
    "    'shared_support',\n",
    "    'item_support',\n",
    "    'learning_rate',\n",
    "    'primacy_scale',\n",
    "    'primacy_decay',\n",
    "    'stop_probability_scale',\n",
    "    'stop_probability_growth',\n",
    "    'choice_sensitivity',\n",
    "    'delay_drift_rate'\n",
    ")"
   ]
  },
  {
   "cell_type": "markdown",
   "metadata": {},
   "source": [
    "### Loading and Optimizing Along Cost Function"
   ]
  },
  {
   "cell_type": "code",
   "execution_count": 70,
   "metadata": {},
   "outputs": [
    {
     "name": "stdout",
     "output_type": "stream",
     "text": [
      "differential_evolution step 1: f(x)= 22456.8\n",
      "differential_evolution step 2: f(x)= 21794.3\n",
      "differential_evolution step 3: f(x)= 21794.3\n",
      "differential_evolution step 4: f(x)= 21794.3\n",
      "differential_evolution step 5: f(x)= 21794.3\n",
      "differential_evolution step 6: f(x)= 21794.3\n",
      "differential_evolution step 7: f(x)= 21794.3\n",
      "differential_evolution step 8: f(x)= 20789\n",
      "differential_evolution step 9: f(x)= 20711.1\n",
      "differential_evolution step 10: f(x)= 20552.2\n",
      "differential_evolution step 11: f(x)= 20552.2\n",
      "differential_evolution step 12: f(x)= 19784.7\n",
      "differential_evolution step 13: f(x)= 19524.3\n",
      "differential_evolution step 14: f(x)= 19524.3\n",
      "differential_evolution step 15: f(x)= 19524.3\n",
      "differential_evolution step 16: f(x)= 19262.8\n",
      "differential_evolution step 17: f(x)= 19194.9\n",
      "differential_evolution step 18: f(x)= 19194.9\n",
      "differential_evolution step 19: f(x)= 19194.9\n",
      "differential_evolution step 20: f(x)= 19194.9\n",
      "differential_evolution step 21: f(x)= 19194.9\n",
      "differential_evolution step 22: f(x)= 19043.8\n",
      "differential_evolution step 23: f(x)= 19043.8\n",
      "differential_evolution step 24: f(x)= 19038.3\n",
      "differential_evolution step 25: f(x)= 19038.3\n",
      "differential_evolution step 26: f(x)= 19038.3\n",
      "differential_evolution step 27: f(x)= 19038.3\n",
      "differential_evolution step 28: f(x)= 18939.9\n",
      "differential_evolution step 29: f(x)= 18939.9\n",
      "differential_evolution step 30: f(x)= 18939.9\n",
      "differential_evolution step 31: f(x)= 18939.9\n",
      "differential_evolution step 32: f(x)= 18878.9\n",
      "differential_evolution step 33: f(x)= 18878.9\n",
      "differential_evolution step 34: f(x)= 18878.9\n",
      "differential_evolution step 35: f(x)= 18878.9\n",
      "differential_evolution step 36: f(x)= 18878.9\n",
      "differential_evolution step 37: f(x)= 18878.9\n",
      "differential_evolution step 38: f(x)= 18878.9\n",
      "differential_evolution step 39: f(x)= 18878.9\n",
      "differential_evolution step 40: f(x)= 18878.9\n",
      "     fun: 18810.058985583455\n",
      "     jac: array([ 2.22415109e+01, -6.99197695e+01,  2.76399076e+01,  2.91838660e+01,\n",
      "        1.67485268e+01, -4.66279741e+01, -1.05916114e+01,  0.00000000e+00,\n",
      "        4.38329152e+01, -1.48027539e+02, -2.56040950e+00, -3.63797881e-04])\n",
      " message: 'Optimization terminated successfully.'\n",
      "    nfev: 8524\n",
      "     nit: 40\n",
      " success: True\n",
      "       x: array([7.33635729e-01, 5.46844102e-01, 9.32757477e-01, 4.54648984e-01,\n",
      "       5.28712166e-02, 1.00000000e+00, 5.75890108e-01, 8.17565974e+01,\n",
      "       2.52220993e-02, 8.70307405e-02, 6.42673177e+00, 2.22044605e-16])\n"
     ]
    }
   ],
   "source": [
    "from scipy.optimize import differential_evolution\n",
    "import numpy as np\n",
    "\n",
    "lb = np.finfo(float).eps\n",
    "ub = 1-np.finfo(float).eps\n",
    "\n",
    "bounds = (\n",
    "    (lb, ub),\n",
    "    (lb, ub),\n",
    "    (lb, ub),\n",
    "    (lb, ub),\n",
    "    (lb, ub),\n",
    "    (lb, ub),\n",
    "    (lb, 100),\n",
    "    (lb, 100),\n",
    "    (lb, ub),\n",
    "    (lb, 10),\n",
    "    (lb, 10),\n",
    "    (lb, ub),\n",
    ")\n",
    "\n",
    "# cost function to be minimized\n",
    "# ours scales inversely with the probability that the data could have been \n",
    "# generated using the specified parameters and our model\n",
    "cost_function = lohnas_objective_function(\n",
    "    trials[list_types == 1], \n",
    "    presentations[list_types == 1], \n",
    "    init_cmr,\n",
    "    {'sampling_rule': 0, 'mfc_familiarity_scale': 0, 'mcf_familiarity_scale': 0, 'drift_familiarity_scale': 0}, \n",
    "    free_parameters)\n",
    "\n",
    "lohnas_result = differential_evolution(cost_function, bounds, disp=True)\n",
    "print(lohnas_result)"
   ]
  },
  {
   "cell_type": "code",
   "execution_count": 71,
   "metadata": {},
   "outputs": [
    {
     "data": {
      "image/png": "[encoded data removed]",
      "text/plain": [
       "<Figure size 864x288 with 3 Axes>"
      ]
     },
     "metadata": {},
     "output_type": "display_data"
    }
   ],
   "source": [
    "from compmemlearn.datasets import simulate_df\n",
    "\n",
    "fitted_parameters = Dict.empty(key_type=types.unicode_type, value_type=types.float64)\n",
    "for i in range(len(lohnas_result.x)):\n",
    "    fitted_parameters[free_parameters[i]] = lohnas_result.x[i]\n",
    "fitted_parameters['sampling_rule'] = 0\n",
    "fitted_parameters['mfc_familiarity_scale'] = 0\n",
    "fitted_parameters['mcf_familiarity_scale'] = 0\n",
    "fitted_parameters['drift_familiarity_scale'] = 0\n",
    "\n",
    "model0 = Classic_CMR(40, 40, fitted_parameters)\n",
    "\n",
    "sim_df0 = simulate_df(model0, 1000)\n",
    "true_df0 = events.loc[events.condition==1]\n",
    "\n",
    "cmr_spc0 = apply_and_concatenate(fr.spc, sim_df0, true_df0, contrast_name='source', labels=['PrototypeCMR', 'data'])\n",
    "cmr_lag_crp0 = apply_and_concatenate(fr.lag_crp, sim_df0, true_df0, 'source', ['PrototypeCMR', 'data'])\n",
    "cmr_pfr0 = apply_and_concatenate(fr.pnr, sim_df0, true_df0, contrast_name='source', labels=['PrototypeCMR', 'data'])\n",
    "cmr_pfr0 = cmr_pfr0.query('output <= 1')\n",
    "\n",
    "fig, axes = plt.subplots(nrows=1, ncols=3, figsize=(12, 12/3), sharey=False)\n",
    "\n",
    "# serial position curve\n",
    "sns.lineplot(ax=axes[0], data=cmr_spc0, x='input', y='recall', err_style='bars', hue='source', legend=False)\n",
    "axes[0].set(xlabel='Study Position', ylabel='Recall Rate')\n",
    "axes[0].set_xticks(np.arange(1, list_length+1, 3))\n",
    "axes[0].set_ylim((0, 1))\n",
    "\n",
    "# lag CRP\n",
    "max_lag = 5\n",
    "filt_neg = f'{-max_lag} <= lag < 0'\n",
    "filt_pos = f'0 < lag <= {max_lag}'\n",
    "\n",
    "sns.lineplot(ax=axes[1], data=cmr_lag_crp0.query(filt_neg), x='lag', y='prob', \n",
    "             err_style='bars', hue='source', legend=False)\n",
    "sns.lineplot(ax=axes[1], data=cmr_lag_crp0.query(filt_pos), x='lag', y='prob', \n",
    "             err_style='bars', hue='source', legend=False)\n",
    "axes[1].set(xlabel='Lag From Last Recalled Item', ylabel='Conditional Recall Rate')\n",
    "axes[1].set_xticks(np.arange(-5, 6, 1))\n",
    "axes[1].set_ylim((0, 1))\n",
    "\n",
    "# pfr\n",
    "sns.lineplot(data=cmr_pfr0, x='input', y='prob', err_style='bars', ax=axes[2], hue='source', legend=True)\n",
    "axes[2].set(xlabel='Study Position', ylabel='Probability of First Recall')\n",
    "axes[2].set_xticks(np.arange(1, list_length+1, 3))\n",
    "axes[2].set_ylim((0, 1))\n",
    "\n",
    "# set legend of axis 2 outside the plot, to the right\n",
    "axes[2].legend(bbox_to_anchor=(1.05, 1), loc=2, borderaxespad=0.)\n",
    "plt.tight_layout(pad=2)"
   ]
  },
  {
   "cell_type": "markdown",
   "metadata": {},
   "source": [
    "### Let's compare this result with what we'd obtain if we fit using `murdock_data_likelihood`."
   ]
  },
  {
   "cell_type": "code",
   "execution_count": 68,
   "metadata": {},
   "outputs": [
    {
     "name": "stdout",
     "output_type": "stream",
     "text": [
      "differential_evolution step 1: f(x)= 25374.1\n",
      "differential_evolution step 2: f(x)= 22149.1\n",
      "differential_evolution step 3: f(x)= 22149.1\n",
      "differential_evolution step 4: f(x)= 22149.1\n",
      "differential_evolution step 5: f(x)= 22149.1\n",
      "differential_evolution step 6: f(x)= 21726.2\n",
      "differential_evolution step 7: f(x)= 21186.5\n",
      "differential_evolution step 8: f(x)= 20212.4\n",
      "differential_evolution step 9: f(x)= 20212.4\n",
      "differential_evolution step 10: f(x)= 20212.4\n",
      "differential_evolution step 11: f(x)= 20212.4\n",
      "differential_evolution step 12: f(x)= 19736.4\n",
      "differential_evolution step 13: f(x)= 19736.4\n",
      "differential_evolution step 14: f(x)= 19315.3\n",
      "differential_evolution step 15: f(x)= 19315.3\n",
      "differential_evolution step 16: f(x)= 19310.9\n",
      "differential_evolution step 17: f(x)= 19166.4\n",
      "differential_evolution step 18: f(x)= 19166.4\n",
      "differential_evolution step 19: f(x)= 19166.4\n",
      "differential_evolution step 20: f(x)= 19166.4\n",
      "differential_evolution step 21: f(x)= 19166.4\n",
      "differential_evolution step 22: f(x)= 19161.6\n",
      "differential_evolution step 23: f(x)= 19161.6\n",
      "differential_evolution step 24: f(x)= 19136.2\n",
      "differential_evolution step 25: f(x)= 19113.5\n",
      "differential_evolution step 26: f(x)= 18970.4\n",
      "differential_evolution step 27: f(x)= 18931.5\n",
      "differential_evolution step 28: f(x)= 18931.5\n",
      "differential_evolution step 29: f(x)= 18931.5\n",
      "differential_evolution step 30: f(x)= 18925.5\n",
      "differential_evolution step 31: f(x)= 18925.5\n",
      "differential_evolution step 32: f(x)= 18925.5\n",
      "differential_evolution step 33: f(x)= 18925.5\n",
      "differential_evolution step 34: f(x)= 18925.5\n",
      "differential_evolution step 35: f(x)= 18899.1\n",
      "differential_evolution step 36: f(x)= 18899.1\n",
      "differential_evolution step 37: f(x)= 18899.1\n",
      "differential_evolution step 38: f(x)= 18899.1\n",
      "     fun: 18807.983211993796\n",
      "     jac: array([ 1.09866959e-01, -1.17142917e-01, -9.85892252e-02, -1.12049747e-01,\n",
      "        1.20442564e+01, -4.45139447e+01, -2.14640749e-02,  0.00000000e+00,\n",
      "        1.42608769e-01, -3.45607987e-02,  9.45874496e-03,  0.00000000e+00])\n",
      " message: 'Optimization terminated successfully.'\n",
      "    nfev: 8385\n",
      "     nit: 38\n",
      " success: True\n",
      "       x: array([7.34343133e-01, 5.77169827e-01, 9.32322680e-01, 3.95403975e-01,\n",
      "       2.22044605e-16, 1.00000000e+00, 5.52537331e-01, 5.21590857e+01,\n",
      "       2.36174418e-02, 9.12284879e-02, 5.76055376e+00, 2.22044605e-16])\n"
     ]
    }
   ],
   "source": [
    "from scipy.optimize import differential_evolution\n",
    "import numpy as np\n",
    "\n",
    "lb = np.finfo(float).eps\n",
    "ub = 1-np.finfo(float).eps\n",
    "\n",
    "bounds = (\n",
    "    (lb, ub),\n",
    "    (lb, ub),\n",
    "    (lb, ub),\n",
    "    (lb, ub),\n",
    "    (lb, ub),\n",
    "    (lb, ub),\n",
    "    (lb, 100),\n",
    "    (lb, 100),\n",
    "    (lb, ub),\n",
    "    (lb, 10),\n",
    "    (lb, 10),\n",
    "    (lb, ub),\n",
    ")\n",
    "\n",
    "# cost function to be minimized\n",
    "# ours scales inversely with the probability that the data could have been \n",
    "# generated using the specified parameters and our model\n",
    "cost_function = murdock_objective_function(\n",
    "    (trials[list_types==1], ), \n",
    "    (40, ), \n",
    "    init_cmr,\n",
    "    {'sampling_rule': 0, 'mfc_familiarity_scale': 0, 'mcf_familiarity_scale': 0, 'drift_familiarity_scale': 0}, \n",
    "    free_parameters)\n",
    "\n",
    "murdock_result = differential_evolution(cost_function, bounds, disp=True)\n",
    "print(murdock_result)"
   ]
  },
  {
   "cell_type": "code",
   "execution_count": 69,
   "metadata": {},
   "outputs": [
    {
     "data": {
      "image/png": "[encoded data removed]",
      "text/plain": [
       "<Figure size 864x288 with 3 Axes>"
      ]
     },
     "metadata": {},
     "output_type": "display_data"
    }
   ],
   "source": [
    "from compmemlearn.datasets import simulate_df\n",
    "\n",
    "fitted_parameters = Dict.empty(key_type=types.unicode_type, value_type=types.float64)\n",
    "for i in range(len(murdock_result.x)):\n",
    "    fitted_parameters[free_parameters[i]] = murdock_result.x[i]\n",
    "fitted_parameters['sampling_rule'] = 0\n",
    "fitted_parameters['mfc_familiarity_scale'] = 0\n",
    "fitted_parameters['mcf_familiarity_scale'] = 0\n",
    "fitted_parameters['drift_familiarity_scale'] = 0\n",
    "\n",
    "model0 = Classic_CMR(40, 40, fitted_parameters)\n",
    "\n",
    "sim_df0 = simulate_df(model0, 1000)\n",
    "true_df0 = events.loc[events.condition==1]\n",
    "\n",
    "cmr_spc0 = apply_and_concatenate(fr.spc, sim_df0, true_df0, contrast_name='source', labels=['PrototypeCMR', 'data'])\n",
    "cmr_lag_crp0 = apply_and_concatenate(fr.lag_crp, sim_df0, true_df0, 'source', ['PrototypeCMR', 'data'])\n",
    "cmr_pfr0 = apply_and_concatenate(fr.pnr, sim_df0, true_df0, contrast_name='source', labels=['PrototypeCMR', 'data'])\n",
    "cmr_pfr0 = cmr_pfr0.query('output <= 1')\n",
    "\n",
    "fig, axes = plt.subplots(nrows=1, ncols=3, figsize=(12, 12/3), sharey=False)\n",
    "\n",
    "# serial position curve\n",
    "sns.lineplot(ax=axes[0], data=cmr_spc0, x='input', y='recall', err_style='bars', hue='source', legend=False)\n",
    "axes[0].set(xlabel='Study Position', ylabel='Recall Rate')\n",
    "axes[0].set_xticks(np.arange(1, list_length+1, 3))\n",
    "axes[0].set_ylim((0, 1))\n",
    "\n",
    "# lag CRP\n",
    "max_lag = 5\n",
    "filt_neg = f'{-max_lag} <= lag < 0'\n",
    "filt_pos = f'0 < lag <= {max_lag}'\n",
    "\n",
    "sns.lineplot(ax=axes[1], data=cmr_lag_crp0.query(filt_neg), x='lag', y='prob', \n",
    "             err_style='bars', hue='source', legend=False)\n",
    "sns.lineplot(ax=axes[1], data=cmr_lag_crp0.query(filt_pos), x='lag', y='prob', \n",
    "             err_style='bars', hue='source', legend=False)\n",
    "axes[1].set(xlabel='Lag From Last Recalled Item', ylabel='Conditional Recall Rate')\n",
    "axes[1].set_xticks(np.arange(-5, 6, 1))\n",
    "axes[1].set_ylim((0, 1))\n",
    "\n",
    "# pfr\n",
    "sns.lineplot(data=cmr_pfr0, x='input', y='prob', err_style='bars', ax=axes[2], hue='source', legend=True)\n",
    "axes[2].set(xlabel='Study Position', ylabel='Probability of First Recall')\n",
    "axes[2].set_xticks(np.arange(1, list_length+1, 3))\n",
    "axes[2].set_ylim((0, 1))\n",
    "\n",
    "# set legend of axis 2 outside the plot, to the right\n",
    "axes[2].legend(bbox_to_anchor=(1.05, 1), loc=2, borderaxespad=0.)\n",
    "plt.tight_layout(pad=2)"
   ]
  },
  {
   "cell_type": "markdown",
   "metadata": {},
   "source": [
    "## Fitting Mixed Lists with `lohnas_data_likelihood`"
   ]
  },
  {
   "cell_type": "code",
   "execution_count": 76,
   "metadata": {},
   "outputs": [],
   "source": [
    "trials, events, list_length, presentations, list_types, rep_data, subjects = prepare_lohnas2014_data(\n",
    "    '../../data/repFR.mat')\n",
    "\n",
    "free_parameters = (\n",
    "    'encoding_drift_rate',\n",
    "    'start_drift_rate',\n",
    "    'recall_drift_rate',\n",
    "    'shared_support',\n",
    "    'item_support',\n",
    "    'learning_rate',\n",
    "    'primacy_scale',\n",
    "    'primacy_decay',\n",
    "    'stop_probability_scale',\n",
    "    'stop_probability_growth',\n",
    "    'choice_sensitivity',\n",
    "    'delay_drift_rate',\n",
    ")"
   ]
  },
  {
   "cell_type": "markdown",
   "metadata": {},
   "source": [
    "### Loading and Optimizing Along Cost Function"
   ]
  },
  {
   "cell_type": "code",
   "execution_count": 91,
   "metadata": {},
   "outputs": [
    {
     "name": "stdout",
     "output_type": "stream",
     "text": [
      "differential_evolution step 1: f(x)= 21960.7\n",
      "differential_evolution step 2: f(x)= 19692\n",
      "differential_evolution step 3: f(x)= 19692\n",
      "differential_evolution step 4: f(x)= 19692\n",
      "differential_evolution step 5: f(x)= 19692\n",
      "differential_evolution step 6: f(x)= 19692\n",
      "differential_evolution step 7: f(x)= 19692\n",
      "differential_evolution step 8: f(x)= 19692\n",
      "differential_evolution step 9: f(x)= 19106\n",
      "differential_evolution step 10: f(x)= 19106\n",
      "differential_evolution step 11: f(x)= 19106\n",
      "differential_evolution step 12: f(x)= 19012.4\n",
      "differential_evolution step 13: f(x)= 19012.4\n",
      "differential_evolution step 14: f(x)= 18122.3\n",
      "differential_evolution step 15: f(x)= 18122.3\n",
      "differential_evolution step 16: f(x)= 18122.3\n",
      "differential_evolution step 17: f(x)= 18122.3\n",
      "differential_evolution step 18: f(x)= 18035.6\n",
      "differential_evolution step 19: f(x)= 18035.6\n",
      "differential_evolution step 20: f(x)= 17991.2\n",
      "differential_evolution step 21: f(x)= 17770.7\n",
      "differential_evolution step 22: f(x)= 17711\n",
      "differential_evolution step 23: f(x)= 17711\n",
      "differential_evolution step 24: f(x)= 17657.4\n",
      "differential_evolution step 25: f(x)= 17433.7\n",
      "differential_evolution step 26: f(x)= 17433.7\n",
      "differential_evolution step 27: f(x)= 17433.7\n",
      "differential_evolution step 28: f(x)= 17433.7\n",
      "differential_evolution step 29: f(x)= 17433.7\n",
      "differential_evolution step 30: f(x)= 17433.7\n",
      "differential_evolution step 31: f(x)= 17433.7\n",
      "differential_evolution step 32: f(x)= 17433.7\n",
      "differential_evolution step 33: f(x)= 17433.7\n",
      "differential_evolution step 34: f(x)= 17433.7\n",
      "differential_evolution step 35: f(x)= 17433.7\n",
      "differential_evolution step 36: f(x)= 17433.7\n",
      "differential_evolution step 37: f(x)= 17433.7\n",
      "differential_evolution step 38: f(x)= 17433.7\n",
      "differential_evolution step 39: f(x)= 17360\n",
      "     fun: 17170.906872565276\n",
      "     jac: array([-3.17231750e-01,  4.29281499e-02,  2.78305377e-01, -1.91357685e-01,\n",
      "        2.77457730e+01, -2.11002771e-02,  4.72937248e-03,  8.58562999e-02,\n",
      "       -4.09636414e+00, -7.53061613e-01,  1.41881174e-02,  0.00000000e+00])\n",
      " message: 'Optimization terminated successfully.'\n",
      "    nfev: 9553\n",
      "     nit: 39\n",
      " success: True\n",
      "       x: array([8.37481840e-01, 3.33421728e-01, 9.66834627e-01, 5.95371489e-02,\n",
      "       2.22044605e-16, 4.45280033e-01, 4.47215803e+00, 4.07037005e-01,\n",
      "       2.13742105e-02, 1.06866782e-01, 1.31660740e+00, 8.61694026e-09])\n"
     ]
    }
   ],
   "source": [
    "from scipy.optimize import differential_evolution\n",
    "import numpy as np\n",
    "\n",
    "lb = np.finfo(float).eps\n",
    "ub = 1-np.finfo(float).eps\n",
    "\n",
    "bounds = (\n",
    "    (lb, ub),\n",
    "    (lb, ub),\n",
    "    (lb, ub),\n",
    "    (lb, ub),\n",
    "    (lb, ub),\n",
    "    (lb, ub),\n",
    "    (lb, 100),\n",
    "    (lb, 100),\n",
    "    (lb, ub),\n",
    "    (lb, 10),\n",
    "    (lb, 10),\n",
    "    (lb, ub),\n",
    ")\n",
    "\n",
    "# cost function to be minimized\n",
    "# ours scales inversely with the probability that the data could have been \n",
    "# generated using the specified parameters and our model\n",
    "cost_function = lohnas_objective_function(\n",
    "    trials[list_types == 4], \n",
    "    presentations[list_types == 4], \n",
    "    init_cmr,\n",
    "    {'sampling_rule': 0, 'mfc_familiarity_scale': 0, 'mcf_familiarity_scale': 0, 'drift_familiarity_scale': 0}, \n",
    "    free_parameters)\n",
    "\n",
    "lohnas_result = differential_evolution(cost_function, bounds, disp=True)\n",
    "print(lohnas_result)"
   ]
  },
  {
   "cell_type": "code",
   "execution_count": 92,
   "metadata": {},
   "outputs": [],
   "source": [
    "from compmemlearn.datasets import simulate_array_from_presentations\n",
    "from compmemlearn.analyses import fast_rpl\n",
    "\n",
    "fitted_parameters = Dict.empty(\n",
    "    key_type=types.unicode_type, value_type=types.float64)\n",
    "for j in range(len(lohnas_result.x)):\n",
    "    fitted_parameters[free_parameters[j]] = lohnas_result.x[j]\n",
    "\n",
    "fitted_parameters['sampling_rule'] = 0\n",
    "fitted_parameters['mfc_familiarity_scale'] = 0\n",
    "fitted_parameters['mcf_familiarity_scale'] = 0\n",
    "fitted_parameters['drift_familiarity_scale'] = 0\n",
    "\n",
    "experiment_count = 1000\n",
    "new_sim_array = simulate_array_from_presentations(init_cmr, fitted_parameters, presentations[list_types==4], experiment_count)"
   ]
  },
  {
   "cell_type": "code",
   "execution_count": 93,
   "metadata": {},
   "outputs": [
    {
     "name": "stdout",
     "output_type": "stream",
     "text": [
      "[0.37778061 0.45604643 0.48747679 0.50164762 0.50651667]\n"
     ]
    }
   ],
   "source": [
    "import numpy.matlib\n",
    "\n",
    "result = fast_rpl(np.matlib.repmat(presentations[list_types==4], experiment_count, 1), new_sim_array)\n",
    "binned = np.zeros(5)\n",
    "binned[0] = result[0]\n",
    "binned[1] = result[1]\n",
    "binned[2] = (result[2] + result[3])/2\n",
    "binned[3] = (result[4] + result[5] + result[6])/3\n",
    "binned[4] = (result[7] + result[8] + result[9])/3\n",
    "print(binned)"
   ]
  },
  {
   "cell_type": "code",
   "execution_count": 94,
   "metadata": {},
   "outputs": [
    {
     "data": {
      "text/plain": [
       "<matplotlib.legend.Legend at 0x125811f0d90>"
      ]
     },
     "execution_count": 94,
     "metadata": {},
     "output_type": "execute_result"
    },
    {
     "data": {
      "image/png": "[encoded data removed]",
      "text/plain": [
       "<Figure size 432x288 with 1 Axes>"
      ]
     },
     "metadata": {},
     "output_type": "display_data"
    }
   ],
   "source": [
    "import matplotlib.pyplot as plt\n",
    "\n",
    "fit_sources = ['lohnas_4']\n",
    "fit_rpls = [binned]\n",
    "\n",
    "for i in range(len(fit_sources)):\n",
    "    plt.plot(fit_rpls[i], label=fit_sources[i])\n",
    "\n",
    "result = fast_rpl(presentations[list_types==4], trials[list_types==4])\n",
    "binned = np.zeros(5)\n",
    "binned[0] = result[0]\n",
    "binned[1] = result[1]\n",
    "binned[2] = (result[2] + result[3])/2\n",
    "binned[3] = (result[4] + result[5] + result[6])/3\n",
    "binned[4] = (result[7] + result[8] + result[9])/3\n",
    "plt.plot(binned, label='data')\n",
    "lags = ['N/A', '0', '1-2', '3-5', '6-8']\n",
    "plt.xticks(np.arange(len(lags)), lags)\n",
    "plt.legend(bbox_to_anchor=(1.05, 1), loc=2, borderaxespad=0.)"
   ]
  },
  {
   "cell_type": "markdown",
   "metadata": {},
   "source": [
    "### All Conditions"
   ]
  },
  {
   "cell_type": "code",
   "execution_count": 95,
   "metadata": {},
   "outputs": [
    {
     "name": "stdout",
     "output_type": "stream",
     "text": [
      "differential_evolution step 1: f(x)= 94631.7\n",
      "differential_evolution step 2: f(x)= 79692.9\n",
      "differential_evolution step 3: f(x)= 70885.6\n",
      "differential_evolution step 4: f(x)= 69762\n",
      "differential_evolution step 5: f(x)= 67176.3\n",
      "differential_evolution step 6: f(x)= 67176.3\n",
      "differential_evolution step 7: f(x)= 67176.3\n",
      "differential_evolution step 8: f(x)= 66556.1\n",
      "differential_evolution step 9: f(x)= 66556.1\n",
      "differential_evolution step 10: f(x)= 65542\n",
      "differential_evolution step 11: f(x)= 65542\n",
      "differential_evolution step 12: f(x)= 64378.7\n",
      "differential_evolution step 13: f(x)= 64378.7\n",
      "differential_evolution step 14: f(x)= 63249.4\n",
      "differential_evolution step 15: f(x)= 62687.4\n",
      "differential_evolution step 16: f(x)= 62687.4\n",
      "differential_evolution step 17: f(x)= 62365.9\n",
      "differential_evolution step 18: f(x)= 62365.9\n",
      "differential_evolution step 19: f(x)= 62302.4\n",
      "differential_evolution step 20: f(x)= 62004.3\n",
      "differential_evolution step 21: f(x)= 62004.3\n",
      "differential_evolution step 22: f(x)= 62004.3\n",
      "differential_evolution step 23: f(x)= 62004.3\n",
      "differential_evolution step 24: f(x)= 61902.9\n",
      "differential_evolution step 25: f(x)= 61902.9\n",
      "differential_evolution step 26: f(x)= 61849.5\n",
      "differential_evolution step 27: f(x)= 61722.5\n",
      "differential_evolution step 28: f(x)= 61620.5\n",
      "differential_evolution step 29: f(x)= 61620.5\n",
      "differential_evolution step 30: f(x)= 61541.9\n",
      "differential_evolution step 31: f(x)= 61541.9\n",
      "differential_evolution step 32: f(x)= 61490\n",
      "differential_evolution step 33: f(x)= 61490\n",
      "differential_evolution step 34: f(x)= 61490\n",
      "     fun: 60797.2210129435\n",
      "     jac: array([-2.640445  , -0.65556378,  2.33558238, -2.81143002, -0.37325663,\n",
      "        0.38999133, -0.0174623 ,  0.        ,  3.73474904,  5.01822797,\n",
      "       -0.2757588 , -3.82788128])\n",
      " message: 'Optimization terminated successfully.'\n",
      "    nfev: 8913\n",
      "     nit: 34\n",
      " success: True\n",
      "       x: array([8.65844790e-01, 2.26172120e-01, 9.52083253e-01, 2.63516673e-02,\n",
      "       5.43072905e-07, 4.31711566e-01, 2.64505857e+00, 4.38402542e+01,\n",
      "       2.51585067e-02, 1.01418425e-01, 1.02244712e+00, 9.80136664e-01])\n"
     ]
    }
   ],
   "source": [
    "from scipy.optimize import differential_evolution\n",
    "import numpy as np\n",
    "\n",
    "lb = np.finfo(float).eps\n",
    "ub = 1-np.finfo(float).eps\n",
    "\n",
    "bounds = (\n",
    "    (lb, ub),\n",
    "    (lb, ub),\n",
    "    (lb, ub),\n",
    "    (lb, ub),\n",
    "    (lb, ub),\n",
    "    (lb, ub),\n",
    "    (lb, 100),\n",
    "    (lb, 100),\n",
    "    (lb, ub),\n",
    "    (lb, 10),\n",
    "    (lb, 10),\n",
    "    (lb, ub),\n",
    ")\n",
    "\n",
    "# cost function to be minimized\n",
    "# ours scales inversely with the probability that the data could have been \n",
    "# generated using the specified parameters and our model\n",
    "cost_function = lohnas_objective_function(\n",
    "    trials[list_types >= 1], \n",
    "    presentations[list_types >= 1], \n",
    "    init_cmr,\n",
    "    {'sampling_rule': 0, 'mfc_familiarity_scale': 0, 'mcf_familiarity_scale': 0, 'drift_familiarity_scale': 0}, \n",
    "    free_parameters)\n",
    "\n",
    "lohnas_result = differential_evolution(cost_function, bounds, disp=True)\n",
    "print(lohnas_result)"
   ]
  },
  {
   "cell_type": "code",
   "execution_count": 96,
   "metadata": {},
   "outputs": [],
   "source": [
    "from compmemlearn.datasets import simulate_array_from_presentations\n",
    "from compmemlearn.analyses import fast_rpl\n",
    "\n",
    "fitted_parameters = Dict.empty(\n",
    "    key_type=types.unicode_type, value_type=types.float64)\n",
    "for j in range(len(lohnas_result.x)):\n",
    "    fitted_parameters[free_parameters[j]] = lohnas_result.x[j]\n",
    "\n",
    "fitted_parameters['sampling_rule'] = 0\n",
    "fitted_parameters['mfc_familiarity_scale'] = 0\n",
    "fitted_parameters['mcf_familiarity_scale'] = 0\n",
    "fitted_parameters['drift_familiarity_scale'] = 0\n",
    "\n",
    "experiment_count = 1000\n",
    "new_sim_array = simulate_array_from_presentations(init_cmr, fitted_parameters, presentations[list_types>=1], experiment_count)"
   ]
  },
  {
   "cell_type": "code",
   "execution_count": 101,
   "metadata": {},
   "outputs": [
    {
     "name": "stdout",
     "output_type": "stream",
     "text": [
      "[0.3343702  0.60605876 0.58105782 0.58587598 0.58480437]\n"
     ]
    }
   ],
   "source": [
    "import numpy.matlib\n",
    "\n",
    "result = fast_rpl(np.matlib.repmat(presentations[list_types>=1], experiment_count, 1), new_sim_array)\n",
    "binned = np.zeros(5)\n",
    "binned[0] = result[0]\n",
    "binned[1] = result[1]\n",
    "binned[2] = (result[2] + result[3])/2\n",
    "binned[3] = (result[4] + result[5] + result[6])/3\n",
    "binned[4] = (result[7] + result[8] + result[9])/3\n",
    "print(binned)"
   ]
  },
  {
   "cell_type": "code",
   "execution_count": 102,
   "metadata": {},
   "outputs": [
    {
     "data": {
      "text/plain": [
       "<matplotlib.legend.Legend at 0x12580e20ac0>"
      ]
     },
     "execution_count": 102,
     "metadata": {},
     "output_type": "execute_result"
    },
    {
     "data": {
      "image/png": "[encoded data removed]",
      "text/plain": [
       "<Figure size 432x288 with 1 Axes>"
      ]
     },
     "metadata": {},
     "output_type": "display_data"
    }
   ],
   "source": [
    "import matplotlib.pyplot as plt\n",
    "\n",
    "fit_sources = ['fit_to_full_dataset']\n",
    "fit_rpls = [binned]\n",
    "\n",
    "for i in range(len(fit_sources)):\n",
    "    plt.plot(fit_rpls[i], label=fit_sources[i])\n",
    "\n",
    "result = fast_rpl(presentations[list_types>=1], trials[list_types>=1])\n",
    "binned = np.zeros(5)\n",
    "binned[0] = result[0]\n",
    "binned[1] = result[1]\n",
    "binned[2] = (result[2] + result[3])/2\n",
    "binned[3] = (result[4] + result[5] + result[6])/3\n",
    "binned[4] = (result[7] + result[8] + result[9])/3\n",
    "plt.plot(binned, label='data')\n",
    "lags = ['N/A', '0', '1-2', '3-5', '6-8']\n",
    "plt.xticks(np.arange(len(lags)), lags)\n",
    "plt.legend(bbox_to_anchor=(1.05, 1), loc=2, borderaxespad=0.)"
   ]
  },
  {
   "cell_type": "markdown",
   "metadata": {},
   "source": [
    "### Differential Encoding"
   ]
  },
  {
   "cell_type": "code",
   "execution_count": 119,
   "metadata": {},
   "outputs": [],
   "source": [
    "trials, events, list_length, presentations, list_types, rep_data, subjects = prepare_lohnas2014_data(\n",
    "    '../../data/repFR.mat')\n",
    "\n",
    "free_parameters = (\n",
    "    'encoding_drift_rate',\n",
    "    'start_drift_rate',\n",
    "    'recall_drift_rate',\n",
    "    'shared_support',\n",
    "    'item_support',\n",
    "    'learning_rate',\n",
    "    'primacy_scale',\n",
    "    'primacy_decay',\n",
    "    'stop_probability_scale',\n",
    "    'stop_probability_growth',\n",
    "    'choice_sensitivity',\n",
    "    'delay_drift_rate',\n",
    "    'mfc_familiarity_scale',\n",
    "    'mcf_familiarity_scale',\n",
    "    'drift_familiarity_scale',\n",
    ")"
   ]
  },
  {
   "cell_type": "code",
   "execution_count": 121,
   "metadata": {},
   "outputs": [
    {
     "name": "stdout",
     "output_type": "stream",
     "text": [
      "differential_evolution step 1: f(x)= 22294.2\n",
      "differential_evolution step 2: f(x)= 22294.2\n",
      "differential_evolution step 3: f(x)= 19887.7\n",
      "differential_evolution step 4: f(x)= 19618.8\n",
      "differential_evolution step 5: f(x)= 19618.8\n",
      "differential_evolution step 6: f(x)= 19618.8\n",
      "differential_evolution step 7: f(x)= 19618.8\n",
      "differential_evolution step 8: f(x)= 19347.4\n",
      "differential_evolution step 9: f(x)= 18814.7\n",
      "differential_evolution step 10: f(x)= 18814.7\n",
      "differential_evolution step 11: f(x)= 18139.3\n",
      "differential_evolution step 12: f(x)= 18139.3\n",
      "differential_evolution step 13: f(x)= 18139.3\n",
      "differential_evolution step 14: f(x)= 18139.3\n",
      "differential_evolution step 15: f(x)= 17855.5\n",
      "differential_evolution step 16: f(x)= 17827.9\n",
      "differential_evolution step 17: f(x)= 17827.9\n",
      "differential_evolution step 18: f(x)= 17655\n",
      "differential_evolution step 19: f(x)= 17655\n",
      "differential_evolution step 20: f(x)= 17655\n",
      "differential_evolution step 21: f(x)= 17538.4\n",
      "differential_evolution step 22: f(x)= 17538.4\n",
      "differential_evolution step 23: f(x)= 17538.4\n",
      "differential_evolution step 24: f(x)= 17538.4\n",
      "differential_evolution step 25: f(x)= 17538.4\n",
      "differential_evolution step 26: f(x)= 17520.4\n",
      "differential_evolution step 27: f(x)= 17520.4\n",
      "differential_evolution step 28: f(x)= 17471.6\n",
      "differential_evolution step 29: f(x)= 17471.6\n",
      "differential_evolution step 30: f(x)= 17465.5\n",
      "differential_evolution step 31: f(x)= 17462.6\n",
      "differential_evolution step 32: f(x)= 17462.6\n",
      "differential_evolution step 33: f(x)= 17429.5\n",
      "differential_evolution step 34: f(x)= 17429.5\n",
      "differential_evolution step 35: f(x)= 17429.5\n",
      "differential_evolution step 36: f(x)= 17429.5\n",
      "     fun: 17152.738785919926\n",
      "     jac: array([ 8.36007526e-01,  2.67027645e-01, -1.85973476e+00,  6.17073965e+00,\n",
      "        4.68331564e+01, -1.02118065e+00,  2.87400328e-02,  5.11499821e-01,\n",
      "        8.13815859e-01, -1.51376298e+00, -1.09866961e-01,  4.61295710e-01,\n",
      "       -6.80302037e-01, -7.06495485e-01, -1.57826434e+01])\n",
      " message: 'Optimization terminated successfully.'\n",
      "    nfev: 14677\n",
      "     nit: 36\n",
      " success: True\n",
      "       x: array([8.45399329e-01, 8.94309837e-02, 9.63793630e-01, 2.43252487e-02,\n",
      "       2.22044605e-16, 5.95712778e-01, 3.25658220e+00, 2.53201152e-01,\n",
      "       2.14029202e-02, 1.06789857e-01, 1.22711302e+00, 9.29194808e-01,\n",
      "       4.90150172e-01, 4.58480657e-01, 1.00000000e+00])\n"
     ]
    }
   ],
   "source": [
    "from scipy.optimize import differential_evolution\n",
    "import numpy as np\n",
    "\n",
    "lb = np.finfo(float).eps\n",
    "ub = 1-np.finfo(float).eps\n",
    "\n",
    "bounds = (\n",
    "    (lb, ub),\n",
    "    (lb, ub),\n",
    "    (lb, ub),\n",
    "    (lb, ub),\n",
    "    (lb, ub),\n",
    "    (lb, ub),\n",
    "    (lb, 100),\n",
    "    (lb, 100),\n",
    "    (lb, ub),\n",
    "    (lb, 10),\n",
    "    (lb, 10),\n",
    "    (lb, ub),\n",
    "    (lb, ub),\n",
    "    (lb, ub),\n",
    "    (lb, ub)\n",
    ")\n",
    "\n",
    "# cost function to be minimized\n",
    "# ours scales inversely with the probability that the data could have been \n",
    "# generated using the specified parameters and our model\n",
    "cost_function = lohnas_objective_function(\n",
    "    trials[list_types == 4], \n",
    "    presentations[list_types == 4], \n",
    "    init_cmr,\n",
    "    {'sampling_rule': 0}, \n",
    "    free_parameters)\n",
    "\n",
    "lohnas_result = differential_evolution(cost_function, bounds, disp=True)\n",
    "print(lohnas_result)"
   ]
  },
  {
   "cell_type": "code",
   "execution_count": 122,
   "metadata": {},
   "outputs": [],
   "source": [
    "from compmemlearn.datasets import simulate_array_from_presentations\n",
    "from compmemlearn.analyses import fast_rpl\n",
    "\n",
    "fitted_parameters = Dict.empty(\n",
    "    key_type=types.unicode_type, value_type=types.float64)\n",
    "for j in range(len(lohnas_result.x)):\n",
    "    fitted_parameters[free_parameters[j]] = lohnas_result.x[j]\n",
    "\n",
    "fitted_parameters['sampling_rule'] = 0\n",
    "fitted_parameters['mfc_familiarity_scale'] = 0\n",
    "fitted_parameters['mcf_familiarity_scale'] = 0\n",
    "fitted_parameters['drift_familiarity_scale'] = 0\n",
    "\n",
    "experiment_count = 1000\n",
    "new_sim_array = simulate_array_from_presentations(init_cmr, fitted_parameters, presentations[list_types==4], experiment_count)"
   ]
  },
  {
   "cell_type": "code",
   "execution_count": 123,
   "metadata": {},
   "outputs": [
    {
     "name": "stdout",
     "output_type": "stream",
     "text": [
      "[0.37035927 0.48302143 0.52116429 0.54002976 0.54700595]\n"
     ]
    }
   ],
   "source": [
    "import numpy.matlib\n",
    "\n",
    "result = fast_rpl(np.matlib.repmat(presentations[list_types==4], experiment_count, 1), new_sim_array)\n",
    "binned = np.zeros(5)\n",
    "binned[0] = result[0]\n",
    "binned[1] = result[1]\n",
    "binned[2] = (result[2] + result[3])/2\n",
    "binned[3] = (result[4] + result[5] + result[6])/3\n",
    "binned[4] = (result[7] + result[8] + result[9])/3\n",
    "print(binned)"
   ]
  },
  {
   "cell_type": "code",
   "execution_count": 124,
   "metadata": {},
   "outputs": [
    {
     "data": {
      "text/plain": [
       "<matplotlib.legend.Legend at 0x1258219d0d0>"
      ]
     },
     "execution_count": 124,
     "metadata": {},
     "output_type": "execute_result"
    },
    {
     "data": {
      "image/png": "[encoded data removed]",
      "text/plain": [
       "<Figure size 432x288 with 1 Axes>"
      ]
     },
     "metadata": {},
     "output_type": "display_data"
    }
   ],
   "source": [
    "import matplotlib.pyplot as plt\n",
    "\n",
    "fit_sources = ['lohnas_4']\n",
    "fit_rpls = [binned]\n",
    "\n",
    "for i in range(len(fit_sources)):\n",
    "    plt.plot(fit_rpls[i], label=fit_sources[i])\n",
    "\n",
    "result = fast_rpl(presentations[list_types==4], trials[list_types==4])\n",
    "binned = np.zeros(5)\n",
    "binned[0] = result[0]\n",
    "binned[1] = result[1]\n",
    "binned[2] = (result[2] + result[3])/2\n",
    "binned[3] = (result[4] + result[5] + result[6])/3\n",
    "binned[4] = (result[7] + result[8] + result[9])/3\n",
    "plt.plot(binned, label='data')\n",
    "lags = ['N/A', '0', '1-2', '3-5', '6-8']\n",
    "plt.xticks(np.arange(len(lags)), lags)\n",
    "plt.legend(bbox_to_anchor=(1.05, 1), loc=2, borderaxespad=0.)"
   ]
  },
  {
   "cell_type": "code",
   "execution_count": null,
   "metadata": {},
   "outputs": [],
   "source": []
  }
 ],
 "metadata": {
  "interpreter": {
   "hash": "ecf5722fdaf1897a315d257d89d94520bfcaa453217d5becf09b39e73618b0de"
  },
  "kernelspec": {
   "display_name": "Python 3 (ipykernel)",
   "language": "python",
   "name": "python3"
  },
  "language_info": {
   "codemirror_mode": {
    "name": "ipython",
    "version": 3
   },
   "file_extension": ".py",
   "mimetype": "text/x-python",
   "name": "python",
   "nbconvert_exporter": "python",
   "pygments_lexer": "ipython3",
   "version": "3.9.1"
  }
 },
 "nbformat": 4,
 "nbformat_minor": 4
}

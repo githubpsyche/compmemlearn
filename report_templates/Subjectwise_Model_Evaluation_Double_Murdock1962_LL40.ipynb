{
 "cells": [
  {
   "cell_type": "code",
   "execution_count": 1,
   "id": "db400e37",
   "metadata": {
    "execution": {
     "iopub.execute_input": "2022-06-03T19:16:55.595824Z",
     "iopub.status.busy": "2022-06-03T19:16:55.595233Z",
     "iopub.status.idle": "2022-06-03T19:18:39.239254Z",
     "shell.execute_reply": "2022-06-03T19:18:39.237981Z"
    },
    "papermill": {
     "duration": 103.684624,
     "end_time": "2022-06-03T19:18:39.242944",
     "exception": false,
     "start_time": "2022-06-03T19:16:55.558320",
     "status": "completed"
    },
    "tags": [
     "parameters"
    ]
   },
   "outputs": [],
   "source": [
    "# | code-summary: code -- load dependencies and data and select parameters\n",
    "\n",
    "from compmemlearn.fitting import generate_objective_function\n",
    "from compmemlearn.datasets import events_metadata, generate_trial_mask\n",
    "from scipy.optimize import differential_evolution\n",
    "from numba.typed import List, Dict\n",
    "from numba.core import types\n",
    "from numba import njit\n",
    "from psifr import fr\n",
    "import pandas as pd\n",
    "import numpy as np\n",
    "import seaborn as sns\n",
    "import matplotlib.pyplot as plt\n",
    "import importlib\n",
    "import os\n",
    "\n",
    "lb = np.finfo(float).eps\n",
    "ub = 1 - np.finfo(float).eps\n",
    "\n",
    "figure_caption = \"\"\"Distribution of log-likelihood scores of recall sequences exhibited by each subject in dataset under each considered model.\"\"\"\n",
    "\n",
    "section_tag = \"LohnasKahanaCond4\"\n",
    "\n",
    "data_path = \"../data/LohnasKahana2014.csv\"\n",
    "results_path = \"results/\"\n",
    "trial_query = \"condition == 4\"\n",
    "\n",
    "model_paths = [\n",
    "    \"compmemlearn.models.Base_CMR\",\n",
    "    \"compmemlearn.models.Dual_ICMR\",\n",
    "    \"compmemlearn.models.Dual_ICMR\",\n",
    "    \"compmemlearn.models.Dual_ICMR\",\n",
    "    \"compmemlearn.models.Dual_ICMR\",\n",
    "]\n",
    "\n",
    "model_names = [\"PrototypeCMR\", \"ICMR_2_0_0\", \"ICMR_2_0_1\", \"ICMR_2_1_0\", \"ICMR_2_1_1\"]\n",
    "\n",
    "free_parameters = [\n",
    "    [\n",
    "        \"encoding_drift_rate\",\n",
    "        \"start_drift_rate\",\n",
    "        \"recall_drift_rate\",\n",
    "        \"shared_support\",\n",
    "        \"item_support\",\n",
    "        \"learning_rate\",\n",
    "        \"primacy_scale\",\n",
    "        \"primacy_decay\",\n",
    "        \"stop_probability_scale\",\n",
    "        \"stop_probability_growth\",\n",
    "        \"choice_sensitivity\",\n",
    "        \"delay_drift_rate\",\n",
    "    ],\n",
    "    [\n",
    "        \"encoding_drift_rate\",\n",
    "        \"start_drift_rate\",\n",
    "        \"recall_drift_rate\",\n",
    "        \"shared_support\",\n",
    "        \"item_support\",\n",
    "        \"learning_rate\",\n",
    "        \"primacy_scale\",\n",
    "        \"primacy_decay\",\n",
    "        \"stop_probability_scale\",\n",
    "        \"stop_probability_growth\",\n",
    "        \"choice_sensitivity\",\n",
    "        \"delay_drift_rate\",\n",
    "    ],\n",
    "    [\n",
    "        \"encoding_drift_rate\",\n",
    "        \"start_drift_rate\",\n",
    "        \"recall_drift_rate\",\n",
    "        \"shared_support\",\n",
    "        \"item_support\",\n",
    "        \"learning_rate\",\n",
    "        \"primacy_scale\",\n",
    "        \"primacy_decay\",\n",
    "        \"stop_probability_scale\",\n",
    "        \"stop_probability_growth\",\n",
    "        \"choice_sensitivity\",\n",
    "        \"delay_drift_rate\",\n",
    "    ],\n",
    "    [\n",
    "        \"encoding_drift_rate\",\n",
    "        \"start_drift_rate\",\n",
    "        \"recall_drift_rate\",\n",
    "        \"shared_support\",\n",
    "        \"item_support\",\n",
    "        \"learning_rate\",\n",
    "        \"primacy_scale\",\n",
    "        \"primacy_decay\",\n",
    "        \"stop_probability_scale\",\n",
    "        \"stop_probability_growth\",\n",
    "        \"context_sensitivity\",\n",
    "        \"delay_drift_rate\",\n",
    "    ],\n",
    "    [\n",
    "        \"encoding_drift_rate\",\n",
    "        \"start_drift_rate\",\n",
    "        \"recall_drift_rate\",\n",
    "        \"shared_support\",\n",
    "        \"item_support\",\n",
    "        \"learning_rate\",\n",
    "        \"primacy_scale\",\n",
    "        \"primacy_decay\",\n",
    "        \"stop_probability_scale\",\n",
    "        \"stop_probability_growth\",\n",
    "        \"context_sensitivity\",\n",
    "        \"delay_drift_rate\",\n",
    "    ],\n",
    "]\n",
    "bounds = [\n",
    "    [\n",
    "        [2.220446049250313e-16, 0.9999999999999998],\n",
    "        [2.220446049250313e-16, 0.9999999999999998],\n",
    "        [2.220446049250313e-16, 0.9999999999999998],\n",
    "        [2.220446049250313e-16, 0.9999999999999998],\n",
    "        [2.220446049250313e-16, 0.9999999999999998],\n",
    "        [2.220446049250313e-16, 0.9999999999999998],\n",
    "        [2.220446049250313e-16, 100],\n",
    "        [2.220446049250313e-16, 100],\n",
    "        [2.220446049250313e-16, 0.9999999999999998],\n",
    "        [2.220446049250313e-16, 10],\n",
    "        [2.220446049250313e-16, 10],\n",
    "        [2.220446049250313e-16, 0.9999999999999998],\n",
    "    ],\n",
    "    [\n",
    "        [2.220446049250313e-16, 0.9999999999999998],\n",
    "        [2.220446049250313e-16, 0.9999999999999998],\n",
    "        [2.220446049250313e-16, 0.9999999999999998],\n",
    "        [2.220446049250313e-16, 0.9999999999999998],\n",
    "        [2.220446049250313e-16, 0.9999999999999998],\n",
    "        [2.220446049250313e-16, 0.9999999999999998],\n",
    "        [2.220446049250313e-16, 100],\n",
    "        [2.220446049250313e-16, 100],\n",
    "        [2.220446049250313e-16, 0.9999999999999998],\n",
    "        [2.220446049250313e-16, 10],\n",
    "        [2.220446049250313e-16, 10],\n",
    "        [2.220446049250313e-16, 0.9999999999999998],\n",
    "    ],\n",
    "    [\n",
    "        [2.220446049250313e-16, 0.9999999999999998],\n",
    "        [2.220446049250313e-16, 0.9999999999999998],\n",
    "        [2.220446049250313e-16, 0.9999999999999998],\n",
    "        [2.220446049250313e-16, 0.9999999999999998],\n",
    "        [2.220446049250313e-16, 0.9999999999999998],\n",
    "        [2.220446049250313e-16, 0.9999999999999998],\n",
    "        [2.220446049250313e-16, 100],\n",
    "        [2.220446049250313e-16, 100],\n",
    "        [2.220446049250313e-16, 0.9999999999999998],\n",
    "        [2.220446049250313e-16, 10],\n",
    "        [2.220446049250313e-16, 10],\n",
    "        [2.220446049250313e-16, 0.9999999999999998],\n",
    "    ],\n",
    "    [\n",
    "        [2.220446049250313e-16, 0.9999999999999998],\n",
    "        [2.220446049250313e-16, 0.9999999999999998],\n",
    "        [2.220446049250313e-16, 0.9999999999999998],\n",
    "        [2.220446049250313e-16, 0.9999999999999998],\n",
    "        [2.220446049250313e-16, 0.9999999999999998],\n",
    "        [2.220446049250313e-16, 0.9999999999999998],\n",
    "        [2.220446049250313e-16, 100],\n",
    "        [2.220446049250313e-16, 100],\n",
    "        [2.220446049250313e-16, 0.9999999999999998],\n",
    "        [2.220446049250313e-16, 10],\n",
    "        [2.220446049250313e-16, 10],\n",
    "        [2.220446049250313e-16, 0.9999999999999998],\n",
    "    ],\n",
    "    [\n",
    "        [2.220446049250313e-16, 0.9999999999999998],\n",
    "        [2.220446049250313e-16, 0.9999999999999998],\n",
    "        [2.220446049250313e-16, 0.9999999999999998],\n",
    "        [2.220446049250313e-16, 0.9999999999999998],\n",
    "        [2.220446049250313e-16, 0.9999999999999998],\n",
    "        [2.220446049250313e-16, 0.9999999999999998],\n",
    "        [2.220446049250313e-16, 100],\n",
    "        [2.220446049250313e-16, 100],\n",
    "        [2.220446049250313e-16, 0.9999999999999998],\n",
    "        [2.220446049250313e-16, 10],\n",
    "        [2.220446049250313e-16, 10],\n",
    "        [2.220446049250313e-16, 0.9999999999999998],\n",
    "    ],\n",
    "]\n",
    "fixed_parameters = [\n",
    "    {},\n",
    "    {\"feature_sensitivity\": 1, \"context_sensitivity\": 1, \"learn_first\": False},\n",
    "    {\"feature_sensitivity\": 1, \"context_sensitivity\": 1, \"learn_first\": True},\n",
    "    {\"feature_sensitivity\": 1, \"choice_sensitivity\": 1, \"learn_first\": False},\n",
    "    {\"feature_sensitivity\": 1, \"choice_sensitivity\": 1, \"learn_first\": True},\n",
    "]\n",
    "\n",
    "analysis_paths = ['compmemlearn.analyses.plot_spc', 'compmemlearn.analyses.plot_crp', 'compmemlearn.analyses.plot_pfr']\n",
    "analysis_names = ['spc', 'crp', 'pfr']\n",
    "\n",
    "experiment_count = 1"
   ]
  },
  {
   "cell_type": "code",
   "execution_count": 2,
   "id": "2d46322c",
   "metadata": {
    "execution": {
     "iopub.execute_input": "2022-06-03T19:18:39.301757Z",
     "iopub.status.busy": "2022-06-03T19:18:39.301355Z",
     "iopub.status.idle": "2022-06-03T19:18:39.333903Z",
     "shell.execute_reply": "2022-06-03T19:18:39.332899Z"
    },
    "papermill": {
     "duration": 0.059956,
     "end_time": "2022-06-03T19:18:39.336131",
     "exception": false,
     "start_time": "2022-06-03T19:18:39.276175",
     "status": "completed"
    },
    "tags": [
     "injected-parameters"
    ]
   },
   "outputs": [],
   "source": [
    "# Parameters\n",
    "data_path = \"data/Murdock1962.csv\"\n",
    "trial_query = \"`list length` == 40\"\n",
    "model_paths = [\n",
    "    \"compmemlearn.models.Base_CMR\",\n",
    "    \"compmemlearn.models.Dual_ICMR\",\n",
    "    \"compmemlearn.models.Dual_ICMR\",\n",
    "    \"compmemlearn.models.Dual_ICMR\",\n",
    "    \"compmemlearn.models.Dual_ICMR\",\n",
    "]\n",
    "model_names = [\"PrototypeCMR\", \"ICMR_2_0_0\", \"ICMR_2_0_1\", \"ICMR_2_1_0\", \"ICMR_2_1_1\"]\n",
    "free_parameters = [\n",
    "    [\n",
    "        \"encoding_drift_rate\",\n",
    "        \"start_drift_rate\",\n",
    "        \"recall_drift_rate\",\n",
    "        \"shared_support\",\n",
    "        \"item_support\",\n",
    "        \"learning_rate\",\n",
    "        \"primacy_scale\",\n",
    "        \"primacy_decay\",\n",
    "        \"stop_probability_scale\",\n",
    "        \"stop_probability_growth\",\n",
    "        \"choice_sensitivity\",\n",
    "        \"delay_drift_rate\",\n",
    "    ],\n",
    "    [\n",
    "        \"encoding_drift_rate\",\n",
    "        \"start_drift_rate\",\n",
    "        \"recall_drift_rate\",\n",
    "        \"shared_support\",\n",
    "        \"item_support\",\n",
    "        \"learning_rate\",\n",
    "        \"primacy_scale\",\n",
    "        \"primacy_decay\",\n",
    "        \"stop_probability_scale\",\n",
    "        \"stop_probability_growth\",\n",
    "        \"choice_sensitivity\",\n",
    "        \"delay_drift_rate\",\n",
    "    ],\n",
    "    [\n",
    "        \"encoding_drift_rate\",\n",
    "        \"start_drift_rate\",\n",
    "        \"recall_drift_rate\",\n",
    "        \"shared_support\",\n",
    "        \"item_support\",\n",
    "        \"learning_rate\",\n",
    "        \"primacy_scale\",\n",
    "        \"primacy_decay\",\n",
    "        \"stop_probability_scale\",\n",
    "        \"stop_probability_growth\",\n",
    "        \"choice_sensitivity\",\n",
    "        \"delay_drift_rate\",\n",
    "    ],\n",
    "    [\n",
    "        \"encoding_drift_rate\",\n",
    "        \"start_drift_rate\",\n",
    "        \"recall_drift_rate\",\n",
    "        \"shared_support\",\n",
    "        \"item_support\",\n",
    "        \"learning_rate\",\n",
    "        \"primacy_scale\",\n",
    "        \"primacy_decay\",\n",
    "        \"stop_probability_scale\",\n",
    "        \"stop_probability_growth\",\n",
    "        \"context_sensitivity\",\n",
    "        \"delay_drift_rate\",\n",
    "    ],\n",
    "    [\n",
    "        \"encoding_drift_rate\",\n",
    "        \"start_drift_rate\",\n",
    "        \"recall_drift_rate\",\n",
    "        \"shared_support\",\n",
    "        \"item_support\",\n",
    "        \"learning_rate\",\n",
    "        \"primacy_scale\",\n",
    "        \"primacy_decay\",\n",
    "        \"stop_probability_scale\",\n",
    "        \"stop_probability_growth\",\n",
    "        \"context_sensitivity\",\n",
    "        \"delay_drift_rate\",\n",
    "    ],\n",
    "]\n",
    "bounds = [\n",
    "    [\n",
    "        [2.220446049250313e-16, 0.9999999999999998],\n",
    "        [2.220446049250313e-16, 0.9999999999999998],\n",
    "        [2.220446049250313e-16, 0.9999999999999998],\n",
    "        [2.220446049250313e-16, 0.9999999999999998],\n",
    "        [2.220446049250313e-16, 0.9999999999999998],\n",
    "        [2.220446049250313e-16, 0.9999999999999998],\n",
    "        [2.220446049250313e-16, 100],\n",
    "        [2.220446049250313e-16, 100],\n",
    "        [2.220446049250313e-16, 0.9999999999999998],\n",
    "        [2.220446049250313e-16, 10],\n",
    "        [2.220446049250313e-16, 10],\n",
    "        [2.220446049250313e-16, 0.9999999999999998],\n",
    "    ],\n",
    "    [\n",
    "        [2.220446049250313e-16, 0.9999999999999998],\n",
    "        [2.220446049250313e-16, 0.9999999999999998],\n",
    "        [2.220446049250313e-16, 0.9999999999999998],\n",
    "        [2.220446049250313e-16, 0.9999999999999998],\n",
    "        [2.220446049250313e-16, 0.9999999999999998],\n",
    "        [2.220446049250313e-16, 0.9999999999999998],\n",
    "        [2.220446049250313e-16, 100],\n",
    "        [2.220446049250313e-16, 100],\n",
    "        [2.220446049250313e-16, 0.9999999999999998],\n",
    "        [2.220446049250313e-16, 10],\n",
    "        [2.220446049250313e-16, 10],\n",
    "        [2.220446049250313e-16, 0.9999999999999998],\n",
    "    ],\n",
    "    [\n",
    "        [2.220446049250313e-16, 0.9999999999999998],\n",
    "        [2.220446049250313e-16, 0.9999999999999998],\n",
    "        [2.220446049250313e-16, 0.9999999999999998],\n",
    "        [2.220446049250313e-16, 0.9999999999999998],\n",
    "        [2.220446049250313e-16, 0.9999999999999998],\n",
    "        [2.220446049250313e-16, 0.9999999999999998],\n",
    "        [2.220446049250313e-16, 100],\n",
    "        [2.220446049250313e-16, 100],\n",
    "        [2.220446049250313e-16, 0.9999999999999998],\n",
    "        [2.220446049250313e-16, 10],\n",
    "        [2.220446049250313e-16, 10],\n",
    "        [2.220446049250313e-16, 0.9999999999999998],\n",
    "    ],\n",
    "    [\n",
    "        [2.220446049250313e-16, 0.9999999999999998],\n",
    "        [2.220446049250313e-16, 0.9999999999999998],\n",
    "        [2.220446049250313e-16, 0.9999999999999998],\n",
    "        [2.220446049250313e-16, 0.9999999999999998],\n",
    "        [2.220446049250313e-16, 0.9999999999999998],\n",
    "        [2.220446049250313e-16, 0.9999999999999998],\n",
    "        [2.220446049250313e-16, 100],\n",
    "        [2.220446049250313e-16, 100],\n",
    "        [2.220446049250313e-16, 0.9999999999999998],\n",
    "        [2.220446049250313e-16, 10],\n",
    "        [2.220446049250313e-16, 10],\n",
    "        [2.220446049250313e-16, 0.9999999999999998],\n",
    "    ],\n",
    "    [\n",
    "        [2.220446049250313e-16, 0.9999999999999998],\n",
    "        [2.220446049250313e-16, 0.9999999999999998],\n",
    "        [2.220446049250313e-16, 0.9999999999999998],\n",
    "        [2.220446049250313e-16, 0.9999999999999998],\n",
    "        [2.220446049250313e-16, 0.9999999999999998],\n",
    "        [2.220446049250313e-16, 0.9999999999999998],\n",
    "        [2.220446049250313e-16, 100],\n",
    "        [2.220446049250313e-16, 100],\n",
    "        [2.220446049250313e-16, 0.9999999999999998],\n",
    "        [2.220446049250313e-16, 10],\n",
    "        [2.220446049250313e-16, 10],\n",
    "        [2.220446049250313e-16, 0.9999999999999998],\n",
    "    ],\n",
    "]\n",
    "fixed_parameters = [\n",
    "    {},\n",
    "    {\"feature_sensitivity\": 1, \"context_sensitivity\": 1, \"learn_first\": False},\n",
    "    {\"feature_sensitivity\": 1, \"context_sensitivity\": 1, \"learn_first\": True},\n",
    "    {\"feature_sensitivity\": 1, \"choice_sensitivity\": 1, \"learn_first\": False},\n",
    "    {\"feature_sensitivity\": 1, \"choice_sensitivity\": 1, \"learn_first\": True},\n",
    "]\n",
    "section_tag = \"Murdock1962_LL40\"\n"
   ]
  },
  {
   "cell_type": "code",
   "execution_count": 3,
   "id": "4672fc21",
   "metadata": {
    "execution": {
     "iopub.execute_input": "2022-06-03T19:18:39.364601Z",
     "iopub.status.busy": "2022-06-03T19:18:39.364101Z",
     "iopub.status.idle": "2022-06-03T19:18:39.370725Z",
     "shell.execute_reply": "2022-06-03T19:18:39.369480Z"
    },
    "papermill": {
     "duration": 0.022194,
     "end_time": "2022-06-03T19:18:39.372540",
     "exception": false,
     "start_time": "2022-06-03T19:18:39.350346",
     "status": "completed"
    },
    "tags": []
   },
   "outputs": [],
   "source": [
    "if 'Howard' in section_tag or ('Lohnas' in section_tag and '1' not in section_tag):\n",
    "    analysis_paths = ['compmemlearn.analyses.plot_flex_spc', 'compmemlearn.analyses.plot_flex_crp', 'compmemlearn.analyses.plot_flex_pfr', 'compmemlearn.analyses.plot_rpl']\n",
    "    analysis_names = ['spc', 'crp', 'pfr', 'rpl']"
   ]
  },
  {
   "cell_type": "code",
   "execution_count": 4,
   "id": "4f66c465",
   "metadata": {
    "execution": {
     "iopub.execute_input": "2022-06-03T19:18:39.398293Z",
     "iopub.status.busy": "2022-06-03T19:18:39.397895Z",
     "iopub.status.idle": "2022-06-03T19:21:09.529023Z",
     "shell.execute_reply": "2022-06-03T19:21:09.528331Z"
    },
    "papermill": {
     "duration": 150.149206,
     "end_time": "2022-06-03T19:21:09.533679",
     "exception": false,
     "start_time": "2022-06-03T19:18:39.384473",
     "status": "completed"
    },
    "tags": []
   },
   "outputs": [
    {
     "name": "stdout",
     "output_type": "stream",
     "text": [
      "<function murdock_objective_function.<locals>.objective_function at 0x2ba0e586b9d0>\n"
     ]
    },
    {
     "name": "stdout",
     "output_type": "stream",
     "text": [
      "4732.215174454701\n",
      "7073.544093723043\n"
     ]
    },
    {
     "name": "stdout",
     "output_type": "stream",
     "text": [
      "<function murdock_objective_function.<locals>.objective_function at 0x2ba0e64d7160>\n"
     ]
    },
    {
     "name": "stdout",
     "output_type": "stream",
     "text": [
      "4732.215174454701\n",
      "7073.544093723043\n",
      "<function murdock_objective_function.<locals>.objective_function at 0x2ba0e7a35dc0>\n"
     ]
    },
    {
     "name": "stdout",
     "output_type": "stream",
     "text": [
      "4732.215174454701\n",
      "7073.544093723043\n",
      "<function murdock_objective_function.<locals>.objective_function at 0x2ba0e78bfee0>\n"
     ]
    },
    {
     "name": "stdout",
     "output_type": "stream",
     "text": [
      "4732.215174454701\n",
      "7073.544093723043\n",
      "<function murdock_objective_function.<locals>.objective_function at 0x2ba0e643a790>\n"
     ]
    },
    {
     "name": "stdout",
     "output_type": "stream",
     "text": [
      "4732.215174454701\n",
      "7073.544093723043\n",
      "dependencies and parameters validated\n"
     ]
    }
   ],
   "source": [
    "#| code-summary: code -- test that specified parameters are valid\n",
    "#| output: false\n",
    "\n",
    "events = pd.read_csv(data_path)\n",
    "\n",
    "trials, list_lengths, presentations = events_metadata(events)\n",
    "trial_mask = generate_trial_mask(events, trial_query)\n",
    "\n",
    "# import models from specified source\n",
    "models = []\n",
    "for i in range(len(model_paths)):\n",
    "    module_name, model_name = model_paths[i].rsplit('.',1)\n",
    "    module = importlib.import_module(module_name)\n",
    "    models.append(getattr(module, model_name))\n",
    "\n",
    "# import analyses from specified source\n",
    "analyses = []\n",
    "for i in range(len(analysis_paths)):\n",
    "    module_name, analysis_name = analysis_paths[i].rsplit('.',1)\n",
    "    module = importlib.import_module(module_name)\n",
    "    analyses.append(getattr(module, analysis_name))\n",
    "\n",
    "# make sure model initializes with provided parameters and boundaries\n",
    "for model_index, model_class in enumerate(models):\n",
    "\n",
    "    @njit(fastmath=True, nogil=True)\n",
    "    def init_model(item_count, presentation_count, parameters):\n",
    "        return model_class(item_count, presentation_count, parameters)\n",
    "\n",
    "    subject_specific_trial_mask = np.logical_and(\n",
    "                generate_trial_mask(events, f'subject == {pd.unique(events.subject)[0]}'), trial_mask)\n",
    "\n",
    "    cost_function = generate_objective_function(\n",
    "        [trials[i][subject_specific_trial_mask[i]] for i in range(len(trials))],\n",
    "        [presentations[i][subject_specific_trial_mask[i]] for i in range(len(presentations))],\n",
    "        list_lengths,\n",
    "        init_model,\n",
    "        fixed_parameters[model_index],\n",
    "        free_parameters[model_index],\n",
    "    )\n",
    "    print(cost_function)\n",
    "    \n",
    "    for boundary_index in range(2):\n",
    "        x = np.array([each[boundary_index] for each in bounds[model_index]])\n",
    "        assert(len(x) == len(free_parameters[model_index])) \n",
    "\n",
    "        # parameter configuration\n",
    "        parameters = Dict.empty(key_type=types.unicode_type, value_type=types.float64)\n",
    "        for name, value in fixed_parameters[model_index].items():\n",
    "            parameters[name] = value\n",
    "        for i in range(len(free_parameters[model_index])):\n",
    "                parameters[free_parameters[model_index][i]] = x[i]\n",
    "\n",
    "        model = init_model(20, 20, parameters)\n",
    "        model.experience(model.items)\n",
    "        model.free_recall()\n",
    "\n",
    "        print(cost_function(x))\n",
    "\n",
    "print('dependencies and parameters validated')"
   ]
  },
  {
   "cell_type": "code",
   "execution_count": 5,
   "id": "13b289e6",
   "metadata": {
    "execution": {
     "iopub.execute_input": "2022-06-03T19:21:09.810934Z",
     "iopub.status.busy": "2022-06-03T19:21:09.810550Z",
     "iopub.status.idle": "2022-06-03T19:21:09.923703Z",
     "shell.execute_reply": "2022-06-03T19:21:09.922674Z"
    },
    "papermill": {
     "duration": 0.150356,
     "end_time": "2022-06-03T19:21:09.926975",
     "exception": false,
     "start_time": "2022-06-03T19:21:09.776619",
     "status": "completed"
    },
    "tags": []
   },
   "outputs": [
    {
     "name": "stdout",
     "output_type": "stream",
     "text": [
      "individual fits for PrototypeCMR with tag Murdock1962_LL40 already exist\n",
      "individual fits for ICMR_2_0_0 with tag Murdock1962_LL40 already exist\n",
      "individual fits for ICMR_2_0_1 with tag Murdock1962_LL40 already exist\n",
      "individual fits for ICMR_2_1_0 with tag Murdock1962_LL40 already exist\n",
      "individual fits for ICMR_2_1_1 with tag Murdock1962_LL40 already exist\n"
     ]
    }
   ],
   "source": [
    "# | code-summary: code -- 1) fit each model class participant-by-participant\n",
    "# | output: false\n",
    "\n",
    "for model_index, model_class in enumerate(models):\n",
    "\n",
    "    # load individual fits for this model and section tag from csv if they exist\n",
    "    if os.path.isfile(results_path + '{}_{}_individual.csv'.format(section_tag, model_names[model_index])):\n",
    "        pd.read_csv(results_path + '{}_{}_individual.csv'.format(section_tag, model_names[model_index]))\n",
    "        print('individual fits for {} with tag {} already exist'.format(model_names[model_index], section_tag))\n",
    "\n",
    "    # otherwise, fit each participant individually\n",
    "    else:\n",
    "        model_individual_fits = []\n",
    "\n",
    "        @njit(fastmath=True, nogil=True)\n",
    "        def init_model(item_count, presentation_count, parameters):\n",
    "            return model_class(item_count, presentation_count, parameters)\n",
    "\n",
    "        for subject in pd.unique(events.subject):\n",
    "            print(f'{model_names[model_index]}, Subject {subject}')\n",
    "\n",
    "            subject_specific_trial_mask = np.logical_and(\n",
    "                generate_trial_mask(events, f'subject == {subject}'), trial_mask)\n",
    "            \n",
    "            try:\n",
    "                # cost function to be minimized\n",
    "                # ours scales inversely with the probability that the data could have been\n",
    "                # generated using the specified parameters and our model\n",
    "                cost_function = generate_objective_function(\n",
    "                    [trials[i][subject_specific_trial_mask[i]] for i in range(len(trials))],\n",
    "                    [presentations[i][subject_specific_trial_mask[i]] for i in range(len(presentations))],\n",
    "                    list_lengths,\n",
    "                    init_model,\n",
    "                    fixed_parameters[model_index],\n",
    "                    free_parameters[model_index],\n",
    "                )\n",
    "            except ValueError:\n",
    "                continue\n",
    "\n",
    "            fit_result =  differential_evolution(cost_function, bounds[model_index], disp=False)\n",
    "\n",
    "            fitted_parameters = {\n",
    "                'subject': subject, 'trial_count': np.sum(subject_specific_trial_mask), \n",
    "                'likelihood': fit_result.fun, 'model': model_names[model_index]\n",
    "                }\n",
    "            for i in range(len(fit_result.x)):\n",
    "                fitted_parameters[free_parameters[model_index][i]] = fit_result.x[i]\n",
    "            for key in fixed_parameters[model_index]:\n",
    "                fitted_parameters[key] = fixed_parameters[model_index][key]\n",
    "\n",
    "            model_individual_fits.append(pd.DataFrame.from_dict(fitted_parameters, orient='index').T)\n",
    "            print(model_individual_fits[-1]['likelihood'][0])\n",
    "\n",
    "        model_individual_fits = pd.concat(model_individual_fits, ignore_index=True)\n",
    "        model_individual_fits.to_csv(\n",
    "            results_path + '{}_{}_individual.csv'.format(section_tag, model_names[model_index]), index=False)"
   ]
  },
  {
   "cell_type": "code",
   "execution_count": 6,
   "id": "59960822",
   "metadata": {
    "execution": {
     "iopub.execute_input": "2022-06-03T19:21:09.988752Z",
     "iopub.status.busy": "2022-06-03T19:21:09.988354Z",
     "iopub.status.idle": "2022-06-03T19:21:10.891856Z",
     "shell.execute_reply": "2022-06-03T19:21:10.891186Z"
    },
    "papermill": {
     "duration": 0.935123,
     "end_time": "2022-06-03T19:21:10.894841",
     "exception": false,
     "start_time": "2022-06-03T19:21:09.959718",
     "status": "completed"
    },
    "tags": []
   },
   "outputs": [
    {
     "data": {
      "text/plain": [
       "Text(-1.9305555555555483, 0.5, 'Individual Log-Likelihood')"
      ]
     },
     "execution_count": 6,
     "metadata": {},
     "output_type": "execute_result"
    },
    {
     "data": {
      "image/png": "[encoded data removed]",
      "text/plain": [
       "<Figure size 500x500 with 1 Axes>"
      ]
     },
     "metadata": {},
     "output_type": "display_data"
    }
   ],
   "source": [
    "#| code-summary: code -- 3) plot distribution of log-likelihoods across individual subjects\n",
    "\n",
    "plt.style.use('default')\n",
    "sns.set(style=\"darkgrid\")\n",
    "\n",
    "# build individual fits df concatenating results from each model\n",
    "individual_fits = []\n",
    "for model_index, model_class in enumerate(models):\n",
    "    individual_fits.append(\n",
    "        pd.read_csv(results_path + '{}_{}_individual.csv'.format(section_tag, model_names[model_index])))\n",
    "individual_fits = pd.concat(individual_fits, ignore_index=True)\n",
    "\n",
    "# plot distribution of log-likelihoods across individual subjects\n",
    "g = sns.catplot(x='model', y='likelihood', data=individual_fits, kind='violin', inner='stick')\n",
    "sns.swarmplot(x=\"model\", y=\"likelihood\", data=individual_fits, color=\"k\", size=3, ax=g.ax)\n",
    "g.ax.set_ylabel('Individual Log-Likelihood')\n",
    "#plt.savefig(results_path + 'individual_{}.pdf'.format(section_tag), bbox_inches=\"tight\")"
   ]
  },
  {
   "cell_type": "code",
   "execution_count": 7,
   "id": "29907003",
   "metadata": {
    "execution": {
     "iopub.execute_input": "2022-06-03T19:21:10.945185Z",
     "iopub.status.busy": "2022-06-03T19:21:10.944732Z",
     "iopub.status.idle": "2022-06-03T19:21:11.008848Z",
     "shell.execute_reply": "2022-06-03T19:21:11.008139Z"
    },
    "papermill": {
     "duration": 0.089493,
     "end_time": "2022-06-03T19:21:11.010375",
     "exception": false,
     "start_time": "2022-06-03T19:21:10.920882",
     "status": "completed"
    },
    "tags": []
   },
   "outputs": [
    {
     "data": {
      "text/html": [
       "<div>\n",
       "<style scoped>\n",
       "    .dataframe tbody tr th:only-of-type {\n",
       "        vertical-align: middle;\n",
       "    }\n",
       "\n",
       "    .dataframe tbody tr th {\n",
       "        vertical-align: top;\n",
       "    }\n",
       "\n",
       "    .dataframe thead th {\n",
       "        text-align: right;\n",
       "    }\n",
       "</style>\n",
       "<table border=\"1\" class=\"dataframe\">\n",
       "  <thead>\n",
       "    <tr style=\"text-align: right;\">\n",
       "      <th></th>\n",
       "      <th>subject</th>\n",
       "      <th>trial_count</th>\n",
       "      <th>likelihood</th>\n",
       "      <th>model</th>\n",
       "      <th>encoding_drift_rate</th>\n",
       "      <th>start_drift_rate</th>\n",
       "      <th>recall_drift_rate</th>\n",
       "      <th>shared_support</th>\n",
       "      <th>item_support</th>\n",
       "      <th>learning_rate</th>\n",
       "      <th>primacy_scale</th>\n",
       "      <th>primacy_decay</th>\n",
       "      <th>stop_probability_scale</th>\n",
       "      <th>stop_probability_growth</th>\n",
       "      <th>choice_sensitivity</th>\n",
       "      <th>delay_drift_rate</th>\n",
       "      <th>feature_sensitivity</th>\n",
       "      <th>context_sensitivity</th>\n",
       "      <th>learn_first</th>\n",
       "    </tr>\n",
       "  </thead>\n",
       "  <tbody>\n",
       "    <tr>\n",
       "      <th>0</th>\n",
       "      <td>1</td>\n",
       "      <td>80</td>\n",
       "      <td>1444.535918</td>\n",
       "      <td>PrototypeCMR</td>\n",
       "      <td>0.551265</td>\n",
       "      <td>2.343698e-02</td>\n",
       "      <td>0.588796</td>\n",
       "      <td>0.298718</td>\n",
       "      <td>0.997996</td>\n",
       "      <td>0.160118</td>\n",
       "      <td>7.073345</td>\n",
       "      <td>56.637501</td>\n",
       "      <td>0.013588</td>\n",
       "      <td>0.457477</td>\n",
       "      <td>6.709806</td>\n",
       "      <td>9.424417e-01</td>\n",
       "      <td>NaN</td>\n",
       "      <td>NaN</td>\n",
       "      <td>NaN</td>\n",
       "    </tr>\n",
       "    <tr>\n",
       "      <th>1</th>\n",
       "      <td>2</td>\n",
       "      <td>80</td>\n",
       "      <td>2244.426575</td>\n",
       "      <td>PrototypeCMR</td>\n",
       "      <td>0.617496</td>\n",
       "      <td>2.220446e-16</td>\n",
       "      <td>0.824339</td>\n",
       "      <td>0.350136</td>\n",
       "      <td>0.319133</td>\n",
       "      <td>0.183797</td>\n",
       "      <td>1.812119</td>\n",
       "      <td>54.536397</td>\n",
       "      <td>0.003676</td>\n",
       "      <td>0.419806</td>\n",
       "      <td>6.710387</td>\n",
       "      <td>1.000000e+00</td>\n",
       "      <td>NaN</td>\n",
       "      <td>NaN</td>\n",
       "      <td>NaN</td>\n",
       "    </tr>\n",
       "    <tr>\n",
       "      <th>2</th>\n",
       "      <td>3</td>\n",
       "      <td>80</td>\n",
       "      <td>2180.903561</td>\n",
       "      <td>PrototypeCMR</td>\n",
       "      <td>0.636225</td>\n",
       "      <td>5.764508e-03</td>\n",
       "      <td>0.771037</td>\n",
       "      <td>0.188047</td>\n",
       "      <td>1.000000</td>\n",
       "      <td>0.124977</td>\n",
       "      <td>6.300856</td>\n",
       "      <td>65.212373</td>\n",
       "      <td>0.007217</td>\n",
       "      <td>0.368461</td>\n",
       "      <td>4.031610</td>\n",
       "      <td>9.634540e-01</td>\n",
       "      <td>NaN</td>\n",
       "      <td>NaN</td>\n",
       "      <td>NaN</td>\n",
       "    </tr>\n",
       "    <tr>\n",
       "      <th>3</th>\n",
       "      <td>4</td>\n",
       "      <td>80</td>\n",
       "      <td>1635.152145</td>\n",
       "      <td>PrototypeCMR</td>\n",
       "      <td>0.801980</td>\n",
       "      <td>2.497764e-02</td>\n",
       "      <td>0.745194</td>\n",
       "      <td>0.040560</td>\n",
       "      <td>1.000000</td>\n",
       "      <td>0.156900</td>\n",
       "      <td>10.564858</td>\n",
       "      <td>33.854793</td>\n",
       "      <td>0.027753</td>\n",
       "      <td>0.338411</td>\n",
       "      <td>1.412740</td>\n",
       "      <td>2.220446e-16</td>\n",
       "      <td>NaN</td>\n",
       "      <td>NaN</td>\n",
       "      <td>NaN</td>\n",
       "    </tr>\n",
       "    <tr>\n",
       "      <th>4</th>\n",
       "      <td>5</td>\n",
       "      <td>80</td>\n",
       "      <td>2071.054953</td>\n",
       "      <td>PrototypeCMR</td>\n",
       "      <td>0.596379</td>\n",
       "      <td>5.301126e-03</td>\n",
       "      <td>0.741214</td>\n",
       "      <td>0.541529</td>\n",
       "      <td>0.486217</td>\n",
       "      <td>0.256403</td>\n",
       "      <td>2.422391</td>\n",
       "      <td>76.078088</td>\n",
       "      <td>0.014294</td>\n",
       "      <td>0.298035</td>\n",
       "      <td>10.000000</td>\n",
       "      <td>9.986583e-01</td>\n",
       "      <td>NaN</td>\n",
       "      <td>NaN</td>\n",
       "      <td>NaN</td>\n",
       "    </tr>\n",
       "    <tr>\n",
       "      <th>...</th>\n",
       "      <td>...</td>\n",
       "      <td>...</td>\n",
       "      <td>...</td>\n",
       "      <td>...</td>\n",
       "      <td>...</td>\n",
       "      <td>...</td>\n",
       "      <td>...</td>\n",
       "      <td>...</td>\n",
       "      <td>...</td>\n",
       "      <td>...</td>\n",
       "      <td>...</td>\n",
       "      <td>...</td>\n",
       "      <td>...</td>\n",
       "      <td>...</td>\n",
       "      <td>...</td>\n",
       "      <td>...</td>\n",
       "      <td>...</td>\n",
       "      <td>...</td>\n",
       "      <td>...</td>\n",
       "    </tr>\n",
       "    <tr>\n",
       "      <th>70</th>\n",
       "      <td>11</td>\n",
       "      <td>80</td>\n",
       "      <td>1791.812087</td>\n",
       "      <td>ICMR_2_1_1</td>\n",
       "      <td>0.535767</td>\n",
       "      <td>2.220446e-16</td>\n",
       "      <td>0.736135</td>\n",
       "      <td>0.072090</td>\n",
       "      <td>0.703315</td>\n",
       "      <td>0.227844</td>\n",
       "      <td>18.813645</td>\n",
       "      <td>43.543304</td>\n",
       "      <td>0.019327</td>\n",
       "      <td>0.276570</td>\n",
       "      <td>1.000000</td>\n",
       "      <td>1.000000e+00</td>\n",
       "      <td>1.0</td>\n",
       "      <td>3.804369</td>\n",
       "      <td>True</td>\n",
       "    </tr>\n",
       "    <tr>\n",
       "      <th>71</th>\n",
       "      <td>12</td>\n",
       "      <td>80</td>\n",
       "      <td>1777.445021</td>\n",
       "      <td>ICMR_2_1_1</td>\n",
       "      <td>0.482177</td>\n",
       "      <td>7.110519e-03</td>\n",
       "      <td>0.429539</td>\n",
       "      <td>0.121975</td>\n",
       "      <td>1.000000</td>\n",
       "      <td>0.198821</td>\n",
       "      <td>73.886149</td>\n",
       "      <td>84.825053</td>\n",
       "      <td>0.022405</td>\n",
       "      <td>0.287881</td>\n",
       "      <td>1.000000</td>\n",
       "      <td>9.983164e-01</td>\n",
       "      <td>1.0</td>\n",
       "      <td>5.760603</td>\n",
       "      <td>True</td>\n",
       "    </tr>\n",
       "    <tr>\n",
       "      <th>72</th>\n",
       "      <td>13</td>\n",
       "      <td>80</td>\n",
       "      <td>1902.145436</td>\n",
       "      <td>ICMR_2_1_1</td>\n",
       "      <td>0.612004</td>\n",
       "      <td>2.220446e-16</td>\n",
       "      <td>0.754895</td>\n",
       "      <td>0.097527</td>\n",
       "      <td>1.000000</td>\n",
       "      <td>0.257035</td>\n",
       "      <td>16.414029</td>\n",
       "      <td>38.340491</td>\n",
       "      <td>0.021867</td>\n",
       "      <td>0.268039</td>\n",
       "      <td>1.000000</td>\n",
       "      <td>9.992484e-01</td>\n",
       "      <td>1.0</td>\n",
       "      <td>3.593662</td>\n",
       "      <td>True</td>\n",
       "    </tr>\n",
       "    <tr>\n",
       "      <th>73</th>\n",
       "      <td>14</td>\n",
       "      <td>80</td>\n",
       "      <td>2065.504448</td>\n",
       "      <td>ICMR_2_1_1</td>\n",
       "      <td>0.648613</td>\n",
       "      <td>5.144950e-02</td>\n",
       "      <td>0.713894</td>\n",
       "      <td>0.116776</td>\n",
       "      <td>1.000000</td>\n",
       "      <td>0.298822</td>\n",
       "      <td>30.911273</td>\n",
       "      <td>86.548090</td>\n",
       "      <td>0.007948</td>\n",
       "      <td>0.398620</td>\n",
       "      <td>1.000000</td>\n",
       "      <td>7.913662e-01</td>\n",
       "      <td>1.0</td>\n",
       "      <td>4.044667</td>\n",
       "      <td>True</td>\n",
       "    </tr>\n",
       "    <tr>\n",
       "      <th>74</th>\n",
       "      <td>15</td>\n",
       "      <td>80</td>\n",
       "      <td>2123.429344</td>\n",
       "      <td>ICMR_2_1_1</td>\n",
       "      <td>0.530497</td>\n",
       "      <td>6.874449e-02</td>\n",
       "      <td>0.626049</td>\n",
       "      <td>0.148267</td>\n",
       "      <td>1.000000</td>\n",
       "      <td>0.070470</td>\n",
       "      <td>2.730572</td>\n",
       "      <td>11.348458</td>\n",
       "      <td>0.012370</td>\n",
       "      <td>0.331050</td>\n",
       "      <td>1.000000</td>\n",
       "      <td>9.878749e-01</td>\n",
       "      <td>1.0</td>\n",
       "      <td>4.924158</td>\n",
       "      <td>True</td>\n",
       "    </tr>\n",
       "  </tbody>\n",
       "</table>\n",
       "<p>75 rows × 19 columns</p>\n",
       "</div>"
      ],
      "text/plain": [
       "    subject  trial_count   likelihood         model  encoding_drift_rate  \\\n",
       "0         1           80  1444.535918  PrototypeCMR             0.551265   \n",
       "1         2           80  2244.426575  PrototypeCMR             0.617496   \n",
       "2         3           80  2180.903561  PrototypeCMR             0.636225   \n",
       "3         4           80  1635.152145  PrototypeCMR             0.801980   \n",
       "4         5           80  2071.054953  PrototypeCMR             0.596379   \n",
       "..      ...          ...          ...           ...                  ...   \n",
       "70       11           80  1791.812087    ICMR_2_1_1             0.535767   \n",
       "71       12           80  1777.445021    ICMR_2_1_1             0.482177   \n",
       "72       13           80  1902.145436    ICMR_2_1_1             0.612004   \n",
       "73       14           80  2065.504448    ICMR_2_1_1             0.648613   \n",
       "74       15           80  2123.429344    ICMR_2_1_1             0.530497   \n",
       "\n",
       "    start_drift_rate  recall_drift_rate  shared_support  item_support  \\\n",
       "0       2.343698e-02           0.588796        0.298718      0.997996   \n",
       "1       2.220446e-16           0.824339        0.350136      0.319133   \n",
       "2       5.764508e-03           0.771037        0.188047      1.000000   \n",
       "3       2.497764e-02           0.745194        0.040560      1.000000   \n",
       "4       5.301126e-03           0.741214        0.541529      0.486217   \n",
       "..               ...                ...             ...           ...   \n",
       "70      2.220446e-16           0.736135        0.072090      0.703315   \n",
       "71      7.110519e-03           0.429539        0.121975      1.000000   \n",
       "72      2.220446e-16           0.754895        0.097527      1.000000   \n",
       "73      5.144950e-02           0.713894        0.116776      1.000000   \n",
       "74      6.874449e-02           0.626049        0.148267      1.000000   \n",
       "\n",
       "    learning_rate  primacy_scale  primacy_decay  stop_probability_scale  \\\n",
       "0        0.160118       7.073345      56.637501                0.013588   \n",
       "1        0.183797       1.812119      54.536397                0.003676   \n",
       "2        0.124977       6.300856      65.212373                0.007217   \n",
       "3        0.156900      10.564858      33.854793                0.027753   \n",
       "4        0.256403       2.422391      76.078088                0.014294   \n",
       "..            ...            ...            ...                     ...   \n",
       "70       0.227844      18.813645      43.543304                0.019327   \n",
       "71       0.198821      73.886149      84.825053                0.022405   \n",
       "72       0.257035      16.414029      38.340491                0.021867   \n",
       "73       0.298822      30.911273      86.548090                0.007948   \n",
       "74       0.070470       2.730572      11.348458                0.012370   \n",
       "\n",
       "    stop_probability_growth  choice_sensitivity  delay_drift_rate  \\\n",
       "0                  0.457477            6.709806      9.424417e-01   \n",
       "1                  0.419806            6.710387      1.000000e+00   \n",
       "2                  0.368461            4.031610      9.634540e-01   \n",
       "3                  0.338411            1.412740      2.220446e-16   \n",
       "4                  0.298035           10.000000      9.986583e-01   \n",
       "..                      ...                 ...               ...   \n",
       "70                 0.276570            1.000000      1.000000e+00   \n",
       "71                 0.287881            1.000000      9.983164e-01   \n",
       "72                 0.268039            1.000000      9.992484e-01   \n",
       "73                 0.398620            1.000000      7.913662e-01   \n",
       "74                 0.331050            1.000000      9.878749e-01   \n",
       "\n",
       "    feature_sensitivity  context_sensitivity learn_first  \n",
       "0                   NaN                  NaN         NaN  \n",
       "1                   NaN                  NaN         NaN  \n",
       "2                   NaN                  NaN         NaN  \n",
       "3                   NaN                  NaN         NaN  \n",
       "4                   NaN                  NaN         NaN  \n",
       "..                  ...                  ...         ...  \n",
       "70                  1.0             3.804369        True  \n",
       "71                  1.0             5.760603        True  \n",
       "72                  1.0             3.593662        True  \n",
       "73                  1.0             4.044667        True  \n",
       "74                  1.0             4.924158        True  \n",
       "\n",
       "[75 rows x 19 columns]"
      ]
     },
     "execution_count": 7,
     "metadata": {},
     "output_type": "execute_result"
    }
   ],
   "source": [
    "individual_fits"
   ]
  },
  {
   "cell_type": "code",
   "execution_count": 8,
   "id": "c5a4a38d",
   "metadata": {
    "execution": {
     "iopub.execute_input": "2022-06-03T19:21:11.048965Z",
     "iopub.status.busy": "2022-06-03T19:21:11.048676Z",
     "iopub.status.idle": "2022-06-03T19:21:11.081650Z",
     "shell.execute_reply": "2022-06-03T19:21:11.080909Z"
    },
    "papermill": {
     "duration": 0.055179,
     "end_time": "2022-06-03T19:21:11.084542",
     "exception": false,
     "start_time": "2022-06-03T19:21:11.029363",
     "status": "completed"
    },
    "tags": []
   },
   "outputs": [
    {
     "name": "stdout",
     "output_type": "stream",
     "text": [
      "::: {#fig-Murdock1962_LL40fits layout-nrow=2 layout-valign=\"center\"}\n",
      "\n",
      "![](results/individual_Murdock1962_LL40.pdf)\n",
      "\n",
      "|       |   ICMR_2_0_0 |   ICMR_2_0_1 |   ICMR_2_1_0 |   ICMR_2_1_1 |   PrototypeCMR |\n",
      "|:------|-------------:|-------------:|-------------:|-------------:|---------------:|\n",
      "| count |       15     |       15     |       15     |       15     |         15     |\n",
      "| mean  |     1946.45  |     1945.64  |     1940.67  |     1933.73  |       1940.96  |\n",
      "| std   |      249.401 |      249.552 |      250.856 |      244.304 |        247.619 |\n",
      "| min   |     1440.44  |     1438.15  |     1440.12  |     1441.6   |       1444.54  |\n",
      "| 25%   |     1764.96  |     1764.62  |     1752.72  |     1753.72  |       1753.81  |\n",
      "| 50%   |     2068.12  |     2069.25  |     2047.16  |     2024.02  |       2057.43  |\n",
      "| 75%   |     2102.36  |     2102.38  |     2124.75  |     2096.23  |       2096.81  |\n",
      "| max   |     2300.99  |     2300.99  |     2282.73  |     2284.01  |       2290.38  |\n",
      "\n",
      "Distribution of log-likelihood scores of recall sequences exhibited by each subject in dataset under each considered model.\n",
      ":::\n"
     ]
    }
   ],
   "source": [
    "#| code-summary: display markdown rendering of summary table\n",
    "#| echo: false\n",
    "#| input: false\n",
    "#| output: asis\n",
    "\n",
    "summary_table = pd.DataFrame(group.describe().rename(columns={'likelihood':name}).squeeze()\n",
    "            for name, group in individual_fits[['model', 'likelihood']].groupby('model')).T.to_markdown()\n",
    "\n",
    "print(\"\"\"::: {{#fig-{section_tag}fits layout-nrow=2 layout-valign=\"center\"}}\n",
    "\n",
    "![]({results_path}individual_{section_tag}.pdf)\n",
    "\n",
    "{summary_table}\n",
    "\n",
    "{individual_fits_caption}\n",
    ":::\"\"\".format(section_tag=section_tag, summary_table=summary_table, individual_fits_caption=figure_caption, results_path=results_path))"
   ]
  },
  {
   "cell_type": "code",
   "execution_count": 9,
   "id": "a0026ad1",
   "metadata": {
    "execution": {
     "iopub.execute_input": "2022-06-03T19:21:11.149080Z",
     "iopub.status.busy": "2022-06-03T19:21:11.148831Z",
     "iopub.status.idle": "2022-06-03T19:21:11.210280Z",
     "shell.execute_reply": "2022-06-03T19:21:11.209509Z"
    },
    "papermill": {
     "duration": 0.092777,
     "end_time": "2022-06-03T19:21:11.211854",
     "exception": false,
     "start_time": "2022-06-03T19:21:11.119077",
     "status": "completed"
    },
    "tags": []
   },
   "outputs": [
    {
     "name": "stdout",
     "output_type": "stream",
     "text": [
      "('PrototypeCMR', 'ICMR_2_0_0')\n",
      "Ttest_relResult(statistic=-3.7183171902346177, pvalue=0.0022926680329702)\n",
      "Ttest_relResult(statistic=-3.7183171902346177, pvalue=0.0011463340164851)\n",
      "Ttest_relResult(statistic=-3.7183171902346177, pvalue=0.9988536659835149)\n",
      "\n",
      "('PrototypeCMR', 'ICMR_2_0_1')\n",
      "Ttest_relResult(statistic=-3.468669652249003, pvalue=0.0037623628595642405)\n",
      "Ttest_relResult(statistic=-3.468669652249003, pvalue=0.0018811814297821203)\n",
      "Ttest_relResult(statistic=-3.468669652249003, pvalue=0.9981188185702179)\n",
      "\n",
      "('PrototypeCMR', 'ICMR_2_1_0')\n",
      "Ttest_relResult(statistic=0.04446131372117594, pvalue=0.9651646346185809)\n",
      "Ttest_relResult(statistic=0.04446131372117594, pvalue=0.5174176826907095)\n",
      "Ttest_relResult(statistic=0.04446131372117594, pvalue=0.48258231730929046)\n",
      "\n",
      "('PrototypeCMR', 'ICMR_2_1_1')\n",
      "Ttest_relResult(statistic=2.4476002791185127, pvalue=0.028173587609964454)\n",
      "Ttest_relResult(statistic=2.4476002791185127, pvalue=0.9859132061950178)\n",
      "Ttest_relResult(statistic=2.4476002791185127, pvalue=0.014086793804982227)\n",
      "\n",
      "('ICMR_2_0_0', 'ICMR_2_0_1')\n",
      "Ttest_relResult(statistic=1.2991902015670171, pvalue=0.21486772392448797)\n",
      "Ttest_relResult(statistic=1.2991902015670171, pvalue=0.8925661380377561)\n",
      "Ttest_relResult(statistic=1.2991902015670171, pvalue=0.10743386196224398)\n",
      "\n",
      "('ICMR_2_0_0', 'ICMR_2_1_0')\n",
      "Ttest_relResult(statistic=0.8980765018415733, pvalue=0.3843299555589852)\n",
      "Ttest_relResult(statistic=0.8980765018415733, pvalue=0.8078350222205074)\n",
      "Ttest_relResult(statistic=0.8980765018415733, pvalue=0.1921649777794926)\n",
      "\n",
      "('ICMR_2_0_0', 'ICMR_2_1_1')\n",
      "Ttest_relResult(statistic=3.763023864750955, pvalue=0.002098649533058685)\n",
      "Ttest_relResult(statistic=3.763023864750955, pvalue=0.9989506752334707)\n",
      "Ttest_relResult(statistic=3.763023864750955, pvalue=0.0010493247665293425)\n",
      "\n",
      "('ICMR_2_0_1', 'ICMR_2_1_0')\n",
      "Ttest_relResult(statistic=0.7878790719618852, pvalue=0.44390337213880315)\n",
      "Ttest_relResult(statistic=0.7878790719618852, pvalue=0.7780483139305985)\n",
      "Ttest_relResult(statistic=0.7878790719618852, pvalue=0.22195168606940158)\n",
      "\n",
      "('ICMR_2_0_1', 'ICMR_2_1_1')\n",
      "Ttest_relResult(statistic=3.601335667593917, pvalue=0.0028908107000908036)\n",
      "Ttest_relResult(statistic=3.601335667593917, pvalue=0.9985545946499547)\n",
      "Ttest_relResult(statistic=3.601335667593917, pvalue=0.0014454053500454018)\n",
      "\n",
      "('ICMR_2_1_0', 'ICMR_2_1_1')\n",
      "Ttest_relResult(statistic=1.190082470699164, pvalue=0.25380428542884736)\n",
      "Ttest_relResult(statistic=1.190082470699164, pvalue=0.8730978572855763)\n",
      "Ttest_relResult(statistic=1.190082470699164, pvalue=0.12690214271442368)\n",
      "\n"
     ]
    }
   ],
   "source": [
    "#| code-summary: perform t-tests on individual-level fits\n",
    "#| output: false\n",
    " \n",
    "from scipy.stats import ttest_rel\n",
    "import itertools\n",
    "\n",
    "for combination in itertools.combinations(pd.unique(individual_fits.model), 2):\n",
    "\n",
    "    print(combination)\n",
    "    print(ttest_rel(individual_fits[individual_fits.model == combination[0]].likelihood, individual_fits[individual_fits.model == combination[1]].likelihood, alternative='two-sided'))\n",
    "    print(ttest_rel(individual_fits[individual_fits.model == combination[0]].likelihood, individual_fits[individual_fits.model == combination[1]].likelihood, alternative='less'))\n",
    "    print(ttest_rel(individual_fits[individual_fits.model == combination[0]].likelihood, individual_fits[individual_fits.model == combination[1]].likelihood, alternative='greater'))\n",
    "    print()"
   ]
  },
  {
   "cell_type": "code",
   "execution_count": 10,
   "id": "ca74020a",
   "metadata": {
    "execution": {
     "iopub.execute_input": "2022-06-03T19:21:11.256243Z",
     "iopub.status.busy": "2022-06-03T19:21:11.255571Z",
     "iopub.status.idle": "2022-06-03T19:21:11.333844Z",
     "shell.execute_reply": "2022-06-03T19:21:11.332989Z"
    },
    "papermill": {
     "duration": 0.102066,
     "end_time": "2022-06-03T19:21:11.336237",
     "exception": false,
     "start_time": "2022-06-03T19:21:11.234171",
     "status": "completed"
    },
    "tags": []
   },
   "outputs": [
    {
     "name": "stdout",
     "output_type": "stream",
     "text": [
      "('PrototypeCMR', 'ICMR_2_0_0')\n",
      "0.9333333333333333 0.06666666666666667\n",
      "14 1\n",
      "\n",
      "('PrototypeCMR', 'ICMR_2_0_1')\n",
      "0.9333333333333333 0.06666666666666667\n",
      "14"
     ]
    },
    {
     "name": "stdout",
     "output_type": "stream",
     "text": [
      " 1\n",
      "\n",
      "('PrototypeCMR', 'ICMR_2_1_0')\n",
      "0.4 0.6\n",
      "6 9\n",
      "\n",
      "('PrototypeCMR', 'ICMR_2_1_1')\n",
      "0.3333333333333333 0.6666666666666666\n",
      "5 10\n",
      "\n",
      "('ICMR_2_0_0', 'ICMR_2_0_1')\n",
      "0.5333333333333333 0.4666666666666667\n",
      "8 7\n",
      "\n",
      "('ICMR_2_0_0', 'ICMR_2_1_0')\n",
      "0.13333333333333333 0.8666666666666667\n",
      "2 13\n",
      "\n",
      "('ICMR_2_0_0', 'ICMR_2_1_1')\n",
      "0.2 0.8\n",
      "3 12\n",
      "\n",
      "('ICMR_2_0_1', 'ICMR_2_1_0')\n",
      "0.2 0.8\n",
      "3 12\n",
      "\n",
      "('ICMR_2_0_1', 'ICMR_2_1_1')\n",
      "0.13333333333333333 0.8666666666666667\n",
      "2 13\n",
      "\n",
      "('ICMR_2_1_0', 'ICMR_2_1_1')\n",
      "0.8 0.2\n",
      "12 3\n",
      "\n"
     ]
    }
   ],
   "source": [
    "for combination in itertools.combinations(pd.unique(individual_fits.model), 2):\n",
    "\n",
    "    print(combination)\n",
    "    print(np.mean(individual_fits[individual_fits.model == combination[0]].likelihood.values < individual_fits[individual_fits.model == combination[1]].likelihood.values), \n",
    "        np.mean(individual_fits[individual_fits.model == combination[1]].likelihood.values < individual_fits[individual_fits.model == combination[0]].likelihood.values))\n",
    "\n",
    "    print(np.sum(individual_fits[individual_fits.model == combination[0]].likelihood.values < individual_fits[individual_fits.model == combination[1]].likelihood.values), \n",
    "        np.sum(individual_fits[individual_fits.model == combination[1]].likelihood.values < individual_fits[individual_fits.model == combination[0]].likelihood.values))\n",
    "\n",
    "    print()"
   ]
  },
  {
   "cell_type": "code",
   "execution_count": 11,
   "id": "3b6d0908",
   "metadata": {
    "execution": {
     "iopub.execute_input": "2022-06-03T19:21:11.383025Z",
     "iopub.status.busy": "2022-06-03T19:21:11.382851Z",
     "iopub.status.idle": "2022-06-03T19:21:11.724679Z",
     "shell.execute_reply": "2022-06-03T19:21:11.723735Z"
    },
    "papermill": {
     "duration": 0.364243,
     "end_time": "2022-06-03T19:21:11.726479",
     "exception": false,
     "start_time": "2022-06-03T19:21:11.362236",
     "status": "completed"
    },
    "tags": []
   },
   "outputs": [
    {
     "name": "stdout",
     "output_type": "stream",
     "text": [
      "[8.88120638e-48 1.44492098e-83 2.82169715e-78 6.17945699e-46\n",
      " 1.00000000e+00]\n"
     ]
    }
   ],
   "source": [
    "def model_weights(positive_log_likelihoods, number_parameters, N):\n",
    "    AIC = 2 * positive_log_likelihoods + 2 * number_parameters\n",
    "    AICc = AIC #+ (2*np.power(number_parameters, 2) + 2 * number_parameters) / (N - number_parameters - 2)\n",
    "    AICd = AIC - np.min(AICc)\n",
    "    #return AICd\n",
    "    AICw = np.exp(-.5 * AICd) / np.sum(np.exp(-.5 * AICd))\n",
    "    return AICw\n",
    "\n",
    "aicw = {'Model': [], 'Subject': [], 'AICw': []}\n",
    "\n",
    "total_nlns = np.zeros(len(models))\n",
    "for subject_index, subject in enumerate(pd.unique(events.subject)):\n",
    "\n",
    "    subject_specific_trial_mask = np.logical_and(\n",
    "                    generate_trial_mask(events, f'subject == {subject}'), trial_mask)\n",
    "\n",
    "    nlnLs = []\n",
    "    for model_index, model_class in enumerate(models):\n",
    "        nlnLs.append(\n",
    "            individual_fits[individual_fits.model == model_names[model_index]].likelihood.values[subject_index])\n",
    "    nlnLs = np.array(nlnLs)\n",
    "    total_nlns += nlnLs\n",
    "    \n",
    "    weights = model_weights(nlnLs, len(free_parameters[model_index]), np.sum(subject_specific_trial_mask))\n",
    "    #print(weights)\n",
    "    for model_index, model_class in enumerate(models):\n",
    "        aicw['Model'].append(model_names[model_index])\n",
    "        aicw['Subject'].append(subject)\n",
    "        aicw['AICw'].append(weights[model_index])\n",
    "\n",
    "aicw = pd.DataFrame(data=aicw)\n",
    "total_aicw = model_weights(total_nlns, len(free_parameters[model_index]), np.sum(trial_mask))\n",
    "print(total_aicw)"
   ]
  },
  {
   "cell_type": "code",
   "execution_count": 12,
   "id": "0927aec7",
   "metadata": {
    "execution": {
     "iopub.execute_input": "2022-06-03T19:21:11.767559Z",
     "iopub.status.busy": "2022-06-03T19:21:11.767267Z",
     "iopub.status.idle": "2022-06-03T19:21:12.143639Z",
     "shell.execute_reply": "2022-06-03T19:21:12.142934Z"
    },
    "papermill": {
     "duration": 0.39809,
     "end_time": "2022-06-03T19:21:12.145319",
     "exception": false,
     "start_time": "2022-06-03T19:21:11.747229",
     "status": "completed"
    },
    "tags": []
   },
   "outputs": [
    {
     "data": {
      "image/png": "[encoded data removed]",
      "text/plain": [
       "<Figure size 640x480 with 1 Axes>"
      ]
     },
     "metadata": {},
     "output_type": "display_data"
    }
   ],
   "source": [
    "import seaborn as sns\n",
    "sns.set_theme(style=\"darkgrid\")\n",
    "x = sns.pointplot(x=\"Model\", y=\"AICw\", data=aicw, join=False)\n",
    "\n",
    "plt.show()"
   ]
  },
  {
   "cell_type": "code",
   "execution_count": 13,
   "id": "304f999e",
   "metadata": {
    "execution": {
     "iopub.execute_input": "2022-06-03T19:21:12.187200Z",
     "iopub.status.busy": "2022-06-03T19:21:12.186884Z",
     "iopub.status.idle": "2022-06-03T19:21:12.190763Z",
     "shell.execute_reply": "2022-06-03T19:21:12.190201Z"
    },
    "papermill": {
     "duration": 0.026238,
     "end_time": "2022-06-03T19:21:12.192395",
     "exception": false,
     "start_time": "2022-06-03T19:21:12.166157",
     "status": "completed"
    },
    "tags": []
   },
   "outputs": [],
   "source": [
    "from compmemlearn.datasets import find_first"
   ]
  },
  {
   "cell_type": "code",
   "execution_count": 14,
   "id": "d1cac242",
   "metadata": {
    "execution": {
     "iopub.execute_input": "2022-06-03T19:21:12.236825Z",
     "iopub.status.busy": "2022-06-03T19:21:12.236555Z",
     "iopub.status.idle": "2022-06-03T19:21:12.250892Z",
     "shell.execute_reply": "2022-06-03T19:21:12.249699Z"
    },
    "papermill": {
     "duration": 0.038737,
     "end_time": "2022-06-03T19:21:12.252742",
     "exception": false,
     "start_time": "2022-06-03T19:21:12.214005",
     "status": "completed"
    },
    "tags": []
   },
   "outputs": [],
   "source": [
    "def simulate_df_from_events(model_class, parameters, events, trial_mask, experiment_count, first_recall_item=None):\n",
    "\n",
    "    trials, list_lengths, presentations = events_metadata(events)\n",
    "    chose = [i for i in range(len(trial_mask)) if np.sum(trial_mask[i]) != 0]\n",
    "    assert(len(chose) == 1)\n",
    "    chose = chose[0]\n",
    "    trial_mask = trial_mask[chose]\n",
    "    trials = trials[chose][trial_mask]\n",
    "    presentations = presentations[chose][trial_mask]\n",
    "\n",
    "    default_columns = ['subject', 'list', 'trial_type', 'item', 'input', 'output', 'study', 'recall', 'repeat', 'intrusion', 'first_input']\n",
    "    extra_columns = [each for each in events.columns if each not in default_columns]\n",
    "\n",
    "    labels = {}\n",
    "    for column in extra_columns:\n",
    "        try:\n",
    "            labels[column] = (\n",
    "                events.pivot_table(index=['subject', 'list'], dropna=False)[column].values)\n",
    "\n",
    "            if 'list length' in events.columns:\n",
    "                trial_details = events.pivot_table(index=['subject', 'list'], dropna=False).reset_index()\n",
    "                list_length_mask = trial_details.eval(trial_query).to_numpy(dtype='bool')\n",
    "                labels[column] = labels[column][list_length_mask]\n",
    "            else:\n",
    "                labels[column] = labels[column][trial_mask]\n",
    "        except KeyError:\n",
    "            pass\n",
    "\n",
    "    data = []\n",
    "    for experiment in range(experiment_count):\n",
    "        for trial_index in range(len(presentations)):\n",
    "        \n",
    "            # retrieve presentation sequence for this trial and measure number of unique items\n",
    "            presentation = presentations[trial_index]\n",
    "            item_count = np.max(presentation)+1\n",
    "\n",
    "            # record presentation events\n",
    "            for presentation_index, presentation_event in enumerate(presentation):\n",
    "                data.append([\n",
    "                    experiment, trial_index, 'study', presentation_index+1, presentation_event, presentation_index+1])\n",
    "                for label in labels:\n",
    "                    data[-1].append(labels[label][trial_index])\n",
    "\n",
    "            # simulate recall and identify first study position of each recalled item\n",
    "            model = model_class(item_count, len(presentation), parameters)\n",
    "            model.experience(model.items[presentation])\n",
    "            if first_recall_item is not None:\n",
    "                model.force_recall(first_recall_item)\n",
    "            recalled = model.free_recall()\n",
    "            trial = [find_first(recalled[i], presentation) + 1 for i in range(len(recalled))]\n",
    "\n",
    "            # record recall events\n",
    "            for recall_index, recall_event in enumerate(trial):\n",
    "                if recall_event != 0:\n",
    "                    data.append([\n",
    "                        experiment, trial_index, 'recall', recall_index+1, \n",
    "                        presentation[recall_event-1], recall_event])\n",
    "                    for label in labels:\n",
    "                        data[-1].append(labels[label][trial_index])\n",
    "\n",
    "    data = pd.DataFrame(data, columns=[\n",
    "        'subject', 'list', 'trial_type', 'position', 'item', 'first_input'] + list(labels.keys()))\n",
    "    merged = fr.merge_free_recall(data, list_keys=['first_input'] + list(labels.keys()))\n",
    "    return merged"
   ]
  },
  {
   "cell_type": "code",
   "execution_count": 15,
   "id": "6c83e4c0",
   "metadata": {
    "execution": {
     "iopub.execute_input": "2022-06-03T19:21:12.297720Z",
     "iopub.status.busy": "2022-06-03T19:21:12.297345Z"
    },
    "papermill": {
     "duration": 14.040357,
     "end_time": "2022-06-03T19:21:26.314738",
     "exception": false,
     "start_time": "2022-06-03T19:21:12.274381",
     "status": "completed"
    },
    "tags": []
   },
   "outputs": [
    {
     "name": "stdout",
     "output_type": "stream",
     "text": [
      "sim_df for PrototypeCMR with tag Murdock1962_LL40 and list length 40 already exists\n"
     ]
    },
    {
     "data": {
      "image/png": "[encoded data removed]",
      "text/plain": [
       "<Figure size 640x480 with 1 Axes>"
      ]
     },
     "metadata": {},
     "output_type": "display_data"
    },
    {
     "name": "stderr",
     "output_type": "stream",
     "text": [
      "*** Error in `/gpfs52/home/gunnj/myvenv/bin/python': corrupted size vs. prev_size: 0x0000000018ff5d60 ***\n",
      "======= Backtrace: =========\n",
      "/lib64/libc.so.6(+0x7f474)[0x2ba096ab2474]\n",
      "/lib64/libc.so.6(+0x8156b)[0x2ba096ab456b]\n",
      "/gpfs52/home/gunnj/myvenv/lib/python3.8/site-packages/numba/core/runtime/_nrt_python.cpython-38-x86_64-linux-gnu.so(NRT_dealloc+0x2e)[0x2ba0a3feb37e]\n",
      "/gpfs52/home/gunnj/myvenv/lib/python3.8/site-packages/numba/core/runtime/_nrt_python.cpython-38-x86_64-linux-gnu.so(+0x442d)[0x2ba0a3feb42d]\n",
      "[0x2ba0e99f87e8]\n",
      "[0x2ba0e99f8ab5]\n",
      "/gpfs52/home/gunnj/myvenv/lib/python3.8/site-packages/numba/_dispatcher.cpython-38-x86_64-linux-gnu.so(+0x5637)[0x2ba0a3fd9637]\n",
      "/accre/arch/easybuild/software/Compiler/GCCcore/10.2.0/Python/3.8.6/lib/libpython3.8.so.1.0(_PyObject_MakeTpCall+0x87)[0x2ba095c69e47]\n",
      "/accre/arch/easybuild/software/Compiler/GCCcore/10.2.0/Python/3.8.6/lib/libpython3.8.so.1.0(_PyEval_EvalFrameDefault+0x4841)[0x2ba095c66db1]\n",
      "/accre/arch/easybuild/software/Compiler/GCCcore/10.2.0/Python/3.8.6/lib/libpython3.8.so.1.0(_PyEval_EvalCodeWithName+0x90c)[0x2ba095c61a6c]\n",
      "/accre/arch/easybuild/software/Compiler/GCCcore/10.2.0/Python/3.8.6/lib/libpython3.8.so.1.0(_PyFunction_Vectorcall+0xc3)[0x2ba095c6eb93]\n",
      "/accre/arch/easybuild/software/Compiler/GCCcore/10.2.0/Python/3.8.6/lib/libpython3.8.so.1.0(_PyEval_EvalFrameDefault+0x1037)[0x2ba095c635a7]\n",
      "/accre/arch/easybuild/software/Compiler/GCCcore/10.2.0/Python/3.8.6/lib/libpython3.8.so.1.0(_PyEval_EvalCodeWithName+0x301)[0x2ba095c61461]\n",
      "/accre/arch/easybuild/software/Compiler/GCCcore/10.2.0/Python/3.8.6/lib/libpython3.8.so.1.0(PyEval_EvalCodeEx+0x39)[0x2ba095c61159]\n",
      "/accre/arch/easybuild/software/Compiler/GCCcore/10.2.0/Python/3.8.6/lib/libpython3.8.so.1.0(PyEval_EvalCode+0x1b)[0x2ba095cd4b3b]\n",
      "/accre/arch/easybuild/software/Compiler/GCCcore/10.2.0/Python/3.8.6/lib/libpython3.8.so.1.0(+0x1abe19)[0x2ba095cd9e19]\n",
      "/accre/arch/easybuild/software/Compiler/GCCcore/10.2.0/Python/3.8.6/lib/libpython3.8.so.1.0(+0x1410ea)[0x2ba095c6f0ea]\n",
      "/accre/arch/easybuild/software/Compiler/GCCcore/10.2.0/Python/3.8.6/lib/libpython3.8.so.1.0(_PyEval_EvalFrameDefault+0x37c)[0x2ba095c628ec]\n",
      "/accre/arch/easybuild/software/Compiler/GCCcore/10.2.0/Python/3.8.6/lib/libpython3.8.so.1.0(+0x15e1d6)[0x2ba095c8c1d6]\n",
      "/accre/arch/easybuild/software/Compiler/GCCcore/10.2.0/Python/3.8.6/lib/libpython3.8.so.1.0(_PyEval_EvalFrameDefault+0x4cc5)[0x2ba095c67235]\n",
      "/accre/arch/easybuild/software/Compiler/GCCcore/10.2.0/Python/3.8.6/lib/libpython3.8.so.1.0(+0x15e1d6)[0x2ba095c8c1d6]\n",
      "/accre/arch/easybuild/software/Compiler/GCCcore/10.2.0/Python/3.8.6/lib/libpython3.8.so.1.0(_PyEval_EvalFrameDefault+0x4cc5)[0x2ba095c67235]\n",
      "/accre/arch/easybuild/software/Compiler/GCCcore/10.2.0/Python/3.8.6/lib/libpython3.8.so.1.0(+0x15e1d6)[0x2ba095c8c1d6]\n",
      "/accre/arch/easybuild/software/Compiler/GCCcore/10.2.0/Python/3.8.6/lib/libpython3.8.so.1.0(+0x1478eb)[0x2ba095c758eb]\n",
      "/accre/arch/easybuild/software/Compiler/GCCcore/10.2.0/Python/3.8.6/lib/libpython3.8.so.1.0(_PyEval_EvalFrameDefault+0x6f3)[0x2ba095c62c63]\n",
      "/accre/arch/easybuild/software/Compiler/GCCcore/10.2.0/Pytho"
     ]
    }
   ],
   "source": [
    "sns.set(style='darkgrid')\n",
    "\n",
    "# for each unique list length\n",
    "if not (isinstance(list_lengths, list) or isinstance(list_lengths, List)): \n",
    "    list_lengths = [list_lengths]\n",
    "\n",
    "for ll_index, list_length in enumerate(list_lengths):\n",
    "    \n",
    "    # for each unique model\n",
    "    for model_index, model_class in enumerate(models):\n",
    "\n",
    "        # load sim_df from csv if it exists\n",
    "        sim_df_path = results_path + '{}_{}_ll{}_sim_df.csv'.format(section_tag, model_names[model_index], list_length)\n",
    "        if os.path.isfile(sim_df_path):\n",
    "            sim_df = pd.read_csv(sim_df_path)\n",
    "            print('sim_df for {} with tag {} and list length {} already exists'.format(model_names[model_index], section_tag, list_length))\n",
    "\n",
    "        # otherwise, generate it\n",
    "        else:\n",
    "\n",
    "            @njit(fastmath=True, nogil=True)\n",
    "            def init_model(item_count, presentation_count, parameters):\n",
    "                return model_class(item_count, presentation_count, parameters)\n",
    "\n",
    "            # for each unique matching entry in individual df\n",
    "            sim_dfs = []\n",
    "            for subject in pd.unique(individual_fits.subject):\n",
    "                \n",
    "                fit_result = individual_fits.query(f'subject == {subject} & model == \"{model_names[model_index]}\"')\n",
    "\n",
    "                # configure model based on specified parameters\n",
    "                fitted_parameters = Dict.empty(\n",
    "                    key_type=types.unicode_type, value_type=types.float64\n",
    "                )\n",
    "                for i in range(len(free_parameters[model_index])):\n",
    "                    fitted_parameters[free_parameters[model_index][i]] = fit_result[free_parameters[model_index][i]].values[0]\n",
    "                for key in fixed_parameters[model_index]:\n",
    "                    fitted_parameters[key] = fixed_parameters[model_index][key]\n",
    "\n",
    "                if 'list length' in events.columns:\n",
    "                    ll_specific_trial_query = trial_query + f' & subject == {subject} & `list length` == {list_length}'\n",
    "                else:\n",
    "                    ll_specific_trial_query = trial_query + f' & subject == {subject}'\n",
    "\n",
    "                ll_specific_trial_mask = generate_trial_mask(events, ll_specific_trial_query)\n",
    "\n",
    "                if np.sum(ll_specific_trial_mask) == 0:\n",
    "                    continue\n",
    "\n",
    "                # simulate df based on specified trial_count and experiment_count\n",
    "                sim_dfs.append(simulate_df_from_events(\n",
    "                    init_model, fitted_parameters, events, ll_specific_trial_mask, experiment_count))\n",
    "                sim_dfs[-1].subject = subject\n",
    "\n",
    "            # concatenate simulations into one dataframe\n",
    "            if len(sim_dfs) == 0:\n",
    "                sim_df = None\n",
    "                continue\n",
    "            sim_df = pd.concat(sim_dfs)\n",
    "\n",
    "            # save sim_df to csv\n",
    "            sim_df.to_csv(results_path +'{}_{}_ll{}_sim_df.csv'.format(section_tag, model_names[model_index], list_length), index=False)\n",
    "\n",
    "        if sim_df is None:\n",
    "            continue\n",
    "\n",
    "        # design general filter for analysis df\n",
    "        if len(list_lengths) > 1:\n",
    "            analysis_query = trial_query + f' & `list length` == {list_length}'\n",
    "        else:\n",
    "            analysis_query = trial_query\n",
    "            \n",
    "        # generate plot for each parametrized analysis and model\n",
    "        for analysis_index, analysis_function in enumerate(analyses):\n",
    "            analysis_name = analysis_names[analysis_index]\n",
    "            axis = analysis_function(\n",
    "                [events, sim_df], analysis_query, contrast_name=\"source\", labels=[\"data\", model_names[model_index]])\n",
    "            plt.savefig(results_path+'{}_{}_ll{}_{}.pdf'.format(section_tag, model_names[model_index], list_length, analysis_name), bbox_inches=\"tight\")\n",
    "            plt.show()"
   ]
  }
 ],
 "metadata": {
  "interpreter": {
   "hash": "19d1d53a962d236aa061289c2ac16dc8e6d9648c89fe79f459ae9a3493bc67b4"
  },
  "kernelspec": {
   "display_name": "Python 3.9.1 ('base')",
   "language": "python",
   "name": "python3"
  },
  "language_info": {
   "codemirror_mode": {
    "name": "ipython",
    "version": 3
   },
   "file_extension": ".py",
   "mimetype": "text/x-python",
   "name": "python",
   "nbconvert_exporter": "python",
   "pygments_lexer": "ipython3",
   "version": "3.9.1"
  },
  "papermill": {
   "default_parameters": {},
   "duration": 299.434401,
   "end_time": "2022-06-03T19:21:26.373909",
   "environment_variables": {},
   "exception": null,
   "input_path": "Subjectwise_Model_Evaluation.ipynb",
   "output_path": "reports/Subjectwise_Model_Evaluation_Double_Murdock1962_LL40.ipynb",
   "parameters": {
    "bounds": [
     [
      [
       2.220446049250313e-16,
       0.9999999999999998
      ],
      [
       2.220446049250313e-16,
       0.9999999999999998
      ],
      [
       2.220446049250313e-16,
       0.9999999999999998
      ],
      [
       2.220446049250313e-16,
       0.9999999999999998
      ],
      [
       2.220446049250313e-16,
       0.9999999999999998
      ],
      [
       2.220446049250313e-16,
       0.9999999999999998
      ],
      [
       2.220446049250313e-16,
       100
      ],
      [
       2.220446049250313e-16,
       100
      ],
      [
       2.220446049250313e-16,
       0.9999999999999998
      ],
      [
       2.220446049250313e-16,
       10
      ],
      [
       2.220446049250313e-16,
       10
      ],
      [
       2.220446049250313e-16,
       0.9999999999999998
      ]
     ],
     [
      [
       2.220446049250313e-16,
       0.9999999999999998
      ],
      [
       2.220446049250313e-16,
       0.9999999999999998
      ],
      [
       2.220446049250313e-16,
       0.9999999999999998
      ],
      [
       2.220446049250313e-16,
       0.9999999999999998
      ],
      [
       2.220446049250313e-16,
       0.9999999999999998
      ],
      [
       2.220446049250313e-16,
       0.9999999999999998
      ],
      [
       2.220446049250313e-16,
       100
      ],
      [
       2.220446049250313e-16,
       100
      ],
      [
       2.220446049250313e-16,
       0.9999999999999998
      ],
      [
       2.220446049250313e-16,
       10
      ],
      [
       2.220446049250313e-16,
       10
      ],
      [
       2.220446049250313e-16,
       0.9999999999999998
      ]
     ],
     [
      [
       2.220446049250313e-16,
       0.9999999999999998
      ],
      [
       2.220446049250313e-16,
       0.9999999999999998
      ],
      [
       2.220446049250313e-16,
       0.9999999999999998
      ],
      [
       2.220446049250313e-16,
       0.9999999999999998
      ],
      [
       2.220446049250313e-16,
       0.9999999999999998
      ],
      [
       2.220446049250313e-16,
       0.9999999999999998
      ],
      [
       2.220446049250313e-16,
       100
      ],
      [
       2.220446049250313e-16,
       100
      ],
      [
       2.220446049250313e-16,
       0.9999999999999998
      ],
      [
       2.220446049250313e-16,
       10
      ],
      [
       2.220446049250313e-16,
       10
      ],
      [
       2.220446049250313e-16,
       0.9999999999999998
      ]
     ],
     [
      [
       2.220446049250313e-16,
       0.9999999999999998
      ],
      [
       2.220446049250313e-16,
       0.9999999999999998
      ],
      [
       2.220446049250313e-16,
       0.9999999999999998
      ],
      [
       2.220446049250313e-16,
       0.9999999999999998
      ],
      [
       2.220446049250313e-16,
       0.9999999999999998
      ],
      [
       2.220446049250313e-16,
       0.9999999999999998
      ],
      [
       2.220446049250313e-16,
       100
      ],
      [
       2.220446049250313e-16,
       100
      ],
      [
       2.220446049250313e-16,
       0.9999999999999998
      ],
      [
       2.220446049250313e-16,
       10
      ],
      [
       2.220446049250313e-16,
       10
      ],
      [
       2.220446049250313e-16,
       0.9999999999999998
      ]
     ],
     [
      [
       2.220446049250313e-16,
       0.9999999999999998
      ],
      [
       2.220446049250313e-16,
       0.9999999999999998
      ],
      [
       2.220446049250313e-16,
       0.9999999999999998
      ],
      [
       2.220446049250313e-16,
       0.9999999999999998
      ],
      [
       2.220446049250313e-16,
       0.9999999999999998
      ],
      [
       2.220446049250313e-16,
       0.9999999999999998
      ],
      [
       2.220446049250313e-16,
       100
      ],
      [
       2.220446049250313e-16,
       100
      ],
      [
       2.220446049250313e-16,
       0.9999999999999998
      ],
      [
       2.220446049250313e-16,
       10
      ],
      [
       2.220446049250313e-16,
       10
      ],
      [
       2.220446049250313e-16,
       0.9999999999999998
      ]
     ]
    ],
    "data_path": "data/Murdock1962.csv",
    "fixed_parameters": [
     {},
     {
      "context_sensitivity": 1,
      "feature_sensitivity": 1,
      "learn_first": false
     },
     {
      "context_sensitivity": 1,
      "feature_sensitivity": 1,
      "learn_first": true
     },
     {
      "choice_sensitivity": 1,
      "feature_sensitivity": 1,
      "learn_first": false
     },
     {
      "choice_sensitivity": 1,
      "feature_sensitivity": 1,
      "learn_first": true
     }
    ],
    "free_parameters": [
     [
      "encoding_drift_rate",
      "start_drift_rate",
      "recall_drift_rate",
      "shared_support",
      "item_support",
      "learning_rate",
      "primacy_scale",
      "primacy_decay",
      "stop_probability_scale",
      "stop_probability_growth",
      "choice_sensitivity",
      "delay_drift_rate"
     ],
     [
      "encoding_drift_rate",
      "start_drift_rate",
      "recall_drift_rate",
      "shared_support",
      "item_support",
      "learning_rate",
      "primacy_scale",
      "primacy_decay",
      "stop_probability_scale",
      "stop_probability_growth",
      "choice_sensitivity",
      "delay_drift_rate"
     ],
     [
      "encoding_drift_rate",
      "start_drift_rate",
      "recall_drift_rate",
      "shared_support",
      "item_support",
      "learning_rate",
      "primacy_scale",
      "primacy_decay",
      "stop_probability_scale",
      "stop_probability_growth",
      "choice_sensitivity",
      "delay_drift_rate"
     ],
     [
      "encoding_drift_rate",
      "start_drift_rate",
      "recall_drift_rate",
      "shared_support",
      "item_support",
      "learning_rate",
      "primacy_scale",
      "primacy_decay",
      "stop_probability_scale",
      "stop_probability_growth",
      "context_sensitivity",
      "delay_drift_rate"
     ],
     [
      "encoding_drift_rate",
      "start_drift_rate",
      "recall_drift_rate",
      "shared_support",
      "item_support",
      "learning_rate",
      "primacy_scale",
      "primacy_decay",
      "stop_probability_scale",
      "stop_probability_growth",
      "context_sensitivity",
      "delay_drift_rate"
     ]
    ],
    "model_names": [
     "PrototypeCMR",
     "ICMR_2_0_0",
     "ICMR_2_0_1",
     "ICMR_2_1_0",
     "ICMR_2_1_1"
    ],
    "model_paths": [
     "compmemlearn.models.Base_CMR",
     "compmemlearn.models.Dual_ICMR",
     "compmemlearn.models.Dual_ICMR",
     "compmemlearn.models.Dual_ICMR",
     "compmemlearn.models.Dual_ICMR"
    ],
    "section_tag": "Murdock1962_LL40",
    "trial_query": "`list length` == 40"
   },
   "start_time": "2022-06-03T19:16:26.939508",
   "version": "2.3.4"
  }
 },
 "nbformat": 4,
 "nbformat_minor": 5
}
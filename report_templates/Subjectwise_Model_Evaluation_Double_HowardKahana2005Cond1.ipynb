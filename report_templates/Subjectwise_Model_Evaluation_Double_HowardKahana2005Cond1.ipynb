{
 "cells": [
  {
   "cell_type": "markdown",
   "id": "7d970c83",
   "metadata": {
    "tags": [
     "papermill-error-cell-tag"
    ]
   },
   "source": [
    "<span style=\"color:red; font-family:Helvetica Neue, Helvetica, Arial, sans-serif; font-size:2em;\">An Exception was encountered at '<a href=\"#papermill-error-cell\">In [15]</a>'.</span>"
   ]
  },
  {
   "cell_type": "code",
   "execution_count": 1,
   "id": "83414019",
   "metadata": {
    "execution": {
     "iopub.execute_input": "2022-06-03T19:16:26.664310Z",
     "iopub.status.busy": "2022-06-03T19:16:26.663603Z",
     "iopub.status.idle": "2022-06-03T19:19:02.803971Z",
     "shell.execute_reply": "2022-06-03T19:19:02.802033Z"
    },
    "papermill": {
     "duration": 156.194802,
     "end_time": "2022-06-03T19:19:02.808142",
     "exception": false,
     "start_time": "2022-06-03T19:16:26.613340",
     "status": "completed"
    },
    "tags": [
     "parameters"
    ]
   },
   "outputs": [],
   "source": [
    "# | code-summary: code -- load dependencies and data and select parameters\n",
    "\n",
    "from compmemlearn.fitting import generate_objective_function\n",
    "from compmemlearn.datasets import events_metadata, generate_trial_mask\n",
    "from scipy.optimize import differential_evolution\n",
    "from numba.typed import List, Dict\n",
    "from numba.core import types\n",
    "from numba import njit\n",
    "from psifr import fr\n",
    "import pandas as pd\n",
    "import numpy as np\n",
    "import seaborn as sns\n",
    "import matplotlib.pyplot as plt\n",
    "import importlib\n",
    "import os\n",
    "\n",
    "lb = np.finfo(float).eps\n",
    "ub = 1 - np.finfo(float).eps\n",
    "\n",
    "figure_caption = \"\"\"Distribution of log-likelihood scores of recall sequences exhibited by each subject in dataset under each considered model.\"\"\"\n",
    "\n",
    "section_tag = \"LohnasKahanaCond4\"\n",
    "\n",
    "data_path = \"../data/LohnasKahana2014.csv\"\n",
    "results_path = \"results/\"\n",
    "trial_query = \"condition == 4\"\n",
    "\n",
    "model_paths = [\n",
    "    \"compmemlearn.models.Base_CMR\",\n",
    "    \"compmemlearn.models.Dual_ICMR\",\n",
    "    \"compmemlearn.models.Dual_ICMR\",\n",
    "    \"compmemlearn.models.Dual_ICMR\",\n",
    "    \"compmemlearn.models.Dual_ICMR\",\n",
    "]\n",
    "\n",
    "model_names = [\"PrototypeCMR\", \"ICMR_2_0_0\", \"ICMR_2_0_1\", \"ICMR_2_1_0\", \"ICMR_2_1_1\"]\n",
    "\n",
    "free_parameters = [\n",
    "    [\n",
    "        \"encoding_drift_rate\",\n",
    "        \"start_drift_rate\",\n",
    "        \"recall_drift_rate\",\n",
    "        \"shared_support\",\n",
    "        \"item_support\",\n",
    "        \"learning_rate\",\n",
    "        \"primacy_scale\",\n",
    "        \"primacy_decay\",\n",
    "        \"stop_probability_scale\",\n",
    "        \"stop_probability_growth\",\n",
    "        \"choice_sensitivity\",\n",
    "        \"delay_drift_rate\",\n",
    "    ],\n",
    "    [\n",
    "        \"encoding_drift_rate\",\n",
    "        \"start_drift_rate\",\n",
    "        \"recall_drift_rate\",\n",
    "        \"shared_support\",\n",
    "        \"item_support\",\n",
    "        \"learning_rate\",\n",
    "        \"primacy_scale\",\n",
    "        \"primacy_decay\",\n",
    "        \"stop_probability_scale\",\n",
    "        \"stop_probability_growth\",\n",
    "        \"choice_sensitivity\",\n",
    "        \"delay_drift_rate\",\n",
    "    ],\n",
    "    [\n",
    "        \"encoding_drift_rate\",\n",
    "        \"start_drift_rate\",\n",
    "        \"recall_drift_rate\",\n",
    "        \"shared_support\",\n",
    "        \"item_support\",\n",
    "        \"learning_rate\",\n",
    "        \"primacy_scale\",\n",
    "        \"primacy_decay\",\n",
    "        \"stop_probability_scale\",\n",
    "        \"stop_probability_growth\",\n",
    "        \"choice_sensitivity\",\n",
    "        \"delay_drift_rate\",\n",
    "    ],\n",
    "    [\n",
    "        \"encoding_drift_rate\",\n",
    "        \"start_drift_rate\",\n",
    "        \"recall_drift_rate\",\n",
    "        \"shared_support\",\n",
    "        \"item_support\",\n",
    "        \"learning_rate\",\n",
    "        \"primacy_scale\",\n",
    "        \"primacy_decay\",\n",
    "        \"stop_probability_scale\",\n",
    "        \"stop_probability_growth\",\n",
    "        \"context_sensitivity\",\n",
    "        \"delay_drift_rate\",\n",
    "    ],\n",
    "    [\n",
    "        \"encoding_drift_rate\",\n",
    "        \"start_drift_rate\",\n",
    "        \"recall_drift_rate\",\n",
    "        \"shared_support\",\n",
    "        \"item_support\",\n",
    "        \"learning_rate\",\n",
    "        \"primacy_scale\",\n",
    "        \"primacy_decay\",\n",
    "        \"stop_probability_scale\",\n",
    "        \"stop_probability_growth\",\n",
    "        \"context_sensitivity\",\n",
    "        \"delay_drift_rate\",\n",
    "    ],\n",
    "]\n",
    "bounds = [\n",
    "    [\n",
    "        [2.220446049250313e-16, 0.9999999999999998],\n",
    "        [2.220446049250313e-16, 0.9999999999999998],\n",
    "        [2.220446049250313e-16, 0.9999999999999998],\n",
    "        [2.220446049250313e-16, 0.9999999999999998],\n",
    "        [2.220446049250313e-16, 0.9999999999999998],\n",
    "        [2.220446049250313e-16, 0.9999999999999998],\n",
    "        [2.220446049250313e-16, 100],\n",
    "        [2.220446049250313e-16, 100],\n",
    "        [2.220446049250313e-16, 0.9999999999999998],\n",
    "        [2.220446049250313e-16, 10],\n",
    "        [2.220446049250313e-16, 10],\n",
    "        [2.220446049250313e-16, 0.9999999999999998],\n",
    "    ],\n",
    "    [\n",
    "        [2.220446049250313e-16, 0.9999999999999998],\n",
    "        [2.220446049250313e-16, 0.9999999999999998],\n",
    "        [2.220446049250313e-16, 0.9999999999999998],\n",
    "        [2.220446049250313e-16, 0.9999999999999998],\n",
    "        [2.220446049250313e-16, 0.9999999999999998],\n",
    "        [2.220446049250313e-16, 0.9999999999999998],\n",
    "        [2.220446049250313e-16, 100],\n",
    "        [2.220446049250313e-16, 100],\n",
    "        [2.220446049250313e-16, 0.9999999999999998],\n",
    "        [2.220446049250313e-16, 10],\n",
    "        [2.220446049250313e-16, 10],\n",
    "        [2.220446049250313e-16, 0.9999999999999998],\n",
    "    ],\n",
    "    [\n",
    "        [2.220446049250313e-16, 0.9999999999999998],\n",
    "        [2.220446049250313e-16, 0.9999999999999998],\n",
    "        [2.220446049250313e-16, 0.9999999999999998],\n",
    "        [2.220446049250313e-16, 0.9999999999999998],\n",
    "        [2.220446049250313e-16, 0.9999999999999998],\n",
    "        [2.220446049250313e-16, 0.9999999999999998],\n",
    "        [2.220446049250313e-16, 100],\n",
    "        [2.220446049250313e-16, 100],\n",
    "        [2.220446049250313e-16, 0.9999999999999998],\n",
    "        [2.220446049250313e-16, 10],\n",
    "        [2.220446049250313e-16, 10],\n",
    "        [2.220446049250313e-16, 0.9999999999999998],\n",
    "    ],\n",
    "    [\n",
    "        [2.220446049250313e-16, 0.9999999999999998],\n",
    "        [2.220446049250313e-16, 0.9999999999999998],\n",
    "        [2.220446049250313e-16, 0.9999999999999998],\n",
    "        [2.220446049250313e-16, 0.9999999999999998],\n",
    "        [2.220446049250313e-16, 0.9999999999999998],\n",
    "        [2.220446049250313e-16, 0.9999999999999998],\n",
    "        [2.220446049250313e-16, 100],\n",
    "        [2.220446049250313e-16, 100],\n",
    "        [2.220446049250313e-16, 0.9999999999999998],\n",
    "        [2.220446049250313e-16, 10],\n",
    "        [2.220446049250313e-16, 10],\n",
    "        [2.220446049250313e-16, 0.9999999999999998],\n",
    "    ],\n",
    "    [\n",
    "        [2.220446049250313e-16, 0.9999999999999998],\n",
    "        [2.220446049250313e-16, 0.9999999999999998],\n",
    "        [2.220446049250313e-16, 0.9999999999999998],\n",
    "        [2.220446049250313e-16, 0.9999999999999998],\n",
    "        [2.220446049250313e-16, 0.9999999999999998],\n",
    "        [2.220446049250313e-16, 0.9999999999999998],\n",
    "        [2.220446049250313e-16, 100],\n",
    "        [2.220446049250313e-16, 100],\n",
    "        [2.220446049250313e-16, 0.9999999999999998],\n",
    "        [2.220446049250313e-16, 10],\n",
    "        [2.220446049250313e-16, 10],\n",
    "        [2.220446049250313e-16, 0.9999999999999998],\n",
    "    ],\n",
    "]\n",
    "fixed_parameters = [\n",
    "    {},\n",
    "    {\"feature_sensitivity\": 1, \"context_sensitivity\": 1, \"learn_first\": False},\n",
    "    {\"feature_sensitivity\": 1, \"context_sensitivity\": 1, \"learn_first\": True},\n",
    "    {\"feature_sensitivity\": 1, \"choice_sensitivity\": 1, \"learn_first\": False},\n",
    "    {\"feature_sensitivity\": 1, \"choice_sensitivity\": 1, \"learn_first\": True},\n",
    "]\n",
    "\n",
    "analysis_paths = ['compmemlearn.analyses.plot_spc', 'compmemlearn.analyses.plot_crp', 'compmemlearn.analyses.plot_pfr']\n",
    "analysis_names = ['spc', 'crp', 'pfr']\n",
    "\n",
    "experiment_count = 1"
   ]
  },
  {
   "cell_type": "code",
   "execution_count": 2,
   "id": "22efc4f4",
   "metadata": {
    "execution": {
     "iopub.execute_input": "2022-06-03T19:19:02.866498Z",
     "iopub.status.busy": "2022-06-03T19:19:02.866194Z",
     "iopub.status.idle": "2022-06-03T19:19:02.887065Z",
     "shell.execute_reply": "2022-06-03T19:19:02.886226Z"
    },
    "papermill": {
     "duration": 0.047107,
     "end_time": "2022-06-03T19:19:02.889339",
     "exception": false,
     "start_time": "2022-06-03T19:19:02.842232",
     "status": "completed"
    },
    "tags": [
     "injected-parameters"
    ]
   },
   "outputs": [],
   "source": [
    "# Parameters\n",
    "data_path = \"data/HowardKahana2005.csv\"\n",
    "trial_query = \"condition == 1\"\n",
    "model_paths = [\n",
    "    \"compmemlearn.models.Base_CMR\",\n",
    "    \"compmemlearn.models.Dual_ICMR\",\n",
    "    \"compmemlearn.models.Dual_ICMR\",\n",
    "    \"compmemlearn.models.Dual_ICMR\",\n",
    "    \"compmemlearn.models.Dual_ICMR\",\n",
    "]\n",
    "model_names = [\"PrototypeCMR\", \"ICMR_2_0_0\", \"ICMR_2_0_1\", \"ICMR_2_1_0\", \"ICMR_2_1_1\"]\n",
    "free_parameters = [\n",
    "    [\n",
    "        \"encoding_drift_rate\",\n",
    "        \"start_drift_rate\",\n",
    "        \"recall_drift_rate\",\n",
    "        \"shared_support\",\n",
    "        \"item_support\",\n",
    "        \"learning_rate\",\n",
    "        \"primacy_scale\",\n",
    "        \"primacy_decay\",\n",
    "        \"stop_probability_scale\",\n",
    "        \"stop_probability_growth\",\n",
    "        \"choice_sensitivity\",\n",
    "        \"delay_drift_rate\",\n",
    "    ],\n",
    "    [\n",
    "        \"encoding_drift_rate\",\n",
    "        \"start_drift_rate\",\n",
    "        \"recall_drift_rate\",\n",
    "        \"shared_support\",\n",
    "        \"item_support\",\n",
    "        \"learning_rate\",\n",
    "        \"primacy_scale\",\n",
    "        \"primacy_decay\",\n",
    "        \"stop_probability_scale\",\n",
    "        \"stop_probability_growth\",\n",
    "        \"choice_sensitivity\",\n",
    "        \"delay_drift_rate\",\n",
    "    ],\n",
    "    [\n",
    "        \"encoding_drift_rate\",\n",
    "        \"start_drift_rate\",\n",
    "        \"recall_drift_rate\",\n",
    "        \"shared_support\",\n",
    "        \"item_support\",\n",
    "        \"learning_rate\",\n",
    "        \"primacy_scale\",\n",
    "        \"primacy_decay\",\n",
    "        \"stop_probability_scale\",\n",
    "        \"stop_probability_growth\",\n",
    "        \"choice_sensitivity\",\n",
    "        \"delay_drift_rate\",\n",
    "    ],\n",
    "    [\n",
    "        \"encoding_drift_rate\",\n",
    "        \"start_drift_rate\",\n",
    "        \"recall_drift_rate\",\n",
    "        \"shared_support\",\n",
    "        \"item_support\",\n",
    "        \"learning_rate\",\n",
    "        \"primacy_scale\",\n",
    "        \"primacy_decay\",\n",
    "        \"stop_probability_scale\",\n",
    "        \"stop_probability_growth\",\n",
    "        \"context_sensitivity\",\n",
    "        \"delay_drift_rate\",\n",
    "    ],\n",
    "    [\n",
    "        \"encoding_drift_rate\",\n",
    "        \"start_drift_rate\",\n",
    "        \"recall_drift_rate\",\n",
    "        \"shared_support\",\n",
    "        \"item_support\",\n",
    "        \"learning_rate\",\n",
    "        \"primacy_scale\",\n",
    "        \"primacy_decay\",\n",
    "        \"stop_probability_scale\",\n",
    "        \"stop_probability_growth\",\n",
    "        \"context_sensitivity\",\n",
    "        \"delay_drift_rate\",\n",
    "    ],\n",
    "]\n",
    "bounds = [\n",
    "    [\n",
    "        [2.220446049250313e-16, 0.9999999999999998],\n",
    "        [2.220446049250313e-16, 0.9999999999999998],\n",
    "        [2.220446049250313e-16, 0.9999999999999998],\n",
    "        [2.220446049250313e-16, 0.9999999999999998],\n",
    "        [2.220446049250313e-16, 0.9999999999999998],\n",
    "        [2.220446049250313e-16, 0.9999999999999998],\n",
    "        [2.220446049250313e-16, 100],\n",
    "        [2.220446049250313e-16, 100],\n",
    "        [2.220446049250313e-16, 0.9999999999999998],\n",
    "        [2.220446049250313e-16, 10],\n",
    "        [2.220446049250313e-16, 10],\n",
    "        [2.220446049250313e-16, 0.9999999999999998],\n",
    "    ],\n",
    "    [\n",
    "        [2.220446049250313e-16, 0.9999999999999998],\n",
    "        [2.220446049250313e-16, 0.9999999999999998],\n",
    "        [2.220446049250313e-16, 0.9999999999999998],\n",
    "        [2.220446049250313e-16, 0.9999999999999998],\n",
    "        [2.220446049250313e-16, 0.9999999999999998],\n",
    "        [2.220446049250313e-16, 0.9999999999999998],\n",
    "        [2.220446049250313e-16, 100],\n",
    "        [2.220446049250313e-16, 100],\n",
    "        [2.220446049250313e-16, 0.9999999999999998],\n",
    "        [2.220446049250313e-16, 10],\n",
    "        [2.220446049250313e-16, 10],\n",
    "        [2.220446049250313e-16, 0.9999999999999998],\n",
    "    ],\n",
    "    [\n",
    "        [2.220446049250313e-16, 0.9999999999999998],\n",
    "        [2.220446049250313e-16, 0.9999999999999998],\n",
    "        [2.220446049250313e-16, 0.9999999999999998],\n",
    "        [2.220446049250313e-16, 0.9999999999999998],\n",
    "        [2.220446049250313e-16, 0.9999999999999998],\n",
    "        [2.220446049250313e-16, 0.9999999999999998],\n",
    "        [2.220446049250313e-16, 100],\n",
    "        [2.220446049250313e-16, 100],\n",
    "        [2.220446049250313e-16, 0.9999999999999998],\n",
    "        [2.220446049250313e-16, 10],\n",
    "        [2.220446049250313e-16, 10],\n",
    "        [2.220446049250313e-16, 0.9999999999999998],\n",
    "    ],\n",
    "    [\n",
    "        [2.220446049250313e-16, 0.9999999999999998],\n",
    "        [2.220446049250313e-16, 0.9999999999999998],\n",
    "        [2.220446049250313e-16, 0.9999999999999998],\n",
    "        [2.220446049250313e-16, 0.9999999999999998],\n",
    "        [2.220446049250313e-16, 0.9999999999999998],\n",
    "        [2.220446049250313e-16, 0.9999999999999998],\n",
    "        [2.220446049250313e-16, 100],\n",
    "        [2.220446049250313e-16, 100],\n",
    "        [2.220446049250313e-16, 0.9999999999999998],\n",
    "        [2.220446049250313e-16, 10],\n",
    "        [2.220446049250313e-16, 10],\n",
    "        [2.220446049250313e-16, 0.9999999999999998],\n",
    "    ],\n",
    "    [\n",
    "        [2.220446049250313e-16, 0.9999999999999998],\n",
    "        [2.220446049250313e-16, 0.9999999999999998],\n",
    "        [2.220446049250313e-16, 0.9999999999999998],\n",
    "        [2.220446049250313e-16, 0.9999999999999998],\n",
    "        [2.220446049250313e-16, 0.9999999999999998],\n",
    "        [2.220446049250313e-16, 0.9999999999999998],\n",
    "        [2.220446049250313e-16, 100],\n",
    "        [2.220446049250313e-16, 100],\n",
    "        [2.220446049250313e-16, 0.9999999999999998],\n",
    "        [2.220446049250313e-16, 10],\n",
    "        [2.220446049250313e-16, 10],\n",
    "        [2.220446049250313e-16, 0.9999999999999998],\n",
    "    ],\n",
    "]\n",
    "fixed_parameters = [\n",
    "    {},\n",
    "    {\"feature_sensitivity\": 1, \"context_sensitivity\": 1, \"learn_first\": False},\n",
    "    {\"feature_sensitivity\": 1, \"context_sensitivity\": 1, \"learn_first\": True},\n",
    "    {\"feature_sensitivity\": 1, \"choice_sensitivity\": 1, \"learn_first\": False},\n",
    "    {\"feature_sensitivity\": 1, \"choice_sensitivity\": 1, \"learn_first\": True},\n",
    "]\n",
    "section_tag = \"HowardKahana2005Cond1\"\n"
   ]
  },
  {
   "cell_type": "code",
   "execution_count": 3,
   "id": "eaec8f20",
   "metadata": {
    "execution": {
     "iopub.execute_input": "2022-06-03T19:19:02.927783Z",
     "iopub.status.busy": "2022-06-03T19:19:02.927241Z",
     "iopub.status.idle": "2022-06-03T19:19:02.933899Z",
     "shell.execute_reply": "2022-06-03T19:19:02.932656Z"
    },
    "papermill": {
     "duration": 0.02952,
     "end_time": "2022-06-03T19:19:02.937691",
     "exception": false,
     "start_time": "2022-06-03T19:19:02.908171",
     "status": "completed"
    },
    "tags": []
   },
   "outputs": [],
   "source": [
    "if 'Howard' in section_tag or ('Lohnas' in section_tag and '1' not in section_tag):\n",
    "    analysis_paths = ['compmemlearn.analyses.plot_flex_spc', 'compmemlearn.analyses.plot_flex_crp', 'compmemlearn.analyses.plot_flex_pfr', 'compmemlearn.analyses.plot_rpl']\n",
    "    analysis_names = ['spc', 'crp', 'pfr', 'rpl']"
   ]
  },
  {
   "cell_type": "code",
   "execution_count": 4,
   "id": "33a7b8a0",
   "metadata": {
    "execution": {
     "iopub.execute_input": "2022-06-03T19:19:02.987030Z",
     "iopub.status.busy": "2022-06-03T19:19:02.986736Z",
     "iopub.status.idle": "2022-06-03T19:22:20.555356Z",
     "shell.execute_reply": "2022-06-03T19:22:20.554000Z"
    },
    "papermill": {
     "duration": 197.594249,
     "end_time": "2022-06-03T19:22:20.557551",
     "exception": false,
     "start_time": "2022-06-03T19:19:02.963302",
     "status": "completed"
    },
    "tags": []
   },
   "outputs": [
    {
     "name": "stdout",
     "output_type": "stream",
     "text": [
      "<function lohnas_objective_function.<locals>.objective_function at 0x2ae4236fe3a0>\n"
     ]
    },
    {
     "name": "stdout",
     "output_type": "stream",
     "text": [
      "254.09849171213256\n",
      "469.72744497173227\n"
     ]
    },
    {
     "name": "stdout",
     "output_type": "stream",
     "text": [
      "<function lohnas_objective_function.<locals>.objective_function at 0x2ae4242e8790>\n"
     ]
    },
    {
     "name": "stdout",
     "output_type": "stream",
     "text": [
      "254.09849171213256\n",
      "469.72744497173227\n",
      "<function lohnas_objective_function.<locals>.objective_function at 0x2ae425093d30>\n"
     ]
    },
    {
     "name": "stdout",
     "output_type": "stream",
     "text": [
      "254.09849171213256\n",
      "469.72744497173227\n",
      "<function lohnas_objective_function.<locals>.objective_function at 0x2ae424f46310>\n"
     ]
    },
    {
     "name": "stdout",
     "output_type": "stream",
     "text": [
      "254.09849171213256\n",
      "469.72744497173227\n",
      "<function lohnas_objective_function.<locals>.objective_function at 0x2ae427037a60>\n"
     ]
    },
    {
     "name": "stdout",
     "output_type": "stream",
     "text": [
      "254.09849171213256\n",
      "469.72744497173227\n",
      "dependencies and parameters validated\n"
     ]
    }
   ],
   "source": [
    "#| code-summary: code -- test that specified parameters are valid\n",
    "#| output: false\n",
    "\n",
    "events = pd.read_csv(data_path)\n",
    "\n",
    "trials, list_lengths, presentations = events_metadata(events)\n",
    "trial_mask = generate_trial_mask(events, trial_query)\n",
    "\n",
    "# import models from specified source\n",
    "models = []\n",
    "for i in range(len(model_paths)):\n",
    "    module_name, model_name = model_paths[i].rsplit('.',1)\n",
    "    module = importlib.import_module(module_name)\n",
    "    models.append(getattr(module, model_name))\n",
    "\n",
    "# import analyses from specified source\n",
    "analyses = []\n",
    "for i in range(len(analysis_paths)):\n",
    "    module_name, analysis_name = analysis_paths[i].rsplit('.',1)\n",
    "    module = importlib.import_module(module_name)\n",
    "    analyses.append(getattr(module, analysis_name))\n",
    "\n",
    "# make sure model initializes with provided parameters and boundaries\n",
    "for model_index, model_class in enumerate(models):\n",
    "\n",
    "    @njit(fastmath=True, nogil=True)\n",
    "    def init_model(item_count, presentation_count, parameters):\n",
    "        return model_class(item_count, presentation_count, parameters)\n",
    "\n",
    "    subject_specific_trial_mask = np.logical_and(\n",
    "                generate_trial_mask(events, f'subject == {pd.unique(events.subject)[0]}'), trial_mask)\n",
    "\n",
    "    cost_function = generate_objective_function(\n",
    "        [trials[i][subject_specific_trial_mask[i]] for i in range(len(trials))],\n",
    "        [presentations[i][subject_specific_trial_mask[i]] for i in range(len(presentations))],\n",
    "        list_lengths,\n",
    "        init_model,\n",
    "        fixed_parameters[model_index],\n",
    "        free_parameters[model_index],\n",
    "    )\n",
    "    print(cost_function)\n",
    "    \n",
    "    for boundary_index in range(2):\n",
    "        x = np.array([each[boundary_index] for each in bounds[model_index]])\n",
    "        assert(len(x) == len(free_parameters[model_index])) \n",
    "\n",
    "        # parameter configuration\n",
    "        parameters = Dict.empty(key_type=types.unicode_type, value_type=types.float64)\n",
    "        for name, value in fixed_parameters[model_index].items():\n",
    "            parameters[name] = value\n",
    "        for i in range(len(free_parameters[model_index])):\n",
    "                parameters[free_parameters[model_index][i]] = x[i]\n",
    "\n",
    "        model = init_model(20, 20, parameters)\n",
    "        model.experience(model.items)\n",
    "        model.free_recall()\n",
    "\n",
    "        print(cost_function(x))\n",
    "\n",
    "print('dependencies and parameters validated')"
   ]
  },
  {
   "cell_type": "code",
   "execution_count": 5,
   "id": "0e3c5d06",
   "metadata": {
    "execution": {
     "iopub.execute_input": "2022-06-03T19:22:20.630544Z",
     "iopub.status.busy": "2022-06-03T19:22:20.629373Z",
     "iopub.status.idle": "2022-06-03T19:22:20.727703Z",
     "shell.execute_reply": "2022-06-03T19:22:20.726808Z"
    },
    "papermill": {
     "duration": 0.135392,
     "end_time": "2022-06-03T19:22:20.730753",
     "exception": false,
     "start_time": "2022-06-03T19:22:20.595361",
     "status": "completed"
    },
    "tags": []
   },
   "outputs": [
    {
     "name": "stdout",
     "output_type": "stream",
     "text": [
      "individual fits for PrototypeCMR with tag HowardKahana2005Cond1 already exist\n",
      "individual fits for ICMR_2_0_0 with tag HowardKahana2005Cond1 already exist\n",
      "individual fits for ICMR_2_0_1 with tag HowardKahana2005Cond1 already exist\n",
      "individual fits for ICMR_2_1_0 with tag HowardKahana2005Cond1 already exist\n",
      "individual fits for ICMR_2_1_1 with tag HowardKahana2005Cond1 already exist\n"
     ]
    }
   ],
   "source": [
    "# | code-summary: code -- 1) fit each model class participant-by-participant\n",
    "# | output: false\n",
    "\n",
    "for model_index, model_class in enumerate(models):\n",
    "\n",
    "    # load individual fits for this model and section tag from csv if they exist\n",
    "    if os.path.isfile(results_path + '{}_{}_individual.csv'.format(section_tag, model_names[model_index])):\n",
    "        pd.read_csv(results_path + '{}_{}_individual.csv'.format(section_tag, model_names[model_index]))\n",
    "        print('individual fits for {} with tag {} already exist'.format(model_names[model_index], section_tag))\n",
    "\n",
    "    # otherwise, fit each participant individually\n",
    "    else:\n",
    "        model_individual_fits = []\n",
    "\n",
    "        @njit(fastmath=True, nogil=True)\n",
    "        def init_model(item_count, presentation_count, parameters):\n",
    "            return model_class(item_count, presentation_count, parameters)\n",
    "\n",
    "        for subject in pd.unique(events.subject):\n",
    "            print(f'{model_names[model_index]}, Subject {subject}')\n",
    "\n",
    "            subject_specific_trial_mask = np.logical_and(\n",
    "                generate_trial_mask(events, f'subject == {subject}'), trial_mask)\n",
    "            \n",
    "            try:\n",
    "                # cost function to be minimized\n",
    "                # ours scales inversely with the probability that the data could have been\n",
    "                # generated using the specified parameters and our model\n",
    "                cost_function = generate_objective_function(\n",
    "                    [trials[i][subject_specific_trial_mask[i]] for i in range(len(trials))],\n",
    "                    [presentations[i][subject_specific_trial_mask[i]] for i in range(len(presentations))],\n",
    "                    list_lengths,\n",
    "                    init_model,\n",
    "                    fixed_parameters[model_index],\n",
    "                    free_parameters[model_index],\n",
    "                )\n",
    "            except ValueError:\n",
    "                continue\n",
    "\n",
    "            fit_result =  differential_evolution(cost_function, bounds[model_index], disp=False)\n",
    "\n",
    "            fitted_parameters = {\n",
    "                'subject': subject, 'trial_count': np.sum(subject_specific_trial_mask), \n",
    "                'likelihood': fit_result.fun, 'model': model_names[model_index]\n",
    "                }\n",
    "            for i in range(len(fit_result.x)):\n",
    "                fitted_parameters[free_parameters[model_index][i]] = fit_result.x[i]\n",
    "            for key in fixed_parameters[model_index]:\n",
    "                fitted_parameters[key] = fixed_parameters[model_index][key]\n",
    "\n",
    "            model_individual_fits.append(pd.DataFrame.from_dict(fitted_parameters, orient='index').T)\n",
    "            print(model_individual_fits[-1]['likelihood'][0])\n",
    "\n",
    "        model_individual_fits = pd.concat(model_individual_fits, ignore_index=True)\n",
    "        model_individual_fits.to_csv(\n",
    "            results_path + '{}_{}_individual.csv'.format(section_tag, model_names[model_index]), index=False)"
   ]
  },
  {
   "cell_type": "code",
   "execution_count": 6,
   "id": "2383f4e7",
   "metadata": {
    "execution": {
     "iopub.execute_input": "2022-06-03T19:22:20.788875Z",
     "iopub.status.busy": "2022-06-03T19:22:20.787704Z",
     "iopub.status.idle": "2022-06-03T19:22:23.199840Z",
     "shell.execute_reply": "2022-06-03T19:22:23.199095Z"
    },
    "papermill": {
     "duration": 2.444311,
     "end_time": "2022-06-03T19:22:23.205109",
     "exception": false,
     "start_time": "2022-06-03T19:22:20.760798",
     "status": "completed"
    },
    "tags": []
   },
   "outputs": [
    {
     "data": {
      "text/plain": [
       "Text(7.694444444444452, 0.5, 'Individual Log-Likelihood')"
      ]
     },
     "execution_count": 6,
     "metadata": {},
     "output_type": "execute_result"
    },
    {
     "data": {
      "image/png": "[encoded data removed]",
      "text/plain": [
       "<Figure size 500x500 with 1 Axes>"
      ]
     },
     "metadata": {},
     "output_type": "display_data"
    }
   ],
   "source": [
    "#| code-summary: code -- 3) plot distribution of log-likelihoods across individual subjects\n",
    "\n",
    "plt.style.use('default')\n",
    "sns.set(style=\"darkgrid\")\n",
    "\n",
    "# build individual fits df concatenating results from each model\n",
    "individual_fits = []\n",
    "for model_index, model_class in enumerate(models):\n",
    "    individual_fits.append(\n",
    "        pd.read_csv(results_path + '{}_{}_individual.csv'.format(section_tag, model_names[model_index])))\n",
    "individual_fits = pd.concat(individual_fits, ignore_index=True)\n",
    "\n",
    "# plot distribution of log-likelihoods across individual subjects\n",
    "g = sns.catplot(x='model', y='likelihood', data=individual_fits, kind='violin', inner='stick')\n",
    "sns.swarmplot(x=\"model\", y=\"likelihood\", data=individual_fits, color=\"k\", size=3, ax=g.ax)\n",
    "g.ax.set_ylabel('Individual Log-Likelihood')\n",
    "#plt.savefig(results_path + 'individual_{}.pdf'.format(section_tag), bbox_inches=\"tight\")"
   ]
  },
  {
   "cell_type": "code",
   "execution_count": 7,
   "id": "1048befa",
   "metadata": {
    "execution": {
     "iopub.execute_input": "2022-06-03T19:22:23.280881Z",
     "iopub.status.busy": "2022-06-03T19:22:23.280264Z",
     "iopub.status.idle": "2022-06-03T19:22:23.358432Z",
     "shell.execute_reply": "2022-06-03T19:22:23.357271Z"
    },
    "papermill": {
     "duration": 0.110483,
     "end_time": "2022-06-03T19:22:23.360323",
     "exception": false,
     "start_time": "2022-06-03T19:22:23.249840",
     "status": "completed"
    },
    "tags": []
   },
   "outputs": [
    {
     "data": {
      "text/html": [
       "<div>\n",
       "<style scoped>\n",
       "    .dataframe tbody tr th:only-of-type {\n",
       "        vertical-align: middle;\n",
       "    }\n",
       "\n",
       "    .dataframe tbody tr th {\n",
       "        vertical-align: top;\n",
       "    }\n",
       "\n",
       "    .dataframe thead th {\n",
       "        text-align: right;\n",
       "    }\n",
       "</style>\n",
       "<table border=\"1\" class=\"dataframe\">\n",
       "  <thead>\n",
       "    <tr style=\"text-align: right;\">\n",
       "      <th></th>\n",
       "      <th>subject</th>\n",
       "      <th>trial_count</th>\n",
       "      <th>likelihood</th>\n",
       "      <th>model</th>\n",
       "      <th>encoding_drift_rate</th>\n",
       "      <th>start_drift_rate</th>\n",
       "      <th>recall_drift_rate</th>\n",
       "      <th>shared_support</th>\n",
       "      <th>item_support</th>\n",
       "      <th>learning_rate</th>\n",
       "      <th>primacy_scale</th>\n",
       "      <th>primacy_decay</th>\n",
       "      <th>stop_probability_scale</th>\n",
       "      <th>stop_probability_growth</th>\n",
       "      <th>choice_sensitivity</th>\n",
       "      <th>delay_drift_rate</th>\n",
       "      <th>feature_sensitivity</th>\n",
       "      <th>context_sensitivity</th>\n",
       "      <th>learn_first</th>\n",
       "    </tr>\n",
       "  </thead>\n",
       "  <tbody>\n",
       "    <tr>\n",
       "      <th>0</th>\n",
       "      <td>118</td>\n",
       "      <td>4</td>\n",
       "      <td>111.873736</td>\n",
       "      <td>PrototypeCMR</td>\n",
       "      <td>0.998854</td>\n",
       "      <td>0.759791</td>\n",
       "      <td>0.860963</td>\n",
       "      <td>0.000004</td>\n",
       "      <td>0.054645</td>\n",
       "      <td>0.003260</td>\n",
       "      <td>13.727990</td>\n",
       "      <td>49.391538</td>\n",
       "      <td>0.016129</td>\n",
       "      <td>0.282001</td>\n",
       "      <td>0.227926</td>\n",
       "      <td>8.816583e-01</td>\n",
       "      <td>NaN</td>\n",
       "      <td>NaN</td>\n",
       "      <td>NaN</td>\n",
       "    </tr>\n",
       "    <tr>\n",
       "      <th>1</th>\n",
       "      <td>119</td>\n",
       "      <td>5</td>\n",
       "      <td>148.814124</td>\n",
       "      <td>PrototypeCMR</td>\n",
       "      <td>0.645285</td>\n",
       "      <td>0.016572</td>\n",
       "      <td>0.907135</td>\n",
       "      <td>0.837115</td>\n",
       "      <td>0.247612</td>\n",
       "      <td>0.739607</td>\n",
       "      <td>6.111395</td>\n",
       "      <td>47.592004</td>\n",
       "      <td>0.001162</td>\n",
       "      <td>0.614327</td>\n",
       "      <td>4.044495</td>\n",
       "      <td>9.986590e-01</td>\n",
       "      <td>NaN</td>\n",
       "      <td>NaN</td>\n",
       "      <td>NaN</td>\n",
       "    </tr>\n",
       "    <tr>\n",
       "      <th>2</th>\n",
       "      <td>123</td>\n",
       "      <td>4</td>\n",
       "      <td>144.332364</td>\n",
       "      <td>PrototypeCMR</td>\n",
       "      <td>0.480187</td>\n",
       "      <td>0.500125</td>\n",
       "      <td>0.738990</td>\n",
       "      <td>0.498740</td>\n",
       "      <td>0.326532</td>\n",
       "      <td>0.005625</td>\n",
       "      <td>8.135311</td>\n",
       "      <td>62.887461</td>\n",
       "      <td>0.001436</td>\n",
       "      <td>0.462884</td>\n",
       "      <td>1.771576</td>\n",
       "      <td>7.900677e-01</td>\n",
       "      <td>NaN</td>\n",
       "      <td>NaN</td>\n",
       "      <td>NaN</td>\n",
       "    </tr>\n",
       "    <tr>\n",
       "      <th>3</th>\n",
       "      <td>124</td>\n",
       "      <td>4</td>\n",
       "      <td>191.699636</td>\n",
       "      <td>PrototypeCMR</td>\n",
       "      <td>0.736396</td>\n",
       "      <td>0.178633</td>\n",
       "      <td>0.995810</td>\n",
       "      <td>0.974646</td>\n",
       "      <td>0.154306</td>\n",
       "      <td>0.030837</td>\n",
       "      <td>17.688059</td>\n",
       "      <td>99.184509</td>\n",
       "      <td>0.000231</td>\n",
       "      <td>0.437452</td>\n",
       "      <td>3.040680</td>\n",
       "      <td>7.186388e-01</td>\n",
       "      <td>NaN</td>\n",
       "      <td>NaN</td>\n",
       "      <td>NaN</td>\n",
       "    </tr>\n",
       "    <tr>\n",
       "      <th>4</th>\n",
       "      <td>125</td>\n",
       "      <td>5</td>\n",
       "      <td>262.890878</td>\n",
       "      <td>PrototypeCMR</td>\n",
       "      <td>0.802790</td>\n",
       "      <td>0.751067</td>\n",
       "      <td>0.746581</td>\n",
       "      <td>0.181479</td>\n",
       "      <td>0.454903</td>\n",
       "      <td>0.209070</td>\n",
       "      <td>2.225961</td>\n",
       "      <td>0.330330</td>\n",
       "      <td>0.000018</td>\n",
       "      <td>0.344923</td>\n",
       "      <td>3.821438</td>\n",
       "      <td>9.655179e-01</td>\n",
       "      <td>NaN</td>\n",
       "      <td>NaN</td>\n",
       "      <td>NaN</td>\n",
       "    </tr>\n",
       "    <tr>\n",
       "      <th>...</th>\n",
       "      <td>...</td>\n",
       "      <td>...</td>\n",
       "      <td>...</td>\n",
       "      <td>...</td>\n",
       "      <td>...</td>\n",
       "      <td>...</td>\n",
       "      <td>...</td>\n",
       "      <td>...</td>\n",
       "      <td>...</td>\n",
       "      <td>...</td>\n",
       "      <td>...</td>\n",
       "      <td>...</td>\n",
       "      <td>...</td>\n",
       "      <td>...</td>\n",
       "      <td>...</td>\n",
       "      <td>...</td>\n",
       "      <td>...</td>\n",
       "      <td>...</td>\n",
       "      <td>...</td>\n",
       "    </tr>\n",
       "    <tr>\n",
       "      <th>325</th>\n",
       "      <td>311</td>\n",
       "      <td>4</td>\n",
       "      <td>179.676716</td>\n",
       "      <td>ICMR_2_1_1</td>\n",
       "      <td>0.776911</td>\n",
       "      <td>0.550165</td>\n",
       "      <td>0.786947</td>\n",
       "      <td>0.147068</td>\n",
       "      <td>0.661074</td>\n",
       "      <td>0.655972</td>\n",
       "      <td>51.048875</td>\n",
       "      <td>29.450585</td>\n",
       "      <td>0.000062</td>\n",
       "      <td>0.570187</td>\n",
       "      <td>1.000000</td>\n",
       "      <td>1.341774e-01</td>\n",
       "      <td>1.0</td>\n",
       "      <td>3.656605</td>\n",
       "      <td>True</td>\n",
       "    </tr>\n",
       "    <tr>\n",
       "      <th>326</th>\n",
       "      <td>312</td>\n",
       "      <td>4</td>\n",
       "      <td>164.797997</td>\n",
       "      <td>ICMR_2_1_1</td>\n",
       "      <td>0.767506</td>\n",
       "      <td>0.286808</td>\n",
       "      <td>0.913671</td>\n",
       "      <td>0.137707</td>\n",
       "      <td>0.752973</td>\n",
       "      <td>0.175613</td>\n",
       "      <td>2.609123</td>\n",
       "      <td>61.078309</td>\n",
       "      <td>0.000161</td>\n",
       "      <td>0.545857</td>\n",
       "      <td>1.000000</td>\n",
       "      <td>5.975437e-01</td>\n",
       "      <td>1.0</td>\n",
       "      <td>1.983857</td>\n",
       "      <td>True</td>\n",
       "    </tr>\n",
       "    <tr>\n",
       "      <th>327</th>\n",
       "      <td>313</td>\n",
       "      <td>5</td>\n",
       "      <td>263.933820</td>\n",
       "      <td>ICMR_2_1_1</td>\n",
       "      <td>0.902270</td>\n",
       "      <td>0.298388</td>\n",
       "      <td>0.937350</td>\n",
       "      <td>0.718084</td>\n",
       "      <td>0.773742</td>\n",
       "      <td>0.714995</td>\n",
       "      <td>88.681395</td>\n",
       "      <td>10.965405</td>\n",
       "      <td>0.000220</td>\n",
       "      <td>0.373947</td>\n",
       "      <td>1.000000</td>\n",
       "      <td>3.821036e-01</td>\n",
       "      <td>1.0</td>\n",
       "      <td>2.037987</td>\n",
       "      <td>True</td>\n",
       "    </tr>\n",
       "    <tr>\n",
       "      <th>328</th>\n",
       "      <td>314</td>\n",
       "      <td>4</td>\n",
       "      <td>190.427856</td>\n",
       "      <td>ICMR_2_1_1</td>\n",
       "      <td>0.599895</td>\n",
       "      <td>0.012485</td>\n",
       "      <td>0.867936</td>\n",
       "      <td>0.189601</td>\n",
       "      <td>0.885974</td>\n",
       "      <td>0.638579</td>\n",
       "      <td>76.185729</td>\n",
       "      <td>1.608530</td>\n",
       "      <td>0.000044</td>\n",
       "      <td>0.590500</td>\n",
       "      <td>1.000000</td>\n",
       "      <td>5.601720e-01</td>\n",
       "      <td>1.0</td>\n",
       "      <td>3.802406</td>\n",
       "      <td>True</td>\n",
       "    </tr>\n",
       "    <tr>\n",
       "      <th>329</th>\n",
       "      <td>315</td>\n",
       "      <td>5</td>\n",
       "      <td>223.941859</td>\n",
       "      <td>ICMR_2_1_1</td>\n",
       "      <td>0.608870</td>\n",
       "      <td>0.453204</td>\n",
       "      <td>0.479423</td>\n",
       "      <td>0.145036</td>\n",
       "      <td>0.609844</td>\n",
       "      <td>0.350093</td>\n",
       "      <td>52.579032</td>\n",
       "      <td>30.405020</td>\n",
       "      <td>0.001311</td>\n",
       "      <td>0.315714</td>\n",
       "      <td>1.000000</td>\n",
       "      <td>2.220446e-16</td>\n",
       "      <td>1.0</td>\n",
       "      <td>10.000000</td>\n",
       "      <td>True</td>\n",
       "    </tr>\n",
       "  </tbody>\n",
       "</table>\n",
       "<p>330 rows × 19 columns</p>\n",
       "</div>"
      ],
      "text/plain": [
       "     subject  trial_count  likelihood         model  encoding_drift_rate  \\\n",
       "0        118            4  111.873736  PrototypeCMR             0.998854   \n",
       "1        119            5  148.814124  PrototypeCMR             0.645285   \n",
       "2        123            4  144.332364  PrototypeCMR             0.480187   \n",
       "3        124            4  191.699636  PrototypeCMR             0.736396   \n",
       "4        125            5  262.890878  PrototypeCMR             0.802790   \n",
       "..       ...          ...         ...           ...                  ...   \n",
       "325      311            4  179.676716    ICMR_2_1_1             0.776911   \n",
       "326      312            4  164.797997    ICMR_2_1_1             0.767506   \n",
       "327      313            5  263.933820    ICMR_2_1_1             0.902270   \n",
       "328      314            4  190.427856    ICMR_2_1_1             0.599895   \n",
       "329      315            5  223.941859    ICMR_2_1_1             0.608870   \n",
       "\n",
       "     start_drift_rate  recall_drift_rate  shared_support  item_support  \\\n",
       "0            0.759791           0.860963        0.000004      0.054645   \n",
       "1            0.016572           0.907135        0.837115      0.247612   \n",
       "2            0.500125           0.738990        0.498740      0.326532   \n",
       "3            0.178633           0.995810        0.974646      0.154306   \n",
       "4            0.751067           0.746581        0.181479      0.454903   \n",
       "..                ...                ...             ...           ...   \n",
       "325          0.550165           0.786947        0.147068      0.661074   \n",
       "326          0.286808           0.913671        0.137707      0.752973   \n",
       "327          0.298388           0.937350        0.718084      0.773742   \n",
       "328          0.012485           0.867936        0.189601      0.885974   \n",
       "329          0.453204           0.479423        0.145036      0.609844   \n",
       "\n",
       "     learning_rate  primacy_scale  primacy_decay  stop_probability_scale  \\\n",
       "0         0.003260      13.727990      49.391538                0.016129   \n",
       "1         0.739607       6.111395      47.592004                0.001162   \n",
       "2         0.005625       8.135311      62.887461                0.001436   \n",
       "3         0.030837      17.688059      99.184509                0.000231   \n",
       "4         0.209070       2.225961       0.330330                0.000018   \n",
       "..             ...            ...            ...                     ...   \n",
       "325       0.655972      51.048875      29.450585                0.000062   \n",
       "326       0.175613       2.609123      61.078309                0.000161   \n",
       "327       0.714995      88.681395      10.965405                0.000220   \n",
       "328       0.638579      76.185729       1.608530                0.000044   \n",
       "329       0.350093      52.579032      30.405020                0.001311   \n",
       "\n",
       "     stop_probability_growth  choice_sensitivity  delay_drift_rate  \\\n",
       "0                   0.282001            0.227926      8.816583e-01   \n",
       "1                   0.614327            4.044495      9.986590e-01   \n",
       "2                   0.462884            1.771576      7.900677e-01   \n",
       "3                   0.437452            3.040680      7.186388e-01   \n",
       "4                   0.344923            3.821438      9.655179e-01   \n",
       "..                       ...                 ...               ...   \n",
       "325                 0.570187            1.000000      1.341774e-01   \n",
       "326                 0.545857            1.000000      5.975437e-01   \n",
       "327                 0.373947            1.000000      3.821036e-01   \n",
       "328                 0.590500            1.000000      5.601720e-01   \n",
       "329                 0.315714            1.000000      2.220446e-16   \n",
       "\n",
       "     feature_sensitivity  context_sensitivity learn_first  \n",
       "0                    NaN                  NaN         NaN  \n",
       "1                    NaN                  NaN         NaN  \n",
       "2                    NaN                  NaN         NaN  \n",
       "3                    NaN                  NaN         NaN  \n",
       "4                    NaN                  NaN         NaN  \n",
       "..                   ...                  ...         ...  \n",
       "325                  1.0             3.656605        True  \n",
       "326                  1.0             1.983857        True  \n",
       "327                  1.0             2.037987        True  \n",
       "328                  1.0             3.802406        True  \n",
       "329                  1.0            10.000000        True  \n",
       "\n",
       "[330 rows x 19 columns]"
      ]
     },
     "execution_count": 7,
     "metadata": {},
     "output_type": "execute_result"
    }
   ],
   "source": [
    "individual_fits"
   ]
  },
  {
   "cell_type": "code",
   "execution_count": 8,
   "id": "49ac2980",
   "metadata": {
    "execution": {
     "iopub.execute_input": "2022-06-03T19:22:23.404169Z",
     "iopub.status.busy": "2022-06-03T19:22:23.403461Z",
     "iopub.status.idle": "2022-06-03T19:22:23.476981Z",
     "shell.execute_reply": "2022-06-03T19:22:23.475957Z"
    },
    "papermill": {
     "duration": 0.099133,
     "end_time": "2022-06-03T19:22:23.479745",
     "exception": false,
     "start_time": "2022-06-03T19:22:23.380612",
     "status": "completed"
    },
    "tags": []
   },
   "outputs": [
    {
     "name": "stdout",
     "output_type": "stream",
     "text": [
      "::: {#fig-HowardKahana2005Cond1fits layout-nrow=2 layout-valign=\"center\"}\n",
      "\n",
      "![](results/individual_HowardKahana2005Cond1.pdf)\n",
      "\n",
      "|       |   ICMR_2_0_0 |   ICMR_2_0_1 |   ICMR_2_1_0 |   ICMR_2_1_1 |   PrototypeCMR |\n",
      "|:------|-------------:|-------------:|-------------:|-------------:|---------------:|\n",
      "| count |      66      |      66      |      66      |      66      |        66      |\n",
      "| mean  |     151.831  |     151.657  |     151.572  |     151.75   |       151.473  |\n",
      "| std   |      52.7673 |      52.6684 |      52.7388 |      52.6597 |        52.7825 |\n",
      "| min   |      60.3472 |      60.0681 |      59.801  |      58.6281 |        58.9172 |\n",
      "| 25%   |     110.423  |     110.483  |     110.29   |     111.107  |       110.899  |\n",
      "| 50%   |     143.661  |     143.127  |     143.283  |     144.869  |       143.344  |\n",
      "| 75%   |     182.33   |     181.348  |     182.657  |     181.89   |       183.089  |\n",
      "| max   |     283.446  |     282.785  |     283.803  |     282.54   |       282.675  |\n",
      "\n",
      "Distribution of log-likelihood scores of recall sequences exhibited by each subject in dataset under each considered model.\n",
      ":::\n"
     ]
    }
   ],
   "source": [
    "#| code-summary: display markdown rendering of summary table\n",
    "#| echo: false\n",
    "#| input: false\n",
    "#| output: asis\n",
    "\n",
    "summary_table = pd.DataFrame(group.describe().rename(columns={'likelihood':name}).squeeze()\n",
    "            for name, group in individual_fits[['model', 'likelihood']].groupby('model')).T.to_markdown()\n",
    "\n",
    "print(\"\"\"::: {{#fig-{section_tag}fits layout-nrow=2 layout-valign=\"center\"}}\n",
    "\n",
    "![]({results_path}individual_{section_tag}.pdf)\n",
    "\n",
    "{summary_table}\n",
    "\n",
    "{individual_fits_caption}\n",
    ":::\"\"\".format(section_tag=section_tag, summary_table=summary_table, individual_fits_caption=figure_caption, results_path=results_path))"
   ]
  },
  {
   "cell_type": "code",
   "execution_count": 9,
   "id": "6b91dad7",
   "metadata": {
    "execution": {
     "iopub.execute_input": "2022-06-03T19:22:23.545432Z",
     "iopub.status.busy": "2022-06-03T19:22:23.544817Z",
     "iopub.status.idle": "2022-06-03T19:22:23.640436Z",
     "shell.execute_reply": "2022-06-03T19:22:23.639580Z"
    },
    "papermill": {
     "duration": 0.129694,
     "end_time": "2022-06-03T19:22:23.643565",
     "exception": false,
     "start_time": "2022-06-03T19:22:23.513871",
     "status": "completed"
    },
    "tags": []
   },
   "outputs": [
    {
     "name": "stdout",
     "output_type": "stream",
     "text": [
      "('PrototypeCMR', 'ICMR_2_0_0')\n",
      "Ttest_relResult(statistic=-2.508924018928874, pvalue=0.014612690051201646)\n",
      "Ttest_relResult(statistic=-2.508924018928874, pvalue=0.007306345025600823)\n",
      "Ttest_relResult(statistic=-2.508924018928874, pvalue=0.9926936549743992)\n",
      "\n",
      "('PrototypeCMR', 'ICMR_2_0_1')\n",
      "Ttest_relResult(statistic=-1.3037721664234734, pvalue=0.19690994061402617)\n",
      "Ttest_relResult(statistic=-1.3037721664234734, pvalue=0.09845497030701308)\n",
      "Ttest_relResult(statistic=-1.3037721664234734, pvalue=0.9015450296929869)\n",
      "\n",
      "('PrototypeCMR', 'ICMR_2_1_0')\n",
      "Ttest_relResult(statistic=-0.5122333208895831, pvalue=0.6102238888864517)\n",
      "Ttest_relResult(statistic=-0.5122333208895831, pvalue=0.30511194444322587)\n",
      "Ttest_relResult(statistic=-0.5122333208895831, pvalue=0.6948880555567741)\n",
      "\n",
      "('PrototypeCMR', 'ICMR_2_1_1')\n",
      "Ttest_relResult(statistic=-1.4289412227314753, pvalue=0.15780939603272184)\n",
      "Ttest_relResult(statistic=-1.4289412227314753, pvalue=0.07890469801636092)\n",
      "Ttest_relResult(statistic=-1.4289412227314753, pvalue=0.9210953019836391)\n",
      "\n",
      "('ICMR_2_0_0', 'ICMR_2_0_1')\n",
      "Ttest_relResult(statistic=1.7949836624544886, pvalue=0.07730555855139996)\n",
      "Ttest_relResult(statistic=1.7949836624544886, pvalue=0.9613472207243)\n",
      "Ttest_relResult(statistic=1.7949836624544886, pvalue=0.03865277927569998)\n",
      "\n",
      "('ICMR_2_0_0', 'ICMR_2_1_0')\n",
      "Ttest_relResult(statistic=1.609968726121418, pvalue=0.11225094477519629)\n",
      "Ttest_relResult(statistic=1.609968726121418, pvalue=0.9438745276124019)\n",
      "Ttest_relResult(statistic=1.609968726121418, pvalue=0.056125472387598144)\n",
      "\n",
      "('ICMR_2_0_0', 'ICMR_2_1_1')\n",
      "Ttest_relResult(statistic=0.44994258782466223, pvalue=0.6542488489801823)\n",
      "Ttest_relResult(statistic=0.44994258782466223, pvalue=0.6728755755099087)\n",
      "Ttest_relResult(statistic=0.44994258782466223, pvalue=0.32712442449009116)\n",
      "\n",
      "('ICMR_2_0_1', 'ICMR_2_1_0')\n",
      "Ttest_relResult(statistic=0.5489109629528088, pvalue=0.5849472726150349)\n",
      "Ttest_relResult(statistic=0.5489109629528088, pvalue=0.7075263636924826)\n",
      "Ttest_relResult(statistic=0.5489109629528088, pvalue=0.29247363630751744)\n",
      "\n",
      "('ICMR_2_0_1', 'ICMR_2_1_1')\n",
      "Ttest_relResult(statistic=-0.5337903803591454, pvalue=0.5953073807179247)\n",
      "Ttest_relResult(statistic=-0.5337903803591454, pvalue=0.29765369035896233)\n",
      "Ttest_relResult(statistic=-0.5337903803591454, pvalue=0.7023463096410376)\n",
      "\n",
      "('ICMR_2_1_0', 'ICMR_2_1_1')\n",
      "Ttest_relResult(statistic=-0.8050250058470129, pvalue=0.42374020690046044)\n",
      "Ttest_relResult(statistic=-0.8050250058470129, pvalue=0.21187010345023022)\n",
      "Ttest_relResult(statistic=-0.8050250058470129, pvalue=0.7881298965497698)\n",
      "\n"
     ]
    }
   ],
   "source": [
    "#| code-summary: perform t-tests on individual-level fits\n",
    "#| output: false\n",
    " \n",
    "from scipy.stats import ttest_rel\n",
    "import itertools\n",
    "\n",
    "for combination in itertools.combinations(pd.unique(individual_fits.model), 2):\n",
    "\n",
    "    print(combination)\n",
    "    print(ttest_rel(individual_fits[individual_fits.model == combination[0]].likelihood, individual_fits[individual_fits.model == combination[1]].likelihood, alternative='two-sided'))\n",
    "    print(ttest_rel(individual_fits[individual_fits.model == combination[0]].likelihood, individual_fits[individual_fits.model == combination[1]].likelihood, alternative='less'))\n",
    "    print(ttest_rel(individual_fits[individual_fits.model == combination[0]].likelihood, individual_fits[individual_fits.model == combination[1]].likelihood, alternative='greater'))\n",
    "    print()"
   ]
  },
  {
   "cell_type": "code",
   "execution_count": 10,
   "id": "0bfc345a",
   "metadata": {
    "execution": {
     "iopub.execute_input": "2022-06-03T19:22:23.713930Z",
     "iopub.status.busy": "2022-06-03T19:22:23.713296Z",
     "iopub.status.idle": "2022-06-03T19:22:23.800001Z",
     "shell.execute_reply": "2022-06-03T19:22:23.799178Z"
    },
    "papermill": {
     "duration": 0.121794,
     "end_time": "2022-06-03T19:22:23.802825",
     "exception": false,
     "start_time": "2022-06-03T19:22:23.681031",
     "status": "completed"
    },
    "tags": []
   },
   "outputs": [
    {
     "name": "stdout",
     "output_type": "stream",
     "text": [
      "('PrototypeCMR', 'ICMR_2_0_0')\n",
      "0.6212121212121212 0.3787878787878788\n",
      "41 25\n",
      "\n",
      "('PrototypeCMR', 'ICMR_2_0_1')\n",
      "0.6060606060606061 0.3939393939393939\n",
      "40 26\n",
      "\n",
      "('PrototypeCMR', 'ICMR_2_1_0')\n",
      "0.5151515151515151 0.48484848484848486\n",
      "34 32\n",
      "\n",
      "('PrototypeCMR', 'ICMR_2_1_1')\n",
      "0.5757575757575758 0.42424242424242425\n",
      "38 28\n",
      "\n",
      "('ICMR_2_0_0', 'ICMR_2_0_1')\n",
      "0.5 0.5\n",
      "33 33\n",
      "\n",
      "('ICMR_2_0_0', 'ICMR_2_1_0')\n",
      "0.42424242424242425 0.5757575757575758\n",
      "28"
     ]
    },
    {
     "name": "stdout",
     "output_type": "stream",
     "text": [
      " 38\n",
      "\n",
      "('ICMR_2_0_0', 'ICMR_2_1_1')\n",
      "0.42424242424242425 0.5757575757575758\n",
      "28 38\n",
      "\n",
      "('ICMR_2_0_1', 'ICMR_2_1_0')\n",
      "0.45454545454545453 0.5454545454545454\n",
      "30 36\n",
      "\n",
      "('ICMR_2_0_1', 'ICMR_2_1_1')\n",
      "0.48484848484848486 0.5151515151515151\n",
      "32 34\n",
      "\n",
      "('ICMR_2_1_0', 'ICMR_2_1_1')\n",
      "0.5454545454545454 0.45454545454545453\n",
      "36 30\n",
      "\n"
     ]
    }
   ],
   "source": [
    "for combination in itertools.combinations(pd.unique(individual_fits.model), 2):\n",
    "\n",
    "    print(combination)\n",
    "    print(np.mean(individual_fits[individual_fits.model == combination[0]].likelihood.values < individual_fits[individual_fits.model == combination[1]].likelihood.values), \n",
    "        np.mean(individual_fits[individual_fits.model == combination[1]].likelihood.values < individual_fits[individual_fits.model == combination[0]].likelihood.values))\n",
    "\n",
    "    print(np.sum(individual_fits[individual_fits.model == combination[0]].likelihood.values < individual_fits[individual_fits.model == combination[1]].likelihood.values), \n",
    "        np.sum(individual_fits[individual_fits.model == combination[1]].likelihood.values < individual_fits[individual_fits.model == combination[0]].likelihood.values))\n",
    "\n",
    "    print()"
   ]
  },
  {
   "cell_type": "code",
   "execution_count": 11,
   "id": "9aef1c5f",
   "metadata": {
    "execution": {
     "iopub.execute_input": "2022-06-03T19:22:23.880182Z",
     "iopub.status.busy": "2022-06-03T19:22:23.879596Z",
     "iopub.status.idle": "2022-06-03T19:22:25.165733Z",
     "shell.execute_reply": "2022-06-03T19:22:25.164345Z"
    },
    "papermill": {
     "duration": 1.324851,
     "end_time": "2022-06-03T19:22:25.168064",
     "exception": false,
     "start_time": "2022-06-03T19:22:23.843213",
     "status": "completed"
    },
    "tags": []
   },
   "outputs": [
    {
     "name": "stdout",
     "output_type": "stream",
     "text": [
      "[9.98505473e-01 5.56251165e-11 5.46571637e-06 1.48904990e-03\n",
      " 1.14694665e-08]\n"
     ]
    }
   ],
   "source": [
    "def model_weights(positive_log_likelihoods, number_parameters, N):\n",
    "    AIC = 2 * positive_log_likelihoods + 2 * number_parameters\n",
    "    AICc = AIC #+ (2*np.power(number_parameters, 2) + 2 * number_parameters) / (N - number_parameters - 2)\n",
    "    AICd = AIC - np.min(AICc)\n",
    "    #return AICd\n",
    "    AICw = np.exp(-.5 * AICd) / np.sum(np.exp(-.5 * AICd))\n",
    "    return AICw\n",
    "\n",
    "aicw = {'Model': [], 'Subject': [], 'AICw': []}\n",
    "\n",
    "total_nlns = np.zeros(len(models))\n",
    "for subject_index, subject in enumerate(pd.unique(events.subject)):\n",
    "\n",
    "    subject_specific_trial_mask = np.logical_and(\n",
    "                    generate_trial_mask(events, f'subject == {subject}'), trial_mask)\n",
    "\n",
    "    nlnLs = []\n",
    "    for model_index, model_class in enumerate(models):\n",
    "        nlnLs.append(\n",
    "            individual_fits[individual_fits.model == model_names[model_index]].likelihood.values[subject_index])\n",
    "    nlnLs = np.array(nlnLs)\n",
    "    total_nlns += nlnLs\n",
    "    \n",
    "    weights = model_weights(nlnLs, len(free_parameters[model_index]), np.sum(subject_specific_trial_mask))\n",
    "    #print(weights)\n",
    "    for model_index, model_class in enumerate(models):\n",
    "        aicw['Model'].append(model_names[model_index])\n",
    "        aicw['Subject'].append(subject)\n",
    "        aicw['AICw'].append(weights[model_index])\n",
    "\n",
    "aicw = pd.DataFrame(data=aicw)\n",
    "total_aicw = model_weights(total_nlns, len(free_parameters[model_index]), np.sum(trial_mask))\n",
    "print(total_aicw)"
   ]
  },
  {
   "cell_type": "code",
   "execution_count": 12,
   "id": "2d078e9b",
   "metadata": {
    "execution": {
     "iopub.execute_input": "2022-06-03T19:22:25.217397Z",
     "iopub.status.busy": "2022-06-03T19:22:25.216838Z",
     "iopub.status.idle": "2022-06-03T19:22:25.567799Z",
     "shell.execute_reply": "2022-06-03T19:22:25.567094Z"
    },
    "papermill": {
     "duration": 0.379354,
     "end_time": "2022-06-03T19:22:25.569704",
     "exception": false,
     "start_time": "2022-06-03T19:22:25.190350",
     "status": "completed"
    },
    "tags": []
   },
   "outputs": [
    {
     "data": {
      "image/png": "[encoded data removed]",
      "text/plain": [
       "<Figure size 640x480 with 1 Axes>"
      ]
     },
     "metadata": {},
     "output_type": "display_data"
    }
   ],
   "source": [
    "import seaborn as sns\n",
    "sns.set_theme(style=\"darkgrid\")\n",
    "x = sns.pointplot(x=\"Model\", y=\"AICw\", data=aicw, join=False)\n",
    "\n",
    "plt.show()"
   ]
  },
  {
   "cell_type": "code",
   "execution_count": 13,
   "id": "317cb6e2",
   "metadata": {
    "execution": {
     "iopub.execute_input": "2022-06-03T19:22:25.623084Z",
     "iopub.status.busy": "2022-06-03T19:22:25.622404Z",
     "iopub.status.idle": "2022-06-03T19:22:25.629728Z",
     "shell.execute_reply": "2022-06-03T19:22:25.628250Z"
    },
    "papermill": {
     "duration": 0.035403,
     "end_time": "2022-06-03T19:22:25.632075",
     "exception": false,
     "start_time": "2022-06-03T19:22:25.596672",
     "status": "completed"
    },
    "tags": []
   },
   "outputs": [],
   "source": [
    "from compmemlearn.datasets import find_first"
   ]
  },
  {
   "cell_type": "code",
   "execution_count": 14,
   "id": "a802899e",
   "metadata": {
    "execution": {
     "iopub.execute_input": "2022-06-03T19:22:25.682278Z",
     "iopub.status.busy": "2022-06-03T19:22:25.681681Z",
     "iopub.status.idle": "2022-06-03T19:22:25.707687Z",
     "shell.execute_reply": "2022-06-03T19:22:25.706607Z"
    },
    "papermill": {
     "duration": 0.053947,
     "end_time": "2022-06-03T19:22:25.709654",
     "exception": false,
     "start_time": "2022-06-03T19:22:25.655707",
     "status": "completed"
    },
    "tags": []
   },
   "outputs": [],
   "source": [
    "def simulate_df_from_events(model_class, parameters, events, trial_mask, experiment_count, first_recall_item=None):\n",
    "\n",
    "    trials, list_lengths, presentations = events_metadata(events)\n",
    "    chose = [i for i in range(len(trial_mask)) if np.sum(trial_mask[i]) != 0]\n",
    "    assert(len(chose) == 1)\n",
    "    chose = chose[0]\n",
    "    trial_mask = trial_mask[chose]\n",
    "    trials = trials[chose][trial_mask]\n",
    "    presentations = presentations[chose][trial_mask]\n",
    "\n",
    "    default_columns = ['subject', 'list', 'trial_type', 'item', 'input', 'output', 'study', 'recall', 'repeat', 'intrusion', 'first_input']\n",
    "    extra_columns = [each for each in events.columns if each not in default_columns]\n",
    "\n",
    "    labels = {}\n",
    "    for column in extra_columns:\n",
    "        try:\n",
    "            labels[column] = (\n",
    "                events.pivot_table(index=['subject', 'list'], dropna=False)[column].values)\n",
    "\n",
    "            if 'list length' in events.columns:\n",
    "                trial_details = events.pivot_table(index=['subject', 'list'], dropna=False).reset_index()\n",
    "                list_length_mask = trial_details.eval(trial_query).to_numpy(dtype='bool')\n",
    "                labels[column] = labels[column][list_length_mask]\n",
    "            else:\n",
    "                labels[column] = labels[column][trial_mask]\n",
    "        except KeyError:\n",
    "            pass\n",
    "\n",
    "    data = []\n",
    "    for experiment in range(experiment_count):\n",
    "        for trial_index in range(len(presentations)):\n",
    "        \n",
    "            # retrieve presentation sequence for this trial and measure number of unique items\n",
    "            presentation = presentations[trial_index]\n",
    "            item_count = np.max(presentation)+1\n",
    "\n",
    "            # record presentation events\n",
    "            for presentation_index, presentation_event in enumerate(presentation):\n",
    "                data.append([\n",
    "                    experiment, trial_index, 'study', presentation_index+1, presentation_event, presentation_index+1])\n",
    "                for label in labels:\n",
    "                    data[-1].append(labels[label][trial_index])\n",
    "\n",
    "            # simulate recall and identify first study position of each recalled item\n",
    "            model = model_class(item_count, len(presentation), parameters)\n",
    "            model.experience(model.items[presentation])\n",
    "            if first_recall_item is not None:\n",
    "                model.force_recall(first_recall_item)\n",
    "            recalled = model.free_recall()\n",
    "            trial = [find_first(recalled[i], presentation) + 1 for i in range(len(recalled))]\n",
    "\n",
    "            # record recall events\n",
    "            for recall_index, recall_event in enumerate(trial):\n",
    "                if recall_event != 0:\n",
    "                    data.append([\n",
    "                        experiment, trial_index, 'recall', recall_index+1, \n",
    "                        presentation[recall_event-1], recall_event])\n",
    "                    for label in labels:\n",
    "                        data[-1].append(labels[label][trial_index])\n",
    "\n",
    "    data = pd.DataFrame(data, columns=[\n",
    "        'subject', 'list', 'trial_type', 'position', 'item', 'first_input'] + list(labels.keys()))\n",
    "    merged = fr.merge_free_recall(data, list_keys=['first_input'] + list(labels.keys()))\n",
    "    return merged"
   ]
  },
  {
   "cell_type": "markdown",
   "id": "d19a01e0",
   "metadata": {
    "tags": [
     "papermill-error-cell-tag"
    ]
   },
   "source": [
    "<span id=\"papermill-error-cell\" style=\"color:red; font-family:Helvetica Neue, Helvetica, Arial, sans-serif; font-size:2em;\">Execution using papermill encountered an exception here and stopped:</span>"
   ]
  },
  {
   "cell_type": "code",
   "execution_count": 15,
   "id": "aa5225ee",
   "metadata": {
    "execution": {
     "iopub.execute_input": "2022-06-03T19:22:25.760249Z",
     "iopub.status.busy": "2022-06-03T19:22:25.759614Z",
     "iopub.status.idle": "2022-06-03T19:22:45.716788Z",
     "shell.execute_reply": "2022-06-03T19:22:45.715067Z"
    },
    "papermill": {
     "duration": 19.985092,
     "end_time": "2022-06-03T19:22:45.718677",
     "exception": true,
     "start_time": "2022-06-03T19:22:25.733585",
     "status": "failed"
    },
    "tags": []
   },
   "outputs": [
    {
     "name": "stdout",
     "output_type": "stream",
     "text": [
      "sim_df for PrototypeCMR with tag HowardKahana2005Cond1 and list length 90 already exists\n"
     ]
    },
    {
     "data": {
      "image/png": "[encoded data removed]",
      "text/plain": [
       "<Figure size 640x480 with 1 Axes>"
      ]
     },
     "metadata": {},
     "output_type": "display_data"
    },
    {
     "ename": "ValueError",
     "evalue": "cannot assign slice from input of different size",
     "output_type": "error",
     "traceback": [
      "\u001b[0;31m---------------------------------------------------------------------------\u001b[0m",
      "\u001b[0;31mValueError\u001b[0m                                Traceback (most recent call last)",
      "Input \u001b[0;32mIn [15]\u001b[0m, in \u001b[0;36m<cell line: 7>\u001b[0;34m()\u001b[0m\n\u001b[1;32m     74\u001b[0m \u001b[38;5;28;01mfor\u001b[39;00m analysis_index, analysis_function \u001b[38;5;129;01min\u001b[39;00m \u001b[38;5;28menumerate\u001b[39m(analyses):\n\u001b[1;32m     75\u001b[0m     analysis_name \u001b[38;5;241m=\u001b[39m analysis_names[analysis_index]\n\u001b[0;32m---> 76\u001b[0m     axis \u001b[38;5;241m=\u001b[39m \u001b[43manalysis_function\u001b[49m\u001b[43m(\u001b[49m\n\u001b[1;32m     77\u001b[0m \u001b[43m        \u001b[49m\u001b[43m[\u001b[49m\u001b[43mevents\u001b[49m\u001b[43m,\u001b[49m\u001b[43m \u001b[49m\u001b[43msim_df\u001b[49m\u001b[43m]\u001b[49m\u001b[43m,\u001b[49m\u001b[43m \u001b[49m\u001b[43manalysis_query\u001b[49m\u001b[43m,\u001b[49m\u001b[43m \u001b[49m\u001b[43mcontrast_name\u001b[49m\u001b[38;5;241;43m=\u001b[39;49m\u001b[38;5;124;43m\"\u001b[39;49m\u001b[38;5;124;43msource\u001b[39;49m\u001b[38;5;124;43m\"\u001b[39;49m\u001b[43m,\u001b[49m\u001b[43m \u001b[49m\u001b[43mlabels\u001b[49m\u001b[38;5;241;43m=\u001b[39;49m\u001b[43m[\u001b[49m\u001b[38;5;124;43m\"\u001b[39;49m\u001b[38;5;124;43mdata\u001b[39;49m\u001b[38;5;124;43m\"\u001b[39;49m\u001b[43m,\u001b[49m\u001b[43m \u001b[49m\u001b[43mmodel_names\u001b[49m\u001b[43m[\u001b[49m\u001b[43mmodel_index\u001b[49m\u001b[43m]\u001b[49m\u001b[43m]\u001b[49m\u001b[43m)\u001b[49m\n\u001b[1;32m     78\u001b[0m     plt\u001b[38;5;241m.\u001b[39msavefig(results_path\u001b[38;5;241m+\u001b[39m\u001b[38;5;124m'\u001b[39m\u001b[38;5;132;01m{}\u001b[39;00m\u001b[38;5;124m_\u001b[39m\u001b[38;5;132;01m{}\u001b[39;00m\u001b[38;5;124m_ll\u001b[39m\u001b[38;5;132;01m{}\u001b[39;00m\u001b[38;5;124m_\u001b[39m\u001b[38;5;132;01m{}\u001b[39;00m\u001b[38;5;124m.pdf\u001b[39m\u001b[38;5;124m'\u001b[39m\u001b[38;5;241m.\u001b[39mformat(section_tag, model_names[model_index], list_length, analysis_name), bbox_inches\u001b[38;5;241m=\u001b[39m\u001b[38;5;124m\"\u001b[39m\u001b[38;5;124mtight\u001b[39m\u001b[38;5;124m\"\u001b[39m)\n\u001b[1;32m     79\u001b[0m     plt\u001b[38;5;241m.\u001b[39mshow()\n",
      "File \u001b[0;32m/gpfs52/home/gunnj/myvenv/lib/python3.8/site-packages/compmemlearn/analyses.py:437\u001b[0m, in \u001b[0;36mplot_flex_crp\u001b[0;34m(data, trial_query, contrast_name, labels, axis, max_lag)\u001b[0m\n\u001b[1;32m    434\u001b[0m \u001b[38;5;28;01mif\u001b[39;00m np\u001b[38;5;241m.\u001b[39msum(subject_specific_trial_mask) \u001b[38;5;241m==\u001b[39m \u001b[38;5;241m0\u001b[39m:\n\u001b[1;32m    435\u001b[0m     \u001b[38;5;28;01mcontinue\u001b[39;00m\n\u001b[0;32m--> 437\u001b[0m res \u001b[38;5;241m=\u001b[39m \u001b[43mflex_mixed_crp\u001b[49m\u001b[43m(\u001b[49m\u001b[43mtrials\u001b[49m\u001b[43m[\u001b[49m\u001b[43msubject_specific_trial_mask\u001b[49m\u001b[43m]\u001b[49m\u001b[43m,\u001b[49m\u001b[43m \u001b[49m\u001b[43mpresentations\u001b[49m\u001b[43m[\u001b[49m\u001b[43msubject_specific_trial_mask\u001b[49m\u001b[43m]\u001b[49m\u001b[43m)\u001b[49m\n\u001b[1;32m    438\u001b[0m res[lag_range] \u001b[38;5;241m=\u001b[39m np\u001b[38;5;241m.\u001b[39mnan\n\u001b[1;32m    439\u001b[0m result\u001b[38;5;241m.\u001b[39mappend(pd\u001b[38;5;241m.\u001b[39mDataFrame\u001b[38;5;241m.\u001b[39mfrom_dict(\n\u001b[1;32m    440\u001b[0m     {\n\u001b[1;32m    441\u001b[0m         \u001b[38;5;124m\"\u001b[39m\u001b[38;5;124msubject\u001b[39m\u001b[38;5;124m\"\u001b[39m: subject,\n\u001b[0;32m   (...)\u001b[0m\n\u001b[1;32m    445\u001b[0m     }\n\u001b[1;32m    446\u001b[0m ))\n",
      "\u001b[0;31mValueError\u001b[0m: cannot assign slice from input of different size"
     ]
    },
    {
     "data": {
      "image/png": "[encoded data removed]",
      "text/plain": [
       "<Figure size 640x480 with 1 Axes>"
      ]
     },
     "metadata": {},
     "output_type": "display_data"
    }
   ],
   "source": [
    "sns.set(style='darkgrid')\n",
    "\n",
    "# for each unique list length\n",
    "if not (isinstance(list_lengths, list) or isinstance(list_lengths, List)): \n",
    "    list_lengths = [list_lengths]\n",
    "\n",
    "for ll_index, list_length in enumerate(list_lengths):\n",
    "    \n",
    "    # for each unique model\n",
    "    for model_index, model_class in enumerate(models):\n",
    "\n",
    "        # load sim_df from csv if it exists\n",
    "        sim_df_path = results_path + '{}_{}_ll{}_sim_df.csv'.format(section_tag, model_names[model_index], list_length)\n",
    "        if os.path.isfile(sim_df_path):\n",
    "            sim_df = pd.read_csv(sim_df_path)\n",
    "            print('sim_df for {} with tag {} and list length {} already exists'.format(model_names[model_index], section_tag, list_length))\n",
    "\n",
    "        # otherwise, generate it\n",
    "        else:\n",
    "\n",
    "            @njit(fastmath=True, nogil=True)\n",
    "            def init_model(item_count, presentation_count, parameters):\n",
    "                return model_class(item_count, presentation_count, parameters)\n",
    "\n",
    "            # for each unique matching entry in individual df\n",
    "            sim_dfs = []\n",
    "            for subject in pd.unique(individual_fits.subject):\n",
    "                \n",
    "                fit_result = individual_fits.query(f'subject == {subject} & model == \"{model_names[model_index]}\"')\n",
    "\n",
    "                # configure model based on specified parameters\n",
    "                fitted_parameters = Dict.empty(\n",
    "                    key_type=types.unicode_type, value_type=types.float64\n",
    "                )\n",
    "                for i in range(len(free_parameters[model_index])):\n",
    "                    fitted_parameters[free_parameters[model_index][i]] = fit_result[free_parameters[model_index][i]].values[0]\n",
    "                for key in fixed_parameters[model_index]:\n",
    "                    fitted_parameters[key] = fixed_parameters[model_index][key]\n",
    "\n",
    "                if 'list length' in events.columns:\n",
    "                    ll_specific_trial_query = trial_query + f' & subject == {subject} & `list length` == {list_length}'\n",
    "                else:\n",
    "                    ll_specific_trial_query = trial_query + f' & subject == {subject}'\n",
    "\n",
    "                ll_specific_trial_mask = generate_trial_mask(events, ll_specific_trial_query)\n",
    "\n",
    "                if np.sum(ll_specific_trial_mask) == 0:\n",
    "                    continue\n",
    "\n",
    "                # simulate df based on specified trial_count and experiment_count\n",
    "                sim_dfs.append(simulate_df_from_events(\n",
    "                    init_model, fitted_parameters, events, ll_specific_trial_mask, experiment_count))\n",
    "                sim_dfs[-1].subject = subject\n",
    "\n",
    "            # concatenate simulations into one dataframe\n",
    "            if len(sim_dfs) == 0:\n",
    "                sim_df = None\n",
    "                continue\n",
    "            sim_df = pd.concat(sim_dfs)\n",
    "\n",
    "            # save sim_df to csv\n",
    "            sim_df.to_csv(results_path +'{}_{}_ll{}_sim_df.csv'.format(section_tag, model_names[model_index], list_length), index=False)\n",
    "\n",
    "        if sim_df is None:\n",
    "            continue\n",
    "\n",
    "        # design general filter for analysis df\n",
    "        if len(list_lengths) > 1:\n",
    "            analysis_query = trial_query + f' & `list length` == {list_length}'\n",
    "        else:\n",
    "            analysis_query = trial_query\n",
    "            \n",
    "        # generate plot for each parametrized analysis and model\n",
    "        for analysis_index, analysis_function in enumerate(analyses):\n",
    "            analysis_name = analysis_names[analysis_index]\n",
    "            axis = analysis_function(\n",
    "                [events, sim_df], analysis_query, contrast_name=\"source\", labels=[\"data\", model_names[model_index]])\n",
    "            plt.savefig(results_path+'{}_{}_ll{}_{}.pdf'.format(section_tag, model_names[model_index], list_length, analysis_name), bbox_inches=\"tight\")\n",
    "            plt.show()"
   ]
  }
 ],
 "metadata": {
  "interpreter": {
   "hash": "19d1d53a962d236aa061289c2ac16dc8e6d9648c89fe79f459ae9a3493bc67b4"
  },
  "kernelspec": {
   "display_name": "Python 3.9.1 ('base')",
   "language": "python",
   "name": "python3"
  },
  "language_info": {
   "codemirror_mode": {
    "name": "ipython",
    "version": 3
   },
   "file_extension": ".py",
   "mimetype": "text/x-python",
   "name": "python",
   "nbconvert_exporter": "python",
   "pygments_lexer": "ipython3",
   "version": "3.8.6"
  },
  "papermill": {
   "default_parameters": {},
   "duration": 422.476786,
   "end_time": "2022-06-03T19:22:50.259625",
   "environment_variables": {},
   "exception": true,
   "input_path": "Subjectwise_Model_Evaluation.ipynb",
   "output_path": "reports/Subjectwise_Model_Evaluation_Double_HowardKahana2005Cond1.ipynb",
   "parameters": {
    "bounds": [
     [
      [
       2.220446049250313e-16,
       0.9999999999999998
      ],
      [
       2.220446049250313e-16,
       0.9999999999999998
      ],
      [
       2.220446049250313e-16,
       0.9999999999999998
      ],
      [
       2.220446049250313e-16,
       0.9999999999999998
      ],
      [
       2.220446049250313e-16,
       0.9999999999999998
      ],
      [
       2.220446049250313e-16,
       0.9999999999999998
      ],
      [
       2.220446049250313e-16,
       100
      ],
      [
       2.220446049250313e-16,
       100
      ],
      [
       2.220446049250313e-16,
       0.9999999999999998
      ],
      [
       2.220446049250313e-16,
       10
      ],
      [
       2.220446049250313e-16,
       10
      ],
      [
       2.220446049250313e-16,
       0.9999999999999998
      ]
     ],
     [
      [
       2.220446049250313e-16,
       0.9999999999999998
      ],
      [
       2.220446049250313e-16,
       0.9999999999999998
      ],
      [
       2.220446049250313e-16,
       0.9999999999999998
      ],
      [
       2.220446049250313e-16,
       0.9999999999999998
      ],
      [
       2.220446049250313e-16,
       0.9999999999999998
      ],
      [
       2.220446049250313e-16,
       0.9999999999999998
      ],
      [
       2.220446049250313e-16,
       100
      ],
      [
       2.220446049250313e-16,
       100
      ],
      [
       2.220446049250313e-16,
       0.9999999999999998
      ],
      [
       2.220446049250313e-16,
       10
      ],
      [
       2.220446049250313e-16,
       10
      ],
      [
       2.220446049250313e-16,
       0.9999999999999998
      ]
     ],
     [
      [
       2.220446049250313e-16,
       0.9999999999999998
      ],
      [
       2.220446049250313e-16,
       0.9999999999999998
      ],
      [
       2.220446049250313e-16,
       0.9999999999999998
      ],
      [
       2.220446049250313e-16,
       0.9999999999999998
      ],
      [
       2.220446049250313e-16,
       0.9999999999999998
      ],
      [
       2.220446049250313e-16,
       0.9999999999999998
      ],
      [
       2.220446049250313e-16,
       100
      ],
      [
       2.220446049250313e-16,
       100
      ],
      [
       2.220446049250313e-16,
       0.9999999999999998
      ],
      [
       2.220446049250313e-16,
       10
      ],
      [
       2.220446049250313e-16,
       10
      ],
      [
       2.220446049250313e-16,
       0.9999999999999998
      ]
     ],
     [
      [
       2.220446049250313e-16,
       0.9999999999999998
      ],
      [
       2.220446049250313e-16,
       0.9999999999999998
      ],
      [
       2.220446049250313e-16,
       0.9999999999999998
      ],
      [
       2.220446049250313e-16,
       0.9999999999999998
      ],
      [
       2.220446049250313e-16,
       0.9999999999999998
      ],
      [
       2.220446049250313e-16,
       0.9999999999999998
      ],
      [
       2.220446049250313e-16,
       100
      ],
      [
       2.220446049250313e-16,
       100
      ],
      [
       2.220446049250313e-16,
       0.9999999999999998
      ],
      [
       2.220446049250313e-16,
       10
      ],
      [
       2.220446049250313e-16,
       10
      ],
      [
       2.220446049250313e-16,
       0.9999999999999998
      ]
     ],
     [
      [
       2.220446049250313e-16,
       0.9999999999999998
      ],
      [
       2.220446049250313e-16,
       0.9999999999999998
      ],
      [
       2.220446049250313e-16,
       0.9999999999999998
      ],
      [
       2.220446049250313e-16,
       0.9999999999999998
      ],
      [
       2.220446049250313e-16,
       0.9999999999999998
      ],
      [
       2.220446049250313e-16,
       0.9999999999999998
      ],
      [
       2.220446049250313e-16,
       100
      ],
      [
       2.220446049250313e-16,
       100
      ],
      [
       2.220446049250313e-16,
       0.9999999999999998
      ],
      [
       2.220446049250313e-16,
       10
      ],
      [
       2.220446049250313e-16,
       10
      ],
      [
       2.220446049250313e-16,
       0.9999999999999998
      ]
     ]
    ],
    "data_path": "data/HowardKahana2005.csv",
    "fixed_parameters": [
     {},
     {
      "context_sensitivity": 1,
      "feature_sensitivity": 1,
      "learn_first": false
     },
     {
      "context_sensitivity": 1,
      "feature_sensitivity": 1,
      "learn_first": true
     },
     {
      "choice_sensitivity": 1,
      "feature_sensitivity": 1,
      "learn_first": false
     },
     {
      "choice_sensitivity": 1,
      "feature_sensitivity": 1,
      "learn_first": true
     }
    ],
    "free_parameters": [
     [
      "encoding_drift_rate",
      "start_drift_rate",
      "recall_drift_rate",
      "shared_support",
      "item_support",
      "learning_rate",
      "primacy_scale",
      "primacy_decay",
      "stop_probability_scale",
      "stop_probability_growth",
      "choice_sensitivity",
      "delay_drift_rate"
     ],
     [
      "encoding_drift_rate",
      "start_drift_rate",
      "recall_drift_rate",
      "shared_support",
      "item_support",
      "learning_rate",
      "primacy_scale",
      "primacy_decay",
      "stop_probability_scale",
      "stop_probability_growth",
      "choice_sensitivity",
      "delay_drift_rate"
     ],
     [
      "encoding_drift_rate",
      "start_drift_rate",
      "recall_drift_rate",
      "shared_support",
      "item_support",
      "learning_rate",
      "primacy_scale",
      "primacy_decay",
      "stop_probability_scale",
      "stop_probability_growth",
      "choice_sensitivity",
      "delay_drift_rate"
     ],
     [
      "encoding_drift_rate",
      "start_drift_rate",
      "recall_drift_rate",
      "shared_support",
      "item_support",
      "learning_rate",
      "primacy_scale",
      "primacy_decay",
      "stop_probability_scale",
      "stop_probability_growth",
      "context_sensitivity",
      "delay_drift_rate"
     ],
     [
      "encoding_drift_rate",
      "start_drift_rate",
      "recall_drift_rate",
      "shared_support",
      "item_support",
      "learning_rate",
      "primacy_scale",
      "primacy_decay",
      "stop_probability_scale",
      "stop_probability_growth",
      "context_sensitivity",
      "delay_drift_rate"
     ]
    ],
    "model_names": [
     "PrototypeCMR",
     "ICMR_2_0_0",
     "ICMR_2_0_1",
     "ICMR_2_1_0",
     "ICMR_2_1_1"
    ],
    "model_paths": [
     "compmemlearn.models.Base_CMR",
     "compmemlearn.models.Dual_ICMR",
     "compmemlearn.models.Dual_ICMR",
     "compmemlearn.models.Dual_ICMR",
     "compmemlearn.models.Dual_ICMR"
    ],
    "section_tag": "HowardKahana2005Cond1",
    "trial_query": "condition == 1"
   },
   "start_time": "2022-06-03T19:15:47.782839",
   "version": "2.3.4"
  }
 },
 "nbformat": 4,
 "nbformat_minor": 5
}
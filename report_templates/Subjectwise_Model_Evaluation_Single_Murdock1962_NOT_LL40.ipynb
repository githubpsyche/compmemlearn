{
 "cells": [
  {
   "cell_type": "markdown",
   "id": "72a4d0ce",
   "metadata": {
    "tags": [
     "papermill-error-cell-tag"
    ]
   },
   "source": [
    "<span style=\"color:red; font-family:Helvetica Neue, Helvetica, Arial, sans-serif; font-size:2em;\">An Exception was encountered at '<a href=\"#papermill-error-cell\">In [12]</a>'.</span>"
   ]
  },
  {
   "cell_type": "code",
   "execution_count": 1,
   "id": "9ae57255",
   "metadata": {
    "execution": {
     "iopub.execute_input": "2022-05-31T19:25:46.789730Z",
     "iopub.status.busy": "2022-05-31T19:25:46.788819Z",
     "iopub.status.idle": "2022-05-31T19:26:48.252554Z",
     "shell.execute_reply": "2022-05-31T19:26:48.250784Z"
    },
    "papermill": {
     "duration": 61.512134,
     "end_time": "2022-05-31T19:26:48.257742",
     "exception": false,
     "start_time": "2022-05-31T19:25:46.745608",
     "status": "completed"
    },
    "tags": [
     "parameters"
    ]
   },
   "outputs": [],
   "source": [
    "# | code-summary: code -- load dependencies and data and select parameters\n",
    "\n",
    "from compmemlearn.fitting import generate_objective_function\n",
    "from compmemlearn.datasets import events_metadata, simulate_df, generate_trial_mask\n",
    "from scipy.optimize import differential_evolution\n",
    "from numba.typed import List, Dict\n",
    "from numba.core import types\n",
    "from numba import njit\n",
    "from psifr import fr\n",
    "import pandas as pd\n",
    "import numpy as np\n",
    "import seaborn as sns\n",
    "import matplotlib.pyplot as plt\n",
    "import importlib\n",
    "import os\n",
    "\n",
    "lb = np.finfo(float).eps\n",
    "ub = 1 - np.finfo(float).eps\n",
    "\n",
    "figure_caption = \"\"\"Distribution of log-likelihood scores of recall sequences exhibited by each subject in dataset under each considered model.\"\"\"\n",
    "\n",
    "section_tag = \"LohnasCondition1\"\n",
    "\n",
    "data_path = \"../data/LohnasKahana2014.csv\"\n",
    "results_path = \"results/\"\n",
    "trial_query = \"condition == 1\"\n",
    "\n",
    "model_paths = [\"compmemlearn.models.Classic_CMR\", \"compmemlearn.models.Instance_CMR\", \"compmemlearn.models.Dual_Instance_CMR\"]\n",
    "\n",
    "model_names = [\"PrototypeCMR\", \"InstanceCMR\", \"Dual Memory ICMR\"]\n",
    "\n",
    "free_parameters = [\n",
    "    [\n",
    "        \"encoding_drift_rate\",\n",
    "        \"start_drift_rate\",\n",
    "        \"recall_drift_rate\",\n",
    "        \"shared_support\",\n",
    "        \"item_support\",\n",
    "        \"learning_rate\",\n",
    "        \"primacy_scale\",\n",
    "        \"primacy_decay\",\n",
    "        \"stop_probability_scale\",\n",
    "        \"stop_probability_growth\",\n",
    "        \"choice_sensitivity\",\n",
    "        \"delay_drift_rate\",\n",
    "    ],\n",
    "    [\n",
    "        \"encoding_drift_rate\",\n",
    "        \"start_drift_rate\",\n",
    "        \"recall_drift_rate\",\n",
    "        \"shared_support\",\n",
    "        \"item_support\",\n",
    "        \"learning_rate\",\n",
    "        \"primacy_scale\",\n",
    "        \"primacy_decay\",\n",
    "        \"stop_probability_scale\",\n",
    "        \"stop_probability_growth\",\n",
    "        #    'choice_sensitivity',\n",
    "        \"context_sensitivity\",\n",
    "        #    'feature_sensitivity'\n",
    "        \"delay_drift_rate\",\n",
    "    ],\n",
    "    [\n",
    "        \"encoding_drift_rate\",\n",
    "        \"start_drift_rate\",\n",
    "        \"recall_drift_rate\",\n",
    "        \"shared_support\",\n",
    "        \"item_support\",\n",
    "        \"learning_rate\",\n",
    "        \"primacy_scale\",\n",
    "        \"primacy_decay\",\n",
    "        \"stop_probability_scale\",\n",
    "        \"stop_probability_growth\",\n",
    "        #    'choice_sensitivity',\n",
    "        \"context_sensitivity\",\n",
    "        #    'feature_sensitivity'\n",
    "        \"delay_drift_rate\",\n",
    "    ],\n",
    "]\n",
    "\n",
    "bounds = [\n",
    "    [\n",
    "        [lb, ub],\n",
    "        [lb, ub],\n",
    "        [lb, ub],\n",
    "        [lb, ub],\n",
    "        [lb, ub],\n",
    "        [lb, ub],\n",
    "        [lb, 100],\n",
    "        [lb, 100],\n",
    "        [lb, ub],\n",
    "        [lb, 10],\n",
    "        [lb, 10],\n",
    "        [lb, ub],\n",
    "    ],\n",
    "    [\n",
    "        [lb, ub],\n",
    "        [lb, ub],\n",
    "        [lb, ub],\n",
    "        [lb, ub],\n",
    "        [lb, ub],\n",
    "        [lb, ub],\n",
    "        [lb, 100],\n",
    "        [lb, 100],\n",
    "        [lb, ub],\n",
    "        [lb, 10],\n",
    "        [lb, 10],\n",
    "        [lb, ub],\n",
    "    ],\n",
    "    [\n",
    "        [lb, ub],\n",
    "        [lb, ub],\n",
    "        [lb, ub],\n",
    "        [lb, ub],\n",
    "        [lb, ub],\n",
    "        [lb, ub],\n",
    "        [lb, 100],\n",
    "        [lb, 100],\n",
    "        [lb, ub],\n",
    "        [lb, 10],\n",
    "        [lb, 10],\n",
    "        [lb, ub],\n",
    "    ],\n",
    "]\n",
    "\n",
    "fixed_parameters = [\n",
    "    {'sampling_rule': 0, 'mfc_familiarity_scale': 0, \n",
    "         'mcf_familiarity_scale': 0, 'drift_familiarity_scale': 0}, \n",
    "    {\"choice_sensitivity\": 1, \"feature_sensitivity\": 1, 'mfc_familiarity_scale': 0, \n",
    "         'mcf_familiarity_scale': 0, 'drift_familiarity_scale': 0},\n",
    "    {\"choice_sensitivity\": 1, \"feature_sensitivity\": 1, 'mfc_familiarity_scale': 0, \n",
    "         'mcf_familiarity_scale': 0, 'drift_familiarity_scale': 0},\n",
    "]\n",
    "\n",
    "analysis_paths = ['compmemlearn.analyses.plot_spc', 'compmemlearn.analyses.plot_crp', 'compmemlearn.analyses.plot_pfr']\n",
    "analysis_names = ['spc', 'crp', 'pfr']\n",
    "\n",
    "experiment_count = 100\n"
   ]
  },
  {
   "cell_type": "code",
   "execution_count": 2,
   "id": "12116872",
   "metadata": {
    "execution": {
     "iopub.execute_input": "2022-05-31T19:26:48.323727Z",
     "iopub.status.busy": "2022-05-31T19:26:48.322958Z",
     "iopub.status.idle": "2022-05-31T19:26:48.355256Z",
     "shell.execute_reply": "2022-05-31T19:26:48.354362Z"
    },
    "papermill": {
     "duration": 0.062899,
     "end_time": "2022-05-31T19:26:48.357953",
     "exception": false,
     "start_time": "2022-05-31T19:26:48.295054",
     "status": "completed"
    },
    "tags": [
     "injected-parameters"
    ]
   },
   "outputs": [],
   "source": [
    "# Parameters\n",
    "data_path = \"data/Murdock1962.csv\"\n",
    "trial_query = \"`list length` != 40\"\n",
    "model_paths = [\n",
    "    \"compmemlearn.models.Base_CMR\",\n",
    "    \"compmemlearn.models.Single_ICMR\",\n",
    "    \"compmemlearn.models.Single_ICMR\",\n",
    "    \"compmemlearn.models.Single_ICMR\",\n",
    "    \"compmemlearn.models.Single_ICMR\",\n",
    "]\n",
    "model_names = [\"PrototypeCMR\", \"ICMR_1_0_0\", \"ICMR_1_0_1\", \"ICMR_1_1_0\", \"ICMR_1_1_1\"]\n",
    "free_parameters = [\n",
    "    [\n",
    "        \"encoding_drift_rate\",\n",
    "        \"start_drift_rate\",\n",
    "        \"recall_drift_rate\",\n",
    "        \"shared_support\",\n",
    "        \"item_support\",\n",
    "        \"learning_rate\",\n",
    "        \"primacy_scale\",\n",
    "        \"primacy_decay\",\n",
    "        \"stop_probability_scale\",\n",
    "        \"stop_probability_growth\",\n",
    "        \"choice_sensitivity\",\n",
    "        \"delay_drift_rate\",\n",
    "    ],\n",
    "    [\n",
    "        \"encoding_drift_rate\",\n",
    "        \"start_drift_rate\",\n",
    "        \"recall_drift_rate\",\n",
    "        \"shared_support\",\n",
    "        \"item_support\",\n",
    "        \"learning_rate\",\n",
    "        \"primacy_scale\",\n",
    "        \"primacy_decay\",\n",
    "        \"stop_probability_scale\",\n",
    "        \"stop_probability_growth\",\n",
    "        \"choice_sensitivity\",\n",
    "        \"delay_drift_rate\",\n",
    "    ],\n",
    "    [\n",
    "        \"encoding_drift_rate\",\n",
    "        \"start_drift_rate\",\n",
    "        \"recall_drift_rate\",\n",
    "        \"shared_support\",\n",
    "        \"item_support\",\n",
    "        \"learning_rate\",\n",
    "        \"primacy_scale\",\n",
    "        \"primacy_decay\",\n",
    "        \"stop_probability_scale\",\n",
    "        \"stop_probability_growth\",\n",
    "        \"choice_sensitivity\",\n",
    "        \"delay_drift_rate\",\n",
    "    ],\n",
    "    [\n",
    "        \"encoding_drift_rate\",\n",
    "        \"start_drift_rate\",\n",
    "        \"recall_drift_rate\",\n",
    "        \"shared_support\",\n",
    "        \"item_support\",\n",
    "        \"learning_rate\",\n",
    "        \"primacy_scale\",\n",
    "        \"primacy_decay\",\n",
    "        \"stop_probability_scale\",\n",
    "        \"stop_probability_growth\",\n",
    "        \"context_sensitivity\",\n",
    "        \"delay_drift_rate\",\n",
    "    ],\n",
    "    [\n",
    "        \"encoding_drift_rate\",\n",
    "        \"start_drift_rate\",\n",
    "        \"recall_drift_rate\",\n",
    "        \"shared_support\",\n",
    "        \"item_support\",\n",
    "        \"learning_rate\",\n",
    "        \"primacy_scale\",\n",
    "        \"primacy_decay\",\n",
    "        \"stop_probability_scale\",\n",
    "        \"stop_probability_growth\",\n",
    "        \"context_sensitivity\",\n",
    "        \"delay_drift_rate\",\n",
    "    ],\n",
    "]\n",
    "bounds = [\n",
    "    [\n",
    "        [2.220446049250313e-16, 0.9999999999999998],\n",
    "        [2.220446049250313e-16, 0.9999999999999998],\n",
    "        [2.220446049250313e-16, 0.9999999999999998],\n",
    "        [2.220446049250313e-16, 0.9999999999999998],\n",
    "        [2.220446049250313e-16, 0.9999999999999998],\n",
    "        [2.220446049250313e-16, 0.9999999999999998],\n",
    "        [2.220446049250313e-16, 100],\n",
    "        [2.220446049250313e-16, 100],\n",
    "        [2.220446049250313e-16, 0.9999999999999998],\n",
    "        [2.220446049250313e-16, 10],\n",
    "        [2.220446049250313e-16, 10],\n",
    "        [2.220446049250313e-16, 0.9999999999999998],\n",
    "    ],\n",
    "    [\n",
    "        [2.220446049250313e-16, 0.9999999999999998],\n",
    "        [2.220446049250313e-16, 0.9999999999999998],\n",
    "        [2.220446049250313e-16, 0.9999999999999998],\n",
    "        [2.220446049250313e-16, 0.9999999999999998],\n",
    "        [2.220446049250313e-16, 0.9999999999999998],\n",
    "        [2.220446049250313e-16, 0.9999999999999998],\n",
    "        [2.220446049250313e-16, 100],\n",
    "        [2.220446049250313e-16, 100],\n",
    "        [2.220446049250313e-16, 0.9999999999999998],\n",
    "        [2.220446049250313e-16, 10],\n",
    "        [2.220446049250313e-16, 10],\n",
    "        [2.220446049250313e-16, 0.9999999999999998],\n",
    "    ],\n",
    "    [\n",
    "        [2.220446049250313e-16, 0.9999999999999998],\n",
    "        [2.220446049250313e-16, 0.9999999999999998],\n",
    "        [2.220446049250313e-16, 0.9999999999999998],\n",
    "        [2.220446049250313e-16, 0.9999999999999998],\n",
    "        [2.220446049250313e-16, 0.9999999999999998],\n",
    "        [2.220446049250313e-16, 0.9999999999999998],\n",
    "        [2.220446049250313e-16, 100],\n",
    "        [2.220446049250313e-16, 100],\n",
    "        [2.220446049250313e-16, 0.9999999999999998],\n",
    "        [2.220446049250313e-16, 10],\n",
    "        [2.220446049250313e-16, 10],\n",
    "        [2.220446049250313e-16, 0.9999999999999998],\n",
    "    ],\n",
    "    [\n",
    "        [2.220446049250313e-16, 0.9999999999999998],\n",
    "        [2.220446049250313e-16, 0.9999999999999998],\n",
    "        [2.220446049250313e-16, 0.9999999999999998],\n",
    "        [2.220446049250313e-16, 0.9999999999999998],\n",
    "        [2.220446049250313e-16, 0.9999999999999998],\n",
    "        [2.220446049250313e-16, 0.9999999999999998],\n",
    "        [2.220446049250313e-16, 100],\n",
    "        [2.220446049250313e-16, 100],\n",
    "        [2.220446049250313e-16, 0.9999999999999998],\n",
    "        [2.220446049250313e-16, 10],\n",
    "        [2.220446049250313e-16, 10],\n",
    "        [2.220446049250313e-16, 0.9999999999999998],\n",
    "    ],\n",
    "    [\n",
    "        [2.220446049250313e-16, 0.9999999999999998],\n",
    "        [2.220446049250313e-16, 0.9999999999999998],\n",
    "        [2.220446049250313e-16, 0.9999999999999998],\n",
    "        [2.220446049250313e-16, 0.9999999999999998],\n",
    "        [2.220446049250313e-16, 0.9999999999999998],\n",
    "        [2.220446049250313e-16, 0.9999999999999998],\n",
    "        [2.220446049250313e-16, 100],\n",
    "        [2.220446049250313e-16, 100],\n",
    "        [2.220446049250313e-16, 0.9999999999999998],\n",
    "        [2.220446049250313e-16, 10],\n",
    "        [2.220446049250313e-16, 10],\n",
    "        [2.220446049250313e-16, 0.9999999999999998],\n",
    "    ],\n",
    "]\n",
    "fixed_parameters = [\n",
    "    {},\n",
    "    {\"feature_sensitivity\": 1, \"context_sensitivity\": 1, \"learn_first\": False},\n",
    "    {\"feature_sensitivity\": 1, \"context_sensitivity\": 1, \"learn_first\": True},\n",
    "    {\"feature_sensitivity\": 1, \"choice_sensitivity\": 1, \"learn_first\": False},\n",
    "    {\"feature_sensitivity\": 1, \"choice_sensitivity\": 1, \"learn_first\": True},\n",
    "]\n",
    "section_tag = \"Murdock1962_NOT_LL40\"\n"
   ]
  },
  {
   "cell_type": "code",
   "execution_count": 3,
   "id": "78c7f029",
   "metadata": {
    "execution": {
     "iopub.execute_input": "2022-05-31T19:26:48.393600Z",
     "iopub.status.busy": "2022-05-31T19:26:48.393398Z",
     "iopub.status.idle": "2022-05-31T19:29:04.741715Z",
     "shell.execute_reply": "2022-05-31T19:29:04.740775Z"
    },
    "papermill": {
     "duration": 136.368247,
     "end_time": "2022-05-31T19:29:04.744210",
     "exception": false,
     "start_time": "2022-05-31T19:26:48.375963",
     "status": "completed"
    },
    "tags": []
   },
   "outputs": [
    {
     "name": "stdout",
     "output_type": "stream",
     "text": [
      "<function murdock_objective_function.<locals>.objective_function at 0x2b16289729d0>\n"
     ]
    },
    {
     "name": "stdout",
     "output_type": "stream",
     "text": [
      "9327.900327610032\n",
      "16274.67425930948\n"
     ]
    },
    {
     "name": "stdout",
     "output_type": "stream",
     "text": [
      "<function murdock_objective_function.<locals>.objective_function at 0x2b162afc63a0>\n"
     ]
    },
    {
     "name": "stdout",
     "output_type": "stream",
     "text": [
      "9327.900327610032\n",
      "16274.67425930948\n",
      "<function murdock_objective_function.<locals>.objective_function at 0x2b162aa0c430>\n"
     ]
    },
    {
     "name": "stdout",
     "output_type": "stream",
     "text": [
      "9327.900327610032\n",
      "16274.67425930948\n",
      "<function murdock_objective_function.<locals>.objective_function at 0x2b162a80d4c0>\n"
     ]
    },
    {
     "name": "stdout",
     "output_type": "stream",
     "text": [
      "9327.900327610032\n",
      "16274.67425930948\n",
      "<function murdock_objective_function.<locals>.objective_function at 0x2b162a8af790>\n"
     ]
    },
    {
     "name": "stdout",
     "output_type": "stream",
     "text": [
      "9327.900327610032\n",
      "16274.67425930948\n",
      "dependencies and parameters validated\n"
     ]
    }
   ],
   "source": [
    "#| code-summary: code -- test that specified parameters are valid\n",
    "#| output: false\n",
    "\n",
    "events = pd.read_csv(data_path)\n",
    "\n",
    "trials, list_lengths, presentations = events_metadata(events)\n",
    "trial_mask = generate_trial_mask(events, trial_query)\n",
    "\n",
    "# import models from specified source\n",
    "models = []\n",
    "for i in range(len(model_paths)):\n",
    "    module_name, model_name = model_paths[i].rsplit('.',1) #TODO: add handling for case with no `.`\n",
    "    module = importlib.import_module(module_name)\n",
    "    models.append(getattr(module, model_name))\n",
    "\n",
    "# import analyses from specified source\n",
    "analyses = []\n",
    "for i in range(len(analysis_paths)):\n",
    "    module_name, analysis_name = analysis_paths[i].rsplit('.',1) #TODO: add handling for case with no `.`\n",
    "    module = importlib.import_module(module_name)\n",
    "    analyses.append(getattr(module, analysis_name))\n",
    "\n",
    "# make sure model initializes with provided parameters and boundaries\n",
    "for model_index, model_class in enumerate(models):\n",
    "\n",
    "    @njit(fastmath=True, nogil=True)\n",
    "    def init_model(item_count, presentation_count, parameters):\n",
    "        return model_class(item_count, presentation_count, parameters)\n",
    "\n",
    "    subject_specific_trial_mask = np.logical_and(\n",
    "                generate_trial_mask(events, f'subject == {pd.unique(events.subject)[0]}'), trial_mask)\n",
    "\n",
    "    cost_function = generate_objective_function(\n",
    "        [trials[i][subject_specific_trial_mask[i]] for i in range(len(trials))],\n",
    "        [presentations[i][subject_specific_trial_mask[i]] for i in range(len(presentations))],\n",
    "        list_lengths,\n",
    "        init_model,\n",
    "        fixed_parameters[model_index],\n",
    "        free_parameters[model_index],\n",
    "    )\n",
    "    print(cost_function)\n",
    "    \n",
    "    for boundary_index in range(2):\n",
    "        x = np.array([each[boundary_index] for each in bounds[model_index]])\n",
    "        assert(len(x) == len(free_parameters[model_index])) \n",
    "\n",
    "        # parameter configuration\n",
    "        parameters = Dict.empty(key_type=types.unicode_type, value_type=types.float64)\n",
    "        for name, value in fixed_parameters[model_index].items():\n",
    "            parameters[name] = value\n",
    "        for i in range(len(free_parameters[model_index])):\n",
    "                parameters[free_parameters[model_index][i]] = x[i]\n",
    "\n",
    "        model = init_model(20, 20, parameters)\n",
    "        model.experience(model.items)\n",
    "        model.free_recall()\n",
    "\n",
    "        print(cost_function(x))\n",
    "print('dependencies and parameters validated')\n",
    "#print(trial_index, recall_index, recall, trial, likelihood[trial_index, recall_index], model.outcome_probabilities())"
   ]
  },
  {
   "cell_type": "code",
   "execution_count": 4,
   "id": "dce92829",
   "metadata": {
    "execution": {
     "iopub.execute_input": "2022-05-31T19:29:04.795691Z",
     "iopub.status.busy": "2022-05-31T19:29:04.794596Z",
     "iopub.status.idle": "2022-06-01T00:37:55.367984Z",
     "shell.execute_reply": "2022-06-01T00:37:55.366213Z"
    },
    "papermill": {
     "duration": 18530.63845,
     "end_time": "2022-06-01T00:37:55.416924",
     "exception": false,
     "start_time": "2022-05-31T19:29:04.778474",
     "status": "completed"
    },
    "tags": []
   },
   "outputs": [
    {
     "name": "stdout",
     "output_type": "stream",
     "text": [
      "individual fits for PrototypeCMR with tag Murdock1962_NOT_LL40 already exist\n",
      "ICMR_1_0_0, Subject 1\n"
     ]
    },
    {
     "name": "stdout",
     "output_type": "stream",
     "text": [
      "3001.2359044531436\n",
      "ICMR_1_0_0, Subject 2\n"
     ]
    },
    {
     "name": "stdout",
     "output_type": "stream",
     "text": [
      "3669.6123001622254\n",
      "ICMR_1_0_0, Subject 3\n"
     ]
    },
    {
     "name": "stdout",
     "output_type": "stream",
     "text": [
      "3069.361591479942\n",
      "ICMR_1_0_0, Subject 4\n"
     ]
    },
    {
     "name": "stdout",
     "output_type": "stream",
     "text": [
      "3580.918726359556\n",
      "ICMR_1_0_0, Subject 5\n"
     ]
    },
    {
     "name": "stdout",
     "output_type": "stream",
     "text": [
      "3455.899922214731\n",
      "ICMR_1_0_0, Subject 6\n"
     ]
    },
    {
     "name": "stdout",
     "output_type": "stream",
     "text": [
      "3971.125743853518\n",
      "ICMR_1_0_0, Subject 7\n"
     ]
    },
    {
     "name": "stdout",
     "output_type": "stream",
     "text": [
      "2538.121223442782\n",
      "ICMR_1_0_0, Subject 8\n"
     ]
    },
    {
     "name": "stdout",
     "output_type": "stream",
     "text": [
      "2333.4874666126652\n",
      "ICMR_1_0_0, Subject 9\n"
     ]
    },
    {
     "name": "stdout",
     "output_type": "stream",
     "text": [
      "3086.2482205593933\n",
      "ICMR_1_0_0, Subject 10\n"
     ]
    },
    {
     "name": "stdout",
     "output_type": "stream",
     "text": [
      "3410.8310852663444\n",
      "ICMR_1_0_0, Subject 11\n"
     ]
    },
    {
     "name": "stdout",
     "output_type": "stream",
     "text": [
      "2862.1422095204225\n",
      "ICMR_1_0_0, Subject 12\n"
     ]
    },
    {
     "name": "stdout",
     "output_type": "stream",
     "text": [
      "3423.4551839684327\n",
      "ICMR_1_0_0, Subject 13\n"
     ]
    },
    {
     "name": "stdout",
     "output_type": "stream",
     "text": [
      "4001.5993586037066\n",
      "ICMR_1_0_0, Subject 14\n"
     ]
    },
    {
     "name": "stdout",
     "output_type": "stream",
     "text": [
      "4231.702011398227\n",
      "ICMR_1_0_0, Subject 15\n"
     ]
    },
    {
     "name": "stdout",
     "output_type": "stream",
     "text": [
      "3232.0469213534075\n"
     ]
    },
    {
     "name": "stdout",
     "output_type": "stream",
     "text": [
      "ICMR_1_0_1, Subject 1\n"
     ]
    },
    {
     "name": "stdout",
     "output_type": "stream",
     "text": [
      "3001.235874890362\n",
      "ICMR_1_0_1, Subject 2\n"
     ]
    },
    {
     "name": "stdout",
     "output_type": "stream",
     "text": [
      "3362.0503250399997\n",
      "ICMR_1_0_1, Subject 3\n"
     ]
    },
    {
     "name": "stdout",
     "output_type": "stream",
     "text": [
      "3069.361687646049\n",
      "ICMR_1_0_1, Subject 4\n"
     ]
    },
    {
     "name": "stdout",
     "output_type": "stream",
     "text": [
      "3586.714345552259\n",
      "ICMR_1_0_1, Subject 5\n"
     ]
    },
    {
     "name": "stdout",
     "output_type": "stream",
     "text": [
      "3455.9169378281363\n",
      "ICMR_1_0_1, Subject 6\n"
     ]
    },
    {
     "name": "stdout",
     "output_type": "stream",
     "text": [
      "3970.432064894525\n",
      "ICMR_1_0_1, Subject 7\n"
     ]
    },
    {
     "name": "stdout",
     "output_type": "stream",
     "text": [
      "2538.008276299523\n",
      "ICMR_1_0_1, Subject 8\n"
     ]
    },
    {
     "name": "stdout",
     "output_type": "stream",
     "text": [
      "2318.269963281748\n",
      "ICMR_1_0_1, Subject 9\n"
     ]
    },
    {
     "name": "stdout",
     "output_type": "stream",
     "text": [
      "3070.3323099396393\n",
      "ICMR_1_0_1, Subject 10\n"
     ]
    },
    {
     "name": "stdout",
     "output_type": "stream",
     "text": [
      "3410.8236142096766\n",
      "ICMR_1_0_1, Subject 11\n"
     ]
    },
    {
     "name": "stdout",
     "output_type": "stream",
     "text": [
      "2864.3555447209683\n",
      "ICMR_1_0_1, Subject 12\n"
     ]
    },
    {
     "name": "stdout",
     "output_type": "stream",
     "text": [
      "3426.138401790162\n",
      "ICMR_1_0_1, Subject 13\n"
     ]
    },
    {
     "name": "stdout",
     "output_type": "stream",
     "text": [
      "4002.761047266447\n",
      "ICMR_1_0_1, Subject 14\n"
     ]
    },
    {
     "name": "stdout",
     "output_type": "stream",
     "text": [
      "4231.741649687717\n",
      "ICMR_1_0_1, Subject 15\n"
     ]
    },
    {
     "name": "stdout",
     "output_type": "stream",
     "text": [
      "3236.9488784669156\n",
      "ICMR_1_1_0, Subject 1\n"
     ]
    },
    {
     "name": "stdout",
     "output_type": "stream",
     "text": [
      "3006.9938856236963\n",
      "ICMR_1_1_0, Subject 2\n"
     ]
    },
    {
     "name": "stdout",
     "output_type": "stream",
     "text": [
      "3364.79630698061\n",
      "ICMR_1_1_0, Subject 3\n"
     ]
    },
    {
     "name": "stdout",
     "output_type": "stream",
     "text": [
      "3071.419673480923\n",
      "ICMR_1_1_0, Subject 4\n"
     ]
    },
    {
     "name": "stdout",
     "output_type": "stream",
     "text": [
      "3577.891448975154\n",
      "ICMR_1_1_0, Subject 5\n"
     ]
    },
    {
     "name": "stdout",
     "output_type": "stream",
     "text": [
      "3464.1691823948627\n",
      "ICMR_1_1_0, Subject 6\n"
     ]
    },
    {
     "name": "stdout",
     "output_type": "stream",
     "text": [
      "4496.708681728463\n",
      "ICMR_1_1_0, Subject 7\n"
     ]
    },
    {
     "name": "stdout",
     "output_type": "stream",
     "text": [
      "2541.9469482556055\n",
      "ICMR_1_1_0, Subject 8\n"
     ]
    },
    {
     "name": "stdout",
     "output_type": "stream",
     "text": [
      "2310.155427857278\n",
      "ICMR_1_1_0, Subject 9\n"
     ]
    },
    {
     "name": "stdout",
     "output_type": "stream",
     "text": [
      "3574.2829007548125\n",
      "ICMR_1_1_0, Subject 10\n"
     ]
    },
    {
     "name": "stdout",
     "output_type": "stream",
     "text": [
      "3418.3990889219513\n",
      "ICMR_1_1_0, Subject 11\n"
     ]
    },
    {
     "name": "stdout",
     "output_type": "stream",
     "text": [
      "2868.20540772882\n",
      "ICMR_1_1_0, Subject 12\n"
     ]
    },
    {
     "name": "stdout",
     "output_type": "stream",
     "text": [
      "3676.299307474019\n",
      "ICMR_1_1_0, Subject 13\n"
     ]
    },
    {
     "name": "stdout",
     "output_type": "stream",
     "text": [
      "4002.0608874453624\n",
      "ICMR_1_1_0, Subject 14\n"
     ]
    },
    {
     "name": "stdout",
     "output_type": "stream",
     "text": [
      "4232.50922947159\n",
      "ICMR_1_1_0, Subject 15\n"
     ]
    },
    {
     "name": "stdout",
     "output_type": "stream",
     "text": [
      "3239.058432086952\n",
      "ICMR_1_1_1, Subject 1\n"
     ]
    },
    {
     "name": "stdout",
     "output_type": "stream",
     "text": [
      "3002.7157666676767\n",
      "ICMR_1_1_1, Subject 2\n"
     ]
    },
    {
     "name": "stdout",
     "output_type": "stream",
     "text": [
      "3365.488526518481\n",
      "ICMR_1_1_1, Subject 3\n"
     ]
    },
    {
     "name": "stdout",
     "output_type": "stream",
     "text": [
      "3080.9655202127233\n",
      "ICMR_1_1_1, Subject 4\n"
     ]
    },
    {
     "name": "stdout",
     "output_type": "stream",
     "text": [
      "3582.0998258841923\n",
      "ICMR_1_1_1, Subject 5\n"
     ]
    },
    {
     "name": "stdout",
     "output_type": "stream",
     "text": [
      "3462.775739611585\n",
      "ICMR_1_1_1, Subject 6\n"
     ]
    },
    {
     "name": "stdout",
     "output_type": "stream",
     "text": [
      "3966.1457225419563\n",
      "ICMR_1_1_1, Subject 7\n"
     ]
    },
    {
     "name": "stdout",
     "output_type": "stream",
     "text": [
      "2544.7761640378235\n",
      "ICMR_1_1_1, Subject 8\n"
     ]
    },
    {
     "name": "stdout",
     "output_type": "stream",
     "text": [
      "2315.788848012412\n",
      "ICMR_1_1_1, Subject 9\n"
     ]
    },
    {
     "name": "stdout",
     "output_type": "stream",
     "text": [
      "3096.8989001777777\n",
      "ICMR_1_1_1, Subject 10\n"
     ]
    },
    {
     "name": "stdout",
     "output_type": "stream",
     "text": [
      "3420.3264209953804\n",
      "ICMR_1_1_1, Subject 11\n"
     ]
    },
    {
     "name": "stdout",
     "output_type": "stream",
     "text": [
      "2868.267935744553\n",
      "ICMR_1_1_1, Subject 12\n"
     ]
    },
    {
     "name": "stdout",
     "output_type": "stream",
     "text": [
      "3438.1920947371113\n",
      "ICMR_1_1_1, Subject 13\n"
     ]
    },
    {
     "name": "stdout",
     "output_type": "stream",
     "text": [
      "4009.9773783334485\n",
      "ICMR_1_1_1, Subject 14\n"
     ]
    },
    {
     "name": "stdout",
     "output_type": "stream",
     "text": [
      "4218.955617771215\n",
      "ICMR_1_1_1, Subject 15\n"
     ]
    },
    {
     "name": "stdout",
     "output_type": "stream",
     "text": [
      "3247.8267605216934\n"
     ]
    }
   ],
   "source": [
    "# | code-summary: code -- 1) fit each model class participant-by-participant\n",
    "# | output: false\n",
    "\n",
    "for model_index, model_class in enumerate(models):\n",
    "\n",
    "    # load individual fits for this model and section tag from csv if they exist\n",
    "    if os.path.isfile(results_path + '{}_{}_individual.csv'.format(section_tag, model_names[model_index])):\n",
    "        pd.read_csv(results_path + '{}_{}_individual.csv'.format(section_tag, model_names[model_index]))\n",
    "        print('individual fits for {} with tag {} already exist'.format(model_names[model_index], section_tag))\n",
    "\n",
    "    # otherwise, fit each participant individually\n",
    "    else:\n",
    "        model_individual_fits = []\n",
    "\n",
    "        @njit(fastmath=True, nogil=True)\n",
    "        def init_model(item_count, presentation_count, parameters):\n",
    "            return model_class(item_count, presentation_count, parameters)\n",
    "\n",
    "        for subject in pd.unique(events.subject):\n",
    "            print(f'{model_names[model_index]}, Subject {subject}')\n",
    "\n",
    "            subject_specific_trial_mask = np.logical_and(\n",
    "                generate_trial_mask(events, f'subject == {subject}'), trial_mask)\n",
    "            \n",
    "            try:\n",
    "                # cost function to be minimized\n",
    "                # ours scales inversely with the probability that the data could have been\n",
    "                # generated using the specified parameters and our model\n",
    "                cost_function = generate_objective_function(\n",
    "                    [trials[i][subject_specific_trial_mask[i]] for i in range(len(trials))],\n",
    "                    [presentations[i][subject_specific_trial_mask[i]] for i in range(len(presentations))],\n",
    "                    list_lengths,\n",
    "                    init_model,\n",
    "                    fixed_parameters[model_index],\n",
    "                    free_parameters[model_index],\n",
    "                )\n",
    "            except ValueError:\n",
    "                continue\n",
    "\n",
    "            fit_result =  differential_evolution(cost_function, bounds[model_index], disp=False)\n",
    "\n",
    "            fitted_parameters = {\n",
    "                'subject': subject, 'trial_count': np.sum(subject_specific_trial_mask), \n",
    "                'likelihood': fit_result.fun, 'model': model_names[model_index]\n",
    "                }\n",
    "            for i in range(len(fit_result.x)):\n",
    "                fitted_parameters[free_parameters[model_index][i]] = fit_result.x[i]\n",
    "            for key in fixed_parameters[model_index]:\n",
    "                fitted_parameters[key] = fixed_parameters[model_index][key]\n",
    "\n",
    "            model_individual_fits.append(pd.DataFrame.from_dict(fitted_parameters, orient='index').T)\n",
    "            print(model_individual_fits[-1]['likelihood'][0])\n",
    "\n",
    "        model_individual_fits = pd.concat(model_individual_fits, ignore_index=True)\n",
    "        model_individual_fits.to_csv(\n",
    "            results_path + '{}_{}_individual.csv'.format(section_tag, model_names[model_index]), index=False)"
   ]
  },
  {
   "cell_type": "code",
   "execution_count": 5,
   "id": "b45e2f6a",
   "metadata": {
    "execution": {
     "iopub.execute_input": "2022-06-01T00:37:55.494884Z",
     "iopub.status.busy": "2022-06-01T00:37:55.493356Z",
     "iopub.status.idle": "2022-06-01T00:37:57.189485Z",
     "shell.execute_reply": "2022-06-01T00:37:57.188774Z"
    },
    "papermill": {
     "duration": 1.749257,
     "end_time": "2022-06-01T00:37:57.203570",
     "exception": false,
     "start_time": "2022-06-01T00:37:55.454313",
     "status": "completed"
    },
    "tags": []
   },
   "outputs": [
    {
     "data": {
      "text/plain": [
       "Text(-1.9305555555555483, 0.5, 'Individual Log-Likelihood')"
      ]
     },
     "execution_count": 5,
     "metadata": {},
     "output_type": "execute_result"
    },
    {
     "data": {
      "image/png": "[encoded data removed]",
      "text/plain": [
       "<Figure size 500x500 with 1 Axes>"
      ]
     },
     "metadata": {},
     "output_type": "display_data"
    }
   ],
   "source": [
    "#| code-summary: code -- 3) plot distribution of log-likelihoods across individual subjects\n",
    "\n",
    "plt.style.use('default')\n",
    "sns.set(style=\"darkgrid\")\n",
    "\n",
    "# build individual fits df concatenating results from each model\n",
    "individual_fits = []\n",
    "for model_index, model_class in enumerate(models):\n",
    "    individual_fits.append(\n",
    "        pd.read_csv(results_path + '{}_{}_individual.csv'.format(section_tag, model_names[model_index])))\n",
    "individual_fits = pd.concat(individual_fits, ignore_index=True)\n",
    "\n",
    "# plot distribution of log-likelihoods across individual subjects\n",
    "g = sns.catplot(x='model', y='likelihood', data=individual_fits, kind='violin', inner='stick')\n",
    "sns.swarmplot(x=\"model\", y=\"likelihood\", data=individual_fits, color=\"k\", size=3, ax=g.ax)\n",
    "g.ax.set_ylabel('Individual Log-Likelihood')\n",
    "#plt.savefig(results_path + 'individual_{}.pdf'.format(section_tag), bbox_inches=\"tight\")"
   ]
  },
  {
   "cell_type": "code",
   "execution_count": 6,
   "id": "a6c3fdad",
   "metadata": {
    "execution": {
     "iopub.execute_input": "2022-06-01T00:37:57.353142Z",
     "iopub.status.busy": "2022-06-01T00:37:57.352538Z",
     "iopub.status.idle": "2022-06-01T00:37:57.494689Z",
     "shell.execute_reply": "2022-06-01T00:37:57.493707Z"
    },
    "papermill": {
     "duration": 0.195562,
     "end_time": "2022-06-01T00:37:57.499341",
     "exception": false,
     "start_time": "2022-06-01T00:37:57.303779",
     "status": "completed"
    },
    "tags": []
   },
   "outputs": [
    {
     "data": {
      "text/html": [
       "<div>\n",
       "<style scoped>\n",
       "    .dataframe tbody tr th:only-of-type {\n",
       "        vertical-align: middle;\n",
       "    }\n",
       "\n",
       "    .dataframe tbody tr th {\n",
       "        vertical-align: top;\n",
       "    }\n",
       "\n",
       "    .dataframe thead th {\n",
       "        text-align: right;\n",
       "    }\n",
       "</style>\n",
       "<table border=\"1\" class=\"dataframe\">\n",
       "  <thead>\n",
       "    <tr style=\"text-align: right;\">\n",
       "      <th></th>\n",
       "      <th>subject</th>\n",
       "      <th>trial_count</th>\n",
       "      <th>likelihood</th>\n",
       "      <th>model</th>\n",
       "      <th>encoding_drift_rate</th>\n",
       "      <th>start_drift_rate</th>\n",
       "      <th>recall_drift_rate</th>\n",
       "      <th>shared_support</th>\n",
       "      <th>item_support</th>\n",
       "      <th>learning_rate</th>\n",
       "      <th>primacy_scale</th>\n",
       "      <th>primacy_decay</th>\n",
       "      <th>stop_probability_scale</th>\n",
       "      <th>stop_probability_growth</th>\n",
       "      <th>choice_sensitivity</th>\n",
       "      <th>delay_drift_rate</th>\n",
       "      <th>feature_sensitivity</th>\n",
       "      <th>context_sensitivity</th>\n",
       "      <th>learn_first</th>\n",
       "    </tr>\n",
       "  </thead>\n",
       "  <tbody>\n",
       "    <tr>\n",
       "      <th>0</th>\n",
       "      <td>1</td>\n",
       "      <td>160</td>\n",
       "      <td>3013.122408</td>\n",
       "      <td>PrototypeCMR</td>\n",
       "      <td>0.736713</td>\n",
       "      <td>5.033853e-02</td>\n",
       "      <td>0.710074</td>\n",
       "      <td>0.074711</td>\n",
       "      <td>1.000000</td>\n",
       "      <td>0.183348</td>\n",
       "      <td>7.669491</td>\n",
       "      <td>41.202847</td>\n",
       "      <td>0.015269</td>\n",
       "      <td>0.365905</td>\n",
       "      <td>2.165687</td>\n",
       "      <td>0.000004</td>\n",
       "      <td>NaN</td>\n",
       "      <td>NaN</td>\n",
       "      <td>NaN</td>\n",
       "    </tr>\n",
       "    <tr>\n",
       "      <th>1</th>\n",
       "      <td>2</td>\n",
       "      <td>160</td>\n",
       "      <td>3318.961701</td>\n",
       "      <td>PrototypeCMR</td>\n",
       "      <td>0.544680</td>\n",
       "      <td>1.874331e-02</td>\n",
       "      <td>0.675270</td>\n",
       "      <td>0.673504</td>\n",
       "      <td>1.000000</td>\n",
       "      <td>0.051728</td>\n",
       "      <td>11.638512</td>\n",
       "      <td>48.297614</td>\n",
       "      <td>0.018706</td>\n",
       "      <td>0.325991</td>\n",
       "      <td>10.000000</td>\n",
       "      <td>0.936363</td>\n",
       "      <td>NaN</td>\n",
       "      <td>NaN</td>\n",
       "      <td>NaN</td>\n",
       "    </tr>\n",
       "    <tr>\n",
       "      <th>2</th>\n",
       "      <td>3</td>\n",
       "      <td>160</td>\n",
       "      <td>3075.297827</td>\n",
       "      <td>PrototypeCMR</td>\n",
       "      <td>0.642708</td>\n",
       "      <td>3.177896e-02</td>\n",
       "      <td>0.685946</td>\n",
       "      <td>0.152677</td>\n",
       "      <td>1.000000</td>\n",
       "      <td>0.114602</td>\n",
       "      <td>6.953879</td>\n",
       "      <td>82.509213</td>\n",
       "      <td>0.025094</td>\n",
       "      <td>0.298691</td>\n",
       "      <td>3.312915</td>\n",
       "      <td>0.870585</td>\n",
       "      <td>NaN</td>\n",
       "      <td>NaN</td>\n",
       "      <td>NaN</td>\n",
       "    </tr>\n",
       "    <tr>\n",
       "      <th>3</th>\n",
       "      <td>4</td>\n",
       "      <td>160</td>\n",
       "      <td>3578.520322</td>\n",
       "      <td>PrototypeCMR</td>\n",
       "      <td>0.521511</td>\n",
       "      <td>3.756549e-02</td>\n",
       "      <td>0.894233</td>\n",
       "      <td>0.277838</td>\n",
       "      <td>1.000000</td>\n",
       "      <td>0.096760</td>\n",
       "      <td>5.740585</td>\n",
       "      <td>40.354621</td>\n",
       "      <td>0.022544</td>\n",
       "      <td>0.265039</td>\n",
       "      <td>4.719189</td>\n",
       "      <td>0.943974</td>\n",
       "      <td>NaN</td>\n",
       "      <td>NaN</td>\n",
       "      <td>NaN</td>\n",
       "    </tr>\n",
       "    <tr>\n",
       "      <th>4</th>\n",
       "      <td>5</td>\n",
       "      <td>160</td>\n",
       "      <td>3470.013248</td>\n",
       "      <td>PrototypeCMR</td>\n",
       "      <td>0.726969</td>\n",
       "      <td>1.309009e-02</td>\n",
       "      <td>0.692132</td>\n",
       "      <td>0.064097</td>\n",
       "      <td>1.000000</td>\n",
       "      <td>0.126239</td>\n",
       "      <td>14.646225</td>\n",
       "      <td>71.234074</td>\n",
       "      <td>0.017354</td>\n",
       "      <td>0.300899</td>\n",
       "      <td>1.947423</td>\n",
       "      <td>0.843014</td>\n",
       "      <td>NaN</td>\n",
       "      <td>NaN</td>\n",
       "      <td>NaN</td>\n",
       "    </tr>\n",
       "    <tr>\n",
       "      <th>...</th>\n",
       "      <td>...</td>\n",
       "      <td>...</td>\n",
       "      <td>...</td>\n",
       "      <td>...</td>\n",
       "      <td>...</td>\n",
       "      <td>...</td>\n",
       "      <td>...</td>\n",
       "      <td>...</td>\n",
       "      <td>...</td>\n",
       "      <td>...</td>\n",
       "      <td>...</td>\n",
       "      <td>...</td>\n",
       "      <td>...</td>\n",
       "      <td>...</td>\n",
       "      <td>...</td>\n",
       "      <td>...</td>\n",
       "      <td>...</td>\n",
       "      <td>...</td>\n",
       "      <td>...</td>\n",
       "    </tr>\n",
       "    <tr>\n",
       "      <th>70</th>\n",
       "      <td>11</td>\n",
       "      <td>160</td>\n",
       "      <td>2868.267936</td>\n",
       "      <td>ICMR_1_1_1</td>\n",
       "      <td>0.736690</td>\n",
       "      <td>2.220446e-16</td>\n",
       "      <td>0.859030</td>\n",
       "      <td>0.006827</td>\n",
       "      <td>1.000000</td>\n",
       "      <td>0.207068</td>\n",
       "      <td>29.393738</td>\n",
       "      <td>85.203021</td>\n",
       "      <td>0.034928</td>\n",
       "      <td>0.255407</td>\n",
       "      <td>1.000000</td>\n",
       "      <td>0.956916</td>\n",
       "      <td>1.0</td>\n",
       "      <td>1.676801</td>\n",
       "      <td>True</td>\n",
       "    </tr>\n",
       "    <tr>\n",
       "      <th>71</th>\n",
       "      <td>12</td>\n",
       "      <td>160</td>\n",
       "      <td>3438.192095</td>\n",
       "      <td>ICMR_1_1_1</td>\n",
       "      <td>0.606061</td>\n",
       "      <td>2.220446e-16</td>\n",
       "      <td>0.853970</td>\n",
       "      <td>0.016992</td>\n",
       "      <td>0.921105</td>\n",
       "      <td>0.141250</td>\n",
       "      <td>77.253804</td>\n",
       "      <td>65.299682</td>\n",
       "      <td>0.022470</td>\n",
       "      <td>0.271112</td>\n",
       "      <td>1.000000</td>\n",
       "      <td>1.000000</td>\n",
       "      <td>1.0</td>\n",
       "      <td>2.586651</td>\n",
       "      <td>True</td>\n",
       "    </tr>\n",
       "    <tr>\n",
       "      <th>72</th>\n",
       "      <td>13</td>\n",
       "      <td>160</td>\n",
       "      <td>4009.977378</td>\n",
       "      <td>ICMR_1_1_1</td>\n",
       "      <td>0.733852</td>\n",
       "      <td>2.220446e-16</td>\n",
       "      <td>0.908976</td>\n",
       "      <td>0.008486</td>\n",
       "      <td>0.653560</td>\n",
       "      <td>0.211957</td>\n",
       "      <td>28.582637</td>\n",
       "      <td>38.981321</td>\n",
       "      <td>0.009991</td>\n",
       "      <td>0.302477</td>\n",
       "      <td>1.000000</td>\n",
       "      <td>1.000000</td>\n",
       "      <td>1.0</td>\n",
       "      <td>2.077223</td>\n",
       "      <td>True</td>\n",
       "    </tr>\n",
       "    <tr>\n",
       "      <th>73</th>\n",
       "      <td>14</td>\n",
       "      <td>160</td>\n",
       "      <td>4218.955618</td>\n",
       "      <td>ICMR_1_1_1</td>\n",
       "      <td>0.644415</td>\n",
       "      <td>2.459483e-02</td>\n",
       "      <td>0.898480</td>\n",
       "      <td>0.009604</td>\n",
       "      <td>1.000000</td>\n",
       "      <td>0.133817</td>\n",
       "      <td>30.636786</td>\n",
       "      <td>2.230046</td>\n",
       "      <td>0.010230</td>\n",
       "      <td>0.312666</td>\n",
       "      <td>1.000000</td>\n",
       "      <td>0.985370</td>\n",
       "      <td>1.0</td>\n",
       "      <td>1.638485</td>\n",
       "      <td>True</td>\n",
       "    </tr>\n",
       "    <tr>\n",
       "      <th>74</th>\n",
       "      <td>15</td>\n",
       "      <td>160</td>\n",
       "      <td>3247.826761</td>\n",
       "      <td>ICMR_1_1_1</td>\n",
       "      <td>0.706528</td>\n",
       "      <td>9.596838e-04</td>\n",
       "      <td>0.545596</td>\n",
       "      <td>0.008980</td>\n",
       "      <td>1.000000</td>\n",
       "      <td>0.070092</td>\n",
       "      <td>12.245104</td>\n",
       "      <td>89.574129</td>\n",
       "      <td>0.024883</td>\n",
       "      <td>0.297914</td>\n",
       "      <td>1.000000</td>\n",
       "      <td>0.974584</td>\n",
       "      <td>1.0</td>\n",
       "      <td>1.641225</td>\n",
       "      <td>True</td>\n",
       "    </tr>\n",
       "  </tbody>\n",
       "</table>\n",
       "<p>75 rows × 19 columns</p>\n",
       "</div>"
      ],
      "text/plain": [
       "    subject  trial_count   likelihood         model  encoding_drift_rate  \\\n",
       "0         1          160  3013.122408  PrototypeCMR             0.736713   \n",
       "1         2          160  3318.961701  PrototypeCMR             0.544680   \n",
       "2         3          160  3075.297827  PrototypeCMR             0.642708   \n",
       "3         4          160  3578.520322  PrototypeCMR             0.521511   \n",
       "4         5          160  3470.013248  PrototypeCMR             0.726969   \n",
       "..      ...          ...          ...           ...                  ...   \n",
       "70       11          160  2868.267936    ICMR_1_1_1             0.736690   \n",
       "71       12          160  3438.192095    ICMR_1_1_1             0.606061   \n",
       "72       13          160  4009.977378    ICMR_1_1_1             0.733852   \n",
       "73       14          160  4218.955618    ICMR_1_1_1             0.644415   \n",
       "74       15          160  3247.826761    ICMR_1_1_1             0.706528   \n",
       "\n",
       "    start_drift_rate  recall_drift_rate  shared_support  item_support  \\\n",
       "0       5.033853e-02           0.710074        0.074711      1.000000   \n",
       "1       1.874331e-02           0.675270        0.673504      1.000000   \n",
       "2       3.177896e-02           0.685946        0.152677      1.000000   \n",
       "3       3.756549e-02           0.894233        0.277838      1.000000   \n",
       "4       1.309009e-02           0.692132        0.064097      1.000000   \n",
       "..               ...                ...             ...           ...   \n",
       "70      2.220446e-16           0.859030        0.006827      1.000000   \n",
       "71      2.220446e-16           0.853970        0.016992      0.921105   \n",
       "72      2.220446e-16           0.908976        0.008486      0.653560   \n",
       "73      2.459483e-02           0.898480        0.009604      1.000000   \n",
       "74      9.596838e-04           0.545596        0.008980      1.000000   \n",
       "\n",
       "    learning_rate  primacy_scale  primacy_decay  stop_probability_scale  \\\n",
       "0        0.183348       7.669491      41.202847                0.015269   \n",
       "1        0.051728      11.638512      48.297614                0.018706   \n",
       "2        0.114602       6.953879      82.509213                0.025094   \n",
       "3        0.096760       5.740585      40.354621                0.022544   \n",
       "4        0.126239      14.646225      71.234074                0.017354   \n",
       "..            ...            ...            ...                     ...   \n",
       "70       0.207068      29.393738      85.203021                0.034928   \n",
       "71       0.141250      77.253804      65.299682                0.022470   \n",
       "72       0.211957      28.582637      38.981321                0.009991   \n",
       "73       0.133817      30.636786       2.230046                0.010230   \n",
       "74       0.070092      12.245104      89.574129                0.024883   \n",
       "\n",
       "    stop_probability_growth  choice_sensitivity  delay_drift_rate  \\\n",
       "0                  0.365905            2.165687          0.000004   \n",
       "1                  0.325991           10.000000          0.936363   \n",
       "2                  0.298691            3.312915          0.870585   \n",
       "3                  0.265039            4.719189          0.943974   \n",
       "4                  0.300899            1.947423          0.843014   \n",
       "..                      ...                 ...               ...   \n",
       "70                 0.255407            1.000000          0.956916   \n",
       "71                 0.271112            1.000000          1.000000   \n",
       "72                 0.302477            1.000000          1.000000   \n",
       "73                 0.312666            1.000000          0.985370   \n",
       "74                 0.297914            1.000000          0.974584   \n",
       "\n",
       "    feature_sensitivity  context_sensitivity learn_first  \n",
       "0                   NaN                  NaN         NaN  \n",
       "1                   NaN                  NaN         NaN  \n",
       "2                   NaN                  NaN         NaN  \n",
       "3                   NaN                  NaN         NaN  \n",
       "4                   NaN                  NaN         NaN  \n",
       "..                  ...                  ...         ...  \n",
       "70                  1.0             1.676801        True  \n",
       "71                  1.0             2.586651        True  \n",
       "72                  1.0             2.077223        True  \n",
       "73                  1.0             1.638485        True  \n",
       "74                  1.0             1.641225        True  \n",
       "\n",
       "[75 rows x 19 columns]"
      ]
     },
     "execution_count": 6,
     "metadata": {},
     "output_type": "execute_result"
    }
   ],
   "source": [
    "individual_fits"
   ]
  },
  {
   "cell_type": "code",
   "execution_count": 7,
   "id": "9ed7ae6a",
   "metadata": {
    "execution": {
     "iopub.execute_input": "2022-06-01T00:37:57.608017Z",
     "iopub.status.busy": "2022-06-01T00:37:57.607196Z",
     "iopub.status.idle": "2022-06-01T00:37:57.689966Z",
     "shell.execute_reply": "2022-06-01T00:37:57.689252Z"
    },
    "papermill": {
     "duration": 0.131132,
     "end_time": "2022-06-01T00:37:57.691744",
     "exception": false,
     "start_time": "2022-06-01T00:37:57.560612",
     "status": "completed"
    },
    "tags": []
   },
   "outputs": [
    {
     "name": "stdout",
     "output_type": "stream",
     "text": [
      "::: {#fig-Murdock1962_NOT_LL40fits layout-nrow=2 layout-valign=\"center\"}\n",
      "\n",
      "![](results/individual_Murdock1962_NOT_LL40.pdf)\n",
      "\n",
      "|       |   ICMR_1_0_0 |   ICMR_1_0_1 |   ICMR_1_1_0 |   ICMR_1_1_1 |   PrototypeCMR |\n",
      "|:------|-------------:|-------------:|-------------:|-------------:|---------------:|\n",
      "| count |        15    |       15     |       15     |       15     |         15     |\n",
      "| mean  |      3324.52 |     3303.01  |     3389.66  |     3308.08  |       3297.25  |\n",
      "| std   |       532.39 |      526.668 |      591.361 |      523.792 |        539.095 |\n",
      "| min   |      2333.49 |     2318.27  |     2310.16  |     2315.79  |       2257.9   |\n",
      "| 25%   |      3035.3  |     3035.3   |     3039.21  |     3041.84  |       3044.21  |\n",
      "| 50%   |      3410.83 |     3362.05  |     3418.4   |     3365.49  |       3318.96  |\n",
      "| 75%   |      3625.27 |     3521.32  |     3627.1   |     3522.44  |       3524.27  |\n",
      "| max   |      4231.7  |     4231.74  |     4496.71  |     4218.96  |       4230.31  |\n",
      "\n",
      "Distribution of log-likelihood scores of recall sequences exhibited by each subject in dataset under each considered model.\n",
      ":::\n"
     ]
    }
   ],
   "source": [
    "#| code-summary: display markdown rendering of summary table\n",
    "#| echo: false\n",
    "#| input: false\n",
    "#| output: asis\n",
    "\n",
    "summary_table = pd.DataFrame(group.describe().rename(columns={'likelihood':name}).squeeze()\n",
    "            for name, group in individual_fits[['model', 'likelihood']].groupby('model')).T.to_markdown()\n",
    "\n",
    "print(\"\"\"::: {{#fig-{section_tag}fits layout-nrow=2 layout-valign=\"center\"}}\n",
    "\n",
    "![]({results_path}individual_{section_tag}.pdf)\n",
    "\n",
    "{summary_table}\n",
    "\n",
    "{individual_fits_caption}\n",
    ":::\"\"\".format(section_tag=section_tag, summary_table=summary_table, individual_fits_caption=figure_caption, results_path=results_path))"
   ]
  },
  {
   "cell_type": "code",
   "execution_count": 8,
   "id": "20c39d7d",
   "metadata": {
    "execution": {
     "iopub.execute_input": "2022-06-01T00:37:57.773666Z",
     "iopub.status.busy": "2022-06-01T00:37:57.772449Z",
     "iopub.status.idle": "2022-06-01T00:37:57.857088Z",
     "shell.execute_reply": "2022-06-01T00:37:57.856226Z"
    },
    "papermill": {
     "duration": 0.128982,
     "end_time": "2022-06-01T00:37:57.860361",
     "exception": false,
     "start_time": "2022-06-01T00:37:57.731379",
     "status": "completed"
    },
    "tags": []
   },
   "outputs": [
    {
     "name": "stdout",
     "output_type": "stream",
     "text": [
      "('PrototypeCMR', 'ICMR_1_0_0')\n",
      "Ttest_relResult(statistic=-1.1312941033878217, pvalue=0.2769385144145875)\n",
      "Ttest_relResult(statistic=-1.1312941033878217, pvalue=0.13846925720729375)\n",
      "Ttest_relResult(statistic=-1.1312941033878217, pvalue=0.8615307427927063)\n",
      "\n",
      "('PrototypeCMR', 'ICMR_1_0_1')\n",
      "Ttest_relResult(statistic=-0.8105381566539435, pvalue=0.4311942649198751)\n",
      "Ttest_relResult(statistic=-0.8105381566539435, pvalue=0.21559713245993756)\n",
      "Ttest_relResult(statistic=-0.8105381566539435, pvalue=0.7844028675400625)\n",
      "\n",
      "('PrototypeCMR', 'ICMR_1_1_0')\n",
      "Ttest_relResult(statistic=-2.026526758600059, pvalue=0.06219976405359719)\n",
      "Ttest_relResult(statistic=-2.026526758600059, pvalue=0.031099882026798593)\n",
      "Ttest_relResult(statistic=-2.026526758600059, pvalue=0.9689001179732014)\n",
      "\n",
      "('PrototypeCMR', 'ICMR_1_1_1')\n",
      "Ttest_relResult(statistic=-1.5350210779759206, pvalue=0.14706468276460252)\n",
      "Ttest_relResult(statistic=-1.5350210779759206, pvalue=0.07353234138230126)\n",
      "Ttest_relResult(statistic=-1.5350210779759206, pvalue=0.9264676586176988)\n",
      "\n",
      "('ICMR_1_0_0', 'ICMR_1_0_1')\n",
      "Ttest_relResult(statistic=1.0496820870132095, pvalue=0.31164742532428996)\n",
      "Ttest_relResult(statistic=1.0496820870132095, pvalue=0.844176287337855)\n",
      "Ttest_relResult(statistic=1.0496820870132095, pvalue=0.15582371266214498)\n",
      "\n",
      "('ICMR_1_0_0', 'ICMR_1_1_0')\n",
      "Ttest_relResult(statistic=-1.210200189794714, pvalue=0.24623929724859164)\n",
      "Ttest_relResult(statistic=-1.210200189794714, pvalue=0.12311964862429582)\n",
      "Ttest_relResult(statistic=-1.210200189794714, pvalue=0.8768803513757042)\n",
      "\n",
      "('ICMR_1_0_0', 'ICMR_1_1_1')\n",
      "Ttest_relResult(statistic=0.7943253745424499, pvalue=0.44026375787392136)\n",
      "Ttest_relResult(statistic=0.7943253745424499, pvalue=0.7798681210630394)\n",
      "Ttest_relResult(statistic=0.7943253745424499, pvalue=0.22013187893696068)\n",
      "\n",
      "('ICMR_1_0_1', 'ICMR_1_1_0')\n",
      "Ttest_relResult(statistic=-1.8101735906011889, pvalue=0.09178019945272596)\n",
      "Ttest_relResult(statistic=-1.8101735906011889, pvalue=0.04589009972636298)\n",
      "Ttest_relResult(statistic=-1.8101735906011889, pvalue=0.954109900273637)\n",
      "\n",
      "('ICMR_1_0_1', 'ICMR_1_1_1')\n",
      "Ttest_relResult(statistic=-2.129978938903311, pvalue=0.051395858255169916)\n",
      "Ttest_relResult(statistic=-2.129978938903311, pvalue=0.025697929127584958)\n",
      "Ttest_relResult(statistic=-2.129978938903311, pvalue=0.974302070872415)\n",
      "\n",
      "('ICMR_1_1_0', 'ICMR_1_1_1')\n",
      "Ttest_relResult(statistic=1.7304028991500906, pvalue=0.10552954226051912)\n",
      "Ttest_relResult(statistic=1.7304028991500906, pvalue=0.9472352288697404)\n",
      "Ttest_relResult(statistic=1.7304028991500906, pvalue=0.05276477113025956)\n",
      "\n"
     ]
    }
   ],
   "source": [
    "#| code-summary: perform t-tests on individual-level fits\n",
    "#| output: false\n",
    " \n",
    "from scipy.stats import ttest_rel\n",
    "import itertools\n",
    "\n",
    "for combination in itertools.combinations(pd.unique(individual_fits.model), 2):\n",
    "\n",
    "    print(combination)\n",
    "    print(ttest_rel(individual_fits[individual_fits.model == combination[0]].likelihood, individual_fits[individual_fits.model == combination[1]].likelihood, alternative='two-sided'))\n",
    "    print(ttest_rel(individual_fits[individual_fits.model == combination[0]].likelihood, individual_fits[individual_fits.model == combination[1]].likelihood, alternative='less'))\n",
    "    print(ttest_rel(individual_fits[individual_fits.model == combination[0]].likelihood, individual_fits[individual_fits.model == combination[1]].likelihood, alternative='greater'))\n",
    "    print()"
   ]
  },
  {
   "cell_type": "code",
   "execution_count": 9,
   "id": "ea29899f",
   "metadata": {
    "execution": {
     "iopub.execute_input": "2022-06-01T00:37:57.970023Z",
     "iopub.status.busy": "2022-06-01T00:37:57.969227Z",
     "iopub.status.idle": "2022-06-01T00:37:58.066199Z",
     "shell.execute_reply": "2022-06-01T00:37:58.065129Z"
    },
    "papermill": {
     "duration": 0.142087,
     "end_time": "2022-06-01T00:37:58.068852",
     "exception": false,
     "start_time": "2022-06-01T00:37:57.926765",
     "status": "completed"
    },
    "tags": []
   },
   "outputs": [
    {
     "name": "stdout",
     "output_type": "stream",
     "text": [
      "('PrototypeCMR', 'ICMR_1_0_0')\n"
     ]
    },
    {
     "name": "stdout",
     "output_type": "stream",
     "text": [
      "0.5333333333333333 0.4666666666666667\n",
      "8 7\n",
      "\n",
      "('PrototypeCMR', 'ICMR_1_0_1')\n",
      "0.5333333333333333 0.4666666666666667\n",
      "8 7\n",
      "\n",
      "('PrototypeCMR', 'ICMR_1_1_0')\n",
      "0.6 0.4\n",
      "9 6\n",
      "\n",
      "('PrototypeCMR', 'ICMR_1_1_1')\n",
      "0.5333333333333333 0.4666666666666667\n",
      "8 7\n",
      "\n",
      "('ICMR_1_0_0', 'ICMR_1_0_1')\n",
      "0.5333333333333333 0.4666666666666667\n",
      "8 7\n",
      "\n",
      "('ICMR_1_0_0', 'ICMR_1_1_0')\n",
      "0.8 0.2\n",
      "12 3\n",
      "\n",
      "('ICMR_1_0_0', 'ICMR_1_1_1')\n",
      "0.7333333333333333 0.26666666666666666\n",
      "11 4\n",
      "\n",
      "('ICMR_1_0_1', 'ICMR_1_1_0')\n",
      "0.8 0.2\n",
      "12 3\n",
      "\n",
      "('ICMR_1_0_1', 'ICMR_1_1_1')\n",
      "0.7333333333333333 0.26666666666666666\n",
      "11 4\n",
      "\n",
      "('ICMR_1_1_0', 'ICMR_1_1_1')\n",
      "0.6 0.4\n",
      "9 6\n",
      "\n"
     ]
    }
   ],
   "source": [
    "for combination in itertools.combinations(pd.unique(individual_fits.model), 2):\n",
    "\n",
    "    print(combination)\n",
    "    print(np.mean(individual_fits[individual_fits.model == combination[0]].likelihood.values < individual_fits[individual_fits.model == combination[1]].likelihood.values), \n",
    "        np.mean(individual_fits[individual_fits.model == combination[1]].likelihood.values < individual_fits[individual_fits.model == combination[0]].likelihood.values))\n",
    "\n",
    "    print(np.sum(individual_fits[individual_fits.model == combination[0]].likelihood.values < individual_fits[individual_fits.model == combination[1]].likelihood.values), \n",
    "        np.sum(individual_fits[individual_fits.model == combination[1]].likelihood.values < individual_fits[individual_fits.model == combination[0]].likelihood.values))\n",
    "\n",
    "    print()"
   ]
  },
  {
   "cell_type": "code",
   "execution_count": 10,
   "id": "8aa2e6e7",
   "metadata": {
    "execution": {
     "iopub.execute_input": "2022-06-01T00:37:58.169197Z",
     "iopub.status.busy": "2022-06-01T00:37:58.168929Z",
     "iopub.status.idle": "2022-06-01T00:37:58.626712Z",
     "shell.execute_reply": "2022-06-01T00:37:58.625782Z"
    },
    "papermill": {
     "duration": 0.504492,
     "end_time": "2022-06-01T00:37:58.629099",
     "exception": false,
     "start_time": "2022-06-01T00:37:58.124607",
     "status": "completed"
    },
    "tags": []
   },
   "outputs": [
    {
     "name": "stdout",
     "output_type": "stream",
     "text": [
      "[1.00000000e+000 2.17617458e-178 3.04226794e-038 0.00000000e+000\n",
      " 2.68481301e-071]\n"
     ]
    }
   ],
   "source": [
    "def model_weights(positive_log_likelihoods, number_parameters, N):\n",
    "    AIC = 2 * positive_log_likelihoods + 2 * number_parameters\n",
    "    AICc = AIC #+ (2*np.power(number_parameters, 2) + 2 * number_parameters) / (N - number_parameters - 2)\n",
    "    AICd = AIC - np.min(AICc)\n",
    "    #return AICd\n",
    "    AICw = np.exp(-.5 * AICd) / np.sum(np.exp(-.5 * AICd))\n",
    "    return AICw\n",
    "\n",
    "aicw = {'Model': [], 'Subject': [], 'AICw': []}\n",
    "\n",
    "total_nlns = np.zeros(len(models))\n",
    "for subject_index, subject in enumerate(pd.unique(events.subject)):\n",
    "\n",
    "    subject_specific_trial_mask = np.logical_and(\n",
    "                    generate_trial_mask(events, f'subject == {subject}'), trial_mask)\n",
    "\n",
    "    nlnLs = []\n",
    "    for model_index, model_class in enumerate(models):\n",
    "        nlnLs.append(\n",
    "            individual_fits[individual_fits.model == model_names[model_index]].likelihood.values[subject_index])\n",
    "    nlnLs = np.array(nlnLs)\n",
    "    total_nlns += nlnLs\n",
    "    \n",
    "    weights = model_weights(nlnLs, len(free_parameters[model_index]), np.sum(subject_specific_trial_mask))\n",
    "    #print(weights)\n",
    "    for model_index, model_class in enumerate(models):\n",
    "        aicw['Model'].append(model_names[model_index])\n",
    "        aicw['Subject'].append(subject)\n",
    "        aicw['AICw'].append(weights[model_index])\n",
    "\n",
    "aicw = pd.DataFrame(data=aicw)\n",
    "total_aicw = model_weights(total_nlns, len(free_parameters[model_index]), np.sum(trial_mask))\n",
    "print(total_aicw)"
   ]
  },
  {
   "cell_type": "code",
   "execution_count": 11,
   "id": "e46c6d5d",
   "metadata": {
    "execution": {
     "iopub.execute_input": "2022-06-01T00:37:58.720001Z",
     "iopub.status.busy": "2022-06-01T00:37:58.719637Z",
     "iopub.status.idle": "2022-06-01T00:37:59.143299Z",
     "shell.execute_reply": "2022-06-01T00:37:59.142588Z"
    },
    "papermill": {
     "duration": 0.469468,
     "end_time": "2022-06-01T00:37:59.145415",
     "exception": false,
     "start_time": "2022-06-01T00:37:58.675947",
     "status": "completed"
    },
    "tags": []
   },
   "outputs": [
    {
     "data": {
      "image/png": "[encoded data removed]",
      "text/plain": [
       "<Figure size 640x480 with 1 Axes>"
      ]
     },
     "metadata": {},
     "output_type": "display_data"
    }
   ],
   "source": [
    "import seaborn as sns\n",
    "sns.set_theme(style=\"darkgrid\")\n",
    "x = sns.pointplot(x=\"Model\", y=\"AICw\", data=aicw, join=False)\n",
    "\n",
    "plt.show()"
   ]
  },
  {
   "cell_type": "markdown",
   "id": "64887ac5",
   "metadata": {
    "tags": [
     "papermill-error-cell-tag"
    ]
   },
   "source": [
    "<span id=\"papermill-error-cell\" style=\"color:red; font-family:Helvetica Neue, Helvetica, Arial, sans-serif; font-size:2em;\">Execution using papermill encountered an exception here and stopped:</span>"
   ]
  },
  {
   "cell_type": "code",
   "execution_count": 12,
   "id": "c4e0de43",
   "metadata": {
    "execution": {
     "iopub.execute_input": "2022-06-01T00:37:59.232708Z",
     "iopub.status.busy": "2022-06-01T00:37:59.232350Z",
     "iopub.status.idle": "2022-06-01T00:38:00.456872Z",
     "shell.execute_reply": "2022-06-01T00:38:00.455898Z"
    },
    "papermill": {
     "duration": 1.272377,
     "end_time": "2022-06-01T00:38:00.460816",
     "exception": true,
     "start_time": "2022-06-01T00:37:59.188439",
     "status": "failed"
    },
    "tags": []
   },
   "outputs": [
    {
     "ename": "NameError",
     "evalue": "name 'simulate_df_from_events' is not defined",
     "output_type": "error",
     "traceback": [
      "\u001b[0;31m---------------------------------------------------------------------------\u001b[0m",
      "\u001b[0;31mNameError\u001b[0m                                 Traceback (most recent call last)",
      "Input \u001b[0;32mIn [12]\u001b[0m, in \u001b[0;36m<cell line: 7>\u001b[0;34m()\u001b[0m\n\u001b[1;32m     36\u001b[0m     fitted_parameters[key] \u001b[38;5;241m=\u001b[39m fixed_parameters[model_index][key]\n\u001b[1;32m     38\u001b[0m \u001b[38;5;66;03m# simulate df based on specified trial_count and experiment_count\u001b[39;00m\n\u001b[1;32m     39\u001b[0m \u001b[38;5;66;03m#model = model_class(list_length, list_length, fitted_parameters)\u001b[39;00m\n\u001b[0;32m---> 40\u001b[0m sim_dfs\u001b[38;5;241m.\u001b[39mappend(\u001b[43msimulate_df_from_events\u001b[49m(model, fit_result[\u001b[38;5;124m'\u001b[39m\u001b[38;5;124mtrial_count\u001b[39m\u001b[38;5;124m'\u001b[39m]\u001b[38;5;241m.\u001b[39mvalues[\u001b[38;5;241m0\u001b[39m] \u001b[38;5;241m*\u001b[39m experiment_count))\n\u001b[1;32m     41\u001b[0m sim_dfs[\u001b[38;5;241m-\u001b[39m\u001b[38;5;241m1\u001b[39m]\u001b[38;5;241m.\u001b[39mlist \u001b[38;5;241m=\u001b[39m sim_dfs[\u001b[38;5;241m-\u001b[39m\u001b[38;5;241m1\u001b[39m]\u001b[38;5;241m.\u001b[39msubject\n\u001b[1;32m     42\u001b[0m sim_dfs[\u001b[38;5;241m-\u001b[39m\u001b[38;5;241m1\u001b[39m]\u001b[38;5;241m.\u001b[39msubject \u001b[38;5;241m=\u001b[39m subject\n",
      "\u001b[0;31mNameError\u001b[0m: name 'simulate_df_from_events' is not defined"
     ]
    }
   ],
   "source": [
    "sns.set(style='darkgrid')\n",
    "\n",
    "# for each unique list length\n",
    "if not (isinstance(list_lengths, list) or isinstance(list_lengths, List)): \n",
    "    list_lengths = [list_lengths]\n",
    "\n",
    "for list_length in list_lengths:\n",
    "\n",
    "    #fig, axes = plt.subplots(nrows=len(models), ncols=3, figsize=(15, int(4*len(models))), sharey=False)\n",
    "    \n",
    "    # for each unique model\n",
    "    for model_index, model_class in enumerate(models):\n",
    "\n",
    "        # load sim_df from csv if it exists\n",
    "        sim_df_path = results_path + '{}_{}_ll{}_sim_df.csv'.format(section_tag, model_names[model_index], list_length)\n",
    "        if os.path.isfile(sim_df_path):\n",
    "            sim_df = pd.read_csv(sim_df_path)\n",
    "            print('sim_df for {} with tag {} and list length {} already exists'.format(model_names[model_index], section_tag, list_length))\n",
    "\n",
    "        # otherwise, generate it\n",
    "        else:\n",
    "\n",
    "            # for each unique matching entry in individual df\n",
    "            sim_dfs = []\n",
    "            for subject in pd.unique(individual_fits.subject):\n",
    "                \n",
    "                fit_result = individual_fits.query(f'subject == {subject} & model == \"{model_names[model_index]}\"')\n",
    "\n",
    "                # configure model based on specified parameters\n",
    "                fitted_parameters = Dict.empty(\n",
    "                    key_type=types.unicode_type, value_type=types.float64\n",
    "                )\n",
    "                for i in range(len(free_parameters[model_index])):\n",
    "                    fitted_parameters[free_parameters[model_index][i]] = fit_result[free_parameters[model_index][i]].values[0]\n",
    "                for key in fixed_parameters[model_index]:\n",
    "                    fitted_parameters[key] = fixed_parameters[model_index][key]\n",
    "\n",
    "                # simulate df based on specified trial_count and experiment_count\n",
    "                #model = model_class(list_length, list_length, fitted_parameters)\n",
    "                sim_dfs.append(simulate_df_from_events(model, fit_result['trial_count'].values[0] * experiment_count))\n",
    "                sim_dfs[-1].list = sim_dfs[-1].subject\n",
    "                sim_dfs[-1].subject = subject\n",
    "\n",
    "            # concatenate simulations into one dataframe\n",
    "            sim_df = pd.concat(sim_dfs)\n",
    "\n",
    "            # save sim_df to csv\n",
    "            sim_df.to_csv(results_path +'{}_{}_ll{}_sim_df.csv'.format(section_tag, model_names[model_index], list_length), index=False)\n",
    "\n",
    "        # design general filter for analysis df\n",
    "        if len(list_lengths) > 1:\n",
    "            analysis_query = trial_query + f' & list_length == {list_length}'\n",
    "        else:\n",
    "            analysis_query = trial_query\n",
    "\n",
    "        # generate plot for each parametrized analysis and model\n",
    "        for analysis_index, analysis_function in enumerate(analyses):\n",
    "            analysis_name = analysis_names[analysis_index]\n",
    "            axis = analysis_function(\n",
    "                [events, sim_df], analysis_query, contrast_name=\"source\", labels=[\"data\", model_names[model_index]])\n",
    "            plt.savefig(results_path+'{}_{}_ll{}_{}.pdf'.format(section_tag, model_names[model_index], list_length, analysis_name), bbox_inches=\"tight\")"
   ]
  },
  {
   "cell_type": "code",
   "execution_count": null,
   "id": "4766551d",
   "metadata": {
    "papermill": {
     "duration": null,
     "end_time": null,
     "exception": null,
     "start_time": null,
     "status": "pending"
    },
    "tags": []
   },
   "outputs": [],
   "source": []
  }
 ],
 "metadata": {
  "interpreter": {
   "hash": "19d1d53a962d236aa061289c2ac16dc8e6d9648c89fe79f459ae9a3493bc67b4"
  },
  "kernelspec": {
   "display_name": "Python 3.9.1 ('base')",
   "language": "python",
   "name": "python3"
  },
  "language_info": {
   "codemirror_mode": {
    "name": "ipython",
    "version": 3
   },
   "file_extension": ".py",
   "mimetype": "text/x-python",
   "name": "python",
   "nbconvert_exporter": "python",
   "pygments_lexer": "ipython3",
   "version": "3.8.6"
  },
  "papermill": {
   "default_parameters": {},
   "duration": 18755.795932,
   "end_time": "2022-06-01T00:38:02.174931",
   "environment_variables": {},
   "exception": true,
   "input_path": "Subjectwise_Model_Evaluation.ipynb",
   "output_path": "reports/Subjectwise_Model_Evaluation_Single_Murdock1962_NOT_LL40.ipynb",
   "parameters": {
    "bounds": [
     [
      [
       2.220446049250313e-16,
       0.9999999999999998
      ],
      [
       2.220446049250313e-16,
       0.9999999999999998
      ],
      [
       2.220446049250313e-16,
       0.9999999999999998
      ],
      [
       2.220446049250313e-16,
       0.9999999999999998
      ],
      [
       2.220446049250313e-16,
       0.9999999999999998
      ],
      [
       2.220446049250313e-16,
       0.9999999999999998
      ],
      [
       2.220446049250313e-16,
       100
      ],
      [
       2.220446049250313e-16,
       100
      ],
      [
       2.220446049250313e-16,
       0.9999999999999998
      ],
      [
       2.220446049250313e-16,
       10
      ],
      [
       2.220446049250313e-16,
       10
      ],
      [
       2.220446049250313e-16,
       0.9999999999999998
      ]
     ],
     [
      [
       2.220446049250313e-16,
       0.9999999999999998
      ],
      [
       2.220446049250313e-16,
       0.9999999999999998
      ],
      [
       2.220446049250313e-16,
       0.9999999999999998
      ],
      [
       2.220446049250313e-16,
       0.9999999999999998
      ],
      [
       2.220446049250313e-16,
       0.9999999999999998
      ],
      [
       2.220446049250313e-16,
       0.9999999999999998
      ],
      [
       2.220446049250313e-16,
       100
      ],
      [
       2.220446049250313e-16,
       100
      ],
      [
       2.220446049250313e-16,
       0.9999999999999998
      ],
      [
       2.220446049250313e-16,
       10
      ],
      [
       2.220446049250313e-16,
       10
      ],
      [
       2.220446049250313e-16,
       0.9999999999999998
      ]
     ],
     [
      [
       2.220446049250313e-16,
       0.9999999999999998
      ],
      [
       2.220446049250313e-16,
       0.9999999999999998
      ],
      [
       2.220446049250313e-16,
       0.9999999999999998
      ],
      [
       2.220446049250313e-16,
       0.9999999999999998
      ],
      [
       2.220446049250313e-16,
       0.9999999999999998
      ],
      [
       2.220446049250313e-16,
       0.9999999999999998
      ],
      [
       2.220446049250313e-16,
       100
      ],
      [
       2.220446049250313e-16,
       100
      ],
      [
       2.220446049250313e-16,
       0.9999999999999998
      ],
      [
       2.220446049250313e-16,
       10
      ],
      [
       2.220446049250313e-16,
       10
      ],
      [
       2.220446049250313e-16,
       0.9999999999999998
      ]
     ],
     [
      [
       2.220446049250313e-16,
       0.9999999999999998
      ],
      [
       2.220446049250313e-16,
       0.9999999999999998
      ],
      [
       2.220446049250313e-16,
       0.9999999999999998
      ],
      [
       2.220446049250313e-16,
       0.9999999999999998
      ],
      [
       2.220446049250313e-16,
       0.9999999999999998
      ],
      [
       2.220446049250313e-16,
       0.9999999999999998
      ],
      [
       2.220446049250313e-16,
       100
      ],
      [
       2.220446049250313e-16,
       100
      ],
      [
       2.220446049250313e-16,
       0.9999999999999998
      ],
      [
       2.220446049250313e-16,
       10
      ],
      [
       2.220446049250313e-16,
       10
      ],
      [
       2.220446049250313e-16,
       0.9999999999999998
      ]
     ],
     [
      [
       2.220446049250313e-16,
       0.9999999999999998
      ],
      [
       2.220446049250313e-16,
       0.9999999999999998
      ],
      [
       2.220446049250313e-16,
       0.9999999999999998
      ],
      [
       2.220446049250313e-16,
       0.9999999999999998
      ],
      [
       2.220446049250313e-16,
       0.9999999999999998
      ],
      [
       2.220446049250313e-16,
       0.9999999999999998
      ],
      [
       2.220446049250313e-16,
       100
      ],
      [
       2.220446049250313e-16,
       100
      ],
      [
       2.220446049250313e-16,
       0.9999999999999998
      ],
      [
       2.220446049250313e-16,
       10
      ],
      [
       2.220446049250313e-16,
       10
      ],
      [
       2.220446049250313e-16,
       0.9999999999999998
      ]
     ]
    ],
    "data_path": "data/Murdock1962.csv",
    "fixed_parameters": [
     {},
     {
      "context_sensitivity": 1,
      "feature_sensitivity": 1,
      "learn_first": false
     },
     {
      "context_sensitivity": 1,
      "feature_sensitivity": 1,
      "learn_first": true
     },
     {
      "choice_sensitivity": 1,
      "feature_sensitivity": 1,
      "learn_first": false
     },
     {
      "choice_sensitivity": 1,
      "feature_sensitivity": 1,
      "learn_first": true
     }
    ],
    "free_parameters": [
     [
      "encoding_drift_rate",
      "start_drift_rate",
      "recall_drift_rate",
      "shared_support",
      "item_support",
      "learning_rate",
      "primacy_scale",
      "primacy_decay",
      "stop_probability_scale",
      "stop_probability_growth",
      "choice_sensitivity",
      "delay_drift_rate"
     ],
     [
      "encoding_drift_rate",
      "start_drift_rate",
      "recall_drift_rate",
      "shared_support",
      "item_support",
      "learning_rate",
      "primacy_scale",
      "primacy_decay",
      "stop_probability_scale",
      "stop_probability_growth",
      "choice_sensitivity",
      "delay_drift_rate"
     ],
     [
      "encoding_drift_rate",
      "start_drift_rate",
      "recall_drift_rate",
      "shared_support",
      "item_support",
      "learning_rate",
      "primacy_scale",
      "primacy_decay",
      "stop_probability_scale",
      "stop_probability_growth",
      "choice_sensitivity",
      "delay_drift_rate"
     ],
     [
      "encoding_drift_rate",
      "start_drift_rate",
      "recall_drift_rate",
      "shared_support",
      "item_support",
      "learning_rate",
      "primacy_scale",
      "primacy_decay",
      "stop_probability_scale",
      "stop_probability_growth",
      "context_sensitivity",
      "delay_drift_rate"
     ],
     [
      "encoding_drift_rate",
      "start_drift_rate",
      "recall_drift_rate",
      "shared_support",
      "item_support",
      "learning_rate",
      "primacy_scale",
      "primacy_decay",
      "stop_probability_scale",
      "stop_probability_growth",
      "context_sensitivity",
      "delay_drift_rate"
     ]
    ],
    "model_names": [
     "PrototypeCMR",
     "ICMR_1_0_0",
     "ICMR_1_0_1",
     "ICMR_1_1_0",
     "ICMR_1_1_1"
    ],
    "model_paths": [
     "compmemlearn.models.Base_CMR",
     "compmemlearn.models.Single_ICMR",
     "compmemlearn.models.Single_ICMR",
     "compmemlearn.models.Single_ICMR",
     "compmemlearn.models.Single_ICMR"
    ],
    "section_tag": "Murdock1962_NOT_LL40",
    "trial_query": "`list length` != 40"
   },
   "start_time": "2022-05-31T19:25:26.378999",
   "version": "2.3.4"
  }
 },
 "nbformat": 4,
 "nbformat_minor": 5
}
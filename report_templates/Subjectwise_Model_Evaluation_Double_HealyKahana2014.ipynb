{
 "cells": [
  {
   "cell_type": "markdown",
   "id": "5e3576ab",
   "metadata": {
    "tags": [
     "papermill-error-cell-tag"
    ]
   },
   "source": [
    "<span style=\"color:red; font-family:Helvetica Neue, Helvetica, Arial, sans-serif; font-size:2em;\">An Exception was encountered at '<a href=\"#papermill-error-cell\">In [4]</a>'.</span>"
   ]
  },
  {
   "cell_type": "code",
   "execution_count": 1,
   "id": "4359a6e7",
   "metadata": {
    "execution": {
     "iopub.execute_input": "2022-05-30T14:42:22.839581Z",
     "iopub.status.busy": "2022-05-30T14:42:22.838988Z",
     "iopub.status.idle": "2022-05-30T14:42:34.801891Z",
     "shell.execute_reply": "2022-05-30T14:42:34.800496Z"
    },
    "papermill": {
     "duration": 11.996522,
     "end_time": "2022-05-30T14:42:34.805973",
     "exception": false,
     "start_time": "2022-05-30T14:42:22.809451",
     "status": "completed"
    },
    "tags": [
     "parameters"
    ]
   },
   "outputs": [],
   "source": [
    "# | code-summary: code -- load dependencies and data and select parameters\n",
    "\n",
    "from compmemlearn.fitting import generate_objective_function\n",
    "from compmemlearn.datasets import events_metadata, simulate_df, generate_trial_mask\n",
    "from scipy.optimize import differential_evolution\n",
    "from numba.typed import List, Dict\n",
    "from numba.core import types\n",
    "from numba import njit\n",
    "from psifr import fr\n",
    "import pandas as pd\n",
    "import numpy as np\n",
    "import seaborn as sns\n",
    "import matplotlib.pyplot as plt\n",
    "import importlib\n",
    "import os\n",
    "\n",
    "lb = np.finfo(float).eps\n",
    "ub = 1 - np.finfo(float).eps\n",
    "\n",
    "figure_caption = \"\"\"Distribution of log-likelihood scores of recall sequences exhibited by each subject in dataset under each considered model.\"\"\"\n",
    "\n",
    "section_tag = \"LohnasCondition1\"\n",
    "\n",
    "data_path = \"../data/LohnasKahana2014.csv\"\n",
    "results_path = \"results/\"\n",
    "trial_query = \"condition == 1\"\n",
    "\n",
    "model_paths = [\"compmemlearn.models.Classic_CMR\", \"compmemlearn.models.Instance_CMR\", \"compmemlearn.models.Dual_Instance_CMR\"]\n",
    "\n",
    "model_names = [\"PrototypeCMR\", \"InstanceCMR\", \"Dual Memory ICMR\"]\n",
    "\n",
    "free_parameters = [\n",
    "    [\n",
    "        \"encoding_drift_rate\",\n",
    "        \"start_drift_rate\",\n",
    "        \"recall_drift_rate\",\n",
    "        \"shared_support\",\n",
    "        \"item_support\",\n",
    "        \"learning_rate\",\n",
    "        \"primacy_scale\",\n",
    "        \"primacy_decay\",\n",
    "        \"stop_probability_scale\",\n",
    "        \"stop_probability_growth\",\n",
    "        \"choice_sensitivity\",\n",
    "        \"delay_drift_rate\",\n",
    "    ],\n",
    "    [\n",
    "        \"encoding_drift_rate\",\n",
    "        \"start_drift_rate\",\n",
    "        \"recall_drift_rate\",\n",
    "        \"shared_support\",\n",
    "        \"item_support\",\n",
    "        \"learning_rate\",\n",
    "        \"primacy_scale\",\n",
    "        \"primacy_decay\",\n",
    "        \"stop_probability_scale\",\n",
    "        \"stop_probability_growth\",\n",
    "        #    'choice_sensitivity',\n",
    "        \"context_sensitivity\",\n",
    "        #    'feature_sensitivity'\n",
    "        \"delay_drift_rate\",\n",
    "    ],\n",
    "    [\n",
    "        \"encoding_drift_rate\",\n",
    "        \"start_drift_rate\",\n",
    "        \"recall_drift_rate\",\n",
    "        \"shared_support\",\n",
    "        \"item_support\",\n",
    "        \"learning_rate\",\n",
    "        \"primacy_scale\",\n",
    "        \"primacy_decay\",\n",
    "        \"stop_probability_scale\",\n",
    "        \"stop_probability_growth\",\n",
    "        #    'choice_sensitivity',\n",
    "        \"context_sensitivity\",\n",
    "        #    'feature_sensitivity'\n",
    "        \"delay_drift_rate\",\n",
    "    ],\n",
    "]\n",
    "\n",
    "bounds = [\n",
    "    [\n",
    "        [lb, ub],\n",
    "        [lb, ub],\n",
    "        [lb, ub],\n",
    "        [lb, ub],\n",
    "        [lb, ub],\n",
    "        [lb, ub],\n",
    "        [lb, 100],\n",
    "        [lb, 100],\n",
    "        [lb, ub],\n",
    "        [lb, 10],\n",
    "        [lb, 10],\n",
    "        [lb, ub],\n",
    "    ],\n",
    "    [\n",
    "        [lb, ub],\n",
    "        [lb, ub],\n",
    "        [lb, ub],\n",
    "        [lb, ub],\n",
    "        [lb, ub],\n",
    "        [lb, ub],\n",
    "        [lb, 100],\n",
    "        [lb, 100],\n",
    "        [lb, ub],\n",
    "        [lb, 10],\n",
    "        [lb, 10],\n",
    "        [lb, ub],\n",
    "    ],\n",
    "    [\n",
    "        [lb, ub],\n",
    "        [lb, ub],\n",
    "        [lb, ub],\n",
    "        [lb, ub],\n",
    "        [lb, ub],\n",
    "        [lb, ub],\n",
    "        [lb, 100],\n",
    "        [lb, 100],\n",
    "        [lb, ub],\n",
    "        [lb, 10],\n",
    "        [lb, 10],\n",
    "        [lb, ub],\n",
    "    ],\n",
    "]\n",
    "\n",
    "fixed_parameters = [\n",
    "    {'sampling_rule': 0, 'mfc_familiarity_scale': 0, \n",
    "         'mcf_familiarity_scale': 0, 'drift_familiarity_scale': 0}, \n",
    "    {\"choice_sensitivity\": 1, \"feature_sensitivity\": 1, 'mfc_familiarity_scale': 0, \n",
    "         'mcf_familiarity_scale': 0, 'drift_familiarity_scale': 0},\n",
    "    {\"choice_sensitivity\": 1, \"feature_sensitivity\": 1, 'mfc_familiarity_scale': 0, \n",
    "         'mcf_familiarity_scale': 0, 'drift_familiarity_scale': 0},\n",
    "]\n",
    "\n",
    "analysis_paths = ['compmemlearn.analyses.plot_spc', 'compmemlearn.analyses.plot_crp', 'compmemlearn.analyses.plot_pfr']\n",
    "analysis_names = ['spc', 'crp', 'pfr']\n",
    "\n",
    "experiment_count = 100\n"
   ]
  },
  {
   "cell_type": "code",
   "execution_count": 2,
   "id": "36992b5c",
   "metadata": {
    "execution": {
     "iopub.execute_input": "2022-05-30T14:42:34.869879Z",
     "iopub.status.busy": "2022-05-30T14:42:34.869121Z",
     "iopub.status.idle": "2022-05-30T14:42:34.915628Z",
     "shell.execute_reply": "2022-05-30T14:42:34.914592Z"
    },
    "papermill": {
     "duration": 0.075996,
     "end_time": "2022-05-30T14:42:34.918211",
     "exception": false,
     "start_time": "2022-05-30T14:42:34.842215",
     "status": "completed"
    },
    "tags": [
     "injected-parameters"
    ]
   },
   "outputs": [],
   "source": [
    "# Parameters\n",
    "data_path = \"../data/HealyKahana2014.csv\"\n",
    "trial_query = \"task == -1\"\n",
    "model_paths = [\n",
    "    \"compmemlearn.models.Base_CMR\",\n",
    "    \"compmemlearn.models.Dual_ICMR\",\n",
    "    \"compmemlearn.models.Dual_ICMR\",\n",
    "    \"compmemlearn.models.Dual_ICMR\",\n",
    "    \"compmemlearn.models.Dual_ICMR\",\n",
    "]\n",
    "model_names = [\"PrototypeCMR\", \"ICMR_2_0_0\", \"ICMR_2_0_1\", \"ICMR_2_1_0\", \"ICMR_2_1_1\"]\n",
    "free_parameters = [\n",
    "    [\n",
    "        \"encoding_drift_rate\",\n",
    "        \"start_drift_rate\",\n",
    "        \"recall_drift_rate\",\n",
    "        \"shared_support\",\n",
    "        \"item_support\",\n",
    "        \"learning_rate\",\n",
    "        \"primacy_scale\",\n",
    "        \"primacy_decay\",\n",
    "        \"stop_probability_scale\",\n",
    "        \"stop_probability_growth\",\n",
    "        \"choice_sensitivity\",\n",
    "        \"delay_drift_rate\",\n",
    "    ],\n",
    "    [\n",
    "        \"encoding_drift_rate\",\n",
    "        \"start_drift_rate\",\n",
    "        \"recall_drift_rate\",\n",
    "        \"shared_support\",\n",
    "        \"item_support\",\n",
    "        \"learning_rate\",\n",
    "        \"primacy_scale\",\n",
    "        \"primacy_decay\",\n",
    "        \"stop_probability_scale\",\n",
    "        \"stop_probability_growth\",\n",
    "        \"choice_sensitivity\",\n",
    "        \"delay_drift_rate\",\n",
    "    ],\n",
    "    [\n",
    "        \"encoding_drift_rate\",\n",
    "        \"start_drift_rate\",\n",
    "        \"recall_drift_rate\",\n",
    "        \"shared_support\",\n",
    "        \"item_support\",\n",
    "        \"learning_rate\",\n",
    "        \"primacy_scale\",\n",
    "        \"primacy_decay\",\n",
    "        \"stop_probability_scale\",\n",
    "        \"stop_probability_growth\",\n",
    "        \"choice_sensitivity\",\n",
    "        \"delay_drift_rate\",\n",
    "    ],\n",
    "    [\n",
    "        \"encoding_drift_rate\",\n",
    "        \"start_drift_rate\",\n",
    "        \"recall_drift_rate\",\n",
    "        \"shared_support\",\n",
    "        \"item_support\",\n",
    "        \"learning_rate\",\n",
    "        \"primacy_scale\",\n",
    "        \"primacy_decay\",\n",
    "        \"stop_probability_scale\",\n",
    "        \"stop_probability_growth\",\n",
    "        \"context_sensitivity\",\n",
    "        \"delay_drift_rate\",\n",
    "    ],\n",
    "    [\n",
    "        \"encoding_drift_rate\",\n",
    "        \"start_drift_rate\",\n",
    "        \"recall_drift_rate\",\n",
    "        \"shared_support\",\n",
    "        \"item_support\",\n",
    "        \"learning_rate\",\n",
    "        \"primacy_scale\",\n",
    "        \"primacy_decay\",\n",
    "        \"stop_probability_scale\",\n",
    "        \"stop_probability_growth\",\n",
    "        \"context_sensitivity\",\n",
    "        \"delay_drift_rate\",\n",
    "    ],\n",
    "]\n",
    "bounds = [\n",
    "    [\n",
    "        [2.220446049250313e-16, 0.9999999999999998],\n",
    "        [2.220446049250313e-16, 0.9999999999999998],\n",
    "        [2.220446049250313e-16, 0.9999999999999998],\n",
    "        [2.220446049250313e-16, 0.9999999999999998],\n",
    "        [2.220446049250313e-16, 0.9999999999999998],\n",
    "        [2.220446049250313e-16, 0.9999999999999998],\n",
    "        [2.220446049250313e-16, 100],\n",
    "        [2.220446049250313e-16, 100],\n",
    "        [2.220446049250313e-16, 0.9999999999999998],\n",
    "        [2.220446049250313e-16, 10],\n",
    "        [2.220446049250313e-16, 10],\n",
    "        [2.220446049250313e-16, 0.9999999999999998],\n",
    "    ],\n",
    "    [\n",
    "        [2.220446049250313e-16, 0.9999999999999998],\n",
    "        [2.220446049250313e-16, 0.9999999999999998],\n",
    "        [2.220446049250313e-16, 0.9999999999999998],\n",
    "        [2.220446049250313e-16, 0.9999999999999998],\n",
    "        [2.220446049250313e-16, 0.9999999999999998],\n",
    "        [2.220446049250313e-16, 0.9999999999999998],\n",
    "        [2.220446049250313e-16, 100],\n",
    "        [2.220446049250313e-16, 100],\n",
    "        [2.220446049250313e-16, 0.9999999999999998],\n",
    "        [2.220446049250313e-16, 10],\n",
    "        [2.220446049250313e-16, 10],\n",
    "        [2.220446049250313e-16, 0.9999999999999998],\n",
    "    ],\n",
    "    [\n",
    "        [2.220446049250313e-16, 0.9999999999999998],\n",
    "        [2.220446049250313e-16, 0.9999999999999998],\n",
    "        [2.220446049250313e-16, 0.9999999999999998],\n",
    "        [2.220446049250313e-16, 0.9999999999999998],\n",
    "        [2.220446049250313e-16, 0.9999999999999998],\n",
    "        [2.220446049250313e-16, 0.9999999999999998],\n",
    "        [2.220446049250313e-16, 100],\n",
    "        [2.220446049250313e-16, 100],\n",
    "        [2.220446049250313e-16, 0.9999999999999998],\n",
    "        [2.220446049250313e-16, 10],\n",
    "        [2.220446049250313e-16, 10],\n",
    "        [2.220446049250313e-16, 0.9999999999999998],\n",
    "    ],\n",
    "    [\n",
    "        [2.220446049250313e-16, 0.9999999999999998],\n",
    "        [2.220446049250313e-16, 0.9999999999999998],\n",
    "        [2.220446049250313e-16, 0.9999999999999998],\n",
    "        [2.220446049250313e-16, 0.9999999999999998],\n",
    "        [2.220446049250313e-16, 0.9999999999999998],\n",
    "        [2.220446049250313e-16, 0.9999999999999998],\n",
    "        [2.220446049250313e-16, 100],\n",
    "        [2.220446049250313e-16, 100],\n",
    "        [2.220446049250313e-16, 0.9999999999999998],\n",
    "        [2.220446049250313e-16, 10],\n",
    "        [2.220446049250313e-16, 10],\n",
    "        [2.220446049250313e-16, 0.9999999999999998],\n",
    "    ],\n",
    "    [\n",
    "        [2.220446049250313e-16, 0.9999999999999998],\n",
    "        [2.220446049250313e-16, 0.9999999999999998],\n",
    "        [2.220446049250313e-16, 0.9999999999999998],\n",
    "        [2.220446049250313e-16, 0.9999999999999998],\n",
    "        [2.220446049250313e-16, 0.9999999999999998],\n",
    "        [2.220446049250313e-16, 0.9999999999999998],\n",
    "        [2.220446049250313e-16, 100],\n",
    "        [2.220446049250313e-16, 100],\n",
    "        [2.220446049250313e-16, 0.9999999999999998],\n",
    "        [2.220446049250313e-16, 10],\n",
    "        [2.220446049250313e-16, 10],\n",
    "        [2.220446049250313e-16, 0.9999999999999998],\n",
    "    ],\n",
    "]\n",
    "fixed_parameters = [\n",
    "    {},\n",
    "    {\"feature_sensitivity\": 1, \"context_sensitivity\": 1, \"learn_first\": False},\n",
    "    {\"feature_sensitivity\": 1, \"context_sensitivity\": 1, \"learn_first\": True},\n",
    "    {\"feature_sensitivity\": 1, \"choice_sensitivity\": 1, \"learn_first\": False},\n",
    "    {\"feature_sensitivity\": 1, \"choice_sensitivity\": 1,\"learn_first\": True},\n",
    "]\n",
    "section_tag = \"HealyKahana2014\"\n"
   ]
  },
  {
   "cell_type": "code",
   "execution_count": 3,
   "id": "1d50c964",
   "metadata": {
    "execution": {
     "iopub.execute_input": "2022-05-30T14:42:34.965796Z",
     "iopub.status.busy": "2022-05-30T14:42:34.965468Z",
     "iopub.status.idle": "2022-05-30T14:44:41.106147Z",
     "shell.execute_reply": "2022-05-30T14:44:41.104981Z"
    },
    "papermill": {
     "duration": 126.214942,
     "end_time": "2022-05-30T14:44:41.155884",
     "exception": false,
     "start_time": "2022-05-30T14:42:34.940942",
     "status": "completed"
    },
    "tags": []
   },
   "outputs": [
    {
     "name": "stdout",
     "output_type": "stream",
     "text": [
      "<function murdock_objective_function.<locals>.objective_function at 0x000002C3334DA8B0>\n",
      "1698.9503048991123\n",
      "10813.096016735148\n",
      "<function murdock_objective_function.<locals>.objective_function at 0x000002C333DC68B0>\n",
      "1698.9503048991123\n",
      "10813.096016735148\n",
      "<function murdock_objective_function.<locals>.objective_function at 0x000002C3342B1430>\n",
      "1698.9503048991123\n",
      "10813.096016735148\n",
      "<function murdock_objective_function.<locals>.objective_function at 0x000002C33B217940>\n",
      "1698.9503048991123\n",
      "10813.096016735148\n",
      "<function murdock_objective_function.<locals>.objective_function at 0x000002C3342B1430>\n",
      "1698.9503048991123\n",
      "10813.096016735148\n",
      "dependencies and parameters validated\n"
     ]
    }
   ],
   "source": [
    "#| code-summary: code -- test that specified parameters are valid\n",
    "#| output: false\n",
    "\n",
    "events = pd.read_csv(data_path)\n",
    "\n",
    "trials, list_lengths, presentations = events_metadata(events)\n",
    "trial_mask = generate_trial_mask(events, trial_query)\n",
    "\n",
    "# import models from specified source\n",
    "models = []\n",
    "for i in range(len(model_paths)):\n",
    "    module_name, model_name = model_paths[i].rsplit('.',1) #TODO: add handling for case with no `.`\n",
    "    module = importlib.import_module(module_name)\n",
    "    models.append(getattr(module, model_name))\n",
    "\n",
    "# import analyses from specified source\n",
    "analyses = []\n",
    "for i in range(len(analysis_paths)):\n",
    "    module_name, analysis_name = analysis_paths[i].rsplit('.',1) #TODO: add handling for case with no `.`\n",
    "    module = importlib.import_module(module_name)\n",
    "    analyses.append(getattr(module, analysis_name))\n",
    "\n",
    "# make sure model initializes with provided parameters and boundaries\n",
    "for model_index, model_class in enumerate(models):\n",
    "\n",
    "    @njit(fastmath=True, nogil=True)\n",
    "    def init_model(item_count, presentation_count, parameters):\n",
    "        return model_class(item_count, presentation_count, parameters)\n",
    "\n",
    "    subject_specific_trial_mask = np.logical_and(\n",
    "                generate_trial_mask(events, f'subject == {pd.unique(events.subject)[0]}'), trial_mask)\n",
    "\n",
    "    cost_function = generate_objective_function(\n",
    "        [trials[i][subject_specific_trial_mask[i]] for i in range(len(trials))],\n",
    "        [presentations[i][subject_specific_trial_mask[i]] for i in range(len(presentations))],\n",
    "        list_lengths,\n",
    "        init_model,\n",
    "        fixed_parameters[model_index],\n",
    "        free_parameters[model_index],\n",
    "    )\n",
    "    print(cost_function)\n",
    "    \n",
    "    for boundary_index in range(2):\n",
    "        x = np.array([each[boundary_index] for each in bounds[model_index]])\n",
    "        assert(len(x) == len(free_parameters[model_index])) \n",
    "\n",
    "        # parameter configuration\n",
    "        parameters = Dict.empty(key_type=types.unicode_type, value_type=types.float64)\n",
    "        for name, value in fixed_parameters[model_index].items():\n",
    "            parameters[name] = value\n",
    "        for i in range(len(free_parameters[model_index])):\n",
    "                parameters[free_parameters[model_index][i]] = x[i]\n",
    "\n",
    "        model = init_model(20, 20, parameters)\n",
    "        model.experience(model.items)\n",
    "        model.free_recall()\n",
    "\n",
    "        print(cost_function(x))\n",
    "print('dependencies and parameters validated')\n",
    "#print(trial_index, recall_index, recall, trial, likelihood[trial_index, recall_index], model.outcome_probabilities())"
   ]
  },
  {
   "cell_type": "markdown",
   "id": "b02448b9",
   "metadata": {
    "tags": [
     "papermill-error-cell-tag"
    ]
   },
   "source": [
    "<span id=\"papermill-error-cell\" style=\"color:red; font-family:Helvetica Neue, Helvetica, Arial, sans-serif; font-size:2em;\">Execution using papermill encountered an exception here and stopped:</span>"
   ]
  },
  {
   "cell_type": "code",
   "execution_count": 5,
   "id": "601b89fb",
   "metadata": {
    "execution": {
     "iopub.execute_input": "2022-05-30T14:44:41.214421Z",
     "iopub.status.busy": "2022-05-30T14:44:41.213050Z",
     "iopub.status.idle": "2022-05-30T19:43:15.546795Z",
     "shell.execute_reply": "2022-05-30T19:43:15.544487Z"
    },
    "papermill": {
     "duration": 17914.768532,
     "end_time": "2022-05-30T19:43:15.951856",
     "exception": true,
     "start_time": "2022-05-30T14:44:41.183324",
     "status": "failed"
    },
    "tags": []
   },
   "outputs": [
    {
     "name": "stdout",
     "output_type": "stream",
     "text": [
      "individual fits for PrototypeCMR with tag HealyKahana2014 already exist\n",
      "ICMR_2_0_0, Subject 239\n",
      "544.0321706486449\n",
      "ICMR_2_0_1, Subject 239\n"
     ]
    },
    {
     "ename": "KeyboardInterrupt",
     "evalue": "",
     "output_type": "error",
     "traceback": [
      "\u001b[1;31m---------------------------------------------------------------------------\u001b[0m",
      "\u001b[1;31mKeyboardInterrupt\u001b[0m                         Traceback (most recent call last)",
      "\u001b[1;32mc:\\Users\\gunnj\\compmemlearn\\report_templates\\Subjectwise_Model_Evaluation_Double_HealyKahana2014.ipynb Cell 6'\u001b[0m in \u001b[0;36m<module>\u001b[1;34m\u001b[0m\n\u001b[0;32m     <a href='vscode-notebook-cell:/c%3A/Users/gunnj/compmemlearn/report_templates/Subjectwise_Model_Evaluation_Double_HealyKahana2014.ipynb#ch0000005?line=38'>39</a>\u001b[0m \u001b[39mexcept\u001b[39;00m \u001b[39mValueError\u001b[39;00m:\n\u001b[0;32m     <a href='vscode-notebook-cell:/c%3A/Users/gunnj/compmemlearn/report_templates/Subjectwise_Model_Evaluation_Double_HealyKahana2014.ipynb#ch0000005?line=39'>40</a>\u001b[0m     \u001b[39mcontinue\u001b[39;00m\n\u001b[1;32m---> <a href='vscode-notebook-cell:/c%3A/Users/gunnj/compmemlearn/report_templates/Subjectwise_Model_Evaluation_Double_HealyKahana2014.ipynb#ch0000005?line=41'>42</a>\u001b[0m fit_result \u001b[39m=\u001b[39m  differential_evolution(cost_function, bounds[model_index], disp\u001b[39m=\u001b[39;49m\u001b[39mFalse\u001b[39;49;00m)\n        model_index \u001b[1;34m= 2\u001b[0m\u001b[1;34m\n        \u001b[0mfit_result \u001b[1;34m=      fun: 544.0321706486449\n     jac: array([ 9.10347348e-01,  4.39694077e+00, -1.75836020e+00, -9.99416443e+00,\n        1.12048610e+00, -1.90270839e+00, -8.92896429e-02,  3.06954436e-04,\n        1.12246812e+02,  5.81472932e+00,  5.76108054e-01, -2.18562944e-01])\n message: 'Optimization terminated successfully.'\n    nfev: 8390\n     nit: 42\n success: True\n       x: array([9.01047821e-01, 9.65214207e-02, 8.93628930e-01, 1.63466549e-01,\n       8.08966124e-01, 2.38067815e-01, 6.19458951e+00, 1.12639227e+01,\n       5.03617871e-03, 4.40925639e-01, 2.29791783e+00, 8.52791947e-01])\u001b[0m\u001b[1;34m\n        \u001b[0mcost_function \u001b[1;34m= <function murdock_objective_function.<locals>.objective_function at 0x000002C33D81AE50>\u001b[0m\u001b[1;34m\n        \u001b[0mbounds[model_index] \u001b[1;34m= [[2.220446049250313e-16, 0.9999999999999998], [2.220446049250313e-16, 0.9999999999999998], [2.220446049250313e-16, 0.9999999999999998], [2.220446049250313e-16, 0.9999999999999998], [2.220446049250313e-16, 0.9999999999999998], [2.220446049250313e-16, 0.9999999999999998], [2.220446049250313e-16, 100], [2.220446049250313e-16, 100], [2.220446049250313e-16, 0.9999999999999998], [2.220446049250313e-16, 10], [2.220446049250313e-16, 10], [2.220446049250313e-16, 0.9999999999999998]]\u001b[0m\u001b[1;34m\n        \u001b[0mbounds \u001b[1;34m= [[[2.220446049250313e-16, 0.9999999999999998], [2.220446049250313e-16, 0.9999999999999998], [2.220446049250313e-16, 0.9999999999999998], [2.220446049250313e-16, 0.9999999999999998], [2.220446049250313e-16, 0.9999999999999998], [2.220446049250313e-16, 0.9999999999999998], [2.220446049250313e-16, 100], [2.220446049250313e-16, 100], [2.220446049250313e-16, 0.9999999999999998], [2.220446049250313e-16, 10], [2.220446049250313e-16, 10], [2.220446049250313e-16, 0.9999999999999998]], [[2.220446049250313e-16, 0.9999999999999998], [2.220446049250313e-16, 0.9999999999999998], [2.220446049250313e-16, 0.9999999999999998], [2.220446049250313e-16, 0.9999999999999998], [2.220446049250313e-16, 0.9999999999999998], [2.220446049250313e-16, 0.9999999999999998], [2.220446049250313e-16, 100], [2.220446049250313e-16, 100], [2.220446049250313e-16, 0.9999999999999998], [2.220446049250313e-16, 10], [2.220446049250313e-16, 10], [2.220446049250313e-16, 0.9999999999999998]], [[2.220446049250313e-16, 0.9999999999999998], [2.220446049250313e-16, 0.9999999999999998], [2.220446049250313e-16, 0.9999999999999998], [2.220446049250313e-16, 0.9999999999999998], [2.220446049250313e-16, 0.9999999999999998], [2.220446049250313e-16, 0.9999999999999998], [2.220446049250313e-16, 100], [2.220446049250313e-16, 100], [2.220446049250313e-16, 0.9999999999999998], [2.220446049250313e-16, 10], [2.220446049250313e-16, 10], [2.220446049250313e-16, 0.9999999999999998]], [[2.220446049250313e-16, 0.9999999999999998], [2.220446049250313e-16, 0.9999999999999998], [2.220446049250313e-16, 0.9999999999999998], [2.220446049250313e-16, 0.9999999999999998], [2.220446049250313e-16, 0.9999999999999998], [2.220446049250313e-16, 0.9999999999999998], [2.220446049250313e-16, 100], [2.220446049250313e-16, 100], [2.220446049250313e-16, 0.9999999999999998], [2.220446049250313e-16, 10], [2.220446049250313e-16, 10], [2.220446049250313e-16, 0.9999999999999998]], [[2.220446049250313e-16, 0.9999999999999998], [2.220446049250313e-16, 0.9999999999999998], [2.220446049250313e-16, 0.9999999999999998], [2.220446049250313e-16, 0.9999999999999998], [2.220446049250313e-16, 0.9999999999999998], [2.220446049250313e-16, 0.9999999999999998], [2.220446049250313e-16, 100], [2.220446049250313e-16, 100], [2.220446049250313e-16, 0.9999999999999998], [2.220446049250313e-16, 10], [2.220446049250313e-16, 10], [2.220446049250313e-16, 0.9999999999999998]]]\u001b[0m\n\u001b[0;32m     <a href='vscode-notebook-cell:/c%3A/Users/gunnj/compmemlearn/report_templates/Subjectwise_Model_Evaluation_Double_HealyKahana2014.ipynb#ch0000005?line=43'>44</a>\u001b[0m fitted_parameters \u001b[39m=\u001b[39m {\n\u001b[0;32m     <a href='vscode-notebook-cell:/c%3A/Users/gunnj/compmemlearn/report_templates/Subjectwise_Model_Evaluation_Double_HealyKahana2014.ipynb#ch0000005?line=44'>45</a>\u001b[0m     \u001b[39m'\u001b[39m\u001b[39msubject\u001b[39m\u001b[39m'\u001b[39m: subject, \u001b[39m'\u001b[39m\u001b[39mtrial_count\u001b[39m\u001b[39m'\u001b[39m: np\u001b[39m.\u001b[39msum(subject_specific_trial_mask), \n\u001b[0;32m     <a href='vscode-notebook-cell:/c%3A/Users/gunnj/compmemlearn/report_templates/Subjectwise_Model_Evaluation_Double_HealyKahana2014.ipynb#ch0000005?line=45'>46</a>\u001b[0m     \u001b[39m'\u001b[39m\u001b[39mlikelihood\u001b[39m\u001b[39m'\u001b[39m: fit_result\u001b[39m.\u001b[39mfun, \u001b[39m'\u001b[39m\u001b[39mmodel\u001b[39m\u001b[39m'\u001b[39m: model_names[model_index]\n\u001b[0;32m     <a href='vscode-notebook-cell:/c%3A/Users/gunnj/compmemlearn/report_templates/Subjectwise_Model_Evaluation_Double_HealyKahana2014.ipynb#ch0000005?line=46'>47</a>\u001b[0m     }\n\u001b[0;32m     <a href='vscode-notebook-cell:/c%3A/Users/gunnj/compmemlearn/report_templates/Subjectwise_Model_Evaluation_Double_HealyKahana2014.ipynb#ch0000005?line=47'>48</a>\u001b[0m \u001b[39mfor\u001b[39;00m i \u001b[39min\u001b[39;00m \u001b[39mrange\u001b[39m(\u001b[39mlen\u001b[39m(fit_result\u001b[39m.\u001b[39mx)):\n",
      "File \u001b[1;32mc:\\ProgramData\\Miniconda3\\lib\\site-packages\\scipy\\optimize\\_differentialevolution.py:308\u001b[0m, in \u001b[0;36mdifferential_evolution\u001b[1;34m(func=<function murdock_objective_function.<locals>.objective_function>, bounds=[[2.220446049250313e-16, 0.9999999999999998], [2.220446049250313e-16, 0.9999999999999998], [2.220446049250313e-16, 0.9999999999999998], [2.220446049250313e-16, 0.9999999999999998], [2.220446049250313e-16, 0.9999999999999998], [2.220446049250313e-16, 0.9999999999999998], [2.220446049250313e-16, 100], [2.220446049250313e-16, 100], [2.220446049250313e-16, 0.9999999999999998], [2.220446049250313e-16, 10], [2.220446049250313e-16, 10], [2.220446049250313e-16, 0.9999999999999998]], args=(), strategy='best1bin', maxiter=1000, popsize=15, tol=0.01, mutation=(0.5, 1), recombination=0.7, seed=None, callback=None, disp=False, polish=True, init='latinhypercube', atol=0, updating='immediate', workers=1, constraints=())\u001b[0m\n\u001b[0;32m    <a href='file:///c%3A/ProgramData/Miniconda3/lib/site-packages/scipy/optimize/_differentialevolution.py?line=293'>294</a>\u001b[0m \u001b[39m# using a context manager means that any created Pool objects are\u001b[39;00m\n\u001b[0;32m    <a href='file:///c%3A/ProgramData/Miniconda3/lib/site-packages/scipy/optimize/_differentialevolution.py?line=294'>295</a>\u001b[0m \u001b[39m# cleared up.\u001b[39;00m\n\u001b[0;32m    <a href='file:///c%3A/ProgramData/Miniconda3/lib/site-packages/scipy/optimize/_differentialevolution.py?line=295'>296</a>\u001b[0m \u001b[39mwith\u001b[39;00m DifferentialEvolutionSolver(func, bounds, args\u001b[39m=\u001b[39margs,\n\u001b[0;32m    <a href='file:///c%3A/ProgramData/Miniconda3/lib/site-packages/scipy/optimize/_differentialevolution.py?line=296'>297</a>\u001b[0m                                  strategy\u001b[39m=\u001b[39mstrategy,\n\u001b[0;32m    <a href='file:///c%3A/ProgramData/Miniconda3/lib/site-packages/scipy/optimize/_differentialevolution.py?line=297'>298</a>\u001b[0m                                  maxiter\u001b[39m=\u001b[39mmaxiter,\n\u001b[1;32m   (...)\u001b[0m\n\u001b[0;32m    <a href='file:///c%3A/ProgramData/Miniconda3/lib/site-packages/scipy/optimize/_differentialevolution.py?line=305'>306</a>\u001b[0m                                  workers\u001b[39m=\u001b[39mworkers,\n\u001b[0;32m    <a href='file:///c%3A/ProgramData/Miniconda3/lib/site-packages/scipy/optimize/_differentialevolution.py?line=306'>307</a>\u001b[0m                                  constraints\u001b[39m=\u001b[39mconstraints) \u001b[39mas\u001b[39;00m solver:\n\u001b[1;32m--> <a href='file:///c%3A/ProgramData/Miniconda3/lib/site-packages/scipy/optimize/_differentialevolution.py?line=307'>308</a>\u001b[0m     ret \u001b[39m=\u001b[39m solver\u001b[39m.\u001b[39;49msolve()\n        solver \u001b[1;34m= <scipy.optimize._differentialevolution.DifferentialEvolutionSolver object at 0x000002C33DA4EF70>\u001b[0m\n\u001b[0;32m    <a href='file:///c%3A/ProgramData/Miniconda3/lib/site-packages/scipy/optimize/_differentialevolution.py?line=309'>310</a>\u001b[0m \u001b[39mreturn\u001b[39;00m ret\n",
      "File \u001b[1;32mc:\\ProgramData\\Miniconda3\\lib\\site-packages\\scipy\\optimize\\_differentialevolution.py:759\u001b[0m, in \u001b[0;36mDifferentialEvolutionSolver.solve\u001b[1;34m(self=<scipy.optimize._differentialevolution.DifferentialEvolutionSolver object>)\u001b[0m\n\u001b[0;32m    <a href='file:///c%3A/ProgramData/Miniconda3/lib/site-packages/scipy/optimize/_differentialevolution.py?line=755'>756</a>\u001b[0m \u001b[39mfor\u001b[39;00m nit \u001b[39min\u001b[39;00m \u001b[39mrange\u001b[39m(\u001b[39m1\u001b[39m, \u001b[39mself\u001b[39m\u001b[39m.\u001b[39mmaxiter \u001b[39m+\u001b[39m \u001b[39m1\u001b[39m):\n\u001b[0;32m    <a href='file:///c%3A/ProgramData/Miniconda3/lib/site-packages/scipy/optimize/_differentialevolution.py?line=756'>757</a>\u001b[0m     \u001b[39m# evolve the population by a generation\u001b[39;00m\n\u001b[0;32m    <a href='file:///c%3A/ProgramData/Miniconda3/lib/site-packages/scipy/optimize/_differentialevolution.py?line=757'>758</a>\u001b[0m     \u001b[39mtry\u001b[39;00m:\n\u001b[1;32m--> <a href='file:///c%3A/ProgramData/Miniconda3/lib/site-packages/scipy/optimize/_differentialevolution.py?line=758'>759</a>\u001b[0m         \u001b[39mnext\u001b[39;49m(\u001b[39mself\u001b[39;49m)\n        self \u001b[1;34m= <scipy.optimize._differentialevolution.DifferentialEvolutionSolver object at 0x000002C33DA4EF70>\u001b[0m\n\u001b[0;32m    <a href='file:///c%3A/ProgramData/Miniconda3/lib/site-packages/scipy/optimize/_differentialevolution.py?line=759'>760</a>\u001b[0m     \u001b[39mexcept\u001b[39;00m \u001b[39mStopIteration\u001b[39;00m:\n\u001b[0;32m    <a href='file:///c%3A/ProgramData/Miniconda3/lib/site-packages/scipy/optimize/_differentialevolution.py?line=760'>761</a>\u001b[0m         warning_flag \u001b[39m=\u001b[39m \u001b[39mTrue\u001b[39;00m\n",
      "File \u001b[1;32mc:\\ProgramData\\Miniconda3\\lib\\site-packages\\scipy\\optimize\\_differentialevolution.py:1069\u001b[0m, in \u001b[0;36mDifferentialEvolutionSolver.__next__\u001b[1;34m(self=<scipy.optimize._differentialevolution.DifferentialEvolutionSolver object>)\u001b[0m\n\u001b[0;32m   <a href='file:///c%3A/ProgramData/Miniconda3/lib/site-packages/scipy/optimize/_differentialevolution.py?line=1066'>1067</a>\u001b[0m     feasible \u001b[39m=\u001b[39m \u001b[39mTrue\u001b[39;00m\n\u001b[0;32m   <a href='file:///c%3A/ProgramData/Miniconda3/lib/site-packages/scipy/optimize/_differentialevolution.py?line=1067'>1068</a>\u001b[0m     cv \u001b[39m=\u001b[39m np\u001b[39m.\u001b[39matleast_2d([\u001b[39m0.\u001b[39m])\n\u001b[1;32m-> <a href='file:///c%3A/ProgramData/Miniconda3/lib/site-packages/scipy/optimize/_differentialevolution.py?line=1068'>1069</a>\u001b[0m     energy \u001b[39m=\u001b[39m \u001b[39mself\u001b[39;49m\u001b[39m.\u001b[39;49mfunc(parameters)\n        self \u001b[1;34m= <scipy.optimize._differentialevolution.DifferentialEvolutionSolver object at 0x000002C33DA4EF70>\u001b[0m\u001b[1;34m\n        \u001b[0mparameters \u001b[1;34m= array([9.53102394e-01, 6.60258606e-02, 9.45618900e-01, 7.16838331e-01,\n       9.14452667e-01, 5.53486874e-01, 4.09565354e+00, 8.46330067e+01,\n       2.00606276e-02, 2.36703142e-01, 2.49164634e+00, 8.86975029e-01])\u001b[0m\u001b[1;34m\n        \u001b[0menergy \u001b[1;34m= 1481.5348577015136\u001b[0m\u001b[1;34m\n        \u001b[0mself.func \u001b[1;34m= <scipy.optimize._differentialevolution._FunctionWrapper object at 0x000002C33645A670>\u001b[0m\n\u001b[0;32m   <a href='file:///c%3A/ProgramData/Miniconda3/lib/site-packages/scipy/optimize/_differentialevolution.py?line=1069'>1070</a>\u001b[0m     \u001b[39mself\u001b[39m\u001b[39m.\u001b[39m_nfev \u001b[39m+\u001b[39m\u001b[39m=\u001b[39m \u001b[39m1\u001b[39m\n\u001b[0;32m   <a href='file:///c%3A/ProgramData/Miniconda3/lib/site-packages/scipy/optimize/_differentialevolution.py?line=1071'>1072</a>\u001b[0m \u001b[39m# compare trial and population member\u001b[39;00m\n",
      "File \u001b[1;32mc:\\ProgramData\\Miniconda3\\lib\\site-packages\\scipy\\optimize\\_differentialevolution.py:1255\u001b[0m, in \u001b[0;36m_FunctionWrapper.__call__\u001b[1;34m(self=<scipy.optimize._differentialevolution._FunctionWrapper object>, x=array([9.53102394e-01, 6.60258606e-02, 9.4561890... 2.36703142e-01, 2.49164634e+00, 8.86975029e-01]))\u001b[0m\n\u001b[0;32m   <a href='file:///c%3A/ProgramData/Miniconda3/lib/site-packages/scipy/optimize/_differentialevolution.py?line=1253'>1254</a>\u001b[0m \u001b[39mdef\u001b[39;00m \u001b[39m__call__\u001b[39m(\u001b[39mself\u001b[39m, x):\n\u001b[1;32m-> <a href='file:///c%3A/ProgramData/Miniconda3/lib/site-packages/scipy/optimize/_differentialevolution.py?line=1254'>1255</a>\u001b[0m     \u001b[39mreturn\u001b[39;00m \u001b[39mself\u001b[39;49m\u001b[39m.\u001b[39;49mf(x, \u001b[39m*\u001b[39;49m\u001b[39mself\u001b[39;49m\u001b[39m.\u001b[39;49margs)\n        self.f \u001b[1;34m= <function murdock_objective_function.<locals>.objective_function at 0x000002C33D81AE50>\u001b[0m\u001b[1;34m\n        \u001b[0mx \u001b[1;34m= array([9.53102394e-01, 6.60258606e-02, 9.45618900e-01, 7.16838331e-01,\n       9.14452667e-01, 5.53486874e-01, 4.09565354e+00, 8.46330067e+01,\n       2.00606276e-02, 2.36703142e-01, 2.49164634e+00, 8.86975029e-01])\u001b[0m\u001b[1;34m\n        \u001b[0mself \u001b[1;34m= <scipy.optimize._differentialevolution._FunctionWrapper object at 0x000002C33645A670>\u001b[0m\u001b[1;34m\n        \u001b[0mself.args \u001b[1;34m= ()\u001b[0m\n",
      "File \u001b[1;32mc:\\users\\gunnj\\compmemlearn\\compmemlearn\\fitting.py:67\u001b[0m, in \u001b[0;36mmurdock_objective_function.<locals>.objective_function\u001b[1;34m(x=array([9.53102394e-01, 6.60258606e-02, 9.4561890... 2.36703142e-01, 2.49164634e+00, 8.86975029e-01]))\u001b[0m\n\u001b[0;32m     <a href='file:///c%3A/users/gunnj/compmemlearn/compmemlearn/fitting.py?line=64'>65</a>\u001b[0m \u001b[39mfor\u001b[39;00m i \u001b[39min\u001b[39;00m \u001b[39mrange\u001b[39m(\u001b[39mlen\u001b[39m(free_parameters)):\n\u001b[0;32m     <a href='file:///c%3A/users/gunnj/compmemlearn/compmemlearn/fitting.py?line=65'>66</a>\u001b[0m     parameters[free_parameters[i]] \u001b[39m=\u001b[39m x[i]\n\u001b[1;32m---> <a href='file:///c%3A/users/gunnj/compmemlearn/compmemlearn/fitting.py?line=66'>67</a>\u001b[0m \u001b[39mreturn\u001b[39;00m murdock_data_likelihood(data_to_fit, item_counts, model_class, parameters)\n        murdock_data_likelihood \u001b[1;34m= CPUDispatcher(<function murdock_data_likelihood at 0x000002C32FB19F70>)\u001b[0m\u001b[1;34m\n        \u001b[0mdata_to_fit \u001b[1;34m= ListType[array(int32, 2d, C)]([[[16 14 13  6  7  1  5 11  4  0  0  0  0  0  0  0]\n [16 15 12  1  9  4 11  3  0  0  0  0  0  0  0  0]\n [15 16 11 12 13  1  2  3  6  0  0  0  0  0  0  0]\n [16 14 15  7  1  2  6  9  5  0  0  0  0  0  0  0]\n [16 15 14 10  1  2  7 12  8  4  0  0  0  0  0  0]\n [16 15  7 12  6 10  1  2  3  0  0  0  0  0  0  0]\n [15 16 14 12 11  4  7  9 10  8  3  1  0  0  0  0]\n [15 16 12 14  7  1  4  3  0  0  0  0  0  0  0  0]\n [16 11 15  5  8 10  1  6  7  4  3  0  0  0  0  0]\n [10 15 16  9  2  0  0  0  0  0  0  0  0  0  0  0]\n [15 16 14  9 10 11 12  2  3  1  6  0  0  0  0  0]\n [16 13 14  1  8  7 10  0  0  0  0  0  0  0  0  0]\n [16 14 15 10  2  1  8  7 11 12  0  0  0  0  0  0]\n [15 13 14 16  1  2  9  5  6  7  8  0  0  0  0  0]\n [16 15 11  1  5  8 10  6 12  0  0  0  0  0  0  0]\n [ 1  2  4  5 14 15  7  8  9 16  6 12  0  0  0  0]\n [16 14 15  1  3  8 12  7  6  9  0  0  0  0  0  0]\n [16 15  8  4  5  6  7  1  2 14  0  0  0  0  0  0]\n [16 13 15  2  1  5  8  7 14  0  0  0  0  0  0  0]\n [16 15 14 12 10  8  4  3  2  1  5  0  0  0  0  0]\n [ 1  0  0  0  0  0  0  0  0  0  0  0  0  0  0  0]\n [15 16 13  5  6  7  8 10  9  1  2  3  0  0  0  0]\n [16  5  6  7 14  2  3  4  0  0  0  0  0  0  0  0]\n [12 13 14 15  1  3  2  4  5  0  0  0  0  0  0  0]\n [ 1  5  3  4  0  0  0  0  0  0  0  0  0  0  0  0]\n [16  9  1 10  2  0  0  0  0  0  0  0  0  0  0  0]\n [16  5  9  3  6 11 12  0  0  0  0  0  0  0  0  0]\n [ 1  2  3 16  4  7  0  0  0  0  0  0  0  0  0  0]], ...])\u001b[0m\u001b[1;34m\n        \u001b[0mitem_counts \u001b[1;34m= ListType[int64]([16, ...])\u001b[0m\u001b[1;34m\n        \u001b[0mmodel_class \u001b[1;34m= CPUDispatcher(<function init_model at 0x000002C334540AF0>)\u001b[0m\u001b[1;34m\n        \u001b[0mparameters \u001b[1;34m= DictType[unicode_type,float64]<iv=None>({feature_sensitivity: 1.0, context_sensitivity: 1.0, learn_first: 1.0, encoding_drift_rate: 0.9531023937079233, start_drift_rate: 0.06602586055748527, recall_drift_rate: 0.9456188996742423, shared_support: 0.7168383310520176, item_support: 0.9144526666644774, learning_rate: 0.5534868742207953, primacy_scale: 4.0956535400650225, primacy_decay: 84.63300671861754, stop_probability_scale: 0.020060627560917088, stop_probability_growth: 0.23670314196331077, choice_sensitivity: 2.4916463427565168, delay_drift_rate: 0.8869750289767981})\u001b[0m\n",
      "\u001b[1;31mKeyboardInterrupt\u001b[0m: "
     ]
    }
   ],
   "source": [
    "# | code-summary: code -- 1) fit each model class participant-by-participant\n",
    "# | output: false\n",
    "\n",
    "for model_index, model_class in enumerate(models):\n",
    "\n",
    "    # load individual fits for this model and section tag from csv if they exist\n",
    "    if os.path.isfile(results_path + '{}_{}_individual.csv'.format(section_tag, model_names[model_index])):\n",
    "        pd.read_csv(results_path + '{}_{}_individual.csv'.format(section_tag, model_names[model_index]))\n",
    "        print('individual fits for {} with tag {} already exist'.format(model_names[model_index], section_tag))\n",
    "\n",
    "    # otherwise, fit each participant individually\n",
    "    else:\n",
    "        model_individual_fits = []\n",
    "\n",
    "        @njit(fastmath=True, nogil=True)\n",
    "        def init_model(item_count, presentation_count, parameters):\n",
    "            return model_class(item_count, presentation_count, parameters)\n",
    "\n",
    "        for subject in pd.unique(events.subject):\n",
    "            if subject != 239:\n",
    "                continue\n",
    "            print(f'{model_names[model_index]}, Subject {subject}')\n",
    "\n",
    "            subject_specific_trial_mask = np.logical_and(\n",
    "                generate_trial_mask(events, f'subject == {subject}'), trial_mask)\n",
    "            \n",
    "            try:\n",
    "                # cost function to be minimized\n",
    "                # ours scales inversely with the probability that the data could have been\n",
    "                # generated using the specified parameters and our model\n",
    "                cost_function = generate_objective_function(\n",
    "                    [trials[i][subject_specific_trial_mask[i]] for i in range(len(trials))],\n",
    "                    [presentations[i][subject_specific_trial_mask[i]] for i in range(len(presentations))],\n",
    "                    list_lengths,\n",
    "                    init_model,\n",
    "                    fixed_parameters[model_index],\n",
    "                    free_parameters[model_index],\n",
    "                )\n",
    "            except ValueError:\n",
    "                continue\n",
    "\n",
    "            fit_result =  differential_evolution(cost_function, bounds[model_index], disp=False)\n",
    "\n",
    "            fitted_parameters = {\n",
    "                'subject': subject, 'trial_count': np.sum(subject_specific_trial_mask), \n",
    "                'likelihood': fit_result.fun, 'model': model_names[model_index]\n",
    "                }\n",
    "            for i in range(len(fit_result.x)):\n",
    "                fitted_parameters[free_parameters[model_index][i]] = fit_result.x[i]\n",
    "            for key in fixed_parameters[model_index]:\n",
    "                fitted_parameters[key] = fixed_parameters[model_index][key]\n",
    "\n",
    "            model_individual_fits.append(pd.DataFrame.from_dict(fitted_parameters, orient='index').T)\n",
    "            print(model_individual_fits[-1]['likelihood'][0])\n",
    "\n",
    "        model_individual_fits = pd.concat(model_individual_fits, ignore_index=True)\n",
    "        model_individual_fits.to_csv(\n",
    "            results_path + '{}_{}_individual.csv'.format(section_tag, model_names[model_index]), index=False)"
   ]
  },
  {
   "cell_type": "code",
   "execution_count": null,
   "id": "8354ced0",
   "metadata": {
    "papermill": {
     "duration": null,
     "end_time": null,
     "exception": null,
     "start_time": null,
     "status": "pending"
    },
    "tags": []
   },
   "outputs": [],
   "source": [
    "#| code-summary: code -- 3) plot distribution of log-likelihoods across individual subjects\n",
    "\n",
    "plt.style.use('default')\n",
    "sns.set(style=\"darkgrid\")\n",
    "\n",
    "# build individual fits df concatenating results from each model\n",
    "individual_fits = []\n",
    "for model_index, model_class in enumerate(models):\n",
    "    individual_fits.append(\n",
    "        pd.read_csv(results_path + '{}_{}_individual.csv'.format(section_tag, model_names[model_index])))\n",
    "individual_fits = pd.concat(individual_fits, ignore_index=True)\n",
    "\n",
    "# plot distribution of log-likelihoods across individual subjects\n",
    "g = sns.catplot(x='model', y='likelihood', data=individual_fits, kind='violin', inner='stick')\n",
    "sns.swarmplot(x=\"model\", y=\"likelihood\", data=individual_fits, color=\"k\", size=3, ax=g.ax)\n",
    "g.ax.set_ylabel('Individual Log-Likelihood')\n",
    "#plt.savefig(results_path + 'individual_{}.pdf'.format(section_tag), bbox_inches=\"tight\")"
   ]
  },
  {
   "cell_type": "code",
   "execution_count": null,
   "id": "866e8b45",
   "metadata": {
    "papermill": {
     "duration": null,
     "end_time": null,
     "exception": null,
     "start_time": null,
     "status": "pending"
    },
    "tags": []
   },
   "outputs": [],
   "source": [
    "individual_fits"
   ]
  },
  {
   "cell_type": "code",
   "execution_count": null,
   "id": "06c9a1ec",
   "metadata": {
    "papermill": {
     "duration": null,
     "end_time": null,
     "exception": null,
     "start_time": null,
     "status": "pending"
    },
    "tags": []
   },
   "outputs": [],
   "source": [
    "#| code-summary: display markdown rendering of summary table\n",
    "#| echo: false\n",
    "#| input: false\n",
    "#| output: asis\n",
    "\n",
    "summary_table = pd.DataFrame(group.describe().rename(columns={'likelihood':name}).squeeze()\n",
    "            for name, group in individual_fits[['model', 'likelihood']].groupby('model')).T.to_markdown()\n",
    "\n",
    "print(\"\"\"::: {{#fig-{section_tag}fits layout-nrow=2 layout-valign=\"center\"}}\n",
    "\n",
    "![]({results_path}individual_{section_tag}.pdf)\n",
    "\n",
    "{summary_table}\n",
    "\n",
    "{individual_fits_caption}\n",
    ":::\"\"\".format(section_tag=section_tag, summary_table=summary_table, individual_fits_caption=figure_caption, results_path=results_path))"
   ]
  },
  {
   "cell_type": "code",
   "execution_count": null,
   "id": "0a51cfa5",
   "metadata": {
    "papermill": {
     "duration": null,
     "end_time": null,
     "exception": null,
     "start_time": null,
     "status": "pending"
    },
    "tags": []
   },
   "outputs": [],
   "source": [
    "#| code-summary: perform t-tests on individual-level fits\n",
    "#| output: false\n",
    " \n",
    "from scipy.stats import ttest_rel\n",
    "import itertools\n",
    "\n",
    "for combination in itertools.combinations(pd.unique(individual_fits.model), 2):\n",
    "\n",
    "    print(combination)\n",
    "    print(ttest_rel(individual_fits[individual_fits.model == combination[0]].likelihood, individual_fits[individual_fits.model == combination[1]].likelihood, alternative='two-sided'))\n",
    "    print(ttest_rel(individual_fits[individual_fits.model == combination[0]].likelihood, individual_fits[individual_fits.model == combination[1]].likelihood, alternative='less'))\n",
    "    print(ttest_rel(individual_fits[individual_fits.model == combination[0]].likelihood, individual_fits[individual_fits.model == combination[1]].likelihood, alternative='greater'))\n",
    "    print()"
   ]
  },
  {
   "cell_type": "code",
   "execution_count": null,
   "id": "50ebc4a2",
   "metadata": {
    "papermill": {
     "duration": null,
     "end_time": null,
     "exception": null,
     "start_time": null,
     "status": "pending"
    },
    "tags": []
   },
   "outputs": [],
   "source": [
    "for combination in itertools.combinations(pd.unique(individual_fits.model), 2):\n",
    "\n",
    "    print(combination)\n",
    "    print(np.mean(individual_fits[individual_fits.model == combination[0]].likelihood.values < individual_fits[individual_fits.model == combination[1]].likelihood.values), \n",
    "        np.mean(individual_fits[individual_fits.model == combination[1]].likelihood.values < individual_fits[individual_fits.model == combination[0]].likelihood.values))\n",
    "\n",
    "    print(np.sum(individual_fits[individual_fits.model == combination[0]].likelihood.values < individual_fits[individual_fits.model == combination[1]].likelihood.values), \n",
    "        np.sum(individual_fits[individual_fits.model == combination[1]].likelihood.values < individual_fits[individual_fits.model == combination[0]].likelihood.values))\n",
    "\n",
    "    print()"
   ]
  },
  {
   "cell_type": "code",
   "execution_count": null,
   "id": "bb5fbe33",
   "metadata": {
    "papermill": {
     "duration": null,
     "end_time": null,
     "exception": null,
     "start_time": null,
     "status": "pending"
    },
    "tags": []
   },
   "outputs": [],
   "source": [
    "def model_weights(positive_log_likelihoods, number_parameters, N):\n",
    "    AIC = 2 * positive_log_likelihoods + 2 * number_parameters\n",
    "    AICc = AIC #+ (2*np.power(number_parameters, 2) + 2 * number_parameters) / (N - number_parameters - 2)\n",
    "    AICd = AIC - np.min(AICc)\n",
    "    #return AICd\n",
    "    AICw = np.exp(-.5 * AICd) / np.sum(np.exp(-.5 * AICd))\n",
    "    return AICw\n",
    "\n",
    "aicw = {'Model': [], 'Subject': [], 'AICw': []}\n",
    "\n",
    "total_nlns = np.zeros(len(models))\n",
    "for subject_index, subject in enumerate(pd.unique(events.subject)):\n",
    "\n",
    "    subject_specific_trial_mask = np.logical_and(\n",
    "                    generate_trial_mask(events, f'subject == {subject}'), trial_mask)\n",
    "\n",
    "    nlnLs = []\n",
    "    for model_index, model_class in enumerate(models):\n",
    "        nlnLs.append(\n",
    "            individual_fits[individual_fits.model == model_names[model_index]].likelihood.values[subject_index])\n",
    "    nlnLs = np.array(nlnLs)\n",
    "    total_nlns += nlnLs\n",
    "    \n",
    "    weights = model_weights(nlnLs, len(free_parameters[model_index]), np.sum(subject_specific_trial_mask))\n",
    "    #print(weights)\n",
    "    for model_index, model_class in enumerate(models):\n",
    "        aicw['Model'].append(model_names[model_index])\n",
    "        aicw['Subject'].append(subject)\n",
    "        aicw['AICw'].append(weights[model_index])\n",
    "\n",
    "aicw = pd.DataFrame(data=aicw)\n",
    "total_aicw = model_weights(total_nlns, len(free_parameters[model_index]), np.sum(trial_mask))\n",
    "print(total_aicw)"
   ]
  },
  {
   "cell_type": "code",
   "execution_count": null,
   "id": "3bb98936",
   "metadata": {
    "papermill": {
     "duration": null,
     "end_time": null,
     "exception": null,
     "start_time": null,
     "status": "pending"
    },
    "tags": []
   },
   "outputs": [],
   "source": [
    "import seaborn as sns\n",
    "sns.set_theme(style=\"darkgrid\")\n",
    "x = sns.pointplot(x=\"Model\", y=\"AICw\", data=aicw, join=False)\n",
    "\n",
    "plt.show()"
   ]
  },
  {
   "cell_type": "code",
   "execution_count": null,
   "id": "876cbc15",
   "metadata": {
    "papermill": {
     "duration": null,
     "end_time": null,
     "exception": null,
     "start_time": null,
     "status": "pending"
    },
    "tags": []
   },
   "outputs": [],
   "source": [
    "sns.set(style='darkgrid')\n",
    "\n",
    "# for each unique list length\n",
    "if not (isinstance(list_lengths, list) or isinstance(list_lengths, List)): \n",
    "    list_lengths = [list_lengths]\n",
    "\n",
    "for list_length in list_lengths:\n",
    "\n",
    "    #fig, axes = plt.subplots(nrows=len(models), ncols=3, figsize=(15, int(4*len(models))), sharey=False)\n",
    "    \n",
    "    # for each unique model\n",
    "    for model_index, model_class in enumerate(models):\n",
    "\n",
    "        # load sim_df from csv if it exists\n",
    "        sim_df_path = results_path + '{}_{}_ll{}_sim_df.csv'.format(section_tag, model_names[model_index], list_length)\n",
    "        if os.path.isfile(sim_df_path):\n",
    "            sim_df = pd.read_csv(sim_df_path)\n",
    "            print('sim_df for {} with tag {} and list length {} already exists'.format(model_names[model_index], section_tag, list_length))\n",
    "\n",
    "        # otherwise, generate it\n",
    "        else:\n",
    "\n",
    "            # for each unique matching entry in individual df\n",
    "            sim_dfs = []\n",
    "            for subject in pd.unique(individual_fits.subject):\n",
    "                \n",
    "                fit_result = individual_fits.query(f'subject == {subject} & model == \"{model_names[model_index]}\"')\n",
    "\n",
    "                # configure model based on specified parameters\n",
    "                fitted_parameters = Dict.empty(\n",
    "                    key_type=types.unicode_type, value_type=types.float64\n",
    "                )\n",
    "                for i in range(len(free_parameters[model_index])):\n",
    "                    fitted_parameters[free_parameters[model_index][i]] = fit_result[free_parameters[model_index][i]].values[0]\n",
    "                for key in fixed_parameters[model_index]:\n",
    "                    fitted_parameters[key] = fixed_parameters[model_index][key]\n",
    "\n",
    "                # simulate df based on specified trial_count and experiment_count\n",
    "                #model = model_class(list_length, list_length, fitted_parameters)\n",
    "                sim_dfs.append(simulate_df_from_events(model, fit_result['trial_count'].values[0] * experiment_count))\n",
    "                sim_dfs[-1].list = sim_dfs[-1].subject\n",
    "                sim_dfs[-1].subject = subject\n",
    "\n",
    "            # concatenate simulations into one dataframe\n",
    "            sim_df = pd.concat(sim_dfs)\n",
    "\n",
    "            # save sim_df to csv\n",
    "            sim_df.to_csv(results_path +'{}_{}_ll{}_sim_df.csv'.format(section_tag, model_names[model_index], list_length), index=False)\n",
    "\n",
    "        # design general filter for analysis df\n",
    "        if len(list_lengths) > 1:\n",
    "            analysis_query = trial_query + f' & list_length == {list_length}'\n",
    "        else:\n",
    "            analysis_query = trial_query\n",
    "\n",
    "        # generate plot for each parametrized analysis and model\n",
    "        for analysis_index, analysis_function in enumerate(analyses):\n",
    "            analysis_name = analysis_names[analysis_index]\n",
    "            axis = analysis_function(\n",
    "                [events, sim_df], analysis_query, contrast_name=\"source\", labels=[\"data\", model_names[model_index]])\n",
    "            plt.savefig(results_path+'{}_{}_ll{}_{}.pdf'.format(section_tag, model_names[model_index], list_length, analysis_name), bbox_inches=\"tight\")"
   ]
  },
  {
   "cell_type": "code",
   "execution_count": null,
   "id": "68619987",
   "metadata": {
    "papermill": {
     "duration": null,
     "end_time": null,
     "exception": null,
     "start_time": null,
     "status": "pending"
    },
    "tags": []
   },
   "outputs": [],
   "source": []
  }
 ],
 "metadata": {
  "interpreter": {
   "hash": "19d1d53a962d236aa061289c2ac16dc8e6d9648c89fe79f459ae9a3493bc67b4"
  },
  "kernelspec": {
   "display_name": "Python 3.9.1 ('base')",
   "language": "python",
   "name": "python3"
  },
  "language_info": {
   "codemirror_mode": {
    "name": "ipython",
    "version": 3
   },
   "file_extension": ".py",
   "mimetype": "text/x-python",
   "name": "python",
   "nbconvert_exporter": "python",
   "pygments_lexer": "ipython3",
   "version": "3.9.1"
  },
  "papermill": {
   "default_parameters": {},
   "duration": 18063.585771,
   "end_time": "2022-05-30T19:43:21.418310",
   "environment_variables": {},
   "exception": true,
   "input_path": "Subjectwise_Model_Evaluation.ipynb",
   "output_path": "reports/Subjectwise_Model_Evaluation_Double_HealyKahana2014.ipynb",
   "parameters": {
    "bounds": [
     [
      [
       2.220446049250313e-16,
       0.9999999999999998
      ],
      [
       2.220446049250313e-16,
       0.9999999999999998
      ],
      [
       2.220446049250313e-16,
       0.9999999999999998
      ],
      [
       2.220446049250313e-16,
       0.9999999999999998
      ],
      [
       2.220446049250313e-16,
       0.9999999999999998
      ],
      [
       2.220446049250313e-16,
       0.9999999999999998
      ],
      [
       2.220446049250313e-16,
       100
      ],
      [
       2.220446049250313e-16,
       100
      ],
      [
       2.220446049250313e-16,
       0.9999999999999998
      ],
      [
       2.220446049250313e-16,
       10
      ],
      [
       2.220446049250313e-16,
       10
      ],
      [
       2.220446049250313e-16,
       0.9999999999999998
      ]
     ],
     [
      [
       2.220446049250313e-16,
       0.9999999999999998
      ],
      [
       2.220446049250313e-16,
       0.9999999999999998
      ],
      [
       2.220446049250313e-16,
       0.9999999999999998
      ],
      [
       2.220446049250313e-16,
       0.9999999999999998
      ],
      [
       2.220446049250313e-16,
       0.9999999999999998
      ],
      [
       2.220446049250313e-16,
       0.9999999999999998
      ],
      [
       2.220446049250313e-16,
       100
      ],
      [
       2.220446049250313e-16,
       100
      ],
      [
       2.220446049250313e-16,
       0.9999999999999998
      ],
      [
       2.220446049250313e-16,
       10
      ],
      [
       2.220446049250313e-16,
       10
      ],
      [
       2.220446049250313e-16,
       0.9999999999999998
      ]
     ],
     [
      [
       2.220446049250313e-16,
       0.9999999999999998
      ],
      [
       2.220446049250313e-16,
       0.9999999999999998
      ],
      [
       2.220446049250313e-16,
       0.9999999999999998
      ],
      [
       2.220446049250313e-16,
       0.9999999999999998
      ],
      [
       2.220446049250313e-16,
       0.9999999999999998
      ],
      [
       2.220446049250313e-16,
       0.9999999999999998
      ],
      [
       2.220446049250313e-16,
       100
      ],
      [
       2.220446049250313e-16,
       100
      ],
      [
       2.220446049250313e-16,
       0.9999999999999998
      ],
      [
       2.220446049250313e-16,
       10
      ],
      [
       2.220446049250313e-16,
       10
      ],
      [
       2.220446049250313e-16,
       0.9999999999999998
      ]
     ],
     [
      [
       2.220446049250313e-16,
       0.9999999999999998
      ],
      [
       2.220446049250313e-16,
       0.9999999999999998
      ],
      [
       2.220446049250313e-16,
       0.9999999999999998
      ],
      [
       2.220446049250313e-16,
       0.9999999999999998
      ],
      [
       2.220446049250313e-16,
       0.9999999999999998
      ],
      [
       2.220446049250313e-16,
       0.9999999999999998
      ],
      [
       2.220446049250313e-16,
       100
      ],
      [
       2.220446049250313e-16,
       100
      ],
      [
       2.220446049250313e-16,
       0.9999999999999998
      ],
      [
       2.220446049250313e-16,
       10
      ],
      [
       2.220446049250313e-16,
       10
      ],
      [
       2.220446049250313e-16,
       0.9999999999999998
      ]
     ],
     [
      [
       2.220446049250313e-16,
       0.9999999999999998
      ],
      [
       2.220446049250313e-16,
       0.9999999999999998
      ],
      [
       2.220446049250313e-16,
       0.9999999999999998
      ],
      [
       2.220446049250313e-16,
       0.9999999999999998
      ],
      [
       2.220446049250313e-16,
       0.9999999999999998
      ],
      [
       2.220446049250313e-16,
       0.9999999999999998
      ],
      [
       2.220446049250313e-16,
       100
      ],
      [
       2.220446049250313e-16,
       100
      ],
      [
       2.220446049250313e-16,
       0.9999999999999998
      ],
      [
       2.220446049250313e-16,
       10
      ],
      [
       2.220446049250313e-16,
       10
      ],
      [
       2.220446049250313e-16,
       0.9999999999999998
      ]
     ]
    ],
    "data_path": "data/HealyKahana2014.csv",
    "fixed_parameters": [
     {},
     {
      "context_sensitivity": 1,
      "feature_sensitivity": 1,
      "learning_order": 0
     },
     {
      "context_sensitivity": 1,
      "feature_sensitivity": 1,
      "learning_order": 1
     },
     {
      "choice_sensitivity": 1,
      "feature_sensitivity": 1,
      "learning_order": 0
     },
     {
      "choice_sensitivity": 1,
      "feature_sensitivity": 1,
      "learning_order": 1
     }
    ],
    "free_parameters": [
     [
      "encoding_drift_rate",
      "start_drift_rate",
      "recall_drift_rate",
      "shared_support",
      "item_support",
      "learning_rate",
      "primacy_scale",
      "primacy_decay",
      "stop_probability_scale",
      "stop_probability_growth",
      "choice_sensitivity",
      "delay_drift_rate"
     ],
     [
      "encoding_drift_rate",
      "start_drift_rate",
      "recall_drift_rate",
      "shared_support",
      "item_support",
      "learning_rate",
      "primacy_scale",
      "primacy_decay",
      "stop_probability_scale",
      "stop_probability_growth",
      "choice_sensitivity",
      "delay_drift_rate"
     ],
     [
      "encoding_drift_rate",
      "start_drift_rate",
      "recall_drift_rate",
      "shared_support",
      "item_support",
      "learning_rate",
      "primacy_scale",
      "primacy_decay",
      "stop_probability_scale",
      "stop_probability_growth",
      "choice_sensitivity",
      "delay_drift_rate"
     ],
     [
      "encoding_drift_rate",
      "start_drift_rate",
      "recall_drift_rate",
      "shared_support",
      "item_support",
      "learning_rate",
      "primacy_scale",
      "primacy_decay",
      "stop_probability_scale",
      "stop_probability_growth",
      "context_sensitivity",
      "delay_drift_rate"
     ],
     [
      "encoding_drift_rate",
      "start_drift_rate",
      "recall_drift_rate",
      "shared_support",
      "item_support",
      "learning_rate",
      "primacy_scale",
      "primacy_decay",
      "stop_probability_scale",
      "stop_probability_growth",
      "context_sensitivity",
      "delay_drift_rate"
     ]
    ],
    "model_names": [
     "PrototypeCMR",
     "ICMR_2_0_0",
     "ICMR_2_0_1",
     "ICMR_2_1_0",
     "ICMR_2_1_1"
    ],
    "model_paths": [
     "compmemlearn.models.Base_CMR",
     "compmemlearn.models.Dual_ICMR",
     "compmemlearn.models.Dual_ICMR",
     "compmemlearn.models.Dual_ICMR",
     "compmemlearn.models.Dual_ICMR"
    ],
    "section_tag": "HealyKahana2014",
    "trial_query": "task == -1"
   },
   "start_time": "2022-05-30T14:42:17.832539",
   "version": "2.3.4"
  }
 },
 "nbformat": 4,
 "nbformat_minor": 5
}

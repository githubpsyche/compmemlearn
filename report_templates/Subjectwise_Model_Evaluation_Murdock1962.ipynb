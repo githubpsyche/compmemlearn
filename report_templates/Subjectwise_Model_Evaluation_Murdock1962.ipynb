{
 "cells": [
  {
   "cell_type": "code",
   "execution_count": 1,
   "id": "044edfb6",
   "metadata": {
    "execution": {
     "iopub.execute_input": "2022-03-26T18:17:37.820992Z",
     "iopub.status.busy": "2022-03-26T18:17:37.819926Z",
     "iopub.status.idle": "2022-03-26T18:17:40.629528Z",
     "shell.execute_reply": "2022-03-26T18:17:40.628821Z"
    },
    "papermill": {
     "duration": 2.833276,
     "end_time": "2022-03-26T18:17:40.631664",
     "exception": false,
     "start_time": "2022-03-26T18:17:37.798388",
     "status": "completed"
    },
    "tags": [
     "parameters"
    ]
   },
   "outputs": [],
   "source": [
    "# | code-summary: code -- load dependencies and data and select parameters\n",
    "\n",
    "\n",
    "from compmemlearn.fitting import generate_objective_function, apply_and_concatenate\n",
    "from compmemlearn.datasets import events_metadata, simulate_df\n",
    "from scipy.optimize import differential_evolution\n",
    "from numba.typed import List, Dict\n",
    "from numba.core import types\n",
    "from numba import njit\n",
    "from psifr import fr\n",
    "import pandas as pd\n",
    "import numpy as np\n",
    "import seaborn as sns\n",
    "import matplotlib.pyplot as plt\n",
    "import importlib\n",
    "import os\n",
    "\n",
    "lb = np.finfo(float).eps\n",
    "ub = 1 - np.finfo(float).eps\n",
    "\n",
    "figure_caption = \"\"\"Distribution of log-likelihood scores of recall sequences exhibited by each subject in dataset under each considered model.\"\"\"\n",
    "\n",
    "section_tag = \"LohnasCondition1\"\n",
    "\n",
    "data_path = \"../data/LohnasKahana2014.csv\"\n",
    "results_path = \"results/\"\n",
    "trial_query = \"condition == 1\"\n",
    "\n",
    "model_paths = [\"compmemlearn.models.Classic_CMR\"]#, \"compmemlearn.models.Instance_CMR\"]\n",
    "\n",
    "model_names = [\"Prototype CMR\"]#, \"InstanceCMR\"]\n",
    "\n",
    "free_parameters = [\n",
    "    [\n",
    "        \"encoding_drift_rate\",\n",
    "        \"start_drift_rate\",\n",
    "        \"recall_drift_rate\",\n",
    "        \"shared_support\",\n",
    "        \"item_support\",\n",
    "        \"learning_rate\",\n",
    "        \"primacy_scale\",\n",
    "        \"primacy_decay\",\n",
    "        \"stop_probability_scale\",\n",
    "        \"stop_probability_growth\",\n",
    "        \"choice_sensitivity\",\n",
    "        \"delay_drift_rate\",\n",
    "    ],\n",
    "    # [\n",
    "    #     \"encoding_drift_rate\",\n",
    "    #     \"start_drift_rate\",\n",
    "    #     \"recall_drift_rate\",\n",
    "    #     \"shared_support\",\n",
    "    #     \"item_support\",\n",
    "    #     \"learning_rate\",\n",
    "    #     \"primacy_scale\",\n",
    "    #     \"primacy_decay\",\n",
    "    #     \"stop_probability_scale\",\n",
    "    #     \"stop_probability_growth\",\n",
    "    #     #    'choice_sensitivity',\n",
    "    #     \"context_sensitivity\",\n",
    "    #     #    'feature_sensitivity'\n",
    "    #     \"delay_drift_rate\",\n",
    "    # ],\n",
    "]\n",
    "\n",
    "bounds = [\n",
    "    [\n",
    "        [lb, ub],\n",
    "        [lb, ub],\n",
    "        [lb, ub],\n",
    "        [lb, ub],\n",
    "        [lb, ub],\n",
    "        [lb, ub],\n",
    "        [lb, 100],\n",
    "        [lb, 100],\n",
    "        [lb, ub],\n",
    "        [lb, 10],\n",
    "        [lb, 10],\n",
    "        [lb, ub],\n",
    "    ],\n",
    "    # [\n",
    "    #     [lb, ub],\n",
    "    #     [lb, ub],\n",
    "    #     [lb, ub],\n",
    "    #     [lb, ub],\n",
    "    #     [lb, ub],\n",
    "    #     [lb, ub],\n",
    "    #     [lb, 100],\n",
    "    #     [lb, 100],\n",
    "    #     [lb, ub],\n",
    "    #     [lb, 10],\n",
    "    #     [lb, 10],\n",
    "    #     [lb, ub],\n",
    "    # ],\n",
    "]\n",
    "\n",
    "fixed_parameters = [\n",
    "    {'sampling_rule': 0, 'mfc_familiarity_scale': 0, \n",
    "         'mcf_familiarity_scale': 0, 'drift_familiarity_scale': 0}, \n",
    "#     {\"choice_sensitivity\": 1, \"feature_sensitivity\": 1, 'mfc_familiarity_scale': 0, \n",
    "#          'mcf_familiarity_scale': 0, 'drift_familiarity_scale': 0},\n",
    "]\n",
    "\n",
    "analysis_paths = ['compmemlearn.analyses.plot_spc', 'compmemlearn.analyses.plot_lag_crp', 'compmemlearn.analyses.plot_pfr']\n",
    "analysis_names = ['spc', 'crp', 'pfr']\n",
    "\n",
    "experiment_count = 1000\n"
   ]
  },
  {
   "cell_type": "code",
   "execution_count": 2,
   "id": "ff6378e5",
   "metadata": {
    "execution": {
     "iopub.execute_input": "2022-03-26T18:17:40.650533Z",
     "iopub.status.busy": "2022-03-26T18:17:40.650074Z",
     "iopub.status.idle": "2022-03-26T18:17:40.661023Z",
     "shell.execute_reply": "2022-03-26T18:17:40.660370Z"
    },
    "papermill": {
     "duration": 0.021976,
     "end_time": "2022-03-26T18:17:40.662866",
     "exception": false,
     "start_time": "2022-03-26T18:17:40.640890",
     "status": "completed"
    },
    "tags": [
     "injected-parameters"
    ]
   },
   "outputs": [],
   "source": [
    "# Parameters\n",
    "data_path = \"data/Murdock1962.csv\"\n",
    "trial_query = \"subject > -1\"\n",
    "model_paths = [\"compmemlearn.models.Instance_CMR\", \"compmemlearn.models.Classic_CMR\"]\n",
    "model_names = [\"InstanceCMR\", \"PrototypeCMR\"]\n",
    "free_parameters = [\n",
    "    [\n",
    "        \"encoding_drift_rate\",\n",
    "        \"start_drift_rate\",\n",
    "        \"recall_drift_rate\",\n",
    "        \"shared_support\",\n",
    "        \"item_support\",\n",
    "        \"learning_rate\",\n",
    "        \"primacy_scale\",\n",
    "        \"primacy_decay\",\n",
    "        \"stop_probability_scale\",\n",
    "        \"stop_probability_growth\",\n",
    "        \"context_sensitivity\",\n",
    "        \"delay_drift_rate\",\n",
    "    ],\n",
    "    [\n",
    "        \"encoding_drift_rate\",\n",
    "        \"start_drift_rate\",\n",
    "        \"recall_drift_rate\",\n",
    "        \"shared_support\",\n",
    "        \"item_support\",\n",
    "        \"learning_rate\",\n",
    "        \"primacy_scale\",\n",
    "        \"primacy_decay\",\n",
    "        \"stop_probability_scale\",\n",
    "        \"stop_probability_growth\",\n",
    "        \"choice_sensitivity\",\n",
    "        \"delay_drift_rate\",\n",
    "    ],\n",
    "]\n",
    "bounds = [\n",
    "    [\n",
    "        [2.220446049250313e-16, 0.9999999999999998],\n",
    "        [2.220446049250313e-16, 0.9999999999999998],\n",
    "        [2.220446049250313e-16, 0.9999999999999998],\n",
    "        [2.220446049250313e-16, 0.9999999999999998],\n",
    "        [2.220446049250313e-16, 0.9999999999999998],\n",
    "        [2.220446049250313e-16, 0.9999999999999998],\n",
    "        [2.220446049250313e-16, 100],\n",
    "        [2.220446049250313e-16, 100],\n",
    "        [2.220446049250313e-16, 0.9999999999999998],\n",
    "        [2.220446049250313e-16, 10],\n",
    "        [2.220446049250313e-16, 10],\n",
    "        [2.220446049250313e-16, 0.9999999999999998],\n",
    "    ],\n",
    "    [\n",
    "        [2.220446049250313e-16, 0.9999999999999998],\n",
    "        [2.220446049250313e-16, 0.9999999999999998],\n",
    "        [2.220446049250313e-16, 0.9999999999999998],\n",
    "        [2.220446049250313e-16, 0.9999999999999998],\n",
    "        [2.220446049250313e-16, 0.9999999999999998],\n",
    "        [2.220446049250313e-16, 0.9999999999999998],\n",
    "        [2.220446049250313e-16, 100],\n",
    "        [2.220446049250313e-16, 100],\n",
    "        [2.220446049250313e-16, 0.9999999999999998],\n",
    "        [2.220446049250313e-16, 10],\n",
    "        [2.220446049250313e-16, 10],\n",
    "        [2.220446049250313e-16, 0.9999999999999998],\n",
    "    ],\n",
    "]\n",
    "fixed_parameters = [\n",
    "    {\n",
    "        \"choice_sensitivity\": 1,\n",
    "        \"feature_sensitivity\": 1,\n",
    "        \"mfc_familiarity_scale\": 0,\n",
    "        \"mcf_familiarity_scale\": 0,\n",
    "        \"drift_familiarity_scale\": 0,\n",
    "    },\n",
    "    {\n",
    "        \"sampling_rule\": 0,\n",
    "        \"mfc_familiarity_scale\": 0,\n",
    "        \"mcf_familiarity_scale\": 0,\n",
    "        \"drift_familiarity_scale\": 0,\n",
    "    },\n",
    "]\n",
    "section_tag = \"Murdock1962\"\n"
   ]
  },
  {
   "cell_type": "code",
   "execution_count": 3,
   "id": "7c0245c5",
   "metadata": {
    "execution": {
     "iopub.execute_input": "2022-03-26T18:17:40.681238Z",
     "iopub.status.busy": "2022-03-26T18:17:40.680901Z",
     "iopub.status.idle": "2022-03-26T18:19:14.725443Z",
     "shell.execute_reply": "2022-03-26T18:19:14.724351Z"
    },
    "papermill": {
     "duration": 94.064565,
     "end_time": "2022-03-26T18:19:14.735812",
     "exception": false,
     "start_time": "2022-03-26T18:17:40.671247",
     "status": "completed"
    },
    "tags": []
   },
   "outputs": [
    {
     "name": "stdout",
     "output_type": "stream",
     "text": [
      "140678.8347371339\n",
      "368961.56736644026\n"
     ]
    },
    {
     "name": "stdout",
     "output_type": "stream",
     "text": [
      "140678.8347371339\n",
      "368961.56736644026\n",
      "dependencies and parameters validated\n"
     ]
    }
   ],
   "source": [
    "#| code-summary: code -- test that specified parameters are valid\n",
    "#| output: false\n",
    "\n",
    "events = pd.read_csv(data_path)\n",
    "\n",
    "trials, list_lengths, presentations, trial_details = events_metadata(events, trial_query)\n",
    "\n",
    "# import models from specified source\n",
    "models = []\n",
    "for i in range(len(model_paths)):\n",
    "    module_name, model_name = model_paths[i].rsplit('.',1) #TODO: add handling for case with no `.`\n",
    "    module = importlib.import_module(module_name)\n",
    "    models.append(getattr(module, model_name))\n",
    "\n",
    "# import analyses from specified source\n",
    "analyses = []\n",
    "for i in range(len(analysis_paths)):\n",
    "    module_name, analysis_name = analysis_paths[i].rsplit('.',1) #TODO: add handling for case with no `.`\n",
    "    module = importlib.import_module(module_name)\n",
    "    analyses.append(getattr(module, analysis_name))\n",
    "\n",
    "# make sure model initializes with provided parameters and boundaries\n",
    "for model_index, model_class in enumerate(models):\n",
    "\n",
    "    @njit(fastmath=True, nogil=True)\n",
    "    def init_model(item_count, presentation_count, parameters):\n",
    "        return model_class(item_count, presentation_count, parameters)\n",
    "\n",
    "    cost_function = generate_objective_function(\n",
    "        events,\n",
    "        trial_query,\n",
    "        init_model,\n",
    "        fixed_parameters[model_index],\n",
    "        free_parameters[model_index],\n",
    "    )\n",
    "    \n",
    "    for boundary_index in range(2):\n",
    "        x = np.array([each[boundary_index] for each in bounds[model_index]])\n",
    "        assert(len(x) == len(free_parameters[model_index])) \n",
    "\n",
    "        # parameter configuration\n",
    "        parameters = Dict.empty(key_type=types.unicode_type, value_type=types.float64)\n",
    "        for name, value in fixed_parameters[model_index].items():\n",
    "            parameters[name] = value\n",
    "        for i in range(len(free_parameters[model_index])):\n",
    "                parameters[free_parameters[model_index][i]] = x[i]\n",
    "\n",
    "        model = init_model(20, 20, parameters)\n",
    "        model.experience(model.items)\n",
    "        model.free_recall()\n",
    "\n",
    "        print(cost_function(x))\n",
    "print('dependencies and parameters validated')"
   ]
  },
  {
   "cell_type": "code",
   "execution_count": 4,
   "id": "cb550a22",
   "metadata": {
    "execution": {
     "iopub.execute_input": "2022-03-26T18:19:14.755933Z",
     "iopub.status.busy": "2022-03-26T18:19:14.755412Z",
     "iopub.status.idle": "2022-03-26T19:53:17.973079Z",
     "shell.execute_reply": "2022-03-26T19:53:17.971350Z"
    },
    "papermill": {
     "duration": 5643.257251,
     "end_time": "2022-03-26T19:53:18.002078",
     "exception": false,
     "start_time": "2022-03-26T18:19:14.744827",
     "status": "completed"
    },
    "tags": []
   },
   "outputs": [
    {
     "name": "stdout",
     "output_type": "stream",
     "text": [
      "InstanceCMR, Subject 1\n"
     ]
    },
    {
     "name": "stdout",
     "output_type": "stream",
     "text": [
      "4480.099944931542\n",
      "InstanceCMR, Subject 2\n"
     ]
    },
    {
     "name": "stdout",
     "output_type": "stream",
     "text": [
      "5682.835998788956\n",
      "InstanceCMR, Subject 3\n"
     ]
    },
    {
     "name": "stdout",
     "output_type": "stream",
     "text": [
      "5287.638510060126\n",
      "InstanceCMR, Subject 4\n"
     ]
    },
    {
     "name": "stdout",
     "output_type": "stream",
     "text": [
      "5268.116072093111\n",
      "InstanceCMR, Subject 5\n"
     ]
    },
    {
     "name": "stdout",
     "output_type": "stream",
     "text": [
      "5556.153210908868\n",
      "InstanceCMR, Subject 6\n"
     ]
    },
    {
     "name": "stdout",
     "output_type": "stream",
     "text": [
      "5800.347569314472\n",
      "InstanceCMR, Subject 7\n"
     ]
    },
    {
     "name": "stdout",
     "output_type": "stream",
     "text": [
      "4933.789145329112\n",
      "InstanceCMR, Subject 8\n"
     ]
    },
    {
     "name": "stdout",
     "output_type": "stream",
     "text": [
      "4474.971858992174\n",
      "InstanceCMR, Subject 9\n"
     ]
    },
    {
     "name": "stdout",
     "output_type": "stream",
     "text": [
      "4805.918251403095\n",
      "InstanceCMR, Subject 10\n"
     ]
    },
    {
     "name": "stdout",
     "output_type": "stream",
     "text": [
      "5508.050948981077\n",
      "InstanceCMR, Subject 11\n"
     ]
    },
    {
     "name": "stdout",
     "output_type": "stream",
     "text": [
      "4688.6723590562215\n",
      "InstanceCMR, Subject 12\n"
     ]
    },
    {
     "name": "stdout",
     "output_type": "stream",
     "text": [
      "5301.770669371575\n",
      "InstanceCMR, Subject 13\n"
     ]
    },
    {
     "name": "stdout",
     "output_type": "stream",
     "text": [
      "5957.034731128408\n",
      "InstanceCMR, Subject 14\n"
     ]
    },
    {
     "name": "stdout",
     "output_type": "stream",
     "text": [
      "6382.273262100263\n",
      "InstanceCMR, Subject 15\n"
     ]
    },
    {
     "name": "stdout",
     "output_type": "stream",
     "text": [
      "5395.551719800341\n",
      "PrototypeCMR, Subject 1\n"
     ]
    },
    {
     "name": "stdout",
     "output_type": "stream",
     "text": [
      "4478.741630384483\n",
      "PrototypeCMR, Subject 2\n"
     ]
    },
    {
     "name": "stdout",
     "output_type": "stream",
     "text": [
      "5622.740205542954\n",
      "PrototypeCMR, Subject 3\n"
     ]
    },
    {
     "name": "stdout",
     "output_type": "stream",
     "text": [
      "5280.248874629633\n",
      "PrototypeCMR, Subject 4\n"
     ]
    },
    {
     "name": "stdout",
     "output_type": "stream",
     "text": [
      "5261.751222528963\n",
      "PrototypeCMR, Subject 5\n"
     ]
    },
    {
     "name": "stdout",
     "output_type": "stream",
     "text": [
      "5560.867451052313\n",
      "PrototypeCMR, Subject 6\n"
     ]
    },
    {
     "name": "stdout",
     "output_type": "stream",
     "text": [
      "5803.936301991597\n",
      "PrototypeCMR, Subject 7\n"
     ]
    },
    {
     "name": "stdout",
     "output_type": "stream",
     "text": [
      "4895.838240335057\n",
      "PrototypeCMR, Subject 8\n"
     ]
    },
    {
     "name": "stdout",
     "output_type": "stream",
     "text": [
      "4392.157981536229\n",
      "PrototypeCMR, Subject 9\n"
     ]
    },
    {
     "name": "stdout",
     "output_type": "stream",
     "text": [
      "4825.225371379197\n",
      "PrototypeCMR, Subject 10\n"
     ]
    },
    {
     "name": "stdout",
     "output_type": "stream",
     "text": [
      "5495.981391096518\n",
      "PrototypeCMR, Subject 11\n"
     ]
    },
    {
     "name": "stdout",
     "output_type": "stream",
     "text": [
      "4700.533526506254\n",
      "PrototypeCMR, Subject 12\n"
     ]
    },
    {
     "name": "stdout",
     "output_type": "stream",
     "text": [
      "5226.747079938636\n",
      "PrototypeCMR, Subject 13\n"
     ]
    },
    {
     "name": "stdout",
     "output_type": "stream",
     "text": [
      "5970.241239656418\n",
      "PrototypeCMR, Subject 14\n"
     ]
    },
    {
     "name": "stdout",
     "output_type": "stream",
     "text": [
      "6352.023274757854\n",
      "PrototypeCMR, Subject 15\n"
     ]
    },
    {
     "name": "stdout",
     "output_type": "stream",
     "text": [
      "5330.974064744234\n"
     ]
    }
   ],
   "source": [
    "# | code-summary: code -- 1) fit each model class participant-by-participant\n",
    "# | output: false\n",
    "\n",
    "for model_index, model_class in enumerate(models):\n",
    "\n",
    "    # load individual fits for this model and section tag from csv if they exist\n",
    "    if os.path.isfile(results_path + '{}_{}_individual.csv'.format(section_tag, model_names[model_index])):\n",
    "        pd.read_csv(results_path + '{}_{}_individual.csv'.format(section_tag, model_names[model_index]))\n",
    "        print('individual fits for {} with tag {} already exist'.format(model_names[model_index], section_tag))\n",
    "\n",
    "    # otherwise, fit each participant individually\n",
    "    else:\n",
    "        model_individual_fits = []\n",
    "\n",
    "        @njit(fastmath=True, nogil=True)\n",
    "        def init_model(item_count, presentation_count, parameters):\n",
    "            return model_class(item_count, presentation_count, parameters)\n",
    "\n",
    "        for subject in pd.unique(trial_details.subject):\n",
    "            print(f'{model_names[model_index]}, Subject {subject}')\n",
    "\n",
    "            subject_specific_trial_query = f'subject == {subject}'\n",
    "            if trial_query:\n",
    "                subject_specific_trial_query = trial_query + ' & ' + subject_specific_trial_query\n",
    "\n",
    "            try:\n",
    "                # cost function to be minimized\n",
    "                # ours scales inversely with the probability that the data could have been\n",
    "                # generated using the specified parameters and our model\n",
    "                trials, list_lengths, presentations = events_metadata(events, subject_specific_trial_query)[:3]\n",
    "                cost_function = generate_objective_function(\n",
    "                    events,\n",
    "                    subject_specific_trial_query,\n",
    "                    init_model,\n",
    "                    fixed_parameters[model_index],\n",
    "                    free_parameters[model_index],\n",
    "                )\n",
    "            except ValueError:\n",
    "                continue\n",
    "\n",
    "            fit_result =  differential_evolution(cost_function, bounds[model_index], disp=False)\n",
    "\n",
    "            fitted_parameters = {\n",
    "                'subject': subject, 'trial_count': len(trials), \n",
    "                'likelihood': fit_result.fun, 'model': model_names[model_index]\n",
    "                }\n",
    "            for i in range(len(fit_result.x)):\n",
    "                fitted_parameters[free_parameters[model_index][i]] = fit_result.x[i]\n",
    "            for key in fixed_parameters[model_index]:\n",
    "                fitted_parameters[key] = fixed_parameters[model_index][key]\n",
    "\n",
    "            model_individual_fits.append(pd.DataFrame.from_dict(fitted_parameters, orient='index').T)\n",
    "            print(model_individual_fits[-1]['likelihood'][0])\n",
    "\n",
    "        model_individual_fits = pd.concat(model_individual_fits, ignore_index=True)\n",
    "        model_individual_fits.to_csv(\n",
    "            results_path + '{}_{}_individual.csv'.format(section_tag, model_names[model_index]), index=False)"
   ]
  },
  {
   "cell_type": "code",
   "execution_count": 5,
   "id": "8a209227",
   "metadata": {
    "execution": {
     "iopub.execute_input": "2022-03-26T19:53:18.056191Z",
     "iopub.status.busy": "2022-03-26T19:53:18.055683Z",
     "iopub.status.idle": "2022-03-26T19:53:21.857325Z",
     "shell.execute_reply": "2022-03-26T19:53:21.856642Z"
    },
    "papermill": {
     "duration": 3.825705,
     "end_time": "2022-03-26T19:53:21.859224",
     "exception": false,
     "start_time": "2022-03-26T19:53:18.033519",
     "status": "completed"
    },
    "tags": []
   },
   "outputs": [
    {
     "data": {
      "image/png": "iVBORw0KGgoAAAANSUhEUgAAAeQAAAHkCAYAAADvrlz5AAAAOXRFWHRTb2Z0d2FyZQBNYXRwbG90bGliIHZlcnNpb24zLjUuMSwgaHR0cHM6Ly9tYXRwbG90bGliLm9yZy/YYfK9AAAACXBIWXMAAA9hAAAPYQGoP6dpAACsSElEQVR4nOzdd3hUZdr48e850zIpk0JC6JCEXkPoJPQmiAoqCip2XVdXV193X1fXdfV1f7Z117JWFF27giiKIl2kSu89hUBCek9mkmnn98cwozGUMJnkzEyez3Xl0pk5c+ZOmJn7PO1+JEVRFARBEARBUJWsdgCCIAiCIIiELAiCIAh+QSRkQRAEQfADIiELgiAIgh8QCVkQBEEQ/IBIyIIgCILgB0RCFgRBEAQ/IBKyIAiCIPgBkZAFQRAEwQ9o1Q4gGDkcTkpLa9QOQxAEQfADcXERjTpOtJAFQRAEwQ+IhCwIgiAIfkAkZEEQBEHwAyIhC4IgCIIfEAlZEARBEPyASMiCIAiC4AdEQhYEQRAEPyASsiAIgiD4AZGQBUEQBMEPiIQsCIIgCH5AJGRBEARB8AMiIQuCIAiCHxAJWRAEQRD8gEjIgiAIguAH/Cohz58/n169ep3z5/vvv/cct3jxYqZNm8aAAQO48sor+fHHHxucq6qqiscee4zhw4czePBgHnjgAQoLCxsct3v3bq6//noGDhzIhAkTWLBgAYqiNOvvKQiCIAi/JSl+lH3S09Oprq6ud98HH3zAqlWr2LhxIzExMXz//fc8/PDD3HPPPYwcOZLly5ezZMkSPvnkE5KTkz3Pu+OOO0hPT+eRRx7BYDDw8ssvI8syS5YsQat1bQOdnZ3NrFmzSE1N5cYbb+TYsWO8+OKLPPTQQ9xxxx1e/x5iP2RBEATBrbH7IftVQj6XSZMmkZSUxIIFCwCYNm0a/fv351//+pfnmLlz5xIREcE777wDwJ49e5g7dy4LFy4kLS0NgMzMTGbMmMG///1vZsyYAcATTzzBpk2bWLFiBXq9HoB///vffPbZZ2zevNlz36USCVkQBEFwa2xC9qsu69/avXs3OTk5XHHFFQCcPn2akydPMn369HrHzZgxg61bt2K1WgHYsGEDJpOJ1NRUzzGJiYn06dOHDRs2eO7bsGEDkyZNqpd4Z8yYQWVlJXv27GnOX01oJsXFRfzzn/+PJ598jCeffIznn3+aM2dy1Q5LEAThovw6IX/33XeEhoYyadIkwNXKBUhISKh3XFJSEjabjdOnT3uOS0hIQJKkesclJiZ6zmE2m8nLyyMxMbHBMZIkeY4TAsuOHT9z5MghTp06yalTJzl27Ahbt25SOyxBEISL0qodwPnY7XZ++OEHJk6cSGhoKAAVFRUAmEymese6b7sfr6ysJCKiYRdBZGQkBw8eBFyTvs51Lr1ej9Fo9JzLW1qtX1/rBK3q6koAtBGdQdZir8iiurpK/HsIguD3/DYhb968mdLSUmbOnKl2KJdMliWio8PUDqNVqq01A6AxxoCsw16RRW1tjfj3EFoVRVF4//33ycrKAkCSJKZNm1ZvGE/wP36bkL/77juioqI8k7LA1cIFV+s2Li7Oc39lZWW9x00mE/n5+Q3OWVFR4TnG3YJ2t5TdrFYrFovFc5w3nE6Fykqz188XvFdcXAqApAkBje7sfSWUlYlJdkLrceZMLl9//XW9+/LzC+jbN1mdgFq5xjYI/DIh19bWsmbNGq688kp0Op3nfvd4b2ZmZr2x38zMTHQ6HZ07d/Yct3XrVhRFqTeOnJWVRc+ePQEIDQ2lffv2DcaKs7KyUBSlwdjypbLbnU16vuCdsrIyACRtCNLZhFxeXi7+PYRWpbTU9TmI0MuM6hjKqqxqKirE58Df+eXA2rp16zCbzZ7Z1W6dO3emW7durFixot79y5cvZ9SoUZ7Z0mPHjqWiooKtW7d6jsnKyuLw4cOMHTvWc9/YsWNZu3YtNput3rlMJhODBw9ujl9NaGbl5e6EbETSGj33+fnqPkHwqcpK1xyYmBANyfGuz4HZbK73XSf4H79sIS9btowOHTowZMiQBo/df//9/OlPf6JLly6MGDGC5cuXs3//fj7++GPPMYMHDyYtLY3HHnvMUxjkpZdeolevXkydOtVz3B133MGyZct4+OGHmTdvHsePH2fhwoU89NBDXq9BFtRjs9mornYNQUhaI5Lsens7HA6qq6uIiDBd6OmCEDTcw3hhehmjVkKWwKlAVVUlMTFtVI5OOB+/S8gVFRVs3LiRW265pcGyJYCZM2disVh45513WLBgAQkJCbz22msNWrQvv/wyzz77LE888QR2u520tDQef/xxT5UugK5du7Jw4UKee+457r77bmJiYnjggQe4/fbbm/33FHyvoqL87P/JSBo9kiQhaQwojjrKyspEQhZajYoKV09RuE5GkiTCdTKVVicVFeUiIfsxv0vIv16adD5z5sxhzpw5FzwmIiKCZ555hmeeeeaCx6WkpLBo0aJLjlPwP6WlJQBIOqPnYk7SGs8m5FK6dOmqZniC0GLKy8sBiDBozv7XlZDdQzqCf/LLMWRB8IY7Icu6UM99si7s7GPFqsQkCGooK3OtNjDpXV/xEXrN2ftFQvZnIiELQeOXFvIvSwyks8nZ/ZggtAbulnC4JyG7/utO1IJ/EglZCBolJa5WsKz9dQs5tN5jghDsFEWhpMR1ARp5tsva/V9xYerfREIWgkZRUREAkv7XLeTweo8JQrAzm2uoq6sFfp2QXV/1IiH7N5GQhaBRVFQIgHw2Cbv+P6zeY4IQ7Nyt41CdhE7jmtzoTsyip8i/iYQsBAWn00lJiasVLP9qDFnWu5JzZWWFp9UgCMHMnXTdSRggMsQ9qasUp1NU6/JXIiELQaG0tAS73Q7InolcAJJGD7KryEthoWglC8GvqKgAgOiQXxJyhF5GI7mK5Ihua/8lErIQFAoKXJuJyPpwJKn+21rWR9Q7RhCCmXt45tcJWZYkos7eFsM3/kskZCEouJOtpA9v8Ji727qgIK9FYxIENRQWulrIMb9KyPBLgnY/LvgfkZCFoJCf70q27tbwr7nvcx8jCMHMnXCjjfULMcYYXQlZ9BT5L5GQhaCQl5cLgGxoWK9aNkSePeZMi8YkCC3Nbrd7uqRjjfVbyG3OJmhxYeq/REIWgsKZM66ErNFHNnjMnaTPnMkV2zAKQa2wsACn04leI3mqc7m5E3R+vrgw9VciIQsBz2Ixe0oCnrOFrA8HJGprLaJ0oBDU3Mm2jVHTYLe82FBXC7moqPDsigTB34iELAS83NwcACRtiGuZ029IksYzjuw+VhCCkXtYJtbYcCO/CL2MTpZwOByepVGCfxEJWQh4OTmnAZANUec9xj2OnJNzqiVCEgRV5Oa6PgttwxomZFmSaBumOXucuDD1RyIhCwHPnWQvmJBDos4ee7oFIhIEdeTkuBJt29Bzb3Xvvl98DvyTSMhCwDt92pWQNWeT7rlozibr06ezWyAiQWh5drvdM4Z8rhYyQNzZhOxuSQv+RSRkIaA5nU5PQm5MCzkv7ww2m7UFIhOElpWffwa73Y5eI3l2d/qt+LOJ2v2ZEfyLSMhCQCssLKC21gKS5pwzrN0kbSiSxoDD4RDddUJQys4+CUC7MC3yb2ZYu7UP1wGuz43ZbG6p0IRGEglZCGjZ2VmAqwX82xrWvyZJEnJI9NnnnGyJ0AShRbmHY9qHn7u7GiBUJ2M623oWExz9j0jIQkBzJ2TN2WR7Ie5jTp7MbNaYBEENv7SQdRc8rv3Zx92fHcF/iIQsBLTMzAwANCExFz1WDmkDQFaWSMhCcHE6nZw86UqwHSIunJA7RLha0OJz4H9EQhYClsPh8HwJycY2Fz1eY3Ql7ZycU9TV1TZrbILQkvLyzlBXV4tOlogL1Vzw2A5nx5FFQvY/IiELAevMmVys1jqQtcj680/ocpN1oUhaI4qiiHFkIahkZbl6itqHn39Cl5u7BV1QkIfZXNPssQmNJxKyELAyMk4Aru7q39btPR/N2Za0+7mCEAzcCbnjRbqrAcJ0smdvZPeQj+AfREIWApYnIRtjG/0c97Hp6SIhC8HD/X7ubLp4QgbodDZxiwtT/yISshCw0tOPA6AJvfSEnJFxXGzFKAQFi8XsWcLUqREtZPglcbs/Q4J/EAlZCEiVlZUUFOQDl9ZClkOiQZKprKyksFDseCMEvszMDBRFIcogYzJceEKXmzshZ2am43Q6mzM84RKIhCwEpBMnjgGuXZzOteXi+UiyxrNEyn0OQQhk7vdxZ1PjPwdtw7ToNRIWi0VUrvMjIiELAen48aMAaELjLvm57ue4zyEIgcz9Pu4a2bjuagCNJNHlbCv52LEjzRKXcOlEQhYCkvtLRBPa9pKf636O+CISAp3NZvNMzOoa2fgW8q+PFxem/kMkZCHgmM1mT91ejdGLFrIxFpAoKiqktLTEx9EJQsvJysrAZrMRppOJNTZu/Nit69kW8vHjR8UERz8hErIQcI4fP4KiKEj6CGSd8ZKfL2l0no0mRCtZCGRHjx4GXN3VjV2L79YhQodOhqqqSrE/sp8QCVkIOEeOuL6EtF50V7tpw9qePdchn8QkCGo4fPggAIlRl9ZdDaCVJbqc7bY+fFh8DvyBSMhCwHEnUU1YvNfn0ITG1zuXIASaurpaz/hxghcJGX5J5EeOHPRZXIL3REIWAkplZaWnCII3E7rcXMVEJEpKisV6ZCEgnThxDIfDQaRBJibk0saP3dyJ/NixI9jtdl+GJ3hBJGQhoLiv5GVDFLI2xOvzSLLOU1DE3e0nCIHk4MH9gKuVe6njx27twrSEaiVqa2vJzEz3ZXiCF0RCFgLKoUOu5NmU7mo39zkOHTrQ5HMJQktzv2+7Rxu8PocsSSSefb47wQvqEQlZCBiKonD4sOtLSBvWrsnnc5/jyJGDonygEFBKS0vIzc1BwvvxY7ekaNfzDx0SCVltIiELASM//4xr3bAke1Wh67dkYwzIOsxms9isXQgo7tZshwgdobqmfY0nnU3oJ09mUVlZ2eTYBO+JhCwEjAMHXF9CmtA4JFnb5PNJkuxpJR88uK/J5xOElrJ//14AekQ3rXUMYDJoaBemRVEU8TlQmUjIQsBwf1low9r77JyacJGQhcBit9s948c9YrwfP/4193nciV5Qh0jIQkCwWq2/1K8O911Cdif3zMwMqqurfHZeQWgux48fpa6uljCdTPvwpvcUAfSIcbW0Dx7ch8Ph8Mk5hUsnErIQEI4ePYTNZkPShiLrTT47r6wLRTZEnu2uE7OtBf+3d+9uwJVEZS+XO/1WpwgdRq2E2WwmPf24T84pXDq/TMhff/01s2bNYsCAAYwYMYI777yT2tpaAP7yl7/Qq1evBj8bNmyodw6r1crzzz9PamoqycnJ3HbbbWRmNpy4k5GRwW233UZycjKpqam88MILWK3WFvk9hcbbt28vANrwDl6vuTwfbXgHAPbv3+PT8wqCrymKwt69uwDo5aPuanAtf+p59nx79uzy2XmFS+Ob/g4fevPNN3nnnXe45557SE5OpqysjK1bt9brRuncuTMvvvhiveclJSXVu/2Pf/yD5cuX85e//IX4+Hjeeustbr31Vr7//nsiIiIAqKio4JZbbqFbt2785z//oaCggOeee47a2lqeeOKJ5v9lhUZRFMWTLLU+7K5204S3h5IjHDy4D6fTiSz75XWqIJCbm0NxcREaCZKasP74XHq1MbCvsJa9e3dx/fU3+vzCV7g4v0rImZmZvPbaa7zxxhuMGzfOc/+0adPqHRcSEkJycvJ5z5Ofn8+XX37J3//+d6699loABgwYwIQJE/j888+56667APj888+pqanhtddeIyoqCgCHw8FTTz3F7373O+Ljm158Qmi6M2dyKSkpdi138kFBkN/SGGNB1lFdXU1Gxgl69Ojl89cQBF9wt44To/XoNb5NmElRejQSFBYWcOZMLh07dvLp+YWL86umwFdffUWnTp3qJWNvbNq0CafTyWWXXea5LyoqitTU1Hpd2xs2bGDUqFGeZAwwffp0nE4nmzdvblIMgu+4v4Q0ofE+We70W5Ike1re7vE5QfBHu3fvBKC3D7ur3Qxa2VNkZM+enT4/v3BxfpWQ9+3bR8+ePXnjjTcYNWoU/fv3Z+7cuezbV39JSnZ2NkOGDKF///5cffXVrFmzpt7jmZmZtGnThsjIyHr3JyUl1RtHzszMJDExsd4xJpOJuLi4c443C+pwJ0ltRMdmew1tuOvc+/aJhCz4p5KSYk6edH0v9WrjfR33C+kT60r0u3btaJbzCxfmV13WRUVFHDx4kOPHj/P3v/8do9HIW2+9xe23386qVato06YNffr0YcCAAXTv3p2qqio+++wz7rvvPl555RVPi7iystIzTvxrJpOJiooKz+3KykpMpoYzdiMjI+sd5w2t1q+udQJWRUW5p+i9e/JVc3C1kKWz3eOFxMc3vTSnIPjSvn2unqIuJh3h+ub5fukVE8J3VJGdnUV5eSmxsbHN8jrCuflVQlYUBbPZzCuvvELv3r0BGDRoEBMnTuTjjz/mj3/8I7fccku950ycOJG5c+fy6quv1uuiVpMsS0RHh6kdRlDYvn0TiqIgh0Qj60Kb7XUkjR5NaBwOcyFHjuynd++kiz9JEFqQe+jG3YptDuF6mS4mHdmVNg4f3stVV13VbK8lNORXCdlkMhEVFeVJxuAa++3bty/p6efeGkyWZaZOnco///lPamtrCQkJwWQyUV1d3eDYysrKet3YJpOJqqqGxSAqKioadHdfCqdTobLS7PXzhV9s3Ogay9dGNP8EE21EJxzmQjZt2sz48VOb/fUEobHKy8s5dOgQAH2aqbvarU9sCNmVNn76aSNjx05u1tdqLRrbQPOrhNy9e3dOnTp1zsfq6uoafZ7ExESKi4sbJNbfjhknJiY2GCuuqqqiqKiowdjypbLbxe5BTWWxWDwlAlsmIXekrmA3J04cp6SkrEkXZYLgS9u3b0NRFDpG6IgK0TTra/WNNbAis4oTJ45RVFRMdHRMs76e8Au/GuicMGEC5eXlHDlyxHNfWVkZhw4dol+/fud8jtPpZMWKFfTo0YOQENeVY1paGrIss2rVKs9xFRUVbNq0ibFjx3ruGzt2LFu2bKm3w8mKFSuQZZnU1FRf/3rCJTpwYB92ux1JH+HT6lznI+vCkENi6hVfEAR/sHPnNsCVLJubyaChs0l39nW3N/vrCb/wq4Q8efJkBgwYwAMPPMDy5ctZu3Yt99xzD3q9nhtuuIHc3Fzmz5/P559/ztatW1mxYgW33XYbBw8e5I9//KPnPO3atePaa6/lhRdeYMmSJWzatIk//OEPREREMHfuXM9xc+fOJSwsjPvuu49NmzaxZMkSXnjhBebOnSvWIPuBXbtcXwa6iE4tVqTA3RJ3v7YgqK2iotxTx71vbPN2V7u5E/+OHT+3yOsJLn7VZS3LMgsWLODZZ5/liSeewGazMXToUD755BPi4uIoLy8nPDycN998k5KSEnQ6Hf379+edd95hzJgx9c71+OOPExYWxr/+9S9qampISUnh/fffrzf7OjIykg8++ICnn36a++67j7CwMK699loeeuihlv7Vhd+wWq2/VOeK6Nxir6uL6IS1aD+HjxyipqaasLDwFnttQTiXHTtc3dWdInREN3N3tVu/2BBWZVaTnn6ckpJi2rQRs61bgqQoiqJ2EMHG4XBSWlqjdhgBbffuHbz22ktIulDCkq5o0TJ+NZkrcNaVc8cd95CaOvbiTxCEZvTMM0+Snn6cyxIjGNmx+VYa/Nb7+0vJrrBx3XU3cNllM1vsdYNRXFzDZbjn4ldd1oLg5h4z00Z0bvGauu5ua9FdJ6itpKSY9PTjSLTM+PGv9Y9zdY9v27alRV+3NRMJWfA7dXV1nh1ndKYuLf762rOvefDQgXMunxOEluJOhl0jdZgMLdNd7da3TQgSkJ19kry8My362q2VSMiC3zlwYC91dXVIZ2c9tzSNwYRsiMLpcLB7tyghKKhn61bXOvwBbVtmMtevhelluke7alv//LOo7d8SREIW/M62bVsBV+tYrS3g3K3k7du3qvL6gnD69Clyc0+jkVpudvVvuS8Efv55M2K6UfMTCVnwK2az+ZfZ1V52VytOJ3WWShSn4+IHn4e7q/zIkUNUVJR7fR5B8NbWrZsA6BFjwKhSbfzebULQyRJFRYVkZJxQJYbWRCRkwa/s2rUdm82GrHd1G18qW10Nu354mZ+/+gc7vvsXdWbvNgmR9eHIxjYoiuJpsQtCS3E6nZ5u4oEqdFe76TWSp3b2li0bVYujtRAJWfAr7i8hjakLoKAozkv6yT2+hZryfAAsVcXkHNlwyedw/2gjugK/tFQEoaUcPnyQ8vIyjFqJns2w9/GlGHT2gmD79q3YbDZVYwl2flUYRGjdyspKOXr0MAC24oPYig9e8jlsxfn1b5cdp/po09aEZ2dnkZeXS/v2zbcfsyD82pYtGwDX0iOtrM48CreEKD0Repkqs5l9+3YzdOgIVeMJZiIhC35j61b3VottCO02yatzJHS3Yt7wIeUFGZhiu5A45hZ0eu+LKZhPb8RZk8eWLRu55pq5F3+CIDSR2Wxm9+6dAAyKN3p9nsyiSpbtPYkpRM/1w5MINei8Oo8sSQxqG8KmHDObNm0QCbkZiYQs+AVFUdi82dUq0EUnIknejaZodSEMmnQ3iuL0+hy/po9KpLYmjy1bNjF79nXIshjlEZrXzz9vxmq1EmuUaReqweG89NnNVbVWHl+yneo6VxdzblkNj85M8TqmAWcT8v79eygrKyM6OtrrcwnnJxKy4BcyMzNcxQckDbqIphcD8UUyBtCGdwBZT1lZKYcPH6R//4E+Oa8gnM/nn38MQLHFyT+2FHl1jpqaGk8yBtiTU8bTmwt9Et+WLRu5/PIrfXIuoT6RkAW/sGnTesBVtlLSeNe11hwkWYMusiu2shNs2rReJGShWeXknMZutyEBDw6LJVzv3YVlrc3OQ/mnya8wAzCxVzvuSW3bpNj2FlhYll7Fpk3rmTGjZevLtxYiIQuqq62t5eefXSUCdVGJKkfTkC4yAVvZCXbv3klVVSUREc2/N7PQOm3Y8CMAvdoYiGzCzk5hBh0vXDeSH4+ewRSiY0KfjshNTKD924awMquagoJ8jh07Qu/efZt0PqEhMSAmqG7Hjp+pq6tF0oWjCW3aVXxz0BhjkEOisdvtYgmU0GysVqtnre+Qdt5P5nKLCjUwOyWBSX07NTkZAxg0MgPObjixYcO6Jp9PaEgkZEF17g+3LirJb7vBdFFJAPz004+ihKDQLHbu3IbZXEOkQSbpbA1pf+O+UNi5cztVVZUqRxN8REIWVHXq1EkyMtIBCV1UgtrhnJfO1BUkDXl5uRw/flTtcIQg9NNPrgvTlHZGn7Rom0OHCB3tw7XY7XY2bxaVu3xNJGRBVevWrQZAa+qMrFWvRODFSBodushuAKxdu0rdYISgk5NzihMnjiEBg5uw9rgluFvJ69evwel0qhxNcBEJWVBNTU21p1SmLrq7ytFcnC66BwC7d++krKxM5WiEYOK+MO0Ta2jxfY8v1YC2IRg0EoWFBRw+fEDtcIKKSMiCajZt+gmr1YpsiERjjFM7nIvShEShMcbidDr46ae1aocjBAmz2eyZLDisvfdV5VqKQSMzKN7Vm+W+kBB8QyRkQRUOh8PT9auL7uG3k7l+SxfTE4Aff1yDzWZVORohGGzevIG6ujriQjV0i/SfNfgX4r5w2LdvD0VFvik4IoiELKhkz56dFBcXIWn0nrHZQKCN6ISkDaWqqpKtWzerHY4Q4JxOJ2vXrgRcSS5QLkzjQrUkRulRFEW0kn2oUYVBbr755ks+sSRJfPDBB5f8PKF1WLXqB+Bs61gOnPo0kiSjj+lJXeFeVq/+gTFjxgfMl6jgf/bv30NhYQEhWolkP5/M9VsjO4aSWW5lw4YfufLKqzEaAyt+f9SoFrKiKA1+8vLy2L59O0eOHKG6uprq6mqOHj3K9u3byc/PF2s1hfNKTz9OevpxkOSAmMz1W7qoRJC15ObmcPDgfrXDEQLY6tUrANdSJ70msC7sukfraWPUYLGYPdtFCk3TqKbJRx99VO/2zp07uffee3n66aeZPXs2Wq3rNHa7na+++ooXX3yRZ5991vfRCkFh+fJvAdfaXlkbeFfVkkaPLioJW+kxvv/+GwYMGKR2SEIAOnUqmyNHDiEDwwNgMtdvyZLEiA6hLM+oYvXqFUyYMEXshtZEXv31XnjhBa6++mrmzJnjScYAWq2W6667jquvvprnnnvOZ0EKwSMn5zR79+4GQN+mj8rReE8f0wskmePHj7pa+4JwiVas+A5wLXWKakLdajUlxxsJ0bqWQLn3cBa851VCPnbsGJ07dz7v4506deL4cfElJTTkbh1rIzojGwJ3kwZZF+qZjPbdd9+oG4wQcEpKitm+fSsAqZ3CVI7Ge3qN5JlxvWLFd2Kosom8Ssht27Zl+fLl2O32Bo/Z7XaWL19O27b+t0mAoK78/Dy2bXPt6hTIrWM31+8gsX//HrKzs9QORwggq1f/gNPppFukjg4RgbHU6XxGdDCikSAzM50TJ46pHU5A8yoh33nnnezatYvrrruOxYsXs23bNrZt28aiRYu47rrr2LNnD3fccYevYxUC3LJlX6MoCprwDmiMMWqH02SyPgKtqQsA33yzROVohEBRXV3lqVsdyK1jt3C9xjND3N0DJnjHq/Um119/PbIs8/LLL/O3v/3Ns+xDURRiYmJ46qmnuO6663waqBDY8vLOeMpkGmL7qxyN7xhi+2GvPMXevbvJysokIcH/9nMW/MuaNSupq6ujXZiW7n66q9OlGt0plN35Fvbv30t29km6du2mdkgByesFoHPmzGH27NkcPHiQM2fOANChQwf69+9fb6KXIAAsW/YViqKgDe8YFK1jN9lgQhvZFXvFSb755ksefPB/1Q5J8GMWi5k1a1xLncZ0DguaNextjFr6x4VwoKiW779fyr33Pqh2SAGpSZlTq9WSnJxMcnKyj8IRgtGpUyfZts01gUUfFzytYzdDbD/sFdns37+X48eP0rNnb7VDEvzUunVrMJvNxBo19Ik1qB2OT6V1DuNAUS27du0gNzeHjh07qR1SwPF60ZjD4eDrr7/mj3/8I3PmzGHOnDn88Y9/ZOnSpTgcDl/GKAS4L7/8wtU6NnVBExKtdjg+J+sjXMVCgMWLPxMzTYVzslgsrFzpWuqU1jnMb/c89lZ8mJbebQwoisKyZV+rHU5A8iohV1VVMW/ePB577DE2b96M3W7HbrezZcsWHn30UW644Qaqq6t9HasQgI4cOcTBg/sACUPcALXDaTb62P4gacjIOMHevbvUDkfwQ+vWraK6upoYo4YBbf137++mGN/FNUltx46fyc3NUTmawONVQn7ppZc4dOgQjz/+OFu3buXrr7/m66+/ZsuWLfztb3/j4MGDvPTSS76OVQgwTqeTxYs/A1z7Hcv6CJUjaj6yzugqFoKrlXyuJYFC62WxmPnhB1freHyXMDRB1jp2axeuo8/ZVrJYeXDpvErIq1evZt68edx4443odL+sodPpdNxwww3MmzePlStX+ixIITBt3bqJkyczQdaij+2ndjjNTt+mN5LGQH5+HuvXi/2ShV+sXr0Cs7mGWKOG/nHB2Tp2G9/V1UreuXMbp06dVDeYAONVQi4vLychIeG8jyckJFBRUeF1UELgq62tZcmSLwDQx/ZD1gb3lxC4alzrz3bLL136pRi2EQCorKz0lMkc3zU86MaOfys+TEe/sxPWvvpqkcrRBBavEnLXrl1Zt27deR9ft24dXbp08TooIfD98MMyysvLkHRh6KN7qh1Oi9FFJSIbIjGba0SXnQDA8uXfUFtbS7swLX2DbGb1+UzsFo4M7N+/l2PHjqgdTsDwKiHPmzePzZs3c9ddd7Fp0yZycnLIyclh48aN3H333WzZsoUbb7zR17EKAaKwsMAzXmZom4wkB2bhfG9IkowhPgWAH39cTU7OKZUjEtRUUlLMunWrAZicEPytY7c2Ri2D27mqdy1Z8oVYedBIXq1DvvHGGyktLWXBggVs2rSp/gm1Wu677z5uuOEGnwQoBBZFUfj00w+w221owuLRRrS+tYjas7+3vSqHDz98j7/85QmxLV0r9fXXi7Hb7XSL1JEUFRxVuRprXJcw9hVaSE8/zp49O0lJGaZ2SH7P68Ig999/PzfeeCNbtmzxVOrq2LEjo0aNIiYmeCoxCZdm9+6d7N+/FySZkPghQVOJ6FIZ4gdjr84nPf04W7ZsJC1tnNohCS3s5MlMtmzZCMCUhIhW91kwGTSM6hjGxtM1LF78GQMHDhZVHC+iSX+dmJgYZs6c6atYhABXW1vLZ599CIA+pndAb6/YVLIuDENcP+oK97Fo0ackJw8hPDxc7bCEFqIoCl988QkAA+JC6BjgOzp5K+1sjeuCgnx+/HE1U6ZMVzskv9akhLx9+3bWr19fr5b1+PHjGT58uE+CEwLL118vprS0xDWRK7av2uGoThfTC1vFSaqrK1i06BNuv/13aocktJC9e3dx7NgRtDJM6tZ6L8QMWpkJXcP4Lr2Kb775ilGjxogL0wvwKiFbrVYefvhh1qxZg6IomEyullBlZSXvv/8+U6ZM4V//+le9NcpCcMvISPcUzQ9pNxRJFl1TkiQT0m4Y5uw1bNr0EyNGjKZfv+CtVia42Gw2T+t4ZMdQokJaz6TGcxnczsj2MxYKzTV8++0SbrjhFrVD8ltezTR5/fXXWb16NbfddhubNm1i+/btbN++nc2bN3P77bezatUqXn/9dV/HKvgpu93OBx+846pXHdkNbXh7tUPyG5rQWHTRPQD48MOF1NXVqRyR0NxWrVpOYWEB4XqZMUGw33FTaSSJaYmuVvG6davJyTmtckT+y6uEvGzZMmbPns3//u//Ehsb67m/TZs2/PnPf2bWrFl8+63YqLq1WL78W3JyTiNpDBjaDlY7HL9jiBuIpDVSVFTI118vVjscoRmVlpZ4NlaYkhCOQStm1wMkRRvo08aA0+nk008/EMugzsOrd0tRUREDBw487+MDBw6kqKjI66C+/vprZs2axYABAxgxYgR33nkntbW1nsfXrVvHlVdeyYABA5g2bRpLljQswGC1Wnn++edJTU0lOTmZ2267jczMzAbHZWRkcNttt5GcnExqaiovvPACVqvV69hbm1OnTvLtt64vIEN8CrK2dRQ+uBSSRkdIe9eSj9Wrf+DEiWMqRyQ0l8WLP8NqtdLZpGNgkJfIvFRTEyPQynD06GF27tymdjh+yauE3K5dO7Zv337ex3fs2EG7du28CujNN9/k6aefZsaMGSxcuJD/+7//o1OnTp4tHXfu3Mkf/vAHkpOTeeedd5g+fTp//etfWbFiRb3z/OMf/2Dx4sU89NBD/Oc//8FqtXLrrbdSVVXlOaaiooJbbrkFm83Gf/7zHx566CEWLVrEc88951XsrY3dbmfhwrdxOh1oIzqhNYnqbOejDe+ANjIBRVFYuPAt0XUdhA4fPsi2bVuQgOlJrW+Z08VEh2hIPduF//nnH2GxWFSOyP94NfNm1qxZ/Oc//yEiIoJbb72Vrl27IkkSJ0+e5IMPPmDFihXcf//9l3zezMxMXnvtNd544w3Gjftl3ea0adM8///mm28ycOBA/u///g+AkSNHcvr0aV599VUuu+wyAPLz8/nyyy/5+9//zrXXXgvAgAEDmDBhAp9//jl33XUXAJ9//jk1NTW89tprREVFAa59np966il+97vfER8f782fp9VYtuxrTp/OdnVVtxsqvoAuIiR+MDU1+RQWFrBkyedicksQsdlsfPTR+wAMbW+kQ7iY0HouaZ3C2F9YS1lZGd988yVz585XOyS/4lUL+Z577mHWrFksWrSIyy+/nIEDBzJgwAAuv/xyvvjiC2bNmsU999xzyef96quv6NSpU71k/GtWq5Vt27Z5Eq/bjBkzyMjIICfHtf/mpk2bcDqd9Y6LiooiNTWVDRs2eO7bsGEDo0aN8iRjgOnTp+N0Otm8efMlx9+aZGSk8/333wBgaDekVWwe0VSSRk9Ie9eSwDVrVnL48EGVIxJ8ZcWK7ygoyCNcJ7fqZU4Xo9NIzEhybcO6Zs1KTp3KVjki/+JVQtZoNDz33HMsXbqUhx56iGuvvZZrr72Whx56iKVLl/Lss896VSpw37599OzZkzfeeINRo0bRv39/5s6dy759+wA4deoUNpuNxMTEes9LSkoC8IwRZ2Zm0qZNGyIjIxsc9+tx5MzMzAbnMplMxMXFnXO8WXCpra3lnXdex+l0ojV1QSe6qhtNG94eXVR3ABYufFPsCBUECgry+e67pQBMSwwnREzkuqAeMQb6xromeH344UKcTqfaIfmNJi0W7d27N7179/ZVLBQVFXHw4EGOHz/O3//+d4xGI2+99ZZnKZV7S0f3umc3923345WVlURERDQ4v8lkqrctZGVlZYNzAURGRjZ5+0htEH8oFy36mMLCAiRtKCHthqodTsAxxCdjNxdQVlbGxx+/x333/VF09wcoRVH46KOFroZClD7o9zr2lcsSI0gvs5KZmc769WuYOvWyiz+pFWhy9YaamhoqKyvPOY29Q4cOl3QuRVEwm8288sornkQ/aNAgJk6cyMcff0xaWlpTw20RsiwRHR2c6w9//vln1q93bb0Z0mEEkqZ1Fcz3BUnWYuwwCvPJ1Wzf/jOpqaOYOHGi2mEJXlizZg2HDx9CJ0vM7C4mcjWWyaBhSrdwvs+oYsmXnzNhwhjatm2rdliq8yoh19XV8dprr/Hll19SXl5+3uOOHLm0fTBNJhNRUVH1Wt1RUVH07duX9PR0Lr/8coB6M6XB1dIFPF3UJpPpnF2BlZWV9bqxTSZTg3OBq6X92+7uS+F0KlRWmr1+vr8qLS3h5ZdfAUAX0xttmJj05i2NMQZ9XH+sRQd48803ad++C+3aiYIqgaS8vJx3330XgPFdw4gx+ld1uhUHTrFoewYRIToenDqQhDj/qi0/pL2R/UW1nK6s5dVXX+N//ud/g/aCprENNK/eQU8++SRLly5l8uTJDBkypEnJ69e6d+/OqVPn3j+2rq6OLl26oNPpyMzMZMyYMZ7H3OO97vHgxMREiouLGyTW344ZJyYmNhgrrqqqoqioqMHY8qWy24NrXMTpdPLmm69RU1ONHBKNoa3/loCsqSigsugkEW26EB7tv0lO36YPjpp8as1FvP76q/z1r0+J3XACyIcfvkdNTQ3twjQMa2/E4fSfYhcFFWbe+vEQTgWKq2t5ZfUB/jV3tNphNXB59wgW7C5l3749bNq0kVGjAqMXtLl49elfvXo1c+bM8Sw98pUJEybw1VdfceTIEfr06QNAWVkZhw4d4tZbb0Wv1zNixAhWrlzJLbf8smRk+fLlJCUl0amTa+/dtLQ0ZFlm1apVzJkzB3C1ejdt2sS9997red7YsWN566236o0lr1ixAlmWSU1N9envFui++24px44dAVmLseNoJMk/6/NWleSwd/WbOB02JFnDwIl3EhWfpHZY5yRJMiEdRmHOWkF2dhZLlnzB9dffqHZYQiPs2PEzO3e6ajHk1zh4Zov3hZCag9ls5tfXBzkVtTy9uVC9gC7AqJWw2BU+/fRD+vbtT2RklNohqcarhCxJEn37+n43n8mTJzNgwAAeeOABHnroIQwGAwsWLECv13PDDTcA8Pvf/56bb76ZJ598kunTp7Nt2za+++47XnrpJc952rVrx7XXXssLL7yALMvEx8fz9ttvExERwdy5cz3HzZ07l48++oj77ruP3/3udxQUFPDCCy8wd+5csQb5V44fP8o337iqoRniByPpwlAU/+wBKD59EKfDBoDidFB0aj+RbRNUjur8JG0I+nZDqcvdwsqV39OnT18GDhTlR/1ZZWUlH3/8XwDGdAplfFf/W+akKAr/tJWxNaMAWZK4e0xPJvX1zzFap6KwcF8Z+TXVfPTR+9x334NB23V9MZLiRVHRv/zlL5jNZl599VWfB1RaWsqzzz7Ljz/+iM1mY+jQoTz66KN0797dc8zatWt5+eWXycrKokOHDtx9992eAiBuVquVl156iW+++YaamhpSUlJ4/PHHPUuk3DIyMnj66afZs2cPYWFhXHXVVTz00EPo9d5PVnI4nJSW1nj9fH9SWVnJk08+Snl5GchacNrVDumCSktLOXnypOd2586diYuLUy+gxpJ14LQRHh7Ok08+S0xMG7UjEs7jrbdeZfv2n2kbquXuwTFoZf9MHoqicLK4inCDjjiTUe1wLii/2saCvaU4Ffjd7/7AiBH+173eFHFxDVf9nEujEvJvJ25VVlby4IMP0q9fP66//no6dOhwznXHvy640ZoES0J2Op28/PILHDy4H1lvwthtckBsq5hzdCPl+RmY4rrSue/4gLjaVpxOLKfW4qwto3v3nvzv/z4uxpP90I4dP/Pmm68iS3DHoBg6RoiKXL7yY3Y1P52qITw8nKeffiGouq59mpB79+7d4EvN/bQLfdld6izrYBEsCfn7779hyZIvQNIQ2m0KmpAotUMKak5rFTVZq8BpY/r0K5gzZ57aIQm/UlFRzt/+9r9UV1czpnOYqMjlY3anwrt7S8mvsTNo0GAeeOBPAXEx3RiNTciNugS/7777guYPIzTO0aOH+eqrRQAY2qWIZNwCZH0EIe2HUZu7hR9+WEaPHr1ITk5ROywBVwPkv/99h+rqatqFaRnXJTjrDKhJK0vM7mViwR73rOufGDNmvNphtSivxpCFCwv0FnJFRTl///ujVFZWoI3sRkj7EeKCrAXV5u/CVnaC0NAwnnzyGWJjA2AMPMht3Lie999fgEaCuwfHEB8muqqby6bTNaw5WU1ISAj/93/PB8X7v7Et5OCt7yh4xeFw8Pbbr1FZWYFsiCRE7OLU4gxtk5FDYjCba3jjjVew2Wxqh9SqFRYW8OmnHwIwoWu4SMbNbHSnUDqbdNTW1vLuu2+2qlrXjeqyfu2115Akid///vfIssxrr7120edIksR9993X5ACFlrV06WKOHj18dr1xakBM4go2kqzB2CkVc9ZKTp7M5PPPP2L+/NvVDqtVcjqdvPvum9TV1dLFpGN0p1C1Qwp6siQxu6eJN3eXcvz4UVau/J7p069QO6wWcUmTuvbt24der2/UhhKSJIlJXQFm795dvPrqvwAI6Tha7OKkMnv1GSynXduF3nXXva2+ipEa3BMb9RqJ36e0ITrEPwviBKNd+WaWnahCo9Hwt7/9gy5duqodktd8OstauDSBmJALCwt46qm/YrGY0UX3JKSdmEzkD+qKDmAtPoRer+fxx5+mU6fOaofUamRnZ/GPp5/A4XRwVU8Tg+P9ey1vsFEUhc8PV3CstI6OHTvxxBP/QKcLzM1sxBiy0GhWq5U33ngZi8WMbGyDIX6Q2iEJZ+lj+6EJi8dqtfL6665/I6H51dXV8fbbr+FwOujTxkByW7GtYkuTJIkre5gI08nk5uawePHnaofU7ERCFvjkk/9y6lQ2ksbgGjf20zrVrZGr3vVoJK2RgoI83ntvwTm3OhV864svPiY/P48IvcwVPUxiYqNKwvQys3q69hlYs2YFBw/uUzmi5tWoGTsTJ0685DekJEmsWbPGq6CElrNx43o2blwPSIR0HIWsE5NW/I2sNWDslIY5ey27dm1n9eofmDp1htphBa29e3exfv1aAGb1NBGqE+0WNfWIMTC8vZHteRYWLnybp556zrMZULBpVEIePny4uEIMQtnZJ/n44/cB0Mf1RxvWTuWIhPPRGNtgaDuYuoJdLFr0Gd26JdKz58UnVwqXpqKinPfffweAUR1DSYo2qByRADAlIYKsCitFFeX897/vcP/9/xOUOUlM6moGgTCpy2yu4amn/kpRUSGa8A4YO40Jyjd4MFEUhdozW7FXniIyMoonn3zWZ3uRC/Vrt8eHabkr2X83jmiN8qttvLO3FIcC8+ffzoQJk9UOqdHEpC7hvBRF4d1336KoqBBJF4axw0iRjAOAJEmEtB+GrDdRUVHO22//p1UVTWhua9eu5ODB/WhluKZXpEjGfqZduI7JCa764V988TFnzuSqHJHveZ2Qq6urWbBgAXfccQezZs1i//79gGtnqPfff5/s7GyfBSn41ooV37F37y6QZNckLk1gLiU4n6rSHHKObKCiKPjeg5KsI6RTGshajh49zNKlX6odUlA4ffoUixd/BsDUhAjahgV+QZyfjp7hvo828JfFP5NTVq12OD4xokMoSVF6rFYrCxa8FnRV7Lx61+Xn53PTTTeRn59P165dyczMpKbG1UUbFRXF559/Tm5uLo8//rhPgxWa7vjxo64dnABDfAoaY4zKEflWRVE2+9a8heJ0gCQxYMIdxLTvqXZYPqUxmAhpN4zaM1v57ruldO/ek4EDk9UOK2C5v9ztdjs9onWkxIfgcAb2SF5RlYWXV+8/+3vU8NLK/bxw3Si1w/KJK3pE8NbuEk6dyubrrxdx3XU3qh2Sz3iVkF944QVqampYunQpMTExjB5dfzPpyZMns379el/EJ/hQRUUFb775Kk6nE01EF7SRCShKcHV5luQediVjAEWhJOcQ0e26qxtUM9CaOqM1F2EvT+edd97g73//f0FRhF8Nixd/Rm5uDhJwoszGP7YUqR1Sk5nN5noXFdllFp7eXKhiRL4VoZepdThZseJ7+vcfRN++/dUOySe8SsibN2/mlltuoXv37pSVlTV4vHPnzuTl5TU5OMF3XDV536CiohyQcVSdoubYKbXD8jmtuf77UVubS/XRRSpF0wIkmZqaat5++z888sgTaLWB39Xakvbv38vatSsBmNs3ku5BMqva4VR4xlLM7uxiJOCWUUnMGNhW7bB8RpLg+/QqduVbWLjwTZ566jnCwxs3ccqfefXpra2tJSbm/F2d7u5rwX98//23HDp0ACQNxm5T0BiCcx1fOKBtu4Py/HRMsV3p2Gv0RZ8TyJzWGswnV5GRkc5XXy3iuutuUDukgFFZWcl7770NwIgORnq1CZ5qXBpZ4m9XDuV4fjkRITo6xYSrHZLPTUuM4GSFlZKyMj744F3uvffBgJ+c6tWkrqSkJHbs2HHex9esWUPfvn29DkrwrWPHjrB06WIAQtoNQRsShSTJQfvTofsI+qbdSKfeaarH0tw/GkMEIe2HA67Jevv27VHzrRYwFEXhv/99h8rKCuJCNUzuFvitq9/SyBJ9OkQHZTIG0GskrukdiUaCXbt2sHnzBrVDajKvEvItt9zC8uXLWbBgAdXVrtl7iqKQnZ3Nn//8Z/bu3cutt97qyzgFL1VXV7FgwWsoioI2shvayAS1QxJ8TGfqjC66BwALF75JWVmpyhH5v40b17N37y40kmuJk04T2C2r1qpDuI7xXV0XHJ9++gFFRYE9Tu51YZA333yT115zfdE7nU5kWUZRFGRZ5o9//CN33323r2MNGP5SGERRFF577SX27NmJpI8gLGEqkiw2Vw9GitOB+eQanHVl9OnTj4cffhRZFmUGzqWgIJ8nn3yUuro6piSEk9opTO2QhCZwKgr/3V/GqUob3bv35C9/ecLv3vstsv3imTNnWLVqFdnZ2TidTrp06cLUqVPp3Ll1bxHnLwl5/fq1fPjhQpBkQrtNQRMSrXZIQjNy1lVSk7USFAdz5sxrNZu6XwqHw8Fzzz1FRkY63SJ13DwgGjnAxx0FKKt18ObuEqwOhWuuuZ7LL79K7ZDqaWxC9mpS15o1a5g8eTIdOnQ4b9f0P//5T/785z97c3rBB3Jzc/jss48AMMQNFMm4FZANJgztUqjL28GSJYvo3bsfCQmJaoflV1as+J6MjHQMGolZPSNFMg4S0SEaZiRFsPR4JUuXfsnAgYPp3LmL2mFdMq/a9Q899BAbNpx/AP2JJ57gvffe8zoooWnsdjvvvPMGNpsVTVg7dDG91A5JaCG6yES0EZ1xOh0sWPA6dXV1aofkN3JyTnkmN05PiiAqRGwzGkwGtQ2hVxsDDoeDd999E7vdrnZIl8yrhDxr1izuv/9+tm7dWu9+p9PJww8/zOLFi3niiSd8EqBw6b77bimnTp0EjZ6Q9iMCfimA0Hjuetfu/ZPdVdlaO9dF6ps4HA56xRgY1DZ4ljgJLpIkcUX3CIxaidOns/n226/UDumSeZWQn376aS677DLuvfdedu7cCbjKz913332sXLmS559/nnnz5vk0UKFxsrIy+e67pQCEtBuKrDOqG5DQ4iSN3rMUas2aFRw5ckjliNT33XdLOX06G6NWYmaPCHGRGqTC9RpmdnfVWPj++2/IyspUOaJL4/VUtGeffZbx48dz9913s2nTJu6++242b97Myy+/zJVXXunLGIVGstmsvPvumzidTrSmLuhMgTeGIviGNrw9uqgkAN57720sFovKEann9OlTfP/dNwBc3t1EhF50VQezfnEh9I8zoCgK77//dkB1XXudkGVZ5sUXX2TUqFHcdddd7N+/n7fffpvJkwNnj8pgs2zZUvLycpE0IYTED1E7HFU47Fb2r1vIhs8eZe/qt7BbW28iMrRNRtKFUVJSzFdfBXH50AtwOBy8997bOJwOercx0C82OEpjChc2PdFEqFYiJ+c0y5d/q3Y4jdaoWdbvv//+eR8bNGgQW7duZcyYMRw9epSjR48Crv58URyk5eTknOb7711vPH38YNDogm7jiMbIPb6FsrxjAFQUZnLq8HoSBk1TOSqVyBoM7YZQe3oDa9euZOTIVJKSgm+jjQtZtWo52dlZhGglLu8uuqpbizC9zPQkE0uOVbBs2dekpAyjUyf/X47bqHXIvXv3vvQTSxJHjhzxKqhA19LrkJ1OJ88++xQZGSda7DX9VV5eXr2NTdq2bUunTp1UjMh/dOrUmSee+H+tZgOKwsIC/va3/8Vms3FVTxOD48V8itZEURQ+P1zBsdI6kpJ68Oijf1etYIhP1yGvXbu2ScEIzeunn9a5krGkITRxOrIuVO2QVNOtWw0Va9/GXFFISHgbEkbfgSE0Uu2wVOW012HOXE5OzmlWrlzO5ZcH/xwPRVH4+OP/YrPZSIjUkyxmVbc6kuTqFcnaZSUj4wQbN65n3LiJaod1QY1KyB07dmzuOAQvVVdXe8YHDW0HodEHZyH5xtIbIxg64yGstVXoQiKQZTGBR6MzEhKfQm3eNr777mtGjx5DdHRwF4rZtWs7Bw/uQyMhuqpbMZNBw4SuYazMrGbx4s8YPHgIJpP/XqD7V8FP4ZJ9880SamqqkQ2R6KJb1/jg+UiyBkNolEjGv6KN7IZsbENdXR1LlnyudjjNymKx8OmnHwKQ1jmM2NDW0UUvnNvwDqG0C9NiNtfwxRefqB3OBTXqnTpx4kRkWeaHH35Ap9MxceLEi15xSpLEmjVrfBKkcG65uTn8+ONqAAzxg5EkcX0lnJskSYTEp2A+uZotWzYyYcKUoJ3g9d13SykvLyM6RENa59a9cUSFuQ6DTkOIrvVelGgkiZndTSzcV8rWrZuYOHEKSUk91A7rnBr1rzR8+HAkSfIMiLtvC+pavPhT15rj8I5ow9qpHY7g5zTGNmgju2GvOMkXX3zMo4/+Peg+x4WFBaxe/QMAlyVGoJOD6/e7FG/9eIjl+0+h18r8eXoyIxLj1Q5JNZ1MOgbFh7C3oJbPPvuIxx570u92hIJGJuTnnnvugreFlpeefpz9+/cCEob4ZJWjEQKFIW4Q9srTpKcf5+DB/QwYMEjtkHxq8eJPsdvtJETqSIrS4XB6vZldQMsuqWL5/lMAWO1OFm44ytBubVWOSl3ju4RxqKiWzMx0tm3bwqhRaWqH1ECz9GP89NNPrFmzhqeffro5Ti8AX3/tKpKvi0xA1jduSr0gyDojuuju2EqP8fXXi+nff2DQtJKPHTvCrl07AMiqsPGPLUUqR6Se2traerfL65w8vblQpWj8z5dffkZKyjAMBv8qFNMsCfnw4cN8+eWXIiE3k6NHD7vqE0sy+rh+aocjBBh9mz7YyjI4eTKTvXt3MXjwULVDajJFUTwbaQyJD2HG2XrGrdlik41F29MJD9Hx58sG0rdjjNohqc7mVHhjVzFlZWX8+ONqLrtsptoh1dN6R/oD2Pffu+ry6iITkXWte9KKcOlkbQj6mB5YS47w/fffBkVCPnBgL+npx9HKMK5rOJpWPHbsNndEd64bniT2fP4VjSwxoWsE35yoZPnybxk3biJGo//UbfC/UW3hgnJzczh06AAgoW9z6RXUBAFw7ZEtyWRmppOeflztcJrE6XTy1VeuIZzh7UMxGcRyNzeRjBsaGB9CG6OG6upqVq9eoXY49YiEHGDcM0i1ER2RW3kREMF7sjYErakrAKtW/aByNE2zd+8uTp06iV4jkdrKlzn9Vmud1HYhGkliQlfXd+fKld9jNptVjugXIiEHkKqqSrZs2QScbeEI51RZnM2pQz9SXpChdih+TX/2PbRr13ZKSopVjsY7iqLwww/LABjewUiYTnyluX328wmufX0lNy1Yw8GcErXD8St9Yw3EhWqwWCz89JP/lIZu9BjyPffc0+iTnjp1yqtghAvbtm0rdrsN2RCFxhirdjh+qaIwi71r3gbFCUj0H38rbTr2UTssv6QJiUIT2haHuZAtWzZyxRWz1Q7pkp04cYyMjHRkYGg7o2gRnpVbVs1n29IBqLTYeGPdIf5z0xiVo/IvIzuGsuxEFatXr2Dy5MvQ6XRqh9T4hHz8+KWNM7Vv3/6SgxEubOtWV+tYG9kNUGjERl2tTsmZo2eTMYBCae5RYjqI3oTz0Zq64DAXsnXrJmbOnBVwS6BWrPgOACfw8g7RCnSzWOrvA15ktotlT+cgAeXlZfz882bGjBmvdjiNT8jr1q1rzjgA+Oqrr3j00Ucb3H/XXXfxpz/9CYD58+ezffv2BscsX76cpKQkz+2qqiqeffZZ1qxZg81mY8yYMTz++OO0bVt/cfzu3bt5/vnnOXLkCG3atGHevHncddddfvfFlJd3hqwsVxestXAv1sK96gbkp3SW8vq3rWeoPrpInWACSH5+HidPZpKQkHTxg/1EYWEBe/fuBuD3KTHEGsWikV97V1fD9/tPYdBqeHhKP4YltO7CIOeyNbeGNSdrWLNmJWlp41T/3vfLd/C7775LRMQvxS7i4+uXfEtJSeGRRx6pd99v97x98MEHSU9P58knn8RgMPDyyy9z1113sWTJEs9+sNnZ2dxxxx2kpqby4IMPcuzYMV588UU0Gg133HFHM/123tm2bQsAcmg7QruMVTka/xUO6OL3UF6Qjim2K+27D1c7JL9nyd2Ko+o0P/+8JaAS8saN6wFIitYTH6Z+d6O/+d2Eftwwqgd6rQaDVsw8P5eUdqH8mF3D6dPZnDyZRUJCoqrx+CQhV1RUcP/99/OXv/yFvn37Nvl8/fr1Iybm/IvYTSYTycnJ5318z549bNq0iYULF5KW5iqPlpCQwIwZM1i1ahUzZswAYOHChURHR/Pvf/8bvV7PqFGjKC0t5a233mL+/Pno9fom/y6+cuDAPgD0kV3EJhIX0S5xCO0Sh6gdRsDQmbrgqDrNgQN7mTdvvtrhNIrD4WDTpp8ASIk3qhyN/4oI8Z/vMH8UqpPpGxvCgaJaNm78UfWE7JNvdpvNxvbt26moqPDF6Zpsw4YNmEwmUlNTPfclJibSp08fNmzYUO+4SZMm1Uu8M2bMoLKykj179rRozBdSVVXJyZOZAGjCxNj8hTjsNg6uf5+Nn/+VfWvfwW6rvfiTWjltWDwgkZ+fR1FRYIwzHjiwl4qKckK1Er3a+Ff5QyGwpLRzXdD9/PNm6urU/b7wy6bWzJkz6dOnD5MmTeLtt9/G4XDUe3z79u0kJyczYMAAbrrpJnbs2FHv8czMTBISEhqMByQmJpKZ6UpsZrOZvLw8EhMTGxwjSZLnOH9w6NBBFEVB0puQtAYUxSl+zvNz5vhmSnKP4HTYKM8/wenD61WPyd9/kLXIIa4eqYMH96v8bm+cbdu2AjAw3ohWVOU6p5yyat756TCfb0unzua4+BNaqa6ROqJDNNTW1p7dsEc9fjWGHBcXx/3338+gQYOQJIl169bx8ssvU1BQwBNPPAHAsGHDuOqqq+jWrRuFhYUsXLiQ2267jY8++ojBgwcDUFlZWW8M2i0yMpKDBw8Crklf4Or+/jW9Xo/RaGxya1+r9d21zokTRwBQ7BYxQekiLPl59W7XFh6k+mi5OsEEEtnVS3Ts2GGmTJmqcjAXZrPZ2LfP1YPVp41eLHU6h5o6G48u3kaFxQpAdnEVf5qerG5Qfqx3Gz1bcy3s2bOTUaNGqxaHTxJySEgIs2fPbjCD+VKNGTOGMWN+WSuXlpaGwWDggw8+4J577qFt27Y88MAD9Z4zfvx4Zs6cyRtvvME777zTpNf3FVmWiI72XcWg06ezATC0G4rO1Nln5w1GXbtWUb52AZbKIgxhUXQbdRshYdFqh+X37NX51OZsICfnlE/fu81h586d1NZakID395erHY5fqqmp8SRjgO3ZJWLZUyPs27eH8HC9amuSfZKQw8PDefbZZ31xqgamT5/Oe++9x5EjR86Z8ENDQxk3bhwrV6703GcymcjPz29wbEVFBZGRkQCeFrS7pexmtVqxWCye47zhdCpUVvqmHJvdbufkyZMAaI0xYkLXRRhCIxk64yHqzBUYQk3IGjH7tjE0RleX9ZkzZzhzpsivCu7/1vr1GwEY0i6E6UliV6dzsVjtPJCbTXG1a0w0LSmOB1LFsqfzcSoKr+woptpiYfPmbQwaNNin52/sRa5XCfnMmTMXfFySJAwGA9HR0aqs60pMTGTr1q0oilLv9bOysujZsyfgSuTt27dvMFaclZWFoigNxpYvld3uvPhBjXD6dA52ux1kHZJO1K5uDFmjxRjRRu0wAoqsDUHSGlHsFrKyTtKzp/9uXOLaXAV6tQkRuzqdR3iIjuevG8nqgzmYjDouG9BF/K0uQINErzYh7Mq3cODAAfr1G6RKHF4l5IkTJzYq0RoMBoYMGcK9997LkCHeLUNZvnw5Go3mvMupzGYz69evZ8CAAZ77xo4dyxtvvMHWrVsZPdo1HpCVlcXhw4e588476x23du1a/vznP3u6KJYvX47JZPKMR6utoMA1JiobTKovWheCm2yIwmG3kJ+f57cJubS0hOLiIiSgi0n0flxIXISRG0b1UDuMgNEtUseufAvHjx9VLQavEvL/+3//j48++oi8vDyuuOIKunZ17RqTnZ3NsmXL6NixI1dffTXZ2dl8++233HLLLbz77ruMHDnygue94447GDFiBL16uUodrl27lkWLFnHzzTcTFxfHzp07effdd5kyZQodO3aksLCQ999/n6KiIl555RXPeQYPHkxaWhqPPfYYjzzyCAaDgZdeeolevXoxderUeq+3bNkyHn74YebNm8fx48dZuHAhDz30kN+sQS4rKwVA1vpvF6IQHGSdEQeuUoL+yv1l2T5ci8GHEycFoUuk6zs/OzsLi8WC0djy69u9SsiFhYXYbDZWr17dYJbyH/7wB2644QZqa2v561//yr333ss111zD66+/ftGEnJCQwJIlS8jPz8fpdNKtWzcee+wx5s93FSuIi4vDZrPx0ksvUV5ejtFoZPDgwTz11FMMHDiw3rlefvllnn32WZ544gnsdjtpaWk8/vjjnipdAF27dmXhwoU899xz3H333cTExPDAAw9w++23e/NnaRZlZa4vR0knih8IzUvSut5j7otAf+ROyF0j/eOCWQgekQYN0SEaymodZGScoH//gRd/ko95lZA///xzbrvttgbJGCAqKoo5c+bw4YcfcueddxIdHc3VV1/NwoULL3rexx9//IKPuxNoY0RERPDMM8/wzDPPXPC4lJQUFi3y36VE7taKrBUJWWhe7oTszy3knJzTAHQI96sVm0KQaB+upazWQU7OaVUSsld9PuXl5Q12E/k1s9lMaekvV9lxcXHevIwA1NXVuf5HFuNlQvOSzr7HPO85P6MoCnl5uQDEhYqELPie+33lfp+1NK8S8oABA/jwww85duxYg8eOHj3Kxx9/XK8LOSMjo8EGEULjuKuUieVOQrM7+x77bWU8f1FZWUlNTQ0S0Ebs7CQ0A3dCPnNGnYTs1bv68ccf55ZbbmH27NkkJyfXm9S1d+9ewsPD+etf/wq4rra3b9/OtGnTfBd1K+J0ur8cxQzrxlIUBbvVjFZvFBcyl+LsLP5f3nP+xb3iICpEg04jPg+C78WFunbFyv9Nxb+W4lVC7t27N99++y3vvPMOGzdu5MAB17rADh06cMMNN3DnnXfSrl07wLX0aenSpT4LuLVRlLNlAcWSp0ax1ZnZv+4dqktzCTW1ZdDk36E3NiyjKjQk4U7IvllD72uVla5ythF6cZElNI9wvSsh19RUY7fb600Cbglev1p8fPxFJ2EJTRcSEgKA0251bQQgXNCZE1upLnV1N5krCzl95CcSB89QOarA4HS4Si2GhPjnBMLKykrAtWWeIDQHo9Z1WaoA1dVVREW1bNndJqf/mpoaT5nKdu3aERbm33VwA01oqOvvaS05iLVwt8rR+D9rUf2SqbbSY1QfrVYpmsAiaVzbGPrrZ9jdQg4TCVloJrIkYdRJmG0KlZWVgZOQ9+/fzz//+U92797t6eKSZZkhQ4bw5z//uV7lLMF77oSsNXUjJD5Z3WACQLekOmp++i8VhVlExHQiMe02dAb/TDD+pq7oELaSQ573nL9xr+wI0YrhG6H5GLUyZpsDi8U3+xFcCq8S8r59+5g/fz46nY5rr72WpKQkwDWb+vvvv+emm27io48+alCsQ7h0nrXejjoxQakRdHojyVN+j9NhR9aImbiXxOla7nSurUv9gXvIRhbzKYRm5H53eebvtCCvvrFeeukl4uPj+fTTTxusMb7//vuZN28eL730Eu+//75PgmzN4uJcy8Wc1qqLHCn8mkjGl879Hmvbtp3KkZybGl+QQuvjvt5T4/3mVZNr3759XH/99ecs+BEbG8t1113H3r17mxqbAMTHu74cnVYxDio0L/d7zP2e8zfuL0jRPhZaQsC0kGVZvmDxAKfTiSyL7lVfaNv2bEEVpxWnvQ5Za1A3ICEoKU4His01ZuavCVmrdVUSsztFS7kxjuaV8e2ek0SE6LlxVA9MRlH/uzEcZxeztPSSJ/AyIQ8ePJhPPvmEmTNn0rFjx3qPnTlzhk8//ZSUlBSfBNjaGQwG2raNp7CwAGdtKXJ4e7VDEoKQs64cUAgPj8BkilQ7nHMKC3PtB262OXCIpHxBFRYrTy7didlqB6Cg0szfrhyqclSBwWxzNTbd77eW5FVC/p//+R9uvPFGpk+fzpQpU+jWrRvg2nN47dq1aDQaHn74YV/G2aolJnansLAAh6UErUjIQjNwWIoBSErq7rf7bruXYx0qtrK3sFDlaPxbTU2NJxkDHDhTwdObxd/sUqix/M+rhNy3b18WL17MSy+9xLp16zzLEYxGI2PGjOHBBx+ke/fuPg20NUtM7M7PP2/GYSlRO5SAUlF4EmttFTEdeqHRiu66C3G/txIT/fdz6/6CbB+m4ZaBMSpH49/q7A7+XJTL6VLXvIDL+nXg9tS2Kkfl/yw2Jy9ud12cBkxCBujevTuvv/46TqfTs7NTTEwMsixjNpspKCgQG0r4SFKS60vSYSlBUZxi+VMjnD68nsw9ywEIj+5A8tT70GjFjlnnoigKDrPrS8ifE3JMTBsAKqxONLJ/tuL9Rahey/NzRrLpRB6mED2jusf7bc+HP6myuQaQIyJM6HQtfxHf5FFrWZaJjY2td98HH3zAq6++ypEjR5p6egHo0qUbRmMoFosZh6UEjbGN2iH5lfKCTHKObEBnCCVh8Az0IeHkpW/3PF5ddoaq0tNExnVTL0g/5qirRLGb0Wp1dO/eQ+1wzsu9HKuizondqaAVSfmCwkN0XDagi9phBJRSi2v82DOZtoWJxZoBQKPR0Ldvf3bt2o4le63a4fgVm83GoUOHPNXizMUn6NGjBzrJinvHbkmSsJ/ZSHXJ9vOfSKBnz14YDCFqh3FeJpMJgyGEurpaymsdxIo9kRvFYrXz6poDpBdUMCyhLXeO6yOKq5xHaa1IyEIjDBgwiF27toOn9LkAYLVa6+1OVFtbS3V1NUaj0XN/27ZtMRjEcrHzkwEn/fsPUjuQC5Ikifj4eE6dyqbQbCM6RKN2SAHh823pbD7hqvH+3b5sEuNMTOjT8SLPap2KzTZAvaV/IiEHiP793WVIFUKTrkDW+eeOPC0t1GEjp+B1aspdXzjRHftx/MR+UJyARL9xt9CmY291g/RjisNGzYmlgOuiz9917tyVU6eyWXaiikX2SrXD8VvFxcWUlpZiNBob1IxYcqSUTaViPsW5uLfZ7ty5qyqvLxJygIiJaUNiYncyM9OxV+Wij/HfyTctSdboGDTlHkpOH0JnCKOiOPtsMgZQKDtzTCTkC7BX5wIK7dt3oEMH/281deuWyObNG2gfpmFu35bdiSdQHMwt5cndpwCorq5mTI927KrWYrbaiYsI4ckpPYgOEz1Gv2VzKvxzm2tyY7duiarE0OiEfOjQoUaftFCsEWwWQ4eOIDMzHWvhbrEV42+EAVhBZymvd7/Oeobqo4vUCCmgDB06IiBm4bq/KLMq7DyztUjlaPxTcXFxvdv7Cy0k9epDXV0dRqORN/eLnoVzMeldq1ciI6OIjlbnYq/RCfmaa65p9AdWUZSA+HAHmqFDh7No0ScAotv6PMIBfbu9lOWnY4rrSvukYWqH5LcUh5WaE98ACsOGjVA7nEbp0qULGo0Gh8PBvSkxtDGKTr7fKqk28ecvCigz1yFL8LvRCYzq7p/lUP3J1twa1pysISEhSbUYGv1ufvbZZ5szDqERYmPjSErqQUbGCRxVp9G0EV2x5xKfkEJ8gijdejG2Kld3dYcOHenYsbPa4TSKTqcnKakHx48f5VSljbZhYiz0t9qajLx8Qyrf7TvJ/tOl/JxRQN+O0cSE+e8Men+QVeGa0NW7d1/VYmh0Qp49e3ZzxiE0UmrqWDIyTmCryEIX00v0RAhes1VkAa73VCC9j/r27c/x40fJLKtjcLzoJToXh1Ph2z3Z1NkdHMsvp8xcx//NHq52WH7LoSicqrAC0LdvP9XiEP09AWb48JF89tmH2OoqcNaWoTGKEoLCpXPWVeK0FCNJEqNGpakdziVxt2COlFhFfebzMJvN1Nl/mV19tKBK/K0uwKSXsTldFbo6dOikWhwiIQeY0NAwUlKGsW3bFmzlmSIhC15xt44HDBhEVFRgzVZOTOyO0WjEYrFw+8BoOkaIbuvfsjmcPFp6hoxC1wSuWclduGGkqGV9PmtPVrEl10Lfvv1V3TpYJOQANHbsBFdCrjyJoe0gJI34QhIaT3E6sJVnAjBmzHh1g/GCVqtlwIBBbN/+M8fL6ugSKTYO+S2NrOHZa0ewI6uIiBAdyV1iL/6kVux4qau7evDgIarGIXYpCEC9e/clPr49OO3YKrPVDkcIMPaqHBRHHVFR0SQnq/sF5C133MdK6lSOxH+F6LSM6dleJOOLKDbbKbY40Gg0qlerEwk5AEmSxIQJkwCwlaWjKKKUptB4tvJ0wNXTotEEZvnJgQOT0Wg0FJkdFJvtF3+CIJzH0bMXdb179yU0NFTVWERCDlCjR49Fp9PhrCvHKfZJFhrJUVuOw1yELMuMHTtB7XC8FhoaRp8+rtmwh4prVY5GCGTu909Kivo1Cxo1hrxjxw6vTj5smPq/YLAKDw9nxIhUNm1aj7XsOMZQ0S0lXJyt7AQAgwcP9ewvHKiGDx/FwYP7OVhUy7gu4WqHIwSgYrOdvGo7Go2GoUPVXxbWqIQ8f/78S1qn6K7UJfZDbl6TJ09l06b12CtP42xrRtap290i+DfFYcVWcRKAyZOnqRuMD6SkDOPDDxdSZLZTUGMjXhQJES7RwSJX67hv3/5ERJhUjqaRCfnDDz9s7jgEL3Tp0o2ePXtz/PhRbGXpGNoOvPiThFbLVp4JioNOnbrQs2fgV3kLDQ1lwIBk9uzZyf7CWqYkiIQsNJ6iKBw4m5CHDx+lcjQujUrIw4er35QXzm3SpKmuhFyegT62H5IcmJN0hOalKE6sZccBV+s4kCpzXcjo0WmehDypWzhykPxeQvPLqbJRYnGg1xv8YvwYxKSugJeSMoyYmDYojjrsYgmUcB72qlwUm5nw8HBGjkxVOxyfGTQohfDwcKqsTjLKrGqHIwSQvQWu1vHQocMxGv2jBKvXhUHq6upYuXIlhw8fpqqqCqfTWe9xSZJ45plnmhygcGEajYZJk6ayePFnWEuPo41MCJrWj+A7tlJX63j8+Mno9cFTSEOr1TJiRCpr165kb4GFHjFin1/h4mwOxTN+nJo6VuVofuFVQs7NzeXmm28mNzcXk8lEVVUVkZGRVFVV4XA4iI6OVn09V2syduwEvvnmK6x15TjMhWjD4tUOSfAjDkspDksRsqxhwoQpaofjc2lpY1m7diVHS+ow25yE6kTHn3Bhh0tqqXMotGkTS69efdQOx8Ord+4LL7xAdXU1ixYtYsWKFSiKwksvvcSePXv405/+REhICAsXLvR1rMJ5hIWFk5o6BvilJSQIbu6x42HDRqi28Xpz6tKlG126dMOhwL5Ci9rhCAFgd57rfTJmzHhVa1f/lleR/Pzzz8ybN4+BAwfW+2X0ej133nknI0eOFN3VLcy9jMVenYvTWqVyNIK/cNot2CtPATBlymUqR9M8JEli3DhXkZPd+RZRuU64oGKznexKG5IkkZY2Tu1w6vEqIdfW1tKxY0fAVaBCkiSqqn5JAoMHD2bXrl2+iVBolPbtOzJggKsOq7X0hMrRCP7CVpYOipPu3XuSmNhd7XCazYgRqej1BorMDk5X2dQOR/Bju/NdreOBA5P9rjiOVwm5ffv2FBQUAK5JFfHx8ezdu9fzeHp6OgaDmFzR0qZMmQ6ArSITxSG+lFo7xelwJWRg8uTgbB27hYaGMnz4SAB25Ylua+Hc7E6FPQWu98fYsRNVjqYhrxLyyJEjWbt2ref27Nmz+eCDD3j88cd57LHH+PTTT5kwIXDr5Aaqfv0G0L59B9cuUGf3uxVaL3vVKRRHHdHRMaSkDFU7nGY3frxrw5WDRbWYbc6LHC20RoeLa7HYFWJi2jBo0GC1w2nAq1nWd999NwcOHMBqtaLX67nnnnsoLCxk5cqVyLLMzJkzefTRR30dq3ARkiQxceJUPvnkv1jLTqCL7iGWQLVSiqJ4hi4mTJiMVhv8W58nJCTRpUs3Tp06yd4CC6M7hakdkuBndua5W8cT/Goyl5ukiBkQPudwOCktrVHltS0WCw8/fB+1tbUYO49DG95elTgEdTksxZhPrkGr1fHii//BZFK/Tm9LWL9+LR9+uJAYo4Y/DGkjKncJHgU1dt7cXYIsy/zzn/9p0RUHcXERjTrOry4RvvrqK3r16tXg58UXX6x33OLFi5k2bRoDBgzgyiuv5Mcff2xwrqqqKh577DGGDx/O4MGDeeCBBygsLGxw3O7du7n++usZOHAgEyZMYMGCBQE9S9NoNHpmDlrLxOSu1srdOh4xYlSrScYAI0emEhISQqnFQVa5qNwl/GJnnhmAwYOH+O3yP6/6sV577bWLHiNJEvfdd583p+fdd98lIuKXK4r4+F8KXXz//ff87W9/45577mHkyJEsX76cP/zhD3zyySckJyd7jnvwwQdJT0/nySefxGAw8PLLL3PXXXexZMkST/dddnY2d9xxB6mpqTz44IMcO3aMF198EY1Gwx133OFV7P5gwoTJrFmzEkd1Hk5bDbJOdN21Jk57Hfaq04DrvdCahISEMHr0GNatW82OPAtJ0WJyqQB1dif7Cl2Vufy5OI7PE7IkSZ7tF71NyP369SMmJuacj7366qtcfvnlPPjgg4Brgtnx48d5/fXXeeeddwDYs2cPmzZtYuHChaSlpQGQkJDAjBkzWLVqFTNmzABg4cKFREdH8+9//xu9Xs+oUaMoLS3lrbfeYv78+QFbYrB9+4706dOPI0cOYSvLELtAtTK2ikxQnHTtmkBCQpLa4bS4CROmsG7dao6V1FFR5yDSIDZcae32F9VidSi0a9eePn36qR3OeXnVZX306NEGP4cPH2b16tXceuut9O/fny1btvg6Vk6fPs3JkyeZPn16vftnzJjB1q1bsVpdXVQbNmzAZDKRmvpLEf3ExET69OnDhg0bPPdt2LCBSZMm1Uu8M2bMoLKykj179vg8/pbkvgq0lWegKA6VoxFaiqIonqVOEydOaZWT+jp27ESvXn1Q+GXNqdB6KYrCjjOu98H48ZP9+jPhszFkWZbp3LkzjzzyCF27duUf//iH1+eaOXMmffr0YdKkSbz99ts4HK6EkpmZCbhau7+WlJSEzWbj9OnTnuMSEhpuspCYmOg5h9lsJi8vj8TExAbHSJLkOS5QJSenEBkZ5doFquqM2uEILcRhLkCx1WA0Gj3rclsjd1f9rnwLDmfgzgkRmu50pY1Csx29Xk9amv9sJHEuzbIWYtiwYQ0mYjVGXFwc999/P4MGDUKSJNatW8fLL79MQUEBTzzxBBUVFQANJqm4b7sfr6ysrDcG7RYZGcnBgwcBPJXFfnsuvV6P0Wj0nMtbWq268+W0Wj1jxozju+++wVaeic7UWdV4hJZhK3ddSI4alUZYWOvd4GX48BF89tmHVFRUcKy0jr6xIWqHJKhkx9mlTiNHjsZkatxsZ7U0S0I+ePCgV2u8xowZw5gxYzy309LSMBgMfPDBB9xzzz2+DLFZybJEdLT6E6muuGIG3333DY4aMbmrNXBN5soB4MorL/eL96Capk2bxqJFi9iRZxEJuZWqsTo5XOyazDV79lV+/5nwKiEvXbr0nPdXVlayc+dOVq1axZw5c5oSl8f06dN57733OHLkCJGRkYCrdRsXF1fvdQHP4yaTifz8/Abnqqio8BzjbkH/ugY3gNVqxWKxeI7zhtOpUFlp9vr5vmI0Rv4yuas8C0Ncf7VDEpqRvTIbFCfduiUQE9OOsjJ11sL7i5Ejx7J48WKyyq0Um+3EhgZ/cRShvr2FFhwKJCYm0aZNe9U+E429EPDqHfqXv/zlAi8czd133+31DOsLcY/3ZmZm1hv7zczMRKfT0blzZ89xW7du9cz2dsvKyqJnz56Aq/Zt+/btG4wVZ2VloShKg7HlS2W3+0fpvtTUsa6EXHESfWw/v57QIDSNu1xqaupYv3n/qSkqKoaBA5PZt28Pu/ItTEv07+5KwbeciuKpzDVu3KSA+Ex4NdC5du3aBj/r1q1j586dbN26lf/5n//x2eYSy5cvR6PR0LdvXzp37ky3bt1YsWJFg2NGjRrlmS09duxYKioq2Lp1q+eYrKwsDh8+zNixvwzqjx07lrVr12Kz2eqdy2QyMXiw/9U59caQIcMwGEJQbNU4LMVqhyM0E0dtOc7aMjQaDSNGjFY7HL8xfrxrctfeAgs2MbmrVckqt1JW68BoDA2YCY5etZDdWy/62h133MGIESPo1asX4Er8ixYt4uabb/Z0Ud9///386U9/okuXLowYMYLly5ezf/9+Pv74Y895Bg8eTFpaGo899hiPPPIIBoOBl156iV69ejF16tR6r7ds2TIefvhh5s2bx/Hjx1m4cCEPPfRQwK5B/i2DIYShQ4ezefMG7BVZaEPjLv4kIeDYKk4CMGhQCuHhoiXoNmDAINq0iaWkpJjDRbUMijeqHZLQQtyt49Gjx2AwBMYcAr8aVElISGDJkiXk5+fjdDrp1q0bjz32GPPnz/ccM3PmTCwWC++88w4LFiwgISGB1157rUGL9uWXX+bZZ5/liSeewG63k5aWxuOPP16vyH7Xrl1ZuHAhzz33HHfffTcxMTE88MAD3H777S32O7eE0aPHsHnzBmyVpzHED0GSg7tQgsNuxVJVTEh4DFpdYHwQm0JRFNf4MTB6dJrK0fgXWZYZO3YCX3+9mF35FpGQW4kqq4OjJXUAjBvnf9ssnk+jNpfo3bu3V2OPR44c8SqoQKfm5hLn4nQ6+dOf7qe8vAxjpzFoI5qnh8Mf1Jkr2LvqDWprytAbI0ie8nuMEbFqh9Ws7DWFWE6tIzQ0lJdeehOdTqd2SH6lrKyUP//5AZxOJ/emtKFtmF+1Q4RmsOFUDeuyq+nevSePPfak2uE0enOJRr0z77vvvgYJefXq1aSnp5OWluYp1JGZmcnmzZvp0aMHkye3rhq6/kyWZYYPH8mqVT9grTiJJoh3gMpL30ZtTRkAVksVucc2kzTkCpWjal7u7uqUlOEiGZ9DdHQMgwYNZs+eXewusHCZmNwV1JyKwu4C92SuwGkdQyMT8v3331/v9hdffEFJSQnLli1rMBs5IyODW265hbZt2/ouSqHJRowYzapVP+CoOk310dNqh9NsHGX1d/RyVmZSfXSRStG0rBEjRqkdgt8aN24ie/bsYl+BhUndwtHJYrVBsMoqt1J+djLX0KEj1A7nknjVd7Nw4UJuuummcy4NSkpK4sYbb+Tdd9/luuuua3KAgm9065ZIXFxbiooKMXQYFbSVu0J72Kn7eTHlBRmYYruQOHouGm1wTNA7F3t1PrU5G4iIMNG7d1+1w/Fb/fsPIiamDaWlJRwtrmNA2+CfW9BaueuXjxyZ6rPVPi3Fq4Scn59fb3JUg5NqtecszCGoR5IkhgwZzooV3+GozkUf2VXtkJqFRqunb9qNaofRYhzVuQCkpAxFownuyXpNIcsyaWnj+Pbbr9hdYGkVCXnj8TwWbc/AZNRx38T+dPDzKlW+UGNzcsQzmWuCytFcOq/WIffo0YNPP/2UgoKCBo/l5+fz2WefeQpwCP5j6NDhANirz6A47SpHIzSVojg9pTIDrWtODWlp45AkiaxyKyUWOw6nErQ/BRVm/r1yH9klVRzIKeXfq/apHlNL/OwrMONUoGvXbnTp0k3tt9wl86qF/Oijj3LnnXcybdo0Jk+eTNeurtbWyZMnWbt2LYqi8MILL/g0UKHpEhKSPGsyHTUFQT3bujVwmItRHHWEhYXTq1cftcPxe7GxcfTt259Dhw7w7t5SLPbgLRRiNpvr7XJ1stTC05sLL/CM4KA5OzVgzJjAax2Dlwl56NChLFq0iFdeeYU1a9ZQW+sq3h0SEkJaWhr333+/p7iH4D8kSSI5eQhr167EXpUjEnKAs5/trh40aPAFh5CEX6SljePQoQNoZfjr6DjkIC0l63AqPF1TxL7TJQDcNCKRK5KDe6LtmWobC/eVodPpGDkyMKvVef0p7tmzJ6+//jpOp5PS0lIAYmJivNrlSWg5KSlDXQm5+gyK4kSSxL9XIFIUxdNdPXjwUJWjCRwpKUMJDQ2lymzmVKWNpOjAmvTTWBpZ4slZQzlypoyIED1dY4N/qde+QlfDcMiQYYSGBuZ4eZO/jWVZJjY2ltjYWJGMA0CPHr0IDQ1FcdSJ2tYBzFlXgWKrQafT0b//ALXDCRg6nZ4RI1IB2HN2rWqw0sgy/Tu1aRXJ2OZUOFjkSsipqeNUjsZ7jWohv/baa0iSxO9//3tkWea111676HMkSWqWHZ+EptFqtQwcOJiff96Mo/oM2tDg7sYKVu7u6j59+gdMnV5/kZY2jh9/XM2R4josdidGrWhIBLqjxXXU2hXatImlT59+aofjtUtKyHfddRd6vV4k5ACXnJzCzz9vxl51BkPbZLXDEbxgrz4DuP4thUvTrVsCHTt2Jjf3NIeKahnaPlTtkIQm2lf4y0YSgdxT26iEfPTo0QveFgJL//4DkWUZp7USp7UaWR+udkjCJXDaa3FaXJN1Bg0Kjm1CW5IkSaSmjmXRok/YWxC8CXlPdjFf7crEZNRz+5jetAkPzp6UyjoHGWVWwLUXeCATUzNbodDQMHr27M3Ro4exV59BHyPWjAcSR3UeAF26dCM6OkblaALTqFGpfPnlZ+RU2SiosRFrDK6vwrKaOv7fd7uw2p2u2+Y6np49XOWomse+AgsKrvkxbdvGqx1Ok3j1LvzjH//IzJkzGTduXNDsG9zaDBw4OGgTcmneccrz0zHFdSW2U+COJ52Pu7tatI69FxkZRf/+g9i/fw9v7i5VOxyfM5vNnmQMcKygKmjXIbvLkgd66xi8TMi7d+9m5cqVhIWFMXHiRGbMmEFaWprYaSaADBqUzKJFn+AwF6I4bUhycPzbleWd4MC6hYCrKELfMfOJ6xI8s5AVxYm9xlWWduBAkZCbYvToMezfv4cIvcQDQ2ODak2yzeHksdI80gsrAJid3IV5I4NvAuev1x4HQ7U6rxLyhg0b2LlzJ8uXL2fVqlUsW7YMk8nE5MmTmTFjBqNGjRJ1df1cu3YdiI2No7i4CFt1ProgKRJSVpCOOxkDlOenE9s5eFrJ9ppCcNoID48gIaHh5i5C4w0enOJZk3y6yk5iVPD09mlkDc9eO4IdJwsxhegZ2LmN2iE1iwNn1x6npAwjNDTw5wJ4lZAlSWLYsGEMGzaMv/3tb2zbto0ffviB1atX89VXXxEVFcXUqVP5v//7P1/HK/iIJEkMGjSYtWtXUZe3nbpcm9oh+YShrrLebb0tL7i2XzzbkzFgwKCAnk3qD3Q6PcOHj2L9+rXsK7AEVUIGMOg0pPUI3r3P7U6FA561x2NUjsY3JEVRfFbQ1eFwsGTJEp5//nnMZjNHjhzx1akDisPhpLS0Ru0wLurAgX289NLzoAkhrPsVSEHSZVeSe+TsGHK3oOquBqjJ+AHFVsU999zP8OFi/+OmSk8/zjPPPIlOlvjTyFgMGnGREyiOFNfyxZEKIiOjePHF//h1r2xcXOOKs/hkamFhYSErVqxg+fLl7Nu3D4DBg8X4lr/r1asPer0eq7UWxVqJHBKtdkg+EdupX1BO5nJaq1FsVciyTL9+wXWhoZakpB7Ex7ejoCCfI8V1JMcb1Q5JaCR3qcxRo9L8OhlfCq8TcklJCStWrOCHH35g9+7dOJ1OBg4cyCOPPML06dOJjw/s6eetgV6vp0+ffuzbtwd79Rk0QZKQg5X97HKn7t17EhYm1o77giRJjB49hq+/Xsy+wlqRkANEjc3J8VLXvsejRwdHdzV4mZBvueUWdu7cicPhoE+fPjz44IPMmDGDTp06+To+oZkNGpTiSciG2OBrVQYT93KngQOT1Q0kyIwalcbXXy/mZLmV8loHUSHB0doKZgeLaj37Hnfq1FntcHzGq4RcWlrKfffdx4wZM+jWrZuPQxJakvvL3WkpwWmvRdYGZzWfQKc4bTjMBYDrIkrwndjYOHr37svRo4fZX2hhbBfR++Dv9p7dGCSQN5I4F68S8rJly3wdh6CSmJg2dOnSjVOnTuKoPoMcJZbS+CN7dT4oTuLi2tKhQ3AsUfMnqaljOXr0MHsLaxnTOSxoJjgGo4IaO3nVdjQaDSNGBNfERjGlUPBsUODuEhX8zy/VuVJEsmgGQ4YMx2AwUGpxcLoqOJYABqt9Z1vHgwalEBFhUjka32pUC7l3797IsszevXvR6/X07t37ol8KkiRx+PBhnwQpNK/k5BS+/fYr7NV5KE47khxcdX0DnaI4cZzdbnHw4CEqRxOcQkJCGDp0BJs3b2BPvoUupuBakxwsHE7FM7s6WNYe/1qjvnnvu+8+JElCq9XWuy0Eh65dE2jTJpaSkmLsNfnoIsTkPH/iMBehOKyEhYXTs2dvtcMJWmlp49i8eQOHiuuYnqSg1wT2d1xZTR3rj53BFKJjQp+OQVEa9ERZHTU2JyaTiQEDktUOx+calZDvv//+C94WApskSQwePJQ1a1Zgr8oJ+ISsOJ1Ya6vQhYQjy4E/Y9ZelQO4ejKCZb2lP+rZszdt28ZTWFjA4eLAXgJVa7PzyOKfya8wA3Asv5x7J/ZXOaqm21vgXns8xtNADCbB9xsJXhkyZNjZhHwGRXEgSYH5xW+rrWHfmrepqcjHGNGGQZPvwRAaqXZYXlMUxZOQU1KGqRxNcHPtkzyOr79exO48MwPiAnfFQXZxtScZA+zILMQx3mdFGVVRbXVwrMS19jgtLbhmV7s1KiEvXbrUq5PPmjXLq+cJLa9Hj16YTJFUVlZgr85DG95B7ZC8kntiCzUVrt2QLFUl5BzZQGLK5SpH5T27uQjFbiEkJIT+/UV1ruaWmjqGpUsXc6rKHtDbFdrtrlnIDofDdVsbEtC/z68lJCTRsWNg9+KdT6MS8l/+8pcG97nHkH9bCvvXY8siIQcOWZYZOnQ469atpjZnk9rheM1eUlDvtq3sONVH/b+u+MUMHjwUnU5MNGpuMTFtGDAgmf379zCyo5Ep3RpXg9gfZfUN57t92ZiMeuYMSyJUH7gdooqi8PruEspqnYwbN1HtcJpNo/6F1q5dW+92VVUVjzzyCBEREdx0000kJCQAkJmZyccff0xNTQ3PPfec76MVmtXw4aNYt241SFrCelyFFIDjr8buVswbPqKsIANTbBcSx9yMTh+Y27IpipOa9GXgqGPYsJFqh9NqjBs3gf3797C/sJbJ3SLQyoE5Gap7fCQPTh2odhg+kVVuo6zWicEQEtSbqjQqIXfsWL8QwaOPPkpMTAzvvfdevRZxr169mDZtGrfffjsffPABzz77rG+jFZpV9+49iY6OoaysFEdNPjpT4JWk0+pCGDjpLhRFCfiVAA5zITjqCA0NpX//4PhiDQQDBw4mMjKKiopyjpbU0T+Ax5KDxa5819rjUaNSCQkJ3n8PrwqDrFmzhsmTJ5/zC0+WZaZMmdKgVS34P1mWGTkyFQB7xUl1g2miQE/GALaz/wbDh48Kyhml/kqj0TBmzHgAduaZL3yw0OyqrU4OF7tmVwdzdzV4mZAVRSErK+u8j2dkZDQYWxYCg3vnFHv1GZz2OpWjab0Upw17pWt2dTDtZhMoxo+fhCRJnKywUWS2qx1Oq7anwIJTgcTE7nTtmqB2OM3Kq4Q8efJkPvvsM95//30sFovnfovFwnvvvccXX3zBpEmTfBak0HI6dux09k2vYK/MVjucVstemQOKnbZt40lK6qF2OK1OTEwbT0lZ0UpWj1NRPH//CRMmqxxN8/OqH+yvf/0rOTk5PP/88/zrX/+ibdu2ABQWFmK320lJSeGxxx7zaaBCy0lNHUt2dha28gx00T2Covs30NjKMwDXv4X4+6tjwoQp7Nmzi70FtUzsFo5BI0r/t7QTpVYq6pyEhYW3iomNXiXkiIgIPv74Y9asWcOGDRs4c8ZV+D4tLY1x48YxceJE8SUSwEaNSmXx4k+x1VXgrC1BY4xVO6RWxVFXgcNSjCzLpKWNVzucVqtv3/60a9ee/Pw89hXUMrxDYM7WD2Q/n3G1jseOnYBeH/zL/po0U2Ty5MlMnhz83QitTVhYOMOHj2Lz5g1YyzIwioTcomxlrtbxoEEpREdHqxxN6yXLMpMmTeOTT/7LtjNmhrY3BkU96EBRUGMnq9yKJElMnDhF7XBahOiDEc7JPZvRXnkKxSEmd7UUxWnHVuGaMBnsM0oDwejRYzAajZRYHGSUWdUOp1XZdrZ1nJIyjDZtWkejwKsWsqIofPHFF3z55ZecPn2aysrKBseI7RcDW1JSD7p06cqpU9lYyzIxxPZRO6RWwVZxEpw22raNF2uP/YDRaGTMmPGsWvUDW3PN9IgxqB1Sq1BtdbK/0DVheMqUy1SOpuV4lZBfeOEF/vvf/9KnTx+uvPJKIiMDt3i/cG6SJDFlynQWLnwLW9lx9G16IUmiQ6U5KYqCrfQ4AJMmTUOWxd/bH0yefBlr1qwks9xKXrWN9uE6tUMKejvyzNidkJCQSI8evdQOp8V4lZCXLl3K1KlTeeWVV3wdj+BHhg8fxeLFn1JZWYm98jS6yK5qhxTUHDX5OK2VGI3GoN3NJhDFxsYxbNhItm3bwpYcM9f0Fg2Q5mR1KGw/21192WUzW9UEYa8uwWtraxk9erSvYxH8jE6nY8IE12QKa+lRUeylmVlLjgCQljYeozFw9+INRpdd5tox7FBRLeW1DpWjCW57CyxY7AqxsXGtbstRrxLyqFGjOHDggK9jEfzQxIlT0OsNOGvLcNTkqx1O0HJYSnCYC5FlDVOnTlc7HOE3unZNoE+ffjiBLTmBv3uYv3I4FTaf/ftOmzYDjSbwNrhpCq8S8t///nf27dvHW2+9RVlZma9jEvxIRISJsWMnAL+04ATfsxa7JkCOGpXaamaUBprLL78KgN0FFqqtopXcHA4U1VJR58RkMjFmzAS1w2lxXiXkyy67jNOnT/PKK68wevRokpOTSUlJqfczZMiQJgVWU1PD2LFj6dWrV73W+Pz58+nVq1eDn4yMjHrPr6qq4rHHHmP48OEMHjyYBx54gMLChht07969m+uvv56BAwcyYcIEFixYILpmf+Oyyy53bXZuLsRhLlY7nKDjqC3HXp2LJEnMmHGF2uEI59GnTz+Skrpjd8LWXFFO09ecisLG0+7W8eWtohDIb3k1qWvatGnNPtD+xhtv4HCc+yo0JSWFRx55pN59nTp1qnf7wQcfJD09nSeffBKDwcDLL7/MXXfdxZIlSzw752RnZ3PHHXeQmprKgw8+yLFjx3jxxRfRaDTccccdzfOLBaCYmDakpo5lw4YfqSs+QGiX1nfl2pysxQcBGDJkGO3bd7zI0YJaJEni8stn8eqrL7Ijz0JqpzBCdWImvK8cLq6jxOIgNDSM8eNbZ8EprxLyc8895+s46snIyODTTz/lkUce4e9//3uDx00mE8nJyed9/p49e9i0aRMLFy4kLS0NgISEBGbMmMGqVauYMWMGAAsXLiQ6Opp///vf6PV6Ro0aRWlpKW+99Rbz589vlVdo5zNz5iw2b96Ao6YAu7kQbWhbtUMKCo7aMuxVOUiSxFVXXat2OMJFDBo02LM+f0tuDZO7RagdUlBwKgo/naoGXOuOW+ukRr+8vPvHP/7B3LlzSUjwbqutDRs2YDKZSE1N9dyXmJhInz592LBhQ73jJk2aVC/xzpgxg8rKSvbs2eP9LxCEYmPjfhlLLjwguvV9pK7INRwzYsQoOnbsdJGjBbX9+sJpW66FGqtT5YiCw6GiWorMDkJDQ5kypfVOamx0C/nQoUOXfPJ+/fpd8nNWrFjB8ePH+c9//nPe19y+fTvJyck4HA4GDRrEH//4R4YN+2V6fGZmJgkJCQ261RMTE8nMzATAbDaTl5dHYmJig2MkSSIzM5MRI0ZccvzBbObMWWzc+BN2SxGOmny04e3VDimgOczFOKrPIEkSV155jdrhCI2UnJxC164JZGdnsTm3hqkJopXcFA5FYf2pX8aOQ0Nb7yYejU7I11xzTaPHjRVFQZIkjhy5tFm5FouF5557joceeojw8PBzHjNs2DCuuuoqunXrRmFhIQsXLuS2227jo48+YvDgwQBUVlYSEdHwQxIZGcnBg67xuqqqKsDV/f1rer0eo9FIRUXFJcX+W1qtX3Y+NElcXCyTJ09lxYrvqSvchyYs3i+qd9VWl2KrqyE8uiNSgFS3UhSFusK9AIwZM45OncTYcSC55po5/PvfL7D9jJlRHUOJ0Pvn8pxamx2tLKP1460jDxTWUmJxEBYWzmWXTQ/K787GanRCfvbZZ5szDgDefPNN2rRpwzXXnL+18MADD9S7PX78eGbOnMkbb7zBO++809whNoosS0RHh6kdRrO4+eYb2bhxPTU15dgrstFFeTes4CsFWbs5unURKE6i2/dkwPjbKMzeR1neCSLbdqN9d//s5bBX5+KwFKPX67n99luD9v0SrMaPT+P777/h2LFj/HSqhpndTRd/Ugt7f+NRvt6dhVGn4ZHLB5PSNU7tkBqwOxV+zHaNHV977TV06OB/MbakRifk2bNnN2cc5Obm8t577/H66697Wq9ms9nz35qaGsLCGn5phYaGMm7cOFauXOm5z2QykZ/fsIhFRUWFp+62uwXtfi03q9WKxWJpUn1up1OhsjJYl0XIzJw5iy+++ITagr3I4e2R5Cbt4tkkpw6uA8U1jleWd5zsQz+SvX8VAAVZuwCJ+MQU1eI7F0VxUpvvmqNw2WWXI8shlJWJYhOB5pprrueZZ/6P3fkWRnYwEh2i3ufgt06XVvP1bteuYRabgwXrD/P6/LEqR9XQjjNmKuqcREVFk5Y2MWg/B4294Pabd1BOTg42m4277767wWM333wzgwYNYtGiRY06V2JiIlu3bvV0nbtlZWXRs2dPwJXI27dv7xlT/vUxiqI0GFu+VHZ78E72mDhxCmvWrKSkpBjziaWqxiI761/41JzZXe92WeZPhNvq/xv7i/DwCKZNuzyo3yvBrHv33vTvP4iDB/exYG8ZVof/THSsra2td7vE4uDpzQ3rMKjN/e185ZVXo9HoWv1nwW8Scp8+ffjwww/r3XfkyBGeffZZnnrqKQYMGHDO55nNZtavX1/v8bFjx/LGG2+wdetWT83trKwsDh8+zJ133lnvuLVr1/LnP/8Znc61g8vy5csxmUye8WihIZ1Oz7XXzuXtt18DJIyJlyHr1Oly7d2hmGM/f4nVUkWnPmMIi2pHydp3URQnING27wzCOvjPbjFOey2WjB8AB1dffR1GY+udwBIMrrnmeg4e3IfVoXDnoGi/2gnq49BavtqZSahBy/9OH8jAzm3UDqmeH7Or2ZRjJj6+ndhM5SxJ8eP1K9u2bePmm2/myy+/ZMCAAezcuZN3332XKVOm0LFjRwoLC3n//fc5ceIEn376KQMH/rJ/7B133EFGRgaPPPIIBoOBl156CVmWGxQGmTVrFmPGjGHevHkcP36cf/7znzz00ENNKgzicDgpLQ3Orhc3RVF4/vmnOX78KFpTF4wd/WezkcribMoLMjHFdiEqPkntcOqpzduBrTyDLl268sQT/09ssRgEFix4nZ9/3ky3SB23DIj2q92JbHYHGo2M7EcxAVTWOXh1ZzF2J9x774MMHTpc7ZCaVVxc42biB9S3QVxcHDabjZdeeok777yTp59+mri4uAbJGODll19m9OjRPPHEEzz88MN069aNBQsWeJIxQNeuXVm4cCH5+fncfffdvPfeezzwwAPcfvvtLf2rBRxJkpg372YkScJeeQq72X+6w0yxXenSb4LfJWNHbRm2clf3+Q033CKScZC4+urr0Gp1nKywcbzUqnY49ei0Gr9LxuBqHdud0L17T4YMaV07Ol2IX7eQA1VraCG7ffDBu/z00zpkQyShCdP8YhmUP1IUBXP2GpyWEoYPH8k99zxw8ScJAWPx4s/44YdlxBo1/D6lDRrZ/5Kgv8ivsfH27lIU4K9/fYqkpB5qh9TsgrKFLPifa665nvDwcJx1FdhKj6sdjt+yVWTitJRgMIRw/fU3qR2O4GOXX34V4eERFFsc7MyzqB2O31IUhRUZVSjA0KEjWkUyvhQiIQtNEh4ewZw5NwBQV3wQpy1Yl3t5z2mvo65wHwCzZ19LdHSMyhEJvhYaGsrs2a6Smj+eqsZsa92zhc/naEkdJytsaLU6rrvuBrXD8TsiIQtNlpo6lu7de4LTTl3B7os/oZWxFu4Fh5VOnbowadI0tcMRmsnYsRPp2LEztXaF9WeLXaitoNJMpcU/xrXtToVVWa6/y7RpM4iNbd1FQM5FJGShyWRZZv7825FlDfaqHOxVuWqH5DfsNQXYKlwFGm6++XY0Gv8ssSg0nUajYd68+QDszLdQWGNXNZ6XV+3nrvd/4taF69h0PE/VWAB+zjVTVusgMjKKyy+/Su1w/JJIyIJPdO7chWnTXNta1ubvRHHYVI5IfYrTQW3+TgDGj5/k6kUQglrfvv0ZPHgoTgWWp1didzhxOJUW/8korGTdEdeFsd2h8MHmY6rE4f4ps9g9vQbXXjuXkJAQNf+Z/JbfFAYRAt+VV17Njh0/U1xcRF3RAULa+VfJypZmLTmMYq0iMjKKa6+dq3Y4QguZO/cm9uzZyclKG//YUqRKDHV1dfVuV1gVv6jUpdPpGDUqTe0w/JZIyILPGAwGbr75Dv797+ewlR1HF9kFjTFW7bBU4agtx1ri2u3sxhtvITRUbB7RWsTFteWKK2azbNnXmPQSv0+JRa9p+WVQ30Y7+GJ7OiajnoemDqRnu6gWjwHgVKWVDw6UA/CXvzwh1t9fgEjIgk/17z+QUaPS2Lp1E7V5OwhNmIokta5xU0VxUpu3AxQnyclDGDIkuKsQCQ3NmHElW7ZspKSkmC25ZiZ1O/d2ss1p9pAEZg9Rdzc2h6KwItPVVT1u3EQSEvyrWI+/EZcqgs/NmzefiAgTzroKrMWXtid2MLCVncBZW4LRaGT+/Nv8qpSi0DIMBgNz57omeG3JqaHEou4EL7X
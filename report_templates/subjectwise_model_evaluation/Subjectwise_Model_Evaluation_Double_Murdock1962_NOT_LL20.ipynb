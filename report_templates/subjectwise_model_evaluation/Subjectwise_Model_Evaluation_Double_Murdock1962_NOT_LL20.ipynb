{
 "cells": [
  {
   "cell_type": "markdown",
   "id": "fe17f7b8",
   "metadata": {
    "tags": [
     "papermill-error-cell-tag"
    ]
   },
   "source": [
    "<span style=\"color:red; font-family:Helvetica Neue, Helvetica, Arial, sans-serif; font-size:2em;\">An Exception was encountered at '<a href=\"#papermill-error-cell\">In [12]</a>'.</span>"
   ]
  },
  {
   "cell_type": "code",
   "execution_count": 1,
   "id": "b7a15001",
   "metadata": {
    "execution": {
     "iopub.execute_input": "2022-05-27T16:28:15.210367Z",
     "iopub.status.busy": "2022-05-27T16:28:15.209653Z",
     "iopub.status.idle": "2022-05-27T16:28:56.611569Z",
     "shell.execute_reply": "2022-05-27T16:28:56.609763Z"
    },
    "papermill": {
     "duration": 41.439364,
     "end_time": "2022-05-27T16:28:56.615710",
     "exception": false,
     "start_time": "2022-05-27T16:28:15.176346",
     "status": "completed"
    },
    "tags": [
     "parameters"
    ]
   },
   "outputs": [],
   "source": [
    "# | code-summary: code -- load dependencies and data and select parameters\n",
    "\n",
    "from compmemlearn.fitting import generate_objective_function\n",
    "from compmemlearn.datasets import events_metadata, simulate_df, generate_trial_mask\n",
    "from scipy.optimize import differential_evolution\n",
    "from numba.typed import List, Dict\n",
    "from numba.core import types\n",
    "from numba import njit\n",
    "from psifr import fr\n",
    "import pandas as pd\n",
    "import numpy as np\n",
    "import seaborn as sns\n",
    "import matplotlib.pyplot as plt\n",
    "import importlib\n",
    "import os\n",
    "\n",
    "lb = np.finfo(float).eps\n",
    "ub = 1 - np.finfo(float).eps\n",
    "\n",
    "figure_caption = \"\"\"Distribution of log-likelihood scores of recall sequences exhibited by each subject in dataset under each considered model.\"\"\"\n",
    "\n",
    "section_tag = \"LohnasCondition1\"\n",
    "\n",
    "data_path = \"../data/LohnasKahana2014.csv\"\n",
    "results_path = \"results/\"\n",
    "trial_query = \"condition == 1\"\n",
    "\n",
    "model_paths = [\"compmemlearn.models.Classic_CMR\", \"compmemlearn.models.Instance_CMR\", \"compmemlearn.models.Dual_Instance_CMR\"]\n",
    "\n",
    "model_names = [\"PrototypeCMR\", \"InstanceCMR\", \"Dual Memory ICMR\"]\n",
    "\n",
    "free_parameters = [\n",
    "    [\n",
    "        \"encoding_drift_rate\",\n",
    "        \"start_drift_rate\",\n",
    "        \"recall_drift_rate\",\n",
    "        \"shared_support\",\n",
    "        \"item_support\",\n",
    "        \"learning_rate\",\n",
    "        \"primacy_scale\",\n",
    "        \"primacy_decay\",\n",
    "        \"stop_probability_scale\",\n",
    "        \"stop_probability_growth\",\n",
    "        \"choice_sensitivity\",\n",
    "        \"delay_drift_rate\",\n",
    "    ],\n",
    "    [\n",
    "        \"encoding_drift_rate\",\n",
    "        \"start_drift_rate\",\n",
    "        \"recall_drift_rate\",\n",
    "        \"shared_support\",\n",
    "        \"item_support\",\n",
    "        \"learning_rate\",\n",
    "        \"primacy_scale\",\n",
    "        \"primacy_decay\",\n",
    "        \"stop_probability_scale\",\n",
    "        \"stop_probability_growth\",\n",
    "        #    'choice_sensitivity',\n",
    "        \"context_sensitivity\",\n",
    "        #    'feature_sensitivity'\n",
    "        \"delay_drift_rate\",\n",
    "    ],\n",
    "    [\n",
    "        \"encoding_drift_rate\",\n",
    "        \"start_drift_rate\",\n",
    "        \"recall_drift_rate\",\n",
    "        \"shared_support\",\n",
    "        \"item_support\",\n",
    "        \"learning_rate\",\n",
    "        \"primacy_scale\",\n",
    "        \"primacy_decay\",\n",
    "        \"stop_probability_scale\",\n",
    "        \"stop_probability_growth\",\n",
    "        #    'choice_sensitivity',\n",
    "        \"context_sensitivity\",\n",
    "        #    'feature_sensitivity'\n",
    "        \"delay_drift_rate\",\n",
    "    ],\n",
    "]\n",
    "\n",
    "bounds = [\n",
    "    [\n",
    "        [lb, ub],\n",
    "        [lb, ub],\n",
    "        [lb, ub],\n",
    "        [lb, ub],\n",
    "        [lb, ub],\n",
    "        [lb, ub],\n",
    "        [lb, 100],\n",
    "        [lb, 100],\n",
    "        [lb, ub],\n",
    "        [lb, 10],\n",
    "        [lb, 10],\n",
    "        [lb, ub],\n",
    "    ],\n",
    "    [\n",
    "        [lb, ub],\n",
    "        [lb, ub],\n",
    "        [lb, ub],\n",
    "        [lb, ub],\n",
    "        [lb, ub],\n",
    "        [lb, ub],\n",
    "        [lb, 100],\n",
    "        [lb, 100],\n",
    "        [lb, ub],\n",
    "        [lb, 10],\n",
    "        [lb, 10],\n",
    "        [lb, ub],\n",
    "    ],\n",
    "    [\n",
    "        [lb, ub],\n",
    "        [lb, ub],\n",
    "        [lb, ub],\n",
    "        [lb, ub],\n",
    "        [lb, ub],\n",
    "        [lb, ub],\n",
    "        [lb, 100],\n",
    "        [lb, 100],\n",
    "        [lb, ub],\n",
    "        [lb, 10],\n",
    "        [lb, 10],\n",
    "        [lb, ub],\n",
    "    ],\n",
    "]\n",
    "\n",
    "fixed_parameters = [\n",
    "    {'sampling_rule': 0, 'mfc_familiarity_scale': 0, \n",
    "         'mcf_familiarity_scale': 0, 'drift_familiarity_scale': 0}, \n",
    "    {\"choice_sensitivity\": 1, \"feature_sensitivity\": 1, 'mfc_familiarity_scale': 0, \n",
    "         'mcf_familiarity_scale': 0, 'drift_familiarity_scale': 0},\n",
    "    {\"choice_sensitivity\": 1, \"feature_sensitivity\": 1, 'mfc_familiarity_scale': 0, \n",
    "         'mcf_familiarity_scale': 0, 'drift_familiarity_scale': 0},\n",
    "]\n",
    "\n",
    "analysis_paths = ['compmemlearn.analyses.plot_spc', 'compmemlearn.analyses.plot_crp', 'compmemlearn.analyses.plot_pfr']\n",
    "analysis_names = ['spc', 'crp', 'pfr']\n",
    "\n",
    "experiment_count = 100\n"
   ]
  },
  {
   "cell_type": "code",
   "execution_count": 2,
   "id": "fd07c97c",
   "metadata": {
    "execution": {
     "iopub.execute_input": "2022-05-27T16:28:56.666838Z",
     "iopub.status.busy": "2022-05-27T16:28:56.666309Z",
     "iopub.status.idle": "2022-05-27T16:28:56.701370Z",
     "shell.execute_reply": "2022-05-27T16:28:56.700159Z"
    },
    "papermill": {
     "duration": 0.061611,
     "end_time": "2022-05-27T16:28:56.704422",
     "exception": false,
     "start_time": "2022-05-27T16:28:56.642811",
     "status": "completed"
    },
    "tags": [
     "injected-parameters"
    ]
   },
   "outputs": [],
   "source": [
    "# Parameters\n",
    "data_path = \"../data/Murdock1962.csv\"\n",
    "trial_query = \"`list length` != 20\"\n",
    "model_paths = [\n",
    "    \"compmemlearn.models.Base_CMR\",\n",
    "    \"compmemlearn.models.Dual_ICMR\",\n",
    "    \"compmemlearn.models.Dual_ICMR\",\n",
    "    \"compmemlearn.models.Dual_ICMR\",\n",
    "    \"compmemlearn.models.Dual_ICMR\",\n",
    "]\n",
    "model_names = [\"BaseCMR\", \"ICMR_2_0_0\", \"ICMR_2_0_1\", \"ICMR_2_1_0\", \"ICMR_2_1_1\"]\n",
    "free_parameters = [\n",
    "    [\n",
    "        \"encoding_drift_rate\",\n",
    "        \"start_drift_rate\",\n",
    "        \"recall_drift_rate\",\n",
    "        \"shared_support\",\n",
    "        \"item_support\",\n",
    "        \"learning_rate\",\n",
    "        \"primacy_scale\",\n",
    "        \"primacy_decay\",\n",
    "        \"stop_probability_scale\",\n",
    "        \"stop_probability_growth\",\n",
    "        \"choice_sensitivity\",\n",
    "        \"delay_drift_rate\",\n",
    "    ],\n",
    "    [\n",
    "        \"encoding_drift_rate\",\n",
    "        \"start_drift_rate\",\n",
    "        \"recall_drift_rate\",\n",
    "        \"shared_support\",\n",
    "        \"item_support\",\n",
    "        \"learning_rate\",\n",
    "        \"primacy_scale\",\n",
    "        \"primacy_decay\",\n",
    "        \"stop_probability_scale\",\n",
    "        \"stop_probability_growth\",\n",
    "        \"choice_sensitivity\",\n",
    "        \"delay_drift_rate\",\n",
    "    ],\n",
    "    [\n",
    "        \"encoding_drift_rate\",\n",
    "        \"start_drift_rate\",\n",
    "        \"recall_drift_rate\",\n",
    "        \"shared_support\",\n",
    "        \"item_support\",\n",
    "        \"learning_rate\",\n",
    "        \"primacy_scale\",\n",
    "        \"primacy_decay\",\n",
    "        \"stop_probability_scale\",\n",
    "        \"stop_probability_growth\",\n",
    "        \"choice_sensitivity\",\n",
    "        \"delay_drift_rate\",\n",
    "    ],\n",
    "    [\n",
    "        \"encoding_drift_rate\",\n",
    "        \"start_drift_rate\",\n",
    "        \"recall_drift_rate\",\n",
    "        \"shared_support\",\n",
    "        \"item_support\",\n",
    "        \"learning_rate\",\n",
    "        \"primacy_scale\",\n",
    "        \"primacy_decay\",\n",
    "        \"stop_probability_scale\",\n",
    "        \"stop_probability_growth\",\n",
    "        \"context_sensitivity\",\n",
    "        \"delay_drift_rate\",\n",
    "    ],\n",
    "    [\n",
    "        \"encoding_drift_rate\",\n",
    "        \"start_drift_rate\",\n",
    "        \"recall_drift_rate\",\n",
    "        \"shared_support\",\n",
    "        \"item_support\",\n",
    "        \"learning_rate\",\n",
    "        \"primacy_scale\",\n",
    "        \"primacy_decay\",\n",
    "        \"stop_probability_scale\",\n",
    "        \"stop_probability_growth\",\n",
    "        \"context_sensitivity\",\n",
    "        \"delay_drift_rate\",\n",
    "    ],\n",
    "]\n",
    "bounds = [\n",
    "    [\n",
    "        [2.220446049250313e-16, 0.9999999999999998],\n",
    "        [2.220446049250313e-16, 0.9999999999999998],\n",
    "        [2.220446049250313e-16, 0.9999999999999998],\n",
    "        [2.220446049250313e-16, 0.9999999999999998],\n",
    "        [2.220446049250313e-16, 0.9999999999999998],\n",
    "        [2.220446049250313e-16, 0.9999999999999998],\n",
    "        [2.220446049250313e-16, 100],\n",
    "        [2.220446049250313e-16, 100],\n",
    "        [2.220446049250313e-16, 0.9999999999999998],\n",
    "        [2.220446049250313e-16, 10],\n",
    "        [2.220446049250313e-16, 10],\n",
    "        [2.220446049250313e-16, 0.9999999999999998],\n",
    "    ],\n",
    "    [\n",
    "        [2.220446049250313e-16, 0.9999999999999998],\n",
    "        [2.220446049250313e-16, 0.9999999999999998],\n",
    "        [2.220446049250313e-16, 0.9999999999999998],\n",
    "        [2.220446049250313e-16, 0.9999999999999998],\n",
    "        [2.220446049250313e-16, 0.9999999999999998],\n",
    "        [2.220446049250313e-16, 0.9999999999999998],\n",
    "        [2.220446049250313e-16, 100],\n",
    "        [2.220446049250313e-16, 100],\n",
    "        [2.220446049250313e-16, 0.9999999999999998],\n",
    "        [2.220446049250313e-16, 10],\n",
    "        [2.220446049250313e-16, 10],\n",
    "        [2.220446049250313e-16, 0.9999999999999998],\n",
    "    ],\n",
    "    [\n",
    "        [2.220446049250313e-16, 0.9999999999999998],\n",
    "        [2.220446049250313e-16, 0.9999999999999998],\n",
    "        [2.220446049250313e-16, 0.9999999999999998],\n",
    "        [2.220446049250313e-16, 0.9999999999999998],\n",
    "        [2.220446049250313e-16, 0.9999999999999998],\n",
    "        [2.220446049250313e-16, 0.9999999999999998],\n",
    "        [2.220446049250313e-16, 100],\n",
    "        [2.220446049250313e-16, 100],\n",
    "        [2.220446049250313e-16, 0.9999999999999998],\n",
    "        [2.220446049250313e-16, 10],\n",
    "        [2.220446049250313e-16, 10],\n",
    "        [2.220446049250313e-16, 0.9999999999999998],\n",
    "    ],\n",
    "    [\n",
    "        [2.220446049250313e-16, 0.9999999999999998],\n",
    "        [2.220446049250313e-16, 0.9999999999999998],\n",
    "        [2.220446049250313e-16, 0.9999999999999998],\n",
    "        [2.220446049250313e-16, 0.9999999999999998],\n",
    "        [2.220446049250313e-16, 0.9999999999999998],\n",
    "        [2.220446049250313e-16, 0.9999999999999998],\n",
    "        [2.220446049250313e-16, 100],\n",
    "        [2.220446049250313e-16, 100],\n",
    "        [2.220446049250313e-16, 0.9999999999999998],\n",
    "        [2.220446049250313e-16, 10],\n",
    "        [2.220446049250313e-16, 10],\n",
    "        [2.220446049250313e-16, 0.9999999999999998],\n",
    "    ],\n",
    "    [\n",
    "        [2.220446049250313e-16, 0.9999999999999998],\n",
    "        [2.220446049250313e-16, 0.9999999999999998],\n",
    "        [2.220446049250313e-16, 0.9999999999999998],\n",
    "        [2.220446049250313e-16, 0.9999999999999998],\n",
    "        [2.220446049250313e-16, 0.9999999999999998],\n",
    "        [2.220446049250313e-16, 0.9999999999999998],\n",
    "        [2.220446049250313e-16, 100],\n",
    "        [2.220446049250313e-16, 100],\n",
    "        [2.220446049250313e-16, 0.9999999999999998],\n",
    "        [2.220446049250313e-16, 10],\n",
    "        [2.220446049250313e-16, 10],\n",
    "        [2.220446049250313e-16, 0.9999999999999998],\n",
    "    ],\n",
    "]\n",
    "fixed_parameters = [\n",
    "    {},\n",
    "    {\"feature_sensitivity\": 1, \"context_sensitivity\": 1, \"learning_order\": 0},\n",
    "    {\"feature_sensitivity\": 1, \"context_sensitivity\": 1, \"learning_order\": 1},\n",
    "    {\"feature_sensitivity\": 1, \"choice_sensitivity\": 1, \"learning_order\": 0},\n",
    "    {\"feature_sensitivity\": 1, \"choice_sensitivity\": 1, \"learning_order\": 1},\n",
    "]\n",
    "section_tag = \"Murdock1962_NOT_LL20\"\n"
   ]
  },
  {
   "cell_type": "code",
   "execution_count": 3,
   "id": "67c36735",
   "metadata": {
    "execution": {
     "iopub.execute_input": "2022-05-27T16:28:56.745270Z",
     "iopub.status.busy": "2022-05-27T16:28:56.744895Z",
     "iopub.status.idle": "2022-05-27T16:30:35.408333Z",
     "shell.execute_reply": "2022-05-27T16:30:35.407407Z"
    },
    "papermill": {
     "duration": 98.721004,
     "end_time": "2022-05-27T16:30:35.445742",
     "exception": false,
     "start_time": "2022-05-27T16:28:56.724738",
     "status": "completed"
    },
    "tags": []
   },
   "outputs": [
    {
     "name": "stdout",
     "output_type": "stream",
     "text": [
      "<function murdock_objective_function.<locals>.objective_function at 0x0000020F7DF47D30>\n",
      "9475.030215986344\n",
      "14906.940413109876\n",
      "<function murdock_objective_function.<locals>.objective_function at 0x0000020F7F4100D0>\n",
      "9475.030215986344\n",
      "14906.940413109876\n",
      "<function murdock_objective_function.<locals>.objective_function at 0x0000020F0323B160>\n",
      "9475.030215986344\n",
      "14906.940413109876\n",
      "<function murdock_objective_function.<locals>.objective_function at 0x0000020F7FCC0D30>\n",
      "9475.030215986346\n",
      "14906.940413109876\n",
      "<function murdock_objective_function.<locals>.objective_function at 0x0000020F04E05700>\n",
      "9475.030215986346\n",
      "14906.940413109876\n",
      "dependencies and parameters validated\n"
     ]
    }
   ],
   "source": [
    "#| code-summary: code -- test that specified parameters are valid\n",
    "#| output: false\n",
    "\n",
    "events = pd.read_csv(data_path)\n",
    "\n",
    "trials, list_lengths, presentations = events_metadata(events)\n",
    "trial_mask = generate_trial_mask(events, trial_query)\n",
    "\n",
    "# import models from specified source\n",
    "models = []\n",
    "for i in range(len(model_paths)):\n",
    "    module_name, model_name = model_paths[i].rsplit('.',1) #TODO: add handling for case with no `.`\n",
    "    module = importlib.import_module(module_name)\n",
    "    models.append(getattr(module, model_name))\n",
    "\n",
    "# import analyses from specified source\n",
    "analyses = []\n",
    "for i in range(len(analysis_paths)):\n",
    "    module_name, analysis_name = analysis_paths[i].rsplit('.',1) #TODO: add handling for case with no `.`\n",
    "    module = importlib.import_module(module_name)\n",
    "    analyses.append(getattr(module, analysis_name))\n",
    "\n",
    "# make sure model initializes with provided parameters and boundaries\n",
    "for model_index, model_class in enumerate(models):\n",
    "\n",
    "    @njit(fastmath=True, nogil=True)\n",
    "    def init_model(item_count, presentation_count, parameters):\n",
    "        return model_class(item_count, presentation_count, parameters)\n",
    "\n",
    "    subject_specific_trial_mask = np.logical_and(\n",
    "                generate_trial_mask(events, f'subject == {pd.unique(events.subject)[0]}'), trial_mask)\n",
    "\n",
    "    cost_function = generate_objective_function(\n",
    "        [trials[i][subject_specific_trial_mask[i]] for i in range(len(trials))],\n",
    "        [presentations[i][subject_specific_trial_mask[i]] for i in range(len(presentations))],\n",
    "        list_lengths,\n",
    "        init_model,\n",
    "        fixed_parameters[model_index],\n",
    "        free_parameters[model_index],\n",
    "    )\n",
    "    print(cost_function)\n",
    "    \n",
    "    for boundary_index in range(2):\n",
    "        x = np.array([each[boundary_index] for each in bounds[model_index]])\n",
    "        assert(len(x) == len(free_parameters[model_index])) \n",
    "\n",
    "        # parameter configuration\n",
    "        parameters = Dict.empty(key_type=types.unicode_type, value_type=types.float64)\n",
    "        for name, value in fixed_parameters[model_index].items():\n",
    "            parameters[name] = value\n",
    "        for i in range(len(free_parameters[model_index])):\n",
    "                parameters[free_parameters[model_index][i]] = x[i]\n",
    "\n",
    "        model = init_model(20, 20, parameters)\n",
    "        model.experience(model.items)\n",
    "        model.free_recall()\n",
    "\n",
    "        print(cost_function(x))\n",
    "print('dependencies and parameters validated')\n",
    "#print(trial_index, recall_index, recall, trial, likelihood[trial_index, recall_index], model.outcome_probabilities())"
   ]
  },
  {
   "cell_type": "code",
   "execution_count": 4,
   "id": "7389dbcc",
   "metadata": {
    "execution": {
     "iopub.execute_input": "2022-05-27T16:30:35.493368Z",
     "iopub.status.busy": "2022-05-27T16:30:35.492729Z",
     "iopub.status.idle": "2022-05-27T17:00:28.225845Z",
     "shell.execute_reply": "2022-05-27T17:00:28.224863Z"
    },
    "papermill": {
     "duration": 1792.807658,
     "end_time": "2022-05-27T17:00:28.276888",
     "exception": false,
     "start_time": "2022-05-27T16:30:35.469230",
     "status": "completed"
    },
    "tags": []
   },
   "outputs": [
    {
     "name": "stdout",
     "output_type": "stream",
     "text": [
      "individual fits for BaseCMR with tag Murdock1962_NOT_LL20 already exist\n",
      "individual fits for ICMR_2_0_0 with tag Murdock1962_NOT_LL20 already exist\n",
      "individual fits for ICMR_2_0_1 with tag Murdock1962_NOT_LL20 already exist\n",
      "ICMR_2_1_0, Subject 1\n",
      "3024.348938780894\n",
      "ICMR_2_1_0, Subject 2\n"
     ]
    },
    {
     "ename": "KeyboardInterrupt",
     "evalue": "",
     "output_type": "error",
     "traceback": [
      "\u001b[1;31m---------------------------------------------------------------------------\u001b[0m",
      "\u001b[1;31mKeyboardInterrupt\u001b[0m                         Traceback (most recent call last)",
      "\u001b[1;32mc:\\Users\\gunnj\\compmemlearn\\report_templates\\Subjectwise_Model_Evaluation_Double_Murdock1962_NOT_LL20.ipynb Cell 5'\u001b[0m in \u001b[0;36m<module>\u001b[1;34m\u001b[0m\n\u001b[0;32m     <a href='vscode-notebook-cell:/c%3A/Users/gunnj/compmemlearn/report_templates/Subjectwise_Model_Evaluation_Double_Murdock1962_NOT_LL20.ipynb#ch0000004?line=36'>37</a>\u001b[0m \u001b[39mexcept\u001b[39;00m \u001b[39mValueError\u001b[39;00m:\n\u001b[0;32m     <a href='vscode-notebook-cell:/c%3A/Users/gunnj/compmemlearn/report_templates/Subjectwise_Model_Evaluation_Double_Murdock1962_NOT_LL20.ipynb#ch0000004?line=37'>38</a>\u001b[0m     \u001b[39mcontinue\u001b[39;00m\n\u001b[1;32m---> <a href='vscode-notebook-cell:/c%3A/Users/gunnj/compmemlearn/report_templates/Subjectwise_Model_Evaluation_Double_Murdock1962_NOT_LL20.ipynb#ch0000004?line=39'>40</a>\u001b[0m fit_result \u001b[39m=\u001b[39m  differential_evolution(cost_function, bounds[model_index], disp\u001b[39m=\u001b[39;49m\u001b[39mFalse\u001b[39;49;00m)\n        model_index \u001b[1;34m= 3\u001b[0m\u001b[1;34m\n        \u001b[0mfit_result \u001b[1;34m=      fun: 3024.348938780894\n     jac: array([-9.13587423e-02, -6.48924470e-02, -8.89940561e-02,  1.24964572e-01,\n       -8.42187542e+00,  1.37788447e-02, -1.00044418e-03,  0.00000000e+00,\n       -3.86626198e-01, -7.25322025e-02,  5.22959457e-03, -1.26874510e-02])\n message: 'Optimization terminated successfully.'\n    nfev: 10145\n     nit: 42\n success: True\n       x: array([6.30669770e-01, 1.27596562e-01, 6.56647770e-01, 8.93541082e-02,\n       1.00000000e+00, 3.03199463e-01, 2.22552488e+00, 9.65477577e+01,\n       2.35373739e-02, 3.33913745e-01, 3.61232030e+00, 7.53762331e-01])\u001b[0m\u001b[1;34m\n        \u001b[0mcost_function \u001b[1;34m= <function murdock_objective_function.<locals>.objective_function at 0x0000020F02059040>\u001b[0m\u001b[1;34m\n        \u001b[0mbounds[model_index] \u001b[1;34m= [[2.220446049250313e-16, 0.9999999999999998], [2.220446049250313e-16, 0.9999999999999998], [2.220446049250313e-16, 0.9999999999999998], [2.220446049250313e-16, 0.9999999999999998], [2.220446049250313e-16, 0.9999999999999998], [2.220446049250313e-16, 0.9999999999999998], [2.220446049250313e-16, 100], [2.220446049250313e-16, 100], [2.220446049250313e-16, 0.9999999999999998], [2.220446049250313e-16, 10], [2.220446049250313e-16, 10], [2.220446049250313e-16, 0.9999999999999998]]\u001b[0m\u001b[1;34m\n        \u001b[0mbounds \u001b[1;34m= [[[2.220446049250313e-16, 0.9999999999999998], [2.220446049250313e-16, 0.9999999999999998], [2.220446049250313e-16, 0.9999999999999998], [2.220446049250313e-16, 0.9999999999999998], [2.220446049250313e-16, 0.9999999999999998], [2.220446049250313e-16, 0.9999999999999998], [2.220446049250313e-16, 100], [2.220446049250313e-16, 100], [2.220446049250313e-16, 0.9999999999999998], [2.220446049250313e-16, 10], [2.220446049250313e-16, 10], [2.220446049250313e-16, 0.9999999999999998]], [[2.220446049250313e-16, 0.9999999999999998], [2.220446049250313e-16, 0.9999999999999998], [2.220446049250313e-16, 0.9999999999999998], [2.220446049250313e-16, 0.9999999999999998], [2.220446049250313e-16, 0.9999999999999998], [2.220446049250313e-16, 0.9999999999999998], [2.220446049250313e-16, 100], [2.220446049250313e-16, 100], [2.220446049250313e-16, 0.9999999999999998], [2.220446049250313e-16, 10], [2.220446049250313e-16, 10], [2.220446049250313e-16, 0.9999999999999998]], [[2.220446049250313e-16, 0.9999999999999998], [2.220446049250313e-16, 0.9999999999999998], [2.220446049250313e-16, 0.9999999999999998], [2.220446049250313e-16, 0.9999999999999998], [2.220446049250313e-16, 0.9999999999999998], [2.220446049250313e-16, 0.9999999999999998], [2.220446049250313e-16, 100], [2.220446049250313e-16, 100], [2.220446049250313e-16, 0.9999999999999998], [2.220446049250313e-16, 10], [2.220446049250313e-16, 10], [2.220446049250313e-16, 0.9999999999999998]], [[2.220446049250313e-16, 0.9999999999999998], [2.220446049250313e-16, 0.9999999999999998], [2.220446049250313e-16, 0.9999999999999998], [2.220446049250313e-16, 0.9999999999999998], [2.220446049250313e-16, 0.9999999999999998], [2.220446049250313e-16, 0.9999999999999998], [2.220446049250313e-16, 100], [2.220446049250313e-16, 100], [2.220446049250313e-16, 0.9999999999999998], [2.220446049250313e-16, 10], [2.220446049250313e-16, 10], [2.220446049250313e-16, 0.9999999999999998]], [[2.220446049250313e-16, 0.9999999999999998], [2.220446049250313e-16, 0.9999999999999998], [2.220446049250313e-16, 0.9999999999999998], [2.220446049250313e-16, 0.9999999999999998], [2.220446049250313e-16, 0.9999999999999998], [2.220446049250313e-16, 0.9999999999999998], [2.220446049250313e-16, 100], [2.220446049250313e-16, 100], [2.220446049250313e-16, 0.9999999999999998], [2.220446049250313e-16, 10], [2.220446049250313e-16, 10], [2.220446049250313e-16, 0.9999999999999998]]]\u001b[0m\n\u001b[0;32m     <a href='vscode-notebook-cell:/c%3A/Users/gunnj/compmemlearn/report_templates/Subjectwise_Model_Evaluation_Double_Murdock1962_NOT_LL20.ipynb#ch0000004?line=41'>42</a>\u001b[0m fitted_parameters \u001b[39m=\u001b[39m {\n\u001b[0;32m     <a href='vscode-notebook-cell:/c%3A/Users/gunnj/compmemlearn/report_templates/Subjectwise_Model_Evaluation_Double_Murdock1962_NOT_LL20.ipynb#ch0000004?line=42'>43</a>\u001b[0m     \u001b[39m'\u001b[39m\u001b[39msubject\u001b[39m\u001b[39m'\u001b[39m: subject, \u001b[39m'\u001b[39m\u001b[39mtrial_count\u001b[39m\u001b[39m'\u001b[39m: np\u001b[39m.\u001b[39msum(subject_specific_trial_mask), \n\u001b[0;32m     <a href='vscode-notebook-cell:/c%3A/Users/gunnj/compmemlearn/report_templates/Subjectwise_Model_Evaluation_Double_Murdock1962_NOT_LL20.ipynb#ch0000004?line=43'>44</a>\u001b[0m     \u001b[39m'\u001b[39m\u001b[39mlikelihood\u001b[39m\u001b[39m'\u001b[39m: fit_result\u001b[39m.\u001b[39mfun, \u001b[39m'\u001b[39m\u001b[39mmodel\u001b[39m\u001b[39m'\u001b[39m: model_names[model_index]\n\u001b[0;32m     <a href='vscode-notebook-cell:/c%3A/Users/gunnj/compmemlearn/report_templates/Subjectwise_Model_Evaluation_Double_Murdock1962_NOT_LL20.ipynb#ch0000004?line=44'>45</a>\u001b[0m     }\n\u001b[0;32m     <a href='vscode-notebook-cell:/c%3A/Users/gunnj/compmemlearn/report_templates/Subjectwise_Model_Evaluation_Double_Murdock1962_NOT_LL20.ipynb#ch0000004?line=45'>46</a>\u001b[0m \u001b[39mfor\u001b[39;00m i \u001b[39min\u001b[39;00m \u001b[39mrange\u001b[39m(\u001b[39mlen\u001b[39m(fit_result\u001b[39m.\u001b[39mx)):\n",
      "File \u001b[1;32mc:\\ProgramData\\Miniconda3\\lib\\site-packages\\scipy\\optimize\\_differentialevolution.py:308\u001b[0m, in \u001b[0;36mdifferential_evolution\u001b[1;34m(func=<function murdock_objective_function.<locals>.objective_function>, bounds=[[2.220446049250313e-16, 0.9999999999999998], [2.220446049250313e-16, 0.9999999999999998], [2.220446049250313e-16, 0.9999999999999998], [2.220446049250313e-16, 0.9999999999999998], [2.220446049250313e-16, 0.9999999999999998], [2.220446049250313e-16, 0.9999999999999998], [2.220446049250313e-16, 100], [2.220446049250313e-16, 100], [2.220446049250313e-16, 0.9999999999999998], [2.220446049250313e-16, 10], [2.220446049250313e-16, 10], [2.220446049250313e-16, 0.9999999999999998]], args=(), strategy='best1bin', maxiter=1000, popsize=15, tol=0.01, mutation=(0.5, 1), recombination=0.7, seed=None, callback=None, disp=False, polish=True, init='latinhypercube', atol=0, updating='immediate', workers=1, constraints=())\u001b[0m\n\u001b[0;32m    294\u001b[0m \u001b[39m# using a context manager means that any created Pool objects are\u001b[39;00m\n\u001b[0;32m    295\u001b[0m \u001b[39m# cleared up.\u001b[39;00m\n\u001b[0;32m    296\u001b[0m \u001b[39mwith\u001b[39;00m DifferentialEvolutionSolver(func, bounds, args\u001b[39m=\u001b[39margs,\n\u001b[0;32m    297\u001b[0m                                  strategy\u001b[39m=\u001b[39mstrategy,\n\u001b[0;32m    298\u001b[0m                                  maxiter\u001b[39m=\u001b[39mmaxiter,\n\u001b[1;32m   (...)\u001b[0m\n\u001b[0;32m    306\u001b[0m                                  workers\u001b[39m=\u001b[39mworkers,\n\u001b[0;32m    307\u001b[0m                                  constraints\u001b[39m=\u001b[39mconstraints) \u001b[39mas\u001b[39;00m solver:\n\u001b[1;32m--> 308\u001b[0m     ret \u001b[39m=\u001b[39m solver\u001b[39m.\u001b[39;49msolve()\n        solver \u001b[1;34m= <scipy.optimize._differentialevolution.DifferentialEvolutionSolver object at 0x0000020F03609CA0>\u001b[0m\n\u001b[0;32m    310\u001b[0m \u001b[39mreturn\u001b[39;00m ret\n",
      "File \u001b[1;32mc:\\ProgramData\\Miniconda3\\lib\\site-packages\\scipy\\optimize\\_differentialevolution.py:759\u001b[0m, in \u001b[0;36mDifferentialEvolutionSolver.solve\u001b[1;34m(self=<scipy.optimize._differentialevolution.DifferentialEvolutionSolver object>)\u001b[0m\n\u001b[0;32m    756\u001b[0m \u001b[39mfor\u001b[39;00m nit \u001b[39min\u001b[39;00m \u001b[39mrange\u001b[39m(\u001b[39m1\u001b[39m, \u001b[39mself\u001b[39m\u001b[39m.\u001b[39mmaxiter \u001b[39m+\u001b[39m \u001b[39m1\u001b[39m):\n\u001b[0;32m    757\u001b[0m     \u001b[39m# evolve the population by a generation\u001b[39;00m\n\u001b[0;32m    758\u001b[0m     \u001b[39mtry\u001b[39;00m:\n\u001b[1;32m--> 759\u001b[0m         \u001b[39mnext\u001b[39;49m(\u001b[39mself\u001b[39;49m)\n        self \u001b[1;34m= <scipy.optimize._differentialevolution.DifferentialEvolutionSolver object at 0x0000020F03609CA0>\u001b[0m\n\u001b[0;32m    760\u001b[0m     \u001b[39mexcept\u001b[39;00m \u001b[39mStopIteration\u001b[39;00m:\n\u001b[0;32m    761\u001b[0m         warning_flag \u001b[39m=\u001b[39m \u001b[39mTrue\u001b[39;00m\n",
      "File \u001b[1;32mc:\\ProgramData\\Miniconda3\\lib\\site-packages\\scipy\\optimize\\_differentialevolution.py:1069\u001b[0m, in \u001b[0;36mDifferentialEvolutionSolver.__next__\u001b[1;34m(self=<scipy.optimize._differentialevolution.DifferentialEvolutionSolver object>)\u001b[0m\n\u001b[0;32m   1067\u001b[0m     feasible \u001b[39m=\u001b[39m \u001b[39mTrue\u001b[39;00m\n\u001b[0;32m   1068\u001b[0m     cv \u001b[39m=\u001b[39m np\u001b[39m.\u001b[39matleast_2d([\u001b[39m0.\u001b[39m])\n\u001b[1;32m-> 1069\u001b[0m     energy \u001b[39m=\u001b[39m \u001b[39mself\u001b[39;49m\u001b[39m.\u001b[39;49mfunc(parameters)\n        self \u001b[1;34m= <scipy.optimize._differentialevolution.DifferentialEvolutionSolver object at 0x0000020F03609CA0>\u001b[0m\u001b[1;34m\n        \u001b[0mparameters \u001b[1;34m= array([ 0.31839961,  0.93049043,  0.12570068,  0.3899533 ,  0.80619717,\n        0.25608236, 87.03543199,  2.02084364,  0.54018076,  1.90841231,\n        4.98924183,  0.72185745])\u001b[0m\u001b[1;34m\n        \u001b[0menergy \u001b[1;34m= 18487.03502346167\u001b[0m\u001b[1;34m\n        \u001b[0mself.func \u001b[1;34m= <scipy.optimize._differentialevolution._FunctionWrapper object at 0x0000020F02097E50>\u001b[0m\n\u001b[0;32m   1070\u001b[0m     \u001b[39mself\u001b[39m\u001b[39m.\u001b[39m_nfev \u001b[39m+\u001b[39m\u001b[39m=\u001b[39m \u001b[39m1\u001b[39m\n\u001b[0;32m   1072\u001b[0m \u001b[39m# compare trial and population member\u001b[39;00m\n",
      "File \u001b[1;32mc:\\ProgramData\\Miniconda3\\lib\\site-packages\\scipy\\optimize\\_differentialevolution.py:1255\u001b[0m, in \u001b[0;36m_FunctionWrapper.__call__\u001b[1;34m(self=<scipy.optimize._differentialevolution._FunctionWrapper object>, x=array([ 0.31839961,  0.93049043,  0.12570068,  0...6,  1.90841231,\n        4.98924183,  0.72185745]))\u001b[0m\n\u001b[0;32m   1254\u001b[0m \u001b[39mdef\u001b[39;00m \u001b[39m__call__\u001b[39m(\u001b[39mself\u001b[39m, x):\n\u001b[1;32m-> 1255\u001b[0m     \u001b[39mreturn\u001b[39;00m \u001b[39mself\u001b[39;49m\u001b[39m.\u001b[39;49mf(x, \u001b[39m*\u001b[39;49m\u001b[39mself\u001b[39;49m\u001b[39m.\u001b[39;49margs)\n        self.f \u001b[1;34m= <function murdock_objective_function.<locals>.objective_function at 0x0000020F02059040>\u001b[0m\u001b[1;34m\n        \u001b[0mx \u001b[1;34m= array([ 0.31839961,  0.93049043,  0.12570068,  0.3899533 ,  0.80619717,\n        0.25608236, 87.03543199,  2.02084364,  0.54018076,  1.90841231,\n        4.98924183,  0.72185745])\u001b[0m\u001b[1;34m\n        \u001b[0mself \u001b[1;34m= <scipy.optimize._differentialevolution._FunctionWrapper object at 0x0000020F02097E50>\u001b[0m\u001b[1;34m\n        \u001b[0mself.args \u001b[1;34m= ()\u001b[0m\n",
      "File \u001b[1;32mc:\\users\\gunnj\\compmemlearn\\compmemlearn\\fitting.py:68\u001b[0m, in \u001b[0;36mmurdock_objective_function.<locals>.objective_function\u001b[1;34m(x=array([ 0.31839961,  0.93049043,  0.12570068,  0...6,  1.90841231,\n        4.98924183,  0.72185745]))\u001b[0m\n\u001b[0;32m     66\u001b[0m \u001b[39mfor\u001b[39;00m i \u001b[39min\u001b[39;00m \u001b[39mrange\u001b[39m(\u001b[39mlen\u001b[39m(free_parameters)):\n\u001b[0;32m     67\u001b[0m     parameters[free_parameters[i]] \u001b[39m=\u001b[39m x[i]\n\u001b[1;32m---> 68\u001b[0m \u001b[39mreturn\u001b[39;00m murdock_data_likelihood(data_to_fit, item_counts, model_class, parameters)\n        murdock_data_likelihood \u001b[1;34m= CPUDispatcher(<function murdock_data_likelihood at 0x0000020F7A77E160>)\u001b[0m\u001b[1;34m\n        \u001b[0mdata_to_fit \u001b[1;34m= ListType[array(int32, 2d, C)]([[[ 1  6 15 ...  0  0  0]\n [ 1  4 17 ...  0  0  0]\n [ 1  5 29 ...  0  0  0]\n ...\n [27 28 29 ... 22  0  0]\n [29 28 30 ...  0  0  0]\n [25 26 28 ...  0  0  0]], [[39 40 11 ...  0  0  0]\n [38 39 40 ...  5 10  0]\n [37 38 39 ...  0  0  0]\n ...\n [34 35 40 ...  0  0  0]\n [39 40 37 ...  0  0  0]\n [34 35 37 ...  0  0  0]], ...])\u001b[0m\u001b[1;34m\n        \u001b[0mitem_counts \u001b[1;34m= ListType[int64]([30, 40, ...])\u001b[0m\u001b[1;34m\n        \u001b[0mmodel_class \u001b[1;34m= CPUDispatcher(<function init_model at 0x0000020F4BE58940>)\u001b[0m\u001b[1;34m\n        \u001b[0mparameters \u001b[1;34m= DictType[unicode_type,float64]<iv=None>({feature_sensitivity: 1.0, choice_sensitivity: 1.0, learning_order: 0.0, encoding_drift_rate: 0.31839960615004126, start_drift_rate: 0.9304904315209817, recall_drift_rate: 0.12570068268853885, shared_support: 0.3899532959034825, item_support: 0.8061971678779086, learning_rate: 0.25608236203932566, primacy_scale: 87.03543198566143, primacy_decay: 2.0208436432790577, stop_probability_scale: 0.5401807625911725, stop_probability_growth: 1.9084123127369548, context_sensitivity: 4.989241831115278, delay_drift_rate: 0.7218574489915447})\u001b[0m\n",
      "\u001b[1;31mKeyboardInterrupt\u001b[0m: "
     ]
    }
   ],
   "source": [
    "# | code-summary: code -- 1) fit each model class participant-by-participant\n",
    "# | output: false\n",
    "\n",
    "for model_index, model_class in enumerate(models):\n",
    "\n",
    "    # load individual fits for this model and section tag from csv if they exist\n",
    "    if os.path.isfile(results_path + '{}_{}_individual.csv'.format(section_tag, model_names[model_index])):\n",
    "        pd.read_csv(results_path + '{}_{}_individual.csv'.format(section_tag, model_names[model_index]))\n",
    "        print('individual fits for {} with tag {} already exist'.format(model_names[model_index], section_tag))\n",
    "\n",
    "    # otherwise, fit each participant individually\n",
    "    else:\n",
    "        model_individual_fits = []\n",
    "\n",
    "        @njit(fastmath=True, nogil=True)\n",
    "        def init_model(item_count, presentation_count, parameters):\n",
    "            return model_class(item_count, presentation_count, parameters)\n",
    "\n",
    "        for subject in pd.unique(events.subject):\n",
    "            print(f'{model_names[model_index]}, Subject {subject}')\n",
    "\n",
    "            subject_specific_trial_mask = np.logical_and(\n",
    "                generate_trial_mask(events, f'subject == {subject}'), trial_mask)\n",
    "            \n",
    "            try:\n",
    "                # cost function to be minimized\n",
    "                # ours scales inversely with the probability that the data could have been\n",
    "                # generated using the specified parameters and our model\n",
    "                cost_function = generate_objective_function(\n",
    "                    [trials[i][subject_specific_trial_mask[i]] for i in range(len(trials))],\n",
    "                    [presentations[i][subject_specific_trial_mask[i]] for i in range(len(presentations))],\n",
    "                    list_lengths,\n",
    "                    init_model,\n",
    "                    fixed_parameters[model_index],\n",
    "                    free_parameters[model_index],\n",
    "                )\n",
    "            except ValueError:\n",
    "                continue\n",
    "\n",
    "            fit_result =  differential_evolution(cost_function, bounds[model_index], disp=False)\n",
    "\n",
    "            fitted_parameters = {\n",
    "                'subject': subject, 'trial_count': np.sum(subject_specific_trial_mask), \n",
    "                'likelihood': fit_result.fun, 'model': model_names[model_index]\n",
    "                }\n",
    "            for i in range(len(fit_result.x)):\n",
    "                fitted_parameters[free_parameters[model_index][i]] = fit_result.x[i]\n",
    "            for key in fixed_parameters[model_index]:\n",
    "                fitted_parameters[key] = fixed_parameters[model_index][key]\n",
    "\n",
    "            model_individual_fits.append(pd.DataFrame.from_dict(fitted_parameters, orient='index').T)\n",
    "            print(model_individual_fits[-1]['likelihood'][0])\n",
    "\n",
    "        model_individual_fits = pd.concat(model_individual_fits, ignore_index=True)\n",
    "        model_individual_fits.to_csv(\n",
    "            results_path + '{}_{}_individual.csv'.format(section_tag, model_names[model_index]), index=False)"
   ]
  },
  {
   "cell_type": "code",
   "execution_count": null,
   "id": "5d5fafbb",
   "metadata": {
    "execution": {
     "iopub.execute_input": "2022-05-27T17:00:28.364788Z",
     "iopub.status.busy": "2022-05-27T17:00:28.364032Z",
     "iopub.status.idle": "2022-05-27T17:00:29.563914Z",
     "shell.execute_reply": "2022-05-27T17:00:29.562776Z"
    },
    "papermill": {
     "duration": 1.246812,
     "end_time": "2022-05-27T17:00:29.566131",
     "exception": false,
     "start_time": "2022-05-27T17:00:28.319319",
     "status": "completed"
    },
    "tags": []
   },
   "outputs": [
    {
     "data": {
      "text/plain": [
       "Text(-11.430555555555548, 0.5, 'Individual Log-Likelihood')"
      ]
     },
     "execution_count": 5,
     "metadata": {},
     "output_type": "execute_result"
    },
    {
     "data": {
      "image/png": "[encoded data removed]",
      "text/plain": [
       "<Figure size 500x500 with 1 Axes>"
      ]
     },
     "metadata": {},
     "output_type": "display_data"
    }
   ],
   "source": [
    "#| code-summary: code -- 3) plot distribution of log-likelihoods across individual subjects\n",
    "\n",
    "plt.style.use('default')\n",
    "sns.set(style=\"darkgrid\")\n",
    "\n",
    "# build individual fits df concatenating results from each model\n",
    "individual_fits = []\n",
    "for model_index, model_class in enumerate(models):\n",
    "    individual_fits.append(\n",
    "        pd.read_csv(results_path + '{}_{}_individual.csv'.format(section_tag, model_names[model_index])))\n",
    "individual_fits = pd.concat(individual_fits, ignore_index=True)\n",
    "\n",
    "# plot distribution of log-likelihoods across individual subjects\n",
    "g = sns.catplot(x='model', y='likelihood', data=individual_fits, kind='violin', inner='stick')\n",
    "sns.swarmplot(x=\"model\", y=\"likelihood\", data=individual_fits, color=\"k\", size=3, ax=g.ax)\n",
    "g.ax.set_ylabel('Individual Log-Likelihood')\n",
    "#plt.savefig(results_path + 'individual_{}.pdf'.format(section_tag), bbox_inches=\"tight\")"
   ]
  },
  {
   "cell_type": "code",
   "execution_count": null,
   "id": "317719e9",
   "metadata": {
    "execution": {
     "iopub.execute_input": "2022-05-27T17:00:29.654848Z",
     "iopub.status.busy": "2022-05-27T17:00:29.654491Z",
     "iopub.status.idle": "2022-05-27T17:00:29.696691Z",
     "shell.execute_reply": "2022-05-27T17:00:29.695532Z"
    },
    "papermill": {
     "duration": 0.089879,
     "end_time": "2022-05-27T17:00:29.700127",
     "exception": false,
     "start_time": "2022-05-27T17:00:29.610248",
     "status": "completed"
    },
    "tags": []
   },
   "outputs": [
    {
     "data": {
      "text/html": [
       "<div>\n",
       "<style scoped>\n",
       "    .dataframe tbody tr th:only-of-type {\n",
       "        vertical-align: middle;\n",
       "    }\n",
       "\n",
       "    .dataframe tbody tr th {\n",
       "        vertical-align: top;\n",
       "    }\n",
       "\n",
       "    .dataframe thead th {\n",
       "        text-align: right;\n",
       "    }\n",
       "</style>\n",
       "<table border=\"1\" class=\"dataframe\">\n",
       "  <thead>\n",
       "    <tr style=\"text-align: right;\">\n",
       "      <th></th>\n",
       "      <th>subject</th>\n",
       "      <th>trial_count</th>\n",
       "      <th>likelihood</th>\n",
       "      <th>model</th>\n",
       "      <th>encoding_drift_rate</th>\n",
       "      <th>start_drift_rate</th>\n",
       "      <th>recall_drift_rate</th>\n",
       "      <th>shared_support</th>\n",
       "      <th>item_support</th>\n",
       "      <th>learning_rate</th>\n",
       "      <th>primacy_scale</th>\n",
       "      <th>primacy_decay</th>\n",
       "      <th>stop_probability_scale</th>\n",
       "      <th>stop_probability_growth</th>\n",
       "      <th>choice_sensitivity</th>\n",
       "      <th>delay_drift_rate</th>\n",
       "      <th>feature_sensitivity</th>\n",
       "      <th>context_sensitivity</th>\n",
       "      <th>learning_order</th>\n",
       "    </tr>\n",
       "  </thead>\n",
       "  <tbody>\n",
       "    <tr>\n",
       "      <th>0</th>\n",
       "      <td>1</td>\n",
       "      <td>160</td>\n",
       "      <td>3031.022554</td>\n",
       "      <td>PrototypeCMR</td>\n",
       "      <td>0.674660</td>\n",
       "      <td>6.958418e-02</td>\n",
       "      <td>0.716532</td>\n",
       "      <td>0.123380</td>\n",
       "      <td>1.000000</td>\n",
       "      <td>0.183189</td>\n",
       "      <td>5.050217</td>\n",
       "      <td>73.357977</td>\n",
       "      <td>0.023536</td>\n",
       "      <td>0.333915</td>\n",
       "      <td>3.067373</td>\n",
       "      <td>3.893691e-09</td>\n",
       "      <td>NaN</td>\n",
       "      <td>NaN</td>\n",
       "      <td>NaN</td>\n",
       "    </tr>\n",
       "    <tr>\n",
       "      <th>1</th>\n",
       "      <td>2</td>\n",
       "      <td>160</td>\n",
       "      <td>4143.546634</td>\n",
       "      <td>PrototypeCMR</td>\n",
       "      <td>0.494277</td>\n",
       "      <td>5.242320e-03</td>\n",
       "      <td>0.798949</td>\n",
       "      <td>0.550960</td>\n",
       "      <td>0.965566</td>\n",
       "      <td>0.087243</td>\n",
       "      <td>6.009635</td>\n",
       "      <td>19.281896</td>\n",
       "      <td>0.007964</td>\n",
       "      <td>0.362364</td>\n",
       "      <td>9.336581</td>\n",
       "      <td>9.986244e-01</td>\n",
       "      <td>NaN</td>\n",
       "      <td>NaN</td>\n",
       "      <td>NaN</td>\n",
       "    </tr>\n",
       "    <tr>\n",
       "      <th>2</th>\n",
       "      <td>3</td>\n",
       "      <td>160</td>\n",
       "      <td>4036.571583</td>\n",
       "      <td>PrototypeCMR</td>\n",
       "      <td>0.718907</td>\n",
       "      <td>6.377329e-02</td>\n",
       "      <td>0.754064</td>\n",
       "      <td>0.136092</td>\n",
       "      <td>1.000000</td>\n",
       "      <td>0.129527</td>\n",
       "      <td>7.906440</td>\n",
       "      <td>18.155048</td>\n",
       "      <td>0.010006</td>\n",
       "      <td>0.348009</td>\n",
       "      <td>3.013866</td>\n",
       "      <td>5.495704e-02</td>\n",
       "      <td>NaN</td>\n",
       "      <td>NaN</td>\n",
       "      <td>NaN</td>\n",
       "    </tr>\n",
       "    <tr>\n",
       "      <th>3</th>\n",
       "      <td>4</td>\n",
       "      <td>160</td>\n",
       "      <td>3787.286255</td>\n",
       "      <td>PrototypeCMR</td>\n",
       "      <td>0.595253</td>\n",
       "      <td>2.220446e-16</td>\n",
       "      <td>0.859579</td>\n",
       "      <td>0.581237</td>\n",
       "      <td>0.965637</td>\n",
       "      <td>0.146646</td>\n",
       "      <td>4.202497</td>\n",
       "      <td>32.445037</td>\n",
       "      <td>0.024378</td>\n",
       "      <td>0.258205</td>\n",
       "      <td>8.097407</td>\n",
       "      <td>9.530812e-01</td>\n",
       "      <td>NaN</td>\n",
       "      <td>NaN</td>\n",
       "      <td>NaN</td>\n",
       "    </tr>\n",
       "    <tr>\n",
       "      <th>4</th>\n",
       "      <td>5</td>\n",
       "      <td>160</td>\n",
       "      <td>4276.638831</td>\n",
       "      <td>PrototypeCMR</td>\n",
       "      <td>0.705154</td>\n",
       "      <td>6.968240e-02</td>\n",
       "      <td>0.764851</td>\n",
       "      <td>0.108560</td>\n",
       "      <td>1.000000</td>\n",
       "      <td>0.192063</td>\n",
       "      <td>6.887647</td>\n",
       "      <td>47.287793</td>\n",
       "      <td>0.008344</td>\n",
       "      <td>0.355749</td>\n",
       "      <td>2.556318</td>\n",
       "      <td>6.467894e-11</td>\n",
       "      <td>NaN</td>\n",
       "      <td>NaN</td>\n",
       "      <td>NaN</td>\n",
       "    </tr>\n",
       "    <tr>\n",
       "      <th>...</th>\n",
       "      <td>...</td>\n",
       "      <td>...</td>\n",
       "      <td>...</td>\n",
       "      <td>...</td>\n",
       "      <td>...</td>\n",
       "      <td>...</td>\n",
       "      <td>...</td>\n",
       "      <td>...</td>\n",
       "      <td>...</td>\n",
       "      <td>...</td>\n",
       "      <td>...</td>\n",
       "      <td>...</td>\n",
       "      <td>...</td>\n",
       "      <td>...</td>\n",
       "      <td>...</td>\n",
       "      <td>...</td>\n",
       "      <td>...</td>\n",
       "      <td>...</td>\n",
       "      <td>...</td>\n",
       "    </tr>\n",
       "    <tr>\n",
       "      <th>70</th>\n",
       "      <td>11</td>\n",
       "      <td>160</td>\n",
       "      <td>17545.702739</td>\n",
       "      <td>ICMR_2_1_1</td>\n",
       "      <td>0.369049</td>\n",
       "      <td>3.394705e-01</td>\n",
       "      <td>0.464809</td>\n",
       "      <td>0.140011</td>\n",
       "      <td>0.516108</td>\n",
       "      <td>0.169170</td>\n",
       "      <td>65.487043</td>\n",
       "      <td>77.194697</td>\n",
       "      <td>0.419277</td>\n",
       "      <td>0.997018</td>\n",
       "      <td>1.000000</td>\n",
       "      <td>2.275869e-01</td>\n",
       "      <td>1.0</td>\n",
       "      <td>2.746076</td>\n",
       "      <td>1.0</td>\n",
       "    </tr>\n",
       "    <tr>\n",
       "      <th>71</th>\n",
       "      <td>12</td>\n",
       "      <td>160</td>\n",
       "      <td>19175.932867</td>\n",
       "      <td>ICMR_2_1_1</td>\n",
       "      <td>0.493508</td>\n",
       "      <td>6.677700e-01</td>\n",
       "      <td>0.730014</td>\n",
       "      <td>0.248742</td>\n",
       "      <td>0.329637</td>\n",
       "      <td>0.079244</td>\n",
       "      <td>67.854118</td>\n",
       "      <td>75.336278</td>\n",
       "      <td>0.541465</td>\n",
       "      <td>8.606742</td>\n",
       "      <td>1.000000</td>\n",
       "      <td>4.515976e-02</td>\n",
       "      <td>1.0</td>\n",
       "      <td>3.039604</td>\n",
       "      <td>1.0</td>\n",
       "    </tr>\n",
       "    <tr>\n",
       "      <th>72</th>\n",
       "      <td>13</td>\n",
       "      <td>160</td>\n",
       "      <td>21897.588249</td>\n",
       "      <td>ICMR_2_1_1</td>\n",
       "      <td>0.015784</td>\n",
       "      <td>6.778056e-01</td>\n",
       "      <td>0.351084</td>\n",
       "      <td>0.403177</td>\n",
       "      <td>0.134262</td>\n",
       "      <td>0.542846</td>\n",
       "      <td>34.548700</td>\n",
       "      <td>86.952182</td>\n",
       "      <td>0.933858</td>\n",
       "      <td>4.239806</td>\n",
       "      <td>1.000000</td>\n",
       "      <td>9.907346e-01</td>\n",
       "      <td>1.0</td>\n",
       "      <td>9.505425</td>\n",
       "      <td>1.0</td>\n",
       "    </tr>\n",
       "    <tr>\n",
       "      <th>73</th>\n",
       "      <td>14</td>\n",
       "      <td>160</td>\n",
       "      <td>21842.326211</td>\n",
       "      <td>ICMR_2_1_1</td>\n",
       "      <td>0.890379</td>\n",
       "      <td>1.829454e-01</td>\n",
       "      <td>0.180595</td>\n",
       "      <td>0.779411</td>\n",
       "      <td>0.702468</td>\n",
       "      <td>0.563536</td>\n",
       "      <td>69.604556</td>\n",
       "      <td>88.876390</td>\n",
       "      <td>0.884703</td>\n",
       "      <td>5.548333</td>\n",
       "      <td>1.000000</td>\n",
       "      <td>6.338565e-01</td>\n",
       "      <td>1.0</td>\n",
       "      <td>5.625206</td>\n",
       "      <td>1.0</td>\n",
       "    </tr>\n",
       "    <tr>\n",
       "      <th>74</th>\n",
       "      <td>15</td>\n",
       "      <td>160</td>\n",
       "      <td>19120.670828</td>\n",
       "      <td>ICMR_2_1_1</td>\n",
       "      <td>0.274910</td>\n",
       "      <td>9.716365e-01</td>\n",
       "      <td>0.480470</td>\n",
       "      <td>0.401003</td>\n",
       "      <td>0.390690</td>\n",
       "      <td>0.379007</td>\n",
       "      <td>19.248822</td>\n",
       "      <td>20.029201</td>\n",
       "      <td>0.493193</td>\n",
       "      <td>7.898934</td>\n",
       "      <td>1.000000</td>\n",
       "      <td>9.639567e-01</td>\n",
       "      <td>1.0</td>\n",
       "      <td>6.510055</td>\n",
       "      <td>1.0</td>\n",
       "    </tr>\n",
       "  </tbody>\n",
       "</table>\n",
       "<p>75 rows × 19 columns</p>\n",
       "</div>"
      ],
      "text/plain": [
       "    subject  trial_count    likelihood         model  encoding_drift_rate  \\\n",
       "0         1          160   3031.022554  PrototypeCMR             0.674660   \n",
       "1         2          160   4143.546634  PrototypeCMR             0.494277   \n",
       "2         3          160   4036.571583  PrototypeCMR             0.718907   \n",
       "3         4          160   3787.286255  PrototypeCMR             0.595253   \n",
       "4         5          160   4276.638831  PrototypeCMR             0.705154   \n",
       "..      ...          ...           ...           ...                  ...   \n",
       "70       11          160  17545.702739    ICMR_2_1_1             0.369049   \n",
       "71       12          160  19175.932867    ICMR_2_1_1             0.493508   \n",
       "72       13          160  21897.588249    ICMR_2_1_1             0.015784   \n",
       "73       14          160  21842.326211    ICMR_2_1_1             0.890379   \n",
       "74       15          160  19120.670828    ICMR_2_1_1             0.274910   \n",
       "\n",
       "    start_drift_rate  recall_drift_rate  shared_support  item_support  \\\n",
       "0       6.958418e-02           0.716532        0.123380      1.000000   \n",
       "1       5.242320e-03           0.798949        0.550960      0.965566   \n",
       "2       6.377329e-02           0.754064        0.136092      1.000000   \n",
       "3       2.220446e-16           0.859579        0.581237      0.965637   \n",
       "4       6.968240e-02           0.764851        0.108560      1.000000   \n",
       "..               ...                ...             ...           ...   \n",
       "70      3.394705e-01           0.464809        0.140011      0.516108   \n",
       "71      6.677700e-01           0.730014        0.248742      0.329637   \n",
       "72      6.778056e-01           0.351084        0.403177      0.134262   \n",
       "73      1.829454e-01           0.180595        0.779411      0.702468   \n",
       "74      9.716365e-01           0.480470        0.401003      0.390690   \n",
       "\n",
       "    learning_rate  primacy_scale  primacy_decay  stop_probability_scale  \\\n",
       "0        0.183189       5.050217      73.357977                0.023536   \n",
       "1        0.087243       6.009635      19.281896                0.007964   \n",
       "2        0.129527       7.906440      18.155048                0.010006   \n",
       "3        0.146646       4.202497      32.445037                0.024378   \n",
       "4        0.192063       6.887647      47.287793                0.008344   \n",
       "..            ...            ...            ...                     ...   \n",
       "70       0.169170      65.487043      77.194697                0.419277   \n",
       "71       0.079244      67.854118      75.336278                0.541465   \n",
       "72       0.542846      34.548700      86.952182                0.933858   \n",
       "73       0.563536      69.604556      88.876390                0.884703   \n",
       "74       0.379007      19.248822      20.029201                0.493193   \n",
       "\n",
       "    stop_probability_growth  choice_sensitivity  delay_drift_rate  \\\n",
       "0                  0.333915            3.067373      3.893691e-09   \n",
       "1                  0.362364            9.336581      9.986244e-01   \n",
       "2                  0.348009            3.013866      5.495704e-02   \n",
       "3                  0.258205            8.097407      9.530812e-01   \n",
       "4                  0.355749            2.556318      6.467894e-11   \n",
       "..                      ...                 ...               ...   \n",
       "70                 0.997018            1.000000      2.275869e-01   \n",
       "71                 8.606742            1.000000      4.515976e-02   \n",
       "72                 4.239806            1.000000      9.907346e-01   \n",
       "73                 5.548333            1.000000      6.338565e-01   \n",
       "74                 7.898934            1.000000      9.639567e-01   \n",
       "\n",
       "    feature_sensitivity  context_sensitivity  learning_order  \n",
       "0                   NaN                  NaN             NaN  \n",
       "1                   NaN                  NaN             NaN  \n",
       "2                   NaN                  NaN             NaN  \n",
       "3                   NaN                  NaN             NaN  \n",
       "4                   NaN                  NaN             NaN  \n",
       "..                  ...                  ...             ...  \n",
       "70                  1.0             2.746076             1.0  \n",
       "71                  1.0             3.039604             1.0  \n",
       "72                  1.0             9.505425             1.0  \n",
       "73                  1.0             5.625206             1.0  \n",
       "74                  1.0             6.510055             1.0  \n",
       "\n",
       "[75 rows x 19 columns]"
      ]
     },
     "execution_count": 6,
     "metadata": {},
     "output_type": "execute_result"
    }
   ],
   "source": [
    "individual_fits"
   ]
  },
  {
   "cell_type": "code",
   "execution_count": null,
   "id": "2da5915e",
   "metadata": {
    "execution": {
     "iopub.execute_input": "2022-05-27T17:00:29.828524Z",
     "iopub.status.busy": "2022-05-27T17:00:29.828032Z",
     "iopub.status.idle": "2022-05-27T17:00:29.905411Z",
     "shell.execute_reply": "2022-05-27T17:00:29.904196Z"
    },
    "papermill": {
     "duration": 0.13685,
     "end_time": "2022-05-27T17:00:29.908340",
     "exception": false,
     "start_time": "2022-05-27T17:00:29.771490",
     "status": "completed"
    },
    "tags": []
   },
   "outputs": [
    {
     "name": "stdout",
     "output_type": "stream",
     "text": [
      "::: {#fig-Murdock1962_NOT_LL20fits layout-nrow=2 layout-valign=\"center\"}\n",
      "\n",
      "![](results/individual_Murdock1962_NOT_LL20.pdf)\n",
      "\n",
      "|       |   ICMR_2_0_0 |   ICMR_2_0_1 |   ICMR_2_1_0 |   ICMR_2_1_1 |   PrototypeCMR |\n",
      "|:------|-------------:|-------------:|-------------:|-------------:|---------------:|\n",
      "| count |        15    |        15    |        15    |        15    |         15     |\n",
      "| mean  |     18362.7  |     18362.7  |     18362.7  |     18362.7  |       3859.5   |\n",
      "| std   |      2351.37 |      2351.37 |      2351.37 |      2351.37 |        493.974 |\n",
      "| min   |     14119.5  |     14119.5  |     14119.5  |     14119.5  |       2960.3   |\n",
      "| 25%   |     16930.9  |     16930.9  |     16930.9  |     16930.9  |       3598.89  |\n",
      "| 50%   |     19120.7  |     19120.7  |     19120.7  |     19120.7  |       3973.89  |\n",
      "| 75%   |     20080.8  |     20080.8  |     20080.8  |     20080.8  |       4196.41  |\n",
      "| max   |     21897.6  |     21897.6  |     21897.6  |     21897.6  |       4568.36  |\n",
      "\n",
      "Distribution of log-likelihood scores of recall sequences exhibited by each subject in dataset under each considered model.\n",
      ":::\n"
     ]
    }
   ],
   "source": [
    "#| code-summary: display markdown rendering of summary table\n",
    "#| echo: false\n",
    "#| input: false\n",
    "#| output: asis\n",
    "\n",
    "summary_table = pd.DataFrame(group.describe().rename(columns={'likelihood':name}).squeeze()\n",
    "            for name, group in individual_fits[['model', 'likelihood']].groupby('model')).T.to_markdown()\n",
    "\n",
    "print(\"\"\"::: {{#fig-{section_tag}fits layout-nrow=2 layout-valign=\"center\"}}\n",
    "\n",
    "![]({results_path}individual_{section_tag}.pdf)\n",
    "\n",
    "{summary_table}\n",
    "\n",
    "{individual_fits_caption}\n",
    ":::\"\"\".format(section_tag=section_tag, summary_table=summary_table, individual_fits_caption=figure_caption, results_path=results_path))"
   ]
  },
  {
   "cell_type": "code",
   "execution_count": null,
   "id": "d58d2c47",
   "metadata": {
    "execution": {
     "iopub.execute_input": "2022-05-27T17:00:30.010547Z",
     "iopub.status.busy": "2022-05-27T17:00:30.009948Z",
     "iopub.status.idle": "2022-05-27T17:00:30.093542Z",
     "shell.execute_reply": "2022-05-27T17:00:30.092543Z"
    },
    "papermill": {
     "duration": 0.134714,
     "end_time": "2022-05-27T17:00:30.096234",
     "exception": false,
     "start_time": "2022-05-27T17:00:29.961520",
     "status": "completed"
    },
    "tags": []
   },
   "outputs": [
    {
     "name": "stdout",
     "output_type": "stream",
     "text": [
      "('PrototypeCMR', 'ICMR_2_0_0')\n",
      "Ttest_relResult(statistic=-29.85413498142592, pvalue=4.4620840548325285e-14)\n",
      "Ttest_relResult(statistic=-29.85413498142592, pvalue=2.2310420274162642e-14)\n",
      "Ttest_relResult(statistic=-29.85413498142592, pvalue=0.9999999999999777)\n",
      "\n",
      "('PrototypeCMR', 'ICMR_2_0_1')\n",
      "Ttest_relResult(statistic=-29.85413498142592, pvalue=4.4620840548325285e-14)\n",
      "Ttest_relResult(statistic=-29.85413498142592, pvalue=2.2310420274162642e-14)\n",
      "Ttest_relResult(statistic=-29.85413498142592, pvalue=0.9999999999999777)\n",
      "\n",
      "('PrototypeCMR', 'ICMR_2_1_0')\n",
      "Ttest_relResult(statistic=-29.85413498142592, pvalue=4.4620840548325285e-14)\n",
      "Ttest_relResult(statistic=-29.85413498142592, pvalue=2.2310420274162642e-14)\n",
      "Ttest_relResult(statistic=-29.85413498142592, pvalue=0.9999999999999777)\n",
      "\n",
      "('PrototypeCMR', 'ICMR_2_1_1')\n",
      "Ttest_relResult(statistic=-29.85413498142592, pvalue=4.4620840548325285e-14)\n",
      "Ttest_relResult(statistic=-29.85413498142592, pvalue=2.2310420274162642e-14)\n",
      "Ttest_relResult(statistic=-29.85413498142592, pvalue=0.9999999999999777)\n",
      "\n",
      "('ICMR_2_0_0', 'ICMR_2_0_1')\n",
      "Ttest_relResult(statistic=nan, pvalue=nan)\n",
      "Ttest_relResult(statistic=nan, pvalue=nan)\n",
      "Ttest_relResult(statistic=nan, pvalue=nan)\n",
      "\n",
      "('ICMR_2_0_0', 'ICMR_2_1_0')\n",
      "Ttest_relResult(statistic=nan, pvalue=nan)\n",
      "Ttest_relResult(statistic=nan, pvalue=nan)\n",
      "Ttest_relResult(statistic=nan, pvalue=nan)\n",
      "\n",
      "('ICMR_2_0_0', 'ICMR_2_1_1')\n",
      "Ttest_relResult(statistic=nan, pvalue=nan)\n",
      "Ttest_relResult(statistic=nan, pvalue=nan)\n",
      "Ttest_relResult(statistic=nan, pvalue=nan)\n",
      "\n",
      "('ICMR_2_0_1', 'ICMR_2_1_0')\n",
      "Ttest_relResult(statistic=nan, pvalue=nan)\n",
      "Ttest_relResult(statistic=nan, pvalue=nan)\n",
      "Ttest_relResult(statistic=nan, pvalue=nan)\n",
      "\n",
      "('ICMR_2_0_1', 'ICMR_2_1_1')\n",
      "Ttest_relResult(statistic=nan, pvalue=nan)\n",
      "Ttest_relResult(statistic=nan, pvalue=nan)\n",
      "Ttest_relResult(statistic=nan, pvalue=nan)\n",
      "\n",
      "('ICMR_2_1_0', 'ICMR_2_1_1')\n",
      "Ttest_relResult(statistic=nan, pvalue=nan)\n",
      "Ttest_relResult(statistic=nan, pvalue=nan)\n",
      "Ttest_relResult(statistic=nan, pvalue=nan)\n",
      "\n"
     ]
    }
   ],
   "source": [
    "#| code-summary: perform t-tests on individual-level fits\n",
    "#| output: false\n",
    " \n",
    "from scipy.stats import ttest_rel\n",
    "import itertools\n",
    "\n",
    "for combination in itertools.combinations(pd.unique(individual_fits.model), 2):\n",
    "\n",
    "    print(combination)\n",
    "    print(ttest_rel(individual_fits[individual_fits.model == combination[0]].likelihood, individual_fits[individual_fits.model == combination[1]].likelihood, alternative='two-sided'))\n",
    "    print(ttest_rel(individual_fits[individual_fits.model == combination[0]].likelihood, individual_fits[individual_fits.model == combination[1]].likelihood, alternative='less'))\n",
    "    print(ttest_rel(individual_fits[individual_fits.model == combination[0]].likelihood, individual_fits[individual_fits.model == combination[1]].likelihood, alternative='greater'))\n",
    "    print()"
   ]
  },
  {
   "cell_type": "code",
   "execution_count": null,
   "id": "8fa65373",
   "metadata": {
    "execution": {
     "iopub.execute_input": "2022-05-27T17:00:30.192379Z",
     "iopub.status.busy": "2022-05-27T17:00:30.191918Z",
     "iopub.status.idle": "2022-05-27T17:00:30.253897Z",
     "shell.execute_reply": "2022-05-27T17:00:30.252725Z"
    },
    "papermill": {
     "duration": 0.111182,
     "end_time": "2022-05-27T17:00:30.256125",
     "exception": false,
     "start_time": "2022-05-27T17:00:30.144943",
     "status": "completed"
    },
    "tags": []
   },
   "outputs": [
    {
     "name": "stdout",
     "output_type": "stream",
     "text": [
      "('PrototypeCMR', 'ICMR_2_0_0')\n",
      "1.0 0.0\n",
      "15 0\n",
      "\n",
      "('PrototypeCMR', 'ICMR_2_0_1')\n",
      "1.0 0.0\n",
      "15 0\n",
      "\n",
      "('PrototypeCMR', 'ICMR_2_1_0')\n",
      "1.0 0.0\n",
      "15 0\n",
      "\n",
      "('PrototypeCMR', 'ICMR_2_1_1')\n",
      "1.0 0.0\n",
      "15 0\n",
      "\n",
      "('ICMR_2_0_0', 'ICMR_2_0_1')\n",
      "0.0 0.0\n",
      "0 0\n",
      "\n",
      "('ICMR_2_0_0', 'ICMR_2_1_0')\n",
      "0.0 0.0\n",
      "0 0\n",
      "\n",
      "('ICMR_2_0_0', 'ICMR_2_1_1')\n",
      "0.0 0.0\n",
      "0 0\n",
      "\n",
      "('ICMR_2_0_1', 'ICMR_2_1_0')\n",
      "0.0 0.0\n",
      "0 0\n",
      "\n",
      "('ICMR_2_0_1', 'ICMR_2_1_1')\n",
      "0.0 0.0\n",
      "0 0\n",
      "\n",
      "('ICMR_2_1_0', 'ICMR_2_1_1')\n",
      "0.0 0.0\n",
      "0 0\n",
      "\n"
     ]
    }
   ],
   "source": [
    "for combination in itertools.combinations(pd.unique(individual_fits.model), 2):\n",
    "\n",
    "    print(combination)\n",
    "    print(np.mean(individual_fits[individual_fits.model == combination[0]].likelihood.values < individual_fits[individual_fits.model == combination[1]].likelihood.values), \n",
    "        np.mean(individual_fits[individual_fits.model == combination[1]].likelihood.values < individual_fits[individual_fits.model == combination[0]].likelihood.values))\n",
    "\n",
    "    print(np.sum(individual_fits[individual_fits.model == combination[0]].likelihood.values < individual_fits[individual_fits.model == combination[1]].likelihood.values), \n",
    "        np.sum(individual_fits[individual_fits.model == combination[1]].likelihood.values < individual_fits[individual_fits.model == combination[0]].likelihood.values))\n",
    "\n",
    "    print()"
   ]
  },
  {
   "cell_type": "code",
   "execution_count": null,
   "id": "e1118676",
   "metadata": {
    "execution": {
     "iopub.execute_input": "2022-05-27T17:00:30.351834Z",
     "iopub.status.busy": "2022-05-27T17:00:30.351002Z",
     "iopub.status.idle": "2022-05-27T17:00:30.843869Z",
     "shell.execute_reply": "2022-05-27T17:00:30.843110Z"
    },
    "papermill": {
     "duration": 0.544378,
     "end_time": "2022-05-27T17:00:30.847302",
     "exception": false,
     "start_time": "2022-05-27T17:00:30.302924",
     "status": "completed"
    },
    "tags": []
   },
   "outputs": [
    {
     "name": "stdout",
     "output_type": "stream",
     "text": [
      "[1. 0. 0. 0. 0.]\n"
     ]
    }
   ],
   "source": [
    "def model_weights(positive_log_likelihoods, number_parameters, N):\n",
    "    AIC = 2 * positive_log_likelihoods + 2 * number_parameters\n",
    "    AICc = AIC #+ (2*np.power(number_parameters, 2) + 2 * number_parameters) / (N - number_parameters - 2)\n",
    "    AICd = AIC - np.min(AICc)\n",
    "    #return AICd\n",
    "    AICw = np.exp(-.5 * AICd) / np.sum(np.exp(-.5 * AICd))\n",
    "    return AICw\n",
    "\n",
    "aicw = {'Model': [], 'Subject': [], 'AICw': []}\n",
    "\n",
    "total_nlns = np.zeros(len(models))\n",
    "for subject_index, subject in enumerate(pd.unique(events.subject)):\n",
    "\n",
    "    subject_specific_trial_mask = np.logical_and(\n",
    "                    generate_trial_mask(events, f'subject == {subject}'), trial_mask)\n",
    "\n",
    "    nlnLs = []\n",
    "    for model_index, model_class in enumerate(models):\n",
    "        nlnLs.append(\n",
    "            individual_fits[individual_fits.model == model_names[model_index]].likelihood.values[subject_index])\n",
    "    nlnLs = np.array(nlnLs)\n",
    "    total_nlns += nlnLs\n",
    "    \n",
    "    weights = model_weights(nlnLs, len(free_parameters[model_index]), np.sum(subject_specific_trial_mask))\n",
    "    #print(weights)\n",
    "    for model_index, model_class in enumerate(models):\n",
    "        aicw['Model'].append(model_names[model_index])\n",
    "        aicw['Subject'].append(subject)\n",
    "        aicw['AICw'].append(weights[model_index])\n",
    "\n",
    "aicw = pd.DataFrame(data=aicw)\n",
    "total_aicw = model_weights(total_nlns, len(free_parameters[model_index]), np.sum(trial_mask))\n",
    "print(total_aicw)"
   ]
  },
  {
   "cell_type": "code",
   "execution_count": null,
   "id": "56809405",
   "metadata": {
    "execution": {
     "iopub.execute_input": "2022-05-27T17:00:30.985224Z",
     "iopub.status.busy": "2022-05-27T17:00:30.984775Z",
     "iopub.status.idle": "2022-05-27T17:00:31.416078Z",
     "shell.execute_reply": "2022-05-27T17:00:31.414639Z"
    },
    "papermill": {
     "duration": 0.49334,
     "end_time": "2022-05-27T17:00:31.418488",
     "exception": false,
     "start_time": "2022-05-27T17:00:30.925148",
     "status": "completed"
    },
    "tags": []
   },
   "outputs": [
    {
     "data": {
      "image/png": "[encoded data removed]",
      "text/plain": [
       "<Figure size 640x480 with 1 Axes>"
      ]
     },
     "metadata": {},
     "output_type": "display_data"
    }
   ],
   "source": [
    "import seaborn as sns\n",
    "sns.set_theme(style=\"darkgrid\")\n",
    "x = sns.pointplot(x=\"Model\", y=\"AICw\", data=aicw, join=False)\n",
    "\n",
    "plt.show()"
   ]
  },
  {
   "cell_type": "markdown",
   "id": "09338833",
   "metadata": {
    "tags": [
     "papermill-error-cell-tag"
    ]
   },
   "source": [
    "<span id=\"papermill-error-cell\" style=\"color:red; font-family:Helvetica Neue, Helvetica, Arial, sans-serif; font-size:2em;\">Execution using papermill encountered an exception here and stopped:</span>"
   ]
  },
  {
   "cell_type": "code",
   "execution_count": null,
   "id": "6cb4ea9d",
   "metadata": {
    "execution": {
     "iopub.execute_input": "2022-05-27T17:00:31.519802Z",
     "iopub.status.busy": "2022-05-27T17:00:31.519335Z",
     "iopub.status.idle": "2022-05-27T17:00:32.199755Z",
     "shell.execute_reply": "2022-05-27T17:00:32.198670Z"
    },
    "papermill": {
     "duration": 0.735535,
     "end_time": "2022-05-27T17:00:32.203436",
     "exception": true,
     "start_time": "2022-05-27T17:00:31.467901",
     "status": "failed"
    },
    "tags": []
   },
   "outputs": [
    {
     "ename": "NameError",
     "evalue": "name 'simulate_df_from_events' is not defined",
     "output_type": "error",
     "traceback": [
      "\u001b[0;31m---------------------------------------------------------------------------\u001b[0m",
      "\u001b[0;31mNameError\u001b[0m                                 Traceback (most recent call last)",
      "Input \u001b[0;32mIn [12]\u001b[0m, in \u001b[0;36m<cell line: 7>\u001b[0;34m()\u001b[0m\n\u001b[1;32m     36\u001b[0m     fitted_parameters[key] \u001b[38;5;241m=\u001b[39m fixed_parameters[model_index][key]\n\u001b[1;32m     38\u001b[0m \u001b[38;5;66;03m# simulate df based on specified trial_count and experiment_count\u001b[39;00m\n\u001b[1;32m     39\u001b[0m \u001b[38;5;66;03m#model = model_class(list_length, list_length, fitted_parameters)\u001b[39;00m\n\u001b[0;32m---> 40\u001b[0m sim_dfs\u001b[38;5;241m.\u001b[39mappend(\u001b[43msimulate_df_from_events\u001b[49m(model, fit_result[\u001b[38;5;124m'\u001b[39m\u001b[38;5;124mtrial_count\u001b[39m\u001b[38;5;124m'\u001b[39m]\u001b[38;5;241m.\u001b[39mvalues[\u001b[38;5;241m0\u001b[39m] \u001b[38;5;241m*\u001b[39m experiment_count))\n\u001b[1;32m     41\u001b[0m sim_dfs[\u001b[38;5;241m-\u001b[39m\u001b[38;5;241m1\u001b[39m]\u001b[38;5;241m.\u001b[39mlist \u001b[38;5;241m=\u001b[39m sim_dfs[\u001b[38;5;241m-\u001b[39m\u001b[38;5;241m1\u001b[39m]\u001b[38;5;241m.\u001b[39msubject\n\u001b[1;32m     42\u001b[0m sim_dfs[\u001b[38;5;241m-\u001b[39m\u001b[38;5;241m1\u001b[39m]\u001b[38;5;241m.\u001b[39msubject \u001b[38;5;241m=\u001b[39m subject\n",
      "\u001b[0;31mNameError\u001b[0m: name 'simulate_df_from_events' is not defined"
     ]
    }
   ],
   "source": [
    "sns.set(style='darkgrid')\n",
    "\n",
    "# for each unique list length\n",
    "if not (isinstance(list_lengths, list) or isinstance(list_lengths, List)): \n",
    "    list_lengths = [list_lengths]\n",
    "\n",
    "for list_length in list_lengths:\n",
    "\n",
    "    #fig, axes = plt.subplots(nrows=len(models), ncols=3, figsize=(15, int(4*len(models))), sharey=False)\n",
    "    \n",
    "    # for each unique model\n",
    "    for model_index, model_class in enumerate(models):\n",
    "\n",
    "        # load sim_df from csv if it exists\n",
    "        sim_df_path = results_path + '{}_{}_ll{}_sim_df.csv'.format(section_tag, model_names[model_index], list_length)\n",
    "        if os.path.isfile(sim_df_path):\n",
    "            sim_df = pd.read_csv(sim_df_path)\n",
    "            print('sim_df for {} with tag {} and list length {} already exists'.format(model_names[model_index], section_tag, list_length))\n",
    "\n",
    "        # otherwise, generate it\n",
    "        else:\n",
    "\n",
    "            # for each unique matching entry in individual df\n",
    "            sim_dfs = []\n",
    "            for subject in pd.unique(individual_fits.subject):\n",
    "                \n",
    "                fit_result = individual_fits.query(f'subject == {subject} & model == \"{model_names[model_index]}\"')\n",
    "\n",
    "                # configure model based on specified parameters\n",
    "                fitted_parameters = Dict.empty(\n",
    "                    key_type=types.unicode_type, value_type=types.float64\n",
    "                )\n",
    "                for i in range(len(free_parameters[model_index])):\n",
    "                    fitted_parameters[free_parameters[model_index][i]] = fit_result[free_parameters[model_index][i]].values[0]\n",
    "                for key in fixed_parameters[model_index]:\n",
    "                    fitted_parameters[key] = fixed_parameters[model_index][key]\n",
    "\n",
    "                # simulate df based on specified trial_count and experiment_count\n",
    "                #model = model_class(list_length, list_length, fitted_parameters)\n",
    "                sim_dfs.append(simulate_df_from_events(model, fit_result['trial_count'].values[0] * experiment_count))\n",
    "                sim_dfs[-1].list = sim_dfs[-1].subject\n",
    "                sim_dfs[-1].subject = subject\n",
    "\n",
    "            # concatenate simulations into one dataframe\n",
    "            sim_df = pd.concat(sim_dfs)\n",
    "\n",
    "            # save sim_df to csv\n",
    "            sim_df.to_csv(results_path +'{}_{}_ll{}_sim_df.csv'.format(section_tag, model_names[model_index], list_length), index=False)\n",
    "\n",
    "        # design general filter for analysis df\n",
    "        if len(list_lengths) > 1:\n",
    "            analysis_query = trial_query + f' & list_length == {list_length}'\n",
    "        else:\n",
    "            analysis_query = trial_query\n",
    "\n",
    "        # generate plot for each parametrized analysis and model\n",
    "        for analysis_index, analysis_function in enumerate(analyses):\n",
    "            analysis_name = analysis_names[analysis_index]\n",
    "            axis = analysis_function(\n",
    "                [events, sim_df], analysis_query, contrast_name=\"source\", labels=[\"data\", model_names[model_index]])\n",
    "            plt.savefig(results_path+'{}_{}_ll{}_{}.pdf'.format(section_tag, model_names[model_index], list_length, analysis_name), bbox_inches=\"tight\")"
   ]
  },
  {
   "cell_type": "code",
   "execution_count": null,
   "id": "b5821a56",
   "metadata": {
    "papermill": {
     "duration": null,
     "end_time": null,
     "exception": null,
     "start_time": null,
     "status": "pending"
    },
    "tags": []
   },
   "outputs": [],
   "source": []
  }
 ],
 "metadata": {
  "interpreter": {
   "hash": "19d1d53a962d236aa061289c2ac16dc8e6d9648c89fe79f459ae9a3493bc67b4"
  },
  "kernelspec": {
   "display_name": "Python 3.9.1 ('base')",
   "language": "python",
   "name": "python3"
  },
  "language_info": {
   "codemirror_mode": {
    "name": "ipython",
    "version": 3
   },
   "file_extension": ".py",
   "mimetype": "text/x-python",
   "name": "python",
   "nbconvert_exporter": "python",
   "pygments_lexer": "ipython3",
   "version": "3.8.6"
  },
  "papermill": {
   "default_parameters": {},
   "duration": 1949.690897,
   "end_time": "2022-05-27T17:00:33.811080",
   "environment_variables": {},
   "exception": true,
   "input_path": "Subjectwise_Model_Evaluation.ipynb",
   "output_path": "reports/Subjectwise_Model_Evaluation_Double_Murdock1962_NOT_LL20.ipynb",
   "parameters": {
    "bounds": [
     [
      [
       2.220446049250313e-16,
       0.9999999999999998
      ],
      [
       2.220446049250313e-16,
       0.9999999999999998
      ],
      [
       2.220446049250313e-16,
       0.9999999999999998
      ],
      [
       2.220446049250313e-16,
       0.9999999999999998
      ],
      [
       2.220446049250313e-16,
       0.9999999999999998
      ],
      [
       2.220446049250313e-16,
       0.9999999999999998
      ],
      [
       2.220446049250313e-16,
       100
      ],
      [
       2.220446049250313e-16,
       100
      ],
      [
       2.220446049250313e-16,
       0.9999999999999998
      ],
      [
       2.220446049250313e-16,
       10
      ],
      [
       2.220446049250313e-16,
       10
      ],
      [
       2.220446049250313e-16,
       0.9999999999999998
      ]
     ],
     [
      [
       2.220446049250313e-16,
       0.9999999999999998
      ],
      [
       2.220446049250313e-16,
       0.9999999999999998
      ],
      [
       2.220446049250313e-16,
       0.9999999999999998
      ],
      [
       2.220446049250313e-16,
       0.9999999999999998
      ],
      [
       2.220446049250313e-16,
       0.9999999999999998
      ],
      [
       2.220446049250313e-16,
       0.9999999999999998
      ],
      [
       2.220446049250313e-16,
       100
      ],
      [
       2.220446049250313e-16,
       100
      ],
      [
       2.220446049250313e-16,
       0.9999999999999998
      ],
      [
       2.220446049250313e-16,
       10
      ],
      [
       2.220446049250313e-16,
       10
      ],
      [
       2.220446049250313e-16,
       0.9999999999999998
      ]
     ],
     [
      [
       2.220446049250313e-16,
       0.9999999999999998
      ],
      [
       2.220446049250313e-16,
       0.9999999999999998
      ],
      [
       2.220446049250313e-16,
       0.9999999999999998
      ],
      [
       2.220446049250313e-16,
       0.9999999999999998
      ],
      [
       2.220446049250313e-16,
       0.9999999999999998
      ],
      [
       2.220446049250313e-16,
       0.9999999999999998
      ],
      [
       2.220446049250313e-16,
       100
      ],
      [
       2.220446049250313e-16,
       100
      ],
      [
       2.220446049250313e-16,
       0.9999999999999998
      ],
      [
       2.220446049250313e-16,
       10
      ],
      [
       2.220446049250313e-16,
       10
      ],
      [
       2.220446049250313e-16,
       0.9999999999999998
      ]
     ],
     [
      [
       2.220446049250313e-16,
       0.9999999999999998
      ],
      [
       2.220446049250313e-16,
       0.9999999999999998
      ],
      [
       2.220446049250313e-16,
       0.9999999999999998
      ],
      [
       2.220446049250313e-16,
       0.9999999999999998
      ],
      [
       2.220446049250313e-16,
       0.9999999999999998
      ],
      [
       2.220446049250313e-16,
       0.9999999999999998
      ],
      [
       2.220446049250313e-16,
       100
      ],
      [
       2.220446049250313e-16,
       100
      ],
      [
       2.220446049250313e-16,
       0.9999999999999998
      ],
      [
       2.220446049250313e-16,
       10
      ],
      [
       2.220446049250313e-16,
       10
      ],
      [
       2.220446049250313e-16,
       0.9999999999999998
      ]
     ],
     [
      [
       2.220446049250313e-16,
       0.9999999999999998
      ],
      [
       2.220446049250313e-16,
       0.9999999999999998
      ],
      [
       2.220446049250313e-16,
       0.9999999999999998
      ],
      [
       2.220446049250313e-16,
       0.9999999999999998
      ],
      [
       2.220446049250313e-16,
       0.9999999999999998
      ],
      [
       2.220446049250313e-16,
       0.9999999999999998
      ],
      [
       2.220446049250313e-16,
       100
      ],
      [
       2.220446049250313e-16,
       100
      ],
      [
       2.220446049250313e-16,
       0.9999999999999998
      ],
      [
       2.220446049250313e-16,
       10
      ],
      [
       2.220446049250313e-16,
       10
      ],
      [
       2.220446049250313e-16,
       0.9999999999999998
      ]
     ]
    ],
    "data_path": "data/Murdock1962.csv",
    "fixed_parameters": [
     {},
     {
      "context_sensitivity": 1,
      "feature_sensitivity": 1,
      "learning_order": 0
     },
     {
      "context_sensitivity": 1,
      "feature_sensitivity": 1,
      "learning_order": 1
     },
     {
      "choice_sensitivity": 1,
      "feature_sensitivity": 1,
      "learning_order": 0
     },
     {
      "choice_sensitivity": 1,
      "feature_sensitivity": 1,
      "learning_order": 1
     }
    ],
    "free_parameters": [
     [
      "encoding_drift_rate",
      "start_drift_rate",
      "recall_drift_rate",
      "shared_support",
      "item_support",
      "learning_rate",
      "primacy_scale",
      "primacy_decay",
      "stop_probability_scale",
      "stop_probability_growth",
      "choice_sensitivity",
      "delay_drift_rate"
     ],
     [
      "encoding_drift_rate",
      "start_drift_rate",
      "recall_drift_rate",
      "shared_support",
      "item_support",
      "learning_rate",
      "primacy_scale",
      "primacy_decay",
      "stop_probability_scale",
      "stop_probability_growth",
      "choice_sensitivity",
      "delay_drift_rate"
     ],
     [
      "encoding_drift_rate",
      "start_drift_rate",
      "recall_drift_rate",
      "shared_support",
      "item_support",
      "learning_rate",
      "primacy_scale",
      "primacy_decay",
      "stop_probability_scale",
      "stop_probability_growth",
      "choice_sensitivity",
      "delay_drift_rate"
     ],
     [
      "encoding_drift_rate",
      "start_drift_rate",
      "recall_drift_rate",
      "shared_support",
      "item_support",
      "learning_rate",
      "primacy_scale",
      "primacy_decay",
      "stop_probability_scale",
      "stop_probability_growth",
      "context_sensitivity",
      "delay_drift_rate"
     ],
     [
      "encoding_drift_rate",
      "start_drift_rate",
      "recall_drift_rate",
      "shared_support",
      "item_support",
      "learning_rate",
      "primacy_scale",
      "primacy_decay",
      "stop_probability_scale",
      "stop_probability_growth",
      "context_sensitivity",
      "delay_drift_rate"
     ]
    ],
    "model_names": [
     "PrototypeCMR",
     "ICMR_2_0_0",
     "ICMR_2_0_1",
     "ICMR_2_1_0",
     "ICMR_2_1_1"
    ],
    "model_paths": [
     "compmemlearn.models.Base_CMR",
     "compmemlearn.models.Dual_ICMR",
     "compmemlearn.models.Dual_ICMR",
     "compmemlearn.models.Dual_ICMR",
     "compmemlearn.models.Dual_ICMR"
    ],
    "section_tag": "Murdock1962_NOT_LL20",
    "trial_query": "`list length` != 20"
   },
   "start_time": "2022-05-27T16:28:04.120183",
   "version": "2.3.4"
  }
 },
 "nbformat": 4,
 "nbformat_minor": 5
}

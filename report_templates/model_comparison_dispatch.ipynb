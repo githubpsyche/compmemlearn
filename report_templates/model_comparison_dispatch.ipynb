{
 "cells": [
  {
   "cell_type": "code",
   "execution_count": 2,
   "metadata": {},
   "outputs": [],
   "source": [
    "import paramiko\n",
    "import os\n",
    "\n",
    "def sbatch(script_path, slurm_path, requirements_path, credentials, data_dir=None):\n",
    "\n",
    "    # extract script names from paths\n",
    "    script_name = script_path[script_path.rfind('/'):] if '/' in script_path else script_path\n",
    "    slurm_name = slurm_path[slurm_path.rfind('/'):] if '/' in slurm_path else slurm_path\n",
    "    requirements_name = requirements_path[requirements_path.rfind('/'):] if '/' in requirements_path else requirements_path\n",
    "\n",
    "    # connect to the server\n",
    "    ssh = paramiko.SSHClient()\n",
    "    ssh.load_system_host_keys()\n",
    "    ssh.set_missing_host_key_policy(paramiko.AutoAddPolicy())\n",
    "\n",
    "    ssh.connect(\n",
    "        \"login.accre.vanderbilt.edu\",\n",
    "        username=\"gunnj\",\n",
    "        password=\"\",\n",
    "    )\n",
    "\n",
    "    # load Python and create venv for sbatch job\n",
    "    ssh.exec_command(\"module load GCCcore/.10.2.0\")\n",
    "    ssh.exec_command(\"module load Python/3.8.6\")\n",
    "    ssh.exec_command(f\"python -m venv {script_name[:script_name.find('.')]}\")\n",
    "\n",
    "    # add requirements to venv\n",
    "    sftp = ssh.open_sftp()\n",
    "    remote_path = \"/home/gunnj/\" + script_name[:script_name.find('.')] + \"/\"\n",
    "    print(remote_path)\n",
    "    sftp.put(requirements_path, remote_path + requirements_name)\n",
    "    ssh.exec_command(\"source ${HOME}/\" + script_name[:script_name.find('.')] + \"/bin/activate\")\n",
    "    ssh.exec_command(\"pip install -r ${HOME}/\" + script_name[:script_name.find('.')] + requirements_name)\n",
    "    ssh.exec_command(\"deactivate\")\n",
    "\n",
    "    # add script and slurm files to server \n",
    "    sftp.put(script_path, remote_path + script_name)\n",
    "    sftp.put(slurm_path, remote_path + slurm_name)\n",
    "\n",
    "    # add contents of data_dir to server\n",
    "    if data_dir is not None:\n",
    "        for file in os.listdir(data_dir):\n",
    "\n",
    "            #TODO: properly handle nested directory structure\n",
    "            sftp.put(os.path.join(data_dir, file), remote_path + file)\n",
    "\n",
    "    # run the script\n",
    "    ssh_stdin, ssh_stdout, ssh_stderr = ssh.exec_command('sbatch ' + remote_path + slurm_name)\n",
    "\n",
    "    # check for any error messages\n",
    "    print(ssh_stderr.read().decode(\"utf-8\"))\n",
    "\n",
    "    # display the output of the sbatch command and track the job ID\n",
    "    submission_message = ssh_stdout.read().decode(\"utf-8\")\n",
    "    job_id = submission_message.split(' ')[-1]\n",
    "    print(submission_message)\n",
    "\n",
    "    return job_id\n",
    "\n",
    "    # when the job is finished, copy the result back to the local machine manually, i guess?"
   ]
  },
  {
   "cell_type": "code",
   "execution_count": null,
   "metadata": {},
   "outputs": [],
   "source": []
  }
 ],
 "metadata": {
  "interpreter": {
   "hash": "ecf5722fdaf1897a315d257d89d94520bfcaa453217d5becf09b39e73618b0de"
  },
  "kernelspec": {
   "display_name": "Python 3.9.1 ('base')",
   "language": "python",
   "name": "python3"
  },
  "language_info": {
   "codemirror_mode": {
    "name": "ipython",
    "version": 3
   },
   "file_extension": ".py",
   "mimetype": "text/x-python",
   "name": "python",
   "nbconvert_exporter": "python",
   "pygments_lexer": "ipython3",
   "version": "3.9.1"
  },
  "orig_nbformat": 4
 },
 "nbformat": 4,
 "nbformat_minor": 2
}

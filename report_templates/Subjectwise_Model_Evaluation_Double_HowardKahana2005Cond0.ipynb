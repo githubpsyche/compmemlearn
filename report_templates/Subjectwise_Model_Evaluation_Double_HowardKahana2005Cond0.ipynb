{
 "cells": [
  {
   "cell_type": "markdown",
   "id": "0b12243d",
   "metadata": {
    "tags": [
     "papermill-error-cell-tag"
    ]
   },
   "source": [
    "<span style=\"color:red; font-family:Helvetica Neue, Helvetica, Arial, sans-serif; font-size:2em;\">An Exception was encountered at '<a href=\"#papermill-error-cell\">In [15]</a>'.</span>"
   ]
  },
  {
   "cell_type": "code",
   "execution_count": 1,
   "id": "0bfea03b",
   "metadata": {
    "execution": {
     "iopub.execute_input": "2022-06-03T19:16:17.904199Z",
     "iopub.status.busy": "2022-06-03T19:16:17.903421Z",
     "iopub.status.idle": "2022-06-03T19:18:31.612047Z",
     "shell.execute_reply": "2022-06-03T19:18:31.610663Z"
    },
    "papermill": {
     "duration": 133.757328,
     "end_time": "2022-06-03T19:18:31.615658",
     "exception": false,
     "start_time": "2022-06-03T19:16:17.858330",
     "status": "completed"
    },
    "tags": [
     "parameters"
    ]
   },
   "outputs": [],
   "source": [
    "# | code-summary: code -- load dependencies and data and select parameters\n",
    "\n",
    "from compmemlearn.fitting import generate_objective_function\n",
    "from compmemlearn.datasets import events_metadata, generate_trial_mask\n",
    "from scipy.optimize import differential_evolution\n",
    "from numba.typed import List, Dict\n",
    "from numba.core import types\n",
    "from numba import njit\n",
    "from psifr import fr\n",
    "import pandas as pd\n",
    "import numpy as np\n",
    "import seaborn as sns\n",
    "import matplotlib.pyplot as plt\n",
    "import importlib\n",
    "import os\n",
    "\n",
    "lb = np.finfo(float).eps\n",
    "ub = 1 - np.finfo(float).eps\n",
    "\n",
    "figure_caption = \"\"\"Distribution of log-likelihood scores of recall sequences exhibited by each subject in dataset under each considered model.\"\"\"\n",
    "\n",
    "section_tag = \"LohnasKahanaCond4\"\n",
    "\n",
    "data_path = \"../data/LohnasKahana2014.csv\"\n",
    "results_path = \"results/\"\n",
    "trial_query = \"condition == 4\"\n",
    "\n",
    "model_paths = [\n",
    "    \"compmemlearn.models.Base_CMR\",\n",
    "    \"compmemlearn.models.Dual_ICMR\",\n",
    "    \"compmemlearn.models.Dual_ICMR\",\n",
    "    \"compmemlearn.models.Dual_ICMR\",\n",
    "    \"compmemlearn.models.Dual_ICMR\",\n",
    "]\n",
    "\n",
    "model_names = [\"PrototypeCMR\", \"ICMR_2_0_0\", \"ICMR_2_0_1\", \"ICMR_2_1_0\", \"ICMR_2_1_1\"]\n",
    "\n",
    "free_parameters = [\n",
    "    [\n",
    "        \"encoding_drift_rate\",\n",
    "        \"start_drift_rate\",\n",
    "        \"recall_drift_rate\",\n",
    "        \"shared_support\",\n",
    "        \"item_support\",\n",
    "        \"learning_rate\",\n",
    "        \"primacy_scale\",\n",
    "        \"primacy_decay\",\n",
    "        \"stop_probability_scale\",\n",
    "        \"stop_probability_growth\",\n",
    "        \"choice_sensitivity\",\n",
    "        \"delay_drift_rate\",\n",
    "    ],\n",
    "    [\n",
    "        \"encoding_drift_rate\",\n",
    "        \"start_drift_rate\",\n",
    "        \"recall_drift_rate\",\n",
    "        \"shared_support\",\n",
    "        \"item_support\",\n",
    "        \"learning_rate\",\n",
    "        \"primacy_scale\",\n",
    "        \"primacy_decay\",\n",
    "        \"stop_probability_scale\",\n",
    "        \"stop_probability_growth\",\n",
    "        \"choice_sensitivity\",\n",
    "        \"delay_drift_rate\",\n",
    "    ],\n",
    "    [\n",
    "        \"encoding_drift_rate\",\n",
    "        \"start_drift_rate\",\n",
    "        \"recall_drift_rate\",\n",
    "        \"shared_support\",\n",
    "        \"item_support\",\n",
    "        \"learning_rate\",\n",
    "        \"primacy_scale\",\n",
    "        \"primacy_decay\",\n",
    "        \"stop_probability_scale\",\n",
    "        \"stop_probability_growth\",\n",
    "        \"choice_sensitivity\",\n",
    "        \"delay_drift_rate\",\n",
    "    ],\n",
    "    [\n",
    "        \"encoding_drift_rate\",\n",
    "        \"start_drift_rate\",\n",
    "        \"recall_drift_rate\",\n",
    "        \"shared_support\",\n",
    "        \"item_support\",\n",
    "        \"learning_rate\",\n",
    "        \"primacy_scale\",\n",
    "        \"primacy_decay\",\n",
    "        \"stop_probability_scale\",\n",
    "        \"stop_probability_growth\",\n",
    "        \"context_sensitivity\",\n",
    "        \"delay_drift_rate\",\n",
    "    ],\n",
    "    [\n",
    "        \"encoding_drift_rate\",\n",
    "        \"start_drift_rate\",\n",
    "        \"recall_drift_rate\",\n",
    "        \"shared_support\",\n",
    "        \"item_support\",\n",
    "        \"learning_rate\",\n",
    "        \"primacy_scale\",\n",
    "        \"primacy_decay\",\n",
    "        \"stop_probability_scale\",\n",
    "        \"stop_probability_growth\",\n",
    "        \"context_sensitivity\",\n",
    "        \"delay_drift_rate\",\n",
    "    ],\n",
    "]\n",
    "bounds = [\n",
    "    [\n",
    "        [2.220446049250313e-16, 0.9999999999999998],\n",
    "        [2.220446049250313e-16, 0.9999999999999998],\n",
    "        [2.220446049250313e-16, 0.9999999999999998],\n",
    "        [2.220446049250313e-16, 0.9999999999999998],\n",
    "        [2.220446049250313e-16, 0.9999999999999998],\n",
    "        [2.220446049250313e-16, 0.9999999999999998],\n",
    "        [2.220446049250313e-16, 100],\n",
    "        [2.220446049250313e-16, 100],\n",
    "        [2.220446049250313e-16, 0.9999999999999998],\n",
    "        [2.220446049250313e-16, 10],\n",
    "        [2.220446049250313e-16, 10],\n",
    "        [2.220446049250313e-16, 0.9999999999999998],\n",
    "    ],\n",
    "    [\n",
    "        [2.220446049250313e-16, 0.9999999999999998],\n",
    "        [2.220446049250313e-16, 0.9999999999999998],\n",
    "        [2.220446049250313e-16, 0.9999999999999998],\n",
    "        [2.220446049250313e-16, 0.9999999999999998],\n",
    "        [2.220446049250313e-16, 0.9999999999999998],\n",
    "        [2.220446049250313e-16, 0.9999999999999998],\n",
    "        [2.220446049250313e-16, 100],\n",
    "        [2.220446049250313e-16, 100],\n",
    "        [2.220446049250313e-16, 0.9999999999999998],\n",
    "        [2.220446049250313e-16, 10],\n",
    "        [2.220446049250313e-16, 10],\n",
    "        [2.220446049250313e-16, 0.9999999999999998],\n",
    "    ],\n",
    "    [\n",
    "        [2.220446049250313e-16, 0.9999999999999998],\n",
    "        [2.220446049250313e-16, 0.9999999999999998],\n",
    "        [2.220446049250313e-16, 0.9999999999999998],\n",
    "        [2.220446049250313e-16, 0.9999999999999998],\n",
    "        [2.220446049250313e-16, 0.9999999999999998],\n",
    "        [2.220446049250313e-16, 0.9999999999999998],\n",
    "        [2.220446049250313e-16, 100],\n",
    "        [2.220446049250313e-16, 100],\n",
    "        [2.220446049250313e-16, 0.9999999999999998],\n",
    "        [2.220446049250313e-16, 10],\n",
    "        [2.220446049250313e-16, 10],\n",
    "        [2.220446049250313e-16, 0.9999999999999998],\n",
    "    ],\n",
    "    [\n",
    "        [2.220446049250313e-16, 0.9999999999999998],\n",
    "        [2.220446049250313e-16, 0.9999999999999998],\n",
    "        [2.220446049250313e-16, 0.9999999999999998],\n",
    "        [2.220446049250313e-16, 0.9999999999999998],\n",
    "        [2.220446049250313e-16, 0.9999999999999998],\n",
    "        [2.220446049250313e-16, 0.9999999999999998],\n",
    "        [2.220446049250313e-16, 100],\n",
    "        [2.220446049250313e-16, 100],\n",
    "        [2.220446049250313e-16, 0.9999999999999998],\n",
    "        [2.220446049250313e-16, 10],\n",
    "        [2.220446049250313e-16, 10],\n",
    "        [2.220446049250313e-16, 0.9999999999999998],\n",
    "    ],\n",
    "    [\n",
    "        [2.220446049250313e-16, 0.9999999999999998],\n",
    "        [2.220446049250313e-16, 0.9999999999999998],\n",
    "        [2.220446049250313e-16, 0.9999999999999998],\n",
    "        [2.220446049250313e-16, 0.9999999999999998],\n",
    "        [2.220446049250313e-16, 0.9999999999999998],\n",
    "        [2.220446049250313e-16, 0.9999999999999998],\n",
    "        [2.220446049250313e-16, 100],\n",
    "        [2.220446049250313e-16, 100],\n",
    "        [2.220446049250313e-16, 0.9999999999999998],\n",
    "        [2.220446049250313e-16, 10],\n",
    "        [2.220446049250313e-16, 10],\n",
    "        [2.220446049250313e-16, 0.9999999999999998],\n",
    "    ],\n",
    "]\n",
    "fixed_parameters = [\n",
    "    {},\n",
    "    {\"feature_sensitivity\": 1, \"context_sensitivity\": 1, \"learn_first\": False},\n",
    "    {\"feature_sensitivity\": 1, \"context_sensitivity\": 1, \"learn_first\": True},\n",
    "    {\"feature_sensitivity\": 1, \"choice_sensitivity\": 1, \"learn_first\": False},\n",
    "    {\"feature_sensitivity\": 1, \"choice_sensitivity\": 1, \"learn_first\": True},\n",
    "]\n",
    "\n",
    "analysis_paths = ['compmemlearn.analyses.plot_spc', 'compmemlearn.analyses.plot_crp', 'compmemlearn.analyses.plot_pfr']\n",
    "analysis_names = ['spc', 'crp', 'pfr']\n",
    "\n",
    "experiment_count = 1"
   ]
  },
  {
   "cell_type": "code",
   "execution_count": 2,
   "id": "618e000d",
   "metadata": {
    "execution": {
     "iopub.execute_input": "2022-06-03T19:18:31.678778Z",
     "iopub.status.busy": "2022-06-03T19:18:31.678369Z",
     "iopub.status.idle": "2022-06-03T19:18:31.699340Z",
     "shell.execute_reply": "2022-06-03T19:18:31.698676Z"
    },
    "papermill": {
     "duration": 0.044549,
     "end_time": "2022-06-03T19:18:31.702083",
     "exception": false,
     "start_time": "2022-06-03T19:18:31.657534",
     "status": "completed"
    },
    "tags": [
     "injected-parameters"
    ]
   },
   "outputs": [],
   "source": [
    "# Parameters\n",
    "data_path = \"data/HowardKahana2005.csv\"\n",
    "trial_query = \"condition == 0\"\n",
    "model_paths = [\n",
    "    \"compmemlearn.models.Base_CMR\",\n",
    "    \"compmemlearn.models.Dual_ICMR\",\n",
    "    \"compmemlearn.models.Dual_ICMR\",\n",
    "    \"compmemlearn.models.Dual_ICMR\",\n",
    "    \"compmemlearn.models.Dual_ICMR\",\n",
    "]\n",
    "model_names = [\"PrototypeCMR\", \"ICMR_2_0_0\", \"ICMR_2_0_1\", \"ICMR_2_1_0\", \"ICMR_2_1_1\"]\n",
    "free_parameters = [\n",
    "    [\n",
    "        \"encoding_drift_rate\",\n",
    "        \"start_drift_rate\",\n",
    "        \"recall_drift_rate\",\n",
    "        \"shared_support\",\n",
    "        \"item_support\",\n",
    "        \"learning_rate\",\n",
    "        \"primacy_scale\",\n",
    "        \"primacy_decay\",\n",
    "        \"stop_probability_scale\",\n",
    "        \"stop_probability_growth\",\n",
    "        \"choice_sensitivity\",\n",
    "        \"delay_drift_rate\",\n",
    "    ],\n",
    "    [\n",
    "        \"encoding_drift_rate\",\n",
    "        \"start_drift_rate\",\n",
    "        \"recall_drift_rate\",\n",
    "        \"shared_support\",\n",
    "        \"item_support\",\n",
    "        \"learning_rate\",\n",
    "        \"primacy_scale\",\n",
    "        \"primacy_decay\",\n",
    "        \"stop_probability_scale\",\n",
    "        \"stop_probability_growth\",\n",
    "        \"choice_sensitivity\",\n",
    "        \"delay_drift_rate\",\n",
    "    ],\n",
    "    [\n",
    "        \"encoding_drift_rate\",\n",
    "        \"start_drift_rate\",\n",
    "        \"recall_drift_rate\",\n",
    "        \"shared_support\",\n",
    "        \"item_support\",\n",
    "        \"learning_rate\",\n",
    "        \"primacy_scale\",\n",
    "        \"primacy_decay\",\n",
    "        \"stop_probability_scale\",\n",
    "        \"stop_probability_growth\",\n",
    "        \"choice_sensitivity\",\n",
    "        \"delay_drift_rate\",\n",
    "    ],\n",
    "    [\n",
    "        \"encoding_drift_rate\",\n",
    "        \"start_drift_rate\",\n",
    "        \"recall_drift_rate\",\n",
    "        \"shared_support\",\n",
    "        \"item_support\",\n",
    "        \"learning_rate\",\n",
    "        \"primacy_scale\",\n",
    "        \"primacy_decay\",\n",
    "        \"stop_probability_scale\",\n",
    "        \"stop_probability_growth\",\n",
    "        \"context_sensitivity\",\n",
    "        \"delay_drift_rate\",\n",
    "    ],\n",
    "    [\n",
    "        \"encoding_drift_rate\",\n",
    "        \"start_drift_rate\",\n",
    "        \"recall_drift_rate\",\n",
    "        \"shared_support\",\n",
    "        \"item_support\",\n",
    "        \"learning_rate\",\n",
    "        \"primacy_scale\",\n",
    "        \"primacy_decay\",\n",
    "        \"stop_probability_scale\",\n",
    "        \"stop_probability_growth\",\n",
    "        \"context_sensitivity\",\n",
    "        \"delay_drift_rate\",\n",
    "    ],\n",
    "]\n",
    "bounds = [\n",
    "    [\n",
    "        [2.220446049250313e-16, 0.9999999999999998],\n",
    "        [2.220446049250313e-16, 0.9999999999999998],\n",
    "        [2.220446049250313e-16, 0.9999999999999998],\n",
    "        [2.220446049250313e-16, 0.9999999999999998],\n",
    "        [2.220446049250313e-16, 0.9999999999999998],\n",
    "        [2.220446049250313e-16, 0.9999999999999998],\n",
    "        [2.220446049250313e-16, 100],\n",
    "        [2.220446049250313e-16, 100],\n",
    "        [2.220446049250313e-16, 0.9999999999999998],\n",
    "        [2.220446049250313e-16, 10],\n",
    "        [2.220446049250313e-16, 10],\n",
    "        [2.220446049250313e-16, 0.9999999999999998],\n",
    "    ],\n",
    "    [\n",
    "        [2.220446049250313e-16, 0.9999999999999998],\n",
    "        [2.220446049250313e-16, 0.9999999999999998],\n",
    "        [2.220446049250313e-16, 0.9999999999999998],\n",
    "        [2.220446049250313e-16, 0.9999999999999998],\n",
    "        [2.220446049250313e-16, 0.9999999999999998],\n",
    "        [2.220446049250313e-16, 0.9999999999999998],\n",
    "        [2.220446049250313e-16, 100],\n",
    "        [2.220446049250313e-16, 100],\n",
    "        [2.220446049250313e-16, 0.9999999999999998],\n",
    "        [2.220446049250313e-16, 10],\n",
    "        [2.220446049250313e-16, 10],\n",
    "        [2.220446049250313e-16, 0.9999999999999998],\n",
    "    ],\n",
    "    [\n",
    "        [2.220446049250313e-16, 0.9999999999999998],\n",
    "        [2.220446049250313e-16, 0.9999999999999998],\n",
    "        [2.220446049250313e-16, 0.9999999999999998],\n",
    "        [2.220446049250313e-16, 0.9999999999999998],\n",
    "        [2.220446049250313e-16, 0.9999999999999998],\n",
    "        [2.220446049250313e-16, 0.9999999999999998],\n",
    "        [2.220446049250313e-16, 100],\n",
    "        [2.220446049250313e-16, 100],\n",
    "        [2.220446049250313e-16, 0.9999999999999998],\n",
    "        [2.220446049250313e-16, 10],\n",
    "        [2.220446049250313e-16, 10],\n",
    "        [2.220446049250313e-16, 0.9999999999999998],\n",
    "    ],\n",
    "    [\n",
    "        [2.220446049250313e-16, 0.9999999999999998],\n",
    "        [2.220446049250313e-16, 0.9999999999999998],\n",
    "        [2.220446049250313e-16, 0.9999999999999998],\n",
    "        [2.220446049250313e-16, 0.9999999999999998],\n",
    "        [2.220446049250313e-16, 0.9999999999999998],\n",
    "        [2.220446049250313e-16, 0.9999999999999998],\n",
    "        [2.220446049250313e-16, 100],\n",
    "        [2.220446049250313e-16, 100],\n",
    "        [2.220446049250313e-16, 0.9999999999999998],\n",
    "        [2.220446049250313e-16, 10],\n",
    "        [2.220446049250313e-16, 10],\n",
    "        [2.220446049250313e-16, 0.9999999999999998],\n",
    "    ],\n",
    "    [\n",
    "        [2.220446049250313e-16, 0.9999999999999998],\n",
    "        [2.220446049250313e-16, 0.9999999999999998],\n",
    "        [2.220446049250313e-16, 0.9999999999999998],\n",
    "        [2.220446049250313e-16, 0.9999999999999998],\n",
    "        [2.220446049250313e-16, 0.9999999999999998],\n",
    "        [2.220446049250313e-16, 0.9999999999999998],\n",
    "        [2.220446049250313e-16, 100],\n",
    "        [2.220446049250313e-16, 100],\n",
    "        [2.220446049250313e-16, 0.9999999999999998],\n",
    "        [2.220446049250313e-16, 10],\n",
    "        [2.220446049250313e-16, 10],\n",
    "        [2.220446049250313e-16, 0.9999999999999998],\n",
    "    ],\n",
    "]\n",
    "fixed_parameters = [\n",
    "    {},\n",
    "    {\"feature_sensitivity\": 1, \"context_sensitivity\": 1, \"learn_first\": False},\n",
    "    {\"feature_sensitivity\": 1, \"context_sensitivity\": 1, \"learn_first\": True},\n",
    "    {\"feature_sensitivity\": 1, \"choice_sensitivity\": 1, \"learn_first\": False},\n",
    "    {\"feature_sensitivity\": 1, \"choice_sensitivity\": 1, \"learn_first\": True},\n",
    "]\n",
    "section_tag = \"HowardKahana2005Cond0\"\n"
   ]
  },
  {
   "cell_type": "code",
   "execution_count": 3,
   "id": "5ca44cb8",
   "metadata": {
    "execution": {
     "iopub.execute_input": "2022-06-03T19:18:31.749069Z",
     "iopub.status.busy": "2022-06-03T19:18:31.748598Z",
     "iopub.status.idle": "2022-06-03T19:18:31.755267Z",
     "shell.execute_reply": "2022-06-03T19:18:31.753788Z"
    },
    "papermill": {
     "duration": 0.032396,
     "end_time": "2022-06-03T19:18:31.758774",
     "exception": false,
     "start_time": "2022-06-03T19:18:31.726378",
     "status": "completed"
    },
    "tags": []
   },
   "outputs": [],
   "source": [
    "if 'Howard' in section_tag or ('Lohnas' in section_tag and '1' not in section_tag):\n",
    "    analysis_paths = ['compmemlearn.analyses.plot_flex_spc', 'compmemlearn.analyses.plot_flex_crp', 'compmemlearn.analyses.plot_flex_pfr', 'compmemlearn.analyses.plot_rpl']\n",
    "    analysis_names = ['spc', 'crp', 'pfr', 'rpl']"
   ]
  },
  {
   "cell_type": "code",
   "execution_count": 4,
   "id": "91d3277a",
   "metadata": {
    "execution": {
     "iopub.execute_input": "2022-06-03T19:18:31.808997Z",
     "iopub.status.busy": "2022-06-03T19:18:31.808595Z",
     "iopub.status.idle": "2022-06-03T19:21:47.606251Z",
     "shell.execute_reply": "2022-06-03T19:21:47.605144Z"
    },
    "papermill": {
     "duration": 195.823621,
     "end_time": "2022-06-03T19:21:47.608013",
     "exception": false,
     "start_time": "2022-06-03T19:18:31.784392",
     "status": "completed"
    },
    "tags": []
   },
   "outputs": [
    {
     "name": "stdout",
     "output_type": "stream",
     "text": [
      "<function lohnas_objective_function.<locals>.objective_function at 0x2ad664a1f430>\n"
     ]
    },
    {
     "name": "stdout",
     "output_type": "stream",
     "text": [
      "316.87127826551466\n",
      "580.2515514356762\n"
     ]
    },
    {
     "name": "stdout",
     "output_type": "stream",
     "text": [
      "<function lohnas_objective_function.<locals>.objective_function at 0x2ad666108820>\n"
     ]
    },
    {
     "name": "stdout",
     "output_type": "stream",
     "text": [
      "316.87127826551466\n",
      "580.2515514356762\n",
      "<function lohnas_objective_function.<locals>.objective_function at 0x2ad66c88fe50>\n"
     ]
    },
    {
     "name": "stdout",
     "output_type": "stream",
     "text": [
      "316.87127826551466\n",
      "580.2515514356762\n",
      "<function lohnas_objective_function.<locals>.objective_function at 0x2ad666acc1f0>\n"
     ]
    },
    {
     "name": "stdout",
     "output_type": "stream",
     "text": [
      "316.87127826551466\n",
      "580.2515514356762\n",
      "<function lohnas_objective_function.<locals>.objective_function at 0x2ad6654ddca0>\n"
     ]
    },
    {
     "name": "stdout",
     "output_type": "stream",
     "text": [
      "316.87127826551466\n",
      "580.2515514356762\n",
      "dependencies and parameters validated\n"
     ]
    }
   ],
   "source": [
    "#| code-summary: code -- test that specified parameters are valid\n",
    "#| output: false\n",
    "\n",
    "events = pd.read_csv(data_path)\n",
    "\n",
    "trials, list_lengths, presentations = events_metadata(events)\n",
    "trial_mask = generate_trial_mask(events, trial_query)\n",
    "\n",
    "# import models from specified source\n",
    "models = []\n",
    "for i in range(len(model_paths)):\n",
    "    module_name, model_name = model_paths[i].rsplit('.',1)\n",
    "    module = importlib.import_module(module_name)\n",
    "    models.append(getattr(module, model_name))\n",
    "\n",
    "# import analyses from specified source\n",
    "analyses = []\n",
    "for i in range(len(analysis_paths)):\n",
    "    module_name, analysis_name = analysis_paths[i].rsplit('.',1)\n",
    "    module = importlib.import_module(module_name)\n",
    "    analyses.append(getattr(module, analysis_name))\n",
    "\n",
    "# make sure model initializes with provided parameters and boundaries\n",
    "for model_index, model_class in enumerate(models):\n",
    "\n",
    "    @njit(fastmath=True, nogil=True)\n",
    "    def init_model(item_count, presentation_count, parameters):\n",
    "        return model_class(item_count, presentation_count, parameters)\n",
    "\n",
    "    subject_specific_trial_mask = np.logical_and(\n",
    "                generate_trial_mask(events, f'subject == {pd.unique(events.subject)[0]}'), trial_mask)\n",
    "\n",
    "    cost_function = generate_objective_function(\n",
    "        [trials[i][subject_specific_trial_mask[i]] for i in range(len(trials))],\n",
    "        [presentations[i][subject_specific_trial_mask[i]] for i in range(len(presentations))],\n",
    "        list_lengths,\n",
    "        init_model,\n",
    "        fixed_parameters[model_index],\n",
    "        free_parameters[model_index],\n",
    "    )\n",
    "    print(cost_function)\n",
    "    \n",
    "    for boundary_index in range(2):\n",
    "        x = np.array([each[boundary_index] for each in bounds[model_index]])\n",
    "        assert(len(x) == len(free_parameters[model_index])) \n",
    "\n",
    "        # parameter configuration\n",
    "        parameters = Dict.empty(key_type=types.unicode_type, value_type=types.float64)\n",
    "        for name, value in fixed_parameters[model_index].items():\n",
    "            parameters[name] = value\n",
    "        for i in range(len(free_parameters[model_index])):\n",
    "                parameters[free_parameters[model_index][i]] = x[i]\n",
    "\n",
    "        model = init_model(20, 20, parameters)\n",
    "        model.experience(model.items)\n",
    "        model.free_recall()\n",
    "\n",
    "        print(cost_function(x))\n",
    "\n",
    "print('dependencies and parameters validated')"
   ]
  },
  {
   "cell_type": "code",
   "execution_count": 5,
   "id": "2257e193",
   "metadata": {
    "execution": {
     "iopub.execute_input": "2022-06-03T19:21:47.658906Z",
     "iopub.status.busy": "2022-06-03T19:21:47.658502Z",
     "iopub.status.idle": "2022-06-03T19:21:47.768980Z",
     "shell.execute_reply": "2022-06-03T19:21:47.767976Z"
    },
    "papermill": {
     "duration": 0.130928,
     "end_time": "2022-06-03T19:21:47.772505",
     "exception": false,
     "start_time": "2022-06-03T19:21:47.641577",
     "status": "completed"
    },
    "tags": []
   },
   "outputs": [
    {
     "name": "stdout",
     "output_type": "stream",
     "text": [
      "individual fits for PrototypeCMR with tag HowardKahana2005Cond0 already exist\n",
      "individual fits for ICMR_2_0_0 with tag HowardKahana2005Cond0 already exist\n",
      "individual fits for ICMR_2_0_1 with tag HowardKahana2005Cond0 already exist\n",
      "individual fits for ICMR_2_1_0 with tag HowardKahana2005Cond0 already exist\n",
      "individual fits for ICMR_2_1_1 with tag HowardKahana2005Cond0 already exist\n"
     ]
    }
   ],
   "source": [
    "# | code-summary: code -- 1) fit each model class participant-by-participant\n",
    "# | output: false\n",
    "\n",
    "for model_index, model_class in enumerate(models):\n",
    "\n",
    "    # load individual fits for this model and section tag from csv if they exist\n",
    "    if os.path.isfile(results_path + '{}_{}_individual.csv'.format(section_tag, model_names[model_index])):\n",
    "        pd.read_csv(results_path + '{}_{}_individual.csv'.format(section_tag, model_names[model_index]))\n",
    "        print('individual fits for {} with tag {} already exist'.format(model_names[model_index], section_tag))\n",
    "\n",
    "    # otherwise, fit each participant individually\n",
    "    else:\n",
    "        model_individual_fits = []\n",
    "\n",
    "        @njit(fastmath=True, nogil=True)\n",
    "        def init_model(item_count, presentation_count, parameters):\n",
    "            return model_class(item_count, presentation_count, parameters)\n",
    "\n",
    "        for subject in pd.unique(events.subject):\n",
    "            print(f'{model_names[model_index]}, Subject {subject}')\n",
    "\n",
    "            subject_specific_trial_mask = np.logical_and(\n",
    "                generate_trial_mask(events, f'subject == {subject}'), trial_mask)\n",
    "            \n",
    "            try:\n",
    "                # cost function to be minimized\n",
    "                # ours scales inversely with the probability that the data could have been\n",
    "                # generated using the specified parameters and our model\n",
    "                cost_function = generate_objective_function(\n",
    "                    [trials[i][subject_specific_trial_mask[i]] for i in range(len(trials))],\n",
    "                    [presentations[i][subject_specific_trial_mask[i]] for i in range(len(presentations))],\n",
    "                    list_lengths,\n",
    "                    init_model,\n",
    "                    fixed_parameters[model_index],\n",
    "                    free_parameters[model_index],\n",
    "                )\n",
    "            except ValueError:\n",
    "                continue\n",
    "\n",
    "            fit_result =  differential_evolution(cost_function, bounds[model_index], disp=False)\n",
    "\n",
    "            fitted_parameters = {\n",
    "                'subject': subject, 'trial_count': np.sum(subject_specific_trial_mask), \n",
    "                'likelihood': fit_result.fun, 'model': model_names[model_index]\n",
    "                }\n",
    "            for i in range(len(fit_result.x)):\n",
    "                fitted_parameters[free_parameters[model_index][i]] = fit_result.x[i]\n",
    "            for key in fixed_parameters[model_index]:\n",
    "                fitted_parameters[key] = fixed_parameters[model_index][key]\n",
    "\n",
    "            model_individual_fits.append(pd.DataFrame.from_dict(fitted_parameters, orient='index').T)\n",
    "            print(model_individual_fits[-1]['likelihood'][0])\n",
    "\n",
    "        model_individual_fits = pd.concat(model_individual_fits, ignore_index=True)\n",
    "        model_individual_fits.to_csv(\n",
    "            results_path + '{}_{}_individual.csv'.format(section_tag, model_names[model_index]), index=False)"
   ]
  },
  {
   "cell_type": "code",
   "execution_count": 6,
   "id": "d6e66495",
   "metadata": {
    "execution": {
     "iopub.execute_input": "2022-06-03T19:21:47.835604Z",
     "iopub.status.busy": "2022-06-03T19:21:47.835203Z",
     "iopub.status.idle": "2022-06-03T19:21:53.310429Z",
     "shell.execute_reply": "2022-06-03T19:21:53.309137Z"
    },
    "papermill": {
     "duration": 5.506101,
     "end_time": "2022-06-03T19:21:53.312318",
     "exception": false,
     "start_time": "2022-06-03T19:21:47.806217",
     "status": "completed"
    },
    "tags": []
   },
   "outputs": [
    {
     "data": {
      "text/plain": [
       "Text(7.694444444444452, 0.5, 'Individual Log-Likelihood')"
      ]
     },
     "execution_count": 6,
     "metadata": {},
     "output_type": "execute_result"
    },
    {
     "data": {
      "image/png": "[encoded data removed]",
      "text/plain": [
       "<Figure size 500x500 with 1 Axes>"
      ]
     },
     "metadata": {},
     "output_type": "display_data"
    }
   ],
   "source": [
    "#| code-summary: code -- 3) plot distribution of log-likelihoods across individual subjects\n",
    "\n",
    "plt.style.use('default')\n",
    "sns.set(style=\"darkgrid\")\n",
    "\n",
    "# build individual fits df concatenating results from each model\n",
    "individual_fits = []\n",
    "for model_index, model_class in enumerate(models):\n",
    "    individual_fits.append(\n",
    "        pd.read_csv(results_path + '{}_{}_individual.csv'.format(section_tag, model_names[model_index])))\n",
    "individual_fits = pd.concat(individual_fits, ignore_index=True)\n",
    "\n",
    "# plot distribution of log-likelihoods across individual subjects\n",
    "g = sns.catplot(x='model', y='likelihood', data=individual_fits, kind='violin', inner='stick')\n",
    "sns.swarmplot(x=\"model\", y=\"likelihood\", data=individual_fits, color=\"k\", size=3, ax=g.ax)\n",
    "g.ax.set_ylabel('Individual Log-Likelihood')\n",
    "#plt.savefig(results_path + 'individual_{}.pdf'.format(section_tag), bbox_inches=\"tight\")"
   ]
  },
  {
   "cell_type": "code",
   "execution_count": 7,
   "id": "e4e6face",
   "metadata": {
    "execution": {
     "iopub.execute_input": "2022-06-03T19:21:53.360443Z",
     "iopub.status.busy": "2022-06-03T19:21:53.359665Z",
     "iopub.status.idle": "2022-06-03T19:21:53.626418Z",
     "shell.execute_reply": "2022-06-03T19:21:53.625034Z"
    },
    "papermill": {
     "duration": 0.290078,
     "end_time": "2022-06-03T19:21:53.630166",
     "exception": false,
     "start_time": "2022-06-03T19:21:53.340088",
     "status": "completed"
    },
    "tags": []
   },
   "outputs": [
    {
     "data": {
      "text/html": [
       "<div>\n",
       "<style scoped>\n",
       "    .dataframe tbody tr th:only-of-type {\n",
       "        vertical-align: middle;\n",
       "    }\n",
       "\n",
       "    .dataframe tbody tr th {\n",
       "        vertical-align: top;\n",
       "    }\n",
       "\n",
       "    .dataframe thead th {\n",
       "        text-align: right;\n",
       "    }\n",
       "</style>\n",
       "<table border=\"1\" class=\"dataframe\">\n",
       "  <thead>\n",
       "    <tr style=\"text-align: right;\">\n",
       "      <th></th>\n",
       "      <th>subject</th>\n",
       "      <th>trial_count</th>\n",
       "      <th>likelihood</th>\n",
       "      <th>model</th>\n",
       "      <th>encoding_drift_rate</th>\n",
       "      <th>start_drift_rate</th>\n",
       "      <th>recall_drift_rate</th>\n",
       "      <th>shared_support</th>\n",
       "      <th>item_support</th>\n",
       "      <th>learning_rate</th>\n",
       "      <th>primacy_scale</th>\n",
       "      <th>primacy_decay</th>\n",
       "      <th>stop_probability_scale</th>\n",
       "      <th>stop_probability_growth</th>\n",
       "      <th>choice_sensitivity</th>\n",
       "      <th>delay_drift_rate</th>\n",
       "      <th>feature_sensitivity</th>\n",
       "      <th>context_sensitivity</th>\n",
       "      <th>learn_first</th>\n",
       "    </tr>\n",
       "  </thead>\n",
       "  <tbody>\n",
       "    <tr>\n",
       "      <th>0</th>\n",
       "      <td>118</td>\n",
       "      <td>5</td>\n",
       "      <td>134.353702</td>\n",
       "      <td>PrototypeCMR</td>\n",
       "      <td>0.835472</td>\n",
       "      <td>8.821901e-01</td>\n",
       "      <td>0.047815</td>\n",
       "      <td>2.220446e-16</td>\n",
       "      <td>4.620584e-01</td>\n",
       "      <td>9.326591e-01</td>\n",
       "      <td>8.875769e+01</td>\n",
       "      <td>51.214045</td>\n",
       "      <td>8.012626e-03</td>\n",
       "      <td>0.397704</td>\n",
       "      <td>0.765667</td>\n",
       "      <td>5.874558e-01</td>\n",
       "      <td>NaN</td>\n",
       "      <td>NaN</td>\n",
       "      <td>NaN</td>\n",
       "    </tr>\n",
       "    <tr>\n",
       "      <th>1</th>\n",
       "      <td>119</td>\n",
       "      <td>5</td>\n",
       "      <td>119.699322</td>\n",
       "      <td>PrototypeCMR</td>\n",
       "      <td>0.788831</td>\n",
       "      <td>8.846475e-02</td>\n",
       "      <td>0.821880</td>\n",
       "      <td>1.000000e+00</td>\n",
       "      <td>2.220446e-16</td>\n",
       "      <td>2.220446e-16</td>\n",
       "      <td>1.000000e+02</td>\n",
       "      <td>0.439642</td>\n",
       "      <td>3.761995e-02</td>\n",
       "      <td>0.187336</td>\n",
       "      <td>1.637427</td>\n",
       "      <td>1.953255e-08</td>\n",
       "      <td>NaN</td>\n",
       "      <td>NaN</td>\n",
       "      <td>NaN</td>\n",
       "    </tr>\n",
       "    <tr>\n",
       "      <th>2</th>\n",
       "      <td>123</td>\n",
       "      <td>5</td>\n",
       "      <td>144.968379</td>\n",
       "      <td>PrototypeCMR</td>\n",
       "      <td>0.765867</td>\n",
       "      <td>2.547819e-01</td>\n",
       "      <td>0.562601</td>\n",
       "      <td>9.749207e-01</td>\n",
       "      <td>5.457699e-01</td>\n",
       "      <td>2.285500e-01</td>\n",
       "      <td>3.794576e+00</td>\n",
       "      <td>3.972319</td>\n",
       "      <td>1.020135e-03</td>\n",
       "      <td>0.459187</td>\n",
       "      <td>6.731054</td>\n",
       "      <td>9.805944e-01</td>\n",
       "      <td>NaN</td>\n",
       "      <td>NaN</td>\n",
       "      <td>NaN</td>\n",
       "    </tr>\n",
       "    <tr>\n",
       "      <th>3</th>\n",
       "      <td>124</td>\n",
       "      <td>5</td>\n",
       "      <td>163.373248</td>\n",
       "      <td>PrototypeCMR</td>\n",
       "      <td>0.763349</td>\n",
       "      <td>8.461381e-01</td>\n",
       "      <td>0.746154</td>\n",
       "      <td>1.000000e+00</td>\n",
       "      <td>2.220446e-16</td>\n",
       "      <td>6.376428e-02</td>\n",
       "      <td>2.220446e-16</td>\n",
       "      <td>65.204766</td>\n",
       "      <td>2.201111e-03</td>\n",
       "      <td>0.350694</td>\n",
       "      <td>6.147537</td>\n",
       "      <td>7.496235e-01</td>\n",
       "      <td>NaN</td>\n",
       "      <td>NaN</td>\n",
       "      <td>NaN</td>\n",
       "    </tr>\n",
       "    <tr>\n",
       "      <th>4</th>\n",
       "      <td>125</td>\n",
       "      <td>5</td>\n",
       "      <td>148.698105</td>\n",
       "      <td>PrototypeCMR</td>\n",
       "      <td>0.689961</td>\n",
       "      <td>8.573270e-01</td>\n",
       "      <td>0.976186</td>\n",
       "      <td>2.952599e-01</td>\n",
       "      <td>2.275726e-01</td>\n",
       "      <td>1.625944e-01</td>\n",
       "      <td>3.596696e+00</td>\n",
       "      <td>0.059630</td>\n",
       "      <td>1.877222e-07</td>\n",
       "      <td>0.616954</td>\n",
       "      <td>2.605475</td>\n",
       "      <td>4.915760e-01</td>\n",
       "      <td>NaN</td>\n",
       "      <td>NaN</td>\n",
       "      <td>NaN</td>\n",
       "    </tr>\n",
       "    <tr>\n",
       "      <th>...</th>\n",
       "      <td>...</td>\n",
       "      <td>...</td>\n",
       "      <td>...</td>\n",
       "      <td>...</td>\n",
       "      <td>...</td>\n",
       "      <td>...</td>\n",
       "      <td>...</td>\n",
       "      <td>...</td>\n",
       "      <td>...</td>\n",
       "      <td>...</td>\n",
       "      <td>...</td>\n",
       "      <td>...</td>\n",
       "      <td>...</td>\n",
       "      <td>...</td>\n",
       "      <td>...</td>\n",
       "      <td>...</td>\n",
       "      <td>...</td>\n",
       "      <td>...</td>\n",
       "      <td>...</td>\n",
       "    </tr>\n",
       "    <tr>\n",
       "      <th>325</th>\n",
       "      <td>311</td>\n",
       "      <td>5</td>\n",
       "      <td>156.795943</td>\n",
       "      <td>ICMR_2_1_1</td>\n",
       "      <td>0.364347</td>\n",
       "      <td>9.448990e-02</td>\n",
       "      <td>0.979721</td>\n",
       "      <td>5.671939e-01</td>\n",
       "      <td>8.794150e-01</td>\n",
       "      <td>1.300485e-01</td>\n",
       "      <td>2.884866e+01</td>\n",
       "      <td>0.469516</td>\n",
       "      <td>1.344084e-03</td>\n",
       "      <td>0.472288</td>\n",
       "      <td>1.000000</td>\n",
       "      <td>5.272804e-01</td>\n",
       "      <td>1.0</td>\n",
       "      <td>1.861034</td>\n",
       "      <td>True</td>\n",
       "    </tr>\n",
       "    <tr>\n",
       "      <th>326</th>\n",
       "      <td>312</td>\n",
       "      <td>5</td>\n",
       "      <td>149.129986</td>\n",
       "      <td>ICMR_2_1_1</td>\n",
       "      <td>0.753051</td>\n",
       "      <td>1.558574e-01</td>\n",
       "      <td>0.737445</td>\n",
       "      <td>2.804575e-01</td>\n",
       "      <td>8.999224e-01</td>\n",
       "      <td>6.067356e-01</td>\n",
       "      <td>9.349935e+01</td>\n",
       "      <td>57.112562</td>\n",
       "      <td>5.198996e-04</td>\n",
       "      <td>0.646129</td>\n",
       "      <td>1.000000</td>\n",
       "      <td>1.750219e-07</td>\n",
       "      <td>1.0</td>\n",
       "      <td>1.601789</td>\n",
       "      <td>True</td>\n",
       "    </tr>\n",
       "    <tr>\n",
       "      <th>327</th>\n",
       "      <td>313</td>\n",
       "      <td>5</td>\n",
       "      <td>215.661064</td>\n",
       "      <td>ICMR_2_1_1</td>\n",
       "      <td>0.692663</td>\n",
       "      <td>1.349300e-01</td>\n",
       "      <td>0.533918</td>\n",
       "      <td>2.616324e-01</td>\n",
       "      <td>7.835172e-01</td>\n",
       "      <td>7.190279e-01</td>\n",
       "      <td>6.625687e+01</td>\n",
       "      <td>72.895082</td>\n",
       "      <td>3.791420e-04</td>\n",
       "      <td>0.437644</td>\n",
       "      <td>1.000000</td>\n",
       "      <td>2.015133e-01</td>\n",
       "      <td>1.0</td>\n",
       "      <td>2.972506</td>\n",
       "      <td>True</td>\n",
       "    </tr>\n",
       "    <tr>\n",
       "      <th>328</th>\n",
       "      <td>314</td>\n",
       "      <td>5</td>\n",
       "      <td>181.411174</td>\n",
       "      <td>ICMR_2_1_1</td>\n",
       "      <td>0.683835</td>\n",
       "      <td>3.406303e-02</td>\n",
       "      <td>0.650052</td>\n",
       "      <td>1.233105e-01</td>\n",
       "      <td>1.000000e+00</td>\n",
       "      <td>2.141093e-01</td>\n",
       "      <td>7.623630e+01</td>\n",
       "      <td>68.951706</td>\n",
       "      <td>3.207278e-03</td>\n",
       "      <td>0.327102</td>\n",
       "      <td>1.000000</td>\n",
       "      <td>4.393184e-01</td>\n",
       "      <td>1.0</td>\n",
       "      <td>1.570723</td>\n",
       "      <td>True</td>\n",
       "    </tr>\n",
       "    <tr>\n",
       "      <th>329</th>\n",
       "      <td>315</td>\n",
       "      <td>5</td>\n",
       "      <td>217.453584</td>\n",
       "      <td>ICMR_2_1_1</td>\n",
       "      <td>0.675792</td>\n",
       "      <td>2.220446e-16</td>\n",
       "      <td>0.591949</td>\n",
       "      <td>3.980679e-01</td>\n",
       "      <td>5.146489e-01</td>\n",
       "      <td>8.008454e-01</td>\n",
       "      <td>8.073919e+01</td>\n",
       "      <td>28.953016</td>\n",
       "      <td>3.481842e-05</td>\n",
       "      <td>0.598031</td>\n",
       "      <td>1.000000</td>\n",
       "      <td>7.029344e-01</td>\n",
       "      <td>1.0</td>\n",
       "      <td>2.817765</td>\n",
       "      <td>True</td>\n",
       "    </tr>\n",
       "  </tbody>\n",
       "</table>\n",
       "<p>330 rows × 19 columns</p>\n",
       "</div>"
      ],
      "text/plain": [
       "     subject  trial_count  likelihood         model  encoding_drift_rate  \\\n",
       "0        118            5  134.353702  PrototypeCMR             0.835472   \n",
       "1        119            5  119.699322  PrototypeCMR             0.788831   \n",
       "2        123            5  144.968379  PrototypeCMR             0.765867   \n",
       "3        124            5  163.373248  PrototypeCMR             0.763349   \n",
       "4        125            5  148.698105  PrototypeCMR             0.689961   \n",
       "..       ...          ...         ...           ...                  ...   \n",
       "325      311            5  156.795943    ICMR_2_1_1             0.364347   \n",
       "326      312            5  149.129986    ICMR_2_1_1             0.753051   \n",
       "327      313            5  215.661064    ICMR_2_1_1             0.692663   \n",
       "328      314            5  181.411174    ICMR_2_1_1             0.683835   \n",
       "329      315            5  217.453584    ICMR_2_1_1             0.675792   \n",
       "\n",
       "     start_drift_rate  recall_drift_rate  shared_support  item_support  \\\n",
       "0        8.821901e-01           0.047815    2.220446e-16  4.620584e-01   \n",
       "1        8.846475e-02           0.821880    1.000000e+00  2.220446e-16   \n",
       "2        2.547819e-01           0.562601    9.749207e-01  5.457699e-01   \n",
       "3        8.461381e-01           0.746154    1.000000e+00  2.220446e-16   \n",
       "4        8.573270e-01           0.976186    2.952599e-01  2.275726e-01   \n",
       "..                ...                ...             ...           ...   \n",
       "325      9.448990e-02           0.979721    5.671939e-01  8.794150e-01   \n",
       "326      1.558574e-01           0.737445    2.804575e-01  8.999224e-01   \n",
       "327      1.349300e-01           0.533918    2.616324e-01  7.835172e-01   \n",
       "328      3.406303e-02           0.650052    1.233105e-01  1.000000e+00   \n",
       "329      2.220446e-16           0.591949    3.980679e-01  5.146489e-01   \n",
       "\n",
       "     learning_rate  primacy_scale  primacy_decay  stop_probability_scale  \\\n",
       "0     9.326591e-01   8.875769e+01      51.214045            8.012626e-03   \n",
       "1     2.220446e-16   1.000000e+02       0.439642            3.761995e-02   \n",
       "2     2.285500e-01   3.794576e+00       3.972319            1.020135e-03   \n",
       "3     6.376428e-02   2.220446e-16      65.204766            2.201111e-03   \n",
       "4     1.625944e-01   3.596696e+00       0.059630            1.877222e-07   \n",
       "..             ...            ...            ...                     ...   \n",
       "325   1.300485e-01   2.884866e+01       0.469516            1.344084e-03   \n",
       "326   6.067356e-01   9.349935e+01      57.112562            5.198996e-04   \n",
       "327   7.190279e-01   6.625687e+01      72.895082            3.791420e-04   \n",
       "328   2.141093e-01   7.623630e+01      68.951706            3.207278e-03   \n",
       "329   8.008454e-01   8.073919e+01      28.953016            3.481842e-05   \n",
       "\n",
       "     stop_probability_growth  choice_sensitivity  delay_drift_rate  \\\n",
       "0                   0.397704            0.765667      5.874558e-01   \n",
       "1                   0.187336            1.637427      1.953255e-08   \n",
       "2                   0.459187            6.731054      9.805944e-01   \n",
       "3                   0.350694            6.147537      7.496235e-01   \n",
       "4                   0.616954            2.605475      4.915760e-01   \n",
       "..                       ...                 ...               ...   \n",
       "325                 0.472288            1.000000      5.272804e-01   \n",
       "326                 0.646129            1.000000      1.750219e-07   \n",
       "327                 0.437644            1.000000      2.015133e-01   \n",
       "328                 0.327102            1.000000      4.393184e-01   \n",
       "329                 0.598031            1.000000      7.029344e-01   \n",
       "\n",
       "     feature_sensitivity  context_sensitivity learn_first  \n",
       "0                    NaN                  NaN         NaN  \n",
       "1                    NaN                  NaN         NaN  \n",
       "2                    NaN                  NaN         NaN  \n",
       "3                    NaN                  NaN         NaN  \n",
       "4                    NaN                  NaN         NaN  \n",
       "..                   ...                  ...         ...  \n",
       "325                  1.0             1.861034        True  \n",
       "326                  1.0             1.601789        True  \n",
       "327                  1.0             2.972506        True  \n",
       "328                  1.0             1.570723        True  \n",
       "329                  1.0             2.817765        True  \n",
       "\n",
       "[330 rows x 19 columns]"
      ]
     },
     "execution_count": 7,
     "metadata": {},
     "output_type": "execute_result"
    }
   ],
   "source": [
    "individual_fits"
   ]
  },
  {
   "cell_type": "code",
   "execution_count": 8,
   "id": "e3c52155",
   "metadata": {
    "execution": {
     "iopub.execute_input": "2022-06-03T19:21:53.704591Z",
     "iopub.status.busy": "2022-06-03T19:21:53.704007Z",
     "iopub.status.idle": "2022-06-03T19:21:53.749157Z",
     "shell.execute_reply": "2022-06-03T19:21:53.747956Z"
    },
    "papermill": {
     "duration": 0.080947,
     "end_time": "2022-06-03T19:21:53.751295",
     "exception": false,
     "start_time": "2022-06-03T19:21:53.670348",
     "status": "completed"
    },
    "tags": []
   },
   "outputs": [
    {
     "name": "stdout",
     "output_type": "stream",
     "text": [
      "::: {#fig-HowardKahana2005Cond0fits layout-nrow=2 layout-valign=\"center\"}\n",
      "\n",
      "![](results/individual_HowardKahana2005Cond0.pdf)\n",
      "\n",
      "|       |   ICMR_2_0_0 |   ICMR_2_0_1 |   ICMR_2_1_0 |   ICMR_2_1_1 |   PrototypeCMR |\n",
      "|:------|-------------:|-------------:|-------------:|-------------:|---------------:|\n",
      "| count |      66      |      66      |      66      |      66      |        66      |\n",
      "| mean  |     141.379  |     141.421  |     140.934  |     141.144  |       141.051  |\n",
      "| std   |      42.9187 |      42.8753 |      42.9881 |      43.0583 |        43.0107 |\n",
      "| min   |      40.9447 |      40.8993 |      38.452  |      40.8771 |        40.9321 |\n",
      "| 25%   |     117.014  |     116.314  |     116.949  |     116.358  |       117.252  |\n",
      "| 50%   |     142.852  |     145.573  |     139.531  |     139.177  |       142.09   |\n",
      "| 75%   |     161.377  |     161.532  |     161.341  |     161.156  |       162.759  |\n",
      "| max   |     249.152  |     248.727  |     249.36   |     249.402  |       248.968  |\n",
      "\n",
      "Distribution of log-likelihood scores of recall sequences exhibited by each subject in dataset under each considered model.\n",
      ":::\n"
     ]
    }
   ],
   "source": [
    "#| code-summary: display markdown rendering of summary table\n",
    "#| echo: false\n",
    "#| input: false\n",
    "#| output: asis\n",
    "\n",
    "summary_table = pd.DataFrame(group.describe().rename(columns={'likelihood':name}).squeeze()\n",
    "            for name, group in individual_fits[['model', 'likelihood']].groupby('model')).T.to_markdown()\n",
    "\n",
    "print(\"\"\"::: {{#fig-{section_tag}fits layout-nrow=2 layout-valign=\"center\"}}\n",
    "\n",
    "![]({results_path}individual_{section_tag}.pdf)\n",
    "\n",
    "{summary_table}\n",
    "\n",
    "{individual_fits_caption}\n",
    ":::\"\"\".format(section_tag=section_tag, summary_table=summary_table, individual_fits_caption=figure_caption, results_path=results_path))"
   ]
  },
  {
   "cell_type": "code",
   "execution_count": 9,
   "id": "8d8085e1",
   "metadata": {
    "execution": {
     "iopub.execute_input": "2022-06-03T19:21:53.794116Z",
     "iopub.status.busy": "2022-06-03T19:21:53.793708Z",
     "iopub.status.idle": "2022-06-03T19:21:54.202529Z",
     "shell.execute_reply": "2022-06-03T19:21:54.201674Z"
    },
    "papermill": {
     "duration": 0.432339,
     "end_time": "2022-06-03T19:21:54.205285",
     "exception": false,
     "start_time": "2022-06-03T19:21:53.772946",
     "status": "completed"
    },
    "tags": []
   },
   "outputs": [
    {
     "name": "stdout",
     "output_type": "stream",
     "text": [
      "('PrototypeCMR', 'ICMR_2_0_0')\n",
      "Ttest_relResult(statistic=-1.9196574563176256, pvalue=0.05929220175707189)\n",
      "Ttest_relResult(statistic=-1.9196574563176256, pvalue=0.029646100878535944)\n",
      "Ttest_relResult(statistic=-1.9196574563176256, pvalue=0.9703538991214641)\n",
      "\n",
      "('PrototypeCMR', 'ICMR_2_0_1')\n",
      "Ttest_relResult(statistic=-1.3658763667489453, pvalue=0.1766853772987033)\n",
      "Ttest_relResult(statistic=-1.3658763667489453, pvalue=0.08834268864935164)\n",
      "Ttest_relResult(statistic=-1.3658763667489453, pvalue=0.9116573113506484)\n",
      "\n",
      "('PrototypeCMR', 'ICMR_2_1_0')\n",
      "Ttest_relResult(statistic=0.6658726250288246, pvalue=0.5078487989203848)\n",
      "Ttest_relResult(statistic=0.6658726250288246, pvalue=0.7460756005398076)\n",
      "Ttest_relResult(statistic=0.6658726250288246, pvalue=0.2539243994601924)\n",
      "\n",
      "('PrototypeCMR', 'ICMR_2_1_1')\n",
      "Ttest_relResult(statistic=-0.4552667271440176, pvalue=0.6504344807557869)\n",
      "Ttest_relResult(statistic=-0.4552667271440176, pvalue=0.32521724037789346)\n",
      "Ttest_relResult(statistic=-0.4552667271440176, pvalue=0.6747827596221065)\n",
      "\n",
      "('ICMR_2_0_0', 'ICMR_2_0_1')\n",
      "Ttest_relResult(statistic=-0.17169213551979645, pvalue=0.8642129823491216)\n",
      "Ttest_relResult(statistic=-0.17169213551979645, pvalue=0.4321064911745608)\n",
      "Ttest_relResult(statistic=-0.17169213551979645, pvalue=0.5678935088254391)"
     ]
    },
    {
     "name": "stdout",
     "output_type": "stream",
     "text": [
      "\n",
      "\n",
      "('ICMR_2_0_0', 'ICMR_2_1_0')\n",
      "Ttest_relResult(statistic=2.2128544203990654, pvalue=0.03042540582153943)\n",
      "Ttest_relResult(statistic=2.2128544203990654, pvalue=0.9847872970892303)\n",
      "Ttest_relResult(statistic=2.2128544203990654, pvalue=0.015212702910769715)\n",
      "\n",
      "('ICMR_2_0_0', 'ICMR_2_1_1')\n",
      "Ttest_relResult(statistic=1.1368844514481091, pvalue=0.25976047817435227)\n",
      "Ttest_relResult(statistic=1.1368844514481091, pvalue=0.8701197609128238)\n",
      "Ttest_relResult(statistic=1.1368844514481091, pvalue=0.12988023908717614)\n",
      "\n",
      "('ICMR_2_0_1', 'ICMR_2_1_0')\n",
      "Ttest_relResult(statistic=1.7248685799308856, pvalue=0.08930352089651727)\n",
      "Ttest_relResult(statistic=1.7248685799308856, pvalue=0.9553482395517414)\n",
      "Ttest_relResult(statistic=1.7248685799308856, pvalue=0.04465176044825864)\n",
      "\n",
      "('ICMR_2_0_1', 'ICMR_2_1_1')\n",
      "Ttest_relResult(statistic=1.0942273829254818, pvalue=0.2778936566656471)\n",
      "Ttest_relResult(statistic=1.0942273829254818, pvalue=0.8610531716671764)\n",
      "Ttest_relResult(statistic=1.0942273829254818, pvalue=0.13894682833282354)\n",
      "\n",
      "('ICMR_2_1_0', 'ICMR_2_1_1')\n",
      "Ttest_relResult(statistic=-1.338391517834524, pvalue=0.18543177262902158)\n",
      "Ttest_relResult(statistic=-1.338391517834524, pvalue=0.09271588631451079)\n",
      "Ttest_relResult(statistic=-1.338391517834524, pvalue=0.9072841136854892)\n",
      "\n"
     ]
    }
   ],
   "source": [
    "#| code-summary: perform t-tests on individual-level fits\n",
    "#| output: false\n",
    " \n",
    "from scipy.stats import ttest_rel\n",
    "import itertools\n",
    "\n",
    "for combination in itertools.combinations(pd.unique(individual_fits.model), 2):\n",
    "\n",
    "    print(combination)\n",
    "    print(ttest_rel(individual_fits[individual_fits.model == combination[0]].likelihood, individual_fits[individual_fits.model == combination[1]].likelihood, alternative='two-sided'))\n",
    "    print(ttest_rel(individual_fits[individual_fits.model == combination[0]].likelihood, individual_fits[individual_fits.model == combination[1]].likelihood, alternative='less'))\n",
    "    print(ttest_rel(individual_fits[individual_fits.model == combination[0]].likelihood, individual_fits[individual_fits.model == combination[1]].likelihood, alternative='greater'))\n",
    "    print()"
   ]
  },
  {
   "cell_type": "code",
   "execution_count": 10,
   "id": "e6df1269",
   "metadata": {
    "execution": {
     "iopub.execute_input": "2022-06-03T19:21:54.277220Z",
     "iopub.status.busy": "2022-06-03T19:21:54.276937Z",
     "iopub.status.idle": "2022-06-03T19:21:54.341138Z",
     "shell.execute_reply": "2022-06-03T19:21:54.340568Z"
    },
    "papermill": {
     "duration": 0.100109,
     "end_time": "2022-06-03T19:21:54.344123",
     "exception": false,
     "start_time": "2022-06-03T19:21:54.244014",
     "status": "completed"
    },
    "tags": []
   },
   "outputs": [
    {
     "name": "stdout",
     "output_type": "stream",
     "text": [
      "('PrototypeCMR', 'ICMR_2_0_0')\n",
      "0.6363636363636364 0.36363636363636365\n",
      "42 24\n",
      "\n",
      "('PrototypeCMR', 'ICMR_2_0_1')\n",
      "0.6060606060606061 0.3939393939393939\n",
      "40 26\n",
      "\n",
      "('PrototypeCMR', 'ICMR_2_1_0')\n",
      "0.4696969696969697 0.5303030303030303\n",
      "31 35\n",
      "\n",
      "('PrototypeCMR', 'ICMR_2_1_1')\n",
      "0.5 0.5\n",
      "33 33\n",
      "\n",
      "('ICMR_2_0_0', 'ICMR_2_0_1')\n",
      "0.4393939393939394 0.5606060606060606\n",
      "29 37\n",
      "\n",
      "('ICMR_2_0_0', 'ICMR_2_1_0')\n",
      "0.42424242424242425 0.5757575757575758\n",
      "28 38\n",
      "\n",
      "('ICMR_2_0_0', 'ICMR_2_1_1')\n",
      "0.4393939393939394 0.5606060606060606\n",
      "29 37\n",
      "\n",
      "('ICMR_2_0_1', 'ICMR_2_1_0')\n",
      "0.48484848484848486 0.5151515151515151\n",
      "32 34\n",
      "\n",
      "('ICMR_2_0_1', 'ICMR_2_1_1')\n",
      "0.4696969696969697 0.5303030303030303\n",
      "31 35\n",
      "\n",
      "('ICMR_2_1_0', 'ICMR_2_1_1')\n",
      "0.5454545454545454 0.45454545454545453\n",
      "36 30\n",
      "\n"
     ]
    }
   ],
   "source": [
    "for combination in itertools.combinations(pd.unique(individual_fits.model), 2):\n",
    "\n",
    "    print(combination)\n",
    "    print(np.mean(individual_fits[individual_fits.model == combination[0]].likelihood.values < individual_fits[individual_fits.model == combination[1]].likelihood.values), \n",
    "        np.mean(individual_fits[individual_fits.model == combination[1]].likelihood.values < individual_fits[individual_fits.model == combination[0]].likelihood.values))\n",
    "\n",
    "    print(np.sum(individual_fits[individual_fits.model == combination[0]].likelihood.values < individual_fits[individual_fits.model == combination[1]].likelihood.values), \n",
    "        np.sum(individual_fits[individual_fits.model == combination[1]].likelihood.values < individual_fits[individual_fits.model == combination[0]].likelihood.values))\n",
    "\n",
    "    print()"
   ]
  },
  {
   "cell_type": "code",
   "execution_count": 11,
   "id": "ef194f89",
   "metadata": {
    "execution": {
     "iopub.execute_input": "2022-06-03T19:21:54.428208Z",
     "iopub.status.busy": "2022-06-03T19:21:54.427748Z",
     "iopub.status.idle": "2022-06-03T19:21:55.497180Z",
     "shell.execute_reply": "2022-06-03T19:21:55.496600Z"
    },
    "papermill": {
     "duration": 1.112931,
     "end_time": "2022-06-03T19:21:55.500924",
     "exception": false,
     "start_time": "2022-06-03T19:21:54.387993",
     "status": "completed"
    },
    "tags": []
   },
   "outputs": [
    {
     "name": "stdout",
     "output_type": "stream",
     "text": [
      "[4.49022048e-04 1.76335178e-13 1.07108929e-14 9.99550030e-01\n",
      " 9.47901284e-07]\n"
     ]
    }
   ],
   "source": [
    "def model_weights(positive_log_likelihoods, number_parameters, N):\n",
    "    AIC = 2 * positive_log_likelihoods + 2 * number_parameters\n",
    "    AICc = AIC #+ (2*np.power(number_parameters, 2) + 2 * number_parameters) / (N - number_parameters - 2)\n",
    "    AICd = AIC - np.min(AICc)\n",
    "    #return AICd\n",
    "    AICw = np.exp(-.5 * AICd) / np.sum(np.exp(-.5 * AICd))\n",
    "    return AICw\n",
    "\n",
    "aicw = {'Model': [], 'Subject': [], 'AICw': []}\n",
    "\n",
    "total_nlns = np.zeros(len(models))\n",
    "for subject_index, subject in enumerate(pd.unique(events.subject)):\n",
    "\n",
    "    subject_specific_trial_mask = np.logical_and(\n",
    "                    generate_trial_mask(events, f'subject == {subject}'), trial_mask)\n",
    "\n",
    "    nlnLs = []\n",
    "    for model_index, model_class in enumerate(models):\n",
    "        nlnLs.append(\n",
    "            individual_fits[individual_fits.model == model_names[model_index]].likelihood.values[subject_index])\n",
    "    nlnLs = np.array(nlnLs)\n",
    "    total_nlns += nlnLs\n",
    "    \n",
    "    weights = model_weights(nlnLs, len(free_parameters[model_index]), np.sum(subject_specific_trial_mask))\n",
    "    #print(weights)\n",
    "    for model_index, model_class in enumerate(models):\n",
    "        aicw['Model'].append(model_names[model_index])\n",
    "        aicw['Subject'].append(subject)\n",
    "        aicw['AICw'].append(weights[model_index])\n",
    "\n",
    "aicw = pd.DataFrame(data=aicw)\n",
    "total_aicw = model_weights(total_nlns, len(free_parameters[model_index]), np.sum(trial_mask))\n",
    "print(total_aicw)"
   ]
  },
  {
   "cell_type": "code",
   "execution_count": 12,
   "id": "3f5e7ceb",
   "metadata": {
    "execution": {
     "iopub.execute_input": "2022-06-03T19:21:55.582997Z",
     "iopub.status.busy": "2022-06-03T19:21:55.582598Z",
     "iopub.status.idle": "2022-06-03T19:21:55.976559Z",
     "shell.execute_reply": "2022-06-03T19:21:55.975980Z"
    },
    "papermill": {
     "duration": 0.432444,
     "end_time": "2022-06-03T19:21:55.978341",
     "exception": false,
     "start_time": "2022-06-03T19:21:55.545897",
     "status": "completed"
    },
    "tags": []
   },
   "outputs": [
    {
     "data": {
      "image/png": "[encoded data removed]",
      "text/plain": [
       "<Figure size 640x480 with 1 Axes>"
      ]
     },
     "metadata": {},
     "output_type": "display_data"
    }
   ],
   "source": [
    "import seaborn as sns\n",
    "sns.set_theme(style=\"darkgrid\")\n",
    "x = sns.pointplot(x=\"Model\", y=\"AICw\", data=aicw, join=False)\n",
    "\n",
    "plt.show()"
   ]
  },
  {
   "cell_type": "code",
   "execution_count": 13,
   "id": "91a71bb6",
   "metadata": {
    "execution": {
     "iopub.execute_input": "2022-06-03T19:21:56.025978Z",
     "iopub.status.busy": "2022-06-03T19:21:56.025373Z",
     "iopub.status.idle": "2022-06-03T19:21:56.029540Z",
     "shell.execute_reply": "2022-06-03T19:21:56.028732Z"
    },
    "papermill": {
     "duration": 0.029264,
     "end_time": "2022-06-03T19:21:56.031117",
     "exception": false,
     "start_time": "2022-06-03T19:21:56.001853",
     "status": "completed"
    },
    "tags": []
   },
   "outputs": [],
   "source": [
    "from compmemlearn.datasets import find_first"
   ]
  },
  {
   "cell_type": "code",
   "execution_count": 14,
   "id": "0224b45d",
   "metadata": {
    "execution": {
     "iopub.execute_input": "2022-06-03T19:21:56.077953Z",
     "iopub.status.busy": "2022-06-03T19:21:56.077550Z",
     "iopub.status.idle": "2022-06-03T19:21:56.104126Z",
     "shell.execute_reply": "2022-06-03T19:21:56.103024Z"
    },
    "papermill": {
     "duration": 0.052194,
     "end_time": "2022-06-03T19:21:56.105906",
     "exception": false,
     "start_time": "2022-06-03T19:21:56.053712",
     "status": "completed"
    },
    "tags": []
   },
   "outputs": [],
   "source": [
    "def simulate_df_from_events(model_class, parameters, events, trial_mask, experiment_count, first_recall_item=None):\n",
    "\n",
    "    trials, list_lengths, presentations = events_metadata(events)\n",
    "    chose = [i for i in range(len(trial_mask)) if np.sum(trial_mask[i]) != 0]\n",
    "    assert(len(chose) == 1)\n",
    "    chose = chose[0]\n",
    "    trial_mask = trial_mask[chose]\n",
    "    trials = trials[chose][trial_mask]\n",
    "    presentations = presentations[chose][trial_mask]\n",
    "\n",
    "    default_columns = ['subject', 'list', 'trial_type', 'item', 'input', 'output', 'study', 'recall', 'repeat', 'intrusion', 'first_input']\n",
    "    extra_columns = [each for each in events.columns if each not in default_columns]\n",
    "\n",
    "    labels = {}\n",
    "    for column in extra_columns:\n",
    "        try:\n",
    "            labels[column] = (\n",
    "                events.pivot_table(index=['subject', 'list'], dropna=False)[column].values)\n",
    "\n",
    "            if 'list length' in events.columns:\n",
    "                trial_details = events.pivot_table(index=['subject', 'list'], dropna=False).reset_index()\n",
    "                list_length_mask = trial_details.eval(trial_query).to_numpy(dtype='bool')\n",
    "                labels[column] = labels[column][list_length_mask]\n",
    "            else:\n",
    "                labels[column] = labels[column][trial_mask]\n",
    "        except KeyError:\n",
    "            pass\n",
    "\n",
    "    data = []\n",
    "    for experiment in range(experiment_count):\n",
    "        for trial_index in range(len(presentations)):\n",
    "        \n",
    "            # retrieve presentation sequence for this trial and measure number of unique items\n",
    "            presentation = presentations[trial_index]\n",
    "            item_count = np.max(presentation)+1\n",
    "\n",
    "            # record presentation events\n",
    "            for presentation_index, presentation_event in enumerate(presentation):\n",
    "                data.append([\n",
    "                    experiment, trial_index, 'study', presentation_index+1, presentation_event, presentation_index+1])\n",
    "                for label in labels:\n",
    "                    data[-1].append(labels[label][trial_index])\n",
    "\n",
    "            # simulate recall and identify first study position of each recalled item\n",
    "            model = model_class(item_count, len(presentation), parameters)\n",
    "            model.experience(model.items[presentation])\n",
    "            if first_recall_item is not None:\n",
    "                model.force_recall(first_recall_item)\n",
    "            recalled = model.free_recall()\n",
    "            trial = [find_first(recalled[i], presentation) + 1 for i in range(len(recalled))]\n",
    "\n",
    "            # record recall events\n",
    "            for recall_index, recall_event in enumerate(trial):\n",
    "                if recall_event != 0:\n",
    "                    data.append([\n",
    "                        experiment, trial_index, 'recall', recall_index+1, \n",
    "                        presentation[recall_event-1], recall_event])\n",
    "                    for label in labels:\n",
    "                        data[-1].append(labels[label][trial_index])\n",
    "\n",
    "    data = pd.DataFrame(data, columns=[\n",
    "        'subject', 'list', 'trial_type', 'position', 'item', 'first_input'] + list(labels.keys()))\n",
    "    merged = fr.merge_free_recall(data, list_keys=['first_input'] + list(labels.keys()))\n",
    "    return merged"
   ]
  },
  {
   "cell_type": "markdown",
   "id": "7b7ce0cc",
   "metadata": {
    "tags": [
     "papermill-error-cell-tag"
    ]
   },
   "source": [
    "<span id=\"papermill-error-cell\" style=\"color:red; font-family:Helvetica Neue, Helvetica, Arial, sans-serif; font-size:2em;\">Execution using papermill encountered an exception here and stopped:</span>"
   ]
  },
  {
   "cell_type": "code",
   "execution_count": 15,
   "id": "ee929f62",
   "metadata": {
    "execution": {
     "iopub.execute_input": "2022-06-03T19:21:56.153166Z",
     "iopub.status.busy": "2022-06-03T19:21:56.152785Z",
     "iopub.status.idle": "2022-06-03T19:22:14.209034Z",
     "shell.execute_reply": "2022-06-03T19:22:14.208226Z"
    },
    "papermill": {
     "duration": 18.083893,
     "end_time": "2022-06-03T19:22:14.212741",
     "exception": true,
     "start_time": "2022-06-03T19:21:56.128848",
     "status": "failed"
    },
    "tags": []
   },
   "outputs": [
    {
     "name": "stdout",
     "output_type": "stream",
     "text": [
      "sim_df for PrototypeCMR with tag HowardKahana2005Cond0 and list length 90 already exists\n"
     ]
    },
    {
     "data": {
      "image/png": "[encoded data removed]",
      "text/plain": [
       "<Figure size 640x480 with 1 Axes>"
      ]
     },
     "metadata": {},
     "output_type": "display_data"
    },
    {
     "ename": "ValueError",
     "evalue": "cannot assign slice from input of different size",
     "output_type": "error",
     "traceback": [
      "\u001b[0;31m---------------------------------------------------------------------------\u001b[0m",
      "\u001b[0;31mValueError\u001b[0m                                Traceback (most recent call last)",
      "Input \u001b[0;32mIn [15]\u001b[0m, in \u001b[0;36m<cell line: 7>\u001b[0;34m()\u001b[0m\n\u001b[1;32m     74\u001b[0m \u001b[38;5;28;01mfor\u001b[39;00m analysis_index, analysis_function \u001b[38;5;129;01min\u001b[39;00m \u001b[38;5;28menumerate\u001b[39m(analyses):\n\u001b[1;32m     75\u001b[0m     analysis_name \u001b[38;5;241m=\u001b[39m analysis_names[analysis_index]\n\u001b[0;32m---> 76\u001b[0m     axis \u001b[38;5;241m=\u001b[39m \u001b[43manalysis_function\u001b[49m\u001b[43m(\u001b[49m\n\u001b[1;32m     77\u001b[0m \u001b[43m        \u001b[49m\u001b[43m[\u001b[49m\u001b[43mevents\u001b[49m\u001b[43m,\u001b[49m\u001b[43m \u001b[49m\u001b[43msim_df\u001b[49m\u001b[43m]\u001b[49m\u001b[43m,\u001b[49m\u001b[43m \u001b[49m\u001b[43manalysis_query\u001b[49m\u001b[43m,\u001b[49m\u001b[43m \u001b[49m\u001b[43mcontrast_name\u001b[49m\u001b[38;5;241;43m=\u001b[39;49m\u001b[38;5;124;43m\"\u001b[39;49m\u001b[38;5;124;43msource\u001b[39;49m\u001b[38;5;124;43m\"\u001b[39;49m\u001b[43m,\u001b[49m\u001b[43m \u001b[49m\u001b[43mlabels\u001b[49m\u001b[38;5;241;43m=\u001b[39;49m\u001b[43m[\u001b[49m\u001b[38;5;124;43m\"\u001b[39;49m\u001b[38;5;124;43mdata\u001b[39;49m\u001b[38;5;124;43m\"\u001b[39;49m\u001b[43m,\u001b[49m\u001b[43m \u001b[49m\u001b[43mmodel_names\u001b[49m\u001b[43m[\u001b[49m\u001b[43mmodel_index\u001b[49m\u001b[43m]\u001b[49m\u001b[43m]\u001b[49m\u001b[43m)\u001b[49m\n\u001b[1;32m     78\u001b[0m     plt\u001b[38;5;241m.\u001b[39msavefig(results_path\u001b[38;5;241m+\u001b[39m\u001b[38;5;124m'\u001b[39m\u001b[38;5;132;01m{}\u001b[39;00m\u001b[38;5;124m_\u001b[39m\u001b[38;5;132;01m{}\u001b[39;00m\u001b[38;5;124m_ll\u001b[39m\u001b[38;5;132;01m{}\u001b[39;00m\u001b[38;5;124m_\u001b[39m\u001b[38;5;132;01m{}\u001b[39;00m\u001b[38;5;124m.pdf\u001b[39m\u001b[38;5;124m'\u001b[39m\u001b[38;5;241m.\u001b[39mformat(section_tag, model_names[model_index], list_length, analysis_name), bbox_inches\u001b[38;5;241m=\u001b[39m\u001b[38;5;124m\"\u001b[39m\u001b[38;5;124mtight\u001b[39m\u001b[38;5;124m\"\u001b[39m)\n\u001b[1;32m     79\u001b[0m     plt\u001b[38;5;241m.\u001b[39mshow()\n",
      "File \u001b[0;32m/gpfs52/home/gunnj/myvenv/lib/python3.8/site-packages/compmemlearn/analyses.py:437\u001b[0m, in \u001b[0;36mplot_flex_crp\u001b[0;34m(data, trial_query, contrast_name, labels, axis, max_lag)\u001b[0m\n\u001b[1;32m    434\u001b[0m \u001b[38;5;28;01mif\u001b[39;00m np\u001b[38;5;241m.\u001b[39msum(subject_specific_trial_mask) \u001b[38;5;241m==\u001b[39m \u001b[38;5;241m0\u001b[39m:\n\u001b[1;32m    435\u001b[0m     \u001b[38;5;28;01mcontinue\u001b[39;00m\n\u001b[0;32m--> 437\u001b[0m res \u001b[38;5;241m=\u001b[39m \u001b[43mflex_mixed_crp\u001b[49m\u001b[43m(\u001b[49m\u001b[43mtrials\u001b[49m\u001b[43m[\u001b[49m\u001b[43msubject_specific_trial_mask\u001b[49m\u001b[43m]\u001b[49m\u001b[43m,\u001b[49m\u001b[43m \u001b[49m\u001b[43mpresentations\u001b[49m\u001b[43m[\u001b[49m\u001b[43msubject_specific_trial_mask\u001b[49m\u001b[43m]\u001b[49m\u001b[43m)\u001b[49m\n\u001b[1;32m    438\u001b[0m res[lag_range] \u001b[38;5;241m=\u001b[39m np\u001b[38;5;241m.\u001b[39mnan\n\u001b[1;32m    439\u001b[0m result\u001b[38;5;241m.\u001b[39mappend(pd\u001b[38;5;241m.\u001b[39mDataFrame\u001b[38;5;241m.\u001b[39mfrom_dict(\n\u001b[1;32m    440\u001b[0m     {\n\u001b[1;32m    441\u001b[0m         \u001b[38;5;124m\"\u001b[39m\u001b[38;5;124msubject\u001b[39m\u001b[38;5;124m\"\u001b[39m: subject,\n\u001b[0;32m   (...)\u001b[0m\n\u001b[1;32m    445\u001b[0m     }\n\u001b[1;32m    446\u001b[0m ))\n",
      "\u001b[0;31mValueError\u001b[0m: cannot assign slice from input of different size"
     ]
    },
    {
     "data": {
      "image/png": "[encoded data removed]",
      "text/plain": [
       "<Figure size 640x480 with 1 Axes>"
      ]
     },
     "metadata": {},
     "output_type": "display_data"
    }
   ],
   "source": [
    "sns.set(style='darkgrid')\n",
    "\n",
    "# for each unique list length\n",
    "if not (isinstance(list_lengths, list) or isinstance(list_lengths, List)): \n",
    "    list_lengths = [list_lengths]\n",
    "\n",
    "for ll_index, list_length in enumerate(list_lengths):\n",
    "    \n",
    "    # for each unique model\n",
    "    for model_index, model_class in enumerate(models):\n",
    "\n",
    "        # load sim_df from csv if it exists\n",
    "        sim_df_path = results_path + '{}_{}_ll{}_sim_df.csv'.format(section_tag, model_names[model_index], list_length)\n",
    "        if os.path.isfile(sim_df_path):\n",
    "            sim_df = pd.read_csv(sim_df_path)\n",
    "            print('sim_df for {} with tag {} and list length {} already exists'.format(model_names[model_index], section_tag, list_length))\n",
    "\n",
    "        # otherwise, generate it\n",
    "        else:\n",
    "\n",
    "            @njit(fastmath=True, nogil=True)\n",
    "            def init_model(item_count, presentation_count, parameters):\n",
    "                return model_class(item_count, presentation_count, parameters)\n",
    "\n",
    "            # for each unique matching entry in individual df\n",
    "            sim_dfs = []\n",
    "            for subject in pd.unique(individual_fits.subject):\n",
    "                \n",
    "                fit_result = individual_fits.query(f'subject == {subject} & model == \"{model_names[model_index]}\"')\n",
    "\n",
    "                # configure model based on specified parameters\n",
    "                fitted_parameters = Dict.empty(\n",
    "                    key_type=types.unicode_type, value_type=types.float64\n",
    "                )\n",
    "                for i in range(len(free_parameters[model_index])):\n",
    "                    fitted_parameters[free_parameters[model_index][i]] = fit_result[free_parameters[model_index][i]].values[0]\n",
    "                for key in fixed_parameters[model_index]:\n",
    "                    fitted_parameters[key] = fixed_parameters[model_index][key]\n",
    "\n",
    "                if 'list length' in events.columns:\n",
    "                    ll_specific_trial_query = trial_query + f' & subject == {subject} & `list length` == {list_length}'\n",
    "                else:\n",
    "                    ll_specific_trial_query = trial_query + f' & subject == {subject}'\n",
    "\n",
    "                ll_specific_trial_mask = generate_trial_mask(events, ll_specific_trial_query)\n",
    "\n",
    "                if np.sum(ll_specific_trial_mask) == 0:\n",
    "                    continue\n",
    "\n",
    "                # simulate df based on specified trial_count and experiment_count\n",
    "                sim_dfs.append(simulate_df_from_events(\n",
    "                    init_model, fitted_parameters, events, ll_specific_trial_mask, experiment_count))\n",
    "                sim_dfs[-1].subject = subject\n",
    "\n",
    "            # concatenate simulations into one dataframe\n",
    "            if len(sim_dfs) == 0:\n",
    "                sim_df = None\n",
    "                continue\n",
    "            sim_df = pd.concat(sim_dfs)\n",
    "\n",
    "            # save sim_df to csv\n",
    "            sim_df.to_csv(results_path +'{}_{}_ll{}_sim_df.csv'.format(section_tag, model_names[model_index], list_length), index=False)\n",
    "\n",
    "        if sim_df is None:\n",
    "            continue\n",
    "\n",
    "        # design general filter for analysis df\n",
    "        if len(list_lengths) > 1:\n",
    "            analysis_query = trial_query + f' & `list length` == {list_length}'\n",
    "        else:\n",
    "            analysis_query = trial_query\n",
    "            \n",
    "        # generate plot for each parametrized analysis and model\n",
    "        for analysis_index, analysis_function in enumerate(analyses):\n",
    "            analysis_name = analysis_names[analysis_index]\n",
    "            axis = analysis_function(\n",
    "                [events, sim_df], analysis_query, contrast_name=\"source\", labels=[\"data\", model_names[model_index]])\n",
    "            plt.savefig(results_path+'{}_{}_ll{}_{}.pdf'.format(section_tag, model_names[model_index], list_length, analysis_name), bbox_inches=\"tight\")\n",
    "            plt.show()"
   ]
  }
 ],
 "metadata": {
  "interpreter": {
   "hash": "19d1d53a962d236aa061289c2ac16dc8e6d9648c89fe79f459ae9a3493bc67b4"
  },
  "kernelspec": {
   "display_name": "Python 3.9.1 ('base')",
   "language": "python",
   "name": "python3"
  },
  "language_info": {
   "codemirror_mode": {
    "name": "ipython",
    "version": 3
   },
   "file_extension": ".py",
   "mimetype": "text/x-python",
   "name": "python",
   "nbconvert_exporter": "python",
   "pygments_lexer": "ipython3",
   "version": "3.8.6"
  },
  "papermill": {
   "default_parameters": {},
   "duration": 400.283601,
   "end_time": "2022-06-03T19:22:17.038307",
   "environment_variables": {},
   "exception": true,
   "input_path": "Subjectwise_Model_Evaluation.ipynb",
   "output_path": "reports/Subjectwise_Model_Evaluation_Double_HowardKahana2005Cond0.ipynb",
   "parameters": {
    "bounds": [
     [
      [
       2.220446049250313e-16,
       0.9999999999999998
      ],
      [
       2.220446049250313e-16,
       0.9999999999999998
      ],
      [
       2.220446049250313e-16,
       0.9999999999999998
      ],
      [
       2.220446049250313e-16,
       0.9999999999999998
      ],
      [
       2.220446049250313e-16,
       0.9999999999999998
      ],
      [
       2.220446049250313e-16,
       0.9999999999999998
      ],
      [
       2.220446049250313e-16,
       100
      ],
      [
       2.220446049250313e-16,
       100
      ],
      [
       2.220446049250313e-16,
       0.9999999999999998
      ],
      [
       2.220446049250313e-16,
       10
      ],
      [
       2.220446049250313e-16,
       10
      ],
      [
       2.220446049250313e-16,
       0.9999999999999998
      ]
     ],
     [
      [
       2.220446049250313e-16,
       0.9999999999999998
      ],
      [
       2.220446049250313e-16,
       0.9999999999999998
      ],
      [
       2.220446049250313e-16,
       0.9999999999999998
      ],
      [
       2.220446049250313e-16,
       0.9999999999999998
      ],
      [
       2.220446049250313e-16,
       0.9999999999999998
      ],
      [
       2.220446049250313e-16,
       0.9999999999999998
      ],
      [
       2.220446049250313e-16,
       100
      ],
      [
       2.220446049250313e-16,
       100
      ],
      [
       2.220446049250313e-16,
       0.9999999999999998
      ],
      [
       2.220446049250313e-16,
       10
      ],
      [
       2.220446049250313e-16,
       10
      ],
      [
       2.220446049250313e-16,
       0.9999999999999998
      ]
     ],
     [
      [
       2.220446049250313e-16,
       0.9999999999999998
      ],
      [
       2.220446049250313e-16,
       0.9999999999999998
      ],
      [
       2.220446049250313e-16,
       0.9999999999999998
      ],
      [
       2.220446049250313e-16,
       0.9999999999999998
      ],
      [
       2.220446049250313e-16,
       0.9999999999999998
      ],
      [
       2.220446049250313e-16,
       0.9999999999999998
      ],
      [
       2.220446049250313e-16,
       100
      ],
      [
       2.220446049250313e-16,
       100
      ],
      [
       2.220446049250313e-16,
       0.9999999999999998
      ],
      [
       2.220446049250313e-16,
       10
      ],
      [
       2.220446049250313e-16,
       10
      ],
      [
       2.220446049250313e-16,
       0.9999999999999998
      ]
     ],
     [
      [
       2.220446049250313e-16,
       0.9999999999999998
      ],
      [
       2.220446049250313e-16,
       0.9999999999999998
      ],
      [
       2.220446049250313e-16,
       0.9999999999999998
      ],
      [
       2.220446049250313e-16,
       0.9999999999999998
      ],
      [
       2.220446049250313e-16,
       0.9999999999999998
      ],
      [
       2.220446049250313e-16,
       0.9999999999999998
      ],
      [
       2.220446049250313e-16,
       100
      ],
      [
       2.220446049250313e-16,
       100
      ],
      [
       2.220446049250313e-16,
       0.9999999999999998
      ],
      [
       2.220446049250313e-16,
       10
      ],
      [
       2.220446049250313e-16,
       10
      ],
      [
       2.220446049250313e-16,
       0.9999999999999998
      ]
     ],
     [
      [
       2.220446049250313e-16,
       0.9999999999999998
      ],
      [
       2.220446049250313e-16,
       0.9999999999999998
      ],
      [
       2.220446049250313e-16,
       0.9999999999999998
      ],
      [
       2.220446049250313e-16,
       0.9999999999999998
      ],
      [
       2.220446049250313e-16,
       0.9999999999999998
      ],
      [
       2.220446049250313e-16,
       0.9999999999999998
      ],
      [
       2.220446049250313e-16,
       100
      ],
      [
       2.220446049250313e-16,
       100
      ],
      [
       2.220446049250313e-16,
       0.9999999999999998
      ],
      [
       2.220446049250313e-16,
       10
      ],
      [
       2.220446049250313e-16,
       10
      ],
      [
       2.220446049250313e-16,
       0.9999999999999998
      ]
     ]
    ],
    "data_path": "data/HowardKahana2005.csv",
    "fixed_parameters": [
     {},
     {
      "context_sensitivity": 1,
      "feature_sensitivity": 1,
      "learn_first": false
     },
     {
      "context_sensitivity": 1,
      "feature_sensitivity": 1,
      "learn_first": true
     },
     {
      "choice_sensitivity": 1,
      "feature_sensitivity": 1,
      "learn_first": false
     },
     {
      "choice_sensitivity": 1,
      "feature_sensitivity": 1,
      "learn_first": true
     }
    ],
    "free_parameters": [
     [
      "encoding_drift_rate",
      "start_drift_rate",
      "recall_drift_rate",
      "shared_support",
      "item_support",
      "learning_rate",
      "primacy_scale",
      "primacy_decay",
      "stop_probability_scale",
      "stop_probability_growth",
      "choice_sensitivity",
      "delay_drift_rate"
     ],
     [
      "encoding_drift_rate",
      "start_drift_rate",
      "recall_drift_rate",
      "shared_support",
      "item_support",
      "learning_rate",
      "primacy_scale",
      "primacy_decay",
      "stop_probability_scale",
      "stop_probability_growth",
      "choice_sensitivity",
      "delay_drift_rate"
     ],
     [
      "encoding_drift_rate",
      "start_drift_rate",
      "recall_drift_rate",
      "shared_support",
      "item_support",
      "learning_rate",
      "primacy_scale",
      "primacy_decay",
      "stop_probability_scale",
      "stop_probability_growth",
      "choice_sensitivity",
      "delay_drift_rate"
     ],
     [
      "encoding_drift_rate",
      "start_drift_rate",
      "recall_drift_rate",
      "shared_support",
      "item_support",
      "learning_rate",
      "primacy_scale",
      "primacy_decay",
      "stop_probability_scale",
      "stop_probability_growth",
      "context_sensitivity",
      "delay_drift_rate"
     ],
     [
      "encoding_drift_rate",
      "start_drift_rate",
      "recall_drift_rate",
      "shared_support",
      "item_support",
      "learning_rate",
      "primacy_scale",
      "primacy_decay",
      "stop_probability_scale",
      "stop_probability_growth",
      "context_sensitivity",
      "delay_drift_rate"
     ]
    ],
    "model_names": [
     "PrototypeCMR",
     "ICMR_2_0_0",
     "ICMR_2_0_1",
     "ICMR_2_1_0",
     "ICMR_2_1_1"
    ],
    "model_paths": [
     "compmemlearn.models.Base_CMR",
     "compmemlearn.models.Dual_ICMR",
     "compmemlearn.models.Dual_ICMR",
     "compmemlearn.models.Dual_ICMR",
     "compmemlearn.models.Dual_ICMR"
    ],
    "section_tag": "HowardKahana2005Cond0",
    "trial_query": "condition == 0"
   },
   "start_time": "2022-06-03T19:15:36.754706",
   "version": "2.3.4"
  }
 },
 "nbformat": 4,
 "nbformat_minor": 5
}
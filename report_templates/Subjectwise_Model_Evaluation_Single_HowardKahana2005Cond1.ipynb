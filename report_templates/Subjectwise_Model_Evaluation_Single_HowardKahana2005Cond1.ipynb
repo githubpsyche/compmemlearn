{
 "cells": [
  {
   "cell_type": "markdown",
   "id": "9844a545",
   "metadata": {
    "tags": [
     "papermill-error-cell-tag"
    ]
   },
   "source": [
    "<span style=\"color:red; font-family:Helvetica Neue, Helvetica, Arial, sans-serif; font-size:2em;\">An Exception was encountered at '<a href=\"#papermill-error-cell\">In [12]</a>'.</span>"
   ]
  },
  {
   "cell_type": "code",
   "execution_count": 1,
   "id": "be248fec",
   "metadata": {
    "execution": {
     "iopub.execute_input": "2022-05-31T19:25:29.344443Z",
     "iopub.status.busy": "2022-05-31T19:25:29.343622Z",
     "iopub.status.idle": "2022-05-31T19:26:35.309962Z",
     "shell.execute_reply": "2022-05-31T19:26:35.308665Z"
    },
    "papermill": {
     "duration": 66.00571,
     "end_time": "2022-05-31T19:26:35.313565",
     "exception": false,
     "start_time": "2022-05-31T19:25:29.307855",
     "status": "completed"
    },
    "tags": [
     "parameters"
    ]
   },
   "outputs": [],
   "source": [
    "# | code-summary: code -- load dependencies and data and select parameters\n",
    "\n",
    "from compmemlearn.fitting import generate_objective_function\n",
    "from compmemlearn.datasets import events_metadata, simulate_df, generate_trial_mask\n",
    "from scipy.optimize import differential_evolution\n",
    "from numba.typed import List, Dict\n",
    "from numba.core import types\n",
    "from numba import njit\n",
    "from psifr import fr\n",
    "import pandas as pd\n",
    "import numpy as np\n",
    "import seaborn as sns\n",
    "import matplotlib.pyplot as plt\n",
    "import importlib\n",
    "import os\n",
    "\n",
    "lb = np.finfo(float).eps\n",
    "ub = 1 - np.finfo(float).eps\n",
    "\n",
    "figure_caption = \"\"\"Distribution of log-likelihood scores of recall sequences exhibited by each subject in dataset under each considered model.\"\"\"\n",
    "\n",
    "section_tag = \"LohnasCondition1\"\n",
    "\n",
    "data_path = \"../data/LohnasKahana2014.csv\"\n",
    "results_path = \"results/\"\n",
    "trial_query = \"condition == 1\"\n",
    "\n",
    "model_paths = [\"compmemlearn.models.Classic_CMR\", \"compmemlearn.models.Instance_CMR\", \"compmemlearn.models.Dual_Instance_CMR\"]\n",
    "\n",
    "model_names = [\"PrototypeCMR\", \"InstanceCMR\", \"Dual Memory ICMR\"]\n",
    "\n",
    "free_parameters = [\n",
    "    [\n",
    "        \"encoding_drift_rate\",\n",
    "        \"start_drift_rate\",\n",
    "        \"recall_drift_rate\",\n",
    "        \"shared_support\",\n",
    "        \"item_support\",\n",
    "        \"learning_rate\",\n",
    "        \"primacy_scale\",\n",
    "        \"primacy_decay\",\n",
    "        \"stop_probability_scale\",\n",
    "        \"stop_probability_growth\",\n",
    "        \"choice_sensitivity\",\n",
    "        \"delay_drift_rate\",\n",
    "    ],\n",
    "    [\n",
    "        \"encoding_drift_rate\",\n",
    "        \"start_drift_rate\",\n",
    "        \"recall_drift_rate\",\n",
    "        \"shared_support\",\n",
    "        \"item_support\",\n",
    "        \"learning_rate\",\n",
    "        \"primacy_scale\",\n",
    "        \"primacy_decay\",\n",
    "        \"stop_probability_scale\",\n",
    "        \"stop_probability_growth\",\n",
    "        #    'choice_sensitivity',\n",
    "        \"context_sensitivity\",\n",
    "        #    'feature_sensitivity'\n",
    "        \"delay_drift_rate\",\n",
    "    ],\n",
    "    [\n",
    "        \"encoding_drift_rate\",\n",
    "        \"start_drift_rate\",\n",
    "        \"recall_drift_rate\",\n",
    "        \"shared_support\",\n",
    "        \"item_support\",\n",
    "        \"learning_rate\",\n",
    "        \"primacy_scale\",\n",
    "        \"primacy_decay\",\n",
    "        \"stop_probability_scale\",\n",
    "        \"stop_probability_growth\",\n",
    "        #    'choice_sensitivity',\n",
    "        \"context_sensitivity\",\n",
    "        #    'feature_sensitivity'\n",
    "        \"delay_drift_rate\",\n",
    "    ],\n",
    "]\n",
    "\n",
    "bounds = [\n",
    "    [\n",
    "        [lb, ub],\n",
    "        [lb, ub],\n",
    "        [lb, ub],\n",
    "        [lb, ub],\n",
    "        [lb, ub],\n",
    "        [lb, ub],\n",
    "        [lb, 100],\n",
    "        [lb, 100],\n",
    "        [lb, ub],\n",
    "        [lb, 10],\n",
    "        [lb, 10],\n",
    "        [lb, ub],\n",
    "    ],\n",
    "    [\n",
    "        [lb, ub],\n",
    "        [lb, ub],\n",
    "        [lb, ub],\n",
    "        [lb, ub],\n",
    "        [lb, ub],\n",
    "        [lb, ub],\n",
    "        [lb, 100],\n",
    "        [lb, 100],\n",
    "        [lb, ub],\n",
    "        [lb, 10],\n",
    "        [lb, 10],\n",
    "        [lb, ub],\n",
    "    ],\n",
    "    [\n",
    "        [lb, ub],\n",
    "        [lb, ub],\n",
    "        [lb, ub],\n",
    "        [lb, ub],\n",
    "        [lb, ub],\n",
    "        [lb, ub],\n",
    "        [lb, 100],\n",
    "        [lb, 100],\n",
    "        [lb, ub],\n",
    "        [lb, 10],\n",
    "        [lb, 10],\n",
    "        [lb, ub],\n",
    "    ],\n",
    "]\n",
    "\n",
    "fixed_parameters = [\n",
    "    {'sampling_rule': 0, 'mfc_familiarity_scale': 0, \n",
    "         'mcf_familiarity_scale': 0, 'drift_familiarity_scale': 0}, \n",
    "    {\"choice_sensitivity\": 1, \"feature_sensitivity\": 1, 'mfc_familiarity_scale': 0, \n",
    "         'mcf_familiarity_scale': 0, 'drift_familiarity_scale': 0},\n",
    "    {\"choice_sensitivity\": 1, \"feature_sensitivity\": 1, 'mfc_familiarity_scale': 0, \n",
    "         'mcf_familiarity_scale': 0, 'drift_familiarity_scale': 0},\n",
    "]\n",
    "\n",
    "analysis_paths = ['compmemlearn.analyses.plot_spc', 'compmemlearn.analyses.plot_crp', 'compmemlearn.analyses.plot_pfr']\n",
    "analysis_names = ['spc', 'crp', 'pfr']\n",
    "\n",
    "experiment_count = 100\n"
   ]
  },
  {
   "cell_type": "code",
   "execution_count": 2,
   "id": "68008e2d",
   "metadata": {
    "execution": {
     "iopub.execute_input": "2022-05-31T19:26:35.364511Z",
     "iopub.status.busy": "2022-05-31T19:26:35.364042Z",
     "iopub.status.idle": "2022-05-31T19:26:35.395435Z",
     "shell.execute_reply": "2022-05-31T19:26:35.394424Z"
    },
    "papermill": {
     "duration": 0.056385,
     "end_time": "2022-05-31T19:26:35.398172",
     "exception": false,
     "start_time": "2022-05-31T19:26:35.341787",
     "status": "completed"
    },
    "tags": [
     "injected-parameters"
    ]
   },
   "outputs": [],
   "source": [
    "# Parameters\n",
    "data_path = \"data/HowardKahana2005.csv\"\n",
    "trial_query = \"condition == 1\"\n",
    "model_paths = [\n",
    "    \"compmemlearn.models.Base_CMR\",\n",
    "    \"compmemlearn.models.Single_ICMR\",\n",
    "    \"compmemlearn.models.Single_ICMR\",\n",
    "    \"compmemlearn.models.Single_ICMR\",\n",
    "    \"compmemlearn.models.Single_ICMR\",\n",
    "]\n",
    "model_names = [\"PrototypeCMR\", \"ICMR_1_0_0\", \"ICMR_1_0_1\", \"ICMR_1_1_0\", \"ICMR_1_1_1\"]\n",
    "free_parameters = [\n",
    "    [\n",
    "        \"encoding_drift_rate\",\n",
    "        \"start_drift_rate\",\n",
    "        \"recall_drift_rate\",\n",
    "        \"shared_support\",\n",
    "        \"item_support\",\n",
    "        \"learning_rate\",\n",
    "        \"primacy_scale\",\n",
    "        \"primacy_decay\",\n",
    "        \"stop_probability_scale\",\n",
    "        \"stop_probability_growth\",\n",
    "        \"choice_sensitivity\",\n",
    "        \"delay_drift_rate\",\n",
    "    ],\n",
    "    [\n",
    "        \"encoding_drift_rate\",\n",
    "        \"start_drift_rate\",\n",
    "        \"recall_drift_rate\",\n",
    "        \"shared_support\",\n",
    "        \"item_support\",\n",
    "        \"learning_rate\",\n",
    "        \"primacy_scale\",\n",
    "        \"primacy_decay\",\n",
    "        \"stop_probability_scale\",\n",
    "        \"stop_probability_growth\",\n",
    "        \"choice_sensitivity\",\n",
    "        \"delay_drift_rate\",\n",
    "    ],\n",
    "    [\n",
    "        \"encoding_drift_rate\",\n",
    "        \"start_drift_rate\",\n",
    "        \"recall_drift_rate\",\n",
    "        \"shared_support\",\n",
    "        \"item_support\",\n",
    "        \"learning_rate\",\n",
    "        \"primacy_scale\",\n",
    "        \"primacy_decay\",\n",
    "        \"stop_probability_scale\",\n",
    "        \"stop_probability_growth\",\n",
    "        \"choice_sensitivity\",\n",
    "        \"delay_drift_rate\",\n",
    "    ],\n",
    "    [\n",
    "        \"encoding_drift_rate\",\n",
    "        \"start_drift_rate\",\n",
    "        \"recall_drift_rate\",\n",
    "        \"shared_support\",\n",
    "        \"item_support\",\n",
    "        \"learning_rate\",\n",
    "        \"primacy_scale\",\n",
    "        \"primacy_decay\",\n",
    "        \"stop_probability_scale\",\n",
    "        \"stop_probability_growth\",\n",
    "        \"context_sensitivity\",\n",
    "        \"delay_drift_rate\",\n",
    "    ],\n",
    "    [\n",
    "        \"encoding_drift_rate\",\n",
    "        \"start_drift_rate\",\n",
    "        \"recall_drift_rate\",\n",
    "        \"shared_support\",\n",
    "        \"item_support\",\n",
    "        \"learning_rate\",\n",
    "        \"primacy_scale\",\n",
    "        \"primacy_decay\",\n",
    "        \"stop_probability_scale\",\n",
    "        \"stop_probability_growth\",\n",
    "        \"context_sensitivity\",\n",
    "        \"delay_drift_rate\",\n",
    "    ],\n",
    "]\n",
    "bounds = [\n",
    "    [\n",
    "        [2.220446049250313e-16, 0.9999999999999998],\n",
    "        [2.220446049250313e-16, 0.9999999999999998],\n",
    "        [2.220446049250313e-16, 0.9999999999999998],\n",
    "        [2.220446049250313e-16, 0.9999999999999998],\n",
    "        [2.220446049250313e-16, 0.9999999999999998],\n",
    "        [2.220446049250313e-16, 0.9999999999999998],\n",
    "        [2.220446049250313e-16, 100],\n",
    "        [2.220446049250313e-16, 100],\n",
    "        [2.220446049250313e-16, 0.9999999999999998],\n",
    "        [2.220446049250313e-16, 10],\n",
    "        [2.220446049250313e-16, 10],\n",
    "        [2.220446049250313e-16, 0.9999999999999998],\n",
    "    ],\n",
    "    [\n",
    "        [2.220446049250313e-16, 0.9999999999999998],\n",
    "        [2.220446049250313e-16, 0.9999999999999998],\n",
    "        [2.220446049250313e-16, 0.9999999999999998],\n",
    "        [2.220446049250313e-16, 0.9999999999999998],\n",
    "        [2.220446049250313e-16, 0.9999999999999998],\n",
    "        [2.220446049250313e-16, 0.9999999999999998],\n",
    "        [2.220446049250313e-16, 100],\n",
    "        [2.220446049250313e-16, 100],\n",
    "        [2.220446049250313e-16, 0.9999999999999998],\n",
    "        [2.220446049250313e-16, 10],\n",
    "        [2.220446049250313e-16, 10],\n",
    "        [2.220446049250313e-16, 0.9999999999999998],\n",
    "    ],\n",
    "    [\n",
    "        [2.220446049250313e-16, 0.9999999999999998],\n",
    "        [2.220446049250313e-16, 0.9999999999999998],\n",
    "        [2.220446049250313e-16, 0.9999999999999998],\n",
    "        [2.220446049250313e-16, 0.9999999999999998],\n",
    "        [2.220446049250313e-16, 0.9999999999999998],\n",
    "        [2.220446049250313e-16, 0.9999999999999998],\n",
    "        [2.220446049250313e-16, 100],\n",
    "        [2.220446049250313e-16, 100],\n",
    "        [2.220446049250313e-16, 0.9999999999999998],\n",
    "        [2.220446049250313e-16, 10],\n",
    "        [2.220446049250313e-16, 10],\n",
    "        [2.220446049250313e-16, 0.9999999999999998],\n",
    "    ],\n",
    "    [\n",
    "        [2.220446049250313e-16, 0.9999999999999998],\n",
    "        [2.220446049250313e-16, 0.9999999999999998],\n",
    "        [2.220446049250313e-16, 0.9999999999999998],\n",
    "        [2.220446049250313e-16, 0.9999999999999998],\n",
    "        [2.220446049250313e-16, 0.9999999999999998],\n",
    "        [2.220446049250313e-16, 0.9999999999999998],\n",
    "        [2.220446049250313e-16, 100],\n",
    "        [2.220446049250313e-16, 100],\n",
    "        [2.220446049250313e-16, 0.9999999999999998],\n",
    "        [2.220446049250313e-16, 10],\n",
    "        [2.220446049250313e-16, 10],\n",
    "        [2.220446049250313e-16, 0.9999999999999998],\n",
    "    ],\n",
    "    [\n",
    "        [2.220446049250313e-16, 0.9999999999999998],\n",
    "        [2.220446049250313e-16, 0.9999999999999998],\n",
    "        [2.220446049250313e-16, 0.9999999999999998],\n",
    "        [2.220446049250313e-16, 0.9999999999999998],\n",
    "        [2.220446049250313e-16, 0.9999999999999998],\n",
    "        [2.220446049250313e-16, 0.9999999999999998],\n",
    "        [2.220446049250313e-16, 100],\n",
    "        [2.220446049250313e-16, 100],\n",
    "        [2.220446049250313e-16, 0.9999999999999998],\n",
    "        [2.220446049250313e-16, 10],\n",
    "        [2.220446049250313e-16, 10],\n",
    "        [2.220446049250313e-16, 0.9999999999999998],\n",
    "    ],\n",
    "]\n",
    "fixed_parameters = [\n",
    "    {},\n",
    "    {\"feature_sensitivity\": 1, \"context_sensitivity\": 1, \"learn_first\": False},\n",
    "    {\"feature_sensitivity\": 1, \"context_sensitivity\": 1, \"learn_first\": True},\n",
    "    {\"feature_sensitivity\": 1, \"choice_sensitivity\": 1, \"learn_first\": False},\n",
    "    {\"feature_sensitivity\": 1, \"choice_sensitivity\": 1, \"learn_first\": True},\n",
    "]\n",
    "section_tag = \"HowardKahana2005Cond1\"\n"
   ]
  },
  {
   "cell_type": "code",
   "execution_count": 3,
   "id": "aa340628",
   "metadata": {
    "execution": {
     "iopub.execute_input": "2022-05-31T19:26:35.440218Z",
     "iopub.status.busy": "2022-05-31T19:26:35.439606Z",
     "iopub.status.idle": "2022-05-31T19:28:55.128018Z",
     "shell.execute_reply": "2022-05-31T19:28:55.127129Z"
    },
    "papermill": {
     "duration": 139.713171,
     "end_time": "2022-05-31T19:28:55.130799",
     "exception": false,
     "start_time": "2022-05-31T19:26:35.417628",
     "status": "completed"
    },
    "tags": []
   },
   "outputs": [
    {
     "name": "stdout",
     "output_type": "stream",
     "text": [
      "<function lohnas_objective_function.<locals>.objective_function at 0x2aef8c369670>\n"
     ]
    },
    {
     "name": "stdout",
     "output_type": "stream",
     "text": [
      "254.09849171213256\n",
      "469.72744497173227\n"
     ]
    },
    {
     "name": "stdout",
     "output_type": "stream",
     "text": [
      "<function lohnas_objective_function.<locals>.objective_function at 0x2aef8dd26700>\n"
     ]
    },
    {
     "name": "stdout",
     "output_type": "stream",
     "text": [
      "254.09849171213256\n",
      "469.72744497173227\n",
      "<function lohnas_objective_function.<locals>.objective_function at 0x2aef8d056f70>\n"
     ]
    },
    {
     "name": "stdout",
     "output_type": "stream",
     "text": [
      "254.09849171213256\n",
      "469.72744497173227\n",
      "<function lohnas_objective_function.<locals>.objective_function at 0x2aef8e4f04c0>\n"
     ]
    },
    {
     "name": "stdout",
     "output_type": "stream",
     "text": [
      "254.09849171213256\n",
      "469.72744497173227\n",
      "<function lohnas_objective_function.<locals>.objective_function at 0x2aef8e06c820>\n"
     ]
    },
    {
     "name": "stdout",
     "output_type": "stream",
     "text": [
      "254.09849171213256\n",
      "469.72744497173227\n",
      "dependencies and parameters validated\n"
     ]
    }
   ],
   "source": [
    "#| code-summary: code -- test that specified parameters are valid\n",
    "#| output: false\n",
    "\n",
    "events = pd.read_csv(data_path)\n",
    "\n",
    "trials, list_lengths, presentations = events_metadata(events)\n",
    "trial_mask = generate_trial_mask(events, trial_query)\n",
    "\n",
    "# import models from specified source\n",
    "models = []\n",
    "for i in range(len(model_paths)):\n",
    "    module_name, model_name = model_paths[i].rsplit('.',1) #TODO: add handling for case with no `.`\n",
    "    module = importlib.import_module(module_name)\n",
    "    models.append(getattr(module, model_name))\n",
    "\n",
    "# import analyses from specified source\n",
    "analyses = []\n",
    "for i in range(len(analysis_paths)):\n",
    "    module_name, analysis_name = analysis_paths[i].rsplit('.',1) #TODO: add handling for case with no `.`\n",
    "    module = importlib.import_module(module_name)\n",
    "    analyses.append(getattr(module, analysis_name))\n",
    "\n",
    "# make sure model initializes with provided parameters and boundaries\n",
    "for model_index, model_class in enumerate(models):\n",
    "\n",
    "    @njit(fastmath=True, nogil=True)\n",
    "    def init_model(item_count, presentation_count, parameters):\n",
    "        return model_class(item_count, presentation_count, parameters)\n",
    "\n",
    "    subject_specific_trial_mask = np.logical_and(\n",
    "                generate_trial_mask(events, f'subject == {pd.unique(events.subject)[0]}'), trial_mask)\n",
    "\n",
    "    cost_function = generate_objective_function(\n",
    "        [trials[i][subject_specific_trial_mask[i]] for i in range(len(trials))],\n",
    "        [presentations[i][subject_specific_trial_mask[i]] for i in range(len(presentations))],\n",
    "        list_lengths,\n",
    "        init_model,\n",
    "        fixed_parameters[model_index],\n",
    "        free_parameters[model_index],\n",
    "    )\n",
    "    print(cost_function)\n",
    "    \n",
    "    for boundary_index in range(2):\n",
    "        x = np.array([each[boundary_index] for each in bounds[model_index]])\n",
    "        assert(len(x) == len(free_parameters[model_index])) \n",
    "\n",
    "        # parameter configuration\n",
    "        parameters = Dict.empty(key_type=types.unicode_type, value_type=types.float64)\n",
    "        for name, value in fixed_parameters[model_index].items():\n",
    "            parameters[name] = value\n",
    "        for i in range(len(free_parameters[model_index])):\n",
    "                parameters[free_parameters[model_index][i]] = x[i]\n",
    "\n",
    "        model = init_model(20, 20, parameters)\n",
    "        model.experience(model.items)\n",
    "        model.free_recall()\n",
    "\n",
    "        print(cost_function(x))\n",
    "print('dependencies and parameters validated')\n",
    "#print(trial_index, recall_index, recall, trial, likelihood[trial_index, recall_index], model.outcome_probabilities())"
   ]
  },
  {
   "cell_type": "code",
   "execution_count": 4,
   "id": "1b5d8361",
   "metadata": {
    "execution": {
     "iopub.execute_input": "2022-05-31T19:28:55.187727Z",
     "iopub.status.busy": "2022-05-31T19:28:55.187319Z",
     "iopub.status.idle": "2022-05-31T21:01:14.949732Z",
     "shell.execute_reply": "2022-05-31T21:01:14.948817Z"
    },
    "papermill": {
     "duration": 5539.890037,
     "end_time": "2022-05-31T21:01:15.052671",
     "exception": false,
     "start_time": "2022-05-31T19:28:55.162634",
     "status": "completed"
    },
    "tags": []
   },
   "outputs": [
    {
     "name": "stdout",
     "output_type": "stream",
     "text": [
      "individual fits for PrototypeCMR with tag HowardKahana2005Cond1 already exist\n",
      "ICMR_1_0_0, Subject 118\n"
     ]
    },
    {
     "name": "stdout",
     "output_type": "stream",
     "text": [
      "110.5654077697244\n",
      "ICMR_1_0_0, Subject 119\n"
     ]
    },
    {
     "name": "stdout",
     "output_type": "stream",
     "text": [
      "149.53187601395996\n",
      "ICMR_1_0_0, Subject 123\n"
     ]
    },
    {
     "name": "stdout",
     "output_type": "stream",
     "text": [
      "146.15065786756077\n",
      "ICMR_1_0_0, Subject 124\n"
     ]
    },
    {
     "name": "stdout",
     "output_type": "stream",
     "text": [
      "194.9738733531272\n",
      "ICMR_1_0_0, Subject 125\n"
     ]
    },
    {
     "name": "stdout",
     "output_type": "stream",
     "text": [
      "261.9956752843151\n",
      "ICMR_1_0_0, Subject 126\n"
     ]
    },
    {
     "name": "stdout",
     "output_type": "stream",
     "text": [
      "236.40722816010737\n",
      "ICMR_1_0_0, Subject 128\n"
     ]
    },
    {
     "name": "stdout",
     "output_type": "stream",
     "text": [
      "102.42793987902873\n",
      "ICMR_1_0_0, Subject 129\n"
     ]
    },
    {
     "name": "stdout",
     "output_type": "stream",
     "text": [
      "81.88302330831465\n",
      "ICMR_1_0_0, Subject 130\n"
     ]
    },
    {
     "name": "stdout",
     "output_type": "stream",
     "text": [
      "193.97504248871047\n",
      "ICMR_1_0_0, Subject 131\n"
     ]
    },
    {
     "name": "stdout",
     "output_type": "stream",
     "text": [
      "95.17116102190012\n",
      "ICMR_1_0_0, Subject 132\n"
     ]
    },
    {
     "name": "stdout",
     "output_type": "stream",
     "text": [
      "147.18398112204292\n",
      "ICMR_1_0_0, Subject 133\n"
     ]
    },
    {
     "name": "stdout",
     "output_type": "stream",
     "text": [
      "204.50247482506154\n",
      "ICMR_1_0_0, Subject 134\n"
     ]
    },
    {
     "name": "stdout",
     "output_type": "stream",
     "text": [
      "121.23365481831674\n",
      "ICMR_1_0_0, Subject 135\n"
     ]
    },
    {
     "name": "stdout",
     "output_type": "stream",
     "text": [
      "67.91776848612851\n",
      "ICMR_1_0_0, Subject 136\n"
     ]
    },
    {
     "name": "stdout",
     "output_type": "stream",
     "text": [
      "277.4374943951535\n",
      "ICMR_1_0_0, Subject 137\n"
     ]
    },
    {
     "name": "stdout",
     "output_type": "stream",
     "text": [
      "190.47223980988542\n",
      "ICMR_1_0_0, Subject 138\n"
     ]
    },
    {
     "name": "stdout",
     "output_type": "stream",
     "text": [
      "100.9432333344032\n",
      "ICMR_1_0_0, Subject 139\n"
     ]
    },
    {
     "name": "stdout",
     "output_type": "stream",
     "text": [
      "137.69994017255078\n",
      "ICMR_1_0_0, Subject 140\n"
     ]
    },
    {
     "name": "stdout",
     "output_type": "stream",
     "text": [
      "167.48810217753982\n",
      "ICMR_1_0_0, Subject 141\n"
     ]
    },
    {
     "name": "stdout",
     "output_type": "stream",
     "text": [
      "59.778256922813654\n",
      "ICMR_1_0_0, Subject 142\n"
     ]
    },
    {
     "name": "stdout",
     "output_type": "stream",
     "text": [
      "120.72997732770777\n",
      "ICMR_1_0_0, Subject 144\n"
     ]
    },
    {
     "name": "stdout",
     "output_type": "stream",
     "text": [
      "116.25778279902367\n",
      "ICMR_1_0_0, Subject 145\n"
     ]
    },
    {
     "name": "stdout",
     "output_type": "stream",
     "text": [
      "112.88301280635481\n",
      "ICMR_1_0_0, Subject 146\n"
     ]
    },
    {
     "name": "stdout",
     "output_type": "stream",
     "text": [
      "114.35276224774276\n",
      "ICMR_1_0_0, Subject 147\n"
     ]
    },
    {
     "name": "stdout",
     "output_type": "stream",
     "text": [
      "164.860080240871\n",
      "ICMR_1_0_0, Subject 148\n"
     ]
    },
    {
     "name": "stdout",
     "output_type": "stream",
     "text": [
      "87.46806475486295\n",
      "ICMR_1_0_0, Subject 149\n"
     ]
    },
    {
     "name": "stdout",
     "output_type": "stream",
     "text": [
      "202.31575617447\n",
      "ICMR_1_0_0, Subject 150\n"
     ]
    },
    {
     "name": "stdout",
     "output_type": "stream",
     "text": [
      "161.73619000766325\n",
      "ICMR_1_0_0, Subject 151\n"
     ]
    },
    {
     "name": "stdout",
     "output_type": "stream",
     "text": [
      "103.01966011377269\n",
      "ICMR_1_0_0, Subject 152\n"
     ]
    },
    {
     "name": "stdout",
     "output_type": "stream",
     "text": [
      "96.07635566010518\n",
      "ICMR_1_0_0, Subject 153\n"
     ]
    },
    {
     "name": "stdout",
     "output_type": "stream",
     "text": [
      "139.02299883788766\n",
      "ICMR_1_0_0, Subject 154\n"
     ]
    },
    {
     "name": "stdout",
     "output_type": "stream",
     "text": [
      "161.9135192030977\n",
      "ICMR_1_0_0, Subject 155\n"
     ]
    },
    {
     "name": "stdout",
     "output_type": "stream",
     "text": [
      "94.4667503903584\n",
      "ICMR_1_0_0, Subject 156\n"
     ]
    },
    {
     "name": "stdout",
     "output_type": "stream",
     "text": [
      "220.55996553239814\n",
      "ICMR_1_0_0, Subject 157\n"
     ]
    },
    {
     "name": "stdout",
     "output_type": "stream",
     "text": [
      "172.73798962283092\n",
      "ICMR_1_0_0, Subject 158\n"
     ]
    },
    {
     "name": "stdout",
     "output_type": "stream",
     "text": [
      "173.467439822955\n",
      "ICMR_1_0_0, Subject 159\n"
     ]
    },
    {
     "name": "stdout",
     "output_type": "stream",
     "text": [
      "247.5562061536402\n",
      "ICMR_1_0_0, Subject 160\n"
     ]
    },
    {
     "name": "stdout",
     "output_type": "stream",
     "text": [
      "138.53599144082247\n",
      "ICMR_1_0_0, Subject 161\n"
     ]
    },
    {
     "name": "stdout",
     "output_type": "stream",
     "text": [
      "86.82767809087703\n",
      "ICMR_1_0_0, Subject 162\n"
     ]
    },
    {
     "name": "stdout",
     "output_type": "stream",
     "text": [
      "102.21430877241801\n",
      "ICMR_1_0_0, Subject 163\n"
     ]
    },
    {
     "name": "stdout",
     "output_type": "stream",
     "text": [
      "155.91109173000208\n",
      "ICMR_1_0_0, Subject 164\n"
     ]
    },
    {
     "name": "stdout",
     "output_type": "stream",
     "text": [
      "144.65313866428409\n",
      "ICMR_1_0_0, Subject 165\n"
     ]
    },
    {
     "name": "stdout",
     "output_type": "stream",
     "text": [
      "228.6304170400957\n",
      "ICMR_1_0_0, Subject 166\n"
     ]
    },
    {
     "name": "stdout",
     "output_type": "stream",
     "text": [
      "129.53046435374856\n",
      "ICMR_1_0_0, Subject 167\n"
     ]
    },
    {
     "name": "stdout",
     "output_type": "stream",
     "text": [
      "298.6878061666801\n",
      "ICMR_1_0_0, Subject 168\n"
     ]
    },
    {
     "name": "stdout",
     "output_type": "stream",
     "text": [
      "101.66780518906495\n",
      "ICMR_1_0_0, Subject 169\n"
     ]
    },
    {
     "name": "stdout",
     "output_type": "stream",
     "text": [
      "178.7613452429499\n",
      "ICMR_1_0_0, Subject 170\n"
     ]
    },
    {
     "name": "stdout",
     "output_type": "stream",
     "text": [
      "91.87523768439272\n",
      "ICMR_1_0_0, Subject 171\n"
     ]
    },
    {
     "name": "stdout",
     "output_type": "stream",
     "text": [
      "114.78048900131088\n",
      "ICMR_1_0_0, Subject 172\n"
     ]
    },
    {
     "name": "stdout",
     "output_type": "stream",
     "text": [
      "133.4749520826157\n",
      "ICMR_1_0_0, Subject 173\n"
     ]
    },
    {
     "name": "stdout",
     "output_type": "stream",
     "text": [
      "86.1502348662794\n",
      "ICMR_1_0_0, Subject 174\n"
     ]
    },
    {
     "name": "stdout",
     "output_type": "stream",
     "text": [
      "177.68147222665226\n",
      "ICMR_1_0_0, Subject 175\n"
     ]
    },
    {
     "name": "stdout",
     "output_type": "stream",
     "text": [
      "188.80422363758228\n",
      "ICMR_1_0_0, Subject 176\n"
     ]
    },
    {
     "name": "stdout",
     "output_type": "stream",
     "text": [
      "158.5626824556436\n",
      "ICMR_1_0_0, Subject 177\n"
     ]
    },
    {
     "name": "stdout",
     "output_type": "stream",
     "text": [
      "140.21236925110114\n",
      "ICMR_1_0_0, Subject 178\n"
     ]
    },
    {
     "name": "stdout",
     "output_type": "stream",
     "text": [
      "162.44075892588307\n",
      "ICMR_1_0_0, Subject 179\n"
     ]
    },
    {
     "name": "stdout",
     "output_type": "stream",
     "text": [
      "176.47936866937042\n",
      "ICMR_1_0_0, Subject 180\n"
     ]
    },
    {
     "name": "stdout",
     "output_type": "stream",
     "text": [
      "147.78089557242066\n",
      "ICMR_1_0_0, Subject 300\n"
     ]
    },
    {
     "name": "stdout",
     "output_type": "stream",
     "text": [
      "141.4691949320843\n",
      "ICMR_1_0_0, Subject 301\n"
     ]
    },
    {
     "name": "stdout",
     "output_type": "stream",
     "text": [
      "112.62676699790647\n",
      "ICMR_1_0_0, Subject 302\n"
     ]
    },
    {
     "name": "stdout",
     "output_type": "stream",
     "text": [
      "142.1425484248993\n",
      "ICMR_1_0_0, Subject 311\n"
     ]
    },
    {
     "name": "stdout",
     "output_type": "stream",
     "text": [
      "178.89024394104544\n",
      "ICMR_1_0_0, Subject 312\n"
     ]
    },
    {
     "name": "stdout",
     "output_type": "stream",
     "text": [
      "162.8583945599272\n",
      "ICMR_1_0_0, Subject 313\n"
     ]
    },
    {
     "name": "stdout",
     "output_type": "stream",
     "text": [
      "265.96588218698446\n",
      "ICMR_1_0_0, Subject 314\n"
     ]
    },
    {
     "name": "stdout",
     "output_type": "stream",
     "text": [
      "190.11426413109527\n",
      "ICMR_1_0_0, Subject 315\n"
     ]
    },
    {
     "name": "stdout",
     "output_type": "stream",
     "text": [
      "221.20768247823855\n",
      "ICMR_1_0_1, Subject 118\n"
     ]
    },
    {
     "name": "stdout",
     "output_type": "stream",
     "text": [
      "112.50056434916208\n",
      "ICMR_1_0_1, Subject 119\n"
     ]
    },
    {
     "name": "stdout",
     "output_type": "stream",
     "text": [
      "151.930392068767\n",
      "ICMR_1_0_1, Subject 123\n"
     ]
    },
    {
     "name": "stdout",
     "output_type": "stream",
     "text": [
      "143.43083671000906\n",
      "ICMR_1_0_1, Subject 124\n"
     ]
    },
    {
     "name": "stdout",
     "output_type": "stream",
     "text": [
      "198.80865267438443\n",
      "ICMR_1_0_1, Subject 125\n"
     ]
    },
    {
     "name": "stdout",
     "output_type": "stream",
     "text": [
      "261.19691281755865\n",
      "ICMR_1_0_1, Subject 126\n"
     ]
    },
    {
     "name": "stdout",
     "output_type": "stream",
     "text": [
      "228.77339110778826\n",
      "ICMR_1_0_1, Subject 128\n"
     ]
    },
    {
     "name": "stdout",
     "output_type": "stream",
     "text": [
      "102.71638590212584\n",
      "ICMR_1_0_1, Subject 129\n"
     ]
    },
    {
     "name": "stdout",
     "output_type": "stream",
     "text": [
      "83.93083928247314\n",
      "ICMR_1_0_1, Subject 130\n"
     ]
    },
    {
     "name": "stdout",
     "output_type": "stream",
     "text": [
      "194.40230081434422\n",
      "ICMR_1_0_1, Subject 131\n"
     ]
    },
    {
     "name": "stdout",
     "output_type": "stream",
     "text": [
      "95.37675327117547\n",
      "ICMR_1_0_1, Subject 132\n"
     ]
    },
    {
     "name": "stdout",
     "output_type": "stream",
     "text": [
      "147.41417247320302\n",
      "ICMR_1_0_1, Subject 133\n"
     ]
    },
    {
     "name": "stdout",
     "output_type": "stream",
     "text": [
      "206.87499133589964\n",
      "ICMR_1_0_1, Subject 134\n"
     ]
    },
    {
     "name": "stdout",
     "output_type": "stream",
     "text": [
      "122.10737954836019\n",
      "ICMR_1_0_1, Subject 135\n"
     ]
    },
    {
     "name": "stdout",
     "output_type": "stream",
     "text": [
      "67.89304389609478\n",
      "ICMR_1_0_1, Subject 136\n"
     ]
    },
    {
     "name": "stdout",
     "output_type": "stream",
     "text": [
      "296.33328446985524\n",
      "ICMR_1_0_1, Subject 137\n"
     ]
    },
    {
     "name": "stdout",
     "output_type": "stream",
     "text": [
      "191.06026397612146\n",
      "ICMR_1_0_1, Subject 138\n"
     ]
    },
    {
     "name": "stdout",
     "output_type": "stream",
     "text": [
      "102.68466026510843\n",
      "ICMR_1_0_1, Subject 139\n"
     ]
    },
    {
     "name": "stdout",
     "output_type": "stream",
     "text": [
      "136.63431000401488\n",
      "ICMR_1_0_1, Subject 140\n"
     ]
    },
    {
     "name": "stdout",
     "output_type": "stream",
     "text": [
      "167.74905826536937\n",
      "ICMR_1_0_1, Subject 141\n"
     ]
    },
    {
     "name": "stdout",
     "output_type": "stream",
     "text": [
      "60.52582388560843\n",
      "ICMR_1_0_1, Subject 142\n"
     ]
    },
    {
     "name": "stdout",
     "output_type": "stream",
     "text": [
      "120.7771692854076\n",
      "ICMR_1_0_1, Subject 144\n"
     ]
    },
    {
     "name": "stdout",
     "output_type": "stream",
     "text": [
      "116.39467278875586\n",
      "ICMR_1_0_1, Subject 145\n"
     ]
    },
    {
     "name": "stdout",
     "output_type": "stream",
     "text": [
      "112.22552895636788\n",
      "ICMR_1_0_1, Subject 146\n"
     ]
    },
    {
     "name": "stdout",
     "output_type": "stream",
     "text": [
      "115.57210365073345\n",
      "ICMR_1_0_1, Subject 147\n"
     ]
    },
    {
     "name": "stdout",
     "output_type": "stream",
     "text": [
      "163.84915175679208\n",
      "ICMR_1_0_1, Subject 148\n"
     ]
    },
    {
     "name": "stdout",
     "output_type": "stream",
     "text": [
      "90.7965316149983\n",
      "ICMR_1_0_1, Subject 149\n"
     ]
    },
    {
     "name": "stdout",
     "output_type": "stream",
     "text": [
      "204.2828466222625\n",
      "ICMR_1_0_1, Subject 150\n"
     ]
    },
    {
     "name": "stdout",
     "output_type": "stream",
     "text": [
      "162.1870479932107\n",
      "ICMR_1_0_1, Subject 151\n"
     ]
    },
    {
     "name": "stdout",
     "output_type": "stream",
     "text": [
      "104.17507922920299\n",
      "ICMR_1_0_1, Subject 152\n"
     ]
    },
    {
     "name": "stdout",
     "output_type": "stream",
     "text": [
      "91.94112681743205\n",
      "ICMR_1_0_1, Subject 153\n"
     ]
    },
    {
     "name": "stdout",
     "output_type": "stream",
     "text": [
      "139.2660725116289\n",
      "ICMR_1_0_1, Subject 154\n"
     ]
    },
    {
     "name": "stdout",
     "output_type": "stream",
     "text": [
      "171.10751180934852\n",
      "ICMR_1_0_1, Subject 155\n"
     ]
    },
    {
     "name": "stdout",
     "output_type": "stream",
     "text": [
      "93.46991592306998\n",
      "ICMR_1_0_1, Subject 156\n"
     ]
    },
    {
     "name": "stdout",
     "output_type": "stream",
     "text": [
      "220.54985798388367\n",
      "ICMR_1_0_1, Subject 157\n"
     ]
    },
    {
     "name": "stdout",
     "output_type": "stream",
     "text": [
      "174.2247050763531\n",
      "ICMR_1_0_1, Subject 158\n"
     ]
    },
    {
     "name": "stdout",
     "output_type": "stream",
     "text": [
      "167.10708498614375\n",
      "ICMR_1_0_1, Subject 159\n"
     ]
    },
    {
     "name": "stdout",
     "output_type": "stream",
     "text": [
      "247.5562110435545\n",
      "ICMR_1_0_1, Subject 160\n"
     ]
    },
    {
     "name": "stdout",
     "output_type": "stream",
     "text": [
      "135.47570956553832\n",
      "ICMR_1_0_1, Subject 161\n"
     ]
    },
    {
     "name": "stdout",
     "output_type": "stream",
     "text": [
      "87.05446351114037\n",
      "ICMR_1_0_1, Subject 162\n"
     ]
    },
    {
     "name": "stdout",
     "output_type": "stream",
     "text": [
      "108.61117964107159\n",
      "ICMR_1_0_1, Subject 163\n"
     ]
    },
    {
     "name": "stdout",
     "output_type": "stream",
     "text": [
      "155.9112515688348\n",
      "ICMR_1_0_1, Subject 164\n"
     ]
    },
    {
     "name": "stdout",
     "output_type": "stream",
     "text": [
      "141.38626680979615\n",
      "ICMR_1_0_1, Subject 165\n"
     ]
    },
    {
     "name": "stdout",
     "output_type": "stream",
     "text": [
      "228.52971720336708\n",
      "ICMR_1_0_1, Subject 166\n"
     ]
    },
    {
     "name": "stdout",
     "output_type": "stream",
     "text": [
      "134.3750329435049\n",
      "ICMR_1_0_1, Subject 167\n"
     ]
    },
    {
     "name": "stdout",
     "output_type": "stream",
     "text": [
      "290.97795949172803\n",
      "ICMR_1_0_1, Subject 168\n"
     ]
    },
    {
     "name": "stdout",
     "output_type": "stream",
     "text": [
      "100.88775156393048\n",
      "ICMR_1_0_1, Subject 169\n"
     ]
    },
    {
     "name": "stdout",
     "output_type": "stream",
     "text": [
      "183.02963030468825\n",
      "ICMR_1_0_1, Subject 170\n"
     ]
    },
    {
     "name": "stdout",
     "output_type": "stream",
     "text": [
      "94.55571946417587\n",
      "ICMR_1_0_1, Subject 171\n"
     ]
    },
    {
     "name": "stdout",
     "output_type": "stream",
     "text": [
      "113.314972796491\n",
      "ICMR_1_0_1, Subject 172\n"
     ]
    },
    {
     "name": "stdout",
     "output_type": "stream",
     "text": [
      "135.26142700987\n",
      "ICMR_1_0_1, Subject 173\n"
     ]
    },
    {
     "name": "stdout",
     "output_type": "stream",
     "text": [
      "85.91313724078026\n",
      "ICMR_1_0_1, Subject 174\n"
     ]
    },
    {
     "name": "stdout",
     "output_type": "stream",
     "text": [
      "175.63712010472483\n",
      "ICMR_1_0_1, Subject 175\n"
     ]
    },
    {
     "name": "stdout",
     "output_type": "stream",
     "text": [
      "189.0923055196927\n",
      "ICMR_1_0_1, Subject 176\n"
     ]
    },
    {
     "name": "stdout",
     "output_type": "stream",
     "text": [
      "155.64589998583423\n",
      "ICMR_1_0_1, Subject 177\n"
     ]
    },
    {
     "name": "stdout",
     "output_type": "stream",
     "text": [
      "140.38353915749167\n",
      "ICMR_1_0_1, Subject 178\n"
     ]
    },
    {
     "name": "stdout",
     "output_type": "stream",
     "text": [
      "162.4408024240538\n",
      "ICMR_1_0_1, Subject 179\n"
     ]
    },
    {
     "name": "stdout",
     "output_type": "stream",
     "text": [
      "175.7505399942211\n",
      "ICMR_1_0_1, Subject 180\n"
     ]
    },
    {
     "name": "stdout",
     "output_type": "stream",
     "text": [
      "148.05780890774216\n",
      "ICMR_1_0_1, Subject 300\n"
     ]
    },
    {
     "name": "stdout",
     "output_type": "stream",
     "text": [
      "142.07788386133186\n",
      "ICMR_1_0_1, Subject 301\n"
     ]
    },
    {
     "name": "stdout",
     "output_type": "stream",
     "text": [
      "103.083942518443\n",
      "ICMR_1_0_1, Subject 302\n"
     ]
    },
    {
     "name": "stdout",
     "output_type": "stream",
     "text": [
      "142.05287693417364\n",
      "ICMR_1_0_1, Subject 311\n"
     ]
    },
    {
     "name": "stdout",
     "output_type": "stream",
     "text": [
      "178.8685089313566\n",
      "ICMR_1_0_1, Subject 312\n"
     ]
    },
    {
     "name": "stdout",
     "output_type": "stream",
     "text": [
      "171.10161452760846\n",
      "ICMR_1_0_1, Subject 313\n"
     ]
    },
    {
     "name": "stdout",
     "output_type": "stream",
     "text": [
      "265.89664877970927\n",
      "ICMR_1_0_1, Subject 314\n"
     ]
    },
    {
     "name": "stdout",
     "output_type": "stream",
     "text": [
      "190.9134486502801\n",
      "ICMR_1_0_1, Subject 315\n"
     ]
    },
    {
     "name": "stdout",
     "output_type": "stream",
     "text": [
      "227.11028226405688\n",
      "ICMR_1_1_0, Subject 118\n"
     ]
    },
    {
     "name": "stdout",
     "output_type": "stream",
     "text": [
      "112.71449154882484\n",
      "ICMR_1_1_0, Subject 119\n"
     ]
    },
    {
     "name": "stdout",
     "output_type": "stream",
     "text": [
      "151.64468245482624\n",
      "ICMR_1_1_0, Subject 123\n"
     ]
    },
    {
     "name": "stdout",
     "output_type": "stream",
     "text": [
      "148.70856160253987\n",
      "ICMR_1_1_0, Subject 124\n"
     ]
    },
    {
     "name": "stdout",
     "output_type": "stream",
     "text": [
      "200.01068142094206\n",
      "ICMR_1_1_0, Subject 125\n"
     ]
    },
    {
     "name": "stdout",
     "output_type": "stream",
     "text": [
      "268.1887026989349\n",
      "ICMR_1_1_0, Subject 126\n"
     ]
    },
    {
     "name": "stdout",
     "output_type": "stream",
     "text": [
      "241.56024903019883\n",
      "ICMR_1_1_0, Subject 128\n"
     ]
    },
    {
     "name": "stdout",
     "output_type": "stream",
     "text": [
      "103.00376161735434\n",
      "ICMR_1_1_0, Subject 129\n"
     ]
    },
    {
     "name": "stdout",
     "output_type": "stream",
     "text": [
      "81.14678478612214\n",
      "ICMR_1_1_0, Subject 130\n"
     ]
    },
    {
     "name": "stdout",
     "output_type": "stream",
     "text": [
      "217.582406934811\n",
      "ICMR_1_1_0, Subject 131\n"
     ]
    },
    {
     "name": "stdout",
     "output_type": "stream",
     "text": [
      "95.96503587218982\n",
      "ICMR_1_1_0, Subject 132\n"
     ]
    },
    {
     "name": "stdout",
     "output_type": "stream",
     "text": [
      "150.15244423825703\n",
      "ICMR_1_1_0, Subject 133\n"
     ]
    },
    {
     "name": "stdout",
     "output_type": "stream",
     "text": [
      "204.1184598646791\n",
      "ICMR_1_1_0, Subject 134\n"
     ]
    },
    {
     "name": "stdout",
     "output_type": "stream",
     "text": [
      "122.04262136729568\n",
      "ICMR_1_1_0, Subject 135\n"
     ]
    },
    {
     "name": "stdout",
     "output_type": "stream",
     "text": [
      "67.65695253747458\n",
      "ICMR_1_1_0, Subject 136\n"
     ]
    },
    {
     "name": "stdout",
     "output_type": "stream",
     "text": [
      "282.49025562128327\n",
      "ICMR_1_1_0, Subject 137\n"
     ]
    },
    {
     "name": "stdout",
     "output_type": "stream",
     "text": [
      "191.37355321615217\n",
      "ICMR_1_1_0, Subject 138\n"
     ]
    },
    {
     "name": "stdout",
     "output_type": "stream",
     "text": [
      "106.85412102359302\n",
      "ICMR_1_1_0, Subject 139\n"
     ]
    },
    {
     "name": "stdout",
     "output_type": "stream",
     "text": [
      "137.99498426500313\n",
      "ICMR_1_1_0, Subject 140\n"
     ]
    },
    {
     "name": "stdout",
     "output_type": "stream",
     "text": [
      "167.26130665639863\n",
      "ICMR_1_1_0, Subject 141\n"
     ]
    },
    {
     "name": "stdout",
     "output_type": "stream",
     "text": [
      "58.81955356816528\n",
      "ICMR_1_1_0, Subject 142\n"
     ]
    },
    {
     "name": "stdout",
     "output_type": "stream",
     "text": [
      "122.77320996488234\n",
      "ICMR_1_1_0, Subject 144\n"
     ]
    },
    {
     "name": "stdout",
     "output_type": "stream",
     "text": [
      "114.38236102986023\n",
      "ICMR_1_1_0, Subject 145\n"
     ]
    },
    {
     "name": "stdout",
     "output_type": "stream",
     "text": [
      "116.17172912810221\n",
      "ICMR_1_1_0, Subject 146\n"
     ]
    },
    {
     "name": "stdout",
     "output_type": "stream",
     "text": [
      "115.86405329488123\n",
      "ICMR_1_1_0, Subject 147\n"
     ]
    },
    {
     "name": "stdout",
     "output_type": "stream",
     "text": [
      "163.41356940525955\n",
      "ICMR_1_1_0, Subject 148\n"
     ]
    },
    {
     "name": "stdout",
     "output_type": "stream",
     "text": [
      "90.44057743449328\n",
      "ICMR_1_1_0, Subject 149\n"
     ]
    },
    {
     "name": "stdout",
     "output_type": "stream",
     "text": [
      "202.47728859037542\n",
      "ICMR_1_1_0, Subject 150\n"
     ]
    },
    {
     "name": "stdout",
     "output_type": "stream",
     "text": [
      "163.74812910945687\n",
      "ICMR_1_1_0, Subject 151\n"
     ]
    },
    {
     "name": "stdout",
     "output_type": "stream",
     "text": [
      "102.32142287950899\n",
      "ICMR_1_1_0, Subject 152\n"
     ]
    },
    {
     "name": "stdout",
     "output_type": "stream",
     "text": [
      "96.68036629141587\n",
      "ICMR_1_1_0, Subject 153\n"
     ]
    },
    {
     "name": "stdout",
     "output_type": "stream",
     "text": [
      "138.65034322688928\n",
      "ICMR_1_1_0, Subject 154\n"
     ]
    },
    {
     "name": "stdout",
     "output_type": "stream",
     "text": [
      "162.10362377569868\n",
      "ICMR_1_1_0, Subject 155\n"
     ]
    },
    {
     "name": "stdout",
     "output_type": "stream",
     "text": [
      "96.98180951672691\n",
      "ICMR_1_1_0, Subject 156\n"
     ]
    },
    {
     "name": "stdout",
     "output_type": "stream",
     "text": [
      "236.9347805193851\n",
      "ICMR_1_1_0, Subject 157\n"
     ]
    },
    {
     "name": "stdout",
     "output_type": "stream",
     "text": [
      "173.8696919494313\n",
      "ICMR_1_1_0, Subject 158\n"
     ]
    },
    {
     "name": "stdout",
     "output_type": "stream",
     "text": [
      "167.5560799172269\n",
      "ICMR_1_1_0, Subject 159\n"
     ]
    },
    {
     "name": "stdout",
     "output_type": "stream",
     "text": [
      "252.61588693373292\n",
      "ICMR_1_1_0, Subject 160\n"
     ]
    },
    {
     "name": "stdout",
     "output_type": "stream",
     "text": [
      "139.08182307327118\n",
      "ICMR_1_1_0, Subject 161\n"
     ]
    },
    {
     "name": "stdout",
     "output_type": "stream",
     "text": [
      "86.2170115616693\n",
      "ICMR_1_1_0, Subject 162\n"
     ]
    },
    {
     "name": "stdout",
     "output_type": "stream",
     "text": [
      "101.76549386793822\n",
      "ICMR_1_1_0, Subject 163\n"
     ]
    },
    {
     "name": "stdout",
     "output_type": "stream",
     "text": [
      "157.72460147599293\n",
      "ICMR_1_1_0, Subject 164\n"
     ]
    },
    {
     "name": "stdout",
     "output_type": "stream",
     "text": [
      "141.89485790868255\n",
      "ICMR_1_1_0, Subject 165\n"
     ]
    },
    {
     "name": "stdout",
     "output_type": "stream",
     "text": [
      "228.37502975426474\n",
      "ICMR_1_1_0, Subject 166\n"
     ]
    },
    {
     "name": "stdout",
     "output_type": "stream",
     "text": [
      "128.22563422762167\n",
      "ICMR_1_1_0, Subject 167\n"
     ]
    },
    {
     "name": "stdout",
     "output_type": "stream",
     "text": [
      "298.7752691499428\n",
      "ICMR_1_1_0, Subject 168\n"
     ]
    },
    {
     "name": "stdout",
     "output_type": "stream",
     "text": [
      "100.75975160757838\n",
      "ICMR_1_1_0, Subject 169\n"
     ]
    },
    {
     "name": "stdout",
     "output_type": "stream",
     "text": [
      "179.68020062995032\n",
      "ICMR_1_1_0, Subject 170\n"
     ]
    },
    {
     "name": "stdout",
     "output_type": "stream",
     "text": [
      "93.90625684745143\n",
      "ICMR_1_1_0, Subject 171\n"
     ]
    },
    {
     "name": "stdout",
     "output_type": "stream",
     "text": [
      "116.87153338946412\n",
      "ICMR_1_1_0, Subject 172\n"
     ]
    },
    {
     "name": "stdout",
     "output_type": "stream",
     "text": [
      "135.74677387379478\n",
      "ICMR_1_1_0, Subject 173\n"
     ]
    },
    {
     "name": "stdout",
     "output_type": "stream",
     "text": [
      "85.1590237590558\n",
      "ICMR_1_1_0, Subject 174\n"
     ]
    },
    {
     "name": "stdout",
     "output_type": "stream",
     "text": [
      "175.1589346030305\n",
      "ICMR_1_1_0, Subject 175\n"
     ]
    },
    {
     "name": "stdout",
     "output_type": "stream",
     "text": [
      "189.3516643393545\n",
      "ICMR_1_1_0, Subject 176\n"
     ]
    },
    {
     "name": "stdout",
     "output_type": "stream",
     "text": [
      "153.88814866298085\n",
      "ICMR_1_1_0, Subject 177\n"
     ]
    },
    {
     "name": "stdout",
     "output_type": "stream",
     "text": [
      "140.43160289646517\n",
      "ICMR_1_1_0, Subject 178\n"
     ]
    },
    {
     "name": "stdout",
     "output_type": "stream",
     "text": [
      "162.62542605206505\n",
      "ICMR_1_1_0, Subject 179\n"
     ]
    },
    {
     "name": "stdout",
     "output_type": "stream",
     "text": [
      "180.7647743328122\n",
      "ICMR_1_1_0, Subject 180\n"
     ]
    },
    {
     "name": "stdout",
     "output_type": "stream",
     "text": [
      "147.86170251481894\n",
      "ICMR_1_1_0, Subject 300\n"
     ]
    },
    {
     "name": "stdout",
     "output_type": "stream",
     "text": [
      "141.81359248399335\n",
      "ICMR_1_1_0, Subject 301\n"
     ]
    },
    {
     "name": "stdout",
     "output_type": "stream",
     "text": [
      "104.845120163418\n",
      "ICMR_1_1_0, Subject 302\n"
     ]
    },
    {
     "name": "stdout",
     "output_type": "stream",
     "text": [
      "141.84463498698872\n",
      "ICMR_1_1_0, Subject 311\n"
     ]
    },
    {
     "name": "stdout",
     "output_type": "stream",
     "text": [
      "179.1532249843243\n",
      "ICMR_1_1_0, Subject 312\n"
     ]
    },
    {
     "name": "stdout",
     "output_type": "stream",
     "text": [
      "166.25519330290012\n",
      "ICMR_1_1_0, Subject 313\n"
     ]
    },
    {
     "name": "stdout",
     "output_type": "stream",
     "text": [
      "265.5330138673968\n",
      "ICMR_1_1_0, Subject 314\n"
     ]
    },
    {
     "name": "stdout",
     "output_type": "stream",
     "text": [
      "191.8777823650358\n",
      "ICMR_1_1_0, Subject 315\n"
     ]
    },
    {
     "name": "stdout",
     "output_type": "stream",
     "text": [
      "226.38498604873254\n",
      "ICMR_1_1_1, Subject 118\n"
     ]
    },
    {
     "name": "stdout",
     "output_type": "stream",
     "text": [
      "109.85559898129684\n",
      "ICMR_1_1_1, Subject 119\n"
     ]
    },
    {
     "name": "stdout",
     "output_type": "stream",
     "text": [
      "150.13512941168634\n",
      "ICMR_1_1_1, Subject 123\n"
     ]
    },
    {
     "name": "stdout",
     "output_type": "stream",
     "text": [
      "145.54720792487572\n",
      "ICMR_1_1_1, Subject 124\n"
     ]
    },
    {
     "name": "stdout",
     "output_type": "stream",
     "text": [
      "192.85512204083977\n",
      "ICMR_1_1_1, Subject 125\n"
     ]
    },
    {
     "name": "stdout",
     "output_type": "stream",
     "text": [
      "267.1806788856385\n",
      "ICMR_1_1_1, Subject 126\n"
     ]
    },
    {
     "name": "stdout",
     "output_type": "stream",
     "text": [
      "230.11587875219422\n",
      "ICMR_1_1_1, Subject 128\n"
     ]
    },
    {
     "name": "stdout",
     "output_type": "stream",
     "text": [
      "102.9060844098262\n",
      "ICMR_1_1_1, Subject 129\n"
     ]
    },
    {
     "name": "stdout",
     "output_type": "stream",
     "text": [
      "81.5658766741265\n",
      "ICMR_1_1_1, Subject 130\n"
     ]
    },
    {
     "name": "stdout",
     "output_type": "stream",
     "text": [
      "194.80754007126453\n",
      "ICMR_1_1_1, Subject 131\n"
     ]
    },
    {
     "name": "stdout",
     "output_type": "stream",
     "text": [
      "94.98892290590689\n",
      "ICMR_1_1_1, Subject 132\n"
     ]
    },
    {
     "name": "stdout",
     "output_type": "stream",
     "text": [
      "143.92746631661433\n",
      "ICMR_1_1_1, Subject 133\n"
     ]
    },
    {
     "name": "stdout",
     "output_type": "stream",
     "text": [
      "205.96492477102626\n",
      "ICMR_1_1_1, Subject 134\n"
     ]
    },
    {
     "name": "stdout",
     "output_type": "stream",
     "text": [
      "121.48125436132086\n",
      "ICMR_1_1_1, Subject 135\n"
     ]
    },
    {
     "name": "stdout",
     "output_type": "stream",
     "text": [
      "67.8545340232019\n",
      "ICMR_1_1_1, Subject 136\n"
     ]
    },
    {
     "name": "stdout",
     "output_type": "stream",
     "text": [
      "278.7579776931255\n",
      "ICMR_1_1_1, Subject 137\n"
     ]
    },
    {
     "name": "stdout",
     "output_type": "stream",
     "text": [
      "191.15229388143473\n",
      "ICMR_1_1_1, Subject 138\n"
     ]
    },
    {
     "name": "stdout",
     "output_type": "stream",
     "text": [
      "101.5879019560234\n",
      "ICMR_1_1_1, Subject 139\n"
     ]
    },
    {
     "name": "stdout",
     "output_type": "stream",
     "text": [
      "135.6690685971837\n",
      "ICMR_1_1_1, Subject 140\n"
     ]
    },
    {
     "name": "stdout",
     "output_type": "stream",
     "text": [
      "164.2598345598359\n",
      "ICMR_1_1_1, Subject 141\n"
     ]
    },
    {
     "name": "stdout",
     "output_type": "stream",
     "text": [
      "57.73993290066119\n",
      "ICMR_1_1_1, Subject 142\n"
     ]
    },
    {
     "name": "stdout",
     "output_type": "stream",
     "text": [
      "121.89141268326009\n",
      "ICMR_1_1_1, Subject 144\n"
     ]
    },
    {
     "name": "stdout",
     "output_type": "stream",
     "text": [
      "112.75052683937786\n",
      "ICMR_1_1_1, Subject 145\n"
     ]
    },
    {
     "name": "stdout",
     "output_type": "stream",
     "text": [
      "113.82449055229408\n",
      "ICMR_1_1_1, Subject 146\n"
     ]
    },
    {
     "name": "stdout",
     "output_type": "stream",
     "text": [
      "114.28334057544312\n",
      "ICMR_1_1_1, Subject 147\n"
     ]
    },
    {
     "name": "stdout",
     "output_type": "stream",
     "text": [
      "165.1997141817285\n",
      "ICMR_1_1_1, Subject 148\n"
     ]
    },
    {
     "name": "stdout",
     "output_type": "stream",
     "text": [
      "87.84427175746069\n",
      "ICMR_1_1_1, Subject 149\n"
     ]
    },
    {
     "name": "stdout",
     "output_type": "stream",
     "text": [
      "202.62649705618028\n",
      "ICMR_1_1_1, Subject 150\n"
     ]
    },
    {
     "name": "stdout",
     "output_type": "stream",
     "text": [
      "163.80361191386137\n",
      "ICMR_1_1_1, Subject 151\n"
     ]
    },
    {
     "name": "stdout",
     "output_type": "stream",
     "text": [
      "103.48685554086217\n",
      "ICMR_1_1_1, Subject 152\n"
     ]
    },
    {
     "name": "stdout",
     "output_type": "stream",
     "text": [
      "88.65412147665494\n",
      "ICMR_1_1_1, Subject 153\n"
     ]
    },
    {
     "name": "stdout",
     "output_type": "stream",
     "text": [
      "140.69062997901852\n",
      "ICMR_1_1_1, Subject 154\n"
     ]
    },
    {
     "name": "stdout",
     "output_type": "stream",
     "text": [
      "162.74591769488353\n",
      "ICMR_1_1_1, Subject 155\n"
     ]
    },
    {
     "name": "stdout",
     "output_type": "stream",
     "text": [
      "94.3082995061171\n",
      "ICMR_1_1_1, Subject 156\n"
     ]
    },
    {
     "name": "stdout",
     "output_type": "stream",
     "text": [
      "223.52705764426065\n",
      "ICMR_1_1_1, Subject 157\n"
     ]
    },
    {
     "name": "stdout",
     "output_type": "stream",
     "text": [
      "171.46736320104037\n",
      "ICMR_1_1_1, Subject 158\n"
     ]
    },
    {
     "name": "stdout",
     "output_type": "stream",
     "text": [
      "166.80965752259402\n",
      "ICMR_1_1_1, Subject 159\n"
     ]
    },
    {
     "name": "stdout",
     "output_type": "stream",
     "text": [
      "247.91211554834913\n",
      "ICMR_1_1_1, Subject 160\n"
     ]
    },
    {
     "name": "stdout",
     "output_type": "stream",
     "text": [
      "136.03194790480447\n",
      "ICMR_1_1_1, Subject 161\n"
     ]
    },
    {
     "name": "stdout",
     "output_type": "stream",
     "text": [
      "87.9008900469375\n",
      "ICMR_1_1_1, Subject 162\n"
     ]
    },
    {
     "name": "stdout",
     "output_type": "stream",
     "text": [
      "101.39480214504746\n",
      "ICMR_1_1_1, Subject 163\n"
     ]
    },
    {
     "name": "stdout",
     "output_type": "stream",
     "text": [
      "156.42730350232767\n",
      "ICMR_1_1_1, Subject 164\n"
     ]
    },
    {
     "name": "stdout",
     "output_type": "stream",
     "text": [
      "141.30628150125395\n",
      "ICMR_1_1_1, Subject 165\n"
     ]
    },
    {
     "name": "stdout",
     "output_type": "stream",
     "text": [
      "222.8039057323775\n",
      "ICMR_1_1_1, Subject 166\n"
     ]
    },
    {
     "name": "stdout",
     "output_type": "stream",
     "text": [
      "130.05804953635763\n",
      "ICMR_1_1_1, Subject 167\n"
     ]
    },
    {
     "name": "stdout",
     "output_type": "stream",
     "text": [
      "284.5690591672441\n",
      "ICMR_1_1_1, Subject 168\n"
     ]
    },
    {
     "name": "stdout",
     "output_type": "stream",
     "text": [
      "100.35948971258405\n",
      "ICMR_1_1_1, Subject 169\n"
     ]
    },
    {
     "name": "stdout",
     "output_type": "stream",
     "text": [
      "181.44587556123284\n",
      "ICMR_1_1_1, Subject 170\n"
     ]
    },
    {
     "name": "stdout",
     "output_type": "stream",
     "text": [
      "93.36454285641831\n",
      "ICMR_1_1_1, Subject 171\n"
     ]
    },
    {
     "name": "stdout",
     "output_type": "stream",
     "text": [
      "116.9734766536245\n",
      "ICMR_1_1_1, Subject 172\n"
     ]
    },
    {
     "name": "stdout",
     "output_type": "stream",
     "text": [
      "132.15383092098753\n",
      "ICMR_1_1_1, Subject 173\n"
     ]
    },
    {
     "name": "stdout",
     "output_type": "stream",
     "text": [
      "84.99761488853883\n",
      "ICMR_1_1_1, Subject 174\n"
     ]
    },
    {
     "name": "stdout",
     "output_type": "stream",
     "text": [
      "174.25267373604117\n",
      "ICMR_1_1_1, Subject 175\n"
     ]
    },
    {
     "name": "stdout",
     "output_type": "stream",
     "text": [
      "189.48237644997812\n",
      "ICMR_1_1_1, Subject 176\n"
     ]
    },
    {
     "name": "stdout",
     "output_type": "stream",
     "text": [
      "157.28426272087728\n",
      "ICMR_1_1_1, Subject 177\n"
     ]
    },
    {
     "name": "stdout",
     "output_type": "stream",
     "text": [
      "141.80332429952858\n",
      "ICMR_1_1_1, Subject 178\n"
     ]
    },
    {
     "name": "stdout",
     "output_type": "stream",
     "text": [
      "162.85820306146007\n",
      "ICMR_1_1_1, Subject 179\n"
     ]
    },
    {
     "name": "stdout",
     "output_type": "stream",
     "text": [
      "174.9644344539536\n",
      "ICMR_1_1_1, Subject 180\n"
     ]
    },
    {
     "name": "stdout",
     "output_type": "stream",
     "text": [
      "147.59659283703718\n",
      "ICMR_1_1_1, Subject 300\n"
     ]
    },
    {
     "name": "stdout",
     "output_type": "stream",
     "text": [
      "141.26325703013444\n",
      "ICMR_1_1_1, Subject 301\n"
     ]
    },
    {
     "name": "stdout",
     "output_type": "stream",
     "text": [
      "100.4999390160668\n",
      "ICMR_1_1_1, Subject 302\n"
     ]
    },
    {
     "name": "stdout",
     "output_type": "stream",
     "text": [
      "142.3506175432955\n",
      "ICMR_1_1_1, Subject 311\n"
     ]
    },
    {
     "name": "stdout",
     "output_type": "stream",
     "text": [
      "178.44809430537185\n",
      "ICMR_1_1_1, Subject 312\n"
     ]
    },
    {
     "name": "stdout",
     "output_type": "stream",
     "text": [
      "165.05659890936647\n",
      "ICMR_1_1_1, Subject 313\n"
     ]
    },
    {
     "name": "stdout",
     "output_type": "stream",
     "text": [
      "264.5709273962843\n",
      "ICMR_1_1_1, Subject 314\n"
     ]
    },
    {
     "name": "stdout",
     "output_type": "stream",
     "text": [
      "189.6647497983608\n",
      "ICMR_1_1_1, Subject 315\n"
     ]
    },
    {
     "name": "stdout",
     "output_type": "stream",
     "text": [
      "221.20360751537626\n"
     ]
    }
   ],
   "source": [
    "# | code-summary: code -- 1) fit each model class participant-by-participant\n",
    "# | output: false\n",
    "\n",
    "for model_index, model_class in enumerate(models):\n",
    "\n",
    "    # load individual fits for this model and section tag from csv if they exist\n",
    "    if os.path.isfile(results_path + '{}_{}_individual.csv'.format(section_tag, model_names[model_index])):\n",
    "        pd.read_csv(results_path + '{}_{}_individual.csv'.format(section_tag, model_names[model_index]))\n",
    "        print('individual fits for {} with tag {} already exist'.format(model_names[model_index], section_tag))\n",
    "\n",
    "    # otherwise, fit each participant individually\n",
    "    else:\n",
    "        model_individual_fits = []\n",
    "\n",
    "        @njit(fastmath=True, nogil=True)\n",
    "        def init_model(item_count, presentation_count, parameters):\n",
    "            return model_class(item_count, presentation_count, parameters)\n",
    "\n",
    "        for subject in pd.unique(events.subject):\n",
    "            print(f'{model_names[model_index]}, Subject {subject}')\n",
    "\n",
    "            subject_specific_trial_mask = np.logical_and(\n",
    "                generate_trial_mask(events, f'subject == {subject}'), trial_mask)\n",
    "            \n",
    "            try:\n",
    "                # cost function to be minimized\n",
    "                # ours scales inversely with the probability that the data could have been\n",
    "                # generated using the specified parameters and our model\n",
    "                cost_function = generate_objective_function(\n",
    "                    [trials[i][subject_specific_trial_mask[i]] for i in range(len(trials))],\n",
    "                    [presentations[i][subject_specific_trial_mask[i]] for i in range(len(presentations))],\n",
    "                    list_lengths,\n",
    "                    init_model,\n",
    "                    fixed_parameters[model_index],\n",
    "                    free_parameters[model_index],\n",
    "                )\n",
    "            except ValueError:\n",
    "                continue\n",
    "\n",
    "            fit_result =  differential_evolution(cost_function, bounds[model_index], disp=False)\n",
    "\n",
    "            fitted_parameters = {\n",
    "                'subject': subject, 'trial_count': np.sum(subject_specific_trial_mask), \n",
    "                'likelihood': fit_result.fun, 'model': model_names[model_index]\n",
    "                }\n",
    "            for i in range(len(fit_result.x)):\n",
    "                fitted_parameters[free_parameters[model_index][i]] = fit_result.x[i]\n",
    "            for key in fixed_parameters[model_index]:\n",
    "                fitted_parameters[key] = fixed_parameters[model_index][key]\n",
    "\n",
    "            model_individual_fits.append(pd.DataFrame.from_dict(fitted_parameters, orient='index').T)\n",
    "            print(model_individual_fits[-1]['likelihood'][0])\n",
    "\n",
    "        model_individual_fits = pd.concat(model_individual_fits, ignore_index=True)\n",
    "        model_individual_fits.to_csv(\n",
    "            results_path + '{}_{}_individual.csv'.format(section_tag, model_names[model_index]), index=False)"
   ]
  },
  {
   "cell_type": "code",
   "execution_count": 5,
   "id": "96697634",
   "metadata": {
    "execution": {
     "iopub.execute_input": "2022-05-31T21:01:15.251047Z",
     "iopub.status.busy": "2022-05-31T21:01:15.250573Z",
     "iopub.status.idle": "2022-05-31T21:01:16.161406Z",
     "shell.execute_reply": "2022-05-31T21:01:16.160338Z"
    },
    "papermill": {
     "duration": 1.012928,
     "end_time": "2022-05-31T21:01:16.163339",
     "exception": false,
     "start_time": "2022-05-31T21:01:15.150411",
     "status": "completed"
    },
    "tags": []
   },
   "outputs": [
    {
     "data": {
      "text/plain": [
       "Text(7.694444444444452, 0.5, 'Individual Log-Likelihood')"
      ]
     },
     "execution_count": 5,
     "metadata": {},
     "output_type": "execute_result"
    },
    {
     "data": {
      "image/png": "[encoded data removed]",
      "text/plain": [
       "<Figure size 500x500 with 1 Axes>"
      ]
     },
     "metadata": {},
     "output_type": "display_data"
    }
   ],
   "source": [
    "#| code-summary: code -- 3) plot distribution of log-likelihoods across individual subjects\n",
    "\n",
    "plt.style.use('default')\n",
    "sns.set(style=\"darkgrid\")\n",
    "\n",
    "# build individual fits df concatenating results from each model\n",
    "individual_fits = []\n",
    "for model_index, model_class in enumerate(models):\n",
    "    individual_fits.append(\n",
    "        pd.read_csv(results_path + '{}_{}_individual.csv'.format(section_tag, model_names[model_index])))\n",
    "individual_fits = pd.concat(individual_fits, ignore_index=True)\n",
    "\n",
    "# plot distribution of log-likelihoods across individual subjects\n",
    "g = sns.catplot(x='model', y='likelihood', data=individual_fits, kind='violin', inner='stick')\n",
    "sns.swarmplot(x=\"model\", y=\"likelihood\", data=individual_fits, color=\"k\", size=3, ax=g.ax)\n",
    "g.ax.set_ylabel('Individual Log-Likelihood')\n",
    "#plt.savefig(results_path + 'individual_{}.pdf'.format(section_tag), bbox_inches=\"tight\")"
   ]
  },
  {
   "cell_type": "code",
   "execution_count": 6,
   "id": "5643509e",
   "metadata": {
    "execution": {
     "iopub.execute_input": "2022-05-31T21:01:16.373828Z",
     "iopub.status.busy": "2022-05-31T21:01:16.373351Z",
     "iopub.status.idle": "2022-05-31T21:01:16.423734Z",
     "shell.execute_reply": "2022-05-31T21:01:16.422805Z"
    },
    "papermill": {
     "duration": 0.157835,
     "end_time": "2022-05-31T21:01:16.426690",
     "exception": false,
     "start_time": "2022-05-31T21:01:16.268855",
     "status": "completed"
    },
    "tags": []
   },
   "outputs": [
    {
     "data": {
      "text/html": [
       "<div>\n",
       "<style scoped>\n",
       "    .dataframe tbody tr th:only-of-type {\n",
       "        vertical-align: middle;\n",
       "    }\n",
       "\n",
       "    .dataframe tbody tr th {\n",
       "        vertical-align: top;\n",
       "    }\n",
       "\n",
       "    .dataframe thead th {\n",
       "        text-align: right;\n",
       "    }\n",
       "</style>\n",
       "<table border=\"1\" class=\"dataframe\">\n",
       "  <thead>\n",
       "    <tr style=\"text-align: right;\">\n",
       "      <th></th>\n",
       "      <th>subject</th>\n",
       "      <th>trial_count</th>\n",
       "      <th>likelihood</th>\n",
       "      <th>model</th>\n",
       "      <th>encoding_drift_rate</th>\n",
       "      <th>start_drift_rate</th>\n",
       "      <th>recall_drift_rate</th>\n",
       "      <th>shared_support</th>\n",
       "      <th>item_support</th>\n",
       "      <th>learning_rate</th>\n",
       "      <th>primacy_scale</th>\n",
       "      <th>primacy_decay</th>\n",
       "      <th>stop_probability_scale</th>\n",
       "      <th>stop_probability_growth</th>\n",
       "      <th>choice_sensitivity</th>\n",
       "      <th>delay_drift_rate</th>\n",
       "      <th>feature_sensitivity</th>\n",
       "      <th>context_sensitivity</th>\n",
       "      <th>learn_first</th>\n",
       "    </tr>\n",
       "  </thead>\n",
       "  <tbody>\n",
       "    <tr>\n",
       "      <th>0</th>\n",
       "      <td>118</td>\n",
       "      <td>4</td>\n",
       "      <td>111.873736</td>\n",
       "      <td>PrototypeCMR</td>\n",
       "      <td>0.998854</td>\n",
       "      <td>7.597910e-01</td>\n",
       "      <td>0.860963</td>\n",
       "      <td>0.000004</td>\n",
       "      <td>0.054645</td>\n",
       "      <td>0.003260</td>\n",
       "      <td>13.727990</td>\n",
       "      <td>49.391538</td>\n",
       "      <td>1.612949e-02</td>\n",
       "      <td>0.282001</td>\n",
       "      <td>0.227926</td>\n",
       "      <td>0.881658</td>\n",
       "      <td>NaN</td>\n",
       "      <td>NaN</td>\n",
       "      <td>NaN</td>\n",
       "    </tr>\n",
       "    <tr>\n",
       "      <th>1</th>\n",
       "      <td>119</td>\n",
       "      <td>5</td>\n",
       "      <td>148.814124</td>\n",
       "      <td>PrototypeCMR</td>\n",
       "      <td>0.645285</td>\n",
       "      <td>1.657160e-02</td>\n",
       "      <td>0.907135</td>\n",
       "      <td>0.837115</td>\n",
       "      <td>0.247612</td>\n",
       "      <td>0.739607</td>\n",
       "      <td>6.111395</td>\n",
       "      <td>47.592004</td>\n",
       "      <td>1.161993e-03</td>\n",
       "      <td>0.614327</td>\n",
       "      <td>4.044495</td>\n",
       "      <td>0.998659</td>\n",
       "      <td>NaN</td>\n",
       "      <td>NaN</td>\n",
       "      <td>NaN</td>\n",
       "    </tr>\n",
       "    <tr>\n",
       "      <th>2</th>\n",
       "      <td>123</td>\n",
       "      <td>4</td>\n",
       "      <td>144.332364</td>\n",
       "      <td>PrototypeCMR</td>\n",
       "      <td>0.480187</td>\n",
       "      <td>5.001254e-01</td>\n",
       "      <td>0.738990</td>\n",
       "      <td>0.498740</td>\n",
       "      <td>0.326532</td>\n",
       "      <td>0.005625</td>\n",
       "      <td>8.135311</td>\n",
       "      <td>62.887461</td>\n",
       "      <td>1.436072e-03</td>\n",
       "      <td>0.462884</td>\n",
       "      <td>1.771576</td>\n",
       "      <td>0.790068</td>\n",
       "      <td>NaN</td>\n",
       "      <td>NaN</td>\n",
       "      <td>NaN</td>\n",
       "    </tr>\n",
       "    <tr>\n",
       "      <th>3</th>\n",
       "      <td>124</td>\n",
       "      <td>4</td>\n",
       "      <td>191.699636</td>\n",
       "      <td>PrototypeCMR</td>\n",
       "      <td>0.736396</td>\n",
       "      <td>1.786332e-01</td>\n",
       "      <td>0.995810</td>\n",
       "      <td>0.974646</td>\n",
       "      <td>0.154306</td>\n",
       "      <td>0.030837</td>\n",
       "      <td>17.688059</td>\n",
       "      <td>99.184509</td>\n",
       "      <td>2.309219e-04</td>\n",
       "      <td>0.437452</td>\n",
       "      <td>3.040680</td>\n",
       "      <td>0.718639</td>\n",
       "      <td>NaN</td>\n",
       "      <td>NaN</td>\n",
       "      <td>NaN</td>\n",
       "    </tr>\n",
       "    <tr>\n",
       "      <th>4</th>\n",
       "      <td>125</td>\n",
       "      <td>5</td>\n",
       "      <td>262.890878</td>\n",
       "      <td>PrototypeCMR</td>\n",
       "      <td>0.802790</td>\n",
       "      <td>7.510671e-01</td>\n",
       "      <td>0.746581</td>\n",
       "      <td>0.181479</td>\n",
       "      <td>0.454903</td>\n",
       "      <td>0.209070</td>\n",
       "      <td>2.225961</td>\n",
       "      <td>0.330330</td>\n",
       "      <td>1.821796e-05</td>\n",
       "      <td>0.344923</td>\n",
       "      <td>3.821438</td>\n",
       "      <td>0.965518</td>\n",
       "      <td>NaN</td>\n",
       "      <td>NaN</td>\n",
       "      <td>NaN</td>\n",
       "    </tr>\n",
       "    <tr>\n",
       "      <th>...</th>\n",
       "      <td>...</td>\n",
       "      <td>...</td>\n",
       "      <td>...</td>\n",
       "      <td>...</td>\n",
       "      <td>...</td>\n",
       "      <td>...</td>\n",
       "      <td>...</td>\n",
       "      <td>...</td>\n",
       "      <td>...</td>\n",
       "      <td>...</td>\n",
       "      <td>...</td>\n",
       "      <td>...</td>\n",
       "      <td>...</td>\n",
       "      <td>...</td>\n",
       "      <td>...</td>\n",
       "      <td>...</td>\n",
       "      <td>...</td>\n",
       "      <td>...</td>\n",
       "      <td>...</td>\n",
       "    </tr>\n",
       "    <tr>\n",
       "      <th>325</th>\n",
       "      <td>311</td>\n",
       "      <td>4</td>\n",
       "      <td>178.448094</td>\n",
       "      <td>ICMR_1_1_1</td>\n",
       "      <td>0.715273</td>\n",
       "      <td>3.300008e-01</td>\n",
       "      <td>0.875235</td>\n",
       "      <td>0.034456</td>\n",
       "      <td>0.885053</td>\n",
       "      <td>0.634728</td>\n",
       "      <td>40.997174</td>\n",
       "      <td>51.590698</td>\n",
       "      <td>5.503282e-05</td>\n",
       "      <td>0.576916</td>\n",
       "      <td>1.000000</td>\n",
       "      <td>0.863252</td>\n",
       "      <td>1.0</td>\n",
       "      <td>6.509090</td>\n",
       "      <td>True</td>\n",
       "    </tr>\n",
       "    <tr>\n",
       "      <th>326</th>\n",
       "      <td>312</td>\n",
       "      <td>4</td>\n",
       "      <td>165.056599</td>\n",
       "      <td>ICMR_1_1_1</td>\n",
       "      <td>0.893586</td>\n",
       "      <td>1.317214e-01</td>\n",
       "      <td>0.937621</td>\n",
       "      <td>0.015619</td>\n",
       "      <td>0.967901</td>\n",
       "      <td>0.514335</td>\n",
       "      <td>29.227627</td>\n",
       "      <td>38.446367</td>\n",
       "      <td>7.382082e-05</td>\n",
       "      <td>0.594616</td>\n",
       "      <td>1.000000</td>\n",
       "      <td>0.244049</td>\n",
       "      <td>1.0</td>\n",
       "      <td>2.307481</td>\n",
       "      <td>True</td>\n",
       "    </tr>\n",
       "    <tr>\n",
       "      <th>327</th>\n",
       "      <td>313</td>\n",
       "      <td>5</td>\n",
       "      <td>264.570927</td>\n",
       "      <td>ICMR_1_1_1</td>\n",
       "      <td>0.768042</td>\n",
       "      <td>1.867621e-01</td>\n",
       "      <td>0.918148</td>\n",
       "      <td>0.014902</td>\n",
       "      <td>0.721133</td>\n",
       "      <td>0.364003</td>\n",
       "      <td>61.722642</td>\n",
       "      <td>2.433303</td>\n",
       "      <td>2.059551e-04</td>\n",
       "      <td>0.377442</td>\n",
       "      <td>1.000000</td>\n",
       "      <td>0.789500</td>\n",
       "      <td>1.0</td>\n",
       "      <td>2.713406</td>\n",
       "      <td>True</td>\n",
       "    </tr>\n",
       "    <tr>\n",
       "      <th>328</th>\n",
       "      <td>314</td>\n",
       "      <td>4</td>\n",
       "      <td>189.664750</td>\n",
       "      <td>ICMR_1_1_1</td>\n",
       "      <td>0.587187</td>\n",
       "      <td>1.677167e-02</td>\n",
       "      <td>0.894403</td>\n",
       "      <td>0.001944</td>\n",
       "      <td>0.370682</td>\n",
       "      <td>0.369948</td>\n",
       "      <td>16.761139</td>\n",
       "      <td>32.705548</td>\n",
       "      <td>1.578042e-07</td>\n",
       "      <td>0.947379</td>\n",
       "      <td>1.000000</td>\n",
       "      <td>0.474957</td>\n",
       "      <td>1.0</td>\n",
       "      <td>2.384232</td>\n",
       "      <td>True</td>\n",
       "    </tr>\n",
       "    <tr>\n",
       "      <th>329</th>\n",
       "      <td>315</td>\n",
       "      <td>5</td>\n",
       "      <td>221.203608</td>\n",
       "      <td>ICMR_1_1_1</td>\n",
       "      <td>0.784885</td>\n",
       "      <td>2.220446e-16</td>\n",
       "      <td>0.476142</td>\n",
       "      <td>0.015268</td>\n",
       "      <td>0.625130</td>\n",
       "      <td>0.556645</td>\n",
       "      <td>6.711650</td>\n",
       "      <td>0.070075</td>\n",
       "      <td>1.305244e-03</td>\n",
       "      <td>0.315971</td>\n",
       "      <td>1.000000</td>\n",
       "      <td>0.056965</td>\n",
       "      <td>1.0</td>\n",
       "      <td>5.376182</td>\n",
       "      <td>True</td>\n",
       "    </tr>\n",
       "  </tbody>\n",
       "</table>\n",
       "<p>330 rows × 19 columns</p>\n",
       "</div>"
      ],
      "text/plain": [
       "     subject  trial_count  likelihood         model  encoding_drift_rate  \\\n",
       "0        118            4  111.873736  PrototypeCMR             0.998854   \n",
       "1        119            5  148.814124  PrototypeCMR             0.645285   \n",
       "2        123            4  144.332364  PrototypeCMR             0.480187   \n",
       "3        124            4  191.699636  PrototypeCMR             0.736396   \n",
       "4        125            5  262.890878  PrototypeCMR             0.802790   \n",
       "..       ...          ...         ...           ...                  ...   \n",
       "325      311            4  178.448094    ICMR_1_1_1             0.715273   \n",
       "326      312            4  165.056599    ICMR_1_1_1             0.893586   \n",
       "327      313            5  264.570927    ICMR_1_1_1             0.768042   \n",
       "328      314            4  189.664750    ICMR_1_1_1             0.587187   \n",
       "329      315            5  221.203608    ICMR_1_1_1             0.784885   \n",
       "\n",
       "     start_drift_rate  recall_drift_rate  shared_support  item_support  \\\n",
       "0        7.597910e-01           0.860963        0.000004      0.054645   \n",
       "1        1.657160e-02           0.907135        0.837115      0.247612   \n",
       "2        5.001254e-01           0.738990        0.498740      0.326532   \n",
       "3        1.786332e-01           0.995810        0.974646      0.154306   \n",
       "4        7.510671e-01           0.746581        0.181479      0.454903   \n",
       "..                ...                ...             ...           ...   \n",
       "325      3.300008e-01           0.875235        0.034456      0.885053   \n",
       "326      1.317214e-01           0.937621        0.015619      0.967901   \n",
       "327      1.867621e-01           0.918148        0.014902      0.721133   \n",
       "328      1.677167e-02           0.894403        0.001944      0.370682   \n",
       "329      2.220446e-16           0.476142        0.015268      0.625130   \n",
       "\n",
       "     learning_rate  primacy_scale  primacy_decay  stop_probability_scale  \\\n",
       "0         0.003260      13.727990      49.391538            1.612949e-02   \n",
       "1         0.739607       6.111395      47.592004            1.161993e-03   \n",
       "2         0.005625       8.135311      62.887461            1.436072e-03   \n",
       "3         0.030837      17.688059      99.184509            2.309219e-04   \n",
       "4         0.209070       2.225961       0.330330            1.821796e-05   \n",
       "..             ...            ...            ...                     ...   \n",
       "325       0.634728      40.997174      51.590698            5.503282e-05   \n",
       "326       0.514335      29.227627      38.446367            7.382082e-05   \n",
       "327       0.364003      61.722642       2.433303            2.059551e-04   \n",
       "328       0.369948      16.761139      32.705548            1.578042e-07   \n",
       "329       0.556645       6.711650       0.070075            1.305244e-03   \n",
       "\n",
       "     stop_probability_growth  choice_sensitivity  delay_drift_rate  \\\n",
       "0                   0.282001            0.227926          0.881658   \n",
       "1                   0.614327            4.044495          0.998659   \n",
       "2                   0.462884            1.771576          0.790068   \n",
       "3                   0.437452            3.040680          0.718639   \n",
       "4                   0.344923            3.821438          0.965518   \n",
       "..                       ...                 ...               ...   \n",
       "325                 0.576916            1.000000          0.863252   \n",
       "326                 0.594616            1.000000          0.244049   \n",
       "327                 0.377442            1.000000          0.789500   \n",
       "328                 0.947379            1.000000          0.474957   \n",
       "329                 0.315971            1.000000          0.056965   \n",
       "\n",
       "     feature_sensitivity  context_sensitivity learn_first  \n",
       "0                    NaN                  NaN         NaN  \n",
       "1                    NaN                  NaN         NaN  \n",
       "2                    NaN                  NaN         NaN  \n",
       "3                    NaN                  NaN         NaN  \n",
       "4                    NaN                  NaN         NaN  \n",
       "..                   ...                  ...         ...  \n",
       "325                  1.0             6.509090        True  \n",
       "326                  1.0             2.307481        True  \n",
       "327                  1.0             2.713406        True  \n",
       "328                  1.0             2.384232        True  \n",
       "329                  1.0             5.376182        True  \n",
       "\n",
       "[330 rows x 19 columns]"
      ]
     },
     "execution_count": 6,
     "metadata": {},
     "output_type": "execute_result"
    }
   ],
   "source": [
    "individual_fits"
   ]
  },
  {
   "cell_type": "code",
   "execution_count": 7,
   "id": "5cfde135",
   "metadata": {
    "execution": {
     "iopub.execute_input": "2022-05-31T21:01:16.672035Z",
     "iopub.status.busy": "2022-05-31T21:01:16.671184Z",
     "iopub.status.idle": "2022-05-31T21:01:16.722298Z",
     "shell.execute_reply": "2022-05-31T21:01:16.721300Z"
    },
    "papermill": {
     "duration": 0.158212,
     "end_time": "2022-05-31T21:01:16.724454",
     "exception": false,
     "start_time": "2022-05-31T21:01:16.566242",
     "status": "completed"
    },
    "tags": []
   },
   "outputs": [
    {
     "name": "stdout",
     "output_type": "stream",
     "text": [
      "::: {#fig-HowardKahana2005Cond1fits layout-nrow=2 layout-valign=\"center\"}\n",
      "\n",
      "![](results/individual_HowardKahana2005Cond1.pdf)\n",
      "\n",
      "|       |   ICMR_1_0_0 |   ICMR_1_0_1 |   ICMR_1_1_0 |   ICMR_1_1_1 |   PrototypeCMR |\n",
      "|:------|-------------:|-------------:|-------------:|-------------:|---------------:|\n",
      "| count |      66      |      66      |      66      |      66      |        66      |\n",
      "| mean  |     152.971  |     153.503  |     154.367  |     152.14   |       151.473  |\n",
      "| std   |      53.0941 |      53.5014 |      54.4801 |      52.8325 |        52.7825 |\n",
      "| min   |      59.7783 |      60.5258 |      58.8196 |      57.7399 |        58.9172 |\n",
      "| 25%   |     112.691  |     112.294  |     113.131  |     110.579  |       110.899  |\n",
      "| 50%   |     146.667  |     145.423  |     148.285  |     144.737  |       143.344  |\n",
      "| 75%   |     178.858  |     181.989  |     180.494  |     180.696  |       183.089  |\n",
      "| max   |     298.688  |     296.333  |     298.775  |     284.569  |       282.675  |\n",
      "\n",
      "Distribution of log-likelihood scores of recall sequences exhibited by each subject in dataset under each considered model.\n",
      ":::\n"
     ]
    }
   ],
   "source": [
    "#| code-summary: display markdown rendering of summary table\n",
    "#| echo: false\n",
    "#| input: false\n",
    "#| output: asis\n",
    "\n",
    "summary_table = pd.DataFrame(group.describe().rename(columns={'likelihood':name}).squeeze()\n",
    "            for name, group in individual_fits[['model', 'likelihood']].groupby('model')).T.to_markdown()\n",
    "\n",
    "print(\"\"\"::: {{#fig-{section_tag}fits layout-nrow=2 layout-valign=\"center\"}}\n",
    "\n",
    "![]({results_path}individual_{section_tag}.pdf)\n",
    "\n",
    "{summary_table}\n",
    "\n",
    "{individual_fits_caption}\n",
    ":::\"\"\".format(section_tag=section_tag, summary_table=summary_table, individual_fits_caption=figure_caption, results_path=results_path))"
   ]
  },
  {
   "cell_type": "code",
   "execution_count": 8,
   "id": "ccc7fcd1",
   "metadata": {
    "execution": {
     "iopub.execute_input": "2022-05-31T21:01:16.940157Z",
     "iopub.status.busy": "2022-05-31T21:01:16.939712Z",
     "iopub.status.idle": "2022-05-31T21:01:17.018228Z",
     "shell.execute_reply": "2022-05-31T21:01:17.017322Z"
    },
    "papermill": {
     "duration": 0.187141,
     "end_time": "2022-05-31T21:01:17.021387",
     "exception": false,
     "start_time": "2022-05-31T21:01:16.834246",
     "status": "completed"
    },
    "tags": []
   },
   "outputs": [
    {
     "name": "stdout",
     "output_type": "stream",
     "text": [
      "('PrototypeCMR', 'ICMR_1_0_0')\n",
      "Ttest_relResult(statistic=-3.733050492900854, pvalue=0.00040029668982490544)\n",
      "Ttest_relResult(statistic=-3.733050492900854, pvalue=0.00020014834491245272)\n",
      "Ttest_relResult(statistic=-3.733050492900854, pvalue=0.9997998516550876)\n",
      "\n",
      "('PrototypeCMR', 'ICMR_1_0_1')\n",
      "Ttest_relResult(statistic=-4.260720276585761, pvalue=6.71465663096739e-05)\n",
      "Ttest_relResult(statistic=-4.260720276585761, pvalue=3.357328315483695e-05)\n",
      "Ttest_relResult(statistic=-4.260720276585761, pvalue=0.9999664267168451)\n",
      "\n",
      "('PrototypeCMR', 'ICMR_1_1_0')\n",
      "Ttest_relResult(statistic=-5.351694211894311, pvalue=1.214739730380149e-06)\n",
      "Ttest_relResult(statistic=-5.351694211894311, pvalue=6.073698651900745e-07)\n",
      "Ttest_relResult(statistic=-5.351694211894311, pvalue=0.9999993926301348)\n",
      "\n",
      "('PrototypeCMR', 'ICMR_1_1_1')\n",
      "Ttest_relResult(statistic=-2.502549339180505, pvalue=0.01485434550630244)\n",
      "Ttest_relResult(statistic=-2.502549339180505, pvalue=0.00742717275315122)\n",
      "Ttest_relResult(statistic=-2.502549339180505, pvalue=0.9925728272468488)\n",
      "\n",
      "('ICMR_1_0_0', 'ICMR_1_0_1')\n",
      "Ttest_relResult(statistic=-1.1059003201767224, pvalue=0.2728460852368805)\n",
      "Ttest_relResult(statistic=-1.1059003201767224, pvalue=0.13642304261844024)\n",
      "Ttest_relResult(statistic=-1.1059003201767224, pvalue=0.8635769573815597)\n",
      "\n",
      "('ICMR_1_0_0', 'ICMR_1_1_0')\n",
      "Ttest_relResult(statistic=-2.6843765390530474, pvalue=0.009209101748034734)\n",
      "Ttest_relResult(statistic=-2.6843765390530474, pvalue=0.004604550874017367)\n",
      "Ttest_relResult(statistic=-2.6843765390530474, pvalue=0.9953954491259827)\n",
      "\n",
      "('ICMR_1_0_0', 'ICMR_1_1_1')\n",
      "Ttest_relResult(statistic=2.1510535911214728, pvalue=0.035194540293465366)\n",
      "Ttest_relResult(statistic=2.1510535911214728, pvalue=0.9824027298532674)\n",
      "Ttest_relResult(statistic=2.1510535911214728, pvalue=0.017597270146732683)\n",
      "\n",
      "('ICMR_1_0_1', 'ICMR_1_1_0')\n",
      "Ttest_relResult(statistic=-1.3906500195860907, pvalue=0.16907453780402082)\n",
      "Ttest_relResult(statistic=-1.3906500195860907, pvalue=0.08453726890201041)\n",
      "Ttest_relResult(statistic=-1.3906500195860907, pvalue=0.9154627310979896)\n",
      "\n",
      "('ICMR_1_0_1', 'ICMR_1_1_1')\n",
      "Ttest_relResult(statistic=3.3392301240640956, pvalue=0.0013943620389767495)\n",
      "Ttest_relResult(statistic=3.3392301240640956, pvalue=0.9993028189805117)\n",
      "Ttest_relResult(statistic=3.3392301240640956, pvalue=0.0006971810194883747)\n",
      "\n",
      "('ICMR_1_1_0', 'ICMR_1_1_1')\n",
      "Ttest_relResult(statistic=4.26040919760176, pvalue=6.721958115204857e-05)\n",
      "Ttest_relResult(statistic=4.26040919760176, pvalue=0.999966390209424)\n",
      "Ttest_relResult(statistic=4.26040919760176, pvalue=3.3609790576024285e-05)\n",
      "\n"
     ]
    }
   ],
   "source": [
    "#| code-summary: perform t-tests on individual-level fits\n",
    "#| output: false\n",
    " \n",
    "from scipy.stats import ttest_rel\n",
    "import itertools\n",
    "\n",
    "for combination in itertools.combinations(pd.unique(individual_fits.model), 2):\n",
    "\n",
    "    print(combination)\n",
    "    print(ttest_rel(individual_fits[individual_fits.model == combination[0]].likelihood, individual_fits[individual_fits.model == combination[1]].likelihood, alternative='two-sided'))\n",
    "    print(ttest_rel(individual_fits[individual_fits.model == combination[0]].likelihood, individual_fits[individual_fits.model == combination[1]].likelihood, alternative='less'))\n",
    "    print(ttest_rel(individual_fits[individual_fits.model == combination[0]].likelihood, individual_fits[individual_fits.model == combination[1]].likelihood, alternative='greater'))\n",
    "    print()"
   ]
  },
  {
   "cell_type": "code",
   "execution_count": 9,
   "id": "3fd13653",
   "metadata": {
    "execution": {
     "iopub.execute_input": "2022-05-31T21:01:17.278785Z",
     "iopub.status.busy": "2022-05-31T21:01:17.278329Z",
     "iopub.status.idle": "2022-05-31T21:01:17.359973Z",
     "shell.execute_reply": "2022-05-31T21:01:17.359157Z"
    },
    "papermill": {
     "duration": 0.197923,
     "end_time": "2022-05-31T21:01:17.362782",
     "exception": false,
     "start_time": "2022-05-31T21:01:17.164859",
     "status": "completed"
    },
    "tags": []
   },
   "outputs": [
    {
     "name": "stdout",
     "output_type": "stream",
     "text": [
      "('PrototypeCMR', 'ICMR_1_0_0')\n",
      "0.6363636363636364 0.36363636363636365\n",
      "42 24\n",
      "\n",
      "('PrototypeCMR', 'ICMR_1_0_1')\n",
      "0.6363636363636364 0.36363636363636365\n",
      "42 24\n",
      "\n",
      "('PrototypeCMR', 'ICMR_1_1_0')\n",
      "0.8333333333333334 0.16666666666666666\n",
      "55 11\n",
      "\n",
      "('PrototypeCMR', 'ICMR_1_1_1')\n",
      "0.6515151515151515 0.3484848484848485\n",
      "43 23\n",
      "\n",
      "('ICMR_1_0_0', 'ICMR_1_0_1')\n",
      "0.6212121212121212 0.3787878787878788\n",
      "41 25\n",
      "\n",
      "('ICMR_1_0_0', 'ICMR_1_1_0')\n",
      "0.6666666666666666 0.3333333333333333\n",
      "44 22\n",
      "\n",
      "('ICMR_1_0_0', 'ICMR_1_1_1')\n",
      "0.4696969696969697 0.5303030303030303\n",
      "31 35\n",
      "\n",
      "('ICMR_1_0_1', 'ICMR_1_1_0')\n",
      "0.5151515151515151 0.48484848484848486\n",
      "34 32\n",
      "\n",
      "('ICMR_1_0_1', 'ICMR_1_1_1')\n",
      "0.3484848484848485 0.6515151515151515\n",
      "23 43\n",
      "\n",
      "('ICMR_1_1_0', 'ICMR_1_1_1')\n",
      "0.2727272727272727 0.7272727272727273\n",
      "18 48\n",
      "\n"
     ]
    }
   ],
   "source": [
    "for combination in itertools.combinations(pd.unique(individual_fits.model), 2):\n",
    "\n",
    "    print(combination)\n",
    "    print(np.mean(individual_fits[individual_fits.model == combination[0]].likelihood.values < individual_fits[individual_fits.model == combination[1]].likelihood.values), \n",
    "        np.mean(individual_fits[individual_fits.model == combination[1]].likelihood.values < individual_fits[individual_fits.model == combination[0]].likelihood.values))\n",
    "\n",
    "    print(np.sum(individual_fits[individual_fits.model == combination[0]].likelihood.values < individual_fits[individual_fits.model == combination[1]].likelihood.values), \n",
    "        np.sum(individual_fits[individual_fits.model == combination[1]].likelihood.values < individual_fits[individual_fits.model == combination[0]].likelihood.values))\n",
    "\n",
    "    print()"
   ]
  },
  {
   "cell_type": "code",
   "execution_count": 10,
   "id": "f55b0764",
   "metadata": {
    "execution": {
     "iopub.execute_input": "2022-05-31T21:01:17.599797Z",
     "iopub.status.busy": "2022-05-31T21:01:17.599440Z",
     "iopub.status.idle": "2022-05-31T21:01:18.853108Z",
     "shell.execute_reply": "2022-05-31T21:01:18.851597Z"
    },
    "papermill": {
     "duration": 1.364116,
     "end_time": "2022-05-31T21:01:18.856418",
     "exception": false,
     "start_time": "2022-05-31T21:01:17.492302",
     "status": "completed"
    },
    "tags": []
   },
   "outputs": [
    {
     "name": "stdout",
     "output_type": "stream",
     "text": [
      "[1.00000000e+00 1.15632220e-43 6.44806908e-59 1.10771991e-83\n",
      " 7.54735326e-20]\n"
     ]
    }
   ],
   "source": [
    "def model_weights(positive_log_likelihoods, number_parameters, N):\n",
    "    AIC = 2 * positive_log_likelihoods + 2 * number_parameters\n",
    "    AICc = AIC #+ (2*np.power(number_parameters, 2) + 2 * number_parameters) / (N - number_parameters - 2)\n",
    "    AICd = AIC - np.min(AICc)\n",
    "    #return AICd\n",
    "    AICw = np.exp(-.5 * AICd) / np.sum(np.exp(-.5 * AICd))\n",
    "    return AICw\n",
    "\n",
    "aicw = {'Model': [], 'Subject': [], 'AICw': []}\n",
    "\n",
    "total_nlns = np.zeros(len(models))\n",
    "for subject_index, subject in enumerate(pd.unique(events.subject)):\n",
    "\n",
    "    subject_specific_trial_mask = np.logical_and(\n",
    "                    generate_trial_mask(events, f'subject == {subject}'), trial_mask)\n",
    "\n",
    "    nlnLs = []\n",
    "    for model_index, model_class in enumerate(models):\n",
    "        nlnLs.append(\n",
    "            individual_fits[individual_fits.model == model_names[model_index]].likelihood.values[subject_index])\n",
    "    nlnLs = np.array(nlnLs)\n",
    "    total_nlns += nlnLs\n",
    "    \n",
    "    weights = model_weights(nlnLs, len(free_parameters[model_index]), np.sum(subject_specific_trial_mask))\n",
    "    #print(weights)\n",
    "    for model_index, model_class in enumerate(models):\n",
    "        aicw['Model'].append(model_names[model_index])\n",
    "        aicw['Subject'].append(subject)\n",
    "        aicw['AICw'].append(weights[model_index])\n",
    "\n",
    "aicw = pd.DataFrame(data=aicw)\n",
    "total_aicw = model_weights(total_nlns, len(free_parameters[model_index]), np.sum(trial_mask))\n",
    "print(total_aicw)"
   ]
  },
  {
   "cell_type": "code",
   "execution_count": 11,
   "id": "4ab81054",
   "metadata": {
    "execution": {
     "iopub.execute_input": "2022-05-31T21:01:19.115273Z",
     "iopub.status.busy": "2022-05-31T21:01:19.115020Z",
     "iopub.status.idle": "2022-05-31T21:01:19.446553Z",
     "shell.execute_reply": "2022-05-31T21:01:19.445199Z"
    },
    "papermill": {
     "duration": 0.44245,
     "end_time": "2022-05-31T21:01:19.450890",
     "exception": false,
     "start_time": "2022-05-31T21:01:19.008440",
     "status": "completed"
    },
    "tags": []
   },
   "outputs": [
    {
     "data": {
      "image/png": "[encoded data removed]",
      "text/plain": [
       "<Figure size 640x480 with 1 Axes>"
      ]
     },
     "metadata": {},
     "output_type": "display_data"
    }
   ],
   "source": [
    "import seaborn as sns\n",
    "sns.set_theme(style=\"darkgrid\")\n",
    "x = sns.pointplot(x=\"Model\", y=\"AICw\", data=aicw, join=False)\n",
    "\n",
    "plt.show()"
   ]
  },
  {
   "cell_type": "markdown",
   "id": "6194eee5",
   "metadata": {
    "tags": [
     "papermill-error-cell-tag"
    ]
   },
   "source": [
    "<span id=\"papermill-error-cell\" style=\"color:red; font-family:Helvetica Neue, Helvetica, Arial, sans-serif; font-size:2em;\">Execution using papermill encountered an exception here and stopped:</span>"
   ]
  },
  {
   "cell_type": "code",
   "execution_count": 12,
   "id": "2b25e229",
   "metadata": {
    "execution": {
     "iopub.execute_input": "2022-05-31T21:01:19.706902Z",
     "iopub.status.busy": "2022-05-31T21:01:19.706563Z",
     "iopub.status.idle": "2022-05-31T21:01:20.286256Z",
     "shell.execute_reply": "2022-05-31T21:01:20.285106Z"
    },
    "papermill": {
     "duration": 0.688436,
     "end_time": "2022-05-31T21:01:20.287893",
     "exception": true,
     "start_time": "2022-05-31T21:01:19.599457",
     "status": "failed"
    },
    "tags": []
   },
   "outputs": [
    {
     "ename": "NameError",
     "evalue": "name 'simulate_df_from_events' is not defined",
     "output_type": "error",
     "traceback": [
      "\u001b[0;31m---------------------------------------------------------------------------\u001b[0m",
      "\u001b[0;31mNameError\u001b[0m                                 Traceback (most recent call last)",
      "Input \u001b[0;32mIn [12]\u001b[0m, in \u001b[0;36m<cell line: 7>\u001b[0;34m()\u001b[0m\n\u001b[1;32m     36\u001b[0m     fitted_parameters[key] \u001b[38;5;241m=\u001b[39m fixed_parameters[model_index][key]\n\u001b[1;32m     38\u001b[0m \u001b[38;5;66;03m# simulate df based on specified trial_count and experiment_count\u001b[39;00m\n\u001b[1;32m     39\u001b[0m \u001b[38;5;66;03m#model = model_class(list_length, list_length, fitted_parameters)\u001b[39;00m\n\u001b[0;32m---> 40\u001b[0m sim_dfs\u001b[38;5;241m.\u001b[39mappend(\u001b[43msimulate_df_from_events\u001b[49m(model, fit_result[\u001b[38;5;124m'\u001b[39m\u001b[38;5;124mtrial_count\u001b[39m\u001b[38;5;124m'\u001b[39m]\u001b[38;5;241m.\u001b[39mvalues[\u001b[38;5;241m0\u001b[39m] \u001b[38;5;241m*\u001b[39m experiment_count))\n\u001b[1;32m     41\u001b[0m sim_dfs[\u001b[38;5;241m-\u001b[39m\u001b[38;5;241m1\u001b[39m]\u001b[38;5;241m.\u001b[39mlist \u001b[38;5;241m=\u001b[39m sim_dfs[\u001b[38;5;241m-\u001b[39m\u001b[38;5;241m1\u001b[39m]\u001b[38;5;241m.\u001b[39msubject\n\u001b[1;32m     42\u001b[0m sim_dfs[\u001b[38;5;241m-\u001b[39m\u001b[38;5;241m1\u001b[39m]\u001b[38;5;241m.\u001b[39msubject \u001b[38;5;241m=\u001b[39m subject\n",
      "\u001b[0;31mNameError\u001b[0m: name 'simulate_df_from_events' is not defined"
     ]
    }
   ],
   "source": [
    "sns.set(style='darkgrid')\n",
    "\n",
    "# for each unique list length\n",
    "if not (isinstance(list_lengths, list) or isinstance(list_lengths, List)): \n",
    "    list_lengths = [list_lengths]\n",
    "\n",
    "for list_length in list_lengths:\n",
    "\n",
    "    #fig, axes = plt.subplots(nrows=len(models), ncols=3, figsize=(15, int(4*len(models))), sharey=False)\n",
    "    \n",
    "    # for each unique model\n",
    "    for model_index, model_class in enumerate(models):\n",
    "\n",
    "        # load sim_df from csv if it exists\n",
    "        sim_df_path = results_path + '{}_{}_ll{}_sim_df.csv'.format(section_tag, model_names[model_index], list_length)\n",
    "        if os.path.isfile(sim_df_path):\n",
    "            sim_df = pd.read_csv(sim_df_path)\n",
    "            print('sim_df for {} with tag {} and list length {} already exists'.format(model_names[model_index], section_tag, list_length))\n",
    "\n",
    "        # otherwise, generate it\n",
    "        else:\n",
    "\n",
    "            # for each unique matching entry in individual df\n",
    "            sim_dfs = []\n",
    "            for subject in pd.unique(individual_fits.subject):\n",
    "                \n",
    "                fit_result = individual_fits.query(f'subject == {subject} & model == \"{model_names[model_index]}\"')\n",
    "\n",
    "                # configure model based on specified parameters\n",
    "                fitted_parameters = Dict.empty(\n",
    "                    key_type=types.unicode_type, value_type=types.float64\n",
    "                )\n",
    "                for i in range(len(free_parameters[model_index])):\n",
    "                    fitted_parameters[free_parameters[model_index][i]] = fit_result[free_parameters[model_index][i]].values[0]\n",
    "                for key in fixed_parameters[model_index]:\n",
    "                    fitted_parameters[key] = fixed_parameters[model_index][key]\n",
    "\n",
    "                # simulate df based on specified trial_count and experiment_count\n",
    "                #model = model_class(list_length, list_length, fitted_parameters)\n",
    "                sim_dfs.append(simulate_df_from_events(model, fit_result['trial_count'].values[0] * experiment_count))\n",
    "                sim_dfs[-1].list = sim_dfs[-1].subject\n",
    "                sim_dfs[-1].subject = subject\n",
    "\n",
    "            # concatenate simulations into one dataframe\n",
    "            sim_df = pd.concat(sim_dfs)\n",
    "\n",
    "            # save sim_df to csv\n",
    "            sim_df.to_csv(results_path +'{}_{}_ll{}_sim_df.csv'.format(section_tag, model_names[model_index], list_length), index=False)\n",
    "\n",
    "        # design general filter for analysis df\n",
    "        if len(list_lengths) > 1:\n",
    "            analysis_query = trial_query + f' & list_length == {list_length}'\n",
    "        else:\n",
    "            analysis_query = trial_query\n",
    "\n",
    "        # generate plot for each parametrized analysis and model\n",
    "        for analysis_index, analysis_function in enumerate(analyses):\n",
    "            analysis_name = analysis_names[analysis_index]\n",
    "            axis = analysis_function(\n",
    "                [events, sim_df], analysis_query, contrast_name=\"source\", labels=[\"data\", model_names[model_index]])\n",
    "            plt.savefig(results_path+'{}_{}_ll{}_{}.pdf'.format(section_tag, model_names[model_index], list_length, analysis_name), bbox_inches=\"tight\")"
   ]
  },
  {
   "cell_type": "code",
   "execution_count": null,
   "id": "46eb063b",
   "metadata": {
    "papermill": {
     "duration": null,
     "end_time": null,
     "exception": null,
     "start_time": null,
     "status": "pending"
    },
    "tags": []
   },
   "outputs": [],
   "source": []
  }
 ],
 "metadata": {
  "interpreter": {
   "hash": "19d1d53a962d236aa061289c2ac16dc8e6d9648c89fe79f459ae9a3493bc67b4"
  },
  "kernelspec": {
   "display_name": "Python 3.9.1 ('base')",
   "language": "python",
   "name": "python3"
  },
  "language_info": {
   "codemirror_mode": {
    "name": "ipython",
    "version": 3
   },
   "file_extension": ".py",
   "mimetype": "text/x-python",
   "name": "python",
   "nbconvert_exporter": "python",
   "pygments_lexer": "ipython3",
   "version": "3.8.6"
  },
  "papermill": {
   "default_parameters": {},
   "duration": 5766.731594,
   "end_time": "2022-05-31T21:01:22.332508",
   "environment_variables": {},
   "exception": true,
   "input_path": "Subjectwise_Model_Evaluation.ipynb",
   "output_path": "reports/Subjectwise_Model_Evaluation_Single_HowardKahana2005Cond1.ipynb",
   "parameters": {
    "bounds": [
     [
      [
       2.220446049250313e-16,
       0.9999999999999998
      ],
      [
       2.220446049250313e-16,
       0.9999999999999998
      ],
      [
       2.220446049250313e-16,
       0.9999999999999998
      ],
      [
       2.220446049250313e-16,
       0.9999999999999998
      ],
      [
       2.220446049250313e-16,
       0.9999999999999998
      ],
      [
       2.220446049250313e-16,
       0.9999999999999998
      ],
      [
       2.220446049250313e-16,
       100
      ],
      [
       2.220446049250313e-16,
       100
      ],
      [
       2.220446049250313e-16,
       0.9999999999999998
      ],
      [
       2.220446049250313e-16,
       10
      ],
      [
       2.220446049250313e-16,
       10
      ],
      [
       2.220446049250313e-16,
       0.9999999999999998
      ]
     ],
     [
      [
       2.220446049250313e-16,
       0.9999999999999998
      ],
      [
       2.220446049250313e-16,
       0.9999999999999998
      ],
      [
       2.220446049250313e-16,
       0.9999999999999998
      ],
      [
       2.220446049250313e-16,
       0.9999999999999998
      ],
      [
       2.220446049250313e-16,
       0.9999999999999998
      ],
      [
       2.220446049250313e-16,
       0.9999999999999998
      ],
      [
       2.220446049250313e-16,
       100
      ],
      [
       2.220446049250313e-16,
       100
      ],
      [
       2.220446049250313e-16,
       0.9999999999999998
      ],
      [
       2.220446049250313e-16,
       10
      ],
      [
       2.220446049250313e-16,
       10
      ],
      [
       2.220446049250313e-16,
       0.9999999999999998
      ]
     ],
     [
      [
       2.220446049250313e-16,
       0.9999999999999998
      ],
      [
       2.220446049250313e-16,
       0.9999999999999998
      ],
      [
       2.220446049250313e-16,
       0.9999999999999998
      ],
      [
       2.220446049250313e-16,
       0.9999999999999998
      ],
      [
       2.220446049250313e-16,
       0.9999999999999998
      ],
      [
       2.220446049250313e-16,
       0.9999999999999998
      ],
      [
       2.220446049250313e-16,
       100
      ],
      [
       2.220446049250313e-16,
       100
      ],
      [
       2.220446049250313e-16,
       0.9999999999999998
      ],
      [
       2.220446049250313e-16,
       10
      ],
      [
       2.220446049250313e-16,
       10
      ],
      [
       2.220446049250313e-16,
       0.9999999999999998
      ]
     ],
     [
      [
       2.220446049250313e-16,
       0.9999999999999998
      ],
      [
       2.220446049250313e-16,
       0.9999999999999998
      ],
      [
       2.220446049250313e-16,
       0.9999999999999998
      ],
      [
       2.220446049250313e-16,
       0.9999999999999998
      ],
      [
       2.220446049250313e-16,
       0.9999999999999998
      ],
      [
       2.220446049250313e-16,
       0.9999999999999998
      ],
      [
       2.220446049250313e-16,
       100
      ],
      [
       2.220446049250313e-16,
       100
      ],
      [
       2.220446049250313e-16,
       0.9999999999999998
      ],
      [
       2.220446049250313e-16,
       10
      ],
      [
       2.220446049250313e-16,
       10
      ],
      [
       2.220446049250313e-16,
       0.9999999999999998
      ]
     ],
     [
      [
       2.220446049250313e-16,
       0.9999999999999998
      ],
      [
       2.220446049250313e-16,
       0.9999999999999998
      ],
      [
       2.220446049250313e-16,
       0.9999999999999998
      ],
      [
       2.220446049250313e-16,
       0.9999999999999998
      ],
      [
       2.220446049250313e-16,
       0.9999999999999998
      ],
      [
       2.220446049250313e-16,
       0.9999999999999998
      ],
      [
       2.220446049250313e-16,
       100
      ],
      [
       2.220446049250313e-16,
       100
      ],
      [
       2.220446049250313e-16,
       0.9999999999999998
      ],
      [
       2.220446049250313e-16,
       10
      ],
      [
       2.220446049250313e-16,
       10
      ],
      [
       2.220446049250313e-16,
       0.9999999999999998
      ]
     ]
    ],
    "data_path": "data/HowardKahana2005.csv",
    "fixed_parameters": [
     {},
     {
      "context_sensitivity": 1,
      "feature_sensitivity": 1,
      "learn_first": false
     },
     {
      "context_sensitivity": 1,
      "feature_sensitivity": 1,
      "learn_first": true
     },
     {
      "choice_sensitivity": 1,
      "feature_sensitivity": 1,
      "learn_first": false
     },
     {
      "choice_sensitivity": 1,
      "feature_sensitivity": 1,
      "learn_first": true
     }
    ],
    "free_parameters": [
     [
      "encoding_drift_rate",
      "start_drift_rate",
      "recall_drift_rate",
      "shared_support",
      "item_support",
      "learning_rate",
      "primacy_scale",
      "primacy_decay",
      "stop_probability_scale",
      "stop_probability_growth",
      "choice_sensitivity",
      "delay_drift_rate"
     ],
     [
      "encoding_drift_rate",
      "start_drift_rate",
      "recall_drift_rate",
      "shared_support",
      "item_support",
      "learning_rate",
      "primacy_scale",
      "primacy_decay",
      "stop_probability_scale",
      "stop_probability_growth",
      "choice_sensitivity",
      "delay_drift_rate"
     ],
     [
      "encoding_drift_rate",
      "start_drift_rate",
      "recall_drift_rate",
      "shared_support",
      "item_support",
      "learning_rate",
      "primacy_scale",
      "primacy_decay",
      "stop_probability_scale",
      "stop_probability_growth",
      "choice_sensitivity",
      "delay_drift_rate"
     ],
     [
      "encoding_drift_rate",
      "start_drift_rate",
      "recall_drift_rate",
      "shared_support",
      "item_support",
      "learning_rate",
      "primacy_scale",
      "primacy_decay",
      "stop_probability_scale",
      "stop_probability_growth",
      "context_sensitivity",
      "delay_drift_rate"
     ],
     [
      "encoding_drift_rate",
      "start_drift_rate",
      "recall_drift_rate",
      "shared_support",
      "item_support",
      "learning_rate",
      "primacy_scale",
      "primacy_decay",
      "stop_probability_scale",
      "stop_probability_growth",
      "context_sensitivity",
      "delay_drift_rate"
     ]
    ],
    "model_names": [
     "PrototypeCMR",
     "ICMR_1_0_0",
     "ICMR_1_0_1",
     "ICMR_1_1_0",
     "ICMR_1_1_1"
    ],
    "model_paths": [
     "compmemlearn.models.Base_CMR",
     "compmemlearn.models.Single_ICMR",
     "compmemlearn.models.Single_ICMR",
     "compmemlearn.models.Single_ICMR",
     "compmemlearn.models.Single_ICMR"
    ],
    "section_tag": "HowardKahana2005Cond1",
    "trial_query": "condition == 1"
   },
   "start_time": "2022-05-31T19:25:15.600914",
   "version": "2.3.4"
  }
 },
 "nbformat": 4,
 "nbformat_minor": 5
}
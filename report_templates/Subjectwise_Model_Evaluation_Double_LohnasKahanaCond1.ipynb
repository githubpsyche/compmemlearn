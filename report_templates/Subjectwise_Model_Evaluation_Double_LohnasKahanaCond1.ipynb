{
 "cells": [
  {
   "cell_type": "markdown",
   "id": "d2a352a9",
   "metadata": {
    "tags": [
     "papermill-error-cell-tag"
    ]
   },
   "source": [
    "<span style=\"color:red; font-family:Helvetica Neue, Helvetica, Arial, sans-serif; font-size:2em;\">An Exception was encountered at '<a href=\"#papermill-error-cell\">In [15]</a>'.</span>"
   ]
  },
  {
   "cell_type": "code",
   "execution_count": 1,
   "id": "7a95bae3",
   "metadata": {
    "execution": {
     "iopub.execute_input": "2022-06-03T18:32:53.390491Z",
     "iopub.status.busy": "2022-06-03T18:32:53.389831Z",
     "iopub.status.idle": "2022-06-03T18:33:50.815212Z",
     "shell.execute_reply": "2022-06-03T18:33:50.813829Z"
    },
    "papermill": {
     "duration": 57.46642,
     "end_time": "2022-06-03T18:33:50.818807",
     "exception": false,
     "start_time": "2022-06-03T18:32:53.352387",
     "status": "completed"
    },
    "tags": [
     "parameters"
    ]
   },
   "outputs": [],
   "source": [
    "# | code-summary: code -- load dependencies and data and select parameters\n",
    "\n",
    "from compmemlearn.fitting import generate_objective_function\n",
    "from compmemlearn.datasets import events_metadata, generate_trial_mask\n",
    "from scipy.optimize import differential_evolution\n",
    "from numba.typed import List, Dict\n",
    "from numba.core import types\n",
    "from numba import njit\n",
    "from psifr import fr\n",
    "import pandas as pd\n",
    "import numpy as np\n",
    "import seaborn as sns\n",
    "import matplotlib.pyplot as plt\n",
    "import importlib\n",
    "import os\n",
    "\n",
    "lb = np.finfo(float).eps\n",
    "ub = 1 - np.finfo(float).eps\n",
    "\n",
    "figure_caption = \"\"\"Distribution of log-likelihood scores of recall sequences exhibited by each subject in dataset under each considered model.\"\"\"\n",
    "\n",
    "section_tag = \"LohnasKahanaCond4\"\n",
    "\n",
    "data_path = \"../data/LohnasKahana2014.csv\"\n",
    "results_path = \"results/\"\n",
    "trial_query = \"condition == 4\"\n",
    "\n",
    "model_paths = [\n",
    "    \"compmemlearn.models.Base_CMR\",\n",
    "    \"compmemlearn.models.Dual_ICMR\",\n",
    "    \"compmemlearn.models.Dual_ICMR\",\n",
    "    \"compmemlearn.models.Dual_ICMR\",\n",
    "    \"compmemlearn.models.Dual_ICMR\",\n",
    "]\n",
    "\n",
    "model_names = [\"PrototypeCMR\", \"ICMR_2_0_0\", \"ICMR_2_0_1\", \"ICMR_2_1_0\", \"ICMR_2_1_1\"]\n",
    "\n",
    "free_parameters = [\n",
    "    [\n",
    "        \"encoding_drift_rate\",\n",
    "        \"start_drift_rate\",\n",
    "        \"recall_drift_rate\",\n",
    "        \"shared_support\",\n",
    "        \"item_support\",\n",
    "        \"learning_rate\",\n",
    "        \"primacy_scale\",\n",
    "        \"primacy_decay\",\n",
    "        \"stop_probability_scale\",\n",
    "        \"stop_probability_growth\",\n",
    "        \"choice_sensitivity\",\n",
    "        \"delay_drift_rate\",\n",
    "    ],\n",
    "    [\n",
    "        \"encoding_drift_rate\",\n",
    "        \"start_drift_rate\",\n",
    "        \"recall_drift_rate\",\n",
    "        \"shared_support\",\n",
    "        \"item_support\",\n",
    "        \"learning_rate\",\n",
    "        \"primacy_scale\",\n",
    "        \"primacy_decay\",\n",
    "        \"stop_probability_scale\",\n",
    "        \"stop_probability_growth\",\n",
    "        \"choice_sensitivity\",\n",
    "        \"delay_drift_rate\",\n",
    "    ],\n",
    "    [\n",
    "        \"encoding_drift_rate\",\n",
    "        \"start_drift_rate\",\n",
    "        \"recall_drift_rate\",\n",
    "        \"shared_support\",\n",
    "        \"item_support\",\n",
    "        \"learning_rate\",\n",
    "        \"primacy_scale\",\n",
    "        \"primacy_decay\",\n",
    "        \"stop_probability_scale\",\n",
    "        \"stop_probability_growth\",\n",
    "        \"choice_sensitivity\",\n",
    "        \"delay_drift_rate\",\n",
    "    ],\n",
    "    [\n",
    "        \"encoding_drift_rate\",\n",
    "        \"start_drift_rate\",\n",
    "        \"recall_drift_rate\",\n",
    "        \"shared_support\",\n",
    "        \"item_support\",\n",
    "        \"learning_rate\",\n",
    "        \"primacy_scale\",\n",
    "        \"primacy_decay\",\n",
    "        \"stop_probability_scale\",\n",
    "        \"stop_probability_growth\",\n",
    "        \"context_sensitivity\",\n",
    "        \"delay_drift_rate\",\n",
    "    ],\n",
    "    [\n",
    "        \"encoding_drift_rate\",\n",
    "        \"start_drift_rate\",\n",
    "        \"recall_drift_rate\",\n",
    "        \"shared_support\",\n",
    "        \"item_support\",\n",
    "        \"learning_rate\",\n",
    "        \"primacy_scale\",\n",
    "        \"primacy_decay\",\n",
    "        \"stop_probability_scale\",\n",
    "        \"stop_probability_growth\",\n",
    "        \"context_sensitivity\",\n",
    "        \"delay_drift_rate\",\n",
    "    ],\n",
    "]\n",
    "bounds = [\n",
    "    [\n",
    "        [2.220446049250313e-16, 0.9999999999999998],\n",
    "        [2.220446049250313e-16, 0.9999999999999998],\n",
    "        [2.220446049250313e-16, 0.9999999999999998],\n",
    "        [2.220446049250313e-16, 0.9999999999999998],\n",
    "        [2.220446049250313e-16, 0.9999999999999998],\n",
    "        [2.220446049250313e-16, 0.9999999999999998],\n",
    "        [2.220446049250313e-16, 100],\n",
    "        [2.220446049250313e-16, 100],\n",
    "        [2.220446049250313e-16, 0.9999999999999998],\n",
    "        [2.220446049250313e-16, 10],\n",
    "        [2.220446049250313e-16, 10],\n",
    "        [2.220446049250313e-16, 0.9999999999999998],\n",
    "    ],\n",
    "    [\n",
    "        [2.220446049250313e-16, 0.9999999999999998],\n",
    "        [2.220446049250313e-16, 0.9999999999999998],\n",
    "        [2.220446049250313e-16, 0.9999999999999998],\n",
    "        [2.220446049250313e-16, 0.9999999999999998],\n",
    "        [2.220446049250313e-16, 0.9999999999999998],\n",
    "        [2.220446049250313e-16, 0.9999999999999998],\n",
    "        [2.220446049250313e-16, 100],\n",
    "        [2.220446049250313e-16, 100],\n",
    "        [2.220446049250313e-16, 0.9999999999999998],\n",
    "        [2.220446049250313e-16, 10],\n",
    "        [2.220446049250313e-16, 10],\n",
    "        [2.220446049250313e-16, 0.9999999999999998],\n",
    "    ],\n",
    "    [\n",
    "        [2.220446049250313e-16, 0.9999999999999998],\n",
    "        [2.220446049250313e-16, 0.9999999999999998],\n",
    "        [2.220446049250313e-16, 0.9999999999999998],\n",
    "        [2.220446049250313e-16, 0.9999999999999998],\n",
    "        [2.220446049250313e-16, 0.9999999999999998],\n",
    "        [2.220446049250313e-16, 0.9999999999999998],\n",
    "        [2.220446049250313e-16, 100],\n",
    "        [2.220446049250313e-16, 100],\n",
    "        [2.220446049250313e-16, 0.9999999999999998],\n",
    "        [2.220446049250313e-16, 10],\n",
    "        [2.220446049250313e-16, 10],\n",
    "        [2.220446049250313e-16, 0.9999999999999998],\n",
    "    ],\n",
    "    [\n",
    "        [2.220446049250313e-16, 0.9999999999999998],\n",
    "        [2.220446049250313e-16, 0.9999999999999998],\n",
    "        [2.220446049250313e-16, 0.9999999999999998],\n",
    "        [2.220446049250313e-16, 0.9999999999999998],\n",
    "        [2.220446049250313e-16, 0.9999999999999998],\n",
    "        [2.220446049250313e-16, 0.9999999999999998],\n",
    "        [2.220446049250313e-16, 100],\n",
    "        [2.220446049250313e-16, 100],\n",
    "        [2.220446049250313e-16, 0.9999999999999998],\n",
    "        [2.220446049250313e-16, 10],\n",
    "        [2.220446049250313e-16, 10],\n",
    "        [2.220446049250313e-16, 0.9999999999999998],\n",
    "    ],\n",
    "    [\n",
    "        [2.220446049250313e-16, 0.9999999999999998],\n",
    "        [2.220446049250313e-16, 0.9999999999999998],\n",
    "        [2.220446049250313e-16, 0.9999999999999998],\n",
    "        [2.220446049250313e-16, 0.9999999999999998],\n",
    "        [2.220446049250313e-16, 0.9999999999999998],\n",
    "        [2.220446049250313e-16, 0.9999999999999998],\n",
    "        [2.220446049250313e-16, 100],\n",
    "        [2.220446049250313e-16, 100],\n",
    "        [2.220446049250313e-16, 0.9999999999999998],\n",
    "        [2.220446049250313e-16, 10],\n",
    "        [2.220446049250313e-16, 10],\n",
    "        [2.220446049250313e-16, 0.9999999999999998],\n",
    "    ],\n",
    "]\n",
    "fixed_parameters = [\n",
    "    {},\n",
    "    {\"feature_sensitivity\": 1, \"context_sensitivity\": 1, \"learn_first\": False},\n",
    "    {\"feature_sensitivity\": 1, \"context_sensitivity\": 1, \"learn_first\": True},\n",
    "    {\"feature_sensitivity\": 1, \"choice_sensitivity\": 1, \"learn_first\": False},\n",
    "    {\"feature_sensitivity\": 1, \"choice_sensitivity\": 1, \"learn_first\": True},\n",
    "]\n",
    "\n",
    "analysis_paths = ['compmemlearn.analyses.plot_spc', 'compmemlearn.analyses.plot_crp', 'compmemlearn.analyses.plot_pfr']\n",
    "analysis_names = ['spc', 'crp', 'pfr']\n",
    "\n",
    "experiment_count = 1"
   ]
  },
  {
   "cell_type": "code",
   "execution_count": 2,
   "id": "fcbf439c",
   "metadata": {
    "execution": {
     "iopub.execute_input": "2022-06-03T18:33:50.879203Z",
     "iopub.status.busy": "2022-06-03T18:33:50.878750Z",
     "iopub.status.idle": "2022-06-03T18:33:50.911611Z",
     "shell.execute_reply": "2022-06-03T18:33:50.910702Z"
    },
    "papermill": {
     "duration": 0.060893,
     "end_time": "2022-06-03T18:33:50.914172",
     "exception": false,
     "start_time": "2022-06-03T18:33:50.853279",
     "status": "completed"
    },
    "tags": [
     "injected-parameters"
    ]
   },
   "outputs": [],
   "source": [
    "# Parameters\n",
    "data_path = \"../data/LohnasKahana2014.csv\"\n",
    "trial_query = \"condition == 1\"\n",
    "model_paths = [\n",
    "    \"compmemlearn.models.Base_CMR\",\n",
    "    \"compmemlearn.models.Dual_ICMR\",\n",
    "    \"compmemlearn.models.Dual_ICMR\",\n",
    "    \"compmemlearn.models.Dual_ICMR\",\n",
    "    \"compmemlearn.models.Dual_ICMR\",\n",
    "]\n",
    "model_names = [\"PrototypeCMR\", \"ICMR_2_0_0\", \"ICMR_2_0_1\", \"ICMR_2_1_0\", \"ICMR_2_1_1\"]\n",
    "free_parameters = [\n",
    "    [\n",
    "        \"encoding_drift_rate\",\n",
    "        \"start_drift_rate\",\n",
    "        \"recall_drift_rate\",\n",
    "        \"shared_support\",\n",
    "        \"item_support\",\n",
    "        \"learning_rate\",\n",
    "        \"primacy_scale\",\n",
    "        \"primacy_decay\",\n",
    "        \"stop_probability_scale\",\n",
    "        \"stop_probability_growth\",\n",
    "        \"choice_sensitivity\",\n",
    "        \"delay_drift_rate\",\n",
    "    ],\n",
    "    [\n",
    "        \"encoding_drift_rate\",\n",
    "        \"start_drift_rate\",\n",
    "        \"recall_drift_rate\",\n",
    "        \"shared_support\",\n",
    "        \"item_support\",\n",
    "        \"learning_rate\",\n",
    "        \"primacy_scale\",\n",
    "        \"primacy_decay\",\n",
    "        \"stop_probability_scale\",\n",
    "        \"stop_probability_growth\",\n",
    "        \"choice_sensitivity\",\n",
    "        \"delay_drift_rate\",\n",
    "    ],\n",
    "    [\n",
    "        \"encoding_drift_rate\",\n",
    "        \"start_drift_rate\",\n",
    "        \"recall_drift_rate\",\n",
    "        \"shared_support\",\n",
    "        \"item_support\",\n",
    "        \"learning_rate\",\n",
    "        \"primacy_scale\",\n",
    "        \"primacy_decay\",\n",
    "        \"stop_probability_scale\",\n",
    "        \"stop_probability_growth\",\n",
    "        \"choice_sensitivity\",\n",
    "        \"delay_drift_rate\",\n",
    "    ],\n",
    "    [\n",
    "        \"encoding_drift_rate\",\n",
    "        \"start_drift_rate\",\n",
    "        \"recall_drift_rate\",\n",
    "        \"shared_support\",\n",
    "        \"item_support\",\n",
    "        \"learning_rate\",\n",
    "        \"primacy_scale\",\n",
    "        \"primacy_decay\",\n",
    "        \"stop_probability_scale\",\n",
    "        \"stop_probability_growth\",\n",
    "        \"context_sensitivity\",\n",
    "        \"delay_drift_rate\",\n",
    "    ],\n",
    "    [\n",
    "        \"encoding_drift_rate\",\n",
    "        \"start_drift_rate\",\n",
    "        \"recall_drift_rate\",\n",
    "        \"shared_support\",\n",
    "        \"item_support\",\n",
    "        \"learning_rate\",\n",
    "        \"primacy_scale\",\n",
    "        \"primacy_decay\",\n",
    "        \"stop_probability_scale\",\n",
    "        \"stop_probability_growth\",\n",
    "        \"context_sensitivity\",\n",
    "        \"delay_drift_rate\",\n",
    "    ],\n",
    "]\n",
    "bounds = [\n",
    "    [\n",
    "        [2.220446049250313e-16, 0.9999999999999998],\n",
    "        [2.220446049250313e-16, 0.9999999999999998],\n",
    "        [2.220446049250313e-16, 0.9999999999999998],\n",
    "        [2.220446049250313e-16, 0.9999999999999998],\n",
    "        [2.220446049250313e-16, 0.9999999999999998],\n",
    "        [2.220446049250313e-16, 0.9999999999999998],\n",
    "        [2.220446049250313e-16, 100],\n",
    "        [2.220446049250313e-16, 100],\n",
    "        [2.220446049250313e-16, 0.9999999999999998],\n",
    "        [2.220446049250313e-16, 10],\n",
    "        [2.220446049250313e-16, 10],\n",
    "        [2.220446049250313e-16, 0.9999999999999998],\n",
    "    ],\n",
    "    [\n",
    "        [2.220446049250313e-16, 0.9999999999999998],\n",
    "        [2.220446049250313e-16, 0.9999999999999998],\n",
    "        [2.220446049250313e-16, 0.9999999999999998],\n",
    "        [2.220446049250313e-16, 0.9999999999999998],\n",
    "        [2.220446049250313e-16, 0.9999999999999998],\n",
    "        [2.220446049250313e-16, 0.9999999999999998],\n",
    "        [2.220446049250313e-16, 100],\n",
    "        [2.220446049250313e-16, 100],\n",
    "        [2.220446049250313e-16, 0.9999999999999998],\n",
    "        [2.220446049250313e-16, 10],\n",
    "        [2.220446049250313e-16, 10],\n",
    "        [2.220446049250313e-16, 0.9999999999999998],\n",
    "    ],\n",
    "    [\n",
    "        [2.220446049250313e-16, 0.9999999999999998],\n",
    "        [2.220446049250313e-16, 0.9999999999999998],\n",
    "        [2.220446049250313e-16, 0.9999999999999998],\n",
    "        [2.220446049250313e-16, 0.9999999999999998],\n",
    "        [2.220446049250313e-16, 0.9999999999999998],\n",
    "        [2.220446049250313e-16, 0.9999999999999998],\n",
    "        [2.220446049250313e-16, 100],\n",
    "        [2.220446049250313e-16, 100],\n",
    "        [2.220446049250313e-16, 0.9999999999999998],\n",
    "        [2.220446049250313e-16, 10],\n",
    "        [2.220446049250313e-16, 10],\n",
    "        [2.220446049250313e-16, 0.9999999999999998],\n",
    "    ],\n",
    "    [\n",
    "        [2.220446049250313e-16, 0.9999999999999998],\n",
    "        [2.220446049250313e-16, 0.9999999999999998],\n",
    "        [2.220446049250313e-16, 0.9999999999999998],\n",
    "        [2.220446049250313e-16, 0.9999999999999998],\n",
    "        [2.220446049250313e-16, 0.9999999999999998],\n",
    "        [2.220446049250313e-16, 0.9999999999999998],\n",
    "        [2.220446049250313e-16, 100],\n",
    "        [2.220446049250313e-16, 100],\n",
    "        [2.220446049250313e-16, 0.9999999999999998],\n",
    "        [2.220446049250313e-16, 10],\n",
    "        [2.220446049250313e-16, 10],\n",
    "        [2.220446049250313e-16, 0.9999999999999998],\n",
    "    ],\n",
    "    [\n",
    "        [2.220446049250313e-16, 0.9999999999999998],\n",
    "        [2.220446049250313e-16, 0.9999999999999998],\n",
    "        [2.220446049250313e-16, 0.9999999999999998],\n",
    "        [2.220446049250313e-16, 0.9999999999999998],\n",
    "        [2.220446049250313e-16, 0.9999999999999998],\n",
    "        [2.220446049250313e-16, 0.9999999999999998],\n",
    "        [2.220446049250313e-16, 100],\n",
    "        [2.220446049250313e-16, 100],\n",
    "        [2.220446049250313e-16, 0.9999999999999998],\n",
    "        [2.220446049250313e-16, 10],\n",
    "        [2.220446049250313e-16, 10],\n",
    "        [2.220446049250313e-16, 0.9999999999999998],\n",
    "    ],\n",
    "]\n",
    "fixed_parameters = [\n",
    "    {},\n",
    "    {\"feature_sensitivity\": 1, \"context_sensitivity\": 1, \"learn_first\": False},\n",
    "    {\"feature_sensitivity\": 1, \"context_sensitivity\": 1, \"learn_first\": True},\n",
    "    {\"feature_sensitivity\": 1, \"choice_sensitivity\": 1, \"learn_first\": False},\n",
    "    {\"feature_sensitivity\": 1, \"choice_sensitivity\": 1, \"learn_first\": True},\n",
    "]\n",
    "section_tag = \"LohnasKahanaCond1\"\n"
   ]
  },
  {
   "cell_type": "code",
   "execution_count": 3,
   "id": "184fdc78",
   "metadata": {
    "execution": {
     "iopub.execute_input": "2022-06-03T18:33:50.958943Z",
     "iopub.status.busy": "2022-06-03T18:33:50.958431Z",
     "iopub.status.idle": "2022-06-03T18:33:50.965281Z",
     "shell.execute_reply": "2022-06-03T18:33:50.964018Z"
    },
    "papermill": {
     "duration": 0.030754,
     "end_time": "2022-06-03T18:33:50.967781",
     "exception": false,
     "start_time": "2022-06-03T18:33:50.937027",
     "status": "completed"
    },
    "tags": []
   },
   "outputs": [],
   "source": [
    "if 'Howard' in section_tag or ('Lohnas' in section_tag and '1' not in section_tag):\n",
    "    analysis_paths = ['compmemlearn.analyses.plot_flex_spc', 'compmemlearn.analyses.plot_flex_crp', 'compmemlearn.analyses.plot_flex_pfr', 'compmemlearn.analyses.plot_rpl']\n",
    "    analysis_names = ['spc', 'crp', 'pfr', 'rpl']"
   ]
  },
  {
   "cell_type": "code",
   "execution_count": 4,
   "id": "a9e6c093",
   "metadata": {
    "execution": {
     "iopub.execute_input": "2022-06-03T18:33:51.008080Z",
     "iopub.status.busy": "2022-06-03T18:33:51.007300Z",
     "iopub.status.idle": "2022-06-03T18:36:39.362253Z",
     "shell.execute_reply": "2022-06-03T18:36:39.361564Z"
    },
    "papermill": {
     "duration": 168.377563,
     "end_time": "2022-06-03T18:36:39.364781",
     "exception": false,
     "start_time": "2022-06-03T18:33:50.987218",
     "status": "completed"
    },
    "tags": []
   },
   "outputs": [
    {
     "name": "stdout",
     "output_type": "stream",
     "text": [
      "<function murdock_objective_function.<locals>.objective_function at 0x000001D31F9AC280>\n",
      "1275.5688396813282\n",
      "3453.8778694933385\n",
      "<function murdock_objective_function.<locals>.objective_function at 0x000001D32502C040>\n",
      "1275.5688396813282\n",
      "3453.8778694933385\n",
      "<function murdock_objective_function.<locals>.objective_function at 0x000001D322C0B310>\n",
      "1275.5688396813282\n",
      "3453.8778694933385\n",
      "<function murdock_objective_function.<locals>.objective_function at 0x000001D32555E790>\n",
      "1275.5688396813282\n",
      "3453.8778694933385\n",
      "<function murdock_objective_function.<locals>.objective_function at 0x000001D322C0B310>\n",
      "1275.5688396813282\n",
      "3453.8778694933385\n",
      "dependencies and parameters validated\n"
     ]
    }
   ],
   "source": [
    "#| code-summary: code -- test that specified parameters are valid\n",
    "#| output: false\n",
    "\n",
    "events = pd.read_csv(data_path)\n",
    "\n",
    "trials, list_lengths, presentations = events_metadata(events)\n",
    "trial_mask = generate_trial_mask(events, trial_query)\n",
    "\n",
    "# import models from specified source\n",
    "models = []\n",
    "for i in range(len(model_paths)):\n",
    "    module_name, model_name = model_paths[i].rsplit('.',1)\n",
    "    module = importlib.import_module(module_name)\n",
    "    models.append(getattr(module, model_name))\n",
    "\n",
    "# import analyses from specified source\n",
    "analyses = []\n",
    "for i in range(len(analysis_paths)):\n",
    "    module_name, analysis_name = analysis_paths[i].rsplit('.',1)\n",
    "    module = importlib.import_module(module_name)\n",
    "    analyses.append(getattr(module, analysis_name))\n",
    "\n",
    "# make sure model initializes with provided parameters and boundaries\n",
    "for model_index, model_class in enumerate(models):\n",
    "\n",
    "    @njit(fastmath=True, nogil=True)\n",
    "    def init_model(item_count, presentation_count, parameters):\n",
    "        return model_class(item_count, presentation_count, parameters)\n",
    "\n",
    "    subject_specific_trial_mask = np.logical_and(\n",
    "                generate_trial_mask(events, f'subject == {pd.unique(events.subject)[0]}'), trial_mask)\n",
    "\n",
    "    cost_function = generate_objective_function(\n",
    "        [trials[i][subject_specific_trial_mask[i]] for i in range(len(trials))],\n",
    "        [presentations[i][subject_specific_trial_mask[i]] for i in range(len(presentations))],\n",
    "        list_lengths,\n",
    "        init_model,\n",
    "        fixed_parameters[model_index],\n",
    "        free_parameters[model_index],\n",
    "    )\n",
    "    print(cost_function)\n",
    "    \n",
    "    for boundary_index in range(2):\n",
    "        x = np.array([each[boundary_index] for each in bounds[model_index]])\n",
    "        assert(len(x) == len(free_parameters[model_index])) \n",
    "\n",
    "        # parameter configuration\n",
    "        parameters = Dict.empty(key_type=types.unicode_type, value_type=types.float64)\n",
    "        for name, value in fixed_parameters[model_index].items():\n",
    "            parameters[name] = value\n",
    "        for i in range(len(free_parameters[model_index])):\n",
    "                parameters[free_parameters[model_index][i]] = x[i]\n",
    "\n",
    "        model = init_model(20, 20, parameters)\n",
    "        model.experience(model.items)\n",
    "        model.free_recall()\n",
    "\n",
    "        print(cost_function(x))\n",
    "\n",
    "print('dependencies and parameters validated')"
   ]
  },
  {
   "cell_type": "code",
   "execution_count": 5,
   "id": "29ce430e",
   "metadata": {
    "execution": {
     "iopub.execute_input": "2022-06-03T18:36:39.405522Z",
     "iopub.status.busy": "2022-06-03T18:36:39.404731Z",
     "iopub.status.idle": "2022-06-03T18:36:39.712568Z",
     "shell.execute_reply": "2022-06-03T18:36:39.711179Z"
    },
    "papermill": {
     "duration": 0.328089,
     "end_time": "2022-06-03T18:36:39.715647",
     "exception": false,
     "start_time": "2022-06-03T18:36:39.387558",
     "status": "completed"
    },
    "tags": []
   },
   "outputs": [
    {
     "name": "stdout",
     "output_type": "stream",
     "text": [
      "individual fits for PrototypeCMR with tag LohnasKahanaCond1 already exist\n",
      "individual fits for ICMR_2_0_0 with tag LohnasKahanaCond1 already exist\n",
      "individual fits for ICMR_2_0_1 with tag LohnasKahanaCond1 already exist\n",
      "individual fits for ICMR_2_1_0 with tag LohnasKahanaCond1 already exist\n",
      "individual fits for ICMR_2_1_1 with tag LohnasKahanaCond1 already exist\n"
     ]
    }
   ],
   "source": [
    "# | code-summary: code -- 1) fit each model class participant-by-participant\n",
    "# | output: false\n",
    "\n",
    "for model_index, model_class in enumerate(models):\n",
    "\n",
    "    # load individual fits for this model and section tag from csv if they exist\n",
    "    if os.path.isfile(results_path + '{}_{}_individual.csv'.format(section_tag, model_names[model_index])):\n",
    "        pd.read_csv(results_path + '{}_{}_individual.csv'.format(section_tag, model_names[model_index]))\n",
    "        print('individual fits for {} with tag {} already exist'.format(model_names[model_index], section_tag))\n",
    "\n",
    "    # otherwise, fit each participant individually\n",
    "    else:\n",
    "        model_individual_fits = []\n",
    "\n",
    "        @njit(fastmath=True, nogil=True)\n",
    "        def init_model(item_count, presentation_count, parameters):\n",
    "            return model_class(item_count, presentation_count, parameters)\n",
    "\n",
    "        for subject in pd.unique(events.subject):\n",
    "            print(f'{model_names[model_index]}, Subject {subject}')\n",
    "\n",
    "            subject_specific_trial_mask = np.logical_and(\n",
    "                generate_trial_mask(events, f'subject == {subject}'), trial_mask)\n",
    "            \n",
    "            try:\n",
    "                # cost function to be minimized\n",
    "                # ours scales inversely with the probability that the data could have been\n",
    "                # generated using the specified parameters and our model\n",
    "                cost_function = generate_objective_function(\n",
    "                    [trials[i][subject_specific_trial_mask[i]] for i in range(len(trials))],\n",
    "                    [presentations[i][subject_specific_trial_mask[i]] for i in range(len(presentations))],\n",
    "                    list_lengths,\n",
    "                    init_model,\n",
    "                    fixed_parameters[model_index],\n",
    "                    free_parameters[model_index],\n",
    "                )\n",
    "            except ValueError:\n",
    "                continue\n",
    "\n",
    "            fit_result =  differential_evolution(cost_function, bounds[model_index], disp=False)\n",
    "\n",
    "            fitted_parameters = {\n",
    "                'subject': subject, 'trial_count': np.sum(subject_specific_trial_mask), \n",
    "                'likelihood': fit_result.fun, 'model': model_names[model_index]\n",
    "                }\n",
    "            for i in range(len(fit_result.x)):\n",
    "                fitted_parameters[free_parameters[model_index][i]] = fit_result.x[i]\n",
    "            for key in fixed_parameters[model_index]:\n",
    "                fitted_parameters[key] = fixed_parameters[model_index][key]\n",
    "\n",
    "            model_individual_fits.append(pd.DataFrame.from_dict(fitted_parameters, orient='index').T)\n",
    "            print(model_individual_fits[-1]['likelihood'][0])\n",
    "\n",
    "        model_individual_fits = pd.concat(model_individual_fits, ignore_index=True)\n",
    "        model_individual_fits.to_csv(\n",
    "            results_path + '{}_{}_individual.csv'.format(section_tag, model_names[model_index]), index=False)"
   ]
  },
  {
   "cell_type": "code",
   "execution_count": 6,
   "id": "73f9c1c0",
   "metadata": {
    "execution": {
     "iopub.execute_input": "2022-06-03T18:36:39.776219Z",
     "iopub.status.busy": "2022-06-03T18:36:39.775688Z",
     "iopub.status.idle": "2022-06-03T18:36:41.924318Z",
     "shell.execute_reply": "2022-06-03T18:36:41.922980Z"
    },
    "papermill": {
     "duration": 2.181078,
     "end_time": "2022-06-03T18:36:41.928277",
     "exception": false,
     "start_time": "2022-06-03T18:36:39.747199",
     "status": "completed"
    },
    "tags": []
   },
   "outputs": [
    {
     "data": {
      "text/plain": [
       "Text(-0.18055555555555536, 0.5, 'Individual Log-Likelihood')"
      ]
     },
     "execution_count": 6,
     "metadata": {},
     "output_type": "execute_result"
    },
    {
     "data": {
      "image/png": "[encoded data removed]",
      "text/plain": [
       "<Figure size 500x500 with 1 Axes>"
      ]
     },
     "metadata": {},
     "output_type": "display_data"
    }
   ],
   "source": [
    "#| code-summary: code -- 3) plot distribution of log-likelihoods across individual subjects\n",
    "\n",
    "plt.style.use('default')\n",
    "sns.set(style=\"darkgrid\")\n",
    "\n",
    "# build individual fits df concatenating results from each model\n",
    "individual_fits = []\n",
    "for model_index, model_class in enumerate(models):\n",
    "    individual_fits.append(\n",
    "        pd.read_csv(results_path + '{}_{}_individual.csv'.format(section_tag, model_names[model_index])))\n",
    "individual_fits = pd.concat(individual_fits, ignore_index=True)\n",
    "\n",
    "# plot distribution of log-likelihoods across individual subjects\n",
    "g = sns.catplot(x='model', y='likelihood', data=individual_fits, kind='violin', inner='stick')\n",
    "sns.swarmplot(x=\"model\", y=\"likelihood\", data=individual_fits, color=\"k\", size=3, ax=g.ax)\n",
    "g.ax.set_ylabel('Individual Log-Likelihood')\n",
    "#plt.savefig(results_path + 'individual_{}.pdf'.format(section_tag), bbox_inches=\"tight\")"
   ]
  },
  {
   "cell_type": "code",
   "execution_count": 7,
   "id": "b7857eef",
   "metadata": {
    "execution": {
     "iopub.execute_input": "2022-06-03T18:36:41.983774Z",
     "iopub.status.busy": "2022-06-03T18:36:41.983152Z",
     "iopub.status.idle": "2022-06-03T18:36:42.042713Z",
     "shell.execute_reply": "2022-06-03T18:36:42.042096Z"
    },
    "papermill": {
     "duration": 0.089091,
     "end_time": "2022-06-03T18:36:42.045813",
     "exception": false,
     "start_time": "2022-06-03T18:36:41.956722",
     "status": "completed"
    },
    "tags": []
   },
   "outputs": [
    {
     "data": {
      "text/html": [
       "<div>\n",
       "<style scoped>\n",
       "    .dataframe tbody tr th:only-of-type {\n",
       "        vertical-align: middle;\n",
       "    }\n",
       "\n",
       "    .dataframe tbody tr th {\n",
       "        vertical-align: top;\n",
       "    }\n",
       "\n",
       "    .dataframe thead th {\n",
       "        text-align: right;\n",
       "    }\n",
       "</style>\n",
       "<table border=\"1\" class=\"dataframe\">\n",
       "  <thead>\n",
       "    <tr style=\"text-align: right;\">\n",
       "      <th></th>\n",
       "      <th>subject</th>\n",
       "      <th>trial_count</th>\n",
       "      <th>likelihood</th>\n",
       "      <th>model</th>\n",
       "      <th>encoding_drift_rate</th>\n",
       "      <th>start_drift_rate</th>\n",
       "      <th>recall_drift_rate</th>\n",
       "      <th>shared_support</th>\n",
       "      <th>item_support</th>\n",
       "      <th>learning_rate</th>\n",
       "      <th>primacy_scale</th>\n",
       "      <th>primacy_decay</th>\n",
       "      <th>stop_probability_scale</th>\n",
       "      <th>stop_probability_growth</th>\n",
       "      <th>choice_sensitivity</th>\n",
       "      <th>delay_drift_rate</th>\n",
       "      <th>feature_sensitivity</th>\n",
       "      <th>context_sensitivity</th>\n",
       "      <th>learn_first</th>\n",
       "    </tr>\n",
       "  </thead>\n",
       "  <tbody>\n",
       "    <tr>\n",
       "      <th>0</th>\n",
       "      <td>1</td>\n",
       "      <td>12</td>\n",
       "      <td>690.878732</td>\n",
       "      <td>PrototypeCMR</td>\n",
       "      <td>0.643159</td>\n",
       "      <td>0.615549</td>\n",
       "      <td>0.949657</td>\n",
       "      <td>0.516430</td>\n",
       "      <td>4.653396e-01</td>\n",
       "      <td>0.581203</td>\n",
       "      <td>4.343968e-01</td>\n",
       "      <td>9.725498</td>\n",
       "      <td>0.000097</td>\n",
       "      <td>0.363230</td>\n",
       "      <td>7.720268</td>\n",
       "      <td>5.981709e-01</td>\n",
       "      <td>NaN</td>\n",
       "      <td>NaN</td>\n",
       "      <td>NaN</td>\n",
       "    </tr>\n",
       "    <tr>\n",
       "      <th>1</th>\n",
       "      <td>2</td>\n",
       "      <td>12</td>\n",
       "      <td>412.624966</td>\n",
       "      <td>PrototypeCMR</td>\n",
       "      <td>0.674161</td>\n",
       "      <td>0.571281</td>\n",
       "      <td>0.973806</td>\n",
       "      <td>1.000000</td>\n",
       "      <td>8.179991e-01</td>\n",
       "      <td>1.000000</td>\n",
       "      <td>4.131544e-01</td>\n",
       "      <td>99.565120</td>\n",
       "      <td>0.011052</td>\n",
       "      <td>0.266474</td>\n",
       "      <td>9.248449</td>\n",
       "      <td>3.967386e-07</td>\n",
       "      <td>NaN</td>\n",
       "      <td>NaN</td>\n",
       "      <td>NaN</td>\n",
       "    </tr>\n",
       "    <tr>\n",
       "      <th>2</th>\n",
       "      <td>3</td>\n",
       "      <td>12</td>\n",
       "      <td>689.357088</td>\n",
       "      <td>PrototypeCMR</td>\n",
       "      <td>0.828218</td>\n",
       "      <td>0.023595</td>\n",
       "      <td>0.926296</td>\n",
       "      <td>0.021927</td>\n",
       "      <td>2.220446e-16</td>\n",
       "      <td>0.611047</td>\n",
       "      <td>1.982940e+01</td>\n",
       "      <td>41.905339</td>\n",
       "      <td>0.007402</td>\n",
       "      <td>0.127703</td>\n",
       "      <td>1.149134</td>\n",
       "      <td>6.957215e-06</td>\n",
       "      <td>NaN</td>\n",
       "      <td>NaN</td>\n",
       "      <td>NaN</td>\n",
       "    </tr>\n",
       "    <tr>\n",
       "      <th>3</th>\n",
       "      <td>4</td>\n",
       "      <td>12</td>\n",
       "      <td>280.515004</td>\n",
       "      <td>PrototypeCMR</td>\n",
       "      <td>0.922606</td>\n",
       "      <td>0.003423</td>\n",
       "      <td>0.997730</td>\n",
       "      <td>0.002085</td>\n",
       "      <td>2.220446e-16</td>\n",
       "      <td>0.501359</td>\n",
       "      <td>1.000000e+02</td>\n",
       "      <td>20.281386</td>\n",
       "      <td>0.080067</td>\n",
       "      <td>0.085179</td>\n",
       "      <td>0.506712</td>\n",
       "      <td>2.220446e-16</td>\n",
       "      <td>NaN</td>\n",
       "      <td>NaN</td>\n",
       "      <td>NaN</td>\n",
       "    </tr>\n",
       "    <tr>\n",
       "      <th>4</th>\n",
       "      <td>5</td>\n",
       "      <td>12</td>\n",
       "      <td>666.457217</td>\n",
       "      <td>PrototypeCMR</td>\n",
       "      <td>0.525528</td>\n",
       "      <td>1.000000</td>\n",
       "      <td>0.881813</td>\n",
       "      <td>0.250809</td>\n",
       "      <td>9.528331e-01</td>\n",
       "      <td>0.316558</td>\n",
       "      <td>1.122436e-01</td>\n",
       "      <td>16.715853</td>\n",
       "      <td>0.001519</td>\n",
       "      <td>0.238068</td>\n",
       "      <td>4.289363</td>\n",
       "      <td>9.999707e-01</td>\n",
       "      <td>NaN</td>\n",
       "      <td>NaN</td>\n",
       "      <td>NaN</td>\n",
       "    </tr>\n",
       "    <tr>\n",
       "      <th>...</th>\n",
       "      <td>...</td>\n",
       "      <td>...</td>\n",
       "      <td>...</td>\n",
       "      <td>...</td>\n",
       "      <td>...</td>\n",
       "      <td>...</td>\n",
       "      <td>...</td>\n",
       "      <td>...</td>\n",
       "      <td>...</td>\n",
       "      <td>...</td>\n",
       "      <td>...</td>\n",
       "      <td>...</td>\n",
       "      <td>...</td>\n",
       "      <td>...</td>\n",
       "      <td>...</td>\n",
       "      <td>...</td>\n",
       "      <td>...</td>\n",
       "      <td>...</td>\n",
       "      <td>...</td>\n",
       "    </tr>\n",
       "    <tr>\n",
       "      <th>170</th>\n",
       "      <td>33</td>\n",
       "      <td>12</td>\n",
       "      <td>453.724924</td>\n",
       "      <td>ICMR_2_1_1</td>\n",
       "      <td>0.558765</td>\n",
       "      <td>0.001408</td>\n",
       "      <td>0.923478</td>\n",
       "      <td>0.911737</td>\n",
       "      <td>1.000000e+00</td>\n",
       "      <td>0.692398</td>\n",
       "      <td>3.754031e+00</td>\n",
       "      <td>41.732538</td>\n",
       "      <td>0.014101</td>\n",
       "      <td>0.210838</td>\n",
       "      <td>1.000000</td>\n",
       "      <td>9.999987e-01</td>\n",
       "      <td>1.0</td>\n",
       "      <td>2.346397</td>\n",
       "      <td>True</td>\n",
       "    </tr>\n",
       "    <tr>\n",
       "      <th>171</th>\n",
       "      <td>34</td>\n",
       "      <td>12</td>\n",
       "      <td>505.251545</td>\n",
       "      <td>ICMR_2_1_1</td>\n",
       "      <td>0.879334</td>\n",
       "      <td>0.047960</td>\n",
       "      <td>0.987978</td>\n",
       "      <td>0.747921</td>\n",
       "      <td>6.166703e-01</td>\n",
       "      <td>0.972200</td>\n",
       "      <td>6.535717e+01</td>\n",
       "      <td>1.019130</td>\n",
       "      <td>0.004859</td>\n",
       "      <td>0.169058</td>\n",
       "      <td>1.000000</td>\n",
       "      <td>3.760444e-02</td>\n",
       "      <td>1.0</td>\n",
       "      <td>0.891258</td>\n",
       "      <td>True</td>\n",
       "    </tr>\n",
       "    <tr>\n",
       "      <th>172</th>\n",
       "      <td>35</td>\n",
       "      <td>12</td>\n",
       "      <td>626.606690</td>\n",
       "      <td>ICMR_2_1_1</td>\n",
       "      <td>0.786600</td>\n",
       "      <td>0.279719</td>\n",
       "      <td>0.940791</td>\n",
       "      <td>1.000000</td>\n",
       "      <td>8.948396e-01</td>\n",
       "      <td>0.921344</td>\n",
       "      <td>1.015767e+00</td>\n",
       "      <td>68.056205</td>\n",
       "      <td>0.002219</td>\n",
       "      <td>0.221608</td>\n",
       "      <td>1.000000</td>\n",
       "      <td>9.787574e-01</td>\n",
       "      <td>1.0</td>\n",
       "      <td>2.042654</td>\n",
       "      <td>True</td>\n",
       "    </tr>\n",
       "    <tr>\n",
       "      <th>173</th>\n",
       "      <td>36</td>\n",
       "      <td>12</td>\n",
       "      <td>475.515855</td>\n",
       "      <td>ICMR_2_1_1</td>\n",
       "      <td>0.659920</td>\n",
       "      <td>0.796691</td>\n",
       "      <td>0.583236</td>\n",
       "      <td>1.000000</td>\n",
       "      <td>1.063372e-01</td>\n",
       "      <td>0.909354</td>\n",
       "      <td>2.220446e-16</td>\n",
       "      <td>55.939231</td>\n",
       "      <td>0.014832</td>\n",
       "      <td>0.179301</td>\n",
       "      <td>1.000000</td>\n",
       "      <td>6.329322e-01</td>\n",
       "      <td>1.0</td>\n",
       "      <td>2.101005</td>\n",
       "      <td>True</td>\n",
       "    </tr>\n",
       "    <tr>\n",
       "      <th>174</th>\n",
       "      <td>37</td>\n",
       "      <td>12</td>\n",
       "      <td>257.100901</td>\n",
       "      <td>ICMR_2_1_1</td>\n",
       "      <td>0.738187</td>\n",
       "      <td>0.288408</td>\n",
       "      <td>0.956474</td>\n",
       "      <td>0.875646</td>\n",
       "      <td>3.360077e-01</td>\n",
       "      <td>0.891789</td>\n",
       "      <td>2.315670e+01</td>\n",
       "      <td>33.869544</td>\n",
       "      <td>0.015466</td>\n",
       "      <td>0.418285</td>\n",
       "      <td>1.000000</td>\n",
       "      <td>2.160404e-08</td>\n",
       "      <td>1.0</td>\n",
       "      <td>1.880805</td>\n",
       "      <td>True</td>\n",
       "    </tr>\n",
       "  </tbody>\n",
       "</table>\n",
       "<p>175 rows × 19 columns</p>\n",
       "</div>"
      ],
      "text/plain": [
       "     subject  trial_count  likelihood         model  encoding_drift_rate  \\\n",
       "0          1           12  690.878732  PrototypeCMR             0.643159   \n",
       "1          2           12  412.624966  PrototypeCMR             0.674161   \n",
       "2          3           12  689.357088  PrototypeCMR             0.828218   \n",
       "3          4           12  280.515004  PrototypeCMR             0.922606   \n",
       "4          5           12  666.457217  PrototypeCMR             0.525528   \n",
       "..       ...          ...         ...           ...                  ...   \n",
       "170       33           12  453.724924    ICMR_2_1_1             0.558765   \n",
       "171       34           12  505.251545    ICMR_2_1_1             0.879334   \n",
       "172       35           12  626.606690    ICMR_2_1_1             0.786600   \n",
       "173       36           12  475.515855    ICMR_2_1_1             0.659920   \n",
       "174       37           12  257.100901    ICMR_2_1_1             0.738187   \n",
       "\n",
       "     start_drift_rate  recall_drift_rate  shared_support  item_support  \\\n",
       "0            0.615549           0.949657        0.516430  4.653396e-01   \n",
       "1            0.571281           0.973806        1.000000  8.179991e-01   \n",
       "2            0.023595           0.926296        0.021927  2.220446e-16   \n",
       "3            0.003423           0.997730        0.002085  2.220446e-16   \n",
       "4            1.000000           0.881813        0.250809  9.528331e-01   \n",
       "..                ...                ...             ...           ...   \n",
       "170          0.001408           0.923478        0.911737  1.000000e+00   \n",
       "171          0.047960           0.987978        0.747921  6.166703e-01   \n",
       "172          0.279719           0.940791        1.000000  8.948396e-01   \n",
       "173          0.796691           0.583236        1.000000  1.063372e-01   \n",
       "174          0.288408           0.956474        0.875646  3.360077e-01   \n",
       "\n",
       "     learning_rate  primacy_scale  primacy_decay  stop_probability_scale  \\\n",
       "0         0.581203   4.343968e-01       9.725498                0.000097   \n",
       "1         1.000000   4.131544e-01      99.565120                0.011052   \n",
       "2         0.611047   1.982940e+01      41.905339                0.007402   \n",
       "3         0.501359   1.000000e+02      20.281386                0.080067   \n",
       "4         0.316558   1.122436e-01      16.715853                0.001519   \n",
       "..             ...            ...            ...                     ...   \n",
       "170       0.692398   3.754031e+00      41.732538                0.014101   \n",
       "171       0.972200   6.535717e+01       1.019130                0.004859   \n",
       "172       0.921344   1.015767e+00      68.056205                0.002219   \n",
       "173       0.909354   2.220446e-16      55.939231                0.014832   \n",
       "174       0.891789   2.315670e+01      33.869544                0.015466   \n",
       "\n",
       "     stop_probability_growth  choice_sensitivity  delay_drift_rate  \\\n",
       "0                   0.363230            7.720268      5.981709e-01   \n",
       "1                   0.266474            9.248449      3.967386e-07   \n",
       "2                   0.127703            1.149134      6.957215e-06   \n",
       "3                   0.085179            0.506712      2.220446e-16   \n",
       "4                   0.238068            4.289363      9.999707e-01   \n",
       "..                       ...                 ...               ...   \n",
       "170                 0.210838            1.000000      9.999987e-01   \n",
       "171                 0.169058            1.000000      3.760444e-02   \n",
       "172                 0.221608            1.000000      9.787574e-01   \n",
       "173                 0.179301            1.000000      6.329322e-01   \n",
       "174                 0.418285            1.000000      2.160404e-08   \n",
       "\n",
       "     feature_sensitivity  context_sensitivity learn_first  \n",
       "0                    NaN                  NaN         NaN  \n",
       "1                    NaN                  NaN         NaN  \n",
       "2                    NaN                  NaN         NaN  \n",
       "3                    NaN                  NaN         NaN  \n",
       "4                    NaN                  NaN         NaN  \n",
       "..                   ...                  ...         ...  \n",
       "170                  1.0             2.346397        True  \n",
       "171                  1.0             0.891258        True  \n",
       "172                  1.0             2.042654        True  \n",
       "173                  1.0             2.101005        True  \n",
       "174                  1.0             1.880805        True  \n",
       "\n",
       "[175 rows x 19 columns]"
      ]
     },
     "execution_count": 7,
     "metadata": {},
     "output_type": "execute_result"
    }
   ],
   "source": [
    "individual_fits"
   ]
  },
  {
   "cell_type": "code",
   "execution_count": 8,
   "id": "d5b0079a",
   "metadata": {
    "execution": {
     "iopub.execute_input": "2022-06-03T18:36:42.114909Z",
     "iopub.status.busy": "2022-06-03T18:36:42.114475Z",
     "iopub.status.idle": "2022-06-03T18:36:42.180898Z",
     "shell.execute_reply": "2022-06-03T18:36:42.179738Z"
    },
    "papermill": {
     "duration": 0.095297,
     "end_time": "2022-06-03T18:36:42.183287",
     "exception": false,
     "start_time": "2022-06-03T18:36:42.087990",
     "status": "completed"
    },
    "tags": []
   },
   "outputs": [
    {
     "name": "stdout",
     "output_type": "stream",
     "text": [
      "::: {#fig-LohnasKahanaCond1fits layout-nrow=2 layout-valign=\"center\"}\n",
      "\n",
      "![](results/individual_LohnasKahanaCond1.pdf)\n",
      "\n",
      "|       |   ICMR_2_0_0 |   ICMR_2_0_1 |   ICMR_2_1_0 |   ICMR_2_1_1 |   PrototypeCMR |\n",
      "|:------|-------------:|-------------:|-------------:|-------------:|---------------:|\n",
      "| count |       35     |       35     |       35     |       35     |         35     |\n",
      "| mean  |      519.307 |      519.309 |      519.211 |      519.634 |        518.71  |\n",
      "| std   |      157.887 |      157.802 |      158.245 |      157.826 |        157.923 |\n",
      "| min   |      255.812 |      254.171 |      255.382 |      257.101 |        253.914 |\n",
      "| 25%   |      396.038 |      396.463 |      396.486 |      396.456 |        398.9   |\n",
      "| 50%   |      499.756 |      503.226 |      503.976 |      505.252 |        501.706 |\n",
      "| 75%   |      630.217 |      630.839 |      629.946 |      629.718 |        629.315 |\n",
      "| max   |      893.361 |      895.184 |      893.937 |      894.408 |        894.405 |\n",
      "\n",
      "Distribution of log-likelihood scores of recall sequences exhibited by each subject in dataset under each considered model.\n",
      ":::\n"
     ]
    }
   ],
   "source": [
    "#| code-summary: display markdown rendering of summary table\n",
    "#| echo: false\n",
    "#| input: false\n",
    "#| output: asis\n",
    "\n",
    "summary_table = pd.DataFrame(group.describe().rename(columns={'likelihood':name}).squeeze()\n",
    "            for name, group in individual_fits[['model', 'likelihood']].groupby('model')).T.to_markdown()\n",
    "\n",
    "print(\"\"\"::: {{#fig-{section_tag}fits layout-nrow=2 layout-valign=\"center\"}}\n",
    "\n",
    "![]({results_path}individual_{section_tag}.pdf)\n",
    "\n",
    "{summary_table}\n",
    "\n",
    "{individual_fits_caption}\n",
    ":::\"\"\".format(section_tag=section_tag, summary_table=summary_table, individual_fits_caption=figure_caption, results_path=results_path))"
   ]
  },
  {
   "cell_type": "code",
   "execution_count": 9,
   "id": "4408fa13",
   "metadata": {
    "execution": {
     "iopub.execute_input": "2022-06-03T18:36:42.239499Z",
     "iopub.status.busy": "2022-06-03T18:36:42.239242Z",
     "iopub.status.idle": "2022-06-03T18:36:42.290173Z",
     "shell.execute_reply": "2022-06-03T18:36:42.289505Z"
    },
    "papermill": {
     "duration": 0.080528,
     "end_time": "2022-06-03T18:36:42.292405",
     "exception": false,
     "start_time": "2022-06-03T18:36:42.211877",
     "status": "completed"
    },
    "tags": []
   },
   "outputs": [
    {
     "name": "stdout",
     "output_type": "stream",
     "text": [
      "('PrototypeCMR', 'ICMR_2_0_0')\n",
      "Ttest_relResult(statistic=-1.7996620563287349, pvalue=0.08079394285001344)\n",
      "Ttest_relResult(statistic=-1.7996620563287349, pvalue=0.04039697142500672)\n",
      "Ttest_relResult(statistic=-1.7996620563287349, pvalue=0.9596030285749932)\n",
      "\n",
      "('PrototypeCMR', 'ICMR_2_0_1')\n",
      "Ttest_relResult(statistic=-1.8547606873967706, pvalue=0.07231968420898056)\n",
      "Ttest_relResult(statistic=-1.8547606873967706, pvalue=0.03615984210449028)\n",
      "Ttest_relResult(statistic=-1.8547606873967706, pvalue=0.9638401578955097)\n",
      "\n",
      "('PrototypeCMR', 'ICMR_2_1_0')\n",
      "Ttest_relResult(statistic=-1.167594631732929, pvalue=0.251093460523568)\n",
      "Ttest_relResult(statistic=-1.167594631732929, pvalue=0.125546730261784)\n",
      "Ttest_relResult(statistic=-1.167594631732929, pvalue=0.874453269738216)\n",
      "\n",
      "('PrototypeCMR', 'ICMR_2_1_1')\n",
      "Ttest_relResult(statistic=-2.1051817613353254, pvalue=0.0427401206630576)\n",
      "Ttest_relResult(statistic=-2.1051817613353254, pvalue=0.0213700603315288)\n",
      "Ttest_relResult(statistic=-2.1051817613353254, pvalue=0.9786299396684712)\n",
      "\n",
      "('ICMR_2_0_0', 'ICMR_2_0_1')\n",
      "Ttest_relResult(statistic=-0.0067605031129436225, pvalue=0.9946454523061941)\n",
      "Ttest_relResult(statistic=-0.0067605031129436225, pvalue=0.49732272615309703)\n",
      "Ttest_relResult(statistic=-0.0067605031129436225, pvalue=0.5026772738469031)\n",
      "\n",
      "('ICMR_2_0_0', 'ICMR_2_1_0')\n",
      "Ttest_relResult(statistic=0.2307789400236704, pvalue=0.8188696252985471)\n",
      "Ttest_relResult(statistic=0.2307789400236704, pvalue=0.5905651873507264)\n",
      "Ttest_relResult(statistic=0.2307789400236704, pvalue=0.40943481264927356)\n",
      "\n",
      "('ICMR_2_0_0', 'ICMR_2_1_1')\n",
      "Ttest_relResult(statistic=-1.0030679554593152, pvalue=0.3229138127350374)\n",
      "Ttest_relResult(statistic=-1.0030679554593152, pvalue=0.1614569063675187)\n",
      "Ttest_relResult(statistic=-1.0030679554593152, pvalue=0.8385430936324814)\n",
      "\n",
      "('ICMR_2_0_1', 'ICMR_2_1_0')\n",
      "Ttest_relResult(statistic=0.23327287718180734, pvalue=0.8169482689625762)\n",
      "Ttest_relResult(statistic=0.23327287718180734, pvalue=0.5915258655187119)\n",
      "Ttest_relResult(statistic=0.23327287718180734, pvalue=0.4084741344812881)\n",
      "\n",
      "('ICMR_2_0_1', 'ICMR_2_1_1')\n",
      "Ttest_relResult(statistic=-0.872793552567098, pvalue=0.38889810477820974)\n",
      "Ttest_relResult(statistic=-0.872793552567098, pvalue=0.19444905238910487)\n",
      "Ttest_relResult(statistic=-0.872793552567098, pvalue=0.8055509476108951)\n",
      "\n",
      "('ICMR_2_1_0', 'ICMR_2_1_1')\n",
      "Ttest_relResult(statistic=-1.3254273456879677, pvalue=0.19386723011173174)\n",
      "Ttest_relResult(statistic=-1.3254273456879677, pvalue=0.09693361505586587)\n",
      "Ttest_relResult(statistic=-1.3254273456879677, pvalue=0.9030663849441342)\n",
      "\n"
     ]
    }
   ],
   "source": [
    "#| code-summary: perform t-tests on individual-level fits\n",
    "#| output: false\n",
    " \n",
    "from scipy.stats import ttest_rel\n",
    "import itertools\n",
    "\n",
    "for combination in itertools.combinations(pd.unique(individual_fits.model), 2):\n",
    "\n",
    "    print(combination)\n",
    "    print(ttest_rel(individual_fits[individual_fits.model == combination[0]].likelihood, individual_fits[individual_fits.model == combination[1]].likelihood, alternative='two-sided'))\n",
    "    print(ttest_rel(individual_fits[individual_fits.model == combination[0]].likelihood, individual_fits[individual_fits.model == combination[1]].likelihood, alternative='less'))\n",
    "    print(ttest_rel(individual_fits[individual_fits.model == combination[0]].likelihood, individual_fits[individual_fits.model == combination[1]].likelihood, alternative='greater'))\n",
    "    print()"
   ]
  },
  {
   "cell_type": "code",
   "execution_count": 10,
   "id": "6c3847b2",
   "metadata": {
    "execution": {
     "iopub.execute_input": "2022-06-03T18:36:42.352590Z",
     "iopub.status.busy": "2022-06-03T18:36:42.352198Z",
     "iopub.status.idle": "2022-06-03T18:36:42.420397Z",
     "shell.execute_reply": "2022-06-03T18:36:42.419496Z"
    },
    "papermill": {
     "duration": 0.098388,
     "end_time": "2022-06-03T18:36:42.422456",
     "exception": false,
     "start_time": "2022-06-03T18:36:42.324068",
     "status": "completed"
    },
    "tags": []
   },
   "outputs": [
    {
     "name": "stdout",
     "output_type": "stream",
     "text": [
      "('PrototypeCMR', 'ICMR_2_0_0')\n",
      "0.7142857142857143 0.2857142857142857\n",
      "25 10\n",
      "\n",
      "('PrototypeCMR', 'ICMR_2_0_1')\n",
      "0.7142857142857143 0.2857142857142857\n",
      "25 10\n",
      "\n",
      "('PrototypeCMR', 'ICMR_2_1_0')\n",
      "0.7142857142857143 0.2857142857142857\n",
      "25 10\n",
      "\n",
      "('PrototypeCMR', 'ICMR_2_1_1')\n",
      "0.7428571428571429 0.2571428571428571\n",
      "26 9\n",
      "\n",
      "('ICMR_2_0_0', 'ICMR_2_0_1')\n",
      "0.5142857142857142 0.4857142857142857\n",
      "18 17\n",
      "\n",
      "('ICMR_2_0_0', 'ICMR_2_1_0')\n",
      "0.45714285714285713 0.5428571428571428\n",
      "16 19\n",
      "\n",
      "('ICMR_2_0_0', 'ICMR_2_1_1')\n",
      "0.5142857142857142 0.4857142857142857\n",
      "18 17\n",
      "\n",
      "('ICMR_2_0_1', 'ICMR_2_1_0')\n",
      "0.5714285714285714 0.42857142857142855\n",
      "20 15\n",
      "\n",
      "('ICMR_2_0_1', 'ICMR_2_1_1')\n",
      "0.5714285714285714 0.42857142857142855\n",
      "20 15\n",
      "\n",
      "('ICMR_2_1_0', 'ICMR_2_1_1')\n",
      "0.6285714285714286 0.37142857142857144\n",
      "22 13\n",
      "\n"
     ]
    }
   ],
   "source": [
    "for combination in itertools.combinations(pd.unique(individual_fits.model), 2):\n",
    "\n",
    "    print(combination)\n",
    "    print(np.mean(individual_fits[individual_fits.model == combination[0]].likelihood.values < individual_fits[individual_fits.model == combination[1]].likelihood.values), \n",
    "        np.mean(individual_fits[individual_fits.model == combination[1]].likelihood.values < individual_fits[individual_fits.model == combination[0]].likelihood.values))\n",
    "\n",
    "    print(np.sum(individual_fits[individual_fits.model == combination[0]].likelihood.values < individual_fits[individual_fits.model == combination[1]].likelihood.values), \n",
    "        np.sum(individual_fits[individual_fits.model == combination[1]].likelihood.values < individual_fits[individual_fits.model == combination[0]].likelihood.values))\n",
    "\n",
    "    print()"
   ]
  },
  {
   "cell_type": "code",
   "execution_count": 11,
   "id": "38b12791",
   "metadata": {
    "execution": {
     "iopub.execute_input": "2022-06-03T18:36:42.470774Z",
     "iopub.status.busy": "2022-06-03T18:36:42.470341Z",
     "iopub.status.idle": "2022-06-03T18:36:43.102223Z",
     "shell.execute_reply": "2022-06-03T18:36:43.101431Z"
    },
    "papermill": {
     "duration": 0.658337,
     "end_time": "2022-06-03T18:36:43.104151",
     "exception": false,
     "start_time": "2022-06-03T18:36:42.445814",
     "status": "completed"
    },
    "tags": []
   },
   "outputs": [
    {
     "name": "stdout",
     "output_type": "stream",
     "text": [
      "[9.99999974e-01 8.60073453e-10 7.97604839e-10 2.47809969e-08\n",
      " 9.26457732e-15]\n"
     ]
    }
   ],
   "source": [
    "def model_weights(positive_log_likelihoods, number_parameters, N):\n",
    "    AIC = 2 * positive_log_likelihoods + 2 * number_parameters\n",
    "    AICc = AIC #+ (2*np.power(number_parameters, 2) + 2 * number_parameters) / (N - number_parameters - 2)\n",
    "    AICd = AIC - np.min(AICc)\n",
    "    #return AICd\n",
    "    AICw = np.exp(-.5 * AICd) / np.sum(np.exp(-.5 * AICd))\n",
    "    return AICw\n",
    "\n",
    "aicw = {'Model': [], 'Subject': [], 'AICw': []}\n",
    "\n",
    "total_nlns = np.zeros(len(models))\n",
    "for subject_index, subject in enumerate(pd.unique(events.subject)):\n",
    "\n",
    "    subject_specific_trial_mask = np.logical_and(\n",
    "                    generate_trial_mask(events, f'subject == {subject}'), trial_mask)\n",
    "\n",
    "    nlnLs = []\n",
    "    for model_index, model_class in enumerate(models):\n",
    "        nlnLs.append(\n",
    "            individual_fits[individual_fits.model == model_names[model_index]].likelihood.values[subject_index])\n",
    "    nlnLs = np.array(nlnLs)\n",
    "    total_nlns += nlnLs\n",
    "    \n",
    "    weights = model_weights(nlnLs, len(free_parameters[model_index]), np.sum(subject_specific_trial_mask))\n",
    "    #print(weights)\n",
    "    for model_index, model_class in enumerate(models):\n",
    "        aicw['Model'].append(model_names[model_index])\n",
    "        aicw['Subject'].append(subject)\n",
    "        aicw['AICw'].append(weights[model_index])\n",
    "\n",
    "aicw = pd.DataFrame(data=aicw)\n",
    "total_aicw = model_weights(total_nlns, len(free_parameters[model_index]), np.sum(trial_mask))\n",
    "print(total_aicw)"
   ]
  },
  {
   "cell_type": "code",
   "execution_count": 12,
   "id": "ec087bb1",
   "metadata": {
    "execution": {
     "iopub.execute_input": "2022-06-03T18:36:43.152209Z",
     "iopub.status.busy": "2022-06-03T18:36:43.151975Z",
     "iopub.status.idle": "2022-06-03T18:36:43.474455Z",
     "shell.execute_reply": "2022-06-03T18:36:43.473520Z"
    },
    "papermill": {
     "duration": 0.348784,
     "end_time": "2022-06-03T18:36:43.476377",
     "exception": false,
     "start_time": "2022-06-03T18:36:43.127593",
     "status": "completed"
    },
    "tags": []
   },
   "outputs": [
    {
     "data": {
      "image/png": "[encoded data removed]",
      "text/plain": [
       "<Figure size 640x480 with 1 Axes>"
      ]
     },
     "metadata": {},
     "output_type": "display_data"
    }
   ],
   "source": [
    "import seaborn as sns\n",
    "sns.set_theme(style=\"darkgrid\")\n",
    "x = sns.pointplot(x=\"Model\", y=\"AICw\", data=aicw, join=False)\n",
    "\n",
    "plt.show()"
   ]
  },
  {
   "cell_type": "code",
   "execution_count": 13,
   "id": "0600f86d",
   "metadata": {
    "execution": {
     "iopub.execute_input": "2022-06-03T18:36:43.527849Z",
     "iopub.status.busy": "2022-06-03T18:36:43.527469Z",
     "iopub.status.idle": "2022-06-03T18:36:43.531738Z",
     "shell.execute_reply": "2022-06-03T18:36:43.530827Z"
    },
    "papermill": {
     "duration": 0.032693,
     "end_time": "2022-06-03T18:36:43.534440",
     "exception": false,
     "start_time": "2022-06-03T18:36:43.501747",
     "status": "completed"
    },
    "tags": []
   },
   "outputs": [],
   "source": [
    "from compmemlearn.datasets import find_first"
   ]
  },
  {
   "cell_type": "code",
   "execution_count": 14,
   "id": "12772624",
   "metadata": {
    "execution": {
     "iopub.execute_input": "2022-06-03T18:36:43.598054Z",
     "iopub.status.busy": "2022-06-03T18:36:43.597758Z",
     "iopub.status.idle": "2022-06-03T18:36:43.613374Z",
     "shell.execute_reply": "2022-06-03T18:36:43.612523Z"
    },
    "papermill": {
     "duration": 0.048043,
     "end_time": "2022-06-03T18:36:43.615005",
     "exception": false,
     "start_time": "2022-06-03T18:36:43.566962",
     "status": "completed"
    },
    "tags": []
   },
   "outputs": [],
   "source": [
    "def simulate_df_from_events(model_class, parameters, events, trial_mask, experiment_count, first_recall_item=None):\n",
    "\n",
    "    trials, list_lengths, presentations = events_metadata(events)\n",
    "    chose = [i for i in range(len(trial_mask)) if np.sum(trial_mask[i]) != 0]\n",
    "    assert(len(chose) == 1)\n",
    "    chose = chose[0]\n",
    "    trial_mask = trial_mask[chose]\n",
    "    trials = trials[chose][trial_mask]\n",
    "    presentations = presentations[chose][trial_mask]\n",
    "\n",
    "    default_columns = ['subject', 'list', 'trial_type', 'item', 'input', 'output', 'study', 'recall', 'repeat', 'intrusion', 'first_input']\n",
    "    extra_columns = [each for each in events.columns if each not in default_columns]\n",
    "\n",
    "    labels = {}\n",
    "    for column in extra_columns:\n",
    "        try:\n",
    "            labels[column] = (\n",
    "                events.pivot_table(index=['subject', 'list'], dropna=False)[column].values)\n",
    "\n",
    "            if 'list length' in events.columns:\n",
    "                trial_details = events.pivot_table(index=['subject', 'list'], dropna=False).reset_index()\n",
    "                list_length_mask = trial_details.eval(trial_query).to_numpy(dtype='bool')\n",
    "                labels[column] = labels[column][list_length_mask]\n",
    "            else:\n",
    "                labels[column] = labels[column][trial_mask]\n",
    "        except KeyError:\n",
    "            pass\n",
    "\n",
    "    data = []\n",
    "    for experiment in range(experiment_count):\n",
    "        for trial_index in range(len(presentations)):\n",
    "        \n",
    "            # retrieve presentation sequence for this trial and measure number of unique items\n",
    "            presentation = presentations[trial_index]\n",
    "            item_count = np.max(presentation)+1\n",
    "\n",
    "            # record presentation events\n",
    "            for presentation_index, presentation_event in enumerate(presentation):\n",
    "                data.append([\n",
    "                    experiment, trial_index, 'study', presentation_index+1, presentation_event, presentation_index+1])\n",
    "                for label in labels:\n",
    "                    data[-1].append(labels[label][trial_index])\n",
    "\n",
    "            # simulate recall and identify first study position of each recalled item\n",
    "            model = model_class(item_count, len(presentation), parameters)\n",
    "            model.experience(model.items[presentation])\n",
    "            if first_recall_item is not None:\n",
    "                model.force_recall(first_recall_item)\n",
    "            recalled = model.free_recall()\n",
    "            trial = [find_first(recalled[i], presentation) + 1 for i in range(len(recalled))]\n",
    "\n",
    "            # record recall events\n",
    "            for recall_index, recall_event in enumerate(trial):\n",
    "                if recall_event != 0:\n",
    "                    data.append([\n",
    "                        experiment, trial_index, 'recall', recall_index+1, \n",
    "                        presentation[recall_event-1], recall_event])\n",
    "                    for label in labels:\n",
    "                        data[-1].append(labels[label][trial_index])\n",
    "\n",
    "    data = pd.DataFrame(data, columns=[\n",
    "        'subject', 'list', 'trial_type', 'position', 'item', 'first_input'] + list(labels.keys()))\n",
    "    merged = fr.merge_free_recall(data, list_keys=['first_input'] + list(labels.keys()))\n",
    "    return merged"
   ]
  },
  {
   "cell_type": "markdown",
   "id": "caca1f58",
   "metadata": {
    "tags": [
     "papermill-error-cell-tag"
    ]
   },
   "source": [
    "<span id=\"papermill-error-cell\" style=\"color:red; font-family:Helvetica Neue, Helvetica, Arial, sans-serif; font-size:2em;\">Execution using papermill encountered an exception here and stopped:</span>"
   ]
  },
  {
   "cell_type": "code",
   "execution_count": 15,
   "id": "3f847855",
   "metadata": {
    "execution": {
     "iopub.execute_input": "2022-06-03T18:36:43.666424Z",
     "iopub.status.busy": "2022-06-03T18:36:43.665980Z",
     "iopub.status.idle": "2022-06-03T18:37:56.227363Z",
     "shell.execute_reply": "2022-06-03T18:37:56.224925Z"
    },
    "papermill": {
     "duration": 72.589325,
     "end_time": "2022-06-03T18:37:56.229261",
     "exception": true,
     "start_time": "2022-06-03T18:36:43.639936",
     "status": "failed"
    },
    "tags": []
   },
   "outputs": [
    {
     "name": "stdout",
     "output_type": "stream",
     "text": [
      "sim_df for PrototypeCMR with tag LohnasKahanaCond1 and list length 40 already exists\n"
     ]
    },
    {
     "ename": "ValueError",
     "evalue": "cannot reindex from a duplicate axis",
     "output_type": "error",
     "traceback": [
      "\u001b[1;31m---------------------------------------------------------------------------\u001b[0m",
      "\u001b[1;31mValueError\u001b[0m                                Traceback (most recent call last)",
      "\u001b[1;32mc:\\Users\\gunnj\\compmemlearn\\report_templates\\Subjectwise_Model_Evaluation_Double_LohnasKahanaCond1.ipynb Cell 17'\u001b[0m in \u001b[0;36m<module>\u001b[1;34m\u001b[0m\n\u001b[0;32m     <a href='vscode-notebook-cell:/c%3A/Users/gunnj/compmemlearn/report_templates/Subjectwise_Model_Evaluation_Double_LohnasKahanaCond1.ipynb#ch0000016?line=73'>74</a>\u001b[0m \u001b[39mfor\u001b[39;00m analysis_index, analysis_function \u001b[39min\u001b[39;00m \u001b[39menumerate\u001b[39m(analyses):\n\u001b[0;32m     <a href='vscode-notebook-cell:/c%3A/Users/gunnj/compmemlearn/report_templates/Subjectwise_Model_Evaluation_Double_LohnasKahanaCond1.ipynb#ch0000016?line=74'>75</a>\u001b[0m     analysis_name \u001b[39m=\u001b[39m analysis_names[analysis_index]\n\u001b[1;32m---> <a href='vscode-notebook-cell:/c%3A/Users/gunnj/compmemlearn/report_templates/Subjectwise_Model_Evaluation_Double_LohnasKahanaCond1.ipynb#ch0000016?line=75'>76</a>\u001b[0m     axis \u001b[39m=\u001b[39m analysis_function(\n        analysis_function \u001b[1;34m= <function plot_spc at 0x000001D31FAD63A0>\u001b[0m\u001b[1;34m\n        \u001b[0mmodel_index \u001b[1;34m= 0\u001b[0m\u001b[1;34m\n        \u001b[0msim_df \u001b[1;34m=        subject  list  item  input  output  study  recall  repeat  intrusion  \\\n0            1     0     0      1     2.0   True    True       0      False   \n1            1     0     1      2     1.0   True    True       0      False   \n2            1     0     2      3     NaN   True   False       0      False   \n3            1     0     3      4     NaN   True   False       0      False   \n4            1     0     4      5     3.0   True    True       0      False   \n...        ...   ...   ...    ...     ...    ...     ...     ...        ...   \n16795       37    11    35     36     NaN   True   False       0      False   \n16796       37    11    36     37     NaN   True   False       0      False   \n16797       37    11    37     38     NaN   True   False       0      False   \n16798       37    11    38     39     NaN   True   False       0      False   \n16799       37    11    39     40     NaN   True   False       0      False   \n\n       first_input  condition  \n0                1        1.0  \n1                2        1.0  \n2                3        1.0  \n3                4        1.0  \n4                5        1.0  \n...            ...        ...  \n16795           36        1.0  \n16796           37        1.0  \n16797           38        1.0  \n16798           39        1.0  \n16799           40        1.0  \n\n[16800 rows x 11 columns]\u001b[0m\u001b[1;34m\n        \u001b[0manalysis_query \u001b[1;34m= 'condition == 1'\u001b[0m\u001b[1;34m\n        \u001b[0mmodel_names[model_index] \u001b[1;34m= 'PrototypeCMR'\u001b[0m\u001b[1;34m\n        \u001b[0m[events, sim_df] \u001b[1;34m= [       subject  list  item  input  output  study  recall  repeat  intrusion  \\\n0            1     1     0      1     1.0   True    True       0      False   \n1            1     1     1      2     2.0   True    True       0      False   \n2            1     1     2      3     3.0   True    True       0      False   \n3            1     1     3      4     4.0   True    True       0      False   \n4            1     1     4      5     5.0   True    True       0      False   \n...        ...   ...   ...    ...     ...    ...     ...     ...        ...   \n67195       37    48    35     36     6.0   True    True       0      False   \n67196       37    48    36     37     NaN   True   False       0      False   \n67197       37    48    37     38     NaN   True   False       0      False   \n67198       37    48    38     39     5.0   True    True       0      False   \n67199       37    48    39     40     NaN   True   False       0      False   \n\n       condition  first_input  \n0              4            1  \n1              4            2  \n2              4            3  \n3              4            4  \n4              4            5  \n...          ...          ...  \n67195          1           36  \n67196          1           37  \n67197          1           38  \n67198          1           39  \n67199          1           40  \n\n[67200 rows x 11 columns],        subject  list  item  input  output  study  recall  repeat  intrusion  \\\n0            1     0     0      1     2.0   True    True       0      False   \n1            1     0     1      2     1.0   True    True       0      False   \n2            1     0     2      3     NaN   True   False       0      False   \n3            1     0     3      4     NaN   True   False       0      False   \n4            1     0     4      5     3.0   True    True       0      False   \n...        ...   ...   ...    ...     ...    ...     ...     ...        ...   \n16795       37    11    35     36     NaN   True   False       0      False   \n16796       37    11    36     37     NaN   True   False       0      False   \n16797       37    11    37     38     NaN   True   False       0      False   \n16798       37    11    38     39     NaN   True   False       0      False   \n16799       37    11    39     40     NaN   True   False       0      False   \n\n       first_input  condition  \n0                1        1.0  \n1                2        1.0  \n2                3        1.0  \n3                4        1.0  \n4                5        1.0  \n...            ...        ...  \n16795           36        1.0  \n16796           37        1.0  \n16797           38        1.0  \n16798           39        1.0  \n16799           40        1.0  \n\n[16800 rows x 11 columns]]\u001b[0m\u001b[1;34m\n        \u001b[0mmodel_names \u001b[1;34m= ['PrototypeCMR', 'ICMR_2_0_0', 'ICMR_2_0_1', 'ICMR_2_1_0', 'ICMR_2_1_1']\u001b[0m\u001b[1;34m\n        \u001b[0mevents \u001b[1;34m=        subject  list  item  input  output  study  recall  repeat  intrusion  \\\n0            1     1     0      1     1.0   True    True       0      False   \n1            1     1     1      2     2.0   True    True       0      False   \n2            1     1     2      3     3.0   True    True       0      False   \n3            1     1     3      4     4.0   True    True       0      False   \n4            1     1     4      5     5.0   True    True       0      False   \n...        ...   ...   ...    ...     ...    ...     ...     ...        ...   \n67195       37    48    35     36     6.0   True    True       0      False   \n67196       37    48    36     37     NaN   True   False       0      False   \n67197       37    48    37     38     NaN   True   False       0      False   \n67198       37    48    38     39     5.0   True    True       0      False   \n67199       37    48    39     40     NaN   True   False       0      False   \n\n       condition  first_input  \n0              4            1  \n1              4            2  \n2              4            3  \n3              4            4  \n4              4            5  \n...          ...          ...  \n67195          1           36  \n67196          1           37  \n67197          1           38  \n67198          1           39  \n67199          1           40  \n\n[67200 rows x 11 columns]\u001b[0m\u001b[1;34m\n        \u001b[0m[\"data\", model_names[model_index]] \u001b[1;34m= ['data', 'PrototypeCMR']\u001b[0m\n\u001b[0;32m     <a href='vscode-notebook-cell:/c%3A/Users/gunnj/compmemlearn/report_templates/Subjectwise_Model_Evaluation_Double_LohnasKahanaCond1.ipynb#ch0000016?line=76'>77</a>\u001b[0m         [events, sim_df], analysis_query, contrast_name\u001b[39m=\u001b[39;49m\u001b[39m\"\u001b[39;49m\u001b[39msource\u001b[39;49m\u001b[39m\"\u001b[39;49m, labels\u001b[39m=\u001b[39;49m[\u001b[39m\"\u001b[39;49m\u001b[39mdata\u001b[39;49m\u001b[39m\"\u001b[39;49m, model_names[model_index]])\n\u001b[0;32m     <a href='vscode-notebook-cell:/c%3A/Users/gunnj/compmemlearn/report_templates/Subjectwise_Model_Evaluation_Double_LohnasKahanaCond1.ipynb#ch0000016?line=77'>78</a>\u001b[0m     plt\u001b[39m.\u001b[39msavefig(results_path\u001b[39m+\u001b[39m\u001b[39m'\u001b[39m\u001b[39m{}\u001b[39;00m\u001b[39m_\u001b[39m\u001b[39m{}\u001b[39;00m\u001b[39m_ll\u001b[39m\u001b[39m{}\u001b[39;00m\u001b[39m_\u001b[39m\u001b[39m{}\u001b[39;00m\u001b[39m.pdf\u001b[39m\u001b[39m'\u001b[39m\u001b[39m.\u001b[39mformat(section_tag, model_names[model_index], list_length, analysis_name), bbox_inches\u001b[39m=\u001b[39m\u001b[39m\"\u001b[39m\u001b[39mtight\u001b[39m\u001b[39m\"\u001b[39m)\n\u001b[0;32m     <a href='vscode-notebook-cell:/c%3A/Users/gunnj/compmemlearn/report_templates/Subjectwise_Model_Evaluation_Double_LohnasKahanaCond1.ipynb#ch0000016?line=78'>79</a>\u001b[0m     plt\u001b[39m.\u001b[39mshow()\n",
      "File \u001b[1;32mc:\\users\\gunnj\\compmemlearn\\compmemlearn\\analyses.py:1091\u001b[0m, in \u001b[0;36mplot_spc\u001b[1;34m(data=[       subject  list  item  input  output  study...      1           40  \n\n[67200 rows x 11 columns],        subject  list  item  input  output  study...       40        1.0  \n\n[16800 rows x 11 columns]], trial_query='condition == 1', contrast_name='source', labels=['data', 'PrototypeCMR'], axis=<AxesSubplot:>)\u001b[0m\n\u001b[0;32m   <a href='file:///c%3A/users/gunnj/compmemlearn/compmemlearn/analyses.py?line=1079'>1080</a>\u001b[0m         result\u001b[39m.\u001b[39mappend(pd\u001b[39m.\u001b[39mDataFrame\u001b[39m.\u001b[39mfrom_dict(\n\u001b[0;32m   <a href='file:///c%3A/users/gunnj/compmemlearn/compmemlearn/analyses.py?line=1080'>1081</a>\u001b[0m             {\n\u001b[0;32m   <a href='file:///c%3A/users/gunnj/compmemlearn/compmemlearn/analyses.py?line=1081'>1082</a>\u001b[0m                 \u001b[39m\"\u001b[39m\u001b[39msubject\u001b[39m\u001b[39m\"\u001b[39m: subject,\n\u001b[1;32m   (...)\u001b[0m\n\u001b[0;32m   <a href='file:///c%3A/users/gunnj/compmemlearn/compmemlearn/analyses.py?line=1085'>1086</a>\u001b[0m             }\n\u001b[0;32m   <a href='file:///c%3A/users/gunnj/compmemlearn/compmemlearn/analyses.py?line=1086'>1087</a>\u001b[0m         ))\n\u001b[0;32m   <a href='file:///c%3A/users/gunnj/compmemlearn/compmemlearn/analyses.py?line=1088'>1089</a>\u001b[0m result \u001b[39m=\u001b[39m pd\u001b[39m.\u001b[39mconcat(result)\n\u001b[1;32m-> <a href='file:///c%3A/users/gunnj/compmemlearn/compmemlearn/analyses.py?line=1090'>1091</a>\u001b[0m sns\u001b[39m.\u001b[39;49mlineplot(ax\u001b[39m=\u001b[39;49maxis, data\u001b[39m=\u001b[39;49mresult, x\u001b[39m=\u001b[39;49m\u001b[39m'\u001b[39;49m\u001b[39minput\u001b[39;49m\u001b[39m'\u001b[39;49m, y\u001b[39m=\u001b[39;49m\u001b[39m'\u001b[39;49m\u001b[39mrecall\u001b[39;49m\u001b[39m'\u001b[39;49m, err_style\u001b[39m=\u001b[39;49m\u001b[39m'\u001b[39;49m\u001b[39mbars\u001b[39;49m\u001b[39m'\u001b[39;49m, hue\u001b[39m=\u001b[39;49mcontrast_name)\n        result \u001b[1;34m=     subject  input    recall        source\n0         1      1  0.833333          data\n1         1      2  0.833333          data\n2         1      3  0.666667          data\n3         1      4  0.333333          data\n4         1      5  0.750000          data\n..      ...    ...       ...           ...\n35       37     36  0.250000  PrototypeCMR\n36       37     37  0.083333  PrototypeCMR\n37       37     38  0.083333  PrototypeCMR\n38       37     39  0.250000  PrototypeCMR\n39       37     40  0.333333  PrototypeCMR\n\n[2800 rows x 4 columns]\u001b[0m\u001b[1;34m\n        \u001b[0mcontrast_name \u001b[1;34m= 'source'\u001b[0m\u001b[1;34m\n        \u001b[0maxis \u001b[1;34m= <AxesSubplot:>\u001b[0m\u001b[1;34m\n        \u001b[0msns \u001b[1;34m= <module 'seaborn' from 'c:\\\\ProgramData\\\\Miniconda3\\\\lib\\\\site-packages\\\\seaborn\\\\__init__.py'>\u001b[0m\n\u001b[0;32m   <a href='file:///c%3A/users/gunnj/compmemlearn/compmemlearn/analyses.py?line=1091'>1092</a>\u001b[0m axis\u001b[39m.\u001b[39mset(xlabel\u001b[39m=\u001b[39m\u001b[39m'\u001b[39m\u001b[39mStudy Position\u001b[39m\u001b[39m'\u001b[39m, ylabel\u001b[39m=\u001b[39m\u001b[39m'\u001b[39m\u001b[39mRecall Rate\u001b[39m\u001b[39m'\u001b[39m)\n\u001b[0;32m   <a href='file:///c%3A/users/gunnj/compmemlearn/compmemlearn/analyses.py?line=1092'>1093</a>\u001b[0m axis\u001b[39m.\u001b[39mset_xticks(np\u001b[39m.\u001b[39marange(\u001b[39m1\u001b[39m, list_length\u001b[39m+\u001b[39m\u001b[39mint\u001b[39m(list_length\u001b[39m/\u001b[39m\u001b[39m10\u001b[39m), \u001b[39mint\u001b[39m(list_length\u001b[39m/\u001b[39m\u001b[39m10\u001b[39m)))\n",
      "File \u001b[1;32mc:\\ProgramData\\Miniconda3\\lib\\site-packages\\seaborn\\_decorators.py:46\u001b[0m, in \u001b[0;36m_deprecate_positional_args.<locals>.inner_f\u001b[1;34m(*args=(), **kwargs={'ax': <AxesSubplot:>, 'data':     subject  input    recall        source\n0    ...  0.333333  PrototypeCMR\n\n[2800 rows x 4 columns], 'err_style': 'bars', 'hue': 'source', 'x': 'input', 'y': 'recall'})\u001b[0m\n\u001b[0;32m     <a href='file:///c%3A/ProgramData/Miniconda3/lib/site-packages/seaborn/_decorators.py?line=35'>36</a>\u001b[0m     warnings\u001b[39m.\u001b[39mwarn(\n\u001b[0;32m     <a href='file:///c%3A/ProgramData/Miniconda3/lib/site-packages/seaborn/_decorators.py?line=36'>37</a>\u001b[0m         \u001b[39m\"\u001b[39m\u001b[39mPass the following variable\u001b[39m\u001b[39m{}\u001b[39;00m\u001b[39m as \u001b[39m\u001b[39m{}\u001b[39;00m\u001b[39mkeyword arg\u001b[39m\u001b[39m{}\u001b[39;00m\u001b[39m: \u001b[39m\u001b[39m{}\u001b[39;00m\u001b[39m. \u001b[39m\u001b[39m\"\u001b[39m\n\u001b[0;32m     <a href='file:///c%3A/ProgramData/Miniconda3/lib/site-packages/seaborn/_decorators.py?line=37'>38</a>\u001b[0m         \u001b[39m\"\u001b[39m\u001b[39mFrom version 0.12, the only valid positional argument \u001b[39m\u001b[39m\"\u001b[39m\n\u001b[1;32m   (...)\u001b[0m\n\u001b[0;32m     <a href='file:///c%3A/ProgramData/Miniconda3/lib/site-packages/seaborn/_decorators.py?line=42'>43</a>\u001b[0m         \u001b[39mFutureWarning\u001b[39;00m\n\u001b[0;32m     <a href='file:///c%3A/ProgramData/Miniconda3/lib/site-packages/seaborn/_decorators.py?line=43'>44</a>\u001b[0m     )\n\u001b[0;32m     <a href='file:///c%3A/ProgramData/Miniconda3/lib/site-packages/seaborn/_decorators.py?line=44'>45</a>\u001b[0m kwargs\u001b[39m.\u001b[39mupdate({k: arg \u001b[39mfor\u001b[39;00m k, arg \u001b[39min\u001b[39;00m \u001b[39mzip\u001b[39m(sig\u001b[39m.\u001b[39mparameters, args)})\n\u001b[1;32m---> <a href='file:///c%3A/ProgramData/Miniconda3/lib/site-packages/seaborn/_decorators.py?line=45'>46</a>\u001b[0m \u001b[39mreturn\u001b[39;00m f(\u001b[39m*\u001b[39m\u001b[39m*\u001b[39mkwargs)\n        f \u001b[1;34m= <function lineplot at 0x000001D31F733DC0>\u001b[0m\u001b[1;34m\n        \u001b[0mkwargs \u001b[1;34m= {'ax': <AxesSubplot:>, 'data':     subject  input    recall        source\n0         1      1  0.833333          data\n1         1      2  0.833333          data\n2         1      3  0.666667          data\n3         1      4  0.333333          data\n4         1      5  0.750000          data\n..      ...    ...       ...           ...\n35       37     36  0.250000  PrototypeCMR\n36       37     37  0.083333  PrototypeCMR\n37       37     38  0.083333  PrototypeCMR\n38       37     39  0.250000  PrototypeCMR\n39       37     40  0.333333  PrototypeCMR\n\n[2800 rows x 4 columns], 'x': 'input', 'y': 'recall', 'err_style': 'bars', 'hue': 'source'}\u001b[0m\n",
      "File \u001b[1;32mc:\\ProgramData\\Miniconda3\\lib\\site-packages\\seaborn\\relational.py:710\u001b[0m, in \u001b[0;36mlineplot\u001b[1;34m(x='input', y='recall', hue='source', size=None, style=None, data=    subject  input    recall        source\n0    ...  0.333333  PrototypeCMR\n\n[2800 rows x 4 columns], palette=None, hue_order=None, hue_norm=None, sizes=None, size_order=None, size_norm=None, dashes=True, markers=None, style_order=None, units=None, estimator='mean', ci=95, n_boot=1000, seed=None, sort=True, err_style='bars', err_kws=None, legend='auto', ax=<AxesSubplot:>, **kwargs={'color': (0.2980392156862745, 0.4470588235294118, 0.6901960784313725), 'linestyle': None, 'linewidth': 1.5, 'marker': 'None', 'markeredgecolor': 'w', 'markeredgewidth': 0.75})\u001b[0m\n\u001b[0;32m    <a href='file:///c%3A/ProgramData/Miniconda3/lib/site-packages/seaborn/relational.py?line=705'>706</a>\u001b[0m     \u001b[39mreturn\u001b[39;00m ax\n\u001b[0;32m    <a href='file:///c%3A/ProgramData/Miniconda3/lib/site-packages/seaborn/relational.py?line=707'>708</a>\u001b[0m p\u001b[39m.\u001b[39m_attach(ax)\n\u001b[1;32m--> <a href='file:///c%3A/ProgramData/Miniconda3/lib/site-packages/seaborn/relational.py?line=709'>710</a>\u001b[0m p\u001b[39m.\u001b[39;49mplot(ax, kwargs)\n        p \u001b[1;34m= <seaborn.relational._LinePlotter object at 0x000001D327C9C340>\u001b[0m\u001b[1;34m\n        \u001b[0max \u001b[1;34m= <AxesSubplot:>\u001b[0m\u001b[1;34m\n        \u001b[0mkwargs \u001b[1;34m= {'markeredgewidth': 0.75, 'markeredgecolor': 'w', 'color': (0.2980392156862745, 0.4470588235294118, 0.6901960784313725), 'marker': 'None', 'linewidth': 1.5, 'linestyle': None}\u001b[0m\n\u001b[0;32m    <a href='file:///c%3A/ProgramData/Miniconda3/lib/site-packages/seaborn/relational.py?line=710'>711</a>\u001b[0m \u001b[39mreturn\u001b[39;00m ax\n",
      "File \u001b[1;32mc:\\ProgramData\\Miniconda3\\lib\\site-packages\\seaborn\\relational.py:471\u001b[0m, in \u001b[0;36m_LinePlotter.plot\u001b[1;34m(self=<seaborn.relational._LinePlotter object>, ax=<AxesSubplot:>, kws={'color': (0.2980392156862745, 0.4470588235294118, 0.6901960784313725), 'linestyle': None, 'linewidth': 1.5, 'marker': 'None', 'markeredgecolor': 'w', 'markeredgewidth': 0.75})\u001b[0m\n\u001b[0;32m    <a href='file:///c%3A/ProgramData/Miniconda3/lib/site-packages/seaborn/relational.py?line=468'>469</a>\u001b[0m \u001b[39m# Loop over the semantic subsets and add to the plot\u001b[39;00m\n\u001b[0;32m    <a href='file:///c%3A/ProgramData/Miniconda3/lib/site-packages/seaborn/relational.py?line=469'>470</a>\u001b[0m grouping_vars \u001b[39m=\u001b[39m \u001b[39m\"\u001b[39m\u001b[39mhue\u001b[39m\u001b[39m\"\u001b[39m, \u001b[39m\"\u001b[39m\u001b[39msize\u001b[39m\u001b[39m\"\u001b[39m, \u001b[39m\"\u001b[39m\u001b[39mstyle\u001b[39m\u001b[39m\"\u001b[39m\n\u001b[1;32m--> <a href='file:///c%3A/ProgramData/Miniconda3/lib/site-packages/seaborn/relational.py?line=470'>471</a>\u001b[0m \u001b[39mfor\u001b[39;00m sub_vars, sub_data \u001b[39min\u001b[39;00m \u001b[39mself\u001b[39m\u001b[39m.\u001b[39miter_data(grouping_vars, from_comp_data\u001b[39m=\u001b[39m\u001b[39mTrue\u001b[39;00m):\n        grouping_vars \u001b[1;34m= ('hue', 'size', 'style')\u001b[0m\u001b[1;34m\n        \u001b[0mself \u001b[1;34m= <seaborn.relational._LinePlotter object at 0x000001D327C9C340>\u001b[0m\n\u001b[0;32m    <a href='file:///c%3A/ProgramData/Miniconda3/lib/site-packages/seaborn/relational.py?line=472'>473</a>\u001b[0m     \u001b[39mif\u001b[39;00m \u001b[39mself\u001b[39m\u001b[39m.\u001b[39msort:\n\u001b[0;32m    <a href='file:///c%3A/ProgramData/Miniconda3/lib/site-packages/seaborn/relational.py?line=473'>474</a>\u001b[0m         sort_vars \u001b[39m=\u001b[39m [\u001b[39m\"\u001b[39m\u001b[39munits\u001b[39m\u001b[39m\"\u001b[39m, \u001b[39m\"\u001b[39m\u001b[39mx\u001b[39m\u001b[39m\"\u001b[39m, \u001b[39m\"\u001b[39m\u001b[39my\u001b[39m\u001b[39m\"\u001b[39m]\n",
      "File \u001b[1;32mc:\\ProgramData\\Miniconda3\\lib\\site-packages\\seaborn\\_core.py:983\u001b[0m, in \u001b[0;36mVectorPlotter.iter_data\u001b[1;34m(self=<seaborn.relational._LinePlotter object>, grouping_vars=['hue'], reverse=False, from_comp_data=True)\u001b[0m\n\u001b[0;32m    <a href='file:///c%3A/ProgramData/Miniconda3/lib/site-packages/seaborn/_core.py?line=977'>978</a>\u001b[0m grouping_vars \u001b[39m=\u001b[39m [\n\u001b[0;32m    <a href='file:///c%3A/ProgramData/Miniconda3/lib/site-packages/seaborn/_core.py?line=978'>979</a>\u001b[0m     var \u001b[39mfor\u001b[39;00m var \u001b[39min\u001b[39;00m grouping_vars \u001b[39mif\u001b[39;00m var \u001b[39min\u001b[39;00m \u001b[39mself\u001b[39m\u001b[39m.\u001b[39mvariables\n\u001b[0;32m    <a href='file:///c%3A/ProgramData/Miniconda3/lib/site-packages/seaborn/_core.py?line=979'>980</a>\u001b[0m ]\n\u001b[0;32m    <a href='file:///c%3A/ProgramData/Miniconda3/lib/site-packages/seaborn/_core.py?line=981'>982</a>\u001b[0m \u001b[39mif\u001b[39;00m from_comp_data:\n\u001b[1;32m--> <a href='file:///c%3A/ProgramData/Miniconda3/lib/site-packages/seaborn/_core.py?line=982'>983</a>\u001b[0m     data \u001b[39m=\u001b[39m \u001b[39mself\u001b[39;49m\u001b[39m.\u001b[39;49mcomp_data\n        self \u001b[1;34m= <seaborn.relational._LinePlotter object at 0x000001D327C9C340>\u001b[0m\n\u001b[0;32m    <a href='file:///c%3A/ProgramData/Miniconda3/lib/site-packages/seaborn/_core.py?line=983'>984</a>\u001b[0m \u001b[39melse\u001b[39;00m:\n\u001b[0;32m    <a href='file:///c%3A/ProgramData/Miniconda3/lib/site-packages/seaborn/_core.py?line=984'>985</a>\u001b[0m     data \u001b[39m=\u001b[39m \u001b[39mself\u001b[39m\u001b[39m.\u001b[39mplot_data\n",
      "File \u001b[1;32mc:\\ProgramData\\Miniconda3\\lib\\site-packages\\seaborn\\_core.py:1057\u001b[0m, in \u001b[0;36mVectorPlotter.comp_data\u001b[1;34m(self=<seaborn.relational._LinePlotter object>)\u001b[0m\n\u001b[0;32m   <a href='file:///c%3A/ProgramData/Miniconda3/lib/site-packages/seaborn/_core.py?line=1054'>1055</a>\u001b[0m     orig \u001b[39m=\u001b[39m \u001b[39mself\u001b[39m\u001b[39m.\u001b[39mplot_data[var]\u001b[39m.\u001b[39mdropna()\n\u001b[0;32m   <a href='file:///c%3A/ProgramData/Miniconda3/lib/site-packages/seaborn/_core.py?line=1055'>1056</a>\u001b[0m comp_col \u001b[39m=\u001b[39m pd\u001b[39m.\u001b[39mSeries(index\u001b[39m=\u001b[39morig\u001b[39m.\u001b[39mindex, dtype\u001b[39m=\u001b[39m\u001b[39mfloat\u001b[39m, name\u001b[39m=\u001b[39mvar)\n\u001b[1;32m-> <a href='file:///c%3A/ProgramData/Miniconda3/lib/site-packages/seaborn/_core.py?line=1056'>1057</a>\u001b[0m comp_col\u001b[39m.\u001b[39mloc[orig\u001b[39m.\u001b[39mindex] \u001b[39m=\u001b[39m pd\u001b[39m.\u001b[39mto_numeric(axis\u001b[39m.\u001b[39mconvert_units(orig))\n        axis \u001b[1;34m= <matplotlib.axis.YAxis object at 0x000001D32AD21610>\u001b[0m\u001b[1;34m\n        \u001b[0mcomp_col \u001b[1;34m= 0    NaN\n1    NaN\n2    NaN\n3    NaN\n4    NaN\n      ..\n35   NaN\n36   NaN\n37   NaN\n38   NaN\n39   NaN\nName: y, Length: 2800, dtype: float64\u001b[0m\u001b[1;34m\n        \u001b[0morig \u001b[1;34m= 0     0.833333\n1     0.833333\n2     0.666667\n3     0.333333\n4     0.750000\n        ...   \n35    0.250000\n36    0.083333\n37    0.083333\n38    0.250000\n39    0.333333\nName: y, Length: 2800, dtype: float64\u001b[0m\u001b[1;34m\n        \u001b[0mpd \u001b[1;34m= <module 'pandas' from 'c:\\\\ProgramData\\\\Miniconda3\\\\lib\\\\site-packages\\\\pandas\\\\__init__.py'>\u001b[0m\n\u001b[0;32m   <a href='file:///c%3A/ProgramData/Miniconda3/lib/site-packages/seaborn/_core.py?line=1058'>1059</a>\u001b[0m \u001b[39mif\u001b[39;00m axis\u001b[39m.\u001b[39mget_scale() \u001b[39m==\u001b[39m \u001b[39m\"\u001b[39m\u001b[39mlog\u001b[39m\u001b[39m\"\u001b[39m:\n\u001b[0;32m   <a href='file:///c%3A/ProgramData/Miniconda3/lib/site-packages/seaborn/_core.py?line=1059'>1060</a>\u001b[0m     comp_col \u001b[39m=\u001b[39m np\u001b[39m.\u001b[39mlog10(comp_col)\n",
      "File \u001b[1;32mc:\\ProgramData\\Miniconda3\\lib\\site-packages\\pandas\\core\\indexing.py:692\u001b[0m, in \u001b[0;36m_LocationIndexer.__setitem__\u001b[1;34m(self=<pandas.core.indexing._LocIndexer object>, key=Int64Index([ 0,  1,  2,  3,  4,  5,  6,  7,  8, ..., 38, 39],\n           dtype='int64', length=2800), value=0     0.833333\n1     0.833333\n2     0.666667\n3  ...   0.333333\nName: y, Length: 2800, dtype: float64)\u001b[0m\n\u001b[0;32m    <a href='file:///c%3A/ProgramData/Miniconda3/lib/site-packages/pandas/core/indexing.py?line=688'>689</a>\u001b[0m \u001b[39mself\u001b[39m\u001b[39m.\u001b[39m_has_valid_setitem_indexer(key)\n\u001b[0;32m    <a href='file:///c%3A/ProgramData/Miniconda3/lib/site-packages/pandas/core/indexing.py?line=690'>691</a>\u001b[0m iloc \u001b[39m=\u001b[39m \u001b[39mself\u001b[39m \u001b[39mif\u001b[39;00m \u001b[39mself\u001b[39m\u001b[39m.\u001b[39mname \u001b[39m==\u001b[39m \u001b[39m\"\u001b[39m\u001b[39miloc\u001b[39m\u001b[39m\"\u001b[39m \u001b[39melse\u001b[39;00m \u001b[39mself\u001b[39m\u001b[39m.\u001b[39mobj\u001b[39m.\u001b[39miloc\n\u001b[1;32m--> <a href='file:///c%3A/ProgramData/Miniconda3/lib/site-packages/pandas/core/indexing.py?line=691'>692</a>\u001b[0m iloc\u001b[39m.\u001b[39;49m_setitem_with_indexer(indexer, value, \u001b[39mself\u001b[39;49m\u001b[39m.\u001b[39;49mname)\n        indexer \u001b[1;34m= array([   0,   40,   80, ..., 2719, 2759, 2799], dtype=int64)\u001b[0m\u001b[1;34m\n        \u001b[0miloc \u001b[1;34m= <pandas.core.indexing._iLocIndexer object at 0x000001D325270F90>\u001b[0m\u001b[1;34m\n        \u001b[0mself \u001b[1;34m= <pandas.core.indexing._LocIndexer object at 0x000001D325270950>\u001b[0m\u001b[1;34m\n        \u001b[0mvalue \u001b[1;34m= 0     0.833333\n1     0.833333\n2     0.666667\n3     0.333333\n4     0.750000\n        ...   \n35    0.250000\n36    0.083333\n37    0.083333\n38    0.250000\n39    0.333333\nName: y, Length: 2800, dtype: float64\u001b[0m\n",
      "File \u001b[1;32mc:\\ProgramData\\Miniconda3\\lib\\site-packages\\pandas\\core\\indexing.py:1637\u001b[0m, in \u001b[0;36m_iLocIndexer._setitem_with_indexer\u001b[1;34m(self=<pandas.core.indexing._iLocIndexer object>, indexer=array([   0,   40,   80, ..., 2719, 2759, 2799], dtype=int64), value=0     0.833333\n1     0.833333\n2     0.666667\n3  ...   0.333333\nName: y, Length: 2800, dtype: float64, name='loc')\u001b[0m\n\u001b[0;32m   <a href='file:///c%3A/ProgramData/Miniconda3/lib/site-packages/pandas/core/indexing.py?line=1634'>1635</a>\u001b[0m     \u001b[39mself\u001b[39m\u001b[39m.\u001b[39m_setitem_with_indexer_split_path(indexer, value, name)\n\u001b[0;32m   <a href='file:///c%3A/ProgramData/Miniconda3/lib/site-packages/pandas/core/indexing.py?line=1635'>1636</a>\u001b[0m \u001b[39melse\u001b[39;00m:\n\u001b[1;32m-> <a href='file:///c%3A/ProgramData/Miniconda3/lib/site-packages/pandas/core/indexing.py?line=1636'>1637</a>\u001b[0m     \u001b[39mself\u001b[39;49m\u001b[39m.\u001b[39;49m_setitem_single_block(indexer, value, name)\n        indexer \u001b[1;34m= array([   0,   40,   80, ..., 2719, 2759, 2799], dtype=int64)\u001b[0m\u001b[1;34m\n        \u001b[0mself \u001b[1;34m= <pandas.core.indexing._iLocIndexer object at 0x000001D325270F90>\u001b[0m\u001b[1;34m\n        \u001b[0mvalue \u001b[1;34m= 0     0.833333\n1     0.833333\n2     0.666667\n3     0.333333\n4     0.750000\n        ...   \n35    0.250000\n36    0.083333\n37    0.083333\n38    0.250000\n39    0.333333\nName: y, Length: 2800, dtype: float64\u001b[0m\u001b[1;34m\n        \u001b[0mname \u001b[1;34m= 'loc'\u001b[0m\n",
      "File \u001b[1;32mc:\\ProgramData\\Miniconda3\\lib\\site-packages\\pandas\\core\\indexing.py:1851\u001b[0m, in \u001b[0;36m_iLocIndexer._setitem_single_block\u001b[1;34m(self=<pandas.core.indexing._iLocIndexer object>, indexer=array([   0,   40,   80, ..., 2719, 2759, 2799], dtype=int64), value=0     0.833333\n1     0.833333\n2     0.666667\n3  ...   0.333333\nName: y, Length: 2800, dtype: float64, name='loc')\u001b[0m\n\u001b[0;32m   <a href='file:///c%3A/ProgramData/Miniconda3/lib/site-packages/pandas/core/indexing.py?line=1845'>1846</a>\u001b[0m     indexer \u001b[39m=\u001b[39m maybe_convert_ix(\u001b[39m*\u001b[39mindexer)\n\u001b[0;32m   <a href='file:///c%3A/ProgramData/Miniconda3/lib/site-packages/pandas/core/indexing.py?line=1846'>1847</a>\u001b[0m \u001b[39mif\u001b[39;00m (\u001b[39misinstance\u001b[39m(value, ABCSeries) \u001b[39mand\u001b[39;00m name \u001b[39m!=\u001b[39m \u001b[39m\"\u001b[39m\u001b[39miloc\u001b[39m\u001b[39m\"\u001b[39m) \u001b[39mor\u001b[39;00m \u001b[39misinstance\u001b[39m(value, \u001b[39mdict\u001b[39m):\n\u001b[0;32m   <a href='file:///c%3A/ProgramData/Miniconda3/lib/site-packages/pandas/core/indexing.py?line=1847'>1848</a>\u001b[0m     \u001b[39m# TODO(EA): ExtensionBlock.setitem this causes issues with\u001b[39;00m\n\u001b[0;32m   <a href='file:///c%3A/ProgramData/Miniconda3/lib/site-packages/pandas/core/indexing.py?line=1848'>1849</a>\u001b[0m     \u001b[39m# setting for extensionarrays that store dicts. Need to decide\u001b[39;00m\n\u001b[0;32m   <a href='file:///c%3A/ProgramData/Miniconda3/lib/site-packages/pandas/core/indexing.py?line=1849'>1850</a>\u001b[0m     \u001b[39m# if it's worth supporting that.\u001b[39;00m\n\u001b[1;32m-> <a href='file:///c%3A/ProgramData/Miniconda3/lib/site-packages/pandas/core/indexing.py?line=1850'>1851</a>\u001b[0m     value \u001b[39m=\u001b[39m \u001b[39mself\u001b[39;49m\u001b[39m.\u001b[39;49m_align_series(indexer, Series(value))\n        indexer \u001b[1;34m= array([   0,   40,   80, ..., 2719, 2759, 2799], dtype=int64)\u001b[0m\u001b[1;34m\n        \u001b[0mvalue \u001b[1;34m= 0     0.833333\n1     0.833333\n2     0.666667\n3     0.333333\n4     0.750000\n        ...   \n35    0.250000\n36    0.083333\n37    0.083333\n38    0.250000\n39    0.333333\nName: y, Length: 2800, dtype: float64\u001b[0m\u001b[1;34m\n        \u001b[0mself \u001b[1;34m= <pandas.core.indexing._iLocIndexer object at 0x000001D325270F90>\u001b[0m\n\u001b[0;32m   <a href='file:///c%3A/ProgramData/Miniconda3/lib/site-packages/pandas/core/indexing.py?line=1852'>1853</a>\u001b[0m \u001b[39melif\u001b[39;00m \u001b[39misinstance\u001b[39m(value, ABCDataFrame) \u001b[39mand\u001b[39;00m name \u001b[39m!=\u001b[39m \u001b[39m\"\u001b[39m\u001b[39miloc\u001b[39m\u001b[39m\"\u001b[39m:\n\u001b[0;32m   <a href='file:///c%3A/ProgramData/Miniconda3/lib/site-packages/pandas/core/indexing.py?line=1853'>1854</a>\u001b[0m     value \u001b[39m=\u001b[39m \u001b[39mself\u001b[39m\u001b[39m.\u001b[39m_align_frame(indexer, value)\n",
      "File \u001b[1;32mc:\\ProgramData\\Miniconda3\\lib\\site-packages\\pandas\\core\\indexing.py:1987\u001b[0m, in \u001b[0;36m_iLocIndexer._align_series\u001b[1;34m(self=<pandas.core.indexing._iLocIndexer object>, indexer=(array([   0,   40,   80, ..., 2719, 2759, 2799], dtype=int64),), ser=0     0.833333\n1     0.833333\n2     0.666667\n3  ...   0.333333\nName: y, Length: 2800, dtype: float64, multiindex_indexer=False)\u001b[0m\n\u001b[0;32m   <a href='file:///c%3A/ProgramData/Miniconda3/lib/site-packages/pandas/core/indexing.py?line=1983'>1984</a>\u001b[0m \u001b[39m# we have a frame, with multiple indexers on both axes; and a\u001b[39;00m\n\u001b[0;32m   <a href='file:///c%3A/ProgramData/Miniconda3/lib/site-packages/pandas/core/indexing.py?line=1984'>1985</a>\u001b[0m \u001b[39m# series, so need to broadcast (see GH5206)\u001b[39;00m\n\u001b[0;32m   <a href='file:///c%3A/ProgramData/Miniconda3/lib/site-packages/pandas/core/indexing.py?line=1985'>1986</a>\u001b[0m \u001b[39mif\u001b[39;00m sum_aligners \u001b[39m==\u001b[39m \u001b[39mself\u001b[39m\u001b[39m.\u001b[39mndim \u001b[39mand\u001b[39;00m \u001b[39mall\u001b[39m(is_sequence(_) \u001b[39mfor\u001b[39;00m _ \u001b[39min\u001b[39;00m indexer):\n\u001b[1;32m-> <a href='file:///c%3A/ProgramData/Miniconda3/lib/site-packages/pandas/core/indexing.py?line=1986'>1987</a>\u001b[0m     ser \u001b[39m=\u001b[39m ser\u001b[39m.\u001b[39;49mreindex(obj\u001b[39m.\u001b[39;49maxes[\u001b[39m0\u001b[39;49m][indexer[\u001b[39m0\u001b[39;49m]], copy\u001b[39m=\u001b[39;49m\u001b[39mTrue\u001b[39;49;00m)\u001b[39m.\u001b[39m_values\n        indexer \u001b[1;34m= (array([   0,   40,   80, ..., 2719, 2759, 2799], dtype=int64),)\u001b[0m\u001b[1;34m\n        \u001b[0mobj \u001b[1;34m= 0    NaN\n1    NaN\n2    NaN\n3    NaN\n4    NaN\n      ..\n35   NaN\n36   NaN\n37   NaN\n38   NaN\n39   NaN\nName: y, Length: 2800, dtype: float64\u001b[0m\u001b[1;34m\n        \u001b[0mser \u001b[1;34m= 0     0.833333\n1     0.833333\n2     0.666667\n3     0.333333\n4     0.750000\n        ...   \n35    0.250000\n36    0.083333\n37    0.083333\n38    0.250000\n39    0.333333\nName: y, Length: 2800, dtype: float64\u001b[0m\u001b[1;34m\n        \u001b[0mindexer[0] \u001b[1;34m= array([   0,   40,   80, ..., 2719, 2759, 2799], dtype=int64)\u001b[0m\n\u001b[0;32m   <a href='file:///c%3A/ProgramData/Miniconda3/lib/site-packages/pandas/core/indexing.py?line=1988'>1989</a>\u001b[0m     \u001b[39m# single indexer\u001b[39;00m\n\u001b[0;32m   <a href='file:///c%3A/ProgramData/Miniconda3/lib/site-packages/pandas/core/indexing.py?line=1989'>1990</a>\u001b[0m     \u001b[39mif\u001b[39;00m \u001b[39mlen\u001b[39m(indexer) \u001b[39m>\u001b[39m \u001b[39m1\u001b[39m \u001b[39mand\u001b[39;00m \u001b[39mnot\u001b[39;00m multiindex_indexer:\n",
      "File \u001b[1;32mc:\\ProgramData\\Miniconda3\\lib\\site-packages\\pandas\\core\\series.py:4345\u001b[0m, in \u001b[0;36mSeries.reindex\u001b[1;34m(self=0     0.833333\n1     0.833333\n2     0.666667\n3  ...   0.333333\nName: y, Length: 2800, dtype: float64, index=Int64Index([ 0,  0,  0,  0,  0,  0,  0,  0,  0, ...39, 39],\n           dtype='int64', length=196000), **kwargs={'copy': True})\u001b[0m\n\u001b[0;32m   <a href='file:///c%3A/ProgramData/Miniconda3/lib/site-packages/pandas/core/series.py?line=4336'>4337</a>\u001b[0m \u001b[39m@doc\u001b[39m(\n\u001b[0;32m   <a href='file:///c%3A/ProgramData/Miniconda3/lib/site-packages/pandas/core/series.py?line=4337'>4338</a>\u001b[0m     NDFrame\u001b[39m.\u001b[39mreindex,\n\u001b[0;32m   <a href='file:///c%3A/ProgramData/Miniconda3/lib/site-packages/pandas/core/series.py?line=4338'>4339</a>\u001b[0m     klass\u001b[39m=\u001b[39m_shared_doc_kwargs[\u001b[39m\"\u001b[39m\u001b[39mklass\u001b[39m\u001b[39m\"\u001b[39m],\n\u001b[1;32m   (...)\u001b[0m\n\u001b[0;32m   <a href='file:///c%3A/ProgramData/Miniconda3/lib/site-packages/pandas/core/series.py?line=4342'>4343</a>\u001b[0m )\n\u001b[0;32m   <a href='file:///c%3A/ProgramData/Miniconda3/lib/site-packages/pandas/core/series.py?line=4343'>4344</a>\u001b[0m \u001b[39mdef\u001b[39;00m \u001b[39mreindex\u001b[39m(\u001b[39mself\u001b[39m, index\u001b[39m=\u001b[39m\u001b[39mNone\u001b[39;00m, \u001b[39m*\u001b[39m\u001b[39m*\u001b[39mkwargs):\n\u001b[1;32m-> <a href='file:///c%3A/ProgramData/Miniconda3/lib/site-packages/pandas/core/series.py?line=4344'>4345</a>\u001b[0m     \u001b[39mreturn\u001b[39;00m \u001b[39msuper\u001b[39m()\u001b[39m.\u001b[39mreindex(index\u001b[39m=\u001b[39mindex, \u001b[39m*\u001b[39m\u001b[39m*\u001b[39mkwargs)\n        index \u001b[1;34m= Int64Index([ 0,  0,  0,  0,  0,  0,  0,  0,  0,  0,\n            ...\n            39, 39, 39, 39, 39, 39, 39, 39, 39, 39],\n           dtype='int64', length=196000)\u001b[0m\u001b[1;34m\n        \u001b[0mkwargs \u001b[1;34m= {'copy': True}\u001b[0m\n",
      "File \u001b[1;32mc:\\ProgramData\\Miniconda3\\lib\\site-packages\\pandas\\core\\generic.py:4811\u001b[0m, in \u001b[0;36mNDFrame.reindex\u001b[1;34m(self=0     0.833333\n1     0.833333\n2     0.666667\n3  ...   0.333333\nName: y, Length: 2800, dtype: float64, *args=(), **kwargs={})\u001b[0m\n\u001b[0;32m   <a href='file:///c%3A/ProgramData/Miniconda3/lib/site-packages/pandas/core/generic.py?line=4807'>4808</a>\u001b[0m     \u001b[39mreturn\u001b[39;00m \u001b[39mself\u001b[39m\u001b[39m.\u001b[39m_reindex_multi(axes, copy, fill_value)\n\u001b[0;32m   <a href='file:///c%3A/ProgramData/Miniconda3/lib/site-packages/pandas/core/generic.py?line=4809'>4810</a>\u001b[0m \u001b[39m# perform the reindex on the axes\u001b[39;00m\n\u001b[1;32m-> <a href='file:///c%3A/ProgramData/Miniconda3/lib/site-packages/pandas/core/generic.py?line=4810'>4811</a>\u001b[0m \u001b[39mreturn\u001b[39;00m \u001b[39mself\u001b[39;49m\u001b[39m.\u001b[39;49m_reindex_axes(\n        self \u001b[1;34m= 0     0.833333\n1     0.833333\n2     0.666667\n3     0.333333\n4     0.750000\n        ...   \n35    0.250000\n36    0.083333\n37    0.083333\n38    0.250000\n39    0.333333\nName: y, Length: 2800, dtype: float64\u001b[0m\u001b[1;34m\n        \u001b[0mmethod \u001b[1;34m= None\u001b[0m\u001b[1;34m\n        \u001b[0mlevel \u001b[1;34m= None\u001b[0m\u001b[1;34m\n        \u001b[0mcopy \u001b[1;34m= True\u001b[0m\u001b[1;34m\n        \u001b[0mlimit \u001b[1;34m= None\u001b[0m\u001b[1;34m\n        \u001b[0mtolerance \u001b[1;34m= None\u001b[0m\u001b[1;34m\n        \u001b[0mfill_value \u001b[1;34m= None\u001b[0m\u001b[1;34m\n        \u001b[0maxes \u001b[1;34m= {'index': Int64Index([ 0,  0,  0,  0,  0,  0,  0,  0,  0,  0,\n            ...\n            39, 39, 39, 39, 39, 39, 39, 39, 39, 39],\n           dtype='int64', length=196000)}\u001b[0m\n\u001b[0;32m   <a href='file:///c%3A/ProgramData/Miniconda3/lib/site-packages/pandas/core/generic.py?line=4811'>4812</a>\u001b[0m     axes, level, limit, tolerance, method, fill_value, copy\n\u001b[0;32m   <a href='file:///c%3A/ProgramData/Miniconda3/lib/site-packages/pandas/core/generic.py?line=4812'>4813</a>\u001b[0m )\u001b[39m.\u001b[39m__finalize__(\u001b[39mself\u001b[39m, method\u001b[39m=\u001b[39m\u001b[39m\"\u001b[39m\u001b[39mreindex\u001b[39m\u001b[39m\"\u001b[39m)\n",
      "File \u001b[1;32mc:\\ProgramData\\Miniconda3\\lib\\site-packages\\pandas\\core\\generic.py:4832\u001b[0m, in \u001b[0;36mNDFrame._reindex_axes\u001b[1;34m(self=0     0.833333\n1     0.833333\n2     0.666667\n3  ...   0.333333\nName: y, Length: 2800, dtype: float64, axes={'index': Int64Index([ 0,  0,  0,  0,  0,  0,  0,  0,  0, ...39, 39],\n           dtype='int64', length=196000)}, level=None, limit=None, tolerance=None, method=None, fill_value=None, copy=True)\u001b[0m\n\u001b[0;32m   <a href='file:///c%3A/ProgramData/Miniconda3/lib/site-packages/pandas/core/generic.py?line=4826'>4827</a>\u001b[0m     new_index, indexer \u001b[39m=\u001b[39m ax\u001b[39m.\u001b[39mreindex(\n\u001b[0;32m   <a href='file:///c%3A/ProgramData/Miniconda3/lib/site-packages/pandas/core/generic.py?line=4827'>4828</a>\u001b[0m         labels, level\u001b[39m=\u001b[39mlevel, limit\u001b[39m=\u001b[39mlimit, tolerance\u001b[39m=\u001b[39mtolerance, method\u001b[39m=\u001b[39mmethod\n\u001b[0;32m   <a href='file:///c%3A/ProgramData/Miniconda3/lib/site-packages/pandas/core/generic.py?line=4828'>4829</a>\u001b[0m     )\n\u001b[0;32m   <a href='file:///c%3A/ProgramData/Miniconda3/lib/site-packages/pandas/core/generic.py?line=4830'>4831</a>\u001b[0m     axis \u001b[39m=\u001b[39m \u001b[39mself\u001b[39m\u001b[39m.\u001b[39m_get_axis_number(a)\n\u001b[1;32m-> <a href='file:///c%3A/ProgramData/Miniconda3/lib/site-packages/pandas/core/generic.py?line=4831'>4832</a>\u001b[0m     obj \u001b[39m=\u001b[39m obj\u001b[39m.\u001b[39;49m_reindex_with_indexers(\n        obj \u001b[1;34m= 0     0.833333\n1     0.833333\n2     0.666667\n3     0.333333\n4     0.750000\n        ...   \n35    0.250000\n36    0.083333\n37    0.083333\n38    0.250000\n39    0.333333\nName: y, Length: 2800, dtype: float64\u001b[0m\u001b[1;34m\n        \u001b[0maxis \u001b[1;34m= 0\u001b[0m\u001b[1;34m\n        \u001b[0mnew_index \u001b[1;34m= Int64Index([ 0,  0,  0,  0,  0,  0,  0,  0,  0,  0,\n            ...\n            39, 39, 39, 39, 39, 39, 39, 39, 39, 39],\n           dtype='int64', length=196000)\u001b[0m\u001b[1;34m\n        \u001b[0mindexer \u001b[1;34m= array([   0,   40,   80, ..., 2719, 2759, 2799], dtype=int64)\u001b[0m\u001b[1;34m\n        \u001b[0m{axis: [new_index, indexer]} \u001b[1;34m= {0: [Int64Index([ 0,  0,  0,  0,  0,  0,  0,  0,  0,  0,\n            ...\n            39, 39, 39, 39, 39, 39, 39, 39, 39, 39],\n           dtype='int64', length=196000), array([   0,   40,   80, ..., 2719, 2759, 2799], dtype=int64)]}\u001b[0m\u001b[1;34m\n        \u001b[0m[new_index, indexer] \u001b[1;34m= [Int64Index([ 0,  0,  0,  0,  0,  0,  0,  0,  0,  0,\n            ...\n            39, 39, 39, 39, 39, 39, 39, 39, 39, 39],\n           dtype='int64', length=196000), array([   0,   40,   80, ..., 2719, 2759, 2799], dtype=int64)]\u001b[0m\u001b[1;34m\n        \u001b[0mfill_value \u001b[1;34m= None\u001b[0m\u001b[1;34m\n        \u001b[0mcopy \u001b[1;34m= True\u001b[0m\n\u001b[0;32m   <a href='file:///c%3A/ProgramData/Miniconda3/lib/site-packages/pandas/core/generic.py?line=4832'>4833</a>\u001b[0m         {axis: [new_index, indexer]},\n\u001b[0;32m   <a href='file:///c%3A/ProgramData/Miniconda3/lib/site-packages/pandas/core/generic.py?line=4833'>4834</a>\u001b[0m         fill_value\u001b[39m=\u001b[39;49mfill_value,\n\u001b[0;32m   <a href='file:///c%3A/ProgramData/Miniconda3/lib/site-packages/pandas/core/generic.py?line=4834'>4835</a>\u001b[0m         copy\u001b[39m=\u001b[39;49mcopy,\n\u001b[0;32m   <a href='file:///c%3A/ProgramData/Miniconda3/lib/site-packages/pandas/core/generic.py?line=4835'>4836</a>\u001b[0m         allow_dups\u001b[39m=\u001b[39;49m\u001b[39mFalse\u001b[39;49;00m,\n\u001b[0;32m   <a href='file:///c%3A/ProgramData/Miniconda3/lib/site-packages/pandas/core/generic.py?line=4836'>4837</a>\u001b[0m     )\n\u001b[0;32m   <a href='file:///c%3A/ProgramData/Miniconda3/lib/site-packages/pandas/core/generic.py?line=4838'>4839</a>\u001b[0m \u001b[39mreturn\u001b[39;00m obj\n",
      "File \u001b[1;32mc:\\ProgramData\\Miniconda3\\lib\\site-packages\\pandas\\core\\generic.py:4877\u001b[0m, in \u001b[0;36mNDFrame._reindex_with_indexers\u001b[1;34m(self=0     0.833333\n1     0.833333\n2     0.666667\n3  ...   0.333333\nName: y, Length: 2800, dtype: float64, reindexers={0: [Int64Index([ 0,  0,  0,  0,  0,  0,  0,  0,  0, ...39, 39],\n           dtype='int64', length=196000), array([   0,   40,   80, ..., 2719, 2759, 2799], dtype=int64)]}, fill_value=None, copy=True, allow_dups=False)\u001b[0m\n\u001b[0;32m   <a href='file:///c%3A/ProgramData/Miniconda3/lib/site-packages/pandas/core/generic.py?line=4873'>4874</a>\u001b[0m     indexer \u001b[39m=\u001b[39m ensure_int64(indexer)\n\u001b[0;32m   <a href='file:///c%3A/ProgramData/Miniconda3/lib/site-packages/pandas/core/generic.py?line=4875'>4876</a>\u001b[0m \u001b[39m# TODO: speed up on homogeneous DataFrame objects\u001b[39;00m\n\u001b[1;32m-> <a href='file:///c%3A/ProgramData/Miniconda3/lib/site-packages/pandas/core/generic.py?line=4876'>4877</a>\u001b[0m new_data \u001b[39m=\u001b[39m new_data\u001b[39m.\u001b[39;49mreindex_indexer(\n        new_data \u001b[1;34m= SingleBlockManager\nItems: Int64Index([ 0,  1,  2,  3,  4,  5,  6,  7,  8,  9,\n            ...\n            30, 31, 32, 33, 34, 35, 36, 37, 38, 39],\n           dtype='int64', length=2800)\nFloatBlock: 2800 dtype: float64\u001b[0m\u001b[1;34m\n        \u001b[0mindex \u001b[1;34m= Int64Index([ 0,  0,  0,  0,  0,  0,  0,  0,  0,  0,\n            ...\n            39, 39, 39, 39, 39, 39, 39, 39, 39, 39],\n           dtype='int64', length=196000)\u001b[0m\u001b[1;34m\n        \u001b[0mindexer \u001b[1;34m= array([   0,   40,   80, ..., 2719, 2759, 2799], dtype=int64)\u001b[0m\u001b[1;34m\n        \u001b[0mbaxis \u001b[1;34m= 0\u001b[0m\u001b[1;34m\n        \u001b[0mfill_value \u001b[1;34m= None\u001b[0m\u001b[1;34m\n        \u001b[0mallow_dups \u001b[1;34m= False\u001b[0m\u001b[1;34m\n        \u001b[0mcopy \u001b[1;34m= True\u001b[0m\n\u001b[0;32m   <a href='file:///c%3A/ProgramData/Miniconda3/lib/site-packages/pandas/core/generic.py?line=4877'>4878</a>\u001b[0m     index,\n\u001b[0;32m   <a href='file:///c%3A/ProgramData/Miniconda3/lib/site-packages/pandas/core/generic.py?line=4878'>4879</a>\u001b[0m     indexer,\n\u001b[0;32m   <a href='file:///c%3A/ProgramData/Miniconda3/lib/site-packages/pandas/core/generic.py?line=4879'>4880</a>\u001b[0m     axis\u001b[39m=\u001b[39;49mbaxis,\n\u001b[0;32m   <a href='file:///c%3A/ProgramData/Miniconda3/lib/site-packages/pandas/core/generic.py?line=4880'>4881</a>\u001b[0m     fill_value\u001b[39m=\u001b[39;49mfill_value,\n\u001b[0;32m   <a href='file:///c%3A/ProgramData/Miniconda3/lib/site-packages/pandas/core/generic.py?line=4881'>4882</a>\u001b[0m     allow_dups\u001b[39m=\u001b[39;49mallow_dups,\n\u001b[0;32m   <a href='file:///c%3A/ProgramData/Miniconda3/lib/site-packages/pandas/core/generic.py?line=4882'>4883</a>\u001b[0m     copy\u001b[39m=\u001b[39;49mcopy,\n\u001b[0;32m   <a href='file:///c%3A/ProgramData/Miniconda3/lib/site-packages/pandas/core/generic.py?line=4883'>4884</a>\u001b[0m )\n\u001b[0;32m   <a href='file:///c%3A/ProgramData/Miniconda3/lib/site-packages/pandas/core/generic.py?line=4884'>4885</a>\u001b[0m \u001b[39m# If we've made a copy once, no need to make another one\u001b[39;00m\n\u001b[0;32m   <a href='file:///c%3A/ProgramData/Miniconda3/lib/site-packages/pandas/core/generic.py?line=4885'>4886</a>\u001b[0m copy \u001b[39m=\u001b[39m \u001b[39mFalse\u001b[39;00m\n",
      "File \u001b[1;32mc:\\ProgramData\\Miniconda3\\lib\\site-packages\\pandas\\core\\internals\\managers.py:1301\u001b[0m, in \u001b[0;36mBlockManager.reindex_indexer\u001b[1;34m(self=SingleBlockManager\nItems: Int64Index([ 0,  1,  2...64', length=2800)\nFloatBlock: 2800 dtype: float64, new_axis=Int64Index([ 0,  0,  0,  0,  0,  0,  0,  0,  0, ...39, 39],\n           dtype='int64', length=196000), indexer=array([   0,   40,   80, ..., 2719, 2759, 2799], dtype=int64), axis=0, fill_value=None, allow_dups=False, copy=True, consolidate=True, only_slice=False)\u001b[0m\n\u001b[0;32m   <a href='file:///c%3A/ProgramData/Miniconda3/lib/site-packages/pandas/core/internals/managers.py?line=1298'>1299</a>\u001b[0m \u001b[39m# some axes don't allow reindexing with dups\u001b[39;00m\n\u001b[0;32m   <a href='file:///c%3A/ProgramData/Miniconda3/lib/site-packages/pandas/core/internals/managers.py?line=1299'>1300</a>\u001b[0m \u001b[39mif\u001b[39;00m \u001b[39mnot\u001b[39;00m allow_dups:\n\u001b[1;32m-> <a href='file:///c%3A/ProgramData/Miniconda3/lib/site-packages/pandas/core/internals/managers.py?line=1300'>1301</a>\u001b[0m     \u001b[39mself\u001b[39;49m\u001b[39m.\u001b[39;49maxes[axis]\u001b[39m.\u001b[39;49m_can_reindex(indexer)\n        indexer \u001b[1;34m= array([   0,   40,   80, ..., 2719, 2759, 2799], dtype=int64)\u001b[0m\u001b[1;34m\n        \u001b[0maxis \u001b[1;34m= 0\u001b[0m\u001b[1;34m\n        \u001b[0mself.axes \u001b[1;34m= [Int64Index([ 0,  1,  2,  3,  4,  5,  6,  7,  8,  9,\n            ...\n            30, 31, 32, 33, 34, 35, 36, 37, 38, 39],\n           dtype='int64', length=2800)]\u001b[0m\u001b[1;34m\n        \u001b[0mself \u001b[1;34m= SingleBlockManager\nItems: Int64Index([ 0,  1,  2,  3,  4,  5,  6,  7,  8,  9,\n            ...\n            30, 31, 32, 33, 34, 35, 36, 37, 38, 39],\n           dtype='int64', length=2800)\nFloatBlock: 2800 dtype: float64\u001b[0m\u001b[1;34m\n        \u001b[0mself.axes[axis] \u001b[1;34m= Int64Index([ 0,  1,  2,  3,  4,  5,  6,  7,  8,  9,\n            ...\n            30, 31, 32, 33, 34, 35, 36, 37, 38, 39],\n           dtype='int64', length=2800)\u001b[0m\n\u001b[0;32m   <a href='file:///c%3A/ProgramData/Miniconda3/lib/site-packages/pandas/core/internals/managers.py?line=1302'>1303</a>\u001b[0m \u001b[39mif\u001b[39;00m axis \u001b[39m>\u001b[39m\u001b[39m=\u001b[39m \u001b[39mself\u001b[39m\u001b[39m.\u001b[39mndim:\n\u001b[0;32m   <a href='file:///c%3A/ProgramData/Miniconda3/lib/site-packages/pandas/core/internals/managers.py?line=1303'>1304</a>\u001b[0m     \u001b[39mraise\u001b[39;00m \u001b[39mIndexError\u001b[39;00m(\u001b[39m\"\u001b[39m\u001b[39mRequested axis not found in manager\u001b[39m\u001b[39m\"\u001b[39m)\n",
      "File \u001b[1;32mc:\\ProgramData\\Miniconda3\\lib\\site-packages\\pandas\\core\\indexes\\base.py:3476\u001b[0m, in \u001b[0;36mIndex._can_reindex\u001b[1;34m(self=Int64Index([ 0,  1,  2,  3,  4,  5,  6,  7,  8, ..., 38, 39],\n           dtype='int64', length=2800), indexer=array([   0,   40,   80, ..., 2719, 2759, 2799], dtype=int64))\u001b[0m\n\u001b[0;32m   <a href='file:///c%3A/ProgramData/Miniconda3/lib/site-packages/pandas/core/indexes/base.py?line=3473'>3474</a>\u001b[0m \u001b[39m# trying to reindex on an axis with duplicates\u001b[39;00m\n\u001b[0;32m   <a href='file:///c%3A/ProgramData/Miniconda3/lib/site-packages/pandas/core/indexes/base.py?line=3474'>3475</a>\u001b[0m \u001b[39mif\u001b[39;00m \u001b[39mnot\u001b[39;00m \u001b[39mself\u001b[39m\u001b[39m.\u001b[39m_index_as_unique \u001b[39mand\u001b[39;00m \u001b[39mlen\u001b[39m(indexer):\n\u001b[1;32m-> <a href='file:///c%3A/ProgramData/Miniconda3/lib/site-packages/pandas/core/indexes/base.py?line=3475'>3476</a>\u001b[0m     \u001b[39mraise\u001b[39;00m \u001b[39mValueError\u001b[39;00m(\u001b[39m\"\u001b[39m\u001b[39mcannot reindex from a duplicate axis\u001b[39m\u001b[39m\"\u001b[39m)\n",
      "\u001b[1;31mValueError\u001b[0m: cannot reindex from a duplicate axis"
     ]
    },
    {
     "data": {
      "image/png": "[encoded data removed]",
      "text/plain": [
       "<Figure size 640x480 with 1 Axes>"
      ]
     },
     "metadata": {},
     "output_type": "display_data"
    }
   ],
   "source": [
    "sns.set(style='darkgrid')\n",
    "\n",
    "# for each unique list length\n",
    "if not (isinstance(list_lengths, list) or isinstance(list_lengths, List)): \n",
    "    list_lengths = [list_lengths]\n",
    "\n",
    "for ll_index, list_length in enumerate(list_lengths):\n",
    "    \n",
    "    # for each unique model\n",
    "    for model_index, model_class in enumerate(models):\n",
    "\n",
    "        # load sim_df from csv if it exists\n",
    "        sim_df_path = results_path + '{}_{}_ll{}_sim_df.csv'.format(section_tag, model_names[model_index], list_length)\n",
    "        if os.path.isfile(sim_df_path):\n",
    "            sim_df = pd.read_csv(sim_df_path)\n",
    "            print('sim_df for {} with tag {} and list length {} already exists'.format(model_names[model_index], section_tag, list_length))\n",
    "\n",
    "        # otherwise, generate it\n",
    "        else:\n",
    "\n",
    "            @njit(fastmath=True, nogil=True)\n",
    "            def init_model(item_count, presentation_count, parameters):\n",
    "                return model_class(item_count, presentation_count, parameters)\n",
    "\n",
    "            # for each unique matching entry in individual df\n",
    "            sim_dfs = []\n",
    "            for subject in pd.unique(individual_fits.subject):\n",
    "                \n",
    "                fit_result = individual_fits.query(f'subject == {subject} & model == \"{model_names[model_index]}\"')\n",
    "\n",
    "                # configure model based on specified parameters\n",
    "                fitted_parameters = Dict.empty(\n",
    "                    key_type=types.unicode_type, value_type=types.float64\n",
    "                )\n",
    "                for i in range(len(free_parameters[model_index])):\n",
    "                    fitted_parameters[free_parameters[model_index][i]] = fit_result[free_parameters[model_index][i]].values[0]\n",
    "                for key in fixed_parameters[model_index]:\n",
    "                    fitted_parameters[key] = fixed_parameters[model_index][key]\n",
    "\n",
    "                if 'list length' in events.columns:\n",
    "                    ll_specific_trial_query = trial_query + f' & subject == {subject} & `list length` == {list_length}'\n",
    "                else:\n",
    "                    ll_specific_trial_query = trial_query + f' & subject == {subject}'\n",
    "\n",
    "                ll_specific_trial_mask = generate_trial_mask(events, ll_specific_trial_query)\n",
    "\n",
    "                if np.sum(ll_specific_trial_mask) == 0:\n",
    "                    continue\n",
    "\n",
    "                # simulate df based on specified trial_count and experiment_count\n",
    "                sim_dfs.append(simulate_df_from_events(\n",
    "                    init_model, fitted_parameters, events, ll_specific_trial_mask, experiment_count))\n",
    "                sim_dfs[-1].subject = subject\n",
    "\n",
    "            # concatenate simulations into one dataframe\n",
    "            if len(sim_dfs) == 0:\n",
    "                sim_df = None\n",
    "                continue\n",
    "            sim_df = pd.concat(sim_dfs)\n",
    "\n",
    "            # save sim_df to csv\n",
    "            sim_df.to_csv(results_path +'{}_{}_ll{}_sim_df.csv'.format(section_tag, model_names[model_index], list_length), index=False)\n",
    "\n",
    "        if sim_df is None:\n",
    "            continue\n",
    "\n",
    "        # design general filter for analysis df\n",
    "        if len(list_lengths) > 1:\n",
    "            analysis_query = trial_query + f' & `list length` == {list_length}'\n",
    "        else:\n",
    "            analysis_query = trial_query\n",
    "            \n",
    "        # generate plot for each parametrized analysis and model\n",
    "        for analysis_index, analysis_function in enumerate(analyses):\n",
    "            analysis_name = analysis_names[analysis_index]\n",
    "            axis = analysis_function(\n",
    "                [events, sim_df], analysis_query, contrast_name=\"source\", labels=[\"data\", model_names[model_index]])\n",
    "            plt.savefig(results_path+'{}_{}_ll{}_{}.pdf'.format(section_tag, model_names[model_index], list_length, analysis_name), bbox_inches=\"tight\")\n",
    "            plt.show()"
   ]
  }
 ],
 "metadata": {
  "interpreter": {
   "hash": "19d1d53a962d236aa061289c2ac16dc8e6d9648c89fe79f459ae9a3493bc67b4"
  },
  "kernelspec": {
   "display_name": "Python 3.9.1 ('base')",
   "language": "python",
   "name": "python3"
  },
  "language_info": {
   "codemirror_mode": {
    "name": "ipython",
    "version": 3
   },
   "file_extension": ".py",
   "mimetype": "text/x-python",
   "name": "python",
   "nbconvert_exporter": "python",
   "pygments_lexer": "ipython3",
   "version": "3.9.1"
  },
  "papermill": {
   "default_parameters": {},
   "duration": 329.890139,
   "end_time": "2022-06-03T18:37:57.781430",
   "environment_variables": {},
   "exception": true,
   "input_path": "Subjectwise_Model_Evaluation.ipynb",
   "output_path": "reports/Subjectwise_Model_Evaluation_Double_LohnasKahanaCond1.ipynb",
   "parameters": {
    "bounds": [
     [
      [
       2.220446049250313e-16,
       0.9999999999999998
      ],
      [
       2.220446049250313e-16,
       0.9999999999999998
      ],
      [
       2.220446049250313e-16,
       0.9999999999999998
      ],
      [
       2.220446049250313e-16,
       0.9999999999999998
      ],
      [
       2.220446049250313e-16,
       0.9999999999999998
      ],
      [
       2.220446049250313e-16,
       0.9999999999999998
      ],
      [
       2.220446049250313e-16,
       100
      ],
      [
       2.220446049250313e-16,
       100
      ],
      [
       2.220446049250313e-16,
       0.9999999999999998
      ],
      [
       2.220446049250313e-16,
       10
      ],
      [
       2.220446049250313e-16,
       10
      ],
      [
       2.220446049250313e-16,
       0.9999999999999998
      ]
     ],
     [
      [
       2.220446049250313e-16,
       0.9999999999999998
      ],
      [
       2.220446049250313e-16,
       0.9999999999999998
      ],
      [
       2.220446049250313e-16,
       0.9999999999999998
      ],
      [
       2.220446049250313e-16,
       0.9999999999999998
      ],
      [
       2.220446049250313e-16,
       0.9999999999999998
      ],
      [
       2.220446049250313e-16,
       0.9999999999999998
      ],
      [
       2.220446049250313e-16,
       100
      ],
      [
       2.220446049250313e-16,
       100
      ],
      [
       2.220446049250313e-16,
       0.9999999999999998
      ],
      [
       2.220446049250313e-16,
       10
      ],
      [
       2.220446049250313e-16,
       10
      ],
      [
       2.220446049250313e-16,
       0.9999999999999998
      ]
     ],
     [
      [
       2.220446049250313e-16,
       0.9999999999999998
      ],
      [
       2.220446049250313e-16,
       0.9999999999999998
      ],
      [
       2.220446049250313e-16,
       0.9999999999999998
      ],
      [
       2.220446049250313e-16,
       0.9999999999999998
      ],
      [
       2.220446049250313e-16,
       0.9999999999999998
      ],
      [
       2.220446049250313e-16,
       0.9999999999999998
      ],
      [
       2.220446049250313e-16,
       100
      ],
      [
       2.220446049250313e-16,
       100
      ],
      [
       2.220446049250313e-16,
       0.9999999999999998
      ],
      [
       2.220446049250313e-16,
       10
      ],
      [
       2.220446049250313e-16,
       10
      ],
      [
       2.220446049250313e-16,
       0.9999999999999998
      ]
     ],
     [
      [
       2.220446049250313e-16,
       0.9999999999999998
      ],
      [
       2.220446049250313e-16,
       0.9999999999999998
      ],
      [
       2.220446049250313e-16,
       0.9999999999999998
      ],
      [
       2.220446049250313e-16,
       0.9999999999999998
      ],
      [
       2.220446049250313e-16,
       0.9999999999999998
      ],
      [
       2.220446049250313e-16,
       0.9999999999999998
      ],
      [
       2.220446049250313e-16,
       100
      ],
      [
       2.220446049250313e-16,
       100
      ],
      [
       2.220446049250313e-16,
       0.9999999999999998
      ],
      [
       2.220446049250313e-16,
       10
      ],
      [
       2.220446049250313e-16,
       10
      ],
      [
       2.220446049250313e-16,
       0.9999999999999998
      ]
     ],
     [
      [
       2.220446049250313e-16,
       0.9999999999999998
      ],
      [
       2.220446049250313e-16,
       0.9999999999999998
      ],
      [
       2.220446049250313e-16,
       0.9999999999999998
      ],
      [
       2.220446049250313e-16,
       0.9999999999999998
      ],
      [
       2.220446049250313e-16,
       0.9999999999999998
      ],
      [
       2.220446049250313e-16,
       0.9999999999999998
      ],
      [
       2.220446049250313e-16,
       100
      ],
      [
       2.220446049250313e-16,
       100
      ],
      [
       2.220446049250313e-16,
       0.9999999999999998
      ],
      [
       2.220446049250313e-16,
       10
      ],
      [
       2.220446049250313e-16,
       10
      ],
      [
       2.220446049250313e-16,
       0.9999999999999998
      ]
     ]
    ],
    "data_path": "data/LohnasKahana2014.csv",
    "fixed_parameters": [
     {},
     {
      "context_sensitivity": 1,
      "feature_sensitivity": 1,
      "learn_first": false
     },
     {
      "context_sensitivity": 1,
      "feature_sensitivity": 1,
      "learn_first": true
     },
     {
      "choice_sensitivity": 1,
      "feature_sensitivity": 1,
      "learn_first": false
     },
     {
      "choice_sensitivity": 1,
      "feature_sensitivity": 1,
      "learn_first": true
     }
    ],
    "free_parameters": [
     [
      "encoding_drift_rate",
      "start_drift_rate",
      "recall_drift_rate",
      "shared_support",
      "item_support",
      "learning_rate",
      "primacy_scale",
      "primacy_decay",
      "stop_probability_scale",
      "stop_probability_growth",
      "choice_sensitivity",
      "delay_drift_rate"
     ],
     [
      "encoding_drift_rate",
      "start_drift_rate",
      "recall_drift_rate",
      "shared_support",
      "item_support",
      "learning_rate",
      "primacy_scale",
      "primacy_decay",
      "stop_probability_scale",
      "stop_probability_growth",
      "choice_sensitivity",
      "delay_drift_rate"
     ],
     [
      "encoding_drift_rate",
      "start_drift_rate",
      "recall_drift_rate",
      "shared_support",
      "item_support",
      "learning_rate",
      "primacy_scale",
      "primacy_decay",
      "stop_probability_scale",
      "stop_probability_growth",
      "choice_sensitivity",
      "delay_drift_rate"
     ],
     [
      "encoding_drift_rate",
      "start_drift_rate",
      "recall_drift_rate",
      "shared_support",
      "item_support",
      "learning_rate",
      "primacy_scale",
      "primacy_decay",
      "stop_probability_scale",
      "stop_probability_growth",
      "context_sensitivity",
      "delay_drift_rate"
     ],
     [
      "encoding_drift_rate",
      "start_drift_rate",
      "recall_drift_rate",
      "shared_support",
      "item_support",
      "learning_rate",
      "primacy_scale",
      "primacy_decay",
      "stop_probability_scale",
      "stop_probability_growth",
      "context_sensitivity",
      "delay_drift_rate"
     ]
    ],
    "model_names": [
     "PrototypeCMR",
     "ICMR_2_0_0",
     "ICMR_2_0_1",
     "ICMR_2_1_0",
     "ICMR_2_1_1"
    ],
    "model_paths": [
     "compmemlearn.models.Base_CMR",
     "compmemlearn.models.Dual_ICMR",
     "compmemlearn.models.Dual_ICMR",
     "compmemlearn.models.Dual_ICMR",
     "compmemlearn.models.Dual_ICMR"
    ],
    "section_tag": "LohnasKahanaCond1",
    "trial_query": "condition == 1"
   },
   "start_time": "2022-06-03T18:32:27.891291",
   "version": "2.3.4"
  }
 },
 "nbformat": 4,
 "nbformat_minor": 5
}

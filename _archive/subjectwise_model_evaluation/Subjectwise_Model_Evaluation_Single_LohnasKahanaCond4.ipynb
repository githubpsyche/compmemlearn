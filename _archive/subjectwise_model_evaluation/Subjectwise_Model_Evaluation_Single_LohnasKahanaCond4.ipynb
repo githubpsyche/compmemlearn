{
 "cells": [
  {
   "cell_type": "markdown",
   "id": "74ab82fc",
   "metadata": {
    "tags": [
     "papermill-error-cell-tag"
    ]
   },
   "source": [
    "<span style=\"color:red; font-family:Helvetica Neue, Helvetica, Arial, sans-serif; font-size:2em;\">An Exception was encountered at '<a href=\"#papermill-error-cell\">In [12]</a>'.</span>"
   ]
  },
  {
   "cell_type": "code",
   "execution_count": 1,
   "id": "ae138995",
   "metadata": {
    "execution": {
     "iopub.execute_input": "2022-05-31T19:25:32.035779Z",
     "iopub.status.busy": "2022-05-31T19:25:32.034666Z",
     "iopub.status.idle": "2022-05-31T19:26:32.089157Z",
     "shell.execute_reply": "2022-05-31T19:26:32.087799Z"
    },
    "papermill": {
     "duration": 60.085693,
     "end_time": "2022-05-31T19:26:32.092154",
     "exception": false,
     "start_time": "2022-05-31T19:25:32.006461",
     "status": "completed"
    },
    "tags": [
     "parameters"
    ]
   },
   "outputs": [],
   "source": [
    "# | code-summary: code -- load dependencies and data and select parameters\n",
    "\n",
    "from compmemlearn.fitting import generate_objective_function\n",
    "from compmemlearn.datasets import events_metadata, simulate_df, generate_trial_mask\n",
    "from scipy.optimize import differential_evolution\n",
    "from numba.typed import List, Dict\n",
    "from numba.core import types\n",
    "from numba import njit\n",
    "from psifr import fr\n",
    "import pandas as pd\n",
    "import numpy as np\n",
    "import seaborn as sns\n",
    "import matplotlib.pyplot as plt\n",
    "import importlib\n",
    "import os\n",
    "\n",
    "lb = np.finfo(float).eps\n",
    "ub = 1 - np.finfo(float).eps\n",
    "\n",
    "figure_caption = \"\"\"Distribution of log-likelihood scores of recall sequences exhibited by each subject in dataset under each considered model.\"\"\"\n",
    "\n",
    "section_tag = \"LohnasCondition1\"\n",
    "\n",
    "data_path = \"../data/LohnasKahana2014.csv\"\n",
    "results_path = \"results/\"\n",
    "trial_query = \"condition == 1\"\n",
    "\n",
    "model_paths = [\"compmemlearn.models.Classic_CMR\", \"compmemlearn.models.Instance_CMR\", \"compmemlearn.models.Dual_Instance_CMR\"]\n",
    "\n",
    "model_names = [\"PrototypeCMR\", \"InstanceCMR\", \"Dual Memory ICMR\"]\n",
    "\n",
    "free_parameters = [\n",
    "    [\n",
    "        \"encoding_drift_rate\",\n",
    "        \"start_drift_rate\",\n",
    "        \"recall_drift_rate\",\n",
    "        \"shared_support\",\n",
    "        \"item_support\",\n",
    "        \"learning_rate\",\n",
    "        \"primacy_scale\",\n",
    "        \"primacy_decay\",\n",
    "        \"stop_probability_scale\",\n",
    "        \"stop_probability_growth\",\n",
    "        \"choice_sensitivity\",\n",
    "        \"delay_drift_rate\",\n",
    "    ],\n",
    "    [\n",
    "        \"encoding_drift_rate\",\n",
    "        \"start_drift_rate\",\n",
    "        \"recall_drift_rate\",\n",
    "        \"shared_support\",\n",
    "        \"item_support\",\n",
    "        \"learning_rate\",\n",
    "        \"primacy_scale\",\n",
    "        \"primacy_decay\",\n",
    "        \"stop_probability_scale\",\n",
    "        \"stop_probability_growth\",\n",
    "        #    'choice_sensitivity',\n",
    "        \"context_sensitivity\",\n",
    "        #    'feature_sensitivity'\n",
    "        \"delay_drift_rate\",\n",
    "    ],\n",
    "    [\n",
    "        \"encoding_drift_rate\",\n",
    "        \"start_drift_rate\",\n",
    "        \"recall_drift_rate\",\n",
    "        \"shared_support\",\n",
    "        \"item_support\",\n",
    "        \"learning_rate\",\n",
    "        \"primacy_scale\",\n",
    "        \"primacy_decay\",\n",
    "        \"stop_probability_scale\",\n",
    "        \"stop_probability_growth\",\n",
    "        #    'choice_sensitivity',\n",
    "        \"context_sensitivity\",\n",
    "        #    'feature_sensitivity'\n",
    "        \"delay_drift_rate\",\n",
    "    ],\n",
    "]\n",
    "\n",
    "bounds = [\n",
    "    [\n",
    "        [lb, ub],\n",
    "        [lb, ub],\n",
    "        [lb, ub],\n",
    "        [lb, ub],\n",
    "        [lb, ub],\n",
    "        [lb, ub],\n",
    "        [lb, 100],\n",
    "        [lb, 100],\n",
    "        [lb, ub],\n",
    "        [lb, 10],\n",
    "        [lb, 10],\n",
    "        [lb, ub],\n",
    "    ],\n",
    "    [\n",
    "        [lb, ub],\n",
    "        [lb, ub],\n",
    "        [lb, ub],\n",
    "        [lb, ub],\n",
    "        [lb, ub],\n",
    "        [lb, ub],\n",
    "        [lb, 100],\n",
    "        [lb, 100],\n",
    "        [lb, ub],\n",
    "        [lb, 10],\n",
    "        [lb, 10],\n",
    "        [lb, ub],\n",
    "    ],\n",
    "    [\n",
    "        [lb, ub],\n",
    "        [lb, ub],\n",
    "        [lb, ub],\n",
    "        [lb, ub],\n",
    "        [lb, ub],\n",
    "        [lb, ub],\n",
    "        [lb, 100],\n",
    "        [lb, 100],\n",
    "        [lb, ub],\n",
    "        [lb, 10],\n",
    "        [lb, 10],\n",
    "        [lb, ub],\n",
    "    ],\n",
    "]\n",
    "\n",
    "fixed_parameters = [\n",
    "    {'sampling_rule': 0, 'mfc_familiarity_scale': 0, \n",
    "         'mcf_familiarity_scale': 0, 'drift_familiarity_scale': 0}, \n",
    "    {\"choice_sensitivity\": 1, \"feature_sensitivity\": 1, 'mfc_familiarity_scale': 0, \n",
    "         'mcf_familiarity_scale': 0, 'drift_familiarity_scale': 0},\n",
    "    {\"choice_sensitivity\": 1, \"feature_sensitivity\": 1, 'mfc_familiarity_scale': 0, \n",
    "         'mcf_familiarity_scale': 0, 'drift_familiarity_scale': 0},\n",
    "]\n",
    "\n",
    "analysis_paths = ['compmemlearn.analyses.plot_spc', 'compmemlearn.analyses.plot_crp', 'compmemlearn.analyses.plot_pfr']\n",
    "analysis_names = ['spc', 'crp', 'pfr']\n",
    "\n",
    "experiment_count = 100\n"
   ]
  },
  {
   "cell_type": "code",
   "execution_count": 2,
   "id": "d863be5f",
   "metadata": {
    "execution": {
     "iopub.execute_input": "2022-05-31T19:26:32.139850Z",
     "iopub.status.busy": "2022-05-31T19:26:32.139350Z",
     "iopub.status.idle": "2022-05-31T19:26:32.170982Z",
     "shell.execute_reply": "2022-05-31T19:26:32.169893Z"
    },
    "papermill": {
     "duration": 0.0561,
     "end_time": "2022-05-31T19:26:32.173257",
     "exception": false,
     "start_time": "2022-05-31T19:26:32.117157",
     "status": "completed"
    },
    "tags": [
     "injected-parameters"
    ]
   },
   "outputs": [],
   "source": [
    "# Parameters\n",
    "data_path = \"data/LohnasKahana2014.csv\"\n",
    "trial_query = \"condition == 4\"\n",
    "model_paths = [\n",
    "    \"compmemlearn.models.Base_CMR\",\n",
    "    \"compmemlearn.models.Single_ICMR\",\n",
    "    \"compmemlearn.models.Single_ICMR\",\n",
    "    \"compmemlearn.models.Single_ICMR\",\n",
    "    \"compmemlearn.models.Single_ICMR\",\n",
    "]\n",
    "model_names = [\"PrototypeCMR\", \"ICMR_1_0_0\", \"ICMR_1_0_1\", \"ICMR_1_1_0\", \"ICMR_1_1_1\"]\n",
    "free_parameters = [\n",
    "    [\n",
    "        \"encoding_drift_rate\",\n",
    "        \"start_drift_rate\",\n",
    "        \"recall_drift_rate\",\n",
    "        \"shared_support\",\n",
    "        \"item_support\",\n",
    "        \"learning_rate\",\n",
    "        \"primacy_scale\",\n",
    "        \"primacy_decay\",\n",
    "        \"stop_probability_scale\",\n",
    "        \"stop_probability_growth\",\n",
    "        \"choice_sensitivity\",\n",
    "        \"delay_drift_rate\",\n",
    "    ],\n",
    "    [\n",
    "        \"encoding_drift_rate\",\n",
    "        \"start_drift_rate\",\n",
    "        \"recall_drift_rate\",\n",
    "        \"shared_support\",\n",
    "        \"item_support\",\n",
    "        \"learning_rate\",\n",
    "        \"primacy_scale\",\n",
    "        \"primacy_decay\",\n",
    "        \"stop_probability_scale\",\n",
    "        \"stop_probability_growth\",\n",
    "        \"choice_sensitivity\",\n",
    "        \"delay_drift_rate\",\n",
    "    ],\n",
    "    [\n",
    "        \"encoding_drift_rate\",\n",
    "        \"start_drift_rate\",\n",
    "        \"recall_drift_rate\",\n",
    "        \"shared_support\",\n",
    "        \"item_support\",\n",
    "        \"learning_rate\",\n",
    "        \"primacy_scale\",\n",
    "        \"primacy_decay\",\n",
    "        \"stop_probability_scale\",\n",
    "        \"stop_probability_growth\",\n",
    "        \"choice_sensitivity\",\n",
    "        \"delay_drift_rate\",\n",
    "    ],\n",
    "    [\n",
    "        \"encoding_drift_rate\",\n",
    "        \"start_drift_rate\",\n",
    "        \"recall_drift_rate\",\n",
    "        \"shared_support\",\n",
    "        \"item_support\",\n",
    "        \"learning_rate\",\n",
    "        \"primacy_scale\",\n",
    "        \"primacy_decay\",\n",
    "        \"stop_probability_scale\",\n",
    "        \"stop_probability_growth\",\n",
    "        \"context_sensitivity\",\n",
    "        \"delay_drift_rate\",\n",
    "    ],\n",
    "    [\n",
    "        \"encoding_drift_rate\",\n",
    "        \"start_drift_rate\",\n",
    "        \"recall_drift_rate\",\n",
    "        \"shared_support\",\n",
    "        \"item_support\",\n",
    "        \"learning_rate\",\n",
    "        \"primacy_scale\",\n",
    "        \"primacy_decay\",\n",
    "        \"stop_probability_scale\",\n",
    "        \"stop_probability_growth\",\n",
    "        \"context_sensitivity\",\n",
    "        \"delay_drift_rate\",\n",
    "    ],\n",
    "]\n",
    "bounds = [\n",
    "    [\n",
    "        [2.220446049250313e-16, 0.9999999999999998],\n",
    "        [2.220446049250313e-16, 0.9999999999999998],\n",
    "        [2.220446049250313e-16, 0.9999999999999998],\n",
    "        [2.220446049250313e-16, 0.9999999999999998],\n",
    "        [2.220446049250313e-16, 0.9999999999999998],\n",
    "        [2.220446049250313e-16, 0.9999999999999998],\n",
    "        [2.220446049250313e-16, 100],\n",
    "        [2.220446049250313e-16, 100],\n",
    "        [2.220446049250313e-16, 0.9999999999999998],\n",
    "        [2.220446049250313e-16, 10],\n",
    "        [2.220446049250313e-16, 10],\n",
    "        [2.220446049250313e-16, 0.9999999999999998],\n",
    "    ],\n",
    "    [\n",
    "        [2.220446049250313e-16, 0.9999999999999998],\n",
    "        [2.220446049250313e-16, 0.9999999999999998],\n",
    "        [2.220446049250313e-16, 0.9999999999999998],\n",
    "        [2.220446049250313e-16, 0.9999999999999998],\n",
    "        [2.220446049250313e-16, 0.9999999999999998],\n",
    "        [2.220446049250313e-16, 0.9999999999999998],\n",
    "        [2.220446049250313e-16, 100],\n",
    "        [2.220446049250313e-16, 100],\n",
    "        [2.220446049250313e-16, 0.9999999999999998],\n",
    "        [2.220446049250313e-16, 10],\n",
    "        [2.220446049250313e-16, 10],\n",
    "        [2.220446049250313e-16, 0.9999999999999998],\n",
    "    ],\n",
    "    [\n",
    "        [2.220446049250313e-16, 0.9999999999999998],\n",
    "        [2.220446049250313e-16, 0.9999999999999998],\n",
    "        [2.220446049250313e-16, 0.9999999999999998],\n",
    "        [2.220446049250313e-16, 0.9999999999999998],\n",
    "        [2.220446049250313e-16, 0.9999999999999998],\n",
    "        [2.220446049250313e-16, 0.9999999999999998],\n",
    "        [2.220446049250313e-16, 100],\n",
    "        [2.220446049250313e-16, 100],\n",
    "        [2.220446049250313e-16, 0.9999999999999998],\n",
    "        [2.220446049250313e-16, 10],\n",
    "        [2.220446049250313e-16, 10],\n",
    "        [2.220446049250313e-16, 0.9999999999999998],\n",
    "    ],\n",
    "    [\n",
    "        [2.220446049250313e-16, 0.9999999999999998],\n",
    "        [2.220446049250313e-16, 0.9999999999999998],\n",
    "        [2.220446049250313e-16, 0.9999999999999998],\n",
    "        [2.220446049250313e-16, 0.9999999999999998],\n",
    "        [2.220446049250313e-16, 0.9999999999999998],\n",
    "        [2.220446049250313e-16, 0.9999999999999998],\n",
    "        [2.220446049250313e-16, 100],\n",
    "        [2.220446049250313e-16, 100],\n",
    "        [2.220446049250313e-16, 0.9999999999999998],\n",
    "        [2.220446049250313e-16, 10],\n",
    "        [2.220446049250313e-16, 10],\n",
    "        [2.220446049250313e-16, 0.9999999999999998],\n",
    "    ],\n",
    "    [\n",
    "        [2.220446049250313e-16, 0.9999999999999998],\n",
    "        [2.220446049250313e-16, 0.9999999999999998],\n",
    "        [2.220446049250313e-16, 0.9999999999999998],\n",
    "        [2.220446049250313e-16, 0.9999999999999998],\n",
    "        [2.220446049250313e-16, 0.9999999999999998],\n",
    "        [2.220446049250313e-16, 0.9999999999999998],\n",
    "        [2.220446049250313e-16, 100],\n",
    "        [2.220446049250313e-16, 100],\n",
    "        [2.220446049250313e-16, 0.9999999999999998],\n",
    "        [2.220446049250313e-16, 10],\n",
    "        [2.220446049250313e-16, 10],\n",
    "        [2.220446049250313e-16, 0.9999999999999998],\n",
    "    ],\n",
    "]\n",
    "fixed_parameters = [\n",
    "    {},\n",
    "    {\"feature_sensitivity\": 1, \"context_sensitivity\": 1, \"learn_first\": False},\n",
    "    {\"feature_sensitivity\": 1, \"context_sensitivity\": 1, \"learn_first\": True},\n",
    "    {\"feature_sensitivity\": 1, \"choice_sensitivity\": 1, \"learn_first\": False},\n",
    "    {\"feature_sensitivity\": 1, \"choice_sensitivity\": 1, \"learn_first\": True},\n",
    "]\n",
    "section_tag = \"LohnasKahanaCond4\"\n"
   ]
  },
  {
   "cell_type": "code",
   "execution_count": 3,
   "id": "468d6568",
   "metadata": {
    "execution": {
     "iopub.execute_input": "2022-05-31T19:26:32.215420Z",
     "iopub.status.busy": "2022-05-31T19:26:32.214947Z",
     "iopub.status.idle": "2022-05-31T19:30:22.208638Z",
     "shell.execute_reply": "2022-05-31T19:30:22.206526Z"
    },
    "papermill": {
     "duration": 230.056102,
     "end_time": "2022-05-31T19:30:22.249391",
     "exception": false,
     "start_time": "2022-05-31T19:26:32.193289",
     "status": "completed"
    },
    "tags": []
   },
   "outputs": [
    {
     "name": "stdout",
     "output_type": "stream",
     "text": [
      "<function lohnas_objective_function.<locals>.objective_function at 0x2b26df90a4c0>\n"
     ]
    },
    {
     "name": "stdout",
     "output_type": "stream",
     "text": [
      "1142.7285129177264\n",
      "3080.8590394275197\n"
     ]
    },
    {
     "name": "stdout",
     "output_type": "stream",
     "text": [
      "<function lohnas_objective_function.<locals>.objective_function at 0x2b26e10618b0>\n"
     ]
    },
    {
     "name": "stdout",
     "output_type": "stream",
     "text": [
      "1142.7285129177264\n",
      "3080.8590394275197\n",
      "<function lohnas_objective_function.<locals>.objective_function at 0x2b26e1635430>\n"
     ]
    },
    {
     "name": "stdout",
     "output_type": "stream",
     "text": [
      "1142.7285129177264\n",
      "3080.8590394275197\n",
      "<function lohnas_objective_function.<locals>.objective_function at 0x2b26e19515e0>\n"
     ]
    },
    {
     "name": "stdout",
     "output_type": "stream",
     "text": [
      "1143.555731544549\n",
      "3080.8590394275197\n",
      "<function lohnas_objective_function.<locals>.objective_function at 0x2b26e090e670>\n"
     ]
    },
    {
     "name": "stdout",
     "output_type": "stream",
     "text": [
      "1143.555731544549\n",
      "3080.8590394275197\n",
      "dependencies and parameters validated\n"
     ]
    }
   ],
   "source": [
    "#| code-summary: code -- test that specified parameters are valid\n",
    "#| output: false\n",
    "\n",
    "events = pd.read_csv(data_path)\n",
    "\n",
    "trials, list_lengths, presentations = events_metadata(events)\n",
    "trial_mask = generate_trial_mask(events, trial_query)\n",
    "\n",
    "# import models from specified source\n",
    "models = []\n",
    "for i in range(len(model_paths)):\n",
    "    module_name, model_name = model_paths[i].rsplit('.',1) #TODO: add handling for case with no `.`\n",
    "    module = importlib.import_module(module_name)\n",
    "    models.append(getattr(module, model_name))\n",
    "\n",
    "# import analyses from specified source\n",
    "analyses = []\n",
    "for i in range(len(analysis_paths)):\n",
    "    module_name, analysis_name = analysis_paths[i].rsplit('.',1) #TODO: add handling for case with no `.`\n",
    "    module = importlib.import_module(module_name)\n",
    "    analyses.append(getattr(module, analysis_name))\n",
    "\n",
    "# make sure model initializes with provided parameters and boundaries\n",
    "for model_index, model_class in enumerate(models):\n",
    "\n",
    "    @njit(fastmath=True, nogil=True)\n",
    "    def init_model(item_count, presentation_count, parameters):\n",
    "        return model_class(item_count, presentation_count, parameters)\n",
    "\n",
    "    subject_specific_trial_mask = np.logical_and(\n",
    "                generate_trial_mask(events, f'subject == {pd.unique(events.subject)[0]}'), trial_mask)\n",
    "\n",
    "    cost_function = generate_objective_function(\n",
    "        [trials[i][subject_specific_trial_mask[i]] for i in range(len(trials))],\n",
    "        [presentations[i][subject_specific_trial_mask[i]] for i in range(len(presentations))],\n",
    "        list_lengths,\n",
    "        init_model,\n",
    "        fixed_parameters[model_index],\n",
    "        free_parameters[model_index],\n",
    "    )\n",
    "    print(cost_function)\n",
    "    \n",
    "    for boundary_index in range(2):\n",
    "        x = np.array([each[boundary_index] for each in bounds[model_index]])\n",
    "        assert(len(x) == len(free_parameters[model_index])) \n",
    "\n",
    "        # parameter configuration\n",
    "        parameters = Dict.empty(key_type=types.unicode_type, value_type=types.float64)\n",
    "        for name, value in fixed_parameters[model_index].items():\n",
    "            parameters[name] = value\n",
    "        for i in range(len(free_parameters[model_index])):\n",
    "                parameters[free_parameters[model_index][i]] = x[i]\n",
    "\n",
    "        model = init_model(20, 20, parameters)\n",
    "        model.experience(model.items)\n",
    "        model.free_recall()\n",
    "\n",
    "        print(cost_function(x))\n",
    "print('dependencies and parameters validated')\n",
    "#print(trial_index, recall_index, recall, trial, likelihood[trial_index, recall_index], model.outcome_probabilities())"
   ]
  },
  {
   "cell_type": "code",
   "execution_count": 4,
   "id": "7a4fbd4e",
   "metadata": {
    "execution": {
     "iopub.execute_input": "2022-05-31T19:30:22.305338Z",
     "iopub.status.busy": "2022-05-31T19:30:22.304639Z",
     "iopub.status.idle": "2022-05-31T22:04:22.956898Z",
     "shell.execute_reply": "2022-05-31T22:04:22.955483Z"
    },
    "papermill": {
     "duration": 9240.804201,
     "end_time": "2022-05-31T22:04:23.078945",
     "exception": false,
     "start_time": "2022-05-31T19:30:22.274744",
     "status": "completed"
    },
    "tags": []
   },
   "outputs": [
    {
     "name": "stdout",
     "output_type": "stream",
     "text": [
      "individual fits for PrototypeCMR with tag LohnasKahanaCond4 already exist\n",
      "ICMR_1_0_0, Subject 1\n"
     ]
    },
    {
     "name": "stdout",
     "output_type": "stream",
     "text": [
      "571.465430949909\n",
      "ICMR_1_0_0, Subject 2\n"
     ]
    },
    {
     "name": "stdout",
     "output_type": "stream",
     "text": [
      "400.39882890492845\n",
      "ICMR_1_0_0, Subject 3\n"
     ]
    },
    {
     "name": "stdout",
     "output_type": "stream",
     "text": [
      "601.3442581486535\n",
      "ICMR_1_0_0, Subject 4\n"
     ]
    },
    {
     "name": "stdout",
     "output_type": "stream",
     "text": [
      "262.0220241219612\n",
      "ICMR_1_0_0, Subject 5\n"
     ]
    },
    {
     "name": "stdout",
     "output_type": "stream",
     "text": [
      "605.140234686384\n",
      "ICMR_1_0_0, Subject 6\n"
     ]
    },
    {
     "name": "stdout",
     "output_type": "stream",
     "text": [
      "627.6702580677486\n",
      "ICMR_1_0_0, Subject 7\n"
     ]
    },
    {
     "name": "stdout",
     "output_type": "stream",
     "text": [
      "302.61005877805604\n",
      "ICMR_1_0_0, Subject 8\n"
     ]
    },
    {
     "name": "stdout",
     "output_type": "stream",
     "text": [
      "650.9806172084086\n",
      "ICMR_1_0_0, Subject 10\n"
     ]
    },
    {
     "name": "stdout",
     "output_type": "stream",
     "text": [
      "452.86131307955276\n",
      "ICMR_1_0_0, Subject 11\n"
     ]
    },
    {
     "name": "stdout",
     "output_type": "stream",
     "text": [
      "660.8299555532764\n",
      "ICMR_1_0_0, Subject 12\n"
     ]
    },
    {
     "name": "stdout",
     "output_type": "stream",
     "text": [
      "615.6827211834585\n",
      "ICMR_1_0_0, Subject 13\n"
     ]
    },
    {
     "name": "stdout",
     "output_type": "stream",
     "text": [
      "574.4212355171315\n",
      "ICMR_1_0_0, Subject 14\n"
     ]
    },
    {
     "name": "stdout",
     "output_type": "stream",
     "text": [
      "877.170669313767\n",
      "ICMR_1_0_0, Subject 15\n"
     ]
    },
    {
     "name": "stdout",
     "output_type": "stream",
     "text": [
      "442.4950128294928\n",
      "ICMR_1_0_0, Subject 16\n"
     ]
    },
    {
     "name": "stdout",
     "output_type": "stream",
     "text": [
      "576.8164832716815\n",
      "ICMR_1_0_0, Subject 17\n"
     ]
    },
    {
     "name": "stdout",
     "output_type": "stream",
     "text": [
      "468.734350681548\n",
      "ICMR_1_0_0, Subject 18\n"
     ]
    },
    {
     "name": "stdout",
     "output_type": "stream",
     "text": [
      "500.1453396102445\n",
      "ICMR_1_0_0, Subject 19\n"
     ]
    },
    {
     "name": "stdout",
     "output_type": "stream",
     "text": [
      "463.88766966381087\n",
      "ICMR_1_0_0, Subject 20\n"
     ]
    },
    {
     "name": "stdout",
     "output_type": "stream",
     "text": [
      "308.29063490129977\n",
      "ICMR_1_0_0, Subject 21\n"
     ]
    },
    {
     "name": "stdout",
     "output_type": "stream",
     "text": [
      "608.9452556965097\n",
      "ICMR_1_0_0, Subject 22\n"
     ]
    },
    {
     "name": "stdout",
     "output_type": "stream",
     "text": [
      "224.84916424623233\n",
      "ICMR_1_0_0, Subject 23\n"
     ]
    },
    {
     "name": "stdout",
     "output_type": "stream",
     "text": [
      "361.0433519266264\n",
      "ICMR_1_0_0, Subject 24\n"
     ]
    },
    {
     "name": "stdout",
     "output_type": "stream",
     "text": [
      "436.93691335863855\n",
      "ICMR_1_0_0, Subject 25\n"
     ]
    },
    {
     "name": "stdout",
     "output_type": "stream",
     "text": [
      "493.6519926303308\n",
      "ICMR_1_0_0, Subject 27\n"
     ]
    },
    {
     "name": "stdout",
     "output_type": "stream",
     "text": [
      "249.08622957789277\n",
      "ICMR_1_0_0, Subject 28\n"
     ]
    },
    {
     "name": "stdout",
     "output_type": "stream",
     "text": [
      "294.5484592625063\n",
      "ICMR_1_0_0, Subject 29\n"
     ]
    },
    {
     "name": "stdout",
     "output_type": "stream",
     "text": [
      "459.5932553466888\n",
      "ICMR_1_0_0, Subject 30\n"
     ]
    },
    {
     "name": "stdout",
     "output_type": "stream",
     "text": [
      "334.6659629995147\n",
      "ICMR_1_0_0, Subject 31\n"
     ]
    },
    {
     "name": "stdout",
     "output_type": "stream",
     "text": [
      "362.64579616232265\n",
      "ICMR_1_0_0, Subject 32\n"
     ]
    },
    {
     "name": "stdout",
     "output_type": "stream",
     "text": [
      "607.2093081507072\n",
      "ICMR_1_0_0, Subject 33\n"
     ]
    },
    {
     "name": "stdout",
     "output_type": "stream",
     "text": [
      "445.5976305049772\n",
      "ICMR_1_0_0, Subject 34\n"
     ]
    },
    {
     "name": "stdout",
     "output_type": "stream",
     "text": [
      "527.058979196905\n",
      "ICMR_1_0_0, Subject 35\n"
     ]
    },
    {
     "name": "stdout",
     "output_type": "stream",
     "text": [
      "510.4896577661391\n",
      "ICMR_1_0_0, Subject 36\n"
     ]
    },
    {
     "name": "stdout",
     "output_type": "stream",
     "text": [
      "481.6486267593974\n",
      "ICMR_1_0_0, Subject 37\n"
     ]
    },
    {
     "name": "stdout",
     "output_type": "stream",
     "text": [
      "192.9488347881198\n"
     ]
    },
    {
     "name": "stdout",
     "output_type": "stream",
     "text": [
      "ICMR_1_0_1, Subject 1\n"
     ]
    },
    {
     "name": "stdout",
     "output_type": "stream",
     "text": [
      "571.3902512362181\n",
      "ICMR_1_0_1, Subject 2\n"
     ]
    },
    {
     "name": "stdout",
     "output_type": "stream",
     "text": [
      "364.15625478374346\n",
      "ICMR_1_0_1, Subject 3\n"
     ]
    },
    {
     "name": "stdout",
     "output_type": "stream",
     "text": [
      "605.0475745685992\n",
      "ICMR_1_0_1, Subject 4\n"
     ]
    },
    {
     "name": "stdout",
     "output_type": "stream",
     "text": [
      "263.97334236963974\n",
      "ICMR_1_0_1, Subject 5\n"
     ]
    },
    {
     "name": "stdout",
     "output_type": "stream",
     "text": [
      "608.9594582175014\n",
      "ICMR_1_0_1, Subject 6\n"
     ]
    },
    {
     "name": "stdout",
     "output_type": "stream",
     "text": [
      "677.3167284943049\n",
      "ICMR_1_0_1, Subject 7\n"
     ]
    },
    {
     "name": "stdout",
     "output_type": "stream",
     "text": [
      "312.7097067493928\n",
      "ICMR_1_0_1, Subject 8\n"
     ]
    },
    {
     "name": "stdout",
     "output_type": "stream",
     "text": [
      "636.4416784998502\n",
      "ICMR_1_0_1, Subject 10\n"
     ]
    },
    {
     "name": "stdout",
     "output_type": "stream",
     "text": [
      "453.1514377428656\n",
      "ICMR_1_0_1, Subject 11\n"
     ]
    },
    {
     "name": "stdout",
     "output_type": "stream",
     "text": [
      "687.677109646768\n",
      "ICMR_1_0_1, Subject 12\n"
     ]
    },
    {
     "name": "stdout",
     "output_type": "stream",
     "text": [
      "612.3226738087158\n",
      "ICMR_1_0_1, Subject 13\n"
     ]
    },
    {
     "name": "stdout",
     "output_type": "stream",
     "text": [
      "574.9379757786879\n",
      "ICMR_1_0_1, Subject 14\n"
     ]
    },
    {
     "name": "stdout",
     "output_type": "stream",
     "text": [
      "867.1418406342013\n",
      "ICMR_1_0_1, Subject 15\n"
     ]
    },
    {
     "name": "stdout",
     "output_type": "stream",
     "text": [
      "442.4293218934436\n",
      "ICMR_1_0_1, Subject 16\n"
     ]
    },
    {
     "name": "stdout",
     "output_type": "stream",
     "text": [
      "567.7234675670059\n",
      "ICMR_1_0_1, Subject 17\n"
     ]
    },
    {
     "name": "stdout",
     "output_type": "stream",
     "text": [
      "469.55848928799924\n",
      "ICMR_1_0_1, Subject 18\n"
     ]
    },
    {
     "name": "stdout",
     "output_type": "stream",
     "text": [
      "494.85876131945804\n",
      "ICMR_1_0_1, Subject 19\n"
     ]
    },
    {
     "name": "stdout",
     "output_type": "stream",
     "text": [
      "463.47796083798625\n",
      "ICMR_1_0_1, Subject 20\n"
     ]
    },
    {
     "name": "stdout",
     "output_type": "stream",
     "text": [
      "305.08264029289484\n",
      "ICMR_1_0_1, Subject 21\n"
     ]
    },
    {
     "name": "stdout",
     "output_type": "stream",
     "text": [
      "603.9616681799562\n",
      "ICMR_1_0_1, Subject 22\n"
     ]
    },
    {
     "name": "stdout",
     "output_type": "stream",
     "text": [
      "228.1577376703661\n",
      "ICMR_1_0_1, Subject 23\n"
     ]
    },
    {
     "name": "stdout",
     "output_type": "stream",
     "text": [
      "381.7158843051567\n",
      "ICMR_1_0_1, Subject 24\n"
     ]
    },
    {
     "name": "stdout",
     "output_type": "stream",
     "text": [
      "436.95056178786587\n",
      "ICMR_1_0_1, Subject 25\n"
     ]
    },
    {
     "name": "stdout",
     "output_type": "stream",
     "text": [
      "502.1817688102874\n",
      "ICMR_1_0_1, Subject 27\n"
     ]
    },
    {
     "name": "stdout",
     "output_type": "stream",
     "text": [
      "249.66417933395562\n",
      "ICMR_1_0_1, Subject 28\n"
     ]
    },
    {
     "name": "stdout",
     "output_type": "stream",
     "text": [
      "294.51992395656515\n",
      "ICMR_1_0_1, Subject 29\n"
     ]
    },
    {
     "name": "stdout",
     "output_type": "stream",
     "text": [
      "457.43729676095245\n",
      "ICMR_1_0_1, Subject 30\n"
     ]
    },
    {
     "name": "stdout",
     "output_type": "stream",
     "text": [
      "334.5725376475555\n",
      "ICMR_1_0_1, Subject 31\n"
     ]
    },
    {
     "name": "stdout",
     "output_type": "stream",
     "text": [
      "362.2202844568727\n",
      "ICMR_1_0_1, Subject 32\n"
     ]
    },
    {
     "name": "stdout",
     "output_type": "stream",
     "text": [
      "608.1226139838323\n",
      "ICMR_1_0_1, Subject 33\n"
     ]
    },
    {
     "name": "stdout",
     "output_type": "stream",
     "text": [
      "444.7230923113528\n",
      "ICMR_1_0_1, Subject 34\n"
     ]
    },
    {
     "name": "stdout",
     "output_type": "stream",
     "text": [
      "527.7862234282113\n",
      "ICMR_1_0_1, Subject 35\n"
     ]
    },
    {
     "name": "stdout",
     "output_type": "stream",
     "text": [
      "509.78881630739704\n",
      "ICMR_1_0_1, Subject 36\n"
     ]
    },
    {
     "name": "stdout",
     "output_type": "stream",
     "text": [
      "481.35904633047585\n",
      "ICMR_1_0_1, Subject 37\n"
     ]
    },
    {
     "name": "stdout",
     "output_type": "stream",
     "text": [
      "193.00341554451634\n",
      "ICMR_1_1_0, Subject 1\n"
     ]
    },
    {
     "name": "stdout",
     "output_type": "stream",
     "text": [
      "565.6521981924445\n",
      "ICMR_1_1_0, Subject 2\n"
     ]
    },
    {
     "name": "stdout",
     "output_type": "stream",
     "text": [
      "412.7086590130244\n",
      "ICMR_1_1_0, Subject 3\n"
     ]
    },
    {
     "name": "stdout",
     "output_type": "stream",
     "text": [
      "600.851240716453\n",
      "ICMR_1_1_0, Subject 4\n"
     ]
    },
    {
     "name": "stdout",
     "output_type": "stream",
     "text": [
      "264.6421231113051\n",
      "ICMR_1_1_0, Subject 5\n"
     ]
    },
    {
     "name": "stdout",
     "output_type": "stream",
     "text": [
      "604.9854386891011\n",
      "ICMR_1_1_0, Subject 6\n"
     ]
    },
    {
     "name": "stdout",
     "output_type": "stream",
     "text": [
      "626.842058153924\n",
      "ICMR_1_1_0, Subject 7\n"
     ]
    },
    {
     "name": "stdout",
     "output_type": "stream",
     "text": [
      "296.0964740794183\n",
      "ICMR_1_1_0, Subject 8\n"
     ]
    },
    {
     "name": "stdout",
     "output_type": "stream",
     "text": [
      "644.1415643554061\n",
      "ICMR_1_1_0, Subject 10\n"
     ]
    },
    {
     "name": "stdout",
     "output_type": "stream",
     "text": [
      "456.28941231038226\n",
      "ICMR_1_1_0, Subject 11\n"
     ]
    },
    {
     "name": "stdout",
     "output_type": "stream",
     "text": [
      "712.47108295642\n",
      "ICMR_1_1_0, Subject 12\n"
     ]
    },
    {
     "name": "stdout",
     "output_type": "stream",
     "text": [
      "625.8137559499634\n",
      "ICMR_1_1_0, Subject 13\n"
     ]
    },
    {
     "name": "stdout",
     "output_type": "stream",
     "text": [
      "607.4008667498078\n",
      "ICMR_1_1_0, Subject 14\n"
     ]
    },
    {
     "name": "stdout",
     "output_type": "stream",
     "text": [
      "849.433341672138\n",
      "ICMR_1_1_0, Subject 15\n"
     ]
    },
    {
     "name": "stdout",
     "output_type": "stream",
     "text": [
      "442.0164441997566\n",
      "ICMR_1_1_0, Subject 16\n"
     ]
    },
    {
     "name": "stdout",
     "output_type": "stream",
     "text": [
      "568.2223204851047\n",
      "ICMR_1_1_0, Subject 17\n"
     ]
    },
    {
     "name": "stdout",
     "output_type": "stream",
     "text": [
      "469.2608983432954\n",
      "ICMR_1_1_0, Subject 18\n"
     ]
    },
    {
     "name": "stdout",
     "output_type": "stream",
     "text": [
      "494.95428471981256\n",
      "ICMR_1_1_0, Subject 19\n"
     ]
    },
    {
     "name": "stdout",
     "output_type": "stream",
     "text": [
      "461.79565875398123\n",
      "ICMR_1_1_0, Subject 20\n"
     ]
    },
    {
     "name": "stdout",
     "output_type": "stream",
     "text": [
      "303.174837939781\n",
      "ICMR_1_1_0, Subject 21\n"
     ]
    },
    {
     "name": "stdout",
     "output_type": "stream",
     "text": [
      "603.1787652826307\n",
      "ICMR_1_1_0, Subject 22\n"
     ]
    },
    {
     "name": "stdout",
     "output_type": "stream",
     "text": [
      "228.9147521938339\n",
      "ICMR_1_1_0, Subject 23\n"
     ]
    },
    {
     "name": "stdout",
     "output_type": "stream",
     "text": [
      "366.45172871142427\n",
      "ICMR_1_1_0, Subject 24\n"
     ]
    },
    {
     "name": "stdout",
     "output_type": "stream",
     "text": [
      "437.72698031369305\n",
      "ICMR_1_1_0, Subject 25\n"
     ]
    },
    {
     "name": "stdout",
     "output_type": "stream",
     "text": [
      "493.29545740848545\n",
      "ICMR_1_1_0, Subject 27\n"
     ]
    },
    {
     "name": "stdout",
     "output_type": "stream",
     "text": [
      "252.25774474719734\n",
      "ICMR_1_1_0, Subject 28\n"
     ]
    },
    {
     "name": "stdout",
     "output_type": "stream",
     "text": [
      "294.61618204694076\n",
      "ICMR_1_1_0, Subject 29\n"
     ]
    },
    {
     "name": "stdout",
     "output_type": "stream",
     "text": [
      "456.70351798898014\n",
      "ICMR_1_1_0, Subject 30\n"
     ]
    },
    {
     "name": "stdout",
     "output_type": "stream",
     "text": [
      "355.38187526562314\n",
      "ICMR_1_1_0, Subject 31\n"
     ]
    },
    {
     "name": "stdout",
     "output_type": "stream",
     "text": [
      "363.90360330605057\n",
      "ICMR_1_1_0, Subject 32\n"
     ]
    },
    {
     "name": "stdout",
     "output_type": "stream",
     "text": [
      "607.6762295338237\n",
      "ICMR_1_1_0, Subject 33\n"
     ]
    },
    {
     "name": "stdout",
     "output_type": "stream",
     "text": [
      "445.72086434342015\n",
      "ICMR_1_1_0, Subject 34\n"
     ]
    },
    {
     "name": "stdout",
     "output_type": "stream",
     "text": [
      "525.230983539032\n",
      "ICMR_1_1_0, Subject 35\n"
     ]
    },
    {
     "name": "stdout",
     "output_type": "stream",
     "text": [
      "509.46035404267417\n",
      "ICMR_1_1_0, Subject 36\n"
     ]
    },
    {
     "name": "stdout",
     "output_type": "stream",
     "text": [
      "481.9528570032923\n",
      "ICMR_1_1_0, Subject 37\n"
     ]
    },
    {
     "name": "stdout",
     "output_type": "stream",
     "text": [
      "193.95698329605563\n",
      "ICMR_1_1_1, Subject 1\n"
     ]
    },
    {
     "name": "stdout",
     "output_type": "stream",
     "text": [
      "566.9832590322892\n",
      "ICMR_1_1_1, Subject 2\n"
     ]
    },
    {
     "name": "stdout",
     "output_type": "stream",
     "text": [
      "360.1560538026343\n",
      "ICMR_1_1_1, Subject 3\n"
     ]
    },
    {
     "name": "stdout",
     "output_type": "stream",
     "text": [
      "608.6969251152218\n",
      "ICMR_1_1_1, Subject 4\n"
     ]
    },
    {
     "name": "stdout",
     "output_type": "stream",
     "text": [
      "262.13640737563213\n",
      "ICMR_1_1_1, Subject 5\n"
     ]
    },
    {
     "name": "stdout",
     "output_type": "stream",
     "text": [
      "604.9818788811037\n",
      "ICMR_1_1_1, Subject 6\n"
     ]
    },
    {
     "name": "stdout",
     "output_type": "stream",
     "text": [
      "627.006036317145\n",
      "ICMR_1_1_1, Subject 7\n"
     ]
    },
    {
     "name": "stdout",
     "output_type": "stream",
     "text": [
      "311.11836594631745\n",
      "ICMR_1_1_1, Subject 8\n"
     ]
    },
    {
     "name": "stdout",
     "output_type": "stream",
     "text": [
      "650.4150657464501\n",
      "ICMR_1_1_1, Subject 10\n"
     ]
    },
    {
     "name": "stdout",
     "output_type": "stream",
     "text": [
      "453.69041932833017\n",
      "ICMR_1_1_1, Subject 11\n"
     ]
    },
    {
     "name": "stdout",
     "output_type": "stream",
     "text": [
      "659.3729871080368\n",
      "ICMR_1_1_1, Subject 12\n"
     ]
    },
    {
     "name": "stdout",
     "output_type": "stream",
     "text": [
      "617.0988516378593\n",
      "ICMR_1_1_1, Subject 13\n"
     ]
    },
    {
     "name": "stdout",
     "output_type": "stream",
     "text": [
      "576.3054949379847\n",
      "ICMR_1_1_1, Subject 14\n"
     ]
    },
    {
     "name": "stdout",
     "output_type": "stream",
     "text": [
      "862.6330036638436\n",
      "ICMR_1_1_1, Subject 15\n"
     ]
    },
    {
     "name": "stdout",
     "output_type": "stream",
     "text": [
      "442.3780229928401\n",
      "ICMR_1_1_1, Subject 16\n"
     ]
    },
    {
     "name": "stdout",
     "output_type": "stream",
     "text": [
      "561.8859448862985\n",
      "ICMR_1_1_1, Subject 17\n"
     ]
    },
    {
     "name": "stdout",
     "output_type": "stream",
     "text": [
      "477.1118279689417\n",
      "ICMR_1_1_1, Subject 18\n"
     ]
    },
    {
     "name": "stdout",
     "output_type": "stream",
     "text": [
      "494.872467886859\n",
      "ICMR_1_1_1, Subject 19\n"
     ]
    },
    {
     "name": "stdout",
     "output_type": "stream",
     "text": [
      "463.67827457796136\n",
      "ICMR_1_1_1, Subject 20\n"
     ]
    },
    {
     "name": "stdout",
     "output_type": "stream",
     "text": [
      "304.00993526484785\n",
      "ICMR_1_1_1, Subject 21\n"
     ]
    },
    {
     "name": "stdout",
     "output_type": "stream",
     "text": [
      "633.9989557175674\n",
      "ICMR_1_1_1, Subject 22\n"
     ]
    },
    {
     "name": "stdout",
     "output_type": "stream",
     "text": [
      "230.62601664938848\n",
      "ICMR_1_1_1, Subject 23\n"
     ]
    },
    {
     "name": "stdout",
     "output_type": "stream",
     "text": [
      "361.96733812417745\n",
      "ICMR_1_1_1, Subject 24\n"
     ]
    },
    {
     "name": "stdout",
     "output_type": "stream",
     "text": [
      "438.7018478886512\n",
      "ICMR_1_1_1, Subject 25\n"
     ]
    },
    {
     "name": "stdout",
     "output_type": "stream",
     "text": [
      "522.5621099975247\n",
      "ICMR_1_1_1, Subject 27\n"
     ]
    },
    {
     "name": "stdout",
     "output_type": "stream",
     "text": [
      "251.96267209717212\n",
      "ICMR_1_1_1, Subject 28\n"
     ]
    },
    {
     "name": "stdout",
     "output_type": "stream",
     "text": [
      "295.4604872113084\n",
      "ICMR_1_1_1, Subject 29\n"
     ]
    },
    {
     "name": "stdout",
     "output_type": "stream",
     "text": [
      "461.57272914331907\n",
      "ICMR_1_1_1, Subject 30\n"
     ]
    },
    {
     "name": "stdout",
     "output_type": "stream",
     "text": [
      "348.5319191439884\n",
      "ICMR_1_1_1, Subject 31\n"
     ]
    },
    {
     "name": "stdout",
     "output_type": "stream",
     "text": [
      "360.94483778093246\n",
      "ICMR_1_1_1, Subject 32\n"
     ]
    },
    {
     "name": "stdout",
     "output_type": "stream",
     "text": [
      "607.3359260626991\n",
      "ICMR_1_1_1, Subject 33\n"
     ]
    },
    {
     "name": "stdout",
     "output_type": "stream",
     "text": [
      "447.2641742123855\n",
      "ICMR_1_1_1, Subject 34\n"
     ]
    },
    {
     "name": "stdout",
     "output_type": "stream",
     "text": [
      "525.0763518052612\n",
      "ICMR_1_1_1, Subject 35\n"
     ]
    },
    {
     "name": "stdout",
     "output_type": "stream",
     "text": [
      "509.46121166290993\n",
      "ICMR_1_1_1, Subject 36\n"
     ]
    },
    {
     "name": "stdout",
     "output_type": "stream",
     "text": [
      "483.33100611568284\n",
      "ICMR_1_1_1, Subject 37\n"
     ]
    },
    {
     "name": "stdout",
     "output_type": "stream",
     "text": [
      "194.4170046683119\n"
     ]
    }
   ],
   "source": [
    "# | code-summary: code -- 1) fit each model class participant-by-participant\n",
    "# | output: false\n",
    "\n",
    "for model_index, model_class in enumerate(models):\n",
    "\n",
    "    # load individual fits for this model and section tag from csv if they exist\n",
    "    if os.path.isfile(results_path + '{}_{}_individual.csv'.format(section_tag, model_names[model_index])):\n",
    "        pd.read_csv(results_path + '{}_{}_individual.csv'.format(section_tag, model_names[model_index]))\n",
    "        print('individual fits for {} with tag {} already exist'.format(model_names[model_index], section_tag))\n",
    "\n",
    "    # otherwise, fit each participant individually\n",
    "    else:\n",
    "        model_individual_fits = []\n",
    "\n",
    "        @njit(fastmath=True, nogil=True)\n",
    "        def init_model(item_count, presentation_count, parameters):\n",
    "            return model_class(item_count, presentation_count, parameters)\n",
    "\n",
    "        for subject in pd.unique(events.subject):\n",
    "            print(f'{model_names[model_index]}, Subject {subject}')\n",
    "\n",
    "            subject_specific_trial_mask = np.logical_and(\n",
    "                generate_trial_mask(events, f'subject == {subject}'), trial_mask)\n",
    "            \n",
    "            try:\n",
    "                # cost function to be minimized\n",
    "                # ours scales inversely with the probability that the data could have been\n",
    "                # generated using the specified parameters and our model\n",
    "                cost_function = generate_objective_function(\n",
    "                    [trials[i][subject_specific_trial_mask[i]] for i in range(len(trials))],\n",
    "                    [presentations[i][subject_specific_trial_mask[i]] for i in range(len(presentations))],\n",
    "                    list_lengths,\n",
    "                    init_model,\n",
    "                    fixed_parameters[model_index],\n",
    "                    free_parameters[model_index],\n",
    "                )\n",
    "            except ValueError:\n",
    "                continue\n",
    "\n",
    "            fit_result =  differential_evolution(cost_function, bounds[model_index], disp=False)\n",
    "\n",
    "            fitted_parameters = {\n",
    "                'subject': subject, 'trial_count': np.sum(subject_specific_trial_mask), \n",
    "                'likelihood': fit_result.fun, 'model': model_names[model_index]\n",
    "                }\n",
    "            for i in range(len(fit_result.x)):\n",
    "                fitted_parameters[free_parameters[model_index][i]] = fit_result.x[i]\n",
    "            for key in fixed_parameters[model_index]:\n",
    "                fitted_parameters[key] = fixed_parameters[model_index][key]\n",
    "\n",
    "            model_individual_fits.append(pd.DataFrame.from_dict(fitted_parameters, orient='index').T)\n",
    "            print(model_individual_fits[-1]['likelihood'][0])\n",
    "\n",
    "        model_individual_fits = pd.concat(model_individual_fits, ignore_index=True)\n",
    "        model_individual_fits.to_csv(\n",
    "            results_path + '{}_{}_individual.csv'.format(section_tag, model_names[model_index]), index=False)"
   ]
  },
  {
   "cell_type": "code",
   "execution_count": 5,
   "id": "0e98dd78",
   "metadata": {
    "execution": {
     "iopub.execute_input": "2022-05-31T22:04:23.311000Z",
     "iopub.status.busy": "2022-05-31T22:04:23.310187Z",
     "iopub.status.idle": "2022-05-31T22:04:37.304298Z",
     "shell.execute_reply": "2022-05-31T22:04:37.303163Z"
    },
    "papermill": {
     "duration": 14.114691,
     "end_time": "2022-05-31T22:04:37.308833",
     "exception": false,
     "start_time": "2022-05-31T22:04:23.194142",
     "status": "completed"
    },
    "tags": []
   },
   "outputs": [
    {
     "data": {
      "text/plain": [
       "Text(-1.8055555555555483, 0.5, 'Individual Log-Likelihood')"
      ]
     },
     "execution_count": 5,
     "metadata": {},
     "output_type": "execute_result"
    },
    {
     "data": {
      "image/png": "[encoded data removed]",
      "text/plain": [
       "<Figure size 500x500 with 1 Axes>"
      ]
     },
     "metadata": {},
     "output_type": "display_data"
    }
   ],
   "source": [
    "#| code-summary: code -- 3) plot distribution of log-likelihoods across individual subjects\n",
    "\n",
    "plt.style.use('default')\n",
    "sns.set(style=\"darkgrid\")\n",
    "\n",
    "# build individual fits df concatenating results from each model\n",
    "individual_fits = []\n",
    "for model_index, model_class in enumerate(models):\n",
    "    individual_fits.append(\n",
    "        pd.read_csv(results_path + '{}_{}_individual.csv'.format(section_tag, model_names[model_index])))\n",
    "individual_fits = pd.concat(individual_fits, ignore_index=True)\n",
    "\n",
    "# plot distribution of log-likelihoods across individual subjects\n",
    "g = sns.catplot(x='model', y='likelihood', data=individual_fits, kind='violin', inner='stick')\n",
    "sns.swarmplot(x=\"model\", y=\"likelihood\", data=individual_fits, color=\"k\", size=3, ax=g.ax)\n",
    "g.ax.set_ylabel('Individual Log-Likelihood')\n",
    "#plt.savefig(results_path + 'individual_{}.pdf'.format(section_tag), bbox_inches=\"tight\")"
   ]
  },
  {
   "cell_type": "code",
   "execution_count": 6,
   "id": "ba8867ef",
   "metadata": {
    "execution": {
     "iopub.execute_input": "2022-05-31T22:04:37.560410Z",
     "iopub.status.busy": "2022-05-31T22:04:37.559932Z",
     "iopub.status.idle": "2022-05-31T22:04:37.621348Z",
     "shell.execute_reply": "2022-05-31T22:04:37.620334Z"
    },
    "papermill": {
     "duration": 0.186864,
     "end_time": "2022-05-31T22:04:37.623962",
     "exception": false,
     "start_time": "2022-05-31T22:04:37.437098",
     "status": "completed"
    },
    "tags": []
   },
   "outputs": [
    {
     "data": {
      "text/html": [
       "<div>\n",
       "<style scoped>\n",
       "    .dataframe tbody tr th:only-of-type {\n",
       "        vertical-align: middle;\n",
       "    }\n",
       "\n",
       "    .dataframe tbody tr th {\n",
       "        vertical-align: top;\n",
       "    }\n",
       "\n",
       "    .dataframe thead th {\n",
       "        text-align: right;\n",
       "    }\n",
       "</style>\n",
       "<table border=\"1\" class=\"dataframe\">\n",
       "  <thead>\n",
       "    <tr style=\"text-align: right;\">\n",
       "      <th></th>\n",
       "      <th>subject</th>\n",
       "      <th>trial_count</th>\n",
       "      <th>likelihood</th>\n",
       "      <th>model</th>\n",
       "      <th>encoding_drift_rate</th>\n",
       "      <th>start_drift_rate</th>\n",
       "      <th>recall_drift_rate</th>\n",
       "      <th>shared_support</th>\n",
       "      <th>item_support</th>\n",
       "      <th>learning_rate</th>\n",
       "      <th>primacy_scale</th>\n",
       "      <th>primacy_decay</th>\n",
       "      <th>stop_probability_scale</th>\n",
       "      <th>stop_probability_growth</th>\n",
       "      <th>choice_sensitivity</th>\n",
       "      <th>delay_drift_rate</th>\n",
       "      <th>feature_sensitivity</th>\n",
       "      <th>context_sensitivity</th>\n",
       "      <th>learn_first</th>\n",
       "    </tr>\n",
       "  </thead>\n",
       "  <tbody>\n",
       "    <tr>\n",
       "      <th>0</th>\n",
       "      <td>1</td>\n",
       "      <td>12</td>\n",
       "      <td>570.955428</td>\n",
       "      <td>PrototypeCMR</td>\n",
       "      <td>0.852156</td>\n",
       "      <td>6.300297e-02</td>\n",
       "      <td>0.973207</td>\n",
       "      <td>0.019302</td>\n",
       "      <td>0.259307</td>\n",
       "      <td>0.307303</td>\n",
       "      <td>6.044598</td>\n",
       "      <td>3.097731</td>\n",
       "      <td>0.000216</td>\n",
       "      <td>0.362137</td>\n",
       "      <td>1.170036</td>\n",
       "      <td>9.974672e-01</td>\n",
       "      <td>NaN</td>\n",
       "      <td>NaN</td>\n",
       "      <td>NaN</td>\n",
       "    </tr>\n",
       "    <tr>\n",
       "      <th>1</th>\n",
       "      <td>2</td>\n",
       "      <td>12</td>\n",
       "      <td>360.809973</td>\n",
       "      <td>PrototypeCMR</td>\n",
       "      <td>0.775959</td>\n",
       "      <td>5.741804e-04</td>\n",
       "      <td>0.948820</td>\n",
       "      <td>0.892383</td>\n",
       "      <td>0.386590</td>\n",
       "      <td>0.530834</td>\n",
       "      <td>3.640929</td>\n",
       "      <td>70.418258</td>\n",
       "      <td>0.039439</td>\n",
       "      <td>0.098614</td>\n",
       "      <td>8.910311</td>\n",
       "      <td>9.999966e-01</td>\n",
       "      <td>NaN</td>\n",
       "      <td>NaN</td>\n",
       "      <td>NaN</td>\n",
       "    </tr>\n",
       "    <tr>\n",
       "      <th>2</th>\n",
       "      <td>3</td>\n",
       "      <td>12</td>\n",
       "      <td>603.498286</td>\n",
       "      <td>PrototypeCMR</td>\n",
       "      <td>0.781675</td>\n",
       "      <td>9.449777e-02</td>\n",
       "      <td>0.988624</td>\n",
       "      <td>0.150700</td>\n",
       "      <td>1.000000</td>\n",
       "      <td>0.349989</td>\n",
       "      <td>8.880948</td>\n",
       "      <td>0.697555</td>\n",
       "      <td>0.004007</td>\n",
       "      <td>0.197674</td>\n",
       "      <td>1.641359</td>\n",
       "      <td>4.568914e-01</td>\n",
       "      <td>NaN</td>\n",
       "      <td>NaN</td>\n",
       "      <td>NaN</td>\n",
       "    </tr>\n",
       "    <tr>\n",
       "      <th>3</th>\n",
       "      <td>4</td>\n",
       "      <td>12</td>\n",
       "      <td>265.937735</td>\n",
       "      <td>PrototypeCMR</td>\n",
       "      <td>0.869711</td>\n",
       "      <td>2.220446e-16</td>\n",
       "      <td>0.993952</td>\n",
       "      <td>0.011394</td>\n",
       "      <td>0.649119</td>\n",
       "      <td>0.288967</td>\n",
       "      <td>40.612291</td>\n",
       "      <td>39.024797</td>\n",
       "      <td>0.062762</td>\n",
       "      <td>0.118039</td>\n",
       "      <td>0.845225</td>\n",
       "      <td>9.978126e-01</td>\n",
       "      <td>NaN</td>\n",
       "      <td>NaN</td>\n",
       "      <td>NaN</td>\n",
       "    </tr>\n",
       "    <tr>\n",
       "      <th>4</th>\n",
       "      <td>5</td>\n",
       "      <td>12</td>\n",
       "      <td>607.847412</td>\n",
       "      <td>PrototypeCMR</td>\n",
       "      <td>0.696208</td>\n",
       "      <td>9.936327e-01</td>\n",
       "      <td>0.913874</td>\n",
       "      <td>0.022257</td>\n",
       "      <td>0.675181</td>\n",
       "      <td>0.590791</td>\n",
       "      <td>2.014848</td>\n",
       "      <td>49.312230</td>\n",
       "      <td>0.002999</td>\n",
       "      <td>0.237998</td>\n",
       "      <td>0.847514</td>\n",
       "      <td>1.000000e+00</td>\n",
       "      <td>NaN</td>\n",
       "      <td>NaN</td>\n",
       "      <td>NaN</td>\n",
       "    </tr>\n",
       "    <tr>\n",
       "      <th>...</th>\n",
       "      <td>...</td>\n",
       "      <td>...</td>\n",
       "      <td>...</td>\n",
       "      <td>...</td>\n",
       "      <td>...</td>\n",
       "      <td>...</td>\n",
       "      <td>...</td>\n",
       "      <td>...</td>\n",
       "      <td>...</td>\n",
       "      <td>...</td>\n",
       "      <td>...</td>\n",
       "      <td>...</td>\n",
       "      <td>...</td>\n",
       "      <td>...</td>\n",
       "      <td>...</td>\n",
       "      <td>...</td>\n",
       "      <td>...</td>\n",
       "      <td>...</td>\n",
       "      <td>...</td>\n",
       "    </tr>\n",
       "    <tr>\n",
       "      <th>170</th>\n",
       "      <td>33</td>\n",
       "      <td>12</td>\n",
       "      <td>447.264174</td>\n",
       "      <td>ICMR_1_1_1</td>\n",
       "      <td>0.584482</td>\n",
       "      <td>3.976145e-01</td>\n",
       "      <td>0.607972</td>\n",
       "      <td>0.000080</td>\n",
       "      <td>0.001765</td>\n",
       "      <td>1.000000</td>\n",
       "      <td>27.856115</td>\n",
       "      <td>0.745603</td>\n",
       "      <td>0.018606</td>\n",
       "      <td>0.160130</td>\n",
       "      <td>1.000000</td>\n",
       "      <td>1.861100e-05</td>\n",
       "      <td>1.0</td>\n",
       "      <td>3.775058</td>\n",
       "      <td>True</td>\n",
       "    </tr>\n",
       "    <tr>\n",
       "      <th>171</th>\n",
       "      <td>34</td>\n",
       "      <td>12</td>\n",
       "      <td>525.076352</td>\n",
       "      <td>ICMR_1_1_1</td>\n",
       "      <td>0.763293</td>\n",
       "      <td>1.042426e-02</td>\n",
       "      <td>0.957499</td>\n",
       "      <td>0.006029</td>\n",
       "      <td>0.480757</td>\n",
       "      <td>0.459113</td>\n",
       "      <td>11.232233</td>\n",
       "      <td>63.703896</td>\n",
       "      <td>0.008209</td>\n",
       "      <td>0.136043</td>\n",
       "      <td>1.000000</td>\n",
       "      <td>9.997197e-01</td>\n",
       "      <td>1.0</td>\n",
       "      <td>2.242431</td>\n",
       "      <td>True</td>\n",
       "    </tr>\n",
       "    <tr>\n",
       "      <th>172</th>\n",
       "      <td>35</td>\n",
       "      <td>12</td>\n",
       "      <td>509.461212</td>\n",
       "      <td>ICMR_1_1_1</td>\n",
       "      <td>0.861085</td>\n",
       "      <td>3.581599e-01</td>\n",
       "      <td>0.994052</td>\n",
       "      <td>0.004845</td>\n",
       "      <td>1.000000</td>\n",
       "      <td>0.545894</td>\n",
       "      <td>4.325406</td>\n",
       "      <td>45.405956</td>\n",
       "      <td>0.005023</td>\n",
       "      <td>0.214819</td>\n",
       "      <td>1.000000</td>\n",
       "      <td>2.755905e-09</td>\n",
       "      <td>1.0</td>\n",
       "      <td>1.148646</td>\n",
       "      <td>True</td>\n",
       "    </tr>\n",
       "    <tr>\n",
       "      <th>173</th>\n",
       "      <td>36</td>\n",
       "      <td>12</td>\n",
       "      <td>483.331006</td>\n",
       "      <td>ICMR_1_1_1</td>\n",
       "      <td>0.669901</td>\n",
       "      <td>8.936616e-01</td>\n",
       "      <td>1.000000</td>\n",
       "      <td>0.018597</td>\n",
       "      <td>0.972638</td>\n",
       "      <td>0.694371</td>\n",
       "      <td>5.722502</td>\n",
       "      <td>53.953581</td>\n",
       "      <td>0.019983</td>\n",
       "      <td>0.127663</td>\n",
       "      <td>1.000000</td>\n",
       "      <td>1.542281e-01</td>\n",
       "      <td>1.0</td>\n",
       "      <td>1.419676</td>\n",
       "      <td>True</td>\n",
       "    </tr>\n",
       "    <tr>\n",
       "      <th>174</th>\n",
       "      <td>37</td>\n",
       "      <td>12</td>\n",
       "      <td>194.417005</td>\n",
       "      <td>ICMR_1_1_1</td>\n",
       "      <td>0.758084</td>\n",
       "      <td>1.493656e-01</td>\n",
       "      <td>1.000000</td>\n",
       "      <td>0.010229</td>\n",
       "      <td>0.482804</td>\n",
       "      <td>0.433450</td>\n",
       "      <td>58.706902</td>\n",
       "      <td>64.432279</td>\n",
       "      <td>0.068502</td>\n",
       "      <td>0.215368</td>\n",
       "      <td>1.000000</td>\n",
       "      <td>3.467461e-01</td>\n",
       "      <td>1.0</td>\n",
       "      <td>2.111522</td>\n",
       "      <td>True</td>\n",
       "    </tr>\n",
       "  </tbody>\n",
       "</table>\n",
       "<p>175 rows × 19 columns</p>\n",
       "</div>"
      ],
      "text/plain": [
       "     subject  trial_count  likelihood         model  encoding_drift_rate  \\\n",
       "0          1           12  570.955428  PrototypeCMR             0.852156   \n",
       "1          2           12  360.809973  PrototypeCMR             0.775959   \n",
       "2          3           12  603.498286  PrototypeCMR             0.781675   \n",
       "3          4           12  265.937735  PrototypeCMR             0.869711   \n",
       "4          5           12  607.847412  PrototypeCMR             0.696208   \n",
       "..       ...          ...         ...           ...                  ...   \n",
       "170       33           12  447.264174    ICMR_1_1_1             0.584482   \n",
       "171       34           12  525.076352    ICMR_1_1_1             0.763293   \n",
       "172       35           12  509.461212    ICMR_1_1_1             0.861085   \n",
       "173       36           12  483.331006    ICMR_1_1_1             0.669901   \n",
       "174       37           12  194.417005    ICMR_1_1_1             0.758084   \n",
       "\n",
       "     start_drift_rate  recall_drift_rate  shared_support  item_support  \\\n",
       "0        6.300297e-02           0.973207        0.019302      0.259307   \n",
       "1        5.741804e-04           0.948820        0.892383      0.386590   \n",
       "2        9.449777e-02           0.988624        0.150700      1.000000   \n",
       "3        2.220446e-16           0.993952        0.011394      0.649119   \n",
       "4        9.936327e-01           0.913874        0.022257      0.675181   \n",
       "..                ...                ...             ...           ...   \n",
       "170      3.976145e-01           0.607972        0.000080      0.001765   \n",
       "171      1.042426e-02           0.957499        0.006029      0.480757   \n",
       "172      3.581599e-01           0.994052        0.004845      1.000000   \n",
       "173      8.936616e-01           1.000000        0.018597      0.972638   \n",
       "174      1.493656e-01           1.000000        0.010229      0.482804   \n",
       "\n",
       "     learning_rate  primacy_scale  primacy_decay  stop_probability_scale  \\\n",
       "0         0.307303       6.044598       3.097731                0.000216   \n",
       "1         0.530834       3.640929      70.418258                0.039439   \n",
       "2         0.349989       8.880948       0.697555                0.004007   \n",
       "3         0.288967      40.612291      39.024797                0.062762   \n",
       "4         0.590791       2.014848      49.312230                0.002999   \n",
       "..             ...            ...            ...                     ...   \n",
       "170       1.000000      27.856115       0.745603                0.018606   \n",
       "171       0.459113      11.232233      63.703896                0.008209   \n",
       "172       0.545894       4.325406      45.405956                0.005023   \n",
       "173       0.694371       5.722502      53.953581                0.019983   \n",
       "174       0.433450      58.706902      64.432279                0.068502   \n",
       "\n",
       "     stop_probability_growth  choice_sensitivity  delay_drift_rate  \\\n",
       "0                   0.362137            1.170036      9.974672e-01   \n",
       "1                   0.098614            8.910311      9.999966e-01   \n",
       "2                   0.197674            1.641359      4.568914e-01   \n",
       "3                   0.118039            0.845225      9.978126e-01   \n",
       "4                   0.237998            0.847514      1.000000e+00   \n",
       "..                       ...                 ...               ...   \n",
       "170                 0.160130            1.000000      1.861100e-05   \n",
       "171                 0.136043            1.000000      9.997197e-01   \n",
       "172                 0.214819            1.000000      2.755905e-09   \n",
       "173                 0.127663            1.000000      1.542281e-01   \n",
       "174                 0.215368            1.000000      3.467461e-01   \n",
       "\n",
       "     feature_sensitivity  context_sensitivity learn_first  \n",
       "0                    NaN                  NaN         NaN  \n",
       "1                    NaN                  NaN         NaN  \n",
       "2                    NaN                  NaN         NaN  \n",
       "3                    NaN                  NaN         NaN  \n",
       "4                    NaN                  NaN         NaN  \n",
       "..                   ...                  ...         ...  \n",
       "170                  1.0             3.775058        True  \n",
       "171                  1.0             2.242431        True  \n",
       "172                  1.0             1.148646        True  \n",
       "173                  1.0             1.419676        True  \n",
       "174                  1.0             2.111522        True  \n",
       "\n",
       "[175 rows x 19 columns]"
      ]
     },
     "execution_count": 6,
     "metadata": {},
     "output_type": "execute_result"
    }
   ],
   "source": [
    "individual_fits"
   ]
  },
  {
   "cell_type": "code",
   "execution_count": 7,
   "id": "97da0701",
   "metadata": {
    "execution": {
     "iopub.execute_input": "2022-05-31T22:04:37.872941Z",
     "iopub.status.busy": "2022-05-31T22:04:37.872245Z",
     "iopub.status.idle": "2022-05-31T22:04:37.927712Z",
     "shell.execute_reply": "2022-05-31T22:04:37.926657Z"
    },
    "papermill": {
     "duration": 0.182723,
     "end_time": "2022-05-31T22:04:37.930728",
     "exception": false,
     "start_time": "2022-05-31T22:04:37.748005",
     "status": "completed"
    },
    "tags": []
   },
   "outputs": [
    {
     "name": "stdout",
     "output_type": "stream",
     "text": [
      "::: {#fig-LohnasKahanaCond4fits layout-nrow=2 layout-valign=\"center\"}\n",
      "\n",
      "![](results/individual_LohnasKahanaCond4.pdf)\n",
      "\n",
      "|       |   ICMR_1_0_0 |   ICMR_1_0_1 |   ICMR_1_1_0 |   ICMR_1_1_1 |   PrototypeCMR |\n",
      "|:------|-------------:|-------------:|-------------:|-------------:|---------------:|\n",
      "| count |       35     |       35     |       35     |       35     |         35     |\n",
      "| mean  |      472.968 |      474.129 |      474.948 |      473.65  |        470.223 |\n",
      "| std   |      149.194 |      150.336 |      148.593 |      148.446 |        146.658 |\n",
      "| min   |      192.949 |      193.003 |      193.957 |      194.417 |        194.559 |\n",
      "| 25%   |      361.845 |      363.188 |      365.178 |      360.55  |        363.009 |\n",
      "| 50%   |      468.734 |      469.558 |      469.261 |      477.112 |        470.901 |\n",
      "| 75%   |      589.08  |      589.45  |      602.015 |      590.644 |        588.641 |\n",
      "| max   |      877.171 |      867.142 |      849.433 |      862.633 |        845.141 |\n",
      "\n",
      "Distribution of log-likelihood scores of recall sequences exhibited by each subject in dataset under each considered model.\n",
      ":::\n"
     ]
    }
   ],
   "source": [
    "#| code-summary: display markdown rendering of summary table\n",
    "#| echo: false\n",
    "#| input: false\n",
    "#| output: asis\n",
    "\n",
    "summary_table = pd.DataFrame(group.describe().rename(columns={'likelihood':name}).squeeze()\n",
    "            for name, group in individual_fits[['model', 'likelihood']].groupby('model')).T.to_markdown()\n",
    "\n",
    "print(\"\"\"::: {{#fig-{section_tag}fits layout-nrow=2 layout-valign=\"center\"}}\n",
    "\n",
    "![]({results_path}individual_{section_tag}.pdf)\n",
    "\n",
    "{summary_table}\n",
    "\n",
    "{individual_fits_caption}\n",
    ":::\"\"\".format(section_tag=section_tag, summary_table=summary_table, individual_fits_caption=figure_caption, results_path=results_path))"
   ]
  },
  {
   "cell_type": "code",
   "execution_count": 8,
   "id": "ba4ae884",
   "metadata": {
    "execution": {
     "iopub.execute_input": "2022-05-31T22:04:38.180010Z",
     "iopub.status.busy": "2022-05-31T22:04:38.179645Z",
     "iopub.status.idle": "2022-05-31T22:04:38.285711Z",
     "shell.execute_reply": "2022-05-31T22:04:38.284536Z"
    },
    "papermill": {
     "duration": 0.233979,
     "end_time": "2022-05-31T22:04:38.288768",
     "exception": false,
     "start_time": "2022-05-31T22:04:38.054789",
     "status": "completed"
    },
    "tags": []
   },
   "outputs": [
    {
     "name": "stdout",
     "output_type": "stream",
     "text": [
      "('PrototypeCMR', 'ICMR_1_0_0')\n",
      "Ttest_relResult(statistic=-1.6911634107022189, pvalue=0.09995390362367525)\n",
      "Ttest_relResult(statistic=-1.6911634107022189, pvalue=0.049976951811837624)\n",
      "Ttest_relResult(statistic=-1.6911634107022189, pvalue=0.9500230481881624)\n",
      "\n",
      "('PrototypeCMR', 'ICMR_1_0_1')\n",
      "Ttest_relResult(statistic=-2.082050524985957, pvalue=0.0449348413744991)\n",
      "Ttest_relResult(statistic=-2.082050524985957, pvalue=0.02246742068724955)\n",
      "Ttest_relResult(statistic=-2.082050524985957, pvalue=0.9775325793127505)\n",
      "\n",
      "('PrototypeCMR', 'ICMR_1_1_0')\n",
      "Ttest_relResult(statistic=-1.9768830831418112, pvalue=0.05621035945669735)\n",
      "Ttest_relResult(statistic=-1.9768830831418112, pvalue=0.028105179728348674)\n",
      "Ttest_relResult(statistic=-1.9768830831418112, pvalue=0.9718948202716513)\n",
      "\n",
      "('PrototypeCMR', 'ICMR_1_1_1')\n",
      "Ttest_relResult(statistic=-2.282977663496103, pvalue=0.02880525483237517)\n",
      "Ttest_relResult(statistic=-2.282977663496103, pvalue=0.014402627416187586)\n",
      "Ttest_relResult(statistic=-2.282977663496103, pvalue=0.9855973725838124)\n",
      "\n",
      "('ICMR_1_0_0', 'ICMR_1_0_1')\n",
      "Ttest_relResult(statistic=-0.5363887353587353, pvalue=0.5951823541838689)\n",
      "Ttest_relResult(statistic=-0.5363887353587353, pvalue=0.29759117709193444)\n",
      "Ttest_relResult(statistic=-0.5363887353587353, pvalue=0.7024088229080656)\n",
      "\n",
      "('ICMR_1_0_0', 'ICMR_1_1_0')\n",
      "Ttest_relResult(statistic=-0.9251529708163397, pvalue=0.3614065763436498)\n",
      "Ttest_relResult(statistic=-0.9251529708163397, pvalue=0.1807032881718249)\n",
      "Ttest_relResult(statistic=-0.9251529708163397, pvalue=0.8192967118281751)\n",
      "\n",
      "('ICMR_1_0_0', 'ICMR_1_1_1')\n",
      "Ttest_relResult(statistic=-0.37037264595051955, pvalue=0.7134022771769009)\n",
      "Ttest_relResult(statistic=-0.37037264595051955, pvalue=0.35670113858845043)\n",
      "Ttest_relResult(statistic=-0.37037264595051955, pvalue=0.6432988614115496)\n",
      "\n",
      "('ICMR_1_0_1', 'ICMR_1_1_0')\n",
      "Ttest_relResult(statistic=-0.31135986033064766, pvalue=0.7574282244486753)\n",
      "Ttest_relResult(statistic=-0.31135986033064766, pvalue=0.37871411222433765)\n",
      "Ttest_relResult(statistic=-0.31135986033064766, pvalue=0.6212858877756624)\n",
      "\n",
      "('ICMR_1_0_1', 'ICMR_1_1_1')\n",
      "Ttest_relResult(statistic=0.21930281550418865, pvalue=0.8277254298297502)\n",
      "Ttest_relResult(statistic=0.21930281550418865, pvalue=0.5861372850851249)\n",
      "Ttest_relResult(statistic=0.21930281550418865, pvalue=0.4138627149148751)\n",
      "\n",
      "('ICMR_1_1_0', 'ICMR_1_1_1')\n",
      "Ttest_relResult(statistic=0.4693882157740677, pvalue=0.6417885023409703)\n",
      "Ttest_relResult(statistic=0.4693882157740677, pvalue=0.6791057488295149)\n",
      "Ttest_relResult(statistic=0.4693882157740677, pvalue=0.32089425117048515)\n",
      "\n"
     ]
    }
   ],
   "source": [
    "#| code-summary: perform t-tests on individual-level fits\n",
    "#| output: false\n",
    " \n",
    "from scipy.stats import ttest_rel\n",
    "import itertools\n",
    "\n",
    "for combination in itertools.combinations(pd.unique(individual_fits.model), 2):\n",
    "\n",
    "    print(combination)\n",
    "    print(ttest_rel(individual_fits[individual_fits.model == combination[0]].likelihood, individual_fits[individual_fits.model == combination[1]].likelihood, alternative='two-sided'))\n",
    "    print(ttest_rel(individual_fits[individual_fits.model == combination[0]].likelihood, individual_fits[individual_fits.model == combination[1]].likelihood, alternative='less'))\n",
    "    print(ttest_rel(individual_fits[individual_fits.model == combination[0]].likelihood, individual_fits[individual_fits.model == combination[1]].likelihood, alternative='greater'))\n",
    "    print()"
   ]
  },
  {
   "cell_type": "code",
   "execution_count": 9,
   "id": "8aafce0a",
   "metadata": {
    "execution": {
     "iopub.execute_input": "2022-05-31T22:04:38.542512Z",
     "iopub.status.busy": "2022-05-31T22:04:38.542028Z",
     "iopub.status.idle": "2022-05-31T22:04:38.625735Z",
     "shell.execute_reply": "2022-05-31T22:04:38.624702Z"
    },
    "papermill": {
     "duration": 0.213792,
     "end_time": "2022-05-31T22:04:38.628856",
     "exception": false,
     "start_time": "2022-05-31T22:04:38.415064",
     "status": "completed"
    },
    "tags": []
   },
   "outputs": [
    {
     "name": "stdout",
     "output_type": "stream",
     "text": [
      "('PrototypeCMR', 'ICMR_1_0_0')\n",
      "0.5142857142857142 0.4857142857142857\n",
      "18 17\n",
      "\n",
      "('PrototypeCMR', 'ICMR_1_0_1')\n",
      "0.6 0.4\n",
      "21 14\n",
      "\n",
      "('PrototypeCMR', 'ICMR_1_1_0')\n",
      "0.5142857142857142 0.4857142857142857\n",
      "18 17\n",
      "\n",
      "('PrototypeCMR', 'ICMR_1_1_1')\n",
      "0.5428571428571428 0.45714285714285713\n",
      "19 16\n",
      "\n",
      "('ICMR_1_0_0', 'ICMR_1_0_1')\n",
      "0.4857142857142857 0.5142857142857142\n",
      "17 18\n",
      "\n",
      "('ICMR_1_0_0', 'ICMR_1_1_0')\n",
      "0.5142857142857142 0.4857142857142857\n",
      "18 17\n",
      "\n",
      "('ICMR_1_0_0', 'ICMR_1_1_1')\n",
      "0.5714285714285714 0.42857142857142855\n",
      "20 15\n",
      "\n",
      "('ICMR_1_0_1', 'ICMR_1_1_0')\n",
      "0.5142857142857142 0.4857142857142857\n",
      "18 17\n",
      "\n",
      "('ICMR_1_0_1', 'ICMR_1_1_1')\n",
      "0.5428571428571428 0.45714285714285713\n",
      "19 16\n",
      "\n",
      "('ICMR_1_1_0', 'ICMR_1_1_1')\n",
      "0.5714285714285714 0.42857142857142855\n",
      "20 15\n",
      "\n"
     ]
    }
   ],
   "source": [
    "for combination in itertools.combinations(pd.unique(individual_fits.model), 2):\n",
    "\n",
    "    print(combination)\n",
    "    print(np.mean(individual_fits[individual_fits.model == combination[0]].likelihood.values < individual_fits[individual_fits.model == combination[1]].likelihood.values), \n",
    "        np.mean(individual_fits[individual_fits.model == combination[1]].likelihood.values < individual_fits[individual_fits.model == combination[0]].likelihood.values))\n",
    "\n",
    "    print(np.sum(individual_fits[individual_fits.model == combination[0]].likelihood.values < individual_fits[individual_fits.model == combination[1]].likelihood.values), \n",
    "        np.sum(individual_fits[individual_fits.model == combination[1]].likelihood.values < individual_fits[individual_fits.model == combination[0]].likelihood.values))\n",
    "\n",
    "    print()"
   ]
  },
  {
   "cell_type": "code",
   "execution_count": 10,
   "id": "26cc16d3",
   "metadata": {
    "execution": {
     "iopub.execute_input": "2022-05-31T22:04:38.882038Z",
     "iopub.status.busy": "2022-05-31T22:04:38.881584Z",
     "iopub.status.idle": "2022-05-31T22:04:39.816454Z",
     "shell.execute_reply": "2022-05-31T22:04:39.815420Z"
    },
    "papermill": {
     "duration": 1.064209,
     "end_time": "2022-05-31T22:04:39.819059",
     "exception": false,
     "start_time": "2022-05-31T22:04:38.754850",
     "status": "completed"
    },
    "tags": []
   },
   "outputs": [
    {
     "name": "stdout",
     "output_type": "stream",
     "text": [
      "[1.00000000e+00 1.87302870e-42 4.21596589e-60 1.50694582e-72\n",
      " 8.13924044e-53]\n"
     ]
    }
   ],
   "source": [
    "def model_weights(positive_log_likelihoods, number_parameters, N):\n",
    "    AIC = 2 * positive_log_likelihoods + 2 * number_parameters\n",
    "    AICc = AIC #+ (2*np.power(number_parameters, 2) + 2 * number_parameters) / (N - number_parameters - 2)\n",
    "    AICd = AIC - np.min(AICc)\n",
    "    #return AICd\n",
    "    AICw = np.exp(-.5 * AICd) / np.sum(np.exp(-.5 * AICd))\n",
    "    return AICw\n",
    "\n",
    "aicw = {'Model': [], 'Subject': [], 'AICw': []}\n",
    "\n",
    "total_nlns = np.zeros(len(models))\n",
    "for subject_index, subject in enumerate(pd.unique(events.subject)):\n",
    "\n",
    "    subject_specific_trial_mask = np.logical_and(\n",
    "                    generate_trial_mask(events, f'subject == {subject}'), trial_mask)\n",
    "\n",
    "    nlnLs = []\n",
    "    for model_index, model_class in enumerate(models):\n",
    "        nlnLs.append(\n",
    "            individual_fits[individual_fits.model == model_names[model_index]].likelihood.values[subject_index])\n",
    "    nlnLs = np.array(nlnLs)\n",
    "    total_nlns += nlnLs\n",
    "    \n",
    "    weights = model_weights(nlnLs, len(free_parameters[model_index]), np.sum(subject_specific_trial_mask))\n",
    "    #print(weights)\n",
    "    for model_index, model_class in enumerate(models):\n",
    "        aicw['Model'].append(model_names[model_index])\n",
    "        aicw['Subject'].append(subject)\n",
    "        aicw['AICw'].append(weights[model_index])\n",
    "\n",
    "aicw = pd.DataFrame(data=aicw)\n",
    "total_aicw = model_weights(total_nlns, len(free_parameters[model_index]), np.sum(trial_mask))\n",
    "print(total_aicw)"
   ]
  },
  {
   "cell_type": "code",
   "execution_count": 11,
   "id": "b20f68e0",
   "metadata": {
    "execution": {
     "iopub.execute_input": "2022-05-31T22:04:40.072934Z",
     "iopub.status.busy": "2022-05-31T22:04:40.072489Z",
     "iopub.status.idle": "2022-05-31T22:04:40.769872Z",
     "shell.execute_reply": "2022-05-31T22:04:40.768837Z"
    },
    "papermill": {
     "duration": 0.828377,
     "end_time": "2022-05-31T22:04:40.773192",
     "exception": false,
     "start_time": "2022-05-31T22:04:39.944815",
     "status": "completed"
    },
    "tags": []
   },
   "outputs": [
    {
     "data": {
      "image/png": "[encoded data removed]",
      "text/plain": [
       "<Figure size 640x480 with 1 Axes>"
      ]
     },
     "metadata": {},
     "output_type": "display_data"
    }
   ],
   "source": [
    "import seaborn as sns\n",
    "sns.set_theme(style=\"darkgrid\")\n",
    "x = sns.pointplot(x=\"Model\", y=\"AICw\", data=aicw, join=False)\n",
    "\n",
    "plt.show()"
   ]
  },
  {
   "cell_type": "markdown",
   "id": "d398a342",
   "metadata": {
    "tags": [
     "papermill-error-cell-tag"
    ]
   },
   "source": [
    "<span id=\"papermill-error-cell\" style=\"color:red; font-family:Helvetica Neue, Helvetica, Arial, sans-serif; font-size:2em;\">Execution using papermill encountered an exception here and stopped:</span>"
   ]
  },
  {
   "cell_type": "code",
   "execution_count": 12,
   "id": "bf4ca2ba",
   "metadata": {
    "execution": {
     "iopub.execute_input": "2022-05-31T22:04:41.029973Z",
     "iopub.status.busy": "2022-05-31T22:04:41.029507Z",
     "iopub.status.idle": "2022-05-31T22:04:42.074294Z",
     "shell.execute_reply": "2022-05-31T22:04:42.072804Z"
    },
    "papermill": {
     "duration": 1.176285,
     "end_time": "2022-05-31T22:04:42.076421",
     "exception": true,
     "start_time": "2022-05-31T22:04:40.900136",
     "status": "failed"
    },
    "tags": []
   },
   "outputs": [
    {
     "ename": "NameError",
     "evalue": "name 'simulate_df_from_events' is not defined",
     "output_type": "error",
     "traceback": [
      "\u001b[0;31m---------------------------------------------------------------------------\u001b[0m",
      "\u001b[0;31mNameError\u001b[0m                                 Traceback (most recent call last)",
      "Input \u001b[0;32mIn [12]\u001b[0m, in \u001b[0;36m<cell line: 7>\u001b[0;34m()\u001b[0m\n\u001b[1;32m     36\u001b[0m     fitted_parameters[key] \u001b[38;5;241m=\u001b[39m fixed_parameters[model_index][key]\n\u001b[1;32m     38\u001b[0m \u001b[38;5;66;03m# simulate df based on specified trial_count and experiment_count\u001b[39;00m\n\u001b[1;32m     39\u001b[0m \u001b[38;5;66;03m#model = model_class(list_length, list_length, fitted_parameters)\u001b[39;00m\n\u001b[0;32m---> 40\u001b[0m sim_dfs\u001b[38;5;241m.\u001b[39mappend(\u001b[43msimulate_df_from_events\u001b[49m(model, fit_result[\u001b[38;5;124m'\u001b[39m\u001b[38;5;124mtrial_count\u001b[39m\u001b[38;5;124m'\u001b[39m]\u001b[38;5;241m.\u001b[39mvalues[\u001b[38;5;241m0\u001b[39m] \u001b[38;5;241m*\u001b[39m experiment_count))\n\u001b[1;32m     41\u001b[0m sim_dfs[\u001b[38;5;241m-\u001b[39m\u001b[38;5;241m1\u001b[39m]\u001b[38;5;241m.\u001b[39mlist \u001b[38;5;241m=\u001b[39m sim_dfs[\u001b[38;5;241m-\u001b[39m\u001b[38;5;241m1\u001b[39m]\u001b[38;5;241m.\u001b[39msubject\n\u001b[1;32m     42\u001b[0m sim_dfs[\u001b[38;5;241m-\u001b[39m\u001b[38;5;241m1\u001b[39m]\u001b[38;5;241m.\u001b[39msubject \u001b[38;5;241m=\u001b[39m subject\n",
      "\u001b[0;31mNameError\u001b[0m: name 'simulate_df_from_events' is not defined"
     ]
    }
   ],
   "source": [
    "sns.set(style='darkgrid')\n",
    "\n",
    "# for each unique list length\n",
    "if not (isinstance(list_lengths, list) or isinstance(list_lengths, List)): \n",
    "    list_lengths = [list_lengths]\n",
    "\n",
    "for list_length in list_lengths:\n",
    "\n",
    "    #fig, axes = plt.subplots(nrows=len(models), ncols=3, figsize=(15, int(4*len(models))), sharey=False)\n",
    "    \n",
    "    # for each unique model\n",
    "    for model_index, model_class in enumerate(models):\n",
    "\n",
    "        # load sim_df from csv if it exists\n",
    "        sim_df_path = results_path + '{}_{}_ll{}_sim_df.csv'.format(section_tag, model_names[model_index], list_length)\n",
    "        if os.path.isfile(sim_df_path):\n",
    "            sim_df = pd.read_csv(sim_df_path)\n",
    "            print('sim_df for {} with tag {} and list length {} already exists'.format(model_names[model_index], section_tag, list_length))\n",
    "\n",
    "        # otherwise, generate it\n",
    "        else:\n",
    "\n",
    "            # for each unique matching entry in individual df\n",
    "            sim_dfs = []\n",
    "            for subject in pd.unique(individual_fits.subject):\n",
    "                \n",
    "                fit_result = individual_fits.query(f'subject == {subject} & model == \"{model_names[model_index]}\"')\n",
    "\n",
    "                # configure model based on specified parameters\n",
    "                fitted_parameters = Dict.empty(\n",
    "                    key_type=types.unicode_type, value_type=types.float64\n",
    "                )\n",
    "                for i in range(len(free_parameters[model_index])):\n",
    "                    fitted_parameters[free_parameters[model_index][i]] = fit_result[free_parameters[model_index][i]].values[0]\n",
    "                for key in fixed_parameters[model_index]:\n",
    "                    fitted_parameters[key] = fixed_parameters[model_index][key]\n",
    "\n",
    "                # simulate df based on specified trial_count and experiment_count\n",
    "                #model = model_class(list_length, list_length, fitted_parameters)\n",
    "                sim_dfs.append(simulate_df_from_events(model, fit_result['trial_count'].values[0] * experiment_count))\n",
    "                sim_dfs[-1].list = sim_dfs[-1].subject\n",
    "                sim_dfs[-1].subject = subject\n",
    "\n",
    "            # concatenate simulations into one dataframe\n",
    "            sim_df = pd.concat(sim_dfs)\n",
    "\n",
    "            # save sim_df to csv\n",
    "            sim_df.to_csv(results_path +'{}_{}_ll{}_sim_df.csv'.format(section_tag, model_names[model_index], list_length), index=False)\n",
    "\n",
    "        # design general filter for analysis df\n",
    "        if len(list_lengths) > 1:\n",
    "            analysis_query = trial_query + f' & list_length == {list_length}'\n",
    "        else:\n",
    "            analysis_query = trial_query\n",
    "\n",
    "        # generate plot for each parametrized analysis and model\n",
    "        for analysis_index, analysis_function in enumerate(analyses):\n",
    "            analysis_name = analysis_names[analysis_index]\n",
    "            axis = analysis_function(\n",
    "                [events, sim_df], analysis_query, contrast_name=\"source\", labels=[\"data\", model_names[model_index]])\n",
    "            plt.savefig(results_path+'{}_{}_ll{}_{}.pdf'.format(section_tag, model_names[model_index], list_length, analysis_name), bbox_inches=\"tight\")"
   ]
  },
  {
   "cell_type": "code",
   "execution_count": null,
   "id": "eba3ddbb",
   "metadata": {
    "papermill": {
     "duration": null,
     "end_time": null,
     "exception": null,
     "start_time": null,
     "status": "pending"
    },
    "tags": []
   },
   "outputs": [],
   "source": []
  }
 ],
 "metadata": {
  "interpreter": {
   "hash": "19d1d53a962d236aa061289c2ac16dc8e6d9648c89fe79f459ae9a3493bc67b4"
  },
  "kernelspec": {
   "display_name": "Python 3.9.1 ('base')",
   "language": "python",
   "name": "python3"
  },
  "language_info": {
   "codemirror_mode": {
    "name": "ipython",
    "version": 3
   },
   "file_extension": ".py",
   "mimetype": "text/x-python",
   "name": "python",
   "nbconvert_exporter": "python",
   "pygments_lexer": "ipython3",
   "version": "3.8.6"
  },
  "papermill": {
   "default_parameters": {},
   "duration": 9563.869868,
   "end_time": "2022-05-31T22:04:45.519971",
   "environment_variables": {},
   "exception": true,
   "input_path": "Subjectwise_Model_Evaluation.ipynb",
   "output_path": "reports/Subjectwise_Model_Evaluation_Single_LohnasKahanaCond4.ipynb",
   "parameters": {
    "bounds": [
     [
      [
       2.220446049250313e-16,
       0.9999999999999998
      ],
      [
       2.220446049250313e-16,
       0.9999999999999998
      ],
      [
       2.220446049250313e-16,
       0.9999999999999998
      ],
      [
       2.220446049250313e-16,
       0.9999999999999998
      ],
      [
       2.220446049250313e-16,
       0.9999999999999998
      ],
      [
       2.220446049250313e-16,
       0.9999999999999998
      ],
      [
       2.220446049250313e-16,
       100
      ],
      [
       2.220446049250313e-16,
       100
      ],
      [
       2.220446049250313e-16,
       0.9999999999999998
      ],
      [
       2.220446049250313e-16,
       10
      ],
      [
       2.220446049250313e-16,
       10
      ],
      [
       2.220446049250313e-16,
       0.9999999999999998
      ]
     ],
     [
      [
       2.220446049250313e-16,
       0.9999999999999998
      ],
      [
       2.220446049250313e-16,
       0.9999999999999998
      ],
      [
       2.220446049250313e-16,
       0.9999999999999998
      ],
      [
       2.220446049250313e-16,
       0.9999999999999998
      ],
      [
       2.220446049250313e-16,
       0.9999999999999998
      ],
      [
       2.220446049250313e-16,
       0.9999999999999998
      ],
      [
       2.220446049250313e-16,
       100
      ],
      [
       2.220446049250313e-16,
       100
      ],
      [
       2.220446049250313e-16,
       0.9999999999999998
      ],
      [
       2.220446049250313e-16,
       10
      ],
      [
       2.220446049250313e-16,
       10
      ],
      [
       2.220446049250313e-16,
       0.9999999999999998
      ]
     ],
     [
      [
       2.220446049250313e-16,
       0.9999999999999998
      ],
      [
       2.220446049250313e-16,
       0.9999999999999998
      ],
      [
       2.220446049250313e-16,
       0.9999999999999998
      ],
      [
       2.220446049250313e-16,
       0.9999999999999998
      ],
      [
       2.220446049250313e-16,
       0.9999999999999998
      ],
      [
       2.220446049250313e-16,
       0.9999999999999998
      ],
      [
       2.220446049250313e-16,
       100
      ],
      [
       2.220446049250313e-16,
       100
      ],
      [
       2.220446049250313e-16,
       0.9999999999999998
      ],
      [
       2.220446049250313e-16,
       10
      ],
      [
       2.220446049250313e-16,
       10
      ],
      [
       2.220446049250313e-16,
       0.9999999999999998
      ]
     ],
     [
      [
       2.220446049250313e-16,
       0.9999999999999998
      ],
      [
       2.220446049250313e-16,
       0.9999999999999998
      ],
      [
       2.220446049250313e-16,
       0.9999999999999998
      ],
      [
       2.220446049250313e-16,
       0.9999999999999998
      ],
      [
       2.220446049250313e-16,
       0.9999999999999998
      ],
      [
       2.220446049250313e-16,
       0.9999999999999998
      ],
      [
       2.220446049250313e-16,
       100
      ],
      [
       2.220446049250313e-16,
       100
      ],
      [
       2.220446049250313e-16,
       0.9999999999999998
      ],
      [
       2.220446049250313e-16,
       10
      ],
      [
       2.220446049250313e-16,
       10
      ],
      [
       2.220446049250313e-16,
       0.9999999999999998
      ]
     ],
     [
      [
       2.220446049250313e-16,
       0.9999999999999998
      ],
      [
       2.220446049250313e-16,
       0.9999999999999998
      ],
      [
       2.220446049250313e-16,
       0.9999999999999998
      ],
      [
       2.220446049250313e-16,
       0.9999999999999998
      ],
      [
       2.220446049250313e-16,
       0.9999999999999998
      ],
      [
       2.220446049250313e-16,
       0.9999999999999998
      ],
      [
       2.220446049250313e-16,
       100
      ],
      [
       2.220446049250313e-16,
       100
      ],
      [
       2.220446049250313e-16,
       0.9999999999999998
      ],
      [
       2.220446049250313e-16,
       10
      ],
      [
       2.220446049250313e-16,
       10
      ],
      [
       2.220446049250313e-16,
       0.9999999999999998
      ]
     ]
    ],
    "data_path": "data/LohnasKahana2014.csv",
    "fixed_parameters": [
     {},
     {
      "context_sensitivity": 1,
      "feature_sensitivity": 1,
      "learn_first": false
     },
     {
      "context_sensitivity": 1,
      "feature_sensitivity": 1,
      "learn_first": true
     },
     {
      "choice_sensitivity": 1,
      "feature_sensitivity": 1,
      "learn_first": false
     },
     {
      "choice_sensitivity": 1,
      "feature_sensitivity": 1,
      "learn_first": true
     }
    ],
    "free_parameters": [
     [
      "encoding_drift_rate",
      "start_drift_rate",
      "recall_drift_rate",
      "shared_support",
      "item_support",
      "learning_rate",
      "primacy_scale",
      "primacy_decay",
      "stop_probability_scale",
      "stop_probability_growth",
      "choice_sensitivity",
      "delay_drift_rate"
     ],
     [
      "encoding_drift_rate",
      "start_drift_rate",
      "recall_drift_rate",
      "shared_support",
      "item_support",
      "learning_rate",
      "primacy_scale",
      "primacy_decay",
      "stop_probability_scale",
      "stop_probability_growth",
      "choice_sensitivity",
      "delay_drift_rate"
     ],
     [
      "encoding_drift_rate",
      "start_drift_rate",
      "recall_drift_rate",
      "shared_support",
      "item_support",
      "learning_rate",
      "primacy_scale",
      "primacy_decay",
      "stop_probability_scale",
      "stop_probability_growth",
      "choice_sensitivity",
      "delay_drift_rate"
     ],
     [
      "encoding_drift_rate",
      "start_drift_rate",
      "recall_drift_rate",
      "shared_support",
      "item_support",
      "learning_rate",
      "primacy_scale",
      "primacy_decay",
      "stop_probability_scale",
      "stop_probability_growth",
      "context_sensitivity",
      "delay_drift_rate"
     ],
     [
      "encoding_drift_rate",
      "start_drift_rate",
      "recall_drift_rate",
      "shared_support",
      "item_support",
      "learning_rate",
      "primacy_scale",
      "primacy_decay",
      "stop_probability_scale",
      "stop_probability_growth",
      "context_sensitivity",
      "delay_drift_rate"
     ]
    ],
    "model_names": [
     "PrototypeCMR",
     "ICMR_1_0_0",
     "ICMR_1_0_1",
     "ICMR_1_1_0",
     "ICMR_1_1_1"
    ],
    "model_paths": [
     "compmemlearn.models.Base_CMR",
     "compmemlearn.models.Single_ICMR",
     "compmemlearn.models.Single_ICMR",
     "compmemlearn.models.Single_ICMR",
     "compmemlearn.models.Single_ICMR"
    ],
    "section_tag": "LohnasKahanaCond4",
    "trial_query": "condition == 4"
   },
   "start_time": "2022-05-31T19:25:21.650103",
   "version": "2.3.4"
  }
 },
 "nbformat": 4,
 "nbformat_minor": 5
}
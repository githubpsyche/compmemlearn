{
 "cells": [
  {
   "cell_type": "markdown",
   "id": "68f11781",
   "metadata": {
    "tags": [
     "papermill-error-cell-tag"
    ]
   },
   "source": [
    "<span style=\"color:red; font-family:Helvetica Neue, Helvetica, Arial, sans-serif; font-size:2em;\">An Exception was encountered at '<a href=\"#papermill-error-cell\">In [15]</a>'.</span>"
   ]
  },
  {
   "cell_type": "code",
   "execution_count": 1,
   "id": "60148838",
   "metadata": {
    "execution": {
     "iopub.execute_input": "2022-06-03T19:15:53.167961Z",
     "iopub.status.busy": "2022-06-03T19:15:53.167434Z",
     "iopub.status.idle": "2022-06-03T19:18:05.773593Z",
     "shell.execute_reply": "2022-06-03T19:18:05.772231Z"
    },
    "papermill": {
     "duration": 132.64326,
     "end_time": "2022-06-03T19:18:05.777227",
     "exception": false,
     "start_time": "2022-06-03T19:15:53.133967",
     "status": "completed"
    },
    "tags": [
     "parameters"
    ]
   },
   "outputs": [],
   "source": [
    "# | code-summary: code -- load dependencies and data and select parameters\n",
    "\n",
    "from compmemlearn.fitting import generate_objective_function\n",
    "from compmemlearn.datasets import events_metadata, generate_trial_mask\n",
    "from scipy.optimize import differential_evolution\n",
    "from numba.typed import List, Dict\n",
    "from numba.core import types\n",
    "from numba import njit\n",
    "from psifr import fr\n",
    "import pandas as pd\n",
    "import numpy as np\n",
    "import seaborn as sns\n",
    "import matplotlib.pyplot as plt\n",
    "import importlib\n",
    "import os\n",
    "\n",
    "lb = np.finfo(float).eps\n",
    "ub = 1 - np.finfo(float).eps\n",
    "\n",
    "figure_caption = \"\"\"Distribution of log-likelihood scores of recall sequences exhibited by each subject in dataset under each considered model.\"\"\"\n",
    "\n",
    "section_tag = \"LohnasKahanaCond4\"\n",
    "\n",
    "data_path = \"../data/LohnasKahana2014.csv\"\n",
    "results_path = \"results/\"\n",
    "trial_query = \"condition == 4\"\n",
    "\n",
    "model_paths = [\n",
    "    \"compmemlearn.models.Base_CMR\",\n",
    "    \"compmemlearn.models.Dual_ICMR\",\n",
    "    \"compmemlearn.models.Dual_ICMR\",\n",
    "    \"compmemlearn.models.Dual_ICMR\",\n",
    "    \"compmemlearn.models.Dual_ICMR\",\n",
    "]\n",
    "\n",
    "model_names = [\"PrototypeCMR\", \"ICMR_2_0_0\", \"ICMR_2_0_1\", \"ICMR_2_1_0\", \"ICMR_2_1_1\"]\n",
    "\n",
    "free_parameters = [\n",
    "    [\n",
    "        \"encoding_drift_rate\",\n",
    "        \"start_drift_rate\",\n",
    "        \"recall_drift_rate\",\n",
    "        \"shared_support\",\n",
    "        \"item_support\",\n",
    "        \"learning_rate\",\n",
    "        \"primacy_scale\",\n",
    "        \"primacy_decay\",\n",
    "        \"stop_probability_scale\",\n",
    "        \"stop_probability_growth\",\n",
    "        \"choice_sensitivity\",\n",
    "        \"delay_drift_rate\",\n",
    "    ],\n",
    "    [\n",
    "        \"encoding_drift_rate\",\n",
    "        \"start_drift_rate\",\n",
    "        \"recall_drift_rate\",\n",
    "        \"shared_support\",\n",
    "        \"item_support\",\n",
    "        \"learning_rate\",\n",
    "        \"primacy_scale\",\n",
    "        \"primacy_decay\",\n",
    "        \"stop_probability_scale\",\n",
    "        \"stop_probability_growth\",\n",
    "        \"choice_sensitivity\",\n",
    "        \"delay_drift_rate\",\n",
    "    ],\n",
    "    [\n",
    "        \"encoding_drift_rate\",\n",
    "        \"start_drift_rate\",\n",
    "        \"recall_drift_rate\",\n",
    "        \"shared_support\",\n",
    "        \"item_support\",\n",
    "        \"learning_rate\",\n",
    "        \"primacy_scale\",\n",
    "        \"primacy_decay\",\n",
    "        \"stop_probability_scale\",\n",
    "        \"stop_probability_growth\",\n",
    "        \"choice_sensitivity\",\n",
    "        \"delay_drift_rate\",\n",
    "    ],\n",
    "    [\n",
    "        \"encoding_drift_rate\",\n",
    "        \"start_drift_rate\",\n",
    "        \"recall_drift_rate\",\n",
    "        \"shared_support\",\n",
    "        \"item_support\",\n",
    "        \"learning_rate\",\n",
    "        \"primacy_scale\",\n",
    "        \"primacy_decay\",\n",
    "        \"stop_probability_scale\",\n",
    "        \"stop_probability_growth\",\n",
    "        \"context_sensitivity\",\n",
    "        \"delay_drift_rate\",\n",
    "    ],\n",
    "    [\n",
    "        \"encoding_drift_rate\",\n",
    "        \"start_drift_rate\",\n",
    "        \"recall_drift_rate\",\n",
    "        \"shared_support\",\n",
    "        \"item_support\",\n",
    "        \"learning_rate\",\n",
    "        \"primacy_scale\",\n",
    "        \"primacy_decay\",\n",
    "        \"stop_probability_scale\",\n",
    "        \"stop_probability_growth\",\n",
    "        \"context_sensitivity\",\n",
    "        \"delay_drift_rate\",\n",
    "    ],\n",
    "]\n",
    "bounds = [\n",
    "    [\n",
    "        [2.220446049250313e-16, 0.9999999999999998],\n",
    "        [2.220446049250313e-16, 0.9999999999999998],\n",
    "        [2.220446049250313e-16, 0.9999999999999998],\n",
    "        [2.220446049250313e-16, 0.9999999999999998],\n",
    "        [2.220446049250313e-16, 0.9999999999999998],\n",
    "        [2.220446049250313e-16, 0.9999999999999998],\n",
    "        [2.220446049250313e-16, 100],\n",
    "        [2.220446049250313e-16, 100],\n",
    "        [2.220446049250313e-16, 0.9999999999999998],\n",
    "        [2.220446049250313e-16, 10],\n",
    "        [2.220446049250313e-16, 10],\n",
    "        [2.220446049250313e-16, 0.9999999999999998],\n",
    "    ],\n",
    "    [\n",
    "        [2.220446049250313e-16, 0.9999999999999998],\n",
    "        [2.220446049250313e-16, 0.9999999999999998],\n",
    "        [2.220446049250313e-16, 0.9999999999999998],\n",
    "        [2.220446049250313e-16, 0.9999999999999998],\n",
    "        [2.220446049250313e-16, 0.9999999999999998],\n",
    "        [2.220446049250313e-16, 0.9999999999999998],\n",
    "        [2.220446049250313e-16, 100],\n",
    "        [2.220446049250313e-16, 100],\n",
    "        [2.220446049250313e-16, 0.9999999999999998],\n",
    "        [2.220446049250313e-16, 10],\n",
    "        [2.220446049250313e-16, 10],\n",
    "        [2.220446049250313e-16, 0.9999999999999998],\n",
    "    ],\n",
    "    [\n",
    "        [2.220446049250313e-16, 0.9999999999999998],\n",
    "        [2.220446049250313e-16, 0.9999999999999998],\n",
    "        [2.220446049250313e-16, 0.9999999999999998],\n",
    "        [2.220446049250313e-16, 0.9999999999999998],\n",
    "        [2.220446049250313e-16, 0.9999999999999998],\n",
    "        [2.220446049250313e-16, 0.9999999999999998],\n",
    "        [2.220446049250313e-16, 100],\n",
    "        [2.220446049250313e-16, 100],\n",
    "        [2.220446049250313e-16, 0.9999999999999998],\n",
    "        [2.220446049250313e-16, 10],\n",
    "        [2.220446049250313e-16, 10],\n",
    "        [2.220446049250313e-16, 0.9999999999999998],\n",
    "    ],\n",
    "    [\n",
    "        [2.220446049250313e-16, 0.9999999999999998],\n",
    "        [2.220446049250313e-16, 0.9999999999999998],\n",
    "        [2.220446049250313e-16, 0.9999999999999998],\n",
    "        [2.220446049250313e-16, 0.9999999999999998],\n",
    "        [2.220446049250313e-16, 0.9999999999999998],\n",
    "        [2.220446049250313e-16, 0.9999999999999998],\n",
    "        [2.220446049250313e-16, 100],\n",
    "        [2.220446049250313e-16, 100],\n",
    "        [2.220446049250313e-16, 0.9999999999999998],\n",
    "        [2.220446049250313e-16, 10],\n",
    "        [2.220446049250313e-16, 10],\n",
    "        [2.220446049250313e-16, 0.9999999999999998],\n",
    "    ],\n",
    "    [\n",
    "        [2.220446049250313e-16, 0.9999999999999998],\n",
    "        [2.220446049250313e-16, 0.9999999999999998],\n",
    "        [2.220446049250313e-16, 0.9999999999999998],\n",
    "        [2.220446049250313e-16, 0.9999999999999998],\n",
    "        [2.220446049250313e-16, 0.9999999999999998],\n",
    "        [2.220446049250313e-16, 0.9999999999999998],\n",
    "        [2.220446049250313e-16, 100],\n",
    "        [2.220446049250313e-16, 100],\n",
    "        [2.220446049250313e-16, 0.9999999999999998],\n",
    "        [2.220446049250313e-16, 10],\n",
    "        [2.220446049250313e-16, 10],\n",
    "        [2.220446049250313e-16, 0.9999999999999998],\n",
    "    ],\n",
    "]\n",
    "fixed_parameters = [\n",
    "    {},\n",
    "    {\"feature_sensitivity\": 1, \"context_sensitivity\": 1, \"learn_first\": False},\n",
    "    {\"feature_sensitivity\": 1, \"context_sensitivity\": 1, \"learn_first\": True},\n",
    "    {\"feature_sensitivity\": 1, \"choice_sensitivity\": 1, \"learn_first\": False},\n",
    "    {\"feature_sensitivity\": 1, \"choice_sensitivity\": 1, \"learn_first\": True},\n",
    "]\n",
    "\n",
    "analysis_paths = ['compmemlearn.analyses.plot_spc', 'compmemlearn.analyses.plot_crp', 'compmemlearn.analyses.plot_pfr']\n",
    "analysis_names = ['spc', 'crp', 'pfr']\n",
    "\n",
    "experiment_count = 1"
   ]
  },
  {
   "cell_type": "code",
   "execution_count": 2,
   "id": "dbf165a1",
   "metadata": {
    "execution": {
     "iopub.execute_input": "2022-06-03T19:18:05.849326Z",
     "iopub.status.busy": "2022-06-03T19:18:05.848468Z",
     "iopub.status.idle": "2022-06-03T19:18:05.881797Z",
     "shell.execute_reply": "2022-06-03T19:18:05.880778Z"
    },
    "papermill": {
     "duration": 0.059854,
     "end_time": "2022-06-03T19:18:05.884981",
     "exception": false,
     "start_time": "2022-06-03T19:18:05.825127",
     "status": "completed"
    },
    "tags": [
     "injected-parameters"
    ]
   },
   "outputs": [],
   "source": [
    "# Parameters\n",
    "data_path = \"data/HowardKahana2005.csv\"\n",
    "trial_query = \"condition == 2\"\n",
    "model_paths = [\n",
    "    \"compmemlearn.models.Base_CMR\",\n",
    "    \"compmemlearn.models.Dual_ICMR\",\n",
    "    \"compmemlearn.models.Dual_ICMR\",\n",
    "    \"compmemlearn.models.Dual_ICMR\",\n",
    "    \"compmemlearn.models.Dual_ICMR\",\n",
    "]\n",
    "model_names = [\"PrototypeCMR\", \"ICMR_2_0_0\", \"ICMR_2_0_1\", \"ICMR_2_1_0\", \"ICMR_2_1_1\"]\n",
    "free_parameters = [\n",
    "    [\n",
    "        \"encoding_drift_rate\",\n",
    "        \"start_drift_rate\",\n",
    "        \"recall_drift_rate\",\n",
    "        \"shared_support\",\n",
    "        \"item_support\",\n",
    "        \"learning_rate\",\n",
    "        \"primacy_scale\",\n",
    "        \"primacy_decay\",\n",
    "        \"stop_probability_scale\",\n",
    "        \"stop_probability_growth\",\n",
    "        \"choice_sensitivity\",\n",
    "        \"delay_drift_rate\",\n",
    "    ],\n",
    "    [\n",
    "        \"encoding_drift_rate\",\n",
    "        \"start_drift_rate\",\n",
    "        \"recall_drift_rate\",\n",
    "        \"shared_support\",\n",
    "        \"item_support\",\n",
    "        \"learning_rate\",\n",
    "        \"primacy_scale\",\n",
    "        \"primacy_decay\",\n",
    "        \"stop_probability_scale\",\n",
    "        \"stop_probability_growth\",\n",
    "        \"choice_sensitivity\",\n",
    "        \"delay_drift_rate\",\n",
    "    ],\n",
    "    [\n",
    "        \"encoding_drift_rate\",\n",
    "        \"start_drift_rate\",\n",
    "        \"recall_drift_rate\",\n",
    "        \"shared_support\",\n",
    "        \"item_support\",\n",
    "        \"learning_rate\",\n",
    "        \"primacy_scale\",\n",
    "        \"primacy_decay\",\n",
    "        \"stop_probability_scale\",\n",
    "        \"stop_probability_growth\",\n",
    "        \"choice_sensitivity\",\n",
    "        \"delay_drift_rate\",\n",
    "    ],\n",
    "    [\n",
    "        \"encoding_drift_rate\",\n",
    "        \"start_drift_rate\",\n",
    "        \"recall_drift_rate\",\n",
    "        \"shared_support\",\n",
    "        \"item_support\",\n",
    "        \"learning_rate\",\n",
    "        \"primacy_scale\",\n",
    "        \"primacy_decay\",\n",
    "        \"stop_probability_scale\",\n",
    "        \"stop_probability_growth\",\n",
    "        \"context_sensitivity\",\n",
    "        \"delay_drift_rate\",\n",
    "    ],\n",
    "    [\n",
    "        \"encoding_drift_rate\",\n",
    "        \"start_drift_rate\",\n",
    "        \"recall_drift_rate\",\n",
    "        \"shared_support\",\n",
    "        \"item_support\",\n",
    "        \"learning_rate\",\n",
    "        \"primacy_scale\",\n",
    "        \"primacy_decay\",\n",
    "        \"stop_probability_scale\",\n",
    "        \"stop_probability_growth\",\n",
    "        \"context_sensitivity\",\n",
    "        \"delay_drift_rate\",\n",
    "    ],\n",
    "]\n",
    "bounds = [\n",
    "    [\n",
    "        [2.220446049250313e-16, 0.9999999999999998],\n",
    "        [2.220446049250313e-16, 0.9999999999999998],\n",
    "        [2.220446049250313e-16, 0.9999999999999998],\n",
    "        [2.220446049250313e-16, 0.9999999999999998],\n",
    "        [2.220446049250313e-16, 0.9999999999999998],\n",
    "        [2.220446049250313e-16, 0.9999999999999998],\n",
    "        [2.220446049250313e-16, 100],\n",
    "        [2.220446049250313e-16, 100],\n",
    "        [2.220446049250313e-16, 0.9999999999999998],\n",
    "        [2.220446049250313e-16, 10],\n",
    "        [2.220446049250313e-16, 10],\n",
    "        [2.220446049250313e-16, 0.9999999999999998],\n",
    "    ],\n",
    "    [\n",
    "        [2.220446049250313e-16, 0.9999999999999998],\n",
    "        [2.220446049250313e-16, 0.9999999999999998],\n",
    "        [2.220446049250313e-16, 0.9999999999999998],\n",
    "        [2.220446049250313e-16, 0.9999999999999998],\n",
    "        [2.220446049250313e-16, 0.9999999999999998],\n",
    "        [2.220446049250313e-16, 0.9999999999999998],\n",
    "        [2.220446049250313e-16, 100],\n",
    "        [2.220446049250313e-16, 100],\n",
    "        [2.220446049250313e-16, 0.9999999999999998],\n",
    "        [2.220446049250313e-16, 10],\n",
    "        [2.220446049250313e-16, 10],\n",
    "        [2.220446049250313e-16, 0.9999999999999998],\n",
    "    ],\n",
    "    [\n",
    "        [2.220446049250313e-16, 0.9999999999999998],\n",
    "        [2.220446049250313e-16, 0.9999999999999998],\n",
    "        [2.220446049250313e-16, 0.9999999999999998],\n",
    "        [2.220446049250313e-16, 0.9999999999999998],\n",
    "        [2.220446049250313e-16, 0.9999999999999998],\n",
    "        [2.220446049250313e-16, 0.9999999999999998],\n",
    "        [2.220446049250313e-16, 100],\n",
    "        [2.220446049250313e-16, 100],\n",
    "        [2.220446049250313e-16, 0.9999999999999998],\n",
    "        [2.220446049250313e-16, 10],\n",
    "        [2.220446049250313e-16, 10],\n",
    "        [2.220446049250313e-16, 0.9999999999999998],\n",
    "    ],\n",
    "    [\n",
    "        [2.220446049250313e-16, 0.9999999999999998],\n",
    "        [2.220446049250313e-16, 0.9999999999999998],\n",
    "        [2.220446049250313e-16, 0.9999999999999998],\n",
    "        [2.220446049250313e-16, 0.9999999999999998],\n",
    "        [2.220446049250313e-16, 0.9999999999999998],\n",
    "        [2.220446049250313e-16, 0.9999999999999998],\n",
    "        [2.220446049250313e-16, 100],\n",
    "        [2.220446049250313e-16, 100],\n",
    "        [2.220446049250313e-16, 0.9999999999999998],\n",
    "        [2.220446049250313e-16, 10],\n",
    "        [2.220446049250313e-16, 10],\n",
    "        [2.220446049250313e-16, 0.9999999999999998],\n",
    "    ],\n",
    "    [\n",
    "        [2.220446049250313e-16, 0.9999999999999998],\n",
    "        [2.220446049250313e-16, 0.9999999999999998],\n",
    "        [2.220446049250313e-16, 0.9999999999999998],\n",
    "        [2.220446049250313e-16, 0.9999999999999998],\n",
    "        [2.220446049250313e-16, 0.9999999999999998],\n",
    "        [2.220446049250313e-16, 0.9999999999999998],\n",
    "        [2.220446049250313e-16, 100],\n",
    "        [2.220446049250313e-16, 100],\n",
    "        [2.220446049250313e-16, 0.9999999999999998],\n",
    "        [2.220446049250313e-16, 10],\n",
    "        [2.220446049250313e-16, 10],\n",
    "        [2.220446049250313e-16, 0.9999999999999998],\n",
    "    ],\n",
    "]\n",
    "fixed_parameters = [\n",
    "    {},\n",
    "    {\"feature_sensitivity\": 1, \"context_sensitivity\": 1, \"learn_first\": False},\n",
    "    {\"feature_sensitivity\": 1, \"context_sensitivity\": 1, \"learn_first\": True},\n",
    "    {\"feature_sensitivity\": 1, \"choice_sensitivity\": 1, \"learn_first\": False},\n",
    "    {\"feature_sensitivity\": 1, \"choice_sensitivity\": 1, \"learn_first\": True},\n",
    "]\n",
    "section_tag = \"HowardKahana2005Cond2\"\n"
   ]
  },
  {
   "cell_type": "code",
   "execution_count": 3,
   "id": "c60b739b",
   "metadata": {
    "execution": {
     "iopub.execute_input": "2022-06-03T19:18:05.935917Z",
     "iopub.status.busy": "2022-06-03T19:18:05.935443Z",
     "iopub.status.idle": "2022-06-03T19:18:05.942365Z",
     "shell.execute_reply": "2022-06-03T19:18:05.941155Z"
    },
    "papermill": {
     "duration": 0.033488,
     "end_time": "2022-06-03T19:18:05.945031",
     "exception": false,
     "start_time": "2022-06-03T19:18:05.911543",
     "status": "completed"
    },
    "tags": []
   },
   "outputs": [],
   "source": [
    "if 'Howard' in section_tag or ('Lohnas' in section_tag and '1' not in section_tag):\n",
    "    analysis_paths = ['compmemlearn.analyses.plot_flex_spc', 'compmemlearn.analyses.plot_flex_crp', 'compmemlearn.analyses.plot_flex_pfr', 'compmemlearn.analyses.plot_rpl']\n",
    "    analysis_names = ['spc', 'crp', 'pfr', 'rpl']"
   ]
  },
  {
   "cell_type": "code",
   "execution_count": 4,
   "id": "9b337f48",
   "metadata": {
    "execution": {
     "iopub.execute_input": "2022-06-03T19:18:05.985710Z",
     "iopub.status.busy": "2022-06-03T19:18:05.985297Z",
     "iopub.status.idle": "2022-06-03T19:20:44.032172Z",
     "shell.execute_reply": "2022-06-03T19:20:44.031285Z"
    },
    "papermill": {
     "duration": 158.068378,
     "end_time": "2022-06-03T19:20:44.033840",
     "exception": false,
     "start_time": "2022-06-03T19:18:05.965462",
     "status": "completed"
    },
    "tags": []
   },
   "outputs": [
    {
     "name": "stdout",
     "output_type": "stream",
     "text": [
      "<function lohnas_objective_function.<locals>.objective_function at 0x2b67aba284c0>\n"
     ]
    },
    {
     "name": "stdout",
     "output_type": "stream",
     "text": [
      "363.67384329033183\n",
      "621.6981101099185\n"
     ]
    },
    {
     "name": "stdout",
     "output_type": "stream",
     "text": [
      "<function lohnas_objective_function.<locals>.objective_function at 0x2b67ad589ee0>\n"
     ]
    },
    {
     "name": "stdout",
     "output_type": "stream",
     "text": [
      "363.67384329033183\n",
      "621.6981101099185\n",
      "<function lohnas_objective_function.<locals>.objective_function at 0x2b67afe34430>\n"
     ]
    },
    {
     "name": "stdout",
     "output_type": "stream",
     "text": [
      "363.67384329033183\n",
      "621.6981101099185\n",
      "<function lohnas_objective_function.<locals>.objective_function at 0x2b67abac79d0>\n"
     ]
    },
    {
     "name": "stdout",
     "output_type": "stream",
     "text": [
      "363.67384329033183\n",
      "621.6981101099185\n",
      "<function lohnas_objective_function.<locals>.objective_function at 0x2b67af9303a0>\n"
     ]
    },
    {
     "name": "stdout",
     "output_type": "stream",
     "text": [
      "363.67384329033183\n",
      "621.6981101099185\n",
      "dependencies and parameters validated\n"
     ]
    }
   ],
   "source": [
    "#| code-summary: code -- test that specified parameters are valid\n",
    "#| output: false\n",
    "\n",
    "events = pd.read_csv(data_path)\n",
    "\n",
    "trials, list_lengths, presentations = events_metadata(events)\n",
    "trial_mask = generate_trial_mask(events, trial_query)\n",
    "\n",
    "# import models from specified source\n",
    "models = []\n",
    "for i in range(len(model_paths)):\n",
    "    module_name, model_name = model_paths[i].rsplit('.',1)\n",
    "    module = importlib.import_module(module_name)\n",
    "    models.append(getattr(module, model_name))\n",
    "\n",
    "# import analyses from specified source\n",
    "analyses = []\n",
    "for i in range(len(analysis_paths)):\n",
    "    module_name, analysis_name = analysis_paths[i].rsplit('.',1)\n",
    "    module = importlib.import_module(module_name)\n",
    "    analyses.append(getattr(module, analysis_name))\n",
    "\n",
    "# make sure model initializes with provided parameters and boundaries\n",
    "for model_index, model_class in enumerate(models):\n",
    "\n",
    "    @njit(fastmath=True, nogil=True)\n",
    "    def init_model(item_count, presentation_count, parameters):\n",
    "        return model_class(item_count, presentation_count, parameters)\n",
    "\n",
    "    subject_specific_trial_mask = np.logical_and(\n",
    "                generate_trial_mask(events, f'subject == {pd.unique(events.subject)[0]}'), trial_mask)\n",
    "\n",
    "    cost_function = generate_objective_function(\n",
    "        [trials[i][subject_specific_trial_mask[i]] for i in range(len(trials))],\n",
    "        [presentations[i][subject_specific_trial_mask[i]] for i in range(len(presentations))],\n",
    "        list_lengths,\n",
    "        init_model,\n",
    "        fixed_parameters[model_index],\n",
    "        free_parameters[model_index],\n",
    "    )\n",
    "    print(cost_function)\n",
    "    \n",
    "    for boundary_index in range(2):\n",
    "        x = np.array([each[boundary_index] for each in bounds[model_index]])\n",
    "        assert(len(x) == len(free_parameters[model_index])) \n",
    "\n",
    "        # parameter configuration\n",
    "        parameters = Dict.empty(key_type=types.unicode_type, value_type=types.float64)\n",
    "        for name, value in fixed_parameters[model_index].items():\n",
    "            parameters[name] = value\n",
    "        for i in range(len(free_parameters[model_index])):\n",
    "                parameters[free_parameters[model_index][i]] = x[i]\n",
    "\n",
    "        model = init_model(20, 20, parameters)\n",
    "        model.experience(model.items)\n",
    "        model.free_recall()\n",
    "\n",
    "        print(cost_function(x))\n",
    "\n",
    "print('dependencies and parameters validated')"
   ]
  },
  {
   "cell_type": "code",
   "execution_count": 5,
   "id": "19a5ce67",
   "metadata": {
    "execution": {
     "iopub.execute_input": "2022-06-03T19:20:44.081107Z",
     "iopub.status.busy": "2022-06-03T19:20:44.080494Z",
     "iopub.status.idle": "2022-06-03T19:20:44.189162Z",
     "shell.execute_reply": "2022-06-03T19:20:44.188100Z"
    },
    "papermill": {
     "duration": 0.12687,
     "end_time": "2022-06-03T19:20:44.191441",
     "exception": false,
     "start_time": "2022-06-03T19:20:44.064571",
     "status": "completed"
    },
    "tags": []
   },
   "outputs": [
    {
     "name": "stdout",
     "output_type": "stream",
     "text": [
      "individual fits for PrototypeCMR with tag HowardKahana2005Cond2 already exist\n",
      "individual fits for ICMR_2_0_0 with tag HowardKahana2005Cond2 already exist\n",
      "individual fits for ICMR_2_0_1 with tag HowardKahana2005Cond2 already exist\n",
      "individual fits for ICMR_2_1_0 with tag HowardKahana2005Cond2 already exist\n",
      "individual fits for ICMR_2_1_1 with tag HowardKahana2005Cond2 already exist\n"
     ]
    }
   ],
   "source": [
    "# | code-summary: code -- 1) fit each model class participant-by-participant\n",
    "# | output: false\n",
    "\n",
    "for model_index, model_class in enumerate(models):\n",
    "\n",
    "    # load individual fits for this model and section tag from csv if they exist\n",
    "    if os.path.isfile(results_path + '{}_{}_individual.csv'.format(section_tag, model_names[model_index])):\n",
    "        pd.read_csv(results_path + '{}_{}_individual.csv'.format(section_tag, model_names[model_index]))\n",
    "        print('individual fits for {} with tag {} already exist'.format(model_names[model_index], section_tag))\n",
    "\n",
    "    # otherwise, fit each participant individually\n",
    "    else:\n",
    "        model_individual_fits = []\n",
    "\n",
    "        @njit(fastmath=True, nogil=True)\n",
    "        def init_model(item_count, presentation_count, parameters):\n",
    "            return model_class(item_count, presentation_count, parameters)\n",
    "\n",
    "        for subject in pd.unique(events.subject):\n",
    "            print(f'{model_names[model_index]}, Subject {subject}')\n",
    "\n",
    "            subject_specific_trial_mask = np.logical_and(\n",
    "                generate_trial_mask(events, f'subject == {subject}'), trial_mask)\n",
    "            \n",
    "            try:\n",
    "                # cost function to be minimized\n",
    "                # ours scales inversely with the probability that the data could have been\n",
    "                # generated using the specified parameters and our model\n",
    "                cost_function = generate_objective_function(\n",
    "                    [trials[i][subject_specific_trial_mask[i]] for i in range(len(trials))],\n",
    "                    [presentations[i][subject_specific_trial_mask[i]] for i in range(len(presentations))],\n",
    "                    list_lengths,\n",
    "                    init_model,\n",
    "                    fixed_parameters[model_index],\n",
    "                    free_parameters[model_index],\n",
    "                )\n",
    "            except ValueError:\n",
    "                continue\n",
    "\n",
    "            fit_result =  differential_evolution(cost_function, bounds[model_index], disp=False)\n",
    "\n",
    "            fitted_parameters = {\n",
    "                'subject': subject, 'trial_count': np.sum(subject_specific_trial_mask), \n",
    "                'likelihood': fit_result.fun, 'model': model_names[model_index]\n",
    "                }\n",
    "            for i in range(len(fit_result.x)):\n",
    "                fitted_parameters[free_parameters[model_index][i]] = fit_result.x[i]\n",
    "            for key in fixed_parameters[model_index]:\n",
    "                fitted_parameters[key] = fixed_parameters[model_index][key]\n",
    "\n",
    "            model_individual_fits.append(pd.DataFrame.from_dict(fitted_parameters, orient='index').T)\n",
    "            print(model_individual_fits[-1]['likelihood'][0])\n",
    "\n",
    "        model_individual_fits = pd.concat(model_individual_fits, ignore_index=True)\n",
    "        model_individual_fits.to_csv(\n",
    "            results_path + '{}_{}_individual.csv'.format(section_tag, model_names[model_index]), index=False)"
   ]
  },
  {
   "cell_type": "code",
   "execution_count": 6,
   "id": "6d5d0bfe",
   "metadata": {
    "execution": {
     "iopub.execute_input": "2022-06-03T19:20:44.236688Z",
     "iopub.status.busy": "2022-06-03T19:20:44.236399Z",
     "iopub.status.idle": "2022-06-03T19:20:44.992228Z",
     "shell.execute_reply": "2022-06-03T19:20:44.991268Z"
    },
    "papermill": {
     "duration": 0.779558,
     "end_time": "2022-06-03T19:20:44.994044",
     "exception": false,
     "start_time": "2022-06-03T19:20:44.214486",
     "status": "completed"
    },
    "tags": []
   },
   "outputs": [
    {
     "data": {
      "text/plain": [
       "Text(7.694444444444452, 0.5, 'Individual Log-Likelihood')"
      ]
     },
     "execution_count": 6,
     "metadata": {},
     "output_type": "execute_result"
    },
    {
     "data": {
      "image/png": "[encoded data removed]",
      "text/plain": [
       "<Figure size 500x500 with 1 Axes>"
      ]
     },
     "metadata": {},
     "output_type": "display_data"
    }
   ],
   "source": [
    "#| code-summary: code -- 3) plot distribution of log-likelihoods across individual subjects\n",
    "\n",
    "plt.style.use('default')\n",
    "sns.set(style=\"darkgrid\")\n",
    "\n",
    "# build individual fits df concatenating results from each model\n",
    "individual_fits = []\n",
    "for model_index, model_class in enumerate(models):\n",
    "    individual_fits.append(\n",
    "        pd.read_csv(results_path + '{}_{}_individual.csv'.format(section_tag, model_names[model_index])))\n",
    "individual_fits = pd.concat(individual_fits, ignore_index=True)\n",
    "\n",
    "# plot distribution of log-likelihoods across individual subjects\n",
    "g = sns.catplot(x='model', y='likelihood', data=individual_fits, kind='violin', inner='stick')\n",
    "sns.swarmplot(x=\"model\", y=\"likelihood\", data=individual_fits, color=\"k\", size=3, ax=g.ax)\n",
    "g.ax.set_ylabel('Individual Log-Likelihood')\n",
    "#plt.savefig(results_path + 'individual_{}.pdf'.format(section_tag), bbox_inches=\"tight\")"
   ]
  },
  {
   "cell_type": "code",
   "execution_count": 7,
   "id": "b396eb19",
   "metadata": {
    "execution": {
     "iopub.execute_input": "2022-06-03T19:20:45.029205Z",
     "iopub.status.busy": "2022-06-03T19:20:45.029031Z",
     "iopub.status.idle": "2022-06-03T19:20:45.072369Z",
     "shell.execute_reply": "2022-06-03T19:20:45.071470Z"
    },
    "papermill": {
     "duration": 0.063957,
     "end_time": "2022-06-03T19:20:45.075472",
     "exception": false,
     "start_time": "2022-06-03T19:20:45.011515",
     "status": "completed"
    },
    "tags": []
   },
   "outputs": [
    {
     "data": {
      "text/html": [
       "<div>\n",
       "<style scoped>\n",
       "    .dataframe tbody tr th:only-of-type {\n",
       "        vertical-align: middle;\n",
       "    }\n",
       "\n",
       "    .dataframe tbody tr th {\n",
       "        vertical-align: top;\n",
       "    }\n",
       "\n",
       "    .dataframe thead th {\n",
       "        text-align: right;\n",
       "    }\n",
       "</style>\n",
       "<table border=\"1\" class=\"dataframe\">\n",
       "  <thead>\n",
       "    <tr style=\"text-align: right;\">\n",
       "      <th></th>\n",
       "      <th>subject</th>\n",
       "      <th>trial_count</th>\n",
       "      <th>likelihood</th>\n",
       "      <th>model</th>\n",
       "      <th>encoding_drift_rate</th>\n",
       "      <th>start_drift_rate</th>\n",
       "      <th>recall_drift_rate</th>\n",
       "      <th>shared_support</th>\n",
       "      <th>item_support</th>\n",
       "      <th>learning_rate</th>\n",
       "      <th>primacy_scale</th>\n",
       "      <th>primacy_decay</th>\n",
       "      <th>stop_probability_scale</th>\n",
       "      <th>stop_probability_growth</th>\n",
       "      <th>choice_sensitivity</th>\n",
       "      <th>delay_drift_rate</th>\n",
       "      <th>feature_sensitivity</th>\n",
       "      <th>context_sensitivity</th>\n",
       "      <th>learn_first</th>\n",
       "    </tr>\n",
       "  </thead>\n",
       "  <tbody>\n",
       "    <tr>\n",
       "      <th>0</th>\n",
       "      <td>118</td>\n",
       "      <td>6</td>\n",
       "      <td>150.845074</td>\n",
       "      <td>PrototypeCMR</td>\n",
       "      <td>0.909181</td>\n",
       "      <td>0.355604</td>\n",
       "      <td>1.000000</td>\n",
       "      <td>0.995734</td>\n",
       "      <td>0.617137</td>\n",
       "      <td>0.247060</td>\n",
       "      <td>25.375138</td>\n",
       "      <td>83.335079</td>\n",
       "      <td>0.006174</td>\n",
       "      <td>0.508733</td>\n",
       "      <td>2.421054</td>\n",
       "      <td>5.379049e-01</td>\n",
       "      <td>NaN</td>\n",
       "      <td>NaN</td>\n",
       "      <td>NaN</td>\n",
       "    </tr>\n",
       "    <tr>\n",
       "      <th>1</th>\n",
       "      <td>119</td>\n",
       "      <td>5</td>\n",
       "      <td>132.544565</td>\n",
       "      <td>PrototypeCMR</td>\n",
       "      <td>0.914103</td>\n",
       "      <td>0.336251</td>\n",
       "      <td>0.935867</td>\n",
       "      <td>0.905023</td>\n",
       "      <td>0.929869</td>\n",
       "      <td>0.283426</td>\n",
       "      <td>8.254069</td>\n",
       "      <td>0.618735</td>\n",
       "      <td>0.002958</td>\n",
       "      <td>0.529370</td>\n",
       "      <td>3.349089</td>\n",
       "      <td>3.650004e-01</td>\n",
       "      <td>NaN</td>\n",
       "      <td>NaN</td>\n",
       "      <td>NaN</td>\n",
       "    </tr>\n",
       "    <tr>\n",
       "      <th>2</th>\n",
       "      <td>123</td>\n",
       "      <td>6</td>\n",
       "      <td>226.385896</td>\n",
       "      <td>PrototypeCMR</td>\n",
       "      <td>0.863797</td>\n",
       "      <td>0.461785</td>\n",
       "      <td>1.000000</td>\n",
       "      <td>0.962369</td>\n",
       "      <td>0.464684</td>\n",
       "      <td>0.252644</td>\n",
       "      <td>7.649503</td>\n",
       "      <td>54.190604</td>\n",
       "      <td>0.006006</td>\n",
       "      <td>0.264935</td>\n",
       "      <td>3.074450</td>\n",
       "      <td>6.763337e-01</td>\n",
       "      <td>NaN</td>\n",
       "      <td>NaN</td>\n",
       "      <td>NaN</td>\n",
       "    </tr>\n",
       "    <tr>\n",
       "      <th>3</th>\n",
       "      <td>124</td>\n",
       "      <td>6</td>\n",
       "      <td>190.059432</td>\n",
       "      <td>PrototypeCMR</td>\n",
       "      <td>0.649901</td>\n",
       "      <td>0.074991</td>\n",
       "      <td>0.955568</td>\n",
       "      <td>1.000000</td>\n",
       "      <td>0.437007</td>\n",
       "      <td>0.017721</td>\n",
       "      <td>49.350172</td>\n",
       "      <td>1.399933</td>\n",
       "      <td>0.015785</td>\n",
       "      <td>0.153912</td>\n",
       "      <td>4.123812</td>\n",
       "      <td>4.425521e-09</td>\n",
       "      <td>NaN</td>\n",
       "      <td>NaN</td>\n",
       "      <td>NaN</td>\n",
       "    </tr>\n",
       "    <tr>\n",
       "      <th>4</th>\n",
       "      <td>125</td>\n",
       "      <td>5</td>\n",
       "      <td>205.975842</td>\n",
       "      <td>PrototypeCMR</td>\n",
       "      <td>0.583802</td>\n",
       "      <td>0.722625</td>\n",
       "      <td>0.798886</td>\n",
       "      <td>0.376508</td>\n",
       "      <td>0.923243</td>\n",
       "      <td>0.043244</td>\n",
       "      <td>8.605139</td>\n",
       "      <td>0.545209</td>\n",
       "      <td>0.000046</td>\n",
       "      <td>0.355886</td>\n",
       "      <td>3.629429</td>\n",
       "      <td>6.525073e-01</td>\n",
       "      <td>NaN</td>\n",
       "      <td>NaN</td>\n",
       "      <td>NaN</td>\n",
       "    </tr>\n",
       "    <tr>\n",
       "      <th>...</th>\n",
       "      <td>...</td>\n",
       "      <td>...</td>\n",
       "      <td>...</td>\n",
       "      <td>...</td>\n",
       "      <td>...</td>\n",
       "      <td>...</td>\n",
       "      <td>...</td>\n",
       "      <td>...</td>\n",
       "      <td>...</td>\n",
       "      <td>...</td>\n",
       "      <td>...</td>\n",
       "      <td>...</td>\n",
       "      <td>...</td>\n",
       "      <td>...</td>\n",
       "      <td>...</td>\n",
       "      <td>...</td>\n",
       "      <td>...</td>\n",
       "      <td>...</td>\n",
       "      <td>...</td>\n",
       "    </tr>\n",
       "    <tr>\n",
       "      <th>325</th>\n",
       "      <td>311</td>\n",
       "      <td>6</td>\n",
       "      <td>220.687183</td>\n",
       "      <td>ICMR_2_1_1</td>\n",
       "      <td>0.549424</td>\n",
       "      <td>0.357955</td>\n",
       "      <td>0.794822</td>\n",
       "      <td>0.263192</td>\n",
       "      <td>0.967849</td>\n",
       "      <td>0.134533</td>\n",
       "      <td>30.782835</td>\n",
       "      <td>77.618017</td>\n",
       "      <td>0.002281</td>\n",
       "      <td>0.370597</td>\n",
       "      <td>1.000000</td>\n",
       "      <td>2.220446e-16</td>\n",
       "      <td>1.0</td>\n",
       "      <td>2.745520</td>\n",
       "      <td>True</td>\n",
       "    </tr>\n",
       "    <tr>\n",
       "      <th>326</th>\n",
       "      <td>312</td>\n",
       "      <td>6</td>\n",
       "      <td>192.769648</td>\n",
       "      <td>ICMR_2_1_1</td>\n",
       "      <td>0.464597</td>\n",
       "      <td>0.317183</td>\n",
       "      <td>0.413393</td>\n",
       "      <td>0.105818</td>\n",
       "      <td>0.269743</td>\n",
       "      <td>0.444111</td>\n",
       "      <td>30.865311</td>\n",
       "      <td>48.981044</td>\n",
       "      <td>0.006613</td>\n",
       "      <td>0.300282</td>\n",
       "      <td>1.000000</td>\n",
       "      <td>1.165446e-10</td>\n",
       "      <td>1.0</td>\n",
       "      <td>10.000000</td>\n",
       "      <td>True</td>\n",
       "    </tr>\n",
       "    <tr>\n",
       "      <th>327</th>\n",
       "      <td>313</td>\n",
       "      <td>5</td>\n",
       "      <td>214.481376</td>\n",
       "      <td>ICMR_2_1_1</td>\n",
       "      <td>0.603525</td>\n",
       "      <td>0.205964</td>\n",
       "      <td>0.927665</td>\n",
       "      <td>0.358018</td>\n",
       "      <td>0.598383</td>\n",
       "      <td>0.050160</td>\n",
       "      <td>15.664600</td>\n",
       "      <td>19.382284</td>\n",
       "      <td>0.000058</td>\n",
       "      <td>0.574106</td>\n",
       "      <td>1.000000</td>\n",
       "      <td>1.024944e-01</td>\n",
       "      <td>1.0</td>\n",
       "      <td>2.312064</td>\n",
       "      <td>True</td>\n",
       "    </tr>\n",
       "    <tr>\n",
       "      <th>328</th>\n",
       "      <td>314</td>\n",
       "      <td>6</td>\n",
       "      <td>220.445408</td>\n",
       "      <td>ICMR_2_1_1</td>\n",
       "      <td>0.715616</td>\n",
       "      <td>0.014945</td>\n",
       "      <td>1.000000</td>\n",
       "      <td>0.232436</td>\n",
       "      <td>0.395214</td>\n",
       "      <td>0.946905</td>\n",
       "      <td>32.071800</td>\n",
       "      <td>79.438158</td>\n",
       "      <td>0.002167</td>\n",
       "      <td>0.335192</td>\n",
       "      <td>1.000000</td>\n",
       "      <td>3.771631e-01</td>\n",
       "      <td>1.0</td>\n",
       "      <td>2.169639</td>\n",
       "      <td>True</td>\n",
       "    </tr>\n",
       "    <tr>\n",
       "      <th>329</th>\n",
       "      <td>315</td>\n",
       "      <td>5</td>\n",
       "      <td>187.226762</td>\n",
       "      <td>ICMR_2_1_1</td>\n",
       "      <td>0.651070</td>\n",
       "      <td>0.292617</td>\n",
       "      <td>0.326313</td>\n",
       "      <td>0.112517</td>\n",
       "      <td>0.495702</td>\n",
       "      <td>0.838302</td>\n",
       "      <td>89.858830</td>\n",
       "      <td>0.499230</td>\n",
       "      <td>0.012273</td>\n",
       "      <td>0.156162</td>\n",
       "      <td>1.000000</td>\n",
       "      <td>8.392995e-01</td>\n",
       "      <td>1.0</td>\n",
       "      <td>10.000000</td>\n",
       "      <td>True</td>\n",
       "    </tr>\n",
       "  </tbody>\n",
       "</table>\n",
       "<p>330 rows × 19 columns</p>\n",
       "</div>"
      ],
      "text/plain": [
       "     subject  trial_count  likelihood         model  encoding_drift_rate  \\\n",
       "0        118            6  150.845074  PrototypeCMR             0.909181   \n",
       "1        119            5  132.544565  PrototypeCMR             0.914103   \n",
       "2        123            6  226.385896  PrototypeCMR             0.863797   \n",
       "3        124            6  190.059432  PrototypeCMR             0.649901   \n",
       "4        125            5  205.975842  PrototypeCMR             0.583802   \n",
       "..       ...          ...         ...           ...                  ...   \n",
       "325      311            6  220.687183    ICMR_2_1_1             0.549424   \n",
       "326      312            6  192.769648    ICMR_2_1_1             0.464597   \n",
       "327      313            5  214.481376    ICMR_2_1_1             0.603525   \n",
       "328      314            6  220.445408    ICMR_2_1_1             0.715616   \n",
       "329      315            5  187.226762    ICMR_2_1_1             0.651070   \n",
       "\n",
       "     start_drift_rate  recall_drift_rate  shared_support  item_support  \\\n",
       "0            0.355604           1.000000        0.995734      0.617137   \n",
       "1            0.336251           0.935867        0.905023      0.929869   \n",
       "2            0.461785           1.000000        0.962369      0.464684   \n",
       "3            0.074991           0.955568        1.000000      0.437007   \n",
       "4            0.722625           0.798886        0.376508      0.923243   \n",
       "..                ...                ...             ...           ...   \n",
       "325          0.357955           0.794822        0.263192      0.967849   \n",
       "326          0.317183           0.413393        0.105818      0.269743   \n",
       "327          0.205964           0.927665        0.358018      0.598383   \n",
       "328          0.014945           1.000000        0.232436      0.395214   \n",
       "329          0.292617           0.326313        0.112517      0.495702   \n",
       "\n",
       "     learning_rate  primacy_scale  primacy_decay  stop_probability_scale  \\\n",
       "0         0.247060      25.375138      83.335079                0.006174   \n",
       "1         0.283426       8.254069       0.618735                0.002958   \n",
       "2         0.252644       7.649503      54.190604                0.006006   \n",
       "3         0.017721      49.350172       1.399933                0.015785   \n",
       "4         0.043244       8.605139       0.545209                0.000046   \n",
       "..             ...            ...            ...                     ...   \n",
       "325       0.134533      30.782835      77.618017                0.002281   \n",
       "326       0.444111      30.865311      48.981044                0.006613   \n",
       "327       0.050160      15.664600      19.382284                0.000058   \n",
       "328       0.946905      32.071800      79.438158                0.002167   \n",
       "329       0.838302      89.858830       0.499230                0.012273   \n",
       "\n",
       "     stop_probability_growth  choice_sensitivity  delay_drift_rate  \\\n",
       "0                   0.508733            2.421054      5.379049e-01   \n",
       "1                   0.529370            3.349089      3.650004e-01   \n",
       "2                   0.264935            3.074450      6.763337e-01   \n",
       "3                   0.153912            4.123812      4.425521e-09   \n",
       "4                   0.355886            3.629429      6.525073e-01   \n",
       "..                       ...                 ...               ...   \n",
       "325                 0.370597            1.000000      2.220446e-16   \n",
       "326                 0.300282            1.000000      1.165446e-10   \n",
       "327                 0.574106            1.000000      1.024944e-01   \n",
       "328                 0.335192            1.000000      3.771631e-01   \n",
       "329                 0.156162            1.000000      8.392995e-01   \n",
       "\n",
       "     feature_sensitivity  context_sensitivity learn_first  \n",
       "0                    NaN                  NaN         NaN  \n",
       "1                    NaN                  NaN         NaN  \n",
       "2                    NaN                  NaN         NaN  \n",
       "3                    NaN                  NaN         NaN  \n",
       "4                    NaN                  NaN         NaN  \n",
       "..                   ...                  ...         ...  \n",
       "325                  1.0             2.745520        True  \n",
       "326                  1.0            10.000000        True  \n",
       "327                  1.0             2.312064        True  \n",
       "328                  1.0             2.169639        True  \n",
       "329                  1.0            10.000000        True  \n",
       "\n",
       "[330 rows x 19 columns]"
      ]
     },
     "execution_count": 7,
     "metadata": {},
     "output_type": "execute_result"
    }
   ],
   "source": [
    "individual_fits"
   ]
  },
  {
   "cell_type": "code",
   "execution_count": 8,
   "id": "3ca03d4a",
   "metadata": {
    "execution": {
     "iopub.execute_input": "2022-06-03T19:20:45.143263Z",
     "iopub.status.busy": "2022-06-03T19:20:45.142774Z",
     "iopub.status.idle": "2022-06-03T19:20:45.190310Z",
     "shell.execute_reply": "2022-06-03T19:20:45.189485Z"
    },
    "papermill": {
     "duration": 0.081363,
     "end_time": "2022-06-03T19:20:45.193385",
     "exception": false,
     "start_time": "2022-06-03T19:20:45.112022",
     "status": "completed"
    },
    "tags": []
   },
   "outputs": [
    {
     "name": "stdout",
     "output_type": "stream",
     "text": [
      "::: {#fig-HowardKahana2005Cond2fits layout-nrow=2 layout-valign=\"center\"}\n",
      "\n",
      "![](results/individual_HowardKahana2005Cond2.pdf)\n",
      "\n",
      "|       |   ICMR_2_0_0 |   ICMR_2_0_1 |   ICMR_2_1_0 |   ICMR_2_1_1 |   PrototypeCMR |\n",
      "|:------|-------------:|-------------:|-------------:|-------------:|---------------:|\n",
      "| count |      66      |      66      |      66      |      66      |        66      |\n",
      "| mean  |     167.464  |     167.618  |     167.075  |     167.166  |       167.196  |\n",
      "| std   |      55.5483 |      55.3646 |      55.448  |      55.4917 |        55.4581 |\n",
      "| min   |      62.2428 |      61.8047 |      62.3846 |      62.7563 |        61.7805 |\n",
      "| 25%   |     127.634  |     129.38   |     127.541  |     127.755  |       129.038  |\n",
      "| 50%   |     170.202  |     170.441  |     169.618  |     171.317  |       169.722  |\n",
      "| 75%   |     207.326  |     207.233  |     207.18   |     208.013  |       207.623  |\n",
      "| max   |     299.752  |     299.818  |     300.87   |     300.213  |       299.414  |\n",
      "\n",
      "Distribution of log-likelihood scores of recall sequences exhibited by each subject in dataset under each considered model.\n",
      ":::\n"
     ]
    }
   ],
   "source": [
    "#| code-summary: display markdown rendering of summary table\n",
    "#| echo: false\n",
    "#| input: false\n",
    "#| output: asis\n",
    "\n",
    "summary_table = pd.DataFrame(group.describe().rename(columns={'likelihood':name}).squeeze()\n",
    "            for name, group in individual_fits[['model', 'likelihood']].groupby('model')).T.to_markdown()\n",
    "\n",
    "print(\"\"\"::: {{#fig-{section_tag}fits layout-nrow=2 layout-valign=\"center\"}}\n",
    "\n",
    "![]({results_path}individual_{section_tag}.pdf)\n",
    "\n",
    "{summary_table}\n",
    "\n",
    "{individual_fits_caption}\n",
    ":::\"\"\".format(section_tag=section_tag, summary_table=summary_table, individual_fits_caption=figure_caption, results_path=results_path))"
   ]
  },
  {
   "cell_type": "code",
   "execution_count": 9,
   "id": "a44a7319",
   "metadata": {
    "execution": {
     "iopub.execute_input": "2022-06-03T19:20:45.265982Z",
     "iopub.status.busy": "2022-06-03T19:20:45.265668Z",
     "iopub.status.idle": "2022-06-03T19:20:45.340524Z",
     "shell.execute_reply": "2022-06-03T19:20:45.339746Z"
    },
    "papermill": {
     "duration": 0.110727,
     "end_time": "2022-06-03T19:20:45.343646",
     "exception": false,
     "start_time": "2022-06-03T19:20:45.232919",
     "status": "completed"
    },
    "tags": []
   },
   "outputs": [
    {
     "name": "stdout",
     "output_type": "stream",
     "text": [
      "('PrototypeCMR', 'ICMR_2_0_0')\n",
      "Ttest_relResult(statistic=-1.9469475476996478, pvalue=0.0558643329823454)\n",
      "Ttest_relResult(statistic=-1.9469475476996478, pvalue=0.0279321664911727)\n",
      "Ttest_relResult(statistic=-1.9469475476996478, pvalue=0.9720678335088273)\n",
      "\n",
      "('PrototypeCMR', 'ICMR_2_0_1')\n",
      "Ttest_relResult(statistic=-2.883445014328431, pvalue=0.005328128559609686)\n",
      "Ttest_relResult(statistic=-2.883445014328431, pvalue=0.002664064279804843)\n",
      "Ttest_relResult(statistic=-2.883445014328431, pvalue=0.9973359357201952)\n",
      "\n",
      "('PrototypeCMR', 'ICMR_2_1_0')\n",
      "Ttest_relResult(statistic=0.587790098971007, pvalue=0.5587098072368233)\n",
      "Ttest_relResult(statistic=0.587790098971007, pvalue=0.7206450963815884)\n",
      "Ttest_relResult(statistic=0.587790098971007, pvalue=0.27935490361841164)\n",
      "\n",
      "('PrototypeCMR', 'ICMR_2_1_1')\n",
      "Ttest_relResult(statistic=0.15676163839119298, pvalue=0.8759186077729166)\n",
      "Ttest_relResult(statistic=0.15676163839119298, pvalue=0.5620406961135417)\n",
      "Ttest_relResult(statistic=0.15676163839119298, pvalue=0.4379593038864583)\n",
      "\n",
      "('ICMR_2_0_0', 'ICMR_2_0_1')\n",
      "Ttest_relResult(statistic=-1.3790101896105227, pvalue=0.172618545240434)\n",
      "Ttest_relResult(statistic=-1.3790101896105227, pvalue=0.086309272620217)\n",
      "Ttest_relResult(statistic=-1.3790101896105227, pvalue=0.9136907273797831)\n",
      "\n",
      "('ICMR_2_0_0', 'ICMR_2_1_0')\n",
      "Ttest_relResult(statistic=1.8232444635323304, pvalue=0.0728650539297569)\n",
      "Ttest_relResult(statistic=1.8232444635323304, pvalue=0.9635674730351216)\n",
      "Ttest_relResult(statistic=1.8232444635323304, pvalue=0.03643252696487845)\n",
      "\n",
      "('ICMR_2_0_0', 'ICMR_2_1_1')\n",
      "Ttest_relResult(statistic=1.6681439542168022, pvalue=0.10009801617926609)\n",
      "Ttest_relResult(statistic=1.6681439542168022, pvalue=0.949950991910367)\n",
      "Ttest_relResult(statistic=1.6681439542168022, pvalue=0.05004900808963304)\n",
      "\n",
      "('ICMR_2_0_1', 'ICMR_2_1_0')\n",
      "Ttest_relResult(statistic=2.5863401203161596, pvalue=0.011948417090470353)\n",
      "Ttest_relResult(statistic=2.5863401203161596, pvalue=0.9940257914547649)\n",
      "Ttest_relResult(statistic=2.5863401203161596, pvalue=0.005974208545235176)\n",
      "\n",
      "('ICMR_2_0_1', 'ICMR_2_1_1')\n",
      "Ttest_relResult(statistic=2.289448499025501, pvalue=0.025309631142613215)\n",
      "Ttest_relResult(statistic=2.289448499025501, pvalue=0.9873451844286935)\n",
      "Ttest_relResult(statistic=2.289448499025501, pvalue=0.012654815571306608)\n",
      "\n",
      "('ICMR_2_1_0', 'ICMR_2_1_1')\n",
      "Ttest_relResult(statistic=-0.6605143952278504, pvalue=0.5112579102176871)\n",
      "Ttest_relResult(statistic=-0.6605143952278504, pvalue=0.25562895510884354)\n",
      "Ttest_relResult(statistic=-0.6605143952278504, pvalue=0.7443710448911565)\n",
      "\n"
     ]
    }
   ],
   "source": [
    "#| code-summary: perform t-tests on individual-level fits\n",
    "#| output: false\n",
    " \n",
    "from scipy.stats import ttest_rel\n",
    "import itertools\n",
    "\n",
    "for combination in itertools.combinations(pd.unique(individual_fits.model), 2):\n",
    "\n",
    "    print(combination)\n",
    "    print(ttest_rel(individual_fits[individual_fits.model == combination[0]].likelihood, individual_fits[individual_fits.model == combination[1]].likelihood, alternative='two-sided'))\n",
    "    print(ttest_rel(individual_fits[individual_fits.model == combination[0]].likelihood, individual_fits[individual_fits.model == combination[1]].likelihood, alternative='less'))\n",
    "    print(ttest_rel(individual_fits[individual_fits.model == combination[0]].likelihood, individual_fits[individual_fits.model == combination[1]].likelihood, alternative='greater'))\n",
    "    print()"
   ]
  },
  {
   "cell_type": "code",
   "execution_count": 10,
   "id": "41ff349b",
   "metadata": {
    "execution": {
     "iopub.execute_input": "2022-06-03T19:20:45.418008Z",
     "iopub.status.busy": "2022-06-03T19:20:45.417660Z",
     "iopub.status.idle": "2022-06-03T19:20:45.500365Z",
     "shell.execute_reply": "2022-06-03T19:20:45.499570Z"
    },
    "papermill": {
     "duration": 0.11954,
     "end_time": "2022-06-03T19:20:45.503950",
     "exception": false,
     "start_time": "2022-06-03T19:20:45.384410",
     "status": "completed"
    },
    "tags": []
   },
   "outputs": [
    {
     "name": "stdout",
     "output_type": "stream",
     "text": [
      "('PrototypeCMR', 'ICMR_2_0_0')\n",
      "0.6818181818181818 0.3181818181818182\n",
      "45 21\n",
      "\n",
      "('PrototypeCMR', 'ICMR_2_0_1')\n",
      "0.6818181818181818 0.3181818181818182\n",
      "45 21\n",
      "\n",
      "('PrototypeCMR', 'ICMR_2_1_0')\n",
      "0.48484848484848486 0.5151515151515151\n",
      "32 34\n",
      "\n",
      "('PrototypeCMR', 'ICMR_2_1_1')\n",
      "0.45454545454545453 0.5454545454545454\n",
      "30 36\n",
      "\n",
      "('ICMR_2_0_0', 'ICMR_2_0_1')\n",
      "0.5606060606060606 0.4393939393939394\n",
      "37 29\n",
      "\n",
      "('ICMR_2_0_0', 'ICMR_2_1_0')\n",
      "0.45454545454545453 0.5454545454545454\n",
      "30 36\n",
      "\n",
      "('ICMR_2_0_0', 'ICMR_2_1_1')\n",
      "0.3939393939393939 0.6060606060606061\n",
      "26 40\n",
      "\n",
      "('ICMR_2_0_1', 'ICMR_2_1_0')\n",
      "0.3787878787878788 0.6212121212121212\n",
      "25 41\n",
      "\n",
      "('ICMR_2_0_1', 'ICMR_2_1_1')\n",
      "0.36363636363636365 0.6363636363636364\n",
      "24 42\n",
      "\n",
      "('ICMR_2_1_0', 'ICMR_2_1_1')\n",
      "0.5757575757575758 0.42424242424242425\n",
      "38 28\n",
      "\n"
     ]
    }
   ],
   "source": [
    "for combination in itertools.combinations(pd.unique(individual_fits.model), 2):\n",
    "\n",
    "    print(combination)\n",
    "    print(np.mean(individual_fits[individual_fits.model == combination[0]].likelihood.values < individual_fits[individual_fits.model == combination[1]].likelihood.values), \n",
    "        np.mean(individual_fits[individual_fits.model == combination[1]].likelihood.values < individual_fits[individual_fits.model == combination[0]].likelihood.values))\n",
    "\n",
    "    print(np.sum(individual_fits[individual_fits.model == combination[0]].likelihood.values < individual_fits[individual_fits.model == combination[1]].likelihood.values), \n",
    "        np.sum(individual_fits[individual_fits.model == combination[1]].likelihood.values < individual_fits[individual_fits.model == combination[0]].likelihood.values))\n",
    "\n",
    "    print()"
   ]
  },
  {
   "cell_type": "code",
   "execution_count": 11,
   "id": "7116f6bb",
   "metadata": {
    "execution": {
     "iopub.execute_input": "2022-06-03T19:20:45.581005Z",
     "iopub.status.busy": "2022-06-03T19:20:45.580503Z",
     "iopub.status.idle": "2022-06-03T19:20:46.609166Z",
     "shell.execute_reply": "2022-06-03T19:20:46.608614Z"
    },
    "papermill": {
     "duration": 1.065927,
     "end_time": "2022-06-03T19:20:46.612458",
     "exception": false,
     "start_time": "2022-06-03T19:20:45.546531",
     "status": "completed"
    },
    "tags": []
   },
   "outputs": [
    {
     "name": "stdout",
     "output_type": "stream",
     "text": [
      "[3.36060024e-04 6.93767363e-12 2.65965726e-16 9.97289669e-01\n",
      " 2.37427072e-03]\n"
     ]
    }
   ],
   "source": [
    "def model_weights(positive_log_likelihoods, number_parameters, N):\n",
    "    AIC = 2 * positive_log_likelihoods + 2 * number_parameters\n",
    "    AICc = AIC #+ (2*np.power(number_parameters, 2) + 2 * number_parameters) / (N - number_parameters - 2)\n",
    "    AICd = AIC - np.min(AICc)\n",
    "    #return AICd\n",
    "    AICw = np.exp(-.5 * AICd) / np.sum(np.exp(-.5 * AICd))\n",
    "    return AICw\n",
    "\n",
    "aicw = {'Model': [], 'Subject': [], 'AICw': []}\n",
    "\n",
    "total_nlns = np.zeros(len(models))\n",
    "for subject_index, subject in enumerate(pd.unique(events.subject)):\n",
    "\n",
    "    subject_specific_trial_mask = np.logical_and(\n",
    "                    generate_trial_mask(events, f'subject == {subject}'), trial_mask)\n",
    "\n",
    "    nlnLs = []\n",
    "    for model_index, model_class in enumerate(models):\n",
    "        nlnLs.append(\n",
    "            individual_fits[individual_fits.model == model_names[model_index]].likelihood.values[subject_index])\n",
    "    nlnLs = np.array(nlnLs)\n",
    "    total_nlns += nlnLs\n",
    "    \n",
    "    weights = model_weights(nlnLs, len(free_parameters[model_index]), np.sum(subject_specific_trial_mask))\n",
    "    #print(weights)\n",
    "    for model_index, model_class in enumerate(models):\n",
    "        aicw['Model'].append(model_names[model_index])\n",
    "        aicw['Subject'].append(subject)\n",
    "        aicw['AICw'].append(weights[model_index])\n",
    "\n",
    "aicw = pd.DataFrame(data=aicw)\n",
    "total_aicw = model_weights(total_nlns, len(free_parameters[model_index]), np.sum(trial_mask))\n",
    "print(total_aicw)"
   ]
  },
  {
   "cell_type": "code",
   "execution_count": 12,
   "id": "d451f508",
   "metadata": {
    "execution": {
     "iopub.execute_input": "2022-06-03T19:20:46.689982Z",
     "iopub.status.busy": "2022-06-03T19:20:46.689745Z",
     "iopub.status.idle": "2022-06-03T19:20:47.055704Z",
     "shell.execute_reply": "2022-06-03T19:20:47.054925Z"
    },
    "papermill": {
     "duration": 0.403616,
     "end_time": "2022-06-03T19:20:47.058893",
     "exception": false,
     "start_time": "2022-06-03T19:20:46.655277",
     "status": "completed"
    },
    "tags": []
   },
   "outputs": [
    {
     "data": {
      "image/png": "[encoded data removed]",
      "text/plain": [
       "<Figure size 640x480 with 1 Axes>"
      ]
     },
     "metadata": {},
     "output_type": "display_data"
    }
   ],
   "source": [
    "import seaborn as sns\n",
    "sns.set_theme(style=\"darkgrid\")\n",
    "x = sns.pointplot(x=\"Model\", y=\"AICw\", data=aicw, join=False)\n",
    "\n",
    "plt.show()"
   ]
  },
  {
   "cell_type": "code",
   "execution_count": 13,
   "id": "53ee133d",
   "metadata": {
    "execution": {
     "iopub.execute_input": "2022-06-03T19:20:47.139498Z",
     "iopub.status.busy": "2022-06-03T19:20:47.139181Z",
     "iopub.status.idle": "2022-06-03T19:20:47.143832Z",
     "shell.execute_reply": "2022-06-03T19:20:47.142820Z"
    },
    "papermill": {
     "duration": 0.043312,
     "end_time": "2022-06-03T19:20:47.146763",
     "exception": false,
     "start_time": "2022-06-03T19:20:47.103451",
     "status": "completed"
    },
    "tags": []
   },
   "outputs": [],
   "source": [
    "from compmemlearn.datasets import find_first"
   ]
  },
  {
   "cell_type": "code",
   "execution_count": 14,
   "id": "7e5b7823",
   "metadata": {
    "execution": {
     "iopub.execute_input": "2022-06-03T19:20:47.209647Z",
     "iopub.status.busy": "2022-06-03T19:20:47.209430Z",
     "iopub.status.idle": "2022-06-03T19:20:47.225190Z",
     "shell.execute_reply": "2022-06-03T19:20:47.224027Z"
    },
    "papermill": {
     "duration": 0.047069,
     "end_time": "2022-06-03T19:20:47.226959",
     "exception": false,
     "start_time": "2022-06-03T19:20:47.179890",
     "status": "completed"
    },
    "tags": []
   },
   "outputs": [],
   "source": [
    "def simulate_df_from_events(model_class, parameters, events, trial_mask, experiment_count, first_recall_item=None):\n",
    "\n",
    "    trials, list_lengths, presentations = events_metadata(events)\n",
    "    chose = [i for i in range(len(trial_mask)) if np.sum(trial_mask[i]) != 0]\n",
    "    assert(len(chose) == 1)\n",
    "    chose = chose[0]\n",
    "    trial_mask = trial_mask[chose]\n",
    "    trials = trials[chose][trial_mask]\n",
    "    presentations = presentations[chose][trial_mask]\n",
    "\n",
    "    default_columns = ['subject', 'list', 'trial_type', 'item', 'input', 'output', 'study', 'recall', 'repeat', 'intrusion', 'first_input']\n",
    "    extra_columns = [each for each in events.columns if each not in default_columns]\n",
    "\n",
    "    labels = {}\n",
    "    for column in extra_columns:\n",
    "        try:\n",
    "            labels[column] = (\n",
    "                events.pivot_table(index=['subject', 'list'], dropna=False)[column].values)\n",
    "\n",
    "            if 'list length' in events.columns:\n",
    "                trial_details = events.pivot_table(index=['subject', 'list'], dropna=False).reset_index()\n",
    "                list_length_mask = trial_details.eval(trial_query).to_numpy(dtype='bool')\n",
    "                labels[column] = labels[column][list_length_mask]\n",
    "            else:\n",
    "                labels[column] = labels[column][trial_mask]\n",
    "        except KeyError:\n",
    "            pass\n",
    "\n",
    "    data = []\n",
    "    for experiment in range(experiment_count):\n",
    "        for trial_index in range(len(presentations)):\n",
    "        \n",
    "            # retrieve presentation sequence for this trial and measure number of unique items\n",
    "            presentation = presentations[trial_index]\n",
    "            item_count = np.max(presentation)+1\n",
    "\n",
    "            # record presentation events\n",
    "            for presentation_index, presentation_event in enumerate(presentation):\n",
    "                data.append([\n",
    "                    experiment, trial_index, 'study', presentation_index+1, presentation_event, presentation_index+1])\n",
    "                for label in labels:\n",
    "                    data[-1].append(labels[label][trial_index])\n",
    "\n",
    "            # simulate recall and identify first study position of each recalled item\n",
    "            model = model_class(item_count, len(presentation), parameters)\n",
    "            model.experience(model.items[presentation])\n",
    "            if first_recall_item is not None:\n",
    "                model.force_recall(first_recall_item)\n",
    "            recalled = model.free_recall()\n",
    "            trial = [find_first(recalled[i], presentation) + 1 for i in range(len(recalled))]\n",
    "\n",
    "            # record recall events\n",
    "            for recall_index, recall_event in enumerate(trial):\n",
    "                if recall_event != 0:\n",
    "                    data.append([\n",
    "                        experiment, trial_index, 'recall', recall_index+1, \n",
    "                        presentation[recall_event-1], recall_event])\n",
    "                    for label in labels:\n",
    "                        data[-1].append(labels[label][trial_index])\n",
    "\n",
    "    data = pd.DataFrame(data, columns=[\n",
    "        'subject', 'list', 'trial_type', 'position', 'item', 'first_input'] + list(labels.keys()))\n",
    "    merged = fr.merge_free_recall(data, list_keys=['first_input'] + list(labels.keys()))\n",
    "    return merged"
   ]
  },
  {
   "cell_type": "markdown",
   "id": "cdfc1b5d",
   "metadata": {
    "tags": [
     "papermill-error-cell-tag"
    ]
   },
   "source": [
    "<span id=\"papermill-error-cell\" style=\"color:red; font-family:Helvetica Neue, Helvetica, Arial, sans-serif; font-size:2em;\">Execution using papermill encountered an exception here and stopped:</span>"
   ]
  },
  {
   "cell_type": "code",
   "execution_count": 15,
   "id": "68edfbb3",
   "metadata": {
    "execution": {
     "iopub.execute_input": "2022-06-03T19:20:47.270788Z",
     "iopub.status.busy": "2022-06-03T19:20:47.270201Z",
     "iopub.status.idle": "2022-06-03T19:21:01.214482Z",
     "shell.execute_reply": "2022-06-03T19:21:01.213178Z"
    },
    "papermill": {
     "duration": 13.967884,
     "end_time": "2022-06-03T19:21:01.215992",
     "exception": true,
     "start_time": "2022-06-03T19:20:47.248108",
     "status": "failed"
    },
    "tags": []
   },
   "outputs": [
    {
     "name": "stdout",
     "output_type": "stream",
     "text": [
      "sim_df for PrototypeCMR with tag HowardKahana2005Cond2 and list length 90 already exists\n"
     ]
    },
    {
     "data": {
      "image/png": "[encoded data removed]",
      "text/plain": [
       "<Figure size 640x480 with 1 Axes>"
      ]
     },
     "metadata": {},
     "output_type": "display_data"
    },
    {
     "ename": "ValueError",
     "evalue": "cannot assign slice from input of different size",
     "output_type": "error",
     "traceback": [
      "\u001b[0;31m---------------------------------------------------------------------------\u001b[0m",
      "\u001b[0;31mValueError\u001b[0m                                Traceback (most recent call last)",
      "Input \u001b[0;32mIn [15]\u001b[0m, in \u001b[0;36m<cell line: 7>\u001b[0;34m()\u001b[0m\n\u001b[1;32m     74\u001b[0m \u001b[38;5;28;01mfor\u001b[39;00m analysis_index, analysis_function \u001b[38;5;129;01min\u001b[39;00m \u001b[38;5;28menumerate\u001b[39m(analyses):\n\u001b[1;32m     75\u001b[0m     analysis_name \u001b[38;5;241m=\u001b[39m analysis_names[analysis_index]\n\u001b[0;32m---> 76\u001b[0m     axis \u001b[38;5;241m=\u001b[39m \u001b[43manalysis_function\u001b[49m\u001b[43m(\u001b[49m\n\u001b[1;32m     77\u001b[0m \u001b[43m        \u001b[49m\u001b[43m[\u001b[49m\u001b[43mevents\u001b[49m\u001b[43m,\u001b[49m\u001b[43m \u001b[49m\u001b[43msim_df\u001b[49m\u001b[43m]\u001b[49m\u001b[43m,\u001b[49m\u001b[43m \u001b[49m\u001b[43manalysis_query\u001b[49m\u001b[43m,\u001b[49m\u001b[43m \u001b[49m\u001b[43mcontrast_name\u001b[49m\u001b[38;5;241;43m=\u001b[39;49m\u001b[38;5;124;43m\"\u001b[39;49m\u001b[38;5;124;43msource\u001b[39;49m\u001b[38;5;124;43m\"\u001b[39;49m\u001b[43m,\u001b[49m\u001b[43m \u001b[49m\u001b[43mlabels\u001b[49m\u001b[38;5;241;43m=\u001b[39;49m\u001b[43m[\u001b[49m\u001b[38;5;124;43m\"\u001b[39;49m\u001b[38;5;124;43mdata\u001b[39;49m\u001b[38;5;124;43m\"\u001b[39;49m\u001b[43m,\u001b[49m\u001b[43m \u001b[49m\u001b[43mmodel_names\u001b[49m\u001b[43m[\u001b[49m\u001b[43mmodel_index\u001b[49m\u001b[43m]\u001b[49m\u001b[43m]\u001b[49m\u001b[43m)\u001b[49m\n\u001b[1;32m     78\u001b[0m     plt\u001b[38;5;241m.\u001b[39msavefig(results_path\u001b[38;5;241m+\u001b[39m\u001b[38;5;124m'\u001b[39m\u001b[38;5;132;01m{}\u001b[39;00m\u001b[38;5;124m_\u001b[39m\u001b[38;5;132;01m{}\u001b[39;00m\u001b[38;5;124m_ll\u001b[39m\u001b[38;5;132;01m{}\u001b[39;00m\u001b[38;5;124m_\u001b[39m\u001b[38;5;132;01m{}\u001b[39;00m\u001b[38;5;124m.pdf\u001b[39m\u001b[38;5;124m'\u001b[39m\u001b[38;5;241m.\u001b[39mformat(section_tag, model_names[model_index], list_length, analysis_name), bbox_inches\u001b[38;5;241m=\u001b[39m\u001b[38;5;124m\"\u001b[39m\u001b[38;5;124mtight\u001b[39m\u001b[38;5;124m\"\u001b[39m)\n\u001b[1;32m     79\u001b[0m     plt\u001b[38;5;241m.\u001b[39mshow()\n",
      "File \u001b[0;32m/gpfs52/home/gunnj/myvenv/lib/python3.8/site-packages/compmemlearn/analyses.py:437\u001b[0m, in \u001b[0;36mplot_flex_crp\u001b[0;34m(data, trial_query, contrast_name, labels, axis, max_lag)\u001b[0m\n\u001b[1;32m    434\u001b[0m \u001b[38;5;28;01mif\u001b[39;00m np\u001b[38;5;241m.\u001b[39msum(subject_specific_trial_mask) \u001b[38;5;241m==\u001b[39m \u001b[38;5;241m0\u001b[39m:\n\u001b[1;32m    435\u001b[0m     \u001b[38;5;28;01mcontinue\u001b[39;00m\n\u001b[0;32m--> 437\u001b[0m res \u001b[38;5;241m=\u001b[39m \u001b[43mflex_mixed_crp\u001b[49m\u001b[43m(\u001b[49m\u001b[43mtrials\u001b[49m\u001b[43m[\u001b[49m\u001b[43msubject_specific_trial_mask\u001b[49m\u001b[43m]\u001b[49m\u001b[43m,\u001b[49m\u001b[43m \u001b[49m\u001b[43mpresentations\u001b[49m\u001b[43m[\u001b[49m\u001b[43msubject_specific_trial_mask\u001b[49m\u001b[43m]\u001b[49m\u001b[43m)\u001b[49m\n\u001b[1;32m    438\u001b[0m res[lag_range] \u001b[38;5;241m=\u001b[39m np\u001b[38;5;241m.\u001b[39mnan\n\u001b[1;32m    439\u001b[0m result\u001b[38;5;241m.\u001b[39mappend(pd\u001b[38;5;241m.\u001b[39mDataFrame\u001b[38;5;241m.\u001b[39mfrom_dict(\n\u001b[1;32m    440\u001b[0m     {\n\u001b[1;32m    441\u001b[0m         \u001b[38;5;124m\"\u001b[39m\u001b[38;5;124msubject\u001b[39m\u001b[38;5;124m\"\u001b[39m: subject,\n\u001b[0;32m   (...)\u001b[0m\n\u001b[1;32m    445\u001b[0m     }\n\u001b[1;32m    446\u001b[0m ))\n",
      "\u001b[0;31mValueError\u001b[0m: cannot assign slice from input of different size"
     ]
    },
    {
     "data": {
      "image/png": "[encoded data removed]",
      "text/plain": [
       "<Figure size 640x480 with 1 Axes>"
      ]
     },
     "metadata": {},
     "output_type": "display_data"
    }
   ],
   "source": [
    "sns.set(style='darkgrid')\n",
    "\n",
    "# for each unique list length\n",
    "if not (isinstance(list_lengths, list) or isinstance(list_lengths, List)): \n",
    "    list_lengths = [list_lengths]\n",
    "\n",
    "for ll_index, list_length in enumerate(list_lengths):\n",
    "    \n",
    "    # for each unique model\n",
    "    for model_index, model_class in enumerate(models):\n",
    "\n",
    "        # load sim_df from csv if it exists\n",
    "        sim_df_path = results_path + '{}_{}_ll{}_sim_df.csv'.format(section_tag, model_names[model_index], list_length)\n",
    "        if os.path.isfile(sim_df_path):\n",
    "            sim_df = pd.read_csv(sim_df_path)\n",
    "            print('sim_df for {} with tag {} and list length {} already exists'.format(model_names[model_index], section_tag, list_length))\n",
    "\n",
    "        # otherwise, generate it\n",
    "        else:\n",
    "\n",
    "            @njit(fastmath=True, nogil=True)\n",
    "            def init_model(item_count, presentation_count, parameters):\n",
    "                return model_class(item_count, presentation_count, parameters)\n",
    "\n",
    "            # for each unique matching entry in individual df\n",
    "            sim_dfs = []\n",
    "            for subject in pd.unique(individual_fits.subject):\n",
    "                \n",
    "                fit_result = individual_fits.query(f'subject == {subject} & model == \"{model_names[model_index]}\"')\n",
    "\n",
    "                # configure model based on specified parameters\n",
    "                fitted_parameters = Dict.empty(\n",
    "                    key_type=types.unicode_type, value_type=types.float64\n",
    "                )\n",
    "                for i in range(len(free_parameters[model_index])):\n",
    "                    fitted_parameters[free_parameters[model_index][i]] = fit_result[free_parameters[model_index][i]].values[0]\n",
    "                for key in fixed_parameters[model_index]:\n",
    "                    fitted_parameters[key] = fixed_parameters[model_index][key]\n",
    "\n",
    "                if 'list length' in events.columns:\n",
    "                    ll_specific_trial_query = trial_query + f' & subject == {subject} & `list length` == {list_length}'\n",
    "                else:\n",
    "                    ll_specific_trial_query = trial_query + f' & subject == {subject}'\n",
    "\n",
    "                ll_specific_trial_mask = generate_trial_mask(events, ll_specific_trial_query)\n",
    "\n",
    "                if np.sum(ll_specific_trial_mask) == 0:\n",
    "                    continue\n",
    "\n",
    "                # simulate df based on specified trial_count and experiment_count\n",
    "                sim_dfs.append(simulate_df_from_events(\n",
    "                    init_model, fitted_parameters, events, ll_specific_trial_mask, experiment_count))\n",
    "                sim_dfs[-1].subject = subject\n",
    "\n",
    "            # concatenate simulations into one dataframe\n",
    "            if len(sim_dfs) == 0:\n",
    "                sim_df = None\n",
    "                continue\n",
    "            sim_df = pd.concat(sim_dfs)\n",
    "\n",
    "            # save sim_df to csv\n",
    "            sim_df.to_csv(results_path +'{}_{}_ll{}_sim_df.csv'.format(section_tag, model_names[model_index], list_length), index=False)\n",
    "\n",
    "        if sim_df is None:\n",
    "            continue\n",
    "\n",
    "        # design general filter for analysis df\n",
    "        if len(list_lengths) > 1:\n",
    "            analysis_query = trial_query + f' & `list length` == {list_length}'\n",
    "        else:\n",
    "            analysis_query = trial_query\n",
    "            \n",
    "        # generate plot for each parametrized analysis and model\n",
    "        for analysis_index, analysis_function in enumerate(analyses):\n",
    "            analysis_name = analysis_names[analysis_index]\n",
    "            axis = analysis_function(\n",
    "                [events, sim_df], analysis_query, contrast_name=\"source\", labels=[\"data\", model_names[model_index]])\n",
    "            plt.savefig(results_path+'{}_{}_ll{}_{}.pdf'.format(section_tag, model_names[model_index], list_length, analysis_name), bbox_inches=\"tight\")\n",
    "            plt.show()"
   ]
  }
 ],
 "metadata": {
  "interpreter": {
   "hash": "19d1d53a962d236aa061289c2ac16dc8e6d9648c89fe79f459ae9a3493bc67b4"
  },
  "kernelspec": {
   "display_name": "Python 3.9.1 ('base')",
   "language": "python",
   "name": "python3"
  },
  "language_info": {
   "codemirror_mode": {
    "name": "ipython",
    "version": 3
   },
   "file_extension": ".py",
   "mimetype": "text/x-python",
   "name": "python",
   "nbconvert_exporter": "python",
   "pygments_lexer": "ipython3",
   "version": "3.8.6"
  },
  "papermill": {
   "default_parameters": {},
   "duration": 339.009089,
   "end_time": "2022-06-03T19:21:04.723970",
   "environment_variables": {},
   "exception": true,
   "input_path": "Subjectwise_Model_Evaluation.ipynb",
   "output_path": "reports/Subjectwise_Model_Evaluation_Double_HowardKahana2005Cond2.ipynb",
   "parameters": {
    "bounds": [
     [
      [
       2.220446049250313e-16,
       0.9999999999999998
      ],
      [
       2.220446049250313e-16,
       0.9999999999999998
      ],
      [
       2.220446049250313e-16,
       0.9999999999999998
      ],
      [
       2.220446049250313e-16,
       0.9999999999999998
      ],
      [
       2.220446049250313e-16,
       0.9999999999999998
      ],
      [
       2.220446049250313e-16,
       0.9999999999999998
      ],
      [
       2.220446049250313e-16,
       100
      ],
      [
       2.220446049250313e-16,
       100
      ],
      [
       2.220446049250313e-16,
       0.9999999999999998
      ],
      [
       2.220446049250313e-16,
       10
      ],
      [
       2.220446049250313e-16,
       10
      ],
      [
       2.220446049250313e-16,
       0.9999999999999998
      ]
     ],
     [
      [
       2.220446049250313e-16,
       0.9999999999999998
      ],
      [
       2.220446049250313e-16,
       0.9999999999999998
      ],
      [
       2.220446049250313e-16,
       0.9999999999999998
      ],
      [
       2.220446049250313e-16,
       0.9999999999999998
      ],
      [
       2.220446049250313e-16,
       0.9999999999999998
      ],
      [
       2.220446049250313e-16,
       0.9999999999999998
      ],
      [
       2.220446049250313e-16,
       100
      ],
      [
       2.220446049250313e-16,
       100
      ],
      [
       2.220446049250313e-16,
       0.9999999999999998
      ],
      [
       2.220446049250313e-16,
       10
      ],
      [
       2.220446049250313e-16,
       10
      ],
      [
       2.220446049250313e-16,
       0.9999999999999998
      ]
     ],
     [
      [
       2.220446049250313e-16,
       0.9999999999999998
      ],
      [
       2.220446049250313e-16,
       0.9999999999999998
      ],
      [
       2.220446049250313e-16,
       0.9999999999999998
      ],
      [
       2.220446049250313e-16,
       0.9999999999999998
      ],
      [
       2.220446049250313e-16,
       0.9999999999999998
      ],
      [
       2.220446049250313e-16,
       0.9999999999999998
      ],
      [
       2.220446049250313e-16,
       100
      ],
      [
       2.220446049250313e-16,
       100
      ],
      [
       2.220446049250313e-16,
       0.9999999999999998
      ],
      [
       2.220446049250313e-16,
       10
      ],
      [
       2.220446049250313e-16,
       10
      ],
      [
       2.220446049250313e-16,
       0.9999999999999998
      ]
     ],
     [
      [
       2.220446049250313e-16,
       0.9999999999999998
      ],
      [
       2.220446049250313e-16,
       0.9999999999999998
      ],
      [
       2.220446049250313e-16,
       0.9999999999999998
      ],
      [
       2.220446049250313e-16,
       0.9999999999999998
      ],
      [
       2.220446049250313e-16,
       0.9999999999999998
      ],
      [
       2.220446049250313e-16,
       0.9999999999999998
      ],
      [
       2.220446049250313e-16,
       100
      ],
      [
       2.220446049250313e-16,
       100
      ],
      [
       2.220446049250313e-16,
       0.9999999999999998
      ],
      [
       2.220446049250313e-16,
       10
      ],
      [
       2.220446049250313e-16,
       10
      ],
      [
       2.220446049250313e-16,
       0.9999999999999998
      ]
     ],
     [
      [
       2.220446049250313e-16,
       0.9999999999999998
      ],
      [
       2.220446049250313e-16,
       0.9999999999999998
      ],
      [
       2.220446049250313e-16,
       0.9999999999999998
      ],
      [
       2.220446049250313e-16,
       0.9999999999999998
      ],
      [
       2.220446049250313e-16,
       0.9999999999999998
      ],
      [
       2.220446049250313e-16,
       0.9999999999999998
      ],
      [
       2.220446049250313e-16,
       100
      ],
      [
       2.220446049250313e-16,
       100
      ],
      [
       2.220446049250313e-16,
       0.9999999999999998
      ],
      [
       2.220446049250313e-16,
       10
      ],
      [
       2.220446049250313e-16,
       10
      ],
      [
       2.220446049250313e-16,
       0.9999999999999998
      ]
     ]
    ],
    "data_path": "data/HowardKahana2005.csv",
    "fixed_parameters": [
     {},
     {
      "context_sensitivity": 1,
      "feature_sensitivity": 1,
      "learn_first": false
     },
     {
      "context_sensitivity": 1,
      "feature_sensitivity": 1,
      "learn_first": true
     },
     {
      "choice_sensitivity": 1,
      "feature_sensitivity": 1,
      "learn_first": false
     },
     {
      "choice_sensitivity": 1,
      "feature_sensitivity": 1,
      "learn_first": true
     }
    ],
    "free_parameters": [
     [
      "encoding_drift_rate",
      "start_drift_rate",
      "recall_drift_rate",
      "shared_support",
      "item_support",
      "learning_rate",
      "primacy_scale",
      "primacy_decay",
      "stop_probability_scale",
      "stop_probability_growth",
      "choice_sensitivity",
      "delay_drift_rate"
     ],
     [
      "encoding_drift_rate",
      "start_drift_rate",
      "recall_drift_rate",
      "shared_support",
      "item_support",
      "learning_rate",
      "primacy_scale",
      "primacy_decay",
      "stop_probability_scale",
      "stop_probability_growth",
      "choice_sensitivity",
      "delay_drift_rate"
     ],
     [
      "encoding_drift_rate",
      "start_drift_rate",
      "recall_drift_rate",
      "shared_support",
      "item_support",
      "learning_rate",
      "primacy_scale",
      "primacy_decay",
      "stop_probability_scale",
      "stop_probability_growth",
      "choice_sensitivity",
      "delay_drift_rate"
     ],
     [
      "encoding_drift_rate",
      "start_drift_rate",
      "recall_drift_rate",
      "shared_support",
      "item_support",
      "learning_rate",
      "primacy_scale",
      "primacy_decay",
      "stop_probability_scale",
      "stop_probability_growth",
      "context_sensitivity",
      "delay_drift_rate"
     ],
     [
      "encoding_drift_rate",
      "start_drift_rate",
      "recall_drift_rate",
      "shared_support",
      "item_support",
      "learning_rate",
      "primacy_scale",
      "primacy_decay",
      "stop_probability_scale",
      "stop_probability_growth",
      "context_sensitivity",
      "delay_drift_rate"
     ]
    ],
    "model_names": [
     "PrototypeCMR",
     "ICMR_2_0_0",
     "ICMR_2_0_1",
     "ICMR_2_1_0",
     "ICMR_2_1_1"
    ],
    "model_paths": [
     "compmemlearn.models.Base_CMR",
     "compmemlearn.models.Dual_ICMR",
     "compmemlearn.models.Dual_ICMR",
     "compmemlearn.models.Dual_ICMR",
     "compmemlearn.models.Dual_ICMR"
    ],
    "section_tag": "HowardKahana2005Cond2",
    "trial_query": "condition == 2"
   },
   "start_time": "2022-06-03T19:15:25.714881",
   "version": "2.3.4"
  }
 },
 "nbformat": 4,
 "nbformat_minor": 5
}
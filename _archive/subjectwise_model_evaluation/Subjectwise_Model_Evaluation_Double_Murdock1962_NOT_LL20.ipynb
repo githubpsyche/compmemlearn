{
 "cells": [
  {
   "cell_type": "code",
   "execution_count": 1,
   "id": "2c4ee8dc",
   "metadata": {
    "execution": {
     "iopub.execute_input": "2022-06-03T19:17:03.012784Z",
     "iopub.status.busy": "2022-06-03T19:17:03.011737Z",
     "iopub.status.idle": "2022-06-03T19:19:03.355344Z",
     "shell.execute_reply": "2022-06-03T19:19:03.353920Z"
    },
    "papermill": {
     "duration": 120.388353,
     "end_time": "2022-06-03T19:19:03.359528",
     "exception": false,
     "start_time": "2022-06-03T19:17:02.971175",
     "status": "completed"
    },
    "tags": [
     "parameters"
    ]
   },
   "outputs": [],
   "source": [
    "# | code-summary: code -- load dependencies and data and select parameters\n",
    "\n",
    "from compmemlearn.fitting import generate_objective_function\n",
    "from compmemlearn.datasets import events_metadata, generate_trial_mask\n",
    "from scipy.optimize import differential_evolution\n",
    "from numba.typed import List, Dict\n",
    "from numba.core import types\n",
    "from numba import njit\n",
    "from psifr import fr\n",
    "import pandas as pd\n",
    "import numpy as np\n",
    "import seaborn as sns\n",
    "import matplotlib.pyplot as plt\n",
    "import importlib\n",
    "import os\n",
    "\n",
    "lb = np.finfo(float).eps\n",
    "ub = 1 - np.finfo(float).eps\n",
    "\n",
    "figure_caption = \"\"\"Distribution of log-likelihood scores of recall sequences exhibited by each subject in dataset under each considered model.\"\"\"\n",
    "\n",
    "section_tag = \"LohnasKahanaCond4\"\n",
    "\n",
    "data_path = \"../data/LohnasKahana2014.csv\"\n",
    "results_path = \"results/\"\n",
    "trial_query = \"condition == 4\"\n",
    "\n",
    "model_paths = [\n",
    "    \"compmemlearn.models.Base_CMR\",\n",
    "    \"compmemlearn.models.Dual_ICMR\",\n",
    "    \"compmemlearn.models.Dual_ICMR\",\n",
    "    \"compmemlearn.models.Dual_ICMR\",\n",
    "    \"compmemlearn.models.Dual_ICMR\",\n",
    "]\n",
    "\n",
    "model_names = [\"PrototypeCMR\", \"ICMR_2_0_0\", \"ICMR_2_0_1\", \"ICMR_2_1_0\", \"ICMR_2_1_1\"]\n",
    "\n",
    "free_parameters = [\n",
    "    [\n",
    "        \"encoding_drift_rate\",\n",
    "        \"start_drift_rate\",\n",
    "        \"recall_drift_rate\",\n",
    "        \"shared_support\",\n",
    "        \"item_support\",\n",
    "        \"learning_rate\",\n",
    "        \"primacy_scale\",\n",
    "        \"primacy_decay\",\n",
    "        \"stop_probability_scale\",\n",
    "        \"stop_probability_growth\",\n",
    "        \"choice_sensitivity\",\n",
    "        \"delay_drift_rate\",\n",
    "    ],\n",
    "    [\n",
    "        \"encoding_drift_rate\",\n",
    "        \"start_drift_rate\",\n",
    "        \"recall_drift_rate\",\n",
    "        \"shared_support\",\n",
    "        \"item_support\",\n",
    "        \"learning_rate\",\n",
    "        \"primacy_scale\",\n",
    "        \"primacy_decay\",\n",
    "        \"stop_probability_scale\",\n",
    "        \"stop_probability_growth\",\n",
    "        \"choice_sensitivity\",\n",
    "        \"delay_drift_rate\",\n",
    "    ],\n",
    "    [\n",
    "        \"encoding_drift_rate\",\n",
    "        \"start_drift_rate\",\n",
    "        \"recall_drift_rate\",\n",
    "        \"shared_support\",\n",
    "        \"item_support\",\n",
    "        \"learning_rate\",\n",
    "        \"primacy_scale\",\n",
    "        \"primacy_decay\",\n",
    "        \"stop_probability_scale\",\n",
    "        \"stop_probability_growth\",\n",
    "        \"choice_sensitivity\",\n",
    "        \"delay_drift_rate\",\n",
    "    ],\n",
    "    [\n",
    "        \"encoding_drift_rate\",\n",
    "        \"start_drift_rate\",\n",
    "        \"recall_drift_rate\",\n",
    "        \"shared_support\",\n",
    "        \"item_support\",\n",
    "        \"learning_rate\",\n",
    "        \"primacy_scale\",\n",
    "        \"primacy_decay\",\n",
    "        \"stop_probability_scale\",\n",
    "        \"stop_probability_growth\",\n",
    "        \"context_sensitivity\",\n",
    "        \"delay_drift_rate\",\n",
    "    ],\n",
    "    [\n",
    "        \"encoding_drift_rate\",\n",
    "        \"start_drift_rate\",\n",
    "        \"recall_drift_rate\",\n",
    "        \"shared_support\",\n",
    "        \"item_support\",\n",
    "        \"learning_rate\",\n",
    "        \"primacy_scale\",\n",
    "        \"primacy_decay\",\n",
    "        \"stop_probability_scale\",\n",
    "        \"stop_probability_growth\",\n",
    "        \"context_sensitivity\",\n",
    "        \"delay_drift_rate\",\n",
    "    ],\n",
    "]\n",
    "bounds = [\n",
    "    [\n",
    "        [2.220446049250313e-16, 0.9999999999999998],\n",
    "        [2.220446049250313e-16, 0.9999999999999998],\n",
    "        [2.220446049250313e-16, 0.9999999999999998],\n",
    "        [2.220446049250313e-16, 0.9999999999999998],\n",
    "        [2.220446049250313e-16, 0.9999999999999998],\n",
    "        [2.220446049250313e-16, 0.9999999999999998],\n",
    "        [2.220446049250313e-16, 100],\n",
    "        [2.220446049250313e-16, 100],\n",
    "        [2.220446049250313e-16, 0.9999999999999998],\n",
    "        [2.220446049250313e-16, 10],\n",
    "        [2.220446049250313e-16, 10],\n",
    "        [2.220446049250313e-16, 0.9999999999999998],\n",
    "    ],\n",
    "    [\n",
    "        [2.220446049250313e-16, 0.9999999999999998],\n",
    "        [2.220446049250313e-16, 0.9999999999999998],\n",
    "        [2.220446049250313e-16, 0.9999999999999998],\n",
    "        [2.220446049250313e-16, 0.9999999999999998],\n",
    "        [2.220446049250313e-16, 0.9999999999999998],\n",
    "        [2.220446049250313e-16, 0.9999999999999998],\n",
    "        [2.220446049250313e-16, 100],\n",
    "        [2.220446049250313e-16, 100],\n",
    "        [2.220446049250313e-16, 0.9999999999999998],\n",
    "        [2.220446049250313e-16, 10],\n",
    "        [2.220446049250313e-16, 10],\n",
    "        [2.220446049250313e-16, 0.9999999999999998],\n",
    "    ],\n",
    "    [\n",
    "        [2.220446049250313e-16, 0.9999999999999998],\n",
    "        [2.220446049250313e-16, 0.9999999999999998],\n",
    "        [2.220446049250313e-16, 0.9999999999999998],\n",
    "        [2.220446049250313e-16, 0.9999999999999998],\n",
    "        [2.220446049250313e-16, 0.9999999999999998],\n",
    "        [2.220446049250313e-16, 0.9999999999999998],\n",
    "        [2.220446049250313e-16, 100],\n",
    "        [2.220446049250313e-16, 100],\n",
    "        [2.220446049250313e-16, 0.9999999999999998],\n",
    "        [2.220446049250313e-16, 10],\n",
    "        [2.220446049250313e-16, 10],\n",
    "        [2.220446049250313e-16, 0.9999999999999998],\n",
    "    ],\n",
    "    [\n",
    "        [2.220446049250313e-16, 0.9999999999999998],\n",
    "        [2.220446049250313e-16, 0.9999999999999998],\n",
    "        [2.220446049250313e-16, 0.9999999999999998],\n",
    "        [2.220446049250313e-16, 0.9999999999999998],\n",
    "        [2.220446049250313e-16, 0.9999999999999998],\n",
    "        [2.220446049250313e-16, 0.9999999999999998],\n",
    "        [2.220446049250313e-16, 100],\n",
    "        [2.220446049250313e-16, 100],\n",
    "        [2.220446049250313e-16, 0.9999999999999998],\n",
    "        [2.220446049250313e-16, 10],\n",
    "        [2.220446049250313e-16, 10],\n",
    "        [2.220446049250313e-16, 0.9999999999999998],\n",
    "    ],\n",
    "    [\n",
    "        [2.220446049250313e-16, 0.9999999999999998],\n",
    "        [2.220446049250313e-16, 0.9999999999999998],\n",
    "        [2.220446049250313e-16, 0.9999999999999998],\n",
    "        [2.220446049250313e-16, 0.9999999999999998],\n",
    "        [2.220446049250313e-16, 0.9999999999999998],\n",
    "        [2.220446049250313e-16, 0.9999999999999998],\n",
    "        [2.220446049250313e-16, 100],\n",
    "        [2.220446049250313e-16, 100],\n",
    "        [2.220446049250313e-16, 0.9999999999999998],\n",
    "        [2.220446049250313e-16, 10],\n",
    "        [2.220446049250313e-16, 10],\n",
    "        [2.220446049250313e-16, 0.9999999999999998],\n",
    "    ],\n",
    "]\n",
    "fixed_parameters = [\n",
    "    {},\n",
    "    {\"feature_sensitivity\": 1, \"context_sensitivity\": 1, \"learn_first\": False},\n",
    "    {\"feature_sensitivity\": 1, \"context_sensitivity\": 1, \"learn_first\": True},\n",
    "    {\"feature_sensitivity\": 1, \"choice_sensitivity\": 1, \"learn_first\": False},\n",
    "    {\"feature_sensitivity\": 1, \"choice_sensitivity\": 1, \"learn_first\": True},\n",
    "]\n",
    "\n",
    "analysis_paths = ['compmemlearn.analyses.plot_spc', 'compmemlearn.analyses.plot_crp', 'compmemlearn.analyses.plot_pfr']\n",
    "analysis_names = ['spc', 'crp', 'pfr']\n",
    "\n",
    "experiment_count = 1"
   ]
  },
  {
   "cell_type": "code",
   "execution_count": 2,
   "id": "086341c3",
   "metadata": {
    "execution": {
     "iopub.execute_input": "2022-06-03T19:19:03.433495Z",
     "iopub.status.busy": "2022-06-03T19:19:03.432872Z",
     "iopub.status.idle": "2022-06-03T19:19:03.466841Z",
     "shell.execute_reply": "2022-06-03T19:19:03.465818Z"
    },
    "papermill": {
     "duration": 0.064832,
     "end_time": "2022-06-03T19:19:03.470098",
     "exception": false,
     "start_time": "2022-06-03T19:19:03.405266",
     "status": "completed"
    },
    "tags": [
     "injected-parameters"
    ]
   },
   "outputs": [],
   "source": [
    "# Parameters\n",
    "data_path = \"data/Murdock1962.csv\"\n",
    "trial_query = \"`list length` != 20\"\n",
    "model_paths = [\n",
    "    \"compmemlearn.models.Base_CMR\",\n",
    "    \"compmemlearn.models.Dual_ICMR\",\n",
    "    \"compmemlearn.models.Dual_ICMR\",\n",
    "    \"compmemlearn.models.Dual_ICMR\",\n",
    "    \"compmemlearn.models.Dual_ICMR\",\n",
    "]\n",
    "model_names = [\"PrototypeCMR\", \"ICMR_2_0_0\", \"ICMR_2_0_1\", \"ICMR_2_1_0\", \"ICMR_2_1_1\"]\n",
    "free_parameters = [\n",
    "    [\n",
    "        \"encoding_drift_rate\",\n",
    "        \"start_drift_rate\",\n",
    "        \"recall_drift_rate\",\n",
    "        \"shared_support\",\n",
    "        \"item_support\",\n",
    "        \"learning_rate\",\n",
    "        \"primacy_scale\",\n",
    "        \"primacy_decay\",\n",
    "        \"stop_probability_scale\",\n",
    "        \"stop_probability_growth\",\n",
    "        \"choice_sensitivity\",\n",
    "        \"delay_drift_rate\",\n",
    "    ],\n",
    "    [\n",
    "        \"encoding_drift_rate\",\n",
    "        \"start_drift_rate\",\n",
    "        \"recall_drift_rate\",\n",
    "        \"shared_support\",\n",
    "        \"item_support\",\n",
    "        \"learning_rate\",\n",
    "        \"primacy_scale\",\n",
    "        \"primacy_decay\",\n",
    "        \"stop_probability_scale\",\n",
    "        \"stop_probability_growth\",\n",
    "        \"choice_sensitivity\",\n",
    "        \"delay_drift_rate\",\n",
    "    ],\n",
    "    [\n",
    "        \"encoding_drift_rate\",\n",
    "        \"start_drift_rate\",\n",
    "        \"recall_drift_rate\",\n",
    "        \"shared_support\",\n",
    "        \"item_support\",\n",
    "        \"learning_rate\",\n",
    "        \"primacy_scale\",\n",
    "        \"primacy_decay\",\n",
    "        \"stop_probability_scale\",\n",
    "        \"stop_probability_growth\",\n",
    "        \"choice_sensitivity\",\n",
    "        \"delay_drift_rate\",\n",
    "    ],\n",
    "    [\n",
    "        \"encoding_drift_rate\",\n",
    "        \"start_drift_rate\",\n",
    "        \"recall_drift_rate\",\n",
    "        \"shared_support\",\n",
    "        \"item_support\",\n",
    "        \"learning_rate\",\n",
    "        \"primacy_scale\",\n",
    "        \"primacy_decay\",\n",
    "        \"stop_probability_scale\",\n",
    "        \"stop_probability_growth\",\n",
    "        \"context_sensitivity\",\n",
    "        \"delay_drift_rate\",\n",
    "    ],\n",
    "    [\n",
    "        \"encoding_drift_rate\",\n",
    "        \"start_drift_rate\",\n",
    "        \"recall_drift_rate\",\n",
    "        \"shared_support\",\n",
    "        \"item_support\",\n",
    "        \"learning_rate\",\n",
    "        \"primacy_scale\",\n",
    "        \"primacy_decay\",\n",
    "        \"stop_probability_scale\",\n",
    "        \"stop_probability_growth\",\n",
    "        \"context_sensitivity\",\n",
    "        \"delay_drift_rate\",\n",
    "    ],\n",
    "]\n",
    "bounds = [\n",
    "    [\n",
    "        [2.220446049250313e-16, 0.9999999999999998],\n",
    "        [2.220446049250313e-16, 0.9999999999999998],\n",
    "        [2.220446049250313e-16, 0.9999999999999998],\n",
    "        [2.220446049250313e-16, 0.9999999999999998],\n",
    "        [2.220446049250313e-16, 0.9999999999999998],\n",
    "        [2.220446049250313e-16, 0.9999999999999998],\n",
    "        [2.220446049250313e-16, 100],\n",
    "        [2.220446049250313e-16, 100],\n",
    "        [2.220446049250313e-16, 0.9999999999999998],\n",
    "        [2.220446049250313e-16, 10],\n",
    "        [2.220446049250313e-16, 10],\n",
    "        [2.220446049250313e-16, 0.9999999999999998],\n",
    "    ],\n",
    "    [\n",
    "        [2.220446049250313e-16, 0.9999999999999998],\n",
    "        [2.220446049250313e-16, 0.9999999999999998],\n",
    "        [2.220446049250313e-16, 0.9999999999999998],\n",
    "        [2.220446049250313e-16, 0.9999999999999998],\n",
    "        [2.220446049250313e-16, 0.9999999999999998],\n",
    "        [2.220446049250313e-16, 0.9999999999999998],\n",
    "        [2.220446049250313e-16, 100],\n",
    "        [2.220446049250313e-16, 100],\n",
    "        [2.220446049250313e-16, 0.9999999999999998],\n",
    "        [2.220446049250313e-16, 10],\n",
    "        [2.220446049250313e-16, 10],\n",
    "        [2.220446049250313e-16, 0.9999999999999998],\n",
    "    ],\n",
    "    [\n",
    "        [2.220446049250313e-16, 0.9999999999999998],\n",
    "        [2.220446049250313e-16, 0.9999999999999998],\n",
    "        [2.220446049250313e-16, 0.9999999999999998],\n",
    "        [2.220446049250313e-16, 0.9999999999999998],\n",
    "        [2.220446049250313e-16, 0.9999999999999998],\n",
    "        [2.220446049250313e-16, 0.9999999999999998],\n",
    "        [2.220446049250313e-16, 100],\n",
    "        [2.220446049250313e-16, 100],\n",
    "        [2.220446049250313e-16, 0.9999999999999998],\n",
    "        [2.220446049250313e-16, 10],\n",
    "        [2.220446049250313e-16, 10],\n",
    "        [2.220446049250313e-16, 0.9999999999999998],\n",
    "    ],\n",
    "    [\n",
    "        [2.220446049250313e-16, 0.9999999999999998],\n",
    "        [2.220446049250313e-16, 0.9999999999999998],\n",
    "        [2.220446049250313e-16, 0.9999999999999998],\n",
    "        [2.220446049250313e-16, 0.9999999999999998],\n",
    "        [2.220446049250313e-16, 0.9999999999999998],\n",
    "        [2.220446049250313e-16, 0.9999999999999998],\n",
    "        [2.220446049250313e-16, 100],\n",
    "        [2.220446049250313e-16, 100],\n",
    "        [2.220446049250313e-16, 0.9999999999999998],\n",
    "        [2.220446049250313e-16, 10],\n",
    "        [2.220446049250313e-16, 10],\n",
    "        [2.220446049250313e-16, 0.9999999999999998],\n",
    "    ],\n",
    "    [\n",
    "        [2.220446049250313e-16, 0.9999999999999998],\n",
    "        [2.220446049250313e-16, 0.9999999999999998],\n",
    "        [2.220446049250313e-16, 0.9999999999999998],\n",
    "        [2.220446049250313e-16, 0.9999999999999998],\n",
    "        [2.220446049250313e-16, 0.9999999999999998],\n",
    "        [2.220446049250313e-16, 0.9999999999999998],\n",
    "        [2.220446049250313e-16, 100],\n",
    "        [2.220446049250313e-16, 100],\n",
    "        [2.220446049250313e-16, 0.9999999999999998],\n",
    "        [2.220446049250313e-16, 10],\n",
    "        [2.220446049250313e-16, 10],\n",
    "        [2.220446049250313e-16, 0.9999999999999998],\n",
    "    ],\n",
    "]\n",
    "fixed_parameters = [\n",
    "    {},\n",
    "    {\"feature_sensitivity\": 1, \"context_sensitivity\": 1, \"learn_first\": False},\n",
    "    {\"feature_sensitivity\": 1, \"context_sensitivity\": 1, \"learn_first\": True},\n",
    "    {\"feature_sensitivity\": 1, \"choice_sensitivity\": 1, \"learn_first\": False},\n",
    "    {\"feature_sensitivity\": 1, \"choice_sensitivity\": 1, \"learn_first\": True},\n",
    "]\n",
    "section_tag = \"Murdock1962_NOT_LL20\"\n"
   ]
  },
  {
   "cell_type": "code",
   "execution_count": 3,
   "id": "7d1391bf",
   "metadata": {
    "execution": {
     "iopub.execute_input": "2022-06-03T19:19:03.522921Z",
     "iopub.status.busy": "2022-06-03T19:19:03.522526Z",
     "iopub.status.idle": "2022-06-03T19:19:03.527834Z",
     "shell.execute_reply": "2022-06-03T19:19:03.527164Z"
    },
    "papermill": {
     "duration": 0.0327,
     "end_time": "2022-06-03T19:19:03.530087",
     "exception": false,
     "start_time": "2022-06-03T19:19:03.497387",
     "status": "completed"
    },
    "tags": []
   },
   "outputs": [],
   "source": [
    "if 'Howard' in section_tag or ('Lohnas' in section_tag and '1' not in section_tag):\n",
    "    analysis_paths = ['compmemlearn.analyses.plot_flex_spc', 'compmemlearn.analyses.plot_flex_crp', 'compmemlearn.analyses.plot_flex_pfr', 'compmemlearn.analyses.plot_rpl']\n",
    "    analysis_names = ['spc', 'crp', 'pfr', 'rpl']"
   ]
  },
  {
   "cell_type": "code",
   "execution_count": 4,
   "id": "c771a748",
   "metadata": {
    "execution": {
     "iopub.execute_input": "2022-06-03T19:19:03.572434Z",
     "iopub.status.busy": "2022-06-03T19:19:03.571472Z",
     "iopub.status.idle": "2022-06-03T19:21:36.599516Z",
     "shell.execute_reply": "2022-06-03T19:21:36.598910Z"
    },
    "papermill": {
     "duration": 153.051383,
     "end_time": "2022-06-03T19:21:36.602565",
     "exception": false,
     "start_time": "2022-06-03T19:19:03.551182",
     "status": "completed"
    },
    "tags": []
   },
   "outputs": [
    {
     "name": "stdout",
     "output_type": "stream",
     "text": [
      "<function murdock_objective_function.<locals>.objective_function at 0x2af6b81089d0>\n"
     ]
    },
    {
     "name": "stdout",
     "output_type": "stream",
     "text": [
      "9475.030215986342\n",
      "14906.94041311001\n"
     ]
    },
    {
     "name": "stdout",
     "output_type": "stream",
     "text": [
      "<function murdock_objective_function.<locals>.objective_function at 0x2af6b998db80>\n"
     ]
    },
    {
     "name": "stdout",
     "output_type": "stream",
     "text": [
      "9475.030215986342\n",
      "14906.94041311001\n",
      "<function murdock_objective_function.<locals>.objective_function at 0x2af6ba0b2dc0>\n"
     ]
    },
    {
     "name": "stdout",
     "output_type": "stream",
     "text": [
      "9475.030215986342\n",
      "14906.94041311001\n",
      "<function murdock_objective_function.<locals>.objective_function at 0x2af6b8e06160>\n"
     ]
    },
    {
     "name": "stdout",
     "output_type": "stream",
     "text": [
      "9475.030215986342\n",
      "14906.94041311001\n",
      "<function murdock_objective_function.<locals>.objective_function at 0x2af6bb2fb670>\n"
     ]
    },
    {
     "name": "stdout",
     "output_type": "stream",
     "text": [
      "9475.030215986342\n",
      "14906.94041311001\n",
      "dependencies and parameters validated\n"
     ]
    }
   ],
   "source": [
    "#| code-summary: code -- test that specified parameters are valid\n",
    "#| output: false\n",
    "\n",
    "events = pd.read_csv(data_path)\n",
    "\n",
    "trials, list_lengths, presentations = events_metadata(events)\n",
    "trial_mask = generate_trial_mask(events, trial_query)\n",
    "\n",
    "# import models from specified source\n",
    "models = []\n",
    "for i in range(len(model_paths)):\n",
    "    module_name, model_name = model_paths[i].rsplit('.',1)\n",
    "    module = importlib.import_module(module_name)\n",
    "    models.append(getattr(module, model_name))\n",
    "\n",
    "# import analyses from specified source\n",
    "analyses = []\n",
    "for i in range(len(analysis_paths)):\n",
    "    module_name, analysis_name = analysis_paths[i].rsplit('.',1)\n",
    "    module = importlib.import_module(module_name)\n",
    "    analyses.append(getattr(module, analysis_name))\n",
    "\n",
    "# make sure model initializes with provided parameters and boundaries\n",
    "for model_index, model_class in enumerate(models):\n",
    "\n",
    "    @njit(fastmath=True, nogil=True)\n",
    "    def init_model(item_count, presentation_count, parameters):\n",
    "        return model_class(item_count, presentation_count, parameters)\n",
    "\n",
    "    subject_specific_trial_mask = np.logical_and(\n",
    "                generate_trial_mask(events, f'subject == {pd.unique(events.subject)[0]}'), trial_mask)\n",
    "\n",
    "    cost_function = generate_objective_function(\n",
    "        [trials[i][subject_specific_trial_mask[i]] for i in range(len(trials))],\n",
    "        [presentations[i][subject_specific_trial_mask[i]] for i in range(len(presentations))],\n",
    "        list_lengths,\n",
    "        init_model,\n",
    "        fixed_parameters[model_index],\n",
    "        free_parameters[model_index],\n",
    "    )\n",
    "    print(cost_function)\n",
    "    \n",
    "    for boundary_index in range(2):\n",
    "        x = np.array([each[boundary_index] for each in bounds[model_index]])\n",
    "        assert(len(x) == len(free_parameters[model_index])) \n",
    "\n",
    "        # parameter configuration\n",
    "        parameters = Dict.empty(key_type=types.unicode_type, value_type=types.float64)\n",
    "        for name, value in fixed_parameters[model_index].items():\n",
    "            parameters[name] = value\n",
    "        for i in range(len(free_parameters[model_index])):\n",
    "                parameters[free_parameters[model_index][i]] = x[i]\n",
    "\n",
    "        model = init_model(20, 20, parameters)\n",
    "        model.experience(model.items)\n",
    "        model.free_recall()\n",
    "\n",
    "        print(cost_function(x))\n",
    "\n",
    "print('dependencies and parameters validated')"
   ]
  },
  {
   "cell_type": "code",
   "execution_count": 5,
   "id": "c24d69ce",
   "metadata": {
    "execution": {
     "iopub.execute_input": "2022-06-03T19:21:36.660427Z",
     "iopub.status.busy": "2022-06-03T19:21:36.659969Z",
     "iopub.status.idle": "2022-06-03T19:21:36.753847Z",
     "shell.execute_reply": "2022-06-03T19:21:36.753099Z"
    },
    "papermill": {
     "duration": 0.121701,
     "end_time": "2022-06-03T19:21:36.757150",
     "exception": false,
     "start_time": "2022-06-03T19:21:36.635449",
     "status": "completed"
    },
    "tags": []
   },
   "outputs": [
    {
     "name": "stdout",
     "output_type": "stream",
     "text": [
      "individual fits for PrototypeCMR with tag Murdock1962_NOT_LL20 already exist\n",
      "individual fits for ICMR_2_0_0 with tag Murdock1962_NOT_LL20 already exist\n",
      "individual fits for ICMR_2_0_1 with tag Murdock1962_NOT_LL20 already exist\n",
      "individual fits for ICMR_2_1_0 with tag Murdock1962_NOT_LL20 already exist\n",
      "individual fits for ICMR_2_1_1 with tag Murdock1962_NOT_LL20 already exist\n"
     ]
    }
   ],
   "source": [
    "# | code-summary: code -- 1) fit each model class participant-by-participant\n",
    "# | output: false\n",
    "\n",
    "for model_index, model_class in enumerate(models):\n",
    "\n",
    "    # load individual fits for this model and section tag from csv if they exist\n",
    "    if os.path.isfile(results_path + '{}_{}_individual.csv'.format(section_tag, model_names[model_index])):\n",
    "        pd.read_csv(results_path + '{}_{}_individual.csv'.format(section_tag, model_names[model_index]))\n",
    "        print('individual fits for {} with tag {} already exist'.format(model_names[model_index], section_tag))\n",
    "\n",
    "    # otherwise, fit each participant individually\n",
    "    else:\n",
    "        model_individual_fits = []\n",
    "\n",
    "        @njit(fastmath=True, nogil=True)\n",
    "        def init_model(item_count, presentation_count, parameters):\n",
    "            return model_class(item_count, presentation_count, parameters)\n",
    "\n",
    "        for subject in pd.unique(events.subject):\n",
    "            print(f'{model_names[model_index]}, Subject {subject}')\n",
    "\n",
    "            subject_specific_trial_mask = np.logical_and(\n",
    "                generate_trial_mask(events, f'subject == {subject}'), trial_mask)\n",
    "            \n",
    "            try:\n",
    "                # cost function to be minimized\n",
    "                # ours scales inversely with the probability that the data could have been\n",
    "                # generated using the specified parameters and our model\n",
    "                cost_function = generate_objective_function(\n",
    "                    [trials[i][subject_specific_trial_mask[i]] for i in range(len(trials))],\n",
    "                    [presentations[i][subject_specific_trial_mask[i]] for i in range(len(presentations))],\n",
    "                    list_lengths,\n",
    "                    init_model,\n",
    "                    fixed_parameters[model_index],\n",
    "                    free_parameters[model_index],\n",
    "                )\n",
    "            except ValueError:\n",
    "                continue\n",
    "\n",
    "            fit_result =  differential_evolution(cost_function, bounds[model_index], disp=False)\n",
    "\n",
    "            fitted_parameters = {\n",
    "                'subject': subject, 'trial_count': np.sum(subject_specific_trial_mask), \n",
    "                'likelihood': fit_result.fun, 'model': model_names[model_index]\n",
    "                }\n",
    "            for i in range(len(fit_result.x)):\n",
    "                fitted_parameters[free_parameters[model_index][i]] = fit_result.x[i]\n",
    "            for key in fixed_parameters[model_index]:\n",
    "                fitted_parameters[key] = fixed_parameters[model_index][key]\n",
    "\n",
    "            model_individual_fits.append(pd.DataFrame.from_dict(fitted_parameters, orient='index').T)\n",
    "            print(model_individual_fits[-1]['likelihood'][0])\n",
    "\n",
    "        model_individual_fits = pd.concat(model_individual_fits, ignore_index=True)\n",
    "        model_individual_fits.to_csv(\n",
    "            results_path + '{}_{}_individual.csv'.format(section_tag, model_names[model_index]), index=False)"
   ]
  },
  {
   "cell_type": "code",
   "execution_count": 6,
   "id": "7064aaaf",
   "metadata": {
    "execution": {
     "iopub.execute_input": "2022-06-03T19:21:36.818028Z",
     "iopub.status.busy": "2022-06-03T19:21:36.817537Z",
     "iopub.status.idle": "2022-06-03T19:21:38.832197Z",
     "shell.execute_reply": "2022-06-03T19:21:38.831146Z"
    },
    "papermill": {
     "duration": 2.044782,
     "end_time": "2022-06-03T19:21:38.833903",
     "exception": false,
     "start_time": "2022-06-03T19:21:36.789121",
     "status": "completed"
    },
    "tags": []
   },
   "outputs": [
    {
     "data": {
      "text/plain": [
       "Text(-1.9305555555555483, 0.5, 'Individual Log-Likelihood')"
      ]
     },
     "execution_count": 6,
     "metadata": {},
     "output_type": "execute_result"
    },
    {
     "data": {
      "image/png": "[encoded data removed]",
      "text/plain": [
       "<Figure size 500x500 with 1 Axes>"
      ]
     },
     "metadata": {},
     "output_type": "display_data"
    }
   ],
   "source": [
    "#| code-summary: code -- 3) plot distribution of log-likelihoods across individual subjects\n",
    "\n",
    "plt.style.use('default')\n",
    "sns.set(style=\"darkgrid\")\n",
    "\n",
    "# build individual fits df concatenating results from each model\n",
    "individual_fits = []\n",
    "for model_index, model_class in enumerate(models):\n",
    "    individual_fits.append(\n",
    "        pd.read_csv(results_path + '{}_{}_individual.csv'.format(section_tag, model_names[model_index])))\n",
    "individual_fits = pd.concat(individual_fits, ignore_index=True)\n",
    "\n",
    "# plot distribution of log-likelihoods across individual subjects\n",
    "g = sns.catplot(x='model', y='likelihood', data=individual_fits, kind='violin', inner='stick')\n",
    "sns.swarmplot(x=\"model\", y=\"likelihood\", data=individual_fits, color=\"k\", size=3, ax=g.ax)\n",
    "g.ax.set_ylabel('Individual Log-Likelihood')\n",
    "#plt.savefig(results_path + 'individual_{}.pdf'.format(section_tag), bbox_inches=\"tight\")"
   ]
  },
  {
   "cell_type": "code",
   "execution_count": 7,
   "id": "b5f4812c",
   "metadata": {
    "execution": {
     "iopub.execute_input": "2022-06-03T19:21:38.873566Z",
     "iopub.status.busy": "2022-06-03T19:21:38.873058Z",
     "iopub.status.idle": "2022-06-03T19:21:38.948319Z",
     "shell.execute_reply": "2022-06-03T19:21:38.947130Z"
    },
    "papermill": {
     "duration": 0.09655,
     "end_time": "2022-06-03T19:21:38.951196",
     "exception": false,
     "start_time": "2022-06-03T19:21:38.854646",
     "status": "completed"
    },
    "tags": []
   },
   "outputs": [
    {
     "data": {
      "text/html": [
       "<div>\n",
       "<style scoped>\n",
       "    .dataframe tbody tr th:only-of-type {\n",
       "        vertical-align: middle;\n",
       "    }\n",
       "\n",
       "    .dataframe tbody tr th {\n",
       "        vertical-align: top;\n",
       "    }\n",
       "\n",
       "    .dataframe thead th {\n",
       "        text-align: right;\n",
       "    }\n",
       "</style>\n",
       "<table border=\"1\" class=\"dataframe\">\n",
       "  <thead>\n",
       "    <tr style=\"text-align: right;\">\n",
       "      <th></th>\n",
       "      <th>subject</th>\n",
       "      <th>trial_count</th>\n",
       "      <th>likelihood</th>\n",
       "      <th>model</th>\n",
       "      <th>encoding_drift_rate</th>\n",
       "      <th>start_drift_rate</th>\n",
       "      <th>recall_drift_rate</th>\n",
       "      <th>shared_support</th>\n",
       "      <th>item_support</th>\n",
       "      <th>learning_rate</th>\n",
       "      <th>primacy_scale</th>\n",
       "      <th>primacy_decay</th>\n",
       "      <th>stop_probability_scale</th>\n",
       "      <th>stop_probability_growth</th>\n",
       "      <th>choice_sensitivity</th>\n",
       "      <th>delay_drift_rate</th>\n",
       "      <th>feature_sensitivity</th>\n",
       "      <th>context_sensitivity</th>\n",
       "      <th>learn_first</th>\n",
       "    </tr>\n",
       "  </thead>\n",
       "  <tbody>\n",
       "    <tr>\n",
       "      <th>0</th>\n",
       "      <td>1</td>\n",
       "      <td>160</td>\n",
       "      <td>3031.022555</td>\n",
       "      <td>PrototypeCMR</td>\n",
       "      <td>0.674674</td>\n",
       "      <td>6.958903e-02</td>\n",
       "      <td>0.716534</td>\n",
       "      <td>0.123353</td>\n",
       "      <td>1.000000</td>\n",
       "      <td>0.183117</td>\n",
       "      <td>5.050809</td>\n",
       "      <td>30.562092</td>\n",
       "      <td>0.023536</td>\n",
       "      <td>0.333920</td>\n",
       "      <td>3.066932</td>\n",
       "      <td>5.286290e-10</td>\n",
       "      <td>NaN</td>\n",
       "      <td>NaN</td>\n",
       "      <td>NaN</td>\n",
       "    </tr>\n",
       "    <tr>\n",
       "      <th>1</th>\n",
       "      <td>2</td>\n",
       "      <td>160</td>\n",
       "      <td>4146.346282</td>\n",
       "      <td>PrototypeCMR</td>\n",
       "      <td>0.495483</td>\n",
       "      <td>3.788132e-03</td>\n",
       "      <td>0.815343</td>\n",
       "      <td>0.406046</td>\n",
       "      <td>0.861636</td>\n",
       "      <td>0.102929</td>\n",
       "      <td>4.572612</td>\n",
       "      <td>10.725792</td>\n",
       "      <td>0.008008</td>\n",
       "      <td>0.361873</td>\n",
       "      <td>7.400742</td>\n",
       "      <td>9.995899e-01</td>\n",
       "      <td>NaN</td>\n",
       "      <td>NaN</td>\n",
       "      <td>NaN</td>\n",
       "    </tr>\n",
       "    <tr>\n",
       "      <th>2</th>\n",
       "      <td>3</td>\n",
       "      <td>160</td>\n",
       "      <td>4036.485865</td>\n",
       "      <td>PrototypeCMR</td>\n",
       "      <td>0.718287</td>\n",
       "      <td>6.370036e-02</td>\n",
       "      <td>0.754120</td>\n",
       "      <td>0.136474</td>\n",
       "      <td>1.000000</td>\n",
       "      <td>0.130084</td>\n",
       "      <td>7.868780</td>\n",
       "      <td>7.431407</td>\n",
       "      <td>0.009972</td>\n",
       "      <td>0.348306</td>\n",
       "      <td>3.019701</td>\n",
       "      <td>3.658678e-03</td>\n",
       "      <td>NaN</td>\n",
       "      <td>NaN</td>\n",
       "      <td>NaN</td>\n",
       "    </tr>\n",
       "    <tr>\n",
       "      <th>3</th>\n",
       "      <td>4</td>\n",
       "      <td>160</td>\n",
       "      <td>3787.377798</td>\n",
       "      <td>PrototypeCMR</td>\n",
       "      <td>0.603496</td>\n",
       "      <td>1.080605e-03</td>\n",
       "      <td>0.869711</td>\n",
       "      <td>0.372367</td>\n",
       "      <td>0.960721</td>\n",
       "      <td>0.129742</td>\n",
       "      <td>4.992148</td>\n",
       "      <td>28.086493</td>\n",
       "      <td>0.024383</td>\n",
       "      <td>0.258183</td>\n",
       "      <td>5.534975</td>\n",
       "      <td>9.409758e-01</td>\n",
       "      <td>NaN</td>\n",
       "      <td>NaN</td>\n",
       "      <td>NaN</td>\n",
       "    </tr>\n",
       "    <tr>\n",
       "      <th>4</th>\n",
       "      <td>5</td>\n",
       "      <td>160</td>\n",
       "      <td>4272.908972</td>\n",
       "      <td>PrototypeCMR</td>\n",
       "      <td>0.701716</td>\n",
       "      <td>6.379364e-02</td>\n",
       "      <td>0.758005</td>\n",
       "      <td>0.111655</td>\n",
       "      <td>1.000000</td>\n",
       "      <td>0.189900</td>\n",
       "      <td>6.889114</td>\n",
       "      <td>10.600306</td>\n",
       "      <td>0.010919</td>\n",
       "      <td>0.319775</td>\n",
       "      <td>2.614713</td>\n",
       "      <td>4.445369e-01</td>\n",
       "      <td>NaN</td>\n",
       "      <td>NaN</td>\n",
       "      <td>NaN</td>\n",
       "    </tr>\n",
       "    <tr>\n",
       "      <th>...</th>\n",
       "      <td>...</td>\n",
       "      <td>...</td>\n",
       "      <td>...</td>\n",
       "      <td>...</td>\n",
       "      <td>...</td>\n",
       "      <td>...</td>\n",
       "      <td>...</td>\n",
       "      <td>...</td>\n",
       "      <td>...</td>\n",
       "      <td>...</td>\n",
       "      <td>...</td>\n",
       "      <td>...</td>\n",
       "      <td>...</td>\n",
       "      <td>...</td>\n",
       "      <td>...</td>\n",
       "      <td>...</td>\n",
       "      <td>...</td>\n",
       "      <td>...</td>\n",
       "      <td>...</td>\n",
       "    </tr>\n",
       "    <tr>\n",
       "      <th>70</th>\n",
       "      <td>11</td>\n",
       "      <td>160</td>\n",
       "      <td>3503.784689</td>\n",
       "      <td>ICMR_2_1_1</td>\n",
       "      <td>0.563879</td>\n",
       "      <td>2.220446e-16</td>\n",
       "      <td>0.752524</td>\n",
       "      <td>0.087438</td>\n",
       "      <td>0.916724</td>\n",
       "      <td>0.182910</td>\n",
       "      <td>11.811889</td>\n",
       "      <td>83.303559</td>\n",
       "      <td>0.020568</td>\n",
       "      <td>0.283070</td>\n",
       "      <td>1.000000</td>\n",
       "      <td>1.000000e+00</td>\n",
       "      <td>1.0</td>\n",
       "      <td>3.420566</td>\n",
       "      <td>True</td>\n",
       "    </tr>\n",
       "    <tr>\n",
       "      <th>71</th>\n",
       "      <td>12</td>\n",
       "      <td>160</td>\n",
       "      <td>3925.096886</td>\n",
       "      <td>ICMR_2_1_1</td>\n",
       "      <td>0.499278</td>\n",
       "      <td>3.687010e-03</td>\n",
       "      <td>0.650950</td>\n",
       "      <td>0.140276</td>\n",
       "      <td>1.000000</td>\n",
       "      <td>0.163768</td>\n",
       "      <td>1.980706</td>\n",
       "      <td>33.809974</td>\n",
       "      <td>0.012090</td>\n",
       "      <td>0.324469</td>\n",
       "      <td>1.000000</td>\n",
       "      <td>9.997554e-01</td>\n",
       "      <td>1.0</td>\n",
       "      <td>5.304698</td>\n",
       "      <td>True</td>\n",
       "    </tr>\n",
       "    <tr>\n",
       "      <th>72</th>\n",
       "      <td>13</td>\n",
       "      <td>160</td>\n",
       "      <td>4407.097035</td>\n",
       "      <td>ICMR_2_1_1</td>\n",
       "      <td>0.633364</td>\n",
       "      <td>2.220446e-16</td>\n",
       "      <td>0.802370</td>\n",
       "      <td>0.106786</td>\n",
       "      <td>0.892188</td>\n",
       "      <td>0.313166</td>\n",
       "      <td>0.539184</td>\n",
       "      <td>26.374306</td>\n",
       "      <td>0.008147</td>\n",
       "      <td>0.314040</td>\n",
       "      <td>1.000000</td>\n",
       "      <td>1.000000e+00</td>\n",
       "      <td>1.0</td>\n",
       "      <td>3.855513</td>\n",
       "      <td>True</td>\n",
       "    </tr>\n",
       "    <tr>\n",
       "      <th>73</th>\n",
       "      <td>14</td>\n",
       "      <td>160</td>\n",
       "      <td>4541.521229</td>\n",
       "      <td>ICMR_2_1_1</td>\n",
       "      <td>0.623312</td>\n",
       "      <td>4.142697e-03</td>\n",
       "      <td>0.714956</td>\n",
       "      <td>0.124189</td>\n",
       "      <td>1.000000</td>\n",
       "      <td>0.260440</td>\n",
       "      <td>51.401006</td>\n",
       "      <td>99.507965</td>\n",
       "      <td>0.006312</td>\n",
       "      <td>0.352066</td>\n",
       "      <td>1.000000</td>\n",
       "      <td>9.976343e-01</td>\n",
       "      <td>1.0</td>\n",
       "      <td>4.135218</td>\n",
       "      <td>True</td>\n",
       "    </tr>\n",
       "    <tr>\n",
       "      <th>74</th>\n",
       "      <td>15</td>\n",
       "      <td>160</td>\n",
       "      <td>4169.961498</td>\n",
       "      <td>ICMR_2_1_1</td>\n",
       "      <td>0.543438</td>\n",
       "      <td>4.764634e-02</td>\n",
       "      <td>0.633888</td>\n",
       "      <td>0.162583</td>\n",
       "      <td>1.000000</td>\n",
       "      <td>0.107776</td>\n",
       "      <td>5.509659</td>\n",
       "      <td>63.072424</td>\n",
       "      <td>0.010931</td>\n",
       "      <td>0.342138</td>\n",
       "      <td>1.000000</td>\n",
       "      <td>9.908712e-01</td>\n",
       "      <td>1.0</td>\n",
       "      <td>5.313822</td>\n",
       "      <td>True</td>\n",
       "    </tr>\n",
       "  </tbody>\n",
       "</table>\n",
       "<p>75 rows × 19 columns</p>\n",
       "</div>"
      ],
      "text/plain": [
       "    subject  trial_count   likelihood         model  encoding_drift_rate  \\\n",
       "0         1          160  3031.022555  PrototypeCMR             0.674674   \n",
       "1         2          160  4146.346282  PrototypeCMR             0.495483   \n",
       "2         3          160  4036.485865  PrototypeCMR             0.718287   \n",
       "3         4          160  3787.377798  PrototypeCMR             0.603496   \n",
       "4         5          160  4272.908972  PrototypeCMR             0.701716   \n",
       "..      ...          ...          ...           ...                  ...   \n",
       "70       11          160  3503.784689    ICMR_2_1_1             0.563879   \n",
       "71       12          160  3925.096886    ICMR_2_1_1             0.499278   \n",
       "72       13          160  4407.097035    ICMR_2_1_1             0.633364   \n",
       "73       14          160  4541.521229    ICMR_2_1_1             0.623312   \n",
       "74       15          160  4169.961498    ICMR_2_1_1             0.543438   \n",
       "\n",
       "    start_drift_rate  recall_drift_rate  shared_support  item_support  \\\n",
       "0       6.958903e-02           0.716534        0.123353      1.000000   \n",
       "1       3.788132e-03           0.815343        0.406046      0.861636   \n",
       "2       6.370036e-02           0.754120        0.136474      1.000000   \n",
       "3       1.080605e-03           0.869711        0.372367      0.960721   \n",
       "4       6.379364e-02           0.758005        0.111655      1.000000   \n",
       "..               ...                ...             ...           ...   \n",
       "70      2.220446e-16           0.752524        0.087438      0.916724   \n",
       "71      3.687010e-03           0.650950        0.140276      1.000000   \n",
       "72      2.220446e-16           0.802370        0.106786      0.892188   \n",
       "73      4.142697e-03           0.714956        0.124189      1.000000   \n",
       "74      4.764634e-02           0.633888        0.162583      1.000000   \n",
       "\n",
       "    learning_rate  primacy_scale  primacy_decay  stop_probability_scale  \\\n",
       "0        0.183117       5.050809      30.562092                0.023536   \n",
       "1        0.102929       4.572612      10.725792                0.008008   \n",
       "2        0.130084       7.868780       7.431407                0.009972   \n",
       "3        0.129742       4.992148      28.086493                0.024383   \n",
       "4        0.189900       6.889114      10.600306                0.010919   \n",
       "..            ...            ...            ...                     ...   \n",
       "70       0.182910      11.811889      83.303559                0.020568   \n",
       "71       0.163768       1.980706      33.809974                0.012090   \n",
       "72       0.313166       0.539184      26.374306                0.008147   \n",
       "73       0.260440      51.401006      99.507965                0.006312   \n",
       "74       0.107776       5.509659      63.072424                0.010931   \n",
       "\n",
       "    stop_probability_growth  choice_sensitivity  delay_drift_rate  \\\n",
       "0                  0.333920            3.066932      5.286290e-10   \n",
       "1                  0.361873            7.400742      9.995899e-01   \n",
       "2                  0.348306            3.019701      3.658678e-03   \n",
       "3                  0.258183            5.534975      9.409758e-01   \n",
       "4                  0.319775            2.614713      4.445369e-01   \n",
       "..                      ...                 ...               ...   \n",
       "70                 0.283070            1.000000      1.000000e+00   \n",
       "71                 0.324469            1.000000      9.997554e-01   \n",
       "72                 0.314040            1.000000      1.000000e+00   \n",
       "73                 0.352066            1.000000      9.976343e-01   \n",
       "74                 0.342138            1.000000      9.908712e-01   \n",
       "\n",
       "    feature_sensitivity  context_sensitivity learn_first  \n",
       "0                   NaN                  NaN         NaN  \n",
       "1                   NaN                  NaN         NaN  \n",
       "2                   NaN                  NaN         NaN  \n",
       "3                   NaN                  NaN         NaN  \n",
       "4                   NaN                  NaN         NaN  \n",
       "..                  ...                  ...         ...  \n",
       "70                  1.0             3.420566        True  \n",
       "71                  1.0             5.304698        True  \n",
       "72                  1.0             3.855513        True  \n",
       "73                  1.0             4.135218        True  \n",
       "74                  1.0             5.313822        True  \n",
       "\n",
       "[75 rows x 19 columns]"
      ]
     },
     "execution_count": 7,
     "metadata": {},
     "output_type": "execute_result"
    }
   ],
   "source": [
    "individual_fits"
   ]
  },
  {
   "cell_type": "code",
   "execution_count": 8,
   "id": "e473d285",
   "metadata": {
    "execution": {
     "iopub.execute_input": "2022-06-03T19:21:39.009506Z",
     "iopub.status.busy": "2022-06-03T19:21:39.008956Z",
     "iopub.status.idle": "2022-06-03T19:21:39.080200Z",
     "shell.execute_reply": "2022-06-03T19:21:39.079054Z"
    },
    "papermill": {
     "duration": 0.101522,
     "end_time": "2022-06-03T19:21:39.082690",
     "exception": false,
     "start_time": "2022-06-03T19:21:38.981168",
     "status": "completed"
    },
    "tags": []
   },
   "outputs": [
    {
     "name": "stdout",
     "output_type": "stream",
     "text": [
      "::: {#fig-Murdock1962_NOT_LL20fits layout-nrow=2 layout-valign=\"center\"}\n",
      "\n",
      "![](results/individual_Murdock1962_NOT_LL20.pdf)\n",
      "\n",
      "|       |   ICMR_2_0_0 |   ICMR_2_0_1 |   ICMR_2_1_0 |   ICMR_2_1_1 |   PrototypeCMR |\n",
      "|:------|-------------:|-------------:|-------------:|-------------:|---------------:|\n",
      "| count |       15     |       15     |       15     |       15     |         15     |\n",
      "| mean  |     3868.7   |     3868.92  |     3859.03  |     3844.64  |       3858.08  |\n",
      "| std   |      491.129 |      493.239 |      498.244 |      488.463 |        490.969 |\n",
      "| min   |     2970.85  |     2964.12  |     2955.17  |     2955.23  |       2960.3   |\n",
      "| 25%   |     3612.77  |     3609.99  |     3590.49  |     3592.88  |       3603.76  |\n",
      "| 50%   |     3968.38  |     3961.39  |     3965.1   |     3925.1   |       3951.91  |\n",
      "| 75%   |     4209     |     4220.22  |     4171.54  |     4176.93  |       4190.64  |\n",
      "| max   |     4576.65  |     4578.56  |     4690.73  |     4541.52  |       4565.39  |\n",
      "\n",
      "Distribution of log-likelihood scores of recall sequences exhibited by each subject in dataset under each considered model.\n",
      ":::\n"
     ]
    }
   ],
   "source": [
    "#| code-summary: display markdown rendering of summary table\n",
    "#| echo: false\n",
    "#| input: false\n",
    "#| output: asis\n",
    "\n",
    "summary_table = pd.DataFrame(group.describe().rename(columns={'likelihood':name}).squeeze()\n",
    "            for name, group in individual_fits[['model', 'likelihood']].groupby('model')).T.to_markdown()\n",
    "\n",
    "print(\"\"\"::: {{#fig-{section_tag}fits layout-nrow=2 layout-valign=\"center\"}}\n",
    "\n",
    "![]({results_path}individual_{section_tag}.pdf)\n",
    "\n",
    "{summary_table}\n",
    "\n",
    "{individual_fits_caption}\n",
    ":::\"\"\".format(section_tag=section_tag, summary_table=summary_table, individual_fits_caption=figure_caption, results_path=results_path))"
   ]
  },
  {
   "cell_type": "code",
   "execution_count": 9,
   "id": "9bce49d1",
   "metadata": {
    "execution": {
     "iopub.execute_input": "2022-06-03T19:21:39.140979Z",
     "iopub.status.busy": "2022-06-03T19:21:39.140491Z",
     "iopub.status.idle": "2022-06-03T19:21:39.196896Z",
     "shell.execute_reply": "2022-06-03T19:21:39.196190Z"
    },
    "papermill": {
     "duration": 0.085831,
     "end_time": "2022-06-03T19:21:39.198409",
     "exception": false,
     "start_time": "2022-06-03T19:21:39.112578",
     "status": "completed"
    },
    "tags": []
   },
   "outputs": [
    {
     "name": "stdout",
     "output_type": "stream",
     "text": [
      "('PrototypeCMR', 'ICMR_2_0_0')\n",
      "Ttest_relResult(statistic=-6.9076720041899184, pvalue=7.2350491812751576e-06)\n",
      "Ttest_relResult(statistic=-6.9076720041899184, pvalue=3.6175245906375788e-06)\n",
      "Ttest_relResult(statistic=-6.9076720041899184, pvalue=0.9999963824754093)\n",
      "\n",
      "('PrototypeCMR', 'ICMR_2_0_1')\n",
      "Ttest_relResult(statistic=-4.051690508117404, pvalue=0.001189312009685688)\n",
      "Ttest_relResult(statistic=-4.051690508117404, pvalue=0.000594656004842844)\n",
      "Ttest_relResult(statistic=-4.051690508117404, pvalue=0.9994053439951571)\n",
      "\n",
      "('PrototypeCMR', 'ICMR_2_1_0')\n",
      "Ttest_relResult(statistic=-0.08899251708796756, pvalue=0.9303483981158727)\n",
      "Ttest_relResult(statistic=-0.08899251708796756, pvalue=0.46517419905793633)\n",
      "Ttest_relResult(statistic=-0.08899251708796756, pvalue=0.5348258009420637)\n",
      "\n",
      "('PrototypeCMR', 'ICMR_2_1_1')\n",
      "Ttest_relResult(statistic=3.0467311641057564, pvalue=0.00870608721536206)\n",
      "Ttest_relResult(statistic=3.0467311641057564, pvalue=0.995646956392319)\n",
      "Ttest_relResult(statistic=3.0467311641057564, pvalue=0.00435304360768103)\n",
      "\n",
      "('ICMR_2_0_0', 'ICMR_2_0_1')\n",
      "Ttest_relResult(statistic=-0.1142567926920097, pvalue=0.9106566580852)\n",
      "Ttest_relResult(statistic=-0.1142567926920097, pvalue=0.4553283290426)\n",
      "Ttest_relResult(statistic=-0.1142567926920097, pvalue=0.5446716709574)\n",
      "\n",
      "('ICMR_2_0_0', 'ICMR_2_1_0')\n",
      "Ttest_relResult(statistic=0.873126129141435, pvalue=0.39732339308283293)\n",
      "Ttest_relResult(statistic=0.873126129141435, pvalue=0.8013383034585835)\n",
      "Ttest_relResult(statistic=0.873126129141435, pvalue=0.19866169654141647)\n",
      "\n",
      "('ICMR_2_0_0', 'ICMR_2_1_1')\n",
      "Ttest_relResult(statistic=4.571195263049864, pvalue=0.0004357225644765417)\n",
      "Ttest_relResult(statistic=4.571195263049864, pvalue=0.9997821387177617)\n",
      "Ttest_relResult(statistic=4.571195263049864, pvalue=0.00021786128223827086)\n",
      "\n",
      "('ICMR_2_0_1', 'ICMR_2_1_0')\n",
      "Ttest_relResult(statistic=0.8598713503594152, pvalue=0.40434444902028943)\n",
      "Ttest_relResult(statistic=0.8598713503594152, pvalue=0.7978277754898553)\n",
      "Ttest_relResult(statistic=0.8598713503594152, pvalue=0.20217222451014472)\n",
      "\n",
      "('ICMR_2_0_1', 'ICMR_2_1_1')\n",
      "Ttest_relResult(statistic=4.163435507529548, pvalue=0.0009562099956554203)\n",
      "Ttest_relResult(statistic=4.163435507529548, pvalue=0.9995218950021723)\n",
      "Ttest_relResult(statistic=4.163435507529548, pvalue=0.00047810499782771014)\n",
      "\n",
      "('ICMR_2_1_0', 'ICMR_2_1_1')\n",
      "Ttest_relResult(statistic=1.3443582039269226, pvalue=0.20021184214852844)\n",
      "Ttest_relResult(statistic=1.3443582039269226, pvalue=0.8998940789257358)\n",
      "Ttest_relResult(statistic=1.3443582039269226, pvalue=0.10010592107426422)\n",
      "\n"
     ]
    }
   ],
   "source": [
    "#| code-summary: perform t-tests on individual-level fits\n",
    "#| output: false\n",
    " \n",
    "from scipy.stats import ttest_rel\n",
    "import itertools\n",
    "\n",
    "for combination in itertools.combinations(pd.unique(individual_fits.model), 2):\n",
    "\n",
    "    print(combination)\n",
    "    print(ttest_rel(individual_fits[individual_fits.model == combination[0]].likelihood, individual_fits[individual_fits.model == combination[1]].likelihood, alternative='two-sided'))\n",
    "    print(ttest_rel(individual_fits[individual_fits.model == combination[0]].likelihood, individual_fits[individual_fits.model == combination[1]].likelihood, alternative='less'))\n",
    "    print(ttest_rel(individual_fits[individual_fits.model == combination[0]].likelihood, individual_fits[individual_fits.model == combination[1]].likelihood, alternative='greater'))\n",
    "    print()"
   ]
  },
  {
   "cell_type": "code",
   "execution_count": 10,
   "id": "70cc52ba",
   "metadata": {
    "execution": {
     "iopub.execute_input": "2022-06-03T19:21:39.245077Z",
     "iopub.status.busy": "2022-06-03T19:21:39.244757Z",
     "iopub.status.idle": "2022-06-03T19:21:39.321891Z",
     "shell.execute_reply": "2022-06-03T19:21:39.321058Z"
    },
    "papermill": {
     "duration": 0.101414,
     "end_time": "2022-06-03T19:21:39.324614",
     "exception": false,
     "start_time": "2022-06-03T19:21:39.223200",
     "status": "completed"
    },
    "tags": []
   },
   "outputs": [
    {
     "name": "stdout",
     "output_type": "stream",
     "text": [
      "('PrototypeCMR', 'ICMR_2_0_0')\n",
      "1.0 0.0\n",
      "15 0\n",
      "\n",
      "('PrototypeCMR', 'ICMR_2_0_1')\n",
      "0.9333333333333333 0.06666666666666667\n",
      "14 1\n",
      "\n",
      "('PrototypeCMR', 'ICMR_2_1_0')\n",
      "0.3333333333333333 0.6666666666666666\n",
      "5 10\n",
      "\n",
      "('PrototypeCMR', 'ICMR_2_1_1')\n",
      "0.2 0.8\n",
      "3 12\n",
      "\n",
      "('ICMR_2_0_0', 'ICMR_2_0_1')\n",
      "0.4666666666666667 0.5333333333333333\n",
      "7 8\n",
      "\n",
      "('ICMR_2_0_0', 'ICMR_2_1_0')\n",
      "0.2 0.8\n",
      "3 "
     ]
    },
    {
     "name": "stdout",
     "output_type": "stream",
     "text": [
      "12\n",
      "\n",
      "('ICMR_2_0_0', 'ICMR_2_1_1')\n",
      "0.06666666666666667 0.9333333333333333\n",
      "1 14\n",
      "\n",
      "('ICMR_2_0_1', 'ICMR_2_1_0')\n",
      "0.26666666666666666 0.7333333333333333\n",
      "4 11\n",
      "\n",
      "('ICMR_2_0_1', 'ICMR_2_1_1')\n",
      "0.06666666666666667 0.9333333333333333\n",
      "1 14\n",
      "\n",
      "('ICMR_2_1_0', 'ICMR_2_1_1')\n",
      "0.6666666666666666 0.3333333333333333\n",
      "10 5\n",
      "\n"
     ]
    }
   ],
   "source": [
    "for combination in itertools.combinations(pd.unique(individual_fits.model), 2):\n",
    "\n",
    "    print(combination)\n",
    "    print(np.mean(individual_fits[individual_fits.model == combination[0]].likelihood.values < individual_fits[individual_fits.model == combination[1]].likelihood.values), \n",
    "        np.mean(individual_fits[individual_fits.model == combination[1]].likelihood.values < individual_fits[individual_fits.model == combination[0]].likelihood.values))\n",
    "\n",
    "    print(np.sum(individual_fits[individual_fits.model == combination[0]].likelihood.values < individual_fits[individual_fits.model == combination[1]].likelihood.values), \n",
    "        np.sum(individual_fits[individual_fits.model == combination[1]].likelihood.values < individual_fits[individual_fits.model == combination[0]].likelihood.values))\n",
    "\n",
    "    print()"
   ]
  },
  {
   "cell_type": "code",
   "execution_count": 11,
   "id": "6d21b3f2",
   "metadata": {
    "execution": {
     "iopub.execute_input": "2022-06-03T19:21:39.372786Z",
     "iopub.status.busy": "2022-06-03T19:21:39.372283Z",
     "iopub.status.idle": "2022-06-03T19:21:39.747916Z",
     "shell.execute_reply": "2022-06-03T19:21:39.747368Z"
    },
    "papermill": {
     "duration": 0.400863,
     "end_time": "2022-06-03T19:21:39.751200",
     "exception": false,
     "start_time": "2022-06-03T19:21:39.350337",
     "status": "completed"
    },
    "tags": []
   },
   "outputs": [
    {
     "name": "stdout",
     "output_type": "stream",
     "text": [
      "[2.68592755e-088 1.73580630e-157 6.74284180e-159 1.73295589e-094\n",
      " 1.00000000e+000]\n"
     ]
    }
   ],
   "source": [
    "def model_weights(positive_log_likelihoods, number_parameters, N):\n",
    "    AIC = 2 * positive_log_likelihoods + 2 * number_parameters\n",
    "    AICc = AIC #+ (2*np.power(number_parameters, 2) + 2 * number_parameters) / (N - number_parameters - 2)\n",
    "    AICd = AIC - np.min(AICc)\n",
    "    #return AICd\n",
    "    AICw = np.exp(-.5 * AICd) / np.sum(np.exp(-.5 * AICd))\n",
    "    return AICw\n",
    "\n",
    "aicw = {'Model': [], 'Subject': [], 'AICw': []}\n",
    "\n",
    "total_nlns = np.zeros(len(models))\n",
    "for subject_index, subject in enumerate(pd.unique(events.subject)):\n",
    "\n",
    "    subject_specific_trial_mask = np.logical_and(\n",
    "                    generate_trial_mask(events, f'subject == {subject}'), trial_mask)\n",
    "\n",
    "    nlnLs = []\n",
    "    for model_index, model_class in enumerate(models):\n",
    "        nlnLs.append(\n",
    "            individual_fits[individual_fits.model == model_names[model_index]].likelihood.values[subject_index])\n",
    "    nlnLs = np.array(nlnLs)\n",
    "    total_nlns += nlnLs\n",
    "    \n",
    "    weights = model_weights(nlnLs, len(free_parameters[model_index]), np.sum(subject_specific_trial_mask))\n",
    "    #print(weights)\n",
    "    for model_index, model_class in enumerate(models):\n",
    "        aicw['Model'].append(model_names[model_index])\n",
    "        aicw['Subject'].append(subject)\n",
    "        aicw['AICw'].append(weights[model_index])\n",
    "\n",
    "aicw = pd.DataFrame(data=aicw)\n",
    "total_aicw = model_weights(total_nlns, len(free_parameters[model_index]), np.sum(trial_mask))\n",
    "print(total_aicw)"
   ]
  },
  {
   "cell_type": "code",
   "execution_count": 12,
   "id": "a28f1a2b",
   "metadata": {
    "execution": {
     "iopub.execute_input": "2022-06-03T19:21:39.829423Z",
     "iopub.status.busy": "2022-06-03T19:21:39.829164Z",
     "iopub.status.idle": "2022-06-03T19:21:40.175534Z",
     "shell.execute_reply": "2022-06-03T19:21:40.175006Z"
    },
    "papermill": {
     "duration": 0.385888,
     "end_time": "2022-06-03T19:21:40.179853",
     "exception": false,
     "start_time": "2022-06-03T19:21:39.793965",
     "status": "completed"
    },
    "tags": []
   },
   "outputs": [
    {
     "data": {
      "image/png": "[encoded data removed]",
      "text/plain": [
       "<Figure size 640x480 with 1 Axes>"
      ]
     },
     "metadata": {},
     "output_type": "display_data"
    }
   ],
   "source": [
    "import seaborn as sns\n",
    "sns.set_theme(style=\"darkgrid\")\n",
    "x = sns.pointplot(x=\"Model\", y=\"AICw\", data=aicw, join=False)\n",
    "\n",
    "plt.show()"
   ]
  },
  {
   "cell_type": "code",
   "execution_count": 13,
   "id": "292997f7",
   "metadata": {
    "execution": {
     "iopub.execute_input": "2022-06-03T19:21:40.260442Z",
     "iopub.status.busy": "2022-06-03T19:21:40.260227Z",
     "iopub.status.idle": "2022-06-03T19:21:40.264469Z",
     "shell.execute_reply": "2022-06-03T19:21:40.263528Z"
    },
    "papermill": {
     "duration": 0.042632,
     "end_time": "2022-06-03T19:21:40.266625",
     "exception": false,
     "start_time": "2022-06-03T19:21:40.223993",
     "status": "completed"
    },
    "tags": []
   },
   "outputs": [],
   "source": [
    "from compmemlearn.datasets import find_first"
   ]
  },
  {
   "cell_type": "code",
   "execution_count": 14,
   "id": "b2cf2bb3",
   "metadata": {
    "execution": {
     "iopub.execute_input": "2022-06-03T19:21:40.310649Z",
     "iopub.status.busy": "2022-06-03T19:21:40.310271Z",
     "iopub.status.idle": "2022-06-03T19:21:40.327176Z",
     "shell.execute_reply": "2022-06-03T19:21:40.326525Z"
    },
    "papermill": {
     "duration": 0.040356,
     "end_time": "2022-06-03T19:21:40.328823",
     "exception": false,
     "start_time": "2022-06-03T19:21:40.288467",
     "status": "completed"
    },
    "tags": []
   },
   "outputs": [],
   "source": [
    "def simulate_df_from_events(model_class, parameters, events, trial_mask, experiment_count, first_recall_item=None):\n",
    "\n",
    "    trials, list_lengths, presentations = events_metadata(events)\n",
    "    chose = [i for i in range(len(trial_mask)) if np.sum(trial_mask[i]) != 0]\n",
    "    assert(len(chose) == 1)\n",
    "    chose = chose[0]\n",
    "    trial_mask = trial_mask[chose]\n",
    "    trials = trials[chose][trial_mask]\n",
    "    presentations = presentations[chose][trial_mask]\n",
    "\n",
    "    default_columns = ['subject', 'list', 'trial_type', 'item', 'input', 'output', 'study', 'recall', 'repeat', 'intrusion', 'first_input']\n",
    "    extra_columns = [each for each in events.columns if each not in default_columns]\n",
    "\n",
    "    labels = {}\n",
    "    for column in extra_columns:\n",
    "        try:\n",
    "            labels[column] = (\n",
    "                events.pivot_table(index=['subject', 'list'], dropna=False)[column].values)\n",
    "\n",
    "            if 'list length' in events.columns:\n",
    "                trial_details = events.pivot_table(index=['subject', 'list'], dropna=False).reset_index()\n",
    "                list_length_mask = trial_details.eval(trial_query).to_numpy(dtype='bool')\n",
    "                labels[column] = labels[column][list_length_mask]\n",
    "            else:\n",
    "                labels[column] = labels[column][trial_mask]\n",
    "        except KeyError:\n",
    "            pass\n",
    "\n",
    "    data = []\n",
    "    for experiment in range(experiment_count):\n",
    "        for trial_index in range(len(presentations)):\n",
    "        \n",
    "            # retrieve presentation sequence for this trial and measure number of unique items\n",
    "            presentation = presentations[trial_index]\n",
    "            item_count = np.max(presentation)+1\n",
    "\n",
    "            # record presentation events\n",
    "            for presentation_index, presentation_event in enumerate(presentation):\n",
    "                data.append([\n",
    "                    experiment, trial_index, 'study', presentation_index+1, presentation_event, presentation_index+1])\n",
    "                for label in labels:\n",
    "                    data[-1].append(labels[label][trial_index])\n",
    "\n",
    "            # simulate recall and identify first study position of each recalled item\n",
    "            model = model_class(item_count, len(presentation), parameters)\n",
    "            model.experience(model.items[presentation])\n",
    "            if first_recall_item is not None:\n",
    "                model.force_recall(first_recall_item)\n",
    "            recalled = model.free_recall()\n",
    "            trial = [find_first(recalled[i], presentation) + 1 for i in range(len(recalled))]\n",
    "\n",
    "            # record recall events\n",
    "            for recall_index, recall_event in enumerate(trial):\n",
    "                if recall_event != 0:\n",
    "                    data.append([\n",
    "                        experiment, trial_index, 'recall', recall_index+1, \n",
    "                        presentation[recall_event-1], recall_event])\n",
    "                    for label in labels:\n",
    "                        data[-1].append(labels[label][trial_index])\n",
    "\n",
    "    data = pd.DataFrame(data, columns=[\n",
    "        'subject', 'list', 'trial_type', 'position', 'item', 'first_input'] + list(labels.keys()))\n",
    "    merged = fr.merge_free_recall(data, list_keys=['first_input'] + list(labels.keys()))\n",
    "    return merged"
   ]
  },
  {
   "cell_type": "code",
   "execution_count": 15,
   "id": "fe38e751",
   "metadata": {
    "execution": {
     "iopub.execute_input": "2022-06-03T19:21:40.371521Z",
     "iopub.status.busy": "2022-06-03T19:21:40.370703Z"
    },
    "papermill": {
     "duration": 18.046038,
     "end_time": "2022-06-03T19:21:58.395479",
     "exception": false,
     "start_time": "2022-06-03T19:21:40.349441",
     "status": "completed"
    },
    "tags": []
   },
   "outputs": [
    {
     "name": "stdout",
     "output_type": "stream",
     "text": [
      "sim_df for PrototypeCMR with tag Murdock1962_NOT_LL20 and list length 30 already exists\n"
     ]
    },
    {
     "data": {
      "image/png": "[encoded data removed]",
      "text/plain": [
       "<Figure size 640x480 with 1 Axes>"
      ]
     },
     "metadata": {},
     "output_type": "display_data"
    }
   ],
   "source": [
    "sns.set(style='darkgrid')\n",
    "\n",
    "# for each unique list length\n",
    "if not (isinstance(list_lengths, list) or isinstance(list_lengths, List)): \n",
    "    list_lengths = [list_lengths]\n",
    "\n",
    "for ll_index, list_length in enumerate(list_lengths):\n",
    "    \n",
    "    # for each unique model\n",
    "    for model_index, model_class in enumerate(models):\n",
    "\n",
    "        # load sim_df from csv if it exists\n",
    "        sim_df_path = results_path + '{}_{}_ll{}_sim_df.csv'.format(section_tag, model_names[model_index], list_length)\n",
    "        if os.path.isfile(sim_df_path):\n",
    "            sim_df = pd.read_csv(sim_df_path)\n",
    "            print('sim_df for {} with tag {} and list length {} already exists'.format(model_names[model_index], section_tag, list_length))\n",
    "\n",
    "        # otherwise, generate it\n",
    "        else:\n",
    "\n",
    "            @njit(fastmath=True, nogil=True)\n",
    "            def init_model(item_count, presentation_count, parameters):\n",
    "                return model_class(item_count, presentation_count, parameters)\n",
    "\n",
    "            # for each unique matching entry in individual df\n",
    "            sim_dfs = []\n",
    "            for subject in pd.unique(individual_fits.subject):\n",
    "                \n",
    "                fit_result = individual_fits.query(f'subject == {subject} & model == \"{model_names[model_index]}\"')\n",
    "\n",
    "                # configure model based on specified parameters\n",
    "                fitted_parameters = Dict.empty(\n",
    "                    key_type=types.unicode_type, value_type=types.float64\n",
    "                )\n",
    "                for i in range(len(free_parameters[model_index])):\n",
    "                    fitted_parameters[free_parameters[model_index][i]] = fit_result[free_parameters[model_index][i]].values[0]\n",
    "                for key in fixed_parameters[model_index]:\n",
    "                    fitted_parameters[key] = fixed_parameters[model_index][key]\n",
    "\n",
    "                if 'list length' in events.columns:\n",
    "                    ll_specific_trial_query = trial_query + f' & subject == {subject} & `list length` == {list_length}'\n",
    "                else:\n",
    "                    ll_specific_trial_query = trial_query + f' & subject == {subject}'\n",
    "\n",
    "                ll_specific_trial_mask = generate_trial_mask(events, ll_specific_trial_query)\n",
    "\n",
    "                if np.sum(ll_specific_trial_mask) == 0:\n",
    "                    continue\n",
    "\n",
    "                # simulate df based on specified trial_count and experiment_count\n",
    "                sim_dfs.append(simulate_df_from_events(\n",
    "                    init_model, fitted_parameters, events, ll_specific_trial_mask, experiment_count))\n",
    "                sim_dfs[-1].subject = subject\n",
    "\n",
    "            # concatenate simulations into one dataframe\n",
    "            if len(sim_dfs) == 0:\n",
    "                sim_df = None\n",
    "                continue\n",
    "            sim_df = pd.concat(sim_dfs)\n",
    "\n",
    "            # save sim_df to csv\n",
    "            sim_df.to_csv(results_path +'{}_{}_ll{}_sim_df.csv'.format(section_tag, model_names[model_index], list_length), index=False)\n",
    "\n",
    "        if sim_df is None:\n",
    "            continue\n",
    "\n",
    "        # design general filter for analysis df\n",
    "        if len(list_lengths) > 1:\n",
    "            analysis_query = trial_query + f' & `list length` == {list_length}'\n",
    "        else:\n",
    "            analysis_query = trial_query\n",
    "            \n",
    "        # generate plot for each parametrized analysis and model\n",
    "        for analysis_index, analysis_function in enumerate(analyses):\n",
    "            analysis_name = analysis_names[analysis_index]\n",
    "            axis = analysis_function(\n",
    "                [events, sim_df], analysis_query, contrast_name=\"source\", labels=[\"data\", model_names[model_index]])\n",
    "            plt.savefig(results_path+'{}_{}_ll{}_{}.pdf'.format(section_tag, model_names[model_index], list_length, analysis_name), bbox_inches=\"tight\")\n",
    "            plt.show()"
   ]
  }
 ],
 "metadata": {
  "interpreter": {
   "hash": "19d1d53a962d236aa061289c2ac16dc8e6d9648c89fe79f459ae9a3493bc67b4"
  },
  "kernelspec": {
   "display_name": "Python 3.9.1 ('base')",
   "language": "python",
   "name": "python3"
  },
  "language_info": {
   "codemirror_mode": {
    "name": "ipython",
    "version": 3
   },
   "file_extension": ".py",
   "mimetype": "text/x-python",
   "name": "python",
   "nbconvert_exporter": "python",
   "pygments_lexer": "ipython3",
   "version": "3.9.1"
  },
  "papermill": {
   "default_parameters": {},
   "duration": 319.60974,
   "end_time": "2022-06-03T19:21:58.458276",
   "environment_variables": {},
   "exception": null,
   "input_path": "Subjectwise_Model_Evaluation.ipynb",
   "output_path": "reports/Subjectwise_Model_Evaluation_Double_Murdock1962_NOT_LL20.ipynb",
   "parameters": {
    "bounds": [
     [
      [
       2.220446049250313e-16,
       0.9999999999999998
      ],
      [
       2.220446049250313e-16,
       0.9999999999999998
      ],
      [
       2.220446049250313e-16,
       0.9999999999999998
      ],
      [
       2.220446049250313e-16,
       0.9999999999999998
      ],
      [
       2.220446049250313e-16,
       0.9999999999999998
      ],
      [
       2.220446049250313e-16,
       0.9999999999999998
      ],
      [
       2.220446049250313e-16,
       100
      ],
      [
       2.220446049250313e-16,
       100
      ],
      [
       2.220446049250313e-16,
       0.9999999999999998
      ],
      [
       2.220446049250313e-16,
       10
      ],
      [
       2.220446049250313e-16,
       10
      ],
      [
       2.220446049250313e-16,
       0.9999999999999998
      ]
     ],
     [
      [
       2.220446049250313e-16,
       0.9999999999999998
      ],
      [
       2.220446049250313e-16,
       0.9999999999999998
      ],
      [
       2.220446049250313e-16,
       0.9999999999999998
      ],
      [
       2.220446049250313e-16,
       0.9999999999999998
      ],
      [
       2.220446049250313e-16,
       0.9999999999999998
      ],
      [
       2.220446049250313e-16,
       0.9999999999999998
      ],
      [
       2.220446049250313e-16,
       100
      ],
      [
       2.220446049250313e-16,
       100
      ],
      [
       2.220446049250313e-16,
       0.9999999999999998
      ],
      [
       2.220446049250313e-16,
       10
      ],
      [
       2.220446049250313e-16,
       10
      ],
      [
       2.220446049250313e-16,
       0.9999999999999998
      ]
     ],
     [
      [
       2.220446049250313e-16,
       0.9999999999999998
      ],
      [
       2.220446049250313e-16,
       0.9999999999999998
      ],
      [
       2.220446049250313e-16,
       0.9999999999999998
      ],
      [
       2.220446049250313e-16,
       0.9999999999999998
      ],
      [
       2.220446049250313e-16,
       0.9999999999999998
      ],
      [
       2.220446049250313e-16,
       0.9999999999999998
      ],
      [
       2.220446049250313e-16,
       100
      ],
      [
       2.220446049250313e-16,
       100
      ],
      [
       2.220446049250313e-16,
       0.9999999999999998
      ],
      [
       2.220446049250313e-16,
       10
      ],
      [
       2.220446049250313e-16,
       10
      ],
      [
       2.220446049250313e-16,
       0.9999999999999998
      ]
     ],
     [
      [
       2.220446049250313e-16,
       0.9999999999999998
      ],
      [
       2.220446049250313e-16,
       0.9999999999999998
      ],
      [
       2.220446049250313e-16,
       0.9999999999999998
      ],
      [
       2.220446049250313e-16,
       0.9999999999999998
      ],
      [
       2.220446049250313e-16,
       0.9999999999999998
      ],
      [
       2.220446049250313e-16,
       0.9999999999999998
      ],
      [
       2.220446049250313e-16,
       100
      ],
      [
       2.220446049250313e-16,
       100
      ],
      [
       2.220446049250313e-16,
       0.9999999999999998
      ],
      [
       2.220446049250313e-16,
       10
      ],
      [
       2.220446049250313e-16,
       10
      ],
      [
       2.220446049250313e-16,
       0.9999999999999998
      ]
     ],
     [
      [
       2.220446049250313e-16,
       0.9999999999999998
      ],
      [
       2.220446049250313e-16,
       0.9999999999999998
      ],
      [
       2.220446049250313e-16,
       0.9999999999999998
      ],
      [
       2.220446049250313e-16,
       0.9999999999999998
      ],
      [
       2.220446049250313e-16,
       0.9999999999999998
      ],
      [
       2.220446049250313e-16,
       0.9999999999999998
      ],
      [
       2.220446049250313e-16,
       100
      ],
      [
       2.220446049250313e-16,
       100
      ],
      [
       2.220446049250313e-16,
       0.9999999999999998
      ],
      [
       2.220446049250313e-16,
       10
      ],
      [
       2.220446049250313e-16,
       10
      ],
      [
       2.220446049250313e-16,
       0.9999999999999998
      ]
     ]
    ],
    "data_path": "data/Murdock1962.csv",
    "fixed_parameters": [
     {},
     {
      "context_sensitivity": 1,
      "feature_sensitivity": 1,
      "learn_first": false
     },
     {
      "context_sensitivity": 1,
      "feature_sensitivity": 1,
      "learn_first": true
     },
     {
      "choice_sensitivity": 1,
      "feature_sensitivity": 1,
      "learn_first": false
     },
     {
      "choice_sensitivity": 1,
      "feature_sensitivity": 1,
      "learn_first": true
     }
    ],
    "free_parameters": [
     [
      "encoding_drift_rate",
      "start_drift_rate",
      "recall_drift_rate",
      "shared_support",
      "item_support",
      "learning_rate",
      "primacy_scale",
      "primacy_decay",
      "stop_probability_scale",
      "stop_probability_growth",
      "choice_sensitivity",
      "delay_drift_rate"
     ],
     [
      "encoding_drift_rate",
      "start_drift_rate",
      "recall_drift_rate",
      "shared_support",
      "item_support",
      "learning_rate",
      "primacy_scale",
      "primacy_decay",
      "stop_probability_scale",
      "stop_probability_growth",
      "choice_sensitivity",
      "delay_drift_rate"
     ],
     [
      "encoding_drift_rate",
      "start_drift_rate",
      "recall_drift_rate",
      "shared_support",
      "item_support",
      "learning_rate",
      "primacy_scale",
      "primacy_decay",
      "stop_probability_scale",
      "stop_probability_growth",
      "choice_sensitivity",
      "delay_drift_rate"
     ],
     [
      "encoding_drift_rate",
      "start_drift_rate",
      "recall_drift_rate",
      "shared_support",
      "item_support",
      "learning_rate",
      "primacy_scale",
      "primacy_decay",
      "stop_probability_scale",
      "stop_probability_growth",
      "context_sensitivity",
      "delay_drift_rate"
     ],
     [
      "encoding_drift_rate",
      "start_drift_rate",
      "recall_drift_rate",
      "shared_support",
      "item_support",
      "learning_rate",
      "primacy_scale",
      "primacy_decay",
      "stop_probability_scale",
      "stop_probability_growth",
      "context_sensitivity",
      "delay_drift_rate"
     ]
    ],
    "model_names": [
     "PrototypeCMR",
     "ICMR_2_0_0",
     "ICMR_2_0_1",
     "ICMR_2_1_0",
     "ICMR_2_1_1"
    ],
    "model_paths": [
     "compmemlearn.models.Base_CMR",
     "compmemlearn.models.Dual_ICMR",
     "compmemlearn.models.Dual_ICMR",
     "compmemlearn.models.Dual_ICMR",
     "compmemlearn.models.Dual_ICMR"
    ],
    "section_tag": "Murdock1962_NOT_LL20",
    "trial_query": "`list length` != 20"
   },
   "start_time": "2022-06-03T19:16:38.848536",
   "version": "2.3.4"
  }
 },
 "nbformat": 4,
 "nbformat_minor": 5
}
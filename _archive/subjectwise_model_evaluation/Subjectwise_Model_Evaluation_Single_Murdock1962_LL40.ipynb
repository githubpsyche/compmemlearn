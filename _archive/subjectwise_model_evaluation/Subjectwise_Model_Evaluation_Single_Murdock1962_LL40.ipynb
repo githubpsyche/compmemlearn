{
 "cells": [
  {
   "cell_type": "markdown",
   "id": "927a4cea",
   "metadata": {
    "tags": [
     "papermill-error-cell-tag"
    ]
   },
   "source": [
    "<span style=\"color:red; font-family:Helvetica Neue, Helvetica, Arial, sans-serif; font-size:2em;\">An Exception was encountered at '<a href=\"#papermill-error-cell\">In [12]</a>'.</span>"
   ]
  },
  {
   "cell_type": "code",
   "execution_count": 1,
   "id": "4ed7f506",
   "metadata": {
    "execution": {
     "iopub.execute_input": "2022-05-31T19:25:46.799953Z",
     "iopub.status.busy": "2022-05-31T19:25:46.799646Z",
     "iopub.status.idle": "2022-05-31T19:26:48.250805Z",
     "shell.execute_reply": "2022-05-31T19:26:48.249282Z"
    },
    "papermill": {
     "duration": 61.487907,
     "end_time": "2022-05-31T19:26:48.254825",
     "exception": false,
     "start_time": "2022-05-31T19:25:46.766918",
     "status": "completed"
    },
    "tags": [
     "parameters"
    ]
   },
   "outputs": [],
   "source": [
    "# | code-summary: code -- load dependencies and data and select parameters\n",
    "\n",
    "from compmemlearn.fitting import generate_objective_function\n",
    "from compmemlearn.datasets import events_metadata, simulate_df, generate_trial_mask\n",
    "from scipy.optimize import differential_evolution\n",
    "from numba.typed import List, Dict\n",
    "from numba.core import types\n",
    "from numba import njit\n",
    "from psifr import fr\n",
    "import pandas as pd\n",
    "import numpy as np\n",
    "import seaborn as sns\n",
    "import matplotlib.pyplot as plt\n",
    "import importlib\n",
    "import os\n",
    "\n",
    "lb = np.finfo(float).eps\n",
    "ub = 1 - np.finfo(float).eps\n",
    "\n",
    "figure_caption = \"\"\"Distribution of log-likelihood scores of recall sequences exhibited by each subject in dataset under each considered model.\"\"\"\n",
    "\n",
    "section_tag = \"LohnasCondition1\"\n",
    "\n",
    "data_path = \"../data/LohnasKahana2014.csv\"\n",
    "results_path = \"results/\"\n",
    "trial_query = \"condition == 1\"\n",
    "\n",
    "model_paths = [\"compmemlearn.models.Classic_CMR\", \"compmemlearn.models.Instance_CMR\", \"compmemlearn.models.Dual_Instance_CMR\"]\n",
    "\n",
    "model_names = [\"PrototypeCMR\", \"InstanceCMR\", \"Dual Memory ICMR\"]\n",
    "\n",
    "free_parameters = [\n",
    "    [\n",
    "        \"encoding_drift_rate\",\n",
    "        \"start_drift_rate\",\n",
    "        \"recall_drift_rate\",\n",
    "        \"shared_support\",\n",
    "        \"item_support\",\n",
    "        \"learning_rate\",\n",
    "        \"primacy_scale\",\n",
    "        \"primacy_decay\",\n",
    "        \"stop_probability_scale\",\n",
    "        \"stop_probability_growth\",\n",
    "        \"choice_sensitivity\",\n",
    "        \"delay_drift_rate\",\n",
    "    ],\n",
    "    [\n",
    "        \"encoding_drift_rate\",\n",
    "        \"start_drift_rate\",\n",
    "        \"recall_drift_rate\",\n",
    "        \"shared_support\",\n",
    "        \"item_support\",\n",
    "        \"learning_rate\",\n",
    "        \"primacy_scale\",\n",
    "        \"primacy_decay\",\n",
    "        \"stop_probability_scale\",\n",
    "        \"stop_probability_growth\",\n",
    "        #    'choice_sensitivity',\n",
    "        \"context_sensitivity\",\n",
    "        #    'feature_sensitivity'\n",
    "        \"delay_drift_rate\",\n",
    "    ],\n",
    "    [\n",
    "        \"encoding_drift_rate\",\n",
    "        \"start_drift_rate\",\n",
    "        \"recall_drift_rate\",\n",
    "        \"shared_support\",\n",
    "        \"item_support\",\n",
    "        \"learning_rate\",\n",
    "        \"primacy_scale\",\n",
    "        \"primacy_decay\",\n",
    "        \"stop_probability_scale\",\n",
    "        \"stop_probability_growth\",\n",
    "        #    'choice_sensitivity',\n",
    "        \"context_sensitivity\",\n",
    "        #    'feature_sensitivity'\n",
    "        \"delay_drift_rate\",\n",
    "    ],\n",
    "]\n",
    "\n",
    "bounds = [\n",
    "    [\n",
    "        [lb, ub],\n",
    "        [lb, ub],\n",
    "        [lb, ub],\n",
    "        [lb, ub],\n",
    "        [lb, ub],\n",
    "        [lb, ub],\n",
    "        [lb, 100],\n",
    "        [lb, 100],\n",
    "        [lb, ub],\n",
    "        [lb, 10],\n",
    "        [lb, 10],\n",
    "        [lb, ub],\n",
    "    ],\n",
    "    [\n",
    "        [lb, ub],\n",
    "        [lb, ub],\n",
    "        [lb, ub],\n",
    "        [lb, ub],\n",
    "        [lb, ub],\n",
    "        [lb, ub],\n",
    "        [lb, 100],\n",
    "        [lb, 100],\n",
    "        [lb, ub],\n",
    "        [lb, 10],\n",
    "        [lb, 10],\n",
    "        [lb, ub],\n",
    "    ],\n",
    "    [\n",
    "        [lb, ub],\n",
    "        [lb, ub],\n",
    "        [lb, ub],\n",
    "        [lb, ub],\n",
    "        [lb, ub],\n",
    "        [lb, ub],\n",
    "        [lb, 100],\n",
    "        [lb, 100],\n",
    "        [lb, ub],\n",
    "        [lb, 10],\n",
    "        [lb, 10],\n",
    "        [lb, ub],\n",
    "    ],\n",
    "]\n",
    "\n",
    "fixed_parameters = [\n",
    "    {'sampling_rule': 0, 'mfc_familiarity_scale': 0, \n",
    "         'mcf_familiarity_scale': 0, 'drift_familiarity_scale': 0}, \n",
    "    {\"choice_sensitivity\": 1, \"feature_sensitivity\": 1, 'mfc_familiarity_scale': 0, \n",
    "         'mcf_familiarity_scale': 0, 'drift_familiarity_scale': 0},\n",
    "    {\"choice_sensitivity\": 1, \"feature_sensitivity\": 1, 'mfc_familiarity_scale': 0, \n",
    "         'mcf_familiarity_scale': 0, 'drift_familiarity_scale': 0},\n",
    "]\n",
    "\n",
    "analysis_paths = ['compmemlearn.analyses.plot_spc', 'compmemlearn.analyses.plot_crp', 'compmemlearn.analyses.plot_pfr']\n",
    "analysis_names = ['spc', 'crp', 'pfr']\n",
    "\n",
    "experiment_count = 100\n"
   ]
  },
  {
   "cell_type": "code",
   "execution_count": 2,
   "id": "66c85912",
   "metadata": {
    "execution": {
     "iopub.execute_input": "2022-05-31T19:26:48.288573Z",
     "iopub.status.busy": "2022-05-31T19:26:48.288243Z",
     "iopub.status.idle": "2022-05-31T19:26:48.306733Z",
     "shell.execute_reply": "2022-05-31T19:26:48.306174Z"
    },
    "papermill": {
     "duration": 0.037183,
     "end_time": "2022-05-31T19:26:48.310531",
     "exception": false,
     "start_time": "2022-05-31T19:26:48.273348",
     "status": "completed"
    },
    "tags": [
     "injected-parameters"
    ]
   },
   "outputs": [],
   "source": [
    "# Parameters\n",
    "data_path = \"data/Murdock1962.csv\"\n",
    "trial_query = \"`list length` == 40\"\n",
    "model_paths = [\n",
    "    \"compmemlearn.models.Base_CMR\",\n",
    "    \"compmemlearn.models.Single_ICMR\",\n",
    "    \"compmemlearn.models.Single_ICMR\",\n",
    "    \"compmemlearn.models.Single_ICMR\",\n",
    "    \"compmemlearn.models.Single_ICMR\",\n",
    "]\n",
    "model_names = [\"PrototypeCMR\", \"ICMR_1_0_0\", \"ICMR_1_0_1\", \"ICMR_1_1_0\", \"ICMR_1_1_1\"]\n",
    "free_parameters = [\n",
    "    [\n",
    "        \"encoding_drift_rate\",\n",
    "        \"start_drift_rate\",\n",
    "        \"recall_drift_rate\",\n",
    "        \"shared_support\",\n",
    "        \"item_support\",\n",
    "        \"learning_rate\",\n",
    "        \"primacy_scale\",\n",
    "        \"primacy_decay\",\n",
    "        \"stop_probability_scale\",\n",
    "        \"stop_probability_growth\",\n",
    "        \"choice_sensitivity\",\n",
    "        \"delay_drift_rate\",\n",
    "    ],\n",
    "    [\n",
    "        \"encoding_drift_rate\",\n",
    "        \"start_drift_rate\",\n",
    "        \"recall_drift_rate\",\n",
    "        \"shared_support\",\n",
    "        \"item_support\",\n",
    "        \"learning_rate\",\n",
    "        \"primacy_scale\",\n",
    "        \"primacy_decay\",\n",
    "        \"stop_probability_scale\",\n",
    "        \"stop_probability_growth\",\n",
    "        \"choice_sensitivity\",\n",
    "        \"delay_drift_rate\",\n",
    "    ],\n",
    "    [\n",
    "        \"encoding_drift_rate\",\n",
    "        \"start_drift_rate\",\n",
    "        \"recall_drift_rate\",\n",
    "        \"shared_support\",\n",
    "        \"item_support\",\n",
    "        \"learning_rate\",\n",
    "        \"primacy_scale\",\n",
    "        \"primacy_decay\",\n",
    "        \"stop_probability_scale\",\n",
    "        \"stop_probability_growth\",\n",
    "        \"choice_sensitivity\",\n",
    "        \"delay_drift_rate\",\n",
    "    ],\n",
    "    [\n",
    "        \"encoding_drift_rate\",\n",
    "        \"start_drift_rate\",\n",
    "        \"recall_drift_rate\",\n",
    "        \"shared_support\",\n",
    "        \"item_support\",\n",
    "        \"learning_rate\",\n",
    "        \"primacy_scale\",\n",
    "        \"primacy_decay\",\n",
    "        \"stop_probability_scale\",\n",
    "        \"stop_probability_growth\",\n",
    "        \"context_sensitivity\",\n",
    "        \"delay_drift_rate\",\n",
    "    ],\n",
    "    [\n",
    "        \"encoding_drift_rate\",\n",
    "        \"start_drift_rate\",\n",
    "        \"recall_drift_rate\",\n",
    "        \"shared_support\",\n",
    "        \"item_support\",\n",
    "        \"learning_rate\",\n",
    "        \"primacy_scale\",\n",
    "        \"primacy_decay\",\n",
    "        \"stop_probability_scale\",\n",
    "        \"stop_probability_growth\",\n",
    "        \"context_sensitivity\",\n",
    "        \"delay_drift_rate\",\n",
    "    ],\n",
    "]\n",
    "bounds = [\n",
    "    [\n",
    "        [2.220446049250313e-16, 0.9999999999999998],\n",
    "        [2.220446049250313e-16, 0.9999999999999998],\n",
    "        [2.220446049250313e-16, 0.9999999999999998],\n",
    "        [2.220446049250313e-16, 0.9999999999999998],\n",
    "        [2.220446049250313e-16, 0.9999999999999998],\n",
    "        [2.220446049250313e-16, 0.9999999999999998],\n",
    "        [2.220446049250313e-16, 100],\n",
    "        [2.220446049250313e-16, 100],\n",
    "        [2.220446049250313e-16, 0.9999999999999998],\n",
    "        [2.220446049250313e-16, 10],\n",
    "        [2.220446049250313e-16, 10],\n",
    "        [2.220446049250313e-16, 0.9999999999999998],\n",
    "    ],\n",
    "    [\n",
    "        [2.220446049250313e-16, 0.9999999999999998],\n",
    "        [2.220446049250313e-16, 0.9999999999999998],\n",
    "        [2.220446049250313e-16, 0.9999999999999998],\n",
    "        [2.220446049250313e-16, 0.9999999999999998],\n",
    "        [2.220446049250313e-16, 0.9999999999999998],\n",
    "        [2.220446049250313e-16, 0.9999999999999998],\n",
    "        [2.220446049250313e-16, 100],\n",
    "        [2.220446049250313e-16, 100],\n",
    "        [2.220446049250313e-16, 0.9999999999999998],\n",
    "        [2.220446049250313e-16, 10],\n",
    "        [2.220446049250313e-16, 10],\n",
    "        [2.220446049250313e-16, 0.9999999999999998],\n",
    "    ],\n",
    "    [\n",
    "        [2.220446049250313e-16, 0.9999999999999998],\n",
    "        [2.220446049250313e-16, 0.9999999999999998],\n",
    "        [2.220446049250313e-16, 0.9999999999999998],\n",
    "        [2.220446049250313e-16, 0.9999999999999998],\n",
    "        [2.220446049250313e-16, 0.9999999999999998],\n",
    "        [2.220446049250313e-16, 0.9999999999999998],\n",
    "        [2.220446049250313e-16, 100],\n",
    "        [2.220446049250313e-16, 100],\n",
    "        [2.220446049250313e-16, 0.9999999999999998],\n",
    "        [2.220446049250313e-16, 10],\n",
    "        [2.220446049250313e-16, 10],\n",
    "        [2.220446049250313e-16, 0.9999999999999998],\n",
    "    ],\n",
    "    [\n",
    "        [2.220446049250313e-16, 0.9999999999999998],\n",
    "        [2.220446049250313e-16, 0.9999999999999998],\n",
    "        [2.220446049250313e-16, 0.9999999999999998],\n",
    "        [2.220446049250313e-16, 0.9999999999999998],\n",
    "        [2.220446049250313e-16, 0.9999999999999998],\n",
    "        [2.220446049250313e-16, 0.9999999999999998],\n",
    "        [2.220446049250313e-16, 100],\n",
    "        [2.220446049250313e-16, 100],\n",
    "        [2.220446049250313e-16, 0.9999999999999998],\n",
    "        [2.220446049250313e-16, 10],\n",
    "        [2.220446049250313e-16, 10],\n",
    "        [2.220446049250313e-16, 0.9999999999999998],\n",
    "    ],\n",
    "    [\n",
    "        [2.220446049250313e-16, 0.9999999999999998],\n",
    "        [2.220446049250313e-16, 0.9999999999999998],\n",
    "        [2.220446049250313e-16, 0.9999999999999998],\n",
    "        [2.220446049250313e-16, 0.9999999999999998],\n",
    "        [2.220446049250313e-16, 0.9999999999999998],\n",
    "        [2.220446049250313e-16, 0.9999999999999998],\n",
    "        [2.220446049250313e-16, 100],\n",
    "        [2.220446049250313e-16, 100],\n",
    "        [2.220446049250313e-16, 0.9999999999999998],\n",
    "        [2.220446049250313e-16, 10],\n",
    "        [2.220446049250313e-16, 10],\n",
    "        [2.220446049250313e-16, 0.9999999999999998],\n",
    "    ],\n",
    "]\n",
    "fixed_parameters = [\n",
    "    {},\n",
    "    {\"feature_sensitivity\": 1, \"context_sensitivity\": 1, \"learn_first\": False},\n",
    "    {\"feature_sensitivity\": 1, \"context_sensitivity\": 1, \"learn_first\": True},\n",
    "    {\"feature_sensitivity\": 1, \"choice_sensitivity\": 1, \"learn_first\": False},\n",
    "    {\"feature_sensitivity\": 1, \"choice_sensitivity\": 1, \"learn_first\": True},\n",
    "]\n",
    "section_tag = \"Murdock1962_LL40\"\n"
   ]
  },
  {
   "cell_type": "code",
   "execution_count": 3,
   "id": "9f2d81c7",
   "metadata": {
    "execution": {
     "iopub.execute_input": "2022-05-31T19:26:48.359626Z",
     "iopub.status.busy": "2022-05-31T19:26:48.359212Z",
     "iopub.status.idle": "2022-05-31T19:28:58.221379Z",
     "shell.execute_reply": "2022-05-31T19:28:58.220787Z"
    },
    "papermill": {
     "duration": 129.88778,
     "end_time": "2022-05-31T19:28:58.225032",
     "exception": false,
     "start_time": "2022-05-31T19:26:48.337252",
     "status": "completed"
    },
    "tags": []
   },
   "outputs": [
    {
     "name": "stdout",
     "output_type": "stream",
     "text": [
      "<function murdock_objective_function.<locals>.objective_function at 0x2b4801fdf9d0>\n"
     ]
    },
    {
     "name": "stdout",
     "output_type": "stream",
     "text": [
      "4732.215174454701\n",
      "7073.544093723043\n"
     ]
    },
    {
     "name": "stdout",
     "output_type": "stream",
     "text": [
      "<function murdock_objective_function.<locals>.objective_function at 0x2b4804136550>\n"
     ]
    },
    {
     "name": "stdout",
     "output_type": "stream",
     "text": [
      "4732.215174454701\n",
      "7073.544093723043\n",
      "<function murdock_objective_function.<locals>.objective_function at 0x2b480449c160>\n"
     ]
    },
    {
     "name": "stdout",
     "output_type": "stream",
     "text": [
      "4732.215174454701\n",
      "7073.544093723043\n",
      "<function murdock_objective_function.<locals>.objective_function at 0x2b480403a940>\n"
     ]
    },
    {
     "name": "stdout",
     "output_type": "stream",
     "text": [
      "4732.215174454701\n",
      "7073.544093723043\n",
      "<function murdock_objective_function.<locals>.objective_function at 0x2b4805b145e0>\n"
     ]
    },
    {
     "name": "stdout",
     "output_type": "stream",
     "text": [
      "4732.215174454701\n",
      "7073.544093723043\n",
      "dependencies and parameters validated\n"
     ]
    }
   ],
   "source": [
    "#| code-summary: code -- test that specified parameters are valid\n",
    "#| output: false\n",
    "\n",
    "events = pd.read_csv(data_path)\n",
    "\n",
    "trials, list_lengths, presentations = events_metadata(events)\n",
    "trial_mask = generate_trial_mask(events, trial_query)\n",
    "\n",
    "# import models from specified source\n",
    "models = []\n",
    "for i in range(len(model_paths)):\n",
    "    module_name, model_name = model_paths[i].rsplit('.',1) #TODO: add handling for case with no `.`\n",
    "    module = importlib.import_module(module_name)\n",
    "    models.append(getattr(module, model_name))\n",
    "\n",
    "# import analyses from specified source\n",
    "analyses = []\n",
    "for i in range(len(analysis_paths)):\n",
    "    module_name, analysis_name = analysis_paths[i].rsplit('.',1) #TODO: add handling for case with no `.`\n",
    "    module = importlib.import_module(module_name)\n",
    "    analyses.append(getattr(module, analysis_name))\n",
    "\n",
    "# make sure model initializes with provided parameters and boundaries\n",
    "for model_index, model_class in enumerate(models):\n",
    "\n",
    "    @njit(fastmath=True, nogil=True)\n",
    "    def init_model(item_count, presentation_count, parameters):\n",
    "        return model_class(item_count, presentation_count, parameters)\n",
    "\n",
    "    subject_specific_trial_mask = np.logical_and(\n",
    "                generate_trial_mask(events, f'subject == {pd.unique(events.subject)[0]}'), trial_mask)\n",
    "\n",
    "    cost_function = generate_objective_function(\n",
    "        [trials[i][subject_specific_trial_mask[i]] for i in range(len(trials))],\n",
    "        [presentations[i][subject_specific_trial_mask[i]] for i in range(len(presentations))],\n",
    "        list_lengths,\n",
    "        init_model,\n",
    "        fixed_parameters[model_index],\n",
    "        free_parameters[model_index],\n",
    "    )\n",
    "    print(cost_function)\n",
    "    \n",
    "    for boundary_index in range(2):\n",
    "        x = np.array([each[boundary_index] for each in bounds[model_index]])\n",
    "        assert(len(x) == len(free_parameters[model_index])) \n",
    "\n",
    "        # parameter configuration\n",
    "        parameters = Dict.empty(key_type=types.unicode_type, value_type=types.float64)\n",
    "        for name, value in fixed_parameters[model_index].items():\n",
    "            parameters[name] = value\n",
    "        for i in range(len(free_parameters[model_index])):\n",
    "                parameters[free_parameters[model_index][i]] = x[i]\n",
    "\n",
    "        model = init_model(20, 20, parameters)\n",
    "        model.experience(model.items)\n",
    "        model.free_recall()\n",
    "\n",
    "        print(cost_function(x))\n",
    "print('dependencies and parameters validated')\n",
    "#print(trial_index, recall_index, recall, trial, likelihood[trial_index, recall_index], model.outcome_probabilities())"
   ]
  },
  {
   "cell_type": "code",
   "execution_count": 4,
   "id": "51fdbf92",
   "metadata": {
    "execution": {
     "iopub.execute_input": "2022-05-31T19:28:58.290347Z",
     "iopub.status.busy": "2022-05-31T19:28:58.289836Z",
     "iopub.status.idle": "2022-06-01T01:10:16.873457Z",
     "shell.execute_reply": "2022-06-01T01:10:16.872380Z"
    },
    "papermill": {
     "duration": 20478.680815,
     "end_time": "2022-06-01T01:10:16.942880",
     "exception": false,
     "start_time": "2022-05-31T19:28:58.262065",
     "status": "completed"
    },
    "tags": []
   },
   "outputs": [
    {
     "name": "stdout",
     "output_type": "stream",
     "text": [
      "individual fits for PrototypeCMR with tag Murdock1962_LL40 already exist\n",
      "ICMR_1_0_0, Subject 1\n"
     ]
    },
    {
     "name": "stdout",
     "output_type": "stream",
     "text": [
      "1441.04611995513\n",
      "ICMR_1_0_0, Subject 2\n"
     ]
    },
    {
     "name": "stdout",
     "output_type": "stream",
     "text": [
      "2266.6543745148\n",
      "ICMR_1_0_0, Subject 3\n"
     ]
    },
    {
     "name": "stdout",
     "output_type": "stream",
     "text": [
      "2164.2954296654425\n",
      "ICMR_1_0_0, Subject 4\n"
     ]
    },
    {
     "name": "stdout",
     "output_type": "stream",
     "text": [
      "1632.9717261443125\n",
      "ICMR_1_0_0, Subject 5\n"
     ]
    },
    {
     "name": "stdout",
     "output_type": "stream",
     "text": [
      "2079.8682426019745\n",
      "ICMR_1_0_0, Subject 6\n"
     ]
    },
    {
     "name": "stdout",
     "output_type": "stream",
     "text": [
      "1717.343946945351\n",
      "ICMR_1_0_0, Subject 7\n"
     ]
    },
    {
     "name": "stdout",
     "output_type": "stream",
     "text": [
      "2295.2390932711655\n",
      "ICMR_1_0_0, Subject 8\n"
     ]
    },
    {
     "name": "stdout",
     "output_type": "stream",
     "text": [
      "2086.005382374768\n",
      "ICMR_1_0_0, Subject 9\n"
     ]
    },
    {
     "name": "stdout",
     "output_type": "stream",
     "text": [
      "1711.0326245059985\n",
      "ICMR_1_0_0, Subject 10\n"
     ]
    },
    {
     "name": "stdout",
     "output_type": "stream",
     "text": [
      "2043.012762480957\n",
      "ICMR_1_0_0, Subject 11\n"
     ]
    },
    {
     "name": "stdout",
     "output_type": "stream",
     "text": [
      "1797.7636961396124\n",
      "ICMR_1_0_0, Subject 12\n"
     ]
    },
    {
     "name": "stdout",
     "output_type": "stream",
     "text": [
      "1815.394352871508\n",
      "ICMR_1_0_0, Subject 13\n"
     ]
    },
    {
     "name": "stdout",
     "output_type": "stream",
     "text": [
      "1920.401944902952\n",
      "ICMR_1_0_0, Subject 14\n"
     ]
    },
    {
     "name": "stdout",
     "output_type": "stream",
     "text": [
      "2067.803339929112\n",
      "ICMR_1_0_0, Subject 15\n"
     ]
    },
    {
     "name": "stdout",
     "output_type": "stream",
     "text": [
      "2126.324844931733\n",
      "ICMR_1_0_1, Subject 1\n"
     ]
    },
    {
     "name": "stdout",
     "output_type": "stream",
     "text": [
      "1441.3189160400768\n",
      "ICMR_1_0_1, Subject 2\n"
     ]
    },
    {
     "name": "stdout",
     "output_type": "stream",
     "text": [
      "2265.7136802943596\n",
      "ICMR_1_0_1, Subject 3\n"
     ]
    },
    {
     "name": "stdout",
     "output_type": "stream",
     "text": [
      "2174.4084837141486\n",
      "ICMR_1_0_1, Subject 4\n"
     ]
    },
    {
     "name": "stdout",
     "output_type": "stream",
     "text": [
      "1631.3978193377077\n",
      "ICMR_1_0_1, Subject 5\n"
     ]
    },
    {
     "name": "stdout",
     "output_type": "stream",
     "text": [
      "2080.318696472291\n",
      "ICMR_1_0_1, Subject 6\n"
     ]
    },
    {
     "name": "stdout",
     "output_type": "stream",
     "text": [
      "1717.3434434273759\n",
      "ICMR_1_0_1, Subject 7\n"
     ]
    },
    {
     "name": "stdout",
     "output_type": "stream",
     "text": [
      "2773.9321677058047\n",
      "ICMR_1_0_1, Subject 8\n"
     ]
    },
    {
     "name": "stdout",
     "output_type": "stream",
     "text": [
      "2090.909044421209\n",
      "ICMR_1_0_1, Subject 9\n"
     ]
    },
    {
     "name": "stdout",
     "output_type": "stream",
     "text": [
      "1711.0184398498525\n",
      "ICMR_1_0_1, Subject 10\n"
     ]
    },
    {
     "name": "stdout",
     "output_type": "stream",
     "text": [
      "2045.4740608061738\n",
      "ICMR_1_0_1, Subject 11\n"
     ]
    },
    {
     "name": "stdout",
     "output_type": "stream",
     "text": [
      "1794.9297349516228\n",
      "ICMR_1_0_1, Subject 12\n"
     ]
    },
    {
     "name": "stdout",
     "output_type": "stream",
     "text": [
      "1833.4582839153516\n",
      "ICMR_1_0_1, Subject 13\n"
     ]
    },
    {
     "name": "stdout",
     "output_type": "stream",
     "text": [
      "1920.394308523736\n",
      "ICMR_1_0_1, Subject 14\n"
     ]
    },
    {
     "name": "stdout",
     "output_type": "stream",
     "text": [
      "2067.805515547186\n",
      "ICMR_1_0_1, Subject 15\n"
     ]
    },
    {
     "name": "stdout",
     "output_type": "stream",
     "text": [
      "2126.32499692936\n",
      "ICMR_1_1_0, Subject 1\n"
     ]
    },
    {
     "name": "stdout",
     "output_type": "stream",
     "text": [
      "1442.9657874189127\n",
      "ICMR_1_1_0, Subject 2\n"
     ]
    },
    {
     "name": "stdout",
     "output_type": "stream",
     "text": [
      "2256.3526467356764\n",
      "ICMR_1_1_0, Subject 3\n"
     ]
    },
    {
     "name": "stdout",
     "output_type": "stream",
     "text": [
      "2180.6305381161774\n",
      "ICMR_1_1_0, Subject 4\n"
     ]
    },
    {
     "name": "stdout",
     "output_type": "stream",
     "text": [
      "1631.6054801462092\n",
      "ICMR_1_1_0, Subject 5\n"
     ]
    },
    {
     "name": "stdout",
     "output_type": "stream",
     "text": [
      "2082.3379872050205\n",
      "ICMR_1_1_0, Subject 6\n"
     ]
    },
    {
     "name": "stdout",
     "output_type": "stream",
     "text": [
      "1724.9905921402008\n",
      "ICMR_1_1_0, Subject 7\n"
     ]
    },
    {
     "name": "stdout",
     "output_type": "stream",
     "text": [
      "2297.889245506747\n",
      "ICMR_1_1_0, Subject 8\n"
     ]
    },
    {
     "name": "stdout",
     "output_type": "stream",
     "text": [
      "2106.7814929082015\n",
      "ICMR_1_1_0, Subject 9\n"
     ]
    },
    {
     "name": "stdout",
     "output_type": "stream",
     "text": [
      "1719.4086600601408\n",
      "ICMR_1_1_0, Subject 10\n"
     ]
    },
    {
     "name": "stdout",
     "output_type": "stream",
     "text": [
      "2045.665190253982\n",
      "ICMR_1_1_0, Subject 11\n"
     ]
    },
    {
     "name": "stdout",
     "output_type": "stream",
     "text": [
      "1802.268279693158\n",
      "ICMR_1_1_0, Subject 12\n"
     ]
    },
    {
     "name": "stdout",
     "output_type": "stream",
     "text": [
      "1822.9179911938118\n",
      "ICMR_1_1_0, Subject 13\n"
     ]
    },
    {
     "name": "stdout",
     "output_type": "stream",
     "text": [
      "1922.048914731295\n",
      "ICMR_1_1_0, Subject 14\n"
     ]
    },
    {
     "name": "stdout",
     "output_type": "stream",
     "text": [
      "2078.2399847444503\n",
      "ICMR_1_1_0, Subject 15\n"
     ]
    },
    {
     "name": "stdout",
     "output_type": "stream",
     "text": [
      "2137.3220306638127\n"
     ]
    },
    {
     "name": "stdout",
     "output_type": "stream",
     "text": [
      "ICMR_1_1_1, Subject 1\n"
     ]
    },
    {
     "name": "stdout",
     "output_type": "stream",
     "text": [
      "1442.972335424451\n",
      "ICMR_1_1_1, Subject 2\n"
     ]
    },
    {
     "name": "stdout",
     "output_type": "stream",
     "text": [
      "2264.2099542820306\n",
      "ICMR_1_1_1, Subject 3\n"
     ]
    },
    {
     "name": "stdout",
     "output_type": "stream",
     "text": [
      "2181.6629240856187\n",
      "ICMR_1_1_1, Subject 4\n"
     ]
    },
    {
     "name": "stdout",
     "output_type": "stream",
     "text": [
      "1633.6851267037268\n",
      "ICMR_1_1_1, Subject 5\n"
     ]
    },
    {
     "name": "stdout",
     "output_type": "stream",
     "text": [
      "2082.453961738677\n",
      "ICMR_1_1_1, Subject 6\n"
     ]
    },
    {
     "name": "stdout",
     "output_type": "stream",
     "text": [
      "1725.121417630235\n",
      "ICMR_1_1_1, Subject 7\n"
     ]
    },
    {
     "name": "stdout",
     "output_type": "stream",
     "text": [
      "2299.269683006473\n",
      "ICMR_1_1_1, Subject 8\n"
     ]
    },
    {
     "name": "stdout",
     "output_type": "stream",
     "text": [
      "2096.7968956191453\n",
      "ICMR_1_1_1, Subject 9\n"
     ]
    },
    {
     "name": "stdout",
     "output_type": "stream",
     "text": [
      "1711.3947152700289\n",
      "ICMR_1_1_1, Subject 10\n"
     ]
    },
    {
     "name": "stdout",
     "output_type": "stream",
     "text": [
      "2047.9655495944542\n",
      "ICMR_1_1_1, Subject 11\n"
     ]
    },
    {
     "name": "stdout",
     "output_type": "stream",
     "text": [
      "1800.3204030565628\n",
      "ICMR_1_1_1, Subject 12\n"
     ]
    },
    {
     "name": "stdout",
     "output_type": "stream",
     "text": [
      "1821.358703619272\n",
      "ICMR_1_1_1, Subject 13\n"
     ]
    },
    {
     "name": "stdout",
     "output_type": "stream",
     "text": [
      "1925.2273184712533\n",
      "ICMR_1_1_1, Subject 14\n"
     ]
    },
    {
     "name": "stdout",
     "output_type": "stream",
     "text": [
      "2079.1885332157444\n",
      "ICMR_1_1_1, Subject 15\n"
     ]
    },
    {
     "name": "stdout",
     "output_type": "stream",
     "text": [
      "2141.267395260217\n"
     ]
    }
   ],
   "source": [
    "# | code-summary: code -- 1) fit each model class participant-by-participant\n",
    "# | output: false\n",
    "\n",
    "for model_index, model_class in enumerate(models):\n",
    "\n",
    "    # load individual fits for this model and section tag from csv if they exist\n",
    "    if os.path.isfile(results_path + '{}_{}_individual.csv'.format(section_tag, model_names[model_index])):\n",
    "        pd.read_csv(results_path + '{}_{}_individual.csv'.format(section_tag, model_names[model_index]))\n",
    "        print('individual fits for {} with tag {} already exist'.format(model_names[model_index], section_tag))\n",
    "\n",
    "    # otherwise, fit each participant individually\n",
    "    else:\n",
    "        model_individual_fits = []\n",
    "\n",
    "        @njit(fastmath=True, nogil=True)\n",
    "        def init_model(item_count, presentation_count, parameters):\n",
    "            return model_class(item_count, presentation_count, parameters)\n",
    "\n",
    "        for subject in pd.unique(events.subject):\n",
    "            print(f'{model_names[model_index]}, Subject {subject}')\n",
    "\n",
    "            subject_specific_trial_mask = np.logical_and(\n",
    "                generate_trial_mask(events, f'subject == {subject}'), trial_mask)\n",
    "            \n",
    "            try:\n",
    "                # cost function to be minimized\n",
    "                # ours scales inversely with the probability that the data could have been\n",
    "                # generated using the specified parameters and our model\n",
    "                cost_function = generate_objective_function(\n",
    "                    [trials[i][subject_specific_trial_mask[i]] for i in range(len(trials))],\n",
    "                    [presentations[i][subject_specific_trial_mask[i]] for i in range(len(presentations))],\n",
    "                    list_lengths,\n",
    "                    init_model,\n",
    "                    fixed_parameters[model_index],\n",
    "                    free_parameters[model_index],\n",
    "                )\n",
    "            except ValueError:\n",
    "                continue\n",
    "\n",
    "            fit_result =  differential_evolution(cost_function, bounds[model_index], disp=False)\n",
    "\n",
    "            fitted_parameters = {\n",
    "                'subject': subject, 'trial_count': np.sum(subject_specific_trial_mask), \n",
    "                'likelihood': fit_result.fun, 'model': model_names[model_index]\n",
    "                }\n",
    "            for i in range(len(fit_result.x)):\n",
    "                fitted_parameters[free_parameters[model_index][i]] = fit_result.x[i]\n",
    "            for key in fixed_parameters[model_index]:\n",
    "                fitted_parameters[key] = fixed_parameters[model_index][key]\n",
    "\n",
    "            model_individual_fits.append(pd.DataFrame.from_dict(fitted_parameters, orient='index').T)\n",
    "            print(model_individual_fits[-1]['likelihood'][0])\n",
    "\n",
    "        model_individual_fits = pd.concat(model_individual_fits, ignore_index=True)\n",
    "        model_individual_fits.to_csv(\n",
    "            results_path + '{}_{}_individual.csv'.format(section_tag, model_names[model_index]), index=False)"
   ]
  },
  {
   "cell_type": "code",
   "execution_count": 5,
   "id": "15d06153",
   "metadata": {
    "execution": {
     "iopub.execute_input": "2022-06-01T01:10:17.012824Z",
     "iopub.status.busy": "2022-06-01T01:10:17.011960Z",
     "iopub.status.idle": "2022-06-01T01:10:18.137331Z",
     "shell.execute_reply": "2022-06-01T01:10:18.136436Z"
    },
    "papermill": {
     "duration": 1.163219,
     "end_time": "2022-06-01T01:10:18.139298",
     "exception": false,
     "start_time": "2022-06-01T01:10:16.976079",
     "status": "completed"
    },
    "tags": []
   },
   "outputs": [
    {
     "data": {
      "text/plain": [
       "Text(-1.9305555555555483, 0.5, 'Individual Log-Likelihood')"
      ]
     },
     "execution_count": 5,
     "metadata": {},
     "output_type": "execute_result"
    },
    {
     "data": {
      "image/png": "[encoded data removed]",
      "text/plain": [
       "<Figure size 500x500 with 1 Axes>"
      ]
     },
     "metadata": {},
     "output_type": "display_data"
    }
   ],
   "source": [
    "#| code-summary: code -- 3) plot distribution of log-likelihoods across individual subjects\n",
    "\n",
    "plt.style.use('default')\n",
    "sns.set(style=\"darkgrid\")\n",
    "\n",
    "# build individual fits df concatenating results from each model\n",
    "individual_fits = []\n",
    "for model_index, model_class in enumerate(models):\n",
    "    individual_fits.append(\n",
    "        pd.read_csv(results_path + '{}_{}_individual.csv'.format(section_tag, model_names[model_index])))\n",
    "individual_fits = pd.concat(individual_fits, ignore_index=True)\n",
    "\n",
    "# plot distribution of log-likelihoods across individual subjects\n",
    "g = sns.catplot(x='model', y='likelihood', data=individual_fits, kind='violin', inner='stick')\n",
    "sns.swarmplot(x=\"model\", y=\"likelihood\", data=individual_fits, color=\"k\", size=3, ax=g.ax)\n",
    "g.ax.set_ylabel('Individual Log-Likelihood')\n",
    "#plt.savefig(results_path + 'individual_{}.pdf'.format(section_tag), bbox_inches=\"tight\")"
   ]
  },
  {
   "cell_type": "code",
   "execution_count": 6,
   "id": "8a29937b",
   "metadata": {
    "execution": {
     "iopub.execute_input": "2022-06-01T01:10:18.226847Z",
     "iopub.status.busy": "2022-06-01T01:10:18.226252Z",
     "iopub.status.idle": "2022-06-01T01:10:18.323986Z",
     "shell.execute_reply": "2022-06-01T01:10:18.323160Z"
    },
    "papermill": {
     "duration": 0.140421,
     "end_time": "2022-06-01T01:10:18.328905",
     "exception": false,
     "start_time": "2022-06-01T01:10:18.188484",
     "status": "completed"
    },
    "tags": []
   },
   "outputs": [
    {
     "data": {
      "text/html": [
       "<div>\n",
       "<style scoped>\n",
       "    .dataframe tbody tr th:only-of-type {\n",
       "        vertical-align: middle;\n",
       "    }\n",
       "\n",
       "    .dataframe tbody tr th {\n",
       "        vertical-align: top;\n",
       "    }\n",
       "\n",
       "    .dataframe thead th {\n",
       "        text-align: right;\n",
       "    }\n",
       "</style>\n",
       "<table border=\"1\" class=\"dataframe\">\n",
       "  <thead>\n",
       "    <tr style=\"text-align: right;\">\n",
       "      <th></th>\n",
       "      <th>subject</th>\n",
       "      <th>trial_count</th>\n",
       "      <th>likelihood</th>\n",
       "      <th>model</th>\n",
       "      <th>encoding_drift_rate</th>\n",
       "      <th>start_drift_rate</th>\n",
       "      <th>recall_drift_rate</th>\n",
       "      <th>shared_support</th>\n",
       "      <th>item_support</th>\n",
       "      <th>learning_rate</th>\n",
       "      <th>primacy_scale</th>\n",
       "      <th>primacy_decay</th>\n",
       "      <th>stop_probability_scale</th>\n",
       "      <th>stop_probability_growth</th>\n",
       "      <th>choice_sensitivity</th>\n",
       "      <th>delay_drift_rate</th>\n",
       "      <th>feature_sensitivity</th>\n",
       "      <th>context_sensitivity</th>\n",
       "      <th>learn_first</th>\n",
       "    </tr>\n",
       "  </thead>\n",
       "  <tbody>\n",
       "    <tr>\n",
       "      <th>0</th>\n",
       "      <td>1</td>\n",
       "      <td>80</td>\n",
       "      <td>1444.535918</td>\n",
       "      <td>PrototypeCMR</td>\n",
       "      <td>0.551265</td>\n",
       "      <td>2.343698e-02</td>\n",
       "      <td>0.588796</td>\n",
       "      <td>0.298718</td>\n",
       "      <td>0.997996</td>\n",
       "      <td>0.160118</td>\n",
       "      <td>7.073345</td>\n",
       "      <td>56.637501</td>\n",
       "      <td>0.013588</td>\n",
       "      <td>0.457477</td>\n",
       "      <td>6.709806</td>\n",
       "      <td>9.424417e-01</td>\n",
       "      <td>NaN</td>\n",
       "      <td>NaN</td>\n",
       "      <td>NaN</td>\n",
       "    </tr>\n",
       "    <tr>\n",
       "      <th>1</th>\n",
       "      <td>2</td>\n",
       "      <td>80</td>\n",
       "      <td>2244.426575</td>\n",
       "      <td>PrototypeCMR</td>\n",
       "      <td>0.617496</td>\n",
       "      <td>2.220446e-16</td>\n",
       "      <td>0.824339</td>\n",
       "      <td>0.350136</td>\n",
       "      <td>0.319133</td>\n",
       "      <td>0.183797</td>\n",
       "      <td>1.812119</td>\n",
       "      <td>54.536397</td>\n",
       "      <td>0.003676</td>\n",
       "      <td>0.419806</td>\n",
       "      <td>6.710387</td>\n",
       "      <td>1.000000e+00</td>\n",
       "      <td>NaN</td>\n",
       "      <td>NaN</td>\n",
       "      <td>NaN</td>\n",
       "    </tr>\n",
       "    <tr>\n",
       "      <th>2</th>\n",
       "      <td>3</td>\n",
       "      <td>80</td>\n",
       "      <td>2180.903561</td>\n",
       "      <td>PrototypeCMR</td>\n",
       "      <td>0.636225</td>\n",
       "      <td>5.764508e-03</td>\n",
       "      <td>0.771037</td>\n",
       "      <td>0.188047</td>\n",
       "      <td>1.000000</td>\n",
       "      <td>0.124977</td>\n",
       "      <td>6.300856</td>\n",
       "      <td>65.212373</td>\n",
       "      <td>0.007217</td>\n",
       "      <td>0.368461</td>\n",
       "      <td>4.031610</td>\n",
       "      <td>9.634540e-01</td>\n",
       "      <td>NaN</td>\n",
       "      <td>NaN</td>\n",
       "      <td>NaN</td>\n",
       "    </tr>\n",
       "    <tr>\n",
       "      <th>3</th>\n",
       "      <td>4</td>\n",
       "      <td>80</td>\n",
       "      <td>1635.152145</td>\n",
       "      <td>PrototypeCMR</td>\n",
       "      <td>0.801980</td>\n",
       "      <td>2.497764e-02</td>\n",
       "      <td>0.745194</td>\n",
       "      <td>0.040560</td>\n",
       "      <td>1.000000</td>\n",
       "      <td>0.156900</td>\n",
       "      <td>10.564858</td>\n",
       "      <td>33.854793</td>\n",
       "      <td>0.027753</td>\n",
       "      <td>0.338411</td>\n",
       "      <td>1.412740</td>\n",
       "      <td>2.220446e-16</td>\n",
       "      <td>NaN</td>\n",
       "      <td>NaN</td>\n",
       "      <td>NaN</td>\n",
       "    </tr>\n",
       "    <tr>\n",
       "      <th>4</th>\n",
       "      <td>5</td>\n",
       "      <td>80</td>\n",
       "      <td>2071.054953</td>\n",
       "      <td>PrototypeCMR</td>\n",
       "      <td>0.596379</td>\n",
       "      <td>5.301126e-03</td>\n",
       "      <td>0.741214</td>\n",
       "      <td>0.541529</td>\n",
       "      <td>0.486217</td>\n",
       "      <td>0.256403</td>\n",
       "      <td>2.422391</td>\n",
       "      <td>76.078088</td>\n",
       "      <td>0.014294</td>\n",
       "      <td>0.298035</td>\n",
       "      <td>10.000000</td>\n",
       "      <td>9.986583e-01</td>\n",
       "      <td>NaN</td>\n",
       "      <td>NaN</td>\n",
       "      <td>NaN</td>\n",
       "    </tr>\n",
       "    <tr>\n",
       "      <th>...</th>\n",
       "      <td>...</td>\n",
       "      <td>...</td>\n",
       "      <td>...</td>\n",
       "      <td>...</td>\n",
       "      <td>...</td>\n",
       "      <td>...</td>\n",
       "      <td>...</td>\n",
       "      <td>...</td>\n",
       "      <td>...</td>\n",
       "      <td>...</td>\n",
       "      <td>...</td>\n",
       "      <td>...</td>\n",
       "      <td>...</td>\n",
       "      <td>...</td>\n",
       "      <td>...</td>\n",
       "      <td>...</td>\n",
       "      <td>...</td>\n",
       "      <td>...</td>\n",
       "      <td>...</td>\n",
       "    </tr>\n",
       "    <tr>\n",
       "      <th>70</th>\n",
       "      <td>11</td>\n",
       "      <td>80</td>\n",
       "      <td>1800.320403</td>\n",
       "      <td>ICMR_1_1_1</td>\n",
       "      <td>0.655467</td>\n",
       "      <td>2.220446e-16</td>\n",
       "      <td>0.850272</td>\n",
       "      <td>0.003913</td>\n",
       "      <td>0.704860</td>\n",
       "      <td>0.132772</td>\n",
       "      <td>34.506032</td>\n",
       "      <td>89.049393</td>\n",
       "      <td>0.021400</td>\n",
       "      <td>0.267742</td>\n",
       "      <td>1.000000</td>\n",
       "      <td>9.999998e-01</td>\n",
       "      <td>1.0</td>\n",
       "      <td>1.820318</td>\n",
       "      <td>True</td>\n",
       "    </tr>\n",
       "    <tr>\n",
       "      <th>71</th>\n",
       "      <td>12</td>\n",
       "      <td>80</td>\n",
       "      <td>1821.358704</td>\n",
       "      <td>ICMR_1_1_1</td>\n",
       "      <td>0.672824</td>\n",
       "      <td>2.220446e-16</td>\n",
       "      <td>0.013379</td>\n",
       "      <td>0.005814</td>\n",
       "      <td>0.751162</td>\n",
       "      <td>0.083709</td>\n",
       "      <td>24.466574</td>\n",
       "      <td>16.596223</td>\n",
       "      <td>0.022590</td>\n",
       "      <td>0.286347</td>\n",
       "      <td>1.000000</td>\n",
       "      <td>9.999980e-01</td>\n",
       "      <td>1.0</td>\n",
       "      <td>2.046036</td>\n",
       "      <td>True</td>\n",
       "    </tr>\n",
       "    <tr>\n",
       "      <th>72</th>\n",
       "      <td>13</td>\n",
       "      <td>80</td>\n",
       "      <td>1925.227318</td>\n",
       "      <td>ICMR_1_1_1</td>\n",
       "      <td>0.678063</td>\n",
       "      <td>2.220446e-16</td>\n",
       "      <td>0.721746</td>\n",
       "      <td>0.013234</td>\n",
       "      <td>1.000000</td>\n",
       "      <td>0.206984</td>\n",
       "      <td>56.398039</td>\n",
       "      <td>65.475013</td>\n",
       "      <td>0.021838</td>\n",
       "      <td>0.268156</td>\n",
       "      <td>1.000000</td>\n",
       "      <td>9.994756e-01</td>\n",
       "      <td>1.0</td>\n",
       "      <td>2.621053</td>\n",
       "      <td>True</td>\n",
       "    </tr>\n",
       "    <tr>\n",
       "      <th>73</th>\n",
       "      <td>14</td>\n",
       "      <td>80</td>\n",
       "      <td>2079.188533</td>\n",
       "      <td>ICMR_1_1_1</td>\n",
       "      <td>0.758246</td>\n",
       "      <td>2.220446e-16</td>\n",
       "      <td>0.681700</td>\n",
       "      <td>0.009846</td>\n",
       "      <td>1.000000</td>\n",
       "      <td>0.223027</td>\n",
       "      <td>33.313863</td>\n",
       "      <td>14.652559</td>\n",
       "      <td>0.007943</td>\n",
       "      <td>0.398666</td>\n",
       "      <td>1.000000</td>\n",
       "      <td>3.456573e-01</td>\n",
       "      <td>1.0</td>\n",
       "      <td>1.985752</td>\n",
       "      <td>True</td>\n",
       "    </tr>\n",
       "    <tr>\n",
       "      <th>74</th>\n",
       "      <td>15</td>\n",
       "      <td>80</td>\n",
       "      <td>2141.267395</td>\n",
       "      <td>ICMR_1_1_1</td>\n",
       "      <td>0.715135</td>\n",
       "      <td>2.220446e-16</td>\n",
       "      <td>0.555913</td>\n",
       "      <td>0.006079</td>\n",
       "      <td>1.000000</td>\n",
       "      <td>0.047149</td>\n",
       "      <td>36.154821</td>\n",
       "      <td>24.686330</td>\n",
       "      <td>0.012344</td>\n",
       "      <td>0.331224</td>\n",
       "      <td>1.000000</td>\n",
       "      <td>9.850707e-01</td>\n",
       "      <td>1.0</td>\n",
       "      <td>1.534414</td>\n",
       "      <td>True</td>\n",
       "    </tr>\n",
       "  </tbody>\n",
       "</table>\n",
       "<p>75 rows × 19 columns</p>\n",
       "</div>"
      ],
      "text/plain": [
       "    subject  trial_count   likelihood         model  encoding_drift_rate  \\\n",
       "0         1           80  1444.535918  PrototypeCMR             0.551265   \n",
       "1         2           80  2244.426575  PrototypeCMR             0.617496   \n",
       "2         3           80  2180.903561  PrototypeCMR             0.636225   \n",
       "3         4           80  1635.152145  PrototypeCMR             0.801980   \n",
       "4         5           80  2071.054953  PrototypeCMR             0.596379   \n",
       "..      ...          ...          ...           ...                  ...   \n",
       "70       11           80  1800.320403    ICMR_1_1_1             0.655467   \n",
       "71       12           80  1821.358704    ICMR_1_1_1             0.672824   \n",
       "72       13           80  1925.227318    ICMR_1_1_1             0.678063   \n",
       "73       14           80  2079.188533    ICMR_1_1_1             0.758246   \n",
       "74       15           80  2141.267395    ICMR_1_1_1             0.715135   \n",
       "\n",
       "    start_drift_rate  recall_drift_rate  shared_support  item_support  \\\n",
       "0       2.343698e-02           0.588796        0.298718      0.997996   \n",
       "1       2.220446e-16           0.824339        0.350136      0.319133   \n",
       "2       5.764508e-03           0.771037        0.188047      1.000000   \n",
       "3       2.497764e-02           0.745194        0.040560      1.000000   \n",
       "4       5.301126e-03           0.741214        0.541529      0.486217   \n",
       "..               ...                ...             ...           ...   \n",
       "70      2.220446e-16           0.850272        0.003913      0.704860   \n",
       "71      2.220446e-16           0.013379        0.005814      0.751162   \n",
       "72      2.220446e-16           0.721746        0.013234      1.000000   \n",
       "73      2.220446e-16           0.681700        0.009846      1.000000   \n",
       "74      2.220446e-16           0.555913        0.006079      1.000000   \n",
       "\n",
       "    learning_rate  primacy_scale  primacy_decay  stop_probability_scale  \\\n",
       "0        0.160118       7.073345      56.637501                0.013588   \n",
       "1        0.183797       1.812119      54.536397                0.003676   \n",
       "2        0.124977       6.300856      65.212373                0.007217   \n",
       "3        0.156900      10.564858      33.854793                0.027753   \n",
       "4        0.256403       2.422391      76.078088                0.014294   \n",
       "..            ...            ...            ...                     ...   \n",
       "70       0.132772      34.506032      89.049393                0.021400   \n",
       "71       0.083709      24.466574      16.596223                0.022590   \n",
       "72       0.206984      56.398039      65.475013                0.021838   \n",
       "73       0.223027      33.313863      14.652559                0.007943   \n",
       "74       0.047149      36.154821      24.686330                0.012344   \n",
       "\n",
       "    stop_probability_growth  choice_sensitivity  delay_drift_rate  \\\n",
       "0                  0.457477            6.709806      9.424417e-01   \n",
       "1                  0.419806            6.710387      1.000000e+00   \n",
       "2                  0.368461            4.031610      9.634540e-01   \n",
       "3                  0.338411            1.412740      2.220446e-16   \n",
       "4                  0.298035           10.000000      9.986583e-01   \n",
       "..                      ...                 ...               ...   \n",
       "70                 0.267742            1.000000      9.999998e-01   \n",
       "71                 0.286347            1.000000      9.999980e-01   \n",
       "72                 0.268156            1.000000      9.994756e-01   \n",
       "73                 0.398666            1.000000      3.456573e-01   \n",
       "74                 0.331224            1.000000      9.850707e-01   \n",
       "\n",
       "    feature_sensitivity  context_sensitivity learn_first  \n",
       "0                   NaN                  NaN         NaN  \n",
       "1                   NaN                  NaN         NaN  \n",
       "2                   NaN                  NaN         NaN  \n",
       "3                   NaN                  NaN         NaN  \n",
       "4                   NaN                  NaN         NaN  \n",
       "..                  ...                  ...         ...  \n",
       "70                  1.0             1.820318        True  \n",
       "71                  1.0             2.046036        True  \n",
       "72                  1.0             2.621053        True  \n",
       "73                  1.0             1.985752        True  \n",
       "74                  1.0             1.534414        True  \n",
       "\n",
       "[75 rows x 19 columns]"
      ]
     },
     "execution_count": 6,
     "metadata": {},
     "output_type": "execute_result"
    }
   ],
   "source": [
    "individual_fits"
   ]
  },
  {
   "cell_type": "code",
   "execution_count": 7,
   "id": "d9f7d91d",
   "metadata": {
    "execution": {
     "iopub.execute_input": "2022-06-01T01:10:18.451972Z",
     "iopub.status.busy": "2022-06-01T01:10:18.451093Z",
     "iopub.status.idle": "2022-06-01T01:10:18.636770Z",
     "shell.execute_reply": "2022-06-01T01:10:18.635039Z"
    },
    "papermill": {
     "duration": 0.239119,
     "end_time": "2022-06-01T01:10:18.640847",
     "exception": false,
     "start_time": "2022-06-01T01:10:18.401728",
     "status": "completed"
    },
    "tags": []
   },
   "outputs": [
    {
     "name": "stdout",
     "output_type": "stream",
     "text": [
      "::: {#fig-Murdock1962_LL40fits layout-nrow=2 layout-valign=\"center\"}\n",
      "\n",
      "![](results/individual_Murdock1962_LL40.pdf)\n",
      "\n",
      "|       |   ICMR_1_0_0 |   ICMR_1_0_1 |   ICMR_1_1_0 |   ICMR_1_1_1 |   PrototypeCMR |\n",
      "|:------|-------------:|-------------:|-------------:|-------------:|---------------:|\n",
      "| count |        15    |       15     |       15     |       15     |         15     |\n",
      "| mean  |      1944.34 |     1978.32  |     1950.09  |     1950.19  |       1940.96  |\n",
      "| std   |       248.83 |      318.232 |      249.552 |      250.791 |        247.619 |\n",
      "| min   |      1441.05 |     1441.32  |     1442.97  |     1442.97  |       1444.54  |\n",
      "| 25%   |      1757.55 |     1756.14  |     1763.63  |     1762.72  |       1753.81  |\n",
      "| 50%   |      2043.01 |     2045.47  |     2045.67  |     2047.97  |       2057.43  |\n",
      "| 75%   |      2106.17 |     2108.62  |     2122.05  |     2119.03  |       2096.81  |\n",
      "| max   |      2295.24 |     2773.93  |     2297.89  |     2299.27  |       2290.38  |\n",
      "\n",
      "Distribution of log-likelihood scores of recall sequences exhibited by each subject in dataset under each considered model.\n",
      ":::\n"
     ]
    }
   ],
   "source": [
    "#| code-summary: display markdown rendering of summary table\n",
    "#| echo: false\n",
    "#| input: false\n",
    "#| output: asis\n",
    "\n",
    "summary_table = pd.DataFrame(group.describe().rename(columns={'likelihood':name}).squeeze()\n",
    "            for name, group in individual_fits[['model', 'likelihood']].groupby('model')).T.to_markdown()\n",
    "\n",
    "print(\"\"\"::: {{#fig-{section_tag}fits layout-nrow=2 layout-valign=\"center\"}}\n",
    "\n",
    "![]({results_path}individual_{section_tag}.pdf)\n",
    "\n",
    "{summary_table}\n",
    "\n",
    "{individual_fits_caption}\n",
    ":::\"\"\".format(section_tag=section_tag, summary_table=summary_table, individual_fits_caption=figure_caption, results_path=results_path))"
   ]
  },
  {
   "cell_type": "code",
   "execution_count": 8,
   "id": "47ee9ff0",
   "metadata": {
    "execution": {
     "iopub.execute_input": "2022-06-01T01:10:18.770334Z",
     "iopub.status.busy": "2022-06-01T01:10:18.769633Z",
     "iopub.status.idle": "2022-06-01T01:10:18.831668Z",
     "shell.execute_reply": "2022-06-01T01:10:18.830961Z"
    },
    "papermill": {
     "duration": 0.11833,
     "end_time": "2022-06-01T01:10:18.834124",
     "exception": false,
     "start_time": "2022-06-01T01:10:18.715794",
     "status": "completed"
    },
    "tags": []
   },
   "outputs": [
    {
     "name": "stdout",
     "output_type": "stream",
     "text": [
      "('PrototypeCMR', 'ICMR_1_0_0')\n",
      "Ttest_relResult(statistic=-0.8550400543608692, pvalue=0.4069239651682375)\n",
      "Ttest_relResult(statistic=-0.8550400543608692, pvalue=0.20346198258411874)\n",
      "Ttest_relResult(statistic=-0.8550400543608692, pvalue=0.7965380174158813)\n",
      "\n",
      "('PrototypeCMR', 'ICMR_1_0_1')\n",
      "Ttest_relResult(statistic=-1.1608595987014538, pvalue=0.26511117443953464)\n",
      "Ttest_relResult(statistic=-1.1608595987014538, pvalue=0.13255558721976732)\n",
      "Ttest_relResult(statistic=-1.1608595987014538, pvalue=0.8674444127802327)\n",
      "\n",
      "('PrototypeCMR', 'ICMR_1_1_0')\n",
      "Ttest_relResult(statistic=-2.0737707270521004, pvalue=0.05702961080160199)\n",
      "Ttest_relResult(statistic=-2.0737707270521004, pvalue=0.028514805400800994)\n",
      "Ttest_relResult(statistic=-2.0737707270521004, pvalue=0.971485194599199)\n",
      "\n",
      "('PrototypeCMR', 'ICMR_1_1_1')\n",
      "Ttest_relResult(statistic=-2.3469198562978804, pvalue=0.034163379172102)\n",
      "Ttest_relResult(statistic=-2.3469198562978804, pvalue=0.017081689586051)\n",
      "Ttest_relResult(statistic=-2.3469198562978804, pvalue=0.9829183104139491)\n",
      "\n",
      "('ICMR_1_0_0', 'ICMR_1_0_1')\n",
      "Ttest_relResult(statistic=-1.0684608616452165, pvalue=0.30339026994618024)\n",
      "Ttest_relResult(statistic=-1.0684608616452165, pvalue=0.15169513497309012)\n",
      "Ttest_relResult(statistic=-1.0684608616452165, pvalue=0.8483048650269098)\n",
      "\n",
      "('ICMR_1_0_0', 'ICMR_1_1_0')\n",
      "Ttest_relResult(statistic=-2.9989817132302914, pvalue=0.009570810013169426)\n",
      "Ttest_relResult(statistic=-2.9989817132302914, pvalue=0.004785405006584713)\n",
      "Ttest_relResult(statistic=-2.9989817132302914, pvalue=0.9952145949934152)\n",
      "\n",
      "('ICMR_1_0_0', 'ICMR_1_1_1')\n",
      "Ttest_relResult(statistic=-4.034119779180785, pvalue=0.0012309319606528212)\n",
      "Ttest_relResult(statistic=-4.034119779180785, pvalue=0.0006154659803264106)\n",
      "Ttest_relResult(statistic=-4.034119779180785, pvalue=0.9993845340196735)\n",
      "\n",
      "('ICMR_1_0_1', 'ICMR_1_1_0')\n",
      "Ttest_relResult(statistic=0.8808139738165828, pvalue=0.39328874131045377)\n",
      "Ttest_relResult(statistic=0.8808139738165828, pvalue=0.8033556293447731)\n",
      "Ttest_relResult(statistic=0.8808139738165828, pvalue=0.19664437065522689)\n",
      "\n",
      "('ICMR_1_0_1', 'ICMR_1_1_1')\n",
      "Ttest_relResult(statistic=0.8806613046679466, pvalue=0.39336859457766793)\n",
      "Ttest_relResult(statistic=0.8806613046679466, pvalue=0.803315702711166)\n",
      "Ttest_relResult(statistic=0.8806613046679466, pvalue=0.19668429728883396)\n",
      "\n",
      "('ICMR_1_1_0', 'ICMR_1_1_1')\n",
      "Ttest_relResult(statistic=-0.08628647719763136, pvalue=0.9324606170500185)\n",
      "Ttest_relResult(statistic=-0.08628647719763136, pvalue=0.46623030852500924)\n",
      "Ttest_relResult(statistic=-0.08628647719763136, pvalue=0.5337696914749908)\n",
      "\n"
     ]
    }
   ],
   "source": [
    "#| code-summary: perform t-tests on individual-level fits\n",
    "#| output: false\n",
    " \n",
    "from scipy.stats import ttest_rel\n",
    "import itertools\n",
    "\n",
    "for combination in itertools.combinations(pd.unique(individual_fits.model), 2):\n",
    "\n",
    "    print(combination)\n",
    "    print(ttest_rel(individual_fits[individual_fits.model == combination[0]].likelihood, individual_fits[individual_fits.model == combination[1]].likelihood, alternative='two-sided'))\n",
    "    print(ttest_rel(individual_fits[individual_fits.model == combination[0]].likelihood, individual_fits[individual_fits.model == combination[1]].likelihood, alternative='less'))\n",
    "    print(ttest_rel(individual_fits[individual_fits.model == combination[0]].likelihood, individual_fits[individual_fits.model == combination[1]].likelihood, alternative='greater'))\n",
    "    print()"
   ]
  },
  {
   "cell_type": "code",
   "execution_count": 9,
   "id": "68da6b3f",
   "metadata": {
    "execution": {
     "iopub.execute_input": "2022-06-01T01:10:18.918205Z",
     "iopub.status.busy": "2022-06-01T01:10:18.917716Z",
     "iopub.status.idle": "2022-06-01T01:10:18.975268Z",
     "shell.execute_reply": "2022-06-01T01:10:18.974536Z"
    },
    "papermill": {
     "duration": 0.100366,
     "end_time": "2022-06-01T01:10:18.977253",
     "exception": false,
     "start_time": "2022-06-01T01:10:18.876887",
     "status": "completed"
    },
    "tags": []
   },
   "outputs": [
    {
     "name": "stdout",
     "output_type": "stream",
     "text": [
      "('PrototypeCMR', 'ICMR_1_0_0')\n",
      "0.6 0.4\n",
      "9 6\n",
      "\n",
      "('PrototypeCMR', 'ICMR_1_0_1')\n",
      "0.6 0.4\n",
      "9 6\n",
      "\n",
      "('PrototypeCMR', 'ICMR_1_1_0')\n",
      "0.7333333333333333 0.26666666666666666\n",
      "11 4\n",
      "\n",
      "('PrototypeCMR', 'ICMR_1_1_1')\n",
      "0.8 0.2\n",
      "12 3\n",
      "\n",
      "('ICMR_1_0_0', 'ICMR_1_0_1')\n",
      "0.6 0.4\n",
      "9 6\n",
      "\n",
      "('ICMR_1_0_0', 'ICMR_1_1_0')\n",
      "0.8666666666666667 0.13333333333333333\n",
      "13 2\n",
      "\n",
      "('ICMR_1_0_0', 'ICMR_1_1_1')\n",
      "0.9333333333333333 0.06666666666666667\n",
      "14 1\n",
      "\n",
      "('ICMR_1_0_1', 'ICMR_1_1_0')\n",
      "0.8 0.2\n",
      "12 3\n",
      "\n",
      "('ICMR_1_0_1', 'ICMR_1_1_1')\n",
      "0.8 0.2\n",
      "12 3\n",
      "\n",
      "('ICMR_1_1_0', 'ICMR_1_1_1')\n",
      "0.7333333333333333 0.26666666666666666\n",
      "11 4\n",
      "\n"
     ]
    }
   ],
   "source": [
    "for combination in itertools.combinations(pd.unique(individual_fits.model), 2):\n",
    "\n",
    "    print(combination)\n",
    "    print(np.mean(individual_fits[individual_fits.model == combination[0]].likelihood.values < individual_fits[individual_fits.model == combination[1]].likelihood.values), \n",
    "        np.mean(individual_fits[individual_fits.model == combination[1]].likelihood.values < individual_fits[individual_fits.model == combination[0]].likelihood.values))\n",
    "\n",
    "    print(np.sum(individual_fits[individual_fits.model == combination[0]].likelihood.values < individual_fits[individual_fits.model == combination[1]].likelihood.values), \n",
    "        np.sum(individual_fits[individual_fits.model == combination[1]].likelihood.values < individual_fits[individual_fits.model == combination[0]].likelihood.values))\n",
    "\n",
    "    print()"
   ]
  },
  {
   "cell_type": "code",
   "execution_count": 10,
   "id": "a0b0c025",
   "metadata": {
    "execution": {
     "iopub.execute_input": "2022-06-01T01:10:19.053824Z",
     "iopub.status.busy": "2022-06-01T01:10:19.053434Z",
     "iopub.status.idle": "2022-06-01T01:10:19.530061Z",
     "shell.execute_reply": "2022-06-01T01:10:19.529118Z"
    },
    "papermill": {
     "duration": 0.51821,
     "end_time": "2022-06-01T01:10:19.533929",
     "exception": false,
     "start_time": "2022-06-01T01:10:19.015719",
     "status": "completed"
    },
    "tags": []
   },
   "outputs": [
    {
     "name": "stdout",
     "output_type": "stream",
     "text": [
      "[1.00000000e+000 8.46725980e-023 4.12803616e-244 2.90059270e-060\n",
      " 6.66856523e-061]\n"
     ]
    }
   ],
   "source": [
    "def model_weights(positive_log_likelihoods, number_parameters, N):\n",
    "    AIC = 2 * positive_log_likelihoods + 2 * number_parameters\n",
    "    AICc = AIC #+ (2*np.power(number_parameters, 2) + 2 * number_parameters) / (N - number_parameters - 2)\n",
    "    AICd = AIC - np.min(AICc)\n",
    "    #return AICd\n",
    "    AICw = np.exp(-.5 * AICd) / np.sum(np.exp(-.5 * AICd))\n",
    "    return AICw\n",
    "\n",
    "aicw = {'Model': [], 'Subject': [], 'AICw': []}\n",
    "\n",
    "total_nlns = np.zeros(len(models))\n",
    "for subject_index, subject in enumerate(pd.unique(events.subject)):\n",
    "\n",
    "    subject_specific_trial_mask = np.logical_and(\n",
    "                    generate_trial_mask(events, f'subject == {subject}'), trial_mask)\n",
    "\n",
    "    nlnLs = []\n",
    "    for model_index, model_class in enumerate(models):\n",
    "        nlnLs.append(\n",
    "            individual_fits[individual_fits.model == model_names[model_index]].likelihood.values[subject_index])\n",
    "    nlnLs = np.array(nlnLs)\n",
    "    total_nlns += nlnLs\n",
    "    \n",
    "    weights = model_weights(nlnLs, len(free_parameters[model_index]), np.sum(subject_specific_trial_mask))\n",
    "    #print(weights)\n",
    "    for model_index, model_class in enumerate(models):\n",
    "        aicw['Model'].append(model_names[model_index])\n",
    "        aicw['Subject'].append(subject)\n",
    "        aicw['AICw'].append(weights[model_index])\n",
    "\n",
    "aicw = pd.DataFrame(data=aicw)\n",
    "total_aicw = model_weights(total_nlns, len(free_parameters[model_index]), np.sum(trial_mask))\n",
    "print(total_aicw)"
   ]
  },
  {
   "cell_type": "code",
   "execution_count": 11,
   "id": "dc264f7d",
   "metadata": {
    "execution": {
     "iopub.execute_input": "2022-06-01T01:10:19.658882Z",
     "iopub.status.busy": "2022-06-01T01:10:19.658471Z",
     "iopub.status.idle": "2022-06-01T01:10:20.086578Z",
     "shell.execute_reply": "2022-06-01T01:10:20.085900Z"
    },
    "papermill": {
     "duration": 0.475586,
     "end_time": "2022-06-01T01:10:20.089022",
     "exception": false,
     "start_time": "2022-06-01T01:10:19.613436",
     "status": "completed"
    },
    "tags": []
   },
   "outputs": [
    {
     "data": {
      "image/png": "[encoded data removed]",
      "text/plain": [
       "<Figure size 640x480 with 1 Axes>"
      ]
     },
     "metadata": {},
     "output_type": "display_data"
    }
   ],
   "source": [
    "import seaborn as sns\n",
    "sns.set_theme(style=\"darkgrid\")\n",
    "x = sns.pointplot(x=\"Model\", y=\"AICw\", data=aicw, join=False)\n",
    "\n",
    "plt.show()"
   ]
  },
  {
   "cell_type": "markdown",
   "id": "4a452168",
   "metadata": {
    "tags": [
     "papermill-error-cell-tag"
    ]
   },
   "source": [
    "<span id=\"papermill-error-cell\" style=\"color:red; font-family:Helvetica Neue, Helvetica, Arial, sans-serif; font-size:2em;\">Execution using papermill encountered an exception here and stopped:</span>"
   ]
  },
  {
   "cell_type": "code",
   "execution_count": 12,
   "id": "a4a066a3",
   "metadata": {
    "execution": {
     "iopub.execute_input": "2022-06-01T01:10:20.184346Z",
     "iopub.status.busy": "2022-06-01T01:10:20.183184Z",
     "iopub.status.idle": "2022-06-01T01:10:20.907537Z",
     "shell.execute_reply": "2022-06-01T01:10:20.906361Z"
    },
    "papermill": {
     "duration": 0.777073,
     "end_time": "2022-06-01T01:10:20.913406",
     "exception": true,
     "start_time": "2022-06-01T01:10:20.136333",
     "status": "failed"
    },
    "tags": []
   },
   "outputs": [
    {
     "ename": "NameError",
     "evalue": "name 'simulate_df_from_events' is not defined",
     "output_type": "error",
     "traceback": [
      "\u001b[0;31m---------------------------------------------------------------------------\u001b[0m",
      "\u001b[0;31mNameError\u001b[0m                                 Traceback (most recent call last)",
      "Input \u001b[0;32mIn [12]\u001b[0m, in \u001b[0;36m<cell line: 7>\u001b[0;34m()\u001b[0m\n\u001b[1;32m     36\u001b[0m     fitted_parameters[key] \u001b[38;5;241m=\u001b[39m fixed_parameters[model_index][key]\n\u001b[1;32m     38\u001b[0m \u001b[38;5;66;03m# simulate df based on specified trial_count and experiment_count\u001b[39;00m\n\u001b[1;32m     39\u001b[0m \u001b[38;5;66;03m#model = model_class(list_length, list_length, fitted_parameters)\u001b[39;00m\n\u001b[0;32m---> 40\u001b[0m sim_dfs\u001b[38;5;241m.\u001b[39mappend(\u001b[43msimulate_df_from_events\u001b[49m(model, fit_result[\u001b[38;5;124m'\u001b[39m\u001b[38;5;124mtrial_count\u001b[39m\u001b[38;5;124m'\u001b[39m]\u001b[38;5;241m.\u001b[39mvalues[\u001b[38;5;241m0\u001b[39m] \u001b[38;5;241m*\u001b[39m experiment_count))\n\u001b[1;32m     41\u001b[0m sim_dfs[\u001b[38;5;241m-\u001b[39m\u001b[38;5;241m1\u001b[39m]\u001b[38;5;241m.\u001b[39mlist \u001b[38;5;241m=\u001b[39m sim_dfs[\u001b[38;5;241m-\u001b[39m\u001b[38;5;241m1\u001b[39m]\u001b[38;5;241m.\u001b[39msubject\n\u001b[1;32m     42\u001b[0m sim_dfs[\u001b[38;5;241m-\u001b[39m\u001b[38;5;241m1\u001b[39m]\u001b[38;5;241m.\u001b[39msubject \u001b[38;5;241m=\u001b[39m subject\n",
      "\u001b[0;31mNameError\u001b[0m: name 'simulate_df_from_events' is not defined"
     ]
    }
   ],
   "source": [
    "sns.set(style='darkgrid')\n",
    "\n",
    "# for each unique list length\n",
    "if not (isinstance(list_lengths, list) or isinstance(list_lengths, List)): \n",
    "    list_lengths = [list_lengths]\n",
    "\n",
    "for list_length in list_lengths:\n",
    "\n",
    "    #fig, axes = plt.subplots(nrows=len(models), ncols=3, figsize=(15, int(4*len(models))), sharey=False)\n",
    "    \n",
    "    # for each unique model\n",
    "    for model_index, model_class in enumerate(models):\n",
    "\n",
    "        # load sim_df from csv if it exists\n",
    "        sim_df_path = results_path + '{}_{}_ll{}_sim_df.csv'.format(section_tag, model_names[model_index], list_length)\n",
    "        if os.path.isfile(sim_df_path):\n",
    "            sim_df = pd.read_csv(sim_df_path)\n",
    "            print('sim_df for {} with tag {} and list length {} already exists'.format(model_names[model_index], section_tag, list_length))\n",
    "\n",
    "        # otherwise, generate it\n",
    "        else:\n",
    "\n",
    "            # for each unique matching entry in individual df\n",
    "            sim_dfs = []\n",
    "            for subject in pd.unique(individual_fits.subject):\n",
    "                \n",
    "                fit_result = individual_fits.query(f'subject == {subject} & model == \"{model_names[model_index]}\"')\n",
    "\n",
    "                # configure model based on specified parameters\n",
    "                fitted_parameters = Dict.empty(\n",
    "                    key_type=types.unicode_type, value_type=types.float64\n",
    "                )\n",
    "                for i in range(len(free_parameters[model_index])):\n",
    "                    fitted_parameters[free_parameters[model_index][i]] = fit_result[free_parameters[model_index][i]].values[0]\n",
    "                for key in fixed_parameters[model_index]:\n",
    "                    fitted_parameters[key] = fixed_parameters[model_index][key]\n",
    "\n",
    "                # simulate df based on specified trial_count and experiment_count\n",
    "                #model = model_class(list_length, list_length, fitted_parameters)\n",
    "                sim_dfs.append(simulate_df_from_events(model, fit_result['trial_count'].values[0] * experiment_count))\n",
    "                sim_dfs[-1].list = sim_dfs[-1].subject\n",
    "                sim_dfs[-1].subject = subject\n",
    "\n",
    "            # concatenate simulations into one dataframe\n",
    "            sim_df = pd.concat(sim_dfs)\n",
    "\n",
    "            # save sim_df to csv\n",
    "            sim_df.to_csv(results_path +'{}_{}_ll{}_sim_df.csv'.format(section_tag, model_names[model_index], list_length), index=False)\n",
    "\n",
    "        # design general filter for analysis df\n",
    "        if len(list_lengths) > 1:\n",
    "            analysis_query = trial_query + f' & list_length == {list_length}'\n",
    "        else:\n",
    "            analysis_query = trial_query\n",
    "\n",
    "        # generate plot for each parametrized analysis and model\n",
    "        for analysis_index, analysis_function in enumerate(analyses):\n",
    "            analysis_name = analysis_names[analysis_index]\n",
    "            axis = analysis_function(\n",
    "                [events, sim_df], analysis_query, contrast_name=\"source\", labels=[\"data\", model_names[model_index]])\n",
    "            plt.savefig(results_path+'{}_{}_ll{}_{}.pdf'.format(section_tag, model_names[model_index], list_length, analysis_name), bbox_inches=\"tight\")"
   ]
  },
  {
   "cell_type": "code",
   "execution_count": null,
   "id": "fcabaa5f",
   "metadata": {
    "papermill": {
     "duration": null,
     "end_time": null,
     "exception": null,
     "start_time": null,
     "status": "pending"
    },
    "tags": []
   },
   "outputs": [],
   "source": []
  }
 ],
 "metadata": {
  "interpreter": {
   "hash": "19d1d53a962d236aa061289c2ac16dc8e6d9648c89fe79f459ae9a3493bc67b4"
  },
  "kernelspec": {
   "display_name": "Python 3.9.1 ('base')",
   "language": "python",
   "name": "python3"
  },
  "language_info": {
   "codemirror_mode": {
    "name": "ipython",
    "version": 3
   },
   "file_extension": ".py",
   "mimetype": "text/x-python",
   "name": "python",
   "nbconvert_exporter": "python",
   "pygments_lexer": "ipython3",
   "version": "3.8.6"
  },
  "papermill": {
   "default_parameters": {},
   "duration": 20697.22968,
   "end_time": "2022-06-01T01:10:23.608663",
   "environment_variables": {},
   "exception": true,
   "input_path": "Subjectwise_Model_Evaluation.ipynb",
   "output_path": "reports/Subjectwise_Model_Evaluation_Single_Murdock1962_LL40.ipynb",
   "parameters": {
    "bounds": [
     [
      [
       2.220446049250313e-16,
       0.9999999999999998
      ],
      [
       2.220446049250313e-16,
       0.9999999999999998
      ],
      [
       2.220446049250313e-16,
       0.9999999999999998
      ],
      [
       2.220446049250313e-16,
       0.9999999999999998
      ],
      [
       2.220446049250313e-16,
       0.9999999999999998
      ],
      [
       2.220446049250313e-16,
       0.9999999999999998
      ],
      [
       2.220446049250313e-16,
       100
      ],
      [
       2.220446049250313e-16,
       100
      ],
      [
       2.220446049250313e-16,
       0.9999999999999998
      ],
      [
       2.220446049250313e-16,
       10
      ],
      [
       2.220446049250313e-16,
       10
      ],
      [
       2.220446049250313e-16,
       0.9999999999999998
      ]
     ],
     [
      [
       2.220446049250313e-16,
       0.9999999999999998
      ],
      [
       2.220446049250313e-16,
       0.9999999999999998
      ],
      [
       2.220446049250313e-16,
       0.9999999999999998
      ],
      [
       2.220446049250313e-16,
       0.9999999999999998
      ],
      [
       2.220446049250313e-16,
       0.9999999999999998
      ],
      [
       2.220446049250313e-16,
       0.9999999999999998
      ],
      [
       2.220446049250313e-16,
       100
      ],
      [
       2.220446049250313e-16,
       100
      ],
      [
       2.220446049250313e-16,
       0.9999999999999998
      ],
      [
       2.220446049250313e-16,
       10
      ],
      [
       2.220446049250313e-16,
       10
      ],
      [
       2.220446049250313e-16,
       0.9999999999999998
      ]
     ],
     [
      [
       2.220446049250313e-16,
       0.9999999999999998
      ],
      [
       2.220446049250313e-16,
       0.9999999999999998
      ],
      [
       2.220446049250313e-16,
       0.9999999999999998
      ],
      [
       2.220446049250313e-16,
       0.9999999999999998
      ],
      [
       2.220446049250313e-16,
       0.9999999999999998
      ],
      [
       2.220446049250313e-16,
       0.9999999999999998
      ],
      [
       2.220446049250313e-16,
       100
      ],
      [
       2.220446049250313e-16,
       100
      ],
      [
       2.220446049250313e-16,
       0.9999999999999998
      ],
      [
       2.220446049250313e-16,
       10
      ],
      [
       2.220446049250313e-16,
       10
      ],
      [
       2.220446049250313e-16,
       0.9999999999999998
      ]
     ],
     [
      [
       2.220446049250313e-16,
       0.9999999999999998
      ],
      [
       2.220446049250313e-16,
       0.9999999999999998
      ],
      [
       2.220446049250313e-16,
       0.9999999999999998
      ],
      [
       2.220446049250313e-16,
       0.9999999999999998
      ],
      [
       2.220446049250313e-16,
       0.9999999999999998
      ],
      [
       2.220446049250313e-16,
       0.9999999999999998
      ],
      [
       2.220446049250313e-16,
       100
      ],
      [
       2.220446049250313e-16,
       100
      ],
      [
       2.220446049250313e-16,
       0.9999999999999998
      ],
      [
       2.220446049250313e-16,
       10
      ],
      [
       2.220446049250313e-16,
       10
      ],
      [
       2.220446049250313e-16,
       0.9999999999999998
      ]
     ],
     [
      [
       2.220446049250313e-16,
       0.9999999999999998
      ],
      [
       2.220446049250313e-16,
       0.9999999999999998
      ],
      [
       2.220446049250313e-16,
       0.9999999999999998
      ],
      [
       2.220446049250313e-16,
       0.9999999999999998
      ],
      [
       2.220446049250313e-16,
       0.9999999999999998
      ],
      [
       2.220446049250313e-16,
       0.9999999999999998
      ],
      [
       2.220446049250313e-16,
       100
      ],
      [
       2.220446049250313e-16,
       100
      ],
      [
       2.220446049250313e-16,
       0.9999999999999998
      ],
      [
       2.220446049250313e-16,
       10
      ],
      [
       2.220446049250313e-16,
       10
      ],
      [
       2.220446049250313e-16,
       0.9999999999999998
      ]
     ]
    ],
    "data_path": "data/Murdock1962.csv",
    "fixed_parameters": [
     {},
     {
      "context_sensitivity": 1,
      "feature_sensitivity": 1,
      "learn_first": false
     },
     {
      "context_sensitivity": 1,
      "feature_sensitivity": 1,
      "learn_first": true
     },
     {
      "choice_sensitivity": 1,
      "feature_sensitivity": 1,
      "learn_first": false
     },
     {
      "choice_sensitivity": 1,
      "feature_sensitivity": 1,
      "learn_first": true
     }
    ],
    "free_parameters": [
     [
      "encoding_drift_rate",
      "start_drift_rate",
      "recall_drift_rate",
      "shared_support",
      "item_support",
      "learning_rate",
      "primacy_scale",
      "primacy_decay",
      "stop_probability_scale",
      "stop_probability_growth",
      "choice_sensitivity",
      "delay_drift_rate"
     ],
     [
      "encoding_drift_rate",
      "start_drift_rate",
      "recall_drift_rate",
      "shared_support",
      "item_support",
      "learning_rate",
      "primacy_scale",
      "primacy_decay",
      "stop_probability_scale",
      "stop_probability_growth",
      "choice_sensitivity",
      "delay_drift_rate"
     ],
     [
      "encoding_drift_rate",
      "start_drift_rate",
      "recall_drift_rate",
      "shared_support",
      "item_support",
      "learning_rate",
      "primacy_scale",
      "primacy_decay",
      "stop_probability_scale",
      "stop_probability_growth",
      "choice_sensitivity",
      "delay_drift_rate"
     ],
     [
      "encoding_drift_rate",
      "start_drift_rate",
      "recall_drift_rate",
      "shared_support",
      "item_support",
      "learning_rate",
      "primacy_scale",
      "primacy_decay",
      "stop_probability_scale",
      "stop_probability_growth",
      "context_sensitivity",
      "delay_drift_rate"
     ],
     [
      "encoding_drift_rate",
      "start_drift_rate",
      "recall_drift_rate",
      "shared_support",
      "item_support",
      "learning_rate",
      "primacy_scale",
      "primacy_decay",
      "stop_probability_scale",
      "stop_probability_growth",
      "context_sensitivity",
      "delay_drift_rate"
     ]
    ],
    "model_names": [
     "PrototypeCMR",
     "ICMR_1_0_0",
     "ICMR_1_0_1",
     "ICMR_1_1_0",
     "ICMR_1_1_1"
    ],
    "model_paths": [
     "compmemlearn.models.Base_CMR",
     "compmemlearn.models.Single_ICMR",
     "compmemlearn.models.Single_ICMR",
     "compmemlearn.models.Single_ICMR",
     "compmemlearn.models.Single_ICMR"
    ],
    "section_tag": "Murdock1962_LL40",
    "trial_query": "`list length` == 40"
   },
   "start_time": "2022-05-31T19:25:26.378983",
   "version": "2.3.4"
  }
 },
 "nbformat": 4,
 "nbformat_minor": 5
}
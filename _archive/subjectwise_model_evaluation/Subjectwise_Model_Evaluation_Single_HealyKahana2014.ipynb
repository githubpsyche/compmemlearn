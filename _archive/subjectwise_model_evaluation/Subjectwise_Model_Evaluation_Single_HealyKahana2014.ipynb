{
 "cells": [
  {
   "cell_type": "markdown",
   "id": "a53de430",
   "metadata": {
    "tags": [
     "papermill-error-cell-tag"
    ]
   },
   "source": [
    "<span style=\"color:red; font-family:Helvetica Neue, Helvetica, Arial, sans-serif; font-size:2em;\">An Exception was encountered at '<a href=\"#papermill-error-cell\">In [12]</a>'.</span>"
   ]
  },
  {
   "cell_type": "code",
   "execution_count": 1,
   "id": "bdcfa5ea",
   "metadata": {
    "execution": {
     "iopub.execute_input": "2022-05-31T19:25:08.584319Z",
     "iopub.status.busy": "2022-05-31T19:25:08.583523Z",
     "iopub.status.idle": "2022-05-31T19:25:13.128698Z",
     "shell.execute_reply": "2022-05-31T19:25:13.127839Z"
    },
    "papermill": {
     "duration": 4.579341,
     "end_time": "2022-05-31T19:25:13.131163",
     "exception": false,
     "start_time": "2022-05-31T19:25:08.551822",
     "status": "completed"
    },
    "tags": [
     "parameters"
    ]
   },
   "outputs": [],
   "source": [
    "# | code-summary: code -- load dependencies and data and select parameters\n",
    "\n",
    "from compmemlearn.fitting import generate_objective_function\n",
    "from compmemlearn.datasets import events_metadata, simulate_df, generate_trial_mask\n",
    "from scipy.optimize import differential_evolution\n",
    "from numba.typed import List, Dict\n",
    "from numba.core import types\n",
    "from numba import njit\n",
    "from psifr import fr\n",
    "import pandas as pd\n",
    "import numpy as np\n",
    "import seaborn as sns\n",
    "import matplotlib.pyplot as plt\n",
    "import importlib\n",
    "import os\n",
    "\n",
    "lb = np.finfo(float).eps\n",
    "ub = 1 - np.finfo(float).eps\n",
    "\n",
    "figure_caption = \"\"\"Distribution of log-likelihood scores of recall sequences exhibited by each subject in dataset under each considered model.\"\"\"\n",
    "\n",
    "section_tag = \"LohnasCondition1\"\n",
    "\n",
    "data_path = \"../data/LohnasKahana2014.csv\"\n",
    "results_path = \"results/\"\n",
    "trial_query = \"condition == 1\"\n",
    "\n",
    "model_paths = [\"compmemlearn.models.Classic_CMR\", \"compmemlearn.models.Instance_CMR\", \"compmemlearn.models.Dual_Instance_CMR\"]\n",
    "\n",
    "model_names = [\"PrototypeCMR\", \"InstanceCMR\", \"Dual Memory ICMR\"]\n",
    "\n",
    "free_parameters = [\n",
    "    [\n",
    "        \"encoding_drift_rate\",\n",
    "        \"start_drift_rate\",\n",
    "        \"recall_drift_rate\",\n",
    "        \"shared_support\",\n",
    "        \"item_support\",\n",
    "        \"learning_rate\",\n",
    "        \"primacy_scale\",\n",
    "        \"primacy_decay\",\n",
    "        \"stop_probability_scale\",\n",
    "        \"stop_probability_growth\",\n",
    "        \"choice_sensitivity\",\n",
    "        \"delay_drift_rate\",\n",
    "    ],\n",
    "    [\n",
    "        \"encoding_drift_rate\",\n",
    "        \"start_drift_rate\",\n",
    "        \"recall_drift_rate\",\n",
    "        \"shared_support\",\n",
    "        \"item_support\",\n",
    "        \"learning_rate\",\n",
    "        \"primacy_scale\",\n",
    "        \"primacy_decay\",\n",
    "        \"stop_probability_scale\",\n",
    "        \"stop_probability_growth\",\n",
    "        #    'choice_sensitivity',\n",
    "        \"context_sensitivity\",\n",
    "        #    'feature_sensitivity'\n",
    "        \"delay_drift_rate\",\n",
    "    ],\n",
    "    [\n",
    "        \"encoding_drift_rate\",\n",
    "        \"start_drift_rate\",\n",
    "        \"recall_drift_rate\",\n",
    "        \"shared_support\",\n",
    "        \"item_support\",\n",
    "        \"learning_rate\",\n",
    "        \"primacy_scale\",\n",
    "        \"primacy_decay\",\n",
    "        \"stop_probability_scale\",\n",
    "        \"stop_probability_growth\",\n",
    "        #    'choice_sensitivity',\n",
    "        \"context_sensitivity\",\n",
    "        #    'feature_sensitivity'\n",
    "        \"delay_drift_rate\",\n",
    "    ],\n",
    "]\n",
    "\n",
    "bounds = [\n",
    "    [\n",
    "        [lb, ub],\n",
    "        [lb, ub],\n",
    "        [lb, ub],\n",
    "        [lb, ub],\n",
    "        [lb, ub],\n",
    "        [lb, ub],\n",
    "        [lb, 100],\n",
    "        [lb, 100],\n",
    "        [lb, ub],\n",
    "        [lb, 10],\n",
    "        [lb, 10],\n",
    "        [lb, ub],\n",
    "    ],\n",
    "    [\n",
    "        [lb, ub],\n",
    "        [lb, ub],\n",
    "        [lb, ub],\n",
    "        [lb, ub],\n",
    "        [lb, ub],\n",
    "        [lb, ub],\n",
    "        [lb, 100],\n",
    "        [lb, 100],\n",
    "        [lb, ub],\n",
    "        [lb, 10],\n",
    "        [lb, 10],\n",
    "        [lb, ub],\n",
    "    ],\n",
    "    [\n",
    "        [lb, ub],\n",
    "        [lb, ub],\n",
    "        [lb, ub],\n",
    "        [lb, ub],\n",
    "        [lb, ub],\n",
    "        [lb, ub],\n",
    "        [lb, 100],\n",
    "        [lb, 100],\n",
    "        [lb, ub],\n",
    "        [lb, 10],\n",
    "        [lb, 10],\n",
    "        [lb, ub],\n",
    "    ],\n",
    "]\n",
    "\n",
    "fixed_parameters = [\n",
    "    {'sampling_rule': 0, 'mfc_familiarity_scale': 0, \n",
    "         'mcf_familiarity_scale': 0, 'drift_familiarity_scale': 0}, \n",
    "    {\"choice_sensitivity\": 1, \"feature_sensitivity\": 1, 'mfc_familiarity_scale': 0, \n",
    "         'mcf_familiarity_scale': 0, 'drift_familiarity_scale': 0},\n",
    "    {\"choice_sensitivity\": 1, \"feature_sensitivity\": 1, 'mfc_familiarity_scale': 0, \n",
    "         'mcf_familiarity_scale': 0, 'drift_familiarity_scale': 0},\n",
    "]\n",
    "\n",
    "analysis_paths = ['compmemlearn.analyses.plot_spc', 'compmemlearn.analyses.plot_crp', 'compmemlearn.analyses.plot_pfr']\n",
    "analysis_names = ['spc', 'crp', 'pfr']\n",
    "\n",
    "experiment_count = 100\n"
   ]
  },
  {
   "cell_type": "code",
   "execution_count": 2,
   "id": "6b706732",
   "metadata": {
    "execution": {
     "iopub.execute_input": "2022-05-31T19:25:13.164903Z",
     "iopub.status.busy": "2022-05-31T19:25:13.164681Z",
     "iopub.status.idle": "2022-05-31T19:25:13.183509Z",
     "shell.execute_reply": "2022-05-31T19:25:13.182584Z"
    },
    "papermill": {
     "duration": 0.036379,
     "end_time": "2022-05-31T19:25:13.186092",
     "exception": false,
     "start_time": "2022-05-31T19:25:13.149713",
     "status": "completed"
    },
    "tags": [
     "injected-parameters"
    ]
   },
   "outputs": [],
   "source": [
    "# Parameters\n",
    "data_path = \"data/HealyKahana2014.csv\"\n",
    "trial_query = \"task == -1\"\n",
    "model_paths = [\n",
    "    \"compmemlearn.models.Base_CMR\",\n",
    "    \"compmemlearn.models.Single_ICMR\",\n",
    "    \"compmemlearn.models.Single_ICMR\",\n",
    "    \"compmemlearn.models.Single_ICMR\",\n",
    "    \"compmemlearn.models.Single_ICMR\",\n",
    "]\n",
    "model_names = [\"PrototypeCMR\", \"ICMR_1_0_0\", \"ICMR_1_0_1\", \"ICMR_1_1_0\", \"ICMR_1_1_1\"]\n",
    "free_parameters = [\n",
    "    [\n",
    "        \"encoding_drift_rate\",\n",
    "        \"start_drift_rate\",\n",
    "        \"recall_drift_rate\",\n",
    "        \"shared_support\",\n",
    "        \"item_support\",\n",
    "        \"learning_rate\",\n",
    "        \"primacy_scale\",\n",
    "        \"primacy_decay\",\n",
    "        \"stop_probability_scale\",\n",
    "        \"stop_probability_growth\",\n",
    "        \"choice_sensitivity\",\n",
    "        \"delay_drift_rate\",\n",
    "    ],\n",
    "    [\n",
    "        \"encoding_drift_rate\",\n",
    "        \"start_drift_rate\",\n",
    "        \"recall_drift_rate\",\n",
    "        \"shared_support\",\n",
    "        \"item_support\",\n",
    "        \"learning_rate\",\n",
    "        \"primacy_scale\",\n",
    "        \"primacy_decay\",\n",
    "        \"stop_probability_scale\",\n",
    "        \"stop_probability_growth\",\n",
    "        \"choice_sensitivity\",\n",
    "        \"delay_drift_rate\",\n",
    "    ],\n",
    "    [\n",
    "        \"encoding_drift_rate\",\n",
    "        \"start_drift_rate\",\n",
    "        \"recall_drift_rate\",\n",
    "        \"shared_support\",\n",
    "        \"item_support\",\n",
    "        \"learning_rate\",\n",
    "        \"primacy_scale\",\n",
    "        \"primacy_decay\",\n",
    "        \"stop_probability_scale\",\n",
    "        \"stop_probability_growth\",\n",
    "        \"choice_sensitivity\",\n",
    "        \"delay_drift_rate\",\n",
    "    ],\n",
    "    [\n",
    "        \"encoding_drift_rate\",\n",
    "        \"start_drift_rate\",\n",
    "        \"recall_drift_rate\",\n",
    "        \"shared_support\",\n",
    "        \"item_support\",\n",
    "        \"learning_rate\",\n",
    "        \"primacy_scale\",\n",
    "        \"primacy_decay\",\n",
    "        \"stop_probability_scale\",\n",
    "        \"stop_probability_growth\",\n",
    "        \"context_sensitivity\",\n",
    "        \"delay_drift_rate\",\n",
    "    ],\n",
    "    [\n",
    "        \"encoding_drift_rate\",\n",
    "        \"start_drift_rate\",\n",
    "        \"recall_drift_rate\",\n",
    "        \"shared_support\",\n",
    "        \"item_support\",\n",
    "        \"learning_rate\",\n",
    "        \"primacy_scale\",\n",
    "        \"primacy_decay\",\n",
    "        \"stop_probability_scale\",\n",
    "        \"stop_probability_growth\",\n",
    "        \"context_sensitivity\",\n",
    "        \"delay_drift_rate\",\n",
    "    ],\n",
    "]\n",
    "bounds = [\n",
    "    [\n",
    "        [2.220446049250313e-16, 0.9999999999999998],\n",
    "        [2.220446049250313e-16, 0.9999999999999998],\n",
    "        [2.220446049250313e-16, 0.9999999999999998],\n",
    "        [2.220446049250313e-16, 0.9999999999999998],\n",
    "        [2.220446049250313e-16, 0.9999999999999998],\n",
    "        [2.220446049250313e-16, 0.9999999999999998],\n",
    "        [2.220446049250313e-16, 100],\n",
    "        [2.220446049250313e-16, 100],\n",
    "        [2.220446049250313e-16, 0.9999999999999998],\n",
    "        [2.220446049250313e-16, 10],\n",
    "        [2.220446049250313e-16, 10],\n",
    "        [2.220446049250313e-16, 0.9999999999999998],\n",
    "    ],\n",
    "    [\n",
    "        [2.220446049250313e-16, 0.9999999999999998],\n",
    "        [2.220446049250313e-16, 0.9999999999999998],\n",
    "        [2.220446049250313e-16, 0.9999999999999998],\n",
    "        [2.220446049250313e-16, 0.9999999999999998],\n",
    "        [2.220446049250313e-16, 0.9999999999999998],\n",
    "        [2.220446049250313e-16, 0.9999999999999998],\n",
    "        [2.220446049250313e-16, 100],\n",
    "        [2.220446049250313e-16, 100],\n",
    "        [2.220446049250313e-16, 0.9999999999999998],\n",
    "        [2.220446049250313e-16, 10],\n",
    "        [2.220446049250313e-16, 10],\n",
    "        [2.220446049250313e-16, 0.9999999999999998],\n",
    "    ],\n",
    "    [\n",
    "        [2.220446049250313e-16, 0.9999999999999998],\n",
    "        [2.220446049250313e-16, 0.9999999999999998],\n",
    "        [2.220446049250313e-16, 0.9999999999999998],\n",
    "        [2.220446049250313e-16, 0.9999999999999998],\n",
    "        [2.220446049250313e-16, 0.9999999999999998],\n",
    "        [2.220446049250313e-16, 0.9999999999999998],\n",
    "        [2.220446049250313e-16, 100],\n",
    "        [2.220446049250313e-16, 100],\n",
    "        [2.220446049250313e-16, 0.9999999999999998],\n",
    "        [2.220446049250313e-16, 10],\n",
    "        [2.220446049250313e-16, 10],\n",
    "        [2.220446049250313e-16, 0.9999999999999998],\n",
    "    ],\n",
    "    [\n",
    "        [2.220446049250313e-16, 0.9999999999999998],\n",
    "        [2.220446049250313e-16, 0.9999999999999998],\n",
    "        [2.220446049250313e-16, 0.9999999999999998],\n",
    "        [2.220446049250313e-16, 0.9999999999999998],\n",
    "        [2.220446049250313e-16, 0.9999999999999998],\n",
    "        [2.220446049250313e-16, 0.9999999999999998],\n",
    "        [2.220446049250313e-16, 100],\n",
    "        [2.220446049250313e-16, 100],\n",
    "        [2.220446049250313e-16, 0.9999999999999998],\n",
    "        [2.220446049250313e-16, 10],\n",
    "        [2.220446049250313e-16, 10],\n",
    "        [2.220446049250313e-16, 0.9999999999999998],\n",
    "    ],\n",
    "    [\n",
    "        [2.220446049250313e-16, 0.9999999999999998],\n",
    "        [2.220446049250313e-16, 0.9999999999999998],\n",
    "        [2.220446049250313e-16, 0.9999999999999998],\n",
    "        [2.220446049250313e-16, 0.9999999999999998],\n",
    "        [2.220446049250313e-16, 0.9999999999999998],\n",
    "        [2.220446049250313e-16, 0.9999999999999998],\n",
    "        [2.220446049250313e-16, 100],\n",
    "        [2.220446049250313e-16, 100],\n",
    "        [2.220446049250313e-16, 0.9999999999999998],\n",
    "        [2.220446049250313e-16, 10],\n",
    "        [2.220446049250313e-16, 10],\n",
    "        [2.220446049250313e-16, 0.9999999999999998],\n",
    "    ],\n",
    "]\n",
    "fixed_parameters = [\n",
    "    {},\n",
    "    {\"feature_sensitivity\": 1, \"context_sensitivity\": 1, \"learn_first\": False},\n",
    "    {\"feature_sensitivity\": 1, \"context_sensitivity\": 1, \"learn_first\": True},\n",
    "    {\"feature_sensitivity\": 1, \"choice_sensitivity\": 1, \"learn_first\": False},\n",
    "    {\"feature_sensitivity\": 1, \"choice_sensitivity\": 1, \"learn_first\": True},\n",
    "]\n",
    "section_tag = \"HealyKahana2014\"\n"
   ]
  },
  {
   "cell_type": "code",
   "execution_count": 3,
   "id": "aa2248e1",
   "metadata": {
    "execution": {
     "iopub.execute_input": "2022-05-31T19:25:13.215239Z",
     "iopub.status.busy": "2022-05-31T19:25:13.214994Z",
     "iopub.status.idle": "2022-05-31T19:27:18.510815Z",
     "shell.execute_reply": "2022-05-31T19:27:18.510002Z"
    },
    "papermill": {
     "duration": 125.312615,
     "end_time": "2022-05-31T19:27:18.512467",
     "exception": false,
     "start_time": "2022-05-31T19:25:13.199852",
     "status": "completed"
    },
    "tags": []
   },
   "outputs": [
    {
     "name": "stdout",
     "output_type": "stream",
     "text": [
      "<function murdock_objective_function.<locals>.objective_function at 0x2ab364cf24c0>\n"
     ]
    },
    {
     "name": "stdout",
     "output_type": "stream",
     "text": [
      "1698.9503048991148\n",
      "4144.6533153898135\n"
     ]
    },
    {
     "name": "stdout",
     "output_type": "stream",
     "text": [
      "<function murdock_objective_function.<locals>.objective_function at 0x2ab36573a0d0>\n"
     ]
    },
    {
     "name": "stdout",
     "output_type": "stream",
     "text": [
      "1698.9503048991148\n",
      "4144.6533153898135\n",
      "<function murdock_objective_function.<locals>.objective_function at 0x2ab3668bb310>\n"
     ]
    },
    {
     "name": "stdout",
     "output_type": "stream",
     "text": [
      "1698.9503048991148\n",
      "4144.6533153898135\n",
      "<function murdock_objective_function.<locals>.objective_function at 0x2ab3659a6c10>\n"
     ]
    },
    {
     "name": "stdout",
     "output_type": "stream",
     "text": [
      "1698.9503048991148\n",
      "4144.6533153898135\n",
      "<function murdock_objective_function.<locals>.objective_function at 0x2ab3668bba60>\n"
     ]
    },
    {
     "name": "stdout",
     "output_type": "stream",
     "text": [
      "1698.9503048991148\n",
      "4144.6533153898135\n",
      "dependencies and parameters validated\n"
     ]
    }
   ],
   "source": [
    "#| code-summary: code -- test that specified parameters are valid\n",
    "#| output: false\n",
    "\n",
    "events = pd.read_csv(data_path)\n",
    "\n",
    "trials, list_lengths, presentations = events_metadata(events)\n",
    "trial_mask = generate_trial_mask(events, trial_query)\n",
    "\n",
    "# import models from specified source\n",
    "models = []\n",
    "for i in range(len(model_paths)):\n",
    "    module_name, model_name = model_paths[i].rsplit('.',1) #TODO: add handling for case with no `.`\n",
    "    module = importlib.import_module(module_name)\n",
    "    models.append(getattr(module, model_name))\n",
    "\n",
    "# import analyses from specified source\n",
    "analyses = []\n",
    "for i in range(len(analysis_paths)):\n",
    "    module_name, analysis_name = analysis_paths[i].rsplit('.',1) #TODO: add handling for case with no `.`\n",
    "    module = importlib.import_module(module_name)\n",
    "    analyses.append(getattr(module, analysis_name))\n",
    "\n",
    "# make sure model initializes with provided parameters and boundaries\n",
    "for model_index, model_class in enumerate(models):\n",
    "\n",
    "    @njit(fastmath=True, nogil=True)\n",
    "    def init_model(item_count, presentation_count, parameters):\n",
    "        return model_class(item_count, presentation_count, parameters)\n",
    "\n",
    "    subject_specific_trial_mask = np.logical_and(\n",
    "                generate_trial_mask(events, f'subject == {pd.unique(events.subject)[0]}'), trial_mask)\n",
    "\n",
    "    cost_function = generate_objective_function(\n",
    "        [trials[i][subject_specific_trial_mask[i]] for i in range(len(trials))],\n",
    "        [presentations[i][subject_specific_trial_mask[i]] for i in range(len(presentations))],\n",
    "        list_lengths,\n",
    "        init_model,\n",
    "        fixed_parameters[model_index],\n",
    "        free_parameters[model_index],\n",
    "    )\n",
    "    print(cost_function)\n",
    "    \n",
    "    for boundary_index in range(2):\n",
    "        x = np.array([each[boundary_index] for each in bounds[model_index]])\n",
    "        assert(len(x) == len(free_parameters[model_index])) \n",
    "\n",
    "        # parameter configuration\n",
    "        parameters = Dict.empty(key_type=types.unicode_type, value_type=types.float64)\n",
    "        for name, value in fixed_parameters[model_index].items():\n",
    "            parameters[name] = value\n",
    "        for i in range(len(free_parameters[model_index])):\n",
    "                parameters[free_parameters[model_index][i]] = x[i]\n",
    "\n",
    "        model = init_model(20, 20, parameters)\n",
    "        model.experience(model.items)\n",
    "        model.free_recall()\n",
    "\n",
    "        print(cost_function(x))\n",
    "print('dependencies and parameters validated')\n",
    "#print(trial_index, recall_index, recall, trial, likelihood[trial_index, recall_index], model.outcome_probabilities())"
   ]
  },
  {
   "cell_type": "code",
   "execution_count": 4,
   "id": "ee54453d",
   "metadata": {
    "execution": {
     "iopub.execute_input": "2022-05-31T19:27:18.543046Z",
     "iopub.status.busy": "2022-05-31T19:27:18.542794Z",
     "iopub.status.idle": "2022-06-01T03:21:45.940383Z",
     "shell.execute_reply": "2022-06-01T03:21:45.939530Z"
    },
    "papermill": {
     "duration": 28467.618035,
     "end_time": "2022-06-01T03:21:46.147254",
     "exception": false,
     "start_time": "2022-05-31T19:27:18.529219",
     "status": "completed"
    },
    "tags": []
   },
   "outputs": [
    {
     "name": "stdout",
     "output_type": "stream",
     "text": [
      "individual fits for PrototypeCMR with tag HealyKahana2014 already exist\n",
      "ICMR_1_0_0, Subject 63\n"
     ]
    },
    {
     "name": "stdout",
     "output_type": "stream",
     "text": [
      "729.7684389293258\n",
      "ICMR_1_0_0, Subject 64\n"
     ]
    },
    {
     "name": "stdout",
     "output_type": "stream",
     "text": [
      "515.0197444158819\n",
      "ICMR_1_0_0, Subject 65\n"
     ]
    },
    {
     "name": "stdout",
     "output_type": "stream",
     "text": [
      "501.3074166831034\n",
      "ICMR_1_0_0, Subject 66\n"
     ]
    },
    {
     "name": "stdout",
     "output_type": "stream",
     "text": [
      "618.3521731355106\n",
      "ICMR_1_0_0, Subject 67\n"
     ]
    },
    {
     "name": "stdout",
     "output_type": "stream",
     "text": [
      "728.6671638538376\n",
      "ICMR_1_0_0, Subject 69\n"
     ]
    },
    {
     "name": "stdout",
     "output_type": "stream",
     "text": [
      "638.1306578305057\n",
      "ICMR_1_0_0, Subject 70\n"
     ]
    },
    {
     "name": "stdout",
     "output_type": "stream",
     "text": [
      "506.09000705168967\n",
      "ICMR_1_0_0, Subject 73\n"
     ]
    },
    {
     "name": "stdout",
     "output_type": "stream",
     "text": [
      "656.0362581887357\n",
      "ICMR_1_0_0, Subject 74\n"
     ]
    },
    {
     "name": "stdout",
     "output_type": "stream",
     "text": [
      "605.6626355790362\n",
      "ICMR_1_0_0, Subject 75\n"
     ]
    },
    {
     "name": "stdout",
     "output_type": "stream",
     "text": [
      "433.35640267759425\n",
      "ICMR_1_0_0, Subject 76\n"
     ]
    },
    {
     "name": "stdout",
     "output_type": "stream",
     "text": [
      "648.385866898301\n",
      "ICMR_1_0_0, Subject 77\n"
     ]
    },
    {
     "name": "stdout",
     "output_type": "stream",
     "text": [
      "640.4101750557274\n",
      "ICMR_1_0_0, Subject 79\n"
     ]
    },
    {
     "name": "stdout",
     "output_type": "stream",
     "text": [
      "544.5642264187389\n",
      "ICMR_1_0_0, Subject 81\n"
     ]
    },
    {
     "name": "stdout",
     "output_type": "stream",
     "text": [
      "678.952594481726\n",
      "ICMR_1_0_0, Subject 82\n"
     ]
    },
    {
     "name": "stdout",
     "output_type": "stream",
     "text": [
      "626.434209470211\n",
      "ICMR_1_0_0, Subject 84\n"
     ]
    },
    {
     "name": "stdout",
     "output_type": "stream",
     "text": [
      "523.67095690203\n",
      "ICMR_1_0_0, Subject 85\n"
     ]
    },
    {
     "name": "stdout",
     "output_type": "stream",
     "text": [
      "456.02164766687156\n",
      "ICMR_1_0_0, Subject 86\n"
     ]
    },
    {
     "name": "stdout",
     "output_type": "stream",
     "text": [
      "643.7906888412837\n",
      "ICMR_1_0_0, Subject 87\n"
     ]
    },
    {
     "name": "stdout",
     "output_type": "stream",
     "text": [
      "512.2824733777617\n",
      "ICMR_1_0_0, Subject 88\n"
     ]
    },
    {
     "name": "stdout",
     "output_type": "stream",
     "text": [
      "674.2971558611697\n",
      "ICMR_1_0_0, Subject 89\n"
     ]
    },
    {
     "name": "stdout",
     "output_type": "stream",
     "text": [
      "605.407555224942\n",
      "ICMR_1_0_0, Subject 90\n"
     ]
    },
    {
     "name": "stdout",
     "output_type": "stream",
     "text": [
      "643.1038420929373\n",
      "ICMR_1_0_0, Subject 91\n"
     ]
    },
    {
     "name": "stdout",
     "output_type": "stream",
     "text": [
      "552.1041572959513\n",
      "ICMR_1_0_0, Subject 92\n"
     ]
    },
    {
     "name": "stdout",
     "output_type": "stream",
     "text": [
      "790.5267193925949\n",
      "ICMR_1_0_0, Subject 93\n"
     ]
    },
    {
     "name": "stdout",
     "output_type": "stream",
     "text": [
      "445.61536346395997\n",
      "ICMR_1_0_0, Subject 94\n"
     ]
    },
    {
     "name": "stdout",
     "output_type": "stream",
     "text": [
      "471.2604683202488\n",
      "ICMR_1_0_0, Subject 95\n"
     ]
    },
    {
     "name": "stdout",
     "output_type": "stream",
     "text": [
      "575.1698590958019\n",
      "ICMR_1_0_0, Subject 96\n"
     ]
    },
    {
     "name": "stdout",
     "output_type": "stream",
     "text": [
      "410.6016952919046\n",
      "ICMR_1_0_0, Subject 98\n"
     ]
    },
    {
     "name": "stdout",
     "output_type": "stream",
     "text": [
      "748.7392703418271\n",
      "ICMR_1_0_0, Subject 99\n"
     ]
    },
    {
     "name": "stdout",
     "output_type": "stream",
     "text": [
      "680.1993717257263\n",
      "ICMR_1_0_0, Subject 100\n"
     ]
    },
    {
     "name": "stdout",
     "output_type": "stream",
     "text": [
      "543.5015639224613\n",
      "ICMR_1_0_0, Subject 101\n"
     ]
    },
    {
     "name": "stdout",
     "output_type": "stream",
     "text": [
      "712.1988037524774\n",
      "ICMR_1_0_0, Subject 102\n"
     ]
    },
    {
     "name": "stdout",
     "output_type": "stream",
     "text": [
      "601.293631599708\n",
      "ICMR_1_0_0, Subject 103\n"
     ]
    },
    {
     "name": "stdout",
     "output_type": "stream",
     "text": [
      "396.1363174480371\n",
      "ICMR_1_0_0, Subject 104\n"
     ]
    },
    {
     "name": "stdout",
     "output_type": "stream",
     "text": [
      "656.6874685362609\n",
      "ICMR_1_0_0, Subject 105\n"
     ]
    },
    {
     "name": "stdout",
     "output_type": "stream",
     "text": [
      "595.5999147157426\n",
      "ICMR_1_0_0, Subject 106\n"
     ]
    },
    {
     "name": "stdout",
     "output_type": "stream",
     "text": [
      "746.9495361737825\n",
      "ICMR_1_0_0, Subject 107\n"
     ]
    },
    {
     "name": "stdout",
     "output_type": "stream",
     "text": [
      "591.4946734318436\n",
      "ICMR_1_0_0, Subject 108\n"
     ]
    },
    {
     "name": "stdout",
     "output_type": "stream",
     "text": [
      "636.8509434144779\n",
      "ICMR_1_0_0, Subject 110\n"
     ]
    },
    {
     "name": "stdout",
     "output_type": "stream",
     "text": [
      "724.4026283175865\n",
      "ICMR_1_0_0, Subject 111\n"
     ]
    },
    {
     "name": "stdout",
     "output_type": "stream",
     "text": [
      "724.447709913902\n",
      "ICMR_1_0_0, Subject 112\n"
     ]
    },
    {
     "name": "stdout",
     "output_type": "stream",
     "text": [
      "618.5989392578538\n",
      "ICMR_1_0_0, Subject 113\n"
     ]
    },
    {
     "name": "stdout",
     "output_type": "stream",
     "text": [
      "528.9347865025451\n",
      "ICMR_1_0_0, Subject 114\n"
     ]
    },
    {
     "name": "stdout",
     "output_type": "stream",
     "text": [
      "587.190815814094\n",
      "ICMR_1_0_0, Subject 115\n"
     ]
    },
    {
     "name": "stdout",
     "output_type": "stream",
     "text": [
      "614.7929086172456\n",
      "ICMR_1_0_0, Subject 117\n"
     ]
    },
    {
     "name": "stdout",
     "output_type": "stream",
     "text": [
      "622.7968414937427\n",
      "ICMR_1_0_0, Subject 118\n"
     ]
    },
    {
     "name": "stdout",
     "output_type": "stream",
     "text": [
      "395.47458101770496\n",
      "ICMR_1_0_0, Subject 119\n"
     ]
    },
    {
     "name": "stdout",
     "output_type": "stream",
     "text": [
      "655.5424787592199\n",
      "ICMR_1_0_0, Subject 120\n"
     ]
    },
    {
     "name": "stdout",
     "output_type": "stream",
     "text": [
      "484.37281710352323\n",
      "ICMR_1_0_0, Subject 122\n"
     ]
    },
    {
     "name": "stdout",
     "output_type": "stream",
     "text": [
      "682.1653560929362\n",
      "ICMR_1_0_0, Subject 123\n"
     ]
    },
    {
     "name": "stdout",
     "output_type": "stream",
     "text": [
      "526.536874757802\n",
      "ICMR_1_0_0, Subject 124\n"
     ]
    },
    {
     "name": "stdout",
     "output_type": "stream",
     "text": [
      "674.6383254235104\n",
      "ICMR_1_0_0, Subject 125\n"
     ]
    },
    {
     "name": "stdout",
     "output_type": "stream",
     "text": [
      "592.5821497982239\n",
      "ICMR_1_0_0, Subject 127\n"
     ]
    },
    {
     "name": "stdout",
     "output_type": "stream",
     "text": [
      "647.5390029827739\n",
      "ICMR_1_0_0, Subject 128\n"
     ]
    },
    {
     "name": "stdout",
     "output_type": "stream",
     "text": [
      "706.7843637795363\n",
      "ICMR_1_0_0, Subject 130\n"
     ]
    },
    {
     "name": "stdout",
     "output_type": "stream",
     "text": [
      "458.19860985638167\n",
      "ICMR_1_0_0, Subject 131\n"
     ]
    },
    {
     "name": "stdout",
     "output_type": "stream",
     "text": [
      "705.7726048259026\n",
      "ICMR_1_0_0, Subject 132\n"
     ]
    },
    {
     "name": "stdout",
     "output_type": "stream",
     "text": [
      "579.3357077367044\n",
      "ICMR_1_0_0, Subject 133\n"
     ]
    },
    {
     "name": "stdout",
     "output_type": "stream",
     "text": [
      "561.974602696468\n",
      "ICMR_1_0_0, Subject 134\n"
     ]
    },
    {
     "name": "stdout",
     "output_type": "stream",
     "text": [
      "612.3420925422988\n",
      "ICMR_1_0_0, Subject 135\n"
     ]
    },
    {
     "name": "stdout",
     "output_type": "stream",
     "text": [
      "511.6316395898468\n",
      "ICMR_1_0_0, Subject 136\n"
     ]
    },
    {
     "name": "stdout",
     "output_type": "stream",
     "text": [
      "521.1477280406218\n",
      "ICMR_1_0_0, Subject 137\n"
     ]
    },
    {
     "name": "stdout",
     "output_type": "stream",
     "text": [
      "735.5474762186458\n",
      "ICMR_1_0_0, Subject 138\n"
     ]
    },
    {
     "name": "stdout",
     "output_type": "stream",
     "text": [
      "725.117555010314\n",
      "ICMR_1_0_0, Subject 139\n"
     ]
    },
    {
     "name": "stdout",
     "output_type": "stream",
     "text": [
      "746.1196939768098\n",
      "ICMR_1_0_0, Subject 140\n"
     ]
    },
    {
     "name": "stdout",
     "output_type": "stream",
     "text": [
      "602.0591065966713\n",
      "ICMR_1_0_0, Subject 141\n"
     ]
    },
    {
     "name": "stdout",
     "output_type": "stream",
     "text": [
      "550.0802117996349\n",
      "ICMR_1_0_0, Subject 142\n"
     ]
    },
    {
     "name": "stdout",
     "output_type": "stream",
     "text": [
      "669.67753111363\n",
      "ICMR_1_0_0, Subject 143\n"
     ]
    },
    {
     "name": "stdout",
     "output_type": "stream",
     "text": [
      "540.9965548419283\n",
      "ICMR_1_0_0, Subject 144\n"
     ]
    },
    {
     "name": "stdout",
     "output_type": "stream",
     "text": [
      "570.0972201006329\n",
      "ICMR_1_0_0, Subject 145\n"
     ]
    },
    {
     "name": "stdout",
     "output_type": "stream",
     "text": [
      "725.1021260309057\n",
      "ICMR_1_0_0, Subject 146\n"
     ]
    },
    {
     "name": "stdout",
     "output_type": "stream",
     "text": [
      "550.6085466499492\n",
      "ICMR_1_0_0, Subject 147\n"
     ]
    },
    {
     "name": "stdout",
     "output_type": "stream",
     "text": [
      "661.6043703793703\n",
      "ICMR_1_0_0, Subject 148\n"
     ]
    },
    {
     "name": "stdout",
     "output_type": "stream",
     "text": [
      "582.5609772830393\n",
      "ICMR_1_0_0, Subject 149\n"
     ]
    },
    {
     "name": "stdout",
     "output_type": "stream",
     "text": [
      "701.2648515331416\n",
      "ICMR_1_0_0, Subject 150\n"
     ]
    },
    {
     "name": "stdout",
     "output_type": "stream",
     "text": [
      "437.81909792437085\n",
      "ICMR_1_0_0, Subject 151\n"
     ]
    },
    {
     "name": "stdout",
     "output_type": "stream",
     "text": [
      "507.3951671949405\n",
      "ICMR_1_0_0, Subject 153\n"
     ]
    },
    {
     "name": "stdout",
     "output_type": "stream",
     "text": [
      "687.096969103814\n",
      "ICMR_1_0_0, Subject 155\n"
     ]
    },
    {
     "name": "stdout",
     "output_type": "stream",
     "text": [
      "565.2533912742895\n",
      "ICMR_1_0_0, Subject 159\n"
     ]
    },
    {
     "name": "stdout",
     "output_type": "stream",
     "text": [
      "452.35956988867343\n",
      "ICMR_1_0_0, Subject 166\n"
     ]
    },
    {
     "name": "stdout",
     "output_type": "stream",
     "text": [
      "582.9937101054705\n",
      "ICMR_1_0_0, Subject 168\n"
     ]
    },
    {
     "name": "stdout",
     "output_type": "stream",
     "text": [
      "505.15807933012917\n",
      "ICMR_1_0_0, Subject 174\n"
     ]
    },
    {
     "name": "stdout",
     "output_type": "stream",
     "text": [
      "549.0618635603608\n",
      "ICMR_1_0_0, Subject 184\n"
     ]
    },
    {
     "name": "stdout",
     "output_type": "stream",
     "text": [
      "633.5264459903127\n",
      "ICMR_1_0_0, Subject 185\n"
     ]
    },
    {
     "name": "stdout",
     "output_type": "stream",
     "text": [
      "539.5184678591785\n",
      "ICMR_1_0_0, Subject 186\n"
     ]
    },
    {
     "name": "stdout",
     "output_type": "stream",
     "text": [
      "722.2155411149747\n",
      "ICMR_1_0_0, Subject 187\n"
     ]
    },
    {
     "name": "stdout",
     "output_type": "stream",
     "text": [
      "453.1032868489959\n",
      "ICMR_1_0_0, Subject 188\n"
     ]
    },
    {
     "name": "stdout",
     "output_type": "stream",
     "text": [
      "326.86632712536635\n",
      "ICMR_1_0_0, Subject 189\n"
     ]
    },
    {
     "name": "stdout",
     "output_type": "stream",
     "text": [
      "538.4637978231215\n",
      "ICMR_1_0_0, Subject 190\n"
     ]
    },
    {
     "name": "stdout",
     "output_type": "stream",
     "text": [
      "349.98750514939854\n",
      "ICMR_1_0_0, Subject 191\n"
     ]
    },
    {
     "name": "stdout",
     "output_type": "stream",
     "text": [
      "707.2006515934914\n",
      "ICMR_1_0_0, Subject 192\n"
     ]
    },
    {
     "name": "stdout",
     "output_type": "stream",
     "text": [
      "604.1589674569947\n",
      "ICMR_1_0_0, Subject 193\n"
     ]
    },
    {
     "name": "stdout",
     "output_type": "stream",
     "text": [
      "797.3456835359106\n",
      "ICMR_1_0_0, Subject 194\n"
     ]
    },
    {
     "name": "stdout",
     "output_type": "stream",
     "text": [
      "540.5155530972065\n",
      "ICMR_1_0_0, Subject 195\n"
     ]
    },
    {
     "name": "stdout",
     "output_type": "stream",
     "text": [
      "786.7066363501348\n",
      "ICMR_1_0_0, Subject 196\n"
     ]
    },
    {
     "name": "stdout",
     "output_type": "stream",
     "text": [
      "611.8412107386852\n",
      "ICMR_1_0_0, Subject 197\n"
     ]
    },
    {
     "name": "stdout",
     "output_type": "stream",
     "text": [
      "699.2280673148274\n",
      "ICMR_1_0_0, Subject 198\n"
     ]
    },
    {
     "name": "stdout",
     "output_type": "stream",
     "text": [
      "786.8648105145934\n",
      "ICMR_1_0_0, Subject 199\n"
     ]
    },
    {
     "name": "stdout",
     "output_type": "stream",
     "text": [
      "565.4322232539589\n",
      "ICMR_1_0_0, Subject 200\n"
     ]
    },
    {
     "name": "stdout",
     "output_type": "stream",
     "text": [
      "603.7014491348397\n",
      "ICMR_1_0_0, Subject 201\n"
     ]
    },
    {
     "name": "stdout",
     "output_type": "stream",
     "text": [
      "571.1696691704653\n",
      "ICMR_1_0_0, Subject 202\n"
     ]
    },
    {
     "name": "stdout",
     "output_type": "stream",
     "text": [
      "631.0246193928873\n",
      "ICMR_1_0_0, Subject 207\n"
     ]
    },
    {
     "name": "stdout",
     "output_type": "stream",
     "text": [
      "579.9484720365335\n",
      "ICMR_1_0_0, Subject 209\n"
     ]
    },
    {
     "name": "stdout",
     "output_type": "stream",
     "text": [
      "633.2525938446979\n",
      "ICMR_1_0_0, Subject 210\n"
     ]
    },
    {
     "name": "stdout",
     "output_type": "stream",
     "text": [
      "567.9364401207155\n",
      "ICMR_1_0_0, Subject 211\n"
     ]
    },
    {
     "name": "stdout",
     "output_type": "stream",
     "text": [
      "388.07494948393816\n",
      "ICMR_1_0_0, Subject 212\n"
     ]
    },
    {
     "name": "stdout",
     "output_type": "stream",
     "text": [
      "530.4149137130288\n",
      "ICMR_1_0_0, Subject 215\n"
     ]
    },
    {
     "name": "stdout",
     "output_type": "stream",
     "text": [
      "514.1185499473034\n",
      "ICMR_1_0_0, Subject 227\n"
     ]
    },
    {
     "name": "stdout",
     "output_type": "stream",
     "text": [
      "522.9406016913517\n",
      "ICMR_1_0_0, Subject 228\n"
     ]
    },
    {
     "name": "stdout",
     "output_type": "stream",
     "text": [
      "498.9912343012506\n",
      "ICMR_1_0_0, Subject 229\n"
     ]
    },
    {
     "name": "stdout",
     "output_type": "stream",
     "text": [
      "653.9913699233831\n",
      "ICMR_1_0_0, Subject 230\n"
     ]
    },
    {
     "name": "stdout",
     "output_type": "stream",
     "text": [
      "523.7264448912732\n",
      "ICMR_1_0_0, Subject 231\n"
     ]
    },
    {
     "name": "stdout",
     "output_type": "stream",
     "text": [
      "601.7255984374704\n",
      "ICMR_1_0_0, Subject 232\n"
     ]
    },
    {
     "name": "stdout",
     "output_type": "stream",
     "text": [
      "808.8079681203919\n",
      "ICMR_1_0_0, Subject 233\n"
     ]
    },
    {
     "name": "stdout",
     "output_type": "stream",
     "text": [
      "635.6042152331792\n",
      "ICMR_1_0_0, Subject 234\n"
     ]
    },
    {
     "name": "stdout",
     "output_type": "stream",
     "text": [
      "479.7507985580565\n",
      "ICMR_1_0_0, Subject 235\n"
     ]
    },
    {
     "name": "stdout",
     "output_type": "stream",
     "text": [
      "609.4848734749595\n",
      "ICMR_1_0_0, Subject 236\n"
     ]
    },
    {
     "name": "stdout",
     "output_type": "stream",
     "text": [
      "618.063695048584\n",
      "ICMR_1_0_0, Subject 237\n"
     ]
    },
    {
     "name": "stdout",
     "output_type": "stream",
     "text": [
      "465.17170036309386\n",
      "ICMR_1_0_0, Subject 238\n"
     ]
    },
    {
     "name": "stdout",
     "output_type": "stream",
     "text": [
      "473.67932713508367\n",
      "ICMR_1_0_0, Subject 239\n"
     ]
    },
    {
     "name": "stdout",
     "output_type": "stream",
     "text": [
      "538.8365314527733\n",
      "ICMR_1_0_0, Subject 240\n"
     ]
    },
    {
     "name": "stdout",
     "output_type": "stream",
     "text": [
      "513.2461464959665\n",
      "ICMR_1_0_0, Subject 241\n"
     ]
    },
    {
     "name": "stdout",
     "output_type": "stream",
     "text": [
      "643.4143218290149\n",
      "ICMR_1_0_0, Subject 242\n"
     ]
    },
    {
     "name": "stdout",
     "output_type": "stream",
     "text": [
      "511.9241282407704\n",
      "ICMR_1_0_0, Subject 243\n"
     ]
    },
    {
     "name": "stdout",
     "output_type": "stream",
     "text": [
      "616.6483628192261\n",
      "ICMR_1_0_0, Subject 244\n"
     ]
    },
    {
     "name": "stdout",
     "output_type": "stream",
     "text": [
      "653.8539898912285\n"
     ]
    },
    {
     "name": "stdout",
     "output_type": "stream",
     "text": [
      "ICMR_1_0_1, Subject 63\n"
     ]
    },
    {
     "name": "stdout",
     "output_type": "stream",
     "text": [
      "708.3499064667527\n",
      "ICMR_1_0_1, Subject 64\n"
     ]
    },
    {
     "name": "stdout",
     "output_type": "stream",
     "text": [
      "511.0570431123327\n",
      "ICMR_1_0_1, Subject 65\n"
     ]
    },
    {
     "name": "stdout",
     "output_type": "stream",
     "text": [
      "500.93720822987\n",
      "ICMR_1_0_1, Subject 66\n"
     ]
    },
    {
     "name": "stdout",
     "output_type": "stream",
     "text": [
      "618.5901042192376\n",
      "ICMR_1_0_1, Subject 67\n"
     ]
    },
    {
     "name": "stdout",
     "output_type": "stream",
     "text": [
      "628.9722158425534\n",
      "ICMR_1_0_1, Subject 69\n"
     ]
    },
    {
     "name": "stdout",
     "output_type": "stream",
     "text": [
      "638.2623089180144\n",
      "ICMR_1_0_1, Subject 70\n"
     ]
    },
    {
     "name": "stdout",
     "output_type": "stream",
     "text": [
      "505.6296426020756\n",
      "ICMR_1_0_1, Subject 73\n"
     ]
    },
    {
     "name": "stdout",
     "output_type": "stream",
     "text": [
      "653.8877766586554\n",
      "ICMR_1_0_1, Subject 74\n"
     ]
    },
    {
     "name": "stdout",
     "output_type": "stream",
     "text": [
      "615.1479878008868\n",
      "ICMR_1_0_1, Subject 75\n"
     ]
    },
    {
     "name": "stdout",
     "output_type": "stream",
     "text": [
      "433.34715457605205\n",
      "ICMR_1_0_1, Subject 76\n"
     ]
    },
    {
     "name": "stdout",
     "output_type": "stream",
     "text": [
      "646.5965647106968\n",
      "ICMR_1_0_1, Subject 77\n"
     ]
    },
    {
     "name": "stdout",
     "output_type": "stream",
     "text": [
      "640.2618222523552\n",
      "ICMR_1_0_1, Subject 79\n"
     ]
    },
    {
     "name": "stdout",
     "output_type": "stream",
     "text": [
      "537.9121181111678\n",
      "ICMR_1_0_1, Subject 81\n"
     ]
    },
    {
     "name": "stdout",
     "output_type": "stream",
     "text": [
      "680.4547062365481\n",
      "ICMR_1_0_1, Subject 82\n"
     ]
    },
    {
     "name": "stdout",
     "output_type": "stream",
     "text": [
      "626.288203582161\n",
      "ICMR_1_0_1, Subject 84\n"
     ]
    },
    {
     "name": "stdout",
     "output_type": "stream",
     "text": [
      "531.796716344458\n",
      "ICMR_1_0_1, Subject 85\n"
     ]
    },
    {
     "name": "stdout",
     "output_type": "stream",
     "text": [
      "456.0950119235849\n",
      "ICMR_1_0_1, Subject 86\n"
     ]
    },
    {
     "name": "stdout",
     "output_type": "stream",
     "text": [
      "643.593862373325\n",
      "ICMR_1_0_1, Subject 87\n"
     ]
    },
    {
     "name": "stdout",
     "output_type": "stream",
     "text": [
      "512.2827930002105\n",
      "ICMR_1_0_1, Subject 88\n"
     ]
    },
    {
     "name": "stdout",
     "output_type": "stream",
     "text": [
      "674.2971226448402\n",
      "ICMR_1_0_1, Subject 89\n"
     ]
    },
    {
     "name": "stdout",
     "output_type": "stream",
     "text": [
      "605.2801108451775\n",
      "ICMR_1_0_1, Subject 90\n"
     ]
    },
    {
     "name": "stdout",
     "output_type": "stream",
     "text": [
      "636.8561028555961\n",
      "ICMR_1_0_1, Subject 91\n"
     ]
    },
    {
     "name": "stdout",
     "output_type": "stream",
     "text": [
      "560.6483669397692\n",
      "ICMR_1_0_1, Subject 92\n"
     ]
    },
    {
     "name": "stdout",
     "output_type": "stream",
     "text": [
      "791.996472153234\n",
      "ICMR_1_0_1, Subject 93\n"
     ]
    },
    {
     "name": "stdout",
     "output_type": "stream",
     "text": [
      "444.9723692833965\n",
      "ICMR_1_0_1, Subject 94\n"
     ]
    },
    {
     "name": "stdout",
     "output_type": "stream",
     "text": [
      "471.26046933076765\n",
      "ICMR_1_0_1, Subject 95\n"
     ]
    },
    {
     "name": "stdout",
     "output_type": "stream",
     "text": [
      "565.1791597912526\n",
      "ICMR_1_0_1, Subject 96\n"
     ]
    },
    {
     "name": "stdout",
     "output_type": "stream",
     "text": [
      "411.50153726326363\n",
      "ICMR_1_0_1, Subject 98\n"
     ]
    },
    {
     "name": "stdout",
     "output_type": "stream",
     "text": [
      "686.6580244741266\n",
      "ICMR_1_0_1, Subject 99\n"
     ]
    },
    {
     "name": "stdout",
     "output_type": "stream",
     "text": [
      "680.1160922299832\n",
      "ICMR_1_0_1, Subject 100\n"
     ]
    },
    {
     "name": "stdout",
     "output_type": "stream",
     "text": [
      "543.4313199020851\n",
      "ICMR_1_0_1, Subject 101\n"
     ]
    },
    {
     "name": "stdout",
     "output_type": "stream",
     "text": [
      "711.435056574183\n",
      "ICMR_1_0_1, Subject 102\n"
     ]
    },
    {
     "name": "stdout",
     "output_type": "stream",
     "text": [
      "601.2936385793282\n",
      "ICMR_1_0_1, Subject 103\n"
     ]
    },
    {
     "name": "stdout",
     "output_type": "stream",
     "text": [
      "375.1643830736545\n",
      "ICMR_1_0_1, Subject 104\n"
     ]
    },
    {
     "name": "stdout",
     "output_type": "stream",
     "text": [
      "665.7404214380862\n",
      "ICMR_1_0_1, Subject 105\n"
     ]
    },
    {
     "name": "stdout",
     "output_type": "stream",
     "text": [
      "590.4205448836351\n",
      "ICMR_1_0_1, Subject 106\n"
     ]
    },
    {
     "name": "stdout",
     "output_type": "stream",
     "text": [
      "748.4504071913424\n",
      "ICMR_1_0_1, Subject 107\n"
     ]
    },
    {
     "name": "stdout",
     "output_type": "stream",
     "text": [
      "591.5100059067377\n",
      "ICMR_1_0_1, Subject 108\n"
     ]
    },
    {
     "name": "stdout",
     "output_type": "stream",
     "text": [
      "636.8508967341986\n",
      "ICMR_1_0_1, Subject 110\n"
     ]
    },
    {
     "name": "stdout",
     "output_type": "stream",
     "text": [
      "714.6372839678107\n",
      "ICMR_1_0_1, Subject 111\n"
     ]
    },
    {
     "name": "stdout",
     "output_type": "stream",
     "text": [
      "704.8584341475593\n",
      "ICMR_1_0_1, Subject 112\n"
     ]
    },
    {
     "name": "stdout",
     "output_type": "stream",
     "text": [
      "618.3930355433653\n",
      "ICMR_1_0_1, Subject 113\n"
     ]
    },
    {
     "name": "stdout",
     "output_type": "stream",
     "text": [
      "528.9347907535138\n",
      "ICMR_1_0_1, Subject 114\n"
     ]
    },
    {
     "name": "stdout",
     "output_type": "stream",
     "text": [
      "575.3983764094722\n",
      "ICMR_1_0_1, Subject 115\n"
     ]
    },
    {
     "name": "stdout",
     "output_type": "stream",
     "text": [
      "614.793794820012\n",
      "ICMR_1_0_1, Subject 117\n"
     ]
    },
    {
     "name": "stdout",
     "output_type": "stream",
     "text": [
      "623.6764657753592\n",
      "ICMR_1_0_1, Subject 118\n"
     ]
    },
    {
     "name": "stdout",
     "output_type": "stream",
     "text": [
      "395.39046842930026\n",
      "ICMR_1_0_1, Subject 119\n"
     ]
    },
    {
     "name": "stdout",
     "output_type": "stream",
     "text": [
      "655.5454234211994\n",
      "ICMR_1_0_1, Subject 120\n"
     ]
    },
    {
     "name": "stdout",
     "output_type": "stream",
     "text": [
      "483.4755670177884\n",
      "ICMR_1_0_1, Subject 122\n"
     ]
    },
    {
     "name": "stdout",
     "output_type": "stream",
     "text": [
      "691.1159141191756\n",
      "ICMR_1_0_1, Subject 123\n"
     ]
    },
    {
     "name": "stdout",
     "output_type": "stream",
     "text": [
      "526.3501309145628\n",
      "ICMR_1_0_1, Subject 124\n"
     ]
    },
    {
     "name": "stdout",
     "output_type": "stream",
     "text": [
      "674.4990686906127\n",
      "ICMR_1_0_1, Subject 125\n"
     ]
    },
    {
     "name": "stdout",
     "output_type": "stream",
     "text": [
      "591.3972908316655\n",
      "ICMR_1_0_1, Subject 127\n"
     ]
    },
    {
     "name": "stdout",
     "output_type": "stream",
     "text": [
      "654.8260347150339\n",
      "ICMR_1_0_1, Subject 128\n"
     ]
    },
    {
     "name": "stdout",
     "output_type": "stream",
     "text": [
      "707.5361182984074\n",
      "ICMR_1_0_1, Subject 130\n"
     ]
    },
    {
     "name": "stdout",
     "output_type": "stream",
     "text": [
      "458.51473429642255\n",
      "ICMR_1_0_1, Subject 131\n"
     ]
    },
    {
     "name": "stdout",
     "output_type": "stream",
     "text": [
      "706.823377344317\n",
      "ICMR_1_0_1, Subject 132\n"
     ]
    },
    {
     "name": "stdout",
     "output_type": "stream",
     "text": [
      "587.4375126015408\n",
      "ICMR_1_0_1, Subject 133\n"
     ]
    },
    {
     "name": "stdout",
     "output_type": "stream",
     "text": [
      "561.9751063297063\n",
      "ICMR_1_0_1, Subject 134\n"
     ]
    },
    {
     "name": "stdout",
     "output_type": "stream",
     "text": [
      "609.9430126193894\n",
      "ICMR_1_0_1, Subject 135\n"
     ]
    },
    {
     "name": "stdout",
     "output_type": "stream",
     "text": [
      "512.6297429665733\n",
      "ICMR_1_0_1, Subject 136\n"
     ]
    },
    {
     "name": "stdout",
     "output_type": "stream",
     "text": [
      "543.3276232613042\n",
      "ICMR_1_0_1, Subject 137\n"
     ]
    },
    {
     "name": "stdout",
     "output_type": "stream",
     "text": [
      "742.7649577374312\n",
      "ICMR_1_0_1, Subject 138\n"
     ]
    },
    {
     "name": "stdout",
     "output_type": "stream",
     "text": [
      "723.6984536309734\n",
      "ICMR_1_0_1, Subject 139\n"
     ]
    },
    {
     "name": "stdout",
     "output_type": "stream",
     "text": [
      "761.0626632174259\n",
      "ICMR_1_0_1, Subject 140\n"
     ]
    },
    {
     "name": "stdout",
     "output_type": "stream",
     "text": [
      "602.5822786402489\n",
      "ICMR_1_0_1, Subject 141\n"
     ]
    },
    {
     "name": "stdout",
     "output_type": "stream",
     "text": [
      "654.5412281104122\n",
      "ICMR_1_0_1, Subject 142\n"
     ]
    },
    {
     "name": "stdout",
     "output_type": "stream",
     "text": [
      "669.6941447852297\n",
      "ICMR_1_0_1, Subject 143\n"
     ]
    },
    {
     "name": "stdout",
     "output_type": "stream",
     "text": [
      "541.012394132106\n",
      "ICMR_1_0_1, Subject 144\n"
     ]
    },
    {
     "name": "stdout",
     "output_type": "stream",
     "text": [
      "566.020710176361\n",
      "ICMR_1_0_1, Subject 145\n"
     ]
    },
    {
     "name": "stdout",
     "output_type": "stream",
     "text": [
      "717.6812900582006\n",
      "ICMR_1_0_1, Subject 146\n"
     ]
    },
    {
     "name": "stdout",
     "output_type": "stream",
     "text": [
      "543.4356092197143\n",
      "ICMR_1_0_1, Subject 147\n"
     ]
    },
    {
     "name": "stdout",
     "output_type": "stream",
     "text": [
      "660.5244620240654\n",
      "ICMR_1_0_1, Subject 148\n"
     ]
    },
    {
     "name": "stdout",
     "output_type": "stream",
     "text": [
      "582.5617990079721\n",
      "ICMR_1_0_1, Subject 149\n"
     ]
    },
    {
     "name": "stdout",
     "output_type": "stream",
     "text": [
      "710.3387050769215\n",
      "ICMR_1_0_1, Subject 150\n"
     ]
    },
    {
     "name": "stdout",
     "output_type": "stream",
     "text": [
      "435.8040964223169\n",
      "ICMR_1_0_1, Subject 151\n"
     ]
    },
    {
     "name": "stdout",
     "output_type": "stream",
     "text": [
      "507.20326780255454\n",
      "ICMR_1_0_1, Subject 153\n"
     ]
    },
    {
     "name": "stdout",
     "output_type": "stream",
     "text": [
      "686.9146074350612\n",
      "ICMR_1_0_1, Subject 155\n"
     ]
    },
    {
     "name": "stdout",
     "output_type": "stream",
     "text": [
      "620.2203436790226\n",
      "ICMR_1_0_1, Subject 159\n"
     ]
    },
    {
     "name": "stdout",
     "output_type": "stream",
     "text": [
      "452.3649511983351\n",
      "ICMR_1_0_1, Subject 166\n"
     ]
    },
    {
     "name": "stdout",
     "output_type": "stream",
     "text": [
      "582.8179593893551\n",
      "ICMR_1_0_1, Subject 168\n"
     ]
    },
    {
     "name": "stdout",
     "output_type": "stream",
     "text": [
      "504.60446053474135\n",
      "ICMR_1_0_1, Subject 174\n"
     ]
    },
    {
     "name": "stdout",
     "output_type": "stream",
     "text": [
      "551.5036088140039\n",
      "ICMR_1_0_1, Subject 184\n"
     ]
    },
    {
     "name": "stdout",
     "output_type": "stream",
     "text": [
      "641.4692926109421\n",
      "ICMR_1_0_1, Subject 185\n"
     ]
    },
    {
     "name": "stdout",
     "output_type": "stream",
     "text": [
      "541.1636605864339\n",
      "ICMR_1_0_1, Subject 186\n"
     ]
    },
    {
     "name": "stdout",
     "output_type": "stream",
     "text": [
      "626.7843238724106\n",
      "ICMR_1_0_1, Subject 187\n"
     ]
    },
    {
     "name": "stdout",
     "output_type": "stream",
     "text": [
      "451.232619849176\n",
      "ICMR_1_0_1, Subject 188\n"
     ]
    },
    {
     "name": "stdout",
     "output_type": "stream",
     "text": [
      "319.7775835350292\n",
      "ICMR_1_0_1, Subject 189\n"
     ]
    },
    {
     "name": "stdout",
     "output_type": "stream",
     "text": [
      "538.4604399603418\n",
      "ICMR_1_0_1, Subject 190\n"
     ]
    },
    {
     "name": "stdout",
     "output_type": "stream",
     "text": [
      "350.5624086158406\n",
      "ICMR_1_0_1, Subject 191\n"
     ]
    },
    {
     "name": "stdout",
     "output_type": "stream",
     "text": [
      "692.6822670078144\n",
      "ICMR_1_0_1, Subject 192\n"
     ]
    },
    {
     "name": "stdout",
     "output_type": "stream",
     "text": [
      "604.1586231086922\n",
      "ICMR_1_0_1, Subject 193\n"
     ]
    },
    {
     "name": "stdout",
     "output_type": "stream",
     "text": [
      "808.9384078374673\n",
      "ICMR_1_0_1, Subject 194\n"
     ]
    },
    {
     "name": "stdout",
     "output_type": "stream",
     "text": [
      "570.6073112601727\n",
      "ICMR_1_0_1, Subject 195\n"
     ]
    },
    {
     "name": "stdout",
     "output_type": "stream",
     "text": [
      "785.7072593477366\n",
      "ICMR_1_0_1, Subject 196\n"
     ]
    },
    {
     "name": "stdout",
     "output_type": "stream",
     "text": [
      "607.9824484305034\n",
      "ICMR_1_0_1, Subject 197\n"
     ]
    },
    {
     "name": "stdout",
     "output_type": "stream",
     "text": [
      "692.2841763734272\n",
      "ICMR_1_0_1, Subject 198\n"
     ]
    },
    {
     "name": "stdout",
     "output_type": "stream",
     "text": [
      "834.9003509169518\n",
      "ICMR_1_0_1, Subject 199\n"
     ]
    },
    {
     "name": "stdout",
     "output_type": "stream",
     "text": [
      "564.6703614524647\n",
      "ICMR_1_0_1, Subject 200\n"
     ]
    },
    {
     "name": "stdout",
     "output_type": "stream",
     "text": [
      "615.8875685217082\n",
      "ICMR_1_0_1, Subject 201\n"
     ]
    },
    {
     "name": "stdout",
     "output_type": "stream",
     "text": [
      "571.223029953236\n",
      "ICMR_1_0_1, Subject 202\n"
     ]
    },
    {
     "name": "stdout",
     "output_type": "stream",
     "text": [
      "623.4225938979002\n",
      "ICMR_1_0_1, Subject 207\n"
     ]
    },
    {
     "name": "stdout",
     "output_type": "stream",
     "text": [
      "585.4157297137496\n",
      "ICMR_1_0_1, Subject 209\n"
     ]
    },
    {
     "name": "stdout",
     "output_type": "stream",
     "text": [
      "633.2533782681644\n",
      "ICMR_1_0_1, Subject 210\n"
     ]
    },
    {
     "name": "stdout",
     "output_type": "stream",
     "text": [
      "567.9409036717735\n",
      "ICMR_1_0_1, Subject 211\n"
     ]
    },
    {
     "name": "stdout",
     "output_type": "stream",
     "text": [
      "388.06210795163116\n",
      "ICMR_1_0_1, Subject 212\n"
     ]
    },
    {
     "name": "stdout",
     "output_type": "stream",
     "text": [
      "526.8660255843945\n",
      "ICMR_1_0_1, Subject 215\n"
     ]
    },
    {
     "name": "stdout",
     "output_type": "stream",
     "text": [
      "513.7834000566852\n",
      "ICMR_1_0_1, Subject 227\n"
     ]
    },
    {
     "name": "stdout",
     "output_type": "stream",
     "text": [
      "522.8697359364472\n",
      "ICMR_1_0_1, Subject 228\n"
     ]
    },
    {
     "name": "stdout",
     "output_type": "stream",
     "text": [
      "500.21387451330776\n",
      "ICMR_1_0_1, Subject 229\n"
     ]
    },
    {
     "name": "stdout",
     "output_type": "stream",
     "text": [
      "656.9917042514438\n",
      "ICMR_1_0_1, Subject 230\n"
     ]
    },
    {
     "name": "stdout",
     "output_type": "stream",
     "text": [
      "509.2417951176139\n",
      "ICMR_1_0_1, Subject 231\n"
     ]
    },
    {
     "name": "stdout",
     "output_type": "stream",
     "text": [
      "709.0184991068436\n",
      "ICMR_1_0_1, Subject 232\n"
     ]
    },
    {
     "name": "stdout",
     "output_type": "stream",
     "text": [
      "671.8675399842208\n",
      "ICMR_1_0_1, Subject 233\n"
     ]
    },
    {
     "name": "stdout",
     "output_type": "stream",
     "text": [
      "633.9936824914478\n",
      "ICMR_1_0_1, Subject 234\n"
     ]
    },
    {
     "name": "stdout",
     "output_type": "stream",
     "text": [
      "479.49534333945627\n",
      "ICMR_1_0_1, Subject 235\n"
     ]
    },
    {
     "name": "stdout",
     "output_type": "stream",
     "text": [
      "609.6556479856678\n",
      "ICMR_1_0_1, Subject 236\n"
     ]
    },
    {
     "name": "stdout",
     "output_type": "stream",
     "text": [
      "620.1410759465826\n",
      "ICMR_1_0_1, Subject 237\n"
     ]
    },
    {
     "name": "stdout",
     "output_type": "stream",
     "text": [
      "466.29682707442123\n",
      "ICMR_1_0_1, Subject 238\n"
     ]
    },
    {
     "name": "stdout",
     "output_type": "stream",
     "text": [
      "473.67917344964224\n",
      "ICMR_1_0_1, Subject 239\n"
     ]
    },
    {
     "name": "stdout",
     "output_type": "stream",
     "text": [
      "537.4631478663907\n",
      "ICMR_1_0_1, Subject 240\n"
     ]
    },
    {
     "name": "stdout",
     "output_type": "stream",
     "text": [
      "512.8006782954604\n",
      "ICMR_1_0_1, Subject 241\n"
     ]
    },
    {
     "name": "stdout",
     "output_type": "stream",
     "text": [
      "724.1491124430052\n",
      "ICMR_1_0_1, Subject 242\n"
     ]
    },
    {
     "name": "stdout",
     "output_type": "stream",
     "text": [
      "519.915201003807\n",
      "ICMR_1_0_1, Subject 243\n"
     ]
    },
    {
     "name": "stdout",
     "output_type": "stream",
     "text": [
      "609.6556823183556\n",
      "ICMR_1_0_1, Subject 244\n"
     ]
    },
    {
     "name": "stdout",
     "output_type": "stream",
     "text": [
      "667.5818120571738\n",
      "ICMR_1_1_0, Subject 63\n"
     ]
    },
    {
     "name": "stdout",
     "output_type": "stream",
     "text": [
      "693.2612191818142\n",
      "ICMR_1_1_0, Subject 64\n"
     ]
    },
    {
     "name": "stdout",
     "output_type": "stream",
     "text": [
      "512.5662355209589\n",
      "ICMR_1_1_0, Subject 65\n"
     ]
    },
    {
     "name": "stdout",
     "output_type": "stream",
     "text": [
      "503.2563009783086\n",
      "ICMR_1_1_0, Subject 66\n"
     ]
    },
    {
     "name": "stdout",
     "output_type": "stream",
     "text": [
      "797.9934205415917\n",
      "ICMR_1_1_0, Subject 67\n"
     ]
    },
    {
     "name": "stdout",
     "output_type": "stream",
     "text": [
      "628.7007593837503\n",
      "ICMR_1_1_0, Subject 69\n"
     ]
    },
    {
     "name": "stdout",
     "output_type": "stream",
     "text": [
      "638.4426981948995\n",
      "ICMR_1_1_0, Subject 70\n"
     ]
    },
    {
     "name": "stdout",
     "output_type": "stream",
     "text": [
      "505.99018745621873\n",
      "ICMR_1_1_0, Subject 73\n"
     ]
    },
    {
     "name": "stdout",
     "output_type": "stream",
     "text": [
      "657.8058321913827\n",
      "ICMR_1_1_0, Subject 74\n"
     ]
    },
    {
     "name": "stdout",
     "output_type": "stream",
     "text": [
      "609.7818706686687\n",
      "ICMR_1_1_0, Subject 75\n"
     ]
    },
    {
     "name": "stdout",
     "output_type": "stream",
     "text": [
      "434.228478642097\n",
      "ICMR_1_1_0, Subject 76\n"
     ]
    },
    {
     "name": "stdout",
     "output_type": "stream",
     "text": [
      "646.0250345581868\n",
      "ICMR_1_1_0, Subject 77\n"
     ]
    },
    {
     "name": "stdout",
     "output_type": "stream",
     "text": [
      "643.7316079861293\n",
      "ICMR_1_1_0, Subject 79\n"
     ]
    },
    {
     "name": "stdout",
     "output_type": "stream",
     "text": [
      "538.8242574491957\n",
      "ICMR_1_1_0, Subject 81\n"
     ]
    },
    {
     "name": "stdout",
     "output_type": "stream",
     "text": [
      "681.2813744460472\n",
      "ICMR_1_1_0, Subject 82\n"
     ]
    },
    {
     "name": "stdout",
     "output_type": "stream",
     "text": [
      "627.2763270972686\n",
      "ICMR_1_1_0, Subject 84\n"
     ]
    },
    {
     "name": "stdout",
     "output_type": "stream",
     "text": [
      "523.2548656897424\n",
      "ICMR_1_1_0, Subject 85\n"
     ]
    },
    {
     "name": "stdout",
     "output_type": "stream",
     "text": [
      "461.30640070560196\n",
      "ICMR_1_1_0, Subject 86\n"
     ]
    },
    {
     "name": "stdout",
     "output_type": "stream",
     "text": [
      "644.1192426947559\n",
      "ICMR_1_1_0, Subject 87\n"
     ]
    },
    {
     "name": "stdout",
     "output_type": "stream",
     "text": [
      "512.890829324884\n",
      "ICMR_1_1_0, Subject 88\n"
     ]
    },
    {
     "name": "stdout",
     "output_type": "stream",
     "text": [
      "674.7309679797391\n",
      "ICMR_1_1_0, Subject 89\n"
     ]
    },
    {
     "name": "stdout",
     "output_type": "stream",
     "text": [
      "603.9898985941362\n",
      "ICMR_1_1_0, Subject 90\n"
     ]
    },
    {
     "name": "stdout",
     "output_type": "stream",
     "text": [
      "643.3850670438474\n",
      "ICMR_1_1_0, Subject 91\n"
     ]
    },
    {
     "name": "stdout",
     "output_type": "stream",
     "text": [
      "545.578799600303\n",
      "ICMR_1_1_0, Subject 92\n"
     ]
    },
    {
     "name": "stdout",
     "output_type": "stream",
     "text": [
      "815.5672760371865\n",
      "ICMR_1_1_0, Subject 93\n"
     ]
    },
    {
     "name": "stdout",
     "output_type": "stream",
     "text": [
      "443.5172744600475\n",
      "ICMR_1_1_0, Subject 94\n"
     ]
    },
    {
     "name": "stdout",
     "output_type": "stream",
     "text": [
      "471.86861500683386\n",
      "ICMR_1_1_0, Subject 95\n"
     ]
    },
    {
     "name": "stdout",
     "output_type": "stream",
     "text": [
      "565.1428716833228\n",
      "ICMR_1_1_0, Subject 96\n"
     ]
    },
    {
     "name": "stdout",
     "output_type": "stream",
     "text": [
      "411.35316643277935\n",
      "ICMR_1_1_0, Subject 98\n"
     ]
    },
    {
     "name": "stdout",
     "output_type": "stream",
     "text": [
      "690.0528040938755\n",
      "ICMR_1_1_0, Subject 99\n"
     ]
    },
    {
     "name": "stdout",
     "output_type": "stream",
     "text": [
      "681.0497062344666\n",
      "ICMR_1_1_0, Subject 100\n"
     ]
    },
    {
     "name": "stdout",
     "output_type": "stream",
     "text": [
      "545.7740690607798\n",
      "ICMR_1_1_0, Subject 101\n"
     ]
    },
    {
     "name": "stdout",
     "output_type": "stream",
     "text": [
      "714.5193209155743\n",
      "ICMR_1_1_0, Subject 102\n"
     ]
    },
    {
     "name": "stdout",
     "output_type": "stream",
     "text": [
      "601.4899544438605\n",
      "ICMR_1_1_0, Subject 103\n"
     ]
    },
    {
     "name": "stdout",
     "output_type": "stream",
     "text": [
      "374.66553865248665\n",
      "ICMR_1_1_0, Subject 104\n"
     ]
    },
    {
     "name": "stdout",
     "output_type": "stream",
     "text": [
      "654.8107420781618\n",
      "ICMR_1_1_0, Subject 105\n"
     ]
    },
    {
     "name": "stdout",
     "output_type": "stream",
     "text": [
      "594.5382355374458\n",
      "ICMR_1_1_0, Subject 106\n"
     ]
    },
    {
     "name": "stdout",
     "output_type": "stream",
     "text": [
      "751.165129158604\n",
      "ICMR_1_1_0, Subject 107\n"
     ]
    },
    {
     "name": "stdout",
     "output_type": "stream",
     "text": [
      "585.6184088823528\n",
      "ICMR_1_1_0, Subject 108\n"
     ]
    },
    {
     "name": "stdout",
     "output_type": "stream",
     "text": [
      "637.771878205808\n",
      "ICMR_1_1_0, Subject 110\n"
     ]
    },
    {
     "name": "stdout",
     "output_type": "stream",
     "text": [
      "724.6541369269357\n",
      "ICMR_1_1_0, Subject 111\n"
     ]
    },
    {
     "name": "stdout",
     "output_type": "stream",
     "text": [
      "706.4804744121445\n",
      "ICMR_1_1_0, Subject 112\n"
     ]
    },
    {
     "name": "stdout",
     "output_type": "stream",
     "text": [
      "618.4457343779259\n",
      "ICMR_1_1_0, Subject 113\n"
     ]
    },
    {
     "name": "stdout",
     "output_type": "stream",
     "text": [
      "527.2308178757653\n",
      "ICMR_1_1_0, Subject 114\n"
     ]
    },
    {
     "name": "stdout",
     "output_type": "stream",
     "text": [
      "575.2291293702849\n",
      "ICMR_1_1_0, Subject 115\n"
     ]
    },
    {
     "name": "stdout",
     "output_type": "stream",
     "text": [
      "615.9452752865584\n",
      "ICMR_1_1_0, Subject 117\n"
     ]
    },
    {
     "name": "stdout",
     "output_type": "stream",
     "text": [
      "623.1463427732978\n",
      "ICMR_1_1_0, Subject 118\n"
     ]
    },
    {
     "name": "stdout",
     "output_type": "stream",
     "text": [
      "395.3840928445517\n",
      "ICMR_1_1_0, Subject 119\n"
     ]
    },
    {
     "name": "stdout",
     "output_type": "stream",
     "text": [
      "744.5941100787282\n",
      "ICMR_1_1_0, Subject 120\n"
     ]
    },
    {
     "name": "stdout",
     "output_type": "stream",
     "text": [
      "483.29455794399496\n",
      "ICMR_1_1_0, Subject 122\n"
     ]
    },
    {
     "name": "stdout",
     "output_type": "stream",
     "text": [
      "681.9773348888456\n",
      "ICMR_1_1_0, Subject 123\n"
     ]
    },
    {
     "name": "stdout",
     "output_type": "stream",
     "text": [
      "527.5548699192689\n",
      "ICMR_1_1_0, Subject 124\n"
     ]
    },
    {
     "name": "stdout",
     "output_type": "stream",
     "text": [
      "716.0302504709827\n",
      "ICMR_1_1_0, Subject 125\n"
     ]
    },
    {
     "name": "stdout",
     "output_type": "stream",
     "text": [
      "591.9597656222046\n",
      "ICMR_1_1_0, Subject 127\n"
     ]
    },
    {
     "name": "stdout",
     "output_type": "stream",
     "text": [
      "648.2997183166989\n",
      "ICMR_1_1_0, Subject 128\n"
     ]
    },
    {
     "name": "stdout",
     "output_type": "stream",
     "text": [
      "708.2560095699166\n",
      "ICMR_1_1_0, Subject 130\n"
     ]
    },
    {
     "name": "stdout",
     "output_type": "stream",
     "text": [
      "463.06388587200536\n",
      "ICMR_1_1_0, Subject 131\n"
     ]
    },
    {
     "name": "stdout",
     "output_type": "stream",
     "text": [
      "695.8207056324183\n",
      "ICMR_1_1_0, Subject 132\n"
     ]
    },
    {
     "name": "stdout",
     "output_type": "stream",
     "text": [
      "580.4924918700061\n",
      "ICMR_1_1_0, Subject 133\n"
     ]
    },
    {
     "name": "stdout",
     "output_type": "stream",
     "text": [
      "562.1133284301648\n",
      "ICMR_1_1_0, Subject 134\n"
     ]
    },
    {
     "name": "stdout",
     "output_type": "stream",
     "text": [
      "608.8549621159452\n",
      "ICMR_1_1_0, Subject 135\n"
     ]
    },
    {
     "name": "stdout",
     "output_type": "stream",
     "text": [
      "511.63781865834665\n",
      "ICMR_1_1_0, Subject 136\n"
     ]
    },
    {
     "name": "stdout",
     "output_type": "stream",
     "text": [
      "553.959590998442\n",
      "ICMR_1_1_0, Subject 137\n"
     ]
    },
    {
     "name": "stdout",
     "output_type": "stream",
     "text": [
      "735.4554938766412\n",
      "ICMR_1_1_0, Subject 138\n"
     ]
    },
    {
     "name": "stdout",
     "output_type": "stream",
     "text": [
      "717.3505005612625\n",
      "ICMR_1_1_0, Subject 139\n"
     ]
    },
    {
     "name": "stdout",
     "output_type": "stream",
     "text": [
      "748.4995894873662\n",
      "ICMR_1_1_0, Subject 140\n"
     ]
    },
    {
     "name": "stdout",
     "output_type": "stream",
     "text": [
      "601.8485279006713\n",
      "ICMR_1_1_0, Subject 141\n"
     ]
    },
    {
     "name": "stdout",
     "output_type": "stream",
     "text": [
      "552.3290410375478\n",
      "ICMR_1_1_0, Subject 142\n"
     ]
    },
    {
     "name": "stdout",
     "output_type": "stream",
     "text": [
      "669.7088741453168\n",
      "ICMR_1_1_0, Subject 143\n"
     ]
    },
    {
     "name": "stdout",
     "output_type": "stream",
     "text": [
      "536.3374284270459\n",
      "ICMR_1_1_0, Subject 144\n"
     ]
    },
    {
     "name": "stdout",
     "output_type": "stream",
     "text": [
      "569.0727548313848\n",
      "ICMR_1_1_0, Subject 145\n"
     ]
    },
    {
     "name": "stdout",
     "output_type": "stream",
     "text": [
      "800.8601679932599\n",
      "ICMR_1_1_0, Subject 146\n"
     ]
    },
    {
     "name": "stdout",
     "output_type": "stream",
     "text": [
      "550.9960897914063\n",
      "ICMR_1_1_0, Subject 147\n"
     ]
    },
    {
     "name": "stdout",
     "output_type": "stream",
     "text": [
      "662.0059700215661\n",
      "ICMR_1_1_0, Subject 148\n"
     ]
    },
    {
     "name": "stdout",
     "output_type": "stream",
     "text": [
      "583.6157485817336\n",
      "ICMR_1_1_0, Subject 149\n"
     ]
    },
    {
     "name": "stdout",
     "output_type": "stream",
     "text": [
      "709.9439045724025\n",
      "ICMR_1_1_0, Subject 150\n"
     ]
    },
    {
     "name": "stdout",
     "output_type": "stream",
     "text": [
      "435.60327454499355\n",
      "ICMR_1_1_0, Subject 151\n"
     ]
    },
    {
     "name": "stdout",
     "output_type": "stream",
     "text": [
      "506.4916598319513\n",
      "ICMR_1_1_0, Subject 153\n"
     ]
    },
    {
     "name": "stdout",
     "output_type": "stream",
     "text": [
      "687.141809582515\n",
      "ICMR_1_1_0, Subject 155\n"
     ]
    },
    {
     "name": "stdout",
     "output_type": "stream",
     "text": [
      "577.8021486314353\n",
      "ICMR_1_1_0, Subject 159\n"
     ]
    },
    {
     "name": "stdout",
     "output_type": "stream",
     "text": [
      "452.3722193503939\n",
      "ICMR_1_1_0, Subject 166\n"
     ]
    },
    {
     "name": "stdout",
     "output_type": "stream",
     "text": [
      "584.2640640328452\n",
      "ICMR_1_1_0, Subject 168\n"
     ]
    },
    {
     "name": "stdout",
     "output_type": "stream",
     "text": [
      "505.9329379386511\n",
      "ICMR_1_1_0, Subject 174\n"
     ]
    },
    {
     "name": "stdout",
     "output_type": "stream",
     "text": [
      "550.8500100988535\n",
      "ICMR_1_1_0, Subject 184\n"
     ]
    },
    {
     "name": "stdout",
     "output_type": "stream",
     "text": [
      "674.8304320503669\n",
      "ICMR_1_1_0, Subject 185\n"
     ]
    },
    {
     "name": "stdout",
     "output_type": "stream",
     "text": [
      "541.3044310095461\n",
      "ICMR_1_1_0, Subject 186\n"
     ]
    },
    {
     "name": "stdout",
     "output_type": "stream",
     "text": [
      "627.4206256833675\n",
      "ICMR_1_1_0, Subject 187\n"
     ]
    },
    {
     "name": "stdout",
     "output_type": "stream",
     "text": [
      "451.10245777836576\n",
      "ICMR_1_1_0, Subject 188\n"
     ]
    },
    {
     "name": "stdout",
     "output_type": "stream",
     "text": [
      "320.27702865175894\n",
      "ICMR_1_1_0, Subject 189\n"
     ]
    },
    {
     "name": "stdout",
     "output_type": "stream",
     "text": [
      "538.9981417500276\n",
      "ICMR_1_1_0, Subject 190\n"
     ]
    },
    {
     "name": "stdout",
     "output_type": "stream",
     "text": [
      "350.10255520804\n",
      "ICMR_1_1_0, Subject 191\n"
     ]
    },
    {
     "name": "stdout",
     "output_type": "stream",
     "text": [
      "755.4299464912672\n",
      "ICMR_1_1_0, Subject 192\n"
     ]
    },
    {
     "name": "stdout",
     "output_type": "stream",
     "text": [
      "610.843383054049\n",
      "ICMR_1_1_0, Subject 193\n"
     ]
    },
    {
     "name": "stdout",
     "output_type": "stream",
     "text": [
      "798.6431061056358\n",
      "ICMR_1_1_0, Subject 194\n"
     ]
    },
    {
     "name": "stdout",
     "output_type": "stream",
     "text": [
      "527.3434071649261\n",
      "ICMR_1_1_0, Subject 195\n"
     ]
    },
    {
     "name": "stdout",
     "output_type": "stream",
     "text": [
      "782.6634265549351\n",
      "ICMR_1_1_0, Subject 196\n"
     ]
    },
    {
     "name": "stdout",
     "output_type": "stream",
     "text": [
      "607.7057477576533\n",
      "ICMR_1_1_0, Subject 197\n"
     ]
    },
    {
     "name": "stdout",
     "output_type": "stream",
     "text": [
      "703.2853952148271\n",
      "ICMR_1_1_0, Subject 198\n"
     ]
    },
    {
     "name": "stdout",
     "output_type": "stream",
     "text": [
      "786.3132657056753\n",
      "ICMR_1_1_0, Subject 199\n"
     ]
    },
    {
     "name": "stdout",
     "output_type": "stream",
     "text": [
      "568.1420617499518\n",
      "ICMR_1_1_0, Subject 200\n"
     ]
    },
    {
     "name": "stdout",
     "output_type": "stream",
     "text": [
      "604.5446169775951\n",
      "ICMR_1_1_0, Subject 201\n"
     ]
    },
    {
     "name": "stdout",
     "output_type": "stream",
     "text": [
      "568.995229369555\n",
      "ICMR_1_1_0, Subject 202\n"
     ]
    },
    {
     "name": "stdout",
     "output_type": "stream",
     "text": [
      "633.6529232617559\n",
      "ICMR_1_1_0, Subject 207\n"
     ]
    },
    {
     "name": "stdout",
     "output_type": "stream",
     "text": [
      "585.9901264784178\n",
      "ICMR_1_1_0, Subject 209\n"
     ]
    },
    {
     "name": "stdout",
     "output_type": "stream",
     "text": [
      "633.5800786200703\n",
      "ICMR_1_1_0, Subject 210\n"
     ]
    },
    {
     "name": "stdout",
     "output_type": "stream",
     "text": [
      "568.3485890356067\n",
      "ICMR_1_1_0, Subject 211\n"
     ]
    },
    {
     "name": "stdout",
     "output_type": "stream",
     "text": [
      "385.3990341353221\n",
      "ICMR_1_1_0, Subject 212\n"
     ]
    },
    {
     "name": "stdout",
     "output_type": "stream",
     "text": [
      "531.4301992172354\n",
      "ICMR_1_1_0, Subject 215\n"
     ]
    },
    {
     "name": "stdout",
     "output_type": "stream",
     "text": [
      "513.1197123979024\n",
      "ICMR_1_1_0, Subject 227\n"
     ]
    },
    {
     "name": "stdout",
     "output_type": "stream",
     "text": [
      "522.4357343484659\n",
      "ICMR_1_1_0, Subject 228\n"
     ]
    },
    {
     "name": "stdout",
     "output_type": "stream",
     "text": [
      "499.07352916037524\n",
      "ICMR_1_1_0, Subject 229\n"
     ]
    },
    {
     "name": "stdout",
     "output_type": "stream",
     "text": [
      "656.5697627475881\n",
      "ICMR_1_1_0, Subject 230\n"
     ]
    },
    {
     "name": "stdout",
     "output_type": "stream",
     "text": [
      "521.5779356386776\n",
      "ICMR_1_1_0, Subject 231\n"
     ]
    },
    {
     "name": "stdout",
     "output_type": "stream",
     "text": [
      "602.200495669261\n",
      "ICMR_1_1_0, Subject 232\n"
     ]
    },
    {
     "name": "stdout",
     "output_type": "stream",
     "text": [
      "675.2058227385583\n",
      "ICMR_1_1_0, Subject 233\n"
     ]
    },
    {
     "name": "stdout",
     "output_type": "stream",
     "text": [
      "635.8207883968171\n",
      "ICMR_1_1_0, Subject 234\n"
     ]
    },
    {
     "name": "stdout",
     "output_type": "stream",
     "text": [
      "480.09866346990935\n",
      "ICMR_1_1_0, Subject 235\n"
     ]
    },
    {
     "name": "stdout",
     "output_type": "stream",
     "text": [
      "609.9056403915065\n",
      "ICMR_1_1_0, Subject 236\n"
     ]
    },
    {
     "name": "stdout",
     "output_type": "stream",
     "text": [
      "617.5651289714298\n",
      "ICMR_1_1_0, Subject 237\n"
     ]
    },
    {
     "name": "stdout",
     "output_type": "stream",
     "text": [
      "466.19372010545015\n",
      "ICMR_1_1_0, Subject 238\n"
     ]
    },
    {
     "name": "stdout",
     "output_type": "stream",
     "text": [
      "473.12260352253884\n",
      "ICMR_1_1_0, Subject 239\n"
     ]
    },
    {
     "name": "stdout",
     "output_type": "stream",
     "text": [
      "538.2439914818659\n",
      "ICMR_1_1_0, Subject 240\n"
     ]
    },
    {
     "name": "stdout",
     "output_type": "stream",
     "text": [
      "513.9561155302893\n",
      "ICMR_1_1_0, Subject 241\n"
     ]
    },
    {
     "name": "stdout",
     "output_type": "stream",
     "text": [
      "641.7905752265306\n",
      "ICMR_1_1_0, Subject 242\n"
     ]
    },
    {
     "name": "stdout",
     "output_type": "stream",
     "text": [
      "517.9924502791486\n",
      "ICMR_1_1_0, Subject 243\n"
     ]
    },
    {
     "name": "stdout",
     "output_type": "stream",
     "text": [
      "609.8061680507866\n",
      "ICMR_1_1_0, Subject 244\n"
     ]
    },
    {
     "name": "stdout",
     "output_type": "stream",
     "text": [
      "650.2839326498861\n",
      "ICMR_1_1_1, Subject 63\n"
     ]
    },
    {
     "name": "stdout",
     "output_type": "stream",
     "text": [
      "691.5596065048211\n",
      "ICMR_1_1_1, Subject 64\n"
     ]
    },
    {
     "name": "stdout",
     "output_type": "stream",
     "text": [
      "509.33570413245855\n",
      "ICMR_1_1_1, Subject 65\n"
     ]
    },
    {
     "name": "stdout",
     "output_type": "stream",
     "text": [
      "503.51949950564693\n",
      "ICMR_1_1_1, Subject 66\n"
     ]
    },
    {
     "name": "stdout",
     "output_type": "stream",
     "text": [
      "619.9767163348014\n",
      "ICMR_1_1_1, Subject 67\n"
     ]
    },
    {
     "name": "stdout",
     "output_type": "stream",
     "text": [
      "628.7314603045572\n",
      "ICMR_1_1_1, Subject 69\n"
     ]
    },
    {
     "name": "stdout",
     "output_type": "stream",
     "text": [
      "639.446348343207\n",
      "ICMR_1_1_1, Subject 70\n"
     ]
    },
    {
     "name": "stdout",
     "output_type": "stream",
     "text": [
      "505.49614739230225\n",
      "ICMR_1_1_1, Subject 73\n"
     ]
    },
    {
     "name": "stdout",
     "output_type": "stream",
     "text": [
      "653.3781903035912\n",
      "ICMR_1_1_1, Subject 74\n"
     ]
    },
    {
     "name": "stdout",
     "output_type": "stream",
     "text": [
      "610.6764856257724\n",
      "ICMR_1_1_1, Subject 75\n"
     ]
    },
    {
     "name": "stdout",
     "output_type": "stream",
     "text": [
      "434.2517764019377\n",
      "ICMR_1_1_1, Subject 76\n"
     ]
    },
    {
     "name": "stdout",
     "output_type": "stream",
     "text": [
      "645.8382704716971\n",
      "ICMR_1_1_1, Subject 77\n"
     ]
    },
    {
     "name": "stdout",
     "output_type": "stream",
     "text": [
      "646.101123850549\n",
      "ICMR_1_1_1, Subject 79\n"
     ]
    },
    {
     "name": "stdout",
     "output_type": "stream",
     "text": [
      "540.1283590975981\n",
      "ICMR_1_1_1, Subject 81\n"
     ]
    },
    {
     "name": "stdout",
     "output_type": "stream",
     "text": [
      "685.1657196370253\n",
      "ICMR_1_1_1, Subject 82\n"
     ]
    },
    {
     "name": "stdout",
     "output_type": "stream",
     "text": [
      "632.8765557070358\n",
      "ICMR_1_1_1, Subject 84\n"
     ]
    },
    {
     "name": "stdout",
     "output_type": "stream",
     "text": [
      "528.4175374385327\n",
      "ICMR_1_1_1, Subject 85\n"
     ]
    },
    {
     "name": "stdout",
     "output_type": "stream",
     "text": [
      "455.2292777341898\n",
      "ICMR_1_1_1, Subject 86\n"
     ]
    },
    {
     "name": "stdout",
     "output_type": "stream",
     "text": [
      "646.4593611102953\n",
      "ICMR_1_1_1, Subject 87\n"
     ]
    },
    {
     "name": "stdout",
     "output_type": "stream",
     "text": [
      "514.1562970059422\n",
      "ICMR_1_1_1, Subject 88\n"
     ]
    },
    {
     "name": "stdout",
     "output_type": "stream",
     "text": [
      "674.9750680098166\n",
      "ICMR_1_1_1, Subject 89\n"
     ]
    },
    {
     "name": "stdout",
     "output_type": "stream",
     "text": [
      "605.5070662331945\n",
      "ICMR_1_1_1, Subject 90\n"
     ]
    },
    {
     "name": "stdout",
     "output_type": "stream",
     "text": [
      "638.8206522927392\n",
      "ICMR_1_1_1, Subject 91\n"
     ]
    },
    {
     "name": "stdout",
     "output_type": "stream",
     "text": [
      "551.9143782026923\n",
      "ICMR_1_1_1, Subject 92\n"
     ]
    },
    {
     "name": "stdout",
     "output_type": "stream",
     "text": [
      "787.7872775910921\n",
      "ICMR_1_1_1, Subject 93\n"
     ]
    },
    {
     "name": "stdout",
     "output_type": "stream",
     "text": [
      "441.04843245192893\n",
      "ICMR_1_1_1, Subject 94\n"
     ]
    },
    {
     "name": "stdout",
     "output_type": "stream",
     "text": [
      "470.68263212657\n",
      "ICMR_1_1_1, Subject 95\n"
     ]
    },
    {
     "name": "stdout",
     "output_type": "stream",
     "text": [
      "565.6117382457484\n",
      "ICMR_1_1_1, Subject 96\n"
     ]
    },
    {
     "name": "stdout",
     "output_type": "stream",
     "text": [
      "411.4519156932327\n",
      "ICMR_1_1_1, Subject 98\n"
     ]
    },
    {
     "name": "stdout",
     "output_type": "stream",
     "text": [
      "686.7934757577156\n",
      "ICMR_1_1_1, Subject 99\n"
     ]
    },
    {
     "name": "stdout",
     "output_type": "stream",
     "text": [
      "682.5191536632333\n",
      "ICMR_1_1_1, Subject 100\n"
     ]
    },
    {
     "name": "stdout",
     "output_type": "stream",
     "text": [
      "546.1946355799149\n",
      "ICMR_1_1_1, Subject 101\n"
     ]
    },
    {
     "name": "stdout",
     "output_type": "stream",
     "text": [
      "716.0199625747863\n",
      "ICMR_1_1_1, Subject 102\n"
     ]
    },
    {
     "name": "stdout",
     "output_type": "stream",
     "text": [
      "601.8553718747382\n",
      "ICMR_1_1_1, Subject 103\n"
     ]
    },
    {
     "name": "stdout",
     "output_type": "stream",
     "text": [
      "375.7625714574407\n",
      "ICMR_1_1_1, Subject 104\n"
     ]
    },
    {
     "name": "stdout",
     "output_type": "stream",
     "text": [
      "663.3189884399173\n",
      "ICMR_1_1_1, Subject 105\n"
     ]
    },
    {
     "name": "stdout",
     "output_type": "stream",
     "text": [
      "594.8657329720668\n",
      "ICMR_1_1_1, Subject 106\n"
     ]
    },
    {
     "name": "stdout",
     "output_type": "stream",
     "text": [
      "749.29006267159\n",
      "ICMR_1_1_1, Subject 107\n"
     ]
    },
    {
     "name": "stdout",
     "output_type": "stream",
     "text": [
      "585.8070947242506\n",
      "ICMR_1_1_1, Subject 108\n"
     ]
    },
    {
     "name": "stdout",
     "output_type": "stream",
     "text": [
      "638.1984534704851\n",
      "ICMR_1_1_1, Subject 110\n"
     ]
    },
    {
     "name": "stdout",
     "output_type": "stream",
     "text": [
      "714.9509476306071\n",
      "ICMR_1_1_1, Subject 111\n"
     ]
    },
    {
     "name": "stdout",
     "output_type": "stream",
     "text": [
      "706.2535948664331\n",
      "ICMR_1_1_1, Subject 112\n"
     ]
    },
    {
     "name": "stdout",
     "output_type": "stream",
     "text": [
      "618.1712731936788\n",
      "ICMR_1_1_1, Subject 113\n"
     ]
    },
    {
     "name": "stdout",
     "output_type": "stream",
     "text": [
      "527.7140567148668\n",
      "ICMR_1_1_1, Subject 114\n"
     ]
    },
    {
     "name": "stdout",
     "output_type": "stream",
     "text": [
      "575.2202053362801\n",
      "ICMR_1_1_1, Subject 115\n"
     ]
    },
    {
     "name": "stdout",
     "output_type": "stream",
     "text": [
      "618.1322035721297\n",
      "ICMR_1_1_1, Subject 117\n"
     ]
    },
    {
     "name": "stdout",
     "output_type": "stream",
     "text": [
      "614.530299589502\n",
      "ICMR_1_1_1, Subject 118\n"
     ]
    },
    {
     "name": "stdout",
     "output_type": "stream",
     "text": [
      "395.1724562410628\n",
      "ICMR_1_1_1, Subject 119\n"
     ]
    },
    {
     "name": "stdout",
     "output_type": "stream",
     "text": [
      "659.5402714037084\n",
      "ICMR_1_1_1, Subject 120\n"
     ]
    },
    {
     "name": "stdout",
     "output_type": "stream",
     "text": [
      "484.6058684997583\n",
      "ICMR_1_1_1, Subject 122\n"
     ]
    },
    {
     "name": "stdout",
     "output_type": "stream",
     "text": [
      "678.066853161221\n",
      "ICMR_1_1_1, Subject 123\n"
     ]
    },
    {
     "name": "stdout",
     "output_type": "stream",
     "text": [
      "528.0647221808849\n",
      "ICMR_1_1_1, Subject 124\n"
     ]
    },
    {
     "name": "stdout",
     "output_type": "stream",
     "text": [
      "674.9042300957046\n",
      "ICMR_1_1_1, Subject 125\n"
     ]
    },
    {
     "name": "stdout",
     "output_type": "stream",
     "text": [
      "593.0286573219946\n",
      "ICMR_1_1_1, Subject 127\n"
     ]
    },
    {
     "name": "stdout",
     "output_type": "stream",
     "text": [
      "656.1805653707341\n",
      "ICMR_1_1_1, Subject 128\n"
     ]
    },
    {
     "name": "stdout",
     "output_type": "stream",
     "text": [
      "708.2582984414292\n",
      "ICMR_1_1_1, Subject 130\n"
     ]
    },
    {
     "name": "stdout",
     "output_type": "stream",
     "text": [
      "458.52571001476656\n",
      "ICMR_1_1_1, Subject 131\n"
     ]
    },
    {
     "name": "stdout",
     "output_type": "stream",
     "text": [
      "696.067878813143\n",
      "ICMR_1_1_1, Subject 132\n"
     ]
    },
    {
     "name": "stdout",
     "output_type": "stream",
     "text": [
      "581.7632635440344\n",
      "ICMR_1_1_1, Subject 133\n"
     ]
    },
    {
     "name": "stdout",
     "output_type": "stream",
     "text": [
      "562.9031171039983\n",
      "ICMR_1_1_1, Subject 134\n"
     ]
    },
    {
     "name": "stdout",
     "output_type": "stream",
     "text": [
      "613.813662279778\n",
      "ICMR_1_1_1, Subject 135\n"
     ]
    },
    {
     "name": "stdout",
     "output_type": "stream",
     "text": [
      "511.5033539490539\n",
      "ICMR_1_1_1, Subject 136\n"
     ]
    },
    {
     "name": "stdout",
     "output_type": "stream",
     "text": [
      "524.0231936874193\n",
      "ICMR_1_1_1, Subject 137\n"
     ]
    },
    {
     "name": "stdout",
     "output_type": "stream",
     "text": [
      "734.4494383501461\n",
      "ICMR_1_1_1, Subject 138\n"
     ]
    },
    {
     "name": "stdout",
     "output_type": "stream",
     "text": [
      "717.3067425788381\n",
      "ICMR_1_1_1, Subject 139\n"
     ]
    },
    {
     "name": "stdout",
     "output_type": "stream",
     "text": [
      "745.194287750447\n",
      "ICMR_1_1_1, Subject 140\n"
     ]
    },
    {
     "name": "stdout",
     "output_type": "stream",
     "text": [
      "604.6831924354918\n",
      "ICMR_1_1_1, Subject 141\n"
     ]
    },
    {
     "name": "stdout",
     "output_type": "stream",
     "text": [
      "552.3769638852294\n",
      "ICMR_1_1_1, Subject 142\n"
     ]
    },
    {
     "name": "stdout",
     "output_type": "stream",
     "text": [
      "671.8067449650083\n",
      "ICMR_1_1_1, Subject 143\n"
     ]
    },
    {
     "name": "stdout",
     "output_type": "stream",
     "text": [
      "538.6316947386239\n",
      "ICMR_1_1_1, Subject 144\n"
     ]
    },
    {
     "name": "stdout",
     "output_type": "stream",
     "text": [
      "566.7102492264858\n",
      "ICMR_1_1_1, Subject 145\n"
     ]
    },
    {
     "name": "stdout",
     "output_type": "stream",
     "text": [
      "724.0727985979761\n",
      "ICMR_1_1_1, Subject 146\n"
     ]
    },
    {
     "name": "stdout",
     "output_type": "stream",
     "text": [
      "545.9112341870069\n",
      "ICMR_1_1_1, Subject 147\n"
     ]
    },
    {
     "name": "stdout",
     "output_type": "stream",
     "text": [
      "664.7168246694755\n",
      "ICMR_1_1_1, Subject 148\n"
     ]
    },
    {
     "name": "stdout",
     "output_type": "stream",
     "text": [
      "583.6157515338173\n",
      "ICMR_1_1_1, Subject 149\n"
     ]
    },
    {
     "name": "stdout",
     "output_type": "stream",
     "text": [
      "703.9796199893007\n",
      "ICMR_1_1_1, Subject 150\n"
     ]
    },
    {
     "name": "stdout",
     "output_type": "stream",
     "text": [
      "434.64258090842617\n",
      "ICMR_1_1_1, Subject 151\n"
     ]
    },
    {
     "name": "stdout",
     "output_type": "stream",
     "text": [
      "510.9610298731339\n",
      "ICMR_1_1_1, Subject 153\n"
     ]
    },
    {
     "name": "stdout",
     "output_type": "stream",
     "text": [
      "685.0725277903376\n",
      "ICMR_1_1_1, Subject 155\n"
     ]
    },
    {
     "name": "stdout",
     "output_type": "stream",
     "text": [
      "567.2652675857455\n",
      "ICMR_1_1_1, Subject 159\n"
     ]
    },
    {
     "name": "stdout",
     "output_type": "stream",
     "text": [
      "453.04307908644955\n",
      "ICMR_1_1_1, Subject 166\n"
     ]
    },
    {
     "name": "stdout",
     "output_type": "stream",
     "text": [
      "584.733061326561\n",
      "ICMR_1_1_1, Subject 168\n"
     ]
    },
    {
     "name": "stdout",
     "output_type": "stream",
     "text": [
      "502.5990917349963\n",
      "ICMR_1_1_1, Subject 174\n"
     ]
    },
    {
     "name": "stdout",
     "output_type": "stream",
     "text": [
      "549.6392158394143\n",
      "ICMR_1_1_1, Subject 184\n"
     ]
    },
    {
     "name": "stdout",
     "output_type": "stream",
     "text": [
      "634.6836514308725\n",
      "ICMR_1_1_1, Subject 185\n"
     ]
    },
    {
     "name": "stdout",
     "output_type": "stream",
     "text": [
      "539.613572244271\n",
      "ICMR_1_1_1, Subject 186\n"
     ]
    },
    {
     "name": "stdout",
     "output_type": "stream",
     "text": [
      "627.029643786755\n",
      "ICMR_1_1_1, Subject 187\n"
     ]
    },
    {
     "name": "stdout",
     "output_type": "stream",
     "text": [
      "452.72461696789225\n",
      "ICMR_1_1_1, Subject 188\n"
     ]
    },
    {
     "name": "stdout",
     "output_type": "stream",
     "text": [
      "321.16554805072786\n",
      "ICMR_1_1_1, Subject 189\n"
     ]
    },
    {
     "name": "stdout",
     "output_type": "stream",
     "text": [
      "538.9981397434309\n",
      "ICMR_1_1_1, Subject 190\n"
     ]
    },
    {
     "name": "stdout",
     "output_type": "stream",
     "text": [
      "346.41334423560784\n",
      "ICMR_1_1_1, Subject 191\n"
     ]
    },
    {
     "name": "stdout",
     "output_type": "stream",
     "text": [
      "694.0880986369417\n",
      "ICMR_1_1_1, Subject 192\n"
     ]
    },
    {
     "name": "stdout",
     "output_type": "stream",
     "text": [
      "604.7506342539969\n",
      "ICMR_1_1_1, Subject 193\n"
     ]
    },
    {
     "name": "stdout",
     "output_type": "stream",
     "text": [
      "800.2463419619393\n",
      "ICMR_1_1_1, Subject 194\n"
     ]
    },
    {
     "name": "stdout",
     "output_type": "stream",
     "text": [
      "527.563011657347\n",
      "ICMR_1_1_1, Subject 195\n"
     ]
    },
    {
     "name": "stdout",
     "output_type": "stream",
     "text": [
      "779.9739365807359\n",
      "ICMR_1_1_1, Subject 196\n"
     ]
    },
    {
     "name": "stdout",
     "output_type": "stream",
     "text": [
      "605.854648625152\n",
      "ICMR_1_1_1, Subject 197\n"
     ]
    },
    {
     "name": "stdout",
     "output_type": "stream",
     "text": [
      "699.3881518880696\n",
      "ICMR_1_1_1, Subject 198\n"
     ]
    },
    {
     "name": "stdout",
     "output_type": "stream",
     "text": [
      "785.2105696102727\n",
      "ICMR_1_1_1, Subject 199\n"
     ]
    },
    {
     "name": "stdout",
     "output_type": "stream",
     "text": [
      "569.4864349591855\n",
      "ICMR_1_1_1, Subject 200\n"
     ]
    },
    {
     "name": "stdout",
     "output_type": "stream",
     "text": [
      "610.0007520686095\n",
      "ICMR_1_1_1, Subject 201\n"
     ]
    },
    {
     "name": "stdout",
     "output_type": "stream",
     "text": [
      "573.012738781572\n",
      "ICMR_1_1_1, Subject 202\n"
     ]
    },
    {
     "name": "stdout",
     "output_type": "stream",
     "text": [
      "633.5724552394116\n",
      "ICMR_1_1_1, Subject 207\n"
     ]
    },
    {
     "name": "stdout",
     "output_type": "stream",
     "text": [
      "581.2773814528082\n",
      "ICMR_1_1_1, Subject 209\n"
     ]
    },
    {
     "name": "stdout",
     "output_type": "stream",
     "text": [
      "633.6053262031288\n",
      "ICMR_1_1_1, Subject 210\n"
     ]
    },
    {
     "name": "stdout",
     "output_type": "stream",
     "text": [
      "568.1840236437549\n",
      "ICMR_1_1_1, Subject 211\n"
     ]
    },
    {
     "name": "stdout",
     "output_type": "stream",
     "text": [
      "387.2684669164847\n",
      "ICMR_1_1_1, Subject 212\n"
     ]
    },
    {
     "name": "stdout",
     "output_type": "stream",
     "text": [
      "527.6682621170797\n",
      "ICMR_1_1_1, Subject 215\n"
     ]
    },
    {
     "name": "stdout",
     "output_type": "stream",
     "text": [
      "512.5949439907023\n",
      "ICMR_1_1_1, Subject 227\n"
     ]
    },
    {
     "name": "stdout",
     "output_type": "stream",
     "text": [
      "523.7604508342212\n",
      "ICMR_1_1_1, Subject 228\n"
     ]
    },
    {
     "name": "stdout",
     "output_type": "stream",
     "text": [
      "500.04200561723366\n",
      "ICMR_1_1_1, Subject 229\n"
     ]
    },
    {
     "name": "stdout",
     "output_type": "stream",
     "text": [
      "656.2966218798026\n",
      "ICMR_1_1_1, Subject 230\n"
     ]
    },
    {
     "name": "stdout",
     "output_type": "stream",
     "text": [
      "509.42236575992604\n",
      "ICMR_1_1_1, Subject 231\n"
     ]
    },
    {
     "name": "stdout",
     "output_type": "stream",
     "text": [
      "602.4952140594937\n",
      "ICMR_1_1_1, Subject 232\n"
     ]
    },
    {
     "name": "stdout",
     "output_type": "stream",
     "text": [
      "677.8698147733867\n",
      "ICMR_1_1_1, Subject 233\n"
     ]
    },
    {
     "name": "stdout",
     "output_type": "stream",
     "text": [
      "636.1397628921347\n",
      "ICMR_1_1_1, Subject 234\n"
     ]
    },
    {
     "name": "stdout",
     "output_type": "stream",
     "text": [
      "476.50578310737717\n",
      "ICMR_1_1_1, Subject 235\n"
     ]
    },
    {
     "name": "stdout",
     "output_type": "stream",
     "text": [
      "609.7868461713998\n",
      "ICMR_1_1_1, Subject 236\n"
     ]
    },
    {
     "name": "stdout",
     "output_type": "stream",
     "text": [
      "618.0393213752463\n",
      "ICMR_1_1_1, Subject 237\n"
     ]
    },
    {
     "name": "stdout",
     "output_type": "stream",
     "text": [
      "468.29186114657114\n",
      "ICMR_1_1_1, Subject 238\n"
     ]
    },
    {
     "name": "stdout",
     "output_type": "stream",
     "text": [
      "473.2946132382962\n",
      "ICMR_1_1_1, Subject 239\n"
     ]
    },
    {
     "name": "stdout",
     "output_type": "stream",
     "text": [
      "537.0538697527417\n",
      "ICMR_1_1_1, Subject 240\n"
     ]
    },
    {
     "name": "stdout",
     "output_type": "stream",
     "text": [
      "513.9702876277756\n",
      "ICMR_1_1_1, Subject 241\n"
     ]
    },
    {
     "name": "stdout",
     "output_type": "stream",
     "text": [
      "639.1236714698714\n",
      "ICMR_1_1_1, Subject 242\n"
     ]
    },
    {
     "name": "stdout",
     "output_type": "stream",
     "text": [
      "512.3262234937845\n",
      "ICMR_1_1_1, Subject 243\n"
     ]
    },
    {
     "name": "stdout",
     "output_type": "stream",
     "text": [
      "616.4334746871323\n",
      "ICMR_1_1_1, Subject 244\n"
     ]
    },
    {
     "name": "stdout",
     "output_type": "stream",
     "text": [
      "650.2561335402029\n"
     ]
    }
   ],
   "source": [
    "# | code-summary: code -- 1) fit each model class participant-by-participant\n",
    "# | output: false\n",
    "\n",
    "for model_index, model_class in enumerate(models):\n",
    "\n",
    "    # load individual fits for this model and section tag from csv if they exist\n",
    "    if os.path.isfile(results_path + '{}_{}_individual.csv'.format(section_tag, model_names[model_index])):\n",
    "        pd.read_csv(results_path + '{}_{}_individual.csv'.format(section_tag, model_names[model_index]))\n",
    "        print('individual fits for {} with tag {} already exist'.format(model_names[model_index], section_tag))\n",
    "\n",
    "    # otherwise, fit each participant individually\n",
    "    else:\n",
    "        model_individual_fits = []\n",
    "\n",
    "        @njit(fastmath=True, nogil=True)\n",
    "        def init_model(item_count, presentation_count, parameters):\n",
    "            return model_class(item_count, presentation_count, parameters)\n",
    "\n",
    "        for subject in pd.unique(events.subject):\n",
    "            print(f'{model_names[model_index]}, Subject {subject}')\n",
    "\n",
    "            subject_specific_trial_mask = np.logical_and(\n",
    "                generate_trial_mask(events, f'subject == {subject}'), trial_mask)\n",
    "            \n",
    "            try:\n",
    "                # cost function to be minimized\n",
    "                # ours scales inversely with the probability that the data could have been\n",
    "                # generated using the specified parameters and our model\n",
    "                cost_function = generate_objective_function(\n",
    "                    [trials[i][subject_specific_trial_mask[i]] for i in range(len(trials))],\n",
    "                    [presentations[i][subject_specific_trial_mask[i]] for i in range(len(presentations))],\n",
    "                    list_lengths,\n",
    "                    init_model,\n",
    "                    fixed_parameters[model_index],\n",
    "                    free_parameters[model_index],\n",
    "                )\n",
    "            except ValueError:\n",
    "                continue\n",
    "\n",
    "            fit_result =  differential_evolution(cost_function, bounds[model_index], disp=False)\n",
    "\n",
    "            fitted_parameters = {\n",
    "                'subject': subject, 'trial_count': np.sum(subject_specific_trial_mask), \n",
    "                'likelihood': fit_result.fun, 'model': model_names[model_index]\n",
    "                }\n",
    "            for i in range(len(fit_result.x)):\n",
    "                fitted_parameters[free_parameters[model_index][i]] = fit_result.x[i]\n",
    "            for key in fixed_parameters[model_index]:\n",
    "                fitted_parameters[key] = fixed_parameters[model_index][key]\n",
    "\n",
    "            model_individual_fits.append(pd.DataFrame.from_dict(fitted_parameters, orient='index').T)\n",
    "            print(model_individual_fits[-1]['likelihood'][0])\n",
    "\n",
    "        model_individual_fits = pd.concat(model_individual_fits, ignore_index=True)\n",
    "        model_individual_fits.to_csv(\n",
    "            results_path + '{}_{}_individual.csv'.format(section_tag, model_names[model_index]), index=False)"
   ]
  },
  {
   "cell_type": "code",
   "execution_count": 5,
   "id": "ec88142a",
   "metadata": {
    "execution": {
     "iopub.execute_input": "2022-06-01T03:21:46.554413Z",
     "iopub.status.busy": "2022-06-01T03:21:46.553829Z",
     "iopub.status.idle": "2022-06-01T03:21:48.584364Z",
     "shell.execute_reply": "2022-06-01T03:21:48.583638Z"
    },
    "papermill": {
     "duration": 2.232842,
     "end_time": "2022-06-01T03:21:48.590085",
     "exception": false,
     "start_time": "2022-06-01T03:21:46.357243",
     "status": "completed"
    },
    "tags": []
   },
   "outputs": [
    {
     "data": {
      "text/plain": [
       "Text(7.694444444444452, 0.5, 'Individual Log-Likelihood')"
      ]
     },
     "execution_count": 5,
     "metadata": {},
     "output_type": "execute_result"
    },
    {
     "data": {
      "image/png": "[encoded data removed]",
      "text/plain": [
       "<Figure size 500x500 with 1 Axes>"
      ]
     },
     "metadata": {},
     "output_type": "display_data"
    }
   ],
   "source": [
    "#| code-summary: code -- 3) plot distribution of log-likelihoods across individual subjects\n",
    "\n",
    "plt.style.use('default')\n",
    "sns.set(style=\"darkgrid\")\n",
    "\n",
    "# build individual fits df concatenating results from each model\n",
    "individual_fits = []\n",
    "for model_index, model_class in enumerate(models):\n",
    "    individual_fits.append(\n",
    "        pd.read_csv(results_path + '{}_{}_individual.csv'.format(section_tag, model_names[model_index])))\n",
    "individual_fits = pd.concat(individual_fits, ignore_index=True)\n",
    "\n",
    "# plot distribution of log-likelihoods across individual subjects\n",
    "g = sns.catplot(x='model', y='likelihood', data=individual_fits, kind='violin', inner='stick')\n",
    "sns.swarmplot(x=\"model\", y=\"likelihood\", data=individual_fits, color=\"k\", size=3, ax=g.ax)\n",
    "g.ax.set_ylabel('Individual Log-Likelihood')\n",
    "#plt.savefig(results_path + 'individual_{}.pdf'.format(section_tag), bbox_inches=\"tight\")"
   ]
  },
  {
   "cell_type": "code",
   "execution_count": 6,
   "id": "dc4f39d9",
   "metadata": {
    "execution": {
     "iopub.execute_input": "2022-06-01T03:21:49.050419Z",
     "iopub.status.busy": "2022-06-01T03:21:49.049830Z",
     "iopub.status.idle": "2022-06-01T03:21:49.122338Z",
     "shell.execute_reply": "2022-06-01T03:21:49.121336Z"
    },
    "papermill": {
     "duration": 0.276826,
     "end_time": "2022-06-01T03:21:49.124430",
     "exception": false,
     "start_time": "2022-06-01T03:21:48.847604",
     "status": "completed"
    },
    "tags": []
   },
   "outputs": [
    {
     "data": {
      "text/html": [
       "<div>\n",
       "<style scoped>\n",
       "    .dataframe tbody tr th:only-of-type {\n",
       "        vertical-align: middle;\n",
       "    }\n",
       "\n",
       "    .dataframe tbody tr th {\n",
       "        vertical-align: top;\n",
       "    }\n",
       "\n",
       "    .dataframe thead th {\n",
       "        text-align: right;\n",
       "    }\n",
       "</style>\n",
       "<table border=\"1\" class=\"dataframe\">\n",
       "  <thead>\n",
       "    <tr style=\"text-align: right;\">\n",
       "      <th></th>\n",
       "      <th>subject</th>\n",
       "      <th>trial_count</th>\n",
       "      <th>likelihood</th>\n",
       "      <th>model</th>\n",
       "      <th>encoding_drift_rate</th>\n",
       "      <th>start_drift_rate</th>\n",
       "      <th>recall_drift_rate</th>\n",
       "      <th>shared_support</th>\n",
       "      <th>item_support</th>\n",
       "      <th>learning_rate</th>\n",
       "      <th>primacy_scale</th>\n",
       "      <th>primacy_decay</th>\n",
       "      <th>stop_probability_scale</th>\n",
       "      <th>stop_probability_growth</th>\n",
       "      <th>choice_sensitivity</th>\n",
       "      <th>delay_drift_rate</th>\n",
       "      <th>feature_sensitivity</th>\n",
       "      <th>context_sensitivity</th>\n",
       "      <th>learn_first</th>\n",
       "    </tr>\n",
       "  </thead>\n",
       "  <tbody>\n",
       "    <tr>\n",
       "      <th>0</th>\n",
       "      <td>63</td>\n",
       "      <td>28</td>\n",
       "      <td>691.300853</td>\n",
       "      <td>PrototypeCMR</td>\n",
       "      <td>0.749910</td>\n",
       "      <td>9.002816e-02</td>\n",
       "      <td>0.856608</td>\n",
       "      <td>0.011057</td>\n",
       "      <td>2.220446e-16</td>\n",
       "      <td>0.186136</td>\n",
       "      <td>12.943719</td>\n",
       "      <td>1.131110</td>\n",
       "      <td>0.003596</td>\n",
       "      <td>0.374234</td>\n",
       "      <td>0.760005</td>\n",
       "      <td>9.666055e-01</td>\n",
       "      <td>NaN</td>\n",
       "      <td>NaN</td>\n",
       "      <td>NaN</td>\n",
       "    </tr>\n",
       "    <tr>\n",
       "      <th>1</th>\n",
       "      <td>64</td>\n",
       "      <td>28</td>\n",
       "      <td>511.162507</td>\n",
       "      <td>PrototypeCMR</td>\n",
       "      <td>0.707526</td>\n",
       "      <td>2.220446e-16</td>\n",
       "      <td>1.000000</td>\n",
       "      <td>0.126618</td>\n",
       "      <td>2.220446e-16</td>\n",
       "      <td>0.571466</td>\n",
       "      <td>1.442432</td>\n",
       "      <td>60.626706</td>\n",
       "      <td>0.002823</td>\n",
       "      <td>0.278856</td>\n",
       "      <td>4.248095</td>\n",
       "      <td>7.452992e-01</td>\n",
       "      <td>NaN</td>\n",
       "      <td>NaN</td>\n",
       "      <td>NaN</td>\n",
       "    </tr>\n",
       "    <tr>\n",
       "      <th>2</th>\n",
       "      <td>65</td>\n",
       "      <td>28</td>\n",
       "      <td>508.533873</td>\n",
       "      <td>PrototypeCMR</td>\n",
       "      <td>0.818622</td>\n",
       "      <td>8.980322e-02</td>\n",
       "      <td>0.754794</td>\n",
       "      <td>0.296760</td>\n",
       "      <td>9.747061e-01</td>\n",
       "      <td>0.354851</td>\n",
       "      <td>3.525126</td>\n",
       "      <td>35.192319</td>\n",
       "      <td>0.004930</td>\n",
       "      <td>0.408640</td>\n",
       "      <td>5.280967</td>\n",
       "      <td>3.806502e-01</td>\n",
       "      <td>NaN</td>\n",
       "      <td>NaN</td>\n",
       "      <td>NaN</td>\n",
       "    </tr>\n",
       "    <tr>\n",
       "      <th>3</th>\n",
       "      <td>66</td>\n",
       "      <td>28</td>\n",
       "      <td>625.394571</td>\n",
       "      <td>PrototypeCMR</td>\n",
       "      <td>0.805021</td>\n",
       "      <td>9.835137e-02</td>\n",
       "      <td>0.940263</td>\n",
       "      <td>0.755587</td>\n",
       "      <td>2.220446e-16</td>\n",
       "      <td>0.843539</td>\n",
       "      <td>1.065656</td>\n",
       "      <td>61.476278</td>\n",
       "      <td>0.000735</td>\n",
       "      <td>0.469450</td>\n",
       "      <td>9.728036</td>\n",
       "      <td>9.648416e-01</td>\n",
       "      <td>NaN</td>\n",
       "      <td>NaN</td>\n",
       "      <td>NaN</td>\n",
       "    </tr>\n",
       "    <tr>\n",
       "      <th>4</th>\n",
       "      <td>67</td>\n",
       "      <td>28</td>\n",
       "      <td>633.189817</td>\n",
       "      <td>PrototypeCMR</td>\n",
       "      <td>0.774673</td>\n",
       "      <td>2.220446e-16</td>\n",
       "      <td>0.892117</td>\n",
       "      <td>0.488035</td>\n",
       "      <td>1.088244e-01</td>\n",
       "      <td>0.932694</td>\n",
       "      <td>1.118315</td>\n",
       "      <td>30.615489</td>\n",
       "      <td>0.000630</td>\n",
       "      <td>0.476598</td>\n",
       "      <td>8.157036</td>\n",
       "      <td>6.807799e-01</td>\n",
       "      <td>NaN</td>\n",
       "      <td>NaN</td>\n",
       "      <td>NaN</td>\n",
       "    </tr>\n",
       "    <tr>\n",
       "      <th>...</th>\n",
       "      <td>...</td>\n",
       "      <td>...</td>\n",
       "      <td>...</td>\n",
       "      <td>...</td>\n",
       "      <td>...</td>\n",
       "      <td>...</td>\n",
       "      <td>...</td>\n",
       "      <td>...</td>\n",
       "      <td>...</td>\n",
       "      <td>...</td>\n",
       "      <td>...</td>\n",
       "      <td>...</td>\n",
       "      <td>...</td>\n",
       "      <td>...</td>\n",
       "      <td>...</td>\n",
       "      <td>...</td>\n",
       "      <td>...</td>\n",
       "      <td>...</td>\n",
       "      <td>...</td>\n",
       "    </tr>\n",
       "    <tr>\n",
       "      <th>625</th>\n",
       "      <td>240</td>\n",
       "      <td>28</td>\n",
       "      <td>513.970288</td>\n",
       "      <td>ICMR_1_1_1</td>\n",
       "      <td>0.938509</td>\n",
       "      <td>2.220446e-16</td>\n",
       "      <td>0.539519</td>\n",
       "      <td>0.023427</td>\n",
       "      <td>1.000000e+00</td>\n",
       "      <td>0.210530</td>\n",
       "      <td>14.493680</td>\n",
       "      <td>4.812341</td>\n",
       "      <td>0.001519</td>\n",
       "      <td>0.637935</td>\n",
       "      <td>1.000000</td>\n",
       "      <td>2.220446e-16</td>\n",
       "      <td>1.0</td>\n",
       "      <td>2.339177</td>\n",
       "      <td>True</td>\n",
       "    </tr>\n",
       "    <tr>\n",
       "      <th>626</th>\n",
       "      <td>241</td>\n",
       "      <td>28</td>\n",
       "      <td>639.123671</td>\n",
       "      <td>ICMR_1_1_1</td>\n",
       "      <td>0.836354</td>\n",
       "      <td>3.283872e-04</td>\n",
       "      <td>0.917159</td>\n",
       "      <td>0.022514</td>\n",
       "      <td>5.323021e-01</td>\n",
       "      <td>0.219754</td>\n",
       "      <td>15.080567</td>\n",
       "      <td>78.612453</td>\n",
       "      <td>0.002514</td>\n",
       "      <td>0.457900</td>\n",
       "      <td>1.000000</td>\n",
       "      <td>9.999984e-01</td>\n",
       "      <td>1.0</td>\n",
       "      <td>2.697162</td>\n",
       "      <td>True</td>\n",
       "    </tr>\n",
       "    <tr>\n",
       "      <th>627</th>\n",
       "      <td>242</td>\n",
       "      <td>28</td>\n",
       "      <td>512.326223</td>\n",
       "      <td>ICMR_1_1_1</td>\n",
       "      <td>0.706958</td>\n",
       "      <td>4.827358e-02</td>\n",
       "      <td>0.927623</td>\n",
       "      <td>0.021991</td>\n",
       "      <td>6.741501e-01</td>\n",
       "      <td>0.489857</td>\n",
       "      <td>24.015791</td>\n",
       "      <td>1.368423</td>\n",
       "      <td>0.012022</td>\n",
       "      <td>0.368419</td>\n",
       "      <td>1.000000</td>\n",
       "      <td>2.378128e-01</td>\n",
       "      <td>1.0</td>\n",
       "      <td>2.610631</td>\n",
       "      <td>True</td>\n",
       "    </tr>\n",
       "    <tr>\n",
       "      <th>628</th>\n",
       "      <td>243</td>\n",
       "      <td>28</td>\n",
       "      <td>616.433475</td>\n",
       "      <td>ICMR_1_1_1</td>\n",
       "      <td>0.938785</td>\n",
       "      <td>1.826270e-02</td>\n",
       "      <td>0.967355</td>\n",
       "      <td>0.000056</td>\n",
       "      <td>1.598222e-02</td>\n",
       "      <td>0.016205</td>\n",
       "      <td>6.166593</td>\n",
       "      <td>47.047688</td>\n",
       "      <td>0.004176</td>\n",
       "      <td>0.324860</td>\n",
       "      <td>1.000000</td>\n",
       "      <td>1.229418e-01</td>\n",
       "      <td>1.0</td>\n",
       "      <td>0.969077</td>\n",
       "      <td>True</td>\n",
       "    </tr>\n",
       "    <tr>\n",
       "      <th>629</th>\n",
       "      <td>244</td>\n",
       "      <td>28</td>\n",
       "      <td>650.256134</td>\n",
       "      <td>ICMR_1_1_1</td>\n",
       "      <td>0.852014</td>\n",
       "      <td>1.730508e-03</td>\n",
       "      <td>0.859837</td>\n",
       "      <td>0.006080</td>\n",
       "      <td>9.310837e-02</td>\n",
       "      <td>0.222897</td>\n",
       "      <td>15.782691</td>\n",
       "      <td>54.102972</td>\n",
       "      <td>0.004208</td>\n",
       "      <td>0.380586</td>\n",
       "      <td>1.000000</td>\n",
       "      <td>9.999850e-01</td>\n",
       "      <td>1.0</td>\n",
       "      <td>4.268857</td>\n",
       "      <td>True</td>\n",
       "    </tr>\n",
       "  </tbody>\n",
       "</table>\n",
       "<p>630 rows × 19 columns</p>\n",
       "</div>"
      ],
      "text/plain": [
       "     subject  trial_count  likelihood         model  encoding_drift_rate  \\\n",
       "0         63           28  691.300853  PrototypeCMR             0.749910   \n",
       "1         64           28  511.162507  PrototypeCMR             0.707526   \n",
       "2         65           28  508.533873  PrototypeCMR             0.818622   \n",
       "3         66           28  625.394571  PrototypeCMR             0.805021   \n",
       "4         67           28  633.189817  PrototypeCMR             0.774673   \n",
       "..       ...          ...         ...           ...                  ...   \n",
       "625      240           28  513.970288    ICMR_1_1_1             0.938509   \n",
       "626      241           28  639.123671    ICMR_1_1_1             0.836354   \n",
       "627      242           28  512.326223    ICMR_1_1_1             0.706958   \n",
       "628      243           28  616.433475    ICMR_1_1_1             0.938785   \n",
       "629      244           28  650.256134    ICMR_1_1_1             0.852014   \n",
       "\n",
       "     start_drift_rate  recall_drift_rate  shared_support  item_support  \\\n",
       "0        9.002816e-02           0.856608        0.011057  2.220446e-16   \n",
       "1        2.220446e-16           1.000000        0.126618  2.220446e-16   \n",
       "2        8.980322e-02           0.754794        0.296760  9.747061e-01   \n",
       "3        9.835137e-02           0.940263        0.755587  2.220446e-16   \n",
       "4        2.220446e-16           0.892117        0.488035  1.088244e-01   \n",
       "..                ...                ...             ...           ...   \n",
       "625      2.220446e-16           0.539519        0.023427  1.000000e+00   \n",
       "626      3.283872e-04           0.917159        0.022514  5.323021e-01   \n",
       "627      4.827358e-02           0.927623        0.021991  6.741501e-01   \n",
       "628      1.826270e-02           0.967355        0.000056  1.598222e-02   \n",
       "629      1.730508e-03           0.859837        0.006080  9.310837e-02   \n",
       "\n",
       "     learning_rate  primacy_scale  primacy_decay  stop_probability_scale  \\\n",
       "0         0.186136      12.943719       1.131110                0.003596   \n",
       "1         0.571466       1.442432      60.626706                0.002823   \n",
       "2         0.354851       3.525126      35.192319                0.004930   \n",
       "3         0.843539       1.065656      61.476278                0.000735   \n",
       "4         0.932694       1.118315      30.615489                0.000630   \n",
       "..             ...            ...            ...                     ...   \n",
       "625       0.210530      14.493680       4.812341                0.001519   \n",
       "626       0.219754      15.080567      78.612453                0.002514   \n",
       "627       0.489857      24.015791       1.368423                0.012022   \n",
       "628       0.016205       6.166593      47.047688                0.004176   \n",
       "629       0.222897      15.782691      54.102972                0.004208   \n",
       "\n",
       "     stop_probability_growth  choice_sensitivity  delay_drift_rate  \\\n",
       "0                   0.374234            0.760005      9.666055e-01   \n",
       "1                   0.278856            4.248095      7.452992e-01   \n",
       "2                   0.408640            5.280967      3.806502e-01   \n",
       "3                   0.469450            9.728036      9.648416e-01   \n",
       "4                   0.476598            8.157036      6.807799e-01   \n",
       "..                       ...                 ...               ...   \n",
       "625                 0.637935            1.000000      2.220446e-16   \n",
       "626                 0.457900            1.000000      9.999984e-01   \n",
       "627                 0.368419            1.000000      2.378128e-01   \n",
       "628                 0.324860            1.000000      1.229418e-01   \n",
       "629                 0.380586            1.000000      9.999850e-01   \n",
       "\n",
       "     feature_sensitivity  context_sensitivity learn_first  \n",
       "0                    NaN                  NaN         NaN  \n",
       "1                    NaN                  NaN         NaN  \n",
       "2                    NaN                  NaN         NaN  \n",
       "3                    NaN                  NaN         NaN  \n",
       "4                    NaN                  NaN         NaN  \n",
       "..                   ...                  ...         ...  \n",
       "625                  1.0             2.339177        True  \n",
       "626                  1.0             2.697162        True  \n",
       "627                  1.0             2.610631        True  \n",
       "628                  1.0             0.969077        True  \n",
       "629                  1.0             4.268857        True  \n",
       "\n",
       "[630 rows x 19 columns]"
      ]
     },
     "execution_count": 6,
     "metadata": {},
     "output_type": "execute_result"
    }
   ],
   "source": [
    "individual_fits"
   ]
  },
  {
   "cell_type": "code",
   "execution_count": 7,
   "id": "2bd87b6e",
   "metadata": {
    "execution": {
     "iopub.execute_input": "2022-06-01T03:21:49.523392Z",
     "iopub.status.busy": "2022-06-01T03:21:49.522827Z",
     "iopub.status.idle": "2022-06-01T03:21:49.599593Z",
     "shell.execute_reply": "2022-06-01T03:21:49.598373Z"
    },
    "papermill": {
     "duration": 0.279127,
     "end_time": "2022-06-01T03:21:49.603131",
     "exception": false,
     "start_time": "2022-06-01T03:21:49.324004",
     "status": "completed"
    },
    "tags": []
   },
   "outputs": [
    {
     "name": "stdout",
     "output_type": "stream",
     "text": [
      "::: {#fig-HealyKahana2014fits layout-nrow=2 layout-valign=\"center\"}\n",
      "\n",
      "![](results/individual_HealyKahana2014.pdf)\n",
      "\n",
      "|       |   ICMR_1_0_0 |   ICMR_1_0_1 |   ICMR_1_1_0 |   ICMR_1_1_1 |   PrototypeCMR |\n",
      "|:------|-------------:|-------------:|-------------:|-------------:|---------------:|\n",
      "| count |     126      |     126      |      126     |      126     |       126      |\n",
      "| mean  |     593.034  |     593.045  |      593.425 |      588.869 |       590.049  |\n",
      "| std   |      99.7471 |      98.6815 |      101.135 |       96.077 |        95.2172 |\n",
      "| min   |     326.866  |     319.778  |      320.277 |      321.166 |       318.623  |\n",
      "| 25%   |     523.685  |     526.479  |      524.249 |      524.908 |       521.627  |\n",
      "| 50%   |     601.51   |     604.719  |      601.669 |      602.175 |       602.197  |\n",
      "| 75%   |     655.913  |     659.641  |      657.497 |      655.48  |       653.205  |\n",
      "| max   |     808.808  |     834.9    |      815.567 |      800.246 |       796.672  |\n",
      "\n",
      "Distribution of log-likelihood scores of recall sequences exhibited by each subject in dataset under each considered model.\n",
      ":::\n"
     ]
    }
   ],
   "source": [
    "#| code-summary: display markdown rendering of summary table\n",
    "#| echo: false\n",
    "#| input: false\n",
    "#| output: asis\n",
    "\n",
    "summary_table = pd.DataFrame(group.describe().rename(columns={'likelihood':name}).squeeze()\n",
    "            for name, group in individual_fits[['model', 'likelihood']].groupby('model')).T.to_markdown()\n",
    "\n",
    "print(\"\"\"::: {{#fig-{section_tag}fits layout-nrow=2 layout-valign=\"center\"}}\n",
    "\n",
    "![]({results_path}individual_{section_tag}.pdf)\n",
    "\n",
    "{summary_table}\n",
    "\n",
    "{individual_fits_caption}\n",
    ":::\"\"\".format(section_tag=section_tag, summary_table=summary_table, individual_fits_caption=figure_caption, results_path=results_path))"
   ]
  },
  {
   "cell_type": "code",
   "execution_count": 8,
   "id": "39715926",
   "metadata": {
    "execution": {
     "iopub.execute_input": "2022-06-01T03:21:50.024242Z",
     "iopub.status.busy": "2022-06-01T03:21:50.023688Z",
     "iopub.status.idle": "2022-06-01T03:21:50.110715Z",
     "shell.execute_reply": "2022-06-01T03:21:50.109817Z"
    },
    "papermill": {
     "duration": 0.2905,
     "end_time": "2022-06-01T03:21:50.113930",
     "exception": false,
     "start_time": "2022-06-01T03:21:49.823430",
     "status": "completed"
    },
    "tags": []
   },
   "outputs": [
    {
     "name": "stdout",
     "output_type": "stream",
     "text": [
      "('PrototypeCMR', 'ICMR_1_0_0')\n",
      "Ttest_relResult(statistic=-1.7890143270834382, pvalue=0.07603430951266692)\n",
      "Ttest_relResult(statistic=-1.7890143270834382, pvalue=0.03801715475633346)\n",
      "Ttest_relResult(statistic=-1.7890143270834382, pvalue=0.9619828452436665)\n",
      "\n",
      "('PrototypeCMR', 'ICMR_1_0_1')\n",
      "Ttest_relResult(statistic=-1.8459873151788098, pvalue=0.06725988536660085)\n",
      "Ttest_relResult(statistic=-1.8459873151788098, pvalue=0.033629942683300426)\n",
      "Ttest_relResult(statistic=-1.8459873151788098, pvalue=0.9663700573166996)\n",
      "\n",
      "('PrototypeCMR', 'ICMR_1_1_0')\n",
      "Ttest_relResult(statistic=-1.8238623288504439, pvalue=0.07056170223993465)\n",
      "Ttest_relResult(statistic=-1.8238623288504439, pvalue=0.03528085111996732)\n",
      "Ttest_relResult(statistic=-1.8238623288504439, pvalue=0.9647191488800327)\n",
      "\n",
      "('PrototypeCMR', 'ICMR_1_1_1')\n",
      "Ttest_relResult(statistic=2.610508721313847, pvalue=0.010145846651009342)\n",
      "Ttest_relResult(statistic=2.610508721313847, pvalue=0.9949270766744953)\n",
      "Ttest_relResult(statistic=2.610508721313847, pvalue=0.005072923325504671)\n",
      "\n",
      "('ICMR_1_0_0', 'ICMR_1_0_1')\n",
      "Ttest_relResult(statistic=-0.004628700575222171, pvalue=0.9963142234183694)\n",
      "Ttest_relResult(statistic=-0.004628700575222171, pvalue=0.4981571117091847)\n",
      "Ttest_relResult(statistic=-0.004628700575222171, pvalue=0.5018428882908154)\n",
      "\n",
      "('ICMR_1_0_0', 'ICMR_1_1_0')\n",
      "Ttest_relResult(statistic=-0.15730793520772676, pvalue=0.8752559815560104)\n",
      "Ttest_relResult(statistic=-0.15730793520772676, pvalue=0.4376279907780052)\n",
      "Ttest_relResult(statistic=-0.15730793520772676, pvalue=0.5623720092219948)\n",
      "\n",
      "('ICMR_1_0_0', 'ICMR_1_1_1')\n",
      "Ttest_relResult(statistic=2.547996873835619, pvalue=0.012045573863040168)\n",
      "Ttest_relResult(statistic=2.547996873835619, pvalue=0.9939772130684799)\n",
      "Ttest_relResult(statistic=2.547996873835619, pvalue=0.006022786931520084)\n",
      "\n",
      "('ICMR_1_0_1', 'ICMR_1_1_0')\n",
      "Ttest_relResult(statistic=-0.15750527821024488, pvalue=0.8751007891429676)\n",
      "Ttest_relResult(statistic=-0.15750527821024488, pvalue=0.4375503945714838)\n",
      "Ttest_relResult(statistic=-0.15750527821024488, pvalue=0.5624496054285162)\n",
      "\n",
      "('ICMR_1_0_1', 'ICMR_1_1_1')\n",
      "Ttest_relResult(statistic=2.7308825800455288, pvalue=0.007229910002213566)\n",
      "Ttest_relResult(statistic=2.7308825800455288, pvalue=0.9963850449988932)\n",
      "Ttest_relResult(statistic=2.7308825800455288, pvalue=0.003614955001106783)\n",
      "\n",
      "('ICMR_1_1_0', 'ICMR_1_1_1')\n",
      "Ttest_relResult(statistic=2.501472933184564, pvalue=0.013660382982838599)\n",
      "Ttest_relResult(statistic=2.501472933184564, pvalue=0.9931698085085807)\n",
      "Ttest_relResult(statistic=2.501472933184564, pvalue=0.0068301914914192996)\n",
      "\n"
     ]
    }
   ],
   "source": [
    "#| code-summary: perform t-tests on individual-level fits\n",
    "#| output: false\n",
    " \n",
    "from scipy.stats import ttest_rel\n",
    "import itertools\n",
    "\n",
    "for combination in itertools.combinations(pd.unique(individual_fits.model), 2):\n",
    "\n",
    "    print(combination)\n",
    "    print(ttest_rel(individual_fits[individual_fits.model == combination[0]].likelihood, individual_fits[individual_fits.model == combination[1]].likelihood, alternative='two-sided'))\n",
    "    print(ttest_rel(individual_fits[individual_fits.model == combination[0]].likelihood, individual_fits[individual_fits.model == combination[1]].likelihood, alternative='less'))\n",
    "    print(ttest_rel(individual_fits[individual_fits.model == combination[0]].likelihood, individual_fits[individual_fits.model == combination[1]].likelihood, alternative='greater'))\n",
    "    print()"
   ]
  },
  {
   "cell_type": "code",
   "execution_count": 9,
   "id": "7bbb22e3",
   "metadata": {
    "execution": {
     "iopub.execute_input": "2022-06-01T03:21:50.531303Z",
     "iopub.status.busy": "2022-06-01T03:21:50.530823Z",
     "iopub.status.idle": "2022-06-01T03:21:50.627062Z",
     "shell.execute_reply": "2022-06-01T03:21:50.626152Z"
    },
    "papermill": {
     "duration": 0.298591,
     "end_time": "2022-06-01T03:21:50.629048",
     "exception": false,
     "start_time": "2022-06-01T03:21:50.330457",
     "status": "completed"
    },
    "tags": []
   },
   "outputs": [
    {
     "name": "stdout",
     "output_type": "stream",
     "text": [
      "('PrototypeCMR', 'ICMR_1_0_0')\n",
      "0.4444444444444444 0.5555555555555556\n",
      "56 70\n",
      "\n",
      "('PrototypeCMR', 'ICMR_1_0_1')\n",
      "0.4126984126984127 0.5873015873015873\n",
      "52 74\n",
      "\n",
      "('PrototypeCMR', 'ICMR_1_1_0')\n",
      "0.46825396825396826 0.5317460317460317\n",
      "59 67\n",
      "\n",
      "('PrototypeCMR', 'ICMR_1_1_1')\n",
      "0.42063492063492064 0.5793650793650794\n",
      "53 73\n",
      "\n",
      "('ICMR_1_0_0', 'ICMR_1_0_1')\n",
      "0.46825396825396826 0.5317460317460317\n",
      "59 67\n",
      "\n",
      "('ICMR_1_0_0', 'ICMR_1_1_0')\n",
      "0.5873015873015873 0.4126984126984127\n",
      "74 52\n",
      "\n",
      "('ICMR_1_0_0', 'ICMR_1_1_1')\n",
      "0.5317460317460317 0.46825396825396826\n",
      "67 59\n",
      "\n",
      "('ICMR_1_0_1', 'ICMR_1_1_0')\n",
      "0.5555555555555556 0.4444444444444444\n",
      "70 56\n",
      "\n",
      "('ICMR_1_0_1', 'ICMR_1_1_1')\n",
      "0.5317460317460317 0.46825396825396826\n",
      "67 59\n",
      "\n",
      "('ICMR_1_1_0', 'ICMR_1_1_1')\n",
      "0.5158730158730159 0.48412698412698413\n",
      "65 61\n",
      "\n"
     ]
    }
   ],
   "source": [
    "for combination in itertools.combinations(pd.unique(individual_fits.model), 2):\n",
    "\n",
    "    print(combination)\n",
    "    print(np.mean(individual_fits[individual_fits.model == combination[0]].likelihood.values < individual_fits[individual_fits.model == combination[1]].likelihood.values), \n",
    "        np.mean(individual_fits[individual_fits.model == combination[1]].likelihood.values < individual_fits[individual_fits.model == combination[0]].likelihood.values))\n",
    "\n",
    "    print(np.sum(individual_fits[individual_fits.model == combination[0]].likelihood.values < individual_fits[individual_fits.model == combination[1]].likelihood.values), \n",
    "        np.sum(individual_fits[individual_fits.model == combination[1]].likelihood.values < individual_fits[individual_fits.model == combination[0]].likelihood.values))\n",
    "\n",
    "    print()"
   ]
  },
  {
   "cell_type": "code",
   "execution_count": 10,
   "id": "ec9336b4",
   "metadata": {
    "execution": {
     "iopub.execute_input": "2022-06-01T03:21:51.019720Z",
     "iopub.status.busy": "2022-06-01T03:21:51.019112Z",
     "iopub.status.idle": "2022-06-01T03:21:56.481420Z",
     "shell.execute_reply": "2022-06-01T03:21:56.480699Z"
    },
    "papermill": {
     "duration": 5.641282,
     "end_time": "2022-06-01T03:21:56.484821",
     "exception": false,
     "start_time": "2022-06-01T03:21:50.843539",
     "status": "completed"
    },
    "tags": []
   },
   "outputs": [
    {
     "name": "stdout",
     "output_type": "stream",
     "text": [
      "[2.45998942e-065 1.16157258e-228 3.08462712e-229 4.76455723e-250\n",
      " 1.00000000e+000]\n"
     ]
    }
   ],
   "source": [
    "def model_weights(positive_log_likelihoods, number_parameters, N):\n",
    "    AIC = 2 * positive_log_likelihoods + 2 * number_parameters\n",
    "    AICc = AIC #+ (2*np.power(number_parameters, 2) + 2 * number_parameters) / (N - number_parameters - 2)\n",
    "    AICd = AIC - np.min(AICc)\n",
    "    #return AICd\n",
    "    AICw = np.exp(-.5 * AICd) / np.sum(np.exp(-.5 * AICd))\n",
    "    return AICw\n",
    "\n",
    "aicw = {'Model': [], 'Subject': [], 'AICw': []}\n",
    "\n",
    "total_nlns = np.zeros(len(models))\n",
    "for subject_index, subject in enumerate(pd.unique(events.subject)):\n",
    "\n",
    "    subject_specific_trial_mask = np.logical_and(\n",
    "                    generate_trial_mask(events, f'subject == {subject}'), trial_mask)\n",
    "\n",
    "    nlnLs = []\n",
    "    for model_index, model_class in enumerate(models):\n",
    "        nlnLs.append(\n",
    "            individual_fits[individual_fits.model == model_names[model_index]].likelihood.values[subject_index])\n",
    "    nlnLs = np.array(nlnLs)\n",
    "    total_nlns += nlnLs\n",
    "    \n",
    "    weights = model_weights(nlnLs, len(free_parameters[model_index]), np.sum(subject_specific_trial_mask))\n",
    "    #print(weights)\n",
    "    for model_index, model_class in enumerate(models):\n",
    "        aicw['Model'].append(model_names[model_index])\n",
    "        aicw['Subject'].append(subject)\n",
    "        aicw['AICw'].append(weights[model_index])\n",
    "\n",
    "aicw = pd.DataFrame(data=aicw)\n",
    "total_aicw = model_weights(total_nlns, len(free_parameters[model_index]), np.sum(trial_mask))\n",
    "print(total_aicw)"
   ]
  },
  {
   "cell_type": "code",
   "execution_count": 11,
   "id": "46791140",
   "metadata": {
    "execution": {
     "iopub.execute_input": "2022-06-01T03:21:56.922385Z",
     "iopub.status.busy": "2022-06-01T03:21:56.921411Z",
     "iopub.status.idle": "2022-06-01T03:21:57.438224Z",
     "shell.execute_reply": "2022-06-01T03:21:57.437467Z"
    },
    "papermill": {
     "duration": 0.734716,
     "end_time": "2022-06-01T03:21:57.441701",
     "exception": false,
     "start_time": "2022-06-01T03:21:56.706985",
     "status": "completed"
    },
    "tags": []
   },
   "outputs": [
    {
     "data": {
      "image/png": "[encoded data removed]",
      "text/plain": [
       "<Figure size 640x480 with 1 Axes>"
      ]
     },
     "metadata": {},
     "output_type": "display_data"
    }
   ],
   "source": [
    "import seaborn as sns\n",
    "sns.set_theme(style=\"darkgrid\")\n",
    "x = sns.pointplot(x=\"Model\", y=\"AICw\", data=aicw, join=False)\n",
    "\n",
    "plt.show()"
   ]
  },
  {
   "cell_type": "markdown",
   "id": "8b9be3d6",
   "metadata": {
    "tags": [
     "papermill-error-cell-tag"
    ]
   },
   "source": [
    "<span id=\"papermill-error-cell\" style=\"color:red; font-family:Helvetica Neue, Helvetica, Arial, sans-serif; font-size:2em;\">Execution using papermill encountered an exception here and stopped:</span>"
   ]
  },
  {
   "cell_type": "code",
   "execution_count": 12,
   "id": "eaae8a55",
   "metadata": {
    "execution": {
     "iopub.execute_input": "2022-06-01T03:21:57.910196Z",
     "iopub.status.busy": "2022-06-01T03:21:57.909823Z",
     "iopub.status.idle": "2022-06-01T03:21:59.583209Z",
     "shell.execute_reply": "2022-06-01T03:21:59.582192Z"
    },
    "papermill": {
     "duration": 1.908907,
     "end_time": "2022-06-01T03:21:59.588356",
     "exception": true,
     "start_time": "2022-06-01T03:21:57.679449",
     "status": "failed"
    },
    "tags": []
   },
   "outputs": [
    {
     "ename": "NameError",
     "evalue": "name 'simulate_df_from_events' is not defined",
     "output_type": "error",
     "traceback": [
      "\u001b[0;31m---------------------------------------------------------------------------\u001b[0m",
      "\u001b[0;31mNameError\u001b[0m                                 Traceback (most recent call last)",
      "Input \u001b[0;32mIn [12]\u001b[0m, in \u001b[0;36m<cell line: 7>\u001b[0;34m()\u001b[0m\n\u001b[1;32m     36\u001b[0m     fitted_parameters[key] \u001b[38;5;241m=\u001b[39m fixed_parameters[model_index][key]\n\u001b[1;32m     38\u001b[0m \u001b[38;5;66;03m# simulate df based on specified trial_count and experiment_count\u001b[39;00m\n\u001b[1;32m     39\u001b[0m \u001b[38;5;66;03m#model = model_class(list_length, list_length, fitted_parameters)\u001b[39;00m\n\u001b[0;32m---> 40\u001b[0m sim_dfs\u001b[38;5;241m.\u001b[39mappend(\u001b[43msimulate_df_from_events\u001b[49m(model, fit_result[\u001b[38;5;124m'\u001b[39m\u001b[38;5;124mtrial_count\u001b[39m\u001b[38;5;124m'\u001b[39m]\u001b[38;5;241m.\u001b[39mvalues[\u001b[38;5;241m0\u001b[39m] \u001b[38;5;241m*\u001b[39m experiment_count))\n\u001b[1;32m     41\u001b[0m sim_dfs[\u001b[38;5;241m-\u001b[39m\u001b[38;5;241m1\u001b[39m]\u001b[38;5;241m.\u001b[39mlist \u001b[38;5;241m=\u001b[39m sim_dfs[\u001b[38;5;241m-\u001b[39m\u001b[38;5;241m1\u001b[39m]\u001b[38;5;241m.\u001b[39msubject\n\u001b[1;32m     42\u001b[0m sim_dfs[\u001b[38;5;241m-\u001b[39m\u001b[38;5;241m1\u001b[39m]\u001b[38;5;241m.\u001b[39msubject \u001b[38;5;241m=\u001b[39m subject\n",
      "\u001b[0;31mNameError\u001b[0m: name 'simulate_df_from_events' is not defined"
     ]
    }
   ],
   "source": [
    "sns.set(style='darkgrid')\n",
    "\n",
    "# for each unique list length\n",
    "if not (isinstance(list_lengths, list) or isinstance(list_lengths, List)): \n",
    "    list_lengths = [list_lengths]\n",
    "\n",
    "for list_length in list_lengths:\n",
    "\n",
    "    #fig, axes = plt.subplots(nrows=len(models), ncols=3, figsize=(15, int(4*len(models))), sharey=False)\n",
    "    \n",
    "    # for each unique model\n",
    "    for model_index, model_class in enumerate(models):\n",
    "\n",
    "        # load sim_df from csv if it exists\n",
    "        sim_df_path = results_path + '{}_{}_ll{}_sim_df.csv'.format(section_tag, model_names[model_index], list_length)\n",
    "        if os.path.isfile(sim_df_path):\n",
    "            sim_df = pd.read_csv(sim_df_path)\n",
    "            print('sim_df for {} with tag {} and list length {} already exists'.format(model_names[model_index], section_tag, list_length))\n",
    "\n",
    "        # otherwise, generate it\n",
    "        else:\n",
    "\n",
    "            # for each unique matching entry in individual df\n",
    "            sim_dfs = []\n",
    "            for subject in pd.unique(individual_fits.subject):\n",
    "                \n",
    "                fit_result = individual_fits.query(f'subject == {subject} & model == \"{model_names[model_index]}\"')\n",
    "\n",
    "                # configure model based on specified parameters\n",
    "                fitted_parameters = Dict.empty(\n",
    "                    key_type=types.unicode_type, value_type=types.float64\n",
    "                )\n",
    "                for i in range(len(free_parameters[model_index])):\n",
    "                    fitted_parameters[free_parameters[model_index][i]] = fit_result[free_parameters[model_index][i]].values[0]\n",
    "                for key in fixed_parameters[model_index]:\n",
    "                    fitted_parameters[key] = fixed_parameters[model_index][key]\n",
    "\n",
    "                # simulate df based on specified trial_count and experiment_count\n",
    "                #model = model_class(list_length, list_length, fitted_parameters)\n",
    "                sim_dfs.append(simulate_df_from_events(model, fit_result['trial_count'].values[0] * experiment_count))\n",
    "                sim_dfs[-1].list = sim_dfs[-1].subject\n",
    "                sim_dfs[-1].subject = subject\n",
    "\n",
    "            # concatenate simulations into one dataframe\n",
    "            sim_df = pd.concat(sim_dfs)\n",
    "\n",
    "            # save sim_df to csv\n",
    "            sim_df.to_csv(results_path +'{}_{}_ll{}_sim_df.csv'.format(section_tag, model_names[model_index], list_length), index=False)\n",
    "\n",
    "        # design general filter for analysis df\n",
    "        if len(list_lengths) > 1:\n",
    "            analysis_query = trial_query + f' & list_length == {list_length}'\n",
    "        else:\n",
    "            analysis_query = trial_query\n",
    "\n",
    "        # generate plot for each parametrized analysis and model\n",
    "        for analysis_index, analysis_function in enumerate(analyses):\n",
    "            analysis_name = analysis_names[analysis_index]\n",
    "            axis = analysis_function(\n",
    "                [events, sim_df], analysis_query, contrast_name=\"source\", labels=[\"data\", model_names[model_index]])\n",
    "            plt.savefig(results_path+'{}_{}_ll{}_{}.pdf'.format(section_tag, model_names[model_index], list_length, analysis_name), bbox_inches=\"tight\")"
   ]
  },
  {
   "cell_type": "code",
   "execution_count": null,
   "id": "5a8dcd36",
   "metadata": {
    "papermill": {
     "duration": null,
     "end_time": null,
     "exception": null,
     "start_time": null,
     "status": "pending"
    },
    "tags": []
   },
   "outputs": [],
   "source": []
  }
 ],
 "metadata": {
  "interpreter": {
   "hash": "19d1d53a962d236aa061289c2ac16dc8e6d9648c89fe79f459ae9a3493bc67b4"
  },
  "kernelspec": {
   "display_name": "Python 3.9.1 ('base')",
   "language": "python",
   "name": "python3"
  },
  "language_info": {
   "codemirror_mode": {
    "name": "ipython",
    "version": 3
   },
   "file_extension": ".py",
   "mimetype": "text/x-python",
   "name": "python",
   "nbconvert_exporter": "python",
   "pygments_lexer": "ipython3",
   "version": "3.8.6"
  },
  "papermill": {
   "default_parameters": {},
   "duration": 28619.489837,
   "end_time": "2022-06-01T03:22:02.850899",
   "environment_variables": {},
   "exception": true,
   "input_path": "Subjectwise_Model_Evaluation.ipynb",
   "output_path": "reports/Subjectwise_Model_Evaluation_Single_HealyKahana2014.ipynb",
   "parameters": {
    "bounds": [
     [
      [
       2.220446049250313e-16,
       0.9999999999999998
      ],
      [
       2.220446049250313e-16,
       0.9999999999999998
      ],
      [
       2.220446049250313e-16,
       0.9999999999999998
      ],
      [
       2.220446049250313e-16,
       0.9999999999999998
      ],
      [
       2.220446049250313e-16,
       0.9999999999999998
      ],
      [
       2.220446049250313e-16,
       0.9999999999999998
      ],
      [
       2.220446049250313e-16,
       100
      ],
      [
       2.220446049250313e-16,
       100
      ],
      [
       2.220446049250313e-16,
       0.9999999999999998
      ],
      [
       2.220446049250313e-16,
       10
      ],
      [
       2.220446049250313e-16,
       10
      ],
      [
       2.220446049250313e-16,
       0.9999999999999998
      ]
     ],
     [
      [
       2.220446049250313e-16,
       0.9999999999999998
      ],
      [
       2.220446049250313e-16,
       0.9999999999999998
      ],
      [
       2.220446049250313e-16,
       0.9999999999999998
      ],
      [
       2.220446049250313e-16,
       0.9999999999999998
      ],
      [
       2.220446049250313e-16,
       0.9999999999999998
      ],
      [
       2.220446049250313e-16,
       0.9999999999999998
      ],
      [
       2.220446049250313e-16,
       100
      ],
      [
       2.220446049250313e-16,
       100
      ],
      [
       2.220446049250313e-16,
       0.9999999999999998
      ],
      [
       2.220446049250313e-16,
       10
      ],
      [
       2.220446049250313e-16,
       10
      ],
      [
       2.220446049250313e-16,
       0.9999999999999998
      ]
     ],
     [
      [
       2.220446049250313e-16,
       0.9999999999999998
      ],
      [
       2.220446049250313e-16,
       0.9999999999999998
      ],
      [
       2.220446049250313e-16,
       0.9999999999999998
      ],
      [
       2.220446049250313e-16,
       0.9999999999999998
      ],
      [
       2.220446049250313e-16,
       0.9999999999999998
      ],
      [
       2.220446049250313e-16,
       0.9999999999999998
      ],
      [
       2.220446049250313e-16,
       100
      ],
      [
       2.220446049250313e-16,
       100
      ],
      [
       2.220446049250313e-16,
       0.9999999999999998
      ],
      [
       2.220446049250313e-16,
       10
      ],
      [
       2.220446049250313e-16,
       10
      ],
      [
       2.220446049250313e-16,
       0.9999999999999998
      ]
     ],
     [
      [
       2.220446049250313e-16,
       0.9999999999999998
      ],
      [
       2.220446049250313e-16,
       0.9999999999999998
      ],
      [
       2.220446049250313e-16,
       0.9999999999999998
      ],
      [
       2.220446049250313e-16,
       0.9999999999999998
      ],
      [
       2.220446049250313e-16,
       0.9999999999999998
      ],
      [
       2.220446049250313e-16,
       0.9999999999999998
      ],
      [
       2.220446049250313e-16,
       100
      ],
      [
       2.220446049250313e-16,
       100
      ],
      [
       2.220446049250313e-16,
       0.9999999999999998
      ],
      [
       2.220446049250313e-16,
       10
      ],
      [
       2.220446049250313e-16,
       10
      ],
      [
       2.220446049250313e-16,
       0.9999999999999998
      ]
     ],
     [
      [
       2.220446049250313e-16,
       0.9999999999999998
      ],
      [
       2.220446049250313e-16,
       0.9999999999999998
      ],
      [
       2.220446049250313e-16,
       0.9999999999999998
      ],
      [
       2.220446049250313e-16,
       0.9999999999999998
      ],
      [
       2.220446049250313e-16,
       0.9999999999999998
      ],
      [
       2.220446049250313e-16,
       0.9999999999999998
      ],
      [
       2.220446049250313e-16,
       100
      ],
      [
       2.220446049250313e-16,
       100
      ],
      [
       2.220446049250313e-16,
       0.9999999999999998
      ],
      [
       2.220446049250313e-16,
       10
      ],
      [
       2.220446049250313e-16,
       10
      ],
      [
       2.220446049250313e-16,
       0.9999999999999998
      ]
     ]
    ],
    "data_path": "data/HealyKahana2014.csv",
    "fixed_parameters": [
     {},
     {
      "context_sensitivity": 1,
      "feature_sensitivity": 1,
      "learn_first": false
     },
     {
      "context_sensitivity": 1,
      "feature_sensitivity": 1,
      "learn_first": true
     },
     {
      "choice_sensitivity": 1,
      "feature_sensitivity": 1,
      "learn_first": false
     },
     {
      "choice_sensitivity": 1,
      "feature_sensitivity": 1,
      "learn_first": true
     }
    ],
    "free_parameters": [
     [
      "encoding_drift_rate",
      "start_drift_rate",
      "recall_drift_rate",
      "shared_support",
      "item_support",
      "learning_rate",
      "primacy_scale",
      "primacy_decay",
      "stop_probability_scale",
      "stop_probability_growth",
      "choice_sensitivity",
      "delay_drift_rate"
     ],
     [
      "encoding_drift_rate",
      "start_drift_rate",
      "recall_drift_rate",
      "shared_support",
      "item_support",
      "learning_rate",
      "primacy_scale",
      "primacy_decay",
      "stop_probability_scale",
      "stop_probability_growth",
      "choice_sensitivity",
      "delay_drift_rate"
     ],
     [
      "encoding_drift_rate",
      "start_drift_rate",
      "recall_drift_rate",
      "shared_support",
      "item_support",
      "learning_rate",
      "primacy_scale",
      "primacy_decay",
      "stop_probability_scale",
      "stop_probability_growth",
      "choice_sensitivity",
      "delay_drift_rate"
     ],
     [
      "encoding_drift_rate",
      "start_drift_rate",
      "recall_drift_rate",
      "shared_support",
      "item_support",
      "learning_rate",
      "primacy_scale",
      "primacy_decay",
      "stop_probability_scale",
      "stop_probability_growth",
      "context_sensitivity",
      "delay_drift_rate"
     ],
     [
      "encoding_drift_rate",
      "start_drift_rate",
      "recall_drift_rate",
      "shared_support",
      "item_support",
      "learning_rate",
      "primacy_scale",
      "primacy_decay",
      "stop_probability_scale",
      "stop_probability_growth",
      "context_sensitivity",
      "delay_drift_rate"
     ]
    ],
    "model_names": [
     "PrototypeCMR",
     "ICMR_1_0_0",
     "ICMR_1_0_1",
     "ICMR_1_1_0",
     "ICMR_1_1_1"
    ],
    "model_paths": [
     "compmemlearn.models.Base_CMR",
     "compmemlearn.models.Single_ICMR",
     "compmemlearn.models.Single_ICMR",
     "compmemlearn.models.Single_ICMR",
     "compmemlearn.models.Single_ICMR"
    ],
    "section_tag": "HealyKahana2014",
    "trial_query": "task == -1"
   },
   "start_time": "2022-05-31T19:25:03.361062",
   "version": "2.3.4"
  }
 },
 "nbformat": 4,
 "nbformat_minor": 5
}
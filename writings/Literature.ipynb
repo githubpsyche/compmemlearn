{
 "cells": [
  {
   "cell_type": "markdown",
   "id": "22a07854-f892-4bff-8bcc-3e47d59e2c75",
   "metadata": {},
   "source": [
    "### Koval, N. G. (2019). Testing the deficient processing account of the spacing effect in second language vocabulary learning: Evidence from eye tracking. Applied Psycholinguistics, 40(5), 1103-1139.\n",
    "The present study used eye-tracking methodology to investigate the effects of temporal distribution of repeated exposures to novel second language words on attentional processing and learning of these words under intentional learning instructions. The results showed that (a) massed repeated exposures received less attentional processing than spaced repeated exposures; (b) target words were better remembered in the spaced condition; and (c) attention was a significant mediator of the obtained spacing effect, in line with the predictions of the deficient processing account of the spacing effect."
   ]
  }
 ],
 "metadata": {
  "kernelspec": {
   "display_name": "Python 3 (ipykernel)",
   "language": "python",
   "name": "python3"
  },
  "language_info": {
   "codemirror_mode": {
    "name": "ipython",
    "version": 3
   },
   "file_extension": ".py",
   "mimetype": "text/x-python",
   "name": "python",
   "nbconvert_exporter": "python",
   "pygments_lexer": "ipython3",
   "version": "3.9.1"
  }
 },
 "nbformat": 4,
 "nbformat_minor": 5
}
